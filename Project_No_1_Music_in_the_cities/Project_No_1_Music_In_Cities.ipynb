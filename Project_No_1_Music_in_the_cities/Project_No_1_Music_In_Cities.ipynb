{
 "cells": [
  {
   "cell_type": "markdown",
   "metadata": {
    "id": "E0vqbgi9ay0H"
   },
   "source": [
    "# Yandex.Music "
   ]
  },
  {
   "cell_type": "markdown",
   "metadata": {
    "id": "VUC88oWjTJw2"
   },
   "source": [
    "On Yandex.Music data, the behavior of users of two capitals is necessary. \n",
    "\n",
    "**The purpose of the study** — test three hypotheses:\n",
    "1. User activity depends on the day of the week. Moreover, in Moscow and St. Petersburg, this manifests itself in different ways. \n",
    "2. On Monday morning, some genres prevail in Moscow, and others in St. Petersburg. Similarly, on Friday evening, different genres prevail — depending on the city.\n",
    "3. Moscow and St. Petersburg prefer different genres of music. In Moscow, pop music is more often listened to, in St. Petersburg - Russian rap.\n",
    "\n",
    "**Research plan**\n",
    "\n",
    "Data on user behavior must be obtained from the file yandex_music_project.csv. Nothing is known about the quality of the data. Therefore, a review of the data will be needed before testing hypotheses. \n",
    "\n",
    "It is necessary to check the data for errors and evaluate their impact on the study. Then, at the preprocessing stage, we will correct the most critical data errors.\n",
    " \n",
    "Thus, the study will take place in three stages:\n",
    " 1. Data overview.\n",
    " 2. Data preprocessing. \n",
    " 3. Hypothesis testing. "
   ]
  },
  {
   "cell_type": "markdown",
   "metadata": {
    "id": "Ml1hmfXC_Zcs"
   },
   "source": [
    "## Data overview\n",
    "\n",
    "Let's make a first impression of the Yandex.Music data."
   ]
  },
  {
   "cell_type": "code",
   "execution_count": 1,
   "metadata": {
    "id": "AXN7PHPN_Zcs"
   },
   "outputs": [],
   "source": [
    "import pandas as pd"
   ]
  },
  {
   "cell_type": "code",
   "execution_count": 2,
   "metadata": {
    "id": "fFVu7vqh_Zct"
   },
   "outputs": [],
   "source": [
    "df = pd.read_csv('/datasets/yandex_music_project.csv')"
   ]
  },
  {
   "cell_type": "code",
   "execution_count": 3,
   "metadata": {
    "id": "oWTVX3gW_Zct"
   },
   "outputs": [
    {
     "data": {
      "text/html": [
       "<div>\n",
       "<style scoped>\n",
       "    .dataframe tbody tr th:only-of-type {\n",
       "        vertical-align: middle;\n",
       "    }\n",
       "\n",
       "    .dataframe tbody tr th {\n",
       "        vertical-align: top;\n",
       "    }\n",
       "\n",
       "    .dataframe thead th {\n",
       "        text-align: right;\n",
       "    }\n",
       "</style>\n",
       "<table border=\"1\" class=\"dataframe\">\n",
       "  <thead>\n",
       "    <tr style=\"text-align: right;\">\n",
       "      <th></th>\n",
       "      <th>userID</th>\n",
       "      <th>Track</th>\n",
       "      <th>artist</th>\n",
       "      <th>genre</th>\n",
       "      <th>City</th>\n",
       "      <th>time</th>\n",
       "      <th>Day</th>\n",
       "    </tr>\n",
       "  </thead>\n",
       "  <tbody>\n",
       "    <tr>\n",
       "      <td>0</td>\n",
       "      <td>FFB692EC</td>\n",
       "      <td>Kamigata To Boots</td>\n",
       "      <td>The Mass Missile</td>\n",
       "      <td>rock</td>\n",
       "      <td>Saint-Petersburg</td>\n",
       "      <td>20:28:33</td>\n",
       "      <td>Wednesday</td>\n",
       "    </tr>\n",
       "    <tr>\n",
       "      <td>1</td>\n",
       "      <td>55204538</td>\n",
       "      <td>Delayed Because of Accident</td>\n",
       "      <td>Andreas Rönnberg</td>\n",
       "      <td>rock</td>\n",
       "      <td>Moscow</td>\n",
       "      <td>14:07:09</td>\n",
       "      <td>Friday</td>\n",
       "    </tr>\n",
       "    <tr>\n",
       "      <td>2</td>\n",
       "      <td>20EC38</td>\n",
       "      <td>Funiculì funiculà</td>\n",
       "      <td>Mario Lanza</td>\n",
       "      <td>pop</td>\n",
       "      <td>Saint-Petersburg</td>\n",
       "      <td>20:58:07</td>\n",
       "      <td>Wednesday</td>\n",
       "    </tr>\n",
       "    <tr>\n",
       "      <td>3</td>\n",
       "      <td>A3DD03C9</td>\n",
       "      <td>Dragons in the Sunset</td>\n",
       "      <td>Fire + Ice</td>\n",
       "      <td>folk</td>\n",
       "      <td>Saint-Petersburg</td>\n",
       "      <td>08:37:09</td>\n",
       "      <td>Monday</td>\n",
       "    </tr>\n",
       "    <tr>\n",
       "      <td>4</td>\n",
       "      <td>E2DC1FAE</td>\n",
       "      <td>Soul People</td>\n",
       "      <td>Space Echo</td>\n",
       "      <td>dance</td>\n",
       "      <td>Moscow</td>\n",
       "      <td>08:34:34</td>\n",
       "      <td>Monday</td>\n",
       "    </tr>\n",
       "    <tr>\n",
       "      <td>5</td>\n",
       "      <td>842029A1</td>\n",
       "      <td>Преданная</td>\n",
       "      <td>IMPERVTOR</td>\n",
       "      <td>rusrap</td>\n",
       "      <td>Saint-Petersburg</td>\n",
       "      <td>13:09:41</td>\n",
       "      <td>Friday</td>\n",
       "    </tr>\n",
       "    <tr>\n",
       "      <td>6</td>\n",
       "      <td>4CB90AA5</td>\n",
       "      <td>True</td>\n",
       "      <td>Roman Messer</td>\n",
       "      <td>dance</td>\n",
       "      <td>Moscow</td>\n",
       "      <td>13:00:07</td>\n",
       "      <td>Wednesday</td>\n",
       "    </tr>\n",
       "    <tr>\n",
       "      <td>7</td>\n",
       "      <td>F03E1C1F</td>\n",
       "      <td>Feeling This Way</td>\n",
       "      <td>Polina Griffith</td>\n",
       "      <td>dance</td>\n",
       "      <td>Moscow</td>\n",
       "      <td>20:47:49</td>\n",
       "      <td>Wednesday</td>\n",
       "    </tr>\n",
       "    <tr>\n",
       "      <td>8</td>\n",
       "      <td>8FA1D3BE</td>\n",
       "      <td>И вновь продолжается бой</td>\n",
       "      <td>NaN</td>\n",
       "      <td>ruspop</td>\n",
       "      <td>Moscow</td>\n",
       "      <td>09:17:40</td>\n",
       "      <td>Friday</td>\n",
       "    </tr>\n",
       "    <tr>\n",
       "      <td>9</td>\n",
       "      <td>E772D5C0</td>\n",
       "      <td>Pessimist</td>\n",
       "      <td>NaN</td>\n",
       "      <td>dance</td>\n",
       "      <td>Saint-Petersburg</td>\n",
       "      <td>21:20:49</td>\n",
       "      <td>Wednesday</td>\n",
       "    </tr>\n",
       "  </tbody>\n",
       "</table>\n",
       "</div>"
      ],
      "text/plain": [
       "     userID                        Track            artist   genre  \\\n",
       "0  FFB692EC            Kamigata To Boots  The Mass Missile    rock   \n",
       "1  55204538  Delayed Because of Accident  Andreas Rönnberg    rock   \n",
       "2    20EC38            Funiculì funiculà       Mario Lanza     pop   \n",
       "3  A3DD03C9        Dragons in the Sunset        Fire + Ice    folk   \n",
       "4  E2DC1FAE                  Soul People        Space Echo   dance   \n",
       "5  842029A1                    Преданная         IMPERVTOR  rusrap   \n",
       "6  4CB90AA5                         True      Roman Messer   dance   \n",
       "7  F03E1C1F             Feeling This Way   Polina Griffith   dance   \n",
       "8  8FA1D3BE     И вновь продолжается бой               NaN  ruspop   \n",
       "9  E772D5C0                    Pessimist               NaN   dance   \n",
       "\n",
       "             City        time        Day  \n",
       "0  Saint-Petersburg  20:28:33  Wednesday  \n",
       "1            Moscow  14:07:09     Friday  \n",
       "2  Saint-Petersburg  20:58:07  Wednesday  \n",
       "3  Saint-Petersburg  08:37:09     Monday  \n",
       "4            Moscow  08:34:34     Monday  \n",
       "5  Saint-Petersburg  13:09:41     Friday  \n",
       "6            Moscow  13:00:07  Wednesday  \n",
       "7            Moscow  20:47:49  Wednesday  \n",
       "8            Moscow  09:17:40     Friday  \n",
       "9  Saint-Petersburg  21:20:49  Wednesday  "
      ]
     },
     "execution_count": 3,
     "metadata": {},
     "output_type": "execute_result"
    }
   ],
   "source": [
    "#display(df.head(10))\n",
    "df.head(10)"
   ]
  },
  {
   "cell_type": "code",
   "execution_count": 4,
   "metadata": {
    "id": "DSf2kIb-_Zct"
   },
   "outputs": [
    {
     "name": "stdout",
     "output_type": "stream",
     "text": [
      "<class 'pandas.core.frame.DataFrame'>\n",
      "RangeIndex: 65079 entries, 0 to 65078\n",
      "Data columns (total 7 columns):\n",
      "  userID    65079 non-null object\n",
      "Track       63848 non-null object\n",
      "artist      57876 non-null object\n",
      "genre       63881 non-null object\n",
      "  City      65079 non-null object\n",
      "time        65079 non-null object\n",
      "Day         65079 non-null object\n",
      "dtypes: object(7)\n",
      "memory usage: 3.5+ MB\n"
     ]
    }
   ],
   "source": [
    "df.info()"
   ]
  },
  {
   "cell_type": "markdown",
   "metadata": {
    "id": "TaQ2Iwbr_Zct"
   },
   "source": [
    "There are seven columns in the dataframe. Data type in all columns — `object`.\n",
    "\n",
    "According to the data documentation:\n",
    "* `userID` — user ID;\n",
    "* `Track` — track name;  \n",
    "* `artist` — artist name;\n",
    "* `genre` — genre name;\n",
    "* `City` — user's city;\n",
    "* `time` — time of listening start;\n",
    "* `Day` — day of the week.\n",
    "\n",
    "Three style violations are visible in the column names:\n",
    "1. Lowercase letters are combined with uppercase.\n",
    "2. There are gaps.\n",
    "3. In the name of the user ID - the underscore separator between \"user\" and \"id\" is omitted.\n",
    "\n",
    "The number of values in the columns varies. So there are missing values in the data."
   ]
  },
  {
   "cell_type": "markdown",
   "metadata": {
    "id": "MCB6-dXG_Zct"
   },
   "source": [
    "**Preliminary conclusions of data quality**\n",
    "\n",
    "In each row of the table — data about the listened track. Part of the columns describes the composition itself: name, artist and genre. The rest of the data tells about the user: what city he is from, when he listened to music. \n",
    "\n",
    "Previously, it can be argued that there is enough data to test hypotheses. But there are gaps in the data, and in the column names there are discrepancies with good style.\n",
    "\n",
    "To move forward, we need to fix the data problems."
   ]
  },
  {
   "cell_type": "markdown",
   "metadata": {
    "id": "SjYF6Ub9_Zct"
   },
   "source": [
    "## Data preprocessing\n",
    "Let's fix the style in the column headers, eliminate omissions. Then we will check the data for duplicates."
   ]
  },
  {
   "cell_type": "markdown",
   "metadata": {
    "id": "dIaKXr29_Zct"
   },
   "source": [
    "### Header style\n",
    "Let's display the column names on the screen:"
   ]
  },
  {
   "cell_type": "code",
   "execution_count": 5,
   "metadata": {
    "id": "oKOTdF_Q_Zct"
   },
   "outputs": [
    {
     "data": {
      "text/plain": [
       "Index(['  userID', 'Track', 'artist', 'genre', '  City  ', 'time', 'Day'], dtype='object')"
      ]
     },
     "execution_count": 5,
     "metadata": {},
     "output_type": "execute_result"
    }
   ],
   "source": [
    "df.columns"
   ]
  },
  {
   "cell_type": "markdown",
   "metadata": {
    "id": "zj5534cv_Zct"
   },
   "source": [
    "Let's give the names in accordance with a good style:\n",
    "* we will write down a few words in the name in a good style,\n",
    "* we will make all characters lowercase,\n",
    "* eliminate the gaps.\n",
    "\n",
    "For this purpose rename columns:\n",
    "* `'  userID'` → `'user_id'`;\n",
    "* `'Track'` → `'track'`;\n",
    "* `'  City  '` → `'city'`;\n",
    "* `'Day'` → `'day'`."
   ]
  },
  {
   "cell_type": "code",
   "execution_count": 6,
   "metadata": {
    "id": "ISlFqs5y_Zct"
   },
   "outputs": [],
   "source": [
    "df = df.rename(columns={'  userID':'user_id', 'Track':'track', '  City  ':'city', 'Day':'day'})"
   ]
  },
  {
   "cell_type": "code",
   "execution_count": 7,
   "metadata": {
    "id": "d4NOAmTW_Zct"
   },
   "outputs": [
    {
     "name": "stdout",
     "output_type": "stream",
     "text": [
      "Index(['user_id', 'track', 'artist', 'genre', 'city', 'time', 'day'], dtype='object')\n"
     ]
    }
   ],
   "source": [
    "print(df.columns)"
   ]
  },
  {
   "cell_type": "markdown",
   "metadata": {
    "id": "5ISfbcfY_Zct"
   },
   "source": [
    "### Missing values\n",
    "Let's count the number of missing values in the table. Two `pandas` methods are enough for this:"
   ]
  },
  {
   "cell_type": "code",
   "execution_count": 8,
   "metadata": {
    "id": "RskX29qr_Zct"
   },
   "outputs": [
    {
     "data": {
      "text/plain": [
       "user_id       0\n",
       "track      1231\n",
       "artist     7203\n",
       "genre      1198\n",
       "city          0\n",
       "time          0\n",
       "day           0\n",
       "dtype: int64"
      ]
     },
     "execution_count": 8,
     "metadata": {},
     "output_type": "execute_result"
    }
   ],
   "source": [
    "df.isna().sum()"
   ]
  },
  {
   "cell_type": "markdown",
   "metadata": {
    "id": "qubhgnlO_Zct"
   },
   "source": [
    "Not all missing values affect the study. So in track and artist, omissions are not important for your work. It is enough to replace them with explicit designations.\n",
    "\n",
    "But omissions in `genre` may interfere with the comparison of musical tastes in Moscow and St. Petersburg. In practice, it would be correct to establish the reason for the omissions and restore the data. There is no such possibility in the training project. We have to:\n",
    "* fill in these gaps with explicit notation,\n",
    "* assess how much they will damage the calculations."
   ]
  },
  {
   "cell_type": "markdown",
   "metadata": {
    "id": "fSv2laPA_Zct"
   },
   "source": [
    "We need to replace the missing values in the columns `track`, `artist` and `genre` with the string `unknown`. To do this, create a list of `columns_to_replace`, iterate through its elements with a `for` loop and replace the missing values for each column:"
   ]
  },
  {
   "cell_type": "code",
   "execution_count": 9,
   "metadata": {
    "id": "KplB5qWs_Zct"
   },
   "outputs": [],
   "source": [
    "columns_to_replace = ['track', 'artist', 'genre']\n",
    "for column in columns_to_replace:\n",
    "    df[column] = df[column].fillna('unknown')"
   ]
  },
  {
   "cell_type": "markdown",
   "metadata": {
    "id": "Ilsm-MZo_Zct"
   },
   "source": [
    "Let's check that there are no gaps left in the dataframe. To do this, we will count the missing values again."
   ]
  },
  {
   "cell_type": "code",
   "execution_count": 10,
   "metadata": {
    "id": "Tq4nYRX4_Zct"
   },
   "outputs": [
    {
     "data": {
      "text/plain": [
       "user_id    0\n",
       "track      0\n",
       "artist     0\n",
       "genre      0\n",
       "city       0\n",
       "time       0\n",
       "day        0\n",
       "dtype: int64"
      ]
     },
     "execution_count": 10,
     "metadata": {},
     "output_type": "execute_result"
    }
   ],
   "source": [
    "df.isna().sum()"
   ]
  },
  {
   "cell_type": "markdown",
   "metadata": {
    "id": "BWKRtBJ3_Zct"
   },
   "source": [
    "### Duplicates\n",
    "Let's count the obvious duplicates in the table with one command:"
   ]
  },
  {
   "cell_type": "code",
   "execution_count": 11,
   "metadata": {
    "id": "36eES_S0_Zct"
   },
   "outputs": [
    {
     "data": {
      "text/plain": [
       "3826"
      ]
     },
     "execution_count": 11,
     "metadata": {},
     "output_type": "execute_result"
    }
   ],
   "source": [
    "df.duplicated().sum()"
   ]
  },
  {
   "cell_type": "code",
   "execution_count": 12,
   "metadata": {
    "id": "exFHq6tt_Zct"
   },
   "outputs": [],
   "source": [
    "df = df.drop_duplicates().reset_index(drop=True)"
   ]
  },
  {
   "cell_type": "markdown",
   "metadata": {
    "id": "Im2YwBEG_Zct"
   },
   "source": [
    "Once again, let's count the obvious duplicates in the table to check that we have completely got rid of them:"
   ]
  },
  {
   "cell_type": "code",
   "execution_count": 13,
   "metadata": {
    "id": "-8PuNWQ0_Zct"
   },
   "outputs": [
    {
     "data": {
      "text/plain": [
       "0"
      ]
     },
     "execution_count": 13,
     "metadata": {},
     "output_type": "execute_result"
    }
   ],
   "source": [
    "df.duplicated().sum()"
   ]
  },
  {
   "cell_type": "markdown",
   "metadata": {
    "id": "QlFBsxAr_Zct"
   },
   "source": [
    "It is also necessary to get rid of implicit duplicates in the `genre` column. For example, the name of the same genre may be written a little differently. Such errors will also affect the result of the study."
   ]
  },
  {
   "cell_type": "markdown",
   "metadata": {
    "id": "eSjWwsOh_Zct"
   },
   "source": [
    "Let's display a list of unique genre names, sorted alphabetically. To do this:\n",
    "* extract the desired dataframe column,\n",
    "* apply the sorting method to it,\n",
    "* for a sorted column, we apply a method that returns unique values from the column."
   ]
  },
  {
   "cell_type": "code",
   "execution_count": 14,
   "metadata": {
    "id": "JIUcqzZN_Zct"
   },
   "outputs": [
    {
     "data": {
      "text/plain": [
       "array(['acid', 'acoustic', 'action', 'adult', 'africa', 'afrikaans',\n",
       "       'alternative', 'alternativepunk', 'ambient', 'americana',\n",
       "       'animated', 'anime', 'arabesk', 'arabic', 'arena',\n",
       "       'argentinetango', 'art', 'audiobook', 'author', 'avantgarde',\n",
       "       'axé', 'baile', 'balkan', 'beats', 'bigroom', 'black', 'bluegrass',\n",
       "       'blues', 'bollywood', 'bossa', 'brazilian', 'breakbeat', 'breaks',\n",
       "       'broadway', 'cantautori', 'cantopop', 'canzone', 'caribbean',\n",
       "       'caucasian', 'celtic', 'chamber', 'chanson', 'children', 'chill',\n",
       "       'chinese', 'choral', 'christian', 'christmas', 'classical',\n",
       "       'classicmetal', 'club', 'colombian', 'comedy', 'conjazz',\n",
       "       'contemporary', 'country', 'cuban', 'dance', 'dancehall',\n",
       "       'dancepop', 'dark', 'death', 'deep', 'deutschrock', 'deutschspr',\n",
       "       'dirty', 'disco', 'dnb', 'documentary', 'downbeat', 'downtempo',\n",
       "       'drum', 'dub', 'dubstep', 'eastern', 'easy', 'electronic',\n",
       "       'electropop', 'emo', 'entehno', 'epicmetal', 'estrada', 'ethnic',\n",
       "       'eurofolk', 'european', 'experimental', 'extrememetal', 'fado',\n",
       "       'fairytail', 'film', 'fitness', 'flamenco', 'folk', 'folklore',\n",
       "       'folkmetal', 'folkrock', 'folktronica', 'forró', 'frankreich',\n",
       "       'französisch', 'french', 'funk', 'future', 'gangsta', 'garage',\n",
       "       'german', 'ghazal', 'gitarre', 'glitch', 'gospel', 'gothic',\n",
       "       'grime', 'grunge', 'gypsy', 'handsup', \"hard'n'heavy\", 'hardcore',\n",
       "       'hardstyle', 'hardtechno', 'hip', 'hip-hop', 'hiphop',\n",
       "       'historisch', 'holiday', 'hop', 'horror', 'house', 'hymn', 'idm',\n",
       "       'independent', 'indian', 'indie', 'indipop', 'industrial',\n",
       "       'inspirational', 'instrumental', 'international', 'irish', 'jam',\n",
       "       'japanese', 'jazz', 'jewish', 'jpop', 'jungle', 'k-pop',\n",
       "       'karadeniz', 'karaoke', 'kayokyoku', 'korean', 'laiko', 'latin',\n",
       "       'latino', 'leftfield', 'local', 'lounge', 'loungeelectronic',\n",
       "       'lovers', 'malaysian', 'mandopop', 'marschmusik', 'meditative',\n",
       "       'mediterranean', 'melodic', 'metal', 'metalcore', 'mexican',\n",
       "       'middle', 'minimal', 'miscellaneous', 'modern', 'mood', 'mpb',\n",
       "       'muslim', 'native', 'neoklassik', 'neue', 'new', 'newage',\n",
       "       'newwave', 'nu', 'nujazz', 'numetal', 'oceania', 'old', 'opera',\n",
       "       'orchestral', 'other', 'piano', 'podcasts', 'pop', 'popdance',\n",
       "       'popelectronic', 'popeurodance', 'poprussian', 'post',\n",
       "       'posthardcore', 'postrock', 'power', 'progmetal', 'progressive',\n",
       "       'psychedelic', 'punjabi', 'punk', 'quebecois', 'ragga', 'ram',\n",
       "       'rancheras', 'rap', 'rave', 'reggae', 'reggaeton', 'regional',\n",
       "       'relax', 'religious', 'retro', 'rhythm', 'rnb', 'rnr', 'rock',\n",
       "       'rockabilly', 'rockalternative', 'rockindie', 'rockother',\n",
       "       'romance', 'roots', 'ruspop', 'rusrap', 'rusrock', 'russian',\n",
       "       'salsa', 'samba', 'scenic', 'schlager', 'self', 'sertanejo',\n",
       "       'shanson', 'shoegazing', 'showtunes', 'singer', 'ska', 'skarock',\n",
       "       'slow', 'smooth', 'soft', 'soul', 'soulful', 'sound', 'soundtrack',\n",
       "       'southern', 'specialty', 'speech', 'spiritual', 'sport',\n",
       "       'stonerrock', 'surf', 'swing', 'synthpop', 'synthrock',\n",
       "       'sängerportrait', 'tango', 'tanzorchester', 'taraftar', 'tatar',\n",
       "       'tech', 'techno', 'teen', 'thrash', 'top', 'traditional',\n",
       "       'tradjazz', 'trance', 'tribal', 'trip', 'triphop', 'tropical',\n",
       "       'türk', 'türkçe', 'ukrrock', 'unknown', 'urban', 'uzbek',\n",
       "       'variété', 'vi', 'videogame', 'vocal', 'western', 'world',\n",
       "       'worldbeat', 'ïîï', 'электроника'], dtype=object)"
      ]
     },
     "execution_count": 14,
     "metadata": {},
     "output_type": "execute_result"
    }
   ],
   "source": [
    "df['genre'].sort_values().unique()"
   ]
  },
  {
   "cell_type": "markdown",
   "metadata": {
    "id": "qej-Qmuo_Zct"
   },
   "source": [
    "Find implicit duplicates of the name `hip hop`. These may be misspelled titles or alternative titles of the same genre.\n",
    "\n",
    "We saw the following implicit duplicates:\n",
    "* *hip*,\n",
    "* *hop*,\n",
    "* *hip-hop*.\n",
    "\n",
    "To clear the table of them, write the function `replace_wrong_genres()` with two parameters: \n",
    "* `wrong_genres` — list of duplicates,\n",
    "* `correct_genre` - is a string with the correct value.\n",
    "\n",
    "The function should correct the `genre` column in the `df` table: replace each value from the `wrong_genres` list with the value from `correct_genre`."
   ]
  },
  {
   "cell_type": "code",
   "execution_count": 15,
   "metadata": {
    "id": "ErNDkmns_Zct"
   },
   "outputs": [],
   "source": [
    "def replace_wrong_genres(wrong_genres, correct_genre):\n",
    "    for wrong_genre in wrong_genres:\n",
    "        df['genre'] = df['genre'].replace(wrong_genre, correct_genre)"
   ]
  },
  {
   "cell_type": "markdown",
   "metadata": {
    "id": "aDoBJxbA_Zct"
   },
   "source": [
    "Apply `replace_wrong_genres()` and pass to it such arguments so that it eliminates implicit duplicates: instead of `hip`, `hop` and `hip-hop`, the table should have the value `hiphop`:"
   ]
  },
  {
   "cell_type": "code",
   "execution_count": 16,
   "metadata": {
    "id": "YN5i2hpmSo09"
   },
   "outputs": [
    {
     "data": {
      "text/html": [
       "<div>\n",
       "<style scoped>\n",
       "    .dataframe tbody tr th:only-of-type {\n",
       "        vertical-align: middle;\n",
       "    }\n",
       "\n",
       "    .dataframe tbody tr th {\n",
       "        vertical-align: top;\n",
       "    }\n",
       "\n",
       "    .dataframe thead th {\n",
       "        text-align: right;\n",
       "    }\n",
       "</style>\n",
       "<table border=\"1\" class=\"dataframe\">\n",
       "  <thead>\n",
       "    <tr style=\"text-align: right;\">\n",
       "      <th></th>\n",
       "      <th>user_id</th>\n",
       "      <th>track</th>\n",
       "      <th>artist</th>\n",
       "      <th>genre</th>\n",
       "      <th>city</th>\n",
       "      <th>time</th>\n",
       "      <th>day</th>\n",
       "    </tr>\n",
       "  </thead>\n",
       "  <tbody>\n",
       "    <tr>\n",
       "      <td>0</td>\n",
       "      <td>FFB692EC</td>\n",
       "      <td>Kamigata To Boots</td>\n",
       "      <td>The Mass Missile</td>\n",
       "      <td>rock</td>\n",
       "      <td>Saint-Petersburg</td>\n",
       "      <td>20:28:33</td>\n",
       "      <td>Wednesday</td>\n",
       "    </tr>\n",
       "    <tr>\n",
       "      <td>1</td>\n",
       "      <td>55204538</td>\n",
       "      <td>Delayed Because of Accident</td>\n",
       "      <td>Andreas Rönnberg</td>\n",
       "      <td>rock</td>\n",
       "      <td>Moscow</td>\n",
       "      <td>14:07:09</td>\n",
       "      <td>Friday</td>\n",
       "    </tr>\n",
       "    <tr>\n",
       "      <td>2</td>\n",
       "      <td>20EC38</td>\n",
       "      <td>Funiculì funiculà</td>\n",
       "      <td>Mario Lanza</td>\n",
       "      <td>pop</td>\n",
       "      <td>Saint-Petersburg</td>\n",
       "      <td>20:58:07</td>\n",
       "      <td>Wednesday</td>\n",
       "    </tr>\n",
       "    <tr>\n",
       "      <td>3</td>\n",
       "      <td>A3DD03C9</td>\n",
       "      <td>Dragons in the Sunset</td>\n",
       "      <td>Fire + Ice</td>\n",
       "      <td>folk</td>\n",
       "      <td>Saint-Petersburg</td>\n",
       "      <td>08:37:09</td>\n",
       "      <td>Monday</td>\n",
       "    </tr>\n",
       "    <tr>\n",
       "      <td>4</td>\n",
       "      <td>E2DC1FAE</td>\n",
       "      <td>Soul People</td>\n",
       "      <td>Space Echo</td>\n",
       "      <td>dance</td>\n",
       "      <td>Moscow</td>\n",
       "      <td>08:34:34</td>\n",
       "      <td>Monday</td>\n",
       "    </tr>\n",
       "    <tr>\n",
       "      <td>...</td>\n",
       "      <td>...</td>\n",
       "      <td>...</td>\n",
       "      <td>...</td>\n",
       "      <td>...</td>\n",
       "      <td>...</td>\n",
       "      <td>...</td>\n",
       "      <td>...</td>\n",
       "    </tr>\n",
       "    <tr>\n",
       "      <td>61248</td>\n",
       "      <td>729CBB09</td>\n",
       "      <td>My Name</td>\n",
       "      <td>McLean</td>\n",
       "      <td>rnb</td>\n",
       "      <td>Moscow</td>\n",
       "      <td>13:32:28</td>\n",
       "      <td>Wednesday</td>\n",
       "    </tr>\n",
       "    <tr>\n",
       "      <td>61249</td>\n",
       "      <td>D08D4A55</td>\n",
       "      <td>Maybe One Day (feat. Black Spade)</td>\n",
       "      <td>Blu &amp; Exile</td>\n",
       "      <td>hiphop</td>\n",
       "      <td>Saint-Petersburg</td>\n",
       "      <td>10:00:00</td>\n",
       "      <td>Monday</td>\n",
       "    </tr>\n",
       "    <tr>\n",
       "      <td>61250</td>\n",
       "      <td>C5E3A0D5</td>\n",
       "      <td>Jalopiina</td>\n",
       "      <td>unknown</td>\n",
       "      <td>industrial</td>\n",
       "      <td>Moscow</td>\n",
       "      <td>20:09:26</td>\n",
       "      <td>Friday</td>\n",
       "    </tr>\n",
       "    <tr>\n",
       "      <td>61251</td>\n",
       "      <td>321D0506</td>\n",
       "      <td>Freight Train</td>\n",
       "      <td>Chas McDevitt</td>\n",
       "      <td>rock</td>\n",
       "      <td>Moscow</td>\n",
       "      <td>21:43:59</td>\n",
       "      <td>Friday</td>\n",
       "    </tr>\n",
       "    <tr>\n",
       "      <td>61252</td>\n",
       "      <td>3A64EF84</td>\n",
       "      <td>Tell Me Sweet Little Lies</td>\n",
       "      <td>Monica Lopez</td>\n",
       "      <td>country</td>\n",
       "      <td>Moscow</td>\n",
       "      <td>21:59:46</td>\n",
       "      <td>Friday</td>\n",
       "    </tr>\n",
       "  </tbody>\n",
       "</table>\n",
       "<p>61253 rows × 7 columns</p>\n",
       "</div>"
      ],
      "text/plain": [
       "        user_id                              track            artist  \\\n",
       "0      FFB692EC                  Kamigata To Boots  The Mass Missile   \n",
       "1      55204538        Delayed Because of Accident  Andreas Rönnberg   \n",
       "2        20EC38                  Funiculì funiculà       Mario Lanza   \n",
       "3      A3DD03C9              Dragons in the Sunset        Fire + Ice   \n",
       "4      E2DC1FAE                        Soul People        Space Echo   \n",
       "...         ...                                ...               ...   \n",
       "61248  729CBB09                            My Name            McLean   \n",
       "61249  D08D4A55  Maybe One Day (feat. Black Spade)       Blu & Exile   \n",
       "61250  C5E3A0D5                          Jalopiina           unknown   \n",
       "61251  321D0506                      Freight Train     Chas McDevitt   \n",
       "61252  3A64EF84          Tell Me Sweet Little Lies      Monica Lopez   \n",
       "\n",
       "            genre              city      time        day  \n",
       "0            rock  Saint-Petersburg  20:28:33  Wednesday  \n",
       "1            rock            Moscow  14:07:09     Friday  \n",
       "2             pop  Saint-Petersburg  20:58:07  Wednesday  \n",
       "3            folk  Saint-Petersburg  08:37:09     Monday  \n",
       "4           dance            Moscow  08:34:34     Monday  \n",
       "...           ...               ...       ...        ...  \n",
       "61248         rnb            Moscow  13:32:28  Wednesday  \n",
       "61249      hiphop  Saint-Petersburg  10:00:00     Monday  \n",
       "61250  industrial            Moscow  20:09:26     Friday  \n",
       "61251        rock            Moscow  21:43:59     Friday  \n",
       "61252     country            Moscow  21:59:46     Friday  \n",
       "\n",
       "[61253 rows x 7 columns]"
      ]
     },
     "metadata": {},
     "output_type": "display_data"
    }
   ],
   "source": [
    "duplicates = ['hip', 'hop', 'hip-hop']\n",
    "correct_genre = 'hiphop'\n",
    "replace_wrong_genres(duplicates, correct_genre)\n",
    "display(df)"
   ]
  },
  {
   "cell_type": "markdown",
   "metadata": {
    "id": "zQKF16_RG15m"
   },
   "source": [
    "Сheck that the wrong names have been replaced:\n",
    "\n",
    "*   hip\n",
    "*   hop\n",
    "*   hip-hop\n",
    "\n",
    "Output a sorted list of unique values of the `genre` column:"
   ]
  },
  {
   "cell_type": "code",
   "execution_count": 17,
   "metadata": {
    "id": "wvixALnFG15m"
   },
   "outputs": [
    {
     "name": "stdout",
     "output_type": "stream",
     "text": [
      "['acid' 'acoustic' 'action' 'adult' 'africa' 'afrikaans' 'alternative'\n",
      " 'alternativepunk' 'ambient' 'americana' 'animated' 'anime' 'arabesk'\n",
      " 'arabic' 'arena' 'argentinetango' 'art' 'audiobook' 'author' 'avantgarde'\n",
      " 'axé' 'baile' 'balkan' 'beats' 'bigroom' 'black' 'bluegrass' 'blues'\n",
      " 'bollywood' 'bossa' 'brazilian' 'breakbeat' 'breaks' 'broadway'\n",
      " 'cantautori' 'cantopop' 'canzone' 'caribbean' 'caucasian' 'celtic'\n",
      " 'chamber' 'chanson' 'children' 'chill' 'chinese' 'choral' 'christian'\n",
      " 'christmas' 'classical' 'classicmetal' 'club' 'colombian' 'comedy'\n",
      " 'conjazz' 'contemporary' 'country' 'cuban' 'dance' 'dancehall' 'dancepop'\n",
      " 'dark' 'death' 'deep' 'deutschrock' 'deutschspr' 'dirty' 'disco' 'dnb'\n",
      " 'documentary' 'downbeat' 'downtempo' 'drum' 'dub' 'dubstep' 'eastern'\n",
      " 'easy' 'electronic' 'electropop' 'emo' 'entehno' 'epicmetal' 'estrada'\n",
      " 'ethnic' 'eurofolk' 'european' 'experimental' 'extrememetal' 'fado'\n",
      " 'fairytail' 'film' 'fitness' 'flamenco' 'folk' 'folklore' 'folkmetal'\n",
      " 'folkrock' 'folktronica' 'forró' 'frankreich' 'französisch' 'french'\n",
      " 'funk' 'future' 'gangsta' 'garage' 'german' 'ghazal' 'gitarre' 'glitch'\n",
      " 'gospel' 'gothic' 'grime' 'grunge' 'gypsy' 'handsup' \"hard'n'heavy\"\n",
      " 'hardcore' 'hardstyle' 'hardtechno' 'hiphop' 'historisch' 'holiday'\n",
      " 'horror' 'house' 'hymn' 'idm' 'independent' 'indian' 'indie' 'indipop'\n",
      " 'industrial' 'inspirational' 'instrumental' 'international' 'irish' 'jam'\n",
      " 'japanese' 'jazz' 'jewish' 'jpop' 'jungle' 'k-pop' 'karadeniz' 'karaoke'\n",
      " 'kayokyoku' 'korean' 'laiko' 'latin' 'latino' 'leftfield' 'local'\n",
      " 'lounge' 'loungeelectronic' 'lovers' 'malaysian' 'mandopop' 'marschmusik'\n",
      " 'meditative' 'mediterranean' 'melodic' 'metal' 'metalcore' 'mexican'\n",
      " 'middle' 'minimal' 'miscellaneous' 'modern' 'mood' 'mpb' 'muslim'\n",
      " 'native' 'neoklassik' 'neue' 'new' 'newage' 'newwave' 'nu' 'nujazz'\n",
      " 'numetal' 'oceania' 'old' 'opera' 'orchestral' 'other' 'piano' 'podcasts'\n",
      " 'pop' 'popdance' 'popelectronic' 'popeurodance' 'poprussian' 'post'\n",
      " 'posthardcore' 'postrock' 'power' 'progmetal' 'progressive' 'psychedelic'\n",
      " 'punjabi' 'punk' 'quebecois' 'ragga' 'ram' 'rancheras' 'rap' 'rave'\n",
      " 'reggae' 'reggaeton' 'regional' 'relax' 'religious' 'retro' 'rhythm'\n",
      " 'rnb' 'rnr' 'rock' 'rockabilly' 'rockalternative' 'rockindie' 'rockother'\n",
      " 'romance' 'roots' 'ruspop' 'rusrap' 'rusrock' 'russian' 'salsa' 'samba'\n",
      " 'scenic' 'schlager' 'self' 'sertanejo' 'shanson' 'shoegazing' 'showtunes'\n",
      " 'singer' 'ska' 'skarock' 'slow' 'smooth' 'soft' 'soul' 'soulful' 'sound'\n",
      " 'soundtrack' 'southern' 'specialty' 'speech' 'spiritual' 'sport'\n",
      " 'stonerrock' 'surf' 'swing' 'synthpop' 'synthrock' 'sängerportrait'\n",
      " 'tango' 'tanzorchester' 'taraftar' 'tatar' 'tech' 'techno' 'teen'\n",
      " 'thrash' 'top' 'traditional' 'tradjazz' 'trance' 'tribal' 'trip'\n",
      " 'triphop' 'tropical' 'türk' 'türkçe' 'ukrrock' 'unknown' 'urban' 'uzbek'\n",
      " 'variété' 'vi' 'videogame' 'vocal' 'western' 'world' 'worldbeat' 'ïîï'\n",
      " 'электроника']\n"
     ]
    }
   ],
   "source": [
    "print(df['genre'].sort_values().unique())"
   ]
  },
  {
   "cell_type": "markdown",
   "metadata": {
    "id": "jz6a9-7HQUDd"
   },
   "source": [
    "**Preprocessing Conclusions**\n",
    "\n",
    "Preprocessing found three problems in the data:\n",
    "\n",
    "- violations in the style of headlines,\n",
    "- missing values,\n",
    "- duplicates — explicit and implicit.\n",
    "\n",
    "I have corrected the headers to make it easier to work with the table. Without duplicates, the study will become more accurate.\n",
    "\n",
    "I have replaced the missing values with `unknown`. It remains to be seen whether omissions in the `genre` column will harm the study.\n",
    "\n",
    "Now I can proceed to hypothesis testing."
   ]
  },
  {
   "cell_type": "markdown",
   "metadata": {
    "id": "WttZHXH0SqKk"
   },
   "source": [
    "## Hypothesis testing"
   ]
  },
  {
   "cell_type": "markdown",
   "metadata": {
    "id": "Im936VVi_Zcu"
   },
   "source": [
    "### User behavior comparison in two cities"
   ]
  },
  {
   "cell_type": "markdown",
   "metadata": {
    "id": "nwt_MuaL_Zcu"
   },
   "source": [
    "The first hypothesis states that users listen to music differently in Moscow and St. Petersburg. Let's check this assumption based on data on three days of the week — Monday, Wednesday and Friday. For this:\n",
    "\n",
    "* divide the users of Moscow and St. Petersburg\n",
    "* сompare how many tracks each user group listened to on Monday, Wednesday and Friday.\n"
   ]
  },
  {
   "cell_type": "code",
   "execution_count": 18,
   "metadata": {
    "id": "0_Qs96oh_Zcu"
   },
   "outputs": [
    {
     "data": {
      "text/plain": [
       "city\n",
       "Moscow              42741\n",
       "Saint-Petersburg    18512\n",
       "Name: time, dtype: int64"
      ]
     },
     "execution_count": 18,
     "metadata": {},
     "output_type": "execute_result"
    }
   ],
   "source": [
    "df.groupby('city')['time'].count()"
   ]
  },
  {
   "cell_type": "markdown",
   "metadata": {
    "id": "dzli3w8o_Zcu"
   },
   "source": [
    "In Moscow, the amount of music listened to is more than in St. Petersburg. This does not mean that Moscow users listen to music more often. It's just that there are more users in Moscow.\n",
    "\n",
    "Now let's group the data by day of the week and count the auditions on Monday, Wednesday and Friday. Considering that the data contains information only about the amount of music listened to only for these days.\n"
   ]
  },
  {
   "cell_type": "code",
   "execution_count": 19,
   "metadata": {
    "id": "uZMKjiJz_Zcu"
   },
   "outputs": [
    {
     "data": {
      "text/plain": [
       "day\n",
       "Friday       21840\n",
       "Monday       21354\n",
       "Wednesday    18059\n",
       "Name: time, dtype: int64"
      ]
     },
     "execution_count": 19,
     "metadata": {},
     "output_type": "execute_result"
    }
   ],
   "source": [
    "df.groupby('day')['time'].count()"
   ]
  },
  {
   "cell_type": "markdown",
   "metadata": {
    "id": "cC2tNrlL_Zcu"
   },
   "source": [
    "On average, users from two cities are less active on Wednesdays. But the picture may change if we consider each city separately."
   ]
  },
  {
   "cell_type": "markdown",
   "metadata": {
    "id": "POzs8bGa_Zcu"
   },
   "source": [
    "Let's write a function that combines these two calculations.\n",
    "\n",
    "Let's create a function `number_tracks()`, which will count auditions for a given day and city. It will need two parameters:\n",
    "* day of the week,\n",
    "* name of the city.\n",
    "\n",
    "In the function, we will save the rows of the source table to a variable, which have the value:\n",
    "* in the column `day` is equal to the parameter `day`,\n",
    "  * in the column `city` is equal to the parameter `city`.\n",
    "\n",
    "To do this, we apply sequential filtering with logical indexing.\n",
    "\n",
    "Then we will calculate the values in the `user_id` column of the resulting table. We will save the result to a new variable. Let's return this variable from the function."
   ]
  },
  {
   "cell_type": "code",
   "execution_count": 20,
   "metadata": {
    "id": "Nz3GdQB1_Zcu"
   },
   "outputs": [],
   "source": [
    "def number_tracks(day, city):\n",
    "    track_list = df[(df['day'] == day) & (df['city'] == city)]\n",
    "    track_list_count = track_list['user_id'].count()\n",
    "    return track_list_count"
   ]
  },
  {
   "cell_type": "markdown",
   "metadata": {
    "id": "ytf7xFrFJQ2r"
   },
   "source": [
    "Call `number_tracks()` six times, changing the value of the parameters — so as to get data for each city on each of the three days."
   ]
  },
  {
   "cell_type": "code",
   "execution_count": 21,
   "metadata": {
    "id": "rJcRATNQ_Zcu"
   },
   "outputs": [
    {
     "data": {
      "text/plain": [
       "15740"
      ]
     },
     "execution_count": 21,
     "metadata": {},
     "output_type": "execute_result"
    }
   ],
   "source": [
    "number_tracks('Monday', 'Moscow')"
   ]
  },
  {
   "cell_type": "code",
   "execution_count": 22,
   "metadata": {
    "id": "hq_ncZ5T_Zcu"
   },
   "outputs": [
    {
     "data": {
      "text/plain": [
       "5614"
      ]
     },
     "execution_count": 22,
     "metadata": {},
     "output_type": "execute_result"
    }
   ],
   "source": [
    "number_tracks('Monday', 'Saint-Petersburg')"
   ]
  },
  {
   "cell_type": "code",
   "execution_count": 23,
   "metadata": {
    "id": "_NTy2VPU_Zcu"
   },
   "outputs": [
    {
     "data": {
      "text/plain": [
       "11056"
      ]
     },
     "execution_count": 23,
     "metadata": {},
     "output_type": "execute_result"
    }
   ],
   "source": [
    "number_tracks('Wednesday', 'Moscow')"
   ]
  },
  {
   "cell_type": "code",
   "execution_count": 24,
   "metadata": {
    "id": "j2y3TAwo_Zcu"
   },
   "outputs": [
    {
     "data": {
      "text/plain": [
       "7003"
      ]
     },
     "execution_count": 24,
     "metadata": {},
     "output_type": "execute_result"
    }
   ],
   "source": [
    "number_tracks('Wednesday', 'Saint-Petersburg')"
   ]
  },
  {
   "cell_type": "code",
   "execution_count": 25,
   "metadata": {
    "id": "vYDw5u_K_Zcu"
   },
   "outputs": [
    {
     "data": {
      "text/plain": [
       "15945"
      ]
     },
     "execution_count": 25,
     "metadata": {},
     "output_type": "execute_result"
    }
   ],
   "source": [
    "number_tracks('Friday', 'Moscow')"
   ]
  },
  {
   "cell_type": "code",
   "execution_count": 26,
   "metadata": {
    "id": "8_yzFtW3_Zcu"
   },
   "outputs": [
    {
     "data": {
      "text/plain": [
       "5895"
      ]
     },
     "execution_count": 26,
     "metadata": {},
     "output_type": "execute_result"
    }
   ],
   "source": [
    "number_tracks('Friday', 'Saint-Petersburg')"
   ]
  },
  {
   "cell_type": "markdown",
   "metadata": {
    "id": "7QXffbO-_Zcu"
   },
   "source": [
    "Create a table using the `pd.DataFrame` constructor, where\n",
    "* column names — `['city', 'monday', 'wednesday', 'friday']`;\n",
    "* data — the results that you received using `number_tracks'."
   ]
  },
  {
   "cell_type": "code",
   "execution_count": 27,
   "metadata": {
    "id": "APAcLpOr_Zcu"
   },
   "outputs": [
    {
     "data": {
      "text/html": [
       "<div>\n",
       "<style scoped>\n",
       "    .dataframe tbody tr th:only-of-type {\n",
       "        vertical-align: middle;\n",
       "    }\n",
       "\n",
       "    .dataframe tbody tr th {\n",
       "        vertical-align: top;\n",
       "    }\n",
       "\n",
       "    .dataframe thead th {\n",
       "        text-align: right;\n",
       "    }\n",
       "</style>\n",
       "<table border=\"1\" class=\"dataframe\">\n",
       "  <thead>\n",
       "    <tr style=\"text-align: right;\">\n",
       "      <th></th>\n",
       "      <th>city</th>\n",
       "      <th>monday</th>\n",
       "      <th>wednesday</th>\n",
       "      <th>friday</th>\n",
       "    </tr>\n",
       "  </thead>\n",
       "  <tbody>\n",
       "    <tr>\n",
       "      <td>0</td>\n",
       "      <td>Moscow</td>\n",
       "      <td>15740</td>\n",
       "      <td>11056</td>\n",
       "      <td>15945</td>\n",
       "    </tr>\n",
       "    <tr>\n",
       "      <td>1</td>\n",
       "      <td>Saint-Petersburg</td>\n",
       "      <td>5614</td>\n",
       "      <td>7003</td>\n",
       "      <td>5895</td>\n",
       "    </tr>\n",
       "  </tbody>\n",
       "</table>\n",
       "</div>"
      ],
      "text/plain": [
       "               city  monday  wednesday  friday\n",
       "0            Moscow   15740      11056   15945\n",
       "1  Saint-Petersburg    5614       7003    5895"
      ]
     },
     "execution_count": 27,
     "metadata": {},
     "output_type": "execute_result"
    }
   ],
   "source": [
    "data = [['Moscow', 15740, 11056, 15945],\n",
    "       ['Saint-Petersburg', 5614, 7003, 5895]]\n",
    "columns = ['city','monday','wednesday','friday']\n",
    "table = pd.DataFrame(data = data, columns = columns)\n",
    "table"
   ]
  },
  {
   "cell_type": "markdown",
   "metadata": {
    "id": "-EgPIHYu_Zcu"
   },
   "source": [
    "**Conclusion**\n",
    "\n",
    "The data shows the difference in user behavior:\n",
    "\n",
    "- In Moscow, the peak of auditions falls on Monday and Friday, and on Wednesday there is a noticeable decline.\n",
    "- In St. Petersburg, on the contrary, they listen to music more on Wednesdays. Activity on Monday and Friday is almost equally inferior to Wednesday here.\n",
    "\n",
    "So, the data speak in favor of the first hypothesis."
   ]
  },
  {
   "cell_type": "markdown",
   "metadata": {
    "id": "atZAxtq4_Zcu"
   },
   "source": [
    "### Music at the beginning and end of the week"
   ]
  },
  {
   "cell_type": "markdown",
   "metadata": {
    "id": "eXrQqXFH_Zcu"
   },
   "source": [
    "According to the second hypothesis, some genres prevail in Moscow on Monday morning, and others in St. Petersburg. Similarly, on Friday evening, different genres prevail — depending on the city."
   ]
  },
  {
   "cell_type": "markdown",
   "metadata": {
    "id": "S8UcW6Hw_Zcu"
   },
   "source": [
    "Save tables with data in two variables:\n",
    "* in Moscow — in `moscow_general`;\n",
    "* in Saint Petersburg — in `spb_general'."
   ]
  },
  {
   "cell_type": "code",
   "execution_count": 28,
   "metadata": {
    "id": "qeaFfM_P_Zcu"
   },
   "outputs": [],
   "source": [
    "moscow_general = df[df['city'] == 'Moscow']"
   ]
  },
  {
   "cell_type": "code",
   "execution_count": 29,
   "metadata": {
    "id": "ORaVRKto_Zcu"
   },
   "outputs": [],
   "source": [
    "spb_general = df[df['city'] == 'Saint-Petersburg']"
   ]
  },
  {
   "cell_type": "markdown",
   "metadata": {
    "id": "MEJV-CX2_Zcu"
   },
   "source": [
    "Create a function `genre_weekday()` with four parameters:\n",
    "* table (dataframe) with data,\n",
    "* day of the week,\n",
    "* initial timestamp in the format 'hh:mm', \n",
    "* the last timestamp in the format 'hh:mm'.\n",
    "\n",
    "The function should return information about the top 10 genres of those tracks that were listened to on the specified day, in the interval between two timestamps."
   ]
  },
  {
   "cell_type": "code",
   "execution_count": 30,
   "metadata": {
    "id": "laJT9BYl_Zcu"
   },
   "outputs": [],
   "source": [
    "def genre_weekday(table, day, time1, time2):\n",
    "    genre_df = table[(table['day'] == day) & (table['time'] > time1) & (table['time'] < time2)]\n",
    "    genre_df_count = genre_df.groupby('genre')['genre'].count() \n",
    "    genre_df_sorted = genre_df_count.sort_values(ascending = False)\n",
    "    return genre_df_sorted.head(10)"
   ]
  },
  {
   "cell_type": "markdown",
   "metadata": {
    "id": "la2s2_PF_Zcu"
   },
   "source": [
    "Let's compare the results of the `genre_weekday()` function for Moscow and St. Petersburg on Monday morning (from 7:00 to 11:00) and Friday evening (from 17:00 to 23:00):"
   ]
  },
  {
   "cell_type": "code",
   "execution_count": 31,
   "metadata": {
    "id": "yz7itPUQ_Zcu"
   },
   "outputs": [
    {
     "data": {
      "text/plain": [
       "genre\n",
       "pop            781\n",
       "dance          549\n",
       "electronic     480\n",
       "rock           474\n",
       "hiphop         286\n",
       "ruspop         186\n",
       "world          181\n",
       "rusrap         175\n",
       "alternative    164\n",
       "unknown        161\n",
       "Name: genre, dtype: int64"
      ]
     },
     "execution_count": 31,
     "metadata": {},
     "output_type": "execute_result"
    }
   ],
   "source": [
    "genre_weekday(moscow_general, 'Monday', '07:00', '11:00')"
   ]
  },
  {
   "cell_type": "code",
   "execution_count": 32,
   "metadata": {
    "id": "kwUcHPdy_Zcu"
   },
   "outputs": [
    {
     "data": {
      "text/plain": [
       "genre\n",
       "pop            218\n",
       "dance          182\n",
       "rock           162\n",
       "electronic     147\n",
       "hiphop          80\n",
       "ruspop          64\n",
       "alternative     58\n",
       "rusrap          55\n",
       "jazz            44\n",
       "classical       40\n",
       "Name: genre, dtype: int64"
      ]
     },
     "execution_count": 32,
     "metadata": {},
     "output_type": "execute_result"
    }
   ],
   "source": [
    "genre_weekday(spb_general, 'Monday', '07:00', '11:00')"
   ]
  },
  {
   "cell_type": "code",
   "execution_count": 33,
   "metadata": {
    "id": "EzXVRE1o_Zcu"
   },
   "outputs": [
    {
     "data": {
      "text/plain": [
       "genre\n",
       "pop            713\n",
       "rock           517\n",
       "dance          495\n",
       "electronic     482\n",
       "hiphop         273\n",
       "world          208\n",
       "ruspop         170\n",
       "alternative    163\n",
       "classical      163\n",
       "rusrap         142\n",
       "Name: genre, dtype: int64"
      ]
     },
     "execution_count": 33,
     "metadata": {},
     "output_type": "execute_result"
    }
   ],
   "source": [
    "genre_weekday(moscow_general, 'Friday', '17:00', '23:00')"
   ]
  },
  {
   "cell_type": "code",
   "execution_count": 34,
   "metadata": {
    "id": "JZaEKu5v_Zcu"
   },
   "outputs": [
    {
     "data": {
      "text/plain": [
       "genre\n",
       "pop            256\n",
       "rock           216\n",
       "electronic     216\n",
       "dance          210\n",
       "hiphop          97\n",
       "alternative     63\n",
       "jazz            61\n",
       "classical       60\n",
       "rusrap          59\n",
       "world           54\n",
       "Name: genre, dtype: int64"
      ]
     },
     "execution_count": 34,
     "metadata": {},
     "output_type": "execute_result"
    }
   ],
   "source": [
    "genre_weekday(spb_general, 'Friday', '17:00', '23:00')"
   ]
  },
  {
   "cell_type": "markdown",
   "metadata": {
    "id": "wrCe4MNX_Zcu"
   },
   "source": [
    "**Conclusion**\n",
    "\n",
    "If we compare the top 10 genres on Monday morning, we can draw the following conclusions:\n",
    "\n",
    "1. In Moscow and St. Petersburg, users listen to similar music. The only difference is that the “world” genre entered the Moscow rating, and jazz and classical music entered the St. Petersburg rating.\n",
    "\n",
    "2. In Moscow, there were so many missing values that the value `unknown` took the tenth place among the most popular genres. This means that the missing values occupy a significant share in the data and threaten the reliability of the study.\n",
    "\n",
    "Friday night does not change this picture. Some genres rise a little higher, others go down, but overall the top 10 remains the same.\n",
    "\n",
    "Thus, the second hypothesis was only partially confirmed:\n",
    "* Users listen to similar music at the beginning of the week and at the end.\n",
    "* The difference between Moscow and St. Petersburg is not too pronounced. In Moscow, they listen to Russian popular music more often, in St. Petersburg — jazz.\n",
    "\n",
    "However, omissions in the data cast doubt on this result. There are so many of them in Moscow that the top-10 rating could look different if not for the lost data on genres."
   ]
  },
  {
   "cell_type": "markdown",
   "metadata": {
    "id": "JolODAqr_Zcu"
   },
   "source": [
    "### Genre preferences in Moscow and St. Petersburg\n",
    "\n",
    "Hypothesis: St. Petersburg is the capital of rap, music of this genre is listened to there more often than in Moscow.  And Moscow is a city of contrasts, in which, nevertheless, pop music prevails."
   ]
  },
  {
   "cell_type": "markdown",
   "metadata": {
    "id": "DlegSvaT_Zcu"
   },
   "source": [
    "Group the `moscow_general` table by genre and count the number of tracks listened to for each genre using the `count()` method. Then sort the result in descending order and save it in the `moscow_genres` table."
   ]
  },
  {
   "cell_type": "code",
   "execution_count": 35,
   "metadata": {
    "id": "r19lIPke_Zcu"
   },
   "outputs": [],
   "source": [
    "moscow_genres = moscow_general.groupby('genre')['genre'].count().sort_values(ascending=False)"
   ]
  },
  {
   "cell_type": "markdown",
   "metadata": {
    "id": "6kMuomxTiIr8"
   },
   "source": [
    "Display the first ten strings `moscow_genres`:"
   ]
  },
  {
   "cell_type": "code",
   "execution_count": 36,
   "metadata": {
    "id": "WhCSooF8_Zcv"
   },
   "outputs": [
    {
     "data": {
      "text/plain": [
       "genre\n",
       "pop            5892\n",
       "dance          4435\n",
       "rock           3965\n",
       "electronic     3786\n",
       "hiphop         2096\n",
       "classical      1616\n",
       "world          1432\n",
       "alternative    1379\n",
       "ruspop         1372\n",
       "rusrap         1161\n",
       "Name: genre, dtype: int64"
      ]
     },
     "metadata": {},
     "output_type": "display_data"
    }
   ],
   "source": [
    "display(moscow_genres.head(10))"
   ]
  },
  {
   "cell_type": "markdown",
   "metadata": {
    "id": "cnPG2vnN_Zcv"
   },
   "source": [
    "Now repeat the same for St.Petersburg.\n",
    "\n",
    "Group the `spb_general` table by genre. Count the listenings of tracks of each genre. Sort the result in descending order and save it in the `spb_genres` table:"
   ]
  },
  {
   "cell_type": "code",
   "execution_count": 37,
   "metadata": {
    "id": "gluLIpE7_Zcv"
   },
   "outputs": [],
   "source": [
    "spb_genres = spb_general.groupby('genre')['genre'].count().sort_values(ascending=False)"
   ]
  },
  {
   "cell_type": "markdown",
   "metadata": {
    "id": "5Doha_ODgyQ8"
   },
   "source": [
    "Display the first ten strings `spb_genres`:"
   ]
  },
  {
   "cell_type": "code",
   "execution_count": 38,
   "metadata": {
    "id": "uaGJHjVU_Zcv"
   },
   "outputs": [
    {
     "data": {
      "text/plain": [
       "genre\n",
       "pop            2431\n",
       "dance          1932\n",
       "rock           1879\n",
       "electronic     1736\n",
       "hiphop          960\n",
       "alternative     649\n",
       "classical       646\n",
       "rusrap          564\n",
       "ruspop          538\n",
       "world           515\n",
       "Name: genre, dtype: int64"
      ]
     },
     "metadata": {},
     "output_type": "display_data"
    }
   ],
   "source": [
    "display(spb_genres.head(10))"
   ]
  },
  {
   "cell_type": "markdown",
   "metadata": {
    "id": "RY51YJYu_Zcv"
   },
   "source": [
    "**Conclusion**"
   ]
  },
  {
   "cell_type": "markdown",
   "metadata": {
    "id": "nVhnJEm__Zcv"
   },
   "source": [
    "The hypothesis was partially confirmed:\n",
    "* Pop music is the most popular genre in Moscow, as the hypothesis suggested. Moreover, in the top 10 genres there is a similar genre - Russian popular music.\n",
    "* Contrary to expectations, rap is equally popular in Moscow and St. Petersburg. "
   ]
  },
  {
   "cell_type": "markdown",
   "metadata": {
    "id": "ykKQ0N65_Zcv"
   },
   "source": [
    "## Results of the study"
   ]
  },
  {
   "cell_type": "markdown",
   "metadata": {
    "id": "tjUwbHb3_Zcv"
   },
   "source": [
    "I have tested three hypotheses and established:\n",
    "\n",
    "1. The day of the week has different effects on user activity in Moscow and St. Petersburg. \n",
    "\n",
    "The first hypothesis is fully confirmed.\n",
    "\n",
    "2. Musical preferences do not change much during the week — be it Moscow or St. Petersburg. Small differences are noticeable at the beginning of the week, on Mondays:\n",
    "* in Moscow, users listen to music of the “world” genre,\n",
    "* in St. Petersburg, users listen to music of the — jazz and classics.\n",
    "\n",
    "Thus, the second hypothesis is only partially confirmed. This result could have turned out to be different if not for the omissions in the data.\n",
    "\n",
    "3. There are more similarities than differences in the tastes of users in Moscow and St. Petersburg. Contrary to expectations, genre preferences in St. Petersburg resemble those in Moscow.\n",
    "\n",
    "The third hypothesis is not confirmed. If there are differences in preferences, they are invisible to the majority of users."
   ]
  }
 ],
 "metadata": {
  "ExecuteTimeLog": [
   {
    "duration": 338,
    "start_time": "2022-02-19T23:30:48.504Z"
   },
   {
    "duration": 532,
    "start_time": "2022-02-19T23:31:18.988Z"
   },
   {
    "duration": 97,
    "start_time": "2022-02-19T23:31:19.522Z"
   },
   {
    "duration": -22,
    "start_time": "2022-02-19T23:31:19.644Z"
   },
   {
    "duration": -25,
    "start_time": "2022-02-19T23:31:19.648Z"
   },
   {
    "duration": -27,
    "start_time": "2022-02-19T23:31:19.651Z"
   },
   {
    "duration": -71,
    "start_time": "2022-02-19T23:31:19.696Z"
   },
   {
    "duration": -80,
    "start_time": "2022-02-19T23:31:19.706Z"
   },
   {
    "duration": -86,
    "start_time": "2022-02-19T23:31:19.713Z"
   },
   {
    "duration": -89,
    "start_time": "2022-02-19T23:31:19.717Z"
   },
   {
    "duration": -94,
    "start_time": "2022-02-19T23:31:19.723Z"
   },
   {
    "duration": -97,
    "start_time": "2022-02-19T23:31:19.727Z"
   },
   {
    "duration": -100,
    "start_time": "2022-02-19T23:31:19.731Z"
   },
   {
    "duration": -103,
    "start_time": "2022-02-19T23:31:19.735Z"
   },
   {
    "duration": -108,
    "start_time": "2022-02-19T23:31:19.740Z"
   },
   {
    "duration": -111,
    "start_time": "2022-02-19T23:31:19.744Z"
   },
   {
    "duration": -114,
    "start_time": "2022-02-19T23:31:19.748Z"
   },
   {
    "duration": -117,
    "start_time": "2022-02-19T23:31:19.752Z"
   },
   {
    "duration": -120,
    "start_time": "2022-02-19T23:31:19.756Z"
   },
   {
    "duration": -123,
    "start_time": "2022-02-19T23:31:19.760Z"
   },
   {
    "duration": -125,
    "start_time": "2022-02-19T23:31:19.763Z"
   },
   {
    "duration": -127,
    "start_time": "2022-02-19T23:31:19.767Z"
   },
   {
    "duration": -130,
    "start_time": "2022-02-19T23:31:19.771Z"
   },
   {
    "duration": -134,
    "start_time": "2022-02-19T23:31:19.776Z"
   },
   {
    "duration": -137,
    "start_time": "2022-02-19T23:31:19.780Z"
   },
   {
    "duration": -139,
    "start_time": "2022-02-19T23:31:19.783Z"
   },
   {
    "duration": -143,
    "start_time": "2022-02-19T23:31:19.788Z"
   },
   {
    "duration": -147,
    "start_time": "2022-02-19T23:31:19.792Z"
   },
   {
    "duration": -149,
    "start_time": "2022-02-19T23:31:19.795Z"
   },
   {
    "duration": -163,
    "start_time": "2022-02-19T23:31:19.810Z"
   },
   {
    "duration": -165,
    "start_time": "2022-02-19T23:31:19.814Z"
   },
   {
    "duration": -168,
    "start_time": "2022-02-19T23:31:19.818Z"
   },
   {
    "duration": -172,
    "start_time": "2022-02-19T23:31:19.823Z"
   },
   {
    "duration": -176,
    "start_time": "2022-02-19T23:31:19.827Z"
   },
   {
    "duration": -179,
    "start_time": "2022-02-19T23:31:19.831Z"
   },
   {
    "duration": -182,
    "start_time": "2022-02-19T23:31:19.835Z"
   },
   {
    "duration": -185,
    "start_time": "2022-02-19T23:31:19.839Z"
   },
   {
    "duration": -188,
    "start_time": "2022-02-19T23:31:19.843Z"
   },
   {
    "duration": -190,
    "start_time": "2022-02-19T23:31:19.846Z"
   },
   {
    "duration": 311,
    "start_time": "2022-02-19T23:31:49.733Z"
   },
   {
    "duration": 3,
    "start_time": "2022-02-19T23:32:08.572Z"
   },
   {
    "duration": 376,
    "start_time": "2022-02-19T23:32:08.577Z"
   },
   {
    "duration": -117,
    "start_time": "2022-02-19T23:32:09.071Z"
   },
   {
    "duration": 3,
    "start_time": "2022-02-19T23:45:38.946Z"
   },
   {
    "duration": 353,
    "start_time": "2022-02-19T23:45:38.951Z"
   },
   {
    "duration": -47,
    "start_time": "2022-02-19T23:45:39.353Z"
   },
   {
    "duration": -51,
    "start_time": "2022-02-19T23:45:39.358Z"
   },
   {
    "duration": 3,
    "start_time": "2022-02-19T23:45:58.270Z"
   },
   {
    "duration": 1330,
    "start_time": "2022-02-19T23:45:58.274Z"
   },
   {
    "duration": -123,
    "start_time": "2022-02-19T23:45:59.729Z"
   },
   {
    "duration": 3,
    "start_time": "2022-02-19T23:47:01.741Z"
   },
   {
    "duration": 116,
    "start_time": "2022-02-19T23:47:01.745Z"
   },
   {
    "duration": 2,
    "start_time": "2022-02-19T23:47:31.686Z"
   },
   {
    "duration": 215,
    "start_time": "2022-02-19T23:47:31.690Z"
   },
   {
    "duration": 2,
    "start_time": "2022-02-19T23:48:01.602Z"
   },
   {
    "duration": 148,
    "start_time": "2022-02-19T23:48:01.606Z"
   },
   {
    "duration": 2,
    "start_time": "2022-02-19T23:48:14.120Z"
   },
   {
    "duration": 141,
    "start_time": "2022-02-19T23:48:14.124Z"
   },
   {
    "duration": 18,
    "start_time": "2022-02-19T23:48:14.267Z"
   },
   {
    "duration": 24,
    "start_time": "2022-02-19T23:49:19.528Z"
   },
   {
    "duration": 22,
    "start_time": "2022-02-19T23:50:00.528Z"
   },
   {
    "duration": 4,
    "start_time": "2022-02-20T00:00:30.071Z"
   },
   {
    "duration": 3,
    "start_time": "2022-02-20T00:00:39.091Z"
   },
   {
    "duration": 3,
    "start_time": "2022-02-20T00:04:45.408Z"
   },
   {
    "duration": 120,
    "start_time": "2022-02-20T00:04:52.419Z"
   },
   {
    "duration": 18,
    "start_time": "2022-02-20T00:05:41.329Z"
   },
   {
    "duration": 4,
    "start_time": "2022-02-20T00:05:46.637Z"
   },
   {
    "duration": 298,
    "start_time": "2022-02-20T00:08:55.176Z"
   },
   {
    "duration": 25,
    "start_time": "2022-02-20T00:10:00.120Z"
   },
   {
    "duration": 16,
    "start_time": "2022-02-20T00:15:42.484Z"
   },
   {
    "duration": 21,
    "start_time": "2022-02-20T00:16:04.797Z"
   },
   {
    "duration": 54,
    "start_time": "2022-02-20T00:17:14.515Z"
   },
   {
    "duration": 54,
    "start_time": "2022-02-20T00:22:52.321Z"
   },
   {
    "duration": 46,
    "start_time": "2022-02-20T00:22:57.151Z"
   },
   {
    "duration": 36,
    "start_time": "2022-02-20T00:41:54.561Z"
   },
   {
    "duration": 3,
    "start_time": "2022-02-20T00:47:52.837Z"
   },
   {
    "duration": 7683,
    "start_time": "2022-02-20T00:51:36.694Z"
   },
   {
    "duration": 3,
    "start_time": "2022-02-20T00:53:23.465Z"
   },
   {
    "duration": 127,
    "start_time": "2022-02-20T00:53:23.469Z"
   },
   {
    "duration": 9,
    "start_time": "2022-02-20T00:53:23.598Z"
   },
   {
    "duration": 26,
    "start_time": "2022-02-20T00:53:23.609Z"
   },
   {
    "duration": 3,
    "start_time": "2022-02-20T00:53:23.637Z"
   },
   {
    "duration": 16,
    "start_time": "2022-02-20T00:53:23.641Z"
   },
   {
    "duration": 2,
    "start_time": "2022-02-20T00:53:23.659Z"
   },
   {
    "duration": 23,
    "start_time": "2022-02-20T00:53:23.663Z"
   },
   {
    "duration": 45,
    "start_time": "2022-02-20T00:53:23.688Z"
   },
   {
    "duration": 21,
    "start_time": "2022-02-20T00:53:23.734Z"
   },
   {
    "duration": 50,
    "start_time": "2022-02-20T00:53:23.756Z"
   },
   {
    "duration": 67,
    "start_time": "2022-02-20T00:53:23.808Z"
   },
   {
    "duration": 54,
    "start_time": "2022-02-20T00:53:23.877Z"
   },
   {
    "duration": 35,
    "start_time": "2022-02-20T00:53:23.933Z"
   },
   {
    "duration": 2,
    "start_time": "2022-02-20T00:53:23.970Z"
   },
   {
    "duration": 17,
    "start_time": "2022-02-20T00:53:33.463Z"
   },
   {
    "duration": 36,
    "start_time": "2022-02-20T00:55:05.807Z"
   },
   {
    "duration": 4,
    "start_time": "2022-02-20T01:04:10.693Z"
   },
   {
    "duration": 10,
    "start_time": "2022-02-20T01:04:19.420Z"
   },
   {
    "duration": 12,
    "start_time": "2022-02-20T01:08:19.668Z"
   },
   {
    "duration": 10,
    "start_time": "2022-02-20T01:08:39.237Z"
   },
   {
    "duration": 30,
    "start_time": "2022-02-20T01:09:03.513Z"
   },
   {
    "duration": 29,
    "start_time": "2022-02-20T01:09:13.790Z"
   },
   {
    "duration": 11,
    "start_time": "2022-02-20T01:10:15.561Z"
   },
   {
    "duration": 11,
    "start_time": "2022-02-20T01:10:52.330Z"
   },
   {
    "duration": 3,
    "start_time": "2022-02-20T01:21:45.263Z"
   },
   {
    "duration": 15,
    "start_time": "2022-02-20T01:23:19.463Z"
   },
   {
    "duration": 14,
    "start_time": "2022-02-20T01:23:49.102Z"
   },
   {
    "duration": 14,
    "start_time": "2022-02-20T01:24:24.000Z"
   },
   {
    "duration": 13,
    "start_time": "2022-02-20T01:24:52.600Z"
   },
   {
    "duration": 16,
    "start_time": "2022-02-20T01:25:27.674Z"
   },
   {
    "duration": 14,
    "start_time": "2022-02-20T01:25:55.045Z"
   },
   {
    "duration": 315,
    "start_time": "2022-02-20T01:27:56.071Z"
   },
   {
    "duration": 315,
    "start_time": "2022-02-20T01:28:15.068Z"
   },
   {
    "duration": 293,
    "start_time": "2022-02-20T01:28:53.135Z"
   },
   {
    "duration": 2,
    "start_time": "2022-02-20T01:29:15.339Z"
   },
   {
    "duration": 119,
    "start_time": "2022-02-20T01:29:15.343Z"
   },
   {
    "duration": 9,
    "start_time": "2022-02-20T01:29:15.464Z"
   },
   {
    "duration": 20,
    "start_time": "2022-02-20T01:29:15.475Z"
   },
   {
    "duration": 2,
    "start_time": "2022-02-20T01:29:15.497Z"
   },
   {
    "duration": 40,
    "start_time": "2022-02-20T01:29:15.500Z"
   },
   {
    "duration": 3,
    "start_time": "2022-02-20T01:29:15.542Z"
   },
   {
    "duration": 31,
    "start_time": "2022-02-20T01:29:15.547Z"
   },
   {
    "duration": 16,
    "start_time": "2022-02-20T01:29:15.580Z"
   },
   {
    "duration": 35,
    "start_time": "2022-02-20T01:29:15.597Z"
   },
   {
    "duration": 50,
    "start_time": "2022-02-20T01:29:15.634Z"
   },
   {
    "duration": 65,
    "start_time": "2022-02-20T01:29:15.685Z"
   },
   {
    "duration": 47,
    "start_time": "2022-02-20T01:29:15.752Z"
   },
   {
    "duration": 37,
    "start_time": "2022-02-20T01:29:15.801Z"
   },
   {
    "duration": 2,
    "start_time": "2022-02-20T01:29:15.840Z"
   },
   {
    "duration": 17,
    "start_time": "2022-02-20T01:29:15.844Z"
   },
   {
    "duration": 36,
    "start_time": "2022-02-20T01:29:15.863Z"
   },
   {
    "duration": 10,
    "start_time": "2022-02-20T01:29:15.900Z"
   },
   {
    "duration": 8,
    "start_time": "2022-02-20T01:29:15.912Z"
   },
   {
    "duration": 9,
    "start_time": "2022-02-20T01:29:15.922Z"
   },
   {
    "duration": 13,
    "start_time": "2022-02-20T01:29:15.933Z"
   },
   {
    "duration": 18,
    "start_time": "2022-02-20T01:29:15.948Z"
   },
   {
    "duration": 13,
    "start_time": "2022-02-20T01:29:15.967Z"
   },
   {
    "duration": 17,
    "start_time": "2022-02-20T01:29:15.981Z"
   },
   {
    "duration": 15,
    "start_time": "2022-02-20T01:29:16.000Z"
   },
   {
    "duration": 12,
    "start_time": "2022-02-20T01:29:16.016Z"
   },
   {
    "duration": 2,
    "start_time": "2022-02-20T01:29:27.582Z"
   },
   {
    "duration": 156,
    "start_time": "2022-02-20T01:29:27.586Z"
   },
   {
    "duration": 9,
    "start_time": "2022-02-20T01:29:27.744Z"
   },
   {
    "duration": 23,
    "start_time": "2022-02-20T01:29:27.755Z"
   },
   {
    "duration": 6,
    "start_time": "2022-02-20T01:29:27.779Z"
   },
   {
    "duration": 15,
    "start_time": "2022-02-20T01:29:27.786Z"
   },
   {
    "duration": 3,
    "start_time": "2022-02-20T01:29:27.803Z"
   },
   {
    "duration": 43,
    "start_time": "2022-02-20T01:29:27.808Z"
   },
   {
    "duration": 18,
    "start_time": "2022-02-20T01:29:27.852Z"
   },
   {
    "duration": 19,
    "start_time": "2022-02-20T01:29:27.871Z"
   },
   {
    "duration": 62,
    "start_time": "2022-02-20T01:29:27.891Z"
   },
   {
    "duration": 55,
    "start_time": "2022-02-20T01:29:27.954Z"
   },
   {
    "duration": 61,
    "start_time": "2022-02-20T01:29:28.010Z"
   },
   {
    "duration": 35,
    "start_time": "2022-02-20T01:29:28.072Z"
   },
   {
    "duration": 2,
    "start_time": "2022-02-20T01:29:28.108Z"
   },
   {
    "duration": 29,
    "start_time": "2022-02-20T01:29:28.112Z"
   },
   {
    "duration": 34,
    "start_time": "2022-02-20T01:29:28.143Z"
   },
   {
    "duration": 11,
    "start_time": "2022-02-20T01:29:28.179Z"
   },
   {
    "duration": 10,
    "start_time": "2022-02-20T01:29:28.193Z"
   },
   {
    "duration": 3,
    "start_time": "2022-02-20T01:29:28.205Z"
   },
   {
    "duration": 36,
    "start_time": "2022-02-20T01:29:28.209Z"
   },
   {
    "duration": 13,
    "start_time": "2022-02-20T01:29:28.247Z"
   },
   {
    "duration": 13,
    "start_time": "2022-02-20T01:29:28.261Z"
   },
   {
    "duration": 12,
    "start_time": "2022-02-20T01:29:28.276Z"
   },
   {
    "duration": 43,
    "start_time": "2022-02-20T01:29:28.289Z"
   },
   {
    "duration": 13,
    "start_time": "2022-02-20T01:29:28.334Z"
   },
   {
    "duration": 288,
    "start_time": "2022-02-20T01:29:28.348Z"
   },
   {
    "duration": -71,
    "start_time": "2022-02-20T01:29:28.709Z"
   },
   {
    "duration": -85,
    "start_time": "2022-02-20T01:29:28.724Z"
   },
   {
    "duration": -88,
    "start_time": "2022-02-20T01:29:28.728Z"
   },
   {
    "duration": -91,
    "start_time": "2022-02-20T01:29:28.731Z"
   },
   {
    "duration": -95,
    "start_time": "2022-02-20T01:29:28.736Z"
   },
   {
    "duration": -97,
    "start_time": "2022-02-20T01:29:28.740Z"
   },
   {
    "duration": -99,
    "start_time": "2022-02-20T01:29:28.743Z"
   },
   {
    "duration": -101,
    "start_time": "2022-02-20T01:29:28.746Z"
   },
   {
    "duration": -103,
    "start_time": "2022-02-20T01:29:28.749Z"
   },
   {
    "duration": -107,
    "start_time": "2022-02-20T01:29:28.753Z"
   },
   {
    "duration": -109,
    "start_time": "2022-02-20T01:29:28.756Z"
   },
   {
    "duration": 4,
    "start_time": "2022-02-20T01:35:51.244Z"
   },
   {
    "duration": 4,
    "start_time": "2022-02-20T01:36:09.873Z"
   },
   {
    "duration": 11,
    "start_time": "2022-02-20T01:40:43.559Z"
   },
   {
    "duration": 9,
    "start_time": "2022-02-20T01:41:25.710Z"
   },
   {
    "duration": 118,
    "start_time": "2022-02-20T01:54:47.986Z"
   },
   {
    "duration": 104,
    "start_time": "2022-02-20T01:54:59.551Z"
   },
   {
    "duration": 5,
    "start_time": "2022-02-20T01:55:10.487Z"
   },
   {
    "duration": 40,
    "start_time": "2022-02-20T01:56:24.979Z"
   },
   {
    "duration": 14,
    "start_time": "2022-02-20T01:58:16.347Z"
   },
   {
    "duration": 2,
    "start_time": "2022-02-20T01:59:19.641Z"
   },
   {
    "duration": 11,
    "start_time": "2022-02-20T01:59:51.100Z"
   },
   {
    "duration": 11,
    "start_time": "2022-02-20T02:01:15.522Z"
   },
   {
    "duration": 12,
    "start_time": "2022-02-20T02:01:40.968Z"
   },
   {
    "duration": 4,
    "start_time": "2022-02-20T02:06:43.874Z"
   },
   {
    "duration": 15,
    "start_time": "2022-02-20T02:06:49.127Z"
   },
   {
    "duration": 13,
    "start_time": "2022-02-20T02:06:55.912Z"
   },
   {
    "duration": 16,
    "start_time": "2022-02-20T02:06:59.254Z"
   },
   {
    "duration": 13,
    "start_time": "2022-02-20T02:07:01.822Z"
   },
   {
    "duration": 17,
    "start_time": "2022-02-20T02:08:36.566Z"
   },
   {
    "duration": 3,
    "start_time": "2022-02-20T02:09:43.088Z"
   },
   {
    "duration": 16,
    "start_time": "2022-02-20T02:09:46.115Z"
   },
   {
    "duration": 3,
    "start_time": "2022-02-20T02:10:45.915Z"
   },
   {
    "duration": 707,
    "start_time": "2022-02-20T02:10:49.389Z"
   },
   {
    "duration": 4,
    "start_time": "2022-02-20T02:12:41.841Z"
   },
   {
    "duration": 17,
    "start_time": "2022-02-20T02:12:46.077Z"
   },
   {
    "duration": 3,
    "start_time": "2022-02-20T02:13:38.419Z"
   },
   {
    "duration": 15,
    "start_time": "2022-02-20T02:13:40.786Z"
   },
   {
    "duration": 3,
    "start_time": "2022-02-20T02:13:48.146Z"
   },
   {
    "duration": 17,
    "start_time": "2022-02-20T02:13:50.977Z"
   },
   {
    "duration": 4,
    "start_time": "2022-02-20T02:18:41.981Z"
   },
   {
    "duration": 16,
    "start_time": "2022-02-20T02:18:49.268Z"
   },
   {
    "duration": 3,
    "start_time": "2022-02-20T02:19:45.127Z"
   },
   {
    "duration": 726,
    "start_time": "2022-02-20T02:19:47.823Z"
   },
   {
    "duration": 4,
    "start_time": "2022-02-20T02:19:57.848Z"
   },
   {
    "duration": 16,
    "start_time": "2022-02-20T02:20:00.562Z"
   },
   {
    "duration": 4,
    "start_time": "2022-02-20T02:20:47.993Z"
   },
   {
    "duration": 15,
    "start_time": "2022-02-20T02:20:50.942Z"
   },
   {
    "duration": 3,
    "start_time": "2022-02-20T02:30:09.779Z"
   },
   {
    "duration": 15,
    "start_time": "2022-02-20T02:30:12.797Z"
   },
   {
    "duration": 16,
    "start_time": "2022-02-20T02:31:20.885Z"
   },
   {
    "duration": 15,
    "start_time": "2022-02-20T02:31:32.384Z"
   },
   {
    "duration": 3,
    "start_time": "2022-02-20T02:34:32.834Z"
   },
   {
    "duration": 23,
    "start_time": "2022-02-20T02:34:36.149Z"
   },
   {
    "duration": 16,
    "start_time": "2022-02-20T02:34:51.624Z"
   },
   {
    "duration": 24,
    "start_time": "2022-02-20T02:35:01.132Z"
   },
   {
    "duration": 18,
    "start_time": "2022-02-20T02:35:11.011Z"
   },
   {
    "duration": 4,
    "start_time": "2022-02-20T02:48:08.074Z"
   },
   {
    "duration": 7990,
    "start_time": "2022-02-20T02:48:11.688Z"
   },
   {
    "duration": 7655,
    "start_time": "2022-02-20T02:48:19.835Z"
   },
   {
    "duration": 4,
    "start_time": "2022-02-20T02:48:57.023Z"
   },
   {
    "duration": 7842,
    "start_time": "2022-02-20T02:49:02.014Z"
   },
   {
    "duration": 8867,
    "start_time": "2022-02-20T02:49:14.057Z"
   },
   {
    "duration": 4,
    "start_time": "2022-02-20T02:50:41.853Z"
   },
   {
    "duration": 23,
    "start_time": "2022-02-20T02:50:45.292Z"
   },
   {
    "duration": 17,
    "start_time": "2022-02-20T02:50:53.126Z"
   },
   {
    "duration": 23,
    "start_time": "2022-02-20T02:51:10.355Z"
   },
   {
    "duration": 17,
    "start_time": "2022-02-20T02:51:13.984Z"
   },
   {
    "duration": 19,
    "start_time": "2022-02-20T02:51:39.636Z"
   },
   {
    "duration": 22,
    "start_time": "2022-02-20T02:51:43.801Z"
   },
   {
    "duration": 17,
    "start_time": "2022-02-20T02:51:47.354Z"
   },
   {
    "duration": 22,
    "start_time": "2022-02-20T02:51:51.280Z"
   },
   {
    "duration": 17,
    "start_time": "2022-02-20T02:51:54.069Z"
   },
   {
    "duration": 3,
    "start_time": "2022-02-20T02:53:23.468Z"
   },
   {
    "duration": 22,
    "start_time": "2022-02-20T02:53:28.853Z"
   },
   {
    "duration": 17,
    "start_time": "2022-02-20T02:53:33.850Z"
   },
   {
    "duration": 22,
    "start_time": "2022-02-20T02:53:38.362Z"
   },
   {
    "duration": 18,
    "start_time": "2022-02-20T02:53:42.711Z"
   },
   {
    "duration": 9,
    "start_time": "2022-02-20T03:00:03.165Z"
   },
   {
    "duration": 5,
    "start_time": "2022-02-20T03:00:28.076Z"
   },
   {
    "duration": 307,
    "start_time": "2022-02-20T03:01:05.616Z"
   },
   {
    "duration": 8,
    "start_time": "2022-02-20T03:01:26.620Z"
   },
   {
    "duration": 5,
    "start_time": "2022-02-20T03:02:09.471Z"
   },
   {
    "duration": 4,
    "start_time": "2022-02-20T03:02:29.303Z"
   },
   {
    "duration": 726,
    "start_time": "2022-03-01T12:44:39.366Z"
   },
   {
    "duration": 131,
    "start_time": "2022-03-01T12:44:40.094Z"
   },
   {
    "duration": 18,
    "start_time": "2022-03-01T12:44:40.227Z"
   },
   {
    "duration": 23,
    "start_time": "2022-03-01T12:44:40.247Z"
   },
   {
    "duration": 4,
    "start_time": "2022-03-01T12:44:40.271Z"
   },
   {
    "duration": 24,
    "start_time": "2022-03-01T12:44:40.276Z"
   },
   {
    "duration": 3,
    "start_time": "2022-03-01T12:44:40.302Z"
   },
   {
    "duration": 51,
    "start_time": "2022-03-01T12:44:40.307Z"
   },
   {
    "duration": 18,
    "start_time": "2022-03-01T12:44:40.361Z"
   },
   {
    "duration": 22,
    "start_time": "2022-03-01T12:44:40.381Z"
   },
   {
    "duration": 81,
    "start_time": "2022-03-01T12:44:40.404Z"
   },
   {
    "duration": 79,
    "start_time": "2022-03-01T12:44:40.487Z"
   },
   {
    "duration": 49,
    "start_time": "2022-03-01T12:44:40.568Z"
   },
   {
    "duration": 47,
    "start_time": "2022-03-01T12:44:40.619Z"
   },
   {
    "duration": 3,
    "start_time": "2022-03-01T12:44:40.668Z"
   },
   {
    "duration": 21,
    "start_time": "2022-03-01T12:44:40.672Z"
   },
   {
    "duration": 55,
    "start_time": "2022-03-01T12:44:40.695Z"
   },
   {
    "duration": 10,
    "start_time": "2022-03-01T12:44:40.752Z"
   },
   {
    "duration": 10,
    "start_time": "2022-03-01T12:44:40.764Z"
   },
   {
    "duration": 4,
    "start_time": "2022-03-01T12:44:40.775Z"
   },
   {
    "duration": 23,
    "start_time": "2022-03-01T12:44:40.780Z"
   },
   {
    "duration": 39,
    "start_time": "2022-03-01T12:44:40.805Z"
   },
   {
    "duration": 15,
    "start_time": "2022-03-01T12:44:40.847Z"
   },
   {
    "duration": 16,
    "start_time": "2022-03-01T12:44:40.863Z"
   },
   {
    "duration": 18,
    "start_time": "2022-03-01T12:44:40.881Z"
   },
   {
    "duration": 13,
    "start_time": "2022-03-01T12:44:40.900Z"
   },
   {
    "duration": 4,
    "start_time": "2022-03-01T12:44:40.938Z"
   },
   {
    "duration": 14,
    "start_time": "2022-03-01T12:44:40.944Z"
   },
   {
    "duration": 8,
    "start_time": "2022-03-01T12:44:40.960Z"
   },
   {
    "duration": 4,
    "start_time": "2022-03-01T12:44:40.969Z"
   },
   {
    "duration": 27,
    "start_time": "2022-03-01T12:44:40.974Z"
   },
   {
    "duration": 41,
    "start_time": "2022-03-01T12:44:41.003Z"
   },
   {
    "duration": 21,
    "start_time": "2022-03-01T12:44:41.046Z"
   },
   {
    "duration": 16,
    "start_time": "2022-03-01T12:44:41.069Z"
   },
   {
    "duration": 7,
    "start_time": "2022-03-01T12:44:41.086Z"
   },
   {
    "duration": 4,
    "start_time": "2022-03-01T12:44:41.094Z"
   },
   {
    "duration": 7,
    "start_time": "2022-03-01T12:44:41.099Z"
   },
   {
    "duration": 31,
    "start_time": "2022-03-01T12:44:41.108Z"
   },
   {
    "duration": 263,
    "start_time": "2022-03-05T16:05:30.677Z"
   },
   {
    "duration": 221,
    "start_time": "2022-03-05T16:07:52.107Z"
   },
   {
    "duration": 618,
    "start_time": "2022-03-05T16:08:27.065Z"
   },
   {
    "duration": 153,
    "start_time": "2022-03-05T16:08:27.685Z"
   },
   {
    "duration": 3,
    "start_time": "2022-03-05T16:08:39.672Z"
   },
   {
    "duration": 150,
    "start_time": "2022-03-05T16:08:39.677Z"
   },
   {
    "duration": 3,
    "start_time": "2022-03-05T16:10:02.362Z"
   },
   {
    "duration": 224,
    "start_time": "2022-03-05T16:10:02.367Z"
   },
   {
    "duration": 20,
    "start_time": "2022-03-05T16:10:08.055Z"
   },
   {
    "duration": 10,
    "start_time": "2022-03-05T16:11:28.517Z"
   },
   {
    "duration": 48,
    "start_time": "2022-03-05T16:12:06.684Z"
   },
   {
    "duration": 12,
    "start_time": "2022-03-05T16:13:10.058Z"
   },
   {
    "duration": 4,
    "start_time": "2022-03-05T16:13:31.678Z"
   },
   {
    "duration": 4,
    "start_time": "2022-03-05T16:18:49.676Z"
   },
   {
    "duration": 4,
    "start_time": "2022-03-05T16:18:55.119Z"
   },
   {
    "duration": 235,
    "start_time": "2022-03-05T16:19:04.585Z"
   },
   {
    "duration": 4,
    "start_time": "2022-03-05T16:20:10.735Z"
   },
   {
    "duration": 213,
    "start_time": "2022-03-05T16:20:18.723Z"
   },
   {
    "duration": 4,
    "start_time": "2022-03-05T16:26:18.852Z"
   },
   {
    "duration": 214,
    "start_time": "2022-03-05T16:26:26.756Z"
   },
   {
    "duration": 272,
    "start_time": "2022-03-05T16:26:33.320Z"
   },
   {
    "duration": 210,
    "start_time": "2022-03-05T16:27:14.323Z"
   },
   {
    "duration": 3,
    "start_time": "2022-03-05T16:27:35.335Z"
   },
   {
    "duration": 184,
    "start_time": "2022-03-05T16:27:35.340Z"
   },
   {
    "duration": 11,
    "start_time": "2022-03-05T16:27:35.526Z"
   },
   {
    "duration": 31,
    "start_time": "2022-03-05T16:27:35.539Z"
   },
   {
    "duration": 6,
    "start_time": "2022-03-05T16:27:35.571Z"
   },
   {
    "duration": 41,
    "start_time": "2022-03-05T16:27:35.579Z"
   },
   {
    "duration": 10,
    "start_time": "2022-03-05T16:27:35.622Z"
   },
   {
    "duration": 31,
    "start_time": "2022-03-05T16:27:35.634Z"
   },
   {
    "duration": 34,
    "start_time": "2022-03-05T16:27:35.667Z"
   },
   {
    "duration": 26,
    "start_time": "2022-03-05T16:27:35.704Z"
   },
   {
    "duration": 80,
    "start_time": "2022-03-05T16:27:35.733Z"
   },
   {
    "duration": 70,
    "start_time": "2022-03-05T16:27:35.815Z"
   },
   {
    "duration": 66,
    "start_time": "2022-03-05T16:27:35.887Z"
   },
   {
    "duration": 56,
    "start_time": "2022-03-05T16:27:35.955Z"
   },
   {
    "duration": 4,
    "start_time": "2022-03-05T16:27:36.013Z"
   },
   {
    "duration": 37,
    "start_time": "2022-03-05T16:27:36.019Z"
   },
   {
    "duration": 52,
    "start_time": "2022-03-05T16:27:36.059Z"
   },
   {
    "duration": 12,
    "start_time": "2022-03-05T16:27:36.114Z"
   },
   {
    "duration": 14,
    "start_time": "2022-03-05T16:27:36.131Z"
   },
   {
    "duration": 3,
    "start_time": "2022-03-05T16:27:36.148Z"
   },
   {
    "duration": 55,
    "start_time": "2022-03-05T16:27:36.153Z"
   },
   {
    "duration": 17,
    "start_time": "2022-03-05T16:27:36.210Z"
   },
   {
    "duration": 21,
    "start_time": "2022-03-05T16:27:36.228Z"
   },
   {
    "duration": 20,
    "start_time": "2022-03-05T16:27:36.250Z"
   },
   {
    "duration": 37,
    "start_time": "2022-03-05T16:27:36.272Z"
   },
   {
    "duration": 16,
    "start_time": "2022-03-05T16:27:36.310Z"
   },
   {
    "duration": 16,
    "start_time": "2022-03-05T16:27:36.327Z"
   },
   {
    "duration": 14,
    "start_time": "2022-03-05T16:27:36.344Z"
   },
   {
    "duration": 15,
    "start_time": "2022-03-05T16:27:36.360Z"
   },
   {
    "duration": 4,
    "start_time": "2022-03-05T16:27:36.377Z"
   },
   {
    "duration": 457,
    "start_time": "2022-03-05T16:27:36.383Z"
   },
   {
    "duration": 1397,
    "start_time": "2022-03-05T16:27:35.445Z"
   },
   {
    "duration": 1393,
    "start_time": "2022-03-05T16:27:35.450Z"
   },
   {
    "duration": 1388,
    "start_time": "2022-03-05T16:27:35.456Z"
   },
   {
    "duration": 1384,
    "start_time": "2022-03-05T16:27:35.462Z"
   },
   {
    "duration": 1379,
    "start_time": "2022-03-05T16:27:35.468Z"
   },
   {
    "duration": 1376,
    "start_time": "2022-03-05T16:27:35.472Z"
   },
   {
    "duration": 1371,
    "start_time": "2022-03-05T16:27:35.478Z"
   },
   {
    "duration": 3,
    "start_time": "2022-03-05T16:29:59.201Z"
   },
   {
    "duration": 172,
    "start_time": "2022-03-05T16:29:59.206Z"
   },
   {
    "duration": 30,
    "start_time": "2022-03-05T16:29:59.380Z"
   },
   {
    "duration": 32,
    "start_time": "2022-03-05T16:29:59.412Z"
   },
   {
    "duration": 4,
    "start_time": "2022-03-05T16:29:59.446Z"
   },
   {
    "duration": 25,
    "start_time": "2022-03-05T16:29:59.452Z"
   },
   {
    "duration": 4,
    "start_time": "2022-03-05T16:29:59.480Z"
   },
   {
    "duration": 24,
    "start_time": "2022-03-05T16:29:59.502Z"
   },
   {
    "duration": 21,
    "start_time": "2022-03-05T16:29:59.528Z"
   },
   {
    "duration": 53,
    "start_time": "2022-03-05T16:29:59.550Z"
   },
   {
    "duration": 62,
    "start_time": "2022-03-05T16:29:59.604Z"
   },
   {
    "duration": 87,
    "start_time": "2022-03-05T16:29:59.668Z"
   },
   {
    "duration": 63,
    "start_time": "2022-03-05T16:29:59.757Z"
   },
   {
    "duration": 44,
    "start_time": "2022-03-05T16:29:59.823Z"
   },
   {
    "duration": 3,
    "start_time": "2022-03-05T16:29:59.870Z"
   },
   {
    "duration": 43,
    "start_time": "2022-03-05T16:29:59.875Z"
   },
   {
    "duration": 43,
    "start_time": "2022-03-05T16:29:59.921Z"
   },
   {
    "duration": 39,
    "start_time": "2022-03-05T16:29:59.967Z"
   },
   {
    "duration": 13,
    "start_time": "2022-03-05T16:30:00.011Z"
   },
   {
    "duration": 11,
    "start_time": "2022-03-05T16:30:00.027Z"
   },
   {
    "duration": 30,
    "start_time": "2022-03-05T16:30:00.041Z"
   },
   {
    "duration": 30,
    "start_time": "2022-03-05T16:30:00.073Z"
   },
   {
    "duration": 18,
    "start_time": "2022-03-05T16:30:00.105Z"
   },
   {
    "duration": 24,
    "start_time": "2022-03-05T16:30:00.125Z"
   },
   {
    "duration": 22,
    "start_time": "2022-03-05T16:30:00.151Z"
   },
   {
    "duration": 36,
    "start_time": "2022-03-05T16:30:00.175Z"
   },
   {
    "duration": 15,
    "start_time": "2022-03-05T16:30:00.213Z"
   },
   {
    "duration": 25,
    "start_time": "2022-03-05T16:30:00.230Z"
   },
   {
    "duration": 15,
    "start_time": "2022-03-05T16:30:00.257Z"
   },
   {
    "duration": 9,
    "start_time": "2022-03-05T16:30:00.274Z"
   },
   {
    "duration": 493,
    "start_time": "2022-03-05T16:30:00.285Z"
   },
   {
    "duration": 1353,
    "start_time": "2022-03-05T16:29:59.428Z"
   },
   {
    "duration": 1350,
    "start_time": "2022-03-05T16:29:59.432Z"
   },
   {
    "duration": 1347,
    "start_time": "2022-03-05T16:29:59.436Z"
   },
   {
    "duration": 1344,
    "start_time": "2022-03-05T16:29:59.440Z"
   },
   {
    "duration": 1340,
    "start_time": "2022-03-05T16:29:59.445Z"
   },
   {
    "duration": 1337,
    "start_time": "2022-03-05T16:29:59.449Z"
   },
   {
    "duration": 1334,
    "start_time": "2022-03-05T16:29:59.453Z"
   },
   {
    "duration": 4,
    "start_time": "2022-03-05T16:30:32.149Z"
   },
   {
    "duration": 192,
    "start_time": "2022-03-05T16:30:32.155Z"
   },
   {
    "duration": 13,
    "start_time": "2022-03-05T16:30:32.349Z"
   },
   {
    "duration": 44,
    "start_time": "2022-03-05T16:30:32.364Z"
   },
   {
    "duration": 6,
    "start_time": "2022-03-05T16:30:32.411Z"
   },
   {
    "duration": 27,
    "start_time": "2022-03-05T16:30:32.420Z"
   },
   {
    "duration": 3,
    "start_time": "2022-03-05T16:30:32.451Z"
   },
   {
    "duration": 44,
    "start_time": "2022-03-05T16:30:32.458Z"
   },
   {
    "duration": 28,
    "start_time": "2022-03-05T16:30:32.505Z"
   },
   {
    "duration": 40,
    "start_time": "2022-03-05T16:30:32.535Z"
   },
   {
    "duration": 67,
    "start_time": "2022-03-05T16:30:32.578Z"
   },
   {
    "duration": 84,
    "start_time": "2022-03-05T16:30:32.648Z"
   },
   {
    "duration": 57,
    "start_time": "2022-03-05T16:30:32.734Z"
   },
   {
    "duration": 44,
    "start_time": "2022-03-05T16:30:32.803Z"
   },
   {
    "duration": 5,
    "start_time": "2022-03-05T16:30:32.849Z"
   },
   {
    "duration": 33,
    "start_time": "2022-03-05T16:30:32.856Z"
   },
   {
    "duration": 47,
    "start_time": "2022-03-05T16:30:32.902Z"
   },
   {
    "duration": 54,
    "start_time": "2022-03-05T16:30:32.951Z"
   },
   {
    "duration": 40,
    "start_time": "2022-03-05T16:30:33.008Z"
   },
   {
    "duration": 20,
    "start_time": "2022-03-05T16:30:33.050Z"
   },
   {
    "duration": 37,
    "start_time": "2022-03-05T16:30:33.073Z"
   },
   {
    "duration": 16,
    "start_time": "2022-03-05T16:30:33.112Z"
   },
   {
    "duration": 19,
    "start_time": "2022-03-05T16:30:33.130Z"
   },
   {
    "duration": 22,
    "start_time": "2022-03-05T16:30:33.151Z"
   },
   {
    "duration": 38,
    "start_time": "2022-03-05T16:30:33.174Z"
   },
   {
    "duration": 20,
    "start_time": "2022-03-05T16:30:33.214Z"
   },
   {
    "duration": 14,
    "start_time": "2022-03-05T16:30:33.235Z"
   },
   {
    "duration": 25,
    "start_time": "2022-03-05T16:30:33.251Z"
   },
   {
    "duration": 36,
    "start_time": "2022-03-05T16:30:33.278Z"
   },
   {
    "duration": 16,
    "start_time": "2022-03-05T16:30:33.316Z"
   },
   {
    "duration": 75,
    "start_time": "2022-03-05T16:30:33.334Z"
   },
   {
    "duration": 25,
    "start_time": "2022-03-05T16:30:33.411Z"
   },
   {
    "duration": 40,
    "start_time": "2022-03-05T16:30:33.438Z"
   },
   {
    "duration": 24,
    "start_time": "2022-03-05T16:30:33.480Z"
   },
   {
    "duration": 9,
    "start_time": "2022-03-05T16:30:33.506Z"
   },
   {
    "duration": 17,
    "start_time": "2022-03-05T16:30:33.517Z"
   },
   {
    "duration": 15,
    "start_time": "2022-03-05T16:30:33.536Z"
   },
   {
    "duration": 7,
    "start_time": "2022-03-05T16:30:33.554Z"
   },
   {
    "duration": 4,
    "start_time": "2022-03-05T16:33:34.905Z"
   },
   {
    "duration": 458,
    "start_time": "2022-03-05T16:33:42.099Z"
   },
   {
    "duration": 4,
    "start_time": "2022-03-05T16:34:08.220Z"
   },
   {
    "duration": 26,
    "start_time": "2022-03-05T16:34:14.877Z"
   },
   {
    "duration": 4,
    "start_time": "2022-03-05T16:35:15.955Z"
   },
   {
    "duration": 474,
    "start_time": "2022-03-05T16:35:20.146Z"
   },
   {
    "duration": 5,
    "start_time": "2022-03-05T16:35:35.013Z"
   },
   {
    "duration": 27,
    "start_time": "2022-03-05T16:35:39.744Z"
   },
   {
    "duration": 5,
    "start_time": "2022-03-05T16:42:52.412Z"
   },
   {
    "duration": 491,
    "start_time": "2022-03-05T16:42:57.971Z"
   },
   {
    "duration": 6,
    "start_time": "2022-03-05T16:54:15.265Z"
   },
   {
    "duration": 457,
    "start_time": "2022-03-05T16:54:21.419Z"
   },
   {
    "duration": 5,
    "start_time": "2022-03-05T16:55:17.145Z"
   },
   {
    "duration": 3,
    "start_time": "2022-03-05T16:55:24.384Z"
   },
   {
    "duration": 176,
    "start_time": "2022-03-05T16:55:24.392Z"
   },
   {
    "duration": 12,
    "start_time": "2022-03-05T16:55:24.571Z"
   },
   {
    "duration": 26,
    "start_time": "2022-03-05T16:55:24.601Z"
   },
   {
    "duration": 21,
    "start_time": "2022-03-05T16:55:24.630Z"
   },
   {
    "duration": 34,
    "start_time": "2022-03-05T16:55:24.653Z"
   },
   {
    "duration": 7,
    "start_time": "2022-03-05T16:55:24.689Z"
   },
   {
    "duration": 41,
    "start_time": "2022-03-05T16:55:24.698Z"
   },
   {
    "duration": 26,
    "start_time": "2022-03-05T16:55:24.741Z"
   },
   {
    "duration": 25,
    "start_time": "2022-03-05T16:55:24.770Z"
   },
   {
    "duration": 64,
    "start_time": "2022-03-05T16:55:24.797Z"
   },
   {
    "duration": 78,
    "start_time": "2022-03-05T16:55:24.862Z"
   },
   {
    "duration": 64,
    "start_time": "2022-03-05T16:55:24.942Z"
   },
   {
    "duration": 44,
    "start_time": "2022-03-05T16:55:25.008Z"
   },
   {
    "duration": 8,
    "start_time": "2022-03-05T16:55:25.053Z"
   },
   {
    "duration": 40,
    "start_time": "2022-03-05T16:55:25.062Z"
   },
   {
    "duration": 59,
    "start_time": "2022-03-05T16:55:25.104Z"
   },
   {
    "duration": 18,
    "start_time": "2022-03-05T16:55:25.165Z"
   },
   {
    "duration": 31,
    "start_time": "2022-03-05T16:55:25.185Z"
   },
   {
    "duration": 27,
    "start_time": "2022-03-05T16:55:25.218Z"
   },
   {
    "duration": 52,
    "start_time": "2022-03-05T16:55:25.247Z"
   },
   {
    "duration": 34,
    "start_time": "2022-03-05T16:55:25.301Z"
   },
   {
    "duration": 28,
    "start_time": "2022-03-05T16:55:25.337Z"
   },
   {
    "duration": 26,
    "start_time": "2022-03-05T16:55:25.367Z"
   },
   {
    "duration": 27,
    "start_time": "2022-03-05T16:55:25.395Z"
   },
   {
    "duration": 26,
    "start_time": "2022-03-05T16:55:25.425Z"
   },
   {
    "duration": 12,
    "start_time": "2022-03-05T16:55:25.453Z"
   },
   {
    "duration": 34,
    "start_time": "2022-03-05T16:55:25.470Z"
   },
   {
    "duration": 20,
    "start_time": "2022-03-05T16:55:25.506Z"
   },
   {
    "duration": 18,
    "start_time": "2022-03-05T16:55:25.528Z"
   },
   {
    "duration": 500,
    "start_time": "2022-03-05T16:55:25.548Z"
   },
   {
    "duration": 1457,
    "start_time": "2022-03-05T16:55:24.593Z"
   },
   {
    "duration": 1414,
    "start_time": "2022-03-05T16:55:24.637Z"
   },
   {
    "duration": 1411,
    "start_time": "2022-03-05T16:55:24.642Z"
   },
   {
    "duration": 1408,
    "start_time": "2022-03-05T16:55:24.646Z"
   },
   {
    "duration": 1405,
    "start_time": "2022-03-05T16:55:24.650Z"
   },
   {
    "duration": 1402,
    "start_time": "2022-03-05T16:55:24.654Z"
   },
   {
    "duration": 1399,
    "start_time": "2022-03-05T16:55:24.658Z"
   },
   {
    "duration": 4,
    "start_time": "2022-03-05T16:56:52.389Z"
   },
   {
    "duration": 237,
    "start_time": "2022-03-05T16:56:52.396Z"
   },
   {
    "duration": 17,
    "start_time": "2022-03-05T16:56:52.636Z"
   },
   {
    "duration": 41,
    "start_time": "2022-03-05T16:56:52.655Z"
   },
   {
    "duration": 7,
    "start_time": "2022-03-05T16:56:52.698Z"
   },
   {
    "duration": 23,
    "start_time": "2022-03-05T16:56:52.707Z"
   },
   {
    "duration": 7,
    "start_time": "2022-03-05T16:56:52.733Z"
   },
   {
    "duration": 30,
    "start_time": "2022-03-05T16:56:52.742Z"
   },
   {
    "duration": 44,
    "start_time": "2022-03-05T16:56:52.774Z"
   },
   {
    "duration": 25,
    "start_time": "2022-03-05T16:56:52.821Z"
   },
   {
    "duration": 78,
    "start_time": "2022-03-05T16:56:52.848Z"
   },
   {
    "duration": 73,
    "start_time": "2022-03-05T16:56:52.928Z"
   },
   {
    "duration": 56,
    "start_time": "2022-03-05T16:56:53.003Z"
   },
   {
    "duration": 64,
    "start_time": "2022-03-05T16:56:53.062Z"
   },
   {
    "duration": 3,
    "start_time": "2022-03-05T16:56:53.128Z"
   },
   {
    "duration": 24,
    "start_time": "2022-03-05T16:56:53.133Z"
   },
   {
    "duration": 58,
    "start_time": "2022-03-05T16:56:53.159Z"
   },
   {
    "duration": 12,
    "start_time": "2022-03-05T16:56:53.219Z"
   },
   {
    "duration": 21,
    "start_time": "2022-03-05T16:56:53.235Z"
   },
   {
    "duration": 7,
    "start_time": "2022-03-05T16:56:53.260Z"
   },
   {
    "duration": 57,
    "start_time": "2022-03-05T16:56:53.270Z"
   },
   {
    "duration": 22,
    "start_time": "2022-03-05T16:56:53.329Z"
   },
   {
    "duration": 53,
    "start_time": "2022-03-05T16:56:53.354Z"
   },
   {
    "duration": 21,
    "start_time": "2022-03-05T16:56:53.409Z"
   },
   {
    "duration": 25,
    "start_time": "2022-03-05T16:56:53.433Z"
   },
   {
    "duration": 49,
    "start_time": "2022-03-05T16:56:53.460Z"
   },
   {
    "duration": 13,
    "start_time": "2022-03-05T16:56:53.511Z"
   },
   {
    "duration": 15,
    "start_time": "2022-03-05T16:56:53.527Z"
   },
   {
    "duration": 12,
    "start_time": "2022-03-05T16:56:53.544Z"
   },
   {
    "duration": 7,
    "start_time": "2022-03-05T16:56:53.559Z"
   },
   {
    "duration": 500,
    "start_time": "2022-03-05T16:56:53.569Z"
   },
   {
    "duration": 1488,
    "start_time": "2022-03-05T16:56:52.584Z"
   },
   {
    "duration": 1478,
    "start_time": "2022-03-05T16:56:52.595Z"
   },
   {
    "duration": 1477,
    "start_time": "2022-03-05T16:56:52.598Z"
   },
   {
    "duration": 1474,
    "start_time": "2022-03-05T16:56:52.603Z"
   },
   {
    "duration": 1473,
    "start_time": "2022-03-05T16:56:52.606Z"
   },
   {
    "duration": 1470,
    "start_time": "2022-03-05T16:56:52.610Z"
   },
   {
    "duration": 1468,
    "start_time": "2022-03-05T16:56:52.614Z"
   },
   {
    "duration": 3,
    "start_time": "2022-03-05T16:58:30.007Z"
   },
   {
    "duration": 192,
    "start_time": "2022-03-05T16:58:30.013Z"
   },
   {
    "duration": 14,
    "start_time": "2022-03-05T16:58:30.207Z"
   },
   {
    "duration": 30,
    "start_time": "2022-03-05T16:58:30.223Z"
   },
   {
    "duration": 12,
    "start_time": "2022-03-05T16:58:30.255Z"
   },
   {
    "duration": 47,
    "start_time": "2022-03-05T16:58:30.269Z"
   },
   {
    "duration": 15,
    "start_time": "2022-03-05T16:58:30.319Z"
   },
   {
    "duration": 37,
    "start_time": "2022-03-05T16:58:30.336Z"
   },
   {
    "duration": 28,
    "start_time": "2022-03-05T16:58:30.375Z"
   },
   {
    "duration": 24,
    "start_time": "2022-03-05T16:58:30.405Z"
   },
   {
    "duration": 80,
    "start_time": "2022-03-05T16:58:30.431Z"
   },
   {
    "duration": 72,
    "start_time": "2022-03-05T16:58:30.513Z"
   },
   {
    "duration": 70,
    "start_time": "2022-03-05T16:58:30.587Z"
   },
   {
    "duration": 63,
    "start_time": "2022-03-05T16:58:30.659Z"
   },
   {
    "duration": 4,
    "start_time": "2022-03-05T16:58:30.724Z"
   },
   {
    "duration": 36,
    "start_time": "2022-03-05T16:58:30.730Z"
   },
   {
    "duration": 87,
    "start_time": "2022-03-05T16:58:30.769Z"
   },
   {
    "duration": 17,
    "start_time": "2022-03-05T16:58:30.859Z"
   },
   {
    "duration": 29,
    "start_time": "2022-03-05T16:58:30.881Z"
   },
   {
    "duration": 13,
    "start_time": "2022-03-05T16:58:30.913Z"
   },
   {
    "duration": 42,
    "start_time": "2022-03-05T16:58:30.928Z"
   },
   {
    "duration": 20,
    "start_time": "2022-03-05T16:58:30.972Z"
   },
   {
    "duration": 23,
    "start_time": "2022-03-05T16:58:30.994Z"
   },
   {
    "duration": 25,
    "start_time": "2022-03-05T16:58:31.020Z"
   },
   {
    "duration": 27,
    "start_time": "2022-03-05T16:58:31.048Z"
   },
   {
    "duration": 39,
    "start_time": "2022-03-05T16:58:31.077Z"
   },
   {
    "duration": 15,
    "start_time": "2022-03-05T16:58:31.119Z"
   },
   {
    "duration": 34,
    "start_time": "2022-03-05T16:58:31.137Z"
   },
   {
    "duration": 68,
    "start_time": "2022-03-05T16:58:31.174Z"
   },
   {
    "duration": 60,
    "start_time": "2022-03-05T16:58:31.244Z"
   },
   {
    "duration": 55,
    "start_time": "2022-03-05T16:58:31.306Z"
   },
   {
    "duration": 30,
    "start_time": "2022-03-05T16:58:31.363Z"
   },
   {
    "duration": 66,
    "start_time": "2022-03-05T16:58:31.395Z"
   },
   {
    "duration": 22,
    "start_time": "2022-03-05T16:58:31.464Z"
   },
   {
    "duration": 34,
    "start_time": "2022-03-05T16:58:31.488Z"
   },
   {
    "duration": 22,
    "start_time": "2022-03-05T16:58:31.524Z"
   },
   {
    "duration": 25,
    "start_time": "2022-03-05T16:58:31.548Z"
   },
   {
    "duration": 23,
    "start_time": "2022-03-05T16:58:31.575Z"
   },
   {
    "duration": 107,
    "start_time": "2022-03-05T17:57:18.012Z"
   },
   {
    "duration": 71,
    "start_time": "2022-03-05T17:57:55.096Z"
   },
   {
    "duration": 3,
    "start_time": "2022-03-05T17:58:35.783Z"
   },
   {
    "duration": 175,
    "start_time": "2022-03-05T17:58:35.788Z"
   },
   {
    "duration": 11,
    "start_time": "2022-03-05T17:58:35.965Z"
   },
   {
    "duration": 39,
    "start_time": "2022-03-05T17:58:35.978Z"
   },
   {
    "duration": 11,
    "start_time": "2022-03-05T17:58:36.019Z"
   },
   {
    "duration": 31,
    "start_time": "2022-03-05T17:58:36.032Z"
   },
   {
    "duration": 3,
    "start_time": "2022-03-05T17:58:36.065Z"
   },
   {
    "duration": 36,
    "start_time": "2022-03-05T17:58:36.070Z"
   },
   {
    "duration": 21,
    "start_time": "2022-03-05T17:58:36.109Z"
   },
   {
    "duration": 25,
    "start_time": "2022-03-05T17:58:36.132Z"
   },
   {
    "duration": 78,
    "start_time": "2022-03-05T17:58:36.159Z"
   },
   {
    "duration": 78,
    "start_time": "2022-03-05T17:58:36.239Z"
   },
   {
    "duration": 55,
    "start_time": "2022-03-05T17:58:36.319Z"
   },
   {
    "duration": 55,
    "start_time": "2022-03-05T17:58:36.376Z"
   },
   {
    "duration": 3,
    "start_time": "2022-03-05T17:58:36.433Z"
   },
   {
    "duration": 29,
    "start_time": "2022-03-05T17:58:36.438Z"
   },
   {
    "duration": 54,
    "start_time": "2022-03-05T17:58:36.469Z"
   },
   {
    "duration": 21,
    "start_time": "2022-03-05T17:58:36.525Z"
   },
   {
    "duration": 13,
    "start_time": "2022-03-05T17:58:36.548Z"
   },
   {
    "duration": 4,
    "start_time": "2022-03-05T17:58:36.563Z"
   },
   {
    "duration": 33,
    "start_time": "2022-03-05T17:58:36.569Z"
   },
   {
    "duration": 16,
    "start_time": "2022-03-05T17:58:36.604Z"
   },
   {
    "duration": 17,
    "start_time": "2022-03-05T17:58:36.622Z"
   },
   {
    "duration": 18,
    "start_time": "2022-03-05T17:58:36.641Z"
   },
   {
    "duration": 51,
    "start_time": "2022-03-05T17:58:36.661Z"
   },
   {
    "duration": 15,
    "start_time": "2022-03-05T17:58:36.714Z"
   },
   {
    "duration": 9,
    "start_time": "2022-03-05T17:58:36.733Z"
   },
   {
    "duration": 15,
    "start_time": "2022-03-05T17:58:36.744Z"
   },
   {
    "duration": 42,
    "start_time": "2022-03-05T17:58:36.761Z"
   },
   {
    "duration": 68,
    "start_time": "2022-03-05T17:58:36.805Z"
   },
   {
    "duration": 1615,
    "start_time": "2022-03-05T17:58:35.260Z"
   },
   {
    "duration": 1613,
    "start_time": "2022-03-05T17:58:35.263Z"
   },
   {
    "duration": 1594,
    "start_time": "2022-03-05T17:58:35.284Z"
   },
   {
    "duration": 1590,
    "start_time": "2022-03-05T17:58:35.289Z"
   },
   {
    "duration": 1587,
    "start_time": "2022-03-05T17:58:35.293Z"
   },
   {
    "duration": 1581,
    "start_time": "2022-03-05T17:58:35.300Z"
   },
   {
    "duration": 1576,
    "start_time": "2022-03-05T17:58:35.306Z"
   },
   {
    "duration": 1573,
    "start_time": "2022-03-05T17:58:35.310Z"
   },
   {
    "duration": 6,
    "start_time": "2022-03-05T18:00:04.370Z"
   },
   {
    "duration": 485,
    "start_time": "2022-03-05T18:00:09.981Z"
   },
   {
    "duration": 5,
    "start_time": "2022-03-05T18:37:07.187Z"
   },
   {
    "duration": 20,
    "start_time": "2022-03-05T18:37:12.548Z"
   },
   {
    "duration": 15,
    "start_time": "2022-03-05T18:37:19.761Z"
   },
   {
    "duration": 14,
    "start_time": "2022-03-05T18:37:29.426Z"
   },
   {
    "duration": 3,
    "start_time": "2022-03-05T18:38:56.027Z"
   },
   {
    "duration": 186,
    "start_time": "2022-03-05T18:38:56.033Z"
   },
   {
    "duration": 12,
    "start_time": "2022-03-05T18:38:56.222Z"
   },
   {
    "duration": 31,
    "start_time": "2022-03-05T18:38:56.237Z"
   },
   {
    "duration": 5,
    "start_time": "2022-03-05T18:38:56.270Z"
   },
   {
    "duration": 21,
    "start_time": "2022-03-05T18:38:56.302Z"
   },
   {
    "duration": 4,
    "start_time": "2022-03-05T18:38:56.326Z"
   },
   {
    "duration": 29,
    "start_time": "2022-03-05T18:38:56.333Z"
   },
   {
    "duration": 45,
    "start_time": "2022-03-05T18:38:56.364Z"
   },
   {
    "duration": 24,
    "start_time": "2022-03-05T18:38:56.411Z"
   },
   {
    "duration": 79,
    "start_time": "2022-03-05T18:38:56.437Z"
   },
   {
    "duration": 70,
    "start_time": "2022-03-05T18:38:56.519Z"
   },
   {
    "duration": 65,
    "start_time": "2022-03-05T18:38:56.591Z"
   },
   {
    "duration": 57,
    "start_time": "2022-03-05T18:38:56.658Z"
   },
   {
    "duration": 3,
    "start_time": "2022-03-05T18:38:56.716Z"
   },
   {
    "duration": 24,
    "start_time": "2022-03-05T18:38:56.721Z"
   },
   {
    "duration": 64,
    "start_time": "2022-03-05T18:38:56.747Z"
   },
   {
    "duration": 13,
    "start_time": "2022-03-05T18:38:56.814Z"
   },
   {
    "duration": 12,
    "start_time": "2022-03-05T18:38:56.830Z"
   },
   {
    "duration": 4,
    "start_time": "2022-03-05T18:38:56.844Z"
   },
   {
    "duration": 51,
    "start_time": "2022-03-05T18:38:56.850Z"
   },
   {
    "duration": 15,
    "start_time": "2022-03-05T18:38:56.904Z"
   },
   {
    "duration": 16,
    "start_time": "2022-03-05T18:38:56.921Z"
   },
   {
    "duration": 15,
    "start_time": "2022-03-05T18:38:56.939Z"
   },
   {
    "duration": 47,
    "start_time": "2022-03-05T18:38:56.956Z"
   },
   {
    "duration": 15,
    "start_time": "2022-03-05T18:38:57.006Z"
   },
   {
    "duration": 10,
    "start_time": "2022-03-05T18:38:57.023Z"
   },
   {
    "duration": 14,
    "start_time": "2022-03-05T18:38:57.035Z"
   },
   {
    "duration": 11,
    "start_time": "2022-03-05T18:38:57.051Z"
   },
   {
    "duration": 37,
    "start_time": "2022-03-05T18:38:57.064Z"
   },
   {
    "duration": 30,
    "start_time": "2022-03-05T18:38:57.103Z"
   },
   {
    "duration": 15,
    "start_time": "2022-03-05T18:38:57.135Z"
   },
   {
    "duration": 27,
    "start_time": "2022-03-05T18:38:57.153Z"
   },
   {
    "duration": 27,
    "start_time": "2022-03-05T18:38:57.182Z"
   },
   {
    "duration": 9,
    "start_time": "2022-03-05T18:38:57.211Z"
   },
   {
    "duration": 10,
    "start_time": "2022-03-05T18:38:57.222Z"
   },
   {
    "duration": 13,
    "start_time": "2022-03-05T18:38:57.234Z"
   },
   {
    "duration": 9,
    "start_time": "2022-03-05T18:38:57.249Z"
   },
   {
    "duration": 3,
    "start_time": "2022-03-05T18:44:32.207Z"
   },
   {
    "duration": 213,
    "start_time": "2022-03-05T18:44:32.212Z"
   },
   {
    "duration": 12,
    "start_time": "2022-03-05T18:44:32.427Z"
   },
   {
    "duration": 61,
    "start_time": "2022-03-05T18:44:32.442Z"
   },
   {
    "duration": 7,
    "start_time": "2022-03-05T18:44:32.505Z"
   },
   {
    "duration": 50,
    "start_time": "2022-03-05T18:44:32.514Z"
   },
   {
    "duration": 10,
    "start_time": "2022-03-05T18:44:32.567Z"
   },
   {
    "duration": 37,
    "start_time": "2022-03-05T18:44:32.580Z"
   },
   {
    "duration": 37,
    "start_time": "2022-03-05T18:44:32.619Z"
   },
   {
    "duration": 37,
    "start_time": "2022-03-05T18:44:32.658Z"
   },
   {
    "duration": 67,
    "start_time": "2022-03-05T18:44:32.697Z"
   },
   {
    "duration": 82,
    "start_time": "2022-03-05T18:44:32.766Z"
   },
   {
    "duration": 69,
    "start_time": "2022-03-05T18:44:32.850Z"
   },
   {
    "duration": 45,
    "start_time": "2022-03-05T18:44:32.921Z"
   },
   {
    "duration": 3,
    "start_time": "2022-03-05T18:44:32.968Z"
   },
   {
    "duration": 45,
    "start_time": "2022-03-05T18:44:32.973Z"
   },
   {
    "duration": 44,
    "start_time": "2022-03-05T18:44:33.020Z"
   },
   {
    "duration": 13,
    "start_time": "2022-03-05T18:44:33.066Z"
   },
   {
    "duration": 13,
    "start_time": "2022-03-05T18:44:33.103Z"
   },
   {
    "duration": 14,
    "start_time": "2022-03-05T18:44:33.118Z"
   },
   {
    "duration": 30,
    "start_time": "2022-03-05T18:44:33.135Z"
   },
   {
    "duration": 17,
    "start_time": "2022-03-05T18:44:33.167Z"
   },
   {
    "duration": 18,
    "start_time": "2022-03-05T18:44:33.201Z"
   },
   {
    "duration": 16,
    "start_time": "2022-03-05T18:44:33.221Z"
   },
   {
    "duration": 20,
    "start_time": "2022-03-05T18:44:33.239Z"
   },
   {
    "duration": 47,
    "start_time": "2022-03-05T18:44:33.261Z"
   },
   {
    "duration": 10,
    "start_time": "2022-03-05T18:44:33.310Z"
   },
   {
    "duration": 20,
    "start_time": "2022-03-05T18:44:33.322Z"
   },
   {
    "duration": 20,
    "start_time": "2022-03-05T18:44:33.345Z"
   },
   {
    "duration": 4,
    "start_time": "2022-03-05T18:44:33.401Z"
   },
   {
    "duration": 27,
    "start_time": "2022-03-05T18:44:33.407Z"
   },
   {
    "duration": 26,
    "start_time": "2022-03-05T18:44:33.437Z"
   },
   {
    "duration": 43,
    "start_time": "2022-03-05T18:44:33.465Z"
   },
   {
    "duration": 15,
    "start_time": "2022-03-05T18:44:33.509Z"
   },
   {
    "duration": 11,
    "start_time": "2022-03-05T18:44:33.525Z"
   },
   {
    "duration": 6,
    "start_time": "2022-03-05T18:44:33.538Z"
   },
   {
    "duration": 14,
    "start_time": "2022-03-05T18:44:33.546Z"
   },
   {
    "duration": 37,
    "start_time": "2022-03-05T18:44:33.563Z"
   },
   {
    "duration": 65,
    "start_time": "2022-03-06T07:13:27.613Z"
   },
   {
    "duration": 559,
    "start_time": "2022-03-06T07:13:49.363Z"
   },
   {
    "duration": 145,
    "start_time": "2022-03-06T07:13:49.923Z"
   },
   {
    "duration": 16,
    "start_time": "2022-03-06T07:13:50.070Z"
   },
   {
    "duration": 29,
    "start_time": "2022-03-06T07:13:50.088Z"
   },
   {
    "duration": 20,
    "start_time": "2022-03-06T07:13:50.119Z"
   },
   {
    "duration": 22,
    "start_time": "2022-03-06T07:13:50.141Z"
   },
   {
    "duration": 7,
    "start_time": "2022-03-06T07:13:50.165Z"
   },
   {
    "duration": 25,
    "start_time": "2022-03-06T07:13:50.175Z"
   },
   {
    "duration": 44,
    "start_time": "2022-03-06T07:13:50.203Z"
   },
   {
    "duration": 25,
    "start_time": "2022-03-06T07:13:50.249Z"
   },
   {
    "duration": 81,
    "start_time": "2022-03-06T07:13:50.276Z"
   },
   {
    "duration": 81,
    "start_time": "2022-03-06T07:13:50.359Z"
   },
   {
    "duration": 53,
    "start_time": "2022-03-06T07:13:50.442Z"
   },
   {
    "duration": 57,
    "start_time": "2022-03-06T07:13:50.497Z"
   },
   {
    "duration": 3,
    "start_time": "2022-03-06T07:13:50.557Z"
   },
   {
    "duration": 24,
    "start_time": "2022-03-06T07:13:50.562Z"
   },
   {
    "duration": 57,
    "start_time": "2022-03-06T07:13:50.588Z"
   },
   {
    "duration": 12,
    "start_time": "2022-03-06T07:13:50.647Z"
   },
   {
    "duration": 12,
    "start_time": "2022-03-06T07:13:50.660Z"
   },
   {
    "duration": 4,
    "start_time": "2022-03-06T07:13:50.674Z"
   },
   {
    "duration": 27,
    "start_time": "2022-03-06T07:13:50.680Z"
   },
   {
    "duration": 40,
    "start_time": "2022-03-06T07:13:50.708Z"
   },
   {
    "duration": 15,
    "start_time": "2022-03-06T07:13:50.751Z"
   },
   {
    "duration": 14,
    "start_time": "2022-03-06T07:13:50.768Z"
   },
   {
    "duration": 17,
    "start_time": "2022-03-06T07:13:50.783Z"
   },
   {
    "duration": 43,
    "start_time": "2022-03-06T07:13:50.802Z"
   },
   {
    "duration": 8,
    "start_time": "2022-03-06T07:13:50.846Z"
   },
   {
    "duration": 10,
    "start_time": "2022-03-06T07:13:50.856Z"
   },
   {
    "duration": 9,
    "start_time": "2022-03-06T07:13:50.868Z"
   },
   {
    "duration": 6,
    "start_time": "2022-03-06T07:13:50.878Z"
   },
   {
    "duration": 22,
    "start_time": "2022-03-06T07:13:50.885Z"
   },
   {
    "duration": 38,
    "start_time": "2022-03-06T07:13:50.909Z"
   },
   {
    "duration": 19,
    "start_time": "2022-03-06T07:13:50.949Z"
   },
   {
    "duration": 12,
    "start_time": "2022-03-06T07:13:50.969Z"
   },
   {
    "duration": 8,
    "start_time": "2022-03-06T07:13:50.983Z"
   },
   {
    "duration": 4,
    "start_time": "2022-03-06T07:13:50.993Z"
   },
   {
    "duration": 43,
    "start_time": "2022-03-06T07:13:50.998Z"
   },
   {
    "duration": 5,
    "start_time": "2022-03-06T07:13:51.043Z"
   }
  ],
  "colab": {
   "collapsed_sections": [
    "E0vqbgi9ay0H",
    "VUC88oWjTJw2"
   ],
   "name": "yandex_music_project_2021.2.ipynb",
   "provenance": []
  },
  "kernelspec": {
   "display_name": "Python 3 (ipykernel)",
   "language": "python",
   "name": "python3"
  },
  "language_info": {
   "codemirror_mode": {
    "name": "ipython",
    "version": 3
   },
   "file_extension": ".py",
   "mimetype": "text/x-python",
   "name": "python",
   "nbconvert_exporter": "python",
   "pygments_lexer": "ipython3",
   "version": "3.9.7"
  },
  "toc": {
   "base_numbering": 1,
   "nav_menu": {},
   "number_sections": true,
   "sideBar": true,
   "skip_h1_title": true,
   "title_cell": "Table of Contents",
   "title_sidebar": "Contents",
   "toc_cell": false,
   "toc_position": {},
   "toc_section_display": true,
   "toc_window_display": true
  }
 },
 "nbformat": 4,
 "nbformat_minor": 1
}
