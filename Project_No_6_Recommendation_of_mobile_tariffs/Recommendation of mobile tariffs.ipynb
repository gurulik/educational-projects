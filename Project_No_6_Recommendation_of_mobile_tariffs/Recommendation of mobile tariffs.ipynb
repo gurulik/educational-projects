{
 "cells": [
  {
   "cell_type": "markdown",
   "metadata": {},
   "source": [
    "# Recommendation of mobile tariffs"
   ]
  },
  {
   "cell_type": "markdown",
   "metadata": {},
   "source": [
    "We have at our disposal data on the behavior of customers who have already switched to certain mobile tariffs. We need to build a model for the classification problem that will select the appropriate tariff. \n",
    "\n",
    "Let's build a model with the largest possible value of *accuracy*."
   ]
  },
  {
   "cell_type": "markdown",
   "metadata": {},
   "source": [
    "## Open and study data"
   ]
  },
  {
   "cell_type": "markdown",
   "metadata": {},
   "source": [
    "Import necessary libraries:"
   ]
  },
  {
   "cell_type": "code",
   "execution_count": 1,
   "metadata": {},
   "outputs": [],
   "source": [
    "import pandas as pd\n",
    "from sklearn.metrics import accuracy_score\n",
    "from sklearn.model_selection import train_test_split\n",
    "from sklearn.tree import DecisionTreeClassifier\n",
    "from sklearn.ensemble import RandomForestClassifier\n",
    "from sklearn.linear_model import LogisticRegression"
   ]
  },
  {
   "cell_type": "code",
   "execution_count": 2,
   "metadata": {},
   "outputs": [
    {
     "data": {
      "text/html": [
       "<div>\n",
       "<style scoped>\n",
       "    .dataframe tbody tr th:only-of-type {\n",
       "        vertical-align: middle;\n",
       "    }\n",
       "\n",
       "    .dataframe tbody tr th {\n",
       "        vertical-align: top;\n",
       "    }\n",
       "\n",
       "    .dataframe thead th {\n",
       "        text-align: right;\n",
       "    }\n",
       "</style>\n",
       "<table border=\"1\" class=\"dataframe\">\n",
       "  <thead>\n",
       "    <tr style=\"text-align: right;\">\n",
       "      <th></th>\n",
       "      <th>calls</th>\n",
       "      <th>minutes</th>\n",
       "      <th>messages</th>\n",
       "      <th>mb_used</th>\n",
       "      <th>is_ultra</th>\n",
       "    </tr>\n",
       "  </thead>\n",
       "  <tbody>\n",
       "    <tr>\n",
       "      <th>0</th>\n",
       "      <td>40.0</td>\n",
       "      <td>311.90</td>\n",
       "      <td>83.0</td>\n",
       "      <td>19915.42</td>\n",
       "      <td>0</td>\n",
       "    </tr>\n",
       "    <tr>\n",
       "      <th>1</th>\n",
       "      <td>85.0</td>\n",
       "      <td>516.75</td>\n",
       "      <td>56.0</td>\n",
       "      <td>22696.96</td>\n",
       "      <td>0</td>\n",
       "    </tr>\n",
       "    <tr>\n",
       "      <th>2</th>\n",
       "      <td>77.0</td>\n",
       "      <td>467.66</td>\n",
       "      <td>86.0</td>\n",
       "      <td>21060.45</td>\n",
       "      <td>0</td>\n",
       "    </tr>\n",
       "    <tr>\n",
       "      <th>3</th>\n",
       "      <td>106.0</td>\n",
       "      <td>745.53</td>\n",
       "      <td>81.0</td>\n",
       "      <td>8437.39</td>\n",
       "      <td>1</td>\n",
       "    </tr>\n",
       "    <tr>\n",
       "      <th>4</th>\n",
       "      <td>66.0</td>\n",
       "      <td>418.74</td>\n",
       "      <td>1.0</td>\n",
       "      <td>14502.75</td>\n",
       "      <td>0</td>\n",
       "    </tr>\n",
       "    <tr>\n",
       "      <th>...</th>\n",
       "      <td>...</td>\n",
       "      <td>...</td>\n",
       "      <td>...</td>\n",
       "      <td>...</td>\n",
       "      <td>...</td>\n",
       "    </tr>\n",
       "    <tr>\n",
       "      <th>3209</th>\n",
       "      <td>122.0</td>\n",
       "      <td>910.98</td>\n",
       "      <td>20.0</td>\n",
       "      <td>35124.90</td>\n",
       "      <td>1</td>\n",
       "    </tr>\n",
       "    <tr>\n",
       "      <th>3210</th>\n",
       "      <td>25.0</td>\n",
       "      <td>190.36</td>\n",
       "      <td>0.0</td>\n",
       "      <td>3275.61</td>\n",
       "      <td>0</td>\n",
       "    </tr>\n",
       "    <tr>\n",
       "      <th>3211</th>\n",
       "      <td>97.0</td>\n",
       "      <td>634.44</td>\n",
       "      <td>70.0</td>\n",
       "      <td>13974.06</td>\n",
       "      <td>0</td>\n",
       "    </tr>\n",
       "    <tr>\n",
       "      <th>3212</th>\n",
       "      <td>64.0</td>\n",
       "      <td>462.32</td>\n",
       "      <td>90.0</td>\n",
       "      <td>31239.78</td>\n",
       "      <td>0</td>\n",
       "    </tr>\n",
       "    <tr>\n",
       "      <th>3213</th>\n",
       "      <td>80.0</td>\n",
       "      <td>566.09</td>\n",
       "      <td>6.0</td>\n",
       "      <td>29480.52</td>\n",
       "      <td>1</td>\n",
       "    </tr>\n",
       "  </tbody>\n",
       "</table>\n",
       "<p>3214 rows × 5 columns</p>\n",
       "</div>"
      ],
      "text/plain": [
       "      calls  minutes  messages   mb_used  is_ultra\n",
       "0      40.0   311.90      83.0  19915.42         0\n",
       "1      85.0   516.75      56.0  22696.96         0\n",
       "2      77.0   467.66      86.0  21060.45         0\n",
       "3     106.0   745.53      81.0   8437.39         1\n",
       "4      66.0   418.74       1.0  14502.75         0\n",
       "...     ...      ...       ...       ...       ...\n",
       "3209  122.0   910.98      20.0  35124.90         1\n",
       "3210   25.0   190.36       0.0   3275.61         0\n",
       "3211   97.0   634.44      70.0  13974.06         0\n",
       "3212   64.0   462.32      90.0  31239.78         0\n",
       "3213   80.0   566.09       6.0  29480.52         1\n",
       "\n",
       "[3214 rows x 5 columns]"
      ]
     },
     "execution_count": 2,
     "metadata": {},
     "output_type": "execute_result"
    }
   ],
   "source": [
    "df = pd.read_csv('/Users/a1/Desktop/data_folder/users_behavior.csv')\n",
    "df"
   ]
  },
  {
   "cell_type": "markdown",
   "metadata": {},
   "source": [
    "Each object in the dataset is information about the behavior of one user per month:\n",
    "* сalls — calls amount,\n",
    "* minutes — summary duration of calls in minutes,\n",
    "* messages — sms amount,\n",
    "* mb_used — consumed internet traffic in MB,\n",
    "* is_ultra — the name of the tariff used during the month (\"Ultra\" — 1, \"Smart\" — 0)."
   ]
  },
  {
   "cell_type": "markdown",
   "metadata": {},
   "source": [
    "## Preparing datasets:"
   ]
  },
  {
   "cell_type": "markdown",
   "metadata": {},
   "source": [
    "To get three samples - training, validation and test in the ratio of 60%, 20%, 20% - apply the train_test_split function twice:"
   ]
  },
  {
   "cell_type": "code",
   "execution_count": 3,
   "metadata": {},
   "outputs": [],
   "source": [
    "df_train, temp_df = train_test_split(df, test_size = 0.4, random_state=12345)\n",
    "df_valid, df_test = train_test_split(temp_df, test_size = 0.5, random_state=12345)"
   ]
  },
  {
   "cell_type": "markdown",
   "metadata": {},
   "source": [
    "Separate features and target in each of the samples:"
   ]
  },
  {
   "cell_type": "code",
   "execution_count": 4,
   "metadata": {},
   "outputs": [],
   "source": [
    "features_train = df_train.drop(['is_ultra'], axis =1)\n",
    "target_train = df_train['is_ultra']\n",
    "features_valid = df_valid.drop(['is_ultra'], axis =1)\n",
    "target_valid = df_valid['is_ultra']\n",
    "features_test = df_test.drop(['is_ultra'], axis=1)\n",
    "target_test = df_test['is_ultra']"
   ]
  },
  {
   "cell_type": "markdown",
   "metadata": {},
   "source": [
    "## Study models"
   ]
  },
  {
   "cell_type": "markdown",
   "metadata": {},
   "source": [
    "### Decision tree:"
   ]
  },
  {
   "cell_type": "code",
   "execution_count": 5,
   "metadata": {},
   "outputs": [
    {
     "name": "stdout",
     "output_type": "stream",
     "text": [
      "Tree depth: 3\n",
      "Accuracy:  0.7853810264385692\n"
     ]
    }
   ],
   "source": [
    "result_tree = 0\n",
    "tree_depth = 0\n",
    "\n",
    "for value in range(1,6):\n",
    "    decision_tree_m = DecisionTreeClassifier(random_state=12345, max_depth = value)\n",
    "    decision_tree_m.fit(features_train, target_train)\n",
    "    decision_tree_m_predictions = decision_tree_m.predict(features_valid)\n",
    "    accuracy_decision_tree = accuracy_score(target_valid, decision_tree_m_predictions)\n",
    "    if accuracy_decision_tree > result_tree:\n",
    "        result_tree = accuracy_decision_tree\n",
    "        tree_depth = value\n",
    "\n",
    "print(\"Tree depth:\", tree_depth)\n",
    "print(\"Accuracy: \",result_tree)"
   ]
  },
  {
   "cell_type": "markdown",
   "metadata": {},
   "source": [
    "### Random forest:"
   ]
  },
  {
   "cell_type": "code",
   "execution_count": 6,
   "metadata": {},
   "outputs": [
    {
     "name": "stdout",
     "output_type": "stream",
     "text": [
      "Estimators amount: 6\n",
      "Accuracy:  0.7962674961119751\n"
     ]
    }
   ],
   "source": [
    "result_forest = 0\n",
    "result_est = 0\n",
    "\n",
    "for est in range(1,11):\n",
    "    forest_m = RandomForestClassifier(random_state=12345, n_estimators = est, min_samples_leaf=est)\n",
    "    forest_m.fit(features_train, target_train)\n",
    "    forest_m_predictions = forest_m.predict(features_valid)\n",
    "    accuracy_forest = accuracy_score(target_valid, forest_m_predictions)\n",
    "    if accuracy_forest > result_forest:\n",
    "        result_forest = accuracy_forest\n",
    "        result_est = est\n",
    "\n",
    "print(\"Estimators amount:\", result_est)\n",
    "print(\"Accuracy: \",result_forest)"
   ]
  },
  {
   "cell_type": "markdown",
   "metadata": {},
   "source": [
    "### Logistic regression:"
   ]
  },
  {
   "cell_type": "code",
   "execution_count": 7,
   "metadata": {},
   "outputs": [
    {
     "name": "stdout",
     "output_type": "stream",
     "text": [
      "Accuracy:  0.7107309486780715\n"
     ]
    }
   ],
   "source": [
    "lr_m = LogisticRegression(random_state=12345, solver='lbfgs', max_iter=1000)\n",
    "lr_m.fit(features_train, target_train)\n",
    "lr_m_predictions = lr_m.predict(features_valid)\n",
    "accuracy_lr_m = accuracy_score(target_valid, lr_m_predictions)\n",
    "print(\"Accuracy: \",accuracy_lr_m)"
   ]
  },
  {
   "cell_type": "markdown",
   "metadata": {},
   "source": [
    "Based on the data and classification models based on them, the \"Random Forest\" model showed the best results. It is worth noting that contrary to expectations, the results of the \"Decision Tree\" model turned out to be better than the \"Logical Regression\" model."
   ]
  },
  {
   "cell_type": "markdown",
   "metadata": {},
   "source": [
    "## Check model on test sample"
   ]
  },
  {
   "cell_type": "markdown",
   "metadata": {},
   "source": [
    "Check the best model on test sample:"
   ]
  },
  {
   "cell_type": "code",
   "execution_count": 8,
   "metadata": {},
   "outputs": [
    {
     "name": "stdout",
     "output_type": "stream",
     "text": [
      "0.7978227060653188\n"
     ]
    }
   ],
   "source": [
    "test_forest_m_predictions = forest_m.predict(features_test)\n",
    "accuracy_test_forest = accuracy_score(target_test, test_forest_m_predictions)\n",
    "print(accuracy_test_forest)"
   ]
  },
  {
   "cell_type": "markdown",
   "metadata": {},
   "source": [
    "## Check the models for adequacy"
   ]
  },
  {
   "cell_type": "code",
   "execution_count": 9,
   "metadata": {},
   "outputs": [
    {
     "name": "stdout",
     "output_type": "stream",
     "text": [
      "Effectiveness of a fictitious random model: 0.5303265940902022\n"
     ]
    }
   ],
   "source": [
    "from sklearn.dummy import DummyClassifier\n",
    "dummy_model = DummyClassifier(strategy='uniform', random_state=0)\n",
    "dummy_model.fit(features_train, target_train)\n",
    "predictions_dummy_test = dummy_model.predict(features_test)\n",
    "dummy_score = accuracy_score(target_test, predictions_dummy_test)\n",
    "print('Effectiveness of a fictitious random model:', dummy_score)"
   ]
  },
  {
   "cell_type": "markdown",
   "metadata": {},
   "source": [
    "## Conclusion"
   ]
  },
  {
   "cell_type": "markdown",
   "metadata": {},
   "source": [
    "Thus, the most effective model in the present case is the \"Random Forest\" model. The accuracy result on the test sample is higher than on the validation sample = 0.7978227060653188 and higher than the efficiency of the fictitious random model."
   ]
  }
 ],
 "metadata": {
  "ExecuteTimeLog": [
   {
    "duration": 1341,
    "start_time": "2022-07-25T18:01:22.931Z"
   },
   {
    "duration": 127,
    "start_time": "2022-07-25T18:02:52.274Z"
   },
   {
    "duration": 116,
    "start_time": "2022-07-25T19:00:36.142Z"
   },
   {
    "duration": 9,
    "start_time": "2022-07-25T19:01:16.064Z"
   },
   {
    "duration": 12,
    "start_time": "2022-07-25T19:01:33.243Z"
   },
   {
    "duration": 39,
    "start_time": "2022-07-25T19:01:33.257Z"
   },
   {
    "duration": 5,
    "start_time": "2022-07-25T19:01:33.298Z"
   },
   {
    "duration": 17,
    "start_time": "2022-07-25T19:07:30.929Z"
   },
   {
    "duration": 9,
    "start_time": "2022-07-25T19:16:27.861Z"
   },
   {
    "duration": 10,
    "start_time": "2022-07-25T19:16:48.247Z"
   },
   {
    "duration": 7,
    "start_time": "2022-07-25T19:18:26.707Z"
   },
   {
    "duration": 5,
    "start_time": "2022-07-25T19:19:10.116Z"
   },
   {
    "duration": 49,
    "start_time": "2022-07-25T19:23:23.745Z"
   },
   {
    "duration": 3,
    "start_time": "2022-07-25T19:23:27.697Z"
   },
   {
    "duration": 3,
    "start_time": "2022-07-25T19:23:32.648Z"
   },
   {
    "duration": 45,
    "start_time": "2022-07-25T19:23:32.653Z"
   },
   {
    "duration": 5,
    "start_time": "2022-07-25T19:23:32.700Z"
   },
   {
    "duration": 8,
    "start_time": "2022-07-25T19:23:32.706Z"
   },
   {
    "duration": 63,
    "start_time": "2022-07-25T19:26:31.070Z"
   },
   {
    "duration": 49,
    "start_time": "2022-07-25T19:41:55.106Z"
   },
   {
    "duration": 17,
    "start_time": "2022-07-25T19:42:19.637Z"
   },
   {
    "duration": 13,
    "start_time": "2022-07-25T19:47:28.045Z"
   },
   {
    "duration": 14,
    "start_time": "2022-07-25T19:47:48.574Z"
   },
   {
    "duration": 12,
    "start_time": "2022-07-25T19:48:27.505Z"
   },
   {
    "duration": 4,
    "start_time": "2022-07-25T19:48:35.396Z"
   },
   {
    "duration": 48,
    "start_time": "2022-07-25T19:48:35.401Z"
   },
   {
    "duration": 5,
    "start_time": "2022-07-25T19:48:35.451Z"
   },
   {
    "duration": 8,
    "start_time": "2022-07-25T19:48:35.458Z"
   },
   {
    "duration": 39,
    "start_time": "2022-07-25T19:48:35.467Z"
   },
   {
    "duration": 2,
    "start_time": "2022-07-25T19:48:35.508Z"
   },
   {
    "duration": 11,
    "start_time": "2022-07-25T19:48:35.523Z"
   },
   {
    "duration": 7,
    "start_time": "2022-07-25T20:01:32.006Z"
   },
   {
    "duration": 6,
    "start_time": "2022-07-25T20:02:41.868Z"
   },
   {
    "duration": 15,
    "start_time": "2022-07-25T20:10:16.670Z"
   },
   {
    "duration": 32,
    "start_time": "2022-07-25T20:10:47.065Z"
   },
   {
    "duration": 50,
    "start_time": "2022-07-25T20:51:25.613Z"
   },
   {
    "duration": 9,
    "start_time": "2022-07-25T20:51:51.022Z"
   },
   {
    "duration": 10,
    "start_time": "2022-07-25T20:52:06.370Z"
   },
   {
    "duration": 250,
    "start_time": "2022-07-25T20:52:32.611Z"
   },
   {
    "duration": 31,
    "start_time": "2022-07-25T20:56:01.823Z"
   },
   {
    "duration": 254,
    "start_time": "2022-07-25T20:56:14.857Z"
   },
   {
    "duration": 23,
    "start_time": "2022-07-25T20:58:45.247Z"
   },
   {
    "duration": 267,
    "start_time": "2022-07-25T20:59:07.277Z"
   },
   {
    "duration": 739,
    "start_time": "2022-07-25T20:59:28.422Z"
   },
   {
    "duration": 81,
    "start_time": "2022-07-25T20:59:51.428Z"
   },
   {
    "duration": 104,
    "start_time": "2022-07-25T21:00:05.550Z"
   },
   {
    "duration": 221,
    "start_time": "2022-07-25T21:00:13.919Z"
   },
   {
    "duration": 64,
    "start_time": "2022-07-25T21:00:23.411Z"
   },
   {
    "duration": 25,
    "start_time": "2022-07-25T21:06:07.075Z"
   },
   {
    "duration": 26,
    "start_time": "2022-07-25T21:06:19.326Z"
   },
   {
    "duration": 25,
    "start_time": "2022-07-25T21:06:29.798Z"
   },
   {
    "duration": 25,
    "start_time": "2022-07-25T21:06:36.387Z"
   },
   {
    "duration": 27,
    "start_time": "2022-07-25T21:06:49.470Z"
   },
   {
    "duration": 25,
    "start_time": "2022-07-25T21:08:03.982Z"
   },
   {
    "duration": 31,
    "start_time": "2022-07-25T21:11:57.734Z"
   },
   {
    "duration": 8,
    "start_time": "2022-07-25T21:17:11.187Z"
   },
   {
    "duration": 8,
    "start_time": "2022-07-25T21:18:09.123Z"
   },
   {
    "duration": 3,
    "start_time": "2022-07-25T21:29:57.633Z"
   },
   {
    "duration": 3,
    "start_time": "2022-07-25T21:30:05.767Z"
   },
   {
    "duration": 48,
    "start_time": "2022-07-25T21:30:05.773Z"
   },
   {
    "duration": 8,
    "start_time": "2022-07-25T21:30:05.823Z"
   },
   {
    "duration": 7,
    "start_time": "2022-07-25T21:30:05.833Z"
   },
   {
    "duration": 33,
    "start_time": "2022-07-25T21:30:05.842Z"
   },
   {
    "duration": 249,
    "start_time": "2022-07-25T21:30:05.876Z"
   },
   {
    "duration": 23,
    "start_time": "2022-07-25T21:30:06.127Z"
   },
   {
    "duration": 8,
    "start_time": "2022-07-25T21:30:06.151Z"
   },
   {
    "duration": 3,
    "start_time": "2022-07-25T21:30:06.160Z"
   },
   {
    "duration": 7,
    "start_time": "2022-07-25T21:36:38.695Z"
   },
   {
    "duration": 7,
    "start_time": "2022-07-25T21:37:16.396Z"
   },
   {
    "duration": 7,
    "start_time": "2022-07-25T21:37:37.658Z"
   },
   {
    "duration": 4,
    "start_time": "2022-07-25T21:39:05.036Z"
   },
   {
    "duration": 44,
    "start_time": "2022-07-25T21:39:05.043Z"
   },
   {
    "duration": 5,
    "start_time": "2022-07-25T21:39:05.089Z"
   },
   {
    "duration": 8,
    "start_time": "2022-07-25T21:39:05.096Z"
   },
   {
    "duration": 32,
    "start_time": "2022-07-25T21:39:05.106Z"
   },
   {
    "duration": 244,
    "start_time": "2022-07-25T21:39:05.140Z"
   },
   {
    "duration": 23,
    "start_time": "2022-07-25T21:39:05.386Z"
   },
   {
    "duration": 21,
    "start_time": "2022-07-25T21:39:05.411Z"
   },
   {
    "duration": 8,
    "start_time": "2022-07-25T21:39:05.434Z"
   },
   {
    "duration": 1888,
    "start_time": "2022-07-26T08:37:28.567Z"
   },
   {
    "duration": 91,
    "start_time": "2022-07-26T08:37:30.457Z"
   },
   {
    "duration": 6,
    "start_time": "2022-07-26T08:37:30.549Z"
   },
   {
    "duration": 19,
    "start_time": "2022-07-26T08:37:30.556Z"
   },
   {
    "duration": 30,
    "start_time": "2022-07-26T08:37:30.577Z"
   },
   {
    "duration": 215,
    "start_time": "2022-07-26T08:37:30.609Z"
   },
   {
    "duration": 32,
    "start_time": "2022-07-26T08:37:30.825Z"
   },
   {
    "duration": 26,
    "start_time": "2022-07-26T08:37:30.859Z"
   },
   {
    "duration": 23,
    "start_time": "2022-07-26T08:37:30.886Z"
   },
   {
    "duration": 4,
    "start_time": "2022-07-26T08:37:45.162Z"
   },
   {
    "duration": 39,
    "start_time": "2022-07-26T08:37:45.600Z"
   },
   {
    "duration": 5,
    "start_time": "2022-07-26T08:37:49.995Z"
   },
   {
    "duration": 206,
    "start_time": "2022-07-26T08:37:53.513Z"
   },
   {
    "duration": 20,
    "start_time": "2022-07-26T08:37:54.386Z"
   },
   {
    "duration": 6,
    "start_time": "2022-07-26T08:37:57.929Z"
   },
   {
    "duration": 81,
    "start_time": "2022-07-26T11:16:40.140Z"
   }
  ],
  "kernelspec": {
   "display_name": "Python 3 (ipykernel)",
   "language": "python",
   "name": "python3"
  },
  "language_info": {
   "codemirror_mode": {
    "name": "ipython",
    "version": 3
   },
   "file_extension": ".py",
   "mimetype": "text/x-python",
   "name": "python",
   "nbconvert_exporter": "python",
   "pygments_lexer": "ipython3",
   "version": "3.9.7"
  },
  "toc": {
   "base_numbering": 1,
   "nav_menu": {},
   "number_sections": true,
   "sideBar": true,
   "skip_h1_title": true,
   "title_cell": "Table of Contents",
   "title_sidebar": "Contents",
   "toc_cell": false,
   "toc_position": {},
   "toc_section_display": true,
   "toc_window_display": false
  }
 },
 "nbformat": 4,
 "nbformat_minor": 2
}
