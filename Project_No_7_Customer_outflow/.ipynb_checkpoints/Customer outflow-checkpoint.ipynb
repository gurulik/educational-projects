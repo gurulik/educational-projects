{
 "cells": [
  {
   "cell_type": "markdown",
   "metadata": {},
   "source": [
    "# Customer outflow"
   ]
  },
  {
   "cell_type": "markdown",
   "metadata": {},
   "source": [
    "Customers began to leave the bank. Every month. A little, but noticeable. Bank marketers have calculated that it is cheaper to retain current customers than to attract new ones.\n",
    "\n",
    "We need to predict whether the client will leave the bank in the near future or not. We have been provided with historical data on customer behavior and termination of contracts with the bank. \n",
    "\n",
    "Let's build a model with an extremely large value of *F1*-measures. \n",
    "\n",
    "Data source: [https://www.kaggle.com/barelydedicated/bank-customer-churn-modeling](https://www.kaggle.com/barelydedicated/bank-customer-churn-modeling)"
   ]
  },
  {
   "cell_type": "markdown",
   "metadata": {},
   "source": [
    "## Data preparation"
   ]
  },
  {
   "cell_type": "markdown",
   "metadata": {},
   "source": [
    "### Libraries import:"
   ]
  },
  {
   "cell_type": "code",
   "execution_count": 2,
   "metadata": {},
   "outputs": [],
   "source": [
    "import pandas as pd\n",
    "import seaborn as sns\n",
    "from sklearn.model_selection import train_test_split\n",
    "from sklearn.linear_model import LogisticRegression\n",
    "from sklearn.tree import DecisionTreeClassifier\n",
    "from sklearn.ensemble import RandomForestClassifier\n",
    "from sklearn.preprocessing import StandardScaler\n",
    "from sklearn.metrics import accuracy_score\n",
    "from sklearn.metrics import recall_score\n",
    "from sklearn.metrics import confusion_matrix\n",
    "from sklearn.metrics import precision_score\n",
    "from sklearn.metrics import f1_score\n",
    "from sklearn.metrics import roc_curve\n",
    "from sklearn.metrics import roc_auc_score\n",
    "from sklearn.utils import shuffle\n",
    "from sklearn.model_selection import GridSearchCV"
   ]
  },
  {
   "cell_type": "code",
   "execution_count": 3,
   "metadata": {},
   "outputs": [],
   "source": [
    "data = pd.read_csv('/Users/a1/Desktop/data_folder/Churn.csv')"
   ]
  },
  {
   "cell_type": "markdown",
   "metadata": {},
   "source": [
    "### Primary data analysis:"
   ]
  },
  {
   "cell_type": "code",
   "execution_count": 4,
   "metadata": {},
   "outputs": [
    {
     "data": {
      "text/plain": [
       "(10000, 14)"
      ]
     },
     "execution_count": 4,
     "metadata": {},
     "output_type": "execute_result"
    }
   ],
   "source": [
    "data.shape"
   ]
  },
  {
   "cell_type": "code",
   "execution_count": 5,
   "metadata": {},
   "outputs": [
    {
     "data": {
      "text/html": [
       "<div>\n",
       "<style scoped>\n",
       "    .dataframe tbody tr th:only-of-type {\n",
       "        vertical-align: middle;\n",
       "    }\n",
       "\n",
       "    .dataframe tbody tr th {\n",
       "        vertical-align: top;\n",
       "    }\n",
       "\n",
       "    .dataframe thead th {\n",
       "        text-align: right;\n",
       "    }\n",
       "</style>\n",
       "<table border=\"1\" class=\"dataframe\">\n",
       "  <thead>\n",
       "    <tr style=\"text-align: right;\">\n",
       "      <th></th>\n",
       "      <th>RowNumber</th>\n",
       "      <th>CustomerId</th>\n",
       "      <th>Surname</th>\n",
       "      <th>CreditScore</th>\n",
       "      <th>Geography</th>\n",
       "      <th>Gender</th>\n",
       "      <th>Age</th>\n",
       "      <th>Tenure</th>\n",
       "      <th>Balance</th>\n",
       "      <th>NumOfProducts</th>\n",
       "      <th>HasCrCard</th>\n",
       "      <th>IsActiveMember</th>\n",
       "      <th>EstimatedSalary</th>\n",
       "      <th>Exited</th>\n",
       "    </tr>\n",
       "  </thead>\n",
       "  <tbody>\n",
       "    <tr>\n",
       "      <th>0</th>\n",
       "      <td>1</td>\n",
       "      <td>15634602</td>\n",
       "      <td>Hargrave</td>\n",
       "      <td>619</td>\n",
       "      <td>France</td>\n",
       "      <td>Female</td>\n",
       "      <td>42</td>\n",
       "      <td>2.0</td>\n",
       "      <td>0.00</td>\n",
       "      <td>1</td>\n",
       "      <td>1</td>\n",
       "      <td>1</td>\n",
       "      <td>101348.88</td>\n",
       "      <td>1</td>\n",
       "    </tr>\n",
       "    <tr>\n",
       "      <th>1</th>\n",
       "      <td>2</td>\n",
       "      <td>15647311</td>\n",
       "      <td>Hill</td>\n",
       "      <td>608</td>\n",
       "      <td>Spain</td>\n",
       "      <td>Female</td>\n",
       "      <td>41</td>\n",
       "      <td>1.0</td>\n",
       "      <td>83807.86</td>\n",
       "      <td>1</td>\n",
       "      <td>0</td>\n",
       "      <td>1</td>\n",
       "      <td>112542.58</td>\n",
       "      <td>0</td>\n",
       "    </tr>\n",
       "    <tr>\n",
       "      <th>2</th>\n",
       "      <td>3</td>\n",
       "      <td>15619304</td>\n",
       "      <td>Onio</td>\n",
       "      <td>502</td>\n",
       "      <td>France</td>\n",
       "      <td>Female</td>\n",
       "      <td>42</td>\n",
       "      <td>8.0</td>\n",
       "      <td>159660.80</td>\n",
       "      <td>3</td>\n",
       "      <td>1</td>\n",
       "      <td>0</td>\n",
       "      <td>113931.57</td>\n",
       "      <td>1</td>\n",
       "    </tr>\n",
       "    <tr>\n",
       "      <th>3</th>\n",
       "      <td>4</td>\n",
       "      <td>15701354</td>\n",
       "      <td>Boni</td>\n",
       "      <td>699</td>\n",
       "      <td>France</td>\n",
       "      <td>Female</td>\n",
       "      <td>39</td>\n",
       "      <td>1.0</td>\n",
       "      <td>0.00</td>\n",
       "      <td>2</td>\n",
       "      <td>0</td>\n",
       "      <td>0</td>\n",
       "      <td>93826.63</td>\n",
       "      <td>0</td>\n",
       "    </tr>\n",
       "    <tr>\n",
       "      <th>4</th>\n",
       "      <td>5</td>\n",
       "      <td>15737888</td>\n",
       "      <td>Mitchell</td>\n",
       "      <td>850</td>\n",
       "      <td>Spain</td>\n",
       "      <td>Female</td>\n",
       "      <td>43</td>\n",
       "      <td>2.0</td>\n",
       "      <td>125510.82</td>\n",
       "      <td>1</td>\n",
       "      <td>1</td>\n",
       "      <td>1</td>\n",
       "      <td>79084.10</td>\n",
       "      <td>0</td>\n",
       "    </tr>\n",
       "  </tbody>\n",
       "</table>\n",
       "</div>"
      ],
      "text/plain": [
       "   RowNumber  CustomerId   Surname  CreditScore Geography  Gender  Age  \\\n",
       "0          1    15634602  Hargrave          619    France  Female   42   \n",
       "1          2    15647311      Hill          608     Spain  Female   41   \n",
       "2          3    15619304      Onio          502    France  Female   42   \n",
       "3          4    15701354      Boni          699    France  Female   39   \n",
       "4          5    15737888  Mitchell          850     Spain  Female   43   \n",
       "\n",
       "   Tenure    Balance  NumOfProducts  HasCrCard  IsActiveMember  \\\n",
       "0     2.0       0.00              1          1               1   \n",
       "1     1.0   83807.86              1          0               1   \n",
       "2     8.0  159660.80              3          1               0   \n",
       "3     1.0       0.00              2          0               0   \n",
       "4     2.0  125510.82              1          1               1   \n",
       "\n",
       "   EstimatedSalary  Exited  \n",
       "0        101348.88       1  \n",
       "1        112542.58       0  \n",
       "2        113931.57       1  \n",
       "3         93826.63       0  \n",
       "4         79084.10       0  "
      ]
     },
     "execution_count": 5,
     "metadata": {},
     "output_type": "execute_result"
    }
   ],
   "source": [
    "data.head(5)"
   ]
  },
  {
   "cell_type": "code",
   "execution_count": 6,
   "metadata": {},
   "outputs": [
    {
     "name": "stdout",
     "output_type": "stream",
     "text": [
      "<class 'pandas.core.frame.DataFrame'>\n",
      "RangeIndex: 10000 entries, 0 to 9999\n",
      "Data columns (total 14 columns):\n",
      " #   Column           Non-Null Count  Dtype  \n",
      "---  ------           --------------  -----  \n",
      " 0   RowNumber        10000 non-null  int64  \n",
      " 1   CustomerId       10000 non-null  int64  \n",
      " 2   Surname          10000 non-null  object \n",
      " 3   CreditScore      10000 non-null  int64  \n",
      " 4   Geography        10000 non-null  object \n",
      " 5   Gender           10000 non-null  object \n",
      " 6   Age              10000 non-null  int64  \n",
      " 7   Tenure           9091 non-null   float64\n",
      " 8   Balance          10000 non-null  float64\n",
      " 9   NumOfProducts    10000 non-null  int64  \n",
      " 10  HasCrCard        10000 non-null  int64  \n",
      " 11  IsActiveMember   10000 non-null  int64  \n",
      " 12  EstimatedSalary  10000 non-null  float64\n",
      " 13  Exited           10000 non-null  int64  \n",
      "dtypes: float64(3), int64(8), object(3)\n",
      "memory usage: 1.1+ MB\n"
     ]
    }
   ],
   "source": [
    "data.info()"
   ]
  },
  {
   "cell_type": "code",
   "execution_count": 7,
   "metadata": {},
   "outputs": [
    {
     "data": {
      "text/plain": [
       "0"
      ]
     },
     "execution_count": 7,
     "metadata": {},
     "output_type": "execute_result"
    }
   ],
   "source": [
    "data.duplicated().sum()"
   ]
  },
  {
   "cell_type": "markdown",
   "metadata": {},
   "source": [
    "The initial analysis of the data showed:\n",
    "* incorrect column names - must be changed to lowercase;\n",
    "* the absence complete duplicates;\n",
    "* the presence of gaps in the Tenure column - it is necessary to process these gaps;\n",
    "* the presence of columns containing identifying customer data that do not affect the attribute in the Exited column (RowNumber, CustomerID, Surname) - they can be deleted;\n",
    "* there are signs that do not have numeric values (geography, gender) - they must be converted to numeric by OHE;\n",
    "* it is also necessary to scale the features (we will do this in step 3)."
   ]
  },
  {
   "cell_type": "markdown",
   "metadata": {},
   "source": [
    "### Data preparation, elimination of their deficiencies:"
   ]
  },
  {
   "cell_type": "code",
   "execution_count": 8,
   "metadata": {},
   "outputs": [
    {
     "data": {
      "text/html": [
       "<div>\n",
       "<style scoped>\n",
       "    .dataframe tbody tr th:only-of-type {\n",
       "        vertical-align: middle;\n",
       "    }\n",
       "\n",
       "    .dataframe tbody tr th {\n",
       "        vertical-align: top;\n",
       "    }\n",
       "\n",
       "    .dataframe thead th {\n",
       "        text-align: right;\n",
       "    }\n",
       "</style>\n",
       "<table border=\"1\" class=\"dataframe\">\n",
       "  <thead>\n",
       "    <tr style=\"text-align: right;\">\n",
       "      <th></th>\n",
       "      <th>rownumber</th>\n",
       "      <th>customerid</th>\n",
       "      <th>surname</th>\n",
       "      <th>creditscore</th>\n",
       "      <th>geography</th>\n",
       "      <th>gender</th>\n",
       "      <th>age</th>\n",
       "      <th>tenure</th>\n",
       "      <th>balance</th>\n",
       "      <th>numofproducts</th>\n",
       "      <th>hascrcard</th>\n",
       "      <th>isactivemember</th>\n",
       "      <th>estimatedsalary</th>\n",
       "      <th>exited</th>\n",
       "    </tr>\n",
       "  </thead>\n",
       "  <tbody>\n",
       "    <tr>\n",
       "      <th>0</th>\n",
       "      <td>1</td>\n",
       "      <td>15634602</td>\n",
       "      <td>Hargrave</td>\n",
       "      <td>619</td>\n",
       "      <td>France</td>\n",
       "      <td>Female</td>\n",
       "      <td>42</td>\n",
       "      <td>2.0</td>\n",
       "      <td>0.00</td>\n",
       "      <td>1</td>\n",
       "      <td>1</td>\n",
       "      <td>1</td>\n",
       "      <td>101348.88</td>\n",
       "      <td>1</td>\n",
       "    </tr>\n",
       "    <tr>\n",
       "      <th>1</th>\n",
       "      <td>2</td>\n",
       "      <td>15647311</td>\n",
       "      <td>Hill</td>\n",
       "      <td>608</td>\n",
       "      <td>Spain</td>\n",
       "      <td>Female</td>\n",
       "      <td>41</td>\n",
       "      <td>1.0</td>\n",
       "      <td>83807.86</td>\n",
       "      <td>1</td>\n",
       "      <td>0</td>\n",
       "      <td>1</td>\n",
       "      <td>112542.58</td>\n",
       "      <td>0</td>\n",
       "    </tr>\n",
       "    <tr>\n",
       "      <th>2</th>\n",
       "      <td>3</td>\n",
       "      <td>15619304</td>\n",
       "      <td>Onio</td>\n",
       "      <td>502</td>\n",
       "      <td>France</td>\n",
       "      <td>Female</td>\n",
       "      <td>42</td>\n",
       "      <td>8.0</td>\n",
       "      <td>159660.80</td>\n",
       "      <td>3</td>\n",
       "      <td>1</td>\n",
       "      <td>0</td>\n",
       "      <td>113931.57</td>\n",
       "      <td>1</td>\n",
       "    </tr>\n",
       "    <tr>\n",
       "      <th>3</th>\n",
       "      <td>4</td>\n",
       "      <td>15701354</td>\n",
       "      <td>Boni</td>\n",
       "      <td>699</td>\n",
       "      <td>France</td>\n",
       "      <td>Female</td>\n",
       "      <td>39</td>\n",
       "      <td>1.0</td>\n",
       "      <td>0.00</td>\n",
       "      <td>2</td>\n",
       "      <td>0</td>\n",
       "      <td>0</td>\n",
       "      <td>93826.63</td>\n",
       "      <td>0</td>\n",
       "    </tr>\n",
       "    <tr>\n",
       "      <th>4</th>\n",
       "      <td>5</td>\n",
       "      <td>15737888</td>\n",
       "      <td>Mitchell</td>\n",
       "      <td>850</td>\n",
       "      <td>Spain</td>\n",
       "      <td>Female</td>\n",
       "      <td>43</td>\n",
       "      <td>2.0</td>\n",
       "      <td>125510.82</td>\n",
       "      <td>1</td>\n",
       "      <td>1</td>\n",
       "      <td>1</td>\n",
       "      <td>79084.10</td>\n",
       "      <td>0</td>\n",
       "    </tr>\n",
       "  </tbody>\n",
       "</table>\n",
       "</div>"
      ],
      "text/plain": [
       "   rownumber  customerid   surname  creditscore geography  gender  age  \\\n",
       "0          1    15634602  Hargrave          619    France  Female   42   \n",
       "1          2    15647311      Hill          608     Spain  Female   41   \n",
       "2          3    15619304      Onio          502    France  Female   42   \n",
       "3          4    15701354      Boni          699    France  Female   39   \n",
       "4          5    15737888  Mitchell          850     Spain  Female   43   \n",
       "\n",
       "   tenure    balance  numofproducts  hascrcard  isactivemember  \\\n",
       "0     2.0       0.00              1          1               1   \n",
       "1     1.0   83807.86              1          0               1   \n",
       "2     8.0  159660.80              3          1               0   \n",
       "3     1.0       0.00              2          0               0   \n",
       "4     2.0  125510.82              1          1               1   \n",
       "\n",
       "   estimatedsalary  exited  \n",
       "0        101348.88       1  \n",
       "1        112542.58       0  \n",
       "2        113931.57       1  \n",
       "3         93826.63       0  \n",
       "4         79084.10       0  "
      ]
     },
     "execution_count": 8,
     "metadata": {},
     "output_type": "execute_result"
    }
   ],
   "source": [
    "data.columns = data.columns.str.lower()\n",
    "data.head(5)"
   ]
  },
  {
   "cell_type": "code",
   "execution_count": 9,
   "metadata": {
    "scrolled": true
   },
   "outputs": [
    {
     "data": {
      "text/html": [
       "<div>\n",
       "<style scoped>\n",
       "    .dataframe tbody tr th:only-of-type {\n",
       "        vertical-align: middle;\n",
       "    }\n",
       "\n",
       "    .dataframe tbody tr th {\n",
       "        vertical-align: top;\n",
       "    }\n",
       "\n",
       "    .dataframe thead th {\n",
       "        text-align: right;\n",
       "    }\n",
       "</style>\n",
       "<table border=\"1\" class=\"dataframe\">\n",
       "  <thead>\n",
       "    <tr style=\"text-align: right;\">\n",
       "      <th></th>\n",
       "      <th>creditscore</th>\n",
       "      <th>geography</th>\n",
       "      <th>gender</th>\n",
       "      <th>age</th>\n",
       "      <th>tenure</th>\n",
       "      <th>balance</th>\n",
       "      <th>numofproducts</th>\n",
       "      <th>hascrcard</th>\n",
       "      <th>isactivemember</th>\n",
       "      <th>estimatedsalary</th>\n",
       "      <th>exited</th>\n",
       "    </tr>\n",
       "  </thead>\n",
       "  <tbody>\n",
       "    <tr>\n",
       "      <th>0</th>\n",
       "      <td>619</td>\n",
       "      <td>France</td>\n",
       "      <td>Female</td>\n",
       "      <td>42</td>\n",
       "      <td>2.0</td>\n",
       "      <td>0.00</td>\n",
       "      <td>1</td>\n",
       "      <td>1</td>\n",
       "      <td>1</td>\n",
       "      <td>101348.88</td>\n",
       "      <td>1</td>\n",
       "    </tr>\n",
       "    <tr>\n",
       "      <th>1</th>\n",
       "      <td>608</td>\n",
       "      <td>Spain</td>\n",
       "      <td>Female</td>\n",
       "      <td>41</td>\n",
       "      <td>1.0</td>\n",
       "      <td>83807.86</td>\n",
       "      <td>1</td>\n",
       "      <td>0</td>\n",
       "      <td>1</td>\n",
       "      <td>112542.58</td>\n",
       "      <td>0</td>\n",
       "    </tr>\n",
       "    <tr>\n",
       "      <th>2</th>\n",
       "      <td>502</td>\n",
       "      <td>France</td>\n",
       "      <td>Female</td>\n",
       "      <td>42</td>\n",
       "      <td>8.0</td>\n",
       "      <td>159660.80</td>\n",
       "      <td>3</td>\n",
       "      <td>1</td>\n",
       "      <td>0</td>\n",
       "      <td>113931.57</td>\n",
       "      <td>1</td>\n",
       "    </tr>\n",
       "    <tr>\n",
       "      <th>3</th>\n",
       "      <td>699</td>\n",
       "      <td>France</td>\n",
       "      <td>Female</td>\n",
       "      <td>39</td>\n",
       "      <td>1.0</td>\n",
       "      <td>0.00</td>\n",
       "      <td>2</td>\n",
       "      <td>0</td>\n",
       "      <td>0</td>\n",
       "      <td>93826.63</td>\n",
       "      <td>0</td>\n",
       "    </tr>\n",
       "    <tr>\n",
       "      <th>4</th>\n",
       "      <td>850</td>\n",
       "      <td>Spain</td>\n",
       "      <td>Female</td>\n",
       "      <td>43</td>\n",
       "      <td>2.0</td>\n",
       "      <td>125510.82</td>\n",
       "      <td>1</td>\n",
       "      <td>1</td>\n",
       "      <td>1</td>\n",
       "      <td>79084.10</td>\n",
       "      <td>0</td>\n",
       "    </tr>\n",
       "  </tbody>\n",
       "</table>\n",
       "</div>"
      ],
      "text/plain": [
       "   creditscore geography  gender  age  tenure    balance  numofproducts  \\\n",
       "0          619    France  Female   42     2.0       0.00              1   \n",
       "1          608     Spain  Female   41     1.0   83807.86              1   \n",
       "2          502    France  Female   42     8.0  159660.80              3   \n",
       "3          699    France  Female   39     1.0       0.00              2   \n",
       "4          850     Spain  Female   43     2.0  125510.82              1   \n",
       "\n",
       "   hascrcard  isactivemember  estimatedsalary  exited  \n",
       "0          1               1        101348.88       1  \n",
       "1          0               1        112542.58       0  \n",
       "2          1               0        113931.57       1  \n",
       "3          0               0         93826.63       0  \n",
       "4          1               1         79084.10       0  "
      ]
     },
     "execution_count": 9,
     "metadata": {},
     "output_type": "execute_result"
    }
   ],
   "source": [
    "data = data.drop(['rownumber','customerid','surname'], axis=1)\n",
    "data.head()"
   ]
  },
  {
   "cell_type": "code",
   "execution_count": 10,
   "metadata": {},
   "outputs": [
    {
     "data": {
      "text/plain": [
       "count    9091.000000\n",
       "mean        4.997690\n",
       "std         2.894723\n",
       "min         0.000000\n",
       "25%         2.000000\n",
       "50%         5.000000\n",
       "75%         7.000000\n",
       "max        10.000000\n",
       "Name: tenure, dtype: float64"
      ]
     },
     "execution_count": 10,
     "metadata": {},
     "output_type": "execute_result"
    }
   ],
   "source": [
    "data['tenure'].describe()"
   ]
  },
  {
   "cell_type": "markdown",
   "metadata": {},
   "source": [
    "Since the tenure column reflects quantitative variables, let's fill in the gaps with the median:"
   ]
  },
  {
   "cell_type": "code",
   "execution_count": 11,
   "metadata": {},
   "outputs": [],
   "source": [
    "data['tenure'] = data['tenure'].fillna(5)"
   ]
  },
  {
   "cell_type": "code",
   "execution_count": 12,
   "metadata": {},
   "outputs": [
    {
     "data": {
      "text/plain": [
       "count    10000.00000\n",
       "mean         4.99790\n",
       "std          2.76001\n",
       "min          0.00000\n",
       "25%          3.00000\n",
       "50%          5.00000\n",
       "75%          7.00000\n",
       "max         10.00000\n",
       "Name: tenure, dtype: float64"
      ]
     },
     "execution_count": 12,
     "metadata": {},
     "output_type": "execute_result"
    }
   ],
   "source": [
    "data['tenure'].describe()"
   ]
  },
  {
   "cell_type": "markdown",
   "metadata": {},
   "source": [
    "Since the distribution of features has not changed, we conclude that the replacement with the median was successful."
   ]
  },
  {
   "cell_type": "markdown",
   "metadata": {},
   "source": [
    "Let's study the values in the geography and gender attributes:"
   ]
  },
  {
   "cell_type": "code",
   "execution_count": 13,
   "metadata": {},
   "outputs": [
    {
     "data": {
      "text/plain": [
       "array(['France', 'Spain', 'Germany'], dtype=object)"
      ]
     },
     "execution_count": 13,
     "metadata": {},
     "output_type": "execute_result"
    }
   ],
   "source": [
    "data['geography'].unique()"
   ]
  },
  {
   "cell_type": "code",
   "execution_count": 14,
   "metadata": {},
   "outputs": [
    {
     "data": {
      "text/plain": [
       "array(['Female', 'Male'], dtype=object)"
      ]
     },
     "execution_count": 14,
     "metadata": {},
     "output_type": "execute_result"
    }
   ],
   "source": [
    "data['gender'].unique()"
   ]
  },
  {
   "cell_type": "code",
   "execution_count": 15,
   "metadata": {},
   "outputs": [],
   "source": [
    "data_ohe = pd.get_dummies(data, drop_first=True)"
   ]
  },
  {
   "cell_type": "code",
   "execution_count": 16,
   "metadata": {},
   "outputs": [
    {
     "data": {
      "text/plain": [
       "Index(['creditscore', 'age', 'tenure', 'balance', 'numofproducts', 'hascrcard',\n",
       "       'isactivemember', 'estimatedsalary', 'exited', 'geography_Germany',\n",
       "       'geography_Spain', 'gender_Male'],\n",
       "      dtype='object')"
      ]
     },
     "execution_count": 16,
     "metadata": {},
     "output_type": "execute_result"
    }
   ],
   "source": [
    "data_ohe.columns"
   ]
  },
  {
   "cell_type": "code",
   "execution_count": 17,
   "metadata": {
    "scrolled": true
   },
   "outputs": [
    {
     "name": "stdout",
     "output_type": "stream",
     "text": [
      "<class 'pandas.core.frame.DataFrame'>\n",
      "RangeIndex: 10000 entries, 0 to 9999\n",
      "Data columns (total 12 columns):\n",
      " #   Column             Non-Null Count  Dtype  \n",
      "---  ------             --------------  -----  \n",
      " 0   creditscore        10000 non-null  int64  \n",
      " 1   age                10000 non-null  int64  \n",
      " 2   tenure             10000 non-null  float64\n",
      " 3   balance            10000 non-null  float64\n",
      " 4   numofproducts      10000 non-null  int64  \n",
      " 5   hascrcard          10000 non-null  int64  \n",
      " 6   isactivemember     10000 non-null  int64  \n",
      " 7   estimatedsalary    10000 non-null  float64\n",
      " 8   exited             10000 non-null  int64  \n",
      " 9   geography_Germany  10000 non-null  uint8  \n",
      " 10  geography_Spain    10000 non-null  uint8  \n",
      " 11  gender_Male        10000 non-null  uint8  \n",
      "dtypes: float64(3), int64(6), uint8(3)\n",
      "memory usage: 732.5 KB\n"
     ]
    }
   ],
   "source": [
    "data_ohe.info()"
   ]
  },
  {
   "cell_type": "markdown",
   "metadata": {},
   "source": [
    "## Task research:"
   ]
  },
  {
   "cell_type": "markdown",
   "metadata": {},
   "source": [
    "### Let's examine the balance of the target class in the exited column:"
   ]
  },
  {
   "cell_type": "code",
   "execution_count": 18,
   "metadata": {},
   "outputs": [
    {
     "data": {
      "text/plain": [
       "0    0.7963\n",
       "1    0.2037\n",
       "Name: exited, dtype: float64"
      ]
     },
     "execution_count": 18,
     "metadata": {},
     "output_type": "execute_result"
    }
   ],
   "source": [
    "data_ohe['exited'].value_counts(normalize=True)"
   ]
  },
  {
   "cell_type": "code",
   "execution_count": 19,
   "metadata": {
    "scrolled": true
   },
   "outputs": [
    {
     "name": "stderr",
     "output_type": "stream",
     "text": [
      "/opt/anaconda3/lib/python3.9/site-packages/seaborn/_decorators.py:36: FutureWarning: Pass the following variable as a keyword arg: x. From version 0.12, the only valid positional argument will be `data`, and passing other arguments without an explicit keyword will result in an error or misinterpretation.\n",
      "  warnings.warn(\n"
     ]
    },
    {
     "data": {
      "text/plain": [
       "[Text(0.5, 1.0, 'Distribution of classes')]"
      ]
     },
     "execution_count": 19,
     "metadata": {},
     "output_type": "execute_result"
    },
    {
     "data": {
      "image/png": "[encoded data removed]",
      "text/plain": [
       "<Figure size 432x288 with 1 Axes>"
      ]
     },
     "metadata": {
      "needs_background": "light"
     },
     "output_type": "display_data"
    }
   ],
   "source": [
    "sns.countplot(data_ohe['exited']).set(title='Distribution of classes')"
   ]
  },
  {
   "cell_type": "code",
   "execution_count": 20,
   "metadata": {},
   "outputs": [
    {
     "data": {
      "text/plain": [
       "0    0.7963\n",
       "1    0.2037\n",
       "Name: exited, dtype: float64"
      ]
     },
     "execution_count": 20,
     "metadata": {},
     "output_type": "execute_result"
    }
   ],
   "source": [
    "data['exited'].value_counts(normalize=True)"
   ]
  },
  {
   "cell_type": "markdown",
   "metadata": {},
   "source": [
    "Classes are unbalanced (approximate ratio of 4:1), this may negatively affect the training of the model."
   ]
  },
  {
   "cell_type": "markdown",
   "metadata": {},
   "source": [
    "### Training"
   ]
  },
  {
   "cell_type": "markdown",
   "metadata": {},
   "source": [
    "We will prepare 2 samples from the available data, namely: training and test. We will leave a 10% share for the test sample so that there is more training data for GridSearchCV."
   ]
  },
  {
   "cell_type": "code",
   "execution_count": 21,
   "metadata": {},
   "outputs": [],
   "source": [
    "target = data_ohe['exited']\n",
    "features = data_ohe.drop('exited', axis=1)\n",
    "features_train, features_test, target_train, target_test = train_test_split(\n",
    "    features, target, test_size=0.1, random_state=12345)"
   ]
  },
  {
   "cell_type": "markdown",
   "metadata": {},
   "source": [
    "### Since the values of the features are very scattered in their scale, we will scale them:"
   ]
  },
  {
   "cell_type": "code",
   "execution_count": 22,
   "metadata": {
    "scrolled": true
   },
   "outputs": [
    {
     "data": {
      "text/html": [
       "<div>\n",
       "<style scoped>\n",
       "    .dataframe tbody tr th:only-of-type {\n",
       "        vertical-align: middle;\n",
       "    }\n",
       "\n",
       "    .dataframe tbody tr th {\n",
       "        vertical-align: top;\n",
       "    }\n",
       "\n",
       "    .dataframe thead th {\n",
       "        text-align: right;\n",
       "    }\n",
       "</style>\n",
       "<table border=\"1\" class=\"dataframe\">\n",
       "  <thead>\n",
       "    <tr style=\"text-align: right;\">\n",
       "      <th></th>\n",
       "      <th>creditscore</th>\n",
       "      <th>age</th>\n",
       "      <th>tenure</th>\n",
       "      <th>balance</th>\n",
       "      <th>numofproducts</th>\n",
       "      <th>hascrcard</th>\n",
       "      <th>isactivemember</th>\n",
       "      <th>estimatedsalary</th>\n",
       "      <th>geography_Germany</th>\n",
       "      <th>geography_Spain</th>\n",
       "      <th>gender_Male</th>\n",
       "    </tr>\n",
       "  </thead>\n",
       "  <tbody>\n",
       "    <tr>\n",
       "      <th>4510</th>\n",
       "      <td>-0.410526</td>\n",
       "      <td>0.388104</td>\n",
       "      <td>1.451876</td>\n",
       "      <td>0.814958</td>\n",
       "      <td>0.808982</td>\n",
       "      <td>0</td>\n",
       "      <td>1</td>\n",
       "      <td>-1.426239</td>\n",
       "      <td>1</td>\n",
       "      <td>0</td>\n",
       "      <td>0</td>\n",
       "    </tr>\n",
       "    <tr>\n",
       "      <th>3413</th>\n",
       "      <td>-0.472661</td>\n",
       "      <td>0.007143</td>\n",
       "      <td>-0.000767</td>\n",
       "      <td>-1.221185</td>\n",
       "      <td>0.808982</td>\n",
       "      <td>1</td>\n",
       "      <td>0</td>\n",
       "      <td>1.720858</td>\n",
       "      <td>0</td>\n",
       "      <td>0</td>\n",
       "      <td>1</td>\n",
       "    </tr>\n",
       "    <tr>\n",
       "      <th>2210</th>\n",
       "      <td>0.231536</td>\n",
       "      <td>-0.469058</td>\n",
       "      <td>-1.453409</td>\n",
       "      <td>0.813461</td>\n",
       "      <td>2.523735</td>\n",
       "      <td>0</td>\n",
       "      <td>1</td>\n",
       "      <td>-0.406731</td>\n",
       "      <td>1</td>\n",
       "      <td>0</td>\n",
       "      <td>0</td>\n",
       "    </tr>\n",
       "    <tr>\n",
       "      <th>1710</th>\n",
       "      <td>1.836692</td>\n",
       "      <td>-1.040500</td>\n",
       "      <td>1.088715</td>\n",
       "      <td>0.935807</td>\n",
       "      <td>-0.905771</td>\n",
       "      <td>1</td>\n",
       "      <td>0</td>\n",
       "      <td>-0.360728</td>\n",
       "      <td>0</td>\n",
       "      <td>1</td>\n",
       "      <td>1</td>\n",
       "    </tr>\n",
       "    <tr>\n",
       "      <th>1821</th>\n",
       "      <td>-0.213765</td>\n",
       "      <td>-0.373818</td>\n",
       "      <td>-1.453409</td>\n",
       "      <td>-1.221185</td>\n",
       "      <td>0.808982</td>\n",
       "      <td>0</td>\n",
       "      <td>0</td>\n",
       "      <td>1.502975</td>\n",
       "      <td>0</td>\n",
       "      <td>1</td>\n",
       "      <td>1</td>\n",
       "    </tr>\n",
       "  </tbody>\n",
       "</table>\n",
       "</div>"
      ],
      "text/plain": [
       "      creditscore       age    tenure   balance  numofproducts  hascrcard  \\\n",
       "4510    -0.410526  0.388104  1.451876  0.814958       0.808982          0   \n",
       "3413    -0.472661  0.007143 -0.000767 -1.221185       0.808982          1   \n",
       "2210     0.231536 -0.469058 -1.453409  0.813461       2.523735          0   \n",
       "1710     1.836692 -1.040500  1.088715  0.935807      -0.905771          1   \n",
       "1821    -0.213765 -0.373818 -1.453409 -1.221185       0.808982          0   \n",
       "\n",
       "      isactivemember  estimatedsalary  geography_Germany  geography_Spain  \\\n",
       "4510               1        -1.426239                  1                0   \n",
       "3413               0         1.720858                  0                0   \n",
       "2210               1        -0.406731                  1                0   \n",
       "1710               0        -0.360728                  0                1   \n",
       "1821               0         1.502975                  0                1   \n",
       "\n",
       "      gender_Male  \n",
       "4510            0  \n",
       "3413            1  \n",
       "2210            0  \n",
       "1710            1  \n",
       "1821            1  "
      ]
     },
     "execution_count": 22,
     "metadata": {},
     "output_type": "execute_result"
    }
   ],
   "source": [
    "numeric = ['creditscore', 'age', 'tenure', 'balance', 'numofproducts', 'estimatedsalary'] \n",
    "\n",
    "scaler=StandardScaler()\n",
    "scaler.fit(features_train[numeric])\n",
    "\n",
    "features_train = features_train.copy()\n",
    "features_test = features_test.copy()\n",
    "\n",
    "features_train[numeric]= scaler.transform(features_train[numeric])\n",
    "features_test[numeric] = scaler.transform(features_test[numeric])\n",
    "features_train.head()"
   ]
  },
  {
   "cell_type": "markdown",
   "metadata": {},
   "source": [
    "### Let's train classification models without taking into account the imbalance:"
   ]
  },
  {
   "cell_type": "markdown",
   "metadata": {},
   "source": [
    "We use GridSearchCV to determine the effectiveness of models and their best parameters:"
   ]
  },
  {
   "cell_type": "code",
   "execution_count": 23,
   "metadata": {},
   "outputs": [],
   "source": [
    "model_params = {\n",
    "    'tree': {\n",
    "        'model': DecisionTreeClassifier(random_state=12345),\n",
    "        'params' : {\n",
    "            'max_depth': range(2,20),\n",
    "            'min_samples_leaf': range(1,10,2)\n",
    "        }  \n",
    "    },\n",
    "    'random_forest': {\n",
    "        'model': RandomForestClassifier(random_state=12345),\n",
    "        'params' : {\n",
    "            'n_estimators': range(50,150,10),\n",
    "            'max_depth' : range(2,20)\n",
    "        }\n",
    "    },\n",
    "    'logistic_regression' : {\n",
    "        'model': LogisticRegression(random_state=12345),\n",
    "        'params': {\n",
    "            'solver': ['lbfgs', 'liblinear']\n",
    "        }\n",
    "    }\n",
    "}"
   ]
  },
  {
   "cell_type": "code",
   "execution_count": 24,
   "metadata": {},
   "outputs": [
    {
     "data": {
      "text/html": [
       "<div>\n",
       "<style scoped>\n",
       "    .dataframe tbody tr th:only-of-type {\n",
       "        vertical-align: middle;\n",
       "    }\n",
       "\n",
       "    .dataframe tbody tr th {\n",
       "        vertical-align: top;\n",
       "    }\n",
       "\n",
       "    .dataframe thead th {\n",
       "        text-align: right;\n",
       "    }\n",
       "</style>\n",
       "<table border=\"1\" class=\"dataframe\">\n",
       "  <thead>\n",
       "    <tr style=\"text-align: right;\">\n",
       "      <th></th>\n",
       "      <th>model</th>\n",
       "      <th>best_score</th>\n",
       "      <th>best_params</th>\n",
       "    </tr>\n",
       "  </thead>\n",
       "  <tbody>\n",
       "    <tr>\n",
       "      <th>0</th>\n",
       "      <td>tree</td>\n",
       "      <td>0.566402</td>\n",
       "      <td>{'max_depth': 7, 'min_samples_leaf': 9}</td>\n",
       "    </tr>\n",
       "    <tr>\n",
       "      <th>1</th>\n",
       "      <td>random_forest</td>\n",
       "      <td>0.579420</td>\n",
       "      <td>{'max_depth': 19, 'n_estimators': 130}</td>\n",
       "    </tr>\n",
       "    <tr>\n",
       "      <th>2</th>\n",
       "      <td>logistic_regression</td>\n",
       "      <td>0.307393</td>\n",
       "      <td>{'solver': 'lbfgs'}</td>\n",
       "    </tr>\n",
       "  </tbody>\n",
       "</table>\n",
       "</div>"
      ],
      "text/plain": [
       "                 model  best_score                              best_params\n",
       "0                 tree    0.566402  {'max_depth': 7, 'min_samples_leaf': 9}\n",
       "1        random_forest    0.579420   {'max_depth': 19, 'n_estimators': 130}\n",
       "2  logistic_regression    0.307393                      {'solver': 'lbfgs'}"
      ]
     },
     "execution_count": 24,
     "metadata": {},
     "output_type": "execute_result"
    }
   ],
   "source": [
    "scores = []\n",
    "\n",
    "for model_name, mp in model_params.items():\n",
    "    clf =  GridSearchCV(mp['model'], mp['params'], cv=5, scoring='f1')\n",
    "    clf.fit(features_train, target_train)\n",
    "    scores.append({\n",
    "        'model': model_name,\n",
    "        'best_score': clf.best_score_,\n",
    "        'best_params': clf.best_params_\n",
    "    })\n",
    "    \n",
    "df = pd.DataFrame(scores,columns=['model','best_score','best_params'])\n",
    "df"
   ]
  },
  {
   "cell_type": "markdown",
   "metadata": {},
   "source": [
    "### Intermediate conclusions based on the results of training models without taking into account the imbalance"
   ]
  },
  {
   "cell_type": "markdown",
   "metadata": {},
   "source": [
    "Training models on data without taking into account the imbalance gave the following results:\n",
    "\n",
    "1) Random forest: f1= 0.579420, best parametrs: 'max_depth': 19, 'n_estimators': 130;\n",
    "\n",
    "2) Decision tree: f1= 0.566402, best parametrs: 'max_depth': 7, 'min_samples_leaf': 9;\n",
    "\n",
    "3) Logistic regression: f1= 0.307393, best parametrs: 'solver': 'lbfgs'\n",
    "\n",
    "Thus, the efficiency models are distributed as follows (from the best result to the worst): 1) Random forest, 2) Decision tree, 3) Logistic regression."
   ]
  },
  {
   "cell_type": "markdown",
   "metadata": {},
   "source": [
    "## Eliminating the imbalance"
   ]
  },
  {
   "cell_type": "markdown",
   "metadata": {},
   "source": [
    "### Let's handle the class imbalance:"
   ]
  },
  {
   "cell_type": "code",
   "execution_count": 25,
   "metadata": {},
   "outputs": [],
   "source": [
    "balanced_model_params = {\n",
    "    'tree': {\n",
    "        'model': DecisionTreeClassifier(random_state=12345, class_weight='balanced'),\n",
    "        'params' : {\n",
    "            'max_depth': range(2,20),\n",
    "            'min_samples_leaf': range(1,10,2)\n",
    "        }  \n",
    "    },\n",
    "    'random_forest': {\n",
    "        'model': RandomForestClassifier(random_state=12345, class_weight='balanced'),\n",
    "        'params' : {\n",
    "            'n_estimators': range(50,150,10),\n",
    "            'max_depth' : range(2,20)\n",
    "        }\n",
    "    },\n",
    "    'logistic_regression' : {\n",
    "        'model': LogisticRegression(random_state=12345, class_weight='balanced'),\n",
    "        'params': {\n",
    "            'solver': ['lbfgs', 'liblinear']\n",
    "        }\n",
    "    }\n",
    "}"
   ]
  },
  {
   "cell_type": "code",
   "execution_count": 26,
   "metadata": {},
   "outputs": [
    {
     "data": {
      "text/html": [
       "<div>\n",
       "<style scoped>\n",
       "    .dataframe tbody tr th:only-of-type {\n",
       "        vertical-align: middle;\n",
       "    }\n",
       "\n",
       "    .dataframe tbody tr th {\n",
       "        vertical-align: top;\n",
       "    }\n",
       "\n",
       "    .dataframe thead th {\n",
       "        text-align: right;\n",
       "    }\n",
       "</style>\n",
       "<table border=\"1\" class=\"dataframe\">\n",
       "  <thead>\n",
       "    <tr style=\"text-align: right;\">\n",
       "      <th></th>\n",
       "      <th>model</th>\n",
       "      <th>best_score</th>\n",
       "      <th>best_params</th>\n",
       "    </tr>\n",
       "  </thead>\n",
       "  <tbody>\n",
       "    <tr>\n",
       "      <th>0</th>\n",
       "      <td>tree</td>\n",
       "      <td>0.578859</td>\n",
       "      <td>{'max_depth': 6, 'min_samples_leaf': 9}</td>\n",
       "    </tr>\n",
       "    <tr>\n",
       "      <th>1</th>\n",
       "      <td>random_forest</td>\n",
       "      <td>0.621933</td>\n",
       "      <td>{'max_depth': 11, 'n_estimators': 120}</td>\n",
       "    </tr>\n",
       "    <tr>\n",
       "      <th>2</th>\n",
       "      <td>logistic_regression</td>\n",
       "      <td>0.488886</td>\n",
       "      <td>{'solver': 'lbfgs'}</td>\n",
       "    </tr>\n",
       "  </tbody>\n",
       "</table>\n",
       "</div>"
      ],
      "text/plain": [
       "                 model  best_score                              best_params\n",
       "0                 tree    0.578859  {'max_depth': 6, 'min_samples_leaf': 9}\n",
       "1        random_forest    0.621933   {'max_depth': 11, 'n_estimators': 120}\n",
       "2  logistic_regression    0.488886                      {'solver': 'lbfgs'}"
      ]
     },
     "execution_count": 26,
     "metadata": {},
     "output_type": "execute_result"
    }
   ],
   "source": [
    "scores = []\n",
    "\n",
    "for model_name, mp in balanced_model_params.items():\n",
    "    clf =  GridSearchCV(mp['model'], mp['params'], cv=5, scoring='f1')\n",
    "    clf.fit(features_train, target_train)\n",
    "    scores.append({\n",
    "        'model': model_name,\n",
    "        'best_score': clf.best_score_,\n",
    "        'best_params': clf.best_params_\n",
    "    })\n",
    "    \n",
    "balanced_df = pd.DataFrame(scores,columns=['model','best_score','best_params'])\n",
    "balanced_df"
   ]
  },
  {
   "cell_type": "markdown",
   "metadata": {},
   "source": [
    "Training models on data on balanced data gave the following results:\n",
    "\n",
    "1) Random forest: f1= 0.621933 (before weighing classes 0.579420), best parameters 'max_depth': 11, 'n_estimators': 120(before weighing classe -'max_depth': 19, 'n_estimators': 130);\n",
    "\n",
    "2) Decision tree: f1=0.578859 (before weighing classes 0.566402), best parameters 'max_depth': 6, 'min_samples_leaf': 9 (before weighing classes -'max_depth': 7, 'min_samples_leaf': 9);\n",
    "\n",
    "3) Logistic regression: f1= 0.488886 (before weighing classes 0.307393), best parameters 'lbfgs'(before weighing classes 'solver': 'lbfgs')\n",
    "\n",
    "Thus, the efficiency models are distributed as follows (from the best result to the worst): 1) Random forest, 2) Decision tree, 3) Logistic regression.\n",
    "\n",
    "At the same time, it is interesting to note that after balancing the classes, the efficiency of the Random Forest and Logistic Regression models improved, and the Decision Tree models worsened. Also, balancing classes gives other indicators of hyperparameters."
   ]
  },
  {
   "cell_type": "markdown",
   "metadata": {},
   "source": [
    "### Increasing the sample"
   ]
  },
  {
   "cell_type": "markdown",
   "metadata": {},
   "source": [
    "In step 2.1, we revealed that the approximate ratio of classes \"0\" and \"1\" is 4:1. Thus, it is necessary to increase the class \"1\" by 4 times."
   ]
  },
  {
   "cell_type": "code",
   "execution_count": 27,
   "metadata": {},
   "outputs": [],
   "source": [
    "def upsample(features, target, repeat):\n",
    "    features_zeros = features[target == 0]\n",
    "    features_ones = features[target == 1]\n",
    "    target_zeros = target[target == 0]\n",
    "    target_ones = target[target == 1]\n",
    "\n",
    "    features_upsampled = pd.concat([features_zeros] + [features_ones] * repeat)\n",
    "    target_upsampled = pd.concat([target_zeros] + [target_ones] * repeat)\n",
    "    \n",
    "    features_upsampled, target_upsampled = shuffle(\n",
    "        features_upsampled, target_upsampled, random_state=12345)\n",
    "    \n",
    "    return features_upsampled, target_upsampled\n",
    "\n",
    "features_upsampled, target_upsampled = upsample(features_train, target_train, 4)"
   ]
  },
  {
   "cell_type": "markdown",
   "metadata": {},
   "source": [
    "Check the class balance"
   ]
  },
  {
   "cell_type": "code",
   "execution_count": 28,
   "metadata": {},
   "outputs": [
    {
     "data": {
      "text/plain": [
       "1    0.503286\n",
       "0    0.496714\n",
       "Name: exited, dtype: float64"
      ]
     },
     "execution_count": 28,
     "metadata": {},
     "output_type": "execute_result"
    }
   ],
   "source": [
    "target_upsampled.value_counts(normalize=True)"
   ]
  },
  {
   "cell_type": "code",
   "execution_count": 29,
   "metadata": {},
   "outputs": [],
   "source": [
    "upsampled_model_params = {\n",
    "    'tree': {\n",
    "        'model': DecisionTreeClassifier(random_state=12345),\n",
    "        'params' : {\n",
    "            'max_depth': range(2,20),\n",
    "            'min_samples_leaf': range(1,10,2)\n",
    "        }  \n",
    "    },\n",
    "    'random_forest': {\n",
    "        'model': RandomForestClassifier(random_state=12345),\n",
    "        'params' : {\n",
    "            'n_estimators': range(50,150,10),\n",
    "            'max_depth' : range(2,20)\n",
    "        }\n",
    "    },\n",
    "    'logistic_regression' : {\n",
    "        'model': LogisticRegression(random_state=12345),\n",
    "        'params': {\n",
    "            'solver': ['lbfgs', 'liblinear']\n",
    "        }\n",
    "    }\n",
    "}"
   ]
  },
  {
   "cell_type": "code",
   "execution_count": 30,
   "metadata": {
    "scrolled": true
   },
   "outputs": [
    {
     "data": {
      "text/html": [
       "<div>\n",
       "<style scoped>\n",
       "    .dataframe tbody tr th:only-of-type {\n",
       "        vertical-align: middle;\n",
       "    }\n",
       "\n",
       "    .dataframe tbody tr th {\n",
       "        vertical-align: top;\n",
       "    }\n",
       "\n",
       "    .dataframe thead th {\n",
       "        text-align: right;\n",
       "    }\n",
       "</style>\n",
       "<table border=\"1\" class=\"dataframe\">\n",
       "  <thead>\n",
       "    <tr style=\"text-align: right;\">\n",
       "      <th></th>\n",
       "      <th>model</th>\n",
       "      <th>best_score</th>\n",
       "      <th>best_params</th>\n",
       "    </tr>\n",
       "  </thead>\n",
       "  <tbody>\n",
       "    <tr>\n",
       "      <th>0</th>\n",
       "      <td>tree</td>\n",
       "      <td>0.926386</td>\n",
       "      <td>{'max_depth': 19, 'min_samples_leaf': 1}</td>\n",
       "    </tr>\n",
       "    <tr>\n",
       "      <th>1</th>\n",
       "      <td>random_forest</td>\n",
       "      <td>0.956092</td>\n",
       "      <td>{'max_depth': 19, 'n_estimators': 50}</td>\n",
       "    </tr>\n",
       "    <tr>\n",
       "      <th>2</th>\n",
       "      <td>logistic_regression</td>\n",
       "      <td>0.703993</td>\n",
       "      <td>{'solver': 'lbfgs'}</td>\n",
       "    </tr>\n",
       "  </tbody>\n",
       "</table>\n",
       "</div>"
      ],
      "text/plain": [
       "                 model  best_score                               best_params\n",
       "0                 tree    0.926386  {'max_depth': 19, 'min_samples_leaf': 1}\n",
       "1        random_forest    0.956092     {'max_depth': 19, 'n_estimators': 50}\n",
       "2  logistic_regression    0.703993                       {'solver': 'lbfgs'}"
      ]
     },
     "execution_count": 30,
     "metadata": {},
     "output_type": "execute_result"
    }
   ],
   "source": [
    "scores = []\n",
    "\n",
    "for model_name, mp in upsampled_model_params.items():\n",
    "    clf =  GridSearchCV(mp['model'], mp['params'], cv=5, scoring='f1')\n",
    "    clf.fit(features_upsampled, target_upsampled)\n",
    "    scores.append({\n",
    "        'model': model_name,\n",
    "        'best_score': clf.best_score_,\n",
    "        'best_params': clf.best_params_\n",
    "    })\n",
    "    \n",
    "upsampled_df = pd.DataFrame(scores,columns=['model','best_score','best_params'])\n",
    "upsampled_df"
   ]
  },
  {
   "cell_type": "markdown",
   "metadata": {},
   "source": [
    "Training models on an enlarged sample gave the following results:\n",
    "1) Random forest: f1= 0.96 , best parameters max_depth': 19, 'n_estimators': 50;\n",
    "\n",
    "2) Decision tree: f1= 0.93, best parameters 'max_depth': 19, 'min_samples_leaf': 1;\n",
    "\n",
    "3) Logistic regression: f1= 0.7 , best parameter 'lbfgs'\n",
    "\n",
    "Thus, the efficiency models are distributed as follows (from the best result to the worst): 1) Random forest, 2) Decision tree, 3) Logistic regression.\n",
    "\n",
    "At the same time, it is interesting to note that after increasing the sample, the efficiency of the models increased significantly."
   ]
  },
  {
   "cell_type": "markdown",
   "metadata": {},
   "source": [
    "### Sample Reduction"
   ]
  },
  {
   "cell_type": "markdown",
   "metadata": {},
   "source": [
    "Reduction percentage = 0.25 (0.2/0.8)"
   ]
  },
  {
   "cell_type": "code",
   "execution_count": 31,
   "metadata": {},
   "outputs": [],
   "source": [
    "def downsample(features, target, fraction):\n",
    "    features_zeros = features[target == 0]\n",
    "    features_ones = features[target == 1]\n",
    "    target_zeros = target[target == 0]\n",
    "    target_ones = target[target == 1]\n",
    "\n",
    "    features_downsampled = pd.concat(\n",
    "        [features_zeros.sample(frac=fraction, random_state=12345)] + [features_ones])\n",
    "    target_downsampled = pd.concat(\n",
    "        [target_zeros.sample(frac=fraction, random_state=12345)] + [target_ones])\n",
    "    \n",
    "    features_downsampled, target_downsampled = shuffle(\n",
    "        features_downsampled, target_downsampled, random_state=12345)\n",
    "    \n",
    "    return features_downsampled, target_downsampled\n",
    "\n",
    "features_downsampled, target_downsampled = downsample(features_train, target_train, 0.25)"
   ]
  },
  {
   "cell_type": "code",
   "execution_count": 32,
   "metadata": {},
   "outputs": [
    {
     "data": {
      "text/plain": [
       "1    0.50332\n",
       "0    0.49668\n",
       "Name: exited, dtype: float64"
      ]
     },
     "execution_count": 32,
     "metadata": {},
     "output_type": "execute_result"
    }
   ],
   "source": [
    "target_downsampled.value_counts(normalize=True)"
   ]
  },
  {
   "cell_type": "code",
   "execution_count": 33,
   "metadata": {},
   "outputs": [],
   "source": [
    "downsampled_model_params = {\n",
    "    'tree': {\n",
    "        'model': DecisionTreeClassifier(random_state=12345),\n",
    "        'params' : {\n",
    "            'max_depth': range(2,20),\n",
    "            'min_samples_leaf': range(1,10,2)\n",
    "        }  \n",
    "    },\n",
    "    'random_forest': {\n",
    "        'model': RandomForestClassifier(random_state=12345),\n",
    "        'params' : {\n",
    "            'n_estimators': range(50,150,10),\n",
    "            'max_depth' : range(2,20)\n",
    "        }\n",
    "    },\n",
    "    'logistic_regression' : {\n",
    "        'model': LogisticRegression(random_state=12345),\n",
    "        'params': {\n",
    "            'solver': ['lbfgs', 'liblinear']\n",
    "        }\n",
    "    }\n",
    "}"
   ]
  },
  {
   "cell_type": "code",
   "execution_count": 34,
   "metadata": {},
   "outputs": [
    {
     "data": {
      "text/html": [
       "<div>\n",
       "<style scoped>\n",
       "    .dataframe tbody tr th:only-of-type {\n",
       "        vertical-align: middle;\n",
       "    }\n",
       "\n",
       "    .dataframe tbody tr th {\n",
       "        vertical-align: top;\n",
       "    }\n",
       "\n",
       "    .dataframe thead th {\n",
       "        text-align: right;\n",
       "    }\n",
       "</style>\n",
       "<table border=\"1\" class=\"dataframe\">\n",
       "  <thead>\n",
       "    <tr style=\"text-align: right;\">\n",
       "      <th></th>\n",
       "      <th>model</th>\n",
       "      <th>best_score</th>\n",
       "      <th>best_params</th>\n",
       "    </tr>\n",
       "  </thead>\n",
       "  <tbody>\n",
       "    <tr>\n",
       "      <th>0</th>\n",
       "      <td>tree</td>\n",
       "      <td>0.766990</td>\n",
       "      <td>{'max_depth': 7, 'min_samples_leaf': 9}</td>\n",
       "    </tr>\n",
       "    <tr>\n",
       "      <th>1</th>\n",
       "      <td>random_forest</td>\n",
       "      <td>0.777604</td>\n",
       "      <td>{'max_depth': 12, 'n_estimators': 140}</td>\n",
       "    </tr>\n",
       "    <tr>\n",
       "      <th>2</th>\n",
       "      <td>logistic_regression</td>\n",
       "      <td>0.706485</td>\n",
       "      <td>{'solver': 'lbfgs'}</td>\n",
       "    </tr>\n",
       "  </tbody>\n",
       "</table>\n",
       "</div>"
      ],
      "text/plain": [
       "                 model  best_score                              best_params\n",
       "0                 tree    0.766990  {'max_depth': 7, 'min_samples_leaf': 9}\n",
       "1        random_forest    0.777604   {'max_depth': 12, 'n_estimators': 140}\n",
       "2  logistic_regression    0.706485                      {'solver': 'lbfgs'}"
      ]
     },
     "execution_count": 34,
     "metadata": {},
     "output_type": "execute_result"
    }
   ],
   "source": [
    "scores = []\n",
    "\n",
    "for model_name, mp in downsampled_model_params.items():\n",
    "    clf =  GridSearchCV(mp['model'], mp['params'], cv=5, scoring='f1')\n",
    "    clf.fit(features_downsampled, target_downsampled)\n",
    "    scores.append({\n",
    "        'model': model_name,\n",
    "        'best_score': clf.best_score_,\n",
    "        'best_params': clf.best_params_\n",
    "    })\n",
    "    \n",
    "downsampled_df = pd.DataFrame(scores,columns=['model','best_score','best_params'])\n",
    "downsampled_df"
   ]
  },
  {
   "cell_type": "markdown",
   "metadata": {},
   "source": [
    "The metrics of each model after decreasing the sample are lower than after increasing the sample. \n",
    "\n",
    "1) Random forest: f1 - 0.777604, best hyperparameters - max_depth': 12, 'n_estimators': 140;\n",
    "\n",
    "2) Decision tree: f1 - 0.766990, best hyperparameters - max_depth': 7, 'min_samples_leaf': 9 ;\n",
    "\n",
    "3) Logistic regression: f1 - 0.706485, best hyperparameters - solver': 'lbfgs'."
   ]
  },
  {
   "cell_type": "markdown",
   "metadata": {},
   "source": [
    "Thus, the best results of the model showed:\n",
    "    \n",
    "* decision tree - when increasing the selection;\n",
    "\n",
    "* random forest - when decreasing the selection;\n",
    "\n",
    "* logistic regression - when decreasing the selection.\n",
    "\n",
    "At the same time, the highest metrics among all models are for the random forest model with an increase in the data sample:\n",
    "\n",
    "* f1 - 0.956\n",
    "\n",
    "* best parameters: 'max_depth': 19, 'n_estimators': 50."
   ]
  },
  {
   "cell_type": "markdown",
   "metadata": {},
   "source": [
    "## Testing the model"
   ]
  },
  {
   "cell_type": "code",
   "execution_count": 35,
   "metadata": {},
   "outputs": [
    {
     "name": "stdout",
     "output_type": "stream",
     "text": [
      "Score: 0.844\n",
      "F1: 0.59375\n",
      "AUC-ROC 0.8476149135362163\n",
      "Recall: 0.5229357798165137\n",
      "Precision: 0.6867469879518072\n"
     ]
    },
    {
     "data": {
      "text/plain": [
       "array([[730,  52],\n",
       "       [104, 114]])"
      ]
     },
     "execution_count": 35,
     "metadata": {},
     "output_type": "execute_result"
    }
   ],
   "source": [
    "best_model_forest = RandomForestClassifier(random_state=12345, n_estimators=50, max_depth=19)\n",
    "best_model_forest.fit(features_upsampled, target_upsampled)\n",
    "bm_predicted_valid = best_model_forest.predict(features_test)\n",
    "bm_probabilities_one_valid = best_model_forest.predict_proba(features_test)[:,1]\n",
    "print('Score:', best_model_forest.score(features_test, target_test))\n",
    "print('F1:', f1_score(target_test, bm_predicted_valid))\n",
    "print('AUC-ROC', roc_auc_score(target_test, bm_probabilities_one_valid))\n",
    "print('Recall:', recall_score(target_test, bm_predicted_valid))\n",
    "print('Precision:', precision_score(target_test, bm_predicted_valid)) \n",
    "confusion_matrix(target_test, bm_predicted_valid)"
   ]
  },
  {
   "cell_type": "markdown",
   "metadata": {},
   "source": [
    "The values of F1 (0.6) and AUC-ROC (0.85) are quite high according to the test results. Let's evaluate the importance of the signs:"
   ]
  },
  {
   "cell_type": "code",
   "execution_count": 36,
   "metadata": {
    "scrolled": true
   },
   "outputs": [
    {
     "data": {
      "image/png": "[encoded data removed]",
      "text/plain": [
       "<Figure size 432x288 with 1 Axes>"
      ]
     },
     "metadata": {
      "needs_background": "light"
     },
     "output_type": "display_data"
    }
   ],
   "source": [
    "import matplotlib.pyplot as plt\n",
    "feature_importace = pd.DataFrame({'feature': features_test.columns,\n",
    "                                  'importance': best_model_forest.feature_importances_\n",
    "                                 }).sort_values(by='importance', ascending=False)\n",
    "\n",
    "sns.barplot(y='feature', x='importance', data=feature_importace, color='b')\n",
    "plt.show()"
   ]
  },
  {
   "cell_type": "markdown",
   "metadata": {},
   "source": [
    "Create ROC-curve:"
   ]
  },
  {
   "cell_type": "code",
   "execution_count": 37,
   "metadata": {
    "scrolled": true
   },
   "outputs": [
    {
     "data": {
      "image/png": "[encoded data removed]",
      "text/plain": [
       "<Figure size 432x432 with 1 Axes>"
      ]
     },
     "metadata": {
      "needs_background": "light"
     },
     "output_type": "display_data"
    }
   ],
   "source": [
    "probability_test = best_model_forest.predict_proba(features_test)\n",
    "probability_one_test = probability_test[:, 1]\n",
    "\n",
    "fpr, tpr, thresholds = roc_curve(target_test, probability_one_test)\n",
    "\n",
    "plt.figure(figsize=(6,6))\n",
    "plt.plot(fpr, tpr)\n",
    "plt.plot([0, 1], [0, 1], linestyle='--')\n",
    "plt.xlim(-0.01,1)\n",
    "plt.ylim(-0,1.05)\n",
    "plt.xlabel('False Positive Rate')\n",
    "plt.ylabel('True Positive Rate')\n",
    "plt.title('ROC-curve')\n",
    "plt.show()"
   ]
  },
  {
   "cell_type": "markdown",
   "metadata": {},
   "source": [
    "## Conclusion:"
   ]
  },
  {
   "cell_type": "markdown",
   "metadata": {},
   "source": [
    "During this project:\n",
    "* a study of the data provided was conducted in terms of their suitability for building a model;\n",
    "* shortcomings were identified in the data (incorrect column names, omissions, the presence of unnecessary features, categorical variables were converted to numerical ones by the OHE method, scaling of features was carried out), which were eliminated;\n",
    "* the imbalance of classes was eliminated;\n",
    "* as a result of the study of three classification models, the best model was revealed - this is a random forest with an increase in the data sample with the results: f1 - 0.956, the best metrics: 'max_depth': 19, 'n_estimators': 50;\n",
    "* at the same time, in the course of the study, the hyperparameters of each model were optimized using GridSearchCV;\n",
    "* the effectiveness of this model has also been tested and has shown good results: F1: 0.59375, AUC-ROC 0.8476149135362163, Recall: 0.5229357798165137, Precision: 0.6867469879518072.\n",
    "\n",
    "Thus, this model will effectively predict the class that allows you to determine the outflow of bank customers."
   ]
  }
 ],
 "metadata": {
  "ExecuteTimeLog": [
   {
    "duration": 1096,
    "start_time": "2022-08-16T20:52:44.087Z"
   },
   {
    "duration": 11,
    "start_time": "2022-08-16T20:52:55.819Z"
   },
   {
    "duration": 9,
    "start_time": "2022-08-16T20:53:17.728Z"
   },
   {
    "duration": 48,
    "start_time": "2022-08-16T20:53:31.540Z"
   },
   {
    "duration": 382,
    "start_time": "2022-08-16T20:55:21.845Z"
   },
   {
    "duration": 43,
    "start_time": "2022-08-16T20:55:35.642Z"
   },
   {
    "duration": 13,
    "start_time": "2022-08-16T20:55:47.039Z"
   },
   {
    "duration": 13,
    "start_time": "2022-08-16T20:55:54.021Z"
   },
   {
    "duration": 3,
    "start_time": "2022-08-16T21:02:59.917Z"
   },
   {
    "duration": 12,
    "start_time": "2022-08-16T21:10:30.881Z"
   },
   {
    "duration": 3,
    "start_time": "2022-08-16T21:22:51.335Z"
   },
   {
    "duration": 13,
    "start_time": "2022-08-16T21:23:04.522Z"
   },
   {
    "duration": 16,
    "start_time": "2022-08-16T21:24:48.808Z"
   },
   {
    "duration": 20,
    "start_time": "2022-08-16T21:25:16.914Z"
   },
   {
    "duration": 8,
    "start_time": "2022-08-16T21:26:23.718Z"
   },
   {
    "duration": 17,
    "start_time": "2022-08-16T21:28:46.656Z"
   },
   {
    "duration": 13,
    "start_time": "2022-08-16T21:29:45.146Z"
   },
   {
    "duration": 4,
    "start_time": "2022-08-16T21:30:08.975Z"
   },
   {
    "duration": 50,
    "start_time": "2022-08-16T21:30:08.981Z"
   },
   {
    "duration": 13,
    "start_time": "2022-08-16T21:30:09.034Z"
   },
   {
    "duration": 15,
    "start_time": "2022-08-16T21:30:09.049Z"
   },
   {
    "duration": 12,
    "start_time": "2022-08-16T21:30:09.066Z"
   },
   {
    "duration": 42,
    "start_time": "2022-08-16T21:30:09.079Z"
   },
   {
    "duration": 5,
    "start_time": "2022-08-16T21:30:09.123Z"
   },
   {
    "duration": 10,
    "start_time": "2022-08-16T21:30:09.130Z"
   },
   {
    "duration": 11,
    "start_time": "2022-08-16T21:30:30.069Z"
   },
   {
    "duration": 8,
    "start_time": "2022-08-16T21:30:39.853Z"
   },
   {
    "duration": 3,
    "start_time": "2022-08-16T21:30:48.208Z"
   },
   {
    "duration": 59,
    "start_time": "2022-08-16T21:30:48.213Z"
   },
   {
    "duration": 14,
    "start_time": "2022-08-16T21:30:48.273Z"
   },
   {
    "duration": 16,
    "start_time": "2022-08-16T21:30:48.289Z"
   },
   {
    "duration": 10,
    "start_time": "2022-08-16T21:30:48.306Z"
   },
   {
    "duration": 21,
    "start_time": "2022-08-16T21:30:48.317Z"
   },
   {
    "duration": 9,
    "start_time": "2022-08-16T21:30:48.340Z"
   },
   {
    "duration": 12,
    "start_time": "2022-08-16T21:30:48.351Z"
   },
   {
    "duration": 9,
    "start_time": "2022-08-16T21:31:14.596Z"
   },
   {
    "duration": 8,
    "start_time": "2022-08-16T21:31:25.239Z"
   },
   {
    "duration": 3,
    "start_time": "2022-08-16T21:31:37.567Z"
   },
   {
    "duration": 38,
    "start_time": "2022-08-16T21:31:40.021Z"
   },
   {
    "duration": 12,
    "start_time": "2022-08-16T21:31:43.654Z"
   },
   {
    "duration": 12,
    "start_time": "2022-08-16T21:31:49.108Z"
   },
   {
    "duration": 11,
    "start_time": "2022-08-16T21:31:51.938Z"
   },
   {
    "duration": 14,
    "start_time": "2022-08-16T21:31:57.533Z"
   },
   {
    "duration": 20,
    "start_time": "2022-08-16T21:32:00.044Z"
   },
   {
    "duration": 13,
    "start_time": "2022-08-16T21:32:26.803Z"
   },
   {
    "duration": 3,
    "start_time": "2022-08-16T21:32:52.908Z"
   },
   {
    "duration": 66,
    "start_time": "2022-08-16T21:32:52.913Z"
   },
   {
    "duration": 16,
    "start_time": "2022-08-16T21:32:52.981Z"
   },
   {
    "duration": 38,
    "start_time": "2022-08-16T21:32:52.999Z"
   },
   {
    "duration": 23,
    "start_time": "2022-08-16T21:32:53.038Z"
   },
   {
    "duration": 26,
    "start_time": "2022-08-16T21:32:53.063Z"
   },
   {
    "duration": 17,
    "start_time": "2022-08-16T21:32:53.091Z"
   },
   {
    "duration": 16,
    "start_time": "2022-08-16T21:32:53.110Z"
   },
   {
    "duration": 8,
    "start_time": "2022-08-16T21:33:13.848Z"
   },
   {
    "duration": 8,
    "start_time": "2022-08-16T21:33:21.928Z"
   },
   {
    "duration": 3,
    "start_time": "2022-08-16T21:33:26.279Z"
   },
   {
    "duration": 39,
    "start_time": "2022-08-16T21:33:28.319Z"
   },
   {
    "duration": 13,
    "start_time": "2022-08-16T21:33:31.133Z"
   },
   {
    "duration": 12,
    "start_time": "2022-08-16T21:33:33.616Z"
   },
   {
    "duration": 12,
    "start_time": "2022-08-16T21:33:36.546Z"
   },
   {
    "duration": 13,
    "start_time": "2022-08-16T21:33:40.150Z"
   },
   {
    "duration": 5,
    "start_time": "2022-08-16T21:33:53.689Z"
   },
   {
    "duration": 8,
    "start_time": "2022-08-16T21:34:00.465Z"
   },
   {
    "duration": 3,
    "start_time": "2022-08-16T21:34:23.035Z"
   },
   {
    "duration": 50,
    "start_time": "2022-08-16T21:34:23.040Z"
   },
   {
    "duration": 13,
    "start_time": "2022-08-16T21:34:23.091Z"
   },
   {
    "duration": 14,
    "start_time": "2022-08-16T21:34:23.105Z"
   },
   {
    "duration": 10,
    "start_time": "2022-08-16T21:34:23.120Z"
   },
   {
    "duration": 13,
    "start_time": "2022-08-16T21:34:23.131Z"
   },
   {
    "duration": 20,
    "start_time": "2022-08-16T21:34:28.389Z"
   },
   {
    "duration": 10,
    "start_time": "2022-08-16T21:34:32.924Z"
   },
   {
    "duration": 5,
    "start_time": "2022-08-16T21:48:09.171Z"
   },
   {
    "duration": 3,
    "start_time": "2022-08-16T21:49:50.877Z"
   },
   {
    "duration": 8,
    "start_time": "2022-08-16T21:50:03.430Z"
   },
   {
    "duration": 7,
    "start_time": "2022-08-16T21:54:27.558Z"
   },
   {
    "duration": 3,
    "start_time": "2022-08-16T21:58:15.875Z"
   },
   {
    "duration": 8,
    "start_time": "2022-08-16T21:58:32.036Z"
   },
   {
    "duration": 74,
    "start_time": "2022-08-16T22:02:04.759Z"
   },
   {
    "duration": 9,
    "start_time": "2022-08-16T22:08:46.889Z"
   },
   {
    "duration": 3,
    "start_time": "2022-08-17T09:39:26.266Z"
   },
   {
    "duration": 44,
    "start_time": "2022-08-17T09:39:26.271Z"
   },
   {
    "duration": 11,
    "start_time": "2022-08-17T09:39:26.316Z"
   },
   {
    "duration": 15,
    "start_time": "2022-08-17T09:39:26.329Z"
   },
   {
    "duration": 15,
    "start_time": "2022-08-17T09:39:26.345Z"
   },
   {
    "duration": 12,
    "start_time": "2022-08-17T09:39:26.362Z"
   },
   {
    "duration": 41,
    "start_time": "2022-08-17T09:39:26.375Z"
   },
   {
    "duration": 9,
    "start_time": "2022-08-17T09:39:26.417Z"
   },
   {
    "duration": 7,
    "start_time": "2022-08-17T09:39:26.428Z"
   },
   {
    "duration": 11,
    "start_time": "2022-08-17T09:39:26.438Z"
   },
   {
    "duration": 5,
    "start_time": "2022-08-17T09:40:02.592Z"
   },
   {
    "duration": 4,
    "start_time": "2022-08-17T09:40:25.531Z"
   },
   {
    "duration": 39,
    "start_time": "2022-08-17T09:41:39.659Z"
   },
   {
    "duration": 38,
    "start_time": "2022-08-17T09:41:44.913Z"
   },
   {
    "duration": 3,
    "start_time": "2022-08-17T09:41:50.908Z"
   },
   {
    "duration": 37,
    "start_time": "2022-08-17T09:41:55.936Z"
   },
   {
    "duration": 3,
    "start_time": "2022-08-17T09:44:05.547Z"
   },
   {
    "duration": 57,
    "start_time": "2022-08-17T09:44:05.551Z"
   },
   {
    "duration": 4,
    "start_time": "2022-08-17T09:44:05.609Z"
   },
   {
    "duration": 26,
    "start_time": "2022-08-17T09:44:05.615Z"
   },
   {
    "duration": 26,
    "start_time": "2022-08-17T09:44:05.642Z"
   },
   {
    "duration": 17,
    "start_time": "2022-08-17T09:44:05.669Z"
   },
   {
    "duration": 17,
    "start_time": "2022-08-17T09:44:05.688Z"
   },
   {
    "duration": 31,
    "start_time": "2022-08-17T09:44:05.706Z"
   },
   {
    "duration": 17,
    "start_time": "2022-08-17T09:44:05.739Z"
   },
   {
    "duration": 10,
    "start_time": "2022-08-17T09:44:05.758Z"
   },
   {
    "duration": 17,
    "start_time": "2022-08-17T09:44:05.769Z"
   },
   {
    "duration": 10,
    "start_time": "2022-08-17T09:44:05.787Z"
   },
   {
    "duration": 18,
    "start_time": "2022-08-17T09:44:05.798Z"
   },
   {
    "duration": 4,
    "start_time": "2022-08-17T09:45:31.332Z"
   },
   {
    "duration": 9,
    "start_time": "2022-08-17T09:46:06.480Z"
   },
   {
    "duration": 8,
    "start_time": "2022-08-17T09:46:27.892Z"
   },
   {
    "duration": 3,
    "start_time": "2022-08-17T09:46:34.514Z"
   },
   {
    "duration": 49,
    "start_time": "2022-08-17T09:46:34.519Z"
   },
   {
    "duration": 4,
    "start_time": "2022-08-17T09:46:34.570Z"
   },
   {
    "duration": 33,
    "start_time": "2022-08-17T09:46:34.576Z"
   },
   {
    "duration": 27,
    "start_time": "2022-08-17T09:46:34.610Z"
   },
   {
    "duration": 23,
    "start_time": "2022-08-17T09:46:34.639Z"
   },
   {
    "duration": 14,
    "start_time": "2022-08-17T09:46:34.664Z"
   },
   {
    "duration": 30,
    "start_time": "2022-08-17T09:46:34.680Z"
   },
   {
    "duration": 32,
    "start_time": "2022-08-17T09:46:34.712Z"
   },
   {
    "duration": 13,
    "start_time": "2022-08-17T09:46:34.745Z"
   },
   {
    "duration": 30,
    "start_time": "2022-08-17T09:46:34.760Z"
   },
   {
    "duration": 7,
    "start_time": "2022-08-17T09:46:34.792Z"
   },
   {
    "duration": 7,
    "start_time": "2022-08-17T09:46:34.800Z"
   },
   {
    "duration": 16,
    "start_time": "2022-08-17T09:46:34.809Z"
   },
   {
    "duration": 14,
    "start_time": "2022-08-17T09:46:34.826Z"
   },
   {
    "duration": 3,
    "start_time": "2022-08-17T09:47:17.346Z"
   },
   {
    "duration": 42,
    "start_time": "2022-08-17T09:47:17.352Z"
   },
   {
    "duration": 4,
    "start_time": "2022-08-17T09:47:17.396Z"
   },
   {
    "duration": 21,
    "start_time": "2022-08-17T09:47:17.401Z"
   },
   {
    "duration": 23,
    "start_time": "2022-08-17T09:47:17.424Z"
   },
   {
    "duration": 31,
    "start_time": "2022-08-17T09:47:17.449Z"
   },
   {
    "duration": 13,
    "start_time": "2022-08-17T09:47:17.481Z"
   },
   {
    "duration": 38,
    "start_time": "2022-08-17T09:47:17.495Z"
   },
   {
    "duration": 8,
    "start_time": "2022-08-17T09:47:17.535Z"
   },
   {
    "duration": 3,
    "start_time": "2022-08-17T09:47:17.545Z"
   },
   {
    "duration": 28,
    "start_time": "2022-08-17T09:47:17.549Z"
   },
   {
    "duration": 19,
    "start_time": "2022-08-17T09:47:17.578Z"
   },
   {
    "duration": 10,
    "start_time": "2022-08-17T09:50:38.966Z"
   },
   {
    "duration": 17,
    "start_time": "2022-08-17T09:50:48.181Z"
   },
   {
    "duration": 4,
    "start_time": "2022-08-17T09:51:41.209Z"
   },
   {
    "duration": 3,
    "start_time": "2022-08-17T09:53:09.106Z"
   },
   {
    "duration": 48,
    "start_time": "2022-08-17T09:53:09.110Z"
   },
   {
    "duration": 3,
    "start_time": "2022-08-17T09:53:09.160Z"
   },
   {
    "duration": 14,
    "start_time": "2022-08-17T09:53:09.164Z"
   },
   {
    "duration": 12,
    "start_time": "2022-08-17T09:53:09.180Z"
   },
   {
    "duration": 14,
    "start_time": "2022-08-17T09:53:09.194Z"
   },
   {
    "duration": 12,
    "start_time": "2022-08-17T09:53:09.209Z"
   },
   {
    "duration": 23,
    "start_time": "2022-08-17T09:53:09.223Z"
   },
   {
    "duration": 8,
    "start_time": "2022-08-17T09:53:09.247Z"
   },
   {
    "duration": 3,
    "start_time": "2022-08-17T09:53:09.257Z"
   },
   {
    "duration": 10,
    "start_time": "2022-08-17T09:53:09.262Z"
   },
   {
    "duration": 35,
    "start_time": "2022-08-17T09:53:09.273Z"
   },
   {
    "duration": 4,
    "start_time": "2022-08-17T09:53:09.310Z"
   },
   {
    "duration": 4,
    "start_time": "2022-08-17T09:53:21.319Z"
   },
   {
    "duration": 3,
    "start_time": "2022-08-17T09:53:26.415Z"
   },
   {
    "duration": 4,
    "start_time": "2022-08-17T09:58:45.655Z"
   },
   {
    "duration": 46,
    "start_time": "2022-08-17T09:58:45.661Z"
   },
   {
    "duration": 3,
    "start_time": "2022-08-17T09:58:45.709Z"
   },
   {
    "duration": 13,
    "start_time": "2022-08-17T09:58:45.714Z"
   },
   {
    "duration": 10,
    "start_time": "2022-08-17T09:58:45.730Z"
   },
   {
    "duration": 9,
    "start_time": "2022-08-17T09:58:45.741Z"
   },
   {
    "duration": 11,
    "start_time": "2022-08-17T09:58:45.752Z"
   },
   {
    "duration": 52,
    "start_time": "2022-08-17T09:58:45.764Z"
   },
   {
    "duration": 7,
    "start_time": "2022-08-17T09:58:45.818Z"
   },
   {
    "duration": 3,
    "start_time": "2022-08-17T09:58:45.826Z"
   },
   {
    "duration": 10,
    "start_time": "2022-08-17T09:58:45.831Z"
   },
   {
    "duration": 6,
    "start_time": "2022-08-17T09:58:45.842Z"
   },
   {
    "duration": 12,
    "start_time": "2022-08-17T09:58:45.850Z"
   },
   {
    "duration": 9,
    "start_time": "2022-08-17T09:58:51.085Z"
   },
   {
    "duration": 3,
    "start_time": "2022-08-17T09:58:54.754Z"
   },
   {
    "duration": 12,
    "start_time": "2022-08-17T09:59:41.203Z"
   },
   {
    "duration": 12,
    "start_time": "2022-08-17T10:01:02.762Z"
   },
   {
    "duration": 9,
    "start_time": "2022-08-17T10:14:24.679Z"
   },
   {
    "duration": 450,
    "start_time": "2022-08-17T10:28:42.949Z"
   },
   {
    "duration": 39,
    "start_time": "2022-08-17T10:28:43.401Z"
   },
   {
    "duration": 4,
    "start_time": "2022-08-17T10:28:43.442Z"
   },
   {
    "duration": 21,
    "start_time": "2022-08-17T10:28:43.449Z"
   },
   {
    "duration": 13,
    "start_time": "2022-08-17T10:28:43.472Z"
   },
   {
    "duration": 21,
    "start_time": "2022-08-17T10:28:43.486Z"
   },
   {
    "duration": 12,
    "start_time": "2022-08-17T10:28:43.509Z"
   },
   {
    "duration": 21,
    "start_time": "2022-08-17T10:28:43.523Z"
   },
   {
    "duration": 9,
    "start_time": "2022-08-17T10:28:43.545Z"
   },
   {
    "duration": 5,
    "start_time": "2022-08-17T10:28:43.556Z"
   },
   {
    "duration": 8,
    "start_time": "2022-08-17T10:28:43.563Z"
   },
   {
    "duration": 4,
    "start_time": "2022-08-17T10:28:43.606Z"
   },
   {
    "duration": 6,
    "start_time": "2022-08-17T10:28:43.612Z"
   },
   {
    "duration": 9,
    "start_time": "2022-08-17T10:28:43.620Z"
   },
   {
    "duration": 3,
    "start_time": "2022-08-17T10:28:43.631Z"
   },
   {
    "duration": 12,
    "start_time": "2022-08-17T10:28:43.636Z"
   },
   {
    "duration": 2,
    "start_time": "2022-08-17T10:28:43.650Z"
   },
   {
    "duration": 60,
    "start_time": "2022-08-17T10:28:43.654Z"
   },
   {
    "duration": 0,
    "start_time": "2022-08-17T10:28:43.716Z"
   },
   {
    "duration": 8,
    "start_time": "2022-08-17T10:28:58.845Z"
   },
   {
    "duration": 112,
    "start_time": "2022-08-17T10:29:18.143Z"
   },
   {
    "duration": 26,
    "start_time": "2022-08-17T10:30:53.695Z"
   },
   {
    "duration": 3,
    "start_time": "2022-08-17T10:37:27.020Z"
   },
   {
    "duration": 12,
    "start_time": "2022-08-17T10:38:36.148Z"
   },
   {
    "duration": 30,
    "start_time": "2022-08-17T11:01:38.484Z"
   },
   {
    "duration": 48,
    "start_time": "2022-08-17T11:02:40.299Z"
   },
   {
    "duration": 33,
    "start_time": "2022-08-17T11:02:57.429Z"
   },
   {
    "duration": 4,
    "start_time": "2022-08-17T11:04:14.523Z"
   },
   {
    "duration": 47,
    "start_time": "2022-08-17T11:04:14.529Z"
   },
   {
    "duration": 4,
    "start_time": "2022-08-17T11:04:14.578Z"
   },
   {
    "duration": 21,
    "start_time": "2022-08-17T11:04:14.584Z"
   },
   {
    "duration": 13,
    "start_time": "2022-08-17T11:04:14.608Z"
   },
   {
    "duration": 11,
    "start_time": "2022-08-17T11:04:14.623Z"
   },
   {
    "duration": 12,
    "start_time": "2022-08-17T11:04:14.635Z"
   },
   {
    "duration": 21,
    "start_time": "2022-08-17T11:04:14.649Z"
   },
   {
    "duration": 37,
    "start_time": "2022-08-17T11:04:14.671Z"
   },
   {
    "duration": 3,
    "start_time": "2022-08-17T11:04:14.710Z"
   },
   {
    "duration": 10,
    "start_time": "2022-08-17T11:04:14.714Z"
   },
   {
    "duration": 4,
    "start_time": "2022-08-17T11:04:14.725Z"
   },
   {
    "duration": 9,
    "start_time": "2022-08-17T11:04:14.731Z"
   },
   {
    "duration": 16,
    "start_time": "2022-08-17T11:04:14.742Z"
   },
   {
    "duration": 8,
    "start_time": "2022-08-17T11:04:14.760Z"
   },
   {
    "duration": 45,
    "start_time": "2022-08-17T11:04:14.769Z"
   },
   {
    "duration": 5,
    "start_time": "2022-08-17T11:04:14.815Z"
   },
   {
    "duration": 132,
    "start_time": "2022-08-17T11:04:14.822Z"
   },
   {
    "duration": 9,
    "start_time": "2022-08-17T11:04:14.956Z"
   },
   {
    "duration": 50,
    "start_time": "2022-08-17T11:04:14.966Z"
   },
   {
    "duration": 1451,
    "start_time": "2022-08-17T11:54:34.789Z"
   },
   {
    "duration": 42,
    "start_time": "2022-08-17T11:54:36.242Z"
   },
   {
    "duration": 5,
    "start_time": "2022-08-17T11:54:36.286Z"
   },
   {
    "duration": 27,
    "start_time": "2022-08-17T11:54:36.294Z"
   },
   {
    "duration": 23,
    "start_time": "2022-08-17T11:54:36.323Z"
   },
   {
    "duration": 15,
    "start_time": "2022-08-17T11:54:36.348Z"
   },
   {
    "duration": 13,
    "start_time": "2022-08-17T11:54:36.365Z"
   },
   {
    "duration": 39,
    "start_time": "2022-08-17T11:54:36.380Z"
   },
   {
    "duration": 7,
    "start_time": "2022-08-17T11:54:36.421Z"
   },
   {
    "duration": 6,
    "start_time": "2022-08-17T11:54:36.430Z"
   },
   {
    "duration": 10,
    "start_time": "2022-08-17T11:54:36.438Z"
   },
   {
    "duration": 5,
    "start_time": "2022-08-17T11:54:36.449Z"
   },
   {
    "duration": 6,
    "start_time": "2022-08-17T11:54:36.456Z"
   },
   {
    "duration": 14,
    "start_time": "2022-08-17T11:54:36.505Z"
   },
   {
    "duration": 5,
    "start_time": "2022-08-17T11:54:36.521Z"
   },
   {
    "duration": 14,
    "start_time": "2022-08-17T11:54:36.528Z"
   },
   {
    "duration": 10,
    "start_time": "2022-08-17T11:54:36.544Z"
   },
   {
    "duration": 185,
    "start_time": "2022-08-17T11:54:36.556Z"
   },
   {
    "duration": 8,
    "start_time": "2022-08-17T11:54:36.743Z"
   },
   {
    "duration": 165,
    "start_time": "2022-08-17T11:54:36.753Z"
   },
   {
    "duration": 1376,
    "start_time": "2022-08-17T11:57:08.631Z"
   },
   {
    "duration": 43,
    "start_time": "2022-08-17T11:57:10.009Z"
   },
   {
    "duration": 8,
    "start_time": "2022-08-17T11:57:10.054Z"
   },
   {
    "duration": 29,
    "start_time": "2022-08-17T11:57:10.064Z"
   },
   {
    "duration": 31,
    "start_time": "2022-08-17T11:57:10.095Z"
   },
   {
    "duration": 24,
    "start_time": "2022-08-17T11:57:10.128Z"
   },
   {
    "duration": 19,
    "start_time": "2022-08-17T11:57:10.154Z"
   },
   {
    "duration": 49,
    "start_time": "2022-08-17T11:57:10.175Z"
   },
   {
    "duration": 27,
    "start_time": "2022-08-17T11:57:10.226Z"
   },
   {
    "duration": 4,
    "start_time": "2022-08-17T11:57:10.256Z"
   },
   {
    "duration": 24,
    "start_time": "2022-08-17T11:57:10.262Z"
   },
   {
    "duration": 14,
    "start_time": "2022-08-17T11:57:10.288Z"
   },
   {
    "duration": 20,
    "start_time": "2022-08-17T11:57:10.304Z"
   },
   {
    "duration": 20,
    "start_time": "2022-08-17T11:57:10.327Z"
   },
   {
    "duration": 11,
    "start_time": "2022-08-17T11:57:10.349Z"
   },
   {
    "duration": 28,
    "start_time": "2022-08-17T11:57:10.362Z"
   },
   {
    "duration": 20,
    "start_time": "2022-08-17T11:57:10.391Z"
   },
   {
    "duration": 144,
    "start_time": "2022-08-17T11:57:10.413Z"
   },
   {
    "duration": 12,
    "start_time": "2022-08-17T11:57:10.559Z"
   },
   {
    "duration": 178,
    "start_time": "2022-08-17T11:57:10.573Z"
   },
   {
    "duration": 1319,
    "start_time": "2022-08-17T12:00:04.750Z"
   },
   {
    "duration": 44,
    "start_time": "2022-08-17T12:00:06.072Z"
   },
   {
    "duration": 6,
    "start_time": "2022-08-17T12:00:06.118Z"
   },
   {
    "duration": 34,
    "start_time": "2022-08-17T12:00:06.125Z"
   },
   {
    "duration": 23,
    "start_time": "2022-08-17T12:00:06.162Z"
   },
   {
    "duration": 26,
    "start_time": "2022-08-17T12:00:06.187Z"
   },
   {
    "duration": 17,
    "start_time": "2022-08-17T12:00:06.215Z"
   },
   {
    "duration": 41,
    "start_time": "2022-08-17T12:00:06.234Z"
   },
   {
    "duration": 19,
    "start_time": "2022-08-17T12:00:06.277Z"
   },
   {
    "duration": 10,
    "start_time": "2022-08-17T12:00:06.298Z"
   },
   {
    "duration": 23,
    "start_time": "2022-08-17T12:00:06.310Z"
   },
   {
    "duration": 5,
    "start_time": "2022-08-17T12:00:06.335Z"
   },
   {
    "duration": 14,
    "start_time": "2022-08-17T12:00:06.342Z"
   },
   {
    "duration": 14,
    "start_time": "2022-08-17T12:00:06.359Z"
   },
   {
    "duration": 4,
    "start_time": "2022-08-17T12:00:06.375Z"
   },
   {
    "duration": 33,
    "start_time": "2022-08-17T12:00:06.380Z"
   },
   {
    "duration": 7,
    "start_time": "2022-08-17T12:00:06.415Z"
   },
   {
    "duration": 157,
    "start_time": "2022-08-17T12:00:06.423Z"
   },
   {
    "duration": 9,
    "start_time": "2022-08-17T12:00:06.581Z"
   },
   {
    "duration": 150,
    "start_time": "2022-08-17T12:00:06.591Z"
   },
   {
    "duration": 31,
    "start_time": "2022-08-17T12:00:37.295Z"
   },
   {
    "duration": 33,
    "start_time": "2022-08-17T12:02:24.113Z"
   },
   {
    "duration": 8,
    "start_time": "2022-08-17T12:13:38.912Z"
   },
   {
    "duration": 9,
    "start_time": "2022-08-17T12:13:55.127Z"
   },
   {
    "duration": 3,
    "start_time": "2022-08-17T12:15:26.514Z"
   },
   {
    "duration": 85,
    "start_time": "2022-08-17T12:15:26.518Z"
   },
   {
    "duration": 4,
    "start_time": "2022-08-17T12:15:26.604Z"
   },
   {
    "duration": 21,
    "start_time": "2022-08-17T12:15:26.609Z"
   },
   {
    "duration": 33,
    "start_time": "2022-08-17T12:15:26.632Z"
   },
   {
    "duration": 35,
    "start_time": "2022-08-17T12:15:26.666Z"
   },
   {
    "duration": 30,
    "start_time": "2022-08-17T12:15:26.703Z"
   },
   {
    "duration": 46,
    "start_time": "2022-08-17T12:15:26.734Z"
   },
   {
    "duration": 27,
    "start_time": "2022-08-17T12:15:26.781Z"
   },
   {
    "duration": 18,
    "start_time": "2022-08-17T12:15:26.809Z"
   },
   {
    "duration": 29,
    "start_time": "2022-08-17T12:15:26.829Z"
   },
   {
    "duration": 24,
    "start_time": "2022-08-17T12:15:26.859Z"
   },
   {
    "duration": 29,
    "start_time": "2022-08-17T12:15:26.884Z"
   },
   {
    "duration": 22,
    "start_time": "2022-08-17T12:15:26.915Z"
   },
   {
    "duration": 28,
    "start_time": "2022-08-17T12:15:26.938Z"
   },
   {
    "duration": 26,
    "start_time": "2022-08-17T12:15:26.968Z"
   },
   {
    "duration": 20,
    "start_time": "2022-08-17T12:15:26.996Z"
   },
   {
    "duration": 120,
    "start_time": "2022-08-17T12:15:27.017Z"
   },
   {
    "duration": 8,
    "start_time": "2022-08-17T12:15:27.138Z"
   },
   {
    "duration": 44,
    "start_time": "2022-08-17T12:15:27.148Z"
   },
   {
    "duration": 35,
    "start_time": "2022-08-17T12:15:27.193Z"
   },
   {
    "duration": 21,
    "start_time": "2022-08-17T12:15:27.229Z"
   },
   {
    "duration": 4,
    "start_time": "2022-08-17T12:16:09.253Z"
   },
   {
    "duration": 42,
    "start_time": "2022-08-17T12:16:09.259Z"
   },
   {
    "duration": 4,
    "start_time": "2022-08-17T12:16:09.303Z"
   },
   {
    "duration": 13,
    "start_time": "2022-08-17T12:16:09.308Z"
   },
   {
    "duration": 12,
    "start_time": "2022-08-17T12:16:09.324Z"
   },
   {
    "duration": 11,
    "start_time": "2022-08-17T12:16:09.337Z"
   },
   {
    "duration": 13,
    "start_time": "2022-08-17T12:16:09.349Z"
   },
   {
    "duration": 46,
    "start_time": "2022-08-17T12:16:09.363Z"
   },
   {
    "duration": 9,
    "start_time": "2022-08-17T12:16:09.411Z"
   },
   {
    "duration": 4,
    "start_time": "2022-08-17T12:16:09.422Z"
   },
   {
    "duration": 11,
    "start_time": "2022-08-17T12:16:09.428Z"
   },
   {
    "duration": 4,
    "start_time": "2022-08-17T12:16:09.440Z"
   },
   {
    "duration": 5,
    "start_time": "2022-08-17T12:16:09.446Z"
   },
   {
    "duration": 10,
    "start_time": "2022-08-17T12:16:09.454Z"
   },
   {
    "duration": 41,
    "start_time": "2022-08-17T12:16:09.465Z"
   },
   {
    "duration": 12,
    "start_time": "2022-08-17T12:16:09.508Z"
   },
   {
    "duration": 5,
    "start_time": "2022-08-17T12:16:09.522Z"
   },
   {
    "duration": 131,
    "start_time": "2022-08-17T12:16:09.529Z"
   },
   {
    "duration": 8,
    "start_time": "2022-08-17T12:16:09.662Z"
   },
   {
    "duration": 53,
    "start_time": "2022-08-17T12:16:09.672Z"
   },
   {
    "duration": 34,
    "start_time": "2022-08-17T12:16:09.727Z"
   },
   {
    "duration": 7,
    "start_time": "2022-08-17T12:16:09.763Z"
   },
   {
    "duration": 4,
    "start_time": "2022-08-17T12:24:57.048Z"
   },
   {
    "duration": 55,
    "start_time": "2022-08-17T12:24:57.054Z"
   },
   {
    "duration": 4,
    "start_time": "2022-08-17T12:24:57.110Z"
   },
   {
    "duration": 14,
    "start_time": "2022-08-17T12:24:57.116Z"
   },
   {
    "duration": 12,
    "start_time": "2022-08-17T12:24:57.131Z"
   },
   {
    "duration": 10,
    "start_time": "2022-08-17T12:24:57.145Z"
   },
   {
    "duration": 12,
    "start_time": "2022-08-17T12:24:57.156Z"
   },
   {
    "duration": 42,
    "start_time": "2022-08-17T12:24:57.169Z"
   },
   {
    "duration": 8,
    "start_time": "2022-08-17T12:24:57.213Z"
   },
   {
    "duration": 4,
    "start_time": "2022-08-17T12:24:57.235Z"
   },
   {
    "duration": 11,
    "start_time": "2022-08-17T12:24:57.241Z"
   },
   {
    "duration": 9,
    "start_time": "2022-08-17T12:24:57.253Z"
   },
   {
    "duration": 6,
    "start_time": "2022-08-17T12:24:57.263Z"
   },
   {
    "duration": 11,
    "start_time": "2022-08-17T12:24:57.270Z"
   },
   {
    "duration": 4,
    "start_time": "2022-08-17T12:24:57.282Z"
   },
   {
    "duration": 28,
    "start_time": "2022-08-17T12:24:57.287Z"
   },
   {
    "duration": 5,
    "start_time": "2022-08-17T12:24:57.316Z"
   },
   {
    "duration": 126,
    "start_time": "2022-08-17T12:24:57.323Z"
   },
   {
    "duration": 9,
    "start_time": "2022-08-17T12:24:57.451Z"
   },
   {
    "duration": 46,
    "start_time": "2022-08-17T12:24:57.462Z"
   },
   {
    "duration": 30,
    "start_time": "2022-08-17T12:24:57.509Z"
   },
   {
    "duration": 6,
    "start_time": "2022-08-17T12:24:57.540Z"
   },
   {
    "duration": 6,
    "start_time": "2022-08-17T12:31:01.577Z"
   },
   {
    "duration": 4,
    "start_time": "2022-08-17T12:42:37.069Z"
   },
   {
    "duration": 42,
    "start_time": "2022-08-17T12:42:37.075Z"
   },
   {
    "duration": 4,
    "start_time": "2022-08-17T12:42:37.118Z"
   },
   {
    "duration": 13,
    "start_time": "2022-08-17T12:42:37.123Z"
   },
   {
    "duration": 13,
    "start_time": "2022-08-17T12:42:37.137Z"
   },
   {
    "duration": 12,
    "start_time": "2022-08-17T12:42:37.151Z"
   },
   {
    "duration": 42,
    "start_time": "2022-08-17T12:42:37.165Z"
   },
   {
    "duration": 19,
    "start_time": "2022-08-17T12:42:37.208Z"
   },
   {
    "duration": 14,
    "start_time": "2022-08-17T12:42:37.230Z"
   },
   {
    "duration": 4,
    "start_time": "2022-08-17T12:42:37.245Z"
   },
   {
    "duration": 10,
    "start_time": "2022-08-17T12:42:37.251Z"
   },
   {
    "duration": 5,
    "start_time": "2022-08-17T12:42:37.263Z"
   },
   {
    "duration": 8,
    "start_time": "2022-08-17T12:42:37.269Z"
   },
   {
    "duration": 9,
    "start_time": "2022-08-17T12:42:37.306Z"
   },
   {
    "duration": 7,
    "start_time": "2022-08-17T12:42:37.316Z"
   },
   {
    "duration": 19,
    "start_time": "2022-08-17T12:42:37.325Z"
   },
   {
    "duration": 6,
    "start_time": "2022-08-17T12:42:37.345Z"
   },
   {
    "duration": 133,
    "start_time": "2022-08-17T12:42:37.353Z"
   },
   {
    "duration": 10,
    "start_time": "2022-08-17T12:42:37.488Z"
   },
   {
    "duration": 36,
    "start_time": "2022-08-17T12:42:37.506Z"
   },
   {
    "duration": 29,
    "start_time": "2022-08-17T12:42:37.544Z"
   },
   {
    "duration": 5,
    "start_time": "2022-08-17T12:42:37.575Z"
   },
   {
    "duration": 25,
    "start_time": "2022-08-17T12:42:37.582Z"
   },
   {
    "duration": 19,
    "start_time": "2022-08-17T13:02:22.077Z"
   },
   {
    "duration": 9,
    "start_time": "2022-08-17T13:13:31.385Z"
   },
   {
    "duration": 4,
    "start_time": "2022-08-17T13:14:05.599Z"
   },
   {
    "duration": 43,
    "start_time": "2022-08-17T13:14:05.605Z"
   },
   {
    "duration": 4,
    "start_time": "2022-08-17T13:14:05.649Z"
   },
   {
    "duration": 13,
    "start_time": "2022-08-17T13:14:05.655Z"
   },
   {
    "duration": 12,
    "start_time": "2022-08-17T13:14:05.670Z"
   },
   {
    "duration": 84,
    "start_time": "2022-08-17T13:14:05.684Z"
   },
   {
    "duration": 13,
    "start_time": "2022-08-17T13:14:05.770Z"
   },
   {
    "duration": 32,
    "start_time": "2022-08-17T13:14:05.785Z"
   },
   {
    "duration": 9,
    "start_time": "2022-08-17T13:14:05.818Z"
   },
   {
    "duration": 4,
    "start_time": "2022-08-17T13:14:05.828Z"
   },
   {
    "duration": 8,
    "start_time": "2022-08-17T13:14:05.833Z"
   },
   {
    "duration": 4,
    "start_time": "2022-08-17T13:14:05.843Z"
   },
   {
    "duration": 6,
    "start_time": "2022-08-17T13:14:05.850Z"
   },
   {
    "duration": 10,
    "start_time": "2022-08-17T13:14:05.857Z"
   },
   {
    "duration": 38,
    "start_time": "2022-08-17T13:14:05.869Z"
   },
   {
    "duration": 12,
    "start_time": "2022-08-17T13:14:05.908Z"
   },
   {
    "duration": 6,
    "start_time": "2022-08-17T13:14:05.921Z"
   },
   {
    "duration": 136,
    "start_time": "2022-08-17T13:14:05.929Z"
   },
   {
    "duration": 9,
    "start_time": "2022-08-17T13:14:06.068Z"
   },
   {
    "duration": 56,
    "start_time": "2022-08-17T13:14:06.079Z"
   },
   {
    "duration": 35,
    "start_time": "2022-08-17T13:14:06.136Z"
   },
   {
    "duration": 35,
    "start_time": "2022-08-17T13:14:06.173Z"
   },
   {
    "duration": 611,
    "start_time": "2022-08-17T13:14:06.210Z"
   },
   {
    "duration": 582,
    "start_time": "2022-08-17T13:14:16.426Z"
   },
   {
    "duration": 155,
    "start_time": "2022-08-17T13:17:21.510Z"
   },
   {
    "duration": 19,
    "start_time": "2022-08-17T13:20:12.645Z"
   },
   {
    "duration": 229,
    "start_time": "2022-08-17T13:21:08.081Z"
   },
   {
    "duration": 1403,
    "start_time": "2022-08-17T13:29:02.557Z"
   },
   {
    "duration": 41,
    "start_time": "2022-08-17T13:29:03.963Z"
   },
   {
    "duration": 5,
    "start_time": "2022-08-17T13:29:04.006Z"
   },
   {
    "duration": 47,
    "start_time": "2022-08-17T13:29:04.013Z"
   },
   {
    "duration": 30,
    "start_time": "2022-08-17T13:29:04.063Z"
   },
   {
    "duration": 19,
    "start_time": "2022-08-17T13:29:04.095Z"
   },
   {
    "duration": 29,
    "start_time": "2022-08-17T13:29:04.116Z"
   },
   {
    "duration": 40,
    "start_time": "2022-08-17T13:29:04.147Z"
   },
   {
    "duration": 28,
    "start_time": "2022-08-17T13:29:04.188Z"
   },
   {
    "duration": 15,
    "start_time": "2022-08-17T13:29:04.218Z"
   },
   {
    "duration": 23,
    "start_time": "2022-08-17T13:29:04.234Z"
   },
   {
    "duration": 28,
    "start_time": "2022-08-17T13:29:04.258Z"
   },
   {
    "duration": 21,
    "start_time": "2022-08-17T13:29:04.288Z"
   },
   {
    "duration": 22,
    "start_time": "2022-08-17T13:29:04.312Z"
   },
   {
    "duration": 25,
    "start_time": "2022-08-17T13:29:04.336Z"
   },
   {
    "duration": 29,
    "start_time": "2022-08-17T13:29:04.363Z"
   },
   {
    "duration": 12,
    "start_time": "2022-08-17T13:29:04.395Z"
   },
   {
    "duration": 141,
    "start_time": "2022-08-17T13:29:04.409Z"
   },
   {
    "duration": 10,
    "start_time": "2022-08-17T13:29:04.552Z"
   },
   {
    "duration": 74,
    "start_time": "2022-08-17T13:29:04.563Z"
   },
   {
    "duration": 30,
    "start_time": "2022-08-17T13:29:04.638Z"
   },
   {
    "duration": 38,
    "start_time": "2022-08-17T13:29:04.669Z"
   },
   {
    "duration": 621,
    "start_time": "2022-08-17T13:29:04.709Z"
   },
   {
    "duration": 167,
    "start_time": "2022-08-17T13:29:05.331Z"
   },
   {
    "duration": 22,
    "start_time": "2022-08-17T13:29:05.500Z"
   },
   {
    "duration": 87,
    "start_time": "2022-08-17T13:29:05.524Z"
   },
   {
    "duration": 64,
    "start_time": "2022-08-17T13:59:16.888Z"
   },
   {
    "duration": 747,
    "start_time": "2022-08-17T14:03:56.846Z"
   },
   {
    "duration": 158,
    "start_time": "2022-08-17T14:05:33.187Z"
   },
   {
    "duration": 5,
    "start_time": "2022-08-17T14:10:08.123Z"
   },
   {
    "duration": 78,
    "start_time": "2022-08-17T14:10:08.130Z"
   },
   {
    "duration": 4,
    "start_time": "2022-08-17T14:10:08.210Z"
   },
   {
    "duration": 28,
    "start_time": "2022-08-17T14:10:08.216Z"
   },
   {
    "duration": 26,
    "start_time": "2022-08-17T14:10:08.246Z"
   },
   {
    "duration": 28,
    "start_time": "2022-08-17T14:10:08.273Z"
   },
   {
    "duration": 20,
    "start_time": "2022-08-17T14:10:08.303Z"
   },
   {
    "duration": 30,
    "start_time": "2022-08-17T14:10:08.325Z"
   },
   {
    "duration": 19,
    "start_time": "2022-08-17T14:10:08.358Z"
   },
   {
    "duration": 21,
    "start_time": "2022-08-17T14:10:08.379Z"
   },
   {
    "duration": 24,
    "start_time": "2022-08-17T14:10:08.402Z"
   },
   {
    "duration": 17,
    "start_time": "2022-08-17T14:10:08.427Z"
   },
   {
    "duration": 25,
    "start_time": "2022-08-17T14:10:08.446Z"
   },
   {
    "duration": 16,
    "start_time": "2022-08-17T14:10:08.473Z"
   },
   {
    "duration": 12,
    "start_time": "2022-08-17T14:10:08.490Z"
   },
   {
    "duration": 24,
    "start_time": "2022-08-17T14:10:08.504Z"
   },
   {
    "duration": 9,
    "start_time": "2022-08-17T14:10:08.531Z"
   },
   {
    "duration": 124,
    "start_time": "2022-08-17T14:10:08.542Z"
   },
   {
    "duration": 9,
    "start_time": "2022-08-17T14:10:08.667Z"
   },
   {
    "duration": 48,
    "start_time": "2022-08-17T14:10:08.677Z"
   },
   {
    "duration": 32,
    "start_time": "2022-08-17T14:10:08.727Z"
   },
   {
    "duration": 46,
    "start_time": "2022-08-17T14:10:08.761Z"
   },
   {
    "duration": 599,
    "start_time": "2022-08-17T14:10:08.808Z"
   },
   {
    "duration": 164,
    "start_time": "2022-08-17T14:10:09.409Z"
   },
   {
    "duration": 17,
    "start_time": "2022-08-17T14:10:09.575Z"
   },
   {
    "duration": 112,
    "start_time": "2022-08-17T14:10:09.605Z"
   },
   {
    "duration": 132,
    "start_time": "2022-08-17T14:10:09.719Z"
   },
   {
    "duration": 907,
    "start_time": "2022-08-17T14:10:09.854Z"
   },
   {
    "duration": 105,
    "start_time": "2022-08-17T14:10:10.806Z"
   },
   {
    "duration": 13,
    "start_time": "2022-08-17T14:22:03.268Z"
   },
   {
    "duration": 106,
    "start_time": "2022-08-17T14:22:06.413Z"
   },
   {
    "duration": 8,
    "start_time": "2022-08-17T14:22:20.472Z"
   },
   {
    "duration": 53,
    "start_time": "2022-08-17T14:25:09.212Z"
   },
   {
    "duration": 763,
    "start_time": "2022-08-17T14:26:22.909Z"
   },
   {
    "duration": 1072,
    "start_time": "2022-08-17T14:26:35.325Z"
   },
   {
    "duration": 5,
    "start_time": "2022-08-17T14:26:52.120Z"
   },
   {
    "duration": 62,
    "start_time": "2022-08-17T14:26:52.127Z"
   },
   {
    "duration": 5,
    "start_time": "2022-08-17T14:26:52.191Z"
   },
   {
    "duration": 17,
    "start_time": "2022-08-17T14:26:52.198Z"
   },
   {
    "duration": 15,
    "start_time": "2022-08-17T14:26:52.216Z"
   },
   {
    "duration": 11,
    "start_time": "2022-08-17T14:26:52.233Z"
   },
   {
    "duration": 18,
    "start_time": "2022-08-17T14:26:52.246Z"
   },
   {
    "duration": 44,
    "start_time": "2022-08-17T14:26:52.265Z"
   },
   {
    "duration": 13,
    "start_time": "2022-08-17T14:26:52.313Z"
   },
   {
    "duration": 5,
    "start_time": "2022-08-17T14:26:52.328Z"
   },
   {
    "duration": 12,
    "start_time": "2022-08-17T14:26:52.335Z"
   },
   {
    "duration": 5,
    "start_time": "2022-08-17T14:26:52.349Z"
   },
   {
    "duration": 51,
    "start_time": "2022-08-17T14:26:52.355Z"
   },
   {
    "duration": 13,
    "start_time": "2022-08-17T14:26:52.408Z"
   },
   {
    "duration": 5,
    "start_time": "2022-08-17T14:26:52.423Z"
   },
   {
    "duration": 16,
    "start_time": "2022-08-17T14:26:52.430Z"
   },
   {
    "duration": 8,
    "start_time": "2022-08-17T14:26:52.448Z"
   },
   {
    "duration": 161,
    "start_time": "2022-08-17T14:26:52.457Z"
   },
   {
    "duration": 11,
    "start_time": "2022-08-17T14:26:52.620Z"
   },
   {
    "duration": 47,
    "start_time": "2022-08-17T14:26:52.633Z"
   },
   {
    "duration": 58,
    "start_time": "2022-08-17T14:26:52.682Z"
   },
   {
    "duration": 28,
    "start_time": "2022-08-17T14:26:52.743Z"
   },
   {
    "duration": 667,
    "start_time": "2022-08-17T14:26:52.773Z"
   },
   {
    "duration": 178,
    "start_time": "2022-08-17T14:26:53.444Z"
   },
   {
    "duration": 20,
    "start_time": "2022-08-17T14:26:53.624Z"
   },
   {
    "duration": 164,
    "start_time": "2022-08-17T14:26:53.646Z"
   },
   {
    "duration": 139,
    "start_time": "2022-08-17T14:26:53.813Z"
   },
   {
    "duration": 887,
    "start_time": "2022-08-17T14:26:53.954Z"
   },
   {
    "duration": 265,
    "start_time": "2022-08-17T14:26:54.843Z"
   },
   {
    "duration": 11,
    "start_time": "2022-08-17T14:26:55.110Z"
   },
   {
    "duration": 9,
    "start_time": "2022-08-17T14:26:55.123Z"
   },
   {
    "duration": 89,
    "start_time": "2022-08-17T14:26:55.133Z"
   },
   {
    "duration": 903,
    "start_time": "2022-08-17T14:26:55.224Z"
   },
   {
    "duration": 84,
    "start_time": "2022-08-17T14:26:56.129Z"
   },
   {
    "duration": 49,
    "start_time": "2022-08-17T14:28:40.666Z"
   },
   {
    "duration": 52,
    "start_time": "2022-08-17T14:33:02.031Z"
   },
   {
    "duration": 129,
    "start_time": "2022-08-17T14:36:44.579Z"
   },
   {
    "duration": 2,
    "start_time": "2022-08-17T14:37:31.708Z"
   },
   {
    "duration": 2,
    "start_time": "2022-08-17T14:37:37.162Z"
   },
   {
    "duration": 100,
    "start_time": "2022-08-17T14:39:01.803Z"
   },
   {
    "duration": 1008,
    "start_time": "2022-08-17T14:55:06.036Z"
   },
   {
    "duration": 105,
    "start_time": "2022-08-17T14:58:52.413Z"
   },
   {
    "duration": 13,
    "start_time": "2022-08-17T15:11:55.838Z"
   },
   {
    "duration": 13,
    "start_time": "2022-08-17T15:19:50.878Z"
   },
   {
    "duration": 35,
    "start_time": "2022-08-17T15:22:14.814Z"
   },
   {
    "duration": 417,
    "start_time": "2022-08-17T15:23:20.829Z"
   },
   {
    "duration": 64,
    "start_time": "2022-08-17T15:24:19.344Z"
   },
   {
    "duration": 11,
    "start_time": "2022-08-17T19:59:10.037Z"
   },
   {
    "duration": 4,
    "start_time": "2022-08-17T20:07:40.340Z"
   },
   {
    "duration": 46,
    "start_time": "2022-08-17T20:07:40.346Z"
   },
   {
    "duration": 4,
    "start_time": "2022-08-17T20:07:40.394Z"
   },
   {
    "duration": 31,
    "start_time": "2022-08-17T20:07:40.399Z"
   },
   {
    "duration": 12,
    "start_time": "2022-08-17T20:07:40.434Z"
   },
   {
    "duration": 9,
    "start_time": "2022-08-17T20:07:40.448Z"
   },
   {
    "duration": 15,
    "start_time": "2022-08-17T20:07:40.459Z"
   },
   {
    "duration": 50,
    "start_time": "2022-08-17T20:07:40.476Z"
   },
   {
    "duration": 8,
    "start_time": "2022-08-17T20:07:40.528Z"
   },
   {
    "duration": 4,
    "start_time": "2022-08-17T20:07:40.537Z"
   },
   {
    "duration": 9,
    "start_time": "2022-08-17T20:07:40.542Z"
   },
   {
    "duration": 4,
    "start_time": "2022-08-17T20:07:40.553Z"
   },
   {
    "duration": 6,
    "start_time": "2022-08-17T20:07:40.558Z"
   },
   {
    "duration": 10,
    "start_time": "2022-08-17T20:07:40.567Z"
   },
   {
    "duration": 16,
    "start_time": "2022-08-17T20:07:40.608Z"
   },
   {
    "duration": 13,
    "start_time": "2022-08-17T20:07:40.626Z"
   },
   {
    "duration": 5,
    "start_time": "2022-08-17T20:07:40.640Z"
   },
   {
    "duration": 122,
    "start_time": "2022-08-17T20:07:40.646Z"
   },
   {
    "duration": 12,
    "start_time": "2022-08-17T20:07:40.770Z"
   },
   {
    "duration": 60,
    "start_time": "2022-08-17T20:07:40.783Z"
   },
   {
    "duration": 40,
    "start_time": "2022-08-17T20:07:40.845Z"
   },
   {
    "duration": 44,
    "start_time": "2022-08-17T20:07:40.886Z"
   },
   {
    "duration": 607,
    "start_time": "2022-08-17T20:07:40.931Z"
   },
   {
    "duration": 154,
    "start_time": "2022-08-17T20:07:41.539Z"
   },
   {
    "duration": 31,
    "start_time": "2022-08-17T20:07:41.694Z"
   },
   {
    "duration": 87,
    "start_time": "2022-08-17T20:07:41.727Z"
   },
   {
    "duration": 146,
    "start_time": "2022-08-17T20:07:41.816Z"
   },
   {
    "duration": 832,
    "start_time": "2022-08-17T20:07:41.963Z"
   },
   {
    "duration": 117,
    "start_time": "2022-08-17T20:07:42.797Z"
   },
   {
    "duration": 12,
    "start_time": "2022-08-17T20:07:42.916Z"
   },
   {
    "duration": 98,
    "start_time": "2022-08-17T20:07:42.930Z"
   },
   {
    "duration": 49,
    "start_time": "2022-08-17T20:07:43.030Z"
   },
   {
    "duration": 953,
    "start_time": "2022-08-17T20:07:43.080Z"
   },
   {
    "duration": 174,
    "start_time": "2022-08-17T20:07:44.034Z"
   },
   {
    "duration": 105,
    "start_time": "2022-08-17T20:07:44.210Z"
   },
   {
    "duration": 34,
    "start_time": "2022-08-17T20:07:44.316Z"
   },
   {
    "duration": 438,
    "start_time": "2022-08-17T20:07:44.352Z"
   },
   {
    "duration": 119,
    "start_time": "2022-08-17T20:07:44.792Z"
   },
   {
    "duration": 19,
    "start_time": "2022-08-17T20:07:44.913Z"
   },
   {
    "duration": 1355,
    "start_time": "2022-08-17T20:22:15.695Z"
   },
   {
    "duration": 38,
    "start_time": "2022-08-17T20:22:17.051Z"
   },
   {
    "duration": 5,
    "start_time": "2022-08-17T20:22:17.090Z"
   },
   {
    "duration": 17,
    "start_time": "2022-08-17T20:22:17.097Z"
   },
   {
    "duration": 12,
    "start_time": "2022-08-17T20:22:17.115Z"
   },
   {
    "duration": 12,
    "start_time": "2022-08-17T20:22:17.128Z"
   },
   {
    "duration": 10,
    "start_time": "2022-08-17T20:22:17.141Z"
   },
   {
    "duration": 19,
    "start_time": "2022-08-17T20:22:17.152Z"
   },
   {
    "duration": 7,
    "start_time": "2022-08-17T20:22:17.172Z"
   },
   {
    "duration": 3,
    "start_time": "2022-08-17T20:22:17.207Z"
   },
   {
    "duration": 8,
    "start_time": "2022-08-17T20:22:17.212Z"
   },
   {
    "duration": 5,
    "start_time": "2022-08-17T20:22:17.223Z"
   },
   {
    "duration": 5,
    "start_time": "2022-08-17T20:22:17.229Z"
   },
   {
    "duration": 10,
    "start_time": "2022-08-17T20:22:17.235Z"
   },
   {
    "duration": 3,
    "start_time": "2022-08-17T20:22:17.247Z"
   },
   {
    "duration": 11,
    "start_time": "2022-08-17T20:22:17.251Z"
   },
   {
    "duration": 45,
    "start_time": "2022-08-17T20:22:17.263Z"
   },
   {
    "duration": 115,
    "start_time": "2022-08-17T20:22:17.313Z"
   },
   {
    "duration": 9,
    "start_time": "2022-08-17T20:22:17.429Z"
   },
   {
    "duration": 64,
    "start_time": "2022-08-17T20:22:17.439Z"
   },
   {
    "duration": 33,
    "start_time": "2022-08-17T20:22:17.504Z"
   },
   {
    "duration": 18,
    "start_time": "2022-08-17T20:22:17.539Z"
   },
   {
    "duration": 611,
    "start_time": "2022-08-17T20:22:17.558Z"
   },
   {
    "duration": 148,
    "start_time": "2022-08-17T20:22:18.170Z"
   },
   {
    "duration": 16,
    "start_time": "2022-08-17T20:22:18.320Z"
   },
   {
    "duration": 172,
    "start_time": "2022-08-17T20:22:18.337Z"
   },
   {
    "duration": 141,
    "start_time": "2022-08-17T20:22:18.511Z"
   },
   {
    "duration": 727,
    "start_time": "2022-08-17T20:22:18.656Z"
   },
   {
    "duration": 129,
    "start_time": "2022-08-17T20:22:19.384Z"
   },
   {
    "duration": 90,
    "start_time": "2022-08-17T20:22:19.517Z"
   },
   {
    "duration": 6,
    "start_time": "2022-08-17T20:22:19.608Z"
   },
   {
    "duration": 64,
    "start_time": "2022-08-17T20:22:19.615Z"
   },
   {
    "duration": 950,
    "start_time": "2022-08-17T20:22:19.681Z"
   },
   {
    "duration": 182,
    "start_time": "2022-08-17T20:22:20.633Z"
   },
   {
    "duration": 91,
    "start_time": "2022-08-17T20:22:20.817Z"
   },
   {
    "duration": 44,
    "start_time": "2022-08-17T20:22:20.909Z"
   },
   {
    "duration": 469,
    "start_time": "2022-08-17T20:22:20.955Z"
   },
   {
    "duration": 181,
    "start_time": "2022-08-17T20:22:21.426Z"
   },
   {
    "duration": 101,
    "start_time": "2022-08-17T20:22:21.608Z"
   },
   {
    "duration": 83,
    "start_time": "2022-08-17T20:22:21.713Z"
   },
   {
    "duration": 1300,
    "start_time": "2022-08-17T20:38:49.066Z"
   },
   {
    "duration": 49,
    "start_time": "2022-08-17T20:38:50.368Z"
   },
   {
    "duration": 5,
    "start_time": "2022-08-17T20:38:50.420Z"
   },
   {
    "duration": 15,
    "start_time": "2022-08-17T20:38:50.427Z"
   },
   {
    "duration": 12,
    "start_time": "2022-08-17T20:38:50.443Z"
   },
   {
    "duration": 11,
    "start_time": "2022-08-17T20:38:50.456Z"
   },
   {
    "duration": 13,
    "start_time": "2022-08-17T20:38:50.468Z"
   },
   {
    "duration": 44,
    "start_time": "2022-08-17T20:38:50.482Z"
   },
   {
    "duration": 9,
    "start_time": "2022-08-17T20:38:50.528Z"
   },
   {
    "duration": 3,
    "start_time": "2022-08-17T20:38:50.539Z"
   },
   {
    "duration": 10,
    "start_time": "2022-08-17T20:38:50.544Z"
   },
   {
    "duration": 4,
    "start_time": "2022-08-17T20:38:50.555Z"
   },
   {
    "duration": 6,
    "start_time": "2022-08-17T20:38:50.561Z"
   },
   {
    "duration": 47,
    "start_time": "2022-08-17T20:38:50.569Z"
   },
   {
    "duration": 7,
    "start_time": "2022-08-17T20:38:50.617Z"
   },
   {
    "duration": 12,
    "start_time": "2022-08-17T20:38:50.626Z"
   },
   {
    "duration": 7,
    "start_time": "2022-08-17T20:38:50.639Z"
   },
   {
    "duration": 145,
    "start_time": "2022-08-17T20:38:50.647Z"
   },
   {
    "duration": 23,
    "start_time": "2022-08-17T20:38:50.794Z"
   },
   {
    "duration": 50,
    "start_time": "2022-08-17T20:38:50.820Z"
   },
   {
    "duration": 41,
    "start_time": "2022-08-17T20:38:50.872Z"
   },
   {
    "duration": 19,
    "start_time": "2022-08-17T20:38:50.916Z"
   },
   {
    "duration": 587,
    "start_time": "2022-08-17T20:38:50.938Z"
   },
   {
    "duration": 148,
    "start_time": "2022-08-17T20:38:51.527Z"
   },
   {
    "duration": 16,
    "start_time": "2022-08-17T20:38:51.676Z"
   },
   {
    "duration": 107,
    "start_time": "2022-08-17T20:38:51.706Z"
   },
   {
    "duration": 136,
    "start_time": "2022-08-17T20:38:51.818Z"
   },
   {
    "duration": 723,
    "start_time": "2022-08-17T20:38:51.957Z"
   },
   {
    "duration": 135,
    "start_time": "2022-08-17T20:38:52.682Z"
   },
   {
    "duration": 89,
    "start_time": "2022-08-17T20:38:52.823Z"
   },
   {
    "duration": 7,
    "start_time": "2022-08-17T20:38:52.920Z"
   },
   {
    "duration": 45,
    "start_time": "2022-08-17T20:38:52.928Z"
   },
   {
    "duration": 958,
    "start_time": "2022-08-17T20:38:52.975Z"
   },
   {
    "duration": 82,
    "start_time": "2022-08-17T20:38:53.934Z"
   },
   {
    "duration": 97,
    "start_time": "2022-08-17T20:38:54.018Z"
   },
   {
    "duration": 29,
    "start_time": "2022-08-17T20:38:54.120Z"
   },
   {
    "duration": 430,
    "start_time": "2022-08-17T20:38:54.151Z"
   },
   {
    "duration": 45,
    "start_time": "2022-08-17T20:38:54.583Z"
   },
   {
    "duration": 17,
    "start_time": "2022-08-17T20:38:54.707Z"
   },
   {
    "duration": 1406,
    "start_time": "2022-08-17T20:42:36.078Z"
   },
   {
    "duration": 43,
    "start_time": "2022-08-17T20:42:37.486Z"
   },
   {
    "duration": 5,
    "start_time": "2022-08-17T20:42:37.530Z"
   },
   {
    "duration": 31,
    "start_time": "2022-08-17T20:42:37.536Z"
   },
   {
    "duration": 13,
    "start_time": "2022-08-17T20:42:37.569Z"
   },
   {
    "duration": 20,
    "start_time": "2022-08-17T20:42:37.584Z"
   },
   {
    "duration": 28,
    "start_time": "2022-08-17T20:42:37.605Z"
   },
   {
    "duration": 28,
    "start_time": "2022-08-17T20:42:37.635Z"
   },
   {
    "duration": 23,
    "start_time": "2022-08-17T20:42:37.665Z"
   },
   {
    "duration": 25,
    "start_time": "2022-08-17T20:42:37.689Z"
   },
   {
    "duration": 25,
    "start_time": "2022-08-17T20:42:37.716Z"
   },
   {
    "duration": 22,
    "start_time": "2022-08-17T20:42:37.742Z"
   },
   {
    "duration": 17,
    "start_time": "2022-08-17T20:42:37.765Z"
   },
   {
    "duration": 32,
    "start_time": "2022-08-17T20:42:37.784Z"
   },
   {
    "duration": 18,
    "start_time": "2022-08-17T20:42:37.820Z"
   },
   {
    "duration": 24,
    "start_time": "2022-08-17T20:42:37.839Z"
   },
   {
    "duration": 10,
    "start_time": "2022-08-17T20:42:37.865Z"
   },
   {
    "duration": 141,
    "start_time": "2022-08-17T20:42:37.876Z"
   },
   {
    "duration": 9,
    "start_time": "2022-08-17T20:42:38.019Z"
   },
   {
    "duration": 94,
    "start_time": "2022-08-17T20:42:38.029Z"
   },
   {
    "duration": 29,
    "start_time": "2022-08-17T20:42:38.124Z"
   },
   {
    "duration": 17,
    "start_time": "2022-08-17T20:42:38.154Z"
   },
   {
    "duration": 600,
    "start_time": "2022-08-17T20:42:38.173Z"
   },
   {
    "duration": 154,
    "start_time": "2022-08-17T20:42:38.775Z"
   },
   {
    "duration": 18,
    "start_time": "2022-08-17T20:42:38.930Z"
   },
   {
    "duration": 78,
    "start_time": "2022-08-17T20:42:38.950Z"
   },
   {
    "duration": 129,
    "start_time": "2022-08-17T20:42:39.115Z"
   },
   {
    "duration": 746,
    "start_time": "2022-08-17T20:42:39.245Z"
   },
   {
    "duration": 133,
    "start_time": "2022-08-17T20:42:39.992Z"
   },
   {
    "duration": 13,
    "start_time": "2022-08-17T20:42:40.206Z"
   },
   {
    "duration": 6,
    "start_time": "2022-08-17T20:42:40.221Z"
   },
   {
    "duration": 54,
    "start_time": "2022-08-17T20:42:40.229Z"
   },
   {
    "duration": 982,
    "start_time": "2022-08-17T20:42:40.285Z"
   },
   {
    "duration": 143,
    "start_time": "2022-08-17T20:42:41.269Z"
   },
   {
    "duration": 96,
    "start_time": "2022-08-17T20:42:41.414Z"
   },
   {
    "duration": 32,
    "start_time": "2022-08-17T20:42:41.511Z"
   },
   {
    "duration": 433,
    "start_time": "2022-08-17T20:42:41.544Z"
   },
   {
    "duration": 46,
    "start_time": "2022-08-17T20:42:41.979Z"
   },
   {
    "duration": 100,
    "start_time": "2022-08-17T20:42:42.027Z"
   },
   {
    "duration": 1333,
    "start_time": "2022-08-17T20:49:44.422Z"
   },
   {
    "duration": 39,
    "start_time": "2022-08-17T20:49:45.757Z"
   },
   {
    "duration": 5,
    "start_time": "2022-08-17T20:49:45.798Z"
   },
   {
    "duration": 30,
    "start_time": "2022-08-17T20:49:45.804Z"
   },
   {
    "duration": 18,
    "start_time": "2022-08-17T20:49:45.836Z"
   },
   {
    "duration": 13,
    "start_time": "2022-08-17T20:49:45.856Z"
   },
   {
    "duration": 14,
    "start_time": "2022-08-17T20:49:45.871Z"
   },
   {
    "duration": 39,
    "start_time": "2022-08-17T20:49:45.887Z"
   },
   {
    "duration": 8,
    "start_time": "2022-08-17T20:49:45.927Z"
   },
   {
    "duration": 3,
    "start_time": "2022-08-17T20:49:45.937Z"
   },
   {
    "duration": 8,
    "start_time": "2022-08-17T20:49:45.941Z"
   },
   {
    "duration": 4,
    "start_time": "2022-08-17T20:49:45.950Z"
   },
   {
    "duration": 6,
    "start_time": "2022-08-17T20:49:45.956Z"
   },
   {
    "duration": 10,
    "start_time": "2022-08-17T20:49:45.963Z"
   },
   {
    "duration": 4,
    "start_time": "2022-08-17T20:49:46.007Z"
   },
   {
    "duration": 41,
    "start_time": "2022-08-17T20:49:46.012Z"
   },
   {
    "duration": 24,
    "start_time": "2022-08-17T20:49:46.055Z"
   },
   {
    "duration": 150,
    "start_time": "2022-08-17T20:49:46.080Z"
   },
   {
    "duration": 11,
    "start_time": "2022-08-17T20:49:46.232Z"
   },
   {
    "duration": 94,
    "start_time": "2022-08-17T20:49:46.244Z"
   },
   {
    "duration": 32,
    "start_time": "2022-08-17T20:49:46.341Z"
   },
   {
    "duration": 41,
    "start_time": "2022-08-17T20:49:46.375Z"
   },
   {
    "duration": 610,
    "start_time": "2022-08-17T20:49:46.424Z"
   },
   {
    "duration": 156,
    "start_time": "2022-08-17T20:49:47.036Z"
   },
   {
    "duration": 26,
    "start_time": "2022-08-17T20:49:47.193Z"
   },
   {
    "duration": 95,
    "start_time": "2022-08-17T20:49:47.221Z"
   },
   {
    "duration": 139,
    "start_time": "2022-08-17T20:49:47.318Z"
   },
   {
    "duration": 738,
    "start_time": "2022-08-17T20:49:47.460Z"
   },
   {
    "duration": 222,
    "start_time": "2022-08-17T20:49:48.200Z"
   },
   {
    "duration": 9,
    "start_time": "2022-08-17T20:49:48.424Z"
   },
   {
    "duration": 5,
    "start_time": "2022-08-17T20:49:48.434Z"
   },
   {
    "duration": 74,
    "start_time": "2022-08-17T20:49:48.440Z"
   },
   {
    "duration": 978,
    "start_time": "2022-08-17T20:49:48.517Z"
   },
   {
    "duration": 120,
    "start_time": "2022-08-17T20:49:49.497Z"
   },
   {
    "duration": 17,
    "start_time": "2022-08-17T20:49:49.618Z"
   },
   {
    "duration": 127,
    "start_time": "2022-08-17T20:49:49.636Z"
   },
   {
    "duration": 467,
    "start_time": "2022-08-17T20:49:49.765Z"
   },
   {
    "duration": 173,
    "start_time": "2022-08-17T20:49:50.234Z"
   },
   {
    "duration": 30,
    "start_time": "2022-08-17T20:49:50.409Z"
   },
   {
    "duration": 1415,
    "start_time": "2022-08-17T20:58:35.385Z"
   },
   {
    "duration": 42,
    "start_time": "2022-08-17T20:58:36.802Z"
   },
   {
    "duration": 5,
    "start_time": "2022-08-17T20:58:36.845Z"
   },
   {
    "duration": 16,
    "start_time": "2022-08-17T20:58:36.852Z"
   },
   {
    "duration": 12,
    "start_time": "2022-08-17T20:58:36.869Z"
   },
   {
    "duration": 10,
    "start_time": "2022-08-17T20:58:36.882Z"
   },
   {
    "duration": 21,
    "start_time": "2022-08-17T20:58:36.893Z"
   },
   {
    "duration": 16,
    "start_time": "2022-08-17T20:58:36.920Z"
   },
   {
    "duration": 7,
    "start_time": "2022-08-17T20:58:36.938Z"
   },
   {
    "duration": 3,
    "start_time": "2022-08-17T20:58:36.947Z"
   },
   {
    "duration": 9,
    "start_time": "2022-08-17T20:58:36.951Z"
   },
   {
    "duration": 3,
    "start_time": "2022-08-17T20:58:36.961Z"
   },
   {
    "duration": 6,
    "start_time": "2022-08-17T20:58:36.966Z"
   },
   {
    "duration": 12,
    "start_time": "2022-08-17T20:58:37.006Z"
   },
   {
    "duration": 4,
    "start_time": "2022-08-17T20:58:37.020Z"
   },
   {
    "duration": 13,
    "start_time": "2022-08-17T20:58:37.026Z"
   },
   {
    "duration": 5,
    "start_time": "2022-08-17T20:58:37.040Z"
   },
   {
    "duration": 134,
    "start_time": "2022-08-17T20:58:37.047Z"
   },
   {
    "duration": 9,
    "start_time": "2022-08-17T20:58:37.183Z"
   },
   {
    "duration": 61,
    "start_time": "2022-08-17T20:58:37.194Z"
   },
   {
    "duration": 28,
    "start_time": "2022-08-17T20:58:37.256Z"
   },
   {
    "duration": 27,
    "start_time": "2022-08-17T20:58:37.285Z"
   },
   {
    "duration": 578,
    "start_time": "2022-08-17T20:58:37.315Z"
   },
   {
    "duration": 150,
    "start_time": "2022-08-17T20:58:37.895Z"
   },
   {
    "duration": 15,
    "start_time": "2022-08-17T20:58:38.047Z"
   },
   {
    "duration": 61,
    "start_time": "2022-08-17T20:58:38.064Z"
   },
   {
    "duration": 126,
    "start_time": "2022-08-17T20:58:38.207Z"
   },
   {
    "duration": 736,
    "start_time": "2022-08-17T20:58:38.337Z"
   },
   {
    "duration": 53,
    "start_time": "2022-08-17T20:58:39.075Z"
   },
   {
    "duration": 99,
    "start_time": "2022-08-17T20:58:39.206Z"
   },
   {
    "duration": 17,
    "start_time": "2022-08-17T20:58:39.308Z"
   },
   {
    "duration": 44,
    "start_time": "2022-08-17T20:58:39.327Z"
   },
   {
    "duration": 971,
    "start_time": "2022-08-17T20:58:39.373Z"
   },
   {
    "duration": 81,
    "start_time": "2022-08-17T20:58:40.346Z"
   },
   {
    "duration": 94,
    "start_time": "2022-08-17T20:58:40.429Z"
   },
   {
    "duration": 31,
    "start_time": "2022-08-17T20:58:40.524Z"
   },
   {
    "duration": 463,
    "start_time": "2022-08-17T20:58:40.556Z"
   },
   {
    "duration": 98,
    "start_time": "2022-08-17T20:58:41.024Z"
   },
   {
    "duration": 87,
    "start_time": "2022-08-17T20:58:41.124Z"
   },
   {
    "duration": 1328,
    "start_time": "2022-08-17T21:02:46.385Z"
   },
   {
    "duration": 41,
    "start_time": "2022-08-17T21:02:47.715Z"
   },
   {
    "duration": 6,
    "start_time": "2022-08-17T21:02:47.757Z"
   },
   {
    "duration": 16,
    "start_time": "2022-08-17T21:02:47.764Z"
   },
   {
    "duration": 12,
    "start_time": "2022-08-17T21:02:47.782Z"
   },
   {
    "duration": 13,
    "start_time": "2022-08-17T21:02:47.795Z"
   },
   {
    "duration": 14,
    "start_time": "2022-08-17T21:02:47.809Z"
   },
   {
    "duration": 21,
    "start_time": "2022-08-17T21:02:47.825Z"
   },
   {
    "duration": 7,
    "start_time": "2022-08-17T21:02:47.847Z"
   },
   {
    "duration": 3,
    "start_time": "2022-08-17T21:02:47.855Z"
   },
   {
    "duration": 8,
    "start_time": "2022-08-17T21:02:47.859Z"
   },
   {
    "duration": 4,
    "start_time": "2022-08-17T21:02:47.869Z"
   },
   {
    "duration": 42,
    "start_time": "2022-08-17T21:02:47.874Z"
   },
   {
    "duration": 12,
    "start_time": "2022-08-17T21:02:47.920Z"
   },
   {
    "duration": 4,
    "start_time": "2022-08-17T21:02:47.934Z"
   },
   {
    "duration": 12,
    "start_time": "2022-08-17T21:02:47.939Z"
   },
   {
    "duration": 5,
    "start_time": "2022-08-17T21:02:47.953Z"
   },
   {
    "duration": 137,
    "start_time": "2022-08-17T21:02:47.960Z"
   },
   {
    "duration": 14,
    "start_time": "2022-08-17T21:02:48.108Z"
   },
   {
    "duration": 75,
    "start_time": "2022-08-17T21:02:48.124Z"
   },
   {
    "duration": 34,
    "start_time": "2022-08-17T21:02:48.200Z"
   },
   {
    "duration": 18,
    "start_time": "2022-08-17T21:02:48.235Z"
   },
   {
    "duration": 602,
    "start_time": "2022-08-17T21:02:48.254Z"
   },
   {
    "duration": 161,
    "start_time": "2022-08-17T21:02:48.857Z"
   },
   {
    "duration": 16,
    "start_time": "2022-08-17T21:02:49.020Z"
   },
   {
    "duration": 169,
    "start_time": "2022-08-17T21:02:49.038Z"
   },
   {
    "duration": 46,
    "start_time": "2022-08-17T21:02:49.209Z"
   },
   {
    "duration": 759,
    "start_time": "2022-08-17T21:02:49.256Z"
   },
   {
    "duration": 102,
    "start_time": "2022-08-17T21:02:50.019Z"
   },
   {
    "duration": 92,
    "start_time": "2022-08-17T21:02:50.122Z"
   },
   {
    "duration": 8,
    "start_time": "2022-08-17T21:02:50.216Z"
   },
   {
    "duration": 50,
    "start_time": "2022-08-17T21:02:50.226Z"
   },
   {
    "duration": 999,
    "start_time": "2022-08-17T21:02:50.277Z"
   },
   {
    "duration": 138,
    "start_time": "2022-08-17T21:02:51.277Z"
   },
   {
    "duration": 17,
    "start_time": "2022-08-17T21:02:51.416Z"
   },
   {
    "duration": 38,
    "start_time": "2022-08-17T21:02:51.511Z"
   },
   {
    "duration": 417,
    "start_time": "2022-08-17T21:02:51.550Z"
   },
   {
    "duration": 137,
    "start_time": "2022-08-17T21:02:51.969Z"
   },
   {
    "duration": 110,
    "start_time": "2022-08-17T21:02:52.108Z"
   },
   {
    "duration": 189343,
    "start_time": "2022-08-17T21:02:52.219Z"
   },
   {
    "duration": 2,
    "start_time": "2022-08-17T21:06:01.565Z"
   },
   {
    "duration": 1344,
    "start_time": "2022-08-17T21:07:29.433Z"
   },
   {
    "duration": 43,
    "start_time": "2022-08-17T21:07:30.779Z"
   },
   {
    "duration": 10,
    "start_time": "2022-08-17T21:07:30.823Z"
   },
   {
    "duration": 25,
    "start_time": "2022-08-17T21:07:30.834Z"
   },
   {
    "duration": 20,
    "start_time": "2022-08-17T21:07:30.861Z"
   },
   {
    "duration": 10,
    "start_time": "2022-08-17T21:07:30.883Z"
   },
   {
    "duration": 18,
    "start_time": "2022-08-17T21:07:30.894Z"
   },
   {
    "duration": 34,
    "start_time": "2022-08-17T21:07:30.916Z"
   },
   {
    "duration": 25,
    "start_time": "2022-08-17T21:07:30.952Z"
   },
   {
    "duration": 3,
    "start_time": "2022-08-17T21:07:30.979Z"
   },
   {
    "duration": 21,
    "start_time": "2022-08-17T21:07:30.983Z"
   },
   {
    "duration": 12,
    "start_time": "2022-08-17T21:07:31.009Z"
   },
   {
    "duration": 14,
    "start_time": "2022-08-17T21:07:31.023Z"
   },
   {
    "duration": 12,
    "start_time": "2022-08-17T21:07:31.041Z"
   },
   {
    "duration": 8,
    "start_time": "2022-08-17T21:07:31.055Z"
   },
   {
    "duration": 25,
    "start_time": "2022-08-17T21:07:31.065Z"
   },
   {
    "duration": 13,
    "start_time": "2022-08-17T21:07:31.093Z"
   },
   {
    "duration": 133,
    "start_time": "2022-08-17T21:07:31.108Z"
   },
   {
    "duration": 10,
    "start_time": "2022-08-17T21:07:31.242Z"
   },
   {
    "duration": 65,
    "start_time": "2022-08-17T21:07:31.254Z"
   },
   {
    "duration": 31,
    "start_time": "2022-08-17T21:07:31.320Z"
   },
   {
    "duration": 19,
    "start_time": "2022-08-17T21:07:31.353Z"
   },
   {
    "duration": 721,
    "start_time": "2022-08-17T21:07:31.373Z"
   },
   {
    "duration": 173,
    "start_time": "2022-08-17T21:07:32.096Z"
   },
   {
    "duration": 18,
    "start_time": "2022-08-17T21:07:32.271Z"
   },
   {
    "duration": 125,
    "start_time": "2022-08-17T21:07:32.291Z"
   },
   {
    "duration": 141,
    "start_time": "2022-08-17T21:07:32.418Z"
   },
   {
    "duration": 826,
    "start_time": "2022-08-17T21:07:32.561Z"
   },
   {
    "duration": 130,
    "start_time": "2022-08-17T21:07:33.389Z"
   },
   {
    "duration": 90,
    "start_time": "2022-08-17T21:07:33.521Z"
   },
   {
    "duration": 22,
    "start_time": "2022-08-17T21:07:33.612Z"
   },
   {
    "duration": 52,
    "start_time": "2022-08-17T21:07:33.635Z"
   },
   {
    "duration": 945,
    "start_time": "2022-08-17T21:07:33.688Z"
   },
   {
    "duration": 185,
    "start_time": "2022-08-17T21:07:34.635Z"
   },
   {
    "duration": 9,
    "start_time": "2022-08-17T21:07:34.822Z"
   },
   {
    "duration": 28,
    "start_time": "2022-08-17T21:07:34.832Z"
   },
   {
    "duration": 465,
    "start_time": "2022-08-17T21:07:34.862Z"
   },
   {
    "duration": 93,
    "start_time": "2022-08-17T21:07:35.328Z"
   },
   {
    "duration": 95,
    "start_time": "2022-08-17T21:07:35.422Z"
   },
   {
    "duration": 187678,
    "start_time": "2022-08-17T21:07:35.519Z"
   },
   {
    "duration": 5,
    "start_time": "2022-08-17T21:10:43.200Z"
   },
   {
    "duration": 4224,
    "start_time": "2022-08-17T21:22:24.991Z"
   },
   {
    "duration": 304,
    "start_time": "2022-08-17T21:26:45.029Z"
   },
   {
    "duration": 192,
    "start_time": "2022-08-17T21:27:43.214Z"
   },
   {
    "duration": 130,
    "start_time": "2022-08-17T21:28:07.979Z"
   },
   {
    "duration": 206,
    "start_time": "2022-08-17T21:28:13.313Z"
   },
   {
    "duration": 323,
    "start_time": "2022-08-17T21:32:20.837Z"
   },
   {
    "duration": 1306,
    "start_time": "2022-08-17T21:51:22.313Z"
   },
   {
    "duration": 39,
    "start_time": "2022-08-17T21:51:23.621Z"
   },
   {
    "duration": 5,
    "start_time": "2022-08-17T21:51:23.661Z"
   },
   {
    "duration": 15,
    "start_time": "2022-08-17T21:51:23.667Z"
   },
   {
    "duration": 12,
    "start_time": "2022-08-17T21:51:23.684Z"
   },
   {
    "duration": 9,
    "start_time": "2022-08-17T21:51:23.697Z"
   },
   {
    "duration": 11,
    "start_time": "2022-08-17T21:51:23.707Z"
   },
   {
    "duration": 19,
    "start_time": "2022-08-17T21:51:23.719Z"
   },
   {
    "duration": 6,
    "start_time": "2022-08-17T21:51:23.740Z"
   },
   {
    "duration": 2,
    "start_time": "2022-08-17T21:51:23.748Z"
   },
   {
    "duration": 9,
    "start_time": "2022-08-17T21:51:23.752Z"
   },
   {
    "duration": 4,
    "start_time": "2022-08-17T21:51:23.762Z"
   },
   {
    "duration": 5,
    "start_time": "2022-08-17T21:51:23.806Z"
   },
   {
    "duration": 10,
    "start_time": "2022-08-17T21:51:23.813Z"
   },
   {
    "duration": 4,
    "start_time": "2022-08-17T21:51:23.824Z"
   },
   {
    "duration": 10,
    "start_time": "2022-08-17T21:51:23.829Z"
   },
   {
    "duration": 5,
    "start_time": "2022-08-17T21:51:23.841Z"
   },
   {
    "duration": 135,
    "start_time": "2022-08-17T21:51:23.848Z"
   },
   {
    "duration": 21,
    "start_time": "2022-08-17T21:51:23.985Z"
   },
   {
    "duration": 49,
    "start_time": "2022-08-17T21:51:24.007Z"
   },
   {
    "duration": 28,
    "start_time": "2022-08-17T21:51:24.058Z"
   },
   {
    "duration": 26,
    "start_time": "2022-08-17T21:51:24.087Z"
   },
   {
    "duration": 573,
    "start_time": "2022-08-17T21:51:24.114Z"
   },
   {
    "duration": 145,
    "start_time": "2022-08-17T21:51:24.689Z"
   },
   {
    "duration": 16,
    "start_time": "2022-08-17T21:51:24.836Z"
   },
   {
    "duration": 158,
    "start_time": "2022-08-17T21:51:24.853Z"
   },
   {
    "duration": 128,
    "start_time": "2022-08-17T21:51:25.017Z"
   },
   {
    "duration": 707,
    "start_time": "2022-08-17T21:51:25.146Z"
   },
   {
    "duration": 154,
    "start_time": "2022-08-17T21:51:25.855Z"
   },
   {
    "duration": 102,
    "start_time": "2022-08-17T21:51:26.011Z"
   },
   {
    "duration": 7,
    "start_time": "2022-08-17T21:51:26.114Z"
   },
   {
    "duration": 83,
    "start_time": "2022-08-17T21:51:26.123Z"
   },
   {
    "duration": 907,
    "start_time": "2022-08-17T21:51:26.208Z"
   },
   {
    "duration": 190,
    "start_time": "2022-08-17T21:51:27.117Z"
   },
   {
    "duration": 9,
    "start_time": "2022-08-17T21:51:27.309Z"
   },
   {
    "duration": 30,
    "start_time": "2022-08-17T21:51:27.320Z"
   },
   {
    "duration": 426,
    "start_time": "2022-08-17T21:51:27.351Z"
   },
   {
    "duration": 130,
    "start_time": "2022-08-17T21:51:27.778Z"
   },
   {
    "duration": 106,
    "start_time": "2022-08-17T21:51:27.910Z"
   },
   {
    "duration": 181593,
    "start_time": "2022-08-17T21:51:28.018Z"
   },
   {
    "duration": 4715,
    "start_time": "2022-08-17T21:54:29.614Z"
   },
   {
    "duration": 221,
    "start_time": "2022-08-17T21:54:34.330Z"
   },
   {
    "duration": 339,
    "start_time": "2022-08-17T21:54:34.553Z"
   },
   {
    "duration": 2396,
    "start_time": "2022-08-18T02:18:00.582Z"
   },
   {
    "duration": 182,
    "start_time": "2022-08-18T02:18:02.981Z"
   },
   {
    "duration": 6,
    "start_time": "2022-08-18T02:18:03.165Z"
   },
   {
    "duration": 65,
    "start_time": "2022-08-18T02:18:03.172Z"
   },
   {
    "duration": 16,
    "start_time": "2022-08-18T02:18:03.240Z"
   },
   {
    "duration": 35,
    "start_time": "2022-08-18T02:18:03.258Z"
   },
   {
    "duration": 48,
    "start_time": "2022-08-18T02:18:03.295Z"
   },
   {
    "duration": 76,
    "start_time": "2022-08-18T02:18:03.345Z"
   },
   {
    "duration": 38,
    "start_time": "2022-08-18T02:18:03.424Z"
   },
   {
    "duration": 29,
    "start_time": "2022-08-18T02:18:03.464Z"
   },
   {
    "duration": 65,
    "start_time": "2022-08-18T02:18:03.495Z"
   },
   {
    "duration": 19,
    "start_time": "2022-08-18T02:18:03.562Z"
   },
   {
    "duration": 36,
    "start_time": "2022-08-18T02:18:03.583Z"
   },
   {
    "duration": 49,
    "start_time": "2022-08-18T02:18:03.623Z"
   },
   {
    "duration": 15,
    "start_time": "2022-08-18T02:18:03.673Z"
   },
   {
    "duration": 64,
    "start_time": "2022-08-18T02:18:03.690Z"
   },
   {
    "duration": 31,
    "start_time": "2022-08-18T02:18:03.756Z"
   },
   {
    "duration": 204,
    "start_time": "2022-08-18T02:18:03.789Z"
   },
   {
    "duration": 21,
    "start_time": "2022-08-18T02:18:03.996Z"
   },
   {
    "duration": 68,
    "start_time": "2022-08-18T02:18:04.020Z"
   },
   {
    "duration": 54,
    "start_time": "2022-08-18T02:18:04.089Z"
   },
   {
    "duration": 22,
    "start_time": "2022-08-18T02:18:04.145Z"
   },
   {
    "duration": 2057,
    "start_time": "2022-08-18T02:18:04.169Z"
   },
   {
    "duration": 472,
    "start_time": "2022-08-18T02:18:06.228Z"
   },
   {
    "duration": 32,
    "start_time": "2022-08-18T02:18:06.703Z"
   },
   {
    "duration": 265,
    "start_time": "2022-08-18T02:18:06.737Z"
   },
   {
    "duration": 157,
    "start_time": "2022-08-18T02:18:07.006Z"
   },
   {
    "duration": 1077,
    "start_time": "2022-08-18T02:18:07.165Z"
   },
   {
    "duration": 153,
    "start_time": "2022-08-18T02:18:08.244Z"
   },
   {
    "duration": 32,
    "start_time": "2022-08-18T02:18:08.405Z"
   },
   {
    "duration": 8,
    "start_time": "2022-08-18T02:18:08.439Z"
   },
   {
    "duration": 133,
    "start_time": "2022-08-18T02:18:08.449Z"
   },
   {
    "duration": 1380,
    "start_time": "2022-08-18T02:18:08.584Z"
   },
   {
    "duration": 151,
    "start_time": "2022-08-18T02:18:09.966Z"
   },
   {
    "duration": 85,
    "start_time": "2022-08-18T02:18:10.120Z"
   },
   {
    "duration": 55,
    "start_time": "2022-08-18T02:18:10.208Z"
   },
   {
    "duration": 673,
    "start_time": "2022-08-18T02:18:10.265Z"
   },
   {
    "duration": 153,
    "start_time": "2022-08-18T02:18:10.940Z"
   },
   {
    "duration": 37,
    "start_time": "2022-08-18T02:18:11.096Z"
   },
   {
    "duration": 273937,
    "start_time": "2022-08-18T02:18:11.135Z"
   },
   {
    "duration": 6320,
    "start_time": "2022-08-18T02:22:45.076Z"
   },
   {
    "duration": 295,
    "start_time": "2022-08-18T02:22:51.399Z"
   },
   {
    "duration": 554,
    "start_time": "2022-08-18T02:22:51.697Z"
   },
   {
    "duration": 48,
    "start_time": "2022-08-18T09:33:56.761Z"
   },
   {
    "duration": 1612,
    "start_time": "2022-08-18T09:34:06.633Z"
   },
   {
    "duration": 79,
    "start_time": "2022-08-18T09:34:08.247Z"
   },
   {
    "duration": 6,
    "start_time": "2022-08-18T09:34:08.327Z"
   },
   {
    "duration": 17,
    "start_time": "2022-08-18T09:34:08.334Z"
   },
   {
    "duration": 13,
    "start_time": "2022-08-18T09:34:08.353Z"
   },
   {
    "duration": 10,
    "start_time": "2022-08-18T09:34:08.367Z"
   },
   {
    "duration": 12,
    "start_time": "2022-08-18T09:34:08.379Z"
   },
   {
    "duration": 13,
    "start_time": "2022-08-18T09:34:12.270Z"
   },
   {
    "duration": 54,
    "start_time": "2022-08-18T09:35:39.951Z"
   },
   {
    "duration": 4,
    "start_time": "2022-08-18T09:37:17.173Z"
   },
   {
    "duration": 62,
    "start_time": "2022-08-18T09:37:17.179Z"
   },
   {
    "duration": 3,
    "start_time": "2022-08-18T09:37:17.243Z"
   },
   {
    "duration": 14,
    "start_time": "2022-08-18T09:37:17.248Z"
   },
   {
    "duration": 12,
    "start_time": "2022-08-18T09:37:17.263Z"
   },
   {
    "duration": 22,
    "start_time": "2022-08-18T09:37:17.276Z"
   },
   {
    "duration": 27,
    "start_time": "2022-08-18T09:37:17.301Z"
   },
   {
    "duration": 24,
    "start_time": "2022-08-18T09:37:17.330Z"
   },
   {
    "duration": 10,
    "start_time": "2022-08-18T09:37:17.356Z"
   },
   {
    "duration": 12,
    "start_time": "2022-08-18T09:37:17.367Z"
   },
   {
    "duration": 17,
    "start_time": "2022-08-18T09:37:17.381Z"
   },
   {
    "duration": 15,
    "start_time": "2022-08-18T09:37:17.400Z"
   },
   {
    "duration": 6,
    "start_time": "2022-08-18T09:37:17.417Z"
   },
   {
    "duration": 12,
    "start_time": "2022-08-18T09:37:17.425Z"
   },
   {
    "duration": 5,
    "start_time": "2022-08-18T09:37:17.438Z"
   },
   {
    "duration": 14,
    "start_time": "2022-08-18T09:37:17.444Z"
   },
   {
    "duration": 6,
    "start_time": "2022-08-18T09:37:17.460Z"
   },
   {
    "duration": 145,
    "start_time": "2022-08-18T09:37:17.467Z"
   },
   {
    "duration": 7,
    "start_time": "2022-08-18T09:37:21.099Z"
   },
   {
    "duration": 60,
    "start_time": "2022-08-18T09:41:13.628Z"
   },
   {
    "duration": 5,
    "start_time": "2022-08-18T09:50:16.248Z"
   },
   {
    "duration": 49,
    "start_time": "2022-08-18T09:50:16.256Z"
   },
   {
    "duration": 13,
    "start_time": "2022-08-18T09:50:16.307Z"
   },
   {
    "duration": 20,
    "start_time": "2022-08-18T09:50:16.322Z"
   },
   {
    "duration": 12,
    "start_time": "2022-08-18T09:50:16.343Z"
   },
   {
    "duration": 9,
    "start_time": "2022-08-18T09:50:16.357Z"
   },
   {
    "duration": 19,
    "start_time": "2022-08-18T09:50:16.367Z"
   },
   {
    "duration": 56,
    "start_time": "2022-08-18T09:50:16.389Z"
   },
   {
    "duration": 11,
    "start_time": "2022-08-18T09:50:16.505Z"
   },
   {
    "duration": 7,
    "start_time": "2022-08-18T09:50:16.520Z"
   },
   {
    "duration": 9,
    "start_time": "2022-08-18T09:50:16.528Z"
   },
   {
    "duration": 4,
    "start_time": "2022-08-18T09:50:16.538Z"
   },
   {
    "duration": 5,
    "start_time": "2022-08-18T09:50:16.544Z"
   },
   {
    "duration": 10,
    "start_time": "2022-08-18T09:50:16.551Z"
   },
   {
    "duration": 3,
    "start_time": "2022-08-18T09:50:16.563Z"
   },
   {
    "duration": 32,
    "start_time": "2022-08-18T09:50:16.568Z"
   },
   {
    "duration": 18,
    "start_time": "2022-08-18T09:50:16.607Z"
   },
   {
    "duration": 135,
    "start_time": "2022-08-18T09:50:16.627Z"
   },
   {
    "duration": 7,
    "start_time": "2022-08-18T09:50:16.765Z"
   },
   {
    "duration": 7,
    "start_time": "2022-08-18T09:51:21.752Z"
   },
   {
    "duration": 4,
    "start_time": "2022-08-18T10:06:42.346Z"
   },
   {
    "duration": 47,
    "start_time": "2022-08-18T10:06:42.351Z"
   },
   {
    "duration": 5,
    "start_time": "2022-08-18T10:06:42.401Z"
   },
   {
    "duration": 16,
    "start_time": "2022-08-18T10:06:42.409Z"
   },
   {
    "duration": 12,
    "start_time": "2022-08-18T10:06:42.427Z"
   },
   {
    "duration": 11,
    "start_time": "2022-08-18T10:06:42.440Z"
   },
   {
    "duration": 12,
    "start_time": "2022-08-18T10:06:42.452Z"
   },
   {
    "duration": 20,
    "start_time": "2022-08-18T10:06:42.491Z"
   },
   {
    "duration": 10,
    "start_time": "2022-08-18T10:06:42.513Z"
   },
   {
    "duration": 4,
    "start_time": "2022-08-18T10:06:42.524Z"
   },
   {
    "duration": 12,
    "start_time": "2022-08-18T10:06:42.530Z"
   },
   {
    "duration": 8,
    "start_time": "2022-08-18T10:06:42.543Z"
   },
   {
    "duration": 8,
    "start_time": "2022-08-18T10:06:42.552Z"
   },
   {
    "duration": 35,
    "start_time": "2022-08-18T10:06:42.561Z"
   },
   {
    "duration": 4,
    "start_time": "2022-08-18T10:06:42.598Z"
   },
   {
    "duration": 18,
    "start_time": "2022-08-18T10:06:42.603Z"
   },
   {
    "duration": 10,
    "start_time": "2022-08-18T10:06:42.623Z"
   },
   {
    "duration": 124,
    "start_time": "2022-08-18T10:06:42.634Z"
   },
   {
    "duration": 7,
    "start_time": "2022-08-18T10:06:42.760Z"
   },
   {
    "duration": 16,
    "start_time": "2022-08-18T10:06:42.769Z"
   },
   {
    "duration": 58,
    "start_time": "2022-08-18T10:06:42.800Z"
   },
   {
    "duration": 5,
    "start_time": "2022-08-18T10:40:57.904Z"
   },
   {
    "duration": 73,
    "start_time": "2022-08-18T10:43:30.430Z"
   },
   {
    "duration": 1314,
    "start_time": "2022-08-18T10:51:38.506Z"
   },
   {
    "duration": 39,
    "start_time": "2022-08-18T10:51:39.822Z"
   },
   {
    "duration": 5,
    "start_time": "2022-08-18T10:51:39.863Z"
   },
   {
    "duration": 27,
    "start_time": "2022-08-18T10:51:39.870Z"
   },
   {
    "duration": 14,
    "start_time": "2022-08-18T10:51:39.899Z"
   },
   {
    "duration": 10,
    "start_time": "2022-08-18T10:51:39.914Z"
   },
   {
    "duration": 11,
    "start_time": "2022-08-18T10:51:39.926Z"
   },
   {
    "duration": 12,
    "start_time": "2022-08-18T10:51:39.939Z"
   },
   {
    "duration": 15,
    "start_time": "2022-08-18T10:51:39.952Z"
   },
   {
    "duration": 3,
    "start_time": "2022-08-18T10:51:39.969Z"
   },
   {
    "duration": 24,
    "start_time": "2022-08-18T10:51:39.973Z"
   },
   {
    "duration": 7,
    "start_time": "2022-08-18T10:51:39.999Z"
   },
   {
    "duration": 12,
    "start_time": "2022-08-18T10:51:40.007Z"
   },
   {
    "duration": 26,
    "start_time": "2022-08-18T10:51:40.020Z"
   },
   {
    "duration": 7,
    "start_time": "2022-08-18T10:51:40.048Z"
   },
   {
    "duration": 29,
    "start_time": "2022-08-18T10:51:40.056Z"
   },
   {
    "duration": 19,
    "start_time": "2022-08-18T10:51:40.086Z"
   },
   {
    "duration": 122,
    "start_time": "2022-08-18T10:51:40.106Z"
   },
   {
    "duration": 6,
    "start_time": "2022-08-18T10:51:40.229Z"
   },
   {
    "duration": 9,
    "start_time": "2022-08-18T10:51:40.237Z"
   },
   {
    "duration": 55,
    "start_time": "2022-08-18T10:51:40.248Z"
   },
   {
    "duration": 4,
    "start_time": "2022-08-18T10:51:59.752Z"
   },
   {
    "duration": 529866,
    "start_time": "2022-08-18T10:52:47.276Z"
   },
   {
    "duration": 6,
    "start_time": "2022-08-18T11:06:25.107Z"
   },
   {
    "duration": 58,
    "start_time": "2022-08-18T11:06:25.115Z"
   },
   {
    "duration": 4,
    "start_time": "2022-08-18T11:06:25.175Z"
   },
   {
    "duration": 20,
    "start_time": "2022-08-18T11:06:25.182Z"
   },
   {
    "duration": 15,
    "start_time": "2022-08-18T11:06:25.204Z"
   },
   {
    "duration": 11,
    "start_time": "2022-08-18T11:06:25.221Z"
   },
   {
    "duration": 13,
    "start_time": "2022-08-18T11:06:25.234Z"
   },
   {
    "duration": 13,
    "start_time": "2022-08-18T11:06:25.249Z"
   },
   {
    "duration": 24,
    "start_time": "2022-08-18T11:06:25.264Z"
   },
   {
    "duration": 10,
    "start_time": "2022-08-18T11:06:25.294Z"
   },
   {
    "duration": 13,
    "start_time": "2022-08-18T11:06:25.305Z"
   },
   {
    "duration": 7,
    "start_time": "2022-08-18T11:06:25.319Z"
   },
   {
    "duration": 8,
    "start_time": "2022-08-18T11:06:25.327Z"
   },
   {
    "duration": 13,
    "start_time": "2022-08-18T11:06:25.336Z"
   },
   {
    "duration": 4,
    "start_time": "2022-08-18T11:06:25.351Z"
   },
   {
    "duration": 12,
    "start_time": "2022-08-18T11:06:25.356Z"
   },
   {
    "duration": 26,
    "start_time": "2022-08-18T11:06:25.369Z"
   },
   {
    "duration": 110,
    "start_time": "2022-08-18T11:06:25.399Z"
   },
   {
    "duration": 8,
    "start_time": "2022-08-18T11:06:25.511Z"
   },
   {
    "duration": 11,
    "start_time": "2022-08-18T11:06:25.521Z"
   },
   {
    "duration": 45,
    "start_time": "2022-08-18T11:06:28.365Z"
   },
   {
    "duration": 4,
    "start_time": "2022-08-18T11:27:18.711Z"
   },
   {
    "duration": 535375,
    "start_time": "2022-08-18T11:27:24.147Z"
   },
   {
    "duration": 7,
    "start_time": "2022-08-18T11:40:25.741Z"
   },
   {
    "duration": 20,
    "start_time": "2022-08-18T11:40:54.798Z"
   },
   {
    "duration": 5,
    "start_time": "2022-08-18T11:41:17.718Z"
   },
   {
    "duration": 41,
    "start_time": "2022-08-18T11:41:17.725Z"
   },
   {
    "duration": 4,
    "start_time": "2022-08-18T11:41:17.768Z"
   },
   {
    "duration": 22,
    "start_time": "2022-08-18T11:41:17.774Z"
   },
   {
    "duration": 30,
    "start_time": "2022-08-18T11:41:17.798Z"
   },
   {
    "duration": 12,
    "start_time": "2022-08-18T11:41:17.830Z"
   },
   {
    "duration": 17,
    "start_time": "2022-08-18T11:41:17.844Z"
   },
   {
    "duration": 38,
    "start_time": "2022-08-18T11:41:17.864Z"
   },
   {
    "duration": 21,
    "start_time": "2022-08-18T11:41:17.908Z"
   },
   {
    "duration": 7,
    "start_time": "2022-08-18T11:41:17.931Z"
   },
   {
    "duration": 14,
    "start_time": "2022-08-18T11:41:17.940Z"
   },
   {
    "duration": 5,
    "start_time": "2022-08-18T11:41:17.956Z"
   },
   {
    "duration": 13,
    "start_time": "2022-08-18T11:41:17.963Z"
   },
   {
    "duration": 40,
    "start_time": "2022-08-18T11:41:17.978Z"
   },
   {
    "duration": 19,
    "start_time": "2022-08-18T11:41:18.019Z"
   },
   {
    "duration": 15,
    "start_time": "2022-08-18T11:41:18.040Z"
   },
   {
    "duration": 6,
    "start_time": "2022-08-18T11:41:18.056Z"
   },
   {
    "duration": 147,
    "start_time": "2022-08-18T11:41:18.063Z"
   },
   {
    "duration": 9,
    "start_time": "2022-08-18T11:41:18.212Z"
   },
   {
    "duration": 28,
    "start_time": "2022-08-18T11:41:18.224Z"
   },
   {
    "duration": 44,
    "start_time": "2022-08-18T11:41:18.255Z"
   },
   {
    "duration": 3,
    "start_time": "2022-08-18T11:41:26.447Z"
   },
   {
    "duration": 589718,
    "start_time": "2022-08-18T11:41:30.479Z"
   },
   {
    "duration": 3,
    "start_time": "2022-08-18T11:56:09.324Z"
   },
   {
    "duration": 2,
    "start_time": "2022-08-18T11:56:11.577Z"
   },
   {
    "duration": 2,
    "start_time": "2022-08-18T11:56:15.120Z"
   },
   {
    "duration": 2,
    "start_time": "2022-08-18T11:56:18.907Z"
   },
   {
    "duration": 2,
    "start_time": "2022-08-18T11:56:21.952Z"
   },
   {
    "duration": 3,
    "start_time": "2022-08-18T11:56:23.921Z"
   },
   {
    "duration": 5,
    "start_time": "2022-08-18T12:41:52.841Z"
   },
   {
    "duration": 4,
    "start_time": "2022-08-18T12:44:06.863Z"
   },
   {
    "duration": 500324,
    "start_time": "2022-08-18T12:44:16.862Z"
   },
   {
    "duration": 500444,
    "start_time": "2022-08-18T12:54:05.942Z"
   },
   {
    "duration": 2,
    "start_time": "2022-08-18T13:04:58.878Z"
   },
   {
    "duration": 2,
    "start_time": "2022-08-18T13:05:42.991Z"
   },
   {
    "duration": 2,
    "start_time": "2022-08-18T13:06:48.691Z"
   },
   {
    "duration": 11,
    "start_time": "2022-08-18T13:16:30.395Z"
   },
   {
    "duration": 8,
    "start_time": "2022-08-18T13:16:37.146Z"
   },
   {
    "duration": 3,
    "start_time": "2022-08-18T13:18:18.440Z"
   },
   {
    "duration": 726144,
    "start_time": "2022-08-18T13:20:31.245Z"
   },
   {
    "duration": 59,
    "start_time": "2022-08-18T15:15:53.244Z"
   },
   {
    "duration": 3,
    "start_time": "2022-08-18T15:16:55.220Z"
   },
   {
    "duration": 3,
    "start_time": "2022-08-18T15:17:41.236Z"
   },
   {
    "duration": 2,
    "start_time": "2022-08-18T15:18:38.849Z"
   },
   {
    "duration": 55,
    "start_time": "2022-08-19T09:25:01.999Z"
   },
   {
    "duration": 1638,
    "start_time": "2022-08-19T09:25:11.732Z"
   },
   {
    "duration": 81,
    "start_time": "2022-08-19T09:25:13.372Z"
   },
   {
    "duration": 4,
    "start_time": "2022-08-19T09:25:13.455Z"
   },
   {
    "duration": 34,
    "start_time": "2022-08-19T09:25:13.461Z"
   },
   {
    "duration": 17,
    "start_time": "2022-08-19T09:25:13.497Z"
   },
   {
    "duration": 10,
    "start_time": "2022-08-19T09:25:13.516Z"
   },
   {
    "duration": 12,
    "start_time": "2022-08-19T09:25:13.528Z"
   },
   {
    "duration": 17,
    "start_time": "2022-08-19T09:25:13.541Z"
   },
   {
    "duration": 40,
    "start_time": "2022-08-19T09:25:13.560Z"
   },
   {
    "duration": 6,
    "start_time": "2022-08-19T09:25:13.604Z"
   },
   {
    "duration": 12,
    "start_time": "2022-08-19T09:25:13.612Z"
   },
   {
    "duration": 13,
    "start_time": "2022-08-19T09:25:13.626Z"
   },
   {
    "duration": 10,
    "start_time": "2022-08-19T09:25:13.640Z"
   },
   {
    "duration": 14,
    "start_time": "2022-08-19T09:25:13.651Z"
   },
   {
    "duration": 9,
    "start_time": "2022-08-19T09:25:13.666Z"
   },
   {
    "duration": 21,
    "start_time": "2022-08-19T09:25:13.676Z"
   },
   {
    "duration": 15,
    "start_time": "2022-08-19T09:25:13.699Z"
   },
   {
    "duration": 146,
    "start_time": "2022-08-19T09:25:13.717Z"
   },
   {
    "duration": 6,
    "start_time": "2022-08-19T09:25:13.865Z"
   },
   {
    "duration": 20,
    "start_time": "2022-08-19T09:25:13.872Z"
   },
   {
    "duration": 35,
    "start_time": "2022-08-19T09:25:13.894Z"
   },
   {
    "duration": 4,
    "start_time": "2022-08-19T09:25:13.930Z"
   },
   {
    "duration": 33658,
    "start_time": "2022-08-19T09:25:13.936Z"
   },
   {
    "duration": 0,
    "start_time": "2022-08-19T09:25:47.598Z"
   },
   {
    "duration": 0,
    "start_time": "2022-08-19T09:25:47.599Z"
   },
   {
    "duration": 0,
    "start_time": "2022-08-19T09:25:47.600Z"
   },
   {
    "duration": 0,
    "start_time": "2022-08-19T09:25:47.608Z"
   },
   {
    "duration": 0,
    "start_time": "2022-08-19T09:25:47.610Z"
   },
   {
    "duration": 0,
    "start_time": "2022-08-19T09:25:47.614Z"
   },
   {
    "duration": 0,
    "start_time": "2022-08-19T09:25:47.616Z"
   },
   {
    "duration": 0,
    "start_time": "2022-08-19T09:25:47.618Z"
   },
   {
    "duration": 0,
    "start_time": "2022-08-19T09:25:47.619Z"
   },
   {
    "duration": 0,
    "start_time": "2022-08-19T09:25:47.621Z"
   },
   {
    "duration": 0,
    "start_time": "2022-08-19T09:25:47.622Z"
   },
   {
    "duration": 0,
    "start_time": "2022-08-19T09:25:47.624Z"
   },
   {
    "duration": 0,
    "start_time": "2022-08-19T09:25:47.625Z"
   },
   {
    "duration": 0,
    "start_time": "2022-08-19T09:25:47.626Z"
   },
   {
    "duration": 0,
    "start_time": "2022-08-19T09:25:47.629Z"
   },
   {
    "duration": 0,
    "start_time": "2022-08-19T09:25:47.630Z"
   },
   {
    "duration": 1,
    "start_time": "2022-08-19T09:25:47.631Z"
   },
   {
    "duration": 0,
    "start_time": "2022-08-19T09:25:47.634Z"
   },
   {
    "duration": 15,
    "start_time": "2022-08-19T09:25:56.314Z"
   },
   {
    "duration": 11,
    "start_time": "2022-08-19T09:26:04.596Z"
   },
   {
    "duration": 5,
    "start_time": "2022-08-19T09:27:53.061Z"
   },
   {
    "duration": 275262,
    "start_time": "2022-08-19T09:29:11.227Z"
   },
   {
    "duration": 2,
    "start_time": "2022-08-19T09:39:52.318Z"
   },
   {
    "duration": 2,
    "start_time": "2022-08-19T09:40:17.638Z"
   },
   {
    "duration": 3,
    "start_time": "2022-08-19T09:40:43.318Z"
   },
   {
    "duration": 110,
    "start_time": "2022-08-19T09:49:19.977Z"
   },
   {
    "duration": 1367,
    "start_time": "2022-08-19T09:49:49.968Z"
   },
   {
    "duration": 40,
    "start_time": "2022-08-19T09:49:51.337Z"
   },
   {
    "duration": 6,
    "start_time": "2022-08-19T09:49:51.379Z"
   },
   {
    "duration": 21,
    "start_time": "2022-08-19T09:49:51.386Z"
   },
   {
    "duration": 14,
    "start_time": "2022-08-19T09:49:51.409Z"
   },
   {
    "duration": 12,
    "start_time": "2022-08-19T09:49:51.425Z"
   },
   {
    "duration": 12,
    "start_time": "2022-08-19T09:49:51.439Z"
   },
   {
    "duration": 23,
    "start_time": "2022-08-19T09:49:51.452Z"
   },
   {
    "duration": 10,
    "start_time": "2022-08-19T09:49:51.487Z"
   },
   {
    "duration": 3,
    "start_time": "2022-08-19T09:49:51.500Z"
   },
   {
    "duration": 19,
    "start_time": "2022-08-19T09:49:51.505Z"
   },
   {
    "duration": 7,
    "start_time": "2022-08-19T09:49:51.525Z"
   },
   {
    "duration": 8,
    "start_time": "2022-08-19T09:49:51.533Z"
   },
   {
    "duration": 14,
    "start_time": "2022-08-19T09:49:51.542Z"
   },
   {
    "duration": 16,
    "start_time": "2022-08-19T09:49:51.557Z"
   },
   {
    "duration": 16,
    "start_time": "2022-08-19T09:49:51.574Z"
   },
   {
    "duration": 14,
    "start_time": "2022-08-19T09:49:51.592Z"
   },
   {
    "duration": 131,
    "start_time": "2022-08-19T09:49:51.607Z"
   },
   {
    "duration": 6,
    "start_time": "2022-08-19T09:49:51.740Z"
   },
   {
    "duration": 15,
    "start_time": "2022-08-19T09:49:51.748Z"
   },
   {
    "duration": 44,
    "start_time": "2022-08-19T09:49:51.765Z"
   },
   {
    "duration": 4,
    "start_time": "2022-08-19T09:49:51.810Z"
   },
   {
    "duration": 523883,
    "start_time": "2022-08-19T09:49:51.815Z"
   },
   {
    "duration": 4,
    "start_time": "2022-08-19T09:58:35.788Z"
   },
   {
    "duration": 98,
    "start_time": "2022-08-19T09:58:35.794Z"
   },
   {
    "duration": 7,
    "start_time": "2022-08-19T09:58:35.894Z"
   },
   {
    "duration": 6,
    "start_time": "2022-08-19T09:58:35.902Z"
   },
   {
    "duration": 4,
    "start_time": "2022-08-19T09:58:35.911Z"
   },
   {
    "duration": 6,
    "start_time": "2022-08-19T09:58:35.916Z"
   },
   {
    "duration": 6,
    "start_time": "2022-08-19T09:58:35.923Z"
   },
   {
    "duration": 514759,
    "start_time": "2022-08-19T09:58:35.930Z"
   },
   {
    "duration": 4,
    "start_time": "2022-08-19T10:07:10.691Z"
   },
   {
    "duration": 100,
    "start_time": "2022-08-19T10:07:10.697Z"
   },
   {
    "duration": 30,
    "start_time": "2022-08-19T10:07:10.799Z"
   },
   {
    "duration": 28,
    "start_time": "2022-08-19T10:07:10.830Z"
   },
   {
    "duration": 14,
    "start_time": "2022-08-19T10:07:10.860Z"
   },
   {
    "duration": 21,
    "start_time": "2022-08-19T10:07:10.875Z"
   },
   {
    "duration": 740089,
    "start_time": "2022-08-19T10:07:10.898Z"
   },
   {
    "duration": 2,
    "start_time": "2022-08-19T10:19:30.989Z"
   },
   {
    "duration": 21,
    "start_time": "2022-08-19T10:19:30.993Z"
   },
   {
    "duration": 35,
    "start_time": "2022-08-19T10:19:31.015Z"
   },
   {
    "duration": 37,
    "start_time": "2022-08-19T10:19:31.052Z"
   },
   {
    "duration": 6,
    "start_time": "2022-08-19T10:19:31.091Z"
   },
   {
    "duration": 18,
    "start_time": "2022-08-19T10:19:31.099Z"
   },
   {
    "duration": 267271,
    "start_time": "2022-08-19T10:19:31.118Z"
   },
   {
    "duration": 4,
    "start_time": "2022-08-19T10:23:58.392Z"
   },
   {
    "duration": 7,
    "start_time": "2022-08-19T10:23:58.487Z"
   },
   {
    "duration": 7,
    "start_time": "2022-08-19T10:23:58.495Z"
   },
   {
    "duration": 763,
    "start_time": "2022-08-19T10:32:17.673Z"
   },
   {
    "duration": 694,
    "start_time": "2022-08-19T10:33:00.562Z"
   },
   {
    "duration": 166,
    "start_time": "2022-08-19T10:34:04.334Z"
   },
   {
    "duration": 131,
    "start_time": "2022-08-19T10:34:24.075Z"
   },
   {
    "duration": 47,
    "start_time": "2022-08-19T10:41:20.978Z"
   },
   {
    "duration": 1691,
    "start_time": "2022-08-19T11:22:03.700Z"
   },
   {
    "duration": 153,
    "start_time": "2022-08-19T11:22:05.393Z"
   },
   {
    "duration": 6,
    "start_time": "2022-08-19T11:22:05.548Z"
   },
   {
    "duration": 20,
    "start_time": "2022-08-19T11:22:05.556Z"
   },
   {
    "duration": 15,
    "start_time": "2022-08-19T11:22:05.578Z"
   },
   {
    "duration": 11,
    "start_time": "2022-08-19T11:22:05.595Z"
   },
   {
    "duration": 23,
    "start_time": "2022-08-19T11:22:05.608Z"
   },
   {
    "duration": 20,
    "start_time": "2022-08-19T11:22:05.633Z"
   },
   {
    "duration": 17,
    "start_time": "2022-08-19T11:22:05.655Z"
   },
   {
    "duration": 4,
    "start_time": "2022-08-19T11:22:05.675Z"
   },
   {
    "duration": 8,
    "start_time": "2022-08-19T11:22:05.692Z"
   },
   {
    "duration": 7,
    "start_time": "2022-08-19T11:22:05.702Z"
   },
   {
    "duration": 11,
    "start_time": "2022-08-19T11:22:05.710Z"
   },
   {
    "duration": 16,
    "start_time": "2022-08-19T11:22:05.722Z"
   },
   {
    "duration": 11,
    "start_time": "2022-08-19T11:22:05.740Z"
   },
   {
    "duration": 14,
    "start_time": "2022-08-19T11:22:05.752Z"
   },
   {
    "duration": 28,
    "start_time": "2022-08-19T11:22:05.767Z"
   },
   {
    "duration": 142,
    "start_time": "2022-08-19T11:22:05.797Z"
   },
   {
    "duration": 6,
    "start_time": "2022-08-19T11:22:05.941Z"
   },
   {
    "duration": 11,
    "start_time": "2022-08-19T11:22:05.949Z"
   },
   {
    "duration": 54,
    "start_time": "2022-08-19T11:22:05.962Z"
   },
   {
    "duration": 5,
    "start_time": "2022-08-19T11:22:06.018Z"
   },
   {
    "duration": 596370,
    "start_time": "2022-08-19T11:22:06.025Z"
   },
   {
    "duration": 90,
    "start_time": "2022-08-19T11:32:02.403Z"
   },
   {
    "duration": 10,
    "start_time": "2022-08-19T11:32:02.494Z"
   },
   {
    "duration": 5,
    "start_time": "2022-08-19T11:32:02.506Z"
   },
   {
    "duration": 17,
    "start_time": "2022-08-19T11:32:02.512Z"
   },
   {
    "duration": 10,
    "start_time": "2022-08-19T11:32:02.533Z"
   },
   {
    "duration": 14,
    "start_time": "2022-08-19T11:32:02.545Z"
   },
   {
    "duration": 11,
    "start_time": "2022-08-19T11:32:02.561Z"
   },
   {
    "duration": 606223,
    "start_time": "2022-08-19T11:32:02.574Z"
   },
   {
    "duration": 3,
    "start_time": "2022-08-19T11:42:08.799Z"
   },
   {
    "duration": 5,
    "start_time": "2022-08-19T11:42:08.804Z"
   },
   {
    "duration": 5,
    "start_time": "2022-08-19T11:42:08.811Z"
   },
   {
    "duration": 19,
    "start_time": "2022-08-19T11:42:08.818Z"
   },
   {
    "duration": 7,
    "start_time": "2022-08-19T11:42:08.839Z"
   },
   {
    "duration": 8,
    "start_time": "2022-08-19T11:42:08.848Z"
   },
   {
    "duration": 880662,
    "start_time": "2022-08-19T11:42:08.858Z"
   },
   {
    "duration": 71,
    "start_time": "2022-08-19T11:56:49.525Z"
   },
   {
    "duration": 26,
    "start_time": "2022-08-19T11:56:49.600Z"
   },
   {
    "duration": 8,
    "start_time": "2022-08-19T11:56:49.628Z"
   },
   {
    "duration": 19,
    "start_time": "2022-08-19T11:56:49.638Z"
   },
   {
    "duration": 7,
    "start_time": "2022-08-19T11:56:49.658Z"
   },
   {
    "duration": 13,
    "start_time": "2022-08-19T11:56:49.668Z"
   },
   {
    "duration": 333725,
    "start_time": "2022-08-19T11:56:49.683Z"
   },
   {
    "duration": 72,
    "start_time": "2022-08-19T12:02:23.421Z"
   },
   {
    "duration": 24,
    "start_time": "2022-08-19T12:02:23.497Z"
   },
   {
    "duration": 9,
    "start_time": "2022-08-19T12:02:23.523Z"
   },
   {
    "duration": 887,
    "start_time": "2022-08-19T12:02:23.534Z"
   },
   {
    "duration": 208,
    "start_time": "2022-08-19T12:02:24.423Z"
   },
   {
    "duration": 192,
    "start_time": "2022-08-19T12:02:24.634Z"
   },
   {
    "duration": 1692,
    "start_time": "2022-08-20T06:42:26.470Z"
   },
   {
    "duration": 83,
    "start_time": "2022-08-20T06:42:28.164Z"
   },
   {
    "duration": 5,
    "start_time": "2022-08-20T06:42:28.248Z"
   },
   {
    "duration": 19,
    "start_time": "2022-08-20T06:42:28.255Z"
   },
   {
    "duration": 17,
    "start_time": "2022-08-20T06:42:28.275Z"
   },
   {
    "duration": 11,
    "start_time": "2022-08-20T06:42:28.293Z"
   },
   {
    "duration": 13,
    "start_time": "2022-08-20T06:42:28.305Z"
   },
   {
    "duration": 15,
    "start_time": "2022-08-20T06:42:28.319Z"
   },
   {
    "duration": 12,
    "start_time": "2022-08-20T06:42:28.335Z"
   },
   {
    "duration": 4,
    "start_time": "2022-08-20T06:42:28.348Z"
   },
   {
    "duration": 36,
    "start_time": "2022-08-20T06:42:28.354Z"
   },
   {
    "duration": 4,
    "start_time": "2022-08-20T06:42:28.392Z"
   },
   {
    "duration": 8,
    "start_time": "2022-08-20T06:42:28.398Z"
   },
   {
    "duration": 10,
    "start_time": "2022-08-20T06:42:28.408Z"
   },
   {
    "duration": 3,
    "start_time": "2022-08-20T06:42:28.419Z"
   },
   {
    "duration": 11,
    "start_time": "2022-08-20T06:42:28.423Z"
   },
   {
    "duration": 6,
    "start_time": "2022-08-20T06:42:28.436Z"
   },
   {
    "duration": 163,
    "start_time": "2022-08-20T06:42:28.443Z"
   },
   {
    "duration": 7,
    "start_time": "2022-08-20T06:42:28.608Z"
   },
   {
    "duration": 9,
    "start_time": "2022-08-20T06:42:28.616Z"
   },
   {
    "duration": 30,
    "start_time": "2022-08-20T06:42:28.627Z"
   },
   {
    "duration": 27,
    "start_time": "2022-08-20T06:42:28.658Z"
   },
   {
    "duration": 503009,
    "start_time": "2022-08-20T06:42:28.687Z"
   },
   {
    "duration": 87,
    "start_time": "2022-08-20T06:50:51.699Z"
   },
   {
    "duration": 7,
    "start_time": "2022-08-20T06:50:51.788Z"
   },
   {
    "duration": 9,
    "start_time": "2022-08-20T06:50:51.797Z"
   },
   {
    "duration": 7,
    "start_time": "2022-08-20T06:50:51.808Z"
   },
   {
    "duration": 68,
    "start_time": "2022-08-20T06:50:51.817Z"
   },
   {
    "duration": 3,
    "start_time": "2022-08-20T06:50:51.887Z"
   },
   {
    "duration": 9,
    "start_time": "2022-08-20T06:50:51.892Z"
   },
   {
    "duration": 504383,
    "start_time": "2022-08-20T06:50:51.903Z"
   },
   {
    "duration": 3,
    "start_time": "2022-08-20T06:59:16.287Z"
   },
   {
    "duration": 102,
    "start_time": "2022-08-20T06:59:16.292Z"
   },
   {
    "duration": 10,
    "start_time": "2022-08-20T06:59:16.396Z"
   },
   {
    "duration": 17,
    "start_time": "2022-08-20T06:59:16.407Z"
   },
   {
    "duration": 5,
    "start_time": "2022-08-20T06:59:16.426Z"
   },
   {
    "duration": 5,
    "start_time": "2022-08-20T06:59:16.433Z"
   },
   {
    "duration": 740149,
    "start_time": "2022-08-20T06:59:16.439Z"
   },
   {
    "duration": 3,
    "start_time": "2022-08-20T07:11:36.590Z"
   },
   {
    "duration": 95,
    "start_time": "2022-08-20T07:11:36.595Z"
   },
   {
    "duration": 6,
    "start_time": "2022-08-20T07:11:36.695Z"
   },
   {
    "duration": 14,
    "start_time": "2022-08-20T07:11:36.703Z"
   },
   {
    "duration": 6,
    "start_time": "2022-08-20T07:11:36.719Z"
   },
   {
    "duration": 6,
    "start_time": "2022-08-20T07:11:36.727Z"
   },
   {
    "duration": 264155,
    "start_time": "2022-08-20T07:11:36.734Z"
   },
   {
    "duration": 2,
    "start_time": "2022-08-20T07:16:00.891Z"
   },
   {
    "duration": 97,
    "start_time": "2022-08-20T07:16:00.895Z"
   },
   {
    "duration": 26,
    "start_time": "2022-08-20T07:16:00.994Z"
   },
   {
    "duration": 687,
    "start_time": "2022-08-20T07:16:01.022Z"
   },
   {
    "duration": 175,
    "start_time": "2022-08-20T07:16:01.711Z"
   },
   {
    "duration": 144,
    "start_time": "2022-08-20T07:16:01.887Z"
   }
  ],
  "kernelspec": {
   "display_name": "Python 3 (ipykernel)",
   "language": "python",
   "name": "python3"
  },
  "language_info": {
   "codemirror_mode": {
    "name": "ipython",
    "version": 3
   },
   "file_extension": ".py",
   "mimetype": "text/x-python",
   "name": "python",
   "nbconvert_exporter": "python",
   "pygments_lexer": "ipython3",
   "version": "3.9.7"
  },
  "toc": {
   "base_numbering": 1,
   "nav_menu": {},
   "number_sections": true,
   "sideBar": true,
   "skip_h1_title": true,
   "title_cell": "Содержание",
   "title_sidebar": "Contents",
   "toc_cell": true,
   "toc_position": {
    "height": "calc(100% - 180px)",
    "left": "10px",
    "top": "150px",
    "width": "300px"
   },
   "toc_section_display": true,
   "toc_window_display": true
  }
 },
 "nbformat": 4,
 "nbformat_minor": 2
}
