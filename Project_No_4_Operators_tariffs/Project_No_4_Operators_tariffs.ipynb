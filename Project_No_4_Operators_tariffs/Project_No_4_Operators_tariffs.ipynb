{
 "cells": [
  {
   "cell_type": "markdown",
   "metadata": {},
   "source": [
    "# Description of the project \"Defining of a promising tariff for a telecom company\": "
   ]
  },
  {
   "cell_type": "markdown",
   "metadata": {},
   "source": [
    "The company implements two tariff plans Smart and Ultra. To optimize the advertising budget of the company, it is necessary to determine which of the tariff plans is more profitable for the company.\n",
    "To solve this problem, it is necessary to analyze the available data on the behavior of 500 customers for 2018, taking into account information about the specifics of tariff plans."
   ]
  },
  {
   "cell_type": "markdown",
   "metadata": {},
   "source": [
    "Specifics of tariff plans:\n",
    "1) Tariff \"Smart\"\n",
    "Monthly fee: 550 rubles\n",
    "Included: 500 minutes of conversation, 50 messages and 15 GB of Internet traffic\n",
    "The cost of services in excess of the tariff package:\n",
    "a minute of conversation: 3 rubles\n",
    "message: 3 rubles\n",
    "1 GB of Internet traffic: 200 rubles\n",
    "\n",
    "2) Tariff \"Ultra\"\n",
    "Monthly fee: 1950 rubles\n",
    "Included: 3000 minutes of conversation, 1000 messages and 30 GB of Internet traffic\n",
    "The cost of services in excess of the tariff package:\n",
    "a minute of conversation: 1 ruble\n",
    "message: 1 ruble\n",
    "1 GB of Internet traffic: 150 rubles\n",
    "\n",
    "\n",
    "Time is always subject to rounding from seconds to minutes, and megabytes to gigabytes. Each call is rounded separately: even if it lasted only 1 second, it will be counted as 1 minute.\n",
    "For web traffic, individual sessions are not counted. Instead, the total amount for the month is rounded up. If a subscriber uses 1025 megabytes this month, they will be charged for 2 gigabytes. Please accept that unused calls, SMS, Internet for the previous month will not be transferred to the next month."
   ]
  },
  {
   "cell_type": "markdown",
   "metadata": {},
   "source": [
    "# Task details:"
   ]
  },
  {
   "cell_type": "markdown",
   "metadata": {},
   "source": [
    "To solve this task, we need to perform the following steps:\n",
    "\n",
    "1) study the data and their specifics;\n",
    "\n",
    "2) carry out their preliminary processing so that the results of the analysis reflect real patterns, and not distorted due to the presence of inaccuracies or errors in the data;\n",
    "\n",
    "3) conducting research data analysis;\n",
    "\n",
    "4) formation and verification of hypotheses;\n",
    "\n",
    "5) the design of the general conclusion of the study."
   ]
  },
  {
   "cell_type": "markdown",
   "metadata": {},
   "source": [
    "## Study the available data:"
   ]
  },
  {
   "cell_type": "markdown",
   "metadata": {},
   "source": [
    "Open the provided tables with data:"
   ]
  },
  {
   "cell_type": "code",
   "execution_count": 65,
   "metadata": {},
   "outputs": [],
   "source": [
    "import pandas as pd\n",
    "calls_df = pd.read_csv('/Users/a1/Desktop/data_folder/telephone_data/calls.csv')\n",
    "internet_df = pd.read_csv('/Users/a1/Desktop/data_folder/telephone_data/internet.csv')\n",
    "messages_df = pd.read_csv('/Users/a1/Desktop/data_folder/telephone_data/messages.csv')\n",
    "tariffs_df = pd.read_csv('/Users/a1/Desktop/data_folder/telephone_data/tariffs.csv')\n",
    "users_df = pd.read_csv('/Users/a1/Desktop/data_folder/telephone_data/users.csv')"
   ]
  },
  {
   "cell_type": "markdown",
   "metadata": {},
   "source": [
    "1) Study the data from calls_df:\n",
    "* id — unique call number\n",
    "* call_date — date of the call\n",
    "* duration — the duration of the call in minutes\n",
    "* user_id — ID of the user who made the call"
   ]
  },
  {
   "cell_type": "code",
   "execution_count": 66,
   "metadata": {},
   "outputs": [
    {
     "name": "stdout",
     "output_type": "stream",
     "text": [
      "<class 'pandas.core.frame.DataFrame'>\n",
      "RangeIndex: 202607 entries, 0 to 202606\n",
      "Data columns (total 4 columns):\n",
      " #   Column     Non-Null Count   Dtype  \n",
      "---  ------     --------------   -----  \n",
      " 0   id         202607 non-null  object \n",
      " 1   call_date  202607 non-null  object \n",
      " 2   duration   202607 non-null  float64\n",
      " 3   user_id    202607 non-null  int64  \n",
      "dtypes: float64(1), int64(1), object(2)\n",
      "memory usage: 6.2+ MB\n"
     ]
    }
   ],
   "source": [
    "calls_df.info()"
   ]
  },
  {
   "cell_type": "code",
   "execution_count": 67,
   "metadata": {},
   "outputs": [
    {
     "data": {
      "text/html": [
       "<div>\n",
       "<style scoped>\n",
       "    .dataframe tbody tr th:only-of-type {\n",
       "        vertical-align: middle;\n",
       "    }\n",
       "\n",
       "    .dataframe tbody tr th {\n",
       "        vertical-align: top;\n",
       "    }\n",
       "\n",
       "    .dataframe thead th {\n",
       "        text-align: right;\n",
       "    }\n",
       "</style>\n",
       "<table border=\"1\" class=\"dataframe\">\n",
       "  <thead>\n",
       "    <tr style=\"text-align: right;\">\n",
       "      <th></th>\n",
       "      <th>id</th>\n",
       "      <th>call_date</th>\n",
       "      <th>duration</th>\n",
       "      <th>user_id</th>\n",
       "    </tr>\n",
       "  </thead>\n",
       "  <tbody>\n",
       "    <tr>\n",
       "      <th>0</th>\n",
       "      <td>1000_0</td>\n",
       "      <td>2018-07-25</td>\n",
       "      <td>0.00</td>\n",
       "      <td>1000</td>\n",
       "    </tr>\n",
       "    <tr>\n",
       "      <th>1</th>\n",
       "      <td>1000_1</td>\n",
       "      <td>2018-08-17</td>\n",
       "      <td>0.00</td>\n",
       "      <td>1000</td>\n",
       "    </tr>\n",
       "    <tr>\n",
       "      <th>2</th>\n",
       "      <td>1000_2</td>\n",
       "      <td>2018-06-11</td>\n",
       "      <td>2.85</td>\n",
       "      <td>1000</td>\n",
       "    </tr>\n",
       "    <tr>\n",
       "      <th>3</th>\n",
       "      <td>1000_3</td>\n",
       "      <td>2018-09-21</td>\n",
       "      <td>13.80</td>\n",
       "      <td>1000</td>\n",
       "    </tr>\n",
       "    <tr>\n",
       "      <th>4</th>\n",
       "      <td>1000_4</td>\n",
       "      <td>2018-12-15</td>\n",
       "      <td>5.18</td>\n",
       "      <td>1000</td>\n",
       "    </tr>\n",
       "    <tr>\n",
       "      <th>5</th>\n",
       "      <td>1000_5</td>\n",
       "      <td>2018-11-02</td>\n",
       "      <td>0.00</td>\n",
       "      <td>1000</td>\n",
       "    </tr>\n",
       "    <tr>\n",
       "      <th>6</th>\n",
       "      <td>1000_6</td>\n",
       "      <td>2018-10-18</td>\n",
       "      <td>0.00</td>\n",
       "      <td>1000</td>\n",
       "    </tr>\n",
       "    <tr>\n",
       "      <th>7</th>\n",
       "      <td>1000_7</td>\n",
       "      <td>2018-08-22</td>\n",
       "      <td>18.31</td>\n",
       "      <td>1000</td>\n",
       "    </tr>\n",
       "    <tr>\n",
       "      <th>8</th>\n",
       "      <td>1000_8</td>\n",
       "      <td>2018-09-15</td>\n",
       "      <td>18.44</td>\n",
       "      <td>1000</td>\n",
       "    </tr>\n",
       "    <tr>\n",
       "      <th>9</th>\n",
       "      <td>1000_9</td>\n",
       "      <td>2018-08-15</td>\n",
       "      <td>0.00</td>\n",
       "      <td>1000</td>\n",
       "    </tr>\n",
       "  </tbody>\n",
       "</table>\n",
       "</div>"
      ],
      "text/plain": [
       "       id   call_date  duration  user_id\n",
       "0  1000_0  2018-07-25      0.00     1000\n",
       "1  1000_1  2018-08-17      0.00     1000\n",
       "2  1000_2  2018-06-11      2.85     1000\n",
       "3  1000_3  2018-09-21     13.80     1000\n",
       "4  1000_4  2018-12-15      5.18     1000\n",
       "5  1000_5  2018-11-02      0.00     1000\n",
       "6  1000_6  2018-10-18      0.00     1000\n",
       "7  1000_7  2018-08-22     18.31     1000\n",
       "8  1000_8  2018-09-15     18.44     1000\n",
       "9  1000_9  2018-08-15      0.00     1000"
      ]
     },
     "execution_count": 67,
     "metadata": {},
     "output_type": "execute_result"
    }
   ],
   "source": [
    "calls_df.head(10)"
   ]
  },
  {
   "cell_type": "markdown",
   "metadata": {},
   "source": [
    "Based on the explanations to the call_df table, we see that the duration column reflects the duration of the call in minutes. Now this data is represented by the float type."
   ]
  },
  {
   "cell_type": "code",
   "execution_count": 68,
   "metadata": {},
   "outputs": [
    {
     "data": {
      "text/plain": [
       "0"
      ]
     },
     "execution_count": 68,
     "metadata": {},
     "output_type": "execute_result"
    }
   ],
   "source": [
    "calls_df.duplicated().sum()"
   ]
  },
  {
   "cell_type": "code",
   "execution_count": 69,
   "metadata": {},
   "outputs": [
    {
     "data": {
      "text/plain": [
       "id           0\n",
       "call_date    0\n",
       "duration     0\n",
       "user_id      0\n",
       "dtype: int64"
      ]
     },
     "execution_count": 69,
     "metadata": {},
     "output_type": "execute_result"
    }
   ],
   "source": [
    "calls_df.isna().sum()"
   ]
  },
  {
   "cell_type": "markdown",
   "metadata": {},
   "source": [
    "There are no explicit duplicates and nan values in the calls_df table."
   ]
  },
  {
   "cell_type": "code",
   "execution_count": 70,
   "metadata": {},
   "outputs": [
    {
     "data": {
      "text/plain": [
       "1377    1760\n",
       "1168    1692\n",
       "1375    1560\n",
       "1453    1440\n",
       "1196    1240\n",
       "        ... \n",
       "1397      33\n",
       "1442      28\n",
       "1373      24\n",
       "1016      20\n",
       "1257      14\n",
       "Name: user_id, Length: 492, dtype: int64"
      ]
     },
     "execution_count": 70,
     "metadata": {},
     "output_type": "execute_result"
    }
   ],
   "source": [
    "calls_df['user_id'].value_counts()"
   ]
  },
  {
   "cell_type": "markdown",
   "metadata": {},
   "source": [
    "The calls_df table contains data on calls from 492 clients, not 500."
   ]
  },
  {
   "cell_type": "markdown",
   "metadata": {},
   "source": [
    "### Conclusion of the data study of table calls_df.\n",
    "The initial analysis of the call_df table data showed that there are no gaps, nan values and duplicates in it. At the same time, the data contains information about 492 customers, not about 500. The values of the duration column are specified in the float type, they must be converted to the int type and adjusted upwards to minutes. We also need to change the date type."
   ]
  },
  {
   "cell_type": "markdown",
   "metadata": {},
   "source": [
    "2) Study the data from the internet_df table:\n",
    "* id — unique session number\n",
    "* mb_used — the amount of Internet traffic spent per session (in megabytes)\n",
    "* session_date — date of the internet session\n",
    "* user_id — user ID"
   ]
  },
  {
   "cell_type": "code",
   "execution_count": 71,
   "metadata": {},
   "outputs": [
    {
     "name": "stdout",
     "output_type": "stream",
     "text": [
      "<class 'pandas.core.frame.DataFrame'>\n",
      "RangeIndex: 149396 entries, 0 to 149395\n",
      "Data columns (total 5 columns):\n",
      " #   Column        Non-Null Count   Dtype  \n",
      "---  ------        --------------   -----  \n",
      " 0   Unnamed: 0    149396 non-null  int64  \n",
      " 1   id            149396 non-null  object \n",
      " 2   mb_used       149396 non-null  float64\n",
      " 3   session_date  149396 non-null  object \n",
      " 4   user_id       149396 non-null  int64  \n",
      "dtypes: float64(1), int64(2), object(2)\n",
      "memory usage: 5.7+ MB\n"
     ]
    }
   ],
   "source": [
    "internet_df.info()"
   ]
  },
  {
   "cell_type": "code",
   "execution_count": 72,
   "metadata": {},
   "outputs": [
    {
     "data": {
      "text/html": [
       "<div>\n",
       "<style scoped>\n",
       "    .dataframe tbody tr th:only-of-type {\n",
       "        vertical-align: middle;\n",
       "    }\n",
       "\n",
       "    .dataframe tbody tr th {\n",
       "        vertical-align: top;\n",
       "    }\n",
       "\n",
       "    .dataframe thead th {\n",
       "        text-align: right;\n",
       "    }\n",
       "</style>\n",
       "<table border=\"1\" class=\"dataframe\">\n",
       "  <thead>\n",
       "    <tr style=\"text-align: right;\">\n",
       "      <th></th>\n",
       "      <th>Unnamed: 0</th>\n",
       "      <th>id</th>\n",
       "      <th>mb_used</th>\n",
       "      <th>session_date</th>\n",
       "      <th>user_id</th>\n",
       "    </tr>\n",
       "  </thead>\n",
       "  <tbody>\n",
       "    <tr>\n",
       "      <th>0</th>\n",
       "      <td>0</td>\n",
       "      <td>1000_0</td>\n",
       "      <td>112.95</td>\n",
       "      <td>2018-11-25</td>\n",
       "      <td>1000</td>\n",
       "    </tr>\n",
       "    <tr>\n",
       "      <th>1</th>\n",
       "      <td>1</td>\n",
       "      <td>1000_1</td>\n",
       "      <td>1052.81</td>\n",
       "      <td>2018-09-07</td>\n",
       "      <td>1000</td>\n",
       "    </tr>\n",
       "    <tr>\n",
       "      <th>2</th>\n",
       "      <td>2</td>\n",
       "      <td>1000_2</td>\n",
       "      <td>1197.26</td>\n",
       "      <td>2018-06-25</td>\n",
       "      <td>1000</td>\n",
       "    </tr>\n",
       "    <tr>\n",
       "      <th>3</th>\n",
       "      <td>3</td>\n",
       "      <td>1000_3</td>\n",
       "      <td>550.27</td>\n",
       "      <td>2018-08-22</td>\n",
       "      <td>1000</td>\n",
       "    </tr>\n",
       "    <tr>\n",
       "      <th>4</th>\n",
       "      <td>4</td>\n",
       "      <td>1000_4</td>\n",
       "      <td>302.56</td>\n",
       "      <td>2018-09-24</td>\n",
       "      <td>1000</td>\n",
       "    </tr>\n",
       "    <tr>\n",
       "      <th>5</th>\n",
       "      <td>5</td>\n",
       "      <td>1000_5</td>\n",
       "      <td>399.97</td>\n",
       "      <td>2018-10-02</td>\n",
       "      <td>1000</td>\n",
       "    </tr>\n",
       "    <tr>\n",
       "      <th>6</th>\n",
       "      <td>6</td>\n",
       "      <td>1000_6</td>\n",
       "      <td>540.08</td>\n",
       "      <td>2018-09-07</td>\n",
       "      <td>1000</td>\n",
       "    </tr>\n",
       "    <tr>\n",
       "      <th>7</th>\n",
       "      <td>7</td>\n",
       "      <td>1000_7</td>\n",
       "      <td>415.70</td>\n",
       "      <td>2018-07-11</td>\n",
       "      <td>1000</td>\n",
       "    </tr>\n",
       "    <tr>\n",
       "      <th>8</th>\n",
       "      <td>8</td>\n",
       "      <td>1000_8</td>\n",
       "      <td>505.40</td>\n",
       "      <td>2018-10-08</td>\n",
       "      <td>1000</td>\n",
       "    </tr>\n",
       "    <tr>\n",
       "      <th>9</th>\n",
       "      <td>9</td>\n",
       "      <td>1000_9</td>\n",
       "      <td>345.54</td>\n",
       "      <td>2018-09-03</td>\n",
       "      <td>1000</td>\n",
       "    </tr>\n",
       "  </tbody>\n",
       "</table>\n",
       "</div>"
      ],
      "text/plain": [
       "   Unnamed: 0      id  mb_used session_date  user_id\n",
       "0           0  1000_0   112.95   2018-11-25     1000\n",
       "1           1  1000_1  1052.81   2018-09-07     1000\n",
       "2           2  1000_2  1197.26   2018-06-25     1000\n",
       "3           3  1000_3   550.27   2018-08-22     1000\n",
       "4           4  1000_4   302.56   2018-09-24     1000\n",
       "5           5  1000_5   399.97   2018-10-02     1000\n",
       "6           6  1000_6   540.08   2018-09-07     1000\n",
       "7           7  1000_7   415.70   2018-07-11     1000\n",
       "8           8  1000_8   505.40   2018-10-08     1000\n",
       "9           9  1000_9   345.54   2018-09-03     1000"
      ]
     },
     "execution_count": 72,
     "metadata": {},
     "output_type": "execute_result"
    }
   ],
   "source": [
    "internet_df.head(10)"
   ]
  },
  {
   "cell_type": "markdown",
   "metadata": {},
   "source": [
    "We see the unnamed: 0 column that we don't need, formed as a result of saving data."
   ]
  },
  {
   "cell_type": "code",
   "execution_count": 73,
   "metadata": {},
   "outputs": [
    {
     "data": {
      "text/plain": [
       "0"
      ]
     },
     "execution_count": 73,
     "metadata": {},
     "output_type": "execute_result"
    }
   ],
   "source": [
    "internet_df.duplicated().sum()"
   ]
  },
  {
   "cell_type": "code",
   "execution_count": 74,
   "metadata": {},
   "outputs": [
    {
     "data": {
      "text/plain": [
       "Unnamed: 0      0\n",
       "id              0\n",
       "mb_used         0\n",
       "session_date    0\n",
       "user_id         0\n",
       "dtype: int64"
      ]
     },
     "execution_count": 74,
     "metadata": {},
     "output_type": "execute_result"
    }
   ],
   "source": [
    "internet_df.isna().sum()"
   ]
  },
  {
   "cell_type": "markdown",
   "metadata": {},
   "source": [
    "There are no explicit duplicates and nan values in the internet_df table."
   ]
  },
  {
   "cell_type": "code",
   "execution_count": 75,
   "metadata": {},
   "outputs": [
    {
     "data": {
      "text/plain": [
       "1496    834\n",
       "1227    812\n",
       "1204    789\n",
       "1240    764\n",
       "1251    759\n",
       "       ... \n",
       "1151     35\n",
       "1467     27\n",
       "1343     26\n",
       "1192     22\n",
       "1399      8\n",
       "Name: user_id, Length: 497, dtype: int64"
      ]
     },
     "execution_count": 75,
     "metadata": {},
     "output_type": "execute_result"
    }
   ],
   "source": [
    "internet_df['user_id'].value_counts()"
   ]
  },
  {
   "cell_type": "markdown",
   "metadata": {},
   "source": [
    "The internet_df table contains data on the Internet usage of 497 clients, not 500."
   ]
  },
  {
   "cell_type": "markdown",
   "metadata": {},
   "source": [
    "### The conclusion of data study of the internet_df table.\n",
    "The initial analysis of the data of the internet_df table showed that there are no omissions, nan values and duplicates in it. At the same time, the data contains information about 497 clients, not about 500. The table contains an unnamed: 0 unnecessary column formed as a result of saving data, it will need to be deleted. The values of the mb_used column are specified in the float type, we will convert them later, since their rounding also depends on the resolution of the month. We also need to change the date type."
   ]
  },
  {
   "cell_type": "markdown",
   "metadata": {},
   "source": [
    "3) Study the data from the messages_df table:\n",
    "* id — unique message number\n",
    "* message_date — date of the message\n",
    "* user_id — ID of the user who sent the message"
   ]
  },
  {
   "cell_type": "code",
   "execution_count": 76,
   "metadata": {},
   "outputs": [
    {
     "name": "stdout",
     "output_type": "stream",
     "text": [
      "<class 'pandas.core.frame.DataFrame'>\n",
      "RangeIndex: 123036 entries, 0 to 123035\n",
      "Data columns (total 3 columns):\n",
      " #   Column        Non-Null Count   Dtype \n",
      "---  ------        --------------   ----- \n",
      " 0   id            123036 non-null  object\n",
      " 1   message_date  123036 non-null  object\n",
      " 2   user_id       123036 non-null  int64 \n",
      "dtypes: int64(1), object(2)\n",
      "memory usage: 2.8+ MB\n"
     ]
    }
   ],
   "source": [
    "messages_df.info()"
   ]
  },
  {
   "cell_type": "code",
   "execution_count": 77,
   "metadata": {},
   "outputs": [
    {
     "data": {
      "text/html": [
       "<div>\n",
       "<style scoped>\n",
       "    .dataframe tbody tr th:only-of-type {\n",
       "        vertical-align: middle;\n",
       "    }\n",
       "\n",
       "    .dataframe tbody tr th {\n",
       "        vertical-align: top;\n",
       "    }\n",
       "\n",
       "    .dataframe thead th {\n",
       "        text-align: right;\n",
       "    }\n",
       "</style>\n",
       "<table border=\"1\" class=\"dataframe\">\n",
       "  <thead>\n",
       "    <tr style=\"text-align: right;\">\n",
       "      <th></th>\n",
       "      <th>id</th>\n",
       "      <th>message_date</th>\n",
       "      <th>user_id</th>\n",
       "    </tr>\n",
       "  </thead>\n",
       "  <tbody>\n",
       "    <tr>\n",
       "      <th>0</th>\n",
       "      <td>1000_0</td>\n",
       "      <td>2018-06-27</td>\n",
       "      <td>1000</td>\n",
       "    </tr>\n",
       "    <tr>\n",
       "      <th>1</th>\n",
       "      <td>1000_1</td>\n",
       "      <td>2018-10-08</td>\n",
       "      <td>1000</td>\n",
       "    </tr>\n",
       "    <tr>\n",
       "      <th>2</th>\n",
       "      <td>1000_2</td>\n",
       "      <td>2018-08-04</td>\n",
       "      <td>1000</td>\n",
       "    </tr>\n",
       "    <tr>\n",
       "      <th>3</th>\n",
       "      <td>1000_3</td>\n",
       "      <td>2018-06-16</td>\n",
       "      <td>1000</td>\n",
       "    </tr>\n",
       "    <tr>\n",
       "      <th>4</th>\n",
       "      <td>1000_4</td>\n",
       "      <td>2018-12-05</td>\n",
       "      <td>1000</td>\n",
       "    </tr>\n",
       "    <tr>\n",
       "      <th>5</th>\n",
       "      <td>1000_5</td>\n",
       "      <td>2018-06-20</td>\n",
       "      <td>1000</td>\n",
       "    </tr>\n",
       "    <tr>\n",
       "      <th>6</th>\n",
       "      <td>1000_6</td>\n",
       "      <td>2018-11-19</td>\n",
       "      <td>1000</td>\n",
       "    </tr>\n",
       "    <tr>\n",
       "      <th>7</th>\n",
       "      <td>1000_7</td>\n",
       "      <td>2018-10-29</td>\n",
       "      <td>1000</td>\n",
       "    </tr>\n",
       "    <tr>\n",
       "      <th>8</th>\n",
       "      <td>1000_8</td>\n",
       "      <td>2018-06-25</td>\n",
       "      <td>1000</td>\n",
       "    </tr>\n",
       "    <tr>\n",
       "      <th>9</th>\n",
       "      <td>1000_9</td>\n",
       "      <td>2018-12-18</td>\n",
       "      <td>1000</td>\n",
       "    </tr>\n",
       "  </tbody>\n",
       "</table>\n",
       "</div>"
      ],
      "text/plain": [
       "       id message_date  user_id\n",
       "0  1000_0   2018-06-27     1000\n",
       "1  1000_1   2018-10-08     1000\n",
       "2  1000_2   2018-08-04     1000\n",
       "3  1000_3   2018-06-16     1000\n",
       "4  1000_4   2018-12-05     1000\n",
       "5  1000_5   2018-06-20     1000\n",
       "6  1000_6   2018-11-19     1000\n",
       "7  1000_7   2018-10-29     1000\n",
       "8  1000_8   2018-06-25     1000\n",
       "9  1000_9   2018-12-18     1000"
      ]
     },
     "execution_count": 77,
     "metadata": {},
     "output_type": "execute_result"
    }
   ],
   "source": [
    "messages_df.head(10)"
   ]
  },
  {
   "cell_type": "code",
   "execution_count": 78,
   "metadata": {},
   "outputs": [
    {
     "data": {
      "text/plain": [
       "0"
      ]
     },
     "execution_count": 78,
     "metadata": {},
     "output_type": "execute_result"
    }
   ],
   "source": [
    "messages_df.duplicated().sum()"
   ]
  },
  {
   "cell_type": "code",
   "execution_count": 79,
   "metadata": {},
   "outputs": [
    {
     "data": {
      "text/plain": [
       "id              0\n",
       "message_date    0\n",
       "user_id         0\n",
       "dtype: int64"
      ]
     },
     "execution_count": 79,
     "metadata": {},
     "output_type": "execute_result"
    }
   ],
   "source": [
    "messages_df.isna().sum()"
   ]
  },
  {
   "cell_type": "markdown",
   "metadata": {},
   "source": [
    "There are no explicit duplicates and nan values in the messages_df table."
   ]
  },
  {
   "cell_type": "code",
   "execution_count": 80,
   "metadata": {},
   "outputs": [
    {
     "data": {
      "text/plain": [
       "1277    1463\n",
       "1089    1408\n",
       "1231    1384\n",
       "1385    1380\n",
       "1356    1224\n",
       "        ... \n",
       "1389       6\n",
       "1279       5\n",
       "1074       3\n",
       "1159       2\n",
       "1141       1\n",
       "Name: user_id, Length: 426, dtype: int64"
      ]
     },
     "execution_count": 80,
     "metadata": {},
     "output_type": "execute_result"
    }
   ],
   "source": [
    "messages_df['user_id'].value_counts()"
   ]
  },
  {
   "cell_type": "markdown",
   "metadata": {},
   "source": [
    "The messages_df table contains data about 426 clients' messages, not 500."
   ]
  },
  {
   "cell_type": "markdown",
   "metadata": {},
   "source": [
    "### The conclusion of data study of the  table messages_df.\n",
    "The initial analysis of the messages_df table data showed that there are no omissions, nan values and duplicates in it. At the same time, the data contains information about 426 customers, not about 500. We also need to change the date type."
   ]
  },
  {
   "cell_type": "markdown",
   "metadata": {},
   "source": [
    "4) Study the data from the tariffs_df table:\n",
    "* tariff_name — name of the tariff\n",
    "* rub_monthly_fee — monthly subscription fee in rubles\n",
    "* minutes_included — the number of minutes of conversation per month included in the subscription fee\n",
    "* messages_included — the number of messages per month included in the subscription fee\n",
    "* mb_per_month_included — the amount of Internet traffic included in the subscription fee (in megabytes)\n",
    "* rub_per_minute — the cost of a minute of conversation over the tariff package (for example, if the tariff has 100 minutes of conversation per month, then a fee will be charged from 101 minutes)\n",
    "* rub_per_message — the cost of sending a message over the tariff package\n",
    "* rub_per_gb — the cost of an additional gigabyte of Internet traffic over the tariff package (1 gigabyte = 1024 megabytes)"
   ]
  },
  {
   "cell_type": "code",
   "execution_count": 81,
   "metadata": {},
   "outputs": [
    {
     "name": "stdout",
     "output_type": "stream",
     "text": [
      "<class 'pandas.core.frame.DataFrame'>\n",
      "RangeIndex: 2 entries, 0 to 1\n",
      "Data columns (total 8 columns):\n",
      " #   Column                 Non-Null Count  Dtype \n",
      "---  ------                 --------------  ----- \n",
      " 0   messages_included      2 non-null      int64 \n",
      " 1   mb_per_month_included  2 non-null      int64 \n",
      " 2   minutes_included       2 non-null      int64 \n",
      " 3   rub_monthly_fee        2 non-null      int64 \n",
      " 4   rub_per_gb             2 non-null      int64 \n",
      " 5   rub_per_message        2 non-null      int64 \n",
      " 6   rub_per_minute         2 non-null      int64 \n",
      " 7   tariff_name            2 non-null      object\n",
      "dtypes: int64(7), object(1)\n",
      "memory usage: 256.0+ bytes\n"
     ]
    }
   ],
   "source": [
    "tariffs_df.info()"
   ]
  },
  {
   "cell_type": "code",
   "execution_count": 82,
   "metadata": {},
   "outputs": [
    {
     "data": {
      "text/html": [
       "<div>\n",
       "<style scoped>\n",
       "    .dataframe tbody tr th:only-of-type {\n",
       "        vertical-align: middle;\n",
       "    }\n",
       "\n",
       "    .dataframe tbody tr th {\n",
       "        vertical-align: top;\n",
       "    }\n",
       "\n",
       "    .dataframe thead th {\n",
       "        text-align: right;\n",
       "    }\n",
       "</style>\n",
       "<table border=\"1\" class=\"dataframe\">\n",
       "  <thead>\n",
       "    <tr style=\"text-align: right;\">\n",
       "      <th></th>\n",
       "      <th>messages_included</th>\n",
       "      <th>mb_per_month_included</th>\n",
       "      <th>minutes_included</th>\n",
       "      <th>rub_monthly_fee</th>\n",
       "      <th>rub_per_gb</th>\n",
       "      <th>rub_per_message</th>\n",
       "      <th>rub_per_minute</th>\n",
       "      <th>tariff_name</th>\n",
       "    </tr>\n",
       "  </thead>\n",
       "  <tbody>\n",
       "    <tr>\n",
       "      <th>0</th>\n",
       "      <td>50</td>\n",
       "      <td>15360</td>\n",
       "      <td>500</td>\n",
       "      <td>550</td>\n",
       "      <td>200</td>\n",
       "      <td>3</td>\n",
       "      <td>3</td>\n",
       "      <td>smart</td>\n",
       "    </tr>\n",
       "    <tr>\n",
       "      <th>1</th>\n",
       "      <td>1000</td>\n",
       "      <td>30720</td>\n",
       "      <td>3000</td>\n",
       "      <td>1950</td>\n",
       "      <td>150</td>\n",
       "      <td>1</td>\n",
       "      <td>1</td>\n",
       "      <td>ultra</td>\n",
       "    </tr>\n",
       "  </tbody>\n",
       "</table>\n",
       "</div>"
      ],
      "text/plain": [
       "   messages_included  mb_per_month_included  minutes_included  \\\n",
       "0                 50                  15360               500   \n",
       "1               1000                  30720              3000   \n",
       "\n",
       "   rub_monthly_fee  rub_per_gb  rub_per_message  rub_per_minute tariff_name  \n",
       "0              550         200                3               3       smart  \n",
       "1             1950         150                1               1       ultra  "
      ]
     },
     "execution_count": 82,
     "metadata": {},
     "output_type": "execute_result"
    }
   ],
   "source": [
    "tariffs_df.head(10)"
   ]
  },
  {
   "cell_type": "markdown",
   "metadata": {},
   "source": [
    "### The conclusion of data study of the table tariffs_df.\n",
    "The primary data analysis of the tariffs_df table contains general data on tariffs. Next, we need to convert the megabytes included in the tariff into gigabytes."
   ]
  },
  {
   "cell_type": "markdown",
   "metadata": {},
   "source": [
    "5) Study the data from the users_df table:"
   ]
  },
  {
   "cell_type": "code",
   "execution_count": 83,
   "metadata": {},
   "outputs": [
    {
     "name": "stdout",
     "output_type": "stream",
     "text": [
      "<class 'pandas.core.frame.DataFrame'>\n",
      "RangeIndex: 500 entries, 0 to 499\n",
      "Data columns (total 8 columns):\n",
      " #   Column      Non-Null Count  Dtype \n",
      "---  ------      --------------  ----- \n",
      " 0   user_id     500 non-null    int64 \n",
      " 1   age         500 non-null    int64 \n",
      " 2   churn_date  38 non-null     object\n",
      " 3   city        500 non-null    object\n",
      " 4   first_name  500 non-null    object\n",
      " 5   last_name   500 non-null    object\n",
      " 6   reg_date    500 non-null    object\n",
      " 7   tariff      500 non-null    object\n",
      "dtypes: int64(2), object(6)\n",
      "memory usage: 31.4+ KB\n"
     ]
    }
   ],
   "source": [
    "users_df.info()"
   ]
  },
  {
   "cell_type": "code",
   "execution_count": 84,
   "metadata": {},
   "outputs": [
    {
     "data": {
      "text/html": [
       "<div>\n",
       "<style scoped>\n",
       "    .dataframe tbody tr th:only-of-type {\n",
       "        vertical-align: middle;\n",
       "    }\n",
       "\n",
       "    .dataframe tbody tr th {\n",
       "        vertical-align: top;\n",
       "    }\n",
       "\n",
       "    .dataframe thead th {\n",
       "        text-align: right;\n",
       "    }\n",
       "</style>\n",
       "<table border=\"1\" class=\"dataframe\">\n",
       "  <thead>\n",
       "    <tr style=\"text-align: right;\">\n",
       "      <th></th>\n",
       "      <th>user_id</th>\n",
       "      <th>age</th>\n",
       "      <th>churn_date</th>\n",
       "      <th>city</th>\n",
       "      <th>first_name</th>\n",
       "      <th>last_name</th>\n",
       "      <th>reg_date</th>\n",
       "      <th>tariff</th>\n",
       "    </tr>\n",
       "  </thead>\n",
       "  <tbody>\n",
       "    <tr>\n",
       "      <th>0</th>\n",
       "      <td>1000</td>\n",
       "      <td>52</td>\n",
       "      <td>NaN</td>\n",
       "      <td>Краснодар</td>\n",
       "      <td>Рафаил</td>\n",
       "      <td>Верещагин</td>\n",
       "      <td>2018-05-25</td>\n",
       "      <td>ultra</td>\n",
       "    </tr>\n",
       "    <tr>\n",
       "      <th>1</th>\n",
       "      <td>1001</td>\n",
       "      <td>41</td>\n",
       "      <td>NaN</td>\n",
       "      <td>Москва</td>\n",
       "      <td>Иван</td>\n",
       "      <td>Ежов</td>\n",
       "      <td>2018-11-01</td>\n",
       "      <td>smart</td>\n",
       "    </tr>\n",
       "    <tr>\n",
       "      <th>2</th>\n",
       "      <td>1002</td>\n",
       "      <td>59</td>\n",
       "      <td>NaN</td>\n",
       "      <td>Стерлитамак</td>\n",
       "      <td>Евгений</td>\n",
       "      <td>Абрамович</td>\n",
       "      <td>2018-06-17</td>\n",
       "      <td>smart</td>\n",
       "    </tr>\n",
       "    <tr>\n",
       "      <th>3</th>\n",
       "      <td>1003</td>\n",
       "      <td>23</td>\n",
       "      <td>NaN</td>\n",
       "      <td>Москва</td>\n",
       "      <td>Белла</td>\n",
       "      <td>Белякова</td>\n",
       "      <td>2018-08-17</td>\n",
       "      <td>ultra</td>\n",
       "    </tr>\n",
       "    <tr>\n",
       "      <th>4</th>\n",
       "      <td>1004</td>\n",
       "      <td>68</td>\n",
       "      <td>NaN</td>\n",
       "      <td>Новокузнецк</td>\n",
       "      <td>Татьяна</td>\n",
       "      <td>Авдеенко</td>\n",
       "      <td>2018-05-14</td>\n",
       "      <td>ultra</td>\n",
       "    </tr>\n",
       "    <tr>\n",
       "      <th>5</th>\n",
       "      <td>1005</td>\n",
       "      <td>67</td>\n",
       "      <td>NaN</td>\n",
       "      <td>Набережные Челны</td>\n",
       "      <td>Афанасий</td>\n",
       "      <td>Горлов</td>\n",
       "      <td>2018-01-25</td>\n",
       "      <td>smart</td>\n",
       "    </tr>\n",
       "    <tr>\n",
       "      <th>6</th>\n",
       "      <td>1006</td>\n",
       "      <td>21</td>\n",
       "      <td>NaN</td>\n",
       "      <td>Ульяновск</td>\n",
       "      <td>Леонид</td>\n",
       "      <td>Ермолаев</td>\n",
       "      <td>2018-02-26</td>\n",
       "      <td>smart</td>\n",
       "    </tr>\n",
       "    <tr>\n",
       "      <th>7</th>\n",
       "      <td>1007</td>\n",
       "      <td>65</td>\n",
       "      <td>NaN</td>\n",
       "      <td>Москва</td>\n",
       "      <td>Юна</td>\n",
       "      <td>Березина</td>\n",
       "      <td>2018-04-19</td>\n",
       "      <td>smart</td>\n",
       "    </tr>\n",
       "    <tr>\n",
       "      <th>8</th>\n",
       "      <td>1008</td>\n",
       "      <td>63</td>\n",
       "      <td>NaN</td>\n",
       "      <td>Челябинск</td>\n",
       "      <td>Рустэм</td>\n",
       "      <td>Пономарёв</td>\n",
       "      <td>2018-12-19</td>\n",
       "      <td>smart</td>\n",
       "    </tr>\n",
       "    <tr>\n",
       "      <th>9</th>\n",
       "      <td>1009</td>\n",
       "      <td>24</td>\n",
       "      <td>NaN</td>\n",
       "      <td>Пермь</td>\n",
       "      <td>Василиса</td>\n",
       "      <td>Блинова</td>\n",
       "      <td>2018-03-22</td>\n",
       "      <td>smart</td>\n",
       "    </tr>\n",
       "  </tbody>\n",
       "</table>\n",
       "</div>"
      ],
      "text/plain": [
       "   user_id  age churn_date              city first_name  last_name  \\\n",
       "0     1000   52        NaN         Краснодар     Рафаил  Верещагин   \n",
       "1     1001   41        NaN            Москва       Иван       Ежов   \n",
       "2     1002   59        NaN       Стерлитамак    Евгений  Абрамович   \n",
       "3     1003   23        NaN            Москва      Белла   Белякова   \n",
       "4     1004   68        NaN       Новокузнецк    Татьяна   Авдеенко   \n",
       "5     1005   67        NaN  Набережные Челны   Афанасий     Горлов   \n",
       "6     1006   21        NaN         Ульяновск     Леонид   Ермолаев   \n",
       "7     1007   65        NaN            Москва        Юна   Березина   \n",
       "8     1008   63        NaN         Челябинск     Рустэм  Пономарёв   \n",
       "9     1009   24        NaN             Пермь   Василиса    Блинова   \n",
       "\n",
       "     reg_date tariff  \n",
       "0  2018-05-25  ultra  \n",
       "1  2018-11-01  smart  \n",
       "2  2018-06-17  smart  \n",
       "3  2018-08-17  ultra  \n",
       "4  2018-05-14  ultra  \n",
       "5  2018-01-25  smart  \n",
       "6  2018-02-26  smart  \n",
       "7  2018-04-19  smart  \n",
       "8  2018-12-19  smart  \n",
       "9  2018-03-22  smart  "
      ]
     },
     "execution_count": 84,
     "metadata": {},
     "output_type": "execute_result"
    }
   ],
   "source": [
    "users_df.head(10)"
   ]
  },
  {
   "cell_type": "markdown",
   "metadata": {},
   "source": [
    "Determine the proportion of nan values:"
   ]
  },
  {
   "cell_type": "code",
   "execution_count": 85,
   "metadata": {},
   "outputs": [
    {
     "name": "stdout",
     "output_type": "stream",
     "text": [
      "The percentage of missing values in the column churn_date: 7.6%\n"
     ]
    }
   ],
   "source": [
    "volume_nan = 38 / 500\n",
    "print(\"The percentage of missing values in the column churn_date: {:.1%}\".format(volume_nan))"
   ]
  },
  {
   "cell_type": "markdown",
   "metadata": {},
   "source": [
    "At this stage, we cannot neglect this data, so we leave them."
   ]
  },
  {
   "cell_type": "code",
   "execution_count": 86,
   "metadata": {},
   "outputs": [
    {
     "data": {
      "text/plain": [
       "0"
      ]
     },
     "execution_count": 86,
     "metadata": {},
     "output_type": "execute_result"
    }
   ],
   "source": [
    "users_df.duplicated().sum()"
   ]
  },
  {
   "cell_type": "markdown",
   "metadata": {},
   "source": [
    "There are no explicit duplicates in the users_df table."
   ]
  },
  {
   "cell_type": "code",
   "execution_count": 87,
   "metadata": {},
   "outputs": [
    {
     "data": {
      "text/plain": [
       "array(['Краснодар', 'Москва', 'Стерлитамак', 'Новокузнецк',\n",
       "       'Набережные Челны', 'Ульяновск', 'Челябинск', 'Пермь', 'Тюмень',\n",
       "       'Самара', 'Санкт-Петербург', 'Иваново', 'Чебоксары', 'Омск', 'Уфа',\n",
       "       'Томск', 'Чита', 'Мурманск', 'Петрозаводск', 'Тверь',\n",
       "       'Екатеринбург', 'Махачкала', 'Вологда', 'Череповец', 'Ярославль',\n",
       "       'Сочи', 'Хабаровск', 'Ставрополь', 'Рязань', 'Улан-Удэ', 'Тула',\n",
       "       'Саратов', 'Ростов-на-Дону', 'Казань', 'Иркутск', 'Курск',\n",
       "       'Калуга', 'Якутск', 'Астрахань', 'Химки', 'Владикавказ',\n",
       "       'Волгоград', 'Саранск', 'Ижевск', 'Новосибирск', 'Брянск',\n",
       "       'Тольятти', 'Нижний Тагил', 'Орёл', 'Белгород', 'Воронеж',\n",
       "       'Волжский', 'Курган', 'Барнаул', 'Красноярск', 'Архангельск',\n",
       "       'Липецк', 'Кемерово', 'Киров', 'Сургут', 'Пенза', 'Магнитогорск',\n",
       "       'Нижний Новгород', 'Кострома', 'Владивосток', 'Тамбов', 'Балашиха',\n",
       "       'Севастополь', 'Калининград', 'Оренбург', 'Смоленск',\n",
       "       'Нижневартовск', 'Владимир', 'Новороссийск', 'Грозный', 'Подольск'],\n",
       "      dtype=object)"
      ]
     },
     "execution_count": 87,
     "metadata": {},
     "output_type": "execute_result"
    }
   ],
   "source": [
    "users_df['city'].unique()"
   ]
  },
  {
   "cell_type": "code",
   "execution_count": 88,
   "metadata": {},
   "outputs": [
    {
     "data": {
      "text/plain": [
       "array(['ultra', 'smart'], dtype=object)"
      ]
     },
     "execution_count": 88,
     "metadata": {},
     "output_type": "execute_result"
    }
   ],
   "source": [
    "users_df['tariff'].unique()"
   ]
  },
  {
   "cell_type": "markdown",
   "metadata": {},
   "source": [
    "There are no implicit duplicates in the users_df table in the columns city, tariff."
   ]
  },
  {
   "cell_type": "code",
   "execution_count": 89,
   "metadata": {},
   "outputs": [
    {
     "data": {
      "text/plain": [
       "0"
      ]
     },
     "execution_count": 89,
     "metadata": {},
     "output_type": "execute_result"
    }
   ],
   "source": [
    "users_df['user_id'].duplicated().sum()"
   ]
  },
  {
   "cell_type": "markdown",
   "metadata": {},
   "source": [
    "### The conclusion of data study of the table users_df.\n",
    "The initial analysis of the users_df table data showed that there are no duplicates in it. At the same time, the data contains nan values in the churn_rate column, which is 7.6% of the data in the column. The char_date column contains information about the date of termination of use of the tariff, if the value is missing, then the client is still using the tariff on the date of formation of the table. Let's leave this data. However, we need to change the date type and fill in the gaps. We also need to change the name of the tariff column to tariff_name for unification."
   ]
  },
  {
   "cell_type": "markdown",
   "metadata": {},
   "source": [
    "## Preparing data for analysis"
   ]
  },
  {
   "cell_type": "markdown",
   "metadata": {},
   "source": [
    "### Preprocessing of calls_df table data:"
   ]
  },
  {
   "cell_type": "markdown",
   "metadata": {},
   "source": [
    "#### Change the data to the correct time format and add a column with the month of the call:"
   ]
  },
  {
   "cell_type": "code",
   "execution_count": 90,
   "metadata": {},
   "outputs": [],
   "source": [
    "calls_df['call_date'] = pd.to_datetime(calls_df['call_date'], format='%Y-%m-%d')"
   ]
  },
  {
   "cell_type": "code",
   "execution_count": 91,
   "metadata": {},
   "outputs": [
    {
     "data": {
      "text/html": [
       "<div>\n",
       "<style scoped>\n",
       "    .dataframe tbody tr th:only-of-type {\n",
       "        vertical-align: middle;\n",
       "    }\n",
       "\n",
       "    .dataframe tbody tr th {\n",
       "        vertical-align: top;\n",
       "    }\n",
       "\n",
       "    .dataframe thead th {\n",
       "        text-align: right;\n",
       "    }\n",
       "</style>\n",
       "<table border=\"1\" class=\"dataframe\">\n",
       "  <thead>\n",
       "    <tr style=\"text-align: right;\">\n",
       "      <th></th>\n",
       "      <th>id</th>\n",
       "      <th>call_date</th>\n",
       "      <th>duration</th>\n",
       "      <th>user_id</th>\n",
       "      <th>month</th>\n",
       "    </tr>\n",
       "  </thead>\n",
       "  <tbody>\n",
       "    <tr>\n",
       "      <th>0</th>\n",
       "      <td>1000_0</td>\n",
       "      <td>2018-07-25</td>\n",
       "      <td>0.00</td>\n",
       "      <td>1000</td>\n",
       "      <td>7</td>\n",
       "    </tr>\n",
       "    <tr>\n",
       "      <th>1</th>\n",
       "      <td>1000_1</td>\n",
       "      <td>2018-08-17</td>\n",
       "      <td>0.00</td>\n",
       "      <td>1000</td>\n",
       "      <td>8</td>\n",
       "    </tr>\n",
       "    <tr>\n",
       "      <th>2</th>\n",
       "      <td>1000_2</td>\n",
       "      <td>2018-06-11</td>\n",
       "      <td>2.85</td>\n",
       "      <td>1000</td>\n",
       "      <td>6</td>\n",
       "    </tr>\n",
       "    <tr>\n",
       "      <th>3</th>\n",
       "      <td>1000_3</td>\n",
       "      <td>2018-09-21</td>\n",
       "      <td>13.80</td>\n",
       "      <td>1000</td>\n",
       "      <td>9</td>\n",
       "    </tr>\n",
       "    <tr>\n",
       "      <th>4</th>\n",
       "      <td>1000_4</td>\n",
       "      <td>2018-12-15</td>\n",
       "      <td>5.18</td>\n",
       "      <td>1000</td>\n",
       "      <td>12</td>\n",
       "    </tr>\n",
       "    <tr>\n",
       "      <th>5</th>\n",
       "      <td>1000_5</td>\n",
       "      <td>2018-11-02</td>\n",
       "      <td>0.00</td>\n",
       "      <td>1000</td>\n",
       "      <td>11</td>\n",
       "    </tr>\n",
       "    <tr>\n",
       "      <th>6</th>\n",
       "      <td>1000_6</td>\n",
       "      <td>2018-10-18</td>\n",
       "      <td>0.00</td>\n",
       "      <td>1000</td>\n",
       "      <td>10</td>\n",
       "    </tr>\n",
       "    <tr>\n",
       "      <th>7</th>\n",
       "      <td>1000_7</td>\n",
       "      <td>2018-08-22</td>\n",
       "      <td>18.31</td>\n",
       "      <td>1000</td>\n",
       "      <td>8</td>\n",
       "    </tr>\n",
       "    <tr>\n",
       "      <th>8</th>\n",
       "      <td>1000_8</td>\n",
       "      <td>2018-09-15</td>\n",
       "      <td>18.44</td>\n",
       "      <td>1000</td>\n",
       "      <td>9</td>\n",
       "    </tr>\n",
       "    <tr>\n",
       "      <th>9</th>\n",
       "      <td>1000_9</td>\n",
       "      <td>2018-08-15</td>\n",
       "      <td>0.00</td>\n",
       "      <td>1000</td>\n",
       "      <td>8</td>\n",
       "    </tr>\n",
       "  </tbody>\n",
       "</table>\n",
       "</div>"
      ],
      "text/plain": [
       "       id  call_date  duration  user_id  month\n",
       "0  1000_0 2018-07-25      0.00     1000      7\n",
       "1  1000_1 2018-08-17      0.00     1000      8\n",
       "2  1000_2 2018-06-11      2.85     1000      6\n",
       "3  1000_3 2018-09-21     13.80     1000      9\n",
       "4  1000_4 2018-12-15      5.18     1000     12\n",
       "5  1000_5 2018-11-02      0.00     1000     11\n",
       "6  1000_6 2018-10-18      0.00     1000     10\n",
       "7  1000_7 2018-08-22     18.31     1000      8\n",
       "8  1000_8 2018-09-15     18.44     1000      9\n",
       "9  1000_9 2018-08-15      0.00     1000      8"
      ]
     },
     "execution_count": 91,
     "metadata": {},
     "output_type": "execute_result"
    }
   ],
   "source": [
    "calls_df['month'] = calls_df['call_date'].dt.month\n",
    "calls_df.head(10)"
   ]
  },
  {
   "cell_type": "markdown",
   "metadata": {},
   "source": [
    "#### Correcting data in the column \"duration\":\n",
    "Based on the explanations to the call_df table, we see that the \"duration\" column reflects the duration of the call in minutes. Now this data is represented by the float type. Since to account for the cost of the tariff, the duration of calls is always rounded from a second to a minute, we will bring the data to the int type for the convenience of research."
   ]
  },
  {
   "cell_type": "code",
   "execution_count": 92,
   "metadata": {},
   "outputs": [
    {
     "data": {
      "text/html": [
       "<div>\n",
       "<style scoped>\n",
       "    .dataframe tbody tr th:only-of-type {\n",
       "        vertical-align: middle;\n",
       "    }\n",
       "\n",
       "    .dataframe tbody tr th {\n",
       "        vertical-align: top;\n",
       "    }\n",
       "\n",
       "    .dataframe thead th {\n",
       "        text-align: right;\n",
       "    }\n",
       "</style>\n",
       "<table border=\"1\" class=\"dataframe\">\n",
       "  <thead>\n",
       "    <tr style=\"text-align: right;\">\n",
       "      <th></th>\n",
       "      <th>id</th>\n",
       "      <th>call_date</th>\n",
       "      <th>duration</th>\n",
       "      <th>user_id</th>\n",
       "      <th>month</th>\n",
       "    </tr>\n",
       "  </thead>\n",
       "  <tbody>\n",
       "    <tr>\n",
       "      <th>0</th>\n",
       "      <td>1000_0</td>\n",
       "      <td>2018-07-25</td>\n",
       "      <td>0</td>\n",
       "      <td>1000</td>\n",
       "      <td>7</td>\n",
       "    </tr>\n",
       "    <tr>\n",
       "      <th>1</th>\n",
       "      <td>1000_1</td>\n",
       "      <td>2018-08-17</td>\n",
       "      <td>0</td>\n",
       "      <td>1000</td>\n",
       "      <td>8</td>\n",
       "    </tr>\n",
       "    <tr>\n",
       "      <th>2</th>\n",
       "      <td>1000_2</td>\n",
       "      <td>2018-06-11</td>\n",
       "      <td>3</td>\n",
       "      <td>1000</td>\n",
       "      <td>6</td>\n",
       "    </tr>\n",
       "    <tr>\n",
       "      <th>3</th>\n",
       "      <td>1000_3</td>\n",
       "      <td>2018-09-21</td>\n",
       "      <td>14</td>\n",
       "      <td>1000</td>\n",
       "      <td>9</td>\n",
       "    </tr>\n",
       "    <tr>\n",
       "      <th>4</th>\n",
       "      <td>1000_4</td>\n",
       "      <td>2018-12-15</td>\n",
       "      <td>6</td>\n",
       "      <td>1000</td>\n",
       "      <td>12</td>\n",
       "    </tr>\n",
       "    <tr>\n",
       "      <th>5</th>\n",
       "      <td>1000_5</td>\n",
       "      <td>2018-11-02</td>\n",
       "      <td>0</td>\n",
       "      <td>1000</td>\n",
       "      <td>11</td>\n",
       "    </tr>\n",
       "    <tr>\n",
       "      <th>6</th>\n",
       "      <td>1000_6</td>\n",
       "      <td>2018-10-18</td>\n",
       "      <td>0</td>\n",
       "      <td>1000</td>\n",
       "      <td>10</td>\n",
       "    </tr>\n",
       "    <tr>\n",
       "      <th>7</th>\n",
       "      <td>1000_7</td>\n",
       "      <td>2018-08-22</td>\n",
       "      <td>19</td>\n",
       "      <td>1000</td>\n",
       "      <td>8</td>\n",
       "    </tr>\n",
       "    <tr>\n",
       "      <th>8</th>\n",
       "      <td>1000_8</td>\n",
       "      <td>2018-09-15</td>\n",
       "      <td>19</td>\n",
       "      <td>1000</td>\n",
       "      <td>9</td>\n",
       "    </tr>\n",
       "    <tr>\n",
       "      <th>9</th>\n",
       "      <td>1000_9</td>\n",
       "      <td>2018-08-15</td>\n",
       "      <td>0</td>\n",
       "      <td>1000</td>\n",
       "      <td>8</td>\n",
       "    </tr>\n",
       "  </tbody>\n",
       "</table>\n",
       "</div>"
      ],
      "text/plain": [
       "       id  call_date  duration  user_id  month\n",
       "0  1000_0 2018-07-25         0     1000      7\n",
       "1  1000_1 2018-08-17         0     1000      8\n",
       "2  1000_2 2018-06-11         3     1000      6\n",
       "3  1000_3 2018-09-21        14     1000      9\n",
       "4  1000_4 2018-12-15         6     1000     12\n",
       "5  1000_5 2018-11-02         0     1000     11\n",
       "6  1000_6 2018-10-18         0     1000     10\n",
       "7  1000_7 2018-08-22        19     1000      8\n",
       "8  1000_8 2018-09-15        19     1000      9\n",
       "9  1000_9 2018-08-15         0     1000      8"
      ]
     },
     "execution_count": 92,
     "metadata": {},
     "output_type": "execute_result"
    }
   ],
   "source": [
    "import numpy as np\n",
    "calls_df['duration'] = calls_df['duration'].apply(np.ceil).astype(int)\n",
    "calls_df.head(10)"
   ]
  },
  {
   "cell_type": "markdown",
   "metadata": {},
   "source": [
    "### Preprocessing of the internet_df table data:"
   ]
  },
  {
   "cell_type": "markdown",
   "metadata": {},
   "source": [
    "#### Change the data to the correct time format and add a column with the month of the session:"
   ]
  },
  {
   "cell_type": "code",
   "execution_count": 93,
   "metadata": {},
   "outputs": [
    {
     "data": {
      "text/html": [
       "<div>\n",
       "<style scoped>\n",
       "    .dataframe tbody tr th:only-of-type {\n",
       "        vertical-align: middle;\n",
       "    }\n",
       "\n",
       "    .dataframe tbody tr th {\n",
       "        vertical-align: top;\n",
       "    }\n",
       "\n",
       "    .dataframe thead th {\n",
       "        text-align: right;\n",
       "    }\n",
       "</style>\n",
       "<table border=\"1\" class=\"dataframe\">\n",
       "  <thead>\n",
       "    <tr style=\"text-align: right;\">\n",
       "      <th></th>\n",
       "      <th>Unnamed: 0</th>\n",
       "      <th>id</th>\n",
       "      <th>mb_used</th>\n",
       "      <th>session_date</th>\n",
       "      <th>user_id</th>\n",
       "      <th>month</th>\n",
       "    </tr>\n",
       "  </thead>\n",
       "  <tbody>\n",
       "    <tr>\n",
       "      <th>0</th>\n",
       "      <td>0</td>\n",
       "      <td>1000_0</td>\n",
       "      <td>112.95</td>\n",
       "      <td>2018-11-25</td>\n",
       "      <td>1000</td>\n",
       "      <td>11</td>\n",
       "    </tr>\n",
       "    <tr>\n",
       "      <th>1</th>\n",
       "      <td>1</td>\n",
       "      <td>1000_1</td>\n",
       "      <td>1052.81</td>\n",
       "      <td>2018-09-07</td>\n",
       "      <td>1000</td>\n",
       "      <td>9</td>\n",
       "    </tr>\n",
       "    <tr>\n",
       "      <th>2</th>\n",
       "      <td>2</td>\n",
       "      <td>1000_2</td>\n",
       "      <td>1197.26</td>\n",
       "      <td>2018-06-25</td>\n",
       "      <td>1000</td>\n",
       "      <td>6</td>\n",
       "    </tr>\n",
       "    <tr>\n",
       "      <th>3</th>\n",
       "      <td>3</td>\n",
       "      <td>1000_3</td>\n",
       "      <td>550.27</td>\n",
       "      <td>2018-08-22</td>\n",
       "      <td>1000</td>\n",
       "      <td>8</td>\n",
       "    </tr>\n",
       "    <tr>\n",
       "      <th>4</th>\n",
       "      <td>4</td>\n",
       "      <td>1000_4</td>\n",
       "      <td>302.56</td>\n",
       "      <td>2018-09-24</td>\n",
       "      <td>1000</td>\n",
       "      <td>9</td>\n",
       "    </tr>\n",
       "    <tr>\n",
       "      <th>5</th>\n",
       "      <td>5</td>\n",
       "      <td>1000_5</td>\n",
       "      <td>399.97</td>\n",
       "      <td>2018-10-02</td>\n",
       "      <td>1000</td>\n",
       "      <td>10</td>\n",
       "    </tr>\n",
       "    <tr>\n",
       "      <th>6</th>\n",
       "      <td>6</td>\n",
       "      <td>1000_6</td>\n",
       "      <td>540.08</td>\n",
       "      <td>2018-09-07</td>\n",
       "      <td>1000</td>\n",
       "      <td>9</td>\n",
       "    </tr>\n",
       "    <tr>\n",
       "      <th>7</th>\n",
       "      <td>7</td>\n",
       "      <td>1000_7</td>\n",
       "      <td>415.70</td>\n",
       "      <td>2018-07-11</td>\n",
       "      <td>1000</td>\n",
       "      <td>7</td>\n",
       "    </tr>\n",
       "    <tr>\n",
       "      <th>8</th>\n",
       "      <td>8</td>\n",
       "      <td>1000_8</td>\n",
       "      <td>505.40</td>\n",
       "      <td>2018-10-08</td>\n",
       "      <td>1000</td>\n",
       "      <td>10</td>\n",
       "    </tr>\n",
       "    <tr>\n",
       "      <th>9</th>\n",
       "      <td>9</td>\n",
       "      <td>1000_9</td>\n",
       "      <td>345.54</td>\n",
       "      <td>2018-09-03</td>\n",
       "      <td>1000</td>\n",
       "      <td>9</td>\n",
       "    </tr>\n",
       "  </tbody>\n",
       "</table>\n",
       "</div>"
      ],
      "text/plain": [
       "   Unnamed: 0      id  mb_used session_date  user_id  month\n",
       "0           0  1000_0   112.95   2018-11-25     1000     11\n",
       "1           1  1000_1  1052.81   2018-09-07     1000      9\n",
       "2           2  1000_2  1197.26   2018-06-25     1000      6\n",
       "3           3  1000_3   550.27   2018-08-22     1000      8\n",
       "4           4  1000_4   302.56   2018-09-24     1000      9\n",
       "5           5  1000_5   399.97   2018-10-02     1000     10\n",
       "6           6  1000_6   540.08   2018-09-07     1000      9\n",
       "7           7  1000_7   415.70   2018-07-11     1000      7\n",
       "8           8  1000_8   505.40   2018-10-08     1000     10\n",
       "9           9  1000_9   345.54   2018-09-03     1000      9"
      ]
     },
     "execution_count": 93,
     "metadata": {},
     "output_type": "execute_result"
    }
   ],
   "source": [
    "internet_df['session_date'] = pd.to_datetime(internet_df['session_date'], format='%Y-%m-%d')\n",
    "internet_df['month'] = internet_df['session_date'].dt.month\n",
    "internet_df.head(10)"
   ]
  },
  {
   "cell_type": "markdown",
   "metadata": {},
   "source": [
    "#### Delete the column Unnamed: 0"
   ]
  },
  {
   "cell_type": "code",
   "execution_count": 94,
   "metadata": {},
   "outputs": [
    {
     "data": {
      "text/html": [
       "<div>\n",
       "<style scoped>\n",
       "    .dataframe tbody tr th:only-of-type {\n",
       "        vertical-align: middle;\n",
       "    }\n",
       "\n",
       "    .dataframe tbody tr th {\n",
       "        vertical-align: top;\n",
       "    }\n",
       "\n",
       "    .dataframe thead th {\n",
       "        text-align: right;\n",
       "    }\n",
       "</style>\n",
       "<table border=\"1\" class=\"dataframe\">\n",
       "  <thead>\n",
       "    <tr style=\"text-align: right;\">\n",
       "      <th></th>\n",
       "      <th>id</th>\n",
       "      <th>mb_used</th>\n",
       "      <th>session_date</th>\n",
       "      <th>user_id</th>\n",
       "      <th>month</th>\n",
       "    </tr>\n",
       "  </thead>\n",
       "  <tbody>\n",
       "    <tr>\n",
       "      <th>0</th>\n",
       "      <td>1000_0</td>\n",
       "      <td>112.95</td>\n",
       "      <td>2018-11-25</td>\n",
       "      <td>1000</td>\n",
       "      <td>11</td>\n",
       "    </tr>\n",
       "    <tr>\n",
       "      <th>1</th>\n",
       "      <td>1000_1</td>\n",
       "      <td>1052.81</td>\n",
       "      <td>2018-09-07</td>\n",
       "      <td>1000</td>\n",
       "      <td>9</td>\n",
       "    </tr>\n",
       "    <tr>\n",
       "      <th>2</th>\n",
       "      <td>1000_2</td>\n",
       "      <td>1197.26</td>\n",
       "      <td>2018-06-25</td>\n",
       "      <td>1000</td>\n",
       "      <td>6</td>\n",
       "    </tr>\n",
       "    <tr>\n",
       "      <th>3</th>\n",
       "      <td>1000_3</td>\n",
       "      <td>550.27</td>\n",
       "      <td>2018-08-22</td>\n",
       "      <td>1000</td>\n",
       "      <td>8</td>\n",
       "    </tr>\n",
       "    <tr>\n",
       "      <th>4</th>\n",
       "      <td>1000_4</td>\n",
       "      <td>302.56</td>\n",
       "      <td>2018-09-24</td>\n",
       "      <td>1000</td>\n",
       "      <td>9</td>\n",
       "    </tr>\n",
       "    <tr>\n",
       "      <th>5</th>\n",
       "      <td>1000_5</td>\n",
       "      <td>399.97</td>\n",
       "      <td>2018-10-02</td>\n",
       "      <td>1000</td>\n",
       "      <td>10</td>\n",
       "    </tr>\n",
       "    <tr>\n",
       "      <th>6</th>\n",
       "      <td>1000_6</td>\n",
       "      <td>540.08</td>\n",
       "      <td>2018-09-07</td>\n",
       "      <td>1000</td>\n",
       "      <td>9</td>\n",
       "    </tr>\n",
       "    <tr>\n",
       "      <th>7</th>\n",
       "      <td>1000_7</td>\n",
       "      <td>415.70</td>\n",
       "      <td>2018-07-11</td>\n",
       "      <td>1000</td>\n",
       "      <td>7</td>\n",
       "    </tr>\n",
       "    <tr>\n",
       "      <th>8</th>\n",
       "      <td>1000_8</td>\n",
       "      <td>505.40</td>\n",
       "      <td>2018-10-08</td>\n",
       "      <td>1000</td>\n",
       "      <td>10</td>\n",
       "    </tr>\n",
       "    <tr>\n",
       "      <th>9</th>\n",
       "      <td>1000_9</td>\n",
       "      <td>345.54</td>\n",
       "      <td>2018-09-03</td>\n",
       "      <td>1000</td>\n",
       "      <td>9</td>\n",
       "    </tr>\n",
       "  </tbody>\n",
       "</table>\n",
       "</div>"
      ],
      "text/plain": [
       "       id  mb_used session_date  user_id  month\n",
       "0  1000_0   112.95   2018-11-25     1000     11\n",
       "1  1000_1  1052.81   2018-09-07     1000      9\n",
       "2  1000_2  1197.26   2018-06-25     1000      6\n",
       "3  1000_3   550.27   2018-08-22     1000      8\n",
       "4  1000_4   302.56   2018-09-24     1000      9\n",
       "5  1000_5   399.97   2018-10-02     1000     10\n",
       "6  1000_6   540.08   2018-09-07     1000      9\n",
       "7  1000_7   415.70   2018-07-11     1000      7\n",
       "8  1000_8   505.40   2018-10-08     1000     10\n",
       "9  1000_9   345.54   2018-09-03     1000      9"
      ]
     },
     "execution_count": 94,
     "metadata": {},
     "output_type": "execute_result"
    }
   ],
   "source": [
    "internet_df.drop(columns = ['Unnamed: 0'],axis = 1, inplace=True)\n",
    "internet_df.head(10)"
   ]
  },
  {
   "cell_type": "markdown",
   "metadata": {},
   "source": [
    "### Preprocessing of messages_d table data:"
   ]
  },
  {
   "cell_type": "markdown",
   "metadata": {},
   "source": [
    "#### Change the data to the correct time format and add a column with the month of the message:"
   ]
  },
  {
   "cell_type": "code",
   "execution_count": 95,
   "metadata": {},
   "outputs": [
    {
     "data": {
      "text/html": [
       "<div>\n",
       "<style scoped>\n",
       "    .dataframe tbody tr th:only-of-type {\n",
       "        vertical-align: middle;\n",
       "    }\n",
       "\n",
       "    .dataframe tbody tr th {\n",
       "        vertical-align: top;\n",
       "    }\n",
       "\n",
       "    .dataframe thead th {\n",
       "        text-align: right;\n",
       "    }\n",
       "</style>\n",
       "<table border=\"1\" class=\"dataframe\">\n",
       "  <thead>\n",
       "    <tr style=\"text-align: right;\">\n",
       "      <th></th>\n",
       "      <th>id</th>\n",
       "      <th>message_date</th>\n",
       "      <th>user_id</th>\n",
       "      <th>month</th>\n",
       "    </tr>\n",
       "  </thead>\n",
       "  <tbody>\n",
       "    <tr>\n",
       "      <th>0</th>\n",
       "      <td>1000_0</td>\n",
       "      <td>2018-06-27</td>\n",
       "      <td>1000</td>\n",
       "      <td>6</td>\n",
       "    </tr>\n",
       "    <tr>\n",
       "      <th>1</th>\n",
       "      <td>1000_1</td>\n",
       "      <td>2018-10-08</td>\n",
       "      <td>1000</td>\n",
       "      <td>10</td>\n",
       "    </tr>\n",
       "    <tr>\n",
       "      <th>2</th>\n",
       "      <td>1000_2</td>\n",
       "      <td>2018-08-04</td>\n",
       "      <td>1000</td>\n",
       "      <td>8</td>\n",
       "    </tr>\n",
       "    <tr>\n",
       "      <th>3</th>\n",
       "      <td>1000_3</td>\n",
       "      <td>2018-06-16</td>\n",
       "      <td>1000</td>\n",
       "      <td>6</td>\n",
       "    </tr>\n",
       "    <tr>\n",
       "      <th>4</th>\n",
       "      <td>1000_4</td>\n",
       "      <td>2018-12-05</td>\n",
       "      <td>1000</td>\n",
       "      <td>12</td>\n",
       "    </tr>\n",
       "    <tr>\n",
       "      <th>5</th>\n",
       "      <td>1000_5</td>\n",
       "      <td>2018-06-20</td>\n",
       "      <td>1000</td>\n",
       "      <td>6</td>\n",
       "    </tr>\n",
       "    <tr>\n",
       "      <th>6</th>\n",
       "      <td>1000_6</td>\n",
       "      <td>2018-11-19</td>\n",
       "      <td>1000</td>\n",
       "      <td>11</td>\n",
       "    </tr>\n",
       "    <tr>\n",
       "      <th>7</th>\n",
       "      <td>1000_7</td>\n",
       "      <td>2018-10-29</td>\n",
       "      <td>1000</td>\n",
       "      <td>10</td>\n",
       "    </tr>\n",
       "    <tr>\n",
       "      <th>8</th>\n",
       "      <td>1000_8</td>\n",
       "      <td>2018-06-25</td>\n",
       "      <td>1000</td>\n",
       "      <td>6</td>\n",
       "    </tr>\n",
       "    <tr>\n",
       "      <th>9</th>\n",
       "      <td>1000_9</td>\n",
       "      <td>2018-12-18</td>\n",
       "      <td>1000</td>\n",
       "      <td>12</td>\n",
       "    </tr>\n",
       "  </tbody>\n",
       "</table>\n",
       "</div>"
      ],
      "text/plain": [
       "       id message_date  user_id  month\n",
       "0  1000_0   2018-06-27     1000      6\n",
       "1  1000_1   2018-10-08     1000     10\n",
       "2  1000_2   2018-08-04     1000      8\n",
       "3  1000_3   2018-06-16     1000      6\n",
       "4  1000_4   2018-12-05     1000     12\n",
       "5  1000_5   2018-06-20     1000      6\n",
       "6  1000_6   2018-11-19     1000     11\n",
       "7  1000_7   2018-10-29     1000     10\n",
       "8  1000_8   2018-06-25     1000      6\n",
       "9  1000_9   2018-12-18     1000     12"
      ]
     },
     "execution_count": 95,
     "metadata": {},
     "output_type": "execute_result"
    }
   ],
   "source": [
    "messages_df['message_date'] = pd.to_datetime(messages_df['message_date'], format='%Y-%m-%d')\n",
    "messages_df['month'] = messages_df['message_date'].dt.month\n",
    "messages_df.head(10)"
   ]
  },
  {
   "cell_type": "markdown",
   "metadata": {},
   "source": [
    "### Preprocessing of users_df table data:"
   ]
  },
  {
   "cell_type": "markdown",
   "metadata": {},
   "source": [
    "#### Change the name of the column tariff to tariff_name:"
   ]
  },
  {
   "cell_type": "code",
   "execution_count": 96,
   "metadata": {},
   "outputs": [
    {
     "data": {
      "text/html": [
       "<div>\n",
       "<style scoped>\n",
       "    .dataframe tbody tr th:only-of-type {\n",
       "        vertical-align: middle;\n",
       "    }\n",
       "\n",
       "    .dataframe tbody tr th {\n",
       "        vertical-align: top;\n",
       "    }\n",
       "\n",
       "    .dataframe thead th {\n",
       "        text-align: right;\n",
       "    }\n",
       "</style>\n",
       "<table border=\"1\" class=\"dataframe\">\n",
       "  <thead>\n",
       "    <tr style=\"text-align: right;\">\n",
       "      <th></th>\n",
       "      <th>user_id</th>\n",
       "      <th>age</th>\n",
       "      <th>churn_date</th>\n",
       "      <th>city</th>\n",
       "      <th>first_name</th>\n",
       "      <th>last_name</th>\n",
       "      <th>reg_date</th>\n",
       "      <th>tariff_name</th>\n",
       "    </tr>\n",
       "  </thead>\n",
       "  <tbody>\n",
       "    <tr>\n",
       "      <th>0</th>\n",
       "      <td>1000</td>\n",
       "      <td>52</td>\n",
       "      <td>NaN</td>\n",
       "      <td>Краснодар</td>\n",
       "      <td>Рафаил</td>\n",
       "      <td>Верещагин</td>\n",
       "      <td>2018-05-25</td>\n",
       "      <td>ultra</td>\n",
       "    </tr>\n",
       "    <tr>\n",
       "      <th>1</th>\n",
       "      <td>1001</td>\n",
       "      <td>41</td>\n",
       "      <td>NaN</td>\n",
       "      <td>Москва</td>\n",
       "      <td>Иван</td>\n",
       "      <td>Ежов</td>\n",
       "      <td>2018-11-01</td>\n",
       "      <td>smart</td>\n",
       "    </tr>\n",
       "    <tr>\n",
       "      <th>2</th>\n",
       "      <td>1002</td>\n",
       "      <td>59</td>\n",
       "      <td>NaN</td>\n",
       "      <td>Стерлитамак</td>\n",
       "      <td>Евгений</td>\n",
       "      <td>Абрамович</td>\n",
       "      <td>2018-06-17</td>\n",
       "      <td>smart</td>\n",
       "    </tr>\n",
       "    <tr>\n",
       "      <th>3</th>\n",
       "      <td>1003</td>\n",
       "      <td>23</td>\n",
       "      <td>NaN</td>\n",
       "      <td>Москва</td>\n",
       "      <td>Белла</td>\n",
       "      <td>Белякова</td>\n",
       "      <td>2018-08-17</td>\n",
       "      <td>ultra</td>\n",
       "    </tr>\n",
       "    <tr>\n",
       "      <th>4</th>\n",
       "      <td>1004</td>\n",
       "      <td>68</td>\n",
       "      <td>NaN</td>\n",
       "      <td>Новокузнецк</td>\n",
       "      <td>Татьяна</td>\n",
       "      <td>Авдеенко</td>\n",
       "      <td>2018-05-14</td>\n",
       "      <td>ultra</td>\n",
       "    </tr>\n",
       "    <tr>\n",
       "      <th>5</th>\n",
       "      <td>1005</td>\n",
       "      <td>67</td>\n",
       "      <td>NaN</td>\n",
       "      <td>Набережные Челны</td>\n",
       "      <td>Афанасий</td>\n",
       "      <td>Горлов</td>\n",
       "      <td>2018-01-25</td>\n",
       "      <td>smart</td>\n",
       "    </tr>\n",
       "    <tr>\n",
       "      <th>6</th>\n",
       "      <td>1006</td>\n",
       "      <td>21</td>\n",
       "      <td>NaN</td>\n",
       "      <td>Ульяновск</td>\n",
       "      <td>Леонид</td>\n",
       "      <td>Ермолаев</td>\n",
       "      <td>2018-02-26</td>\n",
       "      <td>smart</td>\n",
       "    </tr>\n",
       "    <tr>\n",
       "      <th>7</th>\n",
       "      <td>1007</td>\n",
       "      <td>65</td>\n",
       "      <td>NaN</td>\n",
       "      <td>Москва</td>\n",
       "      <td>Юна</td>\n",
       "      <td>Березина</td>\n",
       "      <td>2018-04-19</td>\n",
       "      <td>smart</td>\n",
       "    </tr>\n",
       "    <tr>\n",
       "      <th>8</th>\n",
       "      <td>1008</td>\n",
       "      <td>63</td>\n",
       "      <td>NaN</td>\n",
       "      <td>Челябинск</td>\n",
       "      <td>Рустэм</td>\n",
       "      <td>Пономарёв</td>\n",
       "      <td>2018-12-19</td>\n",
       "      <td>smart</td>\n",
       "    </tr>\n",
       "    <tr>\n",
       "      <th>9</th>\n",
       "      <td>1009</td>\n",
       "      <td>24</td>\n",
       "      <td>NaN</td>\n",
       "      <td>Пермь</td>\n",
       "      <td>Василиса</td>\n",
       "      <td>Блинова</td>\n",
       "      <td>2018-03-22</td>\n",
       "      <td>smart</td>\n",
       "    </tr>\n",
       "    <tr>\n",
       "      <th>10</th>\n",
       "      <td>1010</td>\n",
       "      <td>26</td>\n",
       "      <td>NaN</td>\n",
       "      <td>Тюмень</td>\n",
       "      <td>Эдуард</td>\n",
       "      <td>Кононов</td>\n",
       "      <td>2018-08-05</td>\n",
       "      <td>smart</td>\n",
       "    </tr>\n",
       "    <tr>\n",
       "      <th>11</th>\n",
       "      <td>1011</td>\n",
       "      <td>44</td>\n",
       "      <td>NaN</td>\n",
       "      <td>Самара</td>\n",
       "      <td>Веселина</td>\n",
       "      <td>Алёшко</td>\n",
       "      <td>2018-03-19</td>\n",
       "      <td>smart</td>\n",
       "    </tr>\n",
       "    <tr>\n",
       "      <th>12</th>\n",
       "      <td>1012</td>\n",
       "      <td>38</td>\n",
       "      <td>NaN</td>\n",
       "      <td>Санкт-Петербург</td>\n",
       "      <td>Варлам</td>\n",
       "      <td>Соловьев</td>\n",
       "      <td>2018-03-28</td>\n",
       "      <td>smart</td>\n",
       "    </tr>\n",
       "    <tr>\n",
       "      <th>13</th>\n",
       "      <td>1013</td>\n",
       "      <td>36</td>\n",
       "      <td>NaN</td>\n",
       "      <td>Иваново</td>\n",
       "      <td>Борис</td>\n",
       "      <td>Андреенко</td>\n",
       "      <td>2018-11-14</td>\n",
       "      <td>ultra</td>\n",
       "    </tr>\n",
       "    <tr>\n",
       "      <th>14</th>\n",
       "      <td>1014</td>\n",
       "      <td>64</td>\n",
       "      <td>NaN</td>\n",
       "      <td>Чебоксары</td>\n",
       "      <td>Яков</td>\n",
       "      <td>Акинфьев</td>\n",
       "      <td>2018-05-15</td>\n",
       "      <td>smart</td>\n",
       "    </tr>\n",
       "    <tr>\n",
       "      <th>15</th>\n",
       "      <td>1015</td>\n",
       "      <td>26</td>\n",
       "      <td>NaN</td>\n",
       "      <td>Челябинск</td>\n",
       "      <td>Рузана</td>\n",
       "      <td>Алюшина</td>\n",
       "      <td>2018-04-30</td>\n",
       "      <td>smart</td>\n",
       "    </tr>\n",
       "    <tr>\n",
       "      <th>16</th>\n",
       "      <td>1016</td>\n",
       "      <td>58</td>\n",
       "      <td>NaN</td>\n",
       "      <td>Омск</td>\n",
       "      <td>Марица</td>\n",
       "      <td>Сазонова</td>\n",
       "      <td>2018-11-21</td>\n",
       "      <td>ultra</td>\n",
       "    </tr>\n",
       "    <tr>\n",
       "      <th>17</th>\n",
       "      <td>1017</td>\n",
       "      <td>73</td>\n",
       "      <td>NaN</td>\n",
       "      <td>Краснодар</td>\n",
       "      <td>Мария</td>\n",
       "      <td>Аленникова</td>\n",
       "      <td>2018-05-22</td>\n",
       "      <td>smart</td>\n",
       "    </tr>\n",
       "    <tr>\n",
       "      <th>18</th>\n",
       "      <td>1018</td>\n",
       "      <td>71</td>\n",
       "      <td>NaN</td>\n",
       "      <td>Уфа</td>\n",
       "      <td>Матвей</td>\n",
       "      <td>Золотов</td>\n",
       "      <td>2018-04-01</td>\n",
       "      <td>ultra</td>\n",
       "    </tr>\n",
       "    <tr>\n",
       "      <th>19</th>\n",
       "      <td>1019</td>\n",
       "      <td>63</td>\n",
       "      <td>2018-10-05</td>\n",
       "      <td>Томск</td>\n",
       "      <td>Игнатий</td>\n",
       "      <td>Круглов</td>\n",
       "      <td>2018-05-16</td>\n",
       "      <td>ultra</td>\n",
       "    </tr>\n",
       "    <tr>\n",
       "      <th>20</th>\n",
       "      <td>1020</td>\n",
       "      <td>59</td>\n",
       "      <td>2018-12-18</td>\n",
       "      <td>Чита</td>\n",
       "      <td>Тала</td>\n",
       "      <td>Костина</td>\n",
       "      <td>2018-10-22</td>\n",
       "      <td>smart</td>\n",
       "    </tr>\n",
       "    <tr>\n",
       "      <th>21</th>\n",
       "      <td>1021</td>\n",
       "      <td>61</td>\n",
       "      <td>NaN</td>\n",
       "      <td>Краснодар</td>\n",
       "      <td>Святослав</td>\n",
       "      <td>Тихонов</td>\n",
       "      <td>2018-04-26</td>\n",
       "      <td>ultra</td>\n",
       "    </tr>\n",
       "    <tr>\n",
       "      <th>22</th>\n",
       "      <td>1022</td>\n",
       "      <td>72</td>\n",
       "      <td>NaN</td>\n",
       "      <td>Санкт-Петербург</td>\n",
       "      <td>Василиса</td>\n",
       "      <td>Трофимова</td>\n",
       "      <td>2018-12-01</td>\n",
       "      <td>smart</td>\n",
       "    </tr>\n",
       "    <tr>\n",
       "      <th>23</th>\n",
       "      <td>1023</td>\n",
       "      <td>42</td>\n",
       "      <td>NaN</td>\n",
       "      <td>Томск</td>\n",
       "      <td>Людмила</td>\n",
       "      <td>Мельникова</td>\n",
       "      <td>2018-10-22</td>\n",
       "      <td>smart</td>\n",
       "    </tr>\n",
       "    <tr>\n",
       "      <th>24</th>\n",
       "      <td>1024</td>\n",
       "      <td>73</td>\n",
       "      <td>NaN</td>\n",
       "      <td>Санкт-Петербург</td>\n",
       "      <td>Иулиан</td>\n",
       "      <td>Антипов</td>\n",
       "      <td>2018-10-31</td>\n",
       "      <td>ultra</td>\n",
       "    </tr>\n",
       "  </tbody>\n",
       "</table>\n",
       "</div>"
      ],
      "text/plain": [
       "    user_id  age  churn_date              city first_name   last_name  \\\n",
       "0      1000   52         NaN         Краснодар     Рафаил   Верещагин   \n",
       "1      1001   41         NaN            Москва       Иван        Ежов   \n",
       "2      1002   59         NaN       Стерлитамак    Евгений   Абрамович   \n",
       "3      1003   23         NaN            Москва      Белла    Белякова   \n",
       "4      1004   68         NaN       Новокузнецк    Татьяна    Авдеенко   \n",
       "5      1005   67         NaN  Набережные Челны   Афанасий      Горлов   \n",
       "6      1006   21         NaN         Ульяновск     Леонид    Ермолаев   \n",
       "7      1007   65         NaN            Москва        Юна    Березина   \n",
       "8      1008   63         NaN         Челябинск     Рустэм   Пономарёв   \n",
       "9      1009   24         NaN             Пермь   Василиса     Блинова   \n",
       "10     1010   26         NaN            Тюмень     Эдуард     Кононов   \n",
       "11     1011   44         NaN            Самара   Веселина      Алёшко   \n",
       "12     1012   38         NaN   Санкт-Петербург     Варлам    Соловьев   \n",
       "13     1013   36         NaN           Иваново      Борис   Андреенко   \n",
       "14     1014   64         NaN         Чебоксары       Яков    Акинфьев   \n",
       "15     1015   26         NaN         Челябинск     Рузана     Алюшина   \n",
       "16     1016   58         NaN              Омск     Марица    Сазонова   \n",
       "17     1017   73         NaN         Краснодар      Мария  Аленникова   \n",
       "18     1018   71         NaN               Уфа     Матвей     Золотов   \n",
       "19     1019   63  2018-10-05             Томск    Игнатий     Круглов   \n",
       "20     1020   59  2018-12-18              Чита       Тала     Костина   \n",
       "21     1021   61         NaN         Краснодар  Святослав     Тихонов   \n",
       "22     1022   72         NaN   Санкт-Петербург   Василиса   Трофимова   \n",
       "23     1023   42         NaN             Томск    Людмила  Мельникова   \n",
       "24     1024   73         NaN   Санкт-Петербург     Иулиан     Антипов   \n",
       "\n",
       "      reg_date tariff_name  \n",
       "0   2018-05-25       ultra  \n",
       "1   2018-11-01       smart  \n",
       "2   2018-06-17       smart  \n",
       "3   2018-08-17       ultra  \n",
       "4   2018-05-14       ultra  \n",
       "5   2018-01-25       smart  \n",
       "6   2018-02-26       smart  \n",
       "7   2018-04-19       smart  \n",
       "8   2018-12-19       smart  \n",
       "9   2018-03-22       smart  \n",
       "10  2018-08-05       smart  \n",
       "11  2018-03-19       smart  \n",
       "12  2018-03-28       smart  \n",
       "13  2018-11-14       ultra  \n",
       "14  2018-05-15       smart  \n",
       "15  2018-04-30       smart  \n",
       "16  2018-11-21       ultra  \n",
       "17  2018-05-22       smart  \n",
       "18  2018-04-01       ultra  \n",
       "19  2018-05-16       ultra  \n",
       "20  2018-10-22       smart  \n",
       "21  2018-04-26       ultra  \n",
       "22  2018-12-01       smart  \n",
       "23  2018-10-22       smart  \n",
       "24  2018-10-31       ultra  "
      ]
     },
     "execution_count": 96,
     "metadata": {},
     "output_type": "execute_result"
    }
   ],
   "source": [
    "users_df.rename(columns = {'tariff' : 'tariff_name'}, inplace = True)\n",
    "users_df.head(25)"
   ]
  },
  {
   "cell_type": "markdown",
   "metadata": {},
   "source": [
    "#### Change the data to the correct time format, fill in the gaps in the churn_month column and add a column with the month of registration and the month of termination of the tariff:"
   ]
  },
  {
   "cell_type": "code",
   "execution_count": 97,
   "metadata": {
    "scrolled": false
   },
   "outputs": [
    {
     "data": {
      "text/html": [
       "<div>\n",
       "<style scoped>\n",
       "    .dataframe tbody tr th:only-of-type {\n",
       "        vertical-align: middle;\n",
       "    }\n",
       "\n",
       "    .dataframe tbody tr th {\n",
       "        vertical-align: top;\n",
       "    }\n",
       "\n",
       "    .dataframe thead th {\n",
       "        text-align: right;\n",
       "    }\n",
       "</style>\n",
       "<table border=\"1\" class=\"dataframe\">\n",
       "  <thead>\n",
       "    <tr style=\"text-align: right;\">\n",
       "      <th></th>\n",
       "      <th>user_id</th>\n",
       "      <th>age</th>\n",
       "      <th>churn_date</th>\n",
       "      <th>city</th>\n",
       "      <th>first_name</th>\n",
       "      <th>last_name</th>\n",
       "      <th>reg_date</th>\n",
       "      <th>tariff_name</th>\n",
       "      <th>churn_month</th>\n",
       "      <th>reg_month</th>\n",
       "    </tr>\n",
       "  </thead>\n",
       "  <tbody>\n",
       "    <tr>\n",
       "      <th>0</th>\n",
       "      <td>1000</td>\n",
       "      <td>52</td>\n",
       "      <td>2018-12-31</td>\n",
       "      <td>Краснодар</td>\n",
       "      <td>Рафаил</td>\n",
       "      <td>Верещагин</td>\n",
       "      <td>2018-05-25</td>\n",
       "      <td>ultra</td>\n",
       "      <td>12</td>\n",
       "      <td>5</td>\n",
       "    </tr>\n",
       "    <tr>\n",
       "      <th>1</th>\n",
       "      <td>1001</td>\n",
       "      <td>41</td>\n",
       "      <td>2018-12-31</td>\n",
       "      <td>Москва</td>\n",
       "      <td>Иван</td>\n",
       "      <td>Ежов</td>\n",
       "      <td>2018-11-01</td>\n",
       "      <td>smart</td>\n",
       "      <td>12</td>\n",
       "      <td>11</td>\n",
       "    </tr>\n",
       "    <tr>\n",
       "      <th>2</th>\n",
       "      <td>1002</td>\n",
       "      <td>59</td>\n",
       "      <td>2018-12-31</td>\n",
       "      <td>Стерлитамак</td>\n",
       "      <td>Евгений</td>\n",
       "      <td>Абрамович</td>\n",
       "      <td>2018-06-17</td>\n",
       "      <td>smart</td>\n",
       "      <td>12</td>\n",
       "      <td>6</td>\n",
       "    </tr>\n",
       "    <tr>\n",
       "      <th>3</th>\n",
       "      <td>1003</td>\n",
       "      <td>23</td>\n",
       "      <td>2018-12-31</td>\n",
       "      <td>Москва</td>\n",
       "      <td>Белла</td>\n",
       "      <td>Белякова</td>\n",
       "      <td>2018-08-17</td>\n",
       "      <td>ultra</td>\n",
       "      <td>12</td>\n",
       "      <td>8</td>\n",
       "    </tr>\n",
       "    <tr>\n",
       "      <th>4</th>\n",
       "      <td>1004</td>\n",
       "      <td>68</td>\n",
       "      <td>2018-12-31</td>\n",
       "      <td>Новокузнецк</td>\n",
       "      <td>Татьяна</td>\n",
       "      <td>Авдеенко</td>\n",
       "      <td>2018-05-14</td>\n",
       "      <td>ultra</td>\n",
       "      <td>12</td>\n",
       "      <td>5</td>\n",
       "    </tr>\n",
       "    <tr>\n",
       "      <th>5</th>\n",
       "      <td>1005</td>\n",
       "      <td>67</td>\n",
       "      <td>2018-12-31</td>\n",
       "      <td>Набережные Челны</td>\n",
       "      <td>Афанасий</td>\n",
       "      <td>Горлов</td>\n",
       "      <td>2018-01-25</td>\n",
       "      <td>smart</td>\n",
       "      <td>12</td>\n",
       "      <td>1</td>\n",
       "    </tr>\n",
       "    <tr>\n",
       "      <th>6</th>\n",
       "      <td>1006</td>\n",
       "      <td>21</td>\n",
       "      <td>2018-12-31</td>\n",
       "      <td>Ульяновск</td>\n",
       "      <td>Леонид</td>\n",
       "      <td>Ермолаев</td>\n",
       "      <td>2018-02-26</td>\n",
       "      <td>smart</td>\n",
       "      <td>12</td>\n",
       "      <td>2</td>\n",
       "    </tr>\n",
       "    <tr>\n",
       "      <th>7</th>\n",
       "      <td>1007</td>\n",
       "      <td>65</td>\n",
       "      <td>2018-12-31</td>\n",
       "      <td>Москва</td>\n",
       "      <td>Юна</td>\n",
       "      <td>Березина</td>\n",
       "      <td>2018-04-19</td>\n",
       "      <td>smart</td>\n",
       "      <td>12</td>\n",
       "      <td>4</td>\n",
       "    </tr>\n",
       "    <tr>\n",
       "      <th>8</th>\n",
       "      <td>1008</td>\n",
       "      <td>63</td>\n",
       "      <td>2018-12-31</td>\n",
       "      <td>Челябинск</td>\n",
       "      <td>Рустэм</td>\n",
       "      <td>Пономарёв</td>\n",
       "      <td>2018-12-19</td>\n",
       "      <td>smart</td>\n",
       "      <td>12</td>\n",
       "      <td>12</td>\n",
       "    </tr>\n",
       "    <tr>\n",
       "      <th>9</th>\n",
       "      <td>1009</td>\n",
       "      <td>24</td>\n",
       "      <td>2018-12-31</td>\n",
       "      <td>Пермь</td>\n",
       "      <td>Василиса</td>\n",
       "      <td>Блинова</td>\n",
       "      <td>2018-03-22</td>\n",
       "      <td>smart</td>\n",
       "      <td>12</td>\n",
       "      <td>3</td>\n",
       "    </tr>\n",
       "    <tr>\n",
       "      <th>10</th>\n",
       "      <td>1010</td>\n",
       "      <td>26</td>\n",
       "      <td>2018-12-31</td>\n",
       "      <td>Тюмень</td>\n",
       "      <td>Эдуард</td>\n",
       "      <td>Кононов</td>\n",
       "      <td>2018-08-05</td>\n",
       "      <td>smart</td>\n",
       "      <td>12</td>\n",
       "      <td>8</td>\n",
       "    </tr>\n",
       "    <tr>\n",
       "      <th>11</th>\n",
       "      <td>1011</td>\n",
       "      <td>44</td>\n",
       "      <td>2018-12-31</td>\n",
       "      <td>Самара</td>\n",
       "      <td>Веселина</td>\n",
       "      <td>Алёшко</td>\n",
       "      <td>2018-03-19</td>\n",
       "      <td>smart</td>\n",
       "      <td>12</td>\n",
       "      <td>3</td>\n",
       "    </tr>\n",
       "    <tr>\n",
       "      <th>12</th>\n",
       "      <td>1012</td>\n",
       "      <td>38</td>\n",
       "      <td>2018-12-31</td>\n",
       "      <td>Санкт-Петербург</td>\n",
       "      <td>Варлам</td>\n",
       "      <td>Соловьев</td>\n",
       "      <td>2018-03-28</td>\n",
       "      <td>smart</td>\n",
       "      <td>12</td>\n",
       "      <td>3</td>\n",
       "    </tr>\n",
       "    <tr>\n",
       "      <th>13</th>\n",
       "      <td>1013</td>\n",
       "      <td>36</td>\n",
       "      <td>2018-12-31</td>\n",
       "      <td>Иваново</td>\n",
       "      <td>Борис</td>\n",
       "      <td>Андреенко</td>\n",
       "      <td>2018-11-14</td>\n",
       "      <td>ultra</td>\n",
       "      <td>12</td>\n",
       "      <td>11</td>\n",
       "    </tr>\n",
       "    <tr>\n",
       "      <th>14</th>\n",
       "      <td>1014</td>\n",
       "      <td>64</td>\n",
       "      <td>2018-12-31</td>\n",
       "      <td>Чебоксары</td>\n",
       "      <td>Яков</td>\n",
       "      <td>Акинфьев</td>\n",
       "      <td>2018-05-15</td>\n",
       "      <td>smart</td>\n",
       "      <td>12</td>\n",
       "      <td>5</td>\n",
       "    </tr>\n",
       "    <tr>\n",
       "      <th>15</th>\n",
       "      <td>1015</td>\n",
       "      <td>26</td>\n",
       "      <td>2018-12-31</td>\n",
       "      <td>Челябинск</td>\n",
       "      <td>Рузана</td>\n",
       "      <td>Алюшина</td>\n",
       "      <td>2018-04-30</td>\n",
       "      <td>smart</td>\n",
       "      <td>12</td>\n",
       "      <td>4</td>\n",
       "    </tr>\n",
       "    <tr>\n",
       "      <th>16</th>\n",
       "      <td>1016</td>\n",
       "      <td>58</td>\n",
       "      <td>2018-12-31</td>\n",
       "      <td>Омск</td>\n",
       "      <td>Марица</td>\n",
       "      <td>Сазонова</td>\n",
       "      <td>2018-11-21</td>\n",
       "      <td>ultra</td>\n",
       "      <td>12</td>\n",
       "      <td>11</td>\n",
       "    </tr>\n",
       "    <tr>\n",
       "      <th>17</th>\n",
       "      <td>1017</td>\n",
       "      <td>73</td>\n",
       "      <td>2018-12-31</td>\n",
       "      <td>Краснодар</td>\n",
       "      <td>Мария</td>\n",
       "      <td>Аленникова</td>\n",
       "      <td>2018-05-22</td>\n",
       "      <td>smart</td>\n",
       "      <td>12</td>\n",
       "      <td>5</td>\n",
       "    </tr>\n",
       "    <tr>\n",
       "      <th>18</th>\n",
       "      <td>1018</td>\n",
       "      <td>71</td>\n",
       "      <td>2018-12-31</td>\n",
       "      <td>Уфа</td>\n",
       "      <td>Матвей</td>\n",
       "      <td>Золотов</td>\n",
       "      <td>2018-04-01</td>\n",
       "      <td>ultra</td>\n",
       "      <td>12</td>\n",
       "      <td>4</td>\n",
       "    </tr>\n",
       "    <tr>\n",
       "      <th>19</th>\n",
       "      <td>1019</td>\n",
       "      <td>63</td>\n",
       "      <td>2018-10-05</td>\n",
       "      <td>Томск</td>\n",
       "      <td>Игнатий</td>\n",
       "      <td>Круглов</td>\n",
       "      <td>2018-05-16</td>\n",
       "      <td>ultra</td>\n",
       "      <td>10</td>\n",
       "      <td>5</td>\n",
       "    </tr>\n",
       "    <tr>\n",
       "      <th>20</th>\n",
       "      <td>1020</td>\n",
       "      <td>59</td>\n",
       "      <td>2018-12-18</td>\n",
       "      <td>Чита</td>\n",
       "      <td>Тала</td>\n",
       "      <td>Костина</td>\n",
       "      <td>2018-10-22</td>\n",
       "      <td>smart</td>\n",
       "      <td>12</td>\n",
       "      <td>10</td>\n",
       "    </tr>\n",
       "    <tr>\n",
       "      <th>21</th>\n",
       "      <td>1021</td>\n",
       "      <td>61</td>\n",
       "      <td>2018-12-31</td>\n",
       "      <td>Краснодар</td>\n",
       "      <td>Святослав</td>\n",
       "      <td>Тихонов</td>\n",
       "      <td>2018-04-26</td>\n",
       "      <td>ultra</td>\n",
       "      <td>12</td>\n",
       "      <td>4</td>\n",
       "    </tr>\n",
       "    <tr>\n",
       "      <th>22</th>\n",
       "      <td>1022</td>\n",
       "      <td>72</td>\n",
       "      <td>2018-12-31</td>\n",
       "      <td>Санкт-Петербург</td>\n",
       "      <td>Василиса</td>\n",
       "      <td>Трофимова</td>\n",
       "      <td>2018-12-01</td>\n",
       "      <td>smart</td>\n",
       "      <td>12</td>\n",
       "      <td>12</td>\n",
       "    </tr>\n",
       "    <tr>\n",
       "      <th>23</th>\n",
       "      <td>1023</td>\n",
       "      <td>42</td>\n",
       "      <td>2018-12-31</td>\n",
       "      <td>Томск</td>\n",
       "      <td>Людмила</td>\n",
       "      <td>Мельникова</td>\n",
       "      <td>2018-10-22</td>\n",
       "      <td>smart</td>\n",
       "      <td>12</td>\n",
       "      <td>10</td>\n",
       "    </tr>\n",
       "    <tr>\n",
       "      <th>24</th>\n",
       "      <td>1024</td>\n",
       "      <td>73</td>\n",
       "      <td>2018-12-31</td>\n",
       "      <td>Санкт-Петербург</td>\n",
       "      <td>Иулиан</td>\n",
       "      <td>Антипов</td>\n",
       "      <td>2018-10-31</td>\n",
       "      <td>ultra</td>\n",
       "      <td>12</td>\n",
       "      <td>10</td>\n",
       "    </tr>\n",
       "  </tbody>\n",
       "</table>\n",
       "</div>"
      ],
      "text/plain": [
       "    user_id  age churn_date              city first_name   last_name  \\\n",
       "0      1000   52 2018-12-31         Краснодар     Рафаил   Верещагин   \n",
       "1      1001   41 2018-12-31            Москва       Иван        Ежов   \n",
       "2      1002   59 2018-12-31       Стерлитамак    Евгений   Абрамович   \n",
       "3      1003   23 2018-12-31            Москва      Белла    Белякова   \n",
       "4      1004   68 2018-12-31       Новокузнецк    Татьяна    Авдеенко   \n",
       "5      1005   67 2018-12-31  Набережные Челны   Афанасий      Горлов   \n",
       "6      1006   21 2018-12-31         Ульяновск     Леонид    Ермолаев   \n",
       "7      1007   65 2018-12-31            Москва        Юна    Березина   \n",
       "8      1008   63 2018-12-31         Челябинск     Рустэм   Пономарёв   \n",
       "9      1009   24 2018-12-31             Пермь   Василиса     Блинова   \n",
       "10     1010   26 2018-12-31            Тюмень     Эдуард     Кононов   \n",
       "11     1011   44 2018-12-31            Самара   Веселина      Алёшко   \n",
       "12     1012   38 2018-12-31   Санкт-Петербург     Варлам    Соловьев   \n",
       "13     1013   36 2018-12-31           Иваново      Борис   Андреенко   \n",
       "14     1014   64 2018-12-31         Чебоксары       Яков    Акинфьев   \n",
       "15     1015   26 2018-12-31         Челябинск     Рузана     Алюшина   \n",
       "16     1016   58 2018-12-31              Омск     Марица    Сазонова   \n",
       "17     1017   73 2018-12-31         Краснодар      Мария  Аленникова   \n",
       "18     1018   71 2018-12-31               Уфа     Матвей     Золотов   \n",
       "19     1019   63 2018-10-05             Томск    Игнатий     Круглов   \n",
       "20     1020   59 2018-12-18              Чита       Тала     Костина   \n",
       "21     1021   61 2018-12-31         Краснодар  Святослав     Тихонов   \n",
       "22     1022   72 2018-12-31   Санкт-Петербург   Василиса   Трофимова   \n",
       "23     1023   42 2018-12-31             Томск    Людмила  Мельникова   \n",
       "24     1024   73 2018-12-31   Санкт-Петербург     Иулиан     Антипов   \n",
       "\n",
       "     reg_date tariff_name  churn_month  reg_month  \n",
       "0  2018-05-25       ultra           12          5  \n",
       "1  2018-11-01       smart           12         11  \n",
       "2  2018-06-17       smart           12          6  \n",
       "3  2018-08-17       ultra           12          8  \n",
       "4  2018-05-14       ultra           12          5  \n",
       "5  2018-01-25       smart           12          1  \n",
       "6  2018-02-26       smart           12          2  \n",
       "7  2018-04-19       smart           12          4  \n",
       "8  2018-12-19       smart           12         12  \n",
       "9  2018-03-22       smart           12          3  \n",
       "10 2018-08-05       smart           12          8  \n",
       "11 2018-03-19       smart           12          3  \n",
       "12 2018-03-28       smart           12          3  \n",
       "13 2018-11-14       ultra           12         11  \n",
       "14 2018-05-15       smart           12          5  \n",
       "15 2018-04-30       smart           12          4  \n",
       "16 2018-11-21       ultra           12         11  \n",
       "17 2018-05-22       smart           12          5  \n",
       "18 2018-04-01       ultra           12          4  \n",
       "19 2018-05-16       ultra           10          5  \n",
       "20 2018-10-22       smart           12         10  \n",
       "21 2018-04-26       ultra           12          4  \n",
       "22 2018-12-01       smart           12         12  \n",
       "23 2018-10-22       smart           12         10  \n",
       "24 2018-10-31       ultra           12         10  "
      ]
     },
     "execution_count": 97,
     "metadata": {},
     "output_type": "execute_result"
    }
   ],
   "source": [
    "#replace the gaps in the churn_rate column with the last month of 2018:\n",
    "users_df['churn_date'] = users_df['churn_date'].fillna('2018-12-31')\n",
    "import datetime\n",
    "users_df['churn_date'] = pd.to_datetime(users_df['churn_date'], format='%Y-%m-%d')\n",
    "users_df['churn_month'] = users_df['churn_date'].dt.month\n",
    "users_df['reg_date'] = pd.to_datetime(users_df['reg_date'], format='%Y-%m-%d')\n",
    "users_df['reg_month'] = users_df['reg_date'].dt.month\n",
    "users_df.head(25)"
   ]
  },
  {
   "cell_type": "markdown",
   "metadata": {},
   "source": [
    "### Preprocessing of tariffs_df table data:"
   ]
  },
  {
   "cell_type": "code",
   "execution_count": 98,
   "metadata": {},
   "outputs": [
    {
     "data": {
      "text/html": [
       "<div>\n",
       "<style scoped>\n",
       "    .dataframe tbody tr th:only-of-type {\n",
       "        vertical-align: middle;\n",
       "    }\n",
       "\n",
       "    .dataframe tbody tr th {\n",
       "        vertical-align: top;\n",
       "    }\n",
       "\n",
       "    .dataframe thead th {\n",
       "        text-align: right;\n",
       "    }\n",
       "</style>\n",
       "<table border=\"1\" class=\"dataframe\">\n",
       "  <thead>\n",
       "    <tr style=\"text-align: right;\">\n",
       "      <th></th>\n",
       "      <th>messages_included</th>\n",
       "      <th>gb_per_month_included</th>\n",
       "      <th>minutes_included</th>\n",
       "      <th>rub_monthly_fee</th>\n",
       "      <th>rub_per_gb</th>\n",
       "      <th>rub_per_message</th>\n",
       "      <th>rub_per_minute</th>\n",
       "      <th>tariff_name</th>\n",
       "    </tr>\n",
       "  </thead>\n",
       "  <tbody>\n",
       "    <tr>\n",
       "      <th>0</th>\n",
       "      <td>50</td>\n",
       "      <td>15.0</td>\n",
       "      <td>500</td>\n",
       "      <td>550</td>\n",
       "      <td>200</td>\n",
       "      <td>3</td>\n",
       "      <td>3</td>\n",
       "      <td>smart</td>\n",
       "    </tr>\n",
       "    <tr>\n",
       "      <th>1</th>\n",
       "      <td>1000</td>\n",
       "      <td>30.0</td>\n",
       "      <td>3000</td>\n",
       "      <td>1950</td>\n",
       "      <td>150</td>\n",
       "      <td>1</td>\n",
       "      <td>1</td>\n",
       "      <td>ultra</td>\n",
       "    </tr>\n",
       "  </tbody>\n",
       "</table>\n",
       "</div>"
      ],
      "text/plain": [
       "   messages_included  gb_per_month_included  minutes_included  \\\n",
       "0                 50                   15.0               500   \n",
       "1               1000                   30.0              3000   \n",
       "\n",
       "   rub_monthly_fee  rub_per_gb  rub_per_message  rub_per_minute tariff_name  \n",
       "0              550         200                3               3       smart  \n",
       "1             1950         150                1               1       ultra  "
      ]
     },
     "execution_count": 98,
     "metadata": {},
     "output_type": "execute_result"
    }
   ],
   "source": [
    "tariffs_df['mb_per_month_included'] = tariffs_df['mb_per_month_included'] / 1024\n",
    "tariffs_df.rename(columns = {'mb_per_month_included' : 'gb_per_month_included'}, inplace = True)\n",
    "tariffs_df"
   ]
  },
  {
   "cell_type": "markdown",
   "metadata": {},
   "source": [
    "### Determine the number of calls made and minutes of conversation spent by month for each user:"
   ]
  },
  {
   "cell_type": "code",
   "execution_count": 99,
   "metadata": {},
   "outputs": [
    {
     "data": {
      "text/html": [
       "<div>\n",
       "<style scoped>\n",
       "    .dataframe tbody tr th:only-of-type {\n",
       "        vertical-align: middle;\n",
       "    }\n",
       "\n",
       "    .dataframe tbody tr th {\n",
       "        vertical-align: top;\n",
       "    }\n",
       "\n",
       "    .dataframe thead tr th {\n",
       "        text-align: left;\n",
       "    }\n",
       "\n",
       "    .dataframe thead tr:last-of-type th {\n",
       "        text-align: right;\n",
       "    }\n",
       "</style>\n",
       "<table border=\"1\" class=\"dataframe\">\n",
       "  <thead>\n",
       "    <tr>\n",
       "      <th></th>\n",
       "      <th></th>\n",
       "      <th>count</th>\n",
       "      <th>sum</th>\n",
       "    </tr>\n",
       "    <tr>\n",
       "      <th></th>\n",
       "      <th></th>\n",
       "      <th>duration</th>\n",
       "      <th>duration</th>\n",
       "    </tr>\n",
       "    <tr>\n",
       "      <th>user_id</th>\n",
       "      <th>month</th>\n",
       "      <th></th>\n",
       "      <th></th>\n",
       "    </tr>\n",
       "  </thead>\n",
       "  <tbody>\n",
       "    <tr>\n",
       "      <th rowspan=\"5\" valign=\"top\">1000</th>\n",
       "      <th>5</th>\n",
       "      <td>22</td>\n",
       "      <td>159</td>\n",
       "    </tr>\n",
       "    <tr>\n",
       "      <th>6</th>\n",
       "      <td>43</td>\n",
       "      <td>172</td>\n",
       "    </tr>\n",
       "    <tr>\n",
       "      <th>7</th>\n",
       "      <td>47</td>\n",
       "      <td>340</td>\n",
       "    </tr>\n",
       "    <tr>\n",
       "      <th>8</th>\n",
       "      <td>52</td>\n",
       "      <td>408</td>\n",
       "    </tr>\n",
       "    <tr>\n",
       "      <th>9</th>\n",
       "      <td>58</td>\n",
       "      <td>466</td>\n",
       "    </tr>\n",
       "    <tr>\n",
       "      <th>...</th>\n",
       "      <th>...</th>\n",
       "      <td>...</td>\n",
       "      <td>...</td>\n",
       "    </tr>\n",
       "    <tr>\n",
       "      <th>1498</th>\n",
       "      <th>10</th>\n",
       "      <td>41</td>\n",
       "      <td>247</td>\n",
       "    </tr>\n",
       "    <tr>\n",
       "      <th rowspan=\"4\" valign=\"top\">1499</th>\n",
       "      <th>9</th>\n",
       "      <td>9</td>\n",
       "      <td>70</td>\n",
       "    </tr>\n",
       "    <tr>\n",
       "      <th>10</th>\n",
       "      <td>68</td>\n",
       "      <td>449</td>\n",
       "    </tr>\n",
       "    <tr>\n",
       "      <th>11</th>\n",
       "      <td>74</td>\n",
       "      <td>612</td>\n",
       "    </tr>\n",
       "    <tr>\n",
       "      <th>12</th>\n",
       "      <td>69</td>\n",
       "      <td>492</td>\n",
       "    </tr>\n",
       "  </tbody>\n",
       "</table>\n",
       "<p>3174 rows × 2 columns</p>\n",
       "</div>"
      ],
      "text/plain": [
       "                 count      sum\n",
       "              duration duration\n",
       "user_id month                  \n",
       "1000    5           22      159\n",
       "        6           43      172\n",
       "        7           47      340\n",
       "        8           52      408\n",
       "        9           58      466\n",
       "...                ...      ...\n",
       "1498    10          41      247\n",
       "1499    9            9       70\n",
       "        10          68      449\n",
       "        11          74      612\n",
       "        12          69      492\n",
       "\n",
       "[3174 rows x 2 columns]"
      ]
     },
     "execution_count": 99,
     "metadata": {},
     "output_type": "execute_result"
    }
   ],
   "source": [
    "calls_pivot = calls_df.pivot_table(index=['user_id', 'month'], values='duration', aggfunc=['count', 'sum'])\n",
    "calls_pivot"
   ]
  },
  {
   "cell_type": "markdown",
   "metadata": {},
   "source": [
    "Having formed a pivot table, we received information about the number of calls in the \"count duration\" column and their duration for each client divided by months."
   ]
  },
  {
   "cell_type": "markdown",
   "metadata": {},
   "source": [
    "Converting the dataset for further use:"
   ]
  },
  {
   "cell_type": "code",
   "execution_count": 100,
   "metadata": {},
   "outputs": [
    {
     "data": {
      "text/html": [
       "<div>\n",
       "<style scoped>\n",
       "    .dataframe tbody tr th:only-of-type {\n",
       "        vertical-align: middle;\n",
       "    }\n",
       "\n",
       "    .dataframe tbody tr th {\n",
       "        vertical-align: top;\n",
       "    }\n",
       "\n",
       "    .dataframe thead th {\n",
       "        text-align: right;\n",
       "    }\n",
       "</style>\n",
       "<table border=\"1\" class=\"dataframe\">\n",
       "  <thead>\n",
       "    <tr style=\"text-align: right;\">\n",
       "      <th></th>\n",
       "      <th>user_id</th>\n",
       "      <th>month</th>\n",
       "      <th>count_duration</th>\n",
       "      <th>sum_duration</th>\n",
       "    </tr>\n",
       "  </thead>\n",
       "  <tbody>\n",
       "    <tr>\n",
       "      <th>0</th>\n",
       "      <td>1000</td>\n",
       "      <td>5</td>\n",
       "      <td>22</td>\n",
       "      <td>159</td>\n",
       "    </tr>\n",
       "    <tr>\n",
       "      <th>1</th>\n",
       "      <td>1000</td>\n",
       "      <td>6</td>\n",
       "      <td>43</td>\n",
       "      <td>172</td>\n",
       "    </tr>\n",
       "    <tr>\n",
       "      <th>2</th>\n",
       "      <td>1000</td>\n",
       "      <td>7</td>\n",
       "      <td>47</td>\n",
       "      <td>340</td>\n",
       "    </tr>\n",
       "    <tr>\n",
       "      <th>3</th>\n",
       "      <td>1000</td>\n",
       "      <td>8</td>\n",
       "      <td>52</td>\n",
       "      <td>408</td>\n",
       "    </tr>\n",
       "    <tr>\n",
       "      <th>4</th>\n",
       "      <td>1000</td>\n",
       "      <td>9</td>\n",
       "      <td>58</td>\n",
       "      <td>466</td>\n",
       "    </tr>\n",
       "    <tr>\n",
       "      <th>...</th>\n",
       "      <td>...</td>\n",
       "      <td>...</td>\n",
       "      <td>...</td>\n",
       "      <td>...</td>\n",
       "    </tr>\n",
       "    <tr>\n",
       "      <th>3169</th>\n",
       "      <td>1498</td>\n",
       "      <td>10</td>\n",
       "      <td>41</td>\n",
       "      <td>247</td>\n",
       "    </tr>\n",
       "    <tr>\n",
       "      <th>3170</th>\n",
       "      <td>1499</td>\n",
       "      <td>9</td>\n",
       "      <td>9</td>\n",
       "      <td>70</td>\n",
       "    </tr>\n",
       "    <tr>\n",
       "      <th>3171</th>\n",
       "      <td>1499</td>\n",
       "      <td>10</td>\n",
       "      <td>68</td>\n",
       "      <td>449</td>\n",
       "    </tr>\n",
       "    <tr>\n",
       "      <th>3172</th>\n",
       "      <td>1499</td>\n",
       "      <td>11</td>\n",
       "      <td>74</td>\n",
       "      <td>612</td>\n",
       "    </tr>\n",
       "    <tr>\n",
       "      <th>3173</th>\n",
       "      <td>1499</td>\n",
       "      <td>12</td>\n",
       "      <td>69</td>\n",
       "      <td>492</td>\n",
       "    </tr>\n",
       "  </tbody>\n",
       "</table>\n",
       "<p>3174 rows × 4 columns</p>\n",
       "</div>"
      ],
      "text/plain": [
       "      user_id  month  count_duration  sum_duration\n",
       "0        1000      5              22           159\n",
       "1        1000      6              43           172\n",
       "2        1000      7              47           340\n",
       "3        1000      8              52           408\n",
       "4        1000      9              58           466\n",
       "...       ...    ...             ...           ...\n",
       "3169     1498     10              41           247\n",
       "3170     1499      9               9            70\n",
       "3171     1499     10              68           449\n",
       "3172     1499     11              74           612\n",
       "3173     1499     12              69           492\n",
       "\n",
       "[3174 rows x 4 columns]"
      ]
     },
     "execution_count": 100,
     "metadata": {},
     "output_type": "execute_result"
    }
   ],
   "source": [
    "calls_pivot.columns = calls_pivot.columns.map('_'.join)\n",
    "calls_pivot.reset_index(inplace=True)\n",
    "calls_pivot"
   ]
  },
  {
   "cell_type": "code",
   "execution_count": 101,
   "metadata": {},
   "outputs": [
    {
     "name": "stdout",
     "output_type": "stream",
     "text": [
      "<class 'pandas.core.frame.DataFrame'>\n",
      "RangeIndex: 3174 entries, 0 to 3173\n",
      "Data columns (total 4 columns):\n",
      " #   Column          Non-Null Count  Dtype\n",
      "---  ------          --------------  -----\n",
      " 0   user_id         3174 non-null   int64\n",
      " 1   month           3174 non-null   int64\n",
      " 2   count_duration  3174 non-null   int64\n",
      " 3   sum_duration    3174 non-null   int64\n",
      "dtypes: int64(4)\n",
      "memory usage: 99.3 KB\n"
     ]
    }
   ],
   "source": [
    "calls_pivot.info()"
   ]
  },
  {
   "cell_type": "code",
   "execution_count": 102,
   "metadata": {},
   "outputs": [
    {
     "data": {
      "text/html": [
       "<div>\n",
       "<style scoped>\n",
       "    .dataframe tbody tr th:only-of-type {\n",
       "        vertical-align: middle;\n",
       "    }\n",
       "\n",
       "    .dataframe tbody tr th {\n",
       "        vertical-align: top;\n",
       "    }\n",
       "\n",
       "    .dataframe thead th {\n",
       "        text-align: right;\n",
       "    }\n",
       "</style>\n",
       "<table border=\"1\" class=\"dataframe\">\n",
       "  <thead>\n",
       "    <tr style=\"text-align: right;\">\n",
       "      <th></th>\n",
       "      <th>user_id</th>\n",
       "      <th>month</th>\n",
       "      <th>calls_amount</th>\n",
       "      <th>min_used</th>\n",
       "    </tr>\n",
       "  </thead>\n",
       "  <tbody>\n",
       "    <tr>\n",
       "      <th>0</th>\n",
       "      <td>1000</td>\n",
       "      <td>5</td>\n",
       "      <td>22</td>\n",
       "      <td>159</td>\n",
       "    </tr>\n",
       "    <tr>\n",
       "      <th>1</th>\n",
       "      <td>1000</td>\n",
       "      <td>6</td>\n",
       "      <td>43</td>\n",
       "      <td>172</td>\n",
       "    </tr>\n",
       "    <tr>\n",
       "      <th>2</th>\n",
       "      <td>1000</td>\n",
       "      <td>7</td>\n",
       "      <td>47</td>\n",
       "      <td>340</td>\n",
       "    </tr>\n",
       "    <tr>\n",
       "      <th>3</th>\n",
       "      <td>1000</td>\n",
       "      <td>8</td>\n",
       "      <td>52</td>\n",
       "      <td>408</td>\n",
       "    </tr>\n",
       "    <tr>\n",
       "      <th>4</th>\n",
       "      <td>1000</td>\n",
       "      <td>9</td>\n",
       "      <td>58</td>\n",
       "      <td>466</td>\n",
       "    </tr>\n",
       "    <tr>\n",
       "      <th>...</th>\n",
       "      <td>...</td>\n",
       "      <td>...</td>\n",
       "      <td>...</td>\n",
       "      <td>...</td>\n",
       "    </tr>\n",
       "    <tr>\n",
       "      <th>3169</th>\n",
       "      <td>1498</td>\n",
       "      <td>10</td>\n",
       "      <td>41</td>\n",
       "      <td>247</td>\n",
       "    </tr>\n",
       "    <tr>\n",
       "      <th>3170</th>\n",
       "      <td>1499</td>\n",
       "      <td>9</td>\n",
       "      <td>9</td>\n",
       "      <td>70</td>\n",
       "    </tr>\n",
       "    <tr>\n",
       "      <th>3171</th>\n",
       "      <td>1499</td>\n",
       "      <td>10</td>\n",
       "      <td>68</td>\n",
       "      <td>449</td>\n",
       "    </tr>\n",
       "    <tr>\n",
       "      <th>3172</th>\n",
       "      <td>1499</td>\n",
       "      <td>11</td>\n",
       "      <td>74</td>\n",
       "      <td>612</td>\n",
       "    </tr>\n",
       "    <tr>\n",
       "      <th>3173</th>\n",
       "      <td>1499</td>\n",
       "      <td>12</td>\n",
       "      <td>69</td>\n",
       "      <td>492</td>\n",
       "    </tr>\n",
       "  </tbody>\n",
       "</table>\n",
       "<p>3174 rows × 4 columns</p>\n",
       "</div>"
      ],
      "text/plain": [
       "      user_id  month  calls_amount  min_used\n",
       "0        1000      5            22       159\n",
       "1        1000      6            43       172\n",
       "2        1000      7            47       340\n",
       "3        1000      8            52       408\n",
       "4        1000      9            58       466\n",
       "...       ...    ...           ...       ...\n",
       "3169     1498     10            41       247\n",
       "3170     1499      9             9        70\n",
       "3171     1499     10            68       449\n",
       "3172     1499     11            74       612\n",
       "3173     1499     12            69       492\n",
       "\n",
       "[3174 rows x 4 columns]"
      ]
     },
     "execution_count": 102,
     "metadata": {},
     "output_type": "execute_result"
    }
   ],
   "source": [
    "calls_pivot.rename(columns = {'count_duration' : 'calls_amount','sum_duration':'min_used'}, inplace = True)\n",
    "calls_pivot"
   ]
  },
  {
   "cell_type": "markdown",
   "metadata": {},
   "source": [
    "### Determine the number of messages sent by month for each user:"
   ]
  },
  {
   "cell_type": "code",
   "execution_count": 103,
   "metadata": {},
   "outputs": [
    {
     "data": {
      "text/html": [
       "<div>\n",
       "<style scoped>\n",
       "    .dataframe tbody tr th:only-of-type {\n",
       "        vertical-align: middle;\n",
       "    }\n",
       "\n",
       "    .dataframe tbody tr th {\n",
       "        vertical-align: top;\n",
       "    }\n",
       "\n",
       "    .dataframe thead th {\n",
       "        text-align: right;\n",
       "    }\n",
       "</style>\n",
       "<table border=\"1\" class=\"dataframe\">\n",
       "  <thead>\n",
       "    <tr style=\"text-align: right;\">\n",
       "      <th></th>\n",
       "      <th></th>\n",
       "      <th>id</th>\n",
       "    </tr>\n",
       "    <tr>\n",
       "      <th>user_id</th>\n",
       "      <th>month</th>\n",
       "      <th></th>\n",
       "    </tr>\n",
       "  </thead>\n",
       "  <tbody>\n",
       "    <tr>\n",
       "      <th rowspan=\"5\" valign=\"top\">1000</th>\n",
       "      <th>5</th>\n",
       "      <td>22</td>\n",
       "    </tr>\n",
       "    <tr>\n",
       "      <th>6</th>\n",
       "      <td>60</td>\n",
       "    </tr>\n",
       "    <tr>\n",
       "      <th>7</th>\n",
       "      <td>75</td>\n",
       "    </tr>\n",
       "    <tr>\n",
       "      <th>8</th>\n",
       "      <td>81</td>\n",
       "    </tr>\n",
       "    <tr>\n",
       "      <th>9</th>\n",
       "      <td>57</td>\n",
       "    </tr>\n",
       "    <tr>\n",
       "      <th>...</th>\n",
       "      <th>...</th>\n",
       "      <td>...</td>\n",
       "    </tr>\n",
       "    <tr>\n",
       "      <th>1498</th>\n",
       "      <th>10</th>\n",
       "      <td>42</td>\n",
       "    </tr>\n",
       "    <tr>\n",
       "      <th rowspan=\"4\" valign=\"top\">1499</th>\n",
       "      <th>9</th>\n",
       "      <td>11</td>\n",
       "    </tr>\n",
       "    <tr>\n",
       "      <th>10</th>\n",
       "      <td>48</td>\n",
       "    </tr>\n",
       "    <tr>\n",
       "      <th>11</th>\n",
       "      <td>59</td>\n",
       "    </tr>\n",
       "    <tr>\n",
       "      <th>12</th>\n",
       "      <td>66</td>\n",
       "    </tr>\n",
       "  </tbody>\n",
       "</table>\n",
       "<p>2717 rows × 1 columns</p>\n",
       "</div>"
      ],
      "text/plain": [
       "               id\n",
       "user_id month    \n",
       "1000    5      22\n",
       "        6      60\n",
       "        7      75\n",
       "        8      81\n",
       "        9      57\n",
       "...            ..\n",
       "1498    10     42\n",
       "1499    9      11\n",
       "        10     48\n",
       "        11     59\n",
       "        12     66\n",
       "\n",
       "[2717 rows x 1 columns]"
      ]
     },
     "execution_count": 103,
     "metadata": {},
     "output_type": "execute_result"
    }
   ],
   "source": [
    "messages_pivot = messages_df.pivot_table(index=['user_id', 'month'], values='id', aggfunc='count')\n",
    "messages_pivot"
   ]
  },
  {
   "cell_type": "code",
   "execution_count": 104,
   "metadata": {},
   "outputs": [
    {
     "data": {
      "text/html": [
       "<div>\n",
       "<style scoped>\n",
       "    .dataframe tbody tr th:only-of-type {\n",
       "        vertical-align: middle;\n",
       "    }\n",
       "\n",
       "    .dataframe tbody tr th {\n",
       "        vertical-align: top;\n",
       "    }\n",
       "\n",
       "    .dataframe thead th {\n",
       "        text-align: right;\n",
       "    }\n",
       "</style>\n",
       "<table border=\"1\" class=\"dataframe\">\n",
       "  <thead>\n",
       "    <tr style=\"text-align: right;\">\n",
       "      <th></th>\n",
       "      <th></th>\n",
       "      <th>mes_per_month</th>\n",
       "    </tr>\n",
       "    <tr>\n",
       "      <th>user_id</th>\n",
       "      <th>month</th>\n",
       "      <th></th>\n",
       "    </tr>\n",
       "  </thead>\n",
       "  <tbody>\n",
       "    <tr>\n",
       "      <th rowspan=\"5\" valign=\"top\">1000</th>\n",
       "      <th>5</th>\n",
       "      <td>22</td>\n",
       "    </tr>\n",
       "    <tr>\n",
       "      <th>6</th>\n",
       "      <td>60</td>\n",
       "    </tr>\n",
       "    <tr>\n",
       "      <th>7</th>\n",
       "      <td>75</td>\n",
       "    </tr>\n",
       "    <tr>\n",
       "      <th>8</th>\n",
       "      <td>81</td>\n",
       "    </tr>\n",
       "    <tr>\n",
       "      <th>9</th>\n",
       "      <td>57</td>\n",
       "    </tr>\n",
       "    <tr>\n",
       "      <th>...</th>\n",
       "      <th>...</th>\n",
       "      <td>...</td>\n",
       "    </tr>\n",
       "    <tr>\n",
       "      <th>1498</th>\n",
       "      <th>10</th>\n",
       "      <td>42</td>\n",
       "    </tr>\n",
       "    <tr>\n",
       "      <th rowspan=\"4\" valign=\"top\">1499</th>\n",
       "      <th>9</th>\n",
       "      <td>11</td>\n",
       "    </tr>\n",
       "    <tr>\n",
       "      <th>10</th>\n",
       "      <td>48</td>\n",
       "    </tr>\n",
       "    <tr>\n",
       "      <th>11</th>\n",
       "      <td>59</td>\n",
       "    </tr>\n",
       "    <tr>\n",
       "      <th>12</th>\n",
       "      <td>66</td>\n",
       "    </tr>\n",
       "  </tbody>\n",
       "</table>\n",
       "<p>2717 rows × 1 columns</p>\n",
       "</div>"
      ],
      "text/plain": [
       "               mes_per_month\n",
       "user_id month               \n",
       "1000    5                 22\n",
       "        6                 60\n",
       "        7                 75\n",
       "        8                 81\n",
       "        9                 57\n",
       "...                      ...\n",
       "1498    10                42\n",
       "1499    9                 11\n",
       "        10                48\n",
       "        11                59\n",
       "        12                66\n",
       "\n",
       "[2717 rows x 1 columns]"
      ]
     },
     "execution_count": 104,
     "metadata": {},
     "output_type": "execute_result"
    }
   ],
   "source": [
    "messages_pivot.rename(columns = {'id' : 'mes_per_month'}, inplace = True)\n",
    "messages_pivot"
   ]
  },
  {
   "cell_type": "markdown",
   "metadata": {},
   "source": [
    "Having formed a pivot table, we received information about the number of messages in the \"ms_per_month\" column for each client, divided by months."
   ]
  },
  {
   "cell_type": "markdown",
   "metadata": {},
   "source": [
    "Converting the dataset for further use:"
   ]
  },
  {
   "cell_type": "code",
   "execution_count": 105,
   "metadata": {},
   "outputs": [
    {
     "data": {
      "text/html": [
       "<div>\n",
       "<style scoped>\n",
       "    .dataframe tbody tr th:only-of-type {\n",
       "        vertical-align: middle;\n",
       "    }\n",
       "\n",
       "    .dataframe tbody tr th {\n",
       "        vertical-align: top;\n",
       "    }\n",
       "\n",
       "    .dataframe thead th {\n",
       "        text-align: right;\n",
       "    }\n",
       "</style>\n",
       "<table border=\"1\" class=\"dataframe\">\n",
       "  <thead>\n",
       "    <tr style=\"text-align: right;\">\n",
       "      <th></th>\n",
       "      <th>user_id</th>\n",
       "      <th>month</th>\n",
       "      <th>mes_per_month</th>\n",
       "    </tr>\n",
       "  </thead>\n",
       "  <tbody>\n",
       "    <tr>\n",
       "      <th>0</th>\n",
       "      <td>1000</td>\n",
       "      <td>5</td>\n",
       "      <td>22</td>\n",
       "    </tr>\n",
       "    <tr>\n",
       "      <th>1</th>\n",
       "      <td>1000</td>\n",
       "      <td>6</td>\n",
       "      <td>60</td>\n",
       "    </tr>\n",
       "    <tr>\n",
       "      <th>2</th>\n",
       "      <td>1000</td>\n",
       "      <td>7</td>\n",
       "      <td>75</td>\n",
       "    </tr>\n",
       "    <tr>\n",
       "      <th>3</th>\n",
       "      <td>1000</td>\n",
       "      <td>8</td>\n",
       "      <td>81</td>\n",
       "    </tr>\n",
       "    <tr>\n",
       "      <th>4</th>\n",
       "      <td>1000</td>\n",
       "      <td>9</td>\n",
       "      <td>57</td>\n",
       "    </tr>\n",
       "    <tr>\n",
       "      <th>...</th>\n",
       "      <td>...</td>\n",
       "      <td>...</td>\n",
       "      <td>...</td>\n",
       "    </tr>\n",
       "    <tr>\n",
       "      <th>2712</th>\n",
       "      <td>1498</td>\n",
       "      <td>10</td>\n",
       "      <td>42</td>\n",
       "    </tr>\n",
       "    <tr>\n",
       "      <th>2713</th>\n",
       "      <td>1499</td>\n",
       "      <td>9</td>\n",
       "      <td>11</td>\n",
       "    </tr>\n",
       "    <tr>\n",
       "      <th>2714</th>\n",
       "      <td>1499</td>\n",
       "      <td>10</td>\n",
       "      <td>48</td>\n",
       "    </tr>\n",
       "    <tr>\n",
       "      <th>2715</th>\n",
       "      <td>1499</td>\n",
       "      <td>11</td>\n",
       "      <td>59</td>\n",
       "    </tr>\n",
       "    <tr>\n",
       "      <th>2716</th>\n",
       "      <td>1499</td>\n",
       "      <td>12</td>\n",
       "      <td>66</td>\n",
       "    </tr>\n",
       "  </tbody>\n",
       "</table>\n",
       "<p>2717 rows × 3 columns</p>\n",
       "</div>"
      ],
      "text/plain": [
       "      user_id  month  mes_per_month\n",
       "0        1000      5             22\n",
       "1        1000      6             60\n",
       "2        1000      7             75\n",
       "3        1000      8             81\n",
       "4        1000      9             57\n",
       "...       ...    ...            ...\n",
       "2712     1498     10             42\n",
       "2713     1499      9             11\n",
       "2714     1499     10             48\n",
       "2715     1499     11             59\n",
       "2716     1499     12             66\n",
       "\n",
       "[2717 rows x 3 columns]"
      ]
     },
     "execution_count": 105,
     "metadata": {},
     "output_type": "execute_result"
    }
   ],
   "source": [
    "messages_pivot.reset_index(inplace=True)\n",
    "messages_pivot"
   ]
  },
  {
   "cell_type": "markdown",
   "metadata": {},
   "source": [
    "### Determine the amount of Internet traffic consumed by month for each user:"
   ]
  },
  {
   "cell_type": "code",
   "execution_count": 106,
   "metadata": {},
   "outputs": [
    {
     "data": {
      "text/html": [
       "<div>\n",
       "<style scoped>\n",
       "    .dataframe tbody tr th:only-of-type {\n",
       "        vertical-align: middle;\n",
       "    }\n",
       "\n",
       "    .dataframe tbody tr th {\n",
       "        vertical-align: top;\n",
       "    }\n",
       "\n",
       "    .dataframe thead th {\n",
       "        text-align: right;\n",
       "    }\n",
       "</style>\n",
       "<table border=\"1\" class=\"dataframe\">\n",
       "  <thead>\n",
       "    <tr style=\"text-align: right;\">\n",
       "      <th></th>\n",
       "      <th>id</th>\n",
       "      <th>mb_used</th>\n",
       "      <th>session_date</th>\n",
       "      <th>user_id</th>\n",
       "      <th>month</th>\n",
       "    </tr>\n",
       "  </thead>\n",
       "  <tbody>\n",
       "    <tr>\n",
       "      <th>0</th>\n",
       "      <td>1000_0</td>\n",
       "      <td>112.95</td>\n",
       "      <td>2018-11-25</td>\n",
       "      <td>1000</td>\n",
       "      <td>11</td>\n",
       "    </tr>\n",
       "    <tr>\n",
       "      <th>1</th>\n",
       "      <td>1000_1</td>\n",
       "      <td>1052.81</td>\n",
       "      <td>2018-09-07</td>\n",
       "      <td>1000</td>\n",
       "      <td>9</td>\n",
       "    </tr>\n",
       "    <tr>\n",
       "      <th>2</th>\n",
       "      <td>1000_2</td>\n",
       "      <td>1197.26</td>\n",
       "      <td>2018-06-25</td>\n",
       "      <td>1000</td>\n",
       "      <td>6</td>\n",
       "    </tr>\n",
       "    <tr>\n",
       "      <th>3</th>\n",
       "      <td>1000_3</td>\n",
       "      <td>550.27</td>\n",
       "      <td>2018-08-22</td>\n",
       "      <td>1000</td>\n",
       "      <td>8</td>\n",
       "    </tr>\n",
       "    <tr>\n",
       "      <th>4</th>\n",
       "      <td>1000_4</td>\n",
       "      <td>302.56</td>\n",
       "      <td>2018-09-24</td>\n",
       "      <td>1000</td>\n",
       "      <td>9</td>\n",
       "    </tr>\n",
       "    <tr>\n",
       "      <th>...</th>\n",
       "      <td>...</td>\n",
       "      <td>...</td>\n",
       "      <td>...</td>\n",
       "      <td>...</td>\n",
       "      <td>...</td>\n",
       "    </tr>\n",
       "    <tr>\n",
       "      <th>149391</th>\n",
       "      <td>1499_152</td>\n",
       "      <td>318.90</td>\n",
       "      <td>2018-10-03</td>\n",
       "      <td>1499</td>\n",
       "      <td>10</td>\n",
       "    </tr>\n",
       "    <tr>\n",
       "      <th>149392</th>\n",
       "      <td>1499_153</td>\n",
       "      <td>490.13</td>\n",
       "      <td>2018-12-14</td>\n",
       "      <td>1499</td>\n",
       "      <td>12</td>\n",
       "    </tr>\n",
       "    <tr>\n",
       "      <th>149393</th>\n",
       "      <td>1499_154</td>\n",
       "      <td>0.00</td>\n",
       "      <td>2018-10-27</td>\n",
       "      <td>1499</td>\n",
       "      <td>10</td>\n",
       "    </tr>\n",
       "    <tr>\n",
       "      <th>149394</th>\n",
       "      <td>1499_155</td>\n",
       "      <td>1246.32</td>\n",
       "      <td>2018-11-26</td>\n",
       "      <td>1499</td>\n",
       "      <td>11</td>\n",
       "    </tr>\n",
       "    <tr>\n",
       "      <th>149395</th>\n",
       "      <td>1499_156</td>\n",
       "      <td>544.37</td>\n",
       "      <td>2018-10-26</td>\n",
       "      <td>1499</td>\n",
       "      <td>10</td>\n",
       "    </tr>\n",
       "  </tbody>\n",
       "</table>\n",
       "<p>149396 rows × 5 columns</p>\n",
       "</div>"
      ],
      "text/plain": [
       "              id  mb_used session_date  user_id  month\n",
       "0         1000_0   112.95   2018-11-25     1000     11\n",
       "1         1000_1  1052.81   2018-09-07     1000      9\n",
       "2         1000_2  1197.26   2018-06-25     1000      6\n",
       "3         1000_3   550.27   2018-08-22     1000      8\n",
       "4         1000_4   302.56   2018-09-24     1000      9\n",
       "...          ...      ...          ...      ...    ...\n",
       "149391  1499_152   318.90   2018-10-03     1499     10\n",
       "149392  1499_153   490.13   2018-12-14     1499     12\n",
       "149393  1499_154     0.00   2018-10-27     1499     10\n",
       "149394  1499_155  1246.32   2018-11-26     1499     11\n",
       "149395  1499_156   544.37   2018-10-26     1499     10\n",
       "\n",
       "[149396 rows x 5 columns]"
      ]
     },
     "execution_count": 106,
     "metadata": {},
     "output_type": "execute_result"
    }
   ],
   "source": [
    "internet_df"
   ]
  },
  {
   "cell_type": "code",
   "execution_count": 107,
   "metadata": {},
   "outputs": [
    {
     "data": {
      "text/html": [
       "<div>\n",
       "<style scoped>\n",
       "    .dataframe tbody tr th:only-of-type {\n",
       "        vertical-align: middle;\n",
       "    }\n",
       "\n",
       "    .dataframe tbody tr th {\n",
       "        vertical-align: top;\n",
       "    }\n",
       "\n",
       "    .dataframe thead th {\n",
       "        text-align: right;\n",
       "    }\n",
       "</style>\n",
       "<table border=\"1\" class=\"dataframe\">\n",
       "  <thead>\n",
       "    <tr style=\"text-align: right;\">\n",
       "      <th></th>\n",
       "      <th></th>\n",
       "      <th>mb_used</th>\n",
       "    </tr>\n",
       "    <tr>\n",
       "      <th>user_id</th>\n",
       "      <th>month</th>\n",
       "      <th></th>\n",
       "    </tr>\n",
       "  </thead>\n",
       "  <tbody>\n",
       "    <tr>\n",
       "      <th rowspan=\"5\" valign=\"top\">1000</th>\n",
       "      <th>5</th>\n",
       "      <td>2253.49</td>\n",
       "    </tr>\n",
       "    <tr>\n",
       "      <th>6</th>\n",
       "      <td>23233.77</td>\n",
       "    </tr>\n",
       "    <tr>\n",
       "      <th>7</th>\n",
       "      <td>14003.64</td>\n",
       "    </tr>\n",
       "    <tr>\n",
       "      <th>8</th>\n",
       "      <td>14055.93</td>\n",
       "    </tr>\n",
       "    <tr>\n",
       "      <th>9</th>\n",
       "      <td>14568.91</td>\n",
       "    </tr>\n",
       "    <tr>\n",
       "      <th>...</th>\n",
       "      <th>...</th>\n",
       "      <td>...</td>\n",
       "    </tr>\n",
       "    <tr>\n",
       "      <th>1498</th>\n",
       "      <th>10</th>\n",
       "      <td>20579.36</td>\n",
       "    </tr>\n",
       "    <tr>\n",
       "      <th rowspan=\"4\" valign=\"top\">1499</th>\n",
       "      <th>9</th>\n",
       "      <td>1845.75</td>\n",
       "    </tr>\n",
       "    <tr>\n",
       "      <th>10</th>\n",
       "      <td>17788.51</td>\n",
       "    </tr>\n",
       "    <tr>\n",
       "      <th>11</th>\n",
       "      <td>17963.31</td>\n",
       "    </tr>\n",
       "    <tr>\n",
       "      <th>12</th>\n",
       "      <td>13055.58</td>\n",
       "    </tr>\n",
       "  </tbody>\n",
       "</table>\n",
       "<p>3203 rows × 1 columns</p>\n",
       "</div>"
      ],
      "text/plain": [
       "                mb_used\n",
       "user_id month          \n",
       "1000    5       2253.49\n",
       "        6      23233.77\n",
       "        7      14003.64\n",
       "        8      14055.93\n",
       "        9      14568.91\n",
       "...                 ...\n",
       "1498    10     20579.36\n",
       "1499    9       1845.75\n",
       "        10     17788.51\n",
       "        11     17963.31\n",
       "        12     13055.58\n",
       "\n",
       "[3203 rows x 1 columns]"
      ]
     },
     "execution_count": 107,
     "metadata": {},
     "output_type": "execute_result"
    }
   ],
   "source": [
    "internet_pivot = internet_df.pivot_table(index=['user_id', 'month'], values='mb_used', aggfunc='sum')\n",
    "internet_pivot"
   ]
  },
  {
   "cell_type": "markdown",
   "metadata": {},
   "source": [
    "Having formed a pivot table, we received information about the volume of the Internet in the \"mb_used\" column for each client, divided by months."
   ]
  },
  {
   "cell_type": "markdown",
   "metadata": {},
   "source": [
    "Convert the data in the mb_used column to gigabytes, taking into account the operator's rounding rules:"
   ]
  },
  {
   "cell_type": "code",
   "execution_count": 108,
   "metadata": {
    "scrolled": true
   },
   "outputs": [
    {
     "data": {
      "text/html": [
       "<div>\n",
       "<style scoped>\n",
       "    .dataframe tbody tr th:only-of-type {\n",
       "        vertical-align: middle;\n",
       "    }\n",
       "\n",
       "    .dataframe tbody tr th {\n",
       "        vertical-align: top;\n",
       "    }\n",
       "\n",
       "    .dataframe thead th {\n",
       "        text-align: right;\n",
       "    }\n",
       "</style>\n",
       "<table border=\"1\" class=\"dataframe\">\n",
       "  <thead>\n",
       "    <tr style=\"text-align: right;\">\n",
       "      <th></th>\n",
       "      <th></th>\n",
       "      <th>mb_used</th>\n",
       "    </tr>\n",
       "    <tr>\n",
       "      <th>user_id</th>\n",
       "      <th>month</th>\n",
       "      <th></th>\n",
       "    </tr>\n",
       "  </thead>\n",
       "  <tbody>\n",
       "    <tr>\n",
       "      <th rowspan=\"5\" valign=\"top\">1000</th>\n",
       "      <th>5</th>\n",
       "      <td>2.200674</td>\n",
       "    </tr>\n",
       "    <tr>\n",
       "      <th>6</th>\n",
       "      <td>22.689229</td>\n",
       "    </tr>\n",
       "    <tr>\n",
       "      <th>7</th>\n",
       "      <td>13.675430</td>\n",
       "    </tr>\n",
       "    <tr>\n",
       "      <th>8</th>\n",
       "      <td>13.726494</td>\n",
       "    </tr>\n",
       "    <tr>\n",
       "      <th>9</th>\n",
       "      <td>14.227451</td>\n",
       "    </tr>\n",
       "    <tr>\n",
       "      <th>...</th>\n",
       "      <th>...</th>\n",
       "      <td>...</td>\n",
       "    </tr>\n",
       "    <tr>\n",
       "      <th>1498</th>\n",
       "      <th>10</th>\n",
       "      <td>20.097031</td>\n",
       "    </tr>\n",
       "    <tr>\n",
       "      <th rowspan=\"4\" valign=\"top\">1499</th>\n",
       "      <th>9</th>\n",
       "      <td>1.802490</td>\n",
       "    </tr>\n",
       "    <tr>\n",
       "      <th>10</th>\n",
       "      <td>17.371592</td>\n",
       "    </tr>\n",
       "    <tr>\n",
       "      <th>11</th>\n",
       "      <td>17.542295</td>\n",
       "    </tr>\n",
       "    <tr>\n",
       "      <th>12</th>\n",
       "      <td>12.749590</td>\n",
       "    </tr>\n",
       "  </tbody>\n",
       "</table>\n",
       "<p>3203 rows × 1 columns</p>\n",
       "</div>"
      ],
      "text/plain": [
       "                 mb_used\n",
       "user_id month           \n",
       "1000    5       2.200674\n",
       "        6      22.689229\n",
       "        7      13.675430\n",
       "        8      13.726494\n",
       "        9      14.227451\n",
       "...                  ...\n",
       "1498    10     20.097031\n",
       "1499    9       1.802490\n",
       "        10     17.371592\n",
       "        11     17.542295\n",
       "        12     12.749590\n",
       "\n",
       "[3203 rows x 1 columns]"
      ]
     },
     "execution_count": 108,
     "metadata": {},
     "output_type": "execute_result"
    }
   ],
   "source": [
    "internet_pivot['mb_used'] = internet_pivot['mb_used'] / 1024\n",
    "internet_pivot"
   ]
  },
  {
   "cell_type": "code",
   "execution_count": 109,
   "metadata": {
    "scrolled": true
   },
   "outputs": [
    {
     "data": {
      "text/html": [
       "<div>\n",
       "<style scoped>\n",
       "    .dataframe tbody tr th:only-of-type {\n",
       "        vertical-align: middle;\n",
       "    }\n",
       "\n",
       "    .dataframe tbody tr th {\n",
       "        vertical-align: top;\n",
       "    }\n",
       "\n",
       "    .dataframe thead th {\n",
       "        text-align: right;\n",
       "    }\n",
       "</style>\n",
       "<table border=\"1\" class=\"dataframe\">\n",
       "  <thead>\n",
       "    <tr style=\"text-align: right;\">\n",
       "      <th></th>\n",
       "      <th></th>\n",
       "      <th>gb_used</th>\n",
       "    </tr>\n",
       "    <tr>\n",
       "      <th>user_id</th>\n",
       "      <th>month</th>\n",
       "      <th></th>\n",
       "    </tr>\n",
       "  </thead>\n",
       "  <tbody>\n",
       "    <tr>\n",
       "      <th rowspan=\"5\" valign=\"top\">1000</th>\n",
       "      <th>5</th>\n",
       "      <td>3</td>\n",
       "    </tr>\n",
       "    <tr>\n",
       "      <th>6</th>\n",
       "      <td>23</td>\n",
       "    </tr>\n",
       "    <tr>\n",
       "      <th>7</th>\n",
       "      <td>14</td>\n",
       "    </tr>\n",
       "    <tr>\n",
       "      <th>8</th>\n",
       "      <td>14</td>\n",
       "    </tr>\n",
       "    <tr>\n",
       "      <th>9</th>\n",
       "      <td>15</td>\n",
       "    </tr>\n",
       "    <tr>\n",
       "      <th>...</th>\n",
       "      <th>...</th>\n",
       "      <td>...</td>\n",
       "    </tr>\n",
       "    <tr>\n",
       "      <th>1498</th>\n",
       "      <th>10</th>\n",
       "      <td>21</td>\n",
       "    </tr>\n",
       "    <tr>\n",
       "      <th rowspan=\"4\" valign=\"top\">1499</th>\n",
       "      <th>9</th>\n",
       "      <td>2</td>\n",
       "    </tr>\n",
       "    <tr>\n",
       "      <th>10</th>\n",
       "      <td>18</td>\n",
       "    </tr>\n",
       "    <tr>\n",
       "      <th>11</th>\n",
       "      <td>18</td>\n",
       "    </tr>\n",
       "    <tr>\n",
       "      <th>12</th>\n",
       "      <td>13</td>\n",
       "    </tr>\n",
       "  </tbody>\n",
       "</table>\n",
       "<p>3203 rows × 1 columns</p>\n",
       "</div>"
      ],
      "text/plain": [
       "               gb_used\n",
       "user_id month         \n",
       "1000    5            3\n",
       "        6           23\n",
       "        7           14\n",
       "        8           14\n",
       "        9           15\n",
       "...                ...\n",
       "1498    10          21\n",
       "1499    9            2\n",
       "        10          18\n",
       "        11          18\n",
       "        12          13\n",
       "\n",
       "[3203 rows x 1 columns]"
      ]
     },
     "execution_count": 109,
     "metadata": {},
     "output_type": "execute_result"
    }
   ],
   "source": [
    "internet_pivot['mb_used'] = internet_pivot['mb_used'].apply(np.ceil).astype(int)\n",
    "internet_pivot.rename(columns = {'mb_used' : 'gb_used'}, inplace = True)\n",
    "internet_pivot"
   ]
  },
  {
   "cell_type": "markdown",
   "metadata": {},
   "source": [
    "Prepare the dataset for further use:"
   ]
  },
  {
   "cell_type": "code",
   "execution_count": 110,
   "metadata": {},
   "outputs": [
    {
     "data": {
      "text/html": [
       "<div>\n",
       "<style scoped>\n",
       "    .dataframe tbody tr th:only-of-type {\n",
       "        vertical-align: middle;\n",
       "    }\n",
       "\n",
       "    .dataframe tbody tr th {\n",
       "        vertical-align: top;\n",
       "    }\n",
       "\n",
       "    .dataframe thead th {\n",
       "        text-align: right;\n",
       "    }\n",
       "</style>\n",
       "<table border=\"1\" class=\"dataframe\">\n",
       "  <thead>\n",
       "    <tr style=\"text-align: right;\">\n",
       "      <th></th>\n",
       "      <th>user_id</th>\n",
       "      <th>month</th>\n",
       "      <th>gb_used</th>\n",
       "    </tr>\n",
       "  </thead>\n",
       "  <tbody>\n",
       "    <tr>\n",
       "      <th>0</th>\n",
       "      <td>1000</td>\n",
       "      <td>5</td>\n",
       "      <td>3</td>\n",
       "    </tr>\n",
       "    <tr>\n",
       "      <th>1</th>\n",
       "      <td>1000</td>\n",
       "      <td>6</td>\n",
       "      <td>23</td>\n",
       "    </tr>\n",
       "    <tr>\n",
       "      <th>2</th>\n",
       "      <td>1000</td>\n",
       "      <td>7</td>\n",
       "      <td>14</td>\n",
       "    </tr>\n",
       "    <tr>\n",
       "      <th>3</th>\n",
       "      <td>1000</td>\n",
       "      <td>8</td>\n",
       "      <td>14</td>\n",
       "    </tr>\n",
       "    <tr>\n",
       "      <th>4</th>\n",
       "      <td>1000</td>\n",
       "      <td>9</td>\n",
       "      <td>15</td>\n",
       "    </tr>\n",
       "    <tr>\n",
       "      <th>...</th>\n",
       "      <td>...</td>\n",
       "      <td>...</td>\n",
       "      <td>...</td>\n",
       "    </tr>\n",
       "    <tr>\n",
       "      <th>3198</th>\n",
       "      <td>1498</td>\n",
       "      <td>10</td>\n",
       "      <td>21</td>\n",
       "    </tr>\n",
       "    <tr>\n",
       "      <th>3199</th>\n",
       "      <td>1499</td>\n",
       "      <td>9</td>\n",
       "      <td>2</td>\n",
       "    </tr>\n",
       "    <tr>\n",
       "      <th>3200</th>\n",
       "      <td>1499</td>\n",
       "      <td>10</td>\n",
       "      <td>18</td>\n",
       "    </tr>\n",
       "    <tr>\n",
       "      <th>3201</th>\n",
       "      <td>1499</td>\n",
       "      <td>11</td>\n",
       "      <td>18</td>\n",
       "    </tr>\n",
       "    <tr>\n",
       "      <th>3202</th>\n",
       "      <td>1499</td>\n",
       "      <td>12</td>\n",
       "      <td>13</td>\n",
       "    </tr>\n",
       "  </tbody>\n",
       "</table>\n",
       "<p>3203 rows × 3 columns</p>\n",
       "</div>"
      ],
      "text/plain": [
       "      user_id  month  gb_used\n",
       "0        1000      5        3\n",
       "1        1000      6       23\n",
       "2        1000      7       14\n",
       "3        1000      8       14\n",
       "4        1000      9       15\n",
       "...       ...    ...      ...\n",
       "3198     1498     10       21\n",
       "3199     1499      9        2\n",
       "3200     1499     10       18\n",
       "3201     1499     11       18\n",
       "3202     1499     12       13\n",
       "\n",
       "[3203 rows x 3 columns]"
      ]
     },
     "execution_count": 110,
     "metadata": {},
     "output_type": "execute_result"
    }
   ],
   "source": [
    "internet_pivot.reset_index(inplace=True)\n",
    "internet_pivot"
   ]
  },
  {
   "cell_type": "markdown",
   "metadata": {},
   "source": [
    "### Determine the monthly revenue from each user:"
   ]
  },
  {
   "cell_type": "markdown",
   "metadata": {},
   "source": [
    "To do this, we will subtract the free limit from the total number of calls, messages and Internet traffic; multiply the rest by the value from the tariff plan and add the subscription fee corresponding to the tariff plan."
   ]
  },
  {
   "cell_type": "markdown",
   "metadata": {},
   "source": [
    "#### We will prepare a dataset with user data that is important for the task of determining the profitability of the tariff for the operator:"
   ]
  },
  {
   "cell_type": "code",
   "execution_count": 111,
   "metadata": {},
   "outputs": [
    {
     "data": {
      "text/html": [
       "<div>\n",
       "<style scoped>\n",
       "    .dataframe tbody tr th:only-of-type {\n",
       "        vertical-align: middle;\n",
       "    }\n",
       "\n",
       "    .dataframe tbody tr th {\n",
       "        vertical-align: top;\n",
       "    }\n",
       "\n",
       "    .dataframe thead th {\n",
       "        text-align: right;\n",
       "    }\n",
       "</style>\n",
       "<table border=\"1\" class=\"dataframe\">\n",
       "  <thead>\n",
       "    <tr style=\"text-align: right;\">\n",
       "      <th></th>\n",
       "      <th>user_id</th>\n",
       "      <th>city</th>\n",
       "      <th>tariff_name</th>\n",
       "    </tr>\n",
       "  </thead>\n",
       "  <tbody>\n",
       "    <tr>\n",
       "      <th>0</th>\n",
       "      <td>1000</td>\n",
       "      <td>Краснодар</td>\n",
       "      <td>ultra</td>\n",
       "    </tr>\n",
       "    <tr>\n",
       "      <th>1</th>\n",
       "      <td>1001</td>\n",
       "      <td>Москва</td>\n",
       "      <td>smart</td>\n",
       "    </tr>\n",
       "    <tr>\n",
       "      <th>2</th>\n",
       "      <td>1002</td>\n",
       "      <td>Стерлитамак</td>\n",
       "      <td>smart</td>\n",
       "    </tr>\n",
       "    <tr>\n",
       "      <th>3</th>\n",
       "      <td>1003</td>\n",
       "      <td>Москва</td>\n",
       "      <td>ultra</td>\n",
       "    </tr>\n",
       "    <tr>\n",
       "      <th>4</th>\n",
       "      <td>1004</td>\n",
       "      <td>Новокузнецк</td>\n",
       "      <td>ultra</td>\n",
       "    </tr>\n",
       "    <tr>\n",
       "      <th>...</th>\n",
       "      <td>...</td>\n",
       "      <td>...</td>\n",
       "      <td>...</td>\n",
       "    </tr>\n",
       "    <tr>\n",
       "      <th>495</th>\n",
       "      <td>1495</td>\n",
       "      <td>Иркутск</td>\n",
       "      <td>ultra</td>\n",
       "    </tr>\n",
       "    <tr>\n",
       "      <th>496</th>\n",
       "      <td>1496</td>\n",
       "      <td>Вологда</td>\n",
       "      <td>smart</td>\n",
       "    </tr>\n",
       "    <tr>\n",
       "      <th>497</th>\n",
       "      <td>1497</td>\n",
       "      <td>Челябинск</td>\n",
       "      <td>smart</td>\n",
       "    </tr>\n",
       "    <tr>\n",
       "      <th>498</th>\n",
       "      <td>1498</td>\n",
       "      <td>Владикавказ</td>\n",
       "      <td>smart</td>\n",
       "    </tr>\n",
       "    <tr>\n",
       "      <th>499</th>\n",
       "      <td>1499</td>\n",
       "      <td>Пермь</td>\n",
       "      <td>smart</td>\n",
       "    </tr>\n",
       "  </tbody>\n",
       "</table>\n",
       "<p>500 rows × 3 columns</p>\n",
       "</div>"
      ],
      "text/plain": [
       "     user_id         city tariff_name\n",
       "0       1000    Краснодар       ultra\n",
       "1       1001       Москва       smart\n",
       "2       1002  Стерлитамак       smart\n",
       "3       1003       Москва       ultra\n",
       "4       1004  Новокузнецк       ultra\n",
       "..       ...          ...         ...\n",
       "495     1495      Иркутск       ultra\n",
       "496     1496      Вологда       smart\n",
       "497     1497    Челябинск       smart\n",
       "498     1498  Владикавказ       smart\n",
       "499     1499        Пермь       smart\n",
       "\n",
       "[500 rows x 3 columns]"
      ]
     },
     "execution_count": 111,
     "metadata": {},
     "output_type": "execute_result"
    }
   ],
   "source": [
    "key_users_info = users_df[['user_id','city','tariff_name']]\n",
    "key_users_info"
   ]
  },
  {
   "cell_type": "code",
   "execution_count": 112,
   "metadata": {},
   "outputs": [
    {
     "data": {
      "text/html": [
       "<div>\n",
       "<style scoped>\n",
       "    .dataframe tbody tr th:only-of-type {\n",
       "        vertical-align: middle;\n",
       "    }\n",
       "\n",
       "    .dataframe tbody tr th {\n",
       "        vertical-align: top;\n",
       "    }\n",
       "\n",
       "    .dataframe thead th {\n",
       "        text-align: right;\n",
       "    }\n",
       "</style>\n",
       "<table border=\"1\" class=\"dataframe\">\n",
       "  <thead>\n",
       "    <tr style=\"text-align: right;\">\n",
       "      <th></th>\n",
       "      <th>user_id</th>\n",
       "      <th>city</th>\n",
       "      <th>tariff_name</th>\n",
       "      <th>messages_included</th>\n",
       "      <th>gb_per_month_included</th>\n",
       "      <th>minutes_included</th>\n",
       "      <th>rub_monthly_fee</th>\n",
       "      <th>rub_per_gb</th>\n",
       "      <th>rub_per_message</th>\n",
       "      <th>rub_per_minute</th>\n",
       "    </tr>\n",
       "  </thead>\n",
       "  <tbody>\n",
       "    <tr>\n",
       "      <th>0</th>\n",
       "      <td>1000</td>\n",
       "      <td>Краснодар</td>\n",
       "      <td>ultra</td>\n",
       "      <td>1000</td>\n",
       "      <td>30.0</td>\n",
       "      <td>3000</td>\n",
       "      <td>1950</td>\n",
       "      <td>150</td>\n",
       "      <td>1</td>\n",
       "      <td>1</td>\n",
       "    </tr>\n",
       "    <tr>\n",
       "      <th>1</th>\n",
       "      <td>1001</td>\n",
       "      <td>Москва</td>\n",
       "      <td>smart</td>\n",
       "      <td>50</td>\n",
       "      <td>15.0</td>\n",
       "      <td>500</td>\n",
       "      <td>550</td>\n",
       "      <td>200</td>\n",
       "      <td>3</td>\n",
       "      <td>3</td>\n",
       "    </tr>\n",
       "    <tr>\n",
       "      <th>2</th>\n",
       "      <td>1002</td>\n",
       "      <td>Стерлитамак</td>\n",
       "      <td>smart</td>\n",
       "      <td>50</td>\n",
       "      <td>15.0</td>\n",
       "      <td>500</td>\n",
       "      <td>550</td>\n",
       "      <td>200</td>\n",
       "      <td>3</td>\n",
       "      <td>3</td>\n",
       "    </tr>\n",
       "    <tr>\n",
       "      <th>3</th>\n",
       "      <td>1003</td>\n",
       "      <td>Москва</td>\n",
       "      <td>ultra</td>\n",
       "      <td>1000</td>\n",
       "      <td>30.0</td>\n",
       "      <td>3000</td>\n",
       "      <td>1950</td>\n",
       "      <td>150</td>\n",
       "      <td>1</td>\n",
       "      <td>1</td>\n",
       "    </tr>\n",
       "    <tr>\n",
       "      <th>4</th>\n",
       "      <td>1004</td>\n",
       "      <td>Новокузнецк</td>\n",
       "      <td>ultra</td>\n",
       "      <td>1000</td>\n",
       "      <td>30.0</td>\n",
       "      <td>3000</td>\n",
       "      <td>1950</td>\n",
       "      <td>150</td>\n",
       "      <td>1</td>\n",
       "      <td>1</td>\n",
       "    </tr>\n",
       "    <tr>\n",
       "      <th>...</th>\n",
       "      <td>...</td>\n",
       "      <td>...</td>\n",
       "      <td>...</td>\n",
       "      <td>...</td>\n",
       "      <td>...</td>\n",
       "      <td>...</td>\n",
       "      <td>...</td>\n",
       "      <td>...</td>\n",
       "      <td>...</td>\n",
       "      <td>...</td>\n",
       "    </tr>\n",
       "    <tr>\n",
       "      <th>495</th>\n",
       "      <td>1495</td>\n",
       "      <td>Иркутск</td>\n",
       "      <td>ultra</td>\n",
       "      <td>1000</td>\n",
       "      <td>30.0</td>\n",
       "      <td>3000</td>\n",
       "      <td>1950</td>\n",
       "      <td>150</td>\n",
       "      <td>1</td>\n",
       "      <td>1</td>\n",
       "    </tr>\n",
       "    <tr>\n",
       "      <th>496</th>\n",
       "      <td>1496</td>\n",
       "      <td>Вологда</td>\n",
       "      <td>smart</td>\n",
       "      <td>50</td>\n",
       "      <td>15.0</td>\n",
       "      <td>500</td>\n",
       "      <td>550</td>\n",
       "      <td>200</td>\n",
       "      <td>3</td>\n",
       "      <td>3</td>\n",
       "    </tr>\n",
       "    <tr>\n",
       "      <th>497</th>\n",
       "      <td>1497</td>\n",
       "      <td>Челябинск</td>\n",
       "      <td>smart</td>\n",
       "      <td>50</td>\n",
       "      <td>15.0</td>\n",
       "      <td>500</td>\n",
       "      <td>550</td>\n",
       "      <td>200</td>\n",
       "      <td>3</td>\n",
       "      <td>3</td>\n",
       "    </tr>\n",
       "    <tr>\n",
       "      <th>498</th>\n",
       "      <td>1498</td>\n",
       "      <td>Владикавказ</td>\n",
       "      <td>smart</td>\n",
       "      <td>50</td>\n",
       "      <td>15.0</td>\n",
       "      <td>500</td>\n",
       "      <td>550</td>\n",
       "      <td>200</td>\n",
       "      <td>3</td>\n",
       "      <td>3</td>\n",
       "    </tr>\n",
       "    <tr>\n",
       "      <th>499</th>\n",
       "      <td>1499</td>\n",
       "      <td>Пермь</td>\n",
       "      <td>smart</td>\n",
       "      <td>50</td>\n",
       "      <td>15.0</td>\n",
       "      <td>500</td>\n",
       "      <td>550</td>\n",
       "      <td>200</td>\n",
       "      <td>3</td>\n",
       "      <td>3</td>\n",
       "    </tr>\n",
       "  </tbody>\n",
       "</table>\n",
       "<p>500 rows × 10 columns</p>\n",
       "</div>"
      ],
      "text/plain": [
       "     user_id         city tariff_name  messages_included  \\\n",
       "0       1000    Краснодар       ultra               1000   \n",
       "1       1001       Москва       smart                 50   \n",
       "2       1002  Стерлитамак       smart                 50   \n",
       "3       1003       Москва       ultra               1000   \n",
       "4       1004  Новокузнецк       ultra               1000   \n",
       "..       ...          ...         ...                ...   \n",
       "495     1495      Иркутск       ultra               1000   \n",
       "496     1496      Вологда       smart                 50   \n",
       "497     1497    Челябинск       smart                 50   \n",
       "498     1498  Владикавказ       smart                 50   \n",
       "499     1499        Пермь       smart                 50   \n",
       "\n",
       "     gb_per_month_included  minutes_included  rub_monthly_fee  rub_per_gb  \\\n",
       "0                     30.0              3000             1950         150   \n",
       "1                     15.0               500              550         200   \n",
       "2                     15.0               500              550         200   \n",
       "3                     30.0              3000             1950         150   \n",
       "4                     30.0              3000             1950         150   \n",
       "..                     ...               ...              ...         ...   \n",
       "495                   30.0              3000             1950         150   \n",
       "496                   15.0               500              550         200   \n",
       "497                   15.0               500              550         200   \n",
       "498                   15.0               500              550         200   \n",
       "499                   15.0               500              550         200   \n",
       "\n",
       "     rub_per_message  rub_per_minute  \n",
       "0                  1               1  \n",
       "1                  3               3  \n",
       "2                  3               3  \n",
       "3                  1               1  \n",
       "4                  1               1  \n",
       "..               ...             ...  \n",
       "495                1               1  \n",
       "496                3               3  \n",
       "497                3               3  \n",
       "498                3               3  \n",
       "499                3               3  \n",
       "\n",
       "[500 rows x 10 columns]"
      ]
     },
     "execution_count": 112,
     "metadata": {},
     "output_type": "execute_result"
    }
   ],
   "source": [
    "user_tariff_df = key_users_info.merge(tariffs_df, on='tariff_name', how='left')\n",
    "user_tariff_df"
   ]
  },
  {
   "cell_type": "markdown",
   "metadata": {},
   "source": [
    "#### We will prepare a dataset that combines customer spending on calls, Internet traffic usage and sending messages:"
   ]
  },
  {
   "cell_type": "code",
   "execution_count": 113,
   "metadata": {},
   "outputs": [
    {
     "data": {
      "text/html": [
       "<div>\n",
       "<style scoped>\n",
       "    .dataframe tbody tr th:only-of-type {\n",
       "        vertical-align: middle;\n",
       "    }\n",
       "\n",
       "    .dataframe tbody tr th {\n",
       "        vertical-align: top;\n",
       "    }\n",
       "\n",
       "    .dataframe thead th {\n",
       "        text-align: right;\n",
       "    }\n",
       "</style>\n",
       "<table border=\"1\" class=\"dataframe\">\n",
       "  <thead>\n",
       "    <tr style=\"text-align: right;\">\n",
       "      <th></th>\n",
       "      <th>user_id</th>\n",
       "      <th>month</th>\n",
       "      <th>calls_amount</th>\n",
       "      <th>min_used</th>\n",
       "      <th>gb_used</th>\n",
       "      <th>mes_per_month</th>\n",
       "    </tr>\n",
       "  </thead>\n",
       "  <tbody>\n",
       "    <tr>\n",
       "      <th>0</th>\n",
       "      <td>1000</td>\n",
       "      <td>5</td>\n",
       "      <td>22.0</td>\n",
       "      <td>159.0</td>\n",
       "      <td>3.0</td>\n",
       "      <td>22.0</td>\n",
       "    </tr>\n",
       "    <tr>\n",
       "      <th>1</th>\n",
       "      <td>1000</td>\n",
       "      <td>6</td>\n",
       "      <td>43.0</td>\n",
       "      <td>172.0</td>\n",
       "      <td>23.0</td>\n",
       "      <td>60.0</td>\n",
       "    </tr>\n",
       "    <tr>\n",
       "      <th>2</th>\n",
       "      <td>1000</td>\n",
       "      <td>7</td>\n",
       "      <td>47.0</td>\n",
       "      <td>340.0</td>\n",
       "      <td>14.0</td>\n",
       "      <td>75.0</td>\n",
       "    </tr>\n",
       "    <tr>\n",
       "      <th>3</th>\n",
       "      <td>1000</td>\n",
       "      <td>8</td>\n",
       "      <td>52.0</td>\n",
       "      <td>408.0</td>\n",
       "      <td>14.0</td>\n",
       "      <td>81.0</td>\n",
       "    </tr>\n",
       "    <tr>\n",
       "      <th>4</th>\n",
       "      <td>1000</td>\n",
       "      <td>9</td>\n",
       "      <td>58.0</td>\n",
       "      <td>466.0</td>\n",
       "      <td>15.0</td>\n",
       "      <td>57.0</td>\n",
       "    </tr>\n",
       "    <tr>\n",
       "      <th>...</th>\n",
       "      <td>...</td>\n",
       "      <td>...</td>\n",
       "      <td>...</td>\n",
       "      <td>...</td>\n",
       "      <td>...</td>\n",
       "      <td>...</td>\n",
       "    </tr>\n",
       "    <tr>\n",
       "      <th>3209</th>\n",
       "      <td>1489</td>\n",
       "      <td>8</td>\n",
       "      <td>NaN</td>\n",
       "      <td>NaN</td>\n",
       "      <td>11.0</td>\n",
       "      <td>17.0</td>\n",
       "    </tr>\n",
       "    <tr>\n",
       "      <th>3210</th>\n",
       "      <td>1489</td>\n",
       "      <td>9</td>\n",
       "      <td>NaN</td>\n",
       "      <td>NaN</td>\n",
       "      <td>17.0</td>\n",
       "      <td>32.0</td>\n",
       "    </tr>\n",
       "    <tr>\n",
       "      <th>3211</th>\n",
       "      <td>1489</td>\n",
       "      <td>10</td>\n",
       "      <td>NaN</td>\n",
       "      <td>NaN</td>\n",
       "      <td>20.0</td>\n",
       "      <td>21.0</td>\n",
       "    </tr>\n",
       "    <tr>\n",
       "      <th>3212</th>\n",
       "      <td>1489</td>\n",
       "      <td>11</td>\n",
       "      <td>NaN</td>\n",
       "      <td>NaN</td>\n",
       "      <td>18.0</td>\n",
       "      <td>20.0</td>\n",
       "    </tr>\n",
       "    <tr>\n",
       "      <th>3213</th>\n",
       "      <td>1489</td>\n",
       "      <td>12</td>\n",
       "      <td>NaN</td>\n",
       "      <td>NaN</td>\n",
       "      <td>17.0</td>\n",
       "      <td>35.0</td>\n",
       "    </tr>\n",
       "  </tbody>\n",
       "</table>\n",
       "<p>3214 rows × 6 columns</p>\n",
       "</div>"
      ],
      "text/plain": [
       "      user_id  month  calls_amount  min_used  gb_used  mes_per_month\n",
       "0        1000      5          22.0     159.0      3.0           22.0\n",
       "1        1000      6          43.0     172.0     23.0           60.0\n",
       "2        1000      7          47.0     340.0     14.0           75.0\n",
       "3        1000      8          52.0     408.0     14.0           81.0\n",
       "4        1000      9          58.0     466.0     15.0           57.0\n",
       "...       ...    ...           ...       ...      ...            ...\n",
       "3209     1489      8           NaN       NaN     11.0           17.0\n",
       "3210     1489      9           NaN       NaN     17.0           32.0\n",
       "3211     1489     10           NaN       NaN     20.0           21.0\n",
       "3212     1489     11           NaN       NaN     18.0           20.0\n",
       "3213     1489     12           NaN       NaN     17.0           35.0\n",
       "\n",
       "[3214 rows x 6 columns]"
      ]
     },
     "execution_count": 113,
     "metadata": {},
     "output_type": "execute_result"
    }
   ],
   "source": [
    "user_activity = calls_pivot.merge(internet_pivot, on=['user_id','month'], how='outer')\n",
    "user_activity = user_activity.merge(messages_pivot, on=['user_id','month'], how='outer')\n",
    "user_activity"
   ]
  },
  {
   "cell_type": "markdown",
   "metadata": {},
   "source": [
    "Let's combine the \"user_activity\" dataset with the \"user_tariff_df\" dataset so that it is possible to calculate revenue from the client:"
   ]
  },
  {
   "cell_type": "code",
   "execution_count": 114,
   "metadata": {},
   "outputs": [
    {
     "data": {
      "text/html": [
       "<div>\n",
       "<style scoped>\n",
       "    .dataframe tbody tr th:only-of-type {\n",
       "        vertical-align: middle;\n",
       "    }\n",
       "\n",
       "    .dataframe tbody tr th {\n",
       "        vertical-align: top;\n",
       "    }\n",
       "\n",
       "    .dataframe thead th {\n",
       "        text-align: right;\n",
       "    }\n",
       "</style>\n",
       "<table border=\"1\" class=\"dataframe\">\n",
       "  <thead>\n",
       "    <tr style=\"text-align: right;\">\n",
       "      <th></th>\n",
       "      <th>user_id</th>\n",
       "      <th>month</th>\n",
       "      <th>calls_amount</th>\n",
       "      <th>min_used</th>\n",
       "      <th>gb_used</th>\n",
       "      <th>mes_per_month</th>\n",
       "      <th>city</th>\n",
       "      <th>tariff_name</th>\n",
       "      <th>messages_included</th>\n",
       "      <th>gb_per_month_included</th>\n",
       "      <th>minutes_included</th>\n",
       "      <th>rub_monthly_fee</th>\n",
       "      <th>rub_per_gb</th>\n",
       "      <th>rub_per_message</th>\n",
       "      <th>rub_per_minute</th>\n",
       "    </tr>\n",
       "  </thead>\n",
       "  <tbody>\n",
       "    <tr>\n",
       "      <th>0</th>\n",
       "      <td>1000</td>\n",
       "      <td>5</td>\n",
       "      <td>22.0</td>\n",
       "      <td>159.0</td>\n",
       "      <td>3.0</td>\n",
       "      <td>22.0</td>\n",
       "      <td>Краснодар</td>\n",
       "      <td>ultra</td>\n",
       "      <td>1000</td>\n",
       "      <td>30.0</td>\n",
       "      <td>3000</td>\n",
       "      <td>1950</td>\n",
       "      <td>150</td>\n",
       "      <td>1</td>\n",
       "      <td>1</td>\n",
       "    </tr>\n",
       "    <tr>\n",
       "      <th>1</th>\n",
       "      <td>1000</td>\n",
       "      <td>6</td>\n",
       "      <td>43.0</td>\n",
       "      <td>172.0</td>\n",
       "      <td>23.0</td>\n",
       "      <td>60.0</td>\n",
       "      <td>Краснодар</td>\n",
       "      <td>ultra</td>\n",
       "      <td>1000</td>\n",
       "      <td>30.0</td>\n",
       "      <td>3000</td>\n",
       "      <td>1950</td>\n",
       "      <td>150</td>\n",
       "      <td>1</td>\n",
       "      <td>1</td>\n",
       "    </tr>\n",
       "    <tr>\n",
       "      <th>2</th>\n",
       "      <td>1000</td>\n",
       "      <td>7</td>\n",
       "      <td>47.0</td>\n",
       "      <td>340.0</td>\n",
       "      <td>14.0</td>\n",
       "      <td>75.0</td>\n",
       "      <td>Краснодар</td>\n",
       "      <td>ultra</td>\n",
       "      <td>1000</td>\n",
       "      <td>30.0</td>\n",
       "      <td>3000</td>\n",
       "      <td>1950</td>\n",
       "      <td>150</td>\n",
       "      <td>1</td>\n",
       "      <td>1</td>\n",
       "    </tr>\n",
       "    <tr>\n",
       "      <th>3</th>\n",
       "      <td>1000</td>\n",
       "      <td>8</td>\n",
       "      <td>52.0</td>\n",
       "      <td>408.0</td>\n",
       "      <td>14.0</td>\n",
       "      <td>81.0</td>\n",
       "      <td>Краснодар</td>\n",
       "      <td>ultra</td>\n",
       "      <td>1000</td>\n",
       "      <td>30.0</td>\n",
       "      <td>3000</td>\n",
       "      <td>1950</td>\n",
       "      <td>150</td>\n",
       "      <td>1</td>\n",
       "      <td>1</td>\n",
       "    </tr>\n",
       "    <tr>\n",
       "      <th>4</th>\n",
       "      <td>1000</td>\n",
       "      <td>9</td>\n",
       "      <td>58.0</td>\n",
       "      <td>466.0</td>\n",
       "      <td>15.0</td>\n",
       "      <td>57.0</td>\n",
       "      <td>Краснодар</td>\n",
       "      <td>ultra</td>\n",
       "      <td>1000</td>\n",
       "      <td>30.0</td>\n",
       "      <td>3000</td>\n",
       "      <td>1950</td>\n",
       "      <td>150</td>\n",
       "      <td>1</td>\n",
       "      <td>1</td>\n",
       "    </tr>\n",
       "    <tr>\n",
       "      <th>...</th>\n",
       "      <td>...</td>\n",
       "      <td>...</td>\n",
       "      <td>...</td>\n",
       "      <td>...</td>\n",
       "      <td>...</td>\n",
       "      <td>...</td>\n",
       "      <td>...</td>\n",
       "      <td>...</td>\n",
       "      <td>...</td>\n",
       "      <td>...</td>\n",
       "      <td>...</td>\n",
       "      <td>...</td>\n",
       "      <td>...</td>\n",
       "      <td>...</td>\n",
       "      <td>...</td>\n",
       "    </tr>\n",
       "    <tr>\n",
       "      <th>3209</th>\n",
       "      <td>1489</td>\n",
       "      <td>8</td>\n",
       "      <td>NaN</td>\n",
       "      <td>NaN</td>\n",
       "      <td>11.0</td>\n",
       "      <td>17.0</td>\n",
       "      <td>Санкт-Петербург</td>\n",
       "      <td>smart</td>\n",
       "      <td>50</td>\n",
       "      <td>15.0</td>\n",
       "      <td>500</td>\n",
       "      <td>550</td>\n",
       "      <td>200</td>\n",
       "      <td>3</td>\n",
       "      <td>3</td>\n",
       "    </tr>\n",
       "    <tr>\n",
       "      <th>3210</th>\n",
       "      <td>1489</td>\n",
       "      <td>9</td>\n",
       "      <td>NaN</td>\n",
       "      <td>NaN</td>\n",
       "      <td>17.0</td>\n",
       "      <td>32.0</td>\n",
       "      <td>Санкт-Петербург</td>\n",
       "      <td>smart</td>\n",
       "      <td>50</td>\n",
       "      <td>15.0</td>\n",
       "      <td>500</td>\n",
       "      <td>550</td>\n",
       "      <td>200</td>\n",
       "      <td>3</td>\n",
       "      <td>3</td>\n",
       "    </tr>\n",
       "    <tr>\n",
       "      <th>3211</th>\n",
       "      <td>1489</td>\n",
       "      <td>10</td>\n",
       "      <td>NaN</td>\n",
       "      <td>NaN</td>\n",
       "      <td>20.0</td>\n",
       "      <td>21.0</td>\n",
       "      <td>Санкт-Петербург</td>\n",
       "      <td>smart</td>\n",
       "      <td>50</td>\n",
       "      <td>15.0</td>\n",
       "      <td>500</td>\n",
       "      <td>550</td>\n",
       "      <td>200</td>\n",
       "      <td>3</td>\n",
       "      <td>3</td>\n",
       "    </tr>\n",
       "    <tr>\n",
       "      <th>3212</th>\n",
       "      <td>1489</td>\n",
       "      <td>11</td>\n",
       "      <td>NaN</td>\n",
       "      <td>NaN</td>\n",
       "      <td>18.0</td>\n",
       "      <td>20.0</td>\n",
       "      <td>Санкт-Петербург</td>\n",
       "      <td>smart</td>\n",
       "      <td>50</td>\n",
       "      <td>15.0</td>\n",
       "      <td>500</td>\n",
       "      <td>550</td>\n",
       "      <td>200</td>\n",
       "      <td>3</td>\n",
       "      <td>3</td>\n",
       "    </tr>\n",
       "    <tr>\n",
       "      <th>3213</th>\n",
       "      <td>1489</td>\n",
       "      <td>12</td>\n",
       "      <td>NaN</td>\n",
       "      <td>NaN</td>\n",
       "      <td>17.0</td>\n",
       "      <td>35.0</td>\n",
       "      <td>Санкт-Петербург</td>\n",
       "      <td>smart</td>\n",
       "      <td>50</td>\n",
       "      <td>15.0</td>\n",
       "      <td>500</td>\n",
       "      <td>550</td>\n",
       "      <td>200</td>\n",
       "      <td>3</td>\n",
       "      <td>3</td>\n",
       "    </tr>\n",
       "  </tbody>\n",
       "</table>\n",
       "<p>3214 rows × 15 columns</p>\n",
       "</div>"
      ],
      "text/plain": [
       "      user_id  month  calls_amount  min_used  gb_used  mes_per_month  \\\n",
       "0        1000      5          22.0     159.0      3.0           22.0   \n",
       "1        1000      6          43.0     172.0     23.0           60.0   \n",
       "2        1000      7          47.0     340.0     14.0           75.0   \n",
       "3        1000      8          52.0     408.0     14.0           81.0   \n",
       "4        1000      9          58.0     466.0     15.0           57.0   \n",
       "...       ...    ...           ...       ...      ...            ...   \n",
       "3209     1489      8           NaN       NaN     11.0           17.0   \n",
       "3210     1489      9           NaN       NaN     17.0           32.0   \n",
       "3211     1489     10           NaN       NaN     20.0           21.0   \n",
       "3212     1489     11           NaN       NaN     18.0           20.0   \n",
       "3213     1489     12           NaN       NaN     17.0           35.0   \n",
       "\n",
       "                 city tariff_name  messages_included  gb_per_month_included  \\\n",
       "0           Краснодар       ultra               1000                   30.0   \n",
       "1           Краснодар       ultra               1000                   30.0   \n",
       "2           Краснодар       ultra               1000                   30.0   \n",
       "3           Краснодар       ultra               1000                   30.0   \n",
       "4           Краснодар       ultra               1000                   30.0   \n",
       "...               ...         ...                ...                    ...   \n",
       "3209  Санкт-Петербург       smart                 50                   15.0   \n",
       "3210  Санкт-Петербург       smart                 50                   15.0   \n",
       "3211  Санкт-Петербург       smart                 50                   15.0   \n",
       "3212  Санкт-Петербург       smart                 50                   15.0   \n",
       "3213  Санкт-Петербург       smart                 50                   15.0   \n",
       "\n",
       "      minutes_included  rub_monthly_fee  rub_per_gb  rub_per_message  \\\n",
       "0                 3000             1950         150                1   \n",
       "1                 3000             1950         150                1   \n",
       "2                 3000             1950         150                1   \n",
       "3                 3000             1950         150                1   \n",
       "4                 3000             1950         150                1   \n",
       "...                ...              ...         ...              ...   \n",
       "3209               500              550         200                3   \n",
       "3210               500              550         200                3   \n",
       "3211               500              550         200                3   \n",
       "3212               500              550         200                3   \n",
       "3213               500              550         200                3   \n",
       "\n",
       "      rub_per_minute  \n",
       "0                  1  \n",
       "1                  1  \n",
       "2                  1  \n",
       "3                  1  \n",
       "4                  1  \n",
       "...              ...  \n",
       "3209               3  \n",
       "3210               3  \n",
       "3211               3  \n",
       "3212               3  \n",
       "3213               3  \n",
       "\n",
       "[3214 rows x 15 columns]"
      ]
     },
     "execution_count": 114,
     "metadata": {},
     "output_type": "execute_result"
    }
   ],
   "source": [
    "total_revenue = user_activity.merge(user_tariff_df, on='user_id', how='left')\n",
    "total_revenue"
   ]
  },
  {
   "cell_type": "markdown",
   "metadata": {},
   "source": [
    "#### Determine the monthly revenue from each user:"
   ]
  },
  {
   "cell_type": "markdown",
   "metadata": {},
   "source": [
    "Since the operator's revenue per customer is formed based on the subscription fee (which we know) and additional payment for exceeding the amount of use of minutes, gigabytes or messages included in the tariff, we need to determine the amount of such excess."
   ]
  },
  {
   "cell_type": "code",
   "execution_count": 115,
   "metadata": {},
   "outputs": [
    {
     "data": {
      "text/html": [
       "<div>\n",
       "<style scoped>\n",
       "    .dataframe tbody tr th:only-of-type {\n",
       "        vertical-align: middle;\n",
       "    }\n",
       "\n",
       "    .dataframe tbody tr th {\n",
       "        vertical-align: top;\n",
       "    }\n",
       "\n",
       "    .dataframe thead th {\n",
       "        text-align: right;\n",
       "    }\n",
       "</style>\n",
       "<table border=\"1\" class=\"dataframe\">\n",
       "  <thead>\n",
       "    <tr style=\"text-align: right;\">\n",
       "      <th></th>\n",
       "      <th>user_id</th>\n",
       "      <th>month</th>\n",
       "      <th>calls_amount</th>\n",
       "      <th>min_used</th>\n",
       "      <th>gb_used</th>\n",
       "      <th>mes_per_month</th>\n",
       "      <th>city</th>\n",
       "      <th>tariff_name</th>\n",
       "      <th>messages_included</th>\n",
       "      <th>gb_per_month_included</th>\n",
       "      <th>minutes_included</th>\n",
       "      <th>rub_monthly_fee</th>\n",
       "      <th>rub_per_gb</th>\n",
       "      <th>rub_per_message</th>\n",
       "      <th>rub_per_minute</th>\n",
       "      <th>extra_min</th>\n",
       "      <th>extra_gb</th>\n",
       "      <th>extra_mes</th>\n",
       "    </tr>\n",
       "  </thead>\n",
       "  <tbody>\n",
       "    <tr>\n",
       "      <th>0</th>\n",
       "      <td>1000</td>\n",
       "      <td>5</td>\n",
       "      <td>22.0</td>\n",
       "      <td>159.0</td>\n",
       "      <td>3.0</td>\n",
       "      <td>22.0</td>\n",
       "      <td>Краснодар</td>\n",
       "      <td>ultra</td>\n",
       "      <td>1000</td>\n",
       "      <td>30.0</td>\n",
       "      <td>3000</td>\n",
       "      <td>1950</td>\n",
       "      <td>150</td>\n",
       "      <td>1</td>\n",
       "      <td>1</td>\n",
       "      <td>0.0</td>\n",
       "      <td>0.0</td>\n",
       "      <td>0.0</td>\n",
       "    </tr>\n",
       "    <tr>\n",
       "      <th>1</th>\n",
       "      <td>1000</td>\n",
       "      <td>6</td>\n",
       "      <td>43.0</td>\n",
       "      <td>172.0</td>\n",
       "      <td>23.0</td>\n",
       "      <td>60.0</td>\n",
       "      <td>Краснодар</td>\n",
       "      <td>ultra</td>\n",
       "      <td>1000</td>\n",
       "      <td>30.0</td>\n",
       "      <td>3000</td>\n",
       "      <td>1950</td>\n",
       "      <td>150</td>\n",
       "      <td>1</td>\n",
       "      <td>1</td>\n",
       "      <td>0.0</td>\n",
       "      <td>0.0</td>\n",
       "      <td>0.0</td>\n",
       "    </tr>\n",
       "    <tr>\n",
       "      <th>2</th>\n",
       "      <td>1000</td>\n",
       "      <td>7</td>\n",
       "      <td>47.0</td>\n",
       "      <td>340.0</td>\n",
       "      <td>14.0</td>\n",
       "      <td>75.0</td>\n",
       "      <td>Краснодар</td>\n",
       "      <td>ultra</td>\n",
       "      <td>1000</td>\n",
       "      <td>30.0</td>\n",
       "      <td>3000</td>\n",
       "      <td>1950</td>\n",
       "      <td>150</td>\n",
       "      <td>1</td>\n",
       "      <td>1</td>\n",
       "      <td>0.0</td>\n",
       "      <td>0.0</td>\n",
       "      <td>0.0</td>\n",
       "    </tr>\n",
       "    <tr>\n",
       "      <th>3</th>\n",
       "      <td>1000</td>\n",
       "      <td>8</td>\n",
       "      <td>52.0</td>\n",
       "      <td>408.0</td>\n",
       "      <td>14.0</td>\n",
       "      <td>81.0</td>\n",
       "      <td>Краснодар</td>\n",
       "      <td>ultra</td>\n",
       "      <td>1000</td>\n",
       "      <td>30.0</td>\n",
       "      <td>3000</td>\n",
       "      <td>1950</td>\n",
       "      <td>150</td>\n",
       "      <td>1</td>\n",
       "      <td>1</td>\n",
       "      <td>0.0</td>\n",
       "      <td>0.0</td>\n",
       "      <td>0.0</td>\n",
       "    </tr>\n",
       "    <tr>\n",
       "      <th>4</th>\n",
       "      <td>1000</td>\n",
       "      <td>9</td>\n",
       "      <td>58.0</td>\n",
       "      <td>466.0</td>\n",
       "      <td>15.0</td>\n",
       "      <td>57.0</td>\n",
       "      <td>Краснодар</td>\n",
       "      <td>ultra</td>\n",
       "      <td>1000</td>\n",
       "      <td>30.0</td>\n",
       "      <td>3000</td>\n",
       "      <td>1950</td>\n",
       "      <td>150</td>\n",
       "      <td>1</td>\n",
       "      <td>1</td>\n",
       "      <td>0.0</td>\n",
       "      <td>0.0</td>\n",
       "      <td>0.0</td>\n",
       "    </tr>\n",
       "    <tr>\n",
       "      <th>...</th>\n",
       "      <td>...</td>\n",
       "      <td>...</td>\n",
       "      <td>...</td>\n",
       "      <td>...</td>\n",
       "      <td>...</td>\n",
       "      <td>...</td>\n",
       "      <td>...</td>\n",
       "      <td>...</td>\n",
       "      <td>...</td>\n",
       "      <td>...</td>\n",
       "      <td>...</td>\n",
       "      <td>...</td>\n",
       "      <td>...</td>\n",
       "      <td>...</td>\n",
       "      <td>...</td>\n",
       "      <td>...</td>\n",
       "      <td>...</td>\n",
       "      <td>...</td>\n",
       "    </tr>\n",
       "    <tr>\n",
       "      <th>3209</th>\n",
       "      <td>1489</td>\n",
       "      <td>8</td>\n",
       "      <td>NaN</td>\n",
       "      <td>NaN</td>\n",
       "      <td>11.0</td>\n",
       "      <td>17.0</td>\n",
       "      <td>Санкт-Петербург</td>\n",
       "      <td>smart</td>\n",
       "      <td>50</td>\n",
       "      <td>15.0</td>\n",
       "      <td>500</td>\n",
       "      <td>550</td>\n",
       "      <td>200</td>\n",
       "      <td>3</td>\n",
       "      <td>3</td>\n",
       "      <td>0.0</td>\n",
       "      <td>0.0</td>\n",
       "      <td>0.0</td>\n",
       "    </tr>\n",
       "    <tr>\n",
       "      <th>3210</th>\n",
       "      <td>1489</td>\n",
       "      <td>9</td>\n",
       "      <td>NaN</td>\n",
       "      <td>NaN</td>\n",
       "      <td>17.0</td>\n",
       "      <td>32.0</td>\n",
       "      <td>Санкт-Петербург</td>\n",
       "      <td>smart</td>\n",
       "      <td>50</td>\n",
       "      <td>15.0</td>\n",
       "      <td>500</td>\n",
       "      <td>550</td>\n",
       "      <td>200</td>\n",
       "      <td>3</td>\n",
       "      <td>3</td>\n",
       "      <td>0.0</td>\n",
       "      <td>2.0</td>\n",
       "      <td>0.0</td>\n",
       "    </tr>\n",
       "    <tr>\n",
       "      <th>3211</th>\n",
       "      <td>1489</td>\n",
       "      <td>10</td>\n",
       "      <td>NaN</td>\n",
       "      <td>NaN</td>\n",
       "      <td>20.0</td>\n",
       "      <td>21.0</td>\n",
       "      <td>Санкт-Петербург</td>\n",
       "      <td>smart</td>\n",
       "      <td>50</td>\n",
       "      <td>15.0</td>\n",
       "      <td>500</td>\n",
       "      <td>550</td>\n",
       "      <td>200</td>\n",
       "      <td>3</td>\n",
       "      <td>3</td>\n",
       "      <td>0.0</td>\n",
       "      <td>5.0</td>\n",
       "      <td>0.0</td>\n",
       "    </tr>\n",
       "    <tr>\n",
       "      <th>3212</th>\n",
       "      <td>1489</td>\n",
       "      <td>11</td>\n",
       "      <td>NaN</td>\n",
       "      <td>NaN</td>\n",
       "      <td>18.0</td>\n",
       "      <td>20.0</td>\n",
       "      <td>Санкт-Петербург</td>\n",
       "      <td>smart</td>\n",
       "      <td>50</td>\n",
       "      <td>15.0</td>\n",
       "      <td>500</td>\n",
       "      <td>550</td>\n",
       "      <td>200</td>\n",
       "      <td>3</td>\n",
       "      <td>3</td>\n",
       "      <td>0.0</td>\n",
       "      <td>3.0</td>\n",
       "      <td>0.0</td>\n",
       "    </tr>\n",
       "    <tr>\n",
       "      <th>3213</th>\n",
       "      <td>1489</td>\n",
       "      <td>12</td>\n",
       "      <td>NaN</td>\n",
       "      <td>NaN</td>\n",
       "      <td>17.0</td>\n",
       "      <td>35.0</td>\n",
       "      <td>Санкт-Петербург</td>\n",
       "      <td>smart</td>\n",
       "      <td>50</td>\n",
       "      <td>15.0</td>\n",
       "      <td>500</td>\n",
       "      <td>550</td>\n",
       "      <td>200</td>\n",
       "      <td>3</td>\n",
       "      <td>3</td>\n",
       "      <td>0.0</td>\n",
       "      <td>2.0</td>\n",
       "      <td>0.0</td>\n",
       "    </tr>\n",
       "  </tbody>\n",
       "</table>\n",
       "<p>3214 rows × 18 columns</p>\n",
       "</div>"
      ],
      "text/plain": [
       "      user_id  month  calls_amount  min_used  gb_used  mes_per_month  \\\n",
       "0        1000      5          22.0     159.0      3.0           22.0   \n",
       "1        1000      6          43.0     172.0     23.0           60.0   \n",
       "2        1000      7          47.0     340.0     14.0           75.0   \n",
       "3        1000      8          52.0     408.0     14.0           81.0   \n",
       "4        1000      9          58.0     466.0     15.0           57.0   \n",
       "...       ...    ...           ...       ...      ...            ...   \n",
       "3209     1489      8           NaN       NaN     11.0           17.0   \n",
       "3210     1489      9           NaN       NaN     17.0           32.0   \n",
       "3211     1489     10           NaN       NaN     20.0           21.0   \n",
       "3212     1489     11           NaN       NaN     18.0           20.0   \n",
       "3213     1489     12           NaN       NaN     17.0           35.0   \n",
       "\n",
       "                 city tariff_name  messages_included  gb_per_month_included  \\\n",
       "0           Краснодар       ultra               1000                   30.0   \n",
       "1           Краснодар       ultra               1000                   30.0   \n",
       "2           Краснодар       ultra               1000                   30.0   \n",
       "3           Краснодар       ultra               1000                   30.0   \n",
       "4           Краснодар       ultra               1000                   30.0   \n",
       "...               ...         ...                ...                    ...   \n",
       "3209  Санкт-Петербург       smart                 50                   15.0   \n",
       "3210  Санкт-Петербург       smart                 50                   15.0   \n",
       "3211  Санкт-Петербург       smart                 50                   15.0   \n",
       "3212  Санкт-Петербург       smart                 50                   15.0   \n",
       "3213  Санкт-Петербург       smart                 50                   15.0   \n",
       "\n",
       "      minutes_included  rub_monthly_fee  rub_per_gb  rub_per_message  \\\n",
       "0                 3000             1950         150                1   \n",
       "1                 3000             1950         150                1   \n",
       "2                 3000             1950         150                1   \n",
       "3                 3000             1950         150                1   \n",
       "4                 3000             1950         150                1   \n",
       "...                ...              ...         ...              ...   \n",
       "3209               500              550         200                3   \n",
       "3210               500              550         200                3   \n",
       "3211               500              550         200                3   \n",
       "3212               500              550         200                3   \n",
       "3213               500              550         200                3   \n",
       "\n",
       "      rub_per_minute  extra_min  extra_gb  extra_mes  \n",
       "0                  1        0.0       0.0        0.0  \n",
       "1                  1        0.0       0.0        0.0  \n",
       "2                  1        0.0       0.0        0.0  \n",
       "3                  1        0.0       0.0        0.0  \n",
       "4                  1        0.0       0.0        0.0  \n",
       "...              ...        ...       ...        ...  \n",
       "3209               3        0.0       0.0        0.0  \n",
       "3210               3        0.0       2.0        0.0  \n",
       "3211               3        0.0       5.0        0.0  \n",
       "3212               3        0.0       3.0        0.0  \n",
       "3213               3        0.0       2.0        0.0  \n",
       "\n",
       "[3214 rows x 18 columns]"
      ]
     },
     "execution_count": 115,
     "metadata": {},
     "output_type": "execute_result"
    }
   ],
   "source": [
    "def count_extra_min(row):\n",
    "    if row['min_used'] - row['minutes_included'] <= 0:\n",
    "        return 0\n",
    "    elif row['min_used'] - row['minutes_included'] > 0:\n",
    "        return row['min_used'] - row['minutes_included']\n",
    "\n",
    "total_revenue['extra_min'] = total_revenue.apply(count_extra_min, axis = 1)\n",
    "total_revenue['extra_min'].unique()\n",
    "total_revenue['extra_min'] = total_revenue['extra_min'].fillna(0)\n",
    "total_revenue['extra_min'].unique()\n",
    "\n",
    "def count_extra_gb(row):\n",
    "    if row['gb_used'] - row['gb_per_month_included'] <= 0:\n",
    "        return 0\n",
    "    elif row['gb_used'] - row['gb_per_month_included'] > 0:\n",
    "        return row['gb_used'] - row['gb_per_month_included']\n",
    "\n",
    "total_revenue['extra_gb'] = total_revenue.apply(count_extra_gb, axis = 1)\n",
    "total_revenue['extra_gb'].unique()\n",
    "total_revenue['extra_gb'] = total_revenue['extra_gb'].fillna(0)\n",
    "total_revenue['extra_gb'].unique()\n",
    "\n",
    "def count_extra_mes(row):\n",
    "    if row['mes_per_month'] - row['messages_included'] <= 0:\n",
    "        return 0\n",
    "    elif row['mes_per_month'] - row['messages_included'] > 0:\n",
    "        return row['mes_per_month'] - row['messages_included']\n",
    "\n",
    "total_revenue['extra_mes'] = total_revenue.apply(count_extra_mes, axis = 1)\n",
    "total_revenue\n",
    "total_revenue['extra_mes'].unique()\n",
    "total_revenue['extra_mes'] = total_revenue['extra_mes'].fillna(0)\n",
    "total_revenue['extra_mes'].unique()\n",
    "total_revenue"
   ]
  },
  {
   "cell_type": "markdown",
   "metadata": {},
   "source": [
    "Determine the revenue from each customer of the tariff for the company:"
   ]
  },
  {
   "cell_type": "code",
   "execution_count": 116,
   "metadata": {
    "scrolled": true
   },
   "outputs": [
    {
     "data": {
      "text/html": [
       "<div>\n",
       "<style scoped>\n",
       "    .dataframe tbody tr th:only-of-type {\n",
       "        vertical-align: middle;\n",
       "    }\n",
       "\n",
       "    .dataframe tbody tr th {\n",
       "        vertical-align: top;\n",
       "    }\n",
       "\n",
       "    .dataframe thead th {\n",
       "        text-align: right;\n",
       "    }\n",
       "</style>\n",
       "<table border=\"1\" class=\"dataframe\">\n",
       "  <thead>\n",
       "    <tr style=\"text-align: right;\">\n",
       "      <th></th>\n",
       "      <th>user_id</th>\n",
       "      <th>month</th>\n",
       "      <th>calls_amount</th>\n",
       "      <th>min_used</th>\n",
       "      <th>gb_used</th>\n",
       "      <th>mes_per_month</th>\n",
       "      <th>city</th>\n",
       "      <th>tariff_name</th>\n",
       "      <th>messages_included</th>\n",
       "      <th>gb_per_month_included</th>\n",
       "      <th>minutes_included</th>\n",
       "      <th>rub_monthly_fee</th>\n",
       "      <th>rub_per_gb</th>\n",
       "      <th>rub_per_message</th>\n",
       "      <th>rub_per_minute</th>\n",
       "      <th>extra_min</th>\n",
       "      <th>extra_gb</th>\n",
       "      <th>extra_mes</th>\n",
       "      <th>revenue_from_user</th>\n",
       "    </tr>\n",
       "  </thead>\n",
       "  <tbody>\n",
       "    <tr>\n",
       "      <th>0</th>\n",
       "      <td>1000</td>\n",
       "      <td>5</td>\n",
       "      <td>22.0</td>\n",
       "      <td>159.0</td>\n",
       "      <td>3.0</td>\n",
       "      <td>22.0</td>\n",
       "      <td>Краснодар</td>\n",
       "      <td>ultra</td>\n",
       "      <td>1000</td>\n",
       "      <td>30.0</td>\n",
       "      <td>3000</td>\n",
       "      <td>1950</td>\n",
       "      <td>150</td>\n",
       "      <td>1</td>\n",
       "      <td>1</td>\n",
       "      <td>0.0</td>\n",
       "      <td>0.0</td>\n",
       "      <td>0.0</td>\n",
       "      <td>1950.0</td>\n",
       "    </tr>\n",
       "    <tr>\n",
       "      <th>1</th>\n",
       "      <td>1000</td>\n",
       "      <td>6</td>\n",
       "      <td>43.0</td>\n",
       "      <td>172.0</td>\n",
       "      <td>23.0</td>\n",
       "      <td>60.0</td>\n",
       "      <td>Краснодар</td>\n",
       "      <td>ultra</td>\n",
       "      <td>1000</td>\n",
       "      <td>30.0</td>\n",
       "      <td>3000</td>\n",
       "      <td>1950</td>\n",
       "      <td>150</td>\n",
       "      <td>1</td>\n",
       "      <td>1</td>\n",
       "      <td>0.0</td>\n",
       "      <td>0.0</td>\n",
       "      <td>0.0</td>\n",
       "      <td>1950.0</td>\n",
       "    </tr>\n",
       "    <tr>\n",
       "      <th>2</th>\n",
       "      <td>1000</td>\n",
       "      <td>7</td>\n",
       "      <td>47.0</td>\n",
       "      <td>340.0</td>\n",
       "      <td>14.0</td>\n",
       "      <td>75.0</td>\n",
       "      <td>Краснодар</td>\n",
       "      <td>ultra</td>\n",
       "      <td>1000</td>\n",
       "      <td>30.0</td>\n",
       "      <td>3000</td>\n",
       "      <td>1950</td>\n",
       "      <td>150</td>\n",
       "      <td>1</td>\n",
       "      <td>1</td>\n",
       "      <td>0.0</td>\n",
       "      <td>0.0</td>\n",
       "      <td>0.0</td>\n",
       "      <td>1950.0</td>\n",
       "    </tr>\n",
       "    <tr>\n",
       "      <th>3</th>\n",
       "      <td>1000</td>\n",
       "      <td>8</td>\n",
       "      <td>52.0</td>\n",
       "      <td>408.0</td>\n",
       "      <td>14.0</td>\n",
       "      <td>81.0</td>\n",
       "      <td>Краснодар</td>\n",
       "      <td>ultra</td>\n",
       "      <td>1000</td>\n",
       "      <td>30.0</td>\n",
       "      <td>3000</td>\n",
       "      <td>1950</td>\n",
       "      <td>150</td>\n",
       "      <td>1</td>\n",
       "      <td>1</td>\n",
       "      <td>0.0</td>\n",
       "      <td>0.0</td>\n",
       "      <td>0.0</td>\n",
       "      <td>1950.0</td>\n",
       "    </tr>\n",
       "    <tr>\n",
       "      <th>4</th>\n",
       "      <td>1000</td>\n",
       "      <td>9</td>\n",
       "      <td>58.0</td>\n",
       "      <td>466.0</td>\n",
       "      <td>15.0</td>\n",
       "      <td>57.0</td>\n",
       "      <td>Краснодар</td>\n",
       "      <td>ultra</td>\n",
       "      <td>1000</td>\n",
       "      <td>30.0</td>\n",
       "      <td>3000</td>\n",
       "      <td>1950</td>\n",
       "      <td>150</td>\n",
       "      <td>1</td>\n",
       "      <td>1</td>\n",
       "      <td>0.0</td>\n",
       "      <td>0.0</td>\n",
       "      <td>0.0</td>\n",
       "      <td>1950.0</td>\n",
       "    </tr>\n",
       "    <tr>\n",
       "      <th>...</th>\n",
       "      <td>...</td>\n",
       "      <td>...</td>\n",
       "      <td>...</td>\n",
       "      <td>...</td>\n",
       "      <td>...</td>\n",
       "      <td>...</td>\n",
       "      <td>...</td>\n",
       "      <td>...</td>\n",
       "      <td>...</td>\n",
       "      <td>...</td>\n",
       "      <td>...</td>\n",
       "      <td>...</td>\n",
       "      <td>...</td>\n",
       "      <td>...</td>\n",
       "      <td>...</td>\n",
       "      <td>...</td>\n",
       "      <td>...</td>\n",
       "      <td>...</td>\n",
       "      <td>...</td>\n",
       "    </tr>\n",
       "    <tr>\n",
       "      <th>3209</th>\n",
       "      <td>1489</td>\n",
       "      <td>8</td>\n",
       "      <td>NaN</td>\n",
       "      <td>NaN</td>\n",
       "      <td>11.0</td>\n",
       "      <td>17.0</td>\n",
       "      <td>Санкт-Петербург</td>\n",
       "      <td>smart</td>\n",
       "      <td>50</td>\n",
       "      <td>15.0</td>\n",
       "      <td>500</td>\n",
       "      <td>550</td>\n",
       "      <td>200</td>\n",
       "      <td>3</td>\n",
       "      <td>3</td>\n",
       "      <td>0.0</td>\n",
       "      <td>0.0</td>\n",
       "      <td>0.0</td>\n",
       "      <td>550.0</td>\n",
       "    </tr>\n",
       "    <tr>\n",
       "      <th>3210</th>\n",
       "      <td>1489</td>\n",
       "      <td>9</td>\n",
       "      <td>NaN</td>\n",
       "      <td>NaN</td>\n",
       "      <td>17.0</td>\n",
       "      <td>32.0</td>\n",
       "      <td>Санкт-Петербург</td>\n",
       "      <td>smart</td>\n",
       "      <td>50</td>\n",
       "      <td>15.0</td>\n",
       "      <td>500</td>\n",
       "      <td>550</td>\n",
       "      <td>200</td>\n",
       "      <td>3</td>\n",
       "      <td>3</td>\n",
       "      <td>0.0</td>\n",
       "      <td>2.0</td>\n",
       "      <td>0.0</td>\n",
       "      <td>950.0</td>\n",
       "    </tr>\n",
       "    <tr>\n",
       "      <th>3211</th>\n",
       "      <td>1489</td>\n",
       "      <td>10</td>\n",
       "      <td>NaN</td>\n",
       "      <td>NaN</td>\n",
       "      <td>20.0</td>\n",
       "      <td>21.0</td>\n",
       "      <td>Санкт-Петербург</td>\n",
       "      <td>smart</td>\n",
       "      <td>50</td>\n",
       "      <td>15.0</td>\n",
       "      <td>500</td>\n",
       "      <td>550</td>\n",
       "      <td>200</td>\n",
       "      <td>3</td>\n",
       "      <td>3</td>\n",
       "      <td>0.0</td>\n",
       "      <td>5.0</td>\n",
       "      <td>0.0</td>\n",
       "      <td>1550.0</td>\n",
       "    </tr>\n",
       "    <tr>\n",
       "      <th>3212</th>\n",
       "      <td>1489</td>\n",
       "      <td>11</td>\n",
       "      <td>NaN</td>\n",
       "      <td>NaN</td>\n",
       "      <td>18.0</td>\n",
       "      <td>20.0</td>\n",
       "      <td>Санкт-Петербург</td>\n",
       "      <td>smart</td>\n",
       "      <td>50</td>\n",
       "      <td>15.0</td>\n",
       "      <td>500</td>\n",
       "      <td>550</td>\n",
       "      <td>200</td>\n",
       "      <td>3</td>\n",
       "      <td>3</td>\n",
       "      <td>0.0</td>\n",
       "      <td>3.0</td>\n",
       "      <td>0.0</td>\n",
       "      <td>1150.0</td>\n",
       "    </tr>\n",
       "    <tr>\n",
       "      <th>3213</th>\n",
       "      <td>1489</td>\n",
       "      <td>12</td>\n",
       "      <td>NaN</td>\n",
       "      <td>NaN</td>\n",
       "      <td>17.0</td>\n",
       "      <td>35.0</td>\n",
       "      <td>Санкт-Петербург</td>\n",
       "      <td>smart</td>\n",
       "      <td>50</td>\n",
       "      <td>15.0</td>\n",
       "      <td>500</td>\n",
       "      <td>550</td>\n",
       "      <td>200</td>\n",
       "      <td>3</td>\n",
       "      <td>3</td>\n",
       "      <td>0.0</td>\n",
       "      <td>2.0</td>\n",
       "      <td>0.0</td>\n",
       "      <td>950.0</td>\n",
       "    </tr>\n",
       "  </tbody>\n",
       "</table>\n",
       "<p>3214 rows × 19 columns</p>\n",
       "</div>"
      ],
      "text/plain": [
       "      user_id  month  calls_amount  min_used  gb_used  mes_per_month  \\\n",
       "0        1000      5          22.0     159.0      3.0           22.0   \n",
       "1        1000      6          43.0     172.0     23.0           60.0   \n",
       "2        1000      7          47.0     340.0     14.0           75.0   \n",
       "3        1000      8          52.0     408.0     14.0           81.0   \n",
       "4        1000      9          58.0     466.0     15.0           57.0   \n",
       "...       ...    ...           ...       ...      ...            ...   \n",
       "3209     1489      8           NaN       NaN     11.0           17.0   \n",
       "3210     1489      9           NaN       NaN     17.0           32.0   \n",
       "3211     1489     10           NaN       NaN     20.0           21.0   \n",
       "3212     1489     11           NaN       NaN     18.0           20.0   \n",
       "3213     1489     12           NaN       NaN     17.0           35.0   \n",
       "\n",
       "                 city tariff_name  messages_included  gb_per_month_included  \\\n",
       "0           Краснодар       ultra               1000                   30.0   \n",
       "1           Краснодар       ultra               1000                   30.0   \n",
       "2           Краснодар       ultra               1000                   30.0   \n",
       "3           Краснодар       ultra               1000                   30.0   \n",
       "4           Краснодар       ultra               1000                   30.0   \n",
       "...               ...         ...                ...                    ...   \n",
       "3209  Санкт-Петербург       smart                 50                   15.0   \n",
       "3210  Санкт-Петербург       smart                 50                   15.0   \n",
       "3211  Санкт-Петербург       smart                 50                   15.0   \n",
       "3212  Санкт-Петербург       smart                 50                   15.0   \n",
       "3213  Санкт-Петербург       smart                 50                   15.0   \n",
       "\n",
       "      minutes_included  rub_monthly_fee  rub_per_gb  rub_per_message  \\\n",
       "0                 3000             1950         150                1   \n",
       "1                 3000             1950         150                1   \n",
       "2                 3000             1950         150                1   \n",
       "3                 3000             1950         150                1   \n",
       "4                 3000             1950         150                1   \n",
       "...                ...              ...         ...              ...   \n",
       "3209               500              550         200                3   \n",
       "3210               500              550         200                3   \n",
       "3211               500              550         200                3   \n",
       "3212               500              550         200                3   \n",
       "3213               500              550         200                3   \n",
       "\n",
       "      rub_per_minute  extra_min  extra_gb  extra_mes  revenue_from_user  \n",
       "0                  1        0.0       0.0        0.0             1950.0  \n",
       "1                  1        0.0       0.0        0.0             1950.0  \n",
       "2                  1        0.0       0.0        0.0             1950.0  \n",
       "3                  1        0.0       0.0        0.0             1950.0  \n",
       "4                  1        0.0       0.0        0.0             1950.0  \n",
       "...              ...        ...       ...        ...                ...  \n",
       "3209               3        0.0       0.0        0.0              550.0  \n",
       "3210               3        0.0       2.0        0.0              950.0  \n",
       "3211               3        0.0       5.0        0.0             1550.0  \n",
       "3212               3        0.0       3.0        0.0             1150.0  \n",
       "3213               3        0.0       2.0        0.0              950.0  \n",
       "\n",
       "[3214 rows x 19 columns]"
      ]
     },
     "execution_count": 116,
     "metadata": {},
     "output_type": "execute_result"
    }
   ],
   "source": [
    "total_revenue['revenue_from_user'] = total_revenue['extra_min'] * total_revenue['rub_per_minute'] + total_revenue['extra_gb'] * total_revenue['rub_per_gb'] + total_revenue['extra_mes'] * total_revenue['rub_per_message'] + total_revenue['rub_monthly_fee']\n",
    "total_revenue"
   ]
  },
  {
   "cell_type": "code",
   "execution_count": 117,
   "metadata": {
    "scrolled": true
   },
   "outputs": [
    {
     "name": "stdout",
     "output_type": "stream",
     "text": [
      "<class 'pandas.core.frame.DataFrame'>\n",
      "Int64Index: 3214 entries, 0 to 3213\n",
      "Data columns (total 19 columns):\n",
      " #   Column                 Non-Null Count  Dtype  \n",
      "---  ------                 --------------  -----  \n",
      " 0   user_id                3214 non-null   int64  \n",
      " 1   month                  3214 non-null   int64  \n",
      " 2   calls_amount           3174 non-null   float64\n",
      " 3   min_used               3174 non-null   float64\n",
      " 4   gb_used                3203 non-null   float64\n",
      " 5   mes_per_month          2717 non-null   float64\n",
      " 6   city                   3214 non-null   object \n",
      " 7   tariff_name            3214 non-null   object \n",
      " 8   messages_included      3214 non-null   int64  \n",
      " 9   gb_per_month_included  3214 non-null   float64\n",
      " 10  minutes_included       3214 non-null   int64  \n",
      " 11  rub_monthly_fee        3214 non-null   int64  \n",
      " 12  rub_per_gb             3214 non-null   int64  \n",
      " 13  rub_per_message        3214 non-null   int64  \n",
      " 14  rub_per_minute         3214 non-null   int64  \n",
      " 15  extra_min              3214 non-null   float64\n",
      " 16  extra_gb               3214 non-null   float64\n",
      " 17  extra_mes              3214 non-null   float64\n",
      " 18  revenue_from_user      3214 non-null   float64\n",
      "dtypes: float64(9), int64(8), object(2)\n",
      "memory usage: 502.2+ KB\n"
     ]
    }
   ],
   "source": [
    "total_revenue.info()"
   ]
  },
  {
   "cell_type": "markdown",
   "metadata": {},
   "source": [
    "To investigate the behavior of customers in terms of their use of the operator's services we need to prepare a dataset for this:"
   ]
  },
  {
   "cell_type": "code",
   "execution_count": 118,
   "metadata": {
    "scrolled": true
   },
   "outputs": [
    {
     "data": {
      "text/html": [
       "<div>\n",
       "<style scoped>\n",
       "    .dataframe tbody tr th:only-of-type {\n",
       "        vertical-align: middle;\n",
       "    }\n",
       "\n",
       "    .dataframe tbody tr th {\n",
       "        vertical-align: top;\n",
       "    }\n",
       "\n",
       "    .dataframe thead th {\n",
       "        text-align: right;\n",
       "    }\n",
       "</style>\n",
       "<table border=\"1\" class=\"dataframe\">\n",
       "  <thead>\n",
       "    <tr style=\"text-align: right;\">\n",
       "      <th></th>\n",
       "      <th>user_id</th>\n",
       "      <th>city</th>\n",
       "      <th>tariff_name</th>\n",
       "      <th>month</th>\n",
       "      <th>calls_amount</th>\n",
       "      <th>min_used</th>\n",
       "      <th>gb_used</th>\n",
       "      <th>mes_per_month</th>\n",
       "      <th>revenue_from_user</th>\n",
       "    </tr>\n",
       "  </thead>\n",
       "  <tbody>\n",
       "    <tr>\n",
       "      <th>0</th>\n",
       "      <td>1000</td>\n",
       "      <td>Краснодар</td>\n",
       "      <td>ultra</td>\n",
       "      <td>5</td>\n",
       "      <td>22.0</td>\n",
       "      <td>159.0</td>\n",
       "      <td>3.0</td>\n",
       "      <td>22.0</td>\n",
       "      <td>1950.0</td>\n",
       "    </tr>\n",
       "    <tr>\n",
       "      <th>1</th>\n",
       "      <td>1000</td>\n",
       "      <td>Краснодар</td>\n",
       "      <td>ultra</td>\n",
       "      <td>6</td>\n",
       "      <td>43.0</td>\n",
       "      <td>172.0</td>\n",
       "      <td>23.0</td>\n",
       "      <td>60.0</td>\n",
       "      <td>1950.0</td>\n",
       "    </tr>\n",
       "    <tr>\n",
       "      <th>2</th>\n",
       "      <td>1000</td>\n",
       "      <td>Краснодар</td>\n",
       "      <td>ultra</td>\n",
       "      <td>7</td>\n",
       "      <td>47.0</td>\n",
       "      <td>340.0</td>\n",
       "      <td>14.0</td>\n",
       "      <td>75.0</td>\n",
       "      <td>1950.0</td>\n",
       "    </tr>\n",
       "    <tr>\n",
       "      <th>3</th>\n",
       "      <td>1000</td>\n",
       "      <td>Краснодар</td>\n",
       "      <td>ultra</td>\n",
       "      <td>8</td>\n",
       "      <td>52.0</td>\n",
       "      <td>408.0</td>\n",
       "      <td>14.0</td>\n",
       "      <td>81.0</td>\n",
       "      <td>1950.0</td>\n",
       "    </tr>\n",
       "    <tr>\n",
       "      <th>4</th>\n",
       "      <td>1000</td>\n",
       "      <td>Краснодар</td>\n",
       "      <td>ultra</td>\n",
       "      <td>9</td>\n",
       "      <td>58.0</td>\n",
       "      <td>466.0</td>\n",
       "      <td>15.0</td>\n",
       "      <td>57.0</td>\n",
       "      <td>1950.0</td>\n",
       "    </tr>\n",
       "    <tr>\n",
       "      <th>...</th>\n",
       "      <td>...</td>\n",
       "      <td>...</td>\n",
       "      <td>...</td>\n",
       "      <td>...</td>\n",
       "      <td>...</td>\n",
       "      <td>...</td>\n",
       "      <td>...</td>\n",
       "      <td>...</td>\n",
       "      <td>...</td>\n",
       "    </tr>\n",
       "    <tr>\n",
       "      <th>3209</th>\n",
       "      <td>1489</td>\n",
       "      <td>Санкт-Петербург</td>\n",
       "      <td>smart</td>\n",
       "      <td>8</td>\n",
       "      <td>NaN</td>\n",
       "      <td>NaN</td>\n",
       "      <td>11.0</td>\n",
       "      <td>17.0</td>\n",
       "      <td>550.0</td>\n",
       "    </tr>\n",
       "    <tr>\n",
       "      <th>3210</th>\n",
       "      <td>1489</td>\n",
       "      <td>Санкт-Петербург</td>\n",
       "      <td>smart</td>\n",
       "      <td>9</td>\n",
       "      <td>NaN</td>\n",
       "      <td>NaN</td>\n",
       "      <td>17.0</td>\n",
       "      <td>32.0</td>\n",
       "      <td>950.0</td>\n",
       "    </tr>\n",
       "    <tr>\n",
       "      <th>3211</th>\n",
       "      <td>1489</td>\n",
       "      <td>Санкт-Петербург</td>\n",
       "      <td>smart</td>\n",
       "      <td>10</td>\n",
       "      <td>NaN</td>\n",
       "      <td>NaN</td>\n",
       "      <td>20.0</td>\n",
       "      <td>21.0</td>\n",
       "      <td>1550.0</td>\n",
       "    </tr>\n",
       "    <tr>\n",
       "      <th>3212</th>\n",
       "      <td>1489</td>\n",
       "      <td>Санкт-Петербург</td>\n",
       "      <td>smart</td>\n",
       "      <td>11</td>\n",
       "      <td>NaN</td>\n",
       "      <td>NaN</td>\n",
       "      <td>18.0</td>\n",
       "      <td>20.0</td>\n",
       "      <td>1150.0</td>\n",
       "    </tr>\n",
       "    <tr>\n",
       "      <th>3213</th>\n",
       "      <td>1489</td>\n",
       "      <td>Санкт-Петербург</td>\n",
       "      <td>smart</td>\n",
       "      <td>12</td>\n",
       "      <td>NaN</td>\n",
       "      <td>NaN</td>\n",
       "      <td>17.0</td>\n",
       "      <td>35.0</td>\n",
       "      <td>950.0</td>\n",
       "    </tr>\n",
       "  </tbody>\n",
       "</table>\n",
       "<p>3214 rows × 9 columns</p>\n",
       "</div>"
      ],
      "text/plain": [
       "      user_id             city tariff_name  month  calls_amount  min_used  \\\n",
       "0        1000        Краснодар       ultra      5          22.0     159.0   \n",
       "1        1000        Краснодар       ultra      6          43.0     172.0   \n",
       "2        1000        Краснодар       ultra      7          47.0     340.0   \n",
       "3        1000        Краснодар       ultra      8          52.0     408.0   \n",
       "4        1000        Краснодар       ultra      9          58.0     466.0   \n",
       "...       ...              ...         ...    ...           ...       ...   \n",
       "3209     1489  Санкт-Петербург       smart      8           NaN       NaN   \n",
       "3210     1489  Санкт-Петербург       smart      9           NaN       NaN   \n",
       "3211     1489  Санкт-Петербург       smart     10           NaN       NaN   \n",
       "3212     1489  Санкт-Петербург       smart     11           NaN       NaN   \n",
       "3213     1489  Санкт-Петербург       smart     12           NaN       NaN   \n",
       "\n",
       "      gb_used  mes_per_month  revenue_from_user  \n",
       "0         3.0           22.0             1950.0  \n",
       "1        23.0           60.0             1950.0  \n",
       "2        14.0           75.0             1950.0  \n",
       "3        14.0           81.0             1950.0  \n",
       "4        15.0           57.0             1950.0  \n",
       "...       ...            ...                ...  \n",
       "3209     11.0           17.0              550.0  \n",
       "3210     17.0           32.0              950.0  \n",
       "3211     20.0           21.0             1550.0  \n",
       "3212     18.0           20.0             1150.0  \n",
       "3213     17.0           35.0              950.0  \n",
       "\n",
       "[3214 rows x 9 columns]"
      ]
     },
     "execution_count": 118,
     "metadata": {},
     "output_type": "execute_result"
    }
   ],
   "source": [
    "user_expereance_df = total_revenue[['user_id','city','tariff_name','month', 'calls_amount','min_used','gb_used', 'mes_per_month','revenue_from_user']]\n",
    "user_expereance_df"
   ]
  },
  {
   "cell_type": "markdown",
   "metadata": {},
   "source": [
    "## Analysis of the operator's clients behavior"
   ]
  },
  {
   "cell_type": "markdown",
   "metadata": {},
   "source": [
    "Calculate the mean, variance and standard deviation for the columns min_used, mem_per_month, gb_used. Plot the histograms of the distribution."
   ]
  },
  {
   "cell_type": "code",
   "execution_count": 119,
   "metadata": {},
   "outputs": [
    {
     "data": {
      "text/html": [
       "<div>\n",
       "<style scoped>\n",
       "    .dataframe tbody tr th:only-of-type {\n",
       "        vertical-align: middle;\n",
       "    }\n",
       "\n",
       "    .dataframe tbody tr th {\n",
       "        vertical-align: top;\n",
       "    }\n",
       "\n",
       "    .dataframe thead tr th {\n",
       "        text-align: left;\n",
       "    }\n",
       "\n",
       "    .dataframe thead tr:last-of-type th {\n",
       "        text-align: right;\n",
       "    }\n",
       "</style>\n",
       "<table border=\"1\" class=\"dataframe\">\n",
       "  <thead>\n",
       "    <tr>\n",
       "      <th></th>\n",
       "      <th colspan=\"4\" halign=\"left\">median</th>\n",
       "      <th colspan=\"4\" halign=\"left\">mean</th>\n",
       "      <th colspan=\"4\" halign=\"left\">var</th>\n",
       "      <th colspan=\"4\" halign=\"left\">std</th>\n",
       "    </tr>\n",
       "    <tr>\n",
       "      <th></th>\n",
       "      <th>gb_used</th>\n",
       "      <th>mes_per_month</th>\n",
       "      <th>min_used</th>\n",
       "      <th>revenue_from_user</th>\n",
       "      <th>gb_used</th>\n",
       "      <th>mes_per_month</th>\n",
       "      <th>min_used</th>\n",
       "      <th>revenue_from_user</th>\n",
       "      <th>gb_used</th>\n",
       "      <th>mes_per_month</th>\n",
       "      <th>min_used</th>\n",
       "      <th>revenue_from_user</th>\n",
       "      <th>gb_used</th>\n",
       "      <th>mes_per_month</th>\n",
       "      <th>min_used</th>\n",
       "      <th>revenue_from_user</th>\n",
       "    </tr>\n",
       "    <tr>\n",
       "      <th>tariff_name</th>\n",
       "      <th></th>\n",
       "      <th></th>\n",
       "      <th></th>\n",
       "      <th></th>\n",
       "      <th></th>\n",
       "      <th></th>\n",
       "      <th></th>\n",
       "      <th></th>\n",
       "      <th></th>\n",
       "      <th></th>\n",
       "      <th></th>\n",
       "      <th></th>\n",
       "      <th></th>\n",
       "      <th></th>\n",
       "      <th></th>\n",
       "      <th></th>\n",
       "    </tr>\n",
       "  </thead>\n",
       "  <tbody>\n",
       "    <tr>\n",
       "      <th>smart</th>\n",
       "      <td>17.0</td>\n",
       "      <td>34.0</td>\n",
       "      <td>423.0</td>\n",
       "      <td>1023.0</td>\n",
       "      <td>16.336176</td>\n",
       "      <td>38.716441</td>\n",
       "      <td>419.062978</td>\n",
       "      <td>1289.973531</td>\n",
       "      <td>32.923756</td>\n",
       "      <td>717.594201</td>\n",
       "      <td>35844.189551</td>\n",
       "      <td>669785.708006</td>\n",
       "      <td>5.737923</td>\n",
       "      <td>26.787949</td>\n",
       "      <td>189.325618</td>\n",
       "      <td>818.404367</td>\n",
       "    </tr>\n",
       "    <tr>\n",
       "      <th>ultra</th>\n",
       "      <td>19.0</td>\n",
       "      <td>51.0</td>\n",
       "      <td>528.0</td>\n",
       "      <td>1950.0</td>\n",
       "      <td>19.694359</td>\n",
       "      <td>61.161006</td>\n",
       "      <td>545.451104</td>\n",
       "      <td>2070.152284</td>\n",
       "      <td>94.146734</td>\n",
       "      <td>2109.659183</td>\n",
       "      <td>94203.418396</td>\n",
       "      <td>141516.745079</td>\n",
       "      <td>9.702924</td>\n",
       "      <td>45.931026</td>\n",
       "      <td>306.925754</td>\n",
       "      <td>376.187114</td>\n",
       "    </tr>\n",
       "  </tbody>\n",
       "</table>\n",
       "</div>"
      ],
      "text/plain": [
       "             median                                                mean  \\\n",
       "            gb_used mes_per_month min_used revenue_from_user    gb_used   \n",
       "tariff_name                                                               \n",
       "smart          17.0          34.0    423.0            1023.0  16.336176   \n",
       "ultra          19.0          51.0    528.0            1950.0  19.694359   \n",
       "\n",
       "                                                               var  \\\n",
       "            mes_per_month    min_used revenue_from_user    gb_used   \n",
       "tariff_name                                                          \n",
       "smart           38.716441  419.062978       1289.973531  32.923756   \n",
       "ultra           61.161006  545.451104       2070.152284  94.146734   \n",
       "\n",
       "                                                                std  \\\n",
       "            mes_per_month      min_used revenue_from_user   gb_used   \n",
       "tariff_name                                                           \n",
       "smart          717.594201  35844.189551     669785.708006  5.737923   \n",
       "ultra         2109.659183  94203.418396     141516.745079  9.702924   \n",
       "\n",
       "                                                         \n",
       "            mes_per_month    min_used revenue_from_user  \n",
       "tariff_name                                              \n",
       "smart           26.787949  189.325618        818.404367  \n",
       "ultra           45.931026  306.925754        376.187114  "
      ]
     },
     "execution_count": 119,
     "metadata": {},
     "output_type": "execute_result"
    }
   ],
   "source": [
    "import numpy as np\n",
    "user_expereance_df.pivot_table(index = 'tariff_name', values = ['min_used','mes_per_month','gb_used','revenue_from_user'], aggfunc = ['median',\"mean\",'var','std'])"
   ]
  },
  {
   "cell_type": "code",
   "execution_count": 120,
   "metadata": {},
   "outputs": [
    {
     "data": {
      "text/plain": [
       "<AxesSubplot:ylabel='Frequency'>"
      ]
     },
     "execution_count": 120,
     "metadata": {},
     "output_type": "execute_result"
    },
    {
     "data": {
      "image/png": "[encoded data removed]",
      "text/plain": [
       "<Figure size 360x216 with 1 Axes>"
      ]
     },
     "metadata": {
      "needs_background": "light"
     },
     "output_type": "display_data"
    }
   ],
   "source": [
    "import matplotlib.pyplot as plt\n",
    "user_expereance_df[user_expereance_df['tariff_name'] == 'smart']['min_used'].plot(kind = 'hist',bins = 30,label = 'smart', figsize = (5,3), legend=True)                                            \n",
    "user_expereance_df[user_expereance_df['tariff_name'] == 'ultra']['min_used'].plot(kind = 'hist',bins = 30, alpha = 0.7, label = 'ultra', figsize = (5,3), legend=True)                                                   "
   ]
  },
  {
   "cell_type": "code",
   "execution_count": 121,
   "metadata": {},
   "outputs": [
    {
     "data": {
      "text/plain": [
       "<AxesSubplot:ylabel='Frequency'>"
      ]
     },
     "execution_count": 121,
     "metadata": {},
     "output_type": "execute_result"
    },
    {
     "data": {
      "image/png": "[encoded data removed]",
      "text/plain": [
       "<Figure size 360x216 with 1 Axes>"
      ]
     },
     "metadata": {
      "needs_background": "light"
     },
     "output_type": "display_data"
    }
   ],
   "source": [
    "user_expereance_df[user_expereance_df['tariff_name'] == 'smart']['mes_per_month'].plot(kind = 'hist',bins = 30,label = 'smart', figsize = (5,3), legend=True)                              \n",
    "user_expereance_df[user_expereance_df['tariff_name'] == 'ultra']['mes_per_month'].plot(kind = 'hist',bins = 30, alpha = 0.7, label = 'ultra', figsize = (5,3), legend=True)"
   ]
  },
  {
   "cell_type": "code",
   "execution_count": 122,
   "metadata": {},
   "outputs": [
    {
     "data": {
      "text/plain": [
       "<AxesSubplot:ylabel='Frequency'>"
      ]
     },
     "execution_count": 122,
     "metadata": {},
     "output_type": "execute_result"
    },
    {
     "data": {
      "image/png": "[encoded data removed]",
      "text/plain": [
       "<Figure size 360x216 with 1 Axes>"
      ]
     },
     "metadata": {
      "needs_background": "light"
     },
     "output_type": "display_data"
    }
   ],
   "source": [
    "user_expereance_df[user_expereance_df['tariff_name'] == 'smart']['gb_used'].plot(kind = 'hist',bins = 30,label = 'smart', figsize = (5,3), legend=True)                              \n",
    "user_expereance_df[user_expereance_df['tariff_name'] == 'ultra']['gb_used'].plot(kind = 'hist',bins = 30, alpha = 0.7, label = 'ultra', figsize = (5,3), legend=True)"
   ]
  },
  {
   "cell_type": "markdown",
   "metadata": {},
   "source": [
    "Based on the graphs and the ratio of the location of the average to the median, it can be concluded that the data on the minutes used and the gigabytes used are skewed in the same direction: in the \"smart\" tariff to the left, in the \"ultra\" tariff to the right, while the data on the use of messages are skewed to the right regardless of the tariff. The average usage values of the operator's services for \"ultra\" customers are much lower than those offered by the operator, for \"smart\" customers these indicators are better (the volumes offered by the operator are closer to the actual consumed ones), but on average \"smart\" customers exceed the amount of Internet traffic usage included in the tariff."
   ]
  },
  {
   "cell_type": "markdown",
   "metadata": {},
   "source": [
    "## Hypothesis testing:"
   ]
  },
  {
   "cell_type": "markdown",
   "metadata": {},
   "source": [
    "Hypotheses to be tested:\n",
    "* the average revenue of users of the \"Ultra\" and \"Smart\" tariffs differ;\n",
    "* the average revenue of users from Moscow differs from the revenue of users from other regions."
   ]
  },
  {
   "cell_type": "markdown",
   "metadata": {},
   "source": [
    "### Determine null and alternative hypotheses:"
   ]
  },
  {
   "cell_type": "markdown",
   "metadata": {},
   "source": [
    "* Null hypothesis No. 1: the average revenue of users of the \"Ultra\" and \"Smart\" tariffs are equal.\n",
    "* Alternative hypothesis No. 1: the average revenue of users of the \"Ultra\" and \"Smart\" tariffs differ.\n",
    "* Null hypothesis No. 2: the average revenue of users from Moscow is equal to the revenue of users from other regions\n",
    "* Alternative hypothesis No. 2: the average revenue of users from Moscow differs from the revenue of users from other regions."
   ]
  },
  {
   "cell_type": "markdown",
   "metadata": {},
   "source": [
    "### Testing hypotheses:"
   ]
  },
  {
   "cell_type": "markdown",
   "metadata": {},
   "source": [
    "Test the first hypothesis:"
   ]
  },
  {
   "cell_type": "code",
   "execution_count": 123,
   "metadata": {},
   "outputs": [
    {
     "name": "stdout",
     "output_type": "stream",
     "text": [
      "Average revenue of the \"ultra\" tariff: 2070.1522842639592\n",
      "Average revenue of the \"smart\" tariff: 1289.9735307312696\n",
      "p-value: 1.4229814360764067e-160\n",
      "Reject the null hypothesis\n"
     ]
    }
   ],
   "source": [
    "from scipy import stats as st\n",
    "\n",
    "ultra_revenue = user_expereance_df[user_expereance_df['tariff_name'] == 'ultra']['revenue_from_user']\n",
    "smart_revenue = user_expereance_df[user_expereance_df['tariff_name'] == 'smart']['revenue_from_user']\n",
    "\n",
    "alpha = .05\n",
    "print('Average revenue of the \"ultra\" tariff:', user_expereance_df[user_expereance_df['tariff_name'] == 'ultra']['revenue_from_user'].mean())\n",
    "print('Average revenue of the \"smart\" tariff:', user_expereance_df[user_expereance_df['tariff_name'] == 'smart']['revenue_from_user'].mean())\n",
    "\n",
    "results = st.ttest_ind(\n",
    "    ultra_revenue,\n",
    "    smart_revenue) \n",
    "\n",
    "print(\"p-value:\", results.pvalue)\n",
    "if results.pvalue < alpha:\n",
    "    print(\"Reject the null hypothesis\")\n",
    "else:\n",
    "    print(\"It is not possible to reject the null hypothesis\")"
   ]
  },
  {
   "cell_type": "markdown",
   "metadata": {},
   "source": [
    "Since it follows from the test results that the null hypothesis is incorrect, we can confirm that Hypothesis No. 1 \"the average revenue of users of the Ultra and Smart tariffs differ\" cannot be rejected."
   ]
  },
  {
   "cell_type": "markdown",
   "metadata": {},
   "source": [
    "Test the second hypothesis:"
   ]
  },
  {
   "cell_type": "code",
   "execution_count": 124,
   "metadata": {},
   "outputs": [
    {
     "name": "stdout",
     "output_type": "stream",
     "text": [
      "Average revenue in Moscow: 1546.7135842880523\n",
      "Average revenue in other regions: 1524.9362274298885\n",
      "p-value: 0.5440152911670224\n",
      "It is not possible to reject the null hypothesis\n"
     ]
    }
   ],
   "source": [
    "moscow_revenue = user_expereance_df[user_expereance_df['city'] == 'Москва']['revenue_from_user']\n",
    "region_revenue = user_expereance_df[user_expereance_df['city'] != 'Москва']['revenue_from_user']\n",
    "\n",
    "alpha = .05\n",
    "print('Average revenue in Moscow:',user_expereance_df[user_expereance_df['city'] == 'Москва']['revenue_from_user'].mean())\n",
    "print('Average revenue in other regions:',user_expereance_df[user_expereance_df['city'] != 'Москва']['revenue_from_user'].mean())\n",
    "\n",
    "results = st.ttest_ind(\n",
    "    moscow_revenue,\n",
    "    region_revenue) \n",
    "\n",
    "print(\"p-value:\", results.pvalue)\n",
    "if results.pvalue < alpha:\n",
    "    print(\"Reject the null hypothesis\")\n",
    "else:\n",
    "    print(\"It is not possible to reject the null hypothesis\")"
   ]
  },
  {
   "cell_type": "markdown",
   "metadata": {},
   "source": [
    "Since it follows from the test results that the null hypothesis cannot be rejected, we can conclude that, provided that the null hypothesis is true, there is a probability of its viability and we cannot reject it."
   ]
  },
  {
   "cell_type": "markdown",
   "metadata": {},
   "source": [
    "## Overall conclusion:"
   ]
  },
  {
   "cell_type": "markdown",
   "metadata": {},
   "source": [
    "To prepare this analysis, data from 5 files was read and preliminary familiarization with the data was carried out, omissions were identified and processed, column names were changed to correct, incorrect data types and incorrect dataframe values were corrected. In general, it can be noted that the data were without significant anomalies. Next, the total duration of calls, the number of messages and the amount of Internet traffic consumed per month for each client were calculated. These data served as the basis for calculating the profit for each user.\n",
    "\n",
    "In the research part of the data analysis, the user experience of customers was analyzed in terms of the volume of use of the operator's services.\n",
    "* It was revealed that the parameters of the \"smart\" tariff are closer to the needs of customers, while the parameters of the \"ultra\" tariff significantly exceed the needs of customers. Perhaps the operator will be able to optimize the \"ultra\" tariff by reducing its parameters, potentially this may lead to a reduction in the cost of the \"ultra\" tariff.\n",
    "* It was also revealed that the average revenue of the \"ultra\" tariff significantly exceeds the revenue of the \"smart\" tariff, so investing in the development of the \"ultra\" tariff will be the most useful.\n",
    "* Two hypotheses were tested during the study. As a result, Hypothesis No. 1 \"the average revenue of users of the Ultra and Smart tariffs differ\" could not be rejected, and Hypothesis No. 2 \"the average revenue of users from Moscow differs from the revenue of users from other regions\" has a low probability of being realized, and the hypothesis \"the average revenue of users from Moscow is equal to revenue users from other regions\"."
   ]
  }
 ],
 "metadata": {
  "ExecuteTimeLog": [
   {
    "duration": 651,
    "start_time": "2022-05-05T18:10:35.951Z"
   },
   {
    "duration": 193,
    "start_time": "2022-05-05T18:10:58.597Z"
   },
   {
    "duration": 224,
    "start_time": "2022-05-05T18:11:17.031Z"
   },
   {
    "duration": 437,
    "start_time": "2022-05-05T18:17:58.722Z"
   },
   {
    "duration": 434,
    "start_time": "2022-05-05T18:18:27.158Z"
   },
   {
    "duration": 424,
    "start_time": "2022-05-05T18:18:55.234Z"
   },
   {
    "duration": 423,
    "start_time": "2022-05-05T18:19:08.830Z"
   },
   {
    "duration": 455,
    "start_time": "2022-05-05T18:19:19.809Z"
   },
   {
    "duration": 452,
    "start_time": "2022-05-05T18:20:07.712Z"
   },
   {
    "duration": 55,
    "start_time": "2022-05-09T10:17:27.999Z"
   },
   {
    "duration": 786,
    "start_time": "2022-05-09T10:17:39.008Z"
   },
   {
    "duration": 25,
    "start_time": "2022-05-09T10:17:39.796Z"
   },
   {
    "duration": 19,
    "start_time": "2022-05-09T10:20:20.119Z"
   },
   {
    "duration": 31,
    "start_time": "2022-05-09T10:30:27.965Z"
   },
   {
    "duration": 8,
    "start_time": "2022-05-09T10:30:43.401Z"
   },
   {
    "duration": 8,
    "start_time": "2022-05-09T10:31:37.125Z"
   },
   {
    "duration": 13,
    "start_time": "2022-05-09T10:34:33.915Z"
   },
   {
    "duration": 11,
    "start_time": "2022-05-09T10:36:17.371Z"
   },
   {
    "duration": 68,
    "start_time": "2022-05-09T11:06:47.282Z"
   },
   {
    "duration": 75,
    "start_time": "2022-05-09T11:07:20.866Z"
   },
   {
    "duration": 484,
    "start_time": "2022-05-09T11:07:52.209Z"
   },
   {
    "duration": 21,
    "start_time": "2022-05-09T11:07:52.695Z"
   },
   {
    "duration": 12,
    "start_time": "2022-05-09T11:07:52.718Z"
   },
   {
    "duration": 74,
    "start_time": "2022-05-09T11:07:52.733Z"
   },
   {
    "duration": 16,
    "start_time": "2022-05-09T11:07:52.809Z"
   },
   {
    "duration": 6,
    "start_time": "2022-05-09T11:08:18.682Z"
   },
   {
    "duration": 104,
    "start_time": "2022-05-09T11:15:51.996Z"
   },
   {
    "duration": 8,
    "start_time": "2022-05-09T11:17:39.665Z"
   },
   {
    "duration": 7,
    "start_time": "2022-05-09T11:20:55.632Z"
   },
   {
    "duration": 5,
    "start_time": "2022-05-09T11:21:47.733Z"
   },
   {
    "duration": 8,
    "start_time": "2022-05-09T11:21:59.414Z"
   },
   {
    "duration": 8,
    "start_time": "2022-05-09T11:22:17.694Z"
   },
   {
    "duration": 7,
    "start_time": "2022-05-09T11:22:27.631Z"
   },
   {
    "duration": 5,
    "start_time": "2022-05-09T11:23:23.170Z"
   },
   {
    "duration": 212,
    "start_time": "2022-05-09T11:25:16.708Z"
   },
   {
    "duration": 99,
    "start_time": "2022-05-09T11:27:33.075Z"
   },
   {
    "duration": 17,
    "start_time": "2022-05-09T11:27:48.894Z"
   },
   {
    "duration": 336,
    "start_time": "2022-05-09T11:33:05.400Z"
   },
   {
    "duration": 23,
    "start_time": "2022-05-09T11:33:05.738Z"
   },
   {
    "duration": 9,
    "start_time": "2022-05-09T11:33:05.763Z"
   },
   {
    "duration": 93,
    "start_time": "2022-05-09T11:33:05.773Z"
   },
   {
    "duration": 16,
    "start_time": "2022-05-09T11:33:05.868Z"
   },
   {
    "duration": 7,
    "start_time": "2022-05-09T11:33:05.886Z"
   },
   {
    "duration": 5,
    "start_time": "2022-05-09T11:33:05.894Z"
   },
   {
    "duration": 10,
    "start_time": "2022-05-09T11:33:05.923Z"
   },
   {
    "duration": 312,
    "start_time": "2022-05-09T11:33:55.191Z"
   },
   {
    "duration": 22,
    "start_time": "2022-05-09T11:33:55.505Z"
   },
   {
    "duration": 9,
    "start_time": "2022-05-09T11:33:55.528Z"
   },
   {
    "duration": 99,
    "start_time": "2022-05-09T11:33:55.538Z"
   },
   {
    "duration": 17,
    "start_time": "2022-05-09T11:33:55.639Z"
   },
   {
    "duration": 8,
    "start_time": "2022-05-09T11:33:55.657Z"
   },
   {
    "duration": 4,
    "start_time": "2022-05-09T11:33:55.666Z"
   },
   {
    "duration": 11,
    "start_time": "2022-05-09T11:33:55.671Z"
   },
   {
    "duration": 19,
    "start_time": "2022-05-09T11:36:40.616Z"
   },
   {
    "duration": 9,
    "start_time": "2022-05-09T11:37:29.896Z"
   },
   {
    "duration": 54,
    "start_time": "2022-05-09T11:41:55.796Z"
   },
   {
    "duration": 17,
    "start_time": "2022-05-09T11:42:29.476Z"
   },
   {
    "duration": 6,
    "start_time": "2022-05-09T11:51:33.133Z"
   },
   {
    "duration": 116,
    "start_time": "2022-05-09T11:52:48.867Z"
   },
   {
    "duration": 356,
    "start_time": "2022-05-09T12:10:27.410Z"
   },
   {
    "duration": 24,
    "start_time": "2022-05-09T12:10:27.768Z"
   },
   {
    "duration": 8,
    "start_time": "2022-05-09T12:10:27.794Z"
   },
   {
    "duration": 106,
    "start_time": "2022-05-09T12:10:27.804Z"
   },
   {
    "duration": 28,
    "start_time": "2022-05-09T12:10:27.911Z"
   },
   {
    "duration": 7,
    "start_time": "2022-05-09T12:10:27.940Z"
   },
   {
    "duration": 20,
    "start_time": "2022-05-09T12:10:27.949Z"
   },
   {
    "duration": 9,
    "start_time": "2022-05-09T12:10:27.971Z"
   },
   {
    "duration": 88,
    "start_time": "2022-05-09T12:10:27.982Z"
   },
   {
    "duration": 19,
    "start_time": "2022-05-09T12:10:28.073Z"
   },
   {
    "duration": 30,
    "start_time": "2022-05-09T12:10:28.094Z"
   },
   {
    "duration": 11,
    "start_time": "2022-05-09T12:10:28.125Z"
   },
   {
    "duration": 342,
    "start_time": "2022-05-09T12:20:12.617Z"
   },
   {
    "duration": 22,
    "start_time": "2022-05-09T12:20:12.961Z"
   },
   {
    "duration": 9,
    "start_time": "2022-05-09T12:20:12.985Z"
   },
   {
    "duration": 101,
    "start_time": "2022-05-09T12:20:12.996Z"
   },
   {
    "duration": 24,
    "start_time": "2022-05-09T12:20:13.100Z"
   },
   {
    "duration": 8,
    "start_time": "2022-05-09T12:20:13.126Z"
   },
   {
    "duration": 21,
    "start_time": "2022-05-09T12:20:13.136Z"
   },
   {
    "duration": 9,
    "start_time": "2022-05-09T12:20:13.158Z"
   },
   {
    "duration": 98,
    "start_time": "2022-05-09T12:20:13.169Z"
   },
   {
    "duration": 17,
    "start_time": "2022-05-09T12:20:13.269Z"
   },
   {
    "duration": 6,
    "start_time": "2022-05-09T12:20:13.288Z"
   },
   {
    "duration": 30,
    "start_time": "2022-05-09T12:20:13.296Z"
   },
   {
    "duration": 29,
    "start_time": "2022-05-09T12:20:43.375Z"
   },
   {
    "duration": 8,
    "start_time": "2022-05-09T12:21:13.186Z"
   },
   {
    "duration": 43,
    "start_time": "2022-05-09T12:22:16.300Z"
   },
   {
    "duration": 12,
    "start_time": "2022-05-09T12:22:46.764Z"
   },
   {
    "duration": 6,
    "start_time": "2022-05-09T12:23:23.831Z"
   },
   {
    "duration": 141,
    "start_time": "2022-05-09T12:23:55.587Z"
   },
   {
    "duration": 6,
    "start_time": "2022-05-09T12:24:10.096Z"
   },
   {
    "duration": 10,
    "start_time": "2022-05-09T12:28:57.467Z"
   },
   {
    "duration": 8,
    "start_time": "2022-05-09T12:29:38.585Z"
   },
   {
    "duration": 15,
    "start_time": "2022-05-09T12:33:27.832Z"
   },
   {
    "duration": 11,
    "start_time": "2022-05-09T12:34:52.549Z"
   },
   {
    "duration": 3,
    "start_time": "2022-05-09T12:40:17.567Z"
   },
   {
    "duration": 7,
    "start_time": "2022-05-09T12:50:28.949Z"
   },
   {
    "duration": 14,
    "start_time": "2022-05-09T12:50:53.488Z"
   },
   {
    "duration": 7,
    "start_time": "2022-05-09T12:54:19.324Z"
   },
   {
    "duration": 5,
    "start_time": "2022-05-09T12:56:28.097Z"
   },
   {
    "duration": 7,
    "start_time": "2022-05-09T12:57:33.507Z"
   },
   {
    "duration": 6,
    "start_time": "2022-05-09T12:57:59.789Z"
   },
   {
    "duration": 7,
    "start_time": "2022-05-09T13:01:33.713Z"
   },
   {
    "duration": 7,
    "start_time": "2022-05-09T13:02:53.263Z"
   },
   {
    "duration": 8,
    "start_time": "2022-05-09T13:05:23.486Z"
   },
   {
    "duration": 5,
    "start_time": "2022-05-09T13:05:49.374Z"
   },
   {
    "duration": 4,
    "start_time": "2022-05-09T13:06:14.454Z"
   },
   {
    "duration": 473,
    "start_time": "2022-05-09T13:13:28.995Z"
   },
   {
    "duration": 36,
    "start_time": "2022-05-09T13:13:29.470Z"
   },
   {
    "duration": 11,
    "start_time": "2022-05-09T13:13:29.508Z"
   },
   {
    "duration": 103,
    "start_time": "2022-05-09T13:13:29.522Z"
   },
   {
    "duration": 16,
    "start_time": "2022-05-09T13:13:29.627Z"
   },
   {
    "duration": 6,
    "start_time": "2022-05-09T13:13:29.645Z"
   },
   {
    "duration": 19,
    "start_time": "2022-05-09T13:13:29.653Z"
   },
   {
    "duration": 10,
    "start_time": "2022-05-09T13:13:29.673Z"
   },
   {
    "duration": 91,
    "start_time": "2022-05-09T13:13:29.685Z"
   },
   {
    "duration": 18,
    "start_time": "2022-05-09T13:13:29.780Z"
   },
   {
    "duration": 25,
    "start_time": "2022-05-09T13:13:29.800Z"
   },
   {
    "duration": 18,
    "start_time": "2022-05-09T13:13:29.827Z"
   },
   {
    "duration": 8,
    "start_time": "2022-05-09T13:13:29.847Z"
   },
   {
    "duration": 46,
    "start_time": "2022-05-09T13:13:29.857Z"
   },
   {
    "duration": 13,
    "start_time": "2022-05-09T13:13:29.924Z"
   },
   {
    "duration": 11,
    "start_time": "2022-05-09T13:13:29.939Z"
   },
   {
    "duration": 10,
    "start_time": "2022-05-09T13:13:29.952Z"
   },
   {
    "duration": 13,
    "start_time": "2022-05-09T13:13:29.964Z"
   },
   {
    "duration": 19,
    "start_time": "2022-05-09T13:13:29.978Z"
   },
   {
    "duration": 32,
    "start_time": "2022-05-09T13:13:29.999Z"
   },
   {
    "duration": 6,
    "start_time": "2022-05-09T13:13:30.034Z"
   },
   {
    "duration": 15,
    "start_time": "2022-05-09T13:13:30.042Z"
   },
   {
    "duration": 6,
    "start_time": "2022-05-09T13:13:30.059Z"
   },
   {
    "duration": 8,
    "start_time": "2022-05-09T13:13:30.066Z"
   },
   {
    "duration": 16,
    "start_time": "2022-05-09T13:13:30.076Z"
   },
   {
    "duration": 335,
    "start_time": "2022-05-09T13:31:16.241Z"
   },
   {
    "duration": 21,
    "start_time": "2022-05-09T13:31:16.578Z"
   },
   {
    "duration": 8,
    "start_time": "2022-05-09T13:31:16.601Z"
   },
   {
    "duration": 100,
    "start_time": "2022-05-09T13:31:16.610Z"
   },
   {
    "duration": 21,
    "start_time": "2022-05-09T13:31:16.712Z"
   },
   {
    "duration": 6,
    "start_time": "2022-05-09T13:31:16.735Z"
   },
   {
    "duration": 18,
    "start_time": "2022-05-09T13:31:16.742Z"
   },
   {
    "duration": 8,
    "start_time": "2022-05-09T13:31:16.762Z"
   },
   {
    "duration": 92,
    "start_time": "2022-05-09T13:31:16.772Z"
   },
   {
    "duration": 17,
    "start_time": "2022-05-09T13:31:16.866Z"
   },
   {
    "duration": 10,
    "start_time": "2022-05-09T13:31:16.885Z"
   },
   {
    "duration": 35,
    "start_time": "2022-05-09T13:31:16.897Z"
   },
   {
    "duration": 9,
    "start_time": "2022-05-09T13:31:16.935Z"
   },
   {
    "duration": 45,
    "start_time": "2022-05-09T13:31:16.948Z"
   },
   {
    "duration": 34,
    "start_time": "2022-05-09T13:31:16.996Z"
   },
   {
    "duration": 7,
    "start_time": "2022-05-09T13:31:17.032Z"
   },
   {
    "duration": 16,
    "start_time": "2022-05-09T13:31:17.041Z"
   },
   {
    "duration": 13,
    "start_time": "2022-05-09T13:31:17.058Z"
   },
   {
    "duration": 13,
    "start_time": "2022-05-09T13:31:17.072Z"
   },
   {
    "duration": 39,
    "start_time": "2022-05-09T13:31:17.087Z"
   },
   {
    "duration": 5,
    "start_time": "2022-05-09T13:31:17.127Z"
   },
   {
    "duration": 8,
    "start_time": "2022-05-09T13:31:17.134Z"
   },
   {
    "duration": 5,
    "start_time": "2022-05-09T13:31:17.143Z"
   },
   {
    "duration": 5,
    "start_time": "2022-05-09T13:31:17.150Z"
   },
   {
    "duration": 11,
    "start_time": "2022-05-09T13:31:17.157Z"
   },
   {
    "duration": 355,
    "start_time": "2022-05-09T13:33:19.797Z"
   },
   {
    "duration": 24,
    "start_time": "2022-05-09T13:33:20.154Z"
   },
   {
    "duration": 8,
    "start_time": "2022-05-09T13:33:20.180Z"
   },
   {
    "duration": 107,
    "start_time": "2022-05-09T13:33:20.191Z"
   },
   {
    "duration": 28,
    "start_time": "2022-05-09T13:33:20.300Z"
   },
   {
    "duration": 6,
    "start_time": "2022-05-09T13:33:20.330Z"
   },
   {
    "duration": 22,
    "start_time": "2022-05-09T13:33:20.338Z"
   },
   {
    "duration": 9,
    "start_time": "2022-05-09T13:33:20.362Z"
   },
   {
    "duration": 113,
    "start_time": "2022-05-09T13:33:20.373Z"
   },
   {
    "duration": 39,
    "start_time": "2022-05-09T13:33:20.490Z"
   },
   {
    "duration": 9,
    "start_time": "2022-05-09T13:33:20.531Z"
   },
   {
    "duration": 16,
    "start_time": "2022-05-09T13:33:20.542Z"
   },
   {
    "duration": 7,
    "start_time": "2022-05-09T13:33:20.560Z"
   },
   {
    "duration": 94,
    "start_time": "2022-05-09T13:33:20.569Z"
   },
   {
    "duration": 21,
    "start_time": "2022-05-09T13:33:20.665Z"
   },
   {
    "duration": 11,
    "start_time": "2022-05-09T13:33:20.689Z"
   },
   {
    "duration": 30,
    "start_time": "2022-05-09T13:33:20.701Z"
   },
   {
    "duration": 8,
    "start_time": "2022-05-09T13:33:20.733Z"
   },
   {
    "duration": 12,
    "start_time": "2022-05-09T13:33:20.743Z"
   },
   {
    "duration": 13,
    "start_time": "2022-05-09T13:33:20.757Z"
   },
   {
    "duration": 6,
    "start_time": "2022-05-09T13:33:20.772Z"
   },
   {
    "duration": 8,
    "start_time": "2022-05-09T13:33:20.780Z"
   },
   {
    "duration": 35,
    "start_time": "2022-05-09T13:33:20.790Z"
   },
   {
    "duration": 5,
    "start_time": "2022-05-09T13:33:20.827Z"
   },
   {
    "duration": 11,
    "start_time": "2022-05-09T13:33:20.835Z"
   },
   {
    "duration": 465,
    "start_time": "2022-05-09T13:46:22.459Z"
   },
   {
    "duration": 23,
    "start_time": "2022-05-09T13:46:22.927Z"
   },
   {
    "duration": 10,
    "start_time": "2022-05-09T13:46:22.952Z"
   },
   {
    "duration": 175,
    "start_time": "2022-05-09T13:46:22.965Z"
   },
   {
    "duration": 18,
    "start_time": "2022-05-09T13:46:23.142Z"
   },
   {
    "duration": 7,
    "start_time": "2022-05-09T13:46:23.161Z"
   },
   {
    "duration": 19,
    "start_time": "2022-05-09T13:46:23.169Z"
   },
   {
    "duration": 35,
    "start_time": "2022-05-09T13:46:23.190Z"
   },
   {
    "duration": 65,
    "start_time": "2022-05-09T13:46:23.227Z"
   },
   {
    "duration": 34,
    "start_time": "2022-05-09T13:46:23.295Z"
   },
   {
    "duration": 6,
    "start_time": "2022-05-09T13:46:23.331Z"
   },
   {
    "duration": 20,
    "start_time": "2022-05-09T13:46:23.339Z"
   },
   {
    "duration": 7,
    "start_time": "2022-05-09T13:46:23.361Z"
   },
   {
    "duration": 73,
    "start_time": "2022-05-09T13:46:23.370Z"
   },
   {
    "duration": 13,
    "start_time": "2022-05-09T13:46:23.445Z"
   },
   {
    "duration": 8,
    "start_time": "2022-05-09T13:46:23.459Z"
   },
   {
    "duration": 9,
    "start_time": "2022-05-09T13:46:23.469Z"
   },
   {
    "duration": 12,
    "start_time": "2022-05-09T13:46:23.480Z"
   },
   {
    "duration": 38,
    "start_time": "2022-05-09T13:46:23.493Z"
   },
   {
    "duration": 13,
    "start_time": "2022-05-09T13:46:23.533Z"
   },
   {
    "duration": 5,
    "start_time": "2022-05-09T13:46:23.548Z"
   },
   {
    "duration": 11,
    "start_time": "2022-05-09T13:46:23.555Z"
   },
   {
    "duration": 7,
    "start_time": "2022-05-09T13:46:23.567Z"
   },
   {
    "duration": 7,
    "start_time": "2022-05-09T13:46:23.575Z"
   },
   {
    "duration": 12,
    "start_time": "2022-05-09T13:46:23.584Z"
   },
   {
    "duration": 8,
    "start_time": "2022-05-09T14:11:25.797Z"
   },
   {
    "duration": 8,
    "start_time": "2022-05-09T14:11:39.037Z"
   },
   {
    "duration": 532,
    "start_time": "2022-05-09T14:11:43.083Z"
   },
   {
    "duration": 29,
    "start_time": "2022-05-09T14:11:43.617Z"
   },
   {
    "duration": 10,
    "start_time": "2022-05-09T14:11:43.648Z"
   },
   {
    "duration": 126,
    "start_time": "2022-05-09T14:11:43.660Z"
   },
   {
    "duration": 18,
    "start_time": "2022-05-09T14:11:43.788Z"
   },
   {
    "duration": 26,
    "start_time": "2022-05-09T14:11:43.807Z"
   },
   {
    "duration": 24,
    "start_time": "2022-05-09T14:11:43.835Z"
   },
   {
    "duration": 9,
    "start_time": "2022-05-09T14:11:43.861Z"
   },
   {
    "duration": 114,
    "start_time": "2022-05-09T14:11:43.872Z"
   },
   {
    "duration": 61,
    "start_time": "2022-05-09T14:11:43.989Z"
   },
   {
    "duration": 7,
    "start_time": "2022-05-09T14:11:44.051Z"
   },
   {
    "duration": 17,
    "start_time": "2022-05-09T14:11:44.059Z"
   },
   {
    "duration": 6,
    "start_time": "2022-05-09T14:11:44.078Z"
   },
   {
    "duration": 83,
    "start_time": "2022-05-09T14:11:44.086Z"
   },
   {
    "duration": 12,
    "start_time": "2022-05-09T14:11:44.171Z"
   },
   {
    "duration": 9,
    "start_time": "2022-05-09T14:11:44.185Z"
   },
   {
    "duration": 10,
    "start_time": "2022-05-09T14:11:44.196Z"
   },
   {
    "duration": 24,
    "start_time": "2022-05-09T14:11:44.208Z"
   },
   {
    "duration": 19,
    "start_time": "2022-05-09T14:11:44.234Z"
   },
   {
    "duration": 13,
    "start_time": "2022-05-09T14:11:44.255Z"
   },
   {
    "duration": 5,
    "start_time": "2022-05-09T14:11:44.270Z"
   },
   {
    "duration": 10,
    "start_time": "2022-05-09T14:11:44.277Z"
   },
   {
    "duration": 5,
    "start_time": "2022-05-09T14:11:44.289Z"
   },
   {
    "duration": 29,
    "start_time": "2022-05-09T14:11:44.296Z"
   },
   {
    "duration": 10,
    "start_time": "2022-05-09T14:11:44.327Z"
   },
   {
    "duration": 0,
    "start_time": "2022-05-09T14:11:44.340Z"
   },
   {
    "duration": 10,
    "start_time": "2022-05-09T14:12:22.907Z"
   },
   {
    "duration": 8,
    "start_time": "2022-05-09T14:13:12.589Z"
   },
   {
    "duration": 1048,
    "start_time": "2022-05-09T14:15:49.601Z"
   },
   {
    "duration": 1001,
    "start_time": "2022-05-09T14:15:58.408Z"
   },
   {
    "duration": 29,
    "start_time": "2022-05-09T14:16:39.426Z"
   },
   {
    "duration": 21,
    "start_time": "2022-05-09T14:17:01.623Z"
   },
   {
    "duration": 28,
    "start_time": "2022-05-09T14:21:19.448Z"
   },
   {
    "duration": 11,
    "start_time": "2022-05-09T14:25:32.256Z"
   },
   {
    "duration": 33,
    "start_time": "2022-05-09T14:32:12.319Z"
   },
   {
    "duration": 37,
    "start_time": "2022-05-09T14:33:06.340Z"
   },
   {
    "duration": 30,
    "start_time": "2022-05-09T14:38:15.297Z"
   },
   {
    "duration": 369,
    "start_time": "2022-05-09T16:39:28.069Z"
   },
   {
    "duration": 23,
    "start_time": "2022-05-09T16:39:28.441Z"
   },
   {
    "duration": 8,
    "start_time": "2022-05-09T16:39:28.466Z"
   },
   {
    "duration": 115,
    "start_time": "2022-05-09T16:39:28.476Z"
   },
   {
    "duration": 18,
    "start_time": "2022-05-09T16:39:28.593Z"
   },
   {
    "duration": 17,
    "start_time": "2022-05-09T16:39:28.613Z"
   },
   {
    "duration": 25,
    "start_time": "2022-05-09T16:39:28.632Z"
   },
   {
    "duration": 10,
    "start_time": "2022-05-09T16:39:28.659Z"
   },
   {
    "duration": 108,
    "start_time": "2022-05-09T16:39:28.672Z"
   },
   {
    "duration": 19,
    "start_time": "2022-05-09T16:39:28.783Z"
   },
   {
    "duration": 22,
    "start_time": "2022-05-09T16:39:28.803Z"
   },
   {
    "duration": 17,
    "start_time": "2022-05-09T16:39:28.827Z"
   },
   {
    "duration": 8,
    "start_time": "2022-05-09T16:39:28.846Z"
   },
   {
    "duration": 47,
    "start_time": "2022-05-09T16:39:28.856Z"
   },
   {
    "duration": 18,
    "start_time": "2022-05-09T16:39:28.927Z"
   },
   {
    "duration": 6,
    "start_time": "2022-05-09T16:39:28.947Z"
   },
   {
    "duration": 11,
    "start_time": "2022-05-09T16:39:28.954Z"
   },
   {
    "duration": 10,
    "start_time": "2022-05-09T16:39:28.966Z"
   },
   {
    "duration": 11,
    "start_time": "2022-05-09T16:39:28.978Z"
   },
   {
    "duration": 48,
    "start_time": "2022-05-09T16:39:28.991Z"
   },
   {
    "duration": 3,
    "start_time": "2022-05-09T16:39:29.041Z"
   },
   {
    "duration": 11,
    "start_time": "2022-05-09T16:39:29.046Z"
   },
   {
    "duration": 5,
    "start_time": "2022-05-09T16:39:29.058Z"
   },
   {
    "duration": 5,
    "start_time": "2022-05-09T16:39:29.065Z"
   },
   {
    "duration": 62,
    "start_time": "2022-05-09T16:39:29.072Z"
   },
   {
    "duration": 29,
    "start_time": "2022-05-09T16:39:29.136Z"
   },
   {
    "duration": 11,
    "start_time": "2022-05-09T16:39:29.167Z"
   },
   {
    "duration": 74,
    "start_time": "2022-05-09T16:39:29.181Z"
   },
   {
    "duration": 18,
    "start_time": "2022-05-09T16:39:29.257Z"
   },
   {
    "duration": 57,
    "start_time": "2022-05-09T16:44:30.481Z"
   },
   {
    "duration": 10,
    "start_time": "2022-05-09T16:53:04.639Z"
   },
   {
    "duration": 328,
    "start_time": "2022-05-09T16:58:07.497Z"
   },
   {
    "duration": 34,
    "start_time": "2022-05-09T16:58:07.828Z"
   },
   {
    "duration": 9,
    "start_time": "2022-05-09T16:58:07.864Z"
   },
   {
    "duration": 123,
    "start_time": "2022-05-09T16:58:07.875Z"
   },
   {
    "duration": 27,
    "start_time": "2022-05-09T16:58:08.000Z"
   },
   {
    "duration": 7,
    "start_time": "2022-05-09T16:58:08.028Z"
   },
   {
    "duration": 19,
    "start_time": "2022-05-09T16:58:08.037Z"
   },
   {
    "duration": 9,
    "start_time": "2022-05-09T16:58:08.057Z"
   },
   {
    "duration": 97,
    "start_time": "2022-05-09T16:58:08.068Z"
   },
   {
    "duration": 17,
    "start_time": "2022-05-09T16:58:08.168Z"
   },
   {
    "duration": 6,
    "start_time": "2022-05-09T16:58:08.187Z"
   },
   {
    "duration": 37,
    "start_time": "2022-05-09T16:58:08.194Z"
   },
   {
    "duration": 8,
    "start_time": "2022-05-09T16:58:08.232Z"
   },
   {
    "duration": 46,
    "start_time": "2022-05-09T16:58:08.242Z"
   },
   {
    "duration": 35,
    "start_time": "2022-05-09T16:58:08.290Z"
   },
   {
    "duration": 7,
    "start_time": "2022-05-09T16:58:08.326Z"
   },
   {
    "duration": 13,
    "start_time": "2022-05-09T16:58:08.334Z"
   },
   {
    "duration": 12,
    "start_time": "2022-05-09T16:58:08.349Z"
   },
   {
    "duration": 10,
    "start_time": "2022-05-09T16:58:08.362Z"
   },
   {
    "duration": 21,
    "start_time": "2022-05-09T16:58:08.374Z"
   },
   {
    "duration": 6,
    "start_time": "2022-05-09T16:58:08.397Z"
   },
   {
    "duration": 9,
    "start_time": "2022-05-09T16:58:08.425Z"
   },
   {
    "duration": 6,
    "start_time": "2022-05-09T16:58:08.436Z"
   },
   {
    "duration": 6,
    "start_time": "2022-05-09T16:58:08.444Z"
   },
   {
    "duration": 28,
    "start_time": "2022-05-09T16:58:08.452Z"
   },
   {
    "duration": 64,
    "start_time": "2022-05-09T16:58:08.482Z"
   },
   {
    "duration": 12,
    "start_time": "2022-05-09T16:58:08.548Z"
   },
   {
    "duration": 61,
    "start_time": "2022-05-09T16:58:08.564Z"
   },
   {
    "duration": 20,
    "start_time": "2022-05-09T16:58:08.627Z"
   },
   {
    "duration": 35,
    "start_time": "2022-05-09T16:58:08.650Z"
   },
   {
    "duration": 10,
    "start_time": "2022-05-09T16:58:08.687Z"
   },
   {
    "duration": 8,
    "start_time": "2022-05-09T16:58:47.279Z"
   },
   {
    "duration": 18,
    "start_time": "2022-05-09T17:01:27.270Z"
   },
   {
    "duration": 19,
    "start_time": "2022-05-09T17:02:18.447Z"
   },
   {
    "duration": 19,
    "start_time": "2022-05-09T17:02:49.693Z"
   },
   {
    "duration": 20,
    "start_time": "2022-05-09T17:14:56.188Z"
   },
   {
    "duration": 351,
    "start_time": "2022-05-09T17:28:30.196Z"
   },
   {
    "duration": 21,
    "start_time": "2022-05-09T17:28:30.549Z"
   },
   {
    "duration": 12,
    "start_time": "2022-05-09T17:28:30.572Z"
   },
   {
    "duration": 112,
    "start_time": "2022-05-09T17:28:30.586Z"
   },
   {
    "duration": 26,
    "start_time": "2022-05-09T17:28:30.700Z"
   },
   {
    "duration": 12,
    "start_time": "2022-05-09T17:28:30.729Z"
   },
   {
    "duration": 24,
    "start_time": "2022-05-09T17:28:30.742Z"
   },
   {
    "duration": 8,
    "start_time": "2022-05-09T17:28:30.768Z"
   },
   {
    "duration": 81,
    "start_time": "2022-05-09T17:28:30.778Z"
   },
   {
    "duration": 17,
    "start_time": "2022-05-09T17:28:30.861Z"
   },
   {
    "duration": 23,
    "start_time": "2022-05-09T17:28:30.880Z"
   },
   {
    "duration": 24,
    "start_time": "2022-05-09T17:28:30.905Z"
   },
   {
    "duration": 22,
    "start_time": "2022-05-09T17:28:30.931Z"
   },
   {
    "duration": 47,
    "start_time": "2022-05-09T17:28:30.956Z"
   },
   {
    "duration": 21,
    "start_time": "2022-05-09T17:28:31.004Z"
   },
   {
    "duration": 10,
    "start_time": "2022-05-09T17:28:31.027Z"
   },
   {
    "duration": 19,
    "start_time": "2022-05-09T17:28:31.039Z"
   },
   {
    "duration": 18,
    "start_time": "2022-05-09T17:28:31.060Z"
   },
   {
    "duration": 19,
    "start_time": "2022-05-09T17:28:31.080Z"
   },
   {
    "duration": 25,
    "start_time": "2022-05-09T17:28:31.100Z"
   },
   {
    "duration": 7,
    "start_time": "2022-05-09T17:28:31.127Z"
   },
   {
    "duration": 22,
    "start_time": "2022-05-09T17:28:31.136Z"
   },
   {
    "duration": 20,
    "start_time": "2022-05-09T17:28:31.160Z"
   },
   {
    "duration": 7,
    "start_time": "2022-05-09T17:28:31.181Z"
   },
   {
    "duration": 34,
    "start_time": "2022-05-09T17:28:31.190Z"
   },
   {
    "duration": 35,
    "start_time": "2022-05-09T17:28:31.226Z"
   },
   {
    "duration": 10,
    "start_time": "2022-05-09T17:28:31.263Z"
   },
   {
    "duration": 65,
    "start_time": "2022-05-09T17:28:31.274Z"
   },
   {
    "duration": 19,
    "start_time": "2022-05-09T17:28:31.340Z"
   },
   {
    "duration": 35,
    "start_time": "2022-05-09T17:28:31.361Z"
   },
   {
    "duration": 30,
    "start_time": "2022-05-09T17:28:31.398Z"
   },
   {
    "duration": 31,
    "start_time": "2022-05-09T17:28:31.430Z"
   },
   {
    "duration": 7,
    "start_time": "2022-05-09T17:28:31.463Z"
   },
   {
    "duration": 9,
    "start_time": "2022-05-09T17:35:55.121Z"
   },
   {
    "duration": 54,
    "start_time": "2022-05-09T17:36:29.198Z"
   },
   {
    "duration": 775,
    "start_time": "2022-05-09T17:36:49.272Z"
   },
   {
    "duration": 23,
    "start_time": "2022-05-09T17:36:50.049Z"
   },
   {
    "duration": 15,
    "start_time": "2022-05-09T17:36:50.074Z"
   },
   {
    "duration": 112,
    "start_time": "2022-05-09T17:36:50.091Z"
   },
   {
    "duration": 28,
    "start_time": "2022-05-09T17:36:50.205Z"
   },
   {
    "duration": 20,
    "start_time": "2022-05-09T17:36:50.235Z"
   },
   {
    "duration": 19,
    "start_time": "2022-05-09T17:36:50.257Z"
   },
   {
    "duration": 9,
    "start_time": "2022-05-09T17:36:50.278Z"
   },
   {
    "duration": 96,
    "start_time": "2022-05-09T17:36:50.289Z"
   },
   {
    "duration": 17,
    "start_time": "2022-05-09T17:36:50.389Z"
   },
   {
    "duration": 17,
    "start_time": "2022-05-09T17:36:50.408Z"
   },
   {
    "duration": 29,
    "start_time": "2022-05-09T17:36:50.427Z"
   },
   {
    "duration": 8,
    "start_time": "2022-05-09T17:36:50.458Z"
   },
   {
    "duration": 83,
    "start_time": "2022-05-09T17:36:50.468Z"
   },
   {
    "duration": 19,
    "start_time": "2022-05-09T17:36:50.553Z"
   },
   {
    "duration": 9,
    "start_time": "2022-05-09T17:36:50.575Z"
   },
   {
    "duration": 15,
    "start_time": "2022-05-09T17:36:50.586Z"
   },
   {
    "duration": 12,
    "start_time": "2022-05-09T17:36:50.624Z"
   },
   {
    "duration": 27,
    "start_time": "2022-05-09T17:36:50.638Z"
   },
   {
    "duration": 12,
    "start_time": "2022-05-09T17:36:50.667Z"
   },
   {
    "duration": 6,
    "start_time": "2022-05-09T17:36:50.681Z"
   },
   {
    "duration": 12,
    "start_time": "2022-05-09T17:36:50.688Z"
   },
   {
    "duration": 16,
    "start_time": "2022-05-09T17:36:50.723Z"
   },
   {
    "duration": 9,
    "start_time": "2022-05-09T17:36:50.741Z"
   },
   {
    "duration": 37,
    "start_time": "2022-05-09T17:36:50.751Z"
   },
   {
    "duration": 43,
    "start_time": "2022-05-09T17:36:50.790Z"
   },
   {
    "duration": 12,
    "start_time": "2022-05-09T17:36:50.835Z"
   },
   {
    "duration": 51,
    "start_time": "2022-05-09T17:36:50.850Z"
   },
   {
    "duration": 43,
    "start_time": "2022-05-09T17:36:50.903Z"
   },
   {
    "duration": 39,
    "start_time": "2022-05-09T17:36:50.948Z"
   },
   {
    "duration": 36,
    "start_time": "2022-05-09T17:36:50.989Z"
   },
   {
    "duration": 40,
    "start_time": "2022-05-09T17:36:51.027Z"
   },
   {
    "duration": 53,
    "start_time": "2022-05-09T17:37:19.310Z"
   },
   {
    "duration": 6,
    "start_time": "2022-05-09T17:39:00.763Z"
   },
   {
    "duration": 833,
    "start_time": "2022-05-09T17:39:07.658Z"
   },
   {
    "duration": 24,
    "start_time": "2022-05-09T17:39:08.493Z"
   },
   {
    "duration": 18,
    "start_time": "2022-05-09T17:39:08.519Z"
   },
   {
    "duration": 128,
    "start_time": "2022-05-09T17:39:08.540Z"
   },
   {
    "duration": 18,
    "start_time": "2022-05-09T17:39:08.669Z"
   },
   {
    "duration": 8,
    "start_time": "2022-05-09T17:39:08.689Z"
   },
   {
    "duration": 44,
    "start_time": "2022-05-09T17:39:08.698Z"
   },
   {
    "duration": 10,
    "start_time": "2022-05-09T17:39:08.744Z"
   },
   {
    "duration": 88,
    "start_time": "2022-05-09T17:39:08.755Z"
   },
   {
    "duration": 19,
    "start_time": "2022-05-09T17:39:08.847Z"
   },
   {
    "duration": 6,
    "start_time": "2022-05-09T17:39:08.868Z"
   },
   {
    "duration": 16,
    "start_time": "2022-05-09T17:39:08.876Z"
   },
   {
    "duration": 32,
    "start_time": "2022-05-09T17:39:08.894Z"
   },
   {
    "duration": 56,
    "start_time": "2022-05-09T17:39:08.927Z"
   },
   {
    "duration": 12,
    "start_time": "2022-05-09T17:39:08.985Z"
   },
   {
    "duration": 26,
    "start_time": "2022-05-09T17:39:08.999Z"
   },
   {
    "duration": 16,
    "start_time": "2022-05-09T17:39:09.027Z"
   },
   {
    "duration": 17,
    "start_time": "2022-05-09T17:39:09.045Z"
   },
   {
    "duration": 18,
    "start_time": "2022-05-09T17:39:09.064Z"
   },
   {
    "duration": 21,
    "start_time": "2022-05-09T17:39:09.084Z"
   },
   {
    "duration": 18,
    "start_time": "2022-05-09T17:39:09.107Z"
   },
   {
    "duration": 23,
    "start_time": "2022-05-09T17:39:09.127Z"
   },
   {
    "duration": 4,
    "start_time": "2022-05-09T17:39:09.152Z"
   },
   {
    "duration": 9,
    "start_time": "2022-05-09T17:39:09.158Z"
   },
   {
    "duration": 29,
    "start_time": "2022-05-09T17:39:09.168Z"
   },
   {
    "duration": 43,
    "start_time": "2022-05-09T17:39:09.199Z"
   },
   {
    "duration": 11,
    "start_time": "2022-05-09T17:39:09.243Z"
   },
   {
    "duration": 42,
    "start_time": "2022-05-09T17:39:09.257Z"
   },
   {
    "duration": 40,
    "start_time": "2022-05-09T17:39:09.301Z"
   },
   {
    "duration": 36,
    "start_time": "2022-05-09T17:39:09.342Z"
   },
   {
    "duration": 11,
    "start_time": "2022-05-09T17:39:09.379Z"
   },
   {
    "duration": 46,
    "start_time": "2022-05-09T17:39:09.392Z"
   },
   {
    "duration": 17,
    "start_time": "2022-05-09T17:39:09.440Z"
   },
   {
    "duration": 34,
    "start_time": "2022-05-09T17:40:35.538Z"
   },
   {
    "duration": 13,
    "start_time": "2022-05-09T17:41:19.840Z"
   },
   {
    "duration": 11,
    "start_time": "2022-05-09T17:41:29.261Z"
   },
   {
    "duration": 10,
    "start_time": "2022-05-09T17:46:57.941Z"
   },
   {
    "duration": 8,
    "start_time": "2022-05-09T17:47:02.612Z"
   },
   {
    "duration": 21,
    "start_time": "2022-05-09T17:47:19.899Z"
   },
   {
    "duration": 22,
    "start_time": "2022-05-09T17:47:42.433Z"
   },
   {
    "duration": 333,
    "start_time": "2022-05-09T18:03:55.562Z"
   },
   {
    "duration": 21,
    "start_time": "2022-05-09T18:03:55.896Z"
   },
   {
    "duration": 8,
    "start_time": "2022-05-09T18:03:55.919Z"
   },
   {
    "duration": 98,
    "start_time": "2022-05-09T18:03:55.928Z"
   },
   {
    "duration": 17,
    "start_time": "2022-05-09T18:03:56.027Z"
   },
   {
    "duration": 7,
    "start_time": "2022-05-09T18:03:56.045Z"
   },
   {
    "duration": 17,
    "start_time": "2022-05-09T18:03:56.054Z"
   },
   {
    "duration": 8,
    "start_time": "2022-05-09T18:03:56.072Z"
   },
   {
    "duration": 84,
    "start_time": "2022-05-09T18:03:56.082Z"
   },
   {
    "duration": 17,
    "start_time": "2022-05-09T18:03:56.168Z"
   },
   {
    "duration": 7,
    "start_time": "2022-05-09T18:03:56.186Z"
   },
   {
    "duration": 37,
    "start_time": "2022-05-09T18:03:56.194Z"
   },
   {
    "duration": 7,
    "start_time": "2022-05-09T18:03:56.233Z"
   },
   {
    "duration": 41,
    "start_time": "2022-05-09T18:03:56.241Z"
   },
   {
    "duration": 13,
    "start_time": "2022-05-09T18:03:56.283Z"
   },
   {
    "duration": 28,
    "start_time": "2022-05-09T18:03:56.297Z"
   },
   {
    "duration": 10,
    "start_time": "2022-05-09T18:03:56.327Z"
   },
   {
    "duration": 11,
    "start_time": "2022-05-09T18:03:56.339Z"
   },
   {
    "duration": 14,
    "start_time": "2022-05-09T18:03:56.351Z"
   },
   {
    "duration": 12,
    "start_time": "2022-05-09T18:03:56.367Z"
   },
   {
    "duration": 5,
    "start_time": "2022-05-09T18:03:56.380Z"
   },
   {
    "duration": 8,
    "start_time": "2022-05-09T18:03:56.387Z"
   },
   {
    "duration": 6,
    "start_time": "2022-05-09T18:03:56.424Z"
   },
   {
    "duration": 6,
    "start_time": "2022-05-09T18:03:56.431Z"
   },
   {
    "duration": 28,
    "start_time": "2022-05-09T18:03:56.438Z"
   },
   {
    "duration": 28,
    "start_time": "2022-05-09T18:03:56.468Z"
   },
   {
    "duration": 31,
    "start_time": "2022-05-09T18:03:56.497Z"
   },
   {
    "duration": 42,
    "start_time": "2022-05-09T18:03:56.531Z"
   },
   {
    "duration": 17,
    "start_time": "2022-05-09T18:03:56.575Z"
   },
   {
    "duration": 60,
    "start_time": "2022-05-09T18:03:56.594Z"
   },
   {
    "duration": 10,
    "start_time": "2022-05-09T18:03:56.656Z"
   },
   {
    "duration": 20,
    "start_time": "2022-05-09T18:03:56.667Z"
   },
   {
    "duration": 44,
    "start_time": "2022-05-09T18:03:56.688Z"
   },
   {
    "duration": 995,
    "start_time": "2022-05-10T08:53:54.268Z"
   },
   {
    "duration": 36,
    "start_time": "2022-05-10T08:53:55.267Z"
   },
   {
    "duration": 21,
    "start_time": "2022-05-10T08:53:55.306Z"
   },
   {
    "duration": 177,
    "start_time": "2022-05-10T08:53:55.330Z"
   },
   {
    "duration": 26,
    "start_time": "2022-05-10T08:53:55.510Z"
   },
   {
    "duration": 27,
    "start_time": "2022-05-10T08:53:55.538Z"
   },
   {
    "duration": 36,
    "start_time": "2022-05-10T08:53:55.568Z"
   },
   {
    "duration": 14,
    "start_time": "2022-05-10T08:53:55.607Z"
   },
   {
    "duration": 126,
    "start_time": "2022-05-10T08:53:55.652Z"
   },
   {
    "duration": 27,
    "start_time": "2022-05-10T08:53:55.780Z"
   },
   {
    "duration": 18,
    "start_time": "2022-05-10T08:53:55.809Z"
   },
   {
    "duration": 65,
    "start_time": "2022-05-10T08:53:55.829Z"
   },
   {
    "duration": 11,
    "start_time": "2022-05-10T08:53:55.896Z"
   },
   {
    "duration": 79,
    "start_time": "2022-05-10T08:53:55.911Z"
   },
   {
    "duration": 18,
    "start_time": "2022-05-10T08:53:55.992Z"
   },
   {
    "duration": 9,
    "start_time": "2022-05-10T08:53:56.012Z"
   },
   {
    "duration": 44,
    "start_time": "2022-05-10T08:53:56.023Z"
   },
   {
    "duration": 17,
    "start_time": "2022-05-10T08:53:56.069Z"
   },
   {
    "duration": 23,
    "start_time": "2022-05-10T08:53:56.088Z"
   },
   {
    "duration": 36,
    "start_time": "2022-05-10T08:53:56.113Z"
   },
   {
    "duration": 36,
    "start_time": "2022-05-10T08:53:56.153Z"
   },
   {
    "duration": 15,
    "start_time": "2022-05-10T08:53:56.192Z"
   },
   {
    "duration": 15,
    "start_time": "2022-05-10T08:53:56.209Z"
   },
   {
    "duration": 8,
    "start_time": "2022-05-10T08:53:56.226Z"
   },
   {
    "duration": 59,
    "start_time": "2022-05-10T08:53:56.237Z"
   },
   {
    "duration": 40,
    "start_time": "2022-05-10T08:53:56.299Z"
   },
   {
    "duration": 16,
    "start_time": "2022-05-10T08:53:56.353Z"
   },
   {
    "duration": 85,
    "start_time": "2022-05-10T08:53:56.371Z"
   },
   {
    "duration": 29,
    "start_time": "2022-05-10T08:53:56.459Z"
   },
   {
    "duration": 90,
    "start_time": "2022-05-10T08:53:56.490Z"
   },
   {
    "duration": 17,
    "start_time": "2022-05-10T08:53:56.583Z"
   },
   {
    "duration": 52,
    "start_time": "2022-05-10T08:53:56.602Z"
   },
   {
    "duration": 12,
    "start_time": "2022-05-10T08:55:30.464Z"
   },
   {
    "duration": 41,
    "start_time": "2022-05-10T09:08:51.763Z"
   },
   {
    "duration": 119,
    "start_time": "2022-05-10T09:09:07.411Z"
   },
   {
    "duration": 39,
    "start_time": "2022-05-10T09:09:21.410Z"
   },
   {
    "duration": 46,
    "start_time": "2022-05-10T09:09:39.768Z"
   },
   {
    "duration": 50,
    "start_time": "2022-05-10T09:10:36.324Z"
   },
   {
    "duration": 81,
    "start_time": "2022-05-10T09:10:55.132Z"
   },
   {
    "duration": 78,
    "start_time": "2022-05-10T09:13:03.190Z"
   },
   {
    "duration": 18,
    "start_time": "2022-05-10T09:22:38.337Z"
   },
   {
    "duration": 47,
    "start_time": "2022-05-10T09:25:29.649Z"
   },
   {
    "duration": 18,
    "start_time": "2022-05-10T09:34:19.264Z"
   },
   {
    "duration": 38,
    "start_time": "2022-05-10T09:36:01.143Z"
   },
   {
    "duration": 98,
    "start_time": "2022-05-10T09:37:14.700Z"
   },
   {
    "duration": 18,
    "start_time": "2022-05-10T09:51:26.728Z"
   },
   {
    "duration": 19,
    "start_time": "2022-05-10T09:52:55.921Z"
   },
   {
    "duration": 23,
    "start_time": "2022-05-10T09:53:15.332Z"
   },
   {
    "duration": 18,
    "start_time": "2022-05-10T09:53:37.457Z"
   },
   {
    "duration": 489,
    "start_time": "2022-05-10T09:53:44.251Z"
   },
   {
    "duration": 32,
    "start_time": "2022-05-10T09:53:44.743Z"
   },
   {
    "duration": 12,
    "start_time": "2022-05-10T09:53:44.778Z"
   },
   {
    "duration": 157,
    "start_time": "2022-05-10T09:53:44.792Z"
   },
   {
    "duration": 24,
    "start_time": "2022-05-10T09:53:44.953Z"
   },
   {
    "duration": 9,
    "start_time": "2022-05-10T09:53:44.979Z"
   },
   {
    "duration": 27,
    "start_time": "2022-05-10T09:53:44.991Z"
   },
   {
    "duration": 13,
    "start_time": "2022-05-10T09:53:45.052Z"
   },
   {
    "duration": 118,
    "start_time": "2022-05-10T09:53:45.068Z"
   },
   {
    "duration": 29,
    "start_time": "2022-05-10T09:53:45.192Z"
   },
   {
    "duration": 38,
    "start_time": "2022-05-10T09:53:45.224Z"
   },
   {
    "duration": 42,
    "start_time": "2022-05-10T09:53:45.265Z"
   },
   {
    "duration": 13,
    "start_time": "2022-05-10T09:53:45.310Z"
   },
   {
    "duration": 87,
    "start_time": "2022-05-10T09:53:45.324Z"
   },
   {
    "duration": 19,
    "start_time": "2022-05-10T09:53:45.413Z"
   },
   {
    "duration": 8,
    "start_time": "2022-05-10T09:53:45.452Z"
   },
   {
    "duration": 14,
    "start_time": "2022-05-10T09:53:45.463Z"
   },
   {
    "duration": 13,
    "start_time": "2022-05-10T09:53:45.480Z"
   },
   {
    "duration": 16,
    "start_time": "2022-05-10T09:53:45.494Z"
   },
   {
    "duration": 54,
    "start_time": "2022-05-10T09:53:45.512Z"
   },
   {
    "duration": 10,
    "start_time": "2022-05-10T09:53:45.568Z"
   },
   {
    "duration": 20,
    "start_time": "2022-05-10T09:53:45.580Z"
   },
   {
    "duration": 11,
    "start_time": "2022-05-10T09:53:45.603Z"
   },
   {
    "duration": 8,
    "start_time": "2022-05-10T09:53:45.617Z"
   },
   {
    "duration": 43,
    "start_time": "2022-05-10T09:53:45.652Z"
   },
   {
    "duration": 56,
    "start_time": "2022-05-10T09:53:45.698Z"
   },
   {
    "duration": 16,
    "start_time": "2022-05-10T09:53:45.756Z"
   },
   {
    "duration": 96,
    "start_time": "2022-05-10T09:53:45.779Z"
   },
   {
    "duration": 28,
    "start_time": "2022-05-10T09:53:45.877Z"
   },
   {
    "duration": 81,
    "start_time": "2022-05-10T09:53:45.907Z"
   },
   {
    "duration": 16,
    "start_time": "2022-05-10T09:53:45.991Z"
   },
   {
    "duration": 46,
    "start_time": "2022-05-10T09:53:46.009Z"
   },
   {
    "duration": 77,
    "start_time": "2022-05-10T09:53:46.057Z"
   },
   {
    "duration": 57,
    "start_time": "2022-05-10T09:53:46.136Z"
   },
   {
    "duration": 58,
    "start_time": "2022-05-10T09:53:46.195Z"
   },
   {
    "duration": 18,
    "start_time": "2022-05-10T09:53:46.255Z"
   },
   {
    "duration": 18,
    "start_time": "2022-05-10T09:54:12.693Z"
   },
   {
    "duration": 780,
    "start_time": "2022-05-10T09:54:18.395Z"
   },
   {
    "duration": 57,
    "start_time": "2022-05-10T09:54:19.179Z"
   },
   {
    "duration": 14,
    "start_time": "2022-05-10T09:54:19.239Z"
   },
   {
    "duration": 147,
    "start_time": "2022-05-10T09:54:19.256Z"
   },
   {
    "duration": 26,
    "start_time": "2022-05-10T09:54:19.405Z"
   },
   {
    "duration": 25,
    "start_time": "2022-05-10T09:54:19.433Z"
   },
   {
    "duration": 28,
    "start_time": "2022-05-10T09:54:19.460Z"
   },
   {
    "duration": 13,
    "start_time": "2022-05-10T09:54:19.491Z"
   },
   {
    "duration": 146,
    "start_time": "2022-05-10T09:54:19.506Z"
   },
   {
    "duration": 28,
    "start_time": "2022-05-10T09:54:19.658Z"
   },
   {
    "duration": 10,
    "start_time": "2022-05-10T09:54:19.688Z"
   },
   {
    "duration": 61,
    "start_time": "2022-05-10T09:54:19.701Z"
   },
   {
    "duration": 11,
    "start_time": "2022-05-10T09:54:19.765Z"
   },
   {
    "duration": 86,
    "start_time": "2022-05-10T09:54:19.778Z"
   },
   {
    "duration": 19,
    "start_time": "2022-05-10T09:54:19.866Z"
   },
   {
    "duration": 10,
    "start_time": "2022-05-10T09:54:19.888Z"
   },
   {
    "duration": 52,
    "start_time": "2022-05-10T09:54:19.900Z"
   },
   {
    "duration": 13,
    "start_time": "2022-05-10T09:54:19.955Z"
   },
   {
    "duration": 17,
    "start_time": "2022-05-10T09:54:19.971Z"
   },
   {
    "duration": 21,
    "start_time": "2022-05-10T09:54:19.991Z"
   },
   {
    "duration": 39,
    "start_time": "2022-05-10T09:54:20.014Z"
   },
   {
    "duration": 12,
    "start_time": "2022-05-10T09:54:20.055Z"
   },
   {
    "duration": 10,
    "start_time": "2022-05-10T09:54:20.069Z"
   },
   {
    "duration": 8,
    "start_time": "2022-05-10T09:54:20.081Z"
   },
   {
    "duration": 79,
    "start_time": "2022-05-10T09:54:20.091Z"
   },
   {
    "duration": 54,
    "start_time": "2022-05-10T09:54:20.173Z"
   },
   {
    "duration": 28,
    "start_time": "2022-05-10T09:54:20.230Z"
   },
   {
    "duration": 66,
    "start_time": "2022-05-10T09:54:20.263Z"
   },
   {
    "duration": 49,
    "start_time": "2022-05-10T09:54:20.331Z"
   },
   {
    "duration": 99,
    "start_time": "2022-05-10T09:54:20.383Z"
   },
   {
    "duration": 25,
    "start_time": "2022-05-10T09:54:20.485Z"
   },
   {
    "duration": 65,
    "start_time": "2022-05-10T09:54:20.513Z"
   },
   {
    "duration": 128,
    "start_time": "2022-05-10T09:54:20.581Z"
   },
   {
    "duration": 80,
    "start_time": "2022-05-10T09:54:20.712Z"
   },
   {
    "duration": 38,
    "start_time": "2022-05-10T09:54:20.795Z"
   },
   {
    "duration": 32,
    "start_time": "2022-05-10T09:54:20.836Z"
   },
   {
    "duration": 19,
    "start_time": "2022-05-10T09:55:44.863Z"
   },
   {
    "duration": 511,
    "start_time": "2022-05-10T09:55:59.462Z"
   },
   {
    "duration": 34,
    "start_time": "2022-05-10T09:55:59.976Z"
   },
   {
    "duration": 18,
    "start_time": "2022-05-10T09:56:00.012Z"
   },
   {
    "duration": 160,
    "start_time": "2022-05-10T09:56:00.033Z"
   },
   {
    "duration": 28,
    "start_time": "2022-05-10T09:56:00.196Z"
   },
   {
    "duration": 32,
    "start_time": "2022-05-10T09:56:00.226Z"
   },
   {
    "duration": 30,
    "start_time": "2022-05-10T09:56:00.260Z"
   },
   {
    "duration": 13,
    "start_time": "2022-05-10T09:56:00.293Z"
   },
   {
    "duration": 148,
    "start_time": "2022-05-10T09:56:00.308Z"
   },
   {
    "duration": 28,
    "start_time": "2022-05-10T09:56:00.460Z"
   },
   {
    "duration": 22,
    "start_time": "2022-05-10T09:56:00.491Z"
   },
   {
    "duration": 45,
    "start_time": "2022-05-10T09:56:00.516Z"
   },
   {
    "duration": 11,
    "start_time": "2022-05-10T09:56:00.563Z"
   },
   {
    "duration": 90,
    "start_time": "2022-05-10T09:56:00.576Z"
   },
   {
    "duration": 18,
    "start_time": "2022-05-10T09:56:00.669Z"
   },
   {
    "duration": 9,
    "start_time": "2022-05-10T09:56:00.689Z"
   },
   {
    "duration": 15,
    "start_time": "2022-05-10T09:56:00.700Z"
   },
   {
    "duration": 12,
    "start_time": "2022-05-10T09:56:00.752Z"
   },
   {
    "duration": 34,
    "start_time": "2022-05-10T09:56:00.767Z"
   },
   {
    "duration": 40,
    "start_time": "2022-05-10T09:56:00.804Z"
   },
   {
    "duration": 9,
    "start_time": "2022-05-10T09:56:00.846Z"
   },
   {
    "duration": 16,
    "start_time": "2022-05-10T09:56:00.857Z"
   },
   {
    "duration": 15,
    "start_time": "2022-05-10T09:56:00.875Z"
   },
   {
    "duration": 18,
    "start_time": "2022-05-10T09:56:00.893Z"
   },
   {
    "duration": 60,
    "start_time": "2022-05-10T09:56:00.913Z"
   },
   {
    "duration": 41,
    "start_time": "2022-05-10T09:56:00.975Z"
   },
   {
    "duration": 35,
    "start_time": "2022-05-10T09:56:01.018Z"
   },
   {
    "duration": 67,
    "start_time": "2022-05-10T09:56:01.060Z"
   },
   {
    "duration": 45,
    "start_time": "2022-05-10T09:56:01.129Z"
   },
   {
    "duration": 56,
    "start_time": "2022-05-10T09:56:01.176Z"
   },
   {
    "duration": 18,
    "start_time": "2022-05-10T09:56:01.253Z"
   },
   {
    "duration": 44,
    "start_time": "2022-05-10T09:56:01.273Z"
   },
   {
    "duration": 105,
    "start_time": "2022-05-10T09:56:01.319Z"
   },
   {
    "duration": 53,
    "start_time": "2022-05-10T09:56:01.427Z"
   },
   {
    "duration": 91,
    "start_time": "2022-05-10T09:56:01.482Z"
   },
   {
    "duration": 19,
    "start_time": "2022-05-10T09:56:01.575Z"
   },
   {
    "duration": 33,
    "start_time": "2022-05-10T09:56:01.596Z"
   },
   {
    "duration": 18,
    "start_time": "2022-05-10T09:56:13.611Z"
   },
   {
    "duration": 478,
    "start_time": "2022-05-10T09:56:28.276Z"
   },
   {
    "duration": 33,
    "start_time": "2022-05-10T09:56:28.757Z"
   },
   {
    "duration": 12,
    "start_time": "2022-05-10T09:56:28.792Z"
   },
   {
    "duration": 151,
    "start_time": "2022-05-10T09:56:28.807Z"
   },
   {
    "duration": 26,
    "start_time": "2022-05-10T09:56:28.960Z"
   },
   {
    "duration": 10,
    "start_time": "2022-05-10T09:56:28.988Z"
   },
   {
    "duration": 60,
    "start_time": "2022-05-10T09:56:29.000Z"
   },
   {
    "duration": 12,
    "start_time": "2022-05-10T09:56:29.062Z"
   },
   {
    "duration": 119,
    "start_time": "2022-05-10T09:56:29.077Z"
   },
   {
    "duration": 26,
    "start_time": "2022-05-10T09:56:29.200Z"
   },
   {
    "duration": 25,
    "start_time": "2022-05-10T09:56:29.228Z"
   },
   {
    "duration": 25,
    "start_time": "2022-05-10T09:56:29.255Z"
   },
   {
    "duration": 10,
    "start_time": "2022-05-10T09:56:29.283Z"
   },
   {
    "duration": 100,
    "start_time": "2022-05-10T09:56:29.296Z"
   },
   {
    "duration": 18,
    "start_time": "2022-05-10T09:56:29.398Z"
   },
   {
    "duration": 33,
    "start_time": "2022-05-10T09:56:29.419Z"
   },
   {
    "duration": 16,
    "start_time": "2022-05-10T09:56:29.454Z"
   },
   {
    "duration": 12,
    "start_time": "2022-05-10T09:56:29.472Z"
   },
   {
    "duration": 16,
    "start_time": "2022-05-10T09:56:29.486Z"
   },
   {
    "duration": 49,
    "start_time": "2022-05-10T09:56:29.504Z"
   },
   {
    "duration": 6,
    "start_time": "2022-05-10T09:56:29.555Z"
   },
   {
    "duration": 16,
    "start_time": "2022-05-10T09:56:29.563Z"
   },
   {
    "duration": 13,
    "start_time": "2022-05-10T09:56:29.581Z"
   },
   {
    "duration": 7,
    "start_time": "2022-05-10T09:56:29.596Z"
   },
   {
    "duration": 72,
    "start_time": "2022-05-10T09:56:29.605Z"
   },
   {
    "duration": 41,
    "start_time": "2022-05-10T09:56:29.679Z"
   },
   {
    "duration": 31,
    "start_time": "2022-05-10T09:56:29.722Z"
   },
   {
    "duration": 65,
    "start_time": "2022-05-10T09:56:29.758Z"
   },
   {
    "duration": 43,
    "start_time": "2022-05-10T09:56:29.825Z"
   },
   {
    "duration": 53,
    "start_time": "2022-05-10T09:56:29.870Z"
   },
   {
    "duration": 33,
    "start_time": "2022-05-10T09:56:29.925Z"
   },
   {
    "duration": 32,
    "start_time": "2022-05-10T09:56:29.961Z"
   },
   {
    "duration": 111,
    "start_time": "2022-05-10T09:56:29.995Z"
   },
   {
    "duration": 59,
    "start_time": "2022-05-10T09:56:30.108Z"
   },
   {
    "duration": 40,
    "start_time": "2022-05-10T09:56:30.169Z"
   },
   {
    "duration": 42,
    "start_time": "2022-05-10T09:56:30.211Z"
   },
   {
    "duration": 22,
    "start_time": "2022-05-10T09:56:30.256Z"
   },
   {
    "duration": 18,
    "start_time": "2022-05-10T09:57:02.667Z"
   },
   {
    "duration": 19,
    "start_time": "2022-05-10T09:58:24.154Z"
   },
   {
    "duration": 19,
    "start_time": "2022-05-10T09:58:59.747Z"
   },
   {
    "duration": 506,
    "start_time": "2022-05-10T09:59:19.944Z"
   },
   {
    "duration": 35,
    "start_time": "2022-05-10T09:59:20.452Z"
   },
   {
    "duration": 12,
    "start_time": "2022-05-10T09:59:20.489Z"
   },
   {
    "duration": 159,
    "start_time": "2022-05-10T09:59:20.504Z"
   },
   {
    "duration": 26,
    "start_time": "2022-05-10T09:59:20.667Z"
   },
   {
    "duration": 10,
    "start_time": "2022-05-10T09:59:20.696Z"
   },
   {
    "duration": 58,
    "start_time": "2022-05-10T09:59:20.708Z"
   },
   {
    "duration": 14,
    "start_time": "2022-05-10T09:59:20.768Z"
   },
   {
    "duration": 142,
    "start_time": "2022-05-10T09:59:20.784Z"
   },
   {
    "duration": 36,
    "start_time": "2022-05-10T09:59:20.928Z"
   },
   {
    "duration": 17,
    "start_time": "2022-05-10T09:59:20.966Z"
   },
   {
    "duration": 27,
    "start_time": "2022-05-10T09:59:20.985Z"
   },
   {
    "duration": 41,
    "start_time": "2022-05-10T09:59:21.014Z"
   },
   {
    "duration": 74,
    "start_time": "2022-05-10T09:59:21.060Z"
   },
   {
    "duration": 23,
    "start_time": "2022-05-10T09:59:21.137Z"
   },
   {
    "duration": 9,
    "start_time": "2022-05-10T09:59:21.162Z"
   },
   {
    "duration": 14,
    "start_time": "2022-05-10T09:59:21.174Z"
   },
   {
    "duration": 18,
    "start_time": "2022-05-10T09:59:21.190Z"
   },
   {
    "duration": 51,
    "start_time": "2022-05-10T09:59:21.210Z"
   },
   {
    "duration": 21,
    "start_time": "2022-05-10T09:59:21.263Z"
   },
   {
    "duration": 14,
    "start_time": "2022-05-10T09:59:21.286Z"
   },
   {
    "duration": 11,
    "start_time": "2022-05-10T09:59:21.303Z"
   },
   {
    "duration": 10,
    "start_time": "2022-05-10T09:59:21.317Z"
   },
   {
    "duration": 27,
    "start_time": "2022-05-10T09:59:21.329Z"
   },
   {
    "duration": 47,
    "start_time": "2022-05-10T09:59:21.359Z"
   },
   {
    "duration": 65,
    "start_time": "2022-05-10T09:59:21.408Z"
   },
   {
    "duration": 15,
    "start_time": "2022-05-10T09:59:21.475Z"
   },
   {
    "duration": 85,
    "start_time": "2022-05-10T09:59:21.492Z"
   },
   {
    "duration": 22,
    "start_time": "2022-05-10T09:59:21.579Z"
   },
   {
    "duration": 73,
    "start_time": "2022-05-10T09:59:21.603Z"
   },
   {
    "duration": 17,
    "start_time": "2022-05-10T09:59:21.678Z"
   },
   {
    "duration": 57,
    "start_time": "2022-05-10T09:59:21.698Z"
   },
   {
    "duration": 96,
    "start_time": "2022-05-10T09:59:21.757Z"
   },
   {
    "duration": 44,
    "start_time": "2022-05-10T09:59:21.855Z"
   },
   {
    "duration": 57,
    "start_time": "2022-05-10T09:59:21.902Z"
   },
   {
    "duration": 17,
    "start_time": "2022-05-10T09:59:21.962Z"
   },
   {
    "duration": 20,
    "start_time": "2022-05-10T09:59:21.982Z"
   },
   {
    "duration": 10,
    "start_time": "2022-05-10T10:12:18.241Z"
   },
   {
    "duration": 18,
    "start_time": "2022-05-10T10:12:32.360Z"
   },
   {
    "duration": 20,
    "start_time": "2022-05-10T10:14:29.834Z"
   },
   {
    "duration": 504,
    "start_time": "2022-05-10T10:14:39.192Z"
   },
   {
    "duration": 33,
    "start_time": "2022-05-10T10:14:39.698Z"
   },
   {
    "duration": 13,
    "start_time": "2022-05-10T10:14:39.734Z"
   },
   {
    "duration": 158,
    "start_time": "2022-05-10T10:14:39.754Z"
   },
   {
    "duration": 43,
    "start_time": "2022-05-10T10:14:39.915Z"
   },
   {
    "duration": 14,
    "start_time": "2022-05-10T10:14:39.961Z"
   },
   {
    "duration": 30,
    "start_time": "2022-05-10T10:14:39.977Z"
   },
   {
    "duration": 42,
    "start_time": "2022-05-10T10:14:40.010Z"
   },
   {
    "duration": 123,
    "start_time": "2022-05-10T10:14:40.054Z"
   },
   {
    "duration": 27,
    "start_time": "2022-05-10T10:14:40.181Z"
   },
   {
    "duration": 8,
    "start_time": "2022-05-10T10:14:40.211Z"
   },
   {
    "duration": 49,
    "start_time": "2022-05-10T10:14:40.221Z"
   },
   {
    "duration": 11,
    "start_time": "2022-05-10T10:14:40.273Z"
   },
   {
    "duration": 93,
    "start_time": "2022-05-10T10:14:40.286Z"
   },
   {
    "duration": 19,
    "start_time": "2022-05-10T10:14:40.381Z"
   },
   {
    "duration": 9,
    "start_time": "2022-05-10T10:14:40.402Z"
   },
   {
    "duration": 48,
    "start_time": "2022-05-10T10:14:40.413Z"
   },
   {
    "duration": 14,
    "start_time": "2022-05-10T10:14:40.463Z"
   },
   {
    "duration": 16,
    "start_time": "2022-05-10T10:14:40.479Z"
   },
   {
    "duration": 24,
    "start_time": "2022-05-10T10:14:40.497Z"
   },
   {
    "duration": 30,
    "start_time": "2022-05-10T10:14:40.523Z"
   },
   {
    "duration": 12,
    "start_time": "2022-05-10T10:14:40.555Z"
   },
   {
    "duration": 7,
    "start_time": "2022-05-10T10:14:40.570Z"
   },
   {
    "duration": 7,
    "start_time": "2022-05-10T10:14:40.580Z"
   },
   {
    "duration": 91,
    "start_time": "2022-05-10T10:14:40.590Z"
   },
   {
    "duration": 41,
    "start_time": "2022-05-10T10:14:40.683Z"
   },
   {
    "duration": 38,
    "start_time": "2022-05-10T10:14:40.727Z"
   },
   {
    "duration": 87,
    "start_time": "2022-05-10T10:14:40.771Z"
   },
   {
    "duration": 25,
    "start_time": "2022-05-10T10:14:40.861Z"
   },
   {
    "duration": 84,
    "start_time": "2022-05-10T10:14:40.889Z"
   },
   {
    "duration": 17,
    "start_time": "2022-05-10T10:14:40.976Z"
   },
   {
    "duration": 64,
    "start_time": "2022-05-10T10:14:40.996Z"
   },
   {
    "duration": 95,
    "start_time": "2022-05-10T10:14:41.062Z"
   },
   {
    "duration": 43,
    "start_time": "2022-05-10T10:14:41.159Z"
   },
   {
    "duration": 17,
    "start_time": "2022-05-10T10:14:41.205Z"
   },
   {
    "duration": 39,
    "start_time": "2022-05-10T10:14:41.253Z"
   },
   {
    "duration": 19,
    "start_time": "2022-05-10T10:14:41.294Z"
   },
   {
    "duration": 50,
    "start_time": "2022-05-10T10:14:41.315Z"
   },
   {
    "duration": 20,
    "start_time": "2022-05-10T10:15:19.228Z"
   },
   {
    "duration": 25,
    "start_time": "2022-05-10T10:18:28.203Z"
   },
   {
    "duration": 571,
    "start_time": "2022-05-10T10:18:41.599Z"
   },
   {
    "duration": 33,
    "start_time": "2022-05-10T10:18:42.173Z"
   },
   {
    "duration": 12,
    "start_time": "2022-05-10T10:18:42.209Z"
   },
   {
    "duration": 149,
    "start_time": "2022-05-10T10:18:42.224Z"
   },
   {
    "duration": 26,
    "start_time": "2022-05-10T10:18:42.375Z"
   },
   {
    "duration": 12,
    "start_time": "2022-05-10T10:18:42.404Z"
   },
   {
    "duration": 59,
    "start_time": "2022-05-10T10:18:42.418Z"
   },
   {
    "duration": 14,
    "start_time": "2022-05-10T10:18:42.479Z"
   },
   {
    "duration": 133,
    "start_time": "2022-05-10T10:18:42.496Z"
   },
   {
    "duration": 42,
    "start_time": "2022-05-10T10:18:42.634Z"
   },
   {
    "duration": 16,
    "start_time": "2022-05-10T10:18:42.679Z"
   },
   {
    "duration": 32,
    "start_time": "2022-05-10T10:18:42.697Z"
   },
   {
    "duration": 33,
    "start_time": "2022-05-10T10:18:42.732Z"
   },
   {
    "duration": 74,
    "start_time": "2022-05-10T10:18:42.767Z"
   },
   {
    "duration": 22,
    "start_time": "2022-05-10T10:18:42.843Z"
   },
   {
    "duration": 15,
    "start_time": "2022-05-10T10:18:42.867Z"
   },
   {
    "duration": 15,
    "start_time": "2022-05-10T10:18:42.884Z"
   },
   {
    "duration": 20,
    "start_time": "2022-05-10T10:18:42.902Z"
   },
   {
    "duration": 16,
    "start_time": "2022-05-10T10:18:42.952Z"
   },
   {
    "duration": 17,
    "start_time": "2022-05-10T10:18:42.970Z"
   },
   {
    "duration": 8,
    "start_time": "2022-05-10T10:18:42.989Z"
   },
   {
    "duration": 10,
    "start_time": "2022-05-10T10:18:42.999Z"
   },
   {
    "duration": 6,
    "start_time": "2022-05-10T10:18:43.011Z"
   },
   {
    "duration": 7,
    "start_time": "2022-05-10T10:18:43.052Z"
   },
   {
    "duration": 44,
    "start_time": "2022-05-10T10:18:43.061Z"
   },
   {
    "duration": 72,
    "start_time": "2022-05-10T10:18:43.107Z"
   },
   {
    "duration": 14,
    "start_time": "2022-05-10T10:18:43.181Z"
   },
   {
    "duration": 85,
    "start_time": "2022-05-10T10:18:43.200Z"
   },
   {
    "duration": 25,
    "start_time": "2022-05-10T10:18:43.288Z"
   },
   {
    "duration": 67,
    "start_time": "2022-05-10T10:18:43.315Z"
   },
   {
    "duration": 16,
    "start_time": "2022-05-10T10:18:43.384Z"
   },
   {
    "duration": 55,
    "start_time": "2022-05-10T10:18:43.402Z"
   },
   {
    "duration": 92,
    "start_time": "2022-05-10T10:18:43.459Z"
   },
   {
    "duration": 24,
    "start_time": "2022-05-10T10:18:43.554Z"
   },
   {
    "duration": 49,
    "start_time": "2022-05-10T10:18:43.580Z"
   },
   {
    "duration": 33,
    "start_time": "2022-05-10T10:18:43.631Z"
   },
   {
    "duration": 37,
    "start_time": "2022-05-10T10:18:43.667Z"
   },
   {
    "duration": 53,
    "start_time": "2022-05-10T10:18:43.706Z"
   },
   {
    "duration": 21,
    "start_time": "2022-05-10T10:18:43.761Z"
   },
   {
    "duration": 23,
    "start_time": "2022-05-10T10:22:33.041Z"
   },
   {
    "duration": 19,
    "start_time": "2022-05-10T10:22:48.632Z"
   },
   {
    "duration": 19,
    "start_time": "2022-05-10T10:23:18.345Z"
   },
   {
    "duration": 24,
    "start_time": "2022-05-10T10:23:32.795Z"
   },
   {
    "duration": 19,
    "start_time": "2022-05-10T10:23:51.458Z"
   },
   {
    "duration": 518,
    "start_time": "2022-05-10T10:36:20.726Z"
   },
   {
    "duration": 34,
    "start_time": "2022-05-10T10:36:21.246Z"
   },
   {
    "duration": 13,
    "start_time": "2022-05-10T10:36:21.282Z"
   },
   {
    "duration": 164,
    "start_time": "2022-05-10T10:36:21.299Z"
   },
   {
    "duration": 28,
    "start_time": "2022-05-10T10:36:21.466Z"
   },
   {
    "duration": 9,
    "start_time": "2022-05-10T10:36:21.497Z"
   },
   {
    "duration": 61,
    "start_time": "2022-05-10T10:36:21.509Z"
   },
   {
    "duration": 13,
    "start_time": "2022-05-10T10:36:21.573Z"
   },
   {
    "duration": 125,
    "start_time": "2022-05-10T10:36:21.588Z"
   },
   {
    "duration": 39,
    "start_time": "2022-05-10T10:36:21.717Z"
   },
   {
    "duration": 9,
    "start_time": "2022-05-10T10:36:21.758Z"
   },
   {
    "duration": 25,
    "start_time": "2022-05-10T10:36:21.769Z"
   },
   {
    "duration": 11,
    "start_time": "2022-05-10T10:36:21.796Z"
   },
   {
    "duration": 103,
    "start_time": "2022-05-10T10:36:21.809Z"
   },
   {
    "duration": 19,
    "start_time": "2022-05-10T10:36:21.914Z"
   },
   {
    "duration": 23,
    "start_time": "2022-05-10T10:36:21.935Z"
   },
   {
    "duration": 14,
    "start_time": "2022-05-10T10:36:21.960Z"
   },
   {
    "duration": 13,
    "start_time": "2022-05-10T10:36:21.976Z"
   },
   {
    "duration": 17,
    "start_time": "2022-05-10T10:36:21.991Z"
   },
   {
    "duration": 57,
    "start_time": "2022-05-10T10:36:22.010Z"
   },
   {
    "duration": 6,
    "start_time": "2022-05-10T10:36:22.070Z"
   },
   {
    "duration": 10,
    "start_time": "2022-05-10T10:36:22.079Z"
   },
   {
    "duration": 6,
    "start_time": "2022-05-10T10:36:22.092Z"
   },
   {
    "duration": 9,
    "start_time": "2022-05-10T10:36:22.101Z"
   },
   {
    "duration": 48,
    "start_time": "2022-05-10T10:36:22.153Z"
   },
   {
    "duration": 68,
    "start_time": "2022-05-10T10:36:22.204Z"
   },
   {
    "duration": 14,
    "start_time": "2022-05-10T10:36:22.274Z"
   },
   {
    "duration": 86,
    "start_time": "2022-05-10T10:36:22.293Z"
   },
   {
    "duration": 22,
    "start_time": "2022-05-10T10:36:22.381Z"
   },
   {
    "duration": 78,
    "start_time": "2022-05-10T10:36:22.406Z"
   },
   {
    "duration": 17,
    "start_time": "2022-05-10T10:36:22.486Z"
   },
   {
    "duration": 56,
    "start_time": "2022-05-10T10:36:22.505Z"
   },
   {
    "duration": 91,
    "start_time": "2022-05-10T10:36:22.563Z"
   },
   {
    "duration": 16,
    "start_time": "2022-05-10T10:36:22.656Z"
   },
   {
    "duration": 45,
    "start_time": "2022-05-10T10:36:22.674Z"
   },
   {
    "duration": 40,
    "start_time": "2022-05-10T10:36:22.721Z"
   },
   {
    "duration": 40,
    "start_time": "2022-05-10T10:36:22.764Z"
   },
   {
    "duration": 18,
    "start_time": "2022-05-10T10:36:22.807Z"
   },
   {
    "duration": 20,
    "start_time": "2022-05-10T10:36:22.851Z"
   },
   {
    "duration": 22,
    "start_time": "2022-05-10T10:46:36.787Z"
   },
   {
    "duration": 27,
    "start_time": "2022-05-10T10:46:57.920Z"
   },
   {
    "duration": 30,
    "start_time": "2022-05-10T10:47:28.347Z"
   },
   {
    "duration": 21,
    "start_time": "2022-05-10T10:49:51.704Z"
   },
   {
    "duration": 51,
    "start_time": "2022-05-10T10:59:56.272Z"
   },
   {
    "duration": 36,
    "start_time": "2022-05-10T11:03:52.268Z"
   },
   {
    "duration": 1031,
    "start_time": "2022-05-10T11:14:52.828Z"
   },
   {
    "duration": 35,
    "start_time": "2022-05-10T11:14:53.862Z"
   },
   {
    "duration": 23,
    "start_time": "2022-05-10T11:14:53.900Z"
   },
   {
    "duration": 178,
    "start_time": "2022-05-10T11:14:53.926Z"
   },
   {
    "duration": 28,
    "start_time": "2022-05-10T11:14:54.107Z"
   },
   {
    "duration": 11,
    "start_time": "2022-05-10T11:14:54.151Z"
   },
   {
    "duration": 28,
    "start_time": "2022-05-10T11:14:54.164Z"
   },
   {
    "duration": 12,
    "start_time": "2022-05-10T11:14:54.194Z"
   },
   {
    "duration": 155,
    "start_time": "2022-05-10T11:14:54.208Z"
   },
   {
    "duration": 28,
    "start_time": "2022-05-10T11:14:54.367Z"
   },
   {
    "duration": 9,
    "start_time": "2022-05-10T11:14:54.397Z"
   },
   {
    "duration": 57,
    "start_time": "2022-05-10T11:14:54.409Z"
   },
   {
    "duration": 12,
    "start_time": "2022-05-10T11:14:54.469Z"
   },
   {
    "duration": 108,
    "start_time": "2022-05-10T11:14:54.483Z"
   },
   {
    "duration": 20,
    "start_time": "2022-05-10T11:14:54.594Z"
   },
   {
    "duration": 10,
    "start_time": "2022-05-10T11:14:54.616Z"
   },
   {
    "duration": 17,
    "start_time": "2022-05-10T11:14:54.652Z"
   },
   {
    "duration": 17,
    "start_time": "2022-05-10T11:14:54.671Z"
   },
   {
    "duration": 15,
    "start_time": "2022-05-10T11:14:54.691Z"
   },
   {
    "duration": 48,
    "start_time": "2022-05-10T11:14:54.708Z"
   },
   {
    "duration": 7,
    "start_time": "2022-05-10T11:14:54.759Z"
   },
   {
    "duration": 10,
    "start_time": "2022-05-10T11:14:54.769Z"
   },
   {
    "duration": 6,
    "start_time": "2022-05-10T11:14:54.782Z"
   },
   {
    "duration": 12,
    "start_time": "2022-05-10T11:14:54.791Z"
   },
   {
    "duration": 90,
    "start_time": "2022-05-10T11:14:54.805Z"
   },
   {
    "duration": 55,
    "start_time": "2022-05-10T11:14:54.898Z"
   },
   {
    "duration": 15,
    "start_time": "2022-05-10T11:14:54.955Z"
   },
   {
    "duration": 87,
    "start_time": "2022-05-10T11:14:54.975Z"
   },
   {
    "duration": 27,
    "start_time": "2022-05-10T11:14:55.064Z"
   },
   {
    "duration": 74,
    "start_time": "2022-05-10T11:14:55.093Z"
   },
   {
    "duration": 16,
    "start_time": "2022-05-10T11:14:55.170Z"
   },
   {
    "duration": 35,
    "start_time": "2022-05-10T11:14:55.188Z"
   },
   {
    "duration": 976,
    "start_time": "2022-05-10T11:16:32.299Z"
   },
   {
    "duration": 34,
    "start_time": "2022-05-10T11:16:33.277Z"
   },
   {
    "duration": 22,
    "start_time": "2022-05-10T11:16:33.314Z"
   },
   {
    "duration": 158,
    "start_time": "2022-05-10T11:16:33.339Z"
   },
   {
    "duration": 26,
    "start_time": "2022-05-10T11:16:33.499Z"
   },
   {
    "duration": 27,
    "start_time": "2022-05-10T11:16:33.527Z"
   },
   {
    "duration": 29,
    "start_time": "2022-05-10T11:16:33.556Z"
   },
   {
    "duration": 13,
    "start_time": "2022-05-10T11:16:33.588Z"
   },
   {
    "duration": 148,
    "start_time": "2022-05-10T11:16:33.603Z"
   },
   {
    "duration": 29,
    "start_time": "2022-05-10T11:16:33.755Z"
   },
   {
    "duration": 10,
    "start_time": "2022-05-10T11:16:33.786Z"
   },
   {
    "duration": 55,
    "start_time": "2022-05-10T11:16:33.798Z"
   },
   {
    "duration": 11,
    "start_time": "2022-05-10T11:16:33.855Z"
   },
   {
    "duration": 85,
    "start_time": "2022-05-10T11:16:33.868Z"
   },
   {
    "duration": 19,
    "start_time": "2022-05-10T11:16:33.955Z"
   },
   {
    "duration": 10,
    "start_time": "2022-05-10T11:16:33.977Z"
   },
   {
    "duration": 17,
    "start_time": "2022-05-10T11:16:33.989Z"
   },
   {
    "duration": 45,
    "start_time": "2022-05-10T11:16:34.008Z"
   },
   {
    "duration": 15,
    "start_time": "2022-05-10T11:16:34.055Z"
   },
   {
    "duration": 17,
    "start_time": "2022-05-10T11:16:34.073Z"
   },
   {
    "duration": 8,
    "start_time": "2022-05-10T11:16:34.092Z"
   },
   {
    "duration": 11,
    "start_time": "2022-05-10T11:16:34.101Z"
   },
   {
    "duration": 43,
    "start_time": "2022-05-10T11:16:34.114Z"
   },
   {
    "duration": 6,
    "start_time": "2022-05-10T11:16:34.159Z"
   },
   {
    "duration": 47,
    "start_time": "2022-05-10T11:16:34.167Z"
   },
   {
    "duration": 65,
    "start_time": "2022-05-10T11:16:34.217Z"
   },
   {
    "duration": 15,
    "start_time": "2022-05-10T11:16:34.285Z"
   },
   {
    "duration": 94,
    "start_time": "2022-05-10T11:16:34.304Z"
   },
   {
    "duration": 27,
    "start_time": "2022-05-10T11:16:34.400Z"
   },
   {
    "duration": 74,
    "start_time": "2022-05-10T11:16:34.429Z"
   },
   {
    "duration": 17,
    "start_time": "2022-05-10T11:16:34.505Z"
   },
   {
    "duration": 55,
    "start_time": "2022-05-10T11:16:34.524Z"
   },
   {
    "duration": 72,
    "start_time": "2022-05-10T11:17:01.909Z"
   },
   {
    "duration": 988,
    "start_time": "2022-05-10T11:17:22.058Z"
   },
   {
    "duration": 35,
    "start_time": "2022-05-10T11:17:23.049Z"
   },
   {
    "duration": 22,
    "start_time": "2022-05-10T11:17:23.086Z"
   },
   {
    "duration": 168,
    "start_time": "2022-05-10T11:17:23.111Z"
   },
   {
    "duration": 27,
    "start_time": "2022-05-10T11:17:23.281Z"
   },
   {
    "duration": 11,
    "start_time": "2022-05-10T11:17:23.310Z"
   },
   {
    "duration": 53,
    "start_time": "2022-05-10T11:17:23.323Z"
   },
   {
    "duration": 13,
    "start_time": "2022-05-10T11:17:23.378Z"
   },
   {
    "duration": 134,
    "start_time": "2022-05-10T11:17:23.393Z"
   },
   {
    "duration": 31,
    "start_time": "2022-05-10T11:17:23.532Z"
   },
   {
    "duration": 12,
    "start_time": "2022-05-10T11:17:23.565Z"
   },
   {
    "duration": 26,
    "start_time": "2022-05-10T11:17:23.580Z"
   },
   {
    "duration": 49,
    "start_time": "2022-05-10T11:17:23.608Z"
   },
   {
    "duration": 70,
    "start_time": "2022-05-10T11:17:23.659Z"
   },
   {
    "duration": 37,
    "start_time": "2022-05-10T11:17:23.732Z"
   },
   {
    "duration": 13,
    "start_time": "2022-05-10T11:17:23.771Z"
   },
   {
    "duration": 15,
    "start_time": "2022-05-10T11:17:23.786Z"
   },
   {
    "duration": 14,
    "start_time": "2022-05-10T11:17:23.803Z"
   },
   {
    "duration": 16,
    "start_time": "2022-05-10T11:17:23.851Z"
   },
   {
    "duration": 18,
    "start_time": "2022-05-10T11:17:23.869Z"
   },
   {
    "duration": 9,
    "start_time": "2022-05-10T11:17:23.889Z"
   },
   {
    "duration": 11,
    "start_time": "2022-05-10T11:17:23.900Z"
   },
   {
    "duration": 41,
    "start_time": "2022-05-10T11:17:23.913Z"
   },
   {
    "duration": 13,
    "start_time": "2022-05-10T11:17:23.956Z"
   },
   {
    "duration": 59,
    "start_time": "2022-05-10T11:17:23.971Z"
   },
   {
    "duration": 49,
    "start_time": "2022-05-10T11:17:24.032Z"
   },
   {
    "duration": 15,
    "start_time": "2022-05-10T11:17:24.083Z"
   },
   {
    "duration": 88,
    "start_time": "2022-05-10T11:17:24.102Z"
   },
   {
    "duration": 27,
    "start_time": "2022-05-10T11:17:24.192Z"
   },
   {
    "duration": 68,
    "start_time": "2022-05-10T11:17:24.221Z"
   },
   {
    "duration": 16,
    "start_time": "2022-05-10T11:17:24.292Z"
   },
   {
    "duration": 57,
    "start_time": "2022-05-10T11:17:24.310Z"
   },
   {
    "duration": 35,
    "start_time": "2022-05-10T11:17:24.369Z"
   },
   {
    "duration": 6,
    "start_time": "2022-05-10T11:17:24.406Z"
   },
   {
    "duration": 8,
    "start_time": "2022-05-10T11:17:24.414Z"
   },
   {
    "duration": 61,
    "start_time": "2022-05-10T11:17:24.424Z"
   },
   {
    "duration": 0,
    "start_time": "2022-05-10T11:17:24.487Z"
   },
   {
    "duration": 0,
    "start_time": "2022-05-10T11:17:24.488Z"
   },
   {
    "duration": 0,
    "start_time": "2022-05-10T11:17:24.491Z"
   },
   {
    "duration": 0,
    "start_time": "2022-05-10T11:17:24.492Z"
   },
   {
    "duration": 330,
    "start_time": "2022-05-10T11:18:26.600Z"
   },
   {
    "duration": 77,
    "start_time": "2022-05-10T11:20:11.677Z"
   },
   {
    "duration": 10,
    "start_time": "2022-05-10T11:20:56.249Z"
   },
   {
    "duration": 1054,
    "start_time": "2022-05-10T11:21:05.649Z"
   },
   {
    "duration": 35,
    "start_time": "2022-05-10T11:21:06.706Z"
   },
   {
    "duration": 24,
    "start_time": "2022-05-10T11:21:06.743Z"
   },
   {
    "duration": 176,
    "start_time": "2022-05-10T11:21:06.770Z"
   },
   {
    "duration": 28,
    "start_time": "2022-05-10T11:21:06.948Z"
   },
   {
    "duration": 11,
    "start_time": "2022-05-10T11:21:06.978Z"
   },
   {
    "duration": 61,
    "start_time": "2022-05-10T11:21:06.991Z"
   },
   {
    "duration": 13,
    "start_time": "2022-05-10T11:21:07.054Z"
   },
   {
    "duration": 147,
    "start_time": "2022-05-10T11:21:07.070Z"
   },
   {
    "duration": 40,
    "start_time": "2022-05-10T11:21:07.224Z"
   },
   {
    "duration": 11,
    "start_time": "2022-05-10T11:21:07.267Z"
   },
   {
    "duration": 27,
    "start_time": "2022-05-10T11:21:07.280Z"
   },
   {
    "duration": 51,
    "start_time": "2022-05-10T11:21:07.309Z"
   },
   {
    "duration": 90,
    "start_time": "2022-05-10T11:21:07.363Z"
   },
   {
    "duration": 29,
    "start_time": "2022-05-10T11:21:07.455Z"
   },
   {
    "duration": 9,
    "start_time": "2022-05-10T11:21:07.487Z"
   },
   {
    "duration": 22,
    "start_time": "2022-05-10T11:21:07.498Z"
   },
   {
    "duration": 38,
    "start_time": "2022-05-10T11:21:07.522Z"
   },
   {
    "duration": 19,
    "start_time": "2022-05-10T11:21:07.562Z"
   },
   {
    "duration": 24,
    "start_time": "2022-05-10T11:21:07.583Z"
   },
   {
    "duration": 10,
    "start_time": "2022-05-10T11:21:07.610Z"
   },
   {
    "duration": 38,
    "start_time": "2022-05-10T11:21:07.623Z"
   },
   {
    "duration": 6,
    "start_time": "2022-05-10T11:21:07.663Z"
   },
   {
    "duration": 8,
    "start_time": "2022-05-10T11:21:07.671Z"
   },
   {
    "duration": 92,
    "start_time": "2022-05-10T11:21:07.681Z"
   },
   {
    "duration": 45,
    "start_time": "2022-05-10T11:21:07.776Z"
   },
   {
    "duration": 35,
    "start_time": "2022-05-10T11:21:07.824Z"
   },
   {
    "duration": 69,
    "start_time": "2022-05-10T11:21:07.864Z"
   },
   {
    "duration": 27,
    "start_time": "2022-05-10T11:21:07.953Z"
   },
   {
    "duration": 79,
    "start_time": "2022-05-10T11:21:07.983Z"
   },
   {
    "duration": 18,
    "start_time": "2022-05-10T11:21:08.065Z"
   },
   {
    "duration": 31,
    "start_time": "2022-05-10T11:21:08.085Z"
   },
   {
    "duration": 66,
    "start_time": "2022-05-10T11:21:08.119Z"
   },
   {
    "duration": 367,
    "start_time": "2022-05-10T11:21:08.188Z"
   },
   {
    "duration": 1055,
    "start_time": "2022-05-10T11:21:58.558Z"
   },
   {
    "duration": 36,
    "start_time": "2022-05-10T11:21:59.616Z"
   },
   {
    "duration": 26,
    "start_time": "2022-05-10T11:21:59.654Z"
   },
   {
    "duration": 177,
    "start_time": "2022-05-10T11:21:59.684Z"
   },
   {
    "duration": 27,
    "start_time": "2022-05-10T11:21:59.864Z"
   },
   {
    "duration": 11,
    "start_time": "2022-05-10T11:21:59.893Z"
   },
   {
    "duration": 60,
    "start_time": "2022-05-10T11:21:59.906Z"
   },
   {
    "duration": 14,
    "start_time": "2022-05-10T11:21:59.969Z"
   },
   {
    "duration": 149,
    "start_time": "2022-05-10T11:21:59.985Z"
   },
   {
    "duration": 37,
    "start_time": "2022-05-10T11:22:00.138Z"
   },
   {
    "duration": 10,
    "start_time": "2022-05-10T11:22:00.177Z"
   },
   {
    "duration": 26,
    "start_time": "2022-05-10T11:22:00.189Z"
   },
   {
    "duration": 41,
    "start_time": "2022-05-10T11:22:00.217Z"
   },
   {
    "duration": 99,
    "start_time": "2022-05-10T11:22:00.260Z"
   },
   {
    "duration": 19,
    "start_time": "2022-05-10T11:22:00.361Z"
   },
   {
    "duration": 11,
    "start_time": "2022-05-10T11:22:00.383Z"
   },
   {
    "duration": 60,
    "start_time": "2022-05-10T11:22:00.397Z"
   },
   {
    "duration": 20,
    "start_time": "2022-05-10T11:22:00.460Z"
   },
   {
    "duration": 21,
    "start_time": "2022-05-10T11:22:00.482Z"
   },
   {
    "duration": 37,
    "start_time": "2022-05-10T11:22:00.505Z"
   },
   {
    "duration": 13,
    "start_time": "2022-05-10T11:22:00.545Z"
   },
   {
    "duration": 23,
    "start_time": "2022-05-10T11:22:00.560Z"
   },
   {
    "duration": 18,
    "start_time": "2022-05-10T11:22:00.585Z"
   },
   {
    "duration": 11,
    "start_time": "2022-05-10T11:22:00.605Z"
   },
   {
    "duration": 63,
    "start_time": "2022-05-10T11:22:00.618Z"
   },
   {
    "duration": 42,
    "start_time": "2022-05-10T11:22:00.683Z"
   },
   {
    "duration": 33,
    "start_time": "2022-05-10T11:22:00.728Z"
   },
   {
    "duration": 87,
    "start_time": "2022-05-10T11:22:00.766Z"
   },
   {
    "duration": 26,
    "start_time": "2022-05-10T11:22:00.856Z"
   },
   {
    "duration": 79,
    "start_time": "2022-05-10T11:22:00.884Z"
   },
   {
    "duration": 17,
    "start_time": "2022-05-10T11:22:00.966Z"
   },
   {
    "duration": 74,
    "start_time": "2022-05-10T11:22:00.985Z"
   },
   {
    "duration": 39,
    "start_time": "2022-05-10T11:22:01.061Z"
   },
   {
    "duration": 386,
    "start_time": "2022-05-10T11:22:01.102Z"
   },
   {
    "duration": 78,
    "start_time": "2022-05-10T11:22:10.734Z"
   },
   {
    "duration": 8,
    "start_time": "2022-05-10T11:41:26.536Z"
   },
   {
    "duration": 997,
    "start_time": "2022-05-10T11:41:36.094Z"
   },
   {
    "duration": 35,
    "start_time": "2022-05-10T11:41:37.094Z"
   },
   {
    "duration": 26,
    "start_time": "2022-05-10T11:41:37.131Z"
   },
   {
    "duration": 162,
    "start_time": "2022-05-10T11:41:37.160Z"
   },
   {
    "duration": 35,
    "start_time": "2022-05-10T11:41:37.324Z"
   },
   {
    "duration": 14,
    "start_time": "2022-05-10T11:41:37.361Z"
   },
   {
    "duration": 28,
    "start_time": "2022-05-10T11:41:37.377Z"
   },
   {
    "duration": 13,
    "start_time": "2022-05-10T11:41:37.407Z"
   },
   {
    "duration": 129,
    "start_time": "2022-05-10T11:41:37.451Z"
   },
   {
    "duration": 25,
    "start_time": "2022-05-10T11:41:37.585Z"
   },
   {
    "duration": 11,
    "start_time": "2022-05-10T11:41:37.612Z"
   },
   {
    "duration": 50,
    "start_time": "2022-05-10T11:41:37.626Z"
   },
   {
    "duration": 12,
    "start_time": "2022-05-10T11:41:37.679Z"
   },
   {
    "duration": 105,
    "start_time": "2022-05-10T11:41:37.694Z"
   },
   {
    "duration": 18,
    "start_time": "2022-05-10T11:41:37.801Z"
   },
   {
    "duration": 31,
    "start_time": "2022-05-10T11:41:37.821Z"
   },
   {
    "duration": 15,
    "start_time": "2022-05-10T11:41:37.854Z"
   },
   {
    "duration": 21,
    "start_time": "2022-05-10T11:41:37.872Z"
   },
   {
    "duration": 35,
    "start_time": "2022-05-10T11:41:37.896Z"
   },
   {
    "duration": 37,
    "start_time": "2022-05-10T11:41:37.934Z"
   },
   {
    "duration": 10,
    "start_time": "2022-05-10T11:41:37.973Z"
   },
   {
    "duration": 18,
    "start_time": "2022-05-10T11:41:37.985Z"
   },
   {
    "duration": 8,
    "start_time": "2022-05-10T11:41:38.005Z"
   },
   {
    "duration": 9,
    "start_time": "2022-05-10T11:41:38.015Z"
   },
   {
    "duration": 69,
    "start_time": "2022-05-10T11:41:38.026Z"
   },
   {
    "duration": 56,
    "start_time": "2022-05-10T11:41:38.097Z"
   },
   {
    "duration": 15,
    "start_time": "2022-05-10T11:41:38.155Z"
   },
   {
    "duration": 84,
    "start_time": "2022-05-10T11:41:38.175Z"
   },
   {
    "duration": 26,
    "start_time": "2022-05-10T11:41:38.261Z"
   },
   {
    "duration": 72,
    "start_time": "2022-05-10T11:41:38.289Z"
   },
   {
    "duration": 16,
    "start_time": "2022-05-10T11:41:38.363Z"
   },
   {
    "duration": 31,
    "start_time": "2022-05-10T11:41:38.381Z"
   },
   {
    "duration": 62,
    "start_time": "2022-05-10T11:41:38.414Z"
   },
   {
    "duration": 346,
    "start_time": "2022-05-10T11:41:38.478Z"
   },
   {
    "duration": 77,
    "start_time": "2022-05-10T11:41:38.826Z"
   },
   {
    "duration": 0,
    "start_time": "2022-05-10T11:41:38.905Z"
   },
   {
    "duration": 0,
    "start_time": "2022-05-10T11:41:38.907Z"
   },
   {
    "duration": 0,
    "start_time": "2022-05-10T11:41:38.908Z"
   },
   {
    "duration": 0,
    "start_time": "2022-05-10T11:41:38.910Z"
   },
   {
    "duration": 0,
    "start_time": "2022-05-10T11:41:38.911Z"
   },
   {
    "duration": 0,
    "start_time": "2022-05-10T11:41:38.912Z"
   },
   {
    "duration": 0,
    "start_time": "2022-05-10T11:41:38.913Z"
   },
   {
    "duration": 0,
    "start_time": "2022-05-10T11:41:38.915Z"
   },
   {
    "duration": 3665,
    "start_time": "2022-05-10T11:47:21.649Z"
   },
   {
    "duration": 40,
    "start_time": "2022-05-10T11:50:40.072Z"
   },
   {
    "duration": 19,
    "start_time": "2022-05-10T11:52:11.438Z"
   },
   {
    "duration": 76,
    "start_time": "2022-05-10T11:53:19.765Z"
   },
   {
    "duration": 955,
    "start_time": "2022-05-10T11:54:40.671Z"
   },
   {
    "duration": 36,
    "start_time": "2022-05-10T11:54:41.629Z"
   },
   {
    "duration": 23,
    "start_time": "2022-05-10T11:54:41.667Z"
   },
   {
    "duration": 179,
    "start_time": "2022-05-10T11:54:41.692Z"
   },
   {
    "duration": 28,
    "start_time": "2022-05-10T11:54:41.874Z"
   },
   {
    "duration": 14,
    "start_time": "2022-05-10T11:54:41.904Z"
   },
   {
    "duration": 62,
    "start_time": "2022-05-10T11:54:41.920Z"
   },
   {
    "duration": 15,
    "start_time": "2022-05-10T11:54:41.985Z"
   },
   {
    "duration": 157,
    "start_time": "2022-05-10T11:54:42.002Z"
   },
   {
    "duration": 31,
    "start_time": "2022-05-10T11:54:42.161Z"
   },
   {
    "duration": 14,
    "start_time": "2022-05-10T11:54:42.194Z"
   },
   {
    "duration": 52,
    "start_time": "2022-05-10T11:54:42.209Z"
   },
   {
    "duration": 10,
    "start_time": "2022-05-10T11:54:42.264Z"
   },
   {
    "duration": 92,
    "start_time": "2022-05-10T11:54:42.279Z"
   },
   {
    "duration": 28,
    "start_time": "2022-05-10T11:54:42.373Z"
   },
   {
    "duration": 15,
    "start_time": "2022-05-10T11:54:42.403Z"
   },
   {
    "duration": 41,
    "start_time": "2022-05-10T11:54:42.420Z"
   },
   {
    "duration": 25,
    "start_time": "2022-05-10T11:54:42.464Z"
   },
   {
    "duration": 23,
    "start_time": "2022-05-10T11:54:42.491Z"
   },
   {
    "duration": 20,
    "start_time": "2022-05-10T11:54:42.516Z"
   },
   {
    "duration": 18,
    "start_time": "2022-05-10T11:54:42.537Z"
   },
   {
    "duration": 13,
    "start_time": "2022-05-10T11:54:42.557Z"
   },
   {
    "duration": 24,
    "start_time": "2022-05-10T11:54:42.572Z"
   },
   {
    "duration": 11,
    "start_time": "2022-05-10T11:54:42.598Z"
   },
   {
    "duration": 59,
    "start_time": "2022-05-10T11:54:42.611Z"
   },
   {
    "duration": 41,
    "start_time": "2022-05-10T11:54:42.673Z"
   },
   {
    "duration": 37,
    "start_time": "2022-05-10T11:54:42.716Z"
   },
   {
    "duration": 66,
    "start_time": "2022-05-10T11:54:42.755Z"
   },
   {
    "duration": 49,
    "start_time": "2022-05-10T11:54:42.823Z"
   },
   {
    "duration": 20,
    "start_time": "2022-05-10T11:54:42.875Z"
   },
   {
    "duration": 82,
    "start_time": "2022-05-10T11:54:42.897Z"
   },
   {
    "duration": 17,
    "start_time": "2022-05-10T11:54:42.981Z"
   },
   {
    "duration": 56,
    "start_time": "2022-05-10T11:54:43.000Z"
   },
   {
    "duration": 36,
    "start_time": "2022-05-10T11:54:43.058Z"
   },
   {
    "duration": 367,
    "start_time": "2022-05-10T11:54:43.096Z"
   },
   {
    "duration": 71,
    "start_time": "2022-05-10T11:54:49.715Z"
   },
   {
    "duration": 970,
    "start_time": "2022-05-10T11:55:40.464Z"
   },
   {
    "duration": 35,
    "start_time": "2022-05-10T11:55:41.436Z"
   },
   {
    "duration": 23,
    "start_time": "2022-05-10T11:55:41.473Z"
   },
   {
    "duration": 176,
    "start_time": "2022-05-10T11:55:41.499Z"
   },
   {
    "duration": 27,
    "start_time": "2022-05-10T11:55:41.678Z"
   },
   {
    "duration": 11,
    "start_time": "2022-05-10T11:55:41.707Z"
   },
   {
    "duration": 62,
    "start_time": "2022-05-10T11:55:41.720Z"
   },
   {
    "duration": 16,
    "start_time": "2022-05-10T11:55:41.784Z"
   },
   {
    "duration": 150,
    "start_time": "2022-05-10T11:55:41.802Z"
   },
   {
    "duration": 26,
    "start_time": "2022-05-10T11:55:41.956Z"
   },
   {
    "duration": 9,
    "start_time": "2022-05-10T11:55:41.985Z"
   },
   {
    "duration": 62,
    "start_time": "2022-05-10T11:55:41.997Z"
   },
   {
    "duration": 11,
    "start_time": "2022-05-10T11:55:42.061Z"
   },
   {
    "duration": 98,
    "start_time": "2022-05-10T11:55:42.074Z"
   },
   {
    "duration": 21,
    "start_time": "2022-05-10T11:55:42.174Z"
   },
   {
    "duration": 10,
    "start_time": "2022-05-10T11:55:42.198Z"
   },
   {
    "duration": 43,
    "start_time": "2022-05-10T11:55:42.210Z"
   },
   {
    "duration": 11,
    "start_time": "2022-05-10T11:55:42.255Z"
   },
   {
    "duration": 20,
    "start_time": "2022-05-10T11:55:42.268Z"
   },
   {
    "duration": 20,
    "start_time": "2022-05-10T11:55:42.291Z"
   },
   {
    "duration": 18,
    "start_time": "2022-05-10T11:55:42.314Z"
   },
   {
    "duration": 8,
    "start_time": "2022-05-10T11:55:42.351Z"
   },
   {
    "duration": 15,
    "start_time": "2022-05-10T11:55:42.361Z"
   },
   {
    "duration": 11,
    "start_time": "2022-05-10T11:55:42.378Z"
   },
   {
    "duration": 63,
    "start_time": "2022-05-10T11:55:42.390Z"
   },
   {
    "duration": 42,
    "start_time": "2022-05-10T11:55:42.455Z"
   },
   {
    "duration": 14,
    "start_time": "2022-05-10T11:55:42.499Z"
   },
   {
    "duration": 96,
    "start_time": "2022-05-10T11:55:42.518Z"
   },
   {
    "duration": 47,
    "start_time": "2022-05-10T11:55:42.616Z"
   },
   {
    "duration": 20,
    "start_time": "2022-05-10T11:55:42.665Z"
   },
   {
    "duration": 76,
    "start_time": "2022-05-10T11:55:42.688Z"
   },
   {
    "duration": 17,
    "start_time": "2022-05-10T11:55:42.767Z"
   },
   {
    "duration": 38,
    "start_time": "2022-05-10T11:55:42.786Z"
   },
   {
    "duration": 57,
    "start_time": "2022-05-10T11:55:42.826Z"
   },
   {
    "duration": 355,
    "start_time": "2022-05-10T11:55:42.886Z"
   },
   {
    "duration": 72,
    "start_time": "2022-05-10T11:57:37.764Z"
   },
   {
    "duration": 9,
    "start_time": "2022-05-10T11:57:53.112Z"
   },
   {
    "duration": 982,
    "start_time": "2022-05-10T11:57:57.549Z"
   },
   {
    "duration": 36,
    "start_time": "2022-05-10T11:57:58.534Z"
   },
   {
    "duration": 24,
    "start_time": "2022-05-10T11:57:58.573Z"
   },
   {
    "duration": 174,
    "start_time": "2022-05-10T11:57:58.601Z"
   },
   {
    "duration": 28,
    "start_time": "2022-05-10T11:57:58.778Z"
   },
   {
    "duration": 12,
    "start_time": "2022-05-10T11:57:58.808Z"
   },
   {
    "duration": 59,
    "start_time": "2022-05-10T11:57:58.822Z"
   },
   {
    "duration": 13,
    "start_time": "2022-05-10T11:57:58.884Z"
   },
   {
    "duration": 147,
    "start_time": "2022-05-10T11:57:58.900Z"
   },
   {
    "duration": 26,
    "start_time": "2022-05-10T11:57:59.055Z"
   },
   {
    "duration": 15,
    "start_time": "2022-05-10T11:57:59.083Z"
   },
   {
    "duration": 23,
    "start_time": "2022-05-10T11:57:59.100Z"
   },
   {
    "duration": 11,
    "start_time": "2022-05-10T11:57:59.152Z"
   },
   {
    "duration": 66,
    "start_time": "2022-05-10T11:57:59.165Z"
   },
   {
    "duration": 36,
    "start_time": "2022-05-10T11:57:59.233Z"
   },
   {
    "duration": 8,
    "start_time": "2022-05-10T11:57:59.272Z"
   },
   {
    "duration": 14,
    "start_time": "2022-05-10T11:57:59.282Z"
   },
   {
    "duration": 54,
    "start_time": "2022-05-10T11:57:59.298Z"
   },
   {
    "duration": 17,
    "start_time": "2022-05-10T11:57:59.354Z"
   },
   {
    "duration": 18,
    "start_time": "2022-05-10T11:57:59.373Z"
   },
   {
    "duration": 6,
    "start_time": "2022-05-10T11:57:59.393Z"
   },
   {
    "duration": 14,
    "start_time": "2022-05-10T11:57:59.401Z"
   },
   {
    "duration": 7,
    "start_time": "2022-05-10T11:57:59.451Z"
   },
   {
    "duration": 10,
    "start_time": "2022-05-10T11:57:59.460Z"
   },
   {
    "duration": 47,
    "start_time": "2022-05-10T11:57:59.472Z"
   },
   {
    "duration": 66,
    "start_time": "2022-05-10T11:57:59.521Z"
   },
   {
    "duration": 15,
    "start_time": "2022-05-10T11:57:59.589Z"
   },
   {
    "duration": 92,
    "start_time": "2022-05-10T11:57:59.609Z"
   },
   {
    "duration": 50,
    "start_time": "2022-05-10T11:57:59.704Z"
   },
   {
    "duration": 20,
    "start_time": "2022-05-10T11:57:59.757Z"
   },
   {
    "duration": 83,
    "start_time": "2022-05-10T11:57:59.779Z"
   },
   {
    "duration": 16,
    "start_time": "2022-05-10T11:57:59.864Z"
   },
   {
    "duration": 46,
    "start_time": "2022-05-10T11:57:59.883Z"
   },
   {
    "duration": 55,
    "start_time": "2022-05-10T11:57:59.932Z"
   },
   {
    "duration": 369,
    "start_time": "2022-05-10T11:57:59.990Z"
   },
   {
    "duration": 89,
    "start_time": "2022-05-10T11:58:00.362Z"
   },
   {
    "duration": 0,
    "start_time": "2022-05-10T11:58:00.454Z"
   },
   {
    "duration": 0,
    "start_time": "2022-05-10T11:58:00.456Z"
   },
   {
    "duration": 0,
    "start_time": "2022-05-10T11:58:00.458Z"
   },
   {
    "duration": 0,
    "start_time": "2022-05-10T11:58:00.460Z"
   },
   {
    "duration": 0,
    "start_time": "2022-05-10T11:58:00.463Z"
   },
   {
    "duration": 0,
    "start_time": "2022-05-10T11:58:00.465Z"
   },
   {
    "duration": 0,
    "start_time": "2022-05-10T11:58:00.467Z"
   },
   {
    "duration": 0,
    "start_time": "2022-05-10T11:58:00.469Z"
   },
   {
    "duration": 3303,
    "start_time": "2022-05-10T11:59:10.614Z"
   },
   {
    "duration": 1102,
    "start_time": "2022-05-10T12:03:50.621Z"
   },
   {
    "duration": 34,
    "start_time": "2022-05-10T12:03:51.725Z"
   },
   {
    "duration": 22,
    "start_time": "2022-05-10T12:03:51.761Z"
   },
   {
    "duration": 187,
    "start_time": "2022-05-10T12:03:51.786Z"
   },
   {
    "duration": 26,
    "start_time": "2022-05-10T12:03:51.975Z"
   },
   {
    "duration": 26,
    "start_time": "2022-05-10T12:03:52.003Z"
   },
   {
    "duration": 43,
    "start_time": "2022-05-10T12:03:52.031Z"
   },
   {
    "duration": 27,
    "start_time": "2022-05-10T12:03:52.077Z"
   },
   {
    "duration": 229,
    "start_time": "2022-05-10T12:03:52.106Z"
   },
   {
    "duration": 31,
    "start_time": "2022-05-10T12:03:52.339Z"
   },
   {
    "duration": 12,
    "start_time": "2022-05-10T12:03:52.372Z"
   },
   {
    "duration": 41,
    "start_time": "2022-05-10T12:03:52.386Z"
   },
   {
    "duration": 26,
    "start_time": "2022-05-10T12:03:52.429Z"
   },
   {
    "duration": 78,
    "start_time": "2022-05-10T12:03:52.457Z"
   },
   {
    "duration": 22,
    "start_time": "2022-05-10T12:03:52.537Z"
   },
   {
    "duration": 31,
    "start_time": "2022-05-10T12:03:52.561Z"
   },
   {
    "duration": 15,
    "start_time": "2022-05-10T12:03:52.595Z"
   },
   {
    "duration": 17,
    "start_time": "2022-05-10T12:03:52.612Z"
   },
   {
    "duration": 29,
    "start_time": "2022-05-10T12:03:52.631Z"
   },
   {
    "duration": 19,
    "start_time": "2022-05-10T12:03:52.662Z"
   },
   {
    "duration": 31,
    "start_time": "2022-05-10T12:03:52.683Z"
   },
   {
    "duration": 17,
    "start_time": "2022-05-10T12:03:52.716Z"
   },
   {
    "duration": 15,
    "start_time": "2022-05-10T12:03:52.736Z"
   },
   {
    "duration": 17,
    "start_time": "2022-05-10T12:03:52.753Z"
   },
   {
    "duration": 66,
    "start_time": "2022-05-10T12:03:52.772Z"
   },
   {
    "duration": 41,
    "start_time": "2022-05-10T12:03:52.840Z"
   },
   {
    "duration": 14,
    "start_time": "2022-05-10T12:03:52.883Z"
   },
   {
    "duration": 87,
    "start_time": "2022-05-10T12:03:52.902Z"
   },
   {
    "duration": 25,
    "start_time": "2022-05-10T12:03:52.992Z"
   },
   {
    "duration": 48,
    "start_time": "2022-05-10T12:03:53.020Z"
   },
   {
    "duration": 85,
    "start_time": "2022-05-10T12:03:53.070Z"
   },
   {
    "duration": 19,
    "start_time": "2022-05-10T12:03:53.158Z"
   },
   {
    "duration": 46,
    "start_time": "2022-05-10T12:03:53.179Z"
   },
   {
    "duration": 49,
    "start_time": "2022-05-10T12:03:53.227Z"
   },
   {
    "duration": 391,
    "start_time": "2022-05-10T12:03:53.278Z"
   },
   {
    "duration": 75,
    "start_time": "2022-05-10T12:07:20.552Z"
   },
   {
    "duration": 10,
    "start_time": "2022-05-10T12:07:26.509Z"
   },
   {
    "duration": 974,
    "start_time": "2022-05-10T12:07:32.605Z"
   },
   {
    "duration": 35,
    "start_time": "2022-05-10T12:07:33.582Z"
   },
   {
    "duration": 22,
    "start_time": "2022-05-10T12:07:33.619Z"
   },
   {
    "duration": 148,
    "start_time": "2022-05-10T12:07:33.644Z"
   },
   {
    "duration": 29,
    "start_time": "2022-05-10T12:07:33.794Z"
   },
   {
    "duration": 26,
    "start_time": "2022-05-10T12:07:33.826Z"
   },
   {
    "duration": 29,
    "start_time": "2022-05-10T12:07:33.854Z"
   },
   {
    "duration": 16,
    "start_time": "2022-05-10T12:07:33.886Z"
   },
   {
    "duration": 121,
    "start_time": "2022-05-10T12:07:33.904Z"
   },
   {
    "duration": 43,
    "start_time": "2022-05-10T12:07:34.029Z"
   },
   {
    "duration": 9,
    "start_time": "2022-05-10T12:07:34.074Z"
   },
   {
    "duration": 79,
    "start_time": "2022-05-10T12:07:34.085Z"
   },
   {
    "duration": 11,
    "start_time": "2022-05-10T12:07:34.167Z"
   },
   {
    "duration": 94,
    "start_time": "2022-05-10T12:07:34.180Z"
   },
   {
    "duration": 18,
    "start_time": "2022-05-10T12:07:34.276Z"
   },
   {
    "duration": 58,
    "start_time": "2022-05-10T12:07:34.297Z"
   },
   {
    "duration": 16,
    "start_time": "2022-05-10T12:07:34.357Z"
   },
   {
    "duration": 14,
    "start_time": "2022-05-10T12:07:34.376Z"
   },
   {
    "duration": 71,
    "start_time": "2022-05-10T12:07:34.392Z"
   },
   {
    "duration": 25,
    "start_time": "2022-05-10T12:07:34.465Z"
   },
   {
    "duration": 12,
    "start_time": "2022-05-10T12:07:34.492Z"
   },
   {
    "duration": 9,
    "start_time": "2022-05-10T12:07:34.552Z"
   },
   {
    "duration": 6,
    "start_time": "2022-05-10T12:07:34.563Z"
   },
   {
    "duration": 7,
    "start_time": "2022-05-10T12:07:34.571Z"
   },
   {
    "duration": 95,
    "start_time": "2022-05-10T12:07:34.580Z"
   },
   {
    "duration": 41,
    "start_time": "2022-05-10T12:07:34.677Z"
   },
   {
    "duration": 39,
    "start_time": "2022-05-10T12:07:34.721Z"
   },
   {
    "duration": 65,
    "start_time": "2022-05-10T12:07:34.765Z"
   },
   {
    "duration": 43,
    "start_time": "2022-05-10T12:07:34.832Z"
   },
   {
    "duration": 18,
    "start_time": "2022-05-10T12:07:34.877Z"
   },
   {
    "duration": 78,
    "start_time": "2022-05-10T12:07:34.897Z"
   },
   {
    "duration": 17,
    "start_time": "2022-05-10T12:07:34.977Z"
   },
   {
    "duration": 39,
    "start_time": "2022-05-10T12:07:34.996Z"
   },
   {
    "duration": 49,
    "start_time": "2022-05-10T12:07:35.037Z"
   },
   {
    "duration": 374,
    "start_time": "2022-05-10T12:07:35.088Z"
   },
   {
    "duration": 1002,
    "start_time": "2022-05-10T12:19:52.371Z"
   },
   {
    "duration": 35,
    "start_time": "2022-05-10T12:19:53.376Z"
   },
   {
    "duration": 23,
    "start_time": "2022-05-10T12:19:53.413Z"
   },
   {
    "duration": 160,
    "start_time": "2022-05-10T12:19:53.439Z"
   },
   {
    "duration": 27,
    "start_time": "2022-05-10T12:19:53.602Z"
   },
   {
    "duration": 25,
    "start_time": "2022-05-10T12:19:53.631Z"
   },
   {
    "duration": 28,
    "start_time": "2022-05-10T12:19:53.659Z"
   },
   {
    "duration": 14,
    "start_time": "2022-05-10T12:19:53.689Z"
   },
   {
    "duration": 158,
    "start_time": "2022-05-10T12:19:53.705Z"
   },
   {
    "duration": 27,
    "start_time": "2022-05-10T12:19:53.867Z"
   },
   {
    "duration": 11,
    "start_time": "2022-05-10T12:19:53.897Z"
   },
   {
    "duration": 53,
    "start_time": "2022-05-10T12:19:53.911Z"
   },
   {
    "duration": 11,
    "start_time": "2022-05-10T12:19:53.966Z"
   },
   {
    "duration": 94,
    "start_time": "2022-05-10T12:19:53.980Z"
   },
   {
    "duration": 21,
    "start_time": "2022-05-10T12:19:54.076Z"
   },
   {
    "duration": 10,
    "start_time": "2022-05-10T12:19:54.100Z"
   },
   {
    "duration": 50,
    "start_time": "2022-05-10T12:19:54.112Z"
   },
   {
    "duration": 13,
    "start_time": "2022-05-10T12:19:54.165Z"
   },
   {
    "duration": 18,
    "start_time": "2022-05-10T12:19:54.180Z"
   },
   {
    "duration": 52,
    "start_time": "2022-05-10T12:19:54.201Z"
   },
   {
    "duration": 7,
    "start_time": "2022-05-10T12:19:54.256Z"
   },
   {
    "duration": 11,
    "start_time": "2022-05-10T12:19:54.265Z"
   },
   {
    "duration": 7,
    "start_time": "2022-05-10T12:19:54.278Z"
   },
   {
    "duration": 8,
    "start_time": "2022-05-10T12:19:54.287Z"
   },
   {
    "duration": 86,
    "start_time": "2022-05-10T12:19:54.297Z"
   },
   {
    "duration": 43,
    "start_time": "2022-05-10T12:19:54.385Z"
   },
   {
    "duration": 33,
    "start_time": "2022-05-10T12:19:54.430Z"
   },
   {
    "duration": 45,
    "start_time": "2022-05-10T12:19:54.467Z"
   },
   {
    "duration": 50,
    "start_time": "2022-05-10T12:19:54.514Z"
   },
   {
    "duration": 58,
    "start_time": "2022-05-10T12:19:54.567Z"
   },
   {
    "duration": 38,
    "start_time": "2022-05-10T12:19:54.627Z"
   },
   {
    "duration": 46,
    "start_time": "2022-05-10T12:19:54.667Z"
   },
   {
    "duration": 99,
    "start_time": "2022-05-10T12:19:54.716Z"
   },
   {
    "duration": 3,
    "start_time": "2022-05-10T12:19:54.818Z"
   },
   {
    "duration": 11,
    "start_time": "2022-05-10T12:19:54.823Z"
   },
   {
    "duration": 16,
    "start_time": "2022-05-10T12:19:54.836Z"
   },
   {
    "duration": 6,
    "start_time": "2022-05-10T12:19:54.854Z"
   },
   {
    "duration": 6,
    "start_time": "2022-05-10T12:19:54.862Z"
   },
   {
    "duration": 6,
    "start_time": "2022-05-10T12:19:54.871Z"
   },
   {
    "duration": 488,
    "start_time": "2022-05-10T12:20:31.180Z"
   },
   {
    "duration": 37,
    "start_time": "2022-05-10T12:20:31.671Z"
   },
   {
    "duration": 41,
    "start_time": "2022-05-10T12:20:31.711Z"
   },
   {
    "duration": 164,
    "start_time": "2022-05-10T12:20:31.755Z"
   },
   {
    "duration": 36,
    "start_time": "2022-05-10T12:20:31.922Z"
   },
   {
    "duration": 15,
    "start_time": "2022-05-10T12:20:31.960Z"
   },
   {
    "duration": 44,
    "start_time": "2022-05-10T12:20:31.977Z"
   },
   {
    "duration": 23,
    "start_time": "2022-05-10T12:20:32.024Z"
   },
   {
    "duration": 115,
    "start_time": "2022-05-10T12:20:32.052Z"
   },
   {
    "duration": 25,
    "start_time": "2022-05-10T12:20:32.171Z"
   },
   {
    "duration": 29,
    "start_time": "2022-05-10T12:20:32.199Z"
   },
   {
    "duration": 33,
    "start_time": "2022-05-10T12:20:32.230Z"
   },
   {
    "duration": 16,
    "start_time": "2022-05-10T12:20:32.265Z"
   },
   {
    "duration": 91,
    "start_time": "2022-05-10T12:20:32.283Z"
   },
   {
    "duration": 19,
    "start_time": "2022-05-10T12:20:32.376Z"
   },
   {
    "duration": 18,
    "start_time": "2022-05-10T12:20:32.397Z"
   },
   {
    "duration": 39,
    "start_time": "2022-05-10T12:20:32.417Z"
   },
   {
    "duration": 24,
    "start_time": "2022-05-10T12:20:32.458Z"
   },
   {
    "duration": 41,
    "start_time": "2022-05-10T12:20:32.484Z"
   },
   {
    "duration": 27,
    "start_time": "2022-05-10T12:20:32.528Z"
   },
   {
    "duration": 21,
    "start_time": "2022-05-10T12:20:32.557Z"
   },
   {
    "duration": 18,
    "start_time": "2022-05-10T12:20:32.581Z"
   },
   {
    "duration": 14,
    "start_time": "2022-05-10T12:20:32.601Z"
   },
   {
    "duration": 22,
    "start_time": "2022-05-10T12:20:32.617Z"
   },
   {
    "duration": 48,
    "start_time": "2022-05-10T12:20:32.641Z"
   },
   {
    "duration": 41,
    "start_time": "2022-05-10T12:20:32.692Z"
   },
   {
    "duration": 28,
    "start_time": "2022-05-10T12:20:32.735Z"
   },
   {
    "duration": 43,
    "start_time": "2022-05-10T12:20:32.768Z"
   },
   {
    "duration": 41,
    "start_time": "2022-05-10T12:20:32.813Z"
   },
   {
    "duration": 67,
    "start_time": "2022-05-10T12:20:32.856Z"
   },
   {
    "duration": 28,
    "start_time": "2022-05-10T12:20:32.925Z"
   },
   {
    "duration": 45,
    "start_time": "2022-05-10T12:20:32.955Z"
   },
   {
    "duration": 92,
    "start_time": "2022-05-10T12:20:33.002Z"
   },
   {
    "duration": 60,
    "start_time": "2022-05-10T12:20:33.096Z"
   },
   {
    "duration": 17,
    "start_time": "2022-05-10T12:20:33.158Z"
   },
   {
    "duration": 128,
    "start_time": "2022-05-10T12:20:33.177Z"
   },
   {
    "duration": 0,
    "start_time": "2022-05-10T12:20:33.308Z"
   },
   {
    "duration": 0,
    "start_time": "2022-05-10T12:20:33.309Z"
   },
   {
    "duration": 0,
    "start_time": "2022-05-10T12:20:33.311Z"
   },
   {
    "duration": 17,
    "start_time": "2022-05-10T12:21:03.650Z"
   },
   {
    "duration": 92,
    "start_time": "2022-05-10T12:23:31.467Z"
   },
   {
    "duration": 495,
    "start_time": "2022-05-10T12:23:40.802Z"
   },
   {
    "duration": 34,
    "start_time": "2022-05-10T12:23:41.300Z"
   },
   {
    "duration": 17,
    "start_time": "2022-05-10T12:23:41.336Z"
   },
   {
    "duration": 160,
    "start_time": "2022-05-10T12:23:41.356Z"
   },
   {
    "duration": 35,
    "start_time": "2022-05-10T12:23:41.518Z"
   },
   {
    "duration": 10,
    "start_time": "2022-05-10T12:23:41.557Z"
   },
   {
    "duration": 31,
    "start_time": "2022-05-10T12:23:41.570Z"
   },
   {
    "duration": 48,
    "start_time": "2022-05-10T12:23:41.604Z"
   },
   {
    "duration": 152,
    "start_time": "2022-05-10T12:23:41.655Z"
   },
   {
    "duration": 44,
    "start_time": "2022-05-10T12:23:41.813Z"
   },
   {
    "duration": 13,
    "start_time": "2022-05-10T12:23:41.860Z"
   },
   {
    "duration": 42,
    "start_time": "2022-05-10T12:23:41.876Z"
   },
   {
    "duration": 46,
    "start_time": "2022-05-10T12:23:41.920Z"
   },
   {
    "duration": 62,
    "start_time": "2022-05-10T12:23:41.969Z"
   },
   {
    "duration": 22,
    "start_time": "2022-05-10T12:23:42.052Z"
   },
   {
    "duration": 12,
    "start_time": "2022-05-10T12:23:42.076Z"
   },
   {
    "duration": 15,
    "start_time": "2022-05-10T12:23:42.090Z"
   },
   {
    "duration": 51,
    "start_time": "2022-05-10T12:23:42.108Z"
   },
   {
    "duration": 18,
    "start_time": "2022-05-10T12:23:42.161Z"
   },
   {
    "duration": 20,
    "start_time": "2022-05-10T12:23:42.182Z"
   },
   {
    "duration": 11,
    "start_time": "2022-05-10T12:23:42.204Z"
   },
   {
    "duration": 44,
    "start_time": "2022-05-10T12:23:42.217Z"
   },
   {
    "duration": 112,
    "start_time": "2022-05-10T12:23:42.264Z"
   },
   {
    "duration": 10,
    "start_time": "2022-05-10T12:23:42.378Z"
   },
   {
    "duration": 48,
    "start_time": "2022-05-10T12:23:42.391Z"
   },
   {
    "duration": 41,
    "start_time": "2022-05-10T12:23:42.442Z"
   },
   {
    "duration": 15,
    "start_time": "2022-05-10T12:23:42.485Z"
   },
   {
    "duration": 188,
    "start_time": "2022-05-10T12:23:42.505Z"
   },
   {
    "duration": 24,
    "start_time": "2022-05-10T12:23:42.696Z"
   },
   {
    "duration": 74,
    "start_time": "2022-05-10T12:23:42.723Z"
   },
   {
    "duration": 17,
    "start_time": "2022-05-10T12:23:42.800Z"
   },
   {
    "duration": 56,
    "start_time": "2022-05-10T12:23:42.819Z"
   },
   {
    "duration": 91,
    "start_time": "2022-05-10T12:23:42.877Z"
   },
   {
    "duration": 43,
    "start_time": "2022-05-10T12:23:42.970Z"
   },
   {
    "duration": 38,
    "start_time": "2022-05-10T12:23:43.015Z"
   },
   {
    "duration": 20,
    "start_time": "2022-05-10T12:23:43.055Z"
   },
   {
    "duration": 38,
    "start_time": "2022-05-10T12:23:43.077Z"
   },
   {
    "duration": 48,
    "start_time": "2022-05-10T12:23:43.117Z"
   },
   {
    "duration": 20,
    "start_time": "2022-05-10T12:23:43.168Z"
   },
   {
    "duration": 4,
    "start_time": "2022-05-10T12:23:43.191Z"
   },
   {
    "duration": 20,
    "start_time": "2022-05-10T13:03:15.813Z"
   },
   {
    "duration": 10,
    "start_time": "2022-05-10T13:03:52.427Z"
   },
   {
    "duration": 24,
    "start_time": "2022-05-10T13:04:38.869Z"
   },
   {
    "duration": 30,
    "start_time": "2022-05-10T13:07:28.933Z"
   },
   {
    "duration": 19,
    "start_time": "2022-05-10T13:08:06.623Z"
   },
   {
    "duration": 38,
    "start_time": "2022-05-10T13:15:23.344Z"
   },
   {
    "duration": 30,
    "start_time": "2022-05-10T13:19:49.248Z"
   },
   {
    "duration": 37,
    "start_time": "2022-05-10T13:20:41.334Z"
   },
   {
    "duration": 36,
    "start_time": "2022-05-10T13:21:11.356Z"
   },
   {
    "duration": 520,
    "start_time": "2022-05-10T13:24:10.126Z"
   },
   {
    "duration": 36,
    "start_time": "2022-05-10T13:24:10.649Z"
   },
   {
    "duration": 13,
    "start_time": "2022-05-10T13:24:10.687Z"
   },
   {
    "duration": 171,
    "start_time": "2022-05-10T13:24:10.703Z"
   },
   {
    "duration": 28,
    "start_time": "2022-05-10T13:24:10.876Z"
   },
   {
    "duration": 11,
    "start_time": "2022-05-10T13:24:10.907Z"
   },
   {
    "duration": 59,
    "start_time": "2022-05-10T13:24:10.920Z"
   },
   {
    "duration": 13,
    "start_time": "2022-05-10T13:24:10.981Z"
   },
   {
    "duration": 169,
    "start_time": "2022-05-10T13:24:10.997Z"
   },
   {
    "duration": 43,
    "start_time": "2022-05-10T13:24:11.171Z"
   },
   {
    "duration": 36,
    "start_time": "2022-05-10T13:24:11.217Z"
   },
   {
    "duration": 39,
    "start_time": "2022-05-10T13:24:11.256Z"
   },
   {
    "duration": 12,
    "start_time": "2022-05-10T13:24:11.298Z"
   },
   {
    "duration": 99,
    "start_time": "2022-05-10T13:24:11.312Z"
   },
   {
    "duration": 42,
    "start_time": "2022-05-10T13:24:11.413Z"
   },
   {
    "duration": 25,
    "start_time": "2022-05-10T13:24:11.458Z"
   },
   {
    "duration": 24,
    "start_time": "2022-05-10T13:24:11.486Z"
   },
   {
    "duration": 21,
    "start_time": "2022-05-10T13:24:11.513Z"
   },
   {
    "duration": 23,
    "start_time": "2022-05-10T13:24:11.537Z"
   },
   {
    "duration": 22,
    "start_time": "2022-05-10T13:24:11.563Z"
   },
   {
    "duration": 29,
    "start_time": "2022-05-10T13:24:11.588Z"
   },
   {
    "duration": 59,
    "start_time": "2022-05-10T13:24:11.619Z"
   },
   {
    "duration": 38,
    "start_time": "2022-05-10T13:24:11.681Z"
   },
   {
    "duration": 13,
    "start_time": "2022-05-10T13:24:11.722Z"
   },
   {
    "duration": 61,
    "start_time": "2022-05-10T13:24:11.737Z"
   },
   {
    "duration": 42,
    "start_time": "2022-05-10T13:24:11.801Z"
   },
   {
    "duration": 15,
    "start_time": "2022-05-10T13:24:11.851Z"
   },
   {
    "duration": 91,
    "start_time": "2022-05-10T13:24:11.871Z"
   },
   {
    "duration": 24,
    "start_time": "2022-05-10T13:24:11.964Z"
   },
   {
    "duration": 79,
    "start_time": "2022-05-10T13:24:11.990Z"
   },
   {
    "duration": 19,
    "start_time": "2022-05-10T13:24:12.071Z"
   },
   {
    "duration": 31,
    "start_time": "2022-05-10T13:24:12.093Z"
   },
   {
    "duration": 0,
    "start_time": "2022-05-10T13:24:12.127Z"
   },
   {
    "duration": 0,
    "start_time": "2022-05-10T13:24:12.156Z"
   },
   {
    "duration": 0,
    "start_time": "2022-05-10T13:24:12.159Z"
   },
   {
    "duration": 0,
    "start_time": "2022-05-10T13:24:12.161Z"
   },
   {
    "duration": 0,
    "start_time": "2022-05-10T13:24:12.163Z"
   },
   {
    "duration": 0,
    "start_time": "2022-05-10T13:24:12.164Z"
   },
   {
    "duration": 0,
    "start_time": "2022-05-10T13:24:12.166Z"
   },
   {
    "duration": 0,
    "start_time": "2022-05-10T13:24:12.168Z"
   },
   {
    "duration": 1133,
    "start_time": "2022-05-10T13:24:49.252Z"
   },
   {
    "duration": 1087,
    "start_time": "2022-05-10T13:25:25.165Z"
   },
   {
    "duration": 30,
    "start_time": "2022-05-10T13:26:15.865Z"
   },
   {
    "duration": 1200,
    "start_time": "2022-05-10T13:28:17.568Z"
   },
   {
    "duration": 11,
    "start_time": "2022-05-10T13:29:28.935Z"
   },
   {
    "duration": 18,
    "start_time": "2022-05-10T13:29:36.605Z"
   },
   {
    "duration": 17,
    "start_time": "2022-05-10T13:29:55.335Z"
   },
   {
    "duration": 24,
    "start_time": "2022-05-10T13:30:33.032Z"
   },
   {
    "duration": 528,
    "start_time": "2022-05-10T13:30:40.769Z"
   },
   {
    "duration": 32,
    "start_time": "2022-05-10T13:30:41.301Z"
   },
   {
    "duration": 26,
    "start_time": "2022-05-10T13:30:41.336Z"
   },
   {
    "duration": 302,
    "start_time": "2022-05-10T13:30:41.365Z"
   },
   {
    "duration": 47,
    "start_time": "2022-05-10T13:30:41.674Z"
   },
   {
    "duration": 34,
    "start_time": "2022-05-10T13:30:41.724Z"
   },
   {
    "duration": 48,
    "start_time": "2022-05-10T13:30:41.760Z"
   },
   {
    "duration": 18,
    "start_time": "2022-05-10T13:30:41.812Z"
   },
   {
    "duration": 136,
    "start_time": "2022-05-10T13:30:41.852Z"
   },
   {
    "duration": 32,
    "start_time": "2022-05-10T13:30:41.992Z"
   },
   {
    "duration": 28,
    "start_time": "2022-05-10T13:30:42.026Z"
   },
   {
    "duration": 41,
    "start_time": "2022-05-10T13:30:42.057Z"
   },
   {
    "duration": 18,
    "start_time": "2022-05-10T13:30:42.101Z"
   },
   {
    "duration": 113,
    "start_time": "2022-05-10T13:30:42.124Z"
   },
   {
    "duration": 28,
    "start_time": "2022-05-10T13:30:42.252Z"
   },
   {
    "duration": 9,
    "start_time": "2022-05-10T13:30:42.282Z"
   },
   {
    "duration": 19,
    "start_time": "2022-05-10T13:30:42.293Z"
   },
   {
    "duration": 39,
    "start_time": "2022-05-10T13:30:42.315Z"
   },
   {
    "duration": 38,
    "start_time": "2022-05-10T13:30:42.357Z"
   },
   {
    "duration": 17,
    "start_time": "2022-05-10T13:30:42.397Z"
   },
   {
    "duration": 11,
    "start_time": "2022-05-10T13:30:42.418Z"
   },
   {
    "duration": 24,
    "start_time": "2022-05-10T13:30:42.431Z"
   },
   {
    "duration": 7,
    "start_time": "2022-05-10T13:30:42.462Z"
   },
   {
    "duration": 14,
    "start_time": "2022-05-10T13:30:42.471Z"
   },
   {
    "duration": 69,
    "start_time": "2022-05-10T13:30:42.488Z"
   },
   {
    "duration": 43,
    "start_time": "2022-05-10T13:30:42.559Z"
   },
   {
    "duration": 16,
    "start_time": "2022-05-10T13:30:42.605Z"
   },
   {
    "duration": 98,
    "start_time": "2022-05-10T13:30:42.623Z"
   },
   {
    "duration": 46,
    "start_time": "2022-05-10T13:30:42.723Z"
   },
   {
    "duration": 54,
    "start_time": "2022-05-10T13:30:42.772Z"
   },
   {
    "duration": 56,
    "start_time": "2022-05-10T13:30:42.828Z"
   },
   {
    "duration": 49,
    "start_time": "2022-05-10T13:30:42.887Z"
   },
   {
    "duration": 116,
    "start_time": "2022-05-10T13:30:42.938Z"
   },
   {
    "duration": 45,
    "start_time": "2022-05-10T13:30:43.057Z"
   },
   {
    "duration": 15,
    "start_time": "2022-05-10T13:30:43.105Z"
   },
   {
    "duration": 47,
    "start_time": "2022-05-10T13:30:43.122Z"
   },
   {
    "duration": 46,
    "start_time": "2022-05-10T13:30:43.172Z"
   },
   {
    "duration": 34,
    "start_time": "2022-05-10T13:30:43.220Z"
   },
   {
    "duration": 23,
    "start_time": "2022-05-10T13:30:43.257Z"
   },
   {
    "duration": 28,
    "start_time": "2022-05-10T13:30:43.282Z"
   },
   {
    "duration": 22,
    "start_time": "2022-05-10T13:30:54.686Z"
   },
   {
    "duration": 481,
    "start_time": "2022-05-10T13:30:58.641Z"
   },
   {
    "duration": 33,
    "start_time": "2022-05-10T13:30:59.125Z"
   },
   {
    "duration": 18,
    "start_time": "2022-05-10T13:30:59.161Z"
   },
   {
    "duration": 189,
    "start_time": "2022-05-10T13:30:59.182Z"
   },
   {
    "duration": 44,
    "start_time": "2022-05-10T13:30:59.374Z"
   },
   {
    "duration": 32,
    "start_time": "2022-05-10T13:30:59.421Z"
   },
   {
    "duration": 42,
    "start_time": "2022-05-10T13:30:59.455Z"
   },
   {
    "duration": 24,
    "start_time": "2022-05-10T13:30:59.500Z"
   },
   {
    "duration": 126,
    "start_time": "2022-05-10T13:30:59.527Z"
   },
   {
    "duration": 27,
    "start_time": "2022-05-10T13:30:59.657Z"
   },
   {
    "duration": 18,
    "start_time": "2022-05-10T13:30:59.687Z"
   },
   {
    "duration": 47,
    "start_time": "2022-05-10T13:30:59.707Z"
   },
   {
    "duration": 11,
    "start_time": "2022-05-10T13:30:59.757Z"
   },
   {
    "duration": 87,
    "start_time": "2022-05-10T13:30:59.770Z"
   },
   {
    "duration": 21,
    "start_time": "2022-05-10T13:30:59.860Z"
   },
   {
    "duration": 24,
    "start_time": "2022-05-10T13:30:59.883Z"
   },
   {
    "duration": 17,
    "start_time": "2022-05-10T13:30:59.910Z"
   },
   {
    "duration": 13,
    "start_time": "2022-05-10T13:30:59.953Z"
   },
   {
    "duration": 24,
    "start_time": "2022-05-10T13:30:59.968Z"
   },
   {
    "duration": 33,
    "start_time": "2022-05-10T13:30:59.995Z"
   },
   {
    "duration": 22,
    "start_time": "2022-05-10T13:31:00.031Z"
   },
   {
    "duration": 30,
    "start_time": "2022-05-10T13:31:00.056Z"
   },
   {
    "duration": 9,
    "start_time": "2022-05-10T13:31:00.089Z"
   },
   {
    "duration": 18,
    "start_time": "2022-05-10T13:31:00.101Z"
   },
   {
    "duration": 57,
    "start_time": "2022-05-10T13:31:00.121Z"
   },
   {
    "duration": 43,
    "start_time": "2022-05-10T13:31:00.181Z"
   },
   {
    "duration": 35,
    "start_time": "2022-05-10T13:31:00.227Z"
   },
   {
    "duration": 85,
    "start_time": "2022-05-10T13:31:00.269Z"
   },
   {
    "duration": 25,
    "start_time": "2022-05-10T13:31:00.357Z"
   },
   {
    "duration": 80,
    "start_time": "2022-05-10T13:31:00.385Z"
   },
   {
    "duration": 17,
    "start_time": "2022-05-10T13:31:00.467Z"
   },
   {
    "duration": 41,
    "start_time": "2022-05-10T13:31:00.486Z"
   },
   {
    "duration": 114,
    "start_time": "2022-05-10T13:31:00.529Z"
   },
   {
    "duration": 44,
    "start_time": "2022-05-10T13:31:00.645Z"
   },
   {
    "duration": 16,
    "start_time": "2022-05-10T13:31:00.692Z"
   },
   {
    "duration": 45,
    "start_time": "2022-05-10T13:31:00.710Z"
   },
   {
    "duration": 43,
    "start_time": "2022-05-10T13:31:00.757Z"
   },
   {
    "duration": 19,
    "start_time": "2022-05-10T13:31:00.803Z"
   },
   {
    "duration": 39,
    "start_time": "2022-05-10T13:31:00.824Z"
   },
   {
    "duration": 54,
    "start_time": "2022-05-10T13:31:00.865Z"
   },
   {
    "duration": 498,
    "start_time": "2022-05-10T13:31:26.017Z"
   },
   {
    "duration": 35,
    "start_time": "2022-05-10T13:31:26.518Z"
   },
   {
    "duration": 12,
    "start_time": "2022-05-10T13:31:26.555Z"
   },
   {
    "duration": 153,
    "start_time": "2022-05-10T13:31:26.571Z"
   },
   {
    "duration": 34,
    "start_time": "2022-05-10T13:31:26.726Z"
   },
   {
    "duration": 10,
    "start_time": "2022-05-10T13:31:26.763Z"
   },
   {
    "duration": 30,
    "start_time": "2022-05-10T13:31:26.775Z"
   },
   {
    "duration": 48,
    "start_time": "2022-05-10T13:31:26.808Z"
   },
   {
    "duration": 143,
    "start_time": "2022-05-10T13:31:26.859Z"
   },
   {
    "duration": 49,
    "start_time": "2022-05-10T13:31:27.007Z"
   },
   {
    "duration": 11,
    "start_time": "2022-05-10T13:31:27.058Z"
   },
   {
    "duration": 32,
    "start_time": "2022-05-10T13:31:27.071Z"
   },
   {
    "duration": 11,
    "start_time": "2022-05-10T13:31:27.105Z"
   },
   {
    "duration": 64,
    "start_time": "2022-05-10T13:31:27.153Z"
   },
   {
    "duration": 35,
    "start_time": "2022-05-10T13:31:27.219Z"
   },
   {
    "duration": 8,
    "start_time": "2022-05-10T13:31:27.256Z"
   },
   {
    "duration": 14,
    "start_time": "2022-05-10T13:31:27.267Z"
   },
   {
    "duration": 11,
    "start_time": "2022-05-10T13:31:27.283Z"
   },
   {
    "duration": 57,
    "start_time": "2022-05-10T13:31:27.296Z"
   },
   {
    "duration": 16,
    "start_time": "2022-05-10T13:31:27.355Z"
   },
   {
    "duration": 9,
    "start_time": "2022-05-10T13:31:27.373Z"
   },
   {
    "duration": 11,
    "start_time": "2022-05-10T13:31:27.384Z"
   },
   {
    "duration": 6,
    "start_time": "2022-05-10T13:31:27.398Z"
   },
   {
    "duration": 7,
    "start_time": "2022-05-10T13:31:27.405Z"
   },
   {
    "duration": 77,
    "start_time": "2022-05-10T13:31:27.415Z"
   },
   {
    "duration": 65,
    "start_time": "2022-05-10T13:31:27.494Z"
   },
   {
    "duration": 14,
    "start_time": "2022-05-10T13:31:27.562Z"
   },
   {
    "duration": 88,
    "start_time": "2022-05-10T13:31:27.581Z"
   },
   {
    "duration": 26,
    "start_time": "2022-05-10T13:31:27.671Z"
   },
   {
    "duration": 79,
    "start_time": "2022-05-10T13:31:27.699Z"
   },
   {
    "duration": 17,
    "start_time": "2022-05-10T13:31:27.780Z"
   },
   {
    "duration": 23,
    "start_time": "2022-05-10T13:31:27.799Z"
   },
   {
    "duration": 107,
    "start_time": "2022-05-10T13:31:27.824Z"
   },
   {
    "duration": 59,
    "start_time": "2022-05-10T13:31:27.933Z"
   },
   {
    "duration": 17,
    "start_time": "2022-05-10T13:31:27.994Z"
   },
   {
    "duration": 47,
    "start_time": "2022-05-10T13:31:28.013Z"
   },
   {
    "duration": 37,
    "start_time": "2022-05-10T13:31:28.063Z"
   },
   {
    "duration": 16,
    "start_time": "2022-05-10T13:31:28.103Z"
   },
   {
    "duration": 18,
    "start_time": "2022-05-10T13:31:28.152Z"
   },
   {
    "duration": 27,
    "start_time": "2022-05-10T13:31:28.172Z"
   },
   {
    "duration": 16,
    "start_time": "2022-05-10T13:31:44.377Z"
   },
   {
    "duration": 33,
    "start_time": "2022-05-10T13:32:13.069Z"
   },
   {
    "duration": 538,
    "start_time": "2022-05-10T13:32:18.240Z"
   },
   {
    "duration": 61,
    "start_time": "2022-05-10T13:32:18.781Z"
   },
   {
    "duration": 18,
    "start_time": "2022-05-10T13:32:18.846Z"
   },
   {
    "duration": 216,
    "start_time": "2022-05-10T13:32:18.869Z"
   },
   {
    "duration": 27,
    "start_time": "2022-05-10T13:32:19.087Z"
   },
   {
    "duration": 35,
    "start_time": "2022-05-10T13:32:19.117Z"
   },
   {
    "duration": 30,
    "start_time": "2022-05-10T13:32:19.155Z"
   },
   {
    "duration": 14,
    "start_time": "2022-05-10T13:32:19.187Z"
   },
   {
    "duration": 179,
    "start_time": "2022-05-10T13:32:19.204Z"
   },
   {
    "duration": 28,
    "start_time": "2022-05-10T13:32:19.388Z"
   },
   {
    "duration": 32,
    "start_time": "2022-05-10T13:32:19.421Z"
   },
   {
    "duration": 31,
    "start_time": "2022-05-10T13:32:19.456Z"
   },
   {
    "duration": 14,
    "start_time": "2022-05-10T13:32:19.491Z"
   },
   {
    "duration": 103,
    "start_time": "2022-05-10T13:32:19.508Z"
   },
   {
    "duration": 39,
    "start_time": "2022-05-10T13:32:19.614Z"
   },
   {
    "duration": 9,
    "start_time": "2022-05-10T13:32:19.656Z"
   },
   {
    "duration": 15,
    "start_time": "2022-05-10T13:32:19.667Z"
   },
   {
    "duration": 14,
    "start_time": "2022-05-10T13:32:19.684Z"
   },
   {
    "duration": 64,
    "start_time": "2022-05-10T13:32:19.700Z"
   },
   {
    "duration": 27,
    "start_time": "2022-05-10T13:32:19.767Z"
   },
   {
    "duration": 5,
    "start_time": "2022-05-10T13:32:19.797Z"
   },
   {
    "duration": 10,
    "start_time": "2022-05-10T13:32:19.804Z"
   },
   {
    "duration": 40,
    "start_time": "2022-05-10T13:32:19.816Z"
   },
   {
    "duration": 10,
    "start_time": "2022-05-10T13:32:19.858Z"
   },
   {
    "duration": 48,
    "start_time": "2022-05-10T13:32:19.870Z"
   },
   {
    "duration": 67,
    "start_time": "2022-05-10T13:32:19.921Z"
   },
   {
    "duration": 18,
    "start_time": "2022-05-10T13:32:19.991Z"
   },
   {
    "duration": 101,
    "start_time": "2022-05-10T13:32:20.014Z"
   },
   {
    "duration": 43,
    "start_time": "2022-05-10T13:32:20.117Z"
   },
   {
    "duration": 92,
    "start_time": "2022-05-10T13:32:20.162Z"
   },
   {
    "duration": 27,
    "start_time": "2022-05-10T13:32:20.257Z"
   },
   {
    "duration": 67,
    "start_time": "2022-05-10T13:32:20.287Z"
   },
   {
    "duration": 131,
    "start_time": "2022-05-10T13:32:20.357Z"
   },
   {
    "duration": 80,
    "start_time": "2022-05-10T13:32:20.492Z"
   },
   {
    "duration": 25,
    "start_time": "2022-05-10T13:32:20.575Z"
   },
   {
    "duration": 50,
    "start_time": "2022-05-10T13:32:20.602Z"
   },
   {
    "duration": 40,
    "start_time": "2022-05-10T13:32:20.654Z"
   },
   {
    "duration": 17,
    "start_time": "2022-05-10T13:32:20.696Z"
   },
   {
    "duration": 52,
    "start_time": "2022-05-10T13:32:20.716Z"
   },
   {
    "duration": 62,
    "start_time": "2022-05-10T13:32:20.771Z"
   },
   {
    "duration": 37,
    "start_time": "2022-05-10T13:34:37.307Z"
   },
   {
    "duration": 16,
    "start_time": "2022-05-10T13:34:54.446Z"
   },
   {
    "duration": 12,
    "start_time": "2022-05-10T13:40:08.645Z"
   },
   {
    "duration": 37,
    "start_time": "2022-05-10T13:40:22.027Z"
   },
   {
    "duration": 33,
    "start_time": "2022-05-10T13:45:01.776Z"
   },
   {
    "duration": 724,
    "start_time": "2022-05-10T13:58:41.662Z"
   },
   {
    "duration": 19,
    "start_time": "2022-05-10T14:00:42.439Z"
   },
   {
    "duration": 32,
    "start_time": "2022-05-10T14:01:14.348Z"
   },
   {
    "duration": 24,
    "start_time": "2022-05-10T14:12:38.874Z"
   },
   {
    "duration": 24,
    "start_time": "2022-05-10T14:12:54.880Z"
   },
   {
    "duration": 23,
    "start_time": "2022-05-10T14:15:28.460Z"
   },
   {
    "duration": 22,
    "start_time": "2022-05-10T14:15:40.187Z"
   },
   {
    "duration": 23,
    "start_time": "2022-05-10T14:15:45.967Z"
   },
   {
    "duration": 20,
    "start_time": "2022-05-10T14:18:47.669Z"
   },
   {
    "duration": 17,
    "start_time": "2022-05-10T14:19:14.988Z"
   },
   {
    "duration": 14,
    "start_time": "2022-05-10T14:21:15.503Z"
   },
   {
    "duration": 23,
    "start_time": "2022-05-10T14:21:22.042Z"
   },
   {
    "duration": 25,
    "start_time": "2022-05-10T14:28:08.475Z"
   },
   {
    "duration": 557,
    "start_time": "2022-05-10T14:28:13.863Z"
   },
   {
    "duration": 35,
    "start_time": "2022-05-10T14:28:14.423Z"
   },
   {
    "duration": 15,
    "start_time": "2022-05-10T14:28:14.460Z"
   },
   {
    "duration": 151,
    "start_time": "2022-05-10T14:28:14.479Z"
   },
   {
    "duration": 45,
    "start_time": "2022-05-10T14:28:14.632Z"
   },
   {
    "duration": 10,
    "start_time": "2022-05-10T14:28:14.679Z"
   },
   {
    "duration": 29,
    "start_time": "2022-05-10T14:28:14.691Z"
   },
   {
    "duration": 21,
    "start_time": "2022-05-10T14:28:14.752Z"
   },
   {
    "duration": 122,
    "start_time": "2022-05-10T14:28:14.775Z"
   },
   {
    "duration": 26,
    "start_time": "2022-05-10T14:28:14.901Z"
   },
   {
    "duration": 29,
    "start_time": "2022-05-10T14:28:14.930Z"
   },
   {
    "duration": 38,
    "start_time": "2022-05-10T14:28:14.962Z"
   },
   {
    "duration": 15,
    "start_time": "2022-05-10T14:28:15.003Z"
   },
   {
    "duration": 117,
    "start_time": "2022-05-10T14:28:15.021Z"
   },
   {
    "duration": 41,
    "start_time": "2022-05-10T14:28:15.141Z"
   },
   {
    "duration": 15,
    "start_time": "2022-05-10T14:28:15.185Z"
   },
   {
    "duration": 14,
    "start_time": "2022-05-10T14:28:15.204Z"
   },
   {
    "duration": 48,
    "start_time": "2022-05-10T14:28:15.220Z"
   },
   {
    "duration": 18,
    "start_time": "2022-05-10T14:28:15.270Z"
   },
   {
    "duration": 17,
    "start_time": "2022-05-10T14:28:15.291Z"
   },
   {
    "duration": 7,
    "start_time": "2022-05-10T14:28:15.310Z"
   },
   {
    "duration": 45,
    "start_time": "2022-05-10T14:28:15.319Z"
   },
   {
    "duration": 18,
    "start_time": "2022-05-10T14:28:15.366Z"
   },
   {
    "duration": 9,
    "start_time": "2022-05-10T14:28:15.387Z"
   },
   {
    "duration": 84,
    "start_time": "2022-05-10T14:28:15.399Z"
   },
   {
    "duration": 43,
    "start_time": "2022-05-10T14:28:15.486Z"
   },
   {
    "duration": 30,
    "start_time": "2022-05-10T14:28:15.532Z"
   },
   {
    "duration": 66,
    "start_time": "2022-05-10T14:28:15.571Z"
   },
   {
    "duration": 37,
    "start_time": "2022-05-10T14:28:15.639Z"
   },
   {
    "duration": 102,
    "start_time": "2022-05-10T14:28:15.678Z"
   },
   {
    "duration": 27,
    "start_time": "2022-05-10T14:28:15.783Z"
   },
   {
    "duration": 61,
    "start_time": "2022-05-10T14:28:15.812Z"
   },
   {
    "duration": 122,
    "start_time": "2022-05-10T14:28:15.875Z"
   },
   {
    "duration": 21,
    "start_time": "2022-05-10T14:28:16.000Z"
   },
   {
    "duration": 71,
    "start_time": "2022-05-10T14:28:16.023Z"
   },
   {
    "duration": 17,
    "start_time": "2022-05-10T14:28:16.096Z"
   },
   {
    "duration": 45,
    "start_time": "2022-05-10T14:28:16.116Z"
   },
   {
    "duration": 52,
    "start_time": "2022-05-10T14:28:16.163Z"
   },
   {
    "duration": 35,
    "start_time": "2022-05-10T14:28:16.218Z"
   },
   {
    "duration": 20,
    "start_time": "2022-05-10T14:28:16.256Z"
   },
   {
    "duration": 18,
    "start_time": "2022-05-10T14:28:16.279Z"
   },
   {
    "duration": 67,
    "start_time": "2022-05-10T14:28:16.300Z"
   },
   {
    "duration": 54,
    "start_time": "2022-05-10T14:28:16.369Z"
   },
   {
    "duration": 23,
    "start_time": "2022-05-10T14:28:37.762Z"
   },
   {
    "duration": 30,
    "start_time": "2022-05-10T14:28:43.037Z"
   },
   {
    "duration": 732,
    "start_time": "2022-05-10T14:28:57.716Z"
   },
   {
    "duration": 56,
    "start_time": "2022-05-10T14:28:58.452Z"
   },
   {
    "duration": 18,
    "start_time": "2022-05-10T14:28:58.511Z"
   },
   {
    "duration": 214,
    "start_time": "2022-05-10T14:28:58.532Z"
   },
   {
    "duration": 38,
    "start_time": "2022-05-10T14:28:58.754Z"
   },
   {
    "duration": 10,
    "start_time": "2022-05-10T14:28:58.795Z"
   },
   {
    "duration": 77,
    "start_time": "2022-05-10T14:28:58.808Z"
   },
   {
    "duration": 19,
    "start_time": "2022-05-10T14:28:58.888Z"
   },
   {
    "duration": 168,
    "start_time": "2022-05-10T14:28:58.910Z"
   },
   {
    "duration": 49,
    "start_time": "2022-05-10T14:28:59.084Z"
   },
   {
    "duration": 16,
    "start_time": "2022-05-10T14:28:59.158Z"
   },
   {
    "duration": 55,
    "start_time": "2022-05-10T14:28:59.176Z"
   },
   {
    "duration": 28,
    "start_time": "2022-05-10T14:28:59.234Z"
   },
   {
    "duration": 76,
    "start_time": "2022-05-10T14:28:59.266Z"
   },
   {
    "duration": 34,
    "start_time": "2022-05-10T14:28:59.345Z"
   },
   {
    "duration": 13,
    "start_time": "2022-05-10T14:28:59.382Z"
   },
   {
    "duration": 14,
    "start_time": "2022-05-10T14:28:59.398Z"
   },
   {
    "duration": 50,
    "start_time": "2022-05-10T14:28:59.414Z"
   },
   {
    "duration": 32,
    "start_time": "2022-05-10T14:28:59.466Z"
   },
   {
    "duration": 18,
    "start_time": "2022-05-10T14:28:59.500Z"
   },
   {
    "duration": 34,
    "start_time": "2022-05-10T14:28:59.520Z"
   },
   {
    "duration": 11,
    "start_time": "2022-05-10T14:28:59.556Z"
   },
   {
    "duration": 10,
    "start_time": "2022-05-10T14:28:59.571Z"
   },
   {
    "duration": 8,
    "start_time": "2022-05-10T14:28:59.583Z"
   },
   {
    "duration": 87,
    "start_time": "2022-05-10T14:28:59.593Z"
   },
   {
    "duration": 42,
    "start_time": "2022-05-10T14:28:59.682Z"
   },
   {
    "duration": 38,
    "start_time": "2022-05-10T14:28:59.727Z"
   },
   {
    "duration": 109,
    "start_time": "2022-05-10T14:28:59.773Z"
   },
   {
    "duration": 30,
    "start_time": "2022-05-10T14:28:59.885Z"
   },
   {
    "duration": 99,
    "start_time": "2022-05-10T14:28:59.918Z"
   },
   {
    "duration": 17,
    "start_time": "2022-05-10T14:29:00.020Z"
   },
   {
    "duration": 35,
    "start_time": "2022-05-10T14:29:00.055Z"
   },
   {
    "duration": 116,
    "start_time": "2022-05-10T14:29:00.093Z"
   },
   {
    "duration": 42,
    "start_time": "2022-05-10T14:29:00.212Z"
   },
   {
    "duration": 48,
    "start_time": "2022-05-10T14:29:00.257Z"
   },
   {
    "duration": 17,
    "start_time": "2022-05-10T14:29:00.307Z"
   },
   {
    "duration": 61,
    "start_time": "2022-05-10T14:29:00.326Z"
   },
   {
    "duration": 43,
    "start_time": "2022-05-10T14:29:00.390Z"
   },
   {
    "duration": 30,
    "start_time": "2022-05-10T14:29:00.436Z"
   },
   {
    "duration": 23,
    "start_time": "2022-05-10T14:29:00.472Z"
   },
   {
    "duration": 22,
    "start_time": "2022-05-10T14:29:00.498Z"
   },
   {
    "duration": 48,
    "start_time": "2022-05-10T14:29:00.523Z"
   },
   {
    "duration": 34,
    "start_time": "2022-05-10T14:29:00.573Z"
   },
   {
    "duration": 503,
    "start_time": "2022-05-10T14:30:43.678Z"
   },
   {
    "duration": 32,
    "start_time": "2022-05-10T14:30:44.183Z"
   },
   {
    "duration": 12,
    "start_time": "2022-05-10T14:30:44.218Z"
   },
   {
    "duration": 238,
    "start_time": "2022-05-10T14:30:44.233Z"
   },
   {
    "duration": 50,
    "start_time": "2022-05-10T14:30:44.474Z"
   },
   {
    "duration": 32,
    "start_time": "2022-05-10T14:30:44.526Z"
   },
   {
    "duration": 36,
    "start_time": "2022-05-10T14:30:44.560Z"
   },
   {
    "duration": 13,
    "start_time": "2022-05-10T14:30:44.598Z"
   },
   {
    "duration": 133,
    "start_time": "2022-05-10T14:30:44.613Z"
   },
   {
    "duration": 32,
    "start_time": "2022-05-10T14:30:44.751Z"
   },
   {
    "duration": 12,
    "start_time": "2022-05-10T14:30:44.785Z"
   },
   {
    "duration": 58,
    "start_time": "2022-05-10T14:30:44.799Z"
   },
   {
    "duration": 15,
    "start_time": "2022-05-10T14:30:44.859Z"
   },
   {
    "duration": 76,
    "start_time": "2022-05-10T14:30:44.878Z"
   },
   {
    "duration": 23,
    "start_time": "2022-05-10T14:30:44.957Z"
   },
   {
    "duration": 11,
    "start_time": "2022-05-10T14:30:44.982Z"
   },
   {
    "duration": 21,
    "start_time": "2022-05-10T14:30:44.995Z"
   },
   {
    "duration": 14,
    "start_time": "2022-05-10T14:30:45.058Z"
   },
   {
    "duration": 24,
    "start_time": "2022-05-10T14:30:45.075Z"
   },
   {
    "duration": 29,
    "start_time": "2022-05-10T14:30:45.102Z"
   },
   {
    "duration": 10,
    "start_time": "2022-05-10T14:30:45.133Z"
   },
   {
    "duration": 23,
    "start_time": "2022-05-10T14:30:45.152Z"
   },
   {
    "duration": 15,
    "start_time": "2022-05-10T14:30:45.178Z"
   },
   {
    "duration": 16,
    "start_time": "2022-05-10T14:30:45.196Z"
   },
   {
    "duration": 77,
    "start_time": "2022-05-10T14:30:45.214Z"
   },
   {
    "duration": 59,
    "start_time": "2022-05-10T14:30:45.294Z"
   },
   {
    "duration": 16,
    "start_time": "2022-05-10T14:30:45.357Z"
   },
   {
    "duration": 82,
    "start_time": "2022-05-10T14:30:45.378Z"
   },
   {
    "duration": 23,
    "start_time": "2022-05-10T14:30:45.462Z"
   },
   {
    "duration": 86,
    "start_time": "2022-05-10T14:30:45.488Z"
   },
   {
    "duration": 26,
    "start_time": "2022-05-10T14:30:45.583Z"
   },
   {
    "duration": 77,
    "start_time": "2022-05-10T14:30:45.612Z"
   },
   {
    "duration": 89,
    "start_time": "2022-05-10T14:30:45.692Z"
   },
   {
    "duration": 18,
    "start_time": "2022-05-10T14:30:45.784Z"
   },
   {
    "duration": 71,
    "start_time": "2022-05-10T14:30:45.804Z"
   },
   {
    "duration": 18,
    "start_time": "2022-05-10T14:30:45.877Z"
   },
   {
    "duration": 21,
    "start_time": "2022-05-10T14:30:45.897Z"
   },
   {
    "duration": 67,
    "start_time": "2022-05-10T14:30:45.921Z"
   },
   {
    "duration": 17,
    "start_time": "2022-05-10T14:30:45.990Z"
   },
   {
    "duration": 42,
    "start_time": "2022-05-10T14:30:46.009Z"
   },
   {
    "duration": 27,
    "start_time": "2022-05-10T14:30:46.053Z"
   },
   {
    "duration": 37,
    "start_time": "2022-05-10T14:30:46.082Z"
   },
   {
    "duration": 48,
    "start_time": "2022-05-10T14:30:46.121Z"
   },
   {
    "duration": 15,
    "start_time": "2022-05-10T14:31:15.849Z"
   },
   {
    "duration": 21,
    "start_time": "2022-05-10T14:31:23.148Z"
   },
   {
    "duration": 16,
    "start_time": "2022-05-10T14:36:06.052Z"
   },
   {
    "duration": 16,
    "start_time": "2022-05-10T14:37:49.310Z"
   },
   {
    "duration": 32,
    "start_time": "2022-05-10T14:38:07.094Z"
   },
   {
    "duration": 16,
    "start_time": "2022-05-10T14:42:53.029Z"
   },
   {
    "duration": 10,
    "start_time": "2022-05-10T14:44:26.964Z"
   },
   {
    "duration": 552,
    "start_time": "2022-05-10T14:44:44.437Z"
   },
   {
    "duration": 43,
    "start_time": "2022-05-10T14:44:44.991Z"
   },
   {
    "duration": 26,
    "start_time": "2022-05-10T14:44:45.036Z"
   },
   {
    "duration": 150,
    "start_time": "2022-05-10T14:44:45.068Z"
   },
   {
    "duration": 41,
    "start_time": "2022-05-10T14:44:45.220Z"
   },
   {
    "duration": 13,
    "start_time": "2022-05-10T14:44:45.264Z"
   },
   {
    "duration": 29,
    "start_time": "2022-05-10T14:44:45.279Z"
   },
   {
    "duration": 14,
    "start_time": "2022-05-10T14:44:45.310Z"
   },
   {
    "duration": 127,
    "start_time": "2022-05-10T14:44:45.351Z"
   },
   {
    "duration": 28,
    "start_time": "2022-05-10T14:44:45.484Z"
   },
   {
    "duration": 22,
    "start_time": "2022-05-10T14:44:45.514Z"
   },
   {
    "duration": 56,
    "start_time": "2022-05-10T14:44:45.538Z"
   },
   {
    "duration": 11,
    "start_time": "2022-05-10T14:44:45.597Z"
   },
   {
    "duration": 71,
    "start_time": "2022-05-10T14:44:45.610Z"
   },
   {
    "duration": 18,
    "start_time": "2022-05-10T14:44:45.684Z"
   },
   {
    "duration": 9,
    "start_time": "2022-05-10T14:44:45.704Z"
   },
   {
    "duration": 49,
    "start_time": "2022-05-10T14:44:45.716Z"
   },
   {
    "duration": 14,
    "start_time": "2022-05-10T14:44:45.767Z"
   },
   {
    "duration": 37,
    "start_time": "2022-05-10T14:44:45.783Z"
   },
   {
    "duration": 42,
    "start_time": "2022-05-10T14:44:45.823Z"
   },
   {
    "duration": 6,
    "start_time": "2022-05-10T14:44:45.868Z"
   },
   {
    "duration": 26,
    "start_time": "2022-05-10T14:44:45.877Z"
   },
   {
    "duration": 17,
    "start_time": "2022-05-10T14:44:45.905Z"
   },
   {
    "duration": 20,
    "start_time": "2022-05-10T14:44:45.924Z"
   },
   {
    "duration": 61,
    "start_time": "2022-05-10T14:44:45.947Z"
   },
   {
    "duration": 39,
    "start_time": "2022-05-10T14:44:46.011Z"
   },
   {
    "duration": 19,
    "start_time": "2022-05-10T14:44:46.058Z"
   },
   {
    "duration": 85,
    "start_time": "2022-05-10T14:44:46.082Z"
   },
   {
    "duration": 21,
    "start_time": "2022-05-10T14:44:46.169Z"
   },
   {
    "duration": 77,
    "start_time": "2022-05-10T14:44:46.192Z"
   },
   {
    "duration": 17,
    "start_time": "2022-05-10T14:44:46.271Z"
   },
   {
    "duration": 35,
    "start_time": "2022-05-10T14:44:46.290Z"
   },
   {
    "duration": 109,
    "start_time": "2022-05-10T14:44:46.327Z"
   },
   {
    "duration": 139,
    "start_time": "2022-05-10T14:44:46.438Z"
   },
   {
    "duration": 0,
    "start_time": "2022-05-10T14:44:46.580Z"
   },
   {
    "duration": 0,
    "start_time": "2022-05-10T14:44:46.582Z"
   },
   {
    "duration": 0,
    "start_time": "2022-05-10T14:44:46.584Z"
   },
   {
    "duration": 0,
    "start_time": "2022-05-10T14:44:46.587Z"
   },
   {
    "duration": 0,
    "start_time": "2022-05-10T14:44:46.590Z"
   },
   {
    "duration": 0,
    "start_time": "2022-05-10T14:44:46.592Z"
   },
   {
    "duration": 0,
    "start_time": "2022-05-10T14:44:46.594Z"
   },
   {
    "duration": 0,
    "start_time": "2022-05-10T14:44:46.596Z"
   },
   {
    "duration": 0,
    "start_time": "2022-05-10T14:44:46.599Z"
   },
   {
    "duration": 0,
    "start_time": "2022-05-10T14:44:46.601Z"
   },
   {
    "duration": 0,
    "start_time": "2022-05-10T14:44:46.603Z"
   },
   {
    "duration": 0,
    "start_time": "2022-05-10T14:44:46.605Z"
   },
   {
    "duration": 0,
    "start_time": "2022-05-10T14:44:46.607Z"
   },
   {
    "duration": 0,
    "start_time": "2022-05-10T14:44:46.609Z"
   },
   {
    "duration": 17,
    "start_time": "2022-05-10T14:45:09.901Z"
   },
   {
    "duration": 11,
    "start_time": "2022-05-10T14:45:14.157Z"
   },
   {
    "duration": 14,
    "start_time": "2022-05-10T14:46:46.568Z"
   },
   {
    "duration": 480,
    "start_time": "2022-05-10T14:47:04.081Z"
   },
   {
    "duration": 33,
    "start_time": "2022-05-10T14:47:04.564Z"
   },
   {
    "duration": 12,
    "start_time": "2022-05-10T14:47:04.599Z"
   },
   {
    "duration": 158,
    "start_time": "2022-05-10T14:47:04.614Z"
   },
   {
    "duration": 27,
    "start_time": "2022-05-10T14:47:04.774Z"
   },
   {
    "duration": 10,
    "start_time": "2022-05-10T14:47:04.803Z"
   },
   {
    "duration": 57,
    "start_time": "2022-05-10T14:47:04.815Z"
   },
   {
    "duration": 13,
    "start_time": "2022-05-10T14:47:04.875Z"
   },
   {
    "duration": 139,
    "start_time": "2022-05-10T14:47:04.890Z"
   },
   {
    "duration": 32,
    "start_time": "2022-05-10T14:47:05.033Z"
   },
   {
    "duration": 17,
    "start_time": "2022-05-10T14:47:05.067Z"
   },
   {
    "duration": 35,
    "start_time": "2022-05-10T14:47:05.086Z"
   },
   {
    "duration": 31,
    "start_time": "2022-05-10T14:47:05.123Z"
   },
   {
    "duration": 106,
    "start_time": "2022-05-10T14:47:05.157Z"
   },
   {
    "duration": 33,
    "start_time": "2022-05-10T14:47:05.266Z"
   },
   {
    "duration": 11,
    "start_time": "2022-05-10T14:47:05.303Z"
   },
   {
    "duration": 51,
    "start_time": "2022-05-10T14:47:05.317Z"
   },
   {
    "duration": 12,
    "start_time": "2022-05-10T14:47:05.371Z"
   },
   {
    "duration": 18,
    "start_time": "2022-05-10T14:47:05.385Z"
   },
   {
    "duration": 59,
    "start_time": "2022-05-10T14:47:05.405Z"
   },
   {
    "duration": 6,
    "start_time": "2022-05-10T14:47:05.467Z"
   },
   {
    "duration": 14,
    "start_time": "2022-05-10T14:47:05.476Z"
   },
   {
    "duration": 8,
    "start_time": "2022-05-10T14:47:05.494Z"
   },
   {
    "duration": 50,
    "start_time": "2022-05-10T14:47:05.504Z"
   },
   {
    "duration": 80,
    "start_time": "2022-05-10T14:47:05.558Z"
   },
   {
    "duration": 56,
    "start_time": "2022-05-10T14:47:05.652Z"
   },
   {
    "duration": 22,
    "start_time": "2022-05-10T14:47:05.711Z"
   },
   {
    "duration": 76,
    "start_time": "2022-05-10T14:47:05.756Z"
   },
   {
    "duration": 25,
    "start_time": "2022-05-10T14:47:05.851Z"
   },
   {
    "duration": 81,
    "start_time": "2022-05-10T14:47:05.878Z"
   },
   {
    "duration": 22,
    "start_time": "2022-05-10T14:47:05.961Z"
   },
   {
    "duration": 66,
    "start_time": "2022-05-10T14:47:05.985Z"
   },
   {
    "duration": 83,
    "start_time": "2022-05-10T14:47:06.054Z"
   },
   {
    "duration": 19,
    "start_time": "2022-05-10T14:47:06.162Z"
   },
   {
    "duration": 15,
    "start_time": "2022-05-10T14:47:06.184Z"
   },
   {
    "duration": 19,
    "start_time": "2022-05-10T14:47:06.201Z"
   },
   {
    "duration": 70,
    "start_time": "2022-05-10T14:47:06.223Z"
   },
   {
    "duration": 17,
    "start_time": "2022-05-10T14:47:06.296Z"
   },
   {
    "duration": 49,
    "start_time": "2022-05-10T14:47:06.315Z"
   },
   {
    "duration": 18,
    "start_time": "2022-05-10T14:47:06.367Z"
   },
   {
    "duration": 65,
    "start_time": "2022-05-10T14:47:06.388Z"
   },
   {
    "duration": 19,
    "start_time": "2022-05-10T14:47:06.455Z"
   },
   {
    "duration": 21,
    "start_time": "2022-05-10T14:47:06.476Z"
   },
   {
    "duration": 16,
    "start_time": "2022-05-10T14:47:06.500Z"
   },
   {
    "duration": 49,
    "start_time": "2022-05-10T14:47:06.518Z"
   },
   {
    "duration": 26,
    "start_time": "2022-05-10T14:47:06.569Z"
   },
   {
    "duration": 58,
    "start_time": "2022-05-10T14:47:06.598Z"
   },
   {
    "duration": 42,
    "start_time": "2022-05-10T14:53:31.279Z"
   },
   {
    "duration": 46,
    "start_time": "2022-05-10T15:03:34.125Z"
   },
   {
    "duration": 29,
    "start_time": "2022-05-10T15:07:25.840Z"
   },
   {
    "duration": 1957,
    "start_time": "2022-05-10T15:12:01.090Z"
   },
   {
    "duration": 32,
    "start_time": "2022-05-10T15:12:45.920Z"
   },
   {
    "duration": 51,
    "start_time": "2022-05-10T15:15:58.632Z"
   },
   {
    "duration": 31,
    "start_time": "2022-05-10T15:16:46.625Z"
   },
   {
    "duration": 15,
    "start_time": "2022-05-10T15:20:55.329Z"
   },
   {
    "duration": 507,
    "start_time": "2022-05-10T15:22:08.454Z"
   },
   {
    "duration": 34,
    "start_time": "2022-05-10T15:22:08.964Z"
   },
   {
    "duration": 12,
    "start_time": "2022-05-10T15:22:09.001Z"
   },
   {
    "duration": 155,
    "start_time": "2022-05-10T15:22:09.016Z"
   },
   {
    "duration": 27,
    "start_time": "2022-05-10T15:22:09.173Z"
   },
   {
    "duration": 10,
    "start_time": "2022-05-10T15:22:09.203Z"
   },
   {
    "duration": 63,
    "start_time": "2022-05-10T15:22:09.215Z"
   },
   {
    "duration": 14,
    "start_time": "2022-05-10T15:22:09.280Z"
   },
   {
    "duration": 138,
    "start_time": "2022-05-10T15:22:09.296Z"
   },
   {
    "duration": 35,
    "start_time": "2022-05-10T15:22:09.438Z"
   },
   {
    "duration": 10,
    "start_time": "2022-05-10T15:22:09.475Z"
   },
   {
    "duration": 26,
    "start_time": "2022-05-10T15:22:09.487Z"
   },
   {
    "duration": 45,
    "start_time": "2022-05-10T15:22:09.515Z"
   },
   {
    "duration": 71,
    "start_time": "2022-05-10T15:22:09.562Z"
   },
   {
    "duration": 21,
    "start_time": "2022-05-10T15:22:09.651Z"
   },
   {
    "duration": 9,
    "start_time": "2022-05-10T15:22:09.675Z"
   },
   {
    "duration": 15,
    "start_time": "2022-05-10T15:22:09.687Z"
   },
   {
    "duration": 49,
    "start_time": "2022-05-10T15:22:09.705Z"
   },
   {
    "duration": 21,
    "start_time": "2022-05-10T15:22:09.756Z"
   },
   {
    "duration": 21,
    "start_time": "2022-05-10T15:22:09.780Z"
   },
   {
    "duration": 9,
    "start_time": "2022-05-10T15:22:09.804Z"
   },
   {
    "duration": 38,
    "start_time": "2022-05-10T15:22:09.816Z"
   },
   {
    "duration": 8,
    "start_time": "2022-05-10T15:22:09.856Z"
   },
   {
    "duration": 9,
    "start_time": "2022-05-10T15:22:09.866Z"
   },
   {
    "duration": 51,
    "start_time": "2022-05-10T15:22:09.877Z"
   },
   {
    "duration": 57,
    "start_time": "2022-05-10T15:22:09.931Z"
   },
   {
    "duration": 15,
    "start_time": "2022-05-10T15:22:09.990Z"
   },
   {
    "duration": 96,
    "start_time": "2022-05-10T15:22:10.010Z"
   },
   {
    "duration": 21,
    "start_time": "2022-05-10T15:22:10.108Z"
   },
   {
    "duration": 70,
    "start_time": "2022-05-10T15:22:10.132Z"
   },
   {
    "duration": 18,
    "start_time": "2022-05-10T15:22:10.204Z"
   },
   {
    "duration": 34,
    "start_time": "2022-05-10T15:22:10.252Z"
   },
   {
    "duration": 15,
    "start_time": "2022-05-10T15:22:10.288Z"
   },
   {
    "duration": 119,
    "start_time": "2022-05-10T15:22:10.305Z"
   },
   {
    "duration": 27,
    "start_time": "2022-05-10T15:22:10.426Z"
   },
   {
    "duration": 16,
    "start_time": "2022-05-10T15:22:10.456Z"
   },
   {
    "duration": 19,
    "start_time": "2022-05-10T15:22:10.475Z"
   },
   {
    "duration": 76,
    "start_time": "2022-05-10T15:22:10.496Z"
   },
   {
    "duration": 18,
    "start_time": "2022-05-10T15:22:10.575Z"
   },
   {
    "duration": 18,
    "start_time": "2022-05-10T15:22:10.596Z"
   },
   {
    "duration": 44,
    "start_time": "2022-05-10T15:22:10.618Z"
   },
   {
    "duration": 41,
    "start_time": "2022-05-10T15:22:10.664Z"
   },
   {
    "duration": 45,
    "start_time": "2022-05-10T15:22:10.707Z"
   },
   {
    "duration": 20,
    "start_time": "2022-05-10T15:22:10.755Z"
   },
   {
    "duration": 16,
    "start_time": "2022-05-10T15:22:10.778Z"
   },
   {
    "duration": 15,
    "start_time": "2022-05-10T15:22:10.797Z"
   },
   {
    "duration": 29,
    "start_time": "2022-05-10T15:22:10.852Z"
   },
   {
    "duration": 34,
    "start_time": "2022-05-10T15:22:10.884Z"
   },
   {
    "duration": 61,
    "start_time": "2022-05-10T15:22:10.920Z"
   },
   {
    "duration": 32,
    "start_time": "2022-05-10T15:22:10.983Z"
   },
   {
    "duration": 1663,
    "start_time": "2022-05-10T15:22:11.017Z"
   },
   {
    "duration": 0,
    "start_time": "2022-05-10T15:22:12.683Z"
   },
   {
    "duration": 51,
    "start_time": "2022-05-10T15:23:41.453Z"
   },
   {
    "duration": 50,
    "start_time": "2022-05-10T15:24:20.898Z"
   },
   {
    "duration": 10,
    "start_time": "2022-05-10T15:25:00.071Z"
   },
   {
    "duration": 45,
    "start_time": "2022-05-10T15:25:25.632Z"
   },
   {
    "duration": 38,
    "start_time": "2022-05-10T15:26:38.575Z"
   },
   {
    "duration": 89,
    "start_time": "2022-05-10T15:28:34.687Z"
   },
   {
    "duration": 17,
    "start_time": "2022-05-10T15:30:35.000Z"
   },
   {
    "duration": 34,
    "start_time": "2022-05-10T15:30:57.306Z"
   },
   {
    "duration": 40,
    "start_time": "2022-05-10T15:31:27.455Z"
   },
   {
    "duration": 36,
    "start_time": "2022-05-10T15:33:48.519Z"
   },
   {
    "duration": 536,
    "start_time": "2022-05-10T15:34:50.618Z"
   },
   {
    "duration": 33,
    "start_time": "2022-05-10T15:34:51.156Z"
   },
   {
    "duration": 13,
    "start_time": "2022-05-10T15:34:51.191Z"
   },
   {
    "duration": 168,
    "start_time": "2022-05-10T15:34:51.207Z"
   },
   {
    "duration": 27,
    "start_time": "2022-05-10T15:34:51.377Z"
   },
   {
    "duration": 20,
    "start_time": "2022-05-10T15:34:51.406Z"
   },
   {
    "duration": 51,
    "start_time": "2022-05-10T15:34:51.429Z"
   },
   {
    "duration": 16,
    "start_time": "2022-05-10T15:34:51.483Z"
   },
   {
    "duration": 130,
    "start_time": "2022-05-10T15:34:51.502Z"
   },
   {
    "duration": 29,
    "start_time": "2022-05-10T15:34:51.637Z"
   },
   {
    "duration": 8,
    "start_time": "2022-05-10T15:34:51.669Z"
   },
   {
    "duration": 23,
    "start_time": "2022-05-10T15:34:51.679Z"
   },
   {
    "duration": 11,
    "start_time": "2022-05-10T15:34:51.705Z"
   },
   {
    "duration": 64,
    "start_time": "2022-05-10T15:34:51.752Z"
   },
   {
    "duration": 39,
    "start_time": "2022-05-10T15:34:51.819Z"
   },
   {
    "duration": 9,
    "start_time": "2022-05-10T15:34:51.861Z"
   },
   {
    "duration": 17,
    "start_time": "2022-05-10T15:34:51.872Z"
   },
   {
    "duration": 15,
    "start_time": "2022-05-10T15:34:51.891Z"
   },
   {
    "duration": 55,
    "start_time": "2022-05-10T15:34:51.908Z"
   },
   {
    "duration": 19,
    "start_time": "2022-05-10T15:34:51.966Z"
   },
   {
    "duration": 10,
    "start_time": "2022-05-10T15:34:51.988Z"
   },
   {
    "duration": 14,
    "start_time": "2022-05-10T15:34:52.000Z"
   },
   {
    "duration": 37,
    "start_time": "2022-05-10T15:34:52.016Z"
   },
   {
    "duration": 14,
    "start_time": "2022-05-10T15:34:52.056Z"
   },
   {
    "duration": 49,
    "start_time": "2022-05-10T15:34:52.072Z"
   },
   {
    "duration": 57,
    "start_time": "2022-05-10T15:34:52.124Z"
   },
   {
    "duration": 15,
    "start_time": "2022-05-10T15:34:52.183Z"
   },
   {
    "duration": 96,
    "start_time": "2022-05-10T15:34:52.204Z"
   },
   {
    "duration": 23,
    "start_time": "2022-05-10T15:34:52.302Z"
   },
   {
    "duration": 69,
    "start_time": "2022-05-10T15:34:52.327Z"
   },
   {
    "duration": 17,
    "start_time": "2022-05-10T15:34:52.398Z"
   },
   {
    "duration": 58,
    "start_time": "2022-05-10T15:34:52.417Z"
   },
   {
    "duration": 15,
    "start_time": "2022-05-10T15:34:52.478Z"
   },
   {
    "duration": 102,
    "start_time": "2022-05-10T15:34:52.495Z"
   },
   {
    "duration": 17,
    "start_time": "2022-05-10T15:34:52.600Z"
   },
   {
    "duration": 33,
    "start_time": "2022-05-10T15:34:52.619Z"
   },
   {
    "duration": 17,
    "start_time": "2022-05-10T15:34:52.655Z"
   },
   {
    "duration": 43,
    "start_time": "2022-05-10T15:34:52.674Z"
   },
   {
    "duration": 45,
    "start_time": "2022-05-10T15:34:52.720Z"
   },
   {
    "duration": 16,
    "start_time": "2022-05-10T15:34:52.767Z"
   },
   {
    "duration": 18,
    "start_time": "2022-05-10T15:34:52.785Z"
   },
   {
    "duration": 68,
    "start_time": "2022-05-10T15:34:52.806Z"
   },
   {
    "duration": 18,
    "start_time": "2022-05-10T15:34:52.877Z"
   },
   {
    "duration": 17,
    "start_time": "2022-05-10T15:34:52.897Z"
   },
   {
    "duration": 48,
    "start_time": "2022-05-10T15:34:52.916Z"
   },
   {
    "duration": 19,
    "start_time": "2022-05-10T15:34:52.966Z"
   },
   {
    "duration": 34,
    "start_time": "2022-05-10T15:34:52.987Z"
   },
   {
    "duration": 60,
    "start_time": "2022-05-10T15:34:53.023Z"
   },
   {
    "duration": 34,
    "start_time": "2022-05-10T15:34:53.085Z"
   },
   {
    "duration": 60,
    "start_time": "2022-05-10T15:34:53.121Z"
   },
   {
    "duration": 36,
    "start_time": "2022-05-10T15:34:53.184Z"
   },
   {
    "duration": 29,
    "start_time": "2022-05-10T15:34:53.222Z"
   },
   {
    "duration": 11,
    "start_time": "2022-05-10T15:34:53.254Z"
   },
   {
    "duration": 43,
    "start_time": "2022-05-10T15:35:53.254Z"
   },
   {
    "duration": 42,
    "start_time": "2022-05-10T15:38:36.494Z"
   },
   {
    "duration": 43,
    "start_time": "2022-05-10T15:44:29.586Z"
   },
   {
    "duration": 26,
    "start_time": "2022-05-10T15:51:02.484Z"
   },
   {
    "duration": 56,
    "start_time": "2022-05-10T15:52:25.676Z"
   },
   {
    "duration": 1105,
    "start_time": "2022-05-10T15:55:37.341Z"
   },
   {
    "duration": 12,
    "start_time": "2022-05-10T15:56:27.895Z"
   },
   {
    "duration": 486,
    "start_time": "2022-05-10T16:02:40.263Z"
   },
   {
    "duration": 34,
    "start_time": "2022-05-10T16:02:40.752Z"
   },
   {
    "duration": 13,
    "start_time": "2022-05-10T16:02:40.788Z"
   },
   {
    "duration": 156,
    "start_time": "2022-05-10T16:02:40.804Z"
   },
   {
    "duration": 28,
    "start_time": "2022-05-10T16:02:40.963Z"
   },
   {
    "duration": 11,
    "start_time": "2022-05-10T16:02:40.993Z"
   },
   {
    "duration": 58,
    "start_time": "2022-05-10T16:02:41.006Z"
   },
   {
    "duration": 13,
    "start_time": "2022-05-10T16:02:41.066Z"
   },
   {
    "duration": 128,
    "start_time": "2022-05-10T16:02:41.081Z"
   },
   {
    "duration": 38,
    "start_time": "2022-05-10T16:02:41.213Z"
   },
   {
    "duration": 11,
    "start_time": "2022-05-10T16:02:41.254Z"
   },
   {
    "duration": 26,
    "start_time": "2022-05-10T16:02:41.268Z"
   },
   {
    "duration": 16,
    "start_time": "2022-05-10T16:02:41.296Z"
   },
   {
    "duration": 98,
    "start_time": "2022-05-10T16:02:41.315Z"
   },
   {
    "duration": 38,
    "start_time": "2022-05-10T16:02:41.415Z"
   },
   {
    "duration": 11,
    "start_time": "2022-05-10T16:02:41.455Z"
   },
   {
    "duration": 18,
    "start_time": "2022-05-10T16:02:41.468Z"
   },
   {
    "duration": 11,
    "start_time": "2022-05-10T16:02:41.489Z"
   },
   {
    "duration": 58,
    "start_time": "2022-05-10T16:02:41.503Z"
   },
   {
    "duration": 16,
    "start_time": "2022-05-10T16:02:41.563Z"
   },
   {
    "duration": 8,
    "start_time": "2022-05-10T16:02:41.582Z"
   },
   {
    "duration": 10,
    "start_time": "2022-05-10T16:02:41.592Z"
   },
   {
    "duration": 9,
    "start_time": "2022-05-10T16:02:41.604Z"
   },
   {
    "duration": 46,
    "start_time": "2022-05-10T16:02:41.615Z"
   },
   {
    "duration": 46,
    "start_time": "2022-05-10T16:02:41.663Z"
   },
   {
    "duration": 67,
    "start_time": "2022-05-10T16:02:41.711Z"
   },
   {
    "duration": 16,
    "start_time": "2022-05-10T16:02:41.781Z"
   },
   {
    "duration": 87,
    "start_time": "2022-05-10T16:02:41.803Z"
   },
   {
    "duration": 20,
    "start_time": "2022-05-10T16:02:41.893Z"
   },
   {
    "duration": 75,
    "start_time": "2022-05-10T16:02:41.915Z"
   },
   {
    "duration": 17,
    "start_time": "2022-05-10T16:02:41.992Z"
   },
   {
    "duration": 62,
    "start_time": "2022-05-10T16:02:42.012Z"
   },
   {
    "duration": 17,
    "start_time": "2022-05-10T16:02:42.078Z"
   },
   {
    "duration": 106,
    "start_time": "2022-05-10T16:02:42.098Z"
   },
   {
    "duration": 19,
    "start_time": "2022-05-10T16:02:42.208Z"
   },
   {
    "duration": 38,
    "start_time": "2022-05-10T16:02:42.230Z"
   },
   {
    "duration": 18,
    "start_time": "2022-05-10T16:02:42.270Z"
   },
   {
    "duration": 73,
    "start_time": "2022-05-10T16:02:42.291Z"
   },
   {
    "duration": 19,
    "start_time": "2022-05-10T16:02:42.367Z"
   },
   {
    "duration": 17,
    "start_time": "2022-05-10T16:02:42.389Z"
   },
   {
    "duration": 48,
    "start_time": "2022-05-10T16:02:42.408Z"
   },
   {
    "duration": 47,
    "start_time": "2022-05-10T16:02:42.459Z"
   },
   {
    "duration": 16,
    "start_time": "2022-05-10T16:02:42.509Z"
   },
   {
    "duration": 41,
    "start_time": "2022-05-10T16:02:42.528Z"
   },
   {
    "duration": 15,
    "start_time": "2022-05-10T16:02:42.571Z"
   },
   {
    "duration": 17,
    "start_time": "2022-05-10T16:02:42.588Z"
   },
   {
    "duration": 60,
    "start_time": "2022-05-10T16:02:42.607Z"
   },
   {
    "duration": 35,
    "start_time": "2022-05-10T16:02:42.669Z"
   },
   {
    "duration": 58,
    "start_time": "2022-05-10T16:02:42.706Z"
   },
   {
    "duration": 39,
    "start_time": "2022-05-10T16:02:42.766Z"
   },
   {
    "duration": 58,
    "start_time": "2022-05-10T16:02:42.807Z"
   },
   {
    "duration": 47,
    "start_time": "2022-05-10T16:02:42.867Z"
   },
   {
    "duration": 67,
    "start_time": "2022-05-10T16:02:42.917Z"
   },
   {
    "duration": 65,
    "start_time": "2022-05-10T16:02:42.987Z"
   },
   {
    "duration": 26,
    "start_time": "2022-05-10T16:02:43.054Z"
   },
   {
    "duration": 84,
    "start_time": "2022-05-10T20:35:06.408Z"
   },
   {
    "duration": 213,
    "start_time": "2022-05-10T20:35:33.624Z"
   },
   {
    "duration": 432,
    "start_time": "2022-05-10T20:35:47.716Z"
   },
   {
    "duration": 420,
    "start_time": "2022-05-10T20:36:12.818Z"
   },
   {
    "duration": 11,
    "start_time": "2022-05-10T20:38:19.479Z"
   },
   {
    "duration": 127,
    "start_time": "2022-05-10T20:39:25.228Z"
   },
   {
    "duration": 147,
    "start_time": "2022-05-10T20:39:44.143Z"
   },
   {
    "duration": 153,
    "start_time": "2022-05-10T20:39:50.532Z"
   },
   {
    "duration": 155,
    "start_time": "2022-05-10T20:40:13.955Z"
   },
   {
    "duration": 223,
    "start_time": "2022-05-10T20:40:20.138Z"
   },
   {
    "duration": 281,
    "start_time": "2022-05-10T20:41:23.136Z"
   },
   {
    "duration": 136,
    "start_time": "2022-05-10T20:43:30.488Z"
   },
   {
    "duration": 132,
    "start_time": "2022-05-10T20:43:36.490Z"
   },
   {
    "duration": 182,
    "start_time": "2022-05-10T20:43:47.341Z"
   },
   {
    "duration": 535,
    "start_time": "2022-05-10T20:43:58.115Z"
   },
   {
    "duration": 42,
    "start_time": "2022-05-10T20:43:58.654Z"
   },
   {
    "duration": 13,
    "start_time": "2022-05-10T20:43:58.698Z"
   },
   {
    "duration": 176,
    "start_time": "2022-05-10T20:43:58.715Z"
   },
   {
    "duration": 28,
    "start_time": "2022-05-10T20:43:58.893Z"
   },
   {
    "duration": 38,
    "start_time": "2022-05-10T20:43:58.923Z"
   },
   {
    "duration": 31,
    "start_time": "2022-05-10T20:43:58.964Z"
   },
   {
    "duration": 16,
    "start_time": "2022-05-10T20:43:58.997Z"
   },
   {
    "duration": 146,
    "start_time": "2022-05-10T20:43:59.016Z"
   },
   {
    "duration": 30,
    "start_time": "2022-05-10T20:43:59.167Z"
   },
   {
    "duration": 10,
    "start_time": "2022-05-10T20:43:59.199Z"
   },
   {
    "duration": 57,
    "start_time": "2022-05-10T20:43:59.211Z"
   },
   {
    "duration": 14,
    "start_time": "2022-05-10T20:43:59.271Z"
   },
   {
    "duration": 88,
    "start_time": "2022-05-10T20:43:59.288Z"
   },
   {
    "duration": 20,
    "start_time": "2022-05-10T20:43:59.378Z"
   },
   {
    "duration": 10,
    "start_time": "2022-05-10T20:43:59.400Z"
   },
   {
    "duration": 47,
    "start_time": "2022-05-10T20:43:59.412Z"
   },
   {
    "duration": 23,
    "start_time": "2022-05-10T20:43:59.462Z"
   },
   {
    "duration": 21,
    "start_time": "2022-05-10T20:43:59.488Z"
   },
   {
    "duration": 18,
    "start_time": "2022-05-10T20:43:59.512Z"
   },
   {
    "duration": 25,
    "start_time": "2022-05-10T20:43:59.532Z"
   },
   {
    "duration": 23,
    "start_time": "2022-05-10T20:43:59.560Z"
   },
   {
    "duration": 8,
    "start_time": "2022-05-10T20:43:59.586Z"
   },
   {
    "duration": 8,
    "start_time": "2022-05-10T20:43:59.596Z"
   },
   {
    "duration": 105,
    "start_time": "2022-05-10T20:43:59.606Z"
   },
   {
    "duration": 46,
    "start_time": "2022-05-10T20:43:59.714Z"
   },
   {
    "duration": 23,
    "start_time": "2022-05-10T20:43:59.763Z"
   },
   {
    "duration": 100,
    "start_time": "2022-05-10T20:43:59.796Z"
   },
   {
    "duration": 22,
    "start_time": "2022-05-10T20:43:59.899Z"
   },
   {
    "duration": 85,
    "start_time": "2022-05-10T20:43:59.923Z"
   },
   {
    "duration": 17,
    "start_time": "2022-05-10T20:44:00.010Z"
   },
   {
    "duration": 52,
    "start_time": "2022-05-10T20:44:00.029Z"
   },
   {
    "duration": 15,
    "start_time": "2022-05-10T20:44:00.083Z"
   },
   {
    "duration": 131,
    "start_time": "2022-05-10T20:44:00.101Z"
   },
   {
    "duration": 33,
    "start_time": "2022-05-10T20:44:00.234Z"
   },
   {
    "duration": 25,
    "start_time": "2022-05-10T20:44:00.270Z"
   },
   {
    "duration": 20,
    "start_time": "2022-05-10T20:44:00.298Z"
   },
   {
    "duration": 81,
    "start_time": "2022-05-10T20:44:00.321Z"
   },
   {
    "duration": 17,
    "start_time": "2022-05-10T20:44:00.404Z"
   },
   {
    "duration": 46,
    "start_time": "2022-05-10T20:44:00.423Z"
   },
   {
    "duration": 30,
    "start_time": "2022-05-10T20:44:00.472Z"
   },
   {
    "duration": 60,
    "start_time": "2022-05-10T20:44:00.504Z"
   },
   {
    "duration": 28,
    "start_time": "2022-05-10T20:44:00.571Z"
   },
   {
    "duration": 20,
    "start_time": "2022-05-10T20:44:00.603Z"
   },
   {
    "duration": 26,
    "start_time": "2022-05-10T20:44:00.659Z"
   },
   {
    "duration": 41,
    "start_time": "2022-05-10T20:44:00.688Z"
   },
   {
    "duration": 53,
    "start_time": "2022-05-10T20:44:00.732Z"
   },
   {
    "duration": 35,
    "start_time": "2022-05-10T20:44:00.788Z"
   },
   {
    "duration": 56,
    "start_time": "2022-05-10T20:44:00.826Z"
   },
   {
    "duration": 41,
    "start_time": "2022-05-10T20:44:00.884Z"
   },
   {
    "duration": 66,
    "start_time": "2022-05-10T20:44:00.927Z"
   },
   {
    "duration": 61,
    "start_time": "2022-05-10T20:44:00.995Z"
   },
   {
    "duration": 46,
    "start_time": "2022-05-10T20:44:01.058Z"
   },
   {
    "duration": 70,
    "start_time": "2022-05-10T20:44:01.106Z"
   },
   {
    "duration": 26,
    "start_time": "2022-05-10T20:44:01.178Z"
   },
   {
    "duration": 379,
    "start_time": "2022-05-10T20:44:01.206Z"
   },
   {
    "duration": 13,
    "start_time": "2022-05-10T20:44:01.588Z"
   },
   {
    "duration": 169,
    "start_time": "2022-05-10T20:44:01.604Z"
   },
   {
    "duration": 26,
    "start_time": "2022-05-10T21:11:52.503Z"
   },
   {
    "duration": 21,
    "start_time": "2022-05-10T21:12:05.284Z"
   },
   {
    "duration": 54,
    "start_time": "2022-05-10T21:12:19.036Z"
   },
   {
    "duration": 637,
    "start_time": "2022-05-10T21:24:27.801Z"
   },
   {
    "duration": 325,
    "start_time": "2022-05-10T21:26:40.915Z"
   },
   {
    "duration": 13,
    "start_time": "2022-05-10T21:35:53.585Z"
   },
   {
    "duration": 37,
    "start_time": "2022-05-10T21:36:08.932Z"
   },
   {
    "duration": 27,
    "start_time": "2022-05-10T21:38:15.940Z"
   },
   {
    "duration": 26,
    "start_time": "2022-05-10T21:38:52.121Z"
   },
   {
    "duration": 456,
    "start_time": "2022-05-10T21:39:13.208Z"
   },
   {
    "duration": 691,
    "start_time": "2022-05-10T21:39:37.699Z"
   },
   {
    "duration": 26,
    "start_time": "2022-05-10T21:48:13.654Z"
   },
   {
    "duration": 15,
    "start_time": "2022-05-10T21:50:01.685Z"
   },
   {
    "duration": 223,
    "start_time": "2022-05-10T21:51:02.622Z"
   },
   {
    "duration": 349,
    "start_time": "2022-05-10T21:52:57.381Z"
   },
   {
    "duration": 300,
    "start_time": "2022-05-10T22:02:31.548Z"
   },
   {
    "duration": 346,
    "start_time": "2022-05-10T22:05:35.415Z"
   },
   {
    "duration": 469,
    "start_time": "2022-05-10T22:05:50.184Z"
   },
   {
    "duration": 356,
    "start_time": "2022-05-10T22:08:07.941Z"
   },
   {
    "duration": 364,
    "start_time": "2022-05-10T22:08:50.613Z"
   },
   {
    "duration": 67,
    "start_time": "2022-05-10T22:15:15.840Z"
   },
   {
    "duration": 99,
    "start_time": "2022-05-10T22:20:58.477Z"
   },
   {
    "duration": 112,
    "start_time": "2022-05-10T22:21:22.098Z"
   },
   {
    "duration": 376,
    "start_time": "2022-05-10T22:21:47.655Z"
   },
   {
    "duration": 3,
    "start_time": "2022-05-10T22:49:14.345Z"
   },
   {
    "duration": 16,
    "start_time": "2022-05-10T22:59:26.101Z"
   },
   {
    "duration": 16,
    "start_time": "2022-05-10T22:59:35.720Z"
   },
   {
    "duration": 588,
    "start_time": "2022-05-10T23:00:01.808Z"
   },
   {
    "duration": 11,
    "start_time": "2022-05-10T23:00:51.359Z"
   },
   {
    "duration": 18,
    "start_time": "2022-05-10T23:01:29.759Z"
   },
   {
    "duration": 13,
    "start_time": "2022-05-10T23:01:40.496Z"
   },
   {
    "duration": 13,
    "start_time": "2022-05-10T23:02:11.385Z"
   },
   {
    "duration": 13,
    "start_time": "2022-05-10T23:05:00.334Z"
   },
   {
    "duration": 27,
    "start_time": "2022-05-10T23:06:47.445Z"
   },
   {
    "duration": 58,
    "start_time": "2022-05-10T23:07:19.436Z"
   },
   {
    "duration": 7,
    "start_time": "2022-05-10T23:10:15.229Z"
   },
   {
    "duration": 526,
    "start_time": "2022-05-10T23:10:23.324Z"
   },
   {
    "duration": 34,
    "start_time": "2022-05-10T23:10:23.852Z"
   },
   {
    "duration": 19,
    "start_time": "2022-05-10T23:10:23.888Z"
   },
   {
    "duration": 165,
    "start_time": "2022-05-10T23:10:23.910Z"
   },
   {
    "duration": 26,
    "start_time": "2022-05-10T23:10:24.077Z"
   },
   {
    "duration": 9,
    "start_time": "2022-05-10T23:10:24.106Z"
   },
   {
    "duration": 54,
    "start_time": "2022-05-10T23:10:24.117Z"
   },
   {
    "duration": 13,
    "start_time": "2022-05-10T23:10:24.173Z"
   },
   {
    "duration": 130,
    "start_time": "2022-05-10T23:10:24.188Z"
   },
   {
    "duration": 39,
    "start_time": "2022-05-10T23:10:24.323Z"
   },
   {
    "duration": 9,
    "start_time": "2022-05-10T23:10:24.365Z"
   },
   {
    "duration": 25,
    "start_time": "2022-05-10T23:10:24.376Z"
   },
   {
    "duration": 10,
    "start_time": "2022-05-10T23:10:24.404Z"
   },
   {
    "duration": 100,
    "start_time": "2022-05-10T23:10:24.417Z"
   },
   {
    "duration": 38,
    "start_time": "2022-05-10T23:10:24.519Z"
   },
   {
    "duration": 10,
    "start_time": "2022-05-10T23:10:24.560Z"
   },
   {
    "duration": 15,
    "start_time": "2022-05-10T23:10:24.572Z"
   },
   {
    "duration": 13,
    "start_time": "2022-05-10T23:10:24.589Z"
   },
   {
    "duration": 56,
    "start_time": "2022-05-10T23:10:24.604Z"
   },
   {
    "duration": 17,
    "start_time": "2022-05-10T23:10:24.662Z"
   },
   {
    "duration": 10,
    "start_time": "2022-05-10T23:10:24.681Z"
   },
   {
    "duration": 10,
    "start_time": "2022-05-10T23:10:24.695Z"
   },
   {
    "duration": 44,
    "start_time": "2022-05-10T23:10:24.708Z"
   },
   {
    "duration": 6,
    "start_time": "2022-05-10T23:10:24.755Z"
   },
   {
    "duration": 48,
    "start_time": "2022-05-10T23:10:24.764Z"
   },
   {
    "duration": 71,
    "start_time": "2022-05-10T23:10:24.814Z"
   },
   {
    "duration": 15,
    "start_time": "2022-05-10T23:10:24.888Z"
   },
   {
    "duration": 87,
    "start_time": "2022-05-10T23:10:24.909Z"
   },
   {
    "duration": 27,
    "start_time": "2022-05-10T23:10:24.998Z"
   },
   {
    "duration": 75,
    "start_time": "2022-05-10T23:10:25.028Z"
   },
   {
    "duration": 17,
    "start_time": "2022-05-10T23:10:25.105Z"
   },
   {
    "duration": 60,
    "start_time": "2022-05-10T23:10:25.125Z"
   },
   {
    "duration": 14,
    "start_time": "2022-05-10T23:10:25.187Z"
   },
   {
    "duration": 107,
    "start_time": "2022-05-10T23:10:25.203Z"
   },
   {
    "duration": 16,
    "start_time": "2022-05-10T23:10:25.312Z"
   },
   {
    "duration": 33,
    "start_time": "2022-05-10T23:10:25.330Z"
   },
   {
    "duration": 20,
    "start_time": "2022-05-10T23:10:25.366Z"
   },
   {
    "duration": 73,
    "start_time": "2022-05-10T23:10:25.388Z"
   },
   {
    "duration": 17,
    "start_time": "2022-05-10T23:10:25.464Z"
   },
   {
    "duration": 15,
    "start_time": "2022-05-10T23:10:25.483Z"
   },
   {
    "duration": 52,
    "start_time": "2022-05-10T23:10:25.501Z"
   },
   {
    "duration": 44,
    "start_time": "2022-05-10T23:10:25.555Z"
   },
   {
    "duration": 17,
    "start_time": "2022-05-10T23:10:25.602Z"
   },
   {
    "duration": 47,
    "start_time": "2022-05-10T23:10:25.621Z"
   },
   {
    "duration": 15,
    "start_time": "2022-05-10T23:10:25.670Z"
   },
   {
    "duration": 18,
    "start_time": "2022-05-10T23:10:25.687Z"
   },
   {
    "duration": 74,
    "start_time": "2022-05-10T23:10:25.707Z"
   },
   {
    "duration": 34,
    "start_time": "2022-05-10T23:10:25.784Z"
   },
   {
    "duration": 62,
    "start_time": "2022-05-10T23:10:25.820Z"
   },
   {
    "duration": 41,
    "start_time": "2022-05-10T23:10:25.884Z"
   },
   {
    "duration": 58,
    "start_time": "2022-05-10T23:10:25.928Z"
   },
   {
    "duration": 67,
    "start_time": "2022-05-10T23:10:25.989Z"
   },
   {
    "duration": 171,
    "start_time": "2022-05-10T23:10:26.059Z"
   },
   {
    "duration": 60,
    "start_time": "2022-05-10T23:10:26.232Z"
   },
   {
    "duration": 28,
    "start_time": "2022-05-10T23:10:26.295Z"
   },
   {
    "duration": 86,
    "start_time": "2022-05-10T23:10:26.325Z"
   },
   {
    "duration": 441,
    "start_time": "2022-05-10T23:10:26.413Z"
   },
   {
    "duration": 374,
    "start_time": "2022-05-10T23:10:26.856Z"
   },
   {
    "duration": 501,
    "start_time": "2022-05-10T23:10:27.233Z"
   },
   {
    "duration": 17,
    "start_time": "2022-05-10T23:10:27.736Z"
   },
   {
    "duration": 14,
    "start_time": "2022-05-10T23:31:56.419Z"
   },
   {
    "duration": 94,
    "start_time": "2022-05-10T23:34:16.556Z"
   },
   {
    "duration": 91,
    "start_time": "2022-05-10T23:34:41.950Z"
   },
   {
    "duration": 90,
    "start_time": "2022-05-10T23:34:47.572Z"
   },
   {
    "duration": 90,
    "start_time": "2022-05-10T23:34:56.335Z"
   },
   {
    "duration": 118,
    "start_time": "2022-05-10T23:35:45.629Z"
   },
   {
    "duration": 18,
    "start_time": "2022-05-10T23:36:58.591Z"
   },
   {
    "duration": 15,
    "start_time": "2022-05-10T23:38:29.776Z"
   },
   {
    "duration": 14,
    "start_time": "2022-05-10T23:40:48.556Z"
   },
   {
    "duration": 13,
    "start_time": "2022-05-10T23:53:35.365Z"
   },
   {
    "duration": 42,
    "start_time": "2022-05-10T23:54:51.917Z"
   },
   {
    "duration": 497,
    "start_time": "2022-05-10T23:55:28.382Z"
   },
   {
    "duration": 35,
    "start_time": "2022-05-10T23:55:28.882Z"
   },
   {
    "duration": 13,
    "start_time": "2022-05-10T23:55:28.919Z"
   },
   {
    "duration": 155,
    "start_time": "2022-05-10T23:55:28.935Z"
   },
   {
    "duration": 26,
    "start_time": "2022-05-10T23:55:29.092Z"
   },
   {
    "duration": 33,
    "start_time": "2022-05-10T23:55:29.120Z"
   },
   {
    "duration": 29,
    "start_time": "2022-05-10T23:55:29.155Z"
   },
   {
    "duration": 13,
    "start_time": "2022-05-10T23:55:29.187Z"
   },
   {
    "duration": 133,
    "start_time": "2022-05-10T23:55:29.202Z"
   },
   {
    "duration": 34,
    "start_time": "2022-05-10T23:55:29.339Z"
   },
   {
    "duration": 13,
    "start_time": "2022-05-10T23:55:29.375Z"
   },
   {
    "duration": 24,
    "start_time": "2022-05-10T23:55:29.390Z"
   },
   {
    "duration": 38,
    "start_time": "2022-05-10T23:55:29.416Z"
   },
   {
    "duration": 64,
    "start_time": "2022-05-10T23:55:29.456Z"
   },
   {
    "duration": 35,
    "start_time": "2022-05-10T23:55:29.523Z"
   },
   {
    "duration": 8,
    "start_time": "2022-05-10T23:55:29.560Z"
   },
   {
    "duration": 14,
    "start_time": "2022-05-10T23:55:29.571Z"
   },
   {
    "duration": 13,
    "start_time": "2022-05-10T23:55:29.587Z"
   },
   {
    "duration": 52,
    "start_time": "2022-05-10T23:55:29.602Z"
   },
   {
    "duration": 18,
    "start_time": "2022-05-10T23:55:29.657Z"
   },
   {
    "duration": 5,
    "start_time": "2022-05-10T23:55:29.677Z"
   },
   {
    "duration": 11,
    "start_time": "2022-05-10T23:55:29.684Z"
   },
   {
    "duration": 5,
    "start_time": "2022-05-10T23:55:29.697Z"
   },
   {
    "duration": 49,
    "start_time": "2022-05-10T23:55:29.704Z"
   },
   {
    "duration": 44,
    "start_time": "2022-05-10T23:55:29.755Z"
   },
   {
    "duration": 61,
    "start_time": "2022-05-10T23:55:29.801Z"
   },
   {
    "duration": 15,
    "start_time": "2022-05-10T23:55:29.864Z"
   },
   {
    "duration": 85,
    "start_time": "2022-05-10T23:55:29.885Z"
   },
   {
    "duration": 24,
    "start_time": "2022-05-10T23:55:29.972Z"
   },
   {
    "duration": 77,
    "start_time": "2022-05-10T23:55:29.998Z"
   },
   {
    "duration": 16,
    "start_time": "2022-05-10T23:55:30.078Z"
   },
   {
    "duration": 33,
    "start_time": "2022-05-10T23:55:30.096Z"
   },
   {
    "duration": 31,
    "start_time": "2022-05-10T23:55:30.131Z"
   },
   {
    "duration": 105,
    "start_time": "2022-05-10T23:55:30.164Z"
   },
   {
    "duration": 16,
    "start_time": "2022-05-10T23:55:30.271Z"
   },
   {
    "duration": 28,
    "start_time": "2022-05-10T23:55:30.289Z"
   },
   {
    "duration": 36,
    "start_time": "2022-05-10T23:55:30.319Z"
   },
   {
    "duration": 46,
    "start_time": "2022-05-10T23:55:30.357Z"
   },
   {
    "duration": 18,
    "start_time": "2022-05-10T23:55:30.405Z"
   },
   {
    "duration": 15,
    "start_time": "2022-05-10T23:55:30.453Z"
   },
   {
    "duration": 31,
    "start_time": "2022-05-10T23:55:30.470Z"
   },
   {
    "duration": 58,
    "start_time": "2022-05-10T23:55:30.503Z"
   },
   {
    "duration": 18,
    "start_time": "2022-05-10T23:55:30.563Z"
   },
   {
    "duration": 23,
    "start_time": "2022-05-10T23:55:30.583Z"
   },
   {
    "duration": 22,
    "start_time": "2022-05-10T23:55:30.609Z"
   },
   {
    "duration": 17,
    "start_time": "2022-05-10T23:55:30.653Z"
   },
   {
    "duration": 33,
    "start_time": "2022-05-10T23:55:30.672Z"
   },
   {
    "duration": 59,
    "start_time": "2022-05-10T23:55:30.707Z"
   },
   {
    "duration": 34,
    "start_time": "2022-05-10T23:55:30.769Z"
   },
   {
    "duration": 64,
    "start_time": "2022-05-10T23:55:30.805Z"
   },
   {
    "duration": 37,
    "start_time": "2022-05-10T23:55:30.871Z"
   },
   {
    "duration": 66,
    "start_time": "2022-05-10T23:55:30.910Z"
   },
   {
    "duration": 40,
    "start_time": "2022-05-10T23:55:30.979Z"
   },
   {
    "duration": 63,
    "start_time": "2022-05-10T23:55:31.021Z"
   },
   {
    "duration": 26,
    "start_time": "2022-05-10T23:55:31.086Z"
   },
   {
    "duration": 87,
    "start_time": "2022-05-10T23:55:31.114Z"
   },
   {
    "duration": 362,
    "start_time": "2022-05-10T23:55:31.204Z"
   },
   {
    "duration": 363,
    "start_time": "2022-05-10T23:55:31.568Z"
   },
   {
    "duration": 365,
    "start_time": "2022-05-10T23:55:31.933Z"
   },
   {
    "duration": 7,
    "start_time": "2022-05-10T23:55:32.300Z"
   },
   {
    "duration": 97,
    "start_time": "2022-05-11T00:18:17.988Z"
   },
   {
    "duration": 1455,
    "start_time": "2022-05-11T00:19:44.798Z"
   },
   {
    "duration": 44,
    "start_time": "2022-05-11T00:20:13.309Z"
   },
   {
    "duration": 101,
    "start_time": "2022-05-11T00:21:33.712Z"
   },
   {
    "duration": 522,
    "start_time": "2022-05-11T00:21:50.012Z"
   },
   {
    "duration": 33,
    "start_time": "2022-05-11T00:21:50.536Z"
   },
   {
    "duration": 13,
    "start_time": "2022-05-11T00:21:50.571Z"
   },
   {
    "duration": 163,
    "start_time": "2022-05-11T00:21:50.587Z"
   },
   {
    "duration": 27,
    "start_time": "2022-05-11T00:21:50.752Z"
   },
   {
    "duration": 10,
    "start_time": "2022-05-11T00:21:50.781Z"
   },
   {
    "duration": 59,
    "start_time": "2022-05-11T00:21:50.793Z"
   },
   {
    "duration": 13,
    "start_time": "2022-05-11T00:21:50.854Z"
   },
   {
    "duration": 121,
    "start_time": "2022-05-11T00:21:50.869Z"
   },
   {
    "duration": 26,
    "start_time": "2022-05-11T00:21:50.994Z"
   },
   {
    "duration": 29,
    "start_time": "2022-05-11T00:21:51.022Z"
   },
   {
    "duration": 29,
    "start_time": "2022-05-11T00:21:51.053Z"
   },
   {
    "duration": 10,
    "start_time": "2022-05-11T00:21:51.084Z"
   },
   {
    "duration": 84,
    "start_time": "2022-05-11T00:21:51.096Z"
   },
   {
    "duration": 19,
    "start_time": "2022-05-11T00:21:51.182Z"
   },
   {
    "duration": 17,
    "start_time": "2022-05-11T00:21:51.203Z"
   },
   {
    "duration": 35,
    "start_time": "2022-05-11T00:21:51.222Z"
   },
   {
    "duration": 17,
    "start_time": "2022-05-11T00:21:51.259Z"
   },
   {
    "duration": 20,
    "start_time": "2022-05-11T00:21:51.278Z"
   },
   {
    "duration": 24,
    "start_time": "2022-05-11T00:21:51.301Z"
   },
   {
    "duration": 23,
    "start_time": "2022-05-11T00:21:51.328Z"
   },
   {
    "duration": 12,
    "start_time": "2022-05-11T00:21:51.353Z"
   },
   {
    "duration": 6,
    "start_time": "2022-05-11T00:21:51.367Z"
   },
   {
    "duration": 6,
    "start_time": "2022-05-11T00:21:51.375Z"
   },
   {
    "duration": 76,
    "start_time": "2022-05-11T00:21:51.383Z"
   },
   {
    "duration": 38,
    "start_time": "2022-05-11T00:21:51.461Z"
   },
   {
    "duration": 14,
    "start_time": "2022-05-11T00:21:51.501Z"
   },
   {
    "duration": 86,
    "start_time": "2022-05-11T00:21:51.521Z"
   },
   {
    "duration": 21,
    "start_time": "2022-05-11T00:21:51.610Z"
   },
   {
    "duration": 68,
    "start_time": "2022-05-11T00:21:51.633Z"
   },
   {
    "duration": 16,
    "start_time": "2022-05-11T00:21:51.704Z"
   },
   {
    "duration": 55,
    "start_time": "2022-05-11T00:21:51.722Z"
   },
   {
    "duration": 14,
    "start_time": "2022-05-11T00:21:51.779Z"
   },
   {
    "duration": 107,
    "start_time": "2022-05-11T00:21:51.796Z"
   },
   {
    "duration": 17,
    "start_time": "2022-05-11T00:21:51.905Z"
   },
   {
    "duration": 37,
    "start_time": "2022-05-11T00:21:51.924Z"
   },
   {
    "duration": 26,
    "start_time": "2022-05-11T00:21:51.964Z"
   },
   {
    "duration": 70,
    "start_time": "2022-05-11T00:21:51.992Z"
   },
   {
    "duration": 16,
    "start_time": "2022-05-11T00:21:52.064Z"
   },
   {
    "duration": 19,
    "start_time": "2022-05-11T00:21:52.082Z"
   },
   {
    "duration": 18,
    "start_time": "2022-05-11T00:21:52.103Z"
   },
   {
    "duration": 66,
    "start_time": "2022-05-11T00:21:52.123Z"
   },
   {
    "duration": 17,
    "start_time": "2022-05-11T00:21:52.191Z"
   },
   {
    "duration": 44,
    "start_time": "2022-05-11T00:21:52.210Z"
   },
   {
    "duration": 14,
    "start_time": "2022-05-11T00:21:52.256Z"
   },
   {
    "duration": 15,
    "start_time": "2022-05-11T00:21:52.272Z"
   },
   {
    "duration": 26,
    "start_time": "2022-05-11T00:21:52.290Z"
   },
   {
    "duration": 66,
    "start_time": "2022-05-11T00:21:52.318Z"
   },
   {
    "duration": 33,
    "start_time": "2022-05-11T00:21:52.387Z"
   },
   {
    "duration": 63,
    "start_time": "2022-05-11T00:21:52.422Z"
   },
   {
    "duration": 35,
    "start_time": "2022-05-11T00:21:52.487Z"
   },
   {
    "duration": 65,
    "start_time": "2022-05-11T00:21:52.524Z"
   },
   {
    "duration": 40,
    "start_time": "2022-05-11T00:21:52.591Z"
   },
   {
    "duration": 42,
    "start_time": "2022-05-11T00:21:52.652Z"
   },
   {
    "duration": 122,
    "start_time": "2022-05-11T00:21:52.697Z"
   },
   {
    "duration": 36,
    "start_time": "2022-05-11T00:21:52.821Z"
   },
   {
    "duration": 58,
    "start_time": "2022-05-11T00:21:52.860Z"
   },
   {
    "duration": 510,
    "start_time": "2022-05-11T00:21:52.920Z"
   },
   {
    "duration": 359,
    "start_time": "2022-05-11T00:21:53.432Z"
   },
   {
    "duration": 369,
    "start_time": "2022-05-11T00:21:53.793Z"
   },
   {
    "duration": 8,
    "start_time": "2022-05-11T00:21:54.164Z"
   },
   {
    "duration": 7,
    "start_time": "2022-05-11T00:23:05.924Z"
   },
   {
    "duration": 1666,
    "start_time": "2022-05-11T00:31:04.567Z"
   },
   {
    "duration": 11,
    "start_time": "2022-05-11T00:31:21.019Z"
   },
   {
    "duration": 15,
    "start_time": "2022-05-11T00:35:12.864Z"
   },
   {
    "duration": 18,
    "start_time": "2022-05-11T00:36:13.867Z"
   },
   {
    "duration": 28,
    "start_time": "2022-05-11T00:37:25.789Z"
   },
   {
    "duration": 16,
    "start_time": "2022-05-11T00:44:19.321Z"
   },
   {
    "duration": 18,
    "start_time": "2022-05-11T00:45:32.088Z"
   },
   {
    "duration": 11,
    "start_time": "2022-05-11T00:46:29.977Z"
   },
   {
    "duration": 15,
    "start_time": "2022-05-11T00:46:44.615Z"
   },
   {
    "duration": 23,
    "start_time": "2022-05-11T00:47:38.296Z"
   },
   {
    "duration": 21,
    "start_time": "2022-05-11T00:48:06.180Z"
   },
   {
    "duration": 11,
    "start_time": "2022-05-11T00:48:30.392Z"
   },
   {
    "duration": 20,
    "start_time": "2022-05-11T00:49:11.521Z"
   },
   {
    "duration": 11,
    "start_time": "2022-05-11T00:49:30.513Z"
   },
   {
    "duration": 21,
    "start_time": "2022-05-11T00:51:35.053Z"
   },
   {
    "duration": 30,
    "start_time": "2022-05-11T00:52:19.261Z"
   },
   {
    "duration": 10,
    "start_time": "2022-05-11T00:52:44.292Z"
   },
   {
    "duration": 9,
    "start_time": "2022-05-11T00:53:06.003Z"
   },
   {
    "duration": 29,
    "start_time": "2022-05-11T00:53:42.161Z"
   },
   {
    "duration": 18,
    "start_time": "2022-05-11T00:55:53.952Z"
   },
   {
    "duration": 9,
    "start_time": "2022-05-11T01:00:49.967Z"
   },
   {
    "duration": 16,
    "start_time": "2022-05-11T01:01:03.182Z"
   },
   {
    "duration": 22,
    "start_time": "2022-05-11T01:03:16.692Z"
   },
   {
    "duration": 5,
    "start_time": "2022-05-11T01:06:32.270Z"
   },
   {
    "duration": 16,
    "start_time": "2022-05-11T01:06:38.538Z"
   },
   {
    "duration": 475,
    "start_time": "2022-05-11T01:06:52.223Z"
   },
   {
    "duration": 33,
    "start_time": "2022-05-11T01:06:52.701Z"
   },
   {
    "duration": 16,
    "start_time": "2022-05-11T01:06:52.737Z"
   },
   {
    "duration": 145,
    "start_time": "2022-05-11T01:06:52.755Z"
   },
   {
    "duration": 26,
    "start_time": "2022-05-11T01:06:52.903Z"
   },
   {
    "duration": 27,
    "start_time": "2022-05-11T01:06:52.931Z"
   },
   {
    "duration": 28,
    "start_time": "2022-05-11T01:06:52.960Z"
   },
   {
    "duration": 12,
    "start_time": "2022-05-11T01:06:52.991Z"
   },
   {
    "duration": 138,
    "start_time": "2022-05-11T01:06:53.006Z"
   },
   {
    "duration": 26,
    "start_time": "2022-05-11T01:06:53.151Z"
   },
   {
    "duration": 9,
    "start_time": "2022-05-11T01:06:53.180Z"
   },
   {
    "duration": 27,
    "start_time": "2022-05-11T01:06:53.192Z"
   },
   {
    "duration": 12,
    "start_time": "2022-05-11T01:06:53.253Z"
   },
   {
    "duration": 85,
    "start_time": "2022-05-11T01:06:53.269Z"
   },
   {
    "duration": 19,
    "start_time": "2022-05-11T01:06:53.356Z"
   },
   {
    "duration": 8,
    "start_time": "2022-05-11T01:06:53.378Z"
   },
   {
    "duration": 16,
    "start_time": "2022-05-11T01:06:53.389Z"
   },
   {
    "duration": 54,
    "start_time": "2022-05-11T01:06:53.408Z"
   },
   {
    "duration": 17,
    "start_time": "2022-05-11T01:06:53.464Z"
   },
   {
    "duration": 18,
    "start_time": "2022-05-11T01:06:53.484Z"
   },
   {
    "duration": 7,
    "start_time": "2022-05-11T01:06:53.504Z"
   },
   {
    "duration": 44,
    "start_time": "2022-05-11T01:06:53.513Z"
   },
   {
    "duration": 6,
    "start_time": "2022-05-11T01:06:53.559Z"
   },
   {
    "duration": 6,
    "start_time": "2022-05-11T01:06:53.567Z"
   },
   {
    "duration": 43,
    "start_time": "2022-05-11T01:06:53.575Z"
   },
   {
    "duration": 68,
    "start_time": "2022-05-11T01:06:53.621Z"
   },
   {
    "duration": 14,
    "start_time": "2022-05-11T01:06:53.691Z"
   },
   {
    "duration": 90,
    "start_time": "2022-05-11T01:06:53.708Z"
   },
   {
    "duration": 22,
    "start_time": "2022-05-11T01:06:53.800Z"
   },
   {
    "duration": 69,
    "start_time": "2022-05-11T01:06:53.824Z"
   },
   {
    "duration": 20,
    "start_time": "2022-05-11T01:06:53.895Z"
   },
   {
    "duration": 56,
    "start_time": "2022-05-11T01:06:53.917Z"
   },
   {
    "duration": 14,
    "start_time": "2022-05-11T01:06:53.975Z"
   },
   {
    "duration": 103,
    "start_time": "2022-05-11T01:06:53.991Z"
   },
   {
    "duration": 16,
    "start_time": "2022-05-11T01:06:54.096Z"
   },
   {
    "duration": 21,
    "start_time": "2022-05-11T01:06:54.114Z"
   },
   {
    "duration": 15,
    "start_time": "2022-05-11T01:06:54.152Z"
   },
   {
    "duration": 43,
    "start_time": "2022-05-11T01:06:54.170Z"
   },
   {
    "duration": 46,
    "start_time": "2022-05-11T01:06:54.216Z"
   },
   {
    "duration": 15,
    "start_time": "2022-05-11T01:06:54.264Z"
   },
   {
    "duration": 18,
    "start_time": "2022-05-11T01:06:54.286Z"
   },
   {
    "duration": 70,
    "start_time": "2022-05-11T01:06:54.306Z"
   },
   {
    "duration": 17,
    "start_time": "2022-05-11T01:06:54.378Z"
   },
   {
    "duration": 17,
    "start_time": "2022-05-11T01:06:54.397Z"
   },
   {
    "duration": 43,
    "start_time": "2022-05-11T01:06:54.417Z"
   },
   {
    "duration": 16,
    "start_time": "2022-05-11T01:06:54.462Z"
   },
   {
    "duration": 29,
    "start_time": "2022-05-11T01:06:54.480Z"
   },
   {
    "duration": 65,
    "start_time": "2022-05-11T01:06:54.511Z"
   },
   {
    "duration": 35,
    "start_time": "2022-05-11T01:06:54.579Z"
   },
   {
    "duration": 64,
    "start_time": "2022-05-11T01:06:54.616Z"
   },
   {
    "duration": 40,
    "start_time": "2022-05-11T01:06:54.682Z"
   },
   {
    "duration": 68,
    "start_time": "2022-05-11T01:06:54.724Z"
   },
   {
    "duration": 58,
    "start_time": "2022-05-11T01:06:54.794Z"
   },
   {
    "duration": 43,
    "start_time": "2022-05-11T01:06:54.854Z"
   },
   {
    "duration": 124,
    "start_time": "2022-05-11T01:06:54.899Z"
   },
   {
    "duration": 32,
    "start_time": "2022-05-11T01:06:55.026Z"
   },
   {
    "duration": 5,
    "start_time": "2022-05-11T01:06:55.061Z"
   },
   {
    "duration": 20,
    "start_time": "2022-05-11T01:06:55.070Z"
   },
   {
    "duration": 58,
    "start_time": "2022-05-11T01:06:55.093Z"
   },
   {
    "duration": 59,
    "start_time": "2022-05-11T01:06:55.154Z"
   },
   {
    "duration": 476,
    "start_time": "2022-05-11T01:06:55.215Z"
   },
   {
    "duration": 366,
    "start_time": "2022-05-11T01:06:55.694Z"
   },
   {
    "duration": 362,
    "start_time": "2022-05-11T01:06:56.062Z"
   },
   {
    "duration": 10,
    "start_time": "2022-05-11T01:06:56.426Z"
   },
   {
    "duration": 16,
    "start_time": "2022-05-11T01:06:56.452Z"
   },
   {
    "duration": 17,
    "start_time": "2022-05-11T01:18:46.424Z"
   },
   {
    "duration": 7,
    "start_time": "2022-05-11T01:19:13.085Z"
   },
   {
    "duration": 18,
    "start_time": "2022-05-11T01:23:05.714Z"
   },
   {
    "duration": 16,
    "start_time": "2022-05-11T01:23:18.540Z"
   },
   {
    "duration": 91,
    "start_time": "2022-05-11T01:24:47.313Z"
   },
   {
    "duration": 15,
    "start_time": "2022-05-11T01:24:56.895Z"
   },
   {
    "duration": 513,
    "start_time": "2022-05-11T01:56:51.058Z"
   },
   {
    "duration": 32,
    "start_time": "2022-05-11T01:56:51.574Z"
   },
   {
    "duration": 12,
    "start_time": "2022-05-11T01:56:51.608Z"
   },
   {
    "duration": 150,
    "start_time": "2022-05-11T01:56:51.623Z"
   },
   {
    "duration": 27,
    "start_time": "2022-05-11T01:56:51.775Z"
   },
   {
    "duration": 10,
    "start_time": "2022-05-11T01:56:51.804Z"
   },
   {
    "duration": 57,
    "start_time": "2022-05-11T01:56:51.816Z"
   },
   {
    "duration": 13,
    "start_time": "2022-05-11T01:56:51.875Z"
   },
   {
    "duration": 133,
    "start_time": "2022-05-11T01:56:51.890Z"
   },
   {
    "duration": 33,
    "start_time": "2022-05-11T01:56:52.027Z"
   },
   {
    "duration": 8,
    "start_time": "2022-05-11T01:56:52.063Z"
   },
   {
    "duration": 24,
    "start_time": "2022-05-11T01:56:52.073Z"
   },
   {
    "duration": 10,
    "start_time": "2022-05-11T01:56:52.099Z"
   },
   {
    "duration": 101,
    "start_time": "2022-05-11T01:56:52.111Z"
   },
   {
    "duration": 19,
    "start_time": "2022-05-11T01:56:52.214Z"
   },
   {
    "duration": 9,
    "start_time": "2022-05-11T01:56:52.252Z"
   },
   {
    "duration": 15,
    "start_time": "2022-05-11T01:56:52.263Z"
   },
   {
    "duration": 15,
    "start_time": "2022-05-11T01:56:52.280Z"
   },
   {
    "duration": 17,
    "start_time": "2022-05-11T01:56:52.298Z"
   },
   {
    "duration": 17,
    "start_time": "2022-05-11T01:56:52.353Z"
   },
   {
    "duration": 8,
    "start_time": "2022-05-11T01:56:52.373Z"
   },
   {
    "duration": 11,
    "start_time": "2022-05-11T01:56:52.384Z"
   },
   {
    "duration": 7,
    "start_time": "2022-05-11T01:56:52.398Z"
   },
   {
    "duration": 7,
    "start_time": "2022-05-11T01:56:52.453Z"
   },
   {
    "duration": 45,
    "start_time": "2022-05-11T01:56:52.463Z"
   },
   {
    "duration": 69,
    "start_time": "2022-05-11T01:56:52.511Z"
   },
   {
    "duration": 16,
    "start_time": "2022-05-11T01:56:52.583Z"
   },
   {
    "duration": 91,
    "start_time": "2022-05-11T01:56:52.608Z"
   },
   {
    "duration": 27,
    "start_time": "2022-05-11T01:56:52.702Z"
   },
   {
    "duration": 55,
    "start_time": "2022-05-11T01:56:52.752Z"
   },
   {
    "duration": 43,
    "start_time": "2022-05-11T01:56:52.810Z"
   },
   {
    "duration": 29,
    "start_time": "2022-05-11T01:56:52.856Z"
   },
   {
    "duration": 14,
    "start_time": "2022-05-11T01:56:52.887Z"
   },
   {
    "duration": 114,
    "start_time": "2022-05-11T01:56:52.904Z"
   },
   {
    "duration": 39,
    "start_time": "2022-05-11T01:56:53.021Z"
   },
   {
    "duration": 15,
    "start_time": "2022-05-11T01:56:53.062Z"
   },
   {
    "duration": 16,
    "start_time": "2022-05-11T01:56:53.079Z"
   },
   {
    "duration": 75,
    "start_time": "2022-05-11T01:56:53.097Z"
   },
   {
    "duration": 17,
    "start_time": "2022-05-11T01:56:53.174Z"
   },
   {
    "duration": 17,
    "start_time": "2022-05-11T01:56:53.194Z"
   },
   {
    "duration": 52,
    "start_time": "2022-05-11T01:56:53.214Z"
   },
   {
    "duration": 37,
    "start_time": "2022-05-11T01:56:53.269Z"
   },
   {
    "duration": 53,
    "start_time": "2022-05-11T01:56:53.309Z"
   },
   {
    "duration": 20,
    "start_time": "2022-05-11T01:56:53.365Z"
   },
   {
    "duration": 16,
    "start_time": "2022-05-11T01:56:53.388Z"
   },
   {
    "duration": 57,
    "start_time": "2022-05-11T01:56:53.406Z"
   },
   {
    "duration": 29,
    "start_time": "2022-05-11T01:56:53.466Z"
   },
   {
    "duration": 64,
    "start_time": "2022-05-11T01:56:53.498Z"
   },
   {
    "duration": 35,
    "start_time": "2022-05-11T01:56:53.565Z"
   },
   {
    "duration": 72,
    "start_time": "2022-05-11T01:56:53.603Z"
   },
   {
    "duration": 38,
    "start_time": "2022-05-11T01:56:53.678Z"
   },
   {
    "duration": 66,
    "start_time": "2022-05-11T01:56:53.719Z"
   },
   {
    "duration": 69,
    "start_time": "2022-05-11T01:56:53.788Z"
   },
   {
    "duration": 43,
    "start_time": "2022-05-11T01:56:53.860Z"
   },
   {
    "duration": 126,
    "start_time": "2022-05-11T01:56:53.907Z"
   },
   {
    "duration": 29,
    "start_time": "2022-05-11T01:56:54.036Z"
   },
   {
    "duration": 18,
    "start_time": "2022-05-11T01:56:54.067Z"
   },
   {
    "duration": 20,
    "start_time": "2022-05-11T01:56:54.087Z"
   },
   {
    "duration": 42,
    "start_time": "2022-05-11T01:56:54.109Z"
   },
   {
    "duration": 58,
    "start_time": "2022-05-11T01:56:54.153Z"
   },
   {
    "duration": 360,
    "start_time": "2022-05-11T01:56:54.213Z"
   },
   {
    "duration": 350,
    "start_time": "2022-05-11T01:56:54.575Z"
   },
   {
    "duration": 539,
    "start_time": "2022-05-11T01:56:54.927Z"
   },
   {
    "duration": 17,
    "start_time": "2022-05-11T01:56:55.469Z"
   },
   {
    "duration": 24,
    "start_time": "2022-05-11T01:56:55.488Z"
   },
   {
    "duration": 204,
    "start_time": "2022-05-11T21:31:12.323Z"
   },
   {
    "duration": 64,
    "start_time": "2022-05-11T21:55:35.113Z"
   },
   {
    "duration": 1062,
    "start_time": "2022-05-11T21:55:37.249Z"
   },
   {
    "duration": 34,
    "start_time": "2022-05-11T21:55:38.314Z"
   },
   {
    "duration": 22,
    "start_time": "2022-05-11T21:55:38.350Z"
   },
   {
    "duration": 159,
    "start_time": "2022-05-11T21:55:38.374Z"
   },
   {
    "duration": 26,
    "start_time": "2022-05-11T21:55:38.535Z"
   },
   {
    "duration": 12,
    "start_time": "2022-05-11T21:55:38.563Z"
   },
   {
    "duration": 46,
    "start_time": "2022-05-11T21:55:38.577Z"
   },
   {
    "duration": 12,
    "start_time": "2022-05-11T21:55:38.625Z"
   },
   {
    "duration": 118,
    "start_time": "2022-05-11T21:55:38.639Z"
   },
   {
    "duration": 25,
    "start_time": "2022-05-11T21:55:38.762Z"
   },
   {
    "duration": 13,
    "start_time": "2022-05-11T21:55:38.798Z"
   },
   {
    "duration": 30,
    "start_time": "2022-05-11T21:55:38.813Z"
   },
   {
    "duration": 10,
    "start_time": "2022-05-11T21:55:38.845Z"
   },
   {
    "duration": 75,
    "start_time": "2022-05-11T21:55:38.857Z"
   },
   {
    "duration": 18,
    "start_time": "2022-05-11T21:55:38.934Z"
   },
   {
    "duration": 7,
    "start_time": "2022-05-11T21:55:38.954Z"
   },
   {
    "duration": 15,
    "start_time": "2022-05-11T21:55:38.963Z"
   },
   {
    "duration": 17,
    "start_time": "2022-05-11T21:55:38.996Z"
   },
   {
    "duration": 17,
    "start_time": "2022-05-11T21:55:39.015Z"
   },
   {
    "duration": 16,
    "start_time": "2022-05-11T21:55:39.035Z"
   },
   {
    "duration": 6,
    "start_time": "2022-05-11T21:55:39.053Z"
   },
   {
    "duration": 16,
    "start_time": "2022-05-11T21:55:39.060Z"
   },
   {
    "duration": 6,
    "start_time": "2022-05-11T21:55:39.078Z"
   },
   {
    "duration": 14,
    "start_time": "2022-05-11T21:55:39.086Z"
   },
   {
    "duration": 48,
    "start_time": "2022-05-11T21:55:39.103Z"
   },
   {
    "duration": 38,
    "start_time": "2022-05-11T21:55:39.153Z"
   },
   {
    "duration": 17,
    "start_time": "2022-05-11T21:55:39.198Z"
   },
   {
    "duration": 64,
    "start_time": "2022-05-11T21:55:39.221Z"
   },
   {
    "duration": 40,
    "start_time": "2022-05-11T21:55:39.287Z"
   },
   {
    "duration": 103,
    "start_time": "2022-05-11T21:55:39.329Z"
   },
   {
    "duration": 72,
    "start_time": "2022-05-11T21:55:39.434Z"
   },
   {
    "duration": 33,
    "start_time": "2022-05-11T21:55:39.509Z"
   },
   {
    "duration": 71,
    "start_time": "2022-05-11T21:55:39.544Z"
   },
   {
    "duration": 92,
    "start_time": "2022-05-11T21:55:39.617Z"
   },
   {
    "duration": 16,
    "start_time": "2022-05-11T21:55:39.711Z"
   },
   {
    "duration": 16,
    "start_time": "2022-05-11T21:55:39.729Z"
   },
   {
    "duration": 16,
    "start_time": "2022-05-11T21:55:39.802Z"
   },
   {
    "duration": 92,
    "start_time": "2022-05-11T21:55:39.820Z"
   },
   {
    "duration": 19,
    "start_time": "2022-05-11T21:55:39.915Z"
   },
   {
    "duration": 74,
    "start_time": "2022-05-11T21:55:39.936Z"
   },
   {
    "duration": 19,
    "start_time": "2022-05-11T21:55:40.013Z"
   },
   {
    "duration": 95,
    "start_time": "2022-05-11T21:55:40.035Z"
   },
   {
    "duration": 77,
    "start_time": "2022-05-11T21:55:40.132Z"
   },
   {
    "duration": 27,
    "start_time": "2022-05-11T21:55:40.212Z"
   },
   {
    "duration": 24,
    "start_time": "2022-05-11T21:55:40.293Z"
   },
   {
    "duration": 15,
    "start_time": "2022-05-11T21:55:40.320Z"
   },
   {
    "duration": 82,
    "start_time": "2022-05-11T21:55:40.337Z"
   },
   {
    "duration": 91,
    "start_time": "2022-05-11T21:55:40.421Z"
   },
   {
    "duration": 33,
    "start_time": "2022-05-11T21:55:40.514Z"
   },
   {
    "duration": 88,
    "start_time": "2022-05-11T21:55:40.549Z"
   },
   {
    "duration": 63,
    "start_time": "2022-05-11T21:55:40.640Z"
   },
   {
    "duration": 44,
    "start_time": "2022-05-11T21:55:40.705Z"
   },
   {
    "duration": 63,
    "start_time": "2022-05-11T21:55:40.751Z"
   },
   {
    "duration": 40,
    "start_time": "2022-05-11T21:55:40.816Z"
   },
   {
    "duration": 124,
    "start_time": "2022-05-11T21:55:40.859Z"
   },
   {
    "duration": 48,
    "start_time": "2022-05-11T21:55:40.985Z"
   },
   {
    "duration": 0,
    "start_time": "2022-05-11T21:55:41.035Z"
   },
   {
    "duration": 0,
    "start_time": "2022-05-11T21:55:41.037Z"
   },
   {
    "duration": 0,
    "start_time": "2022-05-11T21:55:41.039Z"
   },
   {
    "duration": 0,
    "start_time": "2022-05-11T21:55:41.040Z"
   },
   {
    "duration": 0,
    "start_time": "2022-05-11T21:55:41.042Z"
   },
   {
    "duration": 0,
    "start_time": "2022-05-11T21:55:41.044Z"
   },
   {
    "duration": 1,
    "start_time": "2022-05-11T21:55:41.045Z"
   },
   {
    "duration": 0,
    "start_time": "2022-05-11T21:55:41.047Z"
   },
   {
    "duration": 0,
    "start_time": "2022-05-11T21:55:41.049Z"
   },
   {
    "duration": 0,
    "start_time": "2022-05-11T21:55:41.051Z"
   },
   {
    "duration": 18,
    "start_time": "2022-05-11T21:55:54.465Z"
   },
   {
    "duration": 15,
    "start_time": "2022-05-11T21:56:26.895Z"
   },
   {
    "duration": 12,
    "start_time": "2022-05-11T21:56:47.558Z"
   },
   {
    "duration": 16,
    "start_time": "2022-05-11T21:57:59.985Z"
   },
   {
    "duration": 12,
    "start_time": "2022-05-11T21:58:22.113Z"
   },
   {
    "duration": 575,
    "start_time": "2022-05-11T22:06:26.946Z"
   },
   {
    "duration": 32,
    "start_time": "2022-05-11T22:06:27.524Z"
   },
   {
    "duration": 12,
    "start_time": "2022-05-11T22:06:27.558Z"
   },
   {
    "duration": 131,
    "start_time": "2022-05-11T22:06:27.573Z"
   },
   {
    "duration": 25,
    "start_time": "2022-05-11T22:06:27.706Z"
   },
   {
    "duration": 10,
    "start_time": "2022-05-11T22:06:27.733Z"
   },
   {
    "duration": 60,
    "start_time": "2022-05-11T22:06:27.745Z"
   },
   {
    "duration": 13,
    "start_time": "2022-05-11T22:06:27.808Z"
   },
   {
    "duration": 134,
    "start_time": "2022-05-11T22:06:27.824Z"
   },
   {
    "duration": 43,
    "start_time": "2022-05-11T22:06:27.963Z"
   },
   {
    "duration": 11,
    "start_time": "2022-05-11T22:06:28.008Z"
   },
   {
    "duration": 24,
    "start_time": "2022-05-11T22:06:28.021Z"
   },
   {
    "duration": 11,
    "start_time": "2022-05-11T22:06:28.047Z"
   },
   {
    "duration": 90,
    "start_time": "2022-05-11T22:06:28.060Z"
   },
   {
    "duration": 19,
    "start_time": "2022-05-11T22:06:28.152Z"
   },
   {
    "duration": 27,
    "start_time": "2022-05-11T22:06:28.173Z"
   },
   {
    "duration": 18,
    "start_time": "2022-05-11T22:06:28.202Z"
   },
   {
    "duration": 13,
    "start_time": "2022-05-11T22:06:28.223Z"
   },
   {
    "duration": 19,
    "start_time": "2022-05-11T22:06:28.238Z"
   },
   {
    "duration": 63,
    "start_time": "2022-05-11T22:06:28.259Z"
   },
   {
    "duration": 9,
    "start_time": "2022-05-11T22:06:28.324Z"
   },
   {
    "duration": 18,
    "start_time": "2022-05-11T22:06:28.335Z"
   },
   {
    "duration": 7,
    "start_time": "2022-05-11T22:06:28.355Z"
   },
   {
    "duration": 10,
    "start_time": "2022-05-11T22:06:28.364Z"
   },
   {
    "duration": 61,
    "start_time": "2022-05-11T22:06:28.376Z"
   },
   {
    "duration": 63,
    "start_time": "2022-05-11T22:06:28.439Z"
   },
   {
    "duration": 15,
    "start_time": "2022-05-11T22:06:28.505Z"
   },
   {
    "duration": 82,
    "start_time": "2022-05-11T22:06:28.528Z"
   },
   {
    "duration": 22,
    "start_time": "2022-05-11T22:06:28.612Z"
   },
   {
    "duration": 74,
    "start_time": "2022-05-11T22:06:28.636Z"
   },
   {
    "duration": 19,
    "start_time": "2022-05-11T22:06:28.712Z"
   },
   {
    "duration": 30,
    "start_time": "2022-05-11T22:06:28.733Z"
   },
   {
    "duration": 14,
    "start_time": "2022-05-11T22:06:28.802Z"
   },
   {
    "duration": 90,
    "start_time": "2022-05-11T22:06:28.818Z"
   },
   {
    "duration": 17,
    "start_time": "2022-05-11T22:06:28.911Z"
   },
   {
    "duration": 14,
    "start_time": "2022-05-11T22:06:28.930Z"
   },
   {
    "duration": 18,
    "start_time": "2022-05-11T22:06:28.946Z"
   },
   {
    "duration": 74,
    "start_time": "2022-05-11T22:06:28.966Z"
   },
   {
    "duration": 17,
    "start_time": "2022-05-11T22:06:29.043Z"
   },
   {
    "duration": 48,
    "start_time": "2022-05-11T22:06:29.062Z"
   },
   {
    "duration": 17,
    "start_time": "2022-05-11T22:06:29.112Z"
   },
   {
    "duration": 38,
    "start_time": "2022-05-11T22:06:29.131Z"
   },
   {
    "duration": 19,
    "start_time": "2022-05-11T22:06:29.195Z"
   },
   {
    "duration": 18,
    "start_time": "2022-05-11T22:06:29.216Z"
   },
   {
    "duration": 15,
    "start_time": "2022-05-11T22:06:29.236Z"
   },
   {
    "duration": 57,
    "start_time": "2022-05-11T22:06:29.253Z"
   },
   {
    "duration": 29,
    "start_time": "2022-05-11T22:06:29.312Z"
   },
   {
    "duration": 90,
    "start_time": "2022-05-11T22:06:29.343Z"
   },
   {
    "duration": 32,
    "start_time": "2022-05-11T22:06:29.435Z"
   },
   {
    "duration": 67,
    "start_time": "2022-05-11T22:06:29.469Z"
   },
   {
    "duration": 36,
    "start_time": "2022-05-11T22:06:29.538Z"
   },
   {
    "duration": 44,
    "start_time": "2022-05-11T22:06:29.592Z"
   },
   {
    "duration": 63,
    "start_time": "2022-05-11T22:06:29.639Z"
   },
   {
    "duration": 41,
    "start_time": "2022-05-11T22:06:29.704Z"
   },
   {
    "duration": 118,
    "start_time": "2022-05-11T22:06:29.747Z"
   },
   {
    "duration": 13,
    "start_time": "2022-05-11T22:06:29.867Z"
   },
   {
    "duration": 19,
    "start_time": "2022-05-11T22:06:29.901Z"
   },
   {
    "duration": 4,
    "start_time": "2022-05-11T22:06:29.922Z"
   },
   {
    "duration": 17,
    "start_time": "2022-05-11T22:06:29.929Z"
   },
   {
    "duration": 54,
    "start_time": "2022-05-11T22:06:29.948Z"
   },
   {
    "duration": 60,
    "start_time": "2022-05-11T22:06:30.004Z"
   },
   {
    "duration": 723,
    "start_time": "2022-05-11T22:06:30.066Z"
   },
   {
    "duration": 361,
    "start_time": "2022-05-11T22:06:30.794Z"
   },
   {
    "duration": 424,
    "start_time": "2022-05-11T22:06:31.157Z"
   },
   {
    "duration": 506,
    "start_time": "2022-05-11T22:06:31.583Z"
   },
   {
    "duration": 18,
    "start_time": "2022-05-11T22:06:32.092Z"
   },
   {
    "duration": 60,
    "start_time": "2022-05-12T13:19:56.027Z"
   },
   {
    "duration": 904,
    "start_time": "2022-05-12T13:20:03.358Z"
   },
   {
    "duration": 34,
    "start_time": "2022-05-12T13:20:04.264Z"
   },
   {
    "duration": 16,
    "start_time": "2022-05-12T13:20:04.300Z"
   },
   {
    "duration": 153,
    "start_time": "2022-05-12T13:20:04.318Z"
   },
   {
    "duration": 36,
    "start_time": "2022-05-12T13:20:04.474Z"
   },
   {
    "duration": 11,
    "start_time": "2022-05-12T13:20:04.512Z"
   },
   {
    "duration": 47,
    "start_time": "2022-05-12T13:20:04.525Z"
   },
   {
    "duration": 10,
    "start_time": "2022-05-12T13:20:04.575Z"
   },
   {
    "duration": 125,
    "start_time": "2022-05-12T13:20:04.588Z"
   },
   {
    "duration": 40,
    "start_time": "2022-05-12T13:20:09.524Z"
   },
   {
    "duration": 32,
    "start_time": "2022-05-12T13:20:21.141Z"
   },
   {
    "duration": 147,
    "start_time": "2022-05-12T13:21:38.519Z"
   },
   {
    "duration": 4,
    "start_time": "2022-05-12T13:25:54.377Z"
   },
   {
    "duration": 471,
    "start_time": "2022-05-12T13:26:04.759Z"
   },
   {
    "duration": 35,
    "start_time": "2022-05-12T13:26:05.232Z"
   },
   {
    "duration": 10,
    "start_time": "2022-05-12T13:26:05.269Z"
   },
   {
    "duration": 146,
    "start_time": "2022-05-12T13:26:05.282Z"
   },
   {
    "duration": 40,
    "start_time": "2022-05-12T13:26:05.430Z"
   },
   {
    "duration": 7,
    "start_time": "2022-05-12T13:26:05.472Z"
   },
   {
    "duration": 30,
    "start_time": "2022-05-12T13:26:05.481Z"
   },
   {
    "duration": 8,
    "start_time": "2022-05-12T13:26:05.513Z"
   },
   {
    "duration": 71,
    "start_time": "2022-05-12T13:26:05.544Z"
   },
   {
    "duration": 41,
    "start_time": "2022-05-12T13:26:05.618Z"
   },
   {
    "duration": 7,
    "start_time": "2022-05-12T13:26:05.661Z"
   },
   {
    "duration": 21,
    "start_time": "2022-05-12T13:26:05.670Z"
   },
   {
    "duration": 8,
    "start_time": "2022-05-12T13:26:05.692Z"
   },
   {
    "duration": 82,
    "start_time": "2022-05-12T13:26:05.701Z"
   },
   {
    "duration": 16,
    "start_time": "2022-05-12T13:26:05.785Z"
   },
   {
    "duration": 8,
    "start_time": "2022-05-12T13:26:05.803Z"
   },
   {
    "duration": 34,
    "start_time": "2022-05-12T13:26:05.813Z"
   },
   {
    "duration": 19,
    "start_time": "2022-05-12T13:26:05.849Z"
   },
   {
    "duration": 18,
    "start_time": "2022-05-12T13:26:05.869Z"
   },
   {
    "duration": 16,
    "start_time": "2022-05-12T13:26:05.889Z"
   },
   {
    "duration": 7,
    "start_time": "2022-05-12T13:26:05.906Z"
   },
   {
    "duration": 44,
    "start_time": "2022-05-12T13:26:05.915Z"
   },
   {
    "duration": 13,
    "start_time": "2022-05-12T13:26:05.960Z"
   },
   {
    "duration": 5,
    "start_time": "2022-05-12T13:26:05.975Z"
   },
   {
    "duration": 8,
    "start_time": "2022-05-12T13:26:05.982Z"
   },
   {
    "duration": 36,
    "start_time": "2022-05-12T13:26:05.991Z"
   },
   {
    "duration": 37,
    "start_time": "2022-05-12T13:26:06.029Z"
   },
   {
    "duration": 11,
    "start_time": "2022-05-12T13:26:06.070Z"
   },
   {
    "duration": 61,
    "start_time": "2022-05-12T13:26:06.082Z"
   },
   {
    "duration": 25,
    "start_time": "2022-05-12T13:26:06.145Z"
   },
   {
    "duration": 40,
    "start_time": "2022-05-12T13:26:06.171Z"
   },
   {
    "duration": 48,
    "start_time": "2022-05-12T13:26:06.213Z"
   },
   {
    "duration": 22,
    "start_time": "2022-05-12T13:26:06.263Z"
   },
   {
    "duration": 17,
    "start_time": "2022-05-12T13:26:06.287Z"
   },
   {
    "duration": 94,
    "start_time": "2022-05-12T13:26:06.306Z"
   },
   {
    "duration": 11,
    "start_time": "2022-05-12T13:26:06.402Z"
   },
   {
    "duration": 10,
    "start_time": "2022-05-12T13:26:06.415Z"
   },
   {
    "duration": 20,
    "start_time": "2022-05-12T13:26:06.444Z"
   },
   {
    "duration": 40,
    "start_time": "2022-05-12T13:26:06.465Z"
   },
   {
    "duration": 12,
    "start_time": "2022-05-12T13:26:06.506Z"
   },
   {
    "duration": 20,
    "start_time": "2022-05-12T13:26:06.542Z"
   },
   {
    "duration": 15,
    "start_time": "2022-05-12T13:26:06.564Z"
   },
   {
    "duration": 30,
    "start_time": "2022-05-12T13:26:06.581Z"
   },
   {
    "duration": 36,
    "start_time": "2022-05-12T13:26:06.613Z"
   },
   {
    "duration": 20,
    "start_time": "2022-05-12T13:26:06.651Z"
   },
   {
    "duration": 12,
    "start_time": "2022-05-12T13:26:06.672Z"
   },
   {
    "duration": 11,
    "start_time": "2022-05-12T13:26:06.685Z"
   },
   {
    "duration": 52,
    "start_time": "2022-05-12T13:26:06.698Z"
   },
   {
    "duration": 25,
    "start_time": "2022-05-12T13:26:06.755Z"
   },
   {
    "duration": 22,
    "start_time": "2022-05-12T13:26:06.782Z"
   },
   {
    "duration": 68,
    "start_time": "2022-05-12T13:26:06.807Z"
   },
   {
    "duration": 25,
    "start_time": "2022-05-12T13:26:06.877Z"
   },
   {
    "duration": 56,
    "start_time": "2022-05-12T13:26:06.904Z"
   },
   {
    "duration": 25,
    "start_time": "2022-05-12T13:26:06.962Z"
   },
   {
    "duration": 27,
    "start_time": "2022-05-12T13:26:06.989Z"
   },
   {
    "duration": 91,
    "start_time": "2022-05-12T13:26:07.017Z"
   },
   {
    "duration": 10,
    "start_time": "2022-05-12T13:26:07.110Z"
   },
   {
    "duration": 32,
    "start_time": "2022-05-12T13:26:07.122Z"
   },
   {
    "duration": 3,
    "start_time": "2022-05-12T13:26:07.157Z"
   },
   {
    "duration": 13,
    "start_time": "2022-05-12T13:26:07.162Z"
   },
   {
    "duration": 18,
    "start_time": "2022-05-12T13:26:07.177Z"
   },
   {
    "duration": 80,
    "start_time": "2022-05-12T13:26:07.197Z"
   },
   {
    "duration": 764,
    "start_time": "2022-05-12T13:26:07.281Z"
   },
   {
    "duration": 255,
    "start_time": "2022-05-12T13:26:08.048Z"
   },
   {
    "duration": 307,
    "start_time": "2022-05-12T13:26:08.305Z"
   },
   {
    "duration": 464,
    "start_time": "2022-05-12T13:26:08.614Z"
   },
   {
    "duration": 12,
    "start_time": "2022-05-12T13:26:09.079Z"
   },
   {
    "duration": 5,
    "start_time": "2022-05-12T13:26:33.705Z"
   },
   {
    "duration": 181,
    "start_time": "2022-05-12T13:27:53.839Z"
   },
   {
    "duration": 5,
    "start_time": "2022-05-12T13:28:05.996Z"
   },
   {
    "duration": 23,
    "start_time": "2022-05-12T13:49:07.424Z"
   },
   {
    "duration": 25,
    "start_time": "2022-05-12T13:51:31.118Z"
   },
   {
    "duration": 81,
    "start_time": "2022-05-12T14:04:54.027Z"
   },
   {
    "duration": 28,
    "start_time": "2022-05-12T14:05:59.866Z"
   },
   {
    "duration": 39,
    "start_time": "2022-05-12T14:07:39.124Z"
   },
   {
    "duration": 24,
    "start_time": "2022-05-12T14:08:18.379Z"
   },
   {
    "duration": 28,
    "start_time": "2022-05-12T14:08:37.520Z"
   },
   {
    "duration": 882,
    "start_time": "2022-05-12T14:29:14.244Z"
   },
   {
    "duration": 37,
    "start_time": "2022-05-12T14:29:15.131Z"
   },
   {
    "duration": 14,
    "start_time": "2022-05-12T14:29:15.169Z"
   },
   {
    "duration": 126,
    "start_time": "2022-05-12T14:29:15.185Z"
   },
   {
    "duration": 45,
    "start_time": "2022-05-12T14:29:15.313Z"
   },
   {
    "duration": 8,
    "start_time": "2022-05-12T14:29:15.360Z"
   },
   {
    "duration": 26,
    "start_time": "2022-05-12T14:29:15.370Z"
   },
   {
    "duration": 10,
    "start_time": "2022-05-12T14:29:15.397Z"
   },
   {
    "duration": 103,
    "start_time": "2022-05-12T14:29:15.409Z"
   },
   {
    "duration": 32,
    "start_time": "2022-05-12T14:29:15.514Z"
   },
   {
    "duration": 15,
    "start_time": "2022-05-12T14:29:15.548Z"
   },
   {
    "duration": 24,
    "start_time": "2022-05-12T14:29:15.565Z"
   },
   {
    "duration": 10,
    "start_time": "2022-05-12T14:29:15.591Z"
   },
   {
    "duration": 90,
    "start_time": "2022-05-12T14:29:15.603Z"
   },
   {
    "duration": 15,
    "start_time": "2022-05-12T14:29:15.695Z"
   },
   {
    "duration": 7,
    "start_time": "2022-05-12T14:29:15.712Z"
   },
   {
    "duration": 33,
    "start_time": "2022-05-12T14:29:15.721Z"
   },
   {
    "duration": 23,
    "start_time": "2022-05-12T14:29:15.756Z"
   },
   {
    "duration": 25,
    "start_time": "2022-05-12T14:29:15.781Z"
   },
   {
    "duration": 14,
    "start_time": "2022-05-12T14:29:15.808Z"
   },
   {
    "duration": 10,
    "start_time": "2022-05-12T14:29:15.825Z"
   },
   {
    "duration": 27,
    "start_time": "2022-05-12T14:29:15.843Z"
   },
   {
    "duration": 19,
    "start_time": "2022-05-12T14:29:15.872Z"
   },
   {
    "duration": 6,
    "start_time": "2022-05-12T14:29:15.893Z"
   },
   {
    "duration": 7,
    "start_time": "2022-05-12T14:29:15.901Z"
   },
   {
    "duration": 69,
    "start_time": "2022-05-12T14:29:15.910Z"
   },
   {
    "duration": 42,
    "start_time": "2022-05-12T14:29:15.982Z"
   },
   {
    "duration": 21,
    "start_time": "2022-05-12T14:29:16.030Z"
   },
   {
    "duration": 56,
    "start_time": "2022-05-12T14:29:16.054Z"
   },
   {
    "duration": 49,
    "start_time": "2022-05-12T14:29:16.111Z"
   },
   {
    "duration": 43,
    "start_time": "2022-05-12T14:29:16.162Z"
   },
   {
    "duration": 38,
    "start_time": "2022-05-12T14:29:16.207Z"
   },
   {
    "duration": 28,
    "start_time": "2022-05-12T14:29:16.248Z"
   },
   {
    "duration": 12,
    "start_time": "2022-05-12T14:29:16.277Z"
   },
   {
    "duration": 172,
    "start_time": "2022-05-12T14:29:16.292Z"
   },
   {
    "duration": 17,
    "start_time": "2022-05-12T14:29:16.467Z"
   },
   {
    "duration": 15,
    "start_time": "2022-05-12T14:29:16.486Z"
   },
   {
    "duration": 15,
    "start_time": "2022-05-12T14:29:16.503Z"
   },
   {
    "duration": 47,
    "start_time": "2022-05-12T14:29:16.549Z"
   },
   {
    "duration": 12,
    "start_time": "2022-05-12T14:29:16.598Z"
   },
   {
    "duration": 34,
    "start_time": "2022-05-12T14:29:16.612Z"
   },
   {
    "duration": 15,
    "start_time": "2022-05-12T14:29:16.650Z"
   },
   {
    "duration": 49,
    "start_time": "2022-05-12T14:29:16.667Z"
   },
   {
    "duration": 42,
    "start_time": "2022-05-12T14:29:16.718Z"
   },
   {
    "duration": 13,
    "start_time": "2022-05-12T14:29:16.763Z"
   },
   {
    "duration": 14,
    "start_time": "2022-05-12T14:29:16.779Z"
   },
   {
    "duration": 11,
    "start_time": "2022-05-12T14:29:16.795Z"
   },
   {
    "duration": 55,
    "start_time": "2022-05-12T14:29:16.807Z"
   },
   {
    "duration": 40,
    "start_time": "2022-05-12T14:29:16.864Z"
   },
   {
    "duration": 29,
    "start_time": "2022-05-12T14:29:22.510Z"
   },
   {
    "duration": 66,
    "start_time": "2022-05-12T14:54:03.789Z"
   },
   {
    "duration": 60,
    "start_time": "2022-05-12T15:03:57.255Z"
   },
   {
    "duration": 69,
    "start_time": "2022-05-12T15:04:19.095Z"
   },
   {
    "duration": 63,
    "start_time": "2022-05-12T15:04:35.407Z"
   },
   {
    "duration": 71,
    "start_time": "2022-05-12T15:04:57.665Z"
   },
   {
    "duration": 67,
    "start_time": "2022-05-12T15:05:29.980Z"
   },
   {
    "duration": 75,
    "start_time": "2022-05-12T15:06:34.835Z"
   },
   {
    "duration": 449,
    "start_time": "2022-05-12T15:07:22.039Z"
   },
   {
    "duration": 28,
    "start_time": "2022-05-12T15:07:22.490Z"
   },
   {
    "duration": 18,
    "start_time": "2022-05-12T15:07:22.520Z"
   },
   {
    "duration": 122,
    "start_time": "2022-05-12T15:07:22.540Z"
   },
   {
    "duration": 24,
    "start_time": "2022-05-12T15:07:22.664Z"
   },
   {
    "duration": 23,
    "start_time": "2022-05-12T15:07:22.691Z"
   },
   {
    "duration": 60,
    "start_time": "2022-05-12T15:07:22.715Z"
   },
   {
    "duration": 14,
    "start_time": "2022-05-12T15:07:22.778Z"
   },
   {
    "duration": 138,
    "start_time": "2022-05-12T15:07:22.794Z"
   },
   {
    "duration": 30,
    "start_time": "2022-05-12T15:07:22.937Z"
   },
   {
    "duration": 17,
    "start_time": "2022-05-12T15:07:22.969Z"
   },
   {
    "duration": 37,
    "start_time": "2022-05-12T15:07:22.988Z"
   },
   {
    "duration": 21,
    "start_time": "2022-05-12T15:07:23.027Z"
   },
   {
    "duration": 73,
    "start_time": "2022-05-12T15:07:23.050Z"
   },
   {
    "duration": 18,
    "start_time": "2022-05-12T15:07:23.125Z"
   },
   {
    "duration": 9,
    "start_time": "2022-05-12T15:07:23.145Z"
   },
   {
    "duration": 15,
    "start_time": "2022-05-12T15:07:23.156Z"
   },
   {
    "duration": 29,
    "start_time": "2022-05-12T15:07:23.173Z"
   },
   {
    "duration": 23,
    "start_time": "2022-05-12T15:07:23.203Z"
   },
   {
    "duration": 30,
    "start_time": "2022-05-12T15:07:23.228Z"
   },
   {
    "duration": 27,
    "start_time": "2022-05-12T15:07:23.260Z"
   },
   {
    "duration": 16,
    "start_time": "2022-05-12T15:07:23.288Z"
   },
   {
    "duration": 15,
    "start_time": "2022-05-12T15:07:23.306Z"
   },
   {
    "duration": 18,
    "start_time": "2022-05-12T15:07:23.323Z"
   },
   {
    "duration": 19,
    "start_time": "2022-05-12T15:07:23.343Z"
   },
   {
    "duration": 60,
    "start_time": "2022-05-12T15:07:23.364Z"
   },
   {
    "duration": 41,
    "start_time": "2022-05-12T15:07:23.426Z"
   },
   {
    "duration": 14,
    "start_time": "2022-05-12T15:07:23.473Z"
   },
   {
    "duration": 90,
    "start_time": "2022-05-12T15:07:23.491Z"
   },
   {
    "duration": 23,
    "start_time": "2022-05-12T15:07:23.583Z"
   },
   {
    "duration": 83,
    "start_time": "2022-05-12T15:07:23.608Z"
   },
   {
    "duration": 21,
    "start_time": "2022-05-12T15:07:23.693Z"
   },
   {
    "duration": 56,
    "start_time": "2022-05-12T15:07:23.716Z"
   },
   {
    "duration": 28,
    "start_time": "2022-05-12T15:07:23.775Z"
   },
   {
    "duration": 84,
    "start_time": "2022-05-12T15:07:23.805Z"
   },
   {
    "duration": 14,
    "start_time": "2022-05-12T15:07:23.891Z"
   },
   {
    "duration": 24,
    "start_time": "2022-05-12T15:07:23.907Z"
   },
   {
    "duration": 29,
    "start_time": "2022-05-12T15:07:23.944Z"
   },
   {
    "duration": 72,
    "start_time": "2022-05-12T15:07:23.975Z"
   },
   {
    "duration": 12,
    "start_time": "2022-05-12T15:07:24.049Z"
   },
   {
    "duration": 26,
    "start_time": "2022-05-12T15:07:24.063Z"
   },
   {
    "duration": 33,
    "start_time": "2022-05-12T15:07:24.092Z"
   },
   {
    "duration": 74,
    "start_time": "2022-05-12T15:07:24.128Z"
   },
   {
    "duration": 21,
    "start_time": "2022-05-12T15:07:24.204Z"
   },
   {
    "duration": 42,
    "start_time": "2022-05-12T15:07:24.227Z"
   },
   {
    "duration": 32,
    "start_time": "2022-05-12T15:07:24.272Z"
   },
   {
    "duration": 19,
    "start_time": "2022-05-12T15:07:24.306Z"
   },
   {
    "duration": 41,
    "start_time": "2022-05-12T15:07:24.327Z"
   },
   {
    "duration": 46,
    "start_time": "2022-05-12T15:07:24.370Z"
   },
   {
    "duration": 38,
    "start_time": "2022-05-12T15:07:24.418Z"
   },
   {
    "duration": 48,
    "start_time": "2022-05-12T15:08:02.975Z"
   },
   {
    "duration": 103,
    "start_time": "2022-05-12T15:08:50.250Z"
   },
   {
    "duration": 138,
    "start_time": "2022-05-12T15:21:47.261Z"
   },
   {
    "duration": 112,
    "start_time": "2022-05-12T15:22:18.996Z"
   },
   {
    "duration": 139,
    "start_time": "2022-05-12T15:23:10.440Z"
   },
   {
    "duration": 176,
    "start_time": "2022-05-12T15:26:52.112Z"
   },
   {
    "duration": 156,
    "start_time": "2022-05-12T15:27:11.424Z"
   },
   {
    "duration": 182,
    "start_time": "2022-05-12T15:27:56.402Z"
   },
   {
    "duration": 141,
    "start_time": "2022-05-12T15:33:15.185Z"
   },
   {
    "duration": 153,
    "start_time": "2022-05-12T15:36:14.396Z"
   },
   {
    "duration": 33,
    "start_time": "2022-05-12T15:42:22.445Z"
   },
   {
    "duration": 11,
    "start_time": "2022-05-12T15:42:48.992Z"
   },
   {
    "duration": 28,
    "start_time": "2022-05-12T15:43:21.469Z"
   },
   {
    "duration": 150,
    "start_time": "2022-05-12T15:47:19.809Z"
   },
   {
    "duration": 11,
    "start_time": "2022-05-12T15:47:51.681Z"
   },
   {
    "duration": 152,
    "start_time": "2022-05-12T15:48:52.682Z"
   },
   {
    "duration": 27,
    "start_time": "2022-05-12T15:49:34.336Z"
   },
   {
    "duration": 43,
    "start_time": "2022-05-12T15:49:54.142Z"
   },
   {
    "duration": 444,
    "start_time": "2022-05-12T15:50:07.497Z"
   },
   {
    "duration": 33,
    "start_time": "2022-05-12T15:50:07.944Z"
   },
   {
    "duration": 24,
    "start_time": "2022-05-12T15:50:07.978Z"
   },
   {
    "duration": 143,
    "start_time": "2022-05-12T15:50:08.005Z"
   },
   {
    "duration": 24,
    "start_time": "2022-05-12T15:50:08.150Z"
   },
   {
    "duration": 8,
    "start_time": "2022-05-12T15:50:08.175Z"
   },
   {
    "duration": 29,
    "start_time": "2022-05-12T15:50:08.184Z"
   },
   {
    "duration": 36,
    "start_time": "2022-05-12T15:50:08.215Z"
   },
   {
    "duration": 88,
    "start_time": "2022-05-12T15:50:08.253Z"
   },
   {
    "duration": 39,
    "start_time": "2022-05-12T15:50:08.349Z"
   },
   {
    "duration": 8,
    "start_time": "2022-05-12T15:50:08.389Z"
   },
   {
    "duration": 25,
    "start_time": "2022-05-12T15:50:08.399Z"
   },
   {
    "duration": 30,
    "start_time": "2022-05-12T15:50:08.426Z"
   },
   {
    "duration": 66,
    "start_time": "2022-05-12T15:50:08.458Z"
   },
   {
    "duration": 20,
    "start_time": "2022-05-12T15:50:08.526Z"
   },
   {
    "duration": 18,
    "start_time": "2022-05-12T15:50:08.549Z"
   },
   {
    "duration": 12,
    "start_time": "2022-05-12T15:50:08.570Z"
   },
   {
    "duration": 12,
    "start_time": "2022-05-12T15:50:08.584Z"
   },
   {
    "duration": 27,
    "start_time": "2022-05-12T15:50:08.598Z"
   },
   {
    "duration": 34,
    "start_time": "2022-05-12T15:50:08.626Z"
   },
   {
    "duration": 15,
    "start_time": "2022-05-12T15:50:08.662Z"
   },
   {
    "duration": 29,
    "start_time": "2022-05-12T15:50:08.678Z"
   },
   {
    "duration": 11,
    "start_time": "2022-05-12T15:50:08.709Z"
   },
   {
    "duration": 10,
    "start_time": "2022-05-12T15:50:08.721Z"
   },
   {
    "duration": 30,
    "start_time": "2022-05-12T15:50:08.732Z"
   },
   {
    "duration": 40,
    "start_time": "2022-05-12T15:50:08.763Z"
   },
   {
    "duration": 30,
    "start_time": "2022-05-12T15:50:08.805Z"
   },
   {
    "duration": 15,
    "start_time": "2022-05-12T15:50:08.839Z"
   },
   {
    "duration": 54,
    "start_time": "2022-05-12T15:50:08.858Z"
   },
   {
    "duration": 42,
    "start_time": "2022-05-12T15:50:08.914Z"
   },
   {
    "duration": 40,
    "start_time": "2022-05-12T15:50:08.958Z"
   },
   {
    "duration": 14,
    "start_time": "2022-05-12T15:50:08.999Z"
   },
   {
    "duration": 51,
    "start_time": "2022-05-12T15:50:09.015Z"
   },
   {
    "duration": 11,
    "start_time": "2022-05-12T15:50:09.068Z"
   },
   {
    "duration": 83,
    "start_time": "2022-05-12T15:50:09.081Z"
   },
   {
    "duration": 13,
    "start_time": "2022-05-12T15:50:09.166Z"
   },
   {
    "duration": 18,
    "start_time": "2022-05-12T15:50:09.181Z"
   },
   {
    "duration": 29,
    "start_time": "2022-05-12T15:50:09.200Z"
   },
   {
    "duration": 50,
    "start_time": "2022-05-12T15:50:09.230Z"
   },
   {
    "duration": 13,
    "start_time": "2022-05-12T15:50:09.282Z"
   },
   {
    "duration": 13,
    "start_time": "2022-05-12T15:50:09.296Z"
   },
   {
    "duration": 46,
    "start_time": "2022-05-12T15:50:09.311Z"
   },
   {
    "duration": 43,
    "start_time": "2022-05-12T15:50:09.359Z"
   },
   {
    "duration": 12,
    "start_time": "2022-05-12T15:50:09.404Z"
   },
   {
    "duration": 30,
    "start_time": "2022-05-12T15:50:09.418Z"
   },
   {
    "duration": 21,
    "start_time": "2022-05-12T15:50:09.451Z"
   },
   {
    "duration": 15,
    "start_time": "2022-05-12T15:50:09.474Z"
   },
   {
    "duration": 24,
    "start_time": "2022-05-12T15:50:09.491Z"
   },
   {
    "duration": 46,
    "start_time": "2022-05-12T15:50:09.517Z"
   },
   {
    "duration": 27,
    "start_time": "2022-05-12T15:50:09.566Z"
   },
   {
    "duration": 192,
    "start_time": "2022-05-12T15:50:09.596Z"
   },
   {
    "duration": 30,
    "start_time": "2022-05-12T15:50:09.790Z"
   },
   {
    "duration": 6,
    "start_time": "2022-05-12T15:50:09.822Z"
   },
   {
    "duration": 24,
    "start_time": "2022-05-12T15:50:09.842Z"
   },
   {
    "duration": 27,
    "start_time": "2022-05-12T15:50:09.867Z"
   },
   {
    "duration": 60,
    "start_time": "2022-05-12T15:50:09.896Z"
   },
   {
    "duration": 251,
    "start_time": "2022-05-12T15:50:09.959Z"
   },
   {
    "duration": 337,
    "start_time": "2022-05-12T15:50:10.213Z"
   },
   {
    "duration": 251,
    "start_time": "2022-05-12T15:50:10.552Z"
   },
   {
    "duration": 13,
    "start_time": "2022-05-12T15:50:10.805Z"
   },
   {
    "duration": 48,
    "start_time": "2022-05-12T15:50:10.820Z"
   },
   {
    "duration": 170,
    "start_time": "2022-05-12T15:55:48.603Z"
   },
   {
    "duration": 461,
    "start_time": "2022-05-12T15:56:21.068Z"
   },
   {
    "duration": 36,
    "start_time": "2022-05-12T15:56:21.532Z"
   },
   {
    "duration": 12,
    "start_time": "2022-05-12T15:56:21.570Z"
   },
   {
    "duration": 126,
    "start_time": "2022-05-12T15:56:21.585Z"
   },
   {
    "duration": 32,
    "start_time": "2022-05-12T15:56:21.712Z"
   },
   {
    "duration": 13,
    "start_time": "2022-05-12T15:56:21.749Z"
   },
   {
    "duration": 33,
    "start_time": "2022-05-12T15:56:21.764Z"
   },
   {
    "duration": 9,
    "start_time": "2022-05-12T15:56:21.799Z"
   },
   {
    "duration": 99,
    "start_time": "2022-05-12T15:56:21.810Z"
   },
   {
    "duration": 37,
    "start_time": "2022-05-12T15:56:21.912Z"
   },
   {
    "duration": 10,
    "start_time": "2022-05-12T15:56:21.951Z"
   },
   {
    "duration": 34,
    "start_time": "2022-05-12T15:56:21.963Z"
   },
   {
    "duration": 8,
    "start_time": "2022-05-12T15:56:22.000Z"
   },
   {
    "duration": 80,
    "start_time": "2022-05-12T15:56:22.010Z"
   },
   {
    "duration": 18,
    "start_time": "2022-05-12T15:56:22.093Z"
   },
   {
    "duration": 6,
    "start_time": "2022-05-12T15:56:22.113Z"
   },
   {
    "duration": 18,
    "start_time": "2022-05-12T15:56:22.142Z"
   },
   {
    "duration": 16,
    "start_time": "2022-05-12T15:56:22.167Z"
   },
   {
    "duration": 11,
    "start_time": "2022-05-12T15:56:22.185Z"
   },
   {
    "duration": 14,
    "start_time": "2022-05-12T15:56:22.197Z"
   },
   {
    "duration": 6,
    "start_time": "2022-05-12T15:56:22.213Z"
   },
   {
    "duration": 30,
    "start_time": "2022-05-12T15:56:22.220Z"
   },
   {
    "duration": 29,
    "start_time": "2022-05-12T15:56:22.252Z"
   },
   {
    "duration": 10,
    "start_time": "2022-05-12T15:56:22.283Z"
   },
   {
    "duration": 6,
    "start_time": "2022-05-12T15:56:22.295Z"
   },
   {
    "duration": 51,
    "start_time": "2022-05-12T15:56:22.302Z"
   },
   {
    "duration": 36,
    "start_time": "2022-05-12T15:56:22.355Z"
   },
   {
    "duration": 10,
    "start_time": "2022-05-12T15:56:22.396Z"
   },
   {
    "duration": 88,
    "start_time": "2022-05-12T15:56:22.407Z"
   },
   {
    "duration": 17,
    "start_time": "2022-05-12T15:56:22.497Z"
   },
   {
    "duration": 64,
    "start_time": "2022-05-12T15:56:22.516Z"
   },
   {
    "duration": 14,
    "start_time": "2022-05-12T15:56:22.581Z"
   },
   {
    "duration": 34,
    "start_time": "2022-05-12T15:56:22.597Z"
   },
   {
    "duration": 20,
    "start_time": "2022-05-12T15:56:22.644Z"
   },
   {
    "duration": 80,
    "start_time": "2022-05-12T15:56:22.666Z"
   },
   {
    "duration": 23,
    "start_time": "2022-05-12T15:56:22.749Z"
   },
   {
    "duration": 12,
    "start_time": "2022-05-12T15:56:22.775Z"
   },
   {
    "duration": 21,
    "start_time": "2022-05-12T15:56:22.789Z"
   },
   {
    "duration": 63,
    "start_time": "2022-05-12T15:56:22.812Z"
   },
   {
    "duration": 12,
    "start_time": "2022-05-12T15:56:22.877Z"
   },
   {
    "duration": 37,
    "start_time": "2022-05-12T15:56:22.890Z"
   },
   {
    "duration": 80,
    "start_time": "2022-05-12T15:56:22.929Z"
   },
   {
    "duration": 31,
    "start_time": "2022-05-12T15:56:23.011Z"
   },
   {
    "duration": 23,
    "start_time": "2022-05-12T15:56:23.047Z"
   },
   {
    "duration": 17,
    "start_time": "2022-05-12T15:56:23.072Z"
   },
   {
    "duration": 17,
    "start_time": "2022-05-12T15:56:23.091Z"
   },
   {
    "duration": 18,
    "start_time": "2022-05-12T15:56:23.110Z"
   },
   {
    "duration": 44,
    "start_time": "2022-05-12T15:56:23.130Z"
   },
   {
    "duration": 29,
    "start_time": "2022-05-12T15:56:23.176Z"
   },
   {
    "duration": 47,
    "start_time": "2022-05-12T15:56:23.207Z"
   },
   {
    "duration": 191,
    "start_time": "2022-05-12T15:56:23.256Z"
   },
   {
    "duration": 39,
    "start_time": "2022-05-12T15:56:23.449Z"
   },
   {
    "duration": 3,
    "start_time": "2022-05-12T15:56:23.489Z"
   },
   {
    "duration": 16,
    "start_time": "2022-05-12T15:56:23.494Z"
   },
   {
    "duration": 46,
    "start_time": "2022-05-12T15:56:23.512Z"
   },
   {
    "duration": 53,
    "start_time": "2022-05-12T15:56:23.560Z"
   },
   {
    "duration": 266,
    "start_time": "2022-05-12T15:56:23.615Z"
   },
   {
    "duration": 269,
    "start_time": "2022-05-12T15:56:23.883Z"
   },
   {
    "duration": 262,
    "start_time": "2022-05-12T15:56:24.155Z"
   },
   {
    "duration": 13,
    "start_time": "2022-05-12T15:56:24.419Z"
   },
   {
    "duration": 34,
    "start_time": "2022-05-12T15:56:24.433Z"
   },
   {
    "duration": 168,
    "start_time": "2022-05-12T15:57:57.585Z"
   },
   {
    "duration": 441,
    "start_time": "2022-05-12T15:58:36.416Z"
   },
   {
    "duration": 27,
    "start_time": "2022-05-12T15:58:36.860Z"
   },
   {
    "duration": 9,
    "start_time": "2022-05-12T15:58:36.889Z"
   },
   {
    "duration": 124,
    "start_time": "2022-05-12T15:58:36.900Z"
   },
   {
    "duration": 38,
    "start_time": "2022-05-12T15:58:37.026Z"
   },
   {
    "duration": 9,
    "start_time": "2022-05-12T15:58:37.066Z"
   },
   {
    "duration": 36,
    "start_time": "2022-05-12T15:58:37.077Z"
   },
   {
    "duration": 36,
    "start_time": "2022-05-12T15:58:37.115Z"
   },
   {
    "duration": 117,
    "start_time": "2022-05-12T15:58:37.153Z"
   },
   {
    "duration": 18,
    "start_time": "2022-05-12T15:58:37.274Z"
   },
   {
    "duration": 7,
    "start_time": "2022-05-12T15:58:37.294Z"
   },
   {
    "duration": 57,
    "start_time": "2022-05-12T15:58:37.303Z"
   },
   {
    "duration": 10,
    "start_time": "2022-05-12T15:58:37.362Z"
   },
   {
    "duration": 50,
    "start_time": "2022-05-12T15:58:37.374Z"
   },
   {
    "duration": 23,
    "start_time": "2022-05-12T15:58:37.442Z"
   },
   {
    "duration": 18,
    "start_time": "2022-05-12T15:58:37.466Z"
   },
   {
    "duration": 11,
    "start_time": "2022-05-12T15:58:37.486Z"
   },
   {
    "duration": 11,
    "start_time": "2022-05-12T15:58:37.498Z"
   },
   {
    "duration": 54,
    "start_time": "2022-05-12T15:58:37.510Z"
   },
   {
    "duration": 12,
    "start_time": "2022-05-12T15:58:37.566Z"
   },
   {
    "duration": 6,
    "start_time": "2022-05-12T15:58:37.580Z"
   },
   {
    "duration": 9,
    "start_time": "2022-05-12T15:58:37.587Z"
   },
   {
    "duration": 6,
    "start_time": "2022-05-12T15:58:37.598Z"
   },
   {
    "duration": 6,
    "start_time": "2022-05-12T15:58:37.605Z"
   },
   {
    "duration": 9,
    "start_time": "2022-05-12T15:58:37.645Z"
   },
   {
    "duration": 41,
    "start_time": "2022-05-12T15:58:37.658Z"
   },
   {
    "duration": 63,
    "start_time": "2022-05-12T15:58:37.701Z"
   },
   {
    "duration": 14,
    "start_time": "2022-05-12T15:58:37.768Z"
   },
   {
    "duration": 81,
    "start_time": "2022-05-12T15:58:37.784Z"
   },
   {
    "duration": 24,
    "start_time": "2022-05-12T15:58:37.867Z"
   },
   {
    "duration": 76,
    "start_time": "2022-05-12T15:58:37.894Z"
   },
   {
    "duration": 19,
    "start_time": "2022-05-12T15:58:37.972Z"
   },
   {
    "duration": 23,
    "start_time": "2022-05-12T15:58:37.993Z"
   },
   {
    "duration": 42,
    "start_time": "2022-05-12T15:58:38.018Z"
   },
   {
    "duration": 12381,
    "start_time": "2022-05-12T15:58:38.062Z"
   },
   {
    "duration": 15,
    "start_time": "2022-05-12T15:58:50.445Z"
   },
   {
    "duration": 28,
    "start_time": "2022-05-12T15:58:50.462Z"
   },
   {
    "duration": 32,
    "start_time": "2022-05-12T15:58:50.492Z"
   },
   {
    "duration": 53,
    "start_time": "2022-05-12T15:58:50.526Z"
   },
   {
    "duration": 13,
    "start_time": "2022-05-12T15:58:50.581Z"
   },
   {
    "duration": 35,
    "start_time": "2022-05-12T15:58:50.596Z"
   },
   {
    "duration": 21,
    "start_time": "2022-05-12T15:58:50.633Z"
   },
   {
    "duration": 55,
    "start_time": "2022-05-12T15:58:50.657Z"
   },
   {
    "duration": 16,
    "start_time": "2022-05-12T15:58:50.714Z"
   },
   {
    "duration": 25,
    "start_time": "2022-05-12T15:58:50.732Z"
   },
   {
    "duration": 22,
    "start_time": "2022-05-12T15:58:50.759Z"
   },
   {
    "duration": 16,
    "start_time": "2022-05-12T15:58:50.783Z"
   },
   {
    "duration": 32,
    "start_time": "2022-05-12T15:58:50.800Z"
   },
   {
    "duration": 42,
    "start_time": "2022-05-12T15:58:50.833Z"
   },
   {
    "duration": 36,
    "start_time": "2022-05-12T15:58:50.877Z"
   },
   {
    "duration": 168,
    "start_time": "2022-05-12T15:58:50.915Z"
   },
   {
    "duration": 38,
    "start_time": "2022-05-12T15:58:51.085Z"
   },
   {
    "duration": 3,
    "start_time": "2022-05-12T15:58:51.125Z"
   },
   {
    "duration": 43,
    "start_time": "2022-05-12T15:58:51.130Z"
   },
   {
    "duration": 24,
    "start_time": "2022-05-12T15:58:51.176Z"
   },
   {
    "duration": 70,
    "start_time": "2022-05-12T15:58:51.202Z"
   },
   {
    "duration": 511,
    "start_time": "2022-05-12T15:58:51.274Z"
   },
   {
    "duration": 307,
    "start_time": "2022-05-12T15:58:51.787Z"
   },
   {
    "duration": 259,
    "start_time": "2022-05-12T15:58:52.096Z"
   },
   {
    "duration": 17,
    "start_time": "2022-05-12T15:58:52.358Z"
   },
   {
    "duration": 16,
    "start_time": "2022-05-12T15:58:52.378Z"
   },
   {
    "duration": 453,
    "start_time": "2022-05-12T15:58:55.358Z"
   },
   {
    "duration": 28,
    "start_time": "2022-05-12T15:58:55.813Z"
   },
   {
    "duration": 19,
    "start_time": "2022-05-12T15:58:55.843Z"
   },
   {
    "duration": 134,
    "start_time": "2022-05-12T15:58:55.864Z"
   },
   {
    "duration": 25,
    "start_time": "2022-05-12T15:58:56.001Z"
   },
   {
    "duration": 17,
    "start_time": "2022-05-12T15:58:56.042Z"
   },
   {
    "duration": 28,
    "start_time": "2022-05-12T15:58:56.061Z"
   },
   {
    "duration": 11,
    "start_time": "2022-05-12T15:58:56.091Z"
   },
   {
    "duration": 108,
    "start_time": "2022-05-12T15:58:56.104Z"
   },
   {
    "duration": 51,
    "start_time": "2022-05-12T15:58:56.216Z"
   },
   {
    "duration": 8,
    "start_time": "2022-05-12T15:58:56.269Z"
   },
   {
    "duration": 23,
    "start_time": "2022-05-12T15:58:56.279Z"
   },
   {
    "duration": 8,
    "start_time": "2022-05-12T15:58:56.303Z"
   },
   {
    "duration": 94,
    "start_time": "2022-05-12T15:58:56.313Z"
   },
   {
    "duration": 17,
    "start_time": "2022-05-12T15:58:56.409Z"
   },
   {
    "duration": 32,
    "start_time": "2022-05-12T15:58:56.427Z"
   },
   {
    "duration": 17,
    "start_time": "2022-05-12T15:58:56.461Z"
   },
   {
    "duration": 16,
    "start_time": "2022-05-12T15:58:56.480Z"
   },
   {
    "duration": 13,
    "start_time": "2022-05-12T15:58:56.498Z"
   },
   {
    "duration": 37,
    "start_time": "2022-05-12T15:58:56.513Z"
   },
   {
    "duration": 19,
    "start_time": "2022-05-12T15:58:56.554Z"
   },
   {
    "duration": 22,
    "start_time": "2022-05-12T15:58:56.575Z"
   },
   {
    "duration": 14,
    "start_time": "2022-05-12T15:58:56.600Z"
   },
   {
    "duration": 18,
    "start_time": "2022-05-12T15:58:56.615Z"
   },
   {
    "duration": 16,
    "start_time": "2022-05-12T15:58:56.635Z"
   },
   {
    "duration": 44,
    "start_time": "2022-05-12T15:58:56.653Z"
   },
   {
    "duration": 30,
    "start_time": "2022-05-12T15:58:56.699Z"
   },
   {
    "duration": 24,
    "start_time": "2022-05-12T15:58:56.734Z"
   },
   {
    "duration": 56,
    "start_time": "2022-05-12T15:58:56.761Z"
   },
   {
    "duration": 51,
    "start_time": "2022-05-12T15:58:56.819Z"
   },
   {
    "duration": 79,
    "start_time": "2022-05-12T15:58:56.872Z"
   },
   {
    "duration": 17,
    "start_time": "2022-05-12T15:58:56.953Z"
   },
   {
    "duration": 39,
    "start_time": "2022-05-12T15:58:56.971Z"
   },
   {
    "duration": 20,
    "start_time": "2022-05-12T15:58:57.012Z"
   },
   {
    "duration": 3326,
    "start_time": "2022-05-12T15:58:57.044Z"
   },
   {
    "duration": 12,
    "start_time": "2022-05-12T15:59:00.372Z"
   },
   {
    "duration": 20,
    "start_time": "2022-05-12T15:59:00.386Z"
   },
   {
    "duration": 24,
    "start_time": "2022-05-12T15:59:00.408Z"
   },
   {
    "duration": 56,
    "start_time": "2022-05-12T15:59:00.444Z"
   },
   {
    "duration": 13,
    "start_time": "2022-05-12T15:59:00.502Z"
   },
   {
    "duration": 36,
    "start_time": "2022-05-12T15:59:00.517Z"
   },
   {
    "duration": 39,
    "start_time": "2022-05-12T15:59:00.555Z"
   },
   {
    "duration": 36,
    "start_time": "2022-05-12T15:59:00.596Z"
   },
   {
    "duration": 18,
    "start_time": "2022-05-12T15:59:00.634Z"
   },
   {
    "duration": 28,
    "start_time": "2022-05-12T15:59:00.654Z"
   },
   {
    "duration": 17,
    "start_time": "2022-05-12T15:59:00.685Z"
   },
   {
    "duration": 36,
    "start_time": "2022-05-12T15:59:00.704Z"
   },
   {
    "duration": 38,
    "start_time": "2022-05-12T15:59:00.741Z"
   },
   {
    "duration": 28,
    "start_time": "2022-05-12T15:59:00.781Z"
   },
   {
    "duration": 40,
    "start_time": "2022-05-12T15:59:00.812Z"
   },
   {
    "duration": 344,
    "start_time": "2022-05-12T15:59:00.854Z"
   },
   {
    "duration": 63,
    "start_time": "2022-05-12T15:59:01.200Z"
   },
   {
    "duration": 3,
    "start_time": "2022-05-12T15:59:01.265Z"
   },
   {
    "duration": 59,
    "start_time": "2022-05-12T15:59:01.270Z"
   },
   {
    "duration": 49,
    "start_time": "2022-05-12T15:59:01.332Z"
   },
   {
    "duration": 75,
    "start_time": "2022-05-12T15:59:01.383Z"
   },
   {
    "duration": 521,
    "start_time": "2022-05-12T15:59:01.464Z"
   },
   {
    "duration": 246,
    "start_time": "2022-05-12T15:59:01.987Z"
   },
   {
    "duration": 257,
    "start_time": "2022-05-12T15:59:02.243Z"
   },
   {
    "duration": 17,
    "start_time": "2022-05-12T15:59:02.502Z"
   },
   {
    "duration": 67,
    "start_time": "2022-05-12T15:59:02.521Z"
   },
   {
    "duration": 160,
    "start_time": "2022-05-13T12:10:52.220Z"
   }
  ],
  "kernelspec": {
   "display_name": "Python 3 (ipykernel)",
   "language": "python",
   "name": "python3"
  },
  "language_info": {
   "codemirror_mode": {
    "name": "ipython",
    "version": 3
   },
   "file_extension": ".py",
   "mimetype": "text/x-python",
   "name": "python",
   "nbconvert_exporter": "python",
   "pygments_lexer": "ipython3",
   "version": "3.9.7"
  },
  "toc": {
   "base_numbering": 1,
   "nav_menu": {},
   "number_sections": true,
   "sideBar": true,
   "skip_h1_title": true,
   "title_cell": "Table of Contents",
   "title_sidebar": "Contents",
   "toc_cell": false,
   "toc_position": {},
   "toc_section_display": true,
   "toc_window_display": false
  }
 },
 "nbformat": 4,
 "nbformat_minor": 2
}
