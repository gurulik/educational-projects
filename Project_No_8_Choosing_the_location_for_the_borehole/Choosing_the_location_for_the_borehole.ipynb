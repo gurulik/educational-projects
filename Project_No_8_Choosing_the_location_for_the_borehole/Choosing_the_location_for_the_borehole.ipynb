{
 "cells": [
  {
   "cell_type": "markdown",
   "metadata": {},
   "source": [
    "# Choosing the location for the borehole"
   ]
  },
  {
   "cell_type": "markdown",
   "metadata": {},
   "source": [
    "We were provided with oil samples in three regions: in each 10,000 fields, where the quality of oil and the volume of its reserves were measured. We need to build a machine learning model that will help determine the region where mining will bring the greatest profit. Let's analyze the possible profit and risks via *Bootstrap.*\n",
    "\n",
    "Order:\n",
    "\n",
    "- Deposits are being searched for in the selected region, the values of the signs are determined for each;\n",
    "- Build a model and estimate the volume of stocks;\n",
    "- Choose the deposits with the highest estimates of values. The number of deposits depends on the company's budget and the cost of developing one borehole;\n",
    "- The profit is equal to the total profit of the selected deposits."
   ]
  },
  {
   "cell_type": "markdown",
   "metadata": {},
   "source": [
    "## Data preparation:"
   ]
  },
  {
   "cell_type": "markdown",
   "metadata": {},
   "source": [
    "### Libraries import:"
   ]
  },
  {
   "cell_type": "code",
   "execution_count": 1,
   "metadata": {},
   "outputs": [],
   "source": [
    "import pandas as pd\n",
    "\n",
    "import matplotlib.pyplot as plt\n",
    "from sklearn.model_selection import train_test_split\n",
    "from sklearn.linear_model import LinearRegression\n",
    "from sklearn.pipeline import make_pipeline\n",
    "from sklearn.preprocessing import StandardScaler\n",
    "from sklearn.metrics import mean_squared_error\n",
    "import numpy as np\n",
    "from numpy.random import RandomState"
   ]
  },
  {
   "cell_type": "code",
   "execution_count": 2,
   "metadata": {},
   "outputs": [],
   "source": [
    "df_0 = pd.read_csv('/Users/a1/Desktop/data_folder/geo_data/geo_data_0.csv')\n",
    "df_1 = pd.read_csv('/Users/a1/Desktop/data_folder/geo_data/geo_data_1.csv')\n",
    "df_2 = pd.read_csv('/Users/a1/Desktop/data_folder/geo_data/geo_data_2.csv')"
   ]
  },
  {
   "cell_type": "markdown",
   "metadata": {},
   "source": [
    "### Primary data analysis:"
   ]
  },
  {
   "cell_type": "markdown",
   "metadata": {},
   "source": [
    "Check dataset df_0:"
   ]
  },
  {
   "cell_type": "code",
   "execution_count": 3,
   "metadata": {},
   "outputs": [
    {
     "data": {
      "text/plain": [
       "(100000, 5)"
      ]
     },
     "execution_count": 3,
     "metadata": {},
     "output_type": "execute_result"
    }
   ],
   "source": [
    "df_0.shape"
   ]
  },
  {
   "cell_type": "code",
   "execution_count": 4,
   "metadata": {},
   "outputs": [
    {
     "data": {
      "text/html": [
       "<div>\n",
       "<style scoped>\n",
       "    .dataframe tbody tr th:only-of-type {\n",
       "        vertical-align: middle;\n",
       "    }\n",
       "\n",
       "    .dataframe tbody tr th {\n",
       "        vertical-align: top;\n",
       "    }\n",
       "\n",
       "    .dataframe thead th {\n",
       "        text-align: right;\n",
       "    }\n",
       "</style>\n",
       "<table border=\"1\" class=\"dataframe\">\n",
       "  <thead>\n",
       "    <tr style=\"text-align: right;\">\n",
       "      <th></th>\n",
       "      <th>id</th>\n",
       "      <th>f0</th>\n",
       "      <th>f1</th>\n",
       "      <th>f2</th>\n",
       "      <th>product</th>\n",
       "    </tr>\n",
       "  </thead>\n",
       "  <tbody>\n",
       "    <tr>\n",
       "      <th>0</th>\n",
       "      <td>txEyH</td>\n",
       "      <td>0.705745</td>\n",
       "      <td>-0.497823</td>\n",
       "      <td>1.221170</td>\n",
       "      <td>105.280062</td>\n",
       "    </tr>\n",
       "    <tr>\n",
       "      <th>1</th>\n",
       "      <td>2acmU</td>\n",
       "      <td>1.334711</td>\n",
       "      <td>-0.340164</td>\n",
       "      <td>4.365080</td>\n",
       "      <td>73.037750</td>\n",
       "    </tr>\n",
       "    <tr>\n",
       "      <th>2</th>\n",
       "      <td>409Wp</td>\n",
       "      <td>1.022732</td>\n",
       "      <td>0.151990</td>\n",
       "      <td>1.419926</td>\n",
       "      <td>85.265647</td>\n",
       "    </tr>\n",
       "    <tr>\n",
       "      <th>3</th>\n",
       "      <td>iJLyR</td>\n",
       "      <td>-0.032172</td>\n",
       "      <td>0.139033</td>\n",
       "      <td>2.978566</td>\n",
       "      <td>168.620776</td>\n",
       "    </tr>\n",
       "    <tr>\n",
       "      <th>4</th>\n",
       "      <td>Xdl7t</td>\n",
       "      <td>1.988431</td>\n",
       "      <td>0.155413</td>\n",
       "      <td>4.751769</td>\n",
       "      <td>154.036647</td>\n",
       "    </tr>\n",
       "  </tbody>\n",
       "</table>\n",
       "</div>"
      ],
      "text/plain": [
       "      id        f0        f1        f2     product\n",
       "0  txEyH  0.705745 -0.497823  1.221170  105.280062\n",
       "1  2acmU  1.334711 -0.340164  4.365080   73.037750\n",
       "2  409Wp  1.022732  0.151990  1.419926   85.265647\n",
       "3  iJLyR -0.032172  0.139033  2.978566  168.620776\n",
       "4  Xdl7t  1.988431  0.155413  4.751769  154.036647"
      ]
     },
     "execution_count": 4,
     "metadata": {},
     "output_type": "execute_result"
    }
   ],
   "source": [
    "df_0.head()"
   ]
  },
  {
   "cell_type": "code",
   "execution_count": 5,
   "metadata": {},
   "outputs": [
    {
     "name": "stdout",
     "output_type": "stream",
     "text": [
      "<class 'pandas.core.frame.DataFrame'>\n",
      "RangeIndex: 100000 entries, 0 to 99999\n",
      "Data columns (total 5 columns):\n",
      " #   Column   Non-Null Count   Dtype  \n",
      "---  ------   --------------   -----  \n",
      " 0   id       100000 non-null  object \n",
      " 1   f0       100000 non-null  float64\n",
      " 2   f1       100000 non-null  float64\n",
      " 3   f2       100000 non-null  float64\n",
      " 4   product  100000 non-null  float64\n",
      "dtypes: float64(4), object(1)\n",
      "memory usage: 3.8+ MB\n"
     ]
    }
   ],
   "source": [
    "df_0.info()"
   ]
  },
  {
   "cell_type": "code",
   "execution_count": 6,
   "metadata": {},
   "outputs": [
    {
     "data": {
      "text/html": [
       "<div>\n",
       "<style scoped>\n",
       "    .dataframe tbody tr th:only-of-type {\n",
       "        vertical-align: middle;\n",
       "    }\n",
       "\n",
       "    .dataframe tbody tr th {\n",
       "        vertical-align: top;\n",
       "    }\n",
       "\n",
       "    .dataframe thead th {\n",
       "        text-align: right;\n",
       "    }\n",
       "</style>\n",
       "<table border=\"1\" class=\"dataframe\">\n",
       "  <thead>\n",
       "    <tr style=\"text-align: right;\">\n",
       "      <th></th>\n",
       "      <th>f0</th>\n",
       "      <th>f1</th>\n",
       "      <th>f2</th>\n",
       "      <th>product</th>\n",
       "    </tr>\n",
       "  </thead>\n",
       "  <tbody>\n",
       "    <tr>\n",
       "      <th>count</th>\n",
       "      <td>100000.000000</td>\n",
       "      <td>100000.000000</td>\n",
       "      <td>100000.000000</td>\n",
       "      <td>100000.000000</td>\n",
       "    </tr>\n",
       "    <tr>\n",
       "      <th>mean</th>\n",
       "      <td>0.500419</td>\n",
       "      <td>0.250143</td>\n",
       "      <td>2.502647</td>\n",
       "      <td>92.500000</td>\n",
       "    </tr>\n",
       "    <tr>\n",
       "      <th>std</th>\n",
       "      <td>0.871832</td>\n",
       "      <td>0.504433</td>\n",
       "      <td>3.248248</td>\n",
       "      <td>44.288691</td>\n",
       "    </tr>\n",
       "    <tr>\n",
       "      <th>min</th>\n",
       "      <td>-1.408605</td>\n",
       "      <td>-0.848218</td>\n",
       "      <td>-12.088328</td>\n",
       "      <td>0.000000</td>\n",
       "    </tr>\n",
       "    <tr>\n",
       "      <th>25%</th>\n",
       "      <td>-0.072580</td>\n",
       "      <td>-0.200881</td>\n",
       "      <td>0.287748</td>\n",
       "      <td>56.497507</td>\n",
       "    </tr>\n",
       "    <tr>\n",
       "      <th>50%</th>\n",
       "      <td>0.502360</td>\n",
       "      <td>0.250252</td>\n",
       "      <td>2.515969</td>\n",
       "      <td>91.849972</td>\n",
       "    </tr>\n",
       "    <tr>\n",
       "      <th>75%</th>\n",
       "      <td>1.073581</td>\n",
       "      <td>0.700646</td>\n",
       "      <td>4.715088</td>\n",
       "      <td>128.564089</td>\n",
       "    </tr>\n",
       "    <tr>\n",
       "      <th>max</th>\n",
       "      <td>2.362331</td>\n",
       "      <td>1.343769</td>\n",
       "      <td>16.003790</td>\n",
       "      <td>185.364347</td>\n",
       "    </tr>\n",
       "  </tbody>\n",
       "</table>\n",
       "</div>"
      ],
      "text/plain": [
       "                  f0             f1             f2        product\n",
       "count  100000.000000  100000.000000  100000.000000  100000.000000\n",
       "mean        0.500419       0.250143       2.502647      92.500000\n",
       "std         0.871832       0.504433       3.248248      44.288691\n",
       "min        -1.408605      -0.848218     -12.088328       0.000000\n",
       "25%        -0.072580      -0.200881       0.287748      56.497507\n",
       "50%         0.502360       0.250252       2.515969      91.849972\n",
       "75%         1.073581       0.700646       4.715088     128.564089\n",
       "max         2.362331       1.343769      16.003790     185.364347"
      ]
     },
     "execution_count": 6,
     "metadata": {},
     "output_type": "execute_result"
    }
   ],
   "source": [
    "df_0.describe()"
   ]
  },
  {
   "cell_type": "code",
   "execution_count": 7,
   "metadata": {},
   "outputs": [
    {
     "data": {
      "text/plain": [
       "0"
      ]
     },
     "execution_count": 7,
     "metadata": {},
     "output_type": "execute_result"
    }
   ],
   "source": [
    "df_0.duplicated().sum()"
   ]
  },
  {
   "cell_type": "markdown",
   "metadata": {},
   "source": [
    "Check dataset df_1:"
   ]
  },
  {
   "cell_type": "code",
   "execution_count": 8,
   "metadata": {},
   "outputs": [
    {
     "data": {
      "text/plain": [
       "(100000, 5)"
      ]
     },
     "execution_count": 8,
     "metadata": {},
     "output_type": "execute_result"
    }
   ],
   "source": [
    "df_1.shape"
   ]
  },
  {
   "cell_type": "code",
   "execution_count": 9,
   "metadata": {},
   "outputs": [
    {
     "data": {
      "text/html": [
       "<div>\n",
       "<style scoped>\n",
       "    .dataframe tbody tr th:only-of-type {\n",
       "        vertical-align: middle;\n",
       "    }\n",
       "\n",
       "    .dataframe tbody tr th {\n",
       "        vertical-align: top;\n",
       "    }\n",
       "\n",
       "    .dataframe thead th {\n",
       "        text-align: right;\n",
       "    }\n",
       "</style>\n",
       "<table border=\"1\" class=\"dataframe\">\n",
       "  <thead>\n",
       "    <tr style=\"text-align: right;\">\n",
       "      <th></th>\n",
       "      <th>id</th>\n",
       "      <th>f0</th>\n",
       "      <th>f1</th>\n",
       "      <th>f2</th>\n",
       "      <th>product</th>\n",
       "    </tr>\n",
       "  </thead>\n",
       "  <tbody>\n",
       "    <tr>\n",
       "      <th>0</th>\n",
       "      <td>kBEdx</td>\n",
       "      <td>-15.001348</td>\n",
       "      <td>-8.276000</td>\n",
       "      <td>-0.005876</td>\n",
       "      <td>3.179103</td>\n",
       "    </tr>\n",
       "    <tr>\n",
       "      <th>1</th>\n",
       "      <td>62mP7</td>\n",
       "      <td>14.272088</td>\n",
       "      <td>-3.475083</td>\n",
       "      <td>0.999183</td>\n",
       "      <td>26.953261</td>\n",
       "    </tr>\n",
       "    <tr>\n",
       "      <th>2</th>\n",
       "      <td>vyE1P</td>\n",
       "      <td>6.263187</td>\n",
       "      <td>-5.948386</td>\n",
       "      <td>5.001160</td>\n",
       "      <td>134.766305</td>\n",
       "    </tr>\n",
       "    <tr>\n",
       "      <th>3</th>\n",
       "      <td>KcrkZ</td>\n",
       "      <td>-13.081196</td>\n",
       "      <td>-11.506057</td>\n",
       "      <td>4.999415</td>\n",
       "      <td>137.945408</td>\n",
       "    </tr>\n",
       "    <tr>\n",
       "      <th>4</th>\n",
       "      <td>AHL4O</td>\n",
       "      <td>12.702195</td>\n",
       "      <td>-8.147433</td>\n",
       "      <td>5.004363</td>\n",
       "      <td>134.766305</td>\n",
       "    </tr>\n",
       "  </tbody>\n",
       "</table>\n",
       "</div>"
      ],
      "text/plain": [
       "      id         f0         f1        f2     product\n",
       "0  kBEdx -15.001348  -8.276000 -0.005876    3.179103\n",
       "1  62mP7  14.272088  -3.475083  0.999183   26.953261\n",
       "2  vyE1P   6.263187  -5.948386  5.001160  134.766305\n",
       "3  KcrkZ -13.081196 -11.506057  4.999415  137.945408\n",
       "4  AHL4O  12.702195  -8.147433  5.004363  134.766305"
      ]
     },
     "execution_count": 9,
     "metadata": {},
     "output_type": "execute_result"
    }
   ],
   "source": [
    "df_1.head()"
   ]
  },
  {
   "cell_type": "code",
   "execution_count": 10,
   "metadata": {},
   "outputs": [
    {
     "name": "stdout",
     "output_type": "stream",
     "text": [
      "<class 'pandas.core.frame.DataFrame'>\n",
      "RangeIndex: 100000 entries, 0 to 99999\n",
      "Data columns (total 5 columns):\n",
      " #   Column   Non-Null Count   Dtype  \n",
      "---  ------   --------------   -----  \n",
      " 0   id       100000 non-null  object \n",
      " 1   f0       100000 non-null  float64\n",
      " 2   f1       100000 non-null  float64\n",
      " 3   f2       100000 non-null  float64\n",
      " 4   product  100000 non-null  float64\n",
      "dtypes: float64(4), object(1)\n",
      "memory usage: 3.8+ MB\n"
     ]
    }
   ],
   "source": [
    "df_1.info()"
   ]
  },
  {
   "cell_type": "code",
   "execution_count": 11,
   "metadata": {},
   "outputs": [
    {
     "data": {
      "text/html": [
       "<div>\n",
       "<style scoped>\n",
       "    .dataframe tbody tr th:only-of-type {\n",
       "        vertical-align: middle;\n",
       "    }\n",
       "\n",
       "    .dataframe tbody tr th {\n",
       "        vertical-align: top;\n",
       "    }\n",
       "\n",
       "    .dataframe thead th {\n",
       "        text-align: right;\n",
       "    }\n",
       "</style>\n",
       "<table border=\"1\" class=\"dataframe\">\n",
       "  <thead>\n",
       "    <tr style=\"text-align: right;\">\n",
       "      <th></th>\n",
       "      <th>f0</th>\n",
       "      <th>f1</th>\n",
       "      <th>f2</th>\n",
       "      <th>product</th>\n",
       "    </tr>\n",
       "  </thead>\n",
       "  <tbody>\n",
       "    <tr>\n",
       "      <th>count</th>\n",
       "      <td>100000.000000</td>\n",
       "      <td>100000.000000</td>\n",
       "      <td>100000.000000</td>\n",
       "      <td>100000.000000</td>\n",
       "    </tr>\n",
       "    <tr>\n",
       "      <th>mean</th>\n",
       "      <td>1.141296</td>\n",
       "      <td>-4.796579</td>\n",
       "      <td>2.494541</td>\n",
       "      <td>68.825000</td>\n",
       "    </tr>\n",
       "    <tr>\n",
       "      <th>std</th>\n",
       "      <td>8.965932</td>\n",
       "      <td>5.119872</td>\n",
       "      <td>1.703572</td>\n",
       "      <td>45.944423</td>\n",
       "    </tr>\n",
       "    <tr>\n",
       "      <th>min</th>\n",
       "      <td>-31.609576</td>\n",
       "      <td>-26.358598</td>\n",
       "      <td>-0.018144</td>\n",
       "      <td>0.000000</td>\n",
       "    </tr>\n",
       "    <tr>\n",
       "      <th>25%</th>\n",
       "      <td>-6.298551</td>\n",
       "      <td>-8.267985</td>\n",
       "      <td>1.000021</td>\n",
       "      <td>26.953261</td>\n",
       "    </tr>\n",
       "    <tr>\n",
       "      <th>50%</th>\n",
       "      <td>1.153055</td>\n",
       "      <td>-4.813172</td>\n",
       "      <td>2.011479</td>\n",
       "      <td>57.085625</td>\n",
       "    </tr>\n",
       "    <tr>\n",
       "      <th>75%</th>\n",
       "      <td>8.621015</td>\n",
       "      <td>-1.332816</td>\n",
       "      <td>3.999904</td>\n",
       "      <td>107.813044</td>\n",
       "    </tr>\n",
       "    <tr>\n",
       "      <th>max</th>\n",
       "      <td>29.421755</td>\n",
       "      <td>18.734063</td>\n",
       "      <td>5.019721</td>\n",
       "      <td>137.945408</td>\n",
       "    </tr>\n",
       "  </tbody>\n",
       "</table>\n",
       "</div>"
      ],
      "text/plain": [
       "                  f0             f1             f2        product\n",
       "count  100000.000000  100000.000000  100000.000000  100000.000000\n",
       "mean        1.141296      -4.796579       2.494541      68.825000\n",
       "std         8.965932       5.119872       1.703572      45.944423\n",
       "min       -31.609576     -26.358598      -0.018144       0.000000\n",
       "25%        -6.298551      -8.267985       1.000021      26.953261\n",
       "50%         1.153055      -4.813172       2.011479      57.085625\n",
       "75%         8.621015      -1.332816       3.999904     107.813044\n",
       "max        29.421755      18.734063       5.019721     137.945408"
      ]
     },
     "execution_count": 11,
     "metadata": {},
     "output_type": "execute_result"
    }
   ],
   "source": [
    "df_1.describe()"
   ]
  },
  {
   "cell_type": "code",
   "execution_count": 12,
   "metadata": {},
   "outputs": [
    {
     "data": {
      "text/plain": [
       "0"
      ]
     },
     "execution_count": 12,
     "metadata": {},
     "output_type": "execute_result"
    }
   ],
   "source": [
    "df_1.duplicated().sum()"
   ]
  },
  {
   "cell_type": "markdown",
   "metadata": {},
   "source": [
    "Check dataset df_2:"
   ]
  },
  {
   "cell_type": "code",
   "execution_count": 13,
   "metadata": {},
   "outputs": [
    {
     "data": {
      "text/plain": [
       "(100000, 5)"
      ]
     },
     "execution_count": 13,
     "metadata": {},
     "output_type": "execute_result"
    }
   ],
   "source": [
    "df_2.shape"
   ]
  },
  {
   "cell_type": "code",
   "execution_count": 14,
   "metadata": {},
   "outputs": [
    {
     "data": {
      "text/html": [
       "<div>\n",
       "<style scoped>\n",
       "    .dataframe tbody tr th:only-of-type {\n",
       "        vertical-align: middle;\n",
       "    }\n",
       "\n",
       "    .dataframe tbody tr th {\n",
       "        vertical-align: top;\n",
       "    }\n",
       "\n",
       "    .dataframe thead th {\n",
       "        text-align: right;\n",
       "    }\n",
       "</style>\n",
       "<table border=\"1\" class=\"dataframe\">\n",
       "  <thead>\n",
       "    <tr style=\"text-align: right;\">\n",
       "      <th></th>\n",
       "      <th>id</th>\n",
       "      <th>f0</th>\n",
       "      <th>f1</th>\n",
       "      <th>f2</th>\n",
       "      <th>product</th>\n",
       "    </tr>\n",
       "  </thead>\n",
       "  <tbody>\n",
       "    <tr>\n",
       "      <th>0</th>\n",
       "      <td>fwXo0</td>\n",
       "      <td>-1.146987</td>\n",
       "      <td>0.963328</td>\n",
       "      <td>-0.828965</td>\n",
       "      <td>27.758673</td>\n",
       "    </tr>\n",
       "    <tr>\n",
       "      <th>1</th>\n",
       "      <td>WJtFt</td>\n",
       "      <td>0.262778</td>\n",
       "      <td>0.269839</td>\n",
       "      <td>-2.530187</td>\n",
       "      <td>56.069697</td>\n",
       "    </tr>\n",
       "    <tr>\n",
       "      <th>2</th>\n",
       "      <td>ovLUW</td>\n",
       "      <td>0.194587</td>\n",
       "      <td>0.289035</td>\n",
       "      <td>-5.586433</td>\n",
       "      <td>62.871910</td>\n",
       "    </tr>\n",
       "    <tr>\n",
       "      <th>3</th>\n",
       "      <td>q6cA6</td>\n",
       "      <td>2.236060</td>\n",
       "      <td>-0.553760</td>\n",
       "      <td>0.930038</td>\n",
       "      <td>114.572842</td>\n",
       "    </tr>\n",
       "    <tr>\n",
       "      <th>4</th>\n",
       "      <td>WPMUX</td>\n",
       "      <td>-0.515993</td>\n",
       "      <td>1.716266</td>\n",
       "      <td>5.899011</td>\n",
       "      <td>149.600746</td>\n",
       "    </tr>\n",
       "  </tbody>\n",
       "</table>\n",
       "</div>"
      ],
      "text/plain": [
       "      id        f0        f1        f2     product\n",
       "0  fwXo0 -1.146987  0.963328 -0.828965   27.758673\n",
       "1  WJtFt  0.262778  0.269839 -2.530187   56.069697\n",
       "2  ovLUW  0.194587  0.289035 -5.586433   62.871910\n",
       "3  q6cA6  2.236060 -0.553760  0.930038  114.572842\n",
       "4  WPMUX -0.515993  1.716266  5.899011  149.600746"
      ]
     },
     "execution_count": 14,
     "metadata": {},
     "output_type": "execute_result"
    }
   ],
   "source": [
    "df_2.head()"
   ]
  },
  {
   "cell_type": "code",
   "execution_count": 15,
   "metadata": {},
   "outputs": [
    {
     "name": "stdout",
     "output_type": "stream",
     "text": [
      "<class 'pandas.core.frame.DataFrame'>\n",
      "RangeIndex: 100000 entries, 0 to 99999\n",
      "Data columns (total 5 columns):\n",
      " #   Column   Non-Null Count   Dtype  \n",
      "---  ------   --------------   -----  \n",
      " 0   id       100000 non-null  object \n",
      " 1   f0       100000 non-null  float64\n",
      " 2   f1       100000 non-null  float64\n",
      " 3   f2       100000 non-null  float64\n",
      " 4   product  100000 non-null  float64\n",
      "dtypes: float64(4), object(1)\n",
      "memory usage: 3.8+ MB\n"
     ]
    }
   ],
   "source": [
    "df_2.info()"
   ]
  },
  {
   "cell_type": "code",
   "execution_count": 16,
   "metadata": {
    "scrolled": true
   },
   "outputs": [
    {
     "data": {
      "text/html": [
       "<div>\n",
       "<style scoped>\n",
       "    .dataframe tbody tr th:only-of-type {\n",
       "        vertical-align: middle;\n",
       "    }\n",
       "\n",
       "    .dataframe tbody tr th {\n",
       "        vertical-align: top;\n",
       "    }\n",
       "\n",
       "    .dataframe thead th {\n",
       "        text-align: right;\n",
       "    }\n",
       "</style>\n",
       "<table border=\"1\" class=\"dataframe\">\n",
       "  <thead>\n",
       "    <tr style=\"text-align: right;\">\n",
       "      <th></th>\n",
       "      <th>f0</th>\n",
       "      <th>f1</th>\n",
       "      <th>f2</th>\n",
       "      <th>product</th>\n",
       "    </tr>\n",
       "  </thead>\n",
       "  <tbody>\n",
       "    <tr>\n",
       "      <th>count</th>\n",
       "      <td>100000.000000</td>\n",
       "      <td>100000.000000</td>\n",
       "      <td>100000.000000</td>\n",
       "      <td>100000.000000</td>\n",
       "    </tr>\n",
       "    <tr>\n",
       "      <th>mean</th>\n",
       "      <td>0.002023</td>\n",
       "      <td>-0.002081</td>\n",
       "      <td>2.495128</td>\n",
       "      <td>95.000000</td>\n",
       "    </tr>\n",
       "    <tr>\n",
       "      <th>std</th>\n",
       "      <td>1.732045</td>\n",
       "      <td>1.730417</td>\n",
       "      <td>3.473445</td>\n",
       "      <td>44.749921</td>\n",
       "    </tr>\n",
       "    <tr>\n",
       "      <th>min</th>\n",
       "      <td>-8.760004</td>\n",
       "      <td>-7.084020</td>\n",
       "      <td>-11.970335</td>\n",
       "      <td>0.000000</td>\n",
       "    </tr>\n",
       "    <tr>\n",
       "      <th>25%</th>\n",
       "      <td>-1.162288</td>\n",
       "      <td>-1.174820</td>\n",
       "      <td>0.130359</td>\n",
       "      <td>59.450441</td>\n",
       "    </tr>\n",
       "    <tr>\n",
       "      <th>50%</th>\n",
       "      <td>0.009424</td>\n",
       "      <td>-0.009482</td>\n",
       "      <td>2.484236</td>\n",
       "      <td>94.925613</td>\n",
       "    </tr>\n",
       "    <tr>\n",
       "      <th>75%</th>\n",
       "      <td>1.158535</td>\n",
       "      <td>1.163678</td>\n",
       "      <td>4.858794</td>\n",
       "      <td>130.595027</td>\n",
       "    </tr>\n",
       "    <tr>\n",
       "      <th>max</th>\n",
       "      <td>7.238262</td>\n",
       "      <td>7.844801</td>\n",
       "      <td>16.739402</td>\n",
       "      <td>190.029838</td>\n",
       "    </tr>\n",
       "  </tbody>\n",
       "</table>\n",
       "</div>"
      ],
      "text/plain": [
       "                  f0             f1             f2        product\n",
       "count  100000.000000  100000.000000  100000.000000  100000.000000\n",
       "mean        0.002023      -0.002081       2.495128      95.000000\n",
       "std         1.732045       1.730417       3.473445      44.749921\n",
       "min        -8.760004      -7.084020     -11.970335       0.000000\n",
       "25%        -1.162288      -1.174820       0.130359      59.450441\n",
       "50%         0.009424      -0.009482       2.484236      94.925613\n",
       "75%         1.158535       1.163678       4.858794     130.595027\n",
       "max         7.238262       7.844801      16.739402     190.029838"
      ]
     },
     "execution_count": 16,
     "metadata": {},
     "output_type": "execute_result"
    }
   ],
   "source": [
    "df_2.describe()"
   ]
  },
  {
   "cell_type": "code",
   "execution_count": 17,
   "metadata": {},
   "outputs": [
    {
     "data": {
      "text/plain": [
       "0"
      ]
     },
     "execution_count": 17,
     "metadata": {},
     "output_type": "execute_result"
    }
   ],
   "source": [
    "df_2.duplicated().sum()"
   ]
  },
  {
   "cell_type": "markdown",
   "metadata": {},
   "source": [
    "Primary data analysis showed:\n",
    "\n",
    "* the absence of missed data;\n",
    "\n",
    "* the absence of complete duplicates;\n",
    "\n",
    "* accurate column names;\n",
    "\n",
    "* with the exception of the id column - numerical data values, which is important for training the model;\n",
    "\n",
    "* column id won't be useful for training - we can delete it from datasets."
   ]
  },
  {
   "cell_type": "markdown",
   "metadata": {},
   "source": [
    "Delete column id from each datasets:"
   ]
  },
  {
   "cell_type": "code",
   "execution_count": 18,
   "metadata": {},
   "outputs": [],
   "source": [
    "df_0 = df_0.drop('id', axis=1)"
   ]
  },
  {
   "cell_type": "code",
   "execution_count": 19,
   "metadata": {},
   "outputs": [
    {
     "data": {
      "text/html": [
       "<div>\n",
       "<style scoped>\n",
       "    .dataframe tbody tr th:only-of-type {\n",
       "        vertical-align: middle;\n",
       "    }\n",
       "\n",
       "    .dataframe tbody tr th {\n",
       "        vertical-align: top;\n",
       "    }\n",
       "\n",
       "    .dataframe thead th {\n",
       "        text-align: right;\n",
       "    }\n",
       "</style>\n",
       "<table border=\"1\" class=\"dataframe\">\n",
       "  <thead>\n",
       "    <tr style=\"text-align: right;\">\n",
       "      <th></th>\n",
       "      <th>f0</th>\n",
       "      <th>f1</th>\n",
       "      <th>f2</th>\n",
       "      <th>product</th>\n",
       "    </tr>\n",
       "  </thead>\n",
       "  <tbody>\n",
       "    <tr>\n",
       "      <th>0</th>\n",
       "      <td>0.705745</td>\n",
       "      <td>-0.497823</td>\n",
       "      <td>1.221170</td>\n",
       "      <td>105.280062</td>\n",
       "    </tr>\n",
       "    <tr>\n",
       "      <th>1</th>\n",
       "      <td>1.334711</td>\n",
       "      <td>-0.340164</td>\n",
       "      <td>4.365080</td>\n",
       "      <td>73.037750</td>\n",
       "    </tr>\n",
       "    <tr>\n",
       "      <th>2</th>\n",
       "      <td>1.022732</td>\n",
       "      <td>0.151990</td>\n",
       "      <td>1.419926</td>\n",
       "      <td>85.265647</td>\n",
       "    </tr>\n",
       "    <tr>\n",
       "      <th>3</th>\n",
       "      <td>-0.032172</td>\n",
       "      <td>0.139033</td>\n",
       "      <td>2.978566</td>\n",
       "      <td>168.620776</td>\n",
       "    </tr>\n",
       "    <tr>\n",
       "      <th>4</th>\n",
       "      <td>1.988431</td>\n",
       "      <td>0.155413</td>\n",
       "      <td>4.751769</td>\n",
       "      <td>154.036647</td>\n",
       "    </tr>\n",
       "  </tbody>\n",
       "</table>\n",
       "</div>"
      ],
      "text/plain": [
       "         f0        f1        f2     product\n",
       "0  0.705745 -0.497823  1.221170  105.280062\n",
       "1  1.334711 -0.340164  4.365080   73.037750\n",
       "2  1.022732  0.151990  1.419926   85.265647\n",
       "3 -0.032172  0.139033  2.978566  168.620776\n",
       "4  1.988431  0.155413  4.751769  154.036647"
      ]
     },
     "execution_count": 19,
     "metadata": {},
     "output_type": "execute_result"
    }
   ],
   "source": [
    "df_0.head()"
   ]
  },
  {
   "cell_type": "code",
   "execution_count": 20,
   "metadata": {},
   "outputs": [],
   "source": [
    "df_1 = df_1.drop('id', axis=1)"
   ]
  },
  {
   "cell_type": "code",
   "execution_count": 21,
   "metadata": {},
   "outputs": [
    {
     "data": {
      "text/html": [
       "<div>\n",
       "<style scoped>\n",
       "    .dataframe tbody tr th:only-of-type {\n",
       "        vertical-align: middle;\n",
       "    }\n",
       "\n",
       "    .dataframe tbody tr th {\n",
       "        vertical-align: top;\n",
       "    }\n",
       "\n",
       "    .dataframe thead th {\n",
       "        text-align: right;\n",
       "    }\n",
       "</style>\n",
       "<table border=\"1\" class=\"dataframe\">\n",
       "  <thead>\n",
       "    <tr style=\"text-align: right;\">\n",
       "      <th></th>\n",
       "      <th>f0</th>\n",
       "      <th>f1</th>\n",
       "      <th>f2</th>\n",
       "      <th>product</th>\n",
       "    </tr>\n",
       "  </thead>\n",
       "  <tbody>\n",
       "    <tr>\n",
       "      <th>0</th>\n",
       "      <td>-15.001348</td>\n",
       "      <td>-8.276000</td>\n",
       "      <td>-0.005876</td>\n",
       "      <td>3.179103</td>\n",
       "    </tr>\n",
       "    <tr>\n",
       "      <th>1</th>\n",
       "      <td>14.272088</td>\n",
       "      <td>-3.475083</td>\n",
       "      <td>0.999183</td>\n",
       "      <td>26.953261</td>\n",
       "    </tr>\n",
       "    <tr>\n",
       "      <th>2</th>\n",
       "      <td>6.263187</td>\n",
       "      <td>-5.948386</td>\n",
       "      <td>5.001160</td>\n",
       "      <td>134.766305</td>\n",
       "    </tr>\n",
       "    <tr>\n",
       "      <th>3</th>\n",
       "      <td>-13.081196</td>\n",
       "      <td>-11.506057</td>\n",
       "      <td>4.999415</td>\n",
       "      <td>137.945408</td>\n",
       "    </tr>\n",
       "    <tr>\n",
       "      <th>4</th>\n",
       "      <td>12.702195</td>\n",
       "      <td>-8.147433</td>\n",
       "      <td>5.004363</td>\n",
       "      <td>134.766305</td>\n",
       "    </tr>\n",
       "  </tbody>\n",
       "</table>\n",
       "</div>"
      ],
      "text/plain": [
       "          f0         f1        f2     product\n",
       "0 -15.001348  -8.276000 -0.005876    3.179103\n",
       "1  14.272088  -3.475083  0.999183   26.953261\n",
       "2   6.263187  -5.948386  5.001160  134.766305\n",
       "3 -13.081196 -11.506057  4.999415  137.945408\n",
       "4  12.702195  -8.147433  5.004363  134.766305"
      ]
     },
     "execution_count": 21,
     "metadata": {},
     "output_type": "execute_result"
    }
   ],
   "source": [
    "df_1.head()"
   ]
  },
  {
   "cell_type": "code",
   "execution_count": 22,
   "metadata": {},
   "outputs": [],
   "source": [
    "df_2 = df_2.drop('id', axis=1)"
   ]
  },
  {
   "cell_type": "code",
   "execution_count": 23,
   "metadata": {},
   "outputs": [
    {
     "data": {
      "text/html": [
       "<div>\n",
       "<style scoped>\n",
       "    .dataframe tbody tr th:only-of-type {\n",
       "        vertical-align: middle;\n",
       "    }\n",
       "\n",
       "    .dataframe tbody tr th {\n",
       "        vertical-align: top;\n",
       "    }\n",
       "\n",
       "    .dataframe thead th {\n",
       "        text-align: right;\n",
       "    }\n",
       "</style>\n",
       "<table border=\"1\" class=\"dataframe\">\n",
       "  <thead>\n",
       "    <tr style=\"text-align: right;\">\n",
       "      <th></th>\n",
       "      <th>f0</th>\n",
       "      <th>f1</th>\n",
       "      <th>f2</th>\n",
       "      <th>product</th>\n",
       "    </tr>\n",
       "  </thead>\n",
       "  <tbody>\n",
       "    <tr>\n",
       "      <th>0</th>\n",
       "      <td>-1.146987</td>\n",
       "      <td>0.963328</td>\n",
       "      <td>-0.828965</td>\n",
       "      <td>27.758673</td>\n",
       "    </tr>\n",
       "    <tr>\n",
       "      <th>1</th>\n",
       "      <td>0.262778</td>\n",
       "      <td>0.269839</td>\n",
       "      <td>-2.530187</td>\n",
       "      <td>56.069697</td>\n",
       "    </tr>\n",
       "    <tr>\n",
       "      <th>2</th>\n",
       "      <td>0.194587</td>\n",
       "      <td>0.289035</td>\n",
       "      <td>-5.586433</td>\n",
       "      <td>62.871910</td>\n",
       "    </tr>\n",
       "    <tr>\n",
       "      <th>3</th>\n",
       "      <td>2.236060</td>\n",
       "      <td>-0.553760</td>\n",
       "      <td>0.930038</td>\n",
       "      <td>114.572842</td>\n",
       "    </tr>\n",
       "    <tr>\n",
       "      <th>4</th>\n",
       "      <td>-0.515993</td>\n",
       "      <td>1.716266</td>\n",
       "      <td>5.899011</td>\n",
       "      <td>149.600746</td>\n",
       "    </tr>\n",
       "  </tbody>\n",
       "</table>\n",
       "</div>"
      ],
      "text/plain": [
       "         f0        f1        f2     product\n",
       "0 -1.146987  0.963328 -0.828965   27.758673\n",
       "1  0.262778  0.269839 -2.530187   56.069697\n",
       "2  0.194587  0.289035 -5.586433   62.871910\n",
       "3  2.236060 -0.553760  0.930038  114.572842\n",
       "4 -0.515993  1.716266  5.899011  149.600746"
      ]
     },
     "execution_count": 23,
     "metadata": {},
     "output_type": "execute_result"
    }
   ],
   "source": [
    "df_2.head()"
   ]
  },
  {
   "cell_type": "markdown",
   "metadata": {},
   "source": [
    "## Training and model validation"
   ]
  },
  {
   "cell_type": "markdown",
   "metadata": {},
   "source": [
    "### We will prepare 2 samples from the available data for each dataset, namely: training and validation."
   ]
  },
  {
   "cell_type": "code",
   "execution_count": 24,
   "metadata": {},
   "outputs": [],
   "source": [
    "target_0 = df_0['product']\n",
    "feature_0 = df_0.drop('product', axis=1)\n",
    "features_train_0, features_valid_0, target_train_0, target_valid_0 = train_test_split(\n",
    "    feature_0, target_0, test_size=0.25, random_state=12345)"
   ]
  },
  {
   "cell_type": "code",
   "execution_count": 25,
   "metadata": {},
   "outputs": [],
   "source": [
    "target_1 = df_1['product']\n",
    "feature_1 = df_1.drop('product', axis=1)\n",
    "features_train_1, features_valid_1, target_train_1, target_valid_1 = train_test_split(\n",
    "    feature_1, target_1, test_size=0.25, random_state=12345)"
   ]
  },
  {
   "cell_type": "code",
   "execution_count": 26,
   "metadata": {},
   "outputs": [],
   "source": [
    "target_2 = df_2['product']\n",
    "feature_2 = df_2.drop('product', axis=1)\n",
    "features_train_2, features_valid_2, target_train_2, target_valid_2 = train_test_split(\n",
    "    feature_2, target_2, test_size=0.25, random_state=12345)"
   ]
  },
  {
   "cell_type": "markdown",
   "metadata": {},
   "source": [
    "### Model training:"
   ]
  },
  {
   "cell_type": "markdown",
   "metadata": {},
   "source": [
    "Create the function for getting characteristics:"
   ]
  },
  {
   "cell_type": "code",
   "execution_count": 27,
   "metadata": {},
   "outputs": [],
   "source": [
    "def get_metrics(target_valid, predictions_valid):\n",
    "    print('RMSE:', np.sqrt(mean_squared_error(target_valid, predictions_valid)))\n",
    "    print('Average inventory of predicted raw materials:', predictions_valid.mean())\n",
    "    pass"
   ]
  },
  {
   "cell_type": "markdown",
   "metadata": {},
   "source": [
    "#### Region \"0\":"
   ]
  },
  {
   "cell_type": "code",
   "execution_count": 28,
   "metadata": {},
   "outputs": [
    {
     "data": {
      "text/plain": [
       "LinearRegression()"
      ]
     },
     "execution_count": 28,
     "metadata": {},
     "output_type": "execute_result"
    }
   ],
   "source": [
    "model_0 = LinearRegression()\n",
    "model_0.fit(features_train_0, target_train_0) "
   ]
  },
  {
   "cell_type": "code",
   "execution_count": 29,
   "metadata": {},
   "outputs": [
    {
     "name": "stdout",
     "output_type": "stream",
     "text": [
      "RMSE: 37.5794217150813\n",
      "Average inventory of predicted raw materials: 92.59256778438035\n"
     ]
    }
   ],
   "source": [
    "predict_0 = model_0.predict(features_valid_0)\n",
    "get_metrics(target_valid_0, predict_0)"
   ]
  },
  {
   "cell_type": "markdown",
   "metadata": {},
   "source": [
    "#### Region \"1\":"
   ]
  },
  {
   "cell_type": "code",
   "execution_count": 30,
   "metadata": {},
   "outputs": [
    {
     "data": {
      "text/plain": [
       "LinearRegression()"
      ]
     },
     "execution_count": 30,
     "metadata": {},
     "output_type": "execute_result"
    }
   ],
   "source": [
    "model_1 = LinearRegression()\n",
    "model_1.fit(features_train_1, target_train_1) "
   ]
  },
  {
   "cell_type": "code",
   "execution_count": 31,
   "metadata": {},
   "outputs": [
    {
     "name": "stdout",
     "output_type": "stream",
     "text": [
      "RMSE: 0.893099286775617\n",
      "Average inventory of predicted raw materials: 68.72854689544602\n"
     ]
    }
   ],
   "source": [
    "predict_1 = model_1.predict(features_valid_1)\n",
    "get_metrics(target_valid_1, predict_1)"
   ]
  },
  {
   "cell_type": "markdown",
   "metadata": {},
   "source": [
    "#### Region \"2\":"
   ]
  },
  {
   "cell_type": "code",
   "execution_count": 32,
   "metadata": {},
   "outputs": [
    {
     "data": {
      "text/plain": [
       "LinearRegression()"
      ]
     },
     "execution_count": 32,
     "metadata": {},
     "output_type": "execute_result"
    }
   ],
   "source": [
    "model_2 = LinearRegression()\n",
    "model_2.fit(features_train_2, target_train_2) "
   ]
  },
  {
   "cell_type": "code",
   "execution_count": 33,
   "metadata": {},
   "outputs": [
    {
     "name": "stdout",
     "output_type": "stream",
     "text": [
      "RMSE: 40.02970873393434\n",
      "Average inventory of predicted raw materials: 94.96504596800489\n"
     ]
    }
   ],
   "source": [
    "predict_2 = model_2.predict(features_valid_2)\n",
    "get_metrics(target_valid_2, predict_2)"
   ]
  },
  {
   "cell_type": "markdown",
   "metadata": {},
   "source": [
    "As a result of training a Linear regression model on data from three regions , the following results were obtained:\n",
    "\n",
    "* the largest average volume of reserves is predicted in region \"2\": 94 thousand barrels, followed by region \"0\" : 92 thousand barrels and region \"1\" with a volume of 68 thousand barrels;\n",
    "\n",
    "* at the same time, it is important to note that the model showed the best result on the data of the region \"0\", since its model showed the lowest RMSE = 37.6"
   ]
  },
  {
   "cell_type": "markdown",
   "metadata": {},
   "source": [
    "## Preparation for profit calculation"
   ]
  },
  {
   "cell_type": "markdown",
   "metadata": {},
   "source": [
    "We have the following info:\n",
    "* During the exploration of the region, 500 points are explored, from which 200 best ones are selected for development using machine learning.\n",
    "\n",
    "* The budget for the development of boreholes in the region is 10 billion.\n",
    "\n",
    "* At current prices, one barrel of raw materials brings 450 units of income. The revenue from each unit of product is 450 thousand, since the volume is indicated in thousands of barrels.\n",
    "\n",
    "Prepare the variables:"
   ]
  },
  {
   "cell_type": "code",
   "execution_count": 34,
   "metadata": {},
   "outputs": [],
   "source": [
    "BUDGET = 10_000_000_000\n",
    "PRICE_FOR_1000_BARREL = 450_000\n",
    "POINTS=200"
   ]
  },
  {
   "cell_type": "markdown",
   "metadata": {},
   "source": [
    "We need to determine a sufficient amount of raw materials for the break-even development of a new barehole:"
   ]
  },
  {
   "cell_type": "code",
   "execution_count": 35,
   "metadata": {},
   "outputs": [
    {
     "name": "stdout",
     "output_type": "stream",
     "text": [
      "Sufficient volume of raw materials for break-even development of a new barehole 111.11111111111111\n"
     ]
    }
   ],
   "source": [
    "MIN_PRODUCT = BUDGET / PRICE_FOR_1000_BARREL / POINTS\n",
    "print('Sufficient volume of raw materials for break-even development of a new barehole', MIN_PRODUCT)"
   ]
  },
  {
   "cell_type": "markdown",
   "metadata": {},
   "source": [
    "Sufficient volume of raw materials for break-even development of a new barehole, equal to 111 thousand barrels, exceeds the predicted volumes of bareholes in each region, the average forecasts of which are:\n",
    "\n",
    "* region \"0\" - 92 thousand barrels;\n",
    "* region \"1\" - 68 thousand barrels;\n",
    "* region \"2\" - 94 thousand barrels."
   ]
  },
  {
   "cell_type": "markdown",
   "metadata": {},
   "source": [
    "## Calculation of profit and risks"
   ]
  },
  {
   "cell_type": "markdown",
   "metadata": {},
   "source": [
    "After assessing the risks, we need to keep only those regions in which the probability of losses is less than 2.5%. Among them, the region with the highest average profit is chosen."
   ]
  },
  {
   "cell_type": "markdown",
   "metadata": {},
   "source": [
    "Create the function to calculate the profit:"
   ]
  },
  {
   "cell_type": "code",
   "execution_count": 36,
   "metadata": {},
   "outputs": [],
   "source": [
    "\n",
    "def revenue(target, predict):\n",
    "    \n",
    "    predict_sorted = predict.sort_values(ascending=False)\n",
    "    selected = target[predict_sorted.index][:200]\n",
    "    return (selected.sum() * PRICE_FOR_1000_BARREL) - BUDGET\n",
    "\n",
    "\n",
    "def bootstrap(target_valid, predict, region):\n",
    "    state = np.random.RandomState(12345)\n",
    "    values = []\n",
    "    target = target_valid.reset_index(drop=True)\n",
    "    predictions = pd.Series(predict)\n",
    "    count = 0 \n",
    "    for i in range(1000):\n",
    "        target_subsample = target.sample(500, replace=True, random_state=state)\n",
    "        predictions_subsample = predictions.loc[target_subsample.index.to_list()]\n",
    "        target_subsample = target_subsample.reset_index(drop=True)\n",
    "        predictions_subsample = predictions_subsample.reset_index(drop=True)\n",
    "        value = revenue(target_subsample, predictions_subsample)\n",
    "        values.append(value)\n",
    "        \n",
    "        if value < 0: \n",
    "            count += 1 \n",
    "        \n",
    "    values = pd.Series(values)\n",
    "    risk = (values <0).mean()\n",
    "    \n",
    "    lower = values.quantile(0.025)\n",
    "    upper = values.quantile(0.975) \n",
    "    \n",
    "    print('Average profit on', region, 'region is:', round(values.mean(), 2), 'with a risk', \n",
    "          round(risk * 100, 2), '%')\n",
    "    print('The confidence interval in the region is from', round(lower, 2),'to', round(upper, 2))"
   ]
  },
  {
   "cell_type": "code",
   "execution_count": 37,
   "metadata": {},
   "outputs": [
    {
     "name": "stdout",
     "output_type": "stream",
     "text": [
      "Average profit on 0 region is: 396164984.8 with a risk 6.9 %\n",
      "The confidence interval in the region is from -111215545.89 to 909766941.55\n"
     ]
    }
   ],
   "source": [
    "bootstrap(target_valid_0, predict_0, 0)"
   ]
  },
  {
   "cell_type": "code",
   "execution_count": 38,
   "metadata": {},
   "outputs": [
    {
     "name": "stdout",
     "output_type": "stream",
     "text": [
      "Average profit on 1 region is: 456045105.79 with a risk 1.5 %\n",
      "The confidence interval in the region is from 33820509.4 to 852289453.87\n"
     ]
    }
   ],
   "source": [
    "bootstrap(target_valid_1, predict_1, 1)"
   ]
  },
  {
   "cell_type": "code",
   "execution_count": 39,
   "metadata": {
    "scrolled": true
   },
   "outputs": [
    {
     "name": "stdout",
     "output_type": "stream",
     "text": [
      "Average profit on 2 region is: 404403866.57 with a risk 7.6 %\n",
      "The confidence interval in the region is from -163350413.4 to 950359574.92\n"
     ]
    }
   ],
   "source": [
    "bootstrap(target_valid_2, predict_2, 2)"
   ]
  },
  {
   "cell_type": "markdown",
   "metadata": {},
   "source": [
    "Thus, thanks to the bootstrap technique, it was found that the \"1\" region is the safest for development, since its development is associated with the lowest risk of 1.5% and a confidence interval from 33820509.4 to 852289453.87"
   ]
  },
  {
   "cell_type": "markdown",
   "metadata": {},
   "source": [
    "## Conclusion:"
   ]
  },
  {
   "cell_type": "markdown",
   "metadata": {},
   "source": [
    "During the work on the project, data was prepared for work, models were trained on three different samples, and the work of these models was evaluated. Further, these results were additionally verified by the bootstrap technique. As a result, the region \"1\" turned out to be the safest from the point of view of profitability, since its development is associated with the lowest risk of 1% and a confidence interval from 68873225.37 to 931547591.26."
   ]
  }
 ],
 "metadata": {
  "ExecuteTimeLog": [
   {
    "duration": 1655,
    "start_time": "2022-08-22T12:49:31.054Z"
   },
   {
    "duration": 921,
    "start_time": "2022-08-22T12:53:11.029Z"
   },
   {
    "duration": 427,
    "start_time": "2022-08-22T12:54:47.390Z"
   },
   {
    "duration": 107,
    "start_time": "2022-08-22T12:58:33.799Z"
   },
   {
    "duration": 8,
    "start_time": "2022-08-22T12:58:53.319Z"
   },
   {
    "duration": 5,
    "start_time": "2022-08-22T12:59:10.346Z"
   },
   {
    "duration": 13,
    "start_time": "2022-08-22T12:59:25.924Z"
   },
   {
    "duration": 23,
    "start_time": "2022-08-22T13:00:02.695Z"
   },
   {
    "duration": 44,
    "start_time": "2022-08-22T13:00:32.956Z"
   },
   {
    "duration": 48,
    "start_time": "2022-08-22T13:01:13.058Z"
   },
   {
    "duration": 4,
    "start_time": "2022-08-22T13:03:15.028Z"
   },
   {
    "duration": 10,
    "start_time": "2022-08-22T13:03:33.117Z"
   },
   {
    "duration": 31,
    "start_time": "2022-08-22T13:03:51.491Z"
   },
   {
    "duration": 40,
    "start_time": "2022-08-22T13:04:10.716Z"
   },
   {
    "duration": 49,
    "start_time": "2022-08-22T13:04:30.053Z"
   },
   {
    "duration": 4,
    "start_time": "2022-08-22T13:05:13.347Z"
   },
   {
    "duration": 8,
    "start_time": "2022-08-22T13:05:28.044Z"
   },
   {
    "duration": 12,
    "start_time": "2022-08-22T13:05:46.093Z"
   },
   {
    "duration": 15,
    "start_time": "2022-08-22T13:05:53.466Z"
   },
   {
    "duration": 41,
    "start_time": "2022-08-22T13:06:12.245Z"
   },
   {
    "duration": 48,
    "start_time": "2022-08-22T13:06:33.356Z"
   },
   {
    "duration": 48,
    "start_time": "2022-08-24T13:31:21.845Z"
   },
   {
    "duration": 5,
    "start_time": "2022-08-24T13:31:40.853Z"
   },
   {
    "duration": 1333,
    "start_time": "2022-08-24T13:31:44.999Z"
   },
   {
    "duration": 0,
    "start_time": "2022-08-24T13:31:46.334Z"
   },
   {
    "duration": 0,
    "start_time": "2022-08-24T13:31:46.335Z"
   },
   {
    "duration": 0,
    "start_time": "2022-08-24T13:31:46.336Z"
   },
   {
    "duration": 0,
    "start_time": "2022-08-24T13:31:46.337Z"
   },
   {
    "duration": 0,
    "start_time": "2022-08-24T13:31:46.338Z"
   },
   {
    "duration": 0,
    "start_time": "2022-08-24T13:31:46.339Z"
   },
   {
    "duration": 0,
    "start_time": "2022-08-24T13:31:46.340Z"
   },
   {
    "duration": 0,
    "start_time": "2022-08-24T13:31:46.341Z"
   },
   {
    "duration": 0,
    "start_time": "2022-08-24T13:31:46.342Z"
   },
   {
    "duration": 0,
    "start_time": "2022-08-24T13:31:46.343Z"
   },
   {
    "duration": 0,
    "start_time": "2022-08-24T13:31:46.344Z"
   },
   {
    "duration": 0,
    "start_time": "2022-08-24T13:31:46.344Z"
   },
   {
    "duration": 0,
    "start_time": "2022-08-24T13:31:46.345Z"
   },
   {
    "duration": 0,
    "start_time": "2022-08-24T13:31:46.346Z"
   },
   {
    "duration": 0,
    "start_time": "2022-08-24T13:31:46.347Z"
   },
   {
    "duration": 0,
    "start_time": "2022-08-24T13:31:46.348Z"
   },
   {
    "duration": 177,
    "start_time": "2022-08-24T13:31:53.708Z"
   },
   {
    "duration": 695,
    "start_time": "2022-08-24T13:31:53.886Z"
   },
   {
    "duration": 5,
    "start_time": "2022-08-24T13:31:54.582Z"
   },
   {
    "duration": 15,
    "start_time": "2022-08-24T13:31:54.589Z"
   },
   {
    "duration": 14,
    "start_time": "2022-08-24T13:31:54.605Z"
   },
   {
    "duration": 33,
    "start_time": "2022-08-24T13:31:54.621Z"
   },
   {
    "duration": 41,
    "start_time": "2022-08-24T13:31:54.656Z"
   },
   {
    "duration": 3,
    "start_time": "2022-08-24T13:31:54.711Z"
   },
   {
    "duration": 10,
    "start_time": "2022-08-24T13:31:54.715Z"
   },
   {
    "duration": 15,
    "start_time": "2022-08-24T13:31:54.727Z"
   },
   {
    "duration": 35,
    "start_time": "2022-08-24T13:31:54.743Z"
   },
   {
    "duration": 62,
    "start_time": "2022-08-24T13:31:54.780Z"
   },
   {
    "duration": 3,
    "start_time": "2022-08-24T13:31:54.843Z"
   },
   {
    "duration": 9,
    "start_time": "2022-08-24T13:31:54.848Z"
   },
   {
    "duration": 14,
    "start_time": "2022-08-24T13:31:54.858Z"
   },
   {
    "duration": 53,
    "start_time": "2022-08-24T13:31:54.874Z"
   },
   {
    "duration": 40,
    "start_time": "2022-08-24T13:31:54.929Z"
   },
   {
    "duration": 4,
    "start_time": "2022-08-24T13:31:54.971Z"
   },
   {
    "duration": 27,
    "start_time": "2022-08-24T13:32:10.771Z"
   },
   {
    "duration": 11,
    "start_time": "2022-08-24T13:34:57.138Z"
   },
   {
    "duration": 12,
    "start_time": "2022-08-24T13:35:12.803Z"
   },
   {
    "duration": 10,
    "start_time": "2022-08-24T13:35:19.638Z"
   },
   {
    "duration": 1325,
    "start_time": "2022-08-24T13:35:51.797Z"
   },
   {
    "duration": 339,
    "start_time": "2022-08-24T13:35:53.124Z"
   },
   {
    "duration": 7,
    "start_time": "2022-08-24T13:35:53.465Z"
   },
   {
    "duration": 13,
    "start_time": "2022-08-24T13:35:53.473Z"
   },
   {
    "duration": 24,
    "start_time": "2022-08-24T13:35:53.487Z"
   },
   {
    "duration": 33,
    "start_time": "2022-08-24T13:35:53.512Z"
   },
   {
    "duration": 39,
    "start_time": "2022-08-24T13:35:53.547Z"
   },
   {
    "duration": 24,
    "start_time": "2022-08-24T13:35:53.587Z"
   },
   {
    "duration": 10,
    "start_time": "2022-08-24T13:35:53.612Z"
   },
   {
    "duration": 14,
    "start_time": "2022-08-24T13:35:53.624Z"
   },
   {
    "duration": 31,
    "start_time": "2022-08-24T13:35:53.640Z"
   },
   {
    "duration": 57,
    "start_time": "2022-08-24T13:35:53.672Z"
   },
   {
    "duration": 3,
    "start_time": "2022-08-24T13:35:53.731Z"
   },
   {
    "duration": 10,
    "start_time": "2022-08-24T13:35:53.735Z"
   },
   {
    "duration": 19,
    "start_time": "2022-08-24T13:35:53.746Z"
   },
   {
    "duration": 53,
    "start_time": "2022-08-24T13:35:53.767Z"
   },
   {
    "duration": 38,
    "start_time": "2022-08-24T13:35:53.821Z"
   },
   {
    "duration": 11,
    "start_time": "2022-08-24T13:35:53.860Z"
   },
   {
    "duration": 4,
    "start_time": "2022-08-24T13:36:42.249Z"
   },
   {
    "duration": 7,
    "start_time": "2022-08-24T13:36:55.612Z"
   },
   {
    "duration": 4,
    "start_time": "2022-08-24T13:37:23.516Z"
   },
   {
    "duration": 8,
    "start_time": "2022-08-24T13:37:34.685Z"
   },
   {
    "duration": 6,
    "start_time": "2022-08-24T13:37:51.158Z"
   },
   {
    "duration": 8,
    "start_time": "2022-08-24T13:38:03.397Z"
   },
   {
    "duration": 126,
    "start_time": "2022-08-24T13:48:45.712Z"
   },
   {
    "duration": 4,
    "start_time": "2022-08-24T13:49:30.024Z"
   },
   {
    "duration": 367,
    "start_time": "2022-08-24T13:49:30.030Z"
   },
   {
    "duration": 4,
    "start_time": "2022-08-24T13:49:30.398Z"
   },
   {
    "duration": 32,
    "start_time": "2022-08-24T13:49:30.403Z"
   },
   {
    "duration": 28,
    "start_time": "2022-08-24T13:49:30.438Z"
   },
   {
    "duration": 40,
    "start_time": "2022-08-24T13:49:30.468Z"
   },
   {
    "duration": 48,
    "start_time": "2022-08-24T13:49:30.510Z"
   },
   {
    "duration": 3,
    "start_time": "2022-08-24T13:49:30.560Z"
   },
   {
    "duration": 23,
    "start_time": "2022-08-24T13:49:30.564Z"
   },
   {
    "duration": 41,
    "start_time": "2022-08-24T13:49:30.589Z"
   },
   {
    "duration": 37,
    "start_time": "2022-08-24T13:49:30.632Z"
   },
   {
    "duration": 36,
    "start_time": "2022-08-24T13:49:30.671Z"
   },
   {
    "duration": 6,
    "start_time": "2022-08-24T13:49:30.708Z"
   },
   {
    "duration": 26,
    "start_time": "2022-08-24T13:49:30.717Z"
   },
   {
    "duration": 21,
    "start_time": "2022-08-24T13:49:30.744Z"
   },
   {
    "duration": 34,
    "start_time": "2022-08-24T13:49:30.767Z"
   },
   {
    "duration": 60,
    "start_time": "2022-08-24T13:49:30.803Z"
   },
   {
    "duration": 4,
    "start_time": "2022-08-24T13:49:30.864Z"
   },
   {
    "duration": 23,
    "start_time": "2022-08-24T13:49:30.869Z"
   },
   {
    "duration": 13,
    "start_time": "2022-08-24T13:49:30.894Z"
   },
   {
    "duration": 24,
    "start_time": "2022-08-24T13:49:30.908Z"
   },
   {
    "duration": 15,
    "start_time": "2022-08-24T13:49:30.933Z"
   },
   {
    "duration": 43,
    "start_time": "2022-08-24T13:49:30.950Z"
   },
   {
    "duration": 41,
    "start_time": "2022-08-24T13:49:30.995Z"
   },
   {
    "duration": 9,
    "start_time": "2022-08-24T13:49:36.831Z"
   },
   {
    "duration": 11,
    "start_time": "2022-08-24T13:49:51.279Z"
   },
   {
    "duration": 14,
    "start_time": "2022-08-24T13:50:54.984Z"
   },
   {
    "duration": 13,
    "start_time": "2022-08-24T13:51:30.061Z"
   },
   {
    "duration": 1275,
    "start_time": "2022-08-24T14:00:00.415Z"
   },
   {
    "duration": 0,
    "start_time": "2022-08-24T14:00:01.694Z"
   },
   {
    "duration": 0,
    "start_time": "2022-08-24T14:00:01.695Z"
   },
   {
    "duration": 0,
    "start_time": "2022-08-24T14:00:01.696Z"
   },
   {
    "duration": 0,
    "start_time": "2022-08-24T14:00:01.697Z"
   },
   {
    "duration": 0,
    "start_time": "2022-08-24T14:00:01.699Z"
   },
   {
    "duration": 0,
    "start_time": "2022-08-24T14:00:01.711Z"
   },
   {
    "duration": 0,
    "start_time": "2022-08-24T14:00:01.712Z"
   },
   {
    "duration": 0,
    "start_time": "2022-08-24T14:00:01.714Z"
   },
   {
    "duration": 0,
    "start_time": "2022-08-24T14:00:01.715Z"
   },
   {
    "duration": 0,
    "start_time": "2022-08-24T14:00:01.716Z"
   },
   {
    "duration": 0,
    "start_time": "2022-08-24T14:00:01.718Z"
   },
   {
    "duration": 0,
    "start_time": "2022-08-24T14:00:01.719Z"
   },
   {
    "duration": 0,
    "start_time": "2022-08-24T14:00:01.720Z"
   },
   {
    "duration": 0,
    "start_time": "2022-08-24T14:00:01.722Z"
   },
   {
    "duration": 0,
    "start_time": "2022-08-24T14:00:01.724Z"
   },
   {
    "duration": 0,
    "start_time": "2022-08-24T14:00:01.725Z"
   },
   {
    "duration": 0,
    "start_time": "2022-08-24T14:00:01.726Z"
   },
   {
    "duration": 0,
    "start_time": "2022-08-24T14:00:01.727Z"
   },
   {
    "duration": 0,
    "start_time": "2022-08-24T14:00:01.729Z"
   },
   {
    "duration": 0,
    "start_time": "2022-08-24T14:00:01.730Z"
   },
   {
    "duration": 0,
    "start_time": "2022-08-24T14:00:01.732Z"
   },
   {
    "duration": 0,
    "start_time": "2022-08-24T14:00:01.733Z"
   },
   {
    "duration": 0,
    "start_time": "2022-08-24T14:00:01.734Z"
   },
   {
    "duration": 0,
    "start_time": "2022-08-24T14:00:01.735Z"
   },
   {
    "duration": 1,
    "start_time": "2022-08-24T14:00:01.736Z"
   },
   {
    "duration": 350,
    "start_time": "2022-08-24T14:00:36.862Z"
   },
   {
    "duration": 3,
    "start_time": "2022-08-24T14:00:43.351Z"
   },
   {
    "duration": 347,
    "start_time": "2022-08-24T14:00:43.356Z"
   },
   {
    "duration": 5,
    "start_time": "2022-08-24T14:00:43.704Z"
   },
   {
    "duration": 13,
    "start_time": "2022-08-24T14:00:43.710Z"
   },
   {
    "duration": 18,
    "start_time": "2022-08-24T14:00:43.725Z"
   },
   {
    "duration": 33,
    "start_time": "2022-08-24T14:00:43.744Z"
   },
   {
    "duration": 52,
    "start_time": "2022-08-24T14:00:43.779Z"
   },
   {
    "duration": 3,
    "start_time": "2022-08-24T14:00:43.833Z"
   },
   {
    "duration": 17,
    "start_time": "2022-08-24T14:00:43.838Z"
   },
   {
    "duration": 15,
    "start_time": "2022-08-24T14:00:43.856Z"
   },
   {
    "duration": 45,
    "start_time": "2022-08-24T14:00:43.872Z"
   },
   {
    "duration": 37,
    "start_time": "2022-08-24T14:00:43.919Z"
   },
   {
    "duration": 4,
    "start_time": "2022-08-24T14:00:43.958Z"
   },
   {
    "duration": 14,
    "start_time": "2022-08-24T14:00:43.963Z"
   },
   {
    "duration": 33,
    "start_time": "2022-08-24T14:00:43.978Z"
   },
   {
    "duration": 34,
    "start_time": "2022-08-24T14:00:44.013Z"
   },
   {
    "duration": 41,
    "start_time": "2022-08-24T14:00:44.049Z"
   },
   {
    "duration": 6,
    "start_time": "2022-08-24T14:00:44.110Z"
   },
   {
    "duration": 9,
    "start_time": "2022-08-24T14:00:44.118Z"
   },
   {
    "duration": 12,
    "start_time": "2022-08-24T14:00:44.129Z"
   },
   {
    "duration": 14,
    "start_time": "2022-08-24T14:00:44.142Z"
   },
   {
    "duration": 7,
    "start_time": "2022-08-24T14:00:44.158Z"
   },
   {
    "duration": 12,
    "start_time": "2022-08-24T14:00:44.167Z"
   },
   {
    "duration": 12,
    "start_time": "2022-08-24T14:00:44.181Z"
   },
   {
    "duration": 27,
    "start_time": "2022-08-24T14:00:44.195Z"
   },
   {
    "duration": 14,
    "start_time": "2022-08-24T14:00:44.223Z"
   },
   {
    "duration": 48,
    "start_time": "2022-08-24T14:02:04.899Z"
   },
   {
    "duration": 1402,
    "start_time": "2022-08-24T14:02:15.499Z"
   },
   {
    "duration": 332,
    "start_time": "2022-08-24T14:02:16.903Z"
   },
   {
    "duration": 6,
    "start_time": "2022-08-24T14:02:17.236Z"
   },
   {
    "duration": 12,
    "start_time": "2022-08-24T14:02:17.243Z"
   },
   {
    "duration": 12,
    "start_time": "2022-08-24T14:02:17.257Z"
   },
   {
    "duration": 50,
    "start_time": "2022-08-24T14:02:17.270Z"
   },
   {
    "duration": 40,
    "start_time": "2022-08-24T14:02:17.322Z"
   },
   {
    "duration": 3,
    "start_time": "2022-08-24T14:02:17.364Z"
   },
   {
    "duration": 11,
    "start_time": "2022-08-24T14:02:17.368Z"
   },
   {
    "duration": 33,
    "start_time": "2022-08-24T14:02:17.380Z"
   },
   {
    "duration": 32,
    "start_time": "2022-08-24T14:02:17.415Z"
   },
   {
    "duration": 40,
    "start_time": "2022-08-24T14:02:17.449Z"
   },
   {
    "duration": 21,
    "start_time": "2022-08-24T14:02:17.491Z"
   },
   {
    "duration": 11,
    "start_time": "2022-08-24T14:02:17.514Z"
   },
   {
    "duration": 16,
    "start_time": "2022-08-24T14:02:17.527Z"
   },
   {
    "duration": 34,
    "start_time": "2022-08-24T14:02:17.545Z"
   },
   {
    "duration": 64,
    "start_time": "2022-08-24T14:02:17.581Z"
   },
   {
    "duration": 5,
    "start_time": "2022-08-24T14:02:17.647Z"
   },
   {
    "duration": 10,
    "start_time": "2022-08-24T14:02:17.654Z"
   },
   {
    "duration": 10,
    "start_time": "2022-08-24T14:02:17.665Z"
   },
   {
    "duration": 13,
    "start_time": "2022-08-24T14:02:17.676Z"
   },
   {
    "duration": 13,
    "start_time": "2022-08-24T14:02:17.690Z"
   },
   {
    "duration": 50,
    "start_time": "2022-08-24T14:02:17.704Z"
   },
   {
    "duration": 14,
    "start_time": "2022-08-24T14:02:17.756Z"
   },
   {
    "duration": 14,
    "start_time": "2022-08-24T14:02:17.771Z"
   },
   {
    "duration": 14,
    "start_time": "2022-08-24T14:02:17.787Z"
   },
   {
    "duration": 1302,
    "start_time": "2022-08-24T14:12:15.671Z"
   },
   {
    "duration": 349,
    "start_time": "2022-08-24T14:12:16.976Z"
   },
   {
    "duration": 6,
    "start_time": "2022-08-24T14:12:17.327Z"
   },
   {
    "duration": 11,
    "start_time": "2022-08-24T14:12:17.335Z"
   },
   {
    "duration": 13,
    "start_time": "2022-08-24T14:12:17.348Z"
   },
   {
    "duration": 51,
    "start_time": "2022-08-24T14:12:17.363Z"
   },
   {
    "duration": 48,
    "start_time": "2022-08-24T14:12:17.416Z"
   },
   {
    "duration": 4,
    "start_time": "2022-08-24T14:12:17.466Z"
   },
   {
    "duration": 38,
    "start_time": "2022-08-24T14:12:17.472Z"
   },
   {
    "duration": 13,
    "start_time": "2022-08-24T14:12:17.512Z"
   },
   {
    "duration": 33,
    "start_time": "2022-08-24T14:12:17.526Z"
   },
   {
    "duration": 53,
    "start_time": "2022-08-24T14:12:17.560Z"
   },
   {
    "duration": 3,
    "start_time": "2022-08-24T14:12:17.615Z"
   },
   {
    "duration": 13,
    "start_time": "2022-08-24T14:12:17.619Z"
   },
   {
    "duration": 23,
    "start_time": "2022-08-24T14:12:17.633Z"
   },
   {
    "duration": 33,
    "start_time": "2022-08-24T14:12:17.657Z"
   },
   {
    "duration": 53,
    "start_time": "2022-08-24T14:12:17.692Z"
   },
   {
    "duration": 4,
    "start_time": "2022-08-24T14:12:17.747Z"
   },
   {
    "duration": 11,
    "start_time": "2022-08-24T14:12:17.752Z"
   },
   {
    "duration": 8,
    "start_time": "2022-08-24T14:12:17.764Z"
   },
   {
    "duration": 10,
    "start_time": "2022-08-24T14:12:17.774Z"
   },
   {
    "duration": 8,
    "start_time": "2022-08-24T14:12:17.785Z"
   },
   {
    "duration": 8,
    "start_time": "2022-08-24T14:12:17.811Z"
   },
   {
    "duration": 15,
    "start_time": "2022-08-24T14:12:17.820Z"
   },
   {
    "duration": 13,
    "start_time": "2022-08-24T14:12:17.836Z"
   },
   {
    "duration": 13,
    "start_time": "2022-08-24T14:12:17.851Z"
   },
   {
    "duration": 3,
    "start_time": "2022-08-24T14:19:07.048Z"
   },
   {
    "duration": 104,
    "start_time": "2022-08-24T14:22:37.026Z"
   },
   {
    "duration": 16,
    "start_time": "2022-08-24T14:22:46.167Z"
   },
   {
    "duration": 10,
    "start_time": "2022-08-24T14:23:07.456Z"
   },
   {
    "duration": 12,
    "start_time": "2022-08-24T14:25:03.636Z"
   },
   {
    "duration": 32,
    "start_time": "2022-08-24T14:27:05.701Z"
   },
   {
    "duration": 12,
    "start_time": "2022-08-24T14:27:17.336Z"
   },
   {
    "duration": 12,
    "start_time": "2022-08-24T14:29:05.571Z"
   },
   {
    "duration": 8,
    "start_time": "2022-08-24T14:30:57.592Z"
   },
   {
    "duration": 9,
    "start_time": "2022-08-24T14:31:08.367Z"
   },
   {
    "duration": 9,
    "start_time": "2022-08-24T14:31:24.980Z"
   },
   {
    "duration": 11,
    "start_time": "2022-08-24T14:31:37.292Z"
   },
   {
    "duration": 6,
    "start_time": "2022-08-24T14:31:50.771Z"
   },
   {
    "duration": 9,
    "start_time": "2022-08-24T14:35:44.567Z"
   },
   {
    "duration": 6,
    "start_time": "2022-08-24T14:35:53.060Z"
   },
   {
    "duration": 9,
    "start_time": "2022-08-24T15:04:25.301Z"
   },
   {
    "duration": 7,
    "start_time": "2022-08-24T15:04:53.466Z"
   },
   {
    "duration": 9,
    "start_time": "2022-08-24T15:05:50.217Z"
   },
   {
    "duration": 11,
    "start_time": "2022-08-24T15:06:06.261Z"
   },
   {
    "duration": 7,
    "start_time": "2022-08-24T15:06:27.835Z"
   },
   {
    "duration": 3,
    "start_time": "2022-08-24T15:53:32.327Z"
   },
   {
    "duration": 4,
    "start_time": "2022-08-24T15:55:30.419Z"
   },
   {
    "duration": 1499,
    "start_time": "2022-08-24T20:09:05.838Z"
   },
   {
    "duration": 921,
    "start_time": "2022-08-24T20:09:07.338Z"
   },
   {
    "duration": 5,
    "start_time": "2022-08-24T20:09:08.261Z"
   },
   {
    "duration": 14,
    "start_time": "2022-08-24T20:09:08.267Z"
   },
   {
    "duration": 15,
    "start_time": "2022-08-24T20:09:08.283Z"
   },
   {
    "duration": 37,
    "start_time": "2022-08-24T20:09:08.299Z"
   },
   {
    "duration": 63,
    "start_time": "2022-08-24T20:09:08.338Z"
   },
   {
    "duration": 4,
    "start_time": "2022-08-24T20:09:08.402Z"
   },
   {
    "duration": 13,
    "start_time": "2022-08-24T20:09:08.408Z"
   },
   {
    "duration": 20,
    "start_time": "2022-08-24T20:09:08.423Z"
   },
   {
    "duration": 49,
    "start_time": "2022-08-24T20:09:08.445Z"
   },
   {
    "duration": 40,
    "start_time": "2022-08-24T20:09:08.496Z"
   },
   {
    "duration": 4,
    "start_time": "2022-08-24T20:09:08.538Z"
   },
   {
    "duration": 14,
    "start_time": "2022-08-24T20:09:08.544Z"
   },
   {
    "duration": 35,
    "start_time": "2022-08-24T20:09:08.560Z"
   },
   {
    "duration": 41,
    "start_time": "2022-08-24T20:09:08.597Z"
   },
   {
    "duration": 72,
    "start_time": "2022-08-24T20:09:08.640Z"
   },
   {
    "duration": 5,
    "start_time": "2022-08-24T20:09:08.714Z"
   },
   {
    "duration": 12,
    "start_time": "2022-08-24T20:09:08.721Z"
   },
   {
    "duration": 7,
    "start_time": "2022-08-24T20:09:08.735Z"
   },
   {
    "duration": 12,
    "start_time": "2022-08-24T20:09:08.743Z"
   },
   {
    "duration": 7,
    "start_time": "2022-08-24T20:09:08.757Z"
   },
   {
    "duration": 12,
    "start_time": "2022-08-24T20:09:08.786Z"
   },
   {
    "duration": 21,
    "start_time": "2022-08-24T20:09:08.800Z"
   },
   {
    "duration": 15,
    "start_time": "2022-08-24T20:09:08.823Z"
   },
   {
    "duration": 15,
    "start_time": "2022-08-24T20:09:08.840Z"
   },
   {
    "duration": 3,
    "start_time": "2022-08-24T20:09:08.857Z"
   },
   {
    "duration": 16,
    "start_time": "2022-08-24T20:09:08.887Z"
   },
   {
    "duration": 7,
    "start_time": "2022-08-24T20:09:08.904Z"
   },
   {
    "duration": 175,
    "start_time": "2022-08-24T20:09:08.913Z"
   },
   {
    "duration": 23,
    "start_time": "2022-08-24T20:09:09.090Z"
   },
   {
    "duration": 173,
    "start_time": "2022-08-24T20:09:09.115Z"
   },
   {
    "duration": 9,
    "start_time": "2022-08-24T20:09:09.289Z"
   },
   {
    "duration": 87,
    "start_time": "2022-08-24T20:09:09.300Z"
   },
   {
    "duration": 101,
    "start_time": "2022-08-24T20:09:09.390Z"
   },
   {
    "duration": 3,
    "start_time": "2022-08-24T20:31:10.691Z"
   },
   {
    "duration": 110,
    "start_time": "2022-08-24T20:32:16.620Z"
   },
   {
    "duration": 4,
    "start_time": "2022-08-24T20:32:41.325Z"
   },
   {
    "duration": 11,
    "start_time": "2022-08-24T20:32:43.122Z"
   },
   {
    "duration": 11,
    "start_time": "2022-08-24T20:33:08.425Z"
   },
   {
    "duration": 3,
    "start_time": "2022-08-24T20:35:48.659Z"
   },
   {
    "duration": 12,
    "start_time": "2022-08-24T20:35:50.651Z"
   },
   {
    "duration": 5,
    "start_time": "2022-08-24T20:37:17.778Z"
   },
   {
    "duration": 9,
    "start_time": "2022-08-24T20:37:27.969Z"
   },
   {
    "duration": 9,
    "start_time": "2022-08-24T20:37:37.092Z"
   },
   {
    "duration": 9,
    "start_time": "2022-08-24T20:37:49.626Z"
   },
   {
    "duration": 4,
    "start_time": "2022-08-24T20:37:54.248Z"
   },
   {
    "duration": 4,
    "start_time": "2022-08-24T20:41:52.370Z"
   },
   {
    "duration": 11,
    "start_time": "2022-08-24T20:41:55.420Z"
   },
   {
    "duration": 9,
    "start_time": "2022-08-24T20:42:36.025Z"
   },
   {
    "duration": 4,
    "start_time": "2022-08-24T20:42:45.525Z"
   },
   {
    "duration": 9,
    "start_time": "2022-08-24T20:42:58.458Z"
   },
   {
    "duration": 8,
    "start_time": "2022-08-24T20:43:29.452Z"
   },
   {
    "duration": 12,
    "start_time": "2022-08-24T20:43:42.084Z"
   },
   {
    "duration": 1180,
    "start_time": "2022-08-24T20:44:20.121Z"
   },
   {
    "duration": 377,
    "start_time": "2022-08-24T20:44:21.303Z"
   },
   {
    "duration": 5,
    "start_time": "2022-08-24T20:44:21.682Z"
   },
   {
    "duration": 20,
    "start_time": "2022-08-24T20:44:21.688Z"
   },
   {
    "duration": 15,
    "start_time": "2022-08-24T20:44:21.711Z"
   },
   {
    "duration": 36,
    "start_time": "2022-08-24T20:44:21.728Z"
   },
   {
    "duration": 59,
    "start_time": "2022-08-24T20:44:21.766Z"
   },
   {
    "duration": 4,
    "start_time": "2022-08-24T20:44:21.827Z"
   },
   {
    "duration": 11,
    "start_time": "2022-08-24T20:44:21.833Z"
   },
   {
    "duration": 15,
    "start_time": "2022-08-24T20:44:21.845Z"
   },
   {
    "duration": 54,
    "start_time": "2022-08-24T20:44:21.862Z"
   },
   {
    "duration": 39,
    "start_time": "2022-08-24T20:44:21.918Z"
   },
   {
    "duration": 4,
    "start_time": "2022-08-24T20:44:21.958Z"
   },
   {
    "duration": 8,
    "start_time": "2022-08-24T20:44:21.987Z"
   },
   {
    "duration": 17,
    "start_time": "2022-08-24T20:44:21.997Z"
   },
   {
    "duration": 34,
    "start_time": "2022-08-24T20:44:22.016Z"
   },
   {
    "duration": 63,
    "start_time": "2022-08-24T20:44:22.052Z"
   },
   {
    "duration": 4,
    "start_time": "2022-08-24T20:44:22.118Z"
   },
   {
    "duration": 20,
    "start_time": "2022-08-24T20:44:22.124Z"
   },
   {
    "duration": 7,
    "start_time": "2022-08-24T20:44:22.145Z"
   },
   {
    "duration": 14,
    "start_time": "2022-08-24T20:44:22.154Z"
   },
   {
    "duration": 18,
    "start_time": "2022-08-24T20:44:22.169Z"
   },
   {
    "duration": 11,
    "start_time": "2022-08-24T20:44:22.189Z"
   },
   {
    "duration": 17,
    "start_time": "2022-08-24T20:44:22.201Z"
   },
   {
    "duration": 16,
    "start_time": "2022-08-24T20:44:22.219Z"
   },
   {
    "duration": 14,
    "start_time": "2022-08-24T20:44:22.237Z"
   },
   {
    "duration": 3,
    "start_time": "2022-08-24T20:44:22.252Z"
   },
   {
    "duration": 37,
    "start_time": "2022-08-24T20:44:22.256Z"
   },
   {
    "duration": 8,
    "start_time": "2022-08-24T20:44:22.295Z"
   },
   {
    "duration": 183,
    "start_time": "2022-08-24T20:44:22.304Z"
   },
   {
    "duration": 10,
    "start_time": "2022-08-24T20:44:22.489Z"
   },
   {
    "duration": 189,
    "start_time": "2022-08-24T20:44:22.500Z"
   },
   {
    "duration": 7,
    "start_time": "2022-08-24T20:44:22.691Z"
   },
   {
    "duration": 88,
    "start_time": "2022-08-24T20:44:22.700Z"
   },
   {
    "duration": 101,
    "start_time": "2022-08-24T20:44:22.791Z"
   },
   {
    "duration": 5,
    "start_time": "2022-08-24T20:44:22.894Z"
   },
   {
    "duration": 7,
    "start_time": "2022-08-24T20:44:22.900Z"
   },
   {
    "duration": 4,
    "start_time": "2022-08-24T20:47:53.221Z"
   },
   {
    "duration": 105,
    "start_time": "2022-08-24T20:51:50.872Z"
   },
   {
    "duration": 4,
    "start_time": "2022-08-24T20:51:58.304Z"
   },
   {
    "duration": 4,
    "start_time": "2022-08-24T20:52:06.990Z"
   },
   {
    "duration": 8,
    "start_time": "2022-08-24T20:52:21.697Z"
   },
   {
    "duration": 25,
    "start_time": "2022-08-24T20:53:54.024Z"
   },
   {
    "duration": 4,
    "start_time": "2022-08-24T20:54:06.177Z"
   },
   {
    "duration": 4,
    "start_time": "2022-08-24T20:54:17.419Z"
   },
   {
    "duration": 11,
    "start_time": "2022-08-24T20:54:46.035Z"
   },
   {
    "duration": 4,
    "start_time": "2022-08-24T20:55:44.321Z"
   },
   {
    "duration": 10,
    "start_time": "2022-08-24T20:56:06.975Z"
   },
   {
    "duration": 20,
    "start_time": "2022-08-24T20:57:54.486Z"
   },
   {
    "duration": 10,
    "start_time": "2022-08-24T20:58:57.139Z"
   },
   {
    "duration": 8,
    "start_time": "2022-08-24T20:59:03.368Z"
   },
   {
    "duration": 4,
    "start_time": "2022-08-24T20:59:15.623Z"
   },
   {
    "duration": 5,
    "start_time": "2022-08-24T21:01:18.000Z"
   },
   {
    "duration": 6,
    "start_time": "2022-08-24T21:03:15.940Z"
   },
   {
    "duration": 9,
    "start_time": "2022-08-24T21:03:36.845Z"
   },
   {
    "duration": 1563,
    "start_time": "2022-08-24T21:05:03.083Z"
   },
   {
    "duration": 1492,
    "start_time": "2022-08-24T21:05:26.633Z"
   },
   {
    "duration": 1390,
    "start_time": "2022-08-24T21:05:42.064Z"
   },
   {
    "duration": 3,
    "start_time": "2022-08-24T21:08:37.651Z"
   },
   {
    "duration": 16,
    "start_time": "2022-08-24T21:11:12.901Z"
   },
   {
    "duration": 4,
    "start_time": "2022-08-24T21:11:30.138Z"
   },
   {
    "duration": 11,
    "start_time": "2022-08-24T21:11:46.321Z"
   },
   {
    "duration": 6,
    "start_time": "2022-08-24T21:41:14.092Z"
   },
   {
    "duration": 1352,
    "start_time": "2022-08-24T21:41:19.825Z"
   },
   {
    "duration": 1327,
    "start_time": "2022-08-24T21:41:23.489Z"
   },
   {
    "duration": 1359,
    "start_time": "2022-08-24T21:41:27.145Z"
   },
   {
    "duration": 6,
    "start_time": "2022-08-24T21:54:11.489Z"
   },
   {
    "duration": 1457,
    "start_time": "2022-08-24T21:54:17.519Z"
   },
   {
    "duration": 1382,
    "start_time": "2022-08-24T21:54:22.252Z"
   },
   {
    "duration": 1402,
    "start_time": "2022-08-24T21:54:26.603Z"
   },
   {
    "duration": 1307,
    "start_time": "2022-08-24T21:57:13.531Z"
   },
   {
    "duration": 390,
    "start_time": "2022-08-24T21:57:14.840Z"
   },
   {
    "duration": 5,
    "start_time": "2022-08-24T21:57:15.232Z"
   },
   {
    "duration": 24,
    "start_time": "2022-08-24T21:57:15.239Z"
   },
   {
    "duration": 20,
    "start_time": "2022-08-24T21:57:15.265Z"
   },
   {
    "duration": 39,
    "start_time": "2022-08-24T21:57:15.287Z"
   },
   {
    "duration": 59,
    "start_time": "2022-08-24T21:57:15.328Z"
   },
   {
    "duration": 5,
    "start_time": "2022-08-24T21:57:15.389Z"
   },
   {
    "duration": 15,
    "start_time": "2022-08-24T21:57:15.396Z"
   },
   {
    "duration": 18,
    "start_time": "2022-08-24T21:57:15.413Z"
   },
   {
    "duration": 44,
    "start_time": "2022-08-24T21:57:15.433Z"
   },
   {
    "duration": 51,
    "start_time": "2022-08-24T21:57:15.479Z"
   },
   {
    "duration": 5,
    "start_time": "2022-08-24T21:57:15.531Z"
   },
   {
    "duration": 25,
    "start_time": "2022-08-24T21:57:15.540Z"
   },
   {
    "duration": 52,
    "start_time": "2022-08-24T21:57:15.567Z"
   },
   {
    "duration": 41,
    "start_time": "2022-08-24T21:57:15.621Z"
   },
   {
    "duration": 42,
    "start_time": "2022-08-24T21:57:15.663Z"
   },
   {
    "duration": 4,
    "start_time": "2022-08-24T21:57:15.706Z"
   },
   {
    "duration": 28,
    "start_time": "2022-08-24T21:57:15.712Z"
   },
   {
    "duration": 32,
    "start_time": "2022-08-24T21:57:15.741Z"
   },
   {
    "duration": 26,
    "start_time": "2022-08-24T21:57:15.775Z"
   },
   {
    "duration": 28,
    "start_time": "2022-08-24T21:57:15.802Z"
   },
   {
    "duration": 23,
    "start_time": "2022-08-24T21:57:15.832Z"
   },
   {
    "duration": 24,
    "start_time": "2022-08-24T21:57:15.857Z"
   },
   {
    "duration": 25,
    "start_time": "2022-08-24T21:57:15.883Z"
   },
   {
    "duration": 16,
    "start_time": "2022-08-24T21:57:15.910Z"
   },
   {
    "duration": 4,
    "start_time": "2022-08-24T21:57:15.928Z"
   },
   {
    "duration": 31,
    "start_time": "2022-08-24T21:57:15.934Z"
   },
   {
    "duration": 24,
    "start_time": "2022-08-24T21:57:15.966Z"
   },
   {
    "duration": 195,
    "start_time": "2022-08-24T21:57:15.992Z"
   },
   {
    "duration": 10,
    "start_time": "2022-08-24T21:57:16.189Z"
   },
   {
    "duration": 194,
    "start_time": "2022-08-24T21:57:16.204Z"
   },
   {
    "duration": 21,
    "start_time": "2022-08-24T21:57:16.400Z"
   },
   {
    "duration": 101,
    "start_time": "2022-08-24T21:57:16.487Z"
   },
   {
    "duration": 17,
    "start_time": "2022-08-24T21:57:16.590Z"
   },
   {
    "duration": 21,
    "start_time": "2022-08-24T21:57:16.608Z"
   },
   {
    "duration": 1491,
    "start_time": "2022-08-24T21:57:16.631Z"
   },
   {
    "duration": 1424,
    "start_time": "2022-08-24T21:57:18.124Z"
   },
   {
    "duration": 1391,
    "start_time": "2022-08-24T21:57:19.550Z"
   },
   {
    "duration": 49,
    "start_time": "2022-08-25T14:20:38.352Z"
   },
   {
    "duration": 1453,
    "start_time": "2022-08-25T14:20:55.517Z"
   },
   {
    "duration": 699,
    "start_time": "2022-08-25T14:20:56.972Z"
   },
   {
    "duration": 6,
    "start_time": "2022-08-25T14:20:57.672Z"
   },
   {
    "duration": 10,
    "start_time": "2022-08-25T14:20:57.680Z"
   },
   {
    "duration": 14,
    "start_time": "2022-08-25T14:20:57.692Z"
   },
   {
    "duration": 35,
    "start_time": "2022-08-25T14:20:57.708Z"
   },
   {
    "duration": 59,
    "start_time": "2022-08-25T14:20:57.744Z"
   },
   {
    "duration": 4,
    "start_time": "2022-08-25T14:20:57.804Z"
   },
   {
    "duration": 12,
    "start_time": "2022-08-25T14:20:57.809Z"
   },
   {
    "duration": 14,
    "start_time": "2022-08-25T14:20:57.823Z"
   },
   {
    "duration": 35,
    "start_time": "2022-08-25T14:20:57.838Z"
   },
   {
    "duration": 37,
    "start_time": "2022-08-25T14:20:57.898Z"
   },
   {
    "duration": 3,
    "start_time": "2022-08-25T14:20:57.937Z"
   },
   {
    "duration": 14,
    "start_time": "2022-08-25T14:20:57.942Z"
   },
   {
    "duration": 44,
    "start_time": "2022-08-25T14:20:57.958Z"
   },
   {
    "duration": 32,
    "start_time": "2022-08-25T14:20:58.004Z"
   },
   {
    "duration": 38,
    "start_time": "2022-08-25T14:20:58.038Z"
   },
   {
    "duration": 23,
    "start_time": "2022-08-25T14:20:58.078Z"
   },
   {
    "duration": 11,
    "start_time": "2022-08-25T14:20:58.102Z"
   },
   {
    "duration": 7,
    "start_time": "2022-08-25T14:20:58.114Z"
   },
   {
    "duration": 11,
    "start_time": "2022-08-25T14:20:58.122Z"
   },
   {
    "duration": 9,
    "start_time": "2022-08-25T14:20:58.134Z"
   },
   {
    "duration": 9,
    "start_time": "2022-08-25T14:20:58.144Z"
   },
   {
    "duration": 17,
    "start_time": "2022-08-25T14:20:58.154Z"
   },
   {
    "duration": 35,
    "start_time": "2022-08-25T14:20:58.172Z"
   },
   {
    "duration": 15,
    "start_time": "2022-08-25T14:20:58.209Z"
   },
   {
    "duration": 3,
    "start_time": "2022-08-25T14:20:58.226Z"
   },
   {
    "duration": 12,
    "start_time": "2022-08-25T14:20:58.232Z"
   },
   {
    "duration": 59,
    "start_time": "2022-08-25T14:20:58.245Z"
   },
   {
    "duration": 107,
    "start_time": "2022-08-25T14:20:58.305Z"
   },
   {
    "duration": 9,
    "start_time": "2022-08-25T14:20:58.413Z"
   },
   {
    "duration": 183,
    "start_time": "2022-08-25T14:20:58.424Z"
   },
   {
    "duration": 9,
    "start_time": "2022-08-25T14:20:58.608Z"
   },
   {
    "duration": 81,
    "start_time": "2022-08-25T14:20:58.619Z"
   },
   {
    "duration": 97,
    "start_time": "2022-08-25T14:20:58.704Z"
   },
   {
    "duration": 9,
    "start_time": "2022-08-25T14:20:58.802Z"
   },
   {
    "duration": 16,
    "start_time": "2022-08-25T14:20:58.813Z"
   },
   {
    "duration": 1160,
    "start_time": "2022-08-25T14:20:58.830Z"
   },
   {
    "duration": 1117,
    "start_time": "2022-08-25T14:20:59.991Z"
   },
   {
    "duration": 1186,
    "start_time": "2022-08-25T14:21:01.110Z"
   },
   {
    "duration": 5,
    "start_time": "2022-08-25T14:21:25.355Z"
   },
   {
    "duration": 4,
    "start_time": "2022-08-25T14:47:36.650Z"
   },
   {
    "duration": 342,
    "start_time": "2022-08-25T14:47:36.655Z"
   },
   {
    "duration": 3,
    "start_time": "2022-08-25T14:47:36.999Z"
   },
   {
    "duration": 10,
    "start_time": "2022-08-25T14:47:37.003Z"
   },
   {
    "duration": 15,
    "start_time": "2022-08-25T14:47:37.015Z"
   },
   {
    "duration": 32,
    "start_time": "2022-08-25T14:47:37.032Z"
   },
   {
    "duration": 70,
    "start_time": "2022-08-25T14:47:37.065Z"
   },
   {
    "duration": 3,
    "start_time": "2022-08-25T14:47:37.137Z"
   },
   {
    "duration": 9,
    "start_time": "2022-08-25T14:47:37.142Z"
   },
   {
    "duration": 16,
    "start_time": "2022-08-25T14:47:37.153Z"
   },
   {
    "duration": 53,
    "start_time": "2022-08-25T14:47:37.172Z"
   },
   {
    "duration": 36,
    "start_time": "2022-08-25T14:47:37.227Z"
   },
   {
    "duration": 4,
    "start_time": "2022-08-25T14:47:37.265Z"
   },
   {
    "duration": 34,
    "start_time": "2022-08-25T14:47:37.270Z"
   },
   {
    "duration": 15,
    "start_time": "2022-08-25T14:47:37.305Z"
   },
   {
    "duration": 32,
    "start_time": "2022-08-25T14:47:37.322Z"
   },
   {
    "duration": 71,
    "start_time": "2022-08-25T14:47:37.355Z"
   },
   {
    "duration": 4,
    "start_time": "2022-08-25T14:47:37.427Z"
   },
   {
    "duration": 16,
    "start_time": "2022-08-25T14:47:37.432Z"
   },
   {
    "duration": 8,
    "start_time": "2022-08-25T14:47:37.449Z"
   },
   {
    "duration": 11,
    "start_time": "2022-08-25T14:47:37.458Z"
   },
   {
    "duration": 27,
    "start_time": "2022-08-25T14:47:37.471Z"
   },
   {
    "duration": 7,
    "start_time": "2022-08-25T14:47:37.500Z"
   },
   {
    "duration": 20,
    "start_time": "2022-08-25T14:47:37.509Z"
   },
   {
    "duration": 13,
    "start_time": "2022-08-25T14:47:37.531Z"
   },
   {
    "duration": 10,
    "start_time": "2022-08-25T14:47:37.546Z"
   },
   {
    "duration": 10,
    "start_time": "2022-08-25T14:47:37.557Z"
   },
   {
    "duration": 13,
    "start_time": "2022-08-25T14:47:37.569Z"
   },
   {
    "duration": 8,
    "start_time": "2022-08-25T14:47:37.601Z"
   },
   {
    "duration": 188,
    "start_time": "2022-08-25T14:47:37.611Z"
   },
   {
    "duration": 6,
    "start_time": "2022-08-25T14:47:37.800Z"
   },
   {
    "duration": 96,
    "start_time": "2022-08-25T14:47:37.808Z"
   },
   {
    "duration": 96,
    "start_time": "2022-08-25T14:47:37.905Z"
   },
   {
    "duration": 99,
    "start_time": "2022-08-25T14:47:38.003Z"
   },
   {
    "duration": 13,
    "start_time": "2022-08-25T14:47:38.104Z"
   },
   {
    "duration": 86,
    "start_time": "2022-08-25T14:47:38.118Z"
   },
   {
    "duration": 16,
    "start_time": "2022-08-25T14:47:38.206Z"
   },
   {
    "duration": 11,
    "start_time": "2022-08-25T14:47:38.223Z"
   },
   {
    "duration": 100,
    "start_time": "2022-08-25T14:47:38.235Z"
   },
   {
    "duration": 0,
    "start_time": "2022-08-25T14:47:38.337Z"
   },
   {
    "duration": 0,
    "start_time": "2022-08-25T14:47:38.338Z"
   },
   {
    "duration": 4,
    "start_time": "2022-08-25T14:48:12.056Z"
   },
   {
    "duration": 345,
    "start_time": "2022-08-25T14:48:12.063Z"
   },
   {
    "duration": 4,
    "start_time": "2022-08-25T14:48:12.409Z"
   },
   {
    "duration": 13,
    "start_time": "2022-08-25T14:48:12.415Z"
   },
   {
    "duration": 15,
    "start_time": "2022-08-25T14:48:12.429Z"
   },
   {
    "duration": 33,
    "start_time": "2022-08-25T14:48:12.446Z"
   },
   {
    "duration": 54,
    "start_time": "2022-08-25T14:48:12.480Z"
   },
   {
    "duration": 4,
    "start_time": "2022-08-25T14:48:12.535Z"
   },
   {
    "duration": 9,
    "start_time": "2022-08-25T14:48:12.541Z"
   },
   {
    "duration": 14,
    "start_time": "2022-08-25T14:48:12.552Z"
   },
   {
    "duration": 32,
    "start_time": "2022-08-25T14:48:12.598Z"
   },
   {
    "duration": 36,
    "start_time": "2022-08-25T14:48:12.632Z"
   },
   {
    "duration": 4,
    "start_time": "2022-08-25T14:48:12.669Z"
   },
   {
    "duration": 28,
    "start_time": "2022-08-25T14:48:12.675Z"
   },
   {
    "duration": 14,
    "start_time": "2022-08-25T14:48:12.705Z"
   },
   {
    "duration": 30,
    "start_time": "2022-08-25T14:48:12.721Z"
   },
   {
    "duration": 69,
    "start_time": "2022-08-25T14:48:12.752Z"
   },
   {
    "duration": 4,
    "start_time": "2022-08-25T14:48:12.822Z"
   },
   {
    "duration": 11,
    "start_time": "2022-08-25T14:48:12.827Z"
   },
   {
    "duration": 9,
    "start_time": "2022-08-25T14:48:12.839Z"
   },
   {
    "duration": 12,
    "start_time": "2022-08-25T14:48:12.849Z"
   },
   {
    "duration": 10,
    "start_time": "2022-08-25T14:48:12.863Z"
   },
   {
    "duration": 27,
    "start_time": "2022-08-25T14:48:12.874Z"
   },
   {
    "duration": 13,
    "start_time": "2022-08-25T14:48:12.904Z"
   },
   {
    "duration": 10,
    "start_time": "2022-08-25T14:48:12.918Z"
   },
   {
    "duration": 11,
    "start_time": "2022-08-25T14:48:12.930Z"
   },
   {
    "duration": 3,
    "start_time": "2022-08-25T14:48:12.943Z"
   },
   {
    "duration": 16,
    "start_time": "2022-08-25T14:48:12.947Z"
   },
   {
    "duration": 6,
    "start_time": "2022-08-25T14:48:12.999Z"
   },
   {
    "duration": 192,
    "start_time": "2022-08-25T14:48:13.007Z"
   },
   {
    "duration": 6,
    "start_time": "2022-08-25T14:48:13.200Z"
   },
   {
    "duration": 190,
    "start_time": "2022-08-25T14:48:13.208Z"
   },
   {
    "duration": 6,
    "start_time": "2022-08-25T14:48:13.400Z"
   },
   {
    "duration": 97,
    "start_time": "2022-08-25T14:48:13.408Z"
   },
   {
    "duration": 103,
    "start_time": "2022-08-25T14:48:13.507Z"
   },
   {
    "duration": 7,
    "start_time": "2022-08-25T14:48:13.612Z"
   },
   {
    "duration": 1233,
    "start_time": "2022-08-25T14:48:13.621Z"
   },
   {
    "duration": 1196,
    "start_time": "2022-08-25T14:48:14.855Z"
   },
   {
    "duration": 1169,
    "start_time": "2022-08-25T14:48:16.052Z"
   },
   {
    "duration": 4,
    "start_time": "2022-08-25T14:50:21.936Z"
   },
   {
    "duration": 328,
    "start_time": "2022-08-25T14:50:21.942Z"
   },
   {
    "duration": 3,
    "start_time": "2022-08-25T14:50:22.272Z"
   },
   {
    "duration": 12,
    "start_time": "2022-08-25T14:50:22.277Z"
   },
   {
    "duration": 12,
    "start_time": "2022-08-25T14:50:22.298Z"
   },
   {
    "duration": 31,
    "start_time": "2022-08-25T14:50:22.312Z"
   },
   {
    "duration": 59,
    "start_time": "2022-08-25T14:50:22.344Z"
   },
   {
    "duration": 4,
    "start_time": "2022-08-25T14:50:22.404Z"
   },
   {
    "duration": 8,
    "start_time": "2022-08-25T14:50:22.410Z"
   },
   {
    "duration": 13,
    "start_time": "2022-08-25T14:50:22.420Z"
   },
   {
    "duration": 30,
    "start_time": "2022-08-25T14:50:22.434Z"
   },
   {
    "duration": 65,
    "start_time": "2022-08-25T14:50:22.465Z"
   },
   {
    "duration": 4,
    "start_time": "2022-08-25T14:50:22.531Z"
   },
   {
    "duration": 9,
    "start_time": "2022-08-25T14:50:22.536Z"
   },
   {
    "duration": 14,
    "start_time": "2022-08-25T14:50:22.546Z"
   },
   {
    "duration": 61,
    "start_time": "2022-08-25T14:50:22.562Z"
   },
   {
    "duration": 37,
    "start_time": "2022-08-25T14:50:22.624Z"
   },
   {
    "duration": 4,
    "start_time": "2022-08-25T14:50:22.662Z"
   },
   {
    "duration": 31,
    "start_time": "2022-08-25T14:50:22.668Z"
   },
   {
    "duration": 4,
    "start_time": "2022-08-25T14:50:22.701Z"
   },
   {
    "duration": 11,
    "start_time": "2022-08-25T14:50:22.707Z"
   },
   {
    "duration": 11,
    "start_time": "2022-08-25T14:50:22.719Z"
   },
   {
    "duration": 14,
    "start_time": "2022-08-25T14:50:22.731Z"
   },
   {
    "duration": 11,
    "start_time": "2022-08-25T14:50:22.747Z"
   },
   {
    "duration": 11,
    "start_time": "2022-08-25T14:50:22.759Z"
   },
   {
    "duration": 35,
    "start_time": "2022-08-25T14:50:22.771Z"
   },
   {
    "duration": 2,
    "start_time": "2022-08-25T14:50:22.808Z"
   },
   {
    "duration": 12,
    "start_time": "2022-08-25T14:50:22.812Z"
   },
   {
    "duration": 10,
    "start_time": "2022-08-25T14:50:22.825Z"
   },
   {
    "duration": 107,
    "start_time": "2022-08-25T14:50:22.899Z"
   },
   {
    "duration": 8,
    "start_time": "2022-08-25T14:50:23.008Z"
   },
   {
    "duration": 89,
    "start_time": "2022-08-25T14:50:23.018Z"
   },
   {
    "duration": 92,
    "start_time": "2022-08-25T14:50:23.110Z"
   },
   {
    "duration": 7,
    "start_time": "2022-08-25T14:50:23.204Z"
   },
   {
    "duration": 95,
    "start_time": "2022-08-25T14:50:23.212Z"
   },
   {
    "duration": 115,
    "start_time": "2022-08-25T14:50:23.308Z"
   },
   {
    "duration": 0,
    "start_time": "2022-08-25T14:50:23.424Z"
   },
   {
    "duration": 0,
    "start_time": "2022-08-25T14:50:23.426Z"
   },
   {
    "duration": 0,
    "start_time": "2022-08-25T14:50:23.427Z"
   },
   {
    "duration": 12,
    "start_time": "2022-08-25T14:50:59.209Z"
   },
   {
    "duration": 6,
    "start_time": "2022-08-25T14:51:36.395Z"
   },
   {
    "duration": 6,
    "start_time": "2022-08-25T14:51:50.084Z"
   },
   {
    "duration": 1286,
    "start_time": "2022-08-25T14:52:21.669Z"
   },
   {
    "duration": 337,
    "start_time": "2022-08-25T14:52:22.956Z"
   },
   {
    "duration": 6,
    "start_time": "2022-08-25T14:52:23.295Z"
   },
   {
    "duration": 17,
    "start_time": "2022-08-25T14:52:23.303Z"
   },
   {
    "duration": 17,
    "start_time": "2022-08-25T14:52:23.321Z"
   },
   {
    "duration": 35,
    "start_time": "2022-08-25T14:52:23.339Z"
   },
   {
    "duration": 60,
    "start_time": "2022-08-25T14:52:23.375Z"
   },
   {
    "duration": 4,
    "start_time": "2022-08-25T14:52:23.436Z"
   },
   {
    "duration": 27,
    "start_time": "2022-08-25T14:52:23.441Z"
   },
   {
    "duration": 12,
    "start_time": "2022-08-25T14:52:23.470Z"
   },
   {
    "duration": 43,
    "start_time": "2022-08-25T14:52:23.484Z"
   },
   {
    "duration": 35,
    "start_time": "2022-08-25T14:52:23.528Z"
   },
   {
    "duration": 3,
    "start_time": "2022-08-25T14:52:23.564Z"
   },
   {
    "duration": 36,
    "start_time": "2022-08-25T14:52:23.568Z"
   },
   {
    "duration": 12,
    "start_time": "2022-08-25T14:52:23.605Z"
   },
   {
    "duration": 36,
    "start_time": "2022-08-25T14:52:23.618Z"
   },
   {
    "duration": 57,
    "start_time": "2022-08-25T14:52:23.655Z"
   },
   {
    "duration": 4,
    "start_time": "2022-08-25T14:52:23.714Z"
   },
   {
    "duration": 14,
    "start_time": "2022-08-25T14:52:23.719Z"
   },
   {
    "duration": 13,
    "start_time": "2022-08-25T14:52:23.735Z"
   },
   {
    "duration": 10,
    "start_time": "2022-08-25T14:52:23.750Z"
   },
   {
    "duration": 7,
    "start_time": "2022-08-25T14:52:23.761Z"
   },
   {
    "duration": 29,
    "start_time": "2022-08-25T14:52:23.770Z"
   },
   {
    "duration": 25,
    "start_time": "2022-08-25T14:52:23.801Z"
   },
   {
    "duration": 16,
    "start_time": "2022-08-25T14:52:23.827Z"
   },
   {
    "duration": 14,
    "start_time": "2022-08-25T14:52:23.844Z"
   },
   {
    "duration": 3,
    "start_time": "2022-08-25T14:52:23.859Z"
   },
   {
    "duration": 12,
    "start_time": "2022-08-25T14:52:23.865Z"
   },
   {
    "duration": 23,
    "start_time": "2022-08-25T14:52:23.879Z"
   },
   {
    "duration": 196,
    "start_time": "2022-08-25T14:52:23.903Z"
   },
   {
    "duration": 15,
    "start_time": "2022-08-25T14:52:24.101Z"
   },
   {
    "duration": 90,
    "start_time": "2022-08-25T14:52:24.118Z"
   },
   {
    "duration": 7,
    "start_time": "2022-08-25T14:52:24.298Z"
   },
   {
    "duration": 91,
    "start_time": "2022-08-25T14:52:24.307Z"
   },
   {
    "duration": 4,
    "start_time": "2022-08-25T14:52:24.401Z"
   },
   {
    "duration": 115,
    "start_time": "2022-08-25T14:52:24.406Z"
   },
   {
    "duration": 1214,
    "start_time": "2022-08-25T14:52:24.523Z"
   },
   {
    "duration": 1123,
    "start_time": "2022-08-25T14:52:25.739Z"
   },
   {
    "duration": 1094,
    "start_time": "2022-08-25T14:52:26.864Z"
   },
   {
    "duration": 1256,
    "start_time": "2022-08-25T14:55:48.374Z"
   },
   {
    "duration": 342,
    "start_time": "2022-08-25T14:55:49.632Z"
   },
   {
    "duration": 5,
    "start_time": "2022-08-25T14:55:49.976Z"
   },
   {
    "duration": 18,
    "start_time": "2022-08-25T14:55:49.983Z"
   },
   {
    "duration": 13,
    "start_time": "2022-08-25T14:55:50.002Z"
   },
   {
    "duration": 39,
    "start_time": "2022-08-25T14:55:50.016Z"
   },
   {
    "duration": 58,
    "start_time": "2022-08-25T14:55:50.057Z"
   },
   {
    "duration": 3,
    "start_time": "2022-08-25T14:55:50.117Z"
   },
   {
    "duration": 12,
    "start_time": "2022-08-25T14:55:50.121Z"
   },
   {
    "duration": 14,
    "start_time": "2022-08-25T14:55:50.135Z"
   },
   {
    "duration": 57,
    "start_time": "2022-08-25T14:55:50.151Z"
   },
   {
    "duration": 36,
    "start_time": "2022-08-25T14:55:50.209Z"
   },
   {
    "duration": 4,
    "start_time": "2022-08-25T14:55:50.247Z"
   },
   {
    "duration": 9,
    "start_time": "2022-08-25T14:55:50.253Z"
   },
   {
    "duration": 43,
    "start_time": "2022-08-25T14:55:50.263Z"
   },
   {
    "duration": 32,
    "start_time": "2022-08-25T14:55:50.308Z"
   },
   {
    "duration": 57,
    "start_time": "2022-08-25T14:55:50.342Z"
   },
   {
    "duration": 3,
    "start_time": "2022-08-25T14:55:50.401Z"
   },
   {
    "duration": 28,
    "start_time": "2022-08-25T14:55:50.406Z"
   },
   {
    "duration": 6,
    "start_time": "2022-08-25T14:55:50.436Z"
   },
   {
    "duration": 10,
    "start_time": "2022-08-25T14:55:50.444Z"
   },
   {
    "duration": 8,
    "start_time": "2022-08-25T14:55:50.456Z"
   },
   {
    "duration": 12,
    "start_time": "2022-08-25T14:55:50.465Z"
   },
   {
    "duration": 28,
    "start_time": "2022-08-25T14:55:50.478Z"
   },
   {
    "duration": 13,
    "start_time": "2022-08-25T14:55:50.508Z"
   },
   {
    "duration": 28,
    "start_time": "2022-08-25T14:55:50.522Z"
   },
   {
    "duration": 11,
    "start_time": "2022-08-25T14:55:50.551Z"
   },
   {
    "duration": 12,
    "start_time": "2022-08-25T14:55:50.565Z"
   },
   {
    "duration": 25,
    "start_time": "2022-08-25T14:55:50.578Z"
   },
   {
    "duration": 193,
    "start_time": "2022-08-25T14:55:50.606Z"
   },
   {
    "duration": 5,
    "start_time": "2022-08-25T14:55:50.801Z"
   },
   {
    "duration": 100,
    "start_time": "2022-08-25T14:55:50.808Z"
   },
   {
    "duration": 6,
    "start_time": "2022-08-25T14:55:50.999Z"
   },
   {
    "duration": 98,
    "start_time": "2022-08-25T14:55:51.006Z"
   },
   {
    "duration": 93,
    "start_time": "2022-08-25T14:55:51.107Z"
   },
   {
    "duration": 7,
    "start_time": "2022-08-25T14:55:51.201Z"
   },
   {
    "duration": 1282,
    "start_time": "2022-08-25T14:55:51.210Z"
   },
   {
    "duration": 1268,
    "start_time": "2022-08-25T14:55:52.493Z"
   },
   {
    "duration": 1329,
    "start_time": "2022-08-25T14:55:53.763Z"
   },
   {
    "duration": 861,
    "start_time": "2022-08-25T15:01:44.403Z"
   },
   {
    "duration": 195,
    "start_time": "2022-08-25T15:06:11.878Z"
   },
   {
    "duration": 103,
    "start_time": "2022-08-25T15:09:36.457Z"
   },
   {
    "duration": 1267,
    "start_time": "2022-08-25T15:10:28.983Z"
   },
   {
    "duration": 333,
    "start_time": "2022-08-25T15:10:30.251Z"
   },
   {
    "duration": 6,
    "start_time": "2022-08-25T15:10:30.586Z"
   },
   {
    "duration": 47,
    "start_time": "2022-08-25T15:10:30.597Z"
   },
   {
    "duration": 61,
    "start_time": "2022-08-25T15:10:30.646Z"
   },
   {
    "duration": 58,
    "start_time": "2022-08-25T15:10:30.709Z"
   },
   {
    "duration": 41,
    "start_time": "2022-08-25T15:10:30.768Z"
   },
   {
    "duration": 28,
    "start_time": "2022-08-25T15:10:30.810Z"
   },
   {
    "duration": 36,
    "start_time": "2022-08-25T15:10:30.840Z"
   },
   {
    "duration": 21,
    "start_time": "2022-08-25T15:10:30.879Z"
   },
   {
    "duration": 39,
    "start_time": "2022-08-25T15:10:30.901Z"
   },
   {
    "duration": 34,
    "start_time": "2022-08-25T15:10:30.942Z"
   },
   {
    "duration": 3,
    "start_time": "2022-08-25T15:10:30.978Z"
   },
   {
    "duration": 20,
    "start_time": "2022-08-25T15:10:30.982Z"
   },
   {
    "duration": 32,
    "start_time": "2022-08-25T15:10:31.003Z"
   },
   {
    "duration": 34,
    "start_time": "2022-08-25T15:10:31.036Z"
   },
   {
    "duration": 40,
    "start_time": "2022-08-25T15:10:31.071Z"
   },
   {
    "duration": 45,
    "start_time": "2022-08-25T15:10:31.113Z"
   },
   {
    "duration": 21,
    "start_time": "2022-08-25T15:10:31.159Z"
   },
   {
    "duration": 16,
    "start_time": "2022-08-25T15:10:31.182Z"
   },
   {
    "duration": 23,
    "start_time": "2022-08-25T15:10:31.200Z"
   },
   {
    "duration": 16,
    "start_time": "2022-08-25T15:10:31.225Z"
   },
   {
    "duration": 11,
    "start_time": "2022-08-25T15:10:31.243Z"
   },
   {
    "duration": 15,
    "start_time": "2022-08-25T15:10:31.255Z"
   },
   {
    "duration": 20,
    "start_time": "2022-08-25T15:10:31.272Z"
   },
   {
    "duration": 15,
    "start_time": "2022-08-25T15:10:31.294Z"
   },
   {
    "duration": 2,
    "start_time": "2022-08-25T15:10:31.311Z"
   },
   {
    "duration": 13,
    "start_time": "2022-08-25T15:10:31.316Z"
   },
   {
    "duration": 9,
    "start_time": "2022-08-25T15:10:31.331Z"
   },
   {
    "duration": 166,
    "start_time": "2022-08-25T15:10:31.341Z"
   },
   {
    "duration": 6,
    "start_time": "2022-08-25T15:10:31.508Z"
   },
   {
    "duration": 89,
    "start_time": "2022-08-25T15:10:31.515Z"
   },
   {
    "duration": 104,
    "start_time": "2022-08-25T15:10:31.607Z"
   },
   {
    "duration": 88,
    "start_time": "2022-08-25T15:10:31.712Z"
   },
   {
    "duration": 98,
    "start_time": "2022-08-25T15:10:31.802Z"
   },
   {
    "duration": 11,
    "start_time": "2022-08-25T15:10:31.901Z"
   },
   {
    "duration": 1268,
    "start_time": "2022-08-25T15:10:31.914Z"
   },
   {
    "duration": 1222,
    "start_time": "2022-08-25T15:10:33.183Z"
   },
   {
    "duration": 1276,
    "start_time": "2022-08-25T15:10:34.407Z"
   },
   {
    "duration": 63,
    "start_time": "2022-08-25T15:12:24.574Z"
   },
   {
    "duration": 1404,
    "start_time": "2022-08-27T18:34:26.315Z"
   },
   {
    "duration": 813,
    "start_time": "2022-08-27T18:34:27.721Z"
   },
   {
    "duration": 5,
    "start_time": "2022-08-27T18:34:28.536Z"
   },
   {
    "duration": 11,
    "start_time": "2022-08-27T18:34:28.543Z"
   },
   {
    "duration": 13,
    "start_time": "2022-08-27T18:34:28.555Z"
   },
   {
    "duration": 45,
    "start_time": "2022-08-27T18:34:28.569Z"
   },
   {
    "duration": 37,
    "start_time": "2022-08-27T18:34:28.615Z"
   },
   {
    "duration": 3,
    "start_time": "2022-08-27T18:34:28.654Z"
   },
   {
    "duration": 17,
    "start_time": "2022-08-27T18:34:28.658Z"
   },
   {
    "duration": 29,
    "start_time": "2022-08-27T18:34:28.677Z"
   },
   {
    "duration": 31,
    "start_time": "2022-08-27T18:34:28.707Z"
   },
   {
    "duration": 33,
    "start_time": "2022-08-27T18:34:28.740Z"
   },
   {
    "duration": 3,
    "start_time": "2022-08-27T18:34:28.775Z"
   },
   {
    "duration": 27,
    "start_time": "2022-08-27T18:34:28.779Z"
   },
   {
    "duration": 14,
    "start_time": "2022-08-27T18:34:28.807Z"
   },
   {
    "duration": 31,
    "start_time": "2022-08-27T18:34:28.822Z"
   },
   {
    "duration": 59,
    "start_time": "2022-08-27T18:34:28.855Z"
   },
   {
    "duration": 5,
    "start_time": "2022-08-27T18:34:28.916Z"
   },
   {
    "duration": 9,
    "start_time": "2022-08-27T18:34:28.922Z"
   },
   {
    "duration": 9,
    "start_time": "2022-08-27T18:34:28.933Z"
   },
   {
    "duration": 8,
    "start_time": "2022-08-27T18:34:28.943Z"
   },
   {
    "duration": 7,
    "start_time": "2022-08-27T18:34:28.953Z"
   },
   {
    "duration": 9,
    "start_time": "2022-08-27T18:34:28.961Z"
   },
   {
    "duration": 36,
    "start_time": "2022-08-27T18:34:28.971Z"
   },
   {
    "duration": 27,
    "start_time": "2022-08-27T18:34:29.008Z"
   },
   {
    "duration": 13,
    "start_time": "2022-08-27T18:34:29.037Z"
   },
   {
    "duration": 3,
    "start_time": "2022-08-27T18:34:29.051Z"
   },
   {
    "duration": 15,
    "start_time": "2022-08-27T18:34:29.057Z"
   },
   {
    "duration": 32,
    "start_time": "2022-08-27T18:34:29.073Z"
   },
   {
    "duration": 108,
    "start_time": "2022-08-27T18:34:29.107Z"
   },
   {
    "duration": 84,
    "start_time": "2022-08-27T18:34:29.216Z"
   },
   {
    "duration": 107,
    "start_time": "2022-08-27T18:34:29.302Z"
   },
   {
    "duration": 5,
    "start_time": "2022-08-27T18:34:29.411Z"
   },
   {
    "duration": 183,
    "start_time": "2022-08-27T18:34:29.418Z"
   },
   {
    "duration": 4,
    "start_time": "2022-08-27T18:34:29.603Z"
   },
   {
    "duration": 9,
    "start_time": "2022-08-27T18:34:29.609Z"
   },
   {
    "duration": 991,
    "start_time": "2022-08-27T18:34:29.619Z"
   },
   {
    "duration": 959,
    "start_time": "2022-08-27T18:34:30.612Z"
   },
   {
    "duration": 955,
    "start_time": "2022-08-27T18:34:31.573Z"
   }
  ],
  "kernelspec": {
   "display_name": "Python 3 (ipykernel)",
   "language": "python",
   "name": "python3"
  },
  "language_info": {
   "codemirror_mode": {
    "name": "ipython",
    "version": 3
   },
   "file_extension": ".py",
   "mimetype": "text/x-python",
   "name": "python",
   "nbconvert_exporter": "python",
   "pygments_lexer": "ipython3",
   "version": "3.9.7"
  },
  "toc": {
   "base_numbering": 1,
   "nav_menu": {},
   "number_sections": true,
   "sideBar": true,
   "skip_h1_title": true,
   "title_cell": "Table of Contents",
   "title_sidebar": "Contents",
   "toc_cell": false,
   "toc_position": {},
   "toc_section_display": true,
   "toc_window_display": false
  }
 },
 "nbformat": 4,
 "nbformat_minor": 2
}
