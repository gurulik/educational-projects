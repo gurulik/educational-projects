{
 "cells": [
  {
   "cell_type": "markdown",
   "metadata": {},
   "source": [
    "# Apartment sales research\n",
    "\n",
    "Data — the archive of ads for the sale of apartments in St. Petersburg and neighboring settlements for several years. \n",
    "There are two types of data available for each apartment for sale. The first ones are entered by the user, the second ones are obtained automatically based on cartographic data. For example, the distance to the center, the airport, the nearest park and reservoir."
   ]
  },
  {
   "cell_type": "markdown",
   "metadata": {},
   "source": [
    "## Examining data from a file"
   ]
  },
  {
   "cell_type": "markdown",
   "metadata": {},
   "source": [
    "The aim of this study is to analyze the archive of ads for the sale of apartments in St. Petersburg and neighboring settlements for several years in order to determine the parameters that affect the market value of real estate objects, which will serve to build an automated system that detects anomalies and fraudulent activity. To do this, it is necessary to solve the following tasks:\n",
    "    \n",
    "1) study the data and their specifics;\n",
    "    \n",
    "2) carry out their preliminary processing so that the results of the analysis reflect real patterns, and not distorted due to the presence of inaccuracies or errors in the data;\n",
    "    \n",
    "3) conducting research data analysis;\n",
    "\n",
    "4) the design of the general conclusion of the study."
   ]
  },
  {
   "cell_type": "markdown",
   "metadata": {},
   "source": [
    "Open the table with the provided data to study it:"
   ]
  },
  {
   "cell_type": "code",
   "execution_count": 325,
   "metadata": {},
   "outputs": [
    {
     "data": {
      "text/html": [
       "<div>\n",
       "<style scoped>\n",
       "    .dataframe tbody tr th:only-of-type {\n",
       "        vertical-align: middle;\n",
       "    }\n",
       "\n",
       "    .dataframe tbody tr th {\n",
       "        vertical-align: top;\n",
       "    }\n",
       "\n",
       "    .dataframe thead th {\n",
       "        text-align: right;\n",
       "    }\n",
       "</style>\n",
       "<table border=\"1\" class=\"dataframe\">\n",
       "  <thead>\n",
       "    <tr style=\"text-align: right;\">\n",
       "      <th></th>\n",
       "      <th>total_images</th>\n",
       "      <th>last_price</th>\n",
       "      <th>total_area</th>\n",
       "      <th>first_day_exposition</th>\n",
       "      <th>rooms</th>\n",
       "      <th>ceiling_height</th>\n",
       "      <th>floors_total</th>\n",
       "      <th>living_area</th>\n",
       "      <th>floor</th>\n",
       "      <th>is_apartment</th>\n",
       "      <th>...</th>\n",
       "      <th>kitchen_area</th>\n",
       "      <th>balcony</th>\n",
       "      <th>locality_name</th>\n",
       "      <th>airports_nearest</th>\n",
       "      <th>cityCenters_nearest</th>\n",
       "      <th>parks_around3000</th>\n",
       "      <th>parks_nearest</th>\n",
       "      <th>ponds_around3000</th>\n",
       "      <th>ponds_nearest</th>\n",
       "      <th>days_exposition</th>\n",
       "    </tr>\n",
       "  </thead>\n",
       "  <tbody>\n",
       "    <tr>\n",
       "      <th>0</th>\n",
       "      <td>20</td>\n",
       "      <td>13000000.0</td>\n",
       "      <td>108.0</td>\n",
       "      <td>2019-03-07T00:00:00</td>\n",
       "      <td>3</td>\n",
       "      <td>2.70</td>\n",
       "      <td>16.0</td>\n",
       "      <td>51.0</td>\n",
       "      <td>8</td>\n",
       "      <td>NaN</td>\n",
       "      <td>...</td>\n",
       "      <td>25.0</td>\n",
       "      <td>NaN</td>\n",
       "      <td>Санкт-Петербург</td>\n",
       "      <td>18863.0</td>\n",
       "      <td>16028.0</td>\n",
       "      <td>1.0</td>\n",
       "      <td>482.0</td>\n",
       "      <td>2.0</td>\n",
       "      <td>755.0</td>\n",
       "      <td>NaN</td>\n",
       "    </tr>\n",
       "    <tr>\n",
       "      <th>1</th>\n",
       "      <td>7</td>\n",
       "      <td>3350000.0</td>\n",
       "      <td>40.4</td>\n",
       "      <td>2018-12-04T00:00:00</td>\n",
       "      <td>1</td>\n",
       "      <td>NaN</td>\n",
       "      <td>11.0</td>\n",
       "      <td>18.6</td>\n",
       "      <td>1</td>\n",
       "      <td>NaN</td>\n",
       "      <td>...</td>\n",
       "      <td>11.0</td>\n",
       "      <td>2.0</td>\n",
       "      <td>посёлок Шушары</td>\n",
       "      <td>12817.0</td>\n",
       "      <td>18603.0</td>\n",
       "      <td>0.0</td>\n",
       "      <td>NaN</td>\n",
       "      <td>0.0</td>\n",
       "      <td>NaN</td>\n",
       "      <td>81.0</td>\n",
       "    </tr>\n",
       "    <tr>\n",
       "      <th>2</th>\n",
       "      <td>10</td>\n",
       "      <td>5196000.0</td>\n",
       "      <td>56.0</td>\n",
       "      <td>2015-08-20T00:00:00</td>\n",
       "      <td>2</td>\n",
       "      <td>NaN</td>\n",
       "      <td>5.0</td>\n",
       "      <td>34.3</td>\n",
       "      <td>4</td>\n",
       "      <td>NaN</td>\n",
       "      <td>...</td>\n",
       "      <td>8.3</td>\n",
       "      <td>0.0</td>\n",
       "      <td>Санкт-Петербург</td>\n",
       "      <td>21741.0</td>\n",
       "      <td>13933.0</td>\n",
       "      <td>1.0</td>\n",
       "      <td>90.0</td>\n",
       "      <td>2.0</td>\n",
       "      <td>574.0</td>\n",
       "      <td>558.0</td>\n",
       "    </tr>\n",
       "    <tr>\n",
       "      <th>3</th>\n",
       "      <td>0</td>\n",
       "      <td>64900000.0</td>\n",
       "      <td>159.0</td>\n",
       "      <td>2015-07-24T00:00:00</td>\n",
       "      <td>3</td>\n",
       "      <td>NaN</td>\n",
       "      <td>14.0</td>\n",
       "      <td>NaN</td>\n",
       "      <td>9</td>\n",
       "      <td>NaN</td>\n",
       "      <td>...</td>\n",
       "      <td>NaN</td>\n",
       "      <td>0.0</td>\n",
       "      <td>Санкт-Петербург</td>\n",
       "      <td>28098.0</td>\n",
       "      <td>6800.0</td>\n",
       "      <td>2.0</td>\n",
       "      <td>84.0</td>\n",
       "      <td>3.0</td>\n",
       "      <td>234.0</td>\n",
       "      <td>424.0</td>\n",
       "    </tr>\n",
       "    <tr>\n",
       "      <th>4</th>\n",
       "      <td>2</td>\n",
       "      <td>10000000.0</td>\n",
       "      <td>100.0</td>\n",
       "      <td>2018-06-19T00:00:00</td>\n",
       "      <td>2</td>\n",
       "      <td>3.03</td>\n",
       "      <td>14.0</td>\n",
       "      <td>32.0</td>\n",
       "      <td>13</td>\n",
       "      <td>NaN</td>\n",
       "      <td>...</td>\n",
       "      <td>41.0</td>\n",
       "      <td>NaN</td>\n",
       "      <td>Санкт-Петербург</td>\n",
       "      <td>31856.0</td>\n",
       "      <td>8098.0</td>\n",
       "      <td>2.0</td>\n",
       "      <td>112.0</td>\n",
       "      <td>1.0</td>\n",
       "      <td>48.0</td>\n",
       "      <td>121.0</td>\n",
       "    </tr>\n",
       "  </tbody>\n",
       "</table>\n",
       "<p>5 rows × 22 columns</p>\n",
       "</div>"
      ],
      "text/plain": [
       "   total_images  last_price  total_area first_day_exposition  rooms  \\\n",
       "0            20  13000000.0       108.0  2019-03-07T00:00:00      3   \n",
       "1             7   3350000.0        40.4  2018-12-04T00:00:00      1   \n",
       "2            10   5196000.0        56.0  2015-08-20T00:00:00      2   \n",
       "3             0  64900000.0       159.0  2015-07-24T00:00:00      3   \n",
       "4             2  10000000.0       100.0  2018-06-19T00:00:00      2   \n",
       "\n",
       "   ceiling_height  floors_total  living_area  floor is_apartment  ...  \\\n",
       "0            2.70          16.0         51.0      8          NaN  ...   \n",
       "1             NaN          11.0         18.6      1          NaN  ...   \n",
       "2             NaN           5.0         34.3      4          NaN  ...   \n",
       "3             NaN          14.0          NaN      9          NaN  ...   \n",
       "4            3.03          14.0         32.0     13          NaN  ...   \n",
       "\n",
       "   kitchen_area  balcony    locality_name  airports_nearest  \\\n",
       "0          25.0      NaN  Санкт-Петербург           18863.0   \n",
       "1          11.0      2.0   посёлок Шушары           12817.0   \n",
       "2           8.3      0.0  Санкт-Петербург           21741.0   \n",
       "3           NaN      0.0  Санкт-Петербург           28098.0   \n",
       "4          41.0      NaN  Санкт-Петербург           31856.0   \n",
       "\n",
       "  cityCenters_nearest  parks_around3000  parks_nearest  ponds_around3000  \\\n",
       "0             16028.0               1.0          482.0               2.0   \n",
       "1             18603.0               0.0            NaN               0.0   \n",
       "2             13933.0               1.0           90.0               2.0   \n",
       "3              6800.0               2.0           84.0               3.0   \n",
       "4              8098.0               2.0          112.0               1.0   \n",
       "\n",
       "   ponds_nearest  days_exposition  \n",
       "0          755.0              NaN  \n",
       "1            NaN             81.0  \n",
       "2          574.0            558.0  \n",
       "3          234.0            424.0  \n",
       "4           48.0            121.0  \n",
       "\n",
       "[5 rows x 22 columns]"
      ]
     },
     "execution_count": 325,
     "metadata": {},
     "output_type": "execute_result"
    }
   ],
   "source": [
    "import pandas as pd\n",
    "import matplotlib.pyplot as plt\n",
    "data = pd.read_csv('/Users/a1/Desktop/data_folder/real_estate_data.csv', sep='\\t')\n",
    "data.head()"
   ]
  },
  {
   "cell_type": "code",
   "execution_count": 326,
   "metadata": {
    "scrolled": true
   },
   "outputs": [
    {
     "name": "stdout",
     "output_type": "stream",
     "text": [
      "<class 'pandas.core.frame.DataFrame'>\n",
      "RangeIndex: 23699 entries, 0 to 23698\n",
      "Data columns (total 22 columns):\n",
      " #   Column                Non-Null Count  Dtype  \n",
      "---  ------                --------------  -----  \n",
      " 0   total_images          23699 non-null  int64  \n",
      " 1   last_price            23699 non-null  float64\n",
      " 2   total_area            23699 non-null  float64\n",
      " 3   first_day_exposition  23699 non-null  object \n",
      " 4   rooms                 23699 non-null  int64  \n",
      " 5   ceiling_height        14504 non-null  float64\n",
      " 6   floors_total          23613 non-null  float64\n",
      " 7   living_area           21796 non-null  float64\n",
      " 8   floor                 23699 non-null  int64  \n",
      " 9   is_apartment          2775 non-null   object \n",
      " 10  studio                23699 non-null  bool   \n",
      " 11  open_plan             23699 non-null  bool   \n",
      " 12  kitchen_area          21421 non-null  float64\n",
      " 13  balcony               12180 non-null  float64\n",
      " 14  locality_name         23650 non-null  object \n",
      " 15  airports_nearest      18157 non-null  float64\n",
      " 16  cityCenters_nearest   18180 non-null  float64\n",
      " 17  parks_around3000      18181 non-null  float64\n",
      " 18  parks_nearest         8079 non-null   float64\n",
      " 19  ponds_around3000      18181 non-null  float64\n",
      " 20  ponds_nearest         9110 non-null   float64\n",
      " 21  days_exposition       20518 non-null  float64\n",
      "dtypes: bool(2), float64(14), int64(3), object(3)\n",
      "memory usage: 3.7+ MB\n"
     ]
    }
   ],
   "source": [
    "data.info()"
   ]
  },
  {
   "cell_type": "markdown",
   "metadata": {},
   "source": [
    "### Preliminary conclusion"
   ]
  },
  {
   "cell_type": "markdown",
   "metadata": {},
   "source": [
    "Based on the initial acquaintance with the data, it follows that:\n",
    "* the table contains 22 columns;\n",
    "* the maximum number of filled rows is 23699 records;\n",
    "* some of the columns contain data gaps, namely columns with names: ceiling_height, floors_total, living_area, is_apartment, kitchen_area, balcony, locality_name, airports_nearest, cityCenters_nearest, parks_around3000, parks_nearest, ponds_around3000, ponds_nearest, days_exposition;\n",
    "* incorrect data types;\n",
    "* incorrect column names."
   ]
  },
  {
   "cell_type": "markdown",
   "metadata": {},
   "source": [
    "## Data preprocessing"
   ]
  },
  {
   "cell_type": "markdown",
   "metadata": {},
   "source": [
    "### Let's estimate the proportion of missing values for each column:"
   ]
  },
  {
   "cell_type": "code",
   "execution_count": 327,
   "metadata": {},
   "outputs": [
    {
     "data": {
      "text/plain": [
       "total_images             0.000000\n",
       "last_price               0.000000\n",
       "total_area               0.000000\n",
       "first_day_exposition     0.000000\n",
       "rooms                    0.000000\n",
       "ceiling_height          38.799105\n",
       "floors_total             0.362885\n",
       "living_area              8.029875\n",
       "floor                    0.000000\n",
       "is_apartment            88.290645\n",
       "studio                   0.000000\n",
       "open_plan                0.000000\n",
       "kitchen_area             9.612220\n",
       "balcony                 48.605426\n",
       "locality_name            0.206760\n",
       "airports_nearest        23.384953\n",
       "cityCenters_nearest     23.287902\n",
       "parks_around3000        23.283683\n",
       "parks_nearest           65.909954\n",
       "ponds_around3000        23.283683\n",
       "ponds_nearest           61.559559\n",
       "days_exposition         13.422507\n",
       "dtype: float64"
      ]
     },
     "execution_count": 327,
     "metadata": {},
     "output_type": "execute_result"
    }
   ],
   "source": [
    "100 * data.isna().mean()"
   ]
  },
  {
   "cell_type": "markdown",
   "metadata": {},
   "source": [
    "### Let's examine the value of each column separately:"
   ]
  },
  {
   "cell_type": "markdown",
   "metadata": {},
   "source": [
    "Start with missing values in the column balcony."
   ]
  },
  {
   "cell_type": "code",
   "execution_count": 328,
   "metadata": {},
   "outputs": [
    {
     "data": {
      "text/plain": [
       "array([nan,  2.,  0.,  1.,  5.,  4.,  3.])"
      ]
     },
     "execution_count": 328,
     "metadata": {},
     "output_type": "execute_result"
    }
   ],
   "source": [
    "data['balcony'].unique()"
   ]
  },
  {
   "cell_type": "markdown",
   "metadata": {},
   "source": [
    "Based on the resulting output of unique values, it can be assumed that the existing omissions are due to the human factor and imply a value of 0. It is also necessary to replace the type of data values in this column from the float type to the int type.\n",
    "Let's fix it:"
   ]
  },
  {
   "cell_type": "code",
   "execution_count": 329,
   "metadata": {},
   "outputs": [
    {
     "name": "stdout",
     "output_type": "stream",
     "text": [
      "<class 'pandas.core.frame.DataFrame'>\n",
      "RangeIndex: 23699 entries, 0 to 23698\n",
      "Data columns (total 22 columns):\n",
      " #   Column                Non-Null Count  Dtype  \n",
      "---  ------                --------------  -----  \n",
      " 0   total_images          23699 non-null  int64  \n",
      " 1   last_price            23699 non-null  float64\n",
      " 2   total_area            23699 non-null  float64\n",
      " 3   first_day_exposition  23699 non-null  object \n",
      " 4   rooms                 23699 non-null  int64  \n",
      " 5   ceiling_height        14504 non-null  float64\n",
      " 6   floors_total          23613 non-null  float64\n",
      " 7   living_area           21796 non-null  float64\n",
      " 8   floor                 23699 non-null  int64  \n",
      " 9   is_apartment          2775 non-null   object \n",
      " 10  studio                23699 non-null  bool   \n",
      " 11  open_plan             23699 non-null  bool   \n",
      " 12  kitchen_area          21421 non-null  float64\n",
      " 13  balcony               23699 non-null  int64  \n",
      " 14  locality_name         23650 non-null  object \n",
      " 15  airports_nearest      18157 non-null  float64\n",
      " 16  cityCenters_nearest   18180 non-null  float64\n",
      " 17  parks_around3000      18181 non-null  float64\n",
      " 18  parks_nearest         8079 non-null   float64\n",
      " 19  ponds_around3000      18181 non-null  float64\n",
      " 20  ponds_nearest         9110 non-null   float64\n",
      " 21  days_exposition       20518 non-null  float64\n",
      "dtypes: bool(2), float64(13), int64(4), object(3)\n",
      "memory usage: 3.7+ MB\n"
     ]
    }
   ],
   "source": [
    "data['balcony'] = data['balcony'].fillna(0)\n",
    "data['balcony'] = data['balcony'].astype('int')\n",
    "data.info()"
   ]
  },
  {
   "cell_type": "markdown",
   "metadata": {},
   "source": [
    "Let's change the incorrect name of the cityCenters_nearest column to the corresponding \"clean\" style:"
   ]
  },
  {
   "cell_type": "code",
   "execution_count": 330,
   "metadata": {},
   "outputs": [
    {
     "name": "stdout",
     "output_type": "stream",
     "text": [
      "<class 'pandas.core.frame.DataFrame'>\n",
      "RangeIndex: 23699 entries, 0 to 23698\n",
      "Data columns (total 22 columns):\n",
      " #   Column                Non-Null Count  Dtype  \n",
      "---  ------                --------------  -----  \n",
      " 0   total_images          23699 non-null  int64  \n",
      " 1   last_price            23699 non-null  float64\n",
      " 2   total_area            23699 non-null  float64\n",
      " 3   first_day_exposition  23699 non-null  object \n",
      " 4   rooms                 23699 non-null  int64  \n",
      " 5   ceiling_height        14504 non-null  float64\n",
      " 6   floors_total          23613 non-null  float64\n",
      " 7   living_area           21796 non-null  float64\n",
      " 8   floor                 23699 non-null  int64  \n",
      " 9   is_apartment          2775 non-null   object \n",
      " 10  studio                23699 non-null  bool   \n",
      " 11  open_plan             23699 non-null  bool   \n",
      " 12  kitchen_area          21421 non-null  float64\n",
      " 13  balcony               23699 non-null  int64  \n",
      " 14  locality_name         23650 non-null  object \n",
      " 15  airports_nearest      18157 non-null  float64\n",
      " 16  city_centers_nearest  18180 non-null  float64\n",
      " 17  parks_around3000      18181 non-null  float64\n",
      " 18  parks_nearest         8079 non-null   float64\n",
      " 19  ponds_around3000      18181 non-null  float64\n",
      " 20  ponds_nearest         9110 non-null   float64\n",
      " 21  days_exposition       20518 non-null  float64\n",
      "dtypes: bool(2), float64(13), int64(4), object(3)\n",
      "memory usage: 3.7+ MB\n"
     ]
    }
   ],
   "source": [
    "data.rename(columns = {'cityCenters_nearest' : 'city_centers_nearest'}, inplace = True)\n",
    "data.info()"
   ]
  },
  {
   "cell_type": "markdown",
   "metadata": {},
   "source": [
    "The is_apartment column has the most omissions, the percentage of omissions is 88%. Let's study the values of this column:"
   ]
  },
  {
   "cell_type": "code",
   "execution_count": 331,
   "metadata": {},
   "outputs": [
    {
     "data": {
      "text/plain": [
       "array([nan, False, True], dtype=object)"
      ]
     },
     "execution_count": 331,
     "metadata": {},
     "output_type": "execute_result"
    }
   ],
   "source": [
    "data['is_apartment'].unique()"
   ]
  },
  {
   "cell_type": "markdown",
   "metadata": {},
   "source": [
    "Perhaps the lack of data is either a human factor (people do not additionally note the type of real estate, if it is not), or a temporary consequence, apartments as a type of housing appeared massively relatively recently. Therefore, we will replace the missing values with False:"
   ]
  },
  {
   "cell_type": "code",
   "execution_count": 332,
   "metadata": {
    "scrolled": true
   },
   "outputs": [
    {
     "name": "stdout",
     "output_type": "stream",
     "text": [
      "<class 'pandas.core.frame.DataFrame'>\n",
      "RangeIndex: 23699 entries, 0 to 23698\n",
      "Data columns (total 22 columns):\n",
      " #   Column                Non-Null Count  Dtype  \n",
      "---  ------                --------------  -----  \n",
      " 0   total_images          23699 non-null  int64  \n",
      " 1   last_price            23699 non-null  float64\n",
      " 2   total_area            23699 non-null  float64\n",
      " 3   first_day_exposition  23699 non-null  object \n",
      " 4   rooms                 23699 non-null  int64  \n",
      " 5   ceiling_height        14504 non-null  float64\n",
      " 6   floors_total          23613 non-null  float64\n",
      " 7   living_area           21796 non-null  float64\n",
      " 8   floor                 23699 non-null  int64  \n",
      " 9   is_apartment          23699 non-null  bool   \n",
      " 10  studio                23699 non-null  bool   \n",
      " 11  open_plan             23699 non-null  bool   \n",
      " 12  kitchen_area          21421 non-null  float64\n",
      " 13  balcony               23699 non-null  int64  \n",
      " 14  locality_name         23650 non-null  object \n",
      " 15  airports_nearest      18157 non-null  float64\n",
      " 16  city_centers_nearest  18180 non-null  float64\n",
      " 17  parks_around3000      18181 non-null  float64\n",
      " 18  parks_nearest         8079 non-null   float64\n",
      " 19  ponds_around3000      18181 non-null  float64\n",
      " 20  ponds_nearest         9110 non-null   float64\n",
      " 21  days_exposition       20518 non-null  float64\n",
      "dtypes: bool(3), float64(13), int64(4), object(2)\n",
      "memory usage: 3.5+ MB\n"
     ]
    }
   ],
   "source": [
    "data['is_apartment'] = data['is_apartment'].fillna(False)\n",
    "data.info()"
   ]
  },
  {
   "cell_type": "markdown",
   "metadata": {},
   "source": [
    "Let's put the value of the first_day_exposition column in a correct format:"
   ]
  },
  {
   "cell_type": "code",
   "execution_count": 333,
   "metadata": {},
   "outputs": [
    {
     "data": {
      "text/html": [
       "<div>\n",
       "<style scoped>\n",
       "    .dataframe tbody tr th:only-of-type {\n",
       "        vertical-align: middle;\n",
       "    }\n",
       "\n",
       "    .dataframe tbody tr th {\n",
       "        vertical-align: top;\n",
       "    }\n",
       "\n",
       "    .dataframe thead th {\n",
       "        text-align: right;\n",
       "    }\n",
       "</style>\n",
       "<table border=\"1\" class=\"dataframe\">\n",
       "  <thead>\n",
       "    <tr style=\"text-align: right;\">\n",
       "      <th></th>\n",
       "      <th>total_images</th>\n",
       "      <th>last_price</th>\n",
       "      <th>total_area</th>\n",
       "      <th>first_day_exposition</th>\n",
       "      <th>rooms</th>\n",
       "      <th>ceiling_height</th>\n",
       "      <th>floors_total</th>\n",
       "      <th>living_area</th>\n",
       "      <th>floor</th>\n",
       "      <th>is_apartment</th>\n",
       "      <th>...</th>\n",
       "      <th>kitchen_area</th>\n",
       "      <th>balcony</th>\n",
       "      <th>locality_name</th>\n",
       "      <th>airports_nearest</th>\n",
       "      <th>city_centers_nearest</th>\n",
       "      <th>parks_around3000</th>\n",
       "      <th>parks_nearest</th>\n",
       "      <th>ponds_around3000</th>\n",
       "      <th>ponds_nearest</th>\n",
       "      <th>days_exposition</th>\n",
       "    </tr>\n",
       "  </thead>\n",
       "  <tbody>\n",
       "    <tr>\n",
       "      <th>0</th>\n",
       "      <td>20</td>\n",
       "      <td>13000000.0</td>\n",
       "      <td>108.0</td>\n",
       "      <td>2019-03-07</td>\n",
       "      <td>3</td>\n",
       "      <td>2.70</td>\n",
       "      <td>16.0</td>\n",
       "      <td>51.0</td>\n",
       "      <td>8</td>\n",
       "      <td>False</td>\n",
       "      <td>...</td>\n",
       "      <td>25.0</td>\n",
       "      <td>0</td>\n",
       "      <td>Санкт-Петербург</td>\n",
       "      <td>18863.0</td>\n",
       "      <td>16028.0</td>\n",
       "      <td>1.0</td>\n",
       "      <td>482.0</td>\n",
       "      <td>2.0</td>\n",
       "      <td>755.0</td>\n",
       "      <td>NaN</td>\n",
       "    </tr>\n",
       "    <tr>\n",
       "      <th>1</th>\n",
       "      <td>7</td>\n",
       "      <td>3350000.0</td>\n",
       "      <td>40.4</td>\n",
       "      <td>2018-12-04</td>\n",
       "      <td>1</td>\n",
       "      <td>NaN</td>\n",
       "      <td>11.0</td>\n",
       "      <td>18.6</td>\n",
       "      <td>1</td>\n",
       "      <td>False</td>\n",
       "      <td>...</td>\n",
       "      <td>11.0</td>\n",
       "      <td>2</td>\n",
       "      <td>посёлок Шушары</td>\n",
       "      <td>12817.0</td>\n",
       "      <td>18603.0</td>\n",
       "      <td>0.0</td>\n",
       "      <td>NaN</td>\n",
       "      <td>0.0</td>\n",
       "      <td>NaN</td>\n",
       "      <td>81.0</td>\n",
       "    </tr>\n",
       "    <tr>\n",
       "      <th>2</th>\n",
       "      <td>10</td>\n",
       "      <td>5196000.0</td>\n",
       "      <td>56.0</td>\n",
       "      <td>2015-08-20</td>\n",
       "      <td>2</td>\n",
       "      <td>NaN</td>\n",
       "      <td>5.0</td>\n",
       "      <td>34.3</td>\n",
       "      <td>4</td>\n",
       "      <td>False</td>\n",
       "      <td>...</td>\n",
       "      <td>8.3</td>\n",
       "      <td>0</td>\n",
       "      <td>Санкт-Петербург</td>\n",
       "      <td>21741.0</td>\n",
       "      <td>13933.0</td>\n",
       "      <td>1.0</td>\n",
       "      <td>90.0</td>\n",
       "      <td>2.0</td>\n",
       "      <td>574.0</td>\n",
       "      <td>558.0</td>\n",
       "    </tr>\n",
       "    <tr>\n",
       "      <th>3</th>\n",
       "      <td>0</td>\n",
       "      <td>64900000.0</td>\n",
       "      <td>159.0</td>\n",
       "      <td>2015-07-24</td>\n",
       "      <td>3</td>\n",
       "      <td>NaN</td>\n",
       "      <td>14.0</td>\n",
       "      <td>NaN</td>\n",
       "      <td>9</td>\n",
       "      <td>False</td>\n",
       "      <td>...</td>\n",
       "      <td>NaN</td>\n",
       "      <td>0</td>\n",
       "      <td>Санкт-Петербург</td>\n",
       "      <td>28098.0</td>\n",
       "      <td>6800.0</td>\n",
       "      <td>2.0</td>\n",
       "      <td>84.0</td>\n",
       "      <td>3.0</td>\n",
       "      <td>234.0</td>\n",
       "      <td>424.0</td>\n",
       "    </tr>\n",
       "    <tr>\n",
       "      <th>4</th>\n",
       "      <td>2</td>\n",
       "      <td>10000000.0</td>\n",
       "      <td>100.0</td>\n",
       "      <td>2018-06-19</td>\n",
       "      <td>2</td>\n",
       "      <td>3.03</td>\n",
       "      <td>14.0</td>\n",
       "      <td>32.0</td>\n",
       "      <td>13</td>\n",
       "      <td>False</td>\n",
       "      <td>...</td>\n",
       "      <td>41.0</td>\n",
       "      <td>0</td>\n",
       "      <td>Санкт-Петербург</td>\n",
       "      <td>31856.0</td>\n",
       "      <td>8098.0</td>\n",
       "      <td>2.0</td>\n",
       "      <td>112.0</td>\n",
       "      <td>1.0</td>\n",
       "      <td>48.0</td>\n",
       "      <td>121.0</td>\n",
       "    </tr>\n",
       "  </tbody>\n",
       "</table>\n",
       "<p>5 rows × 22 columns</p>\n",
       "</div>"
      ],
      "text/plain": [
       "   total_images  last_price  total_area first_day_exposition  rooms  \\\n",
       "0            20  13000000.0       108.0           2019-03-07      3   \n",
       "1             7   3350000.0        40.4           2018-12-04      1   \n",
       "2            10   5196000.0        56.0           2015-08-20      2   \n",
       "3             0  64900000.0       159.0           2015-07-24      3   \n",
       "4             2  10000000.0       100.0           2018-06-19      2   \n",
       "\n",
       "   ceiling_height  floors_total  living_area  floor  is_apartment  ...  \\\n",
       "0            2.70          16.0         51.0      8         False  ...   \n",
       "1             NaN          11.0         18.6      1         False  ...   \n",
       "2             NaN           5.0         34.3      4         False  ...   \n",
       "3             NaN          14.0          NaN      9         False  ...   \n",
       "4            3.03          14.0         32.0     13         False  ...   \n",
       "\n",
       "   kitchen_area  balcony    locality_name  airports_nearest  \\\n",
       "0          25.0        0  Санкт-Петербург           18863.0   \n",
       "1          11.0        2   посёлок Шушары           12817.0   \n",
       "2           8.3        0  Санкт-Петербург           21741.0   \n",
       "3           NaN        0  Санкт-Петербург           28098.0   \n",
       "4          41.0        0  Санкт-Петербург           31856.0   \n",
       "\n",
       "  city_centers_nearest  parks_around3000  parks_nearest  ponds_around3000  \\\n",
       "0              16028.0               1.0          482.0               2.0   \n",
       "1              18603.0               0.0            NaN               0.0   \n",
       "2              13933.0               1.0           90.0               2.0   \n",
       "3               6800.0               2.0           84.0               3.0   \n",
       "4               8098.0               2.0          112.0               1.0   \n",
       "\n",
       "   ponds_nearest  days_exposition  \n",
       "0          755.0              NaN  \n",
       "1            NaN             81.0  \n",
       "2          574.0            558.0  \n",
       "3          234.0            424.0  \n",
       "4           48.0            121.0  \n",
       "\n",
       "[5 rows x 22 columns]"
      ]
     },
     "execution_count": 333,
     "metadata": {},
     "output_type": "execute_result"
    }
   ],
   "source": [
    "data['first_day_exposition'] = pd.to_datetime(data['first_day_exposition'], format='%Y-%m-%dT%H:%M:%S')\n",
    "data.head(5)"
   ]
  },
  {
   "cell_type": "markdown",
   "metadata": {},
   "source": [
    "The missing values in the floors_total and locality_name columns make up an insignificant fraction, so we will delete data with empty values from the table."
   ]
  },
  {
   "cell_type": "markdown",
   "metadata": {},
   "source": [
    "Study the value of column rooms:"
   ]
  },
  {
   "cell_type": "code",
   "execution_count": 334,
   "metadata": {},
   "outputs": [
    {
     "data": {
      "text/plain": [
       "1     8047\n",
       "2     7940\n",
       "3     5814\n",
       "4     1180\n",
       "5      326\n",
       "0      197\n",
       "6      105\n",
       "7       59\n",
       "8       12\n",
       "9        8\n",
       "10       3\n",
       "11       2\n",
       "14       2\n",
       "15       1\n",
       "19       1\n",
       "16       1\n",
       "12       1\n",
       "Name: rooms, dtype: int64"
      ]
     },
     "execution_count": 334,
     "metadata": {},
     "output_type": "execute_result"
    }
   ],
   "source": [
    "data['rooms'].value_counts()"
   ]
  },
  {
   "cell_type": "markdown",
   "metadata": {},
   "source": [
    "Define the proportion of 0 values in the column:"
   ]
  },
  {
   "cell_type": "code",
   "execution_count": 335,
   "metadata": {},
   "outputs": [
    {
     "name": "stdout",
     "output_type": "stream",
     "text": [
      "The percentage of missing values in the column days_employed: 0.8%\n"
     ]
    }
   ],
   "source": [
    "volume_0_rooms = 194 / len(data[\"rooms\"])\n",
    "print(\"The percentage of missing values in the column days_employed: {:.1%}\".format(volume_0_rooms))"
   ]
  },
  {
   "cell_type": "markdown",
   "metadata": {},
   "source": [
    "Since their percentage is insignificant, delete this data without harming the overall picture:"
   ]
  },
  {
   "cell_type": "code",
   "execution_count": 336,
   "metadata": {},
   "outputs": [
    {
     "name": "stdout",
     "output_type": "stream",
     "text": [
      "<class 'pandas.core.frame.DataFrame'>\n",
      "RangeIndex: 23502 entries, 0 to 23501\n",
      "Data columns (total 22 columns):\n",
      " #   Column                Non-Null Count  Dtype         \n",
      "---  ------                --------------  -----         \n",
      " 0   total_images          23502 non-null  int64         \n",
      " 1   last_price            23502 non-null  float64       \n",
      " 2   total_area            23502 non-null  float64       \n",
      " 3   first_day_exposition  23502 non-null  datetime64[ns]\n",
      " 4   rooms                 23502 non-null  int64         \n",
      " 5   ceiling_height        14422 non-null  float64       \n",
      " 6   floors_total          23419 non-null  float64       \n",
      " 7   living_area           21613 non-null  float64       \n",
      " 8   floor                 23502 non-null  int64         \n",
      " 9   is_apartment          23502 non-null  bool          \n",
      " 10  studio                23502 non-null  bool          \n",
      " 11  open_plan             23502 non-null  bool          \n",
      " 12  kitchen_area          21421 non-null  float64       \n",
      " 13  balcony               23502 non-null  int64         \n",
      " 14  locality_name         23453 non-null  object        \n",
      " 15  airports_nearest      18039 non-null  float64       \n",
      " 16  city_centers_nearest  18062 non-null  float64       \n",
      " 17  parks_around3000      18063 non-null  float64       \n",
      " 18  parks_nearest         8050 non-null   float64       \n",
      " 19  ponds_around3000      18063 non-null  float64       \n",
      " 20  ponds_nearest         9041 non-null   float64       \n",
      " 21  days_exposition       20335 non-null  float64       \n",
      "dtypes: bool(3), datetime64[ns](1), float64(13), int64(4), object(1)\n",
      "memory usage: 3.5+ MB\n"
     ]
    }
   ],
   "source": [
    "data.drop(data[data['rooms'] == 0].index, inplace=True)\n",
    "\n",
    "data['rooms'].unique()\n",
    "data = data.reset_index(drop=True)\n",
    "data.info()"
   ]
  },
  {
   "cell_type": "markdown",
   "metadata": {},
   "source": [
    "Study the value of column total_images:"
   ]
  },
  {
   "cell_type": "code",
   "execution_count": 337,
   "metadata": {},
   "outputs": [
    {
     "data": {
      "text/plain": [
       "10    1787\n",
       "9     1717\n",
       "20    1690\n",
       "8     1566\n",
       "7     1500\n",
       "6     1474\n",
       "11    1354\n",
       "5     1278\n",
       "12    1216\n",
       "0     1044\n",
       "13    1008\n",
       "14     977\n",
       "4      972\n",
       "15     944\n",
       "1      864\n",
       "3      759\n",
       "16     758\n",
       "17     647\n",
       "18     637\n",
       "2      634\n",
       "19     602\n",
       "23      16\n",
       "21      11\n",
       "24       8\n",
       "22       8\n",
       "26       5\n",
       "32       4\n",
       "28       4\n",
       "50       3\n",
       "29       3\n",
       "27       2\n",
       "30       2\n",
       "35       2\n",
       "31       2\n",
       "42       1\n",
       "25       1\n",
       "39       1\n",
       "37       1\n",
       "Name: total_images, dtype: int64"
      ]
     },
     "execution_count": 337,
     "metadata": {},
     "output_type": "execute_result"
    }
   ],
   "source": [
    "data['total_images'].value_counts()"
   ]
  },
  {
   "cell_type": "code",
   "execution_count": 338,
   "metadata": {},
   "outputs": [
    {
     "name": "stdout",
     "output_type": "stream",
     "text": [
      "The percentage of missing values in the column rooms: 4.4%\n"
     ]
    }
   ],
   "source": [
    "volume_0_total_images = 1044 / len(data[\"total_images\"])\n",
    "print(\"The percentage of missing values in the column rooms: {:.1%}\".format(volume_0_total_images ))"
   ]
  },
  {
   "cell_type": "markdown",
   "metadata": {},
   "source": [
    "Since their percentage is less than 5%, we can delete this data without harming the overall picture:"
   ]
  },
  {
   "cell_type": "code",
   "execution_count": 339,
   "metadata": {},
   "outputs": [
    {
     "name": "stdout",
     "output_type": "stream",
     "text": [
      "<class 'pandas.core.frame.DataFrame'>\n",
      "RangeIndex: 22458 entries, 0 to 22457\n",
      "Data columns (total 22 columns):\n",
      " #   Column                Non-Null Count  Dtype         \n",
      "---  ------                --------------  -----         \n",
      " 0   total_images          22458 non-null  int64         \n",
      " 1   last_price            22458 non-null  float64       \n",
      " 2   total_area            22458 non-null  float64       \n",
      " 3   first_day_exposition  22458 non-null  datetime64[ns]\n",
      " 4   rooms                 22458 non-null  int64         \n",
      " 5   ceiling_height        13889 non-null  float64       \n",
      " 6   floors_total          22382 non-null  float64       \n",
      " 7   living_area           20720 non-null  float64       \n",
      " 8   floor                 22458 non-null  int64         \n",
      " 9   is_apartment          22458 non-null  bool          \n",
      " 10  studio                22458 non-null  bool          \n",
      " 11  open_plan             22458 non-null  bool          \n",
      " 12  kitchen_area          20549 non-null  float64       \n",
      " 13  balcony               22458 non-null  int64         \n",
      " 14  locality_name         22410 non-null  object        \n",
      " 15  airports_nearest      17238 non-null  float64       \n",
      " 16  city_centers_nearest  17259 non-null  float64       \n",
      " 17  parks_around3000      17260 non-null  float64       \n",
      " 18  parks_nearest         7724 non-null   float64       \n",
      " 19  ponds_around3000      17260 non-null  float64       \n",
      " 20  ponds_nearest         8670 non-null   float64       \n",
      " 21  days_exposition       19348 non-null  float64       \n",
      "dtypes: bool(3), datetime64[ns](1), float64(13), int64(4), object(1)\n",
      "memory usage: 3.3+ MB\n"
     ]
    }
   ],
   "source": [
    "data.drop(data[data['total_images'] == 0].index, inplace=True)\n",
    "\n",
    "data['total_images'].unique()\n",
    "data = data.reset_index(drop=True)\n",
    "data.info()"
   ]
  },
  {
   "cell_type": "markdown",
   "metadata": {},
   "source": [
    "Let's re-evaluate the proportion of missing values in the data:"
   ]
  },
  {
   "cell_type": "code",
   "execution_count": 340,
   "metadata": {},
   "outputs": [
    {
     "data": {
      "text/plain": [
       "total_images             0.000000\n",
       "last_price               0.000000\n",
       "total_area               0.000000\n",
       "first_day_exposition     0.000000\n",
       "rooms                    0.000000\n",
       "ceiling_height          38.155668\n",
       "floors_total             0.338409\n",
       "living_area              7.738890\n",
       "floor                    0.000000\n",
       "is_apartment             0.000000\n",
       "studio                   0.000000\n",
       "open_plan                0.000000\n",
       "kitchen_area             8.500312\n",
       "balcony                  0.000000\n",
       "locality_name            0.213732\n",
       "airports_nearest        23.243388\n",
       "city_centers_nearest    23.149880\n",
       "parks_around3000        23.145427\n",
       "parks_nearest           65.606911\n",
       "ponds_around3000        23.145427\n",
       "ponds_nearest           61.394603\n",
       "days_exposition         13.848072\n",
       "dtype: float64"
      ]
     },
     "execution_count": 340,
     "metadata": {},
     "output_type": "execute_result"
    }
   ],
   "source": [
    "100 * data.isna().mean()"
   ]
  },
  {
   "cell_type": "markdown",
   "metadata": {},
   "source": [
    "At the moment, there are still columns with a significant proportion of missing values, the impact of which is not obvious for the purposes of the study:\n",
    "* ceiling_height          38.155668\n",
    "* living_area              7.738890\n",
    "* kitchen_area             8.500312\n",
    "* airports_nearest        23.243388\n",
    "* city_сenters_nearest    23.149880\n",
    "* parks_around3000        23.145427\n",
    "* parks_nearest           65.606911\n",
    "* ponds_around3000        23.145427\n",
    "* ponds_nearest           61.394603\n",
    "* days_exposition         13.848072"
   ]
  },
  {
   "cell_type": "markdown",
   "metadata": {},
   "source": [
    "As a result of data preprocessing, the dataset was examined in detail for the presence of omissions. Based on the type of data, we can assume that the gaps in the columns balcony, is_apartment are most likely related to the human factor. These omissions were processed without harm to the data.  Minor omissions in the columns floors_total, locality_name, rooms, total_images were also eliminated. At the same time, there are still columns with a significant proportion of omissions, their processing will be postponed for now, because their impact on the purpose of the study is not obvious."
   ]
  },
  {
   "cell_type": "markdown",
   "metadata": {},
   "source": [
    "## Calculate and add to the table"
   ]
  },
  {
   "cell_type": "markdown",
   "metadata": {},
   "source": [
    "* price per square meter;\n",
    "* day of the week, month and year of publication of the announcement;\n",
    "* apartment floor; options — first, last, other;\n",
    "* the ratio of residential and total area, as well as the ratio of kitchen area to total."
   ]
  },
  {
   "cell_type": "markdown",
   "metadata": {},
   "source": [
    "Find a price per square meter:"
   ]
  },
  {
   "cell_type": "code",
   "execution_count": 341,
   "metadata": {},
   "outputs": [
    {
     "data": {
      "text/plain": [
       "array([120370,  82920,  92785, ...,  44091, 149511,  41795])"
      ]
     },
     "execution_count": 341,
     "metadata": {},
     "output_type": "execute_result"
    }
   ],
   "source": [
    "data['price_for_meter'] = data['last_price'] / data['total_area']\n",
    "data['price_for_meter'] = data['price_for_meter'].astype('int')\n",
    "data['price_for_meter'].unique()"
   ]
  },
  {
   "cell_type": "markdown",
   "metadata": {},
   "source": [
    "Find day of the week, month and year of publication of the announcement:"
   ]
  },
  {
   "cell_type": "code",
   "execution_count": 342,
   "metadata": {},
   "outputs": [],
   "source": [
    "data['weekday_exposition'] = data['first_day_exposition'].dt.weekday\n",
    "data['month_exposition'] = data['first_day_exposition'].dt.month\n",
    "data['year_exposition'] = data['first_day_exposition'].dt.year"
   ]
  },
  {
   "cell_type": "markdown",
   "metadata": {},
   "source": [
    "Find the floor of the apartment; options — first, last, other. To do this, we will create data categorization functions:"
   ]
  },
  {
   "cell_type": "markdown",
   "metadata": {},
   "source": [
    "First we need to prepare the data of the floor_total column to work with them:"
   ]
  },
  {
   "cell_type": "code",
   "execution_count": 343,
   "metadata": {},
   "outputs": [
    {
     "data": {
      "text/plain": [
       "76"
      ]
     },
     "execution_count": 343,
     "metadata": {},
     "output_type": "execute_result"
    }
   ],
   "source": [
    "data['floors_total'].isna().sum()"
   ]
  },
  {
   "cell_type": "code",
   "execution_count": 344,
   "metadata": {},
   "outputs": [
    {
     "name": "stdout",
     "output_type": "stream",
     "text": [
      "The percentage of missing values in the column floors_total: 0.3%\n"
     ]
    }
   ],
   "source": [
    "volume_nan_floors_total = 76 / len(data[\"floors_total\"])\n",
    "print(\"The percentage of missing values in the column floors_total: {:.1%}\".format(volume_nan_floors_total))"
   ]
  },
  {
   "cell_type": "markdown",
   "metadata": {},
   "source": [
    "Since their percentage is insignificant, we can delete this data without harming the overall picture:"
   ]
  },
  {
   "cell_type": "code",
   "execution_count": 345,
   "metadata": {},
   "outputs": [],
   "source": [
    "data = data.dropna(subset=['floors_total']) \n",
    "data['floors_total'].unique()\n",
    "data = data.reset_index(drop=True)\n",
    "data['floors_total'] = data['floors_total'].astype('int')"
   ]
  },
  {
   "cell_type": "code",
   "execution_count": 346,
   "metadata": {},
   "outputs": [],
   "source": [
    "def name_floor(row):\n",
    "    if row['floor'] == 1:\n",
    "        return 'first'\n",
    "    elif row['floor'] == row['floors_total']:\n",
    "        return 'last'\n",
    "    else:\n",
    "        return 'other'\n",
    "\n",
    "data['name_floor'] = data.apply(name_floor, axis = 1)"
   ]
  },
  {
   "cell_type": "markdown",
   "metadata": {},
   "source": [
    "We will find the ratio of residential and total area, as well as the ratio of the kitchen area to the total. To do this, we need to pre-process the gaps in the living_area and kitchen_area columns.\n",
    "We have three elements pointing to the area, in order to set 1 unknown element, it is necessary to identify the other two, so we will check the proportion of data in the table that contain gaps simultaneously in the columns living_area and kitchen_area."
   ]
  },
  {
   "cell_type": "code",
   "execution_count": 347,
   "metadata": {},
   "outputs": [
    {
     "data": {
      "text/html": [
       "<div>\n",
       "<style scoped>\n",
       "    .dataframe tbody tr th:only-of-type {\n",
       "        vertical-align: middle;\n",
       "    }\n",
       "\n",
       "    .dataframe tbody tr th {\n",
       "        vertical-align: top;\n",
       "    }\n",
       "\n",
       "    .dataframe thead th {\n",
       "        text-align: right;\n",
       "    }\n",
       "</style>\n",
       "<table border=\"1\" class=\"dataframe\">\n",
       "  <thead>\n",
       "    <tr style=\"text-align: right;\">\n",
       "      <th></th>\n",
       "      <th>total_images</th>\n",
       "      <th>last_price</th>\n",
       "      <th>total_area</th>\n",
       "      <th>first_day_exposition</th>\n",
       "      <th>rooms</th>\n",
       "      <th>ceiling_height</th>\n",
       "      <th>floors_total</th>\n",
       "      <th>living_area</th>\n",
       "      <th>floor</th>\n",
       "      <th>is_apartment</th>\n",
       "      <th>...</th>\n",
       "      <th>parks_around3000</th>\n",
       "      <th>parks_nearest</th>\n",
       "      <th>ponds_around3000</th>\n",
       "      <th>ponds_nearest</th>\n",
       "      <th>days_exposition</th>\n",
       "      <th>price_for_meter</th>\n",
       "      <th>weekday_exposition</th>\n",
       "      <th>month_exposition</th>\n",
       "      <th>year_exposition</th>\n",
       "      <th>name_floor</th>\n",
       "    </tr>\n",
       "  </thead>\n",
       "  <tbody>\n",
       "    <tr>\n",
       "      <th>29</th>\n",
       "      <td>12</td>\n",
       "      <td>2200000.0</td>\n",
       "      <td>32.8</td>\n",
       "      <td>2018-02-19</td>\n",
       "      <td>1</td>\n",
       "      <td>NaN</td>\n",
       "      <td>9</td>\n",
       "      <td>NaN</td>\n",
       "      <td>2</td>\n",
       "      <td>False</td>\n",
       "      <td>...</td>\n",
       "      <td>NaN</td>\n",
       "      <td>NaN</td>\n",
       "      <td>NaN</td>\n",
       "      <td>NaN</td>\n",
       "      <td>63.0</td>\n",
       "      <td>67073</td>\n",
       "      <td>0</td>\n",
       "      <td>2</td>\n",
       "      <td>2018</td>\n",
       "      <td>other</td>\n",
       "    </tr>\n",
       "    <tr>\n",
       "      <th>36</th>\n",
       "      <td>10</td>\n",
       "      <td>1990000.0</td>\n",
       "      <td>45.8</td>\n",
       "      <td>2017-10-28</td>\n",
       "      <td>2</td>\n",
       "      <td>2.50</td>\n",
       "      <td>5</td>\n",
       "      <td>NaN</td>\n",
       "      <td>1</td>\n",
       "      <td>False</td>\n",
       "      <td>...</td>\n",
       "      <td>NaN</td>\n",
       "      <td>NaN</td>\n",
       "      <td>NaN</td>\n",
       "      <td>NaN</td>\n",
       "      <td>196.0</td>\n",
       "      <td>43449</td>\n",
       "      <td>5</td>\n",
       "      <td>10</td>\n",
       "      <td>2017</td>\n",
       "      <td>first</td>\n",
       "    </tr>\n",
       "    <tr>\n",
       "      <th>43</th>\n",
       "      <td>13</td>\n",
       "      <td>5350000.0</td>\n",
       "      <td>40.0</td>\n",
       "      <td>2018-11-18</td>\n",
       "      <td>1</td>\n",
       "      <td>NaN</td>\n",
       "      <td>22</td>\n",
       "      <td>NaN</td>\n",
       "      <td>3</td>\n",
       "      <td>False</td>\n",
       "      <td>...</td>\n",
       "      <td>1.0</td>\n",
       "      <td>620.0</td>\n",
       "      <td>1.0</td>\n",
       "      <td>1152.0</td>\n",
       "      <td>NaN</td>\n",
       "      <td>133750</td>\n",
       "      <td>6</td>\n",
       "      <td>11</td>\n",
       "      <td>2018</td>\n",
       "      <td>other</td>\n",
       "    </tr>\n",
       "    <tr>\n",
       "      <th>58</th>\n",
       "      <td>15</td>\n",
       "      <td>6300000.0</td>\n",
       "      <td>46.5</td>\n",
       "      <td>2017-03-06</td>\n",
       "      <td>1</td>\n",
       "      <td>NaN</td>\n",
       "      <td>13</td>\n",
       "      <td>NaN</td>\n",
       "      <td>13</td>\n",
       "      <td>False</td>\n",
       "      <td>...</td>\n",
       "      <td>0.0</td>\n",
       "      <td>NaN</td>\n",
       "      <td>0.0</td>\n",
       "      <td>NaN</td>\n",
       "      <td>336.0</td>\n",
       "      <td>135483</td>\n",
       "      <td>0</td>\n",
       "      <td>3</td>\n",
       "      <td>2017</td>\n",
       "      <td>last</td>\n",
       "    </tr>\n",
       "    <tr>\n",
       "      <th>59</th>\n",
       "      <td>3</td>\n",
       "      <td>2740000.0</td>\n",
       "      <td>35.0</td>\n",
       "      <td>2018-01-01</td>\n",
       "      <td>1</td>\n",
       "      <td>NaN</td>\n",
       "      <td>12</td>\n",
       "      <td>NaN</td>\n",
       "      <td>8</td>\n",
       "      <td>False</td>\n",
       "      <td>...</td>\n",
       "      <td>NaN</td>\n",
       "      <td>NaN</td>\n",
       "      <td>NaN</td>\n",
       "      <td>NaN</td>\n",
       "      <td>11.0</td>\n",
       "      <td>78285</td>\n",
       "      <td>0</td>\n",
       "      <td>1</td>\n",
       "      <td>2018</td>\n",
       "      <td>other</td>\n",
       "    </tr>\n",
       "    <tr>\n",
       "      <th>...</th>\n",
       "      <td>...</td>\n",
       "      <td>...</td>\n",
       "      <td>...</td>\n",
       "      <td>...</td>\n",
       "      <td>...</td>\n",
       "      <td>...</td>\n",
       "      <td>...</td>\n",
       "      <td>...</td>\n",
       "      <td>...</td>\n",
       "      <td>...</td>\n",
       "      <td>...</td>\n",
       "      <td>...</td>\n",
       "      <td>...</td>\n",
       "      <td>...</td>\n",
       "      <td>...</td>\n",
       "      <td>...</td>\n",
       "      <td>...</td>\n",
       "      <td>...</td>\n",
       "      <td>...</td>\n",
       "      <td>...</td>\n",
       "      <td>...</td>\n",
       "    </tr>\n",
       "    <tr>\n",
       "      <th>22301</th>\n",
       "      <td>4</td>\n",
       "      <td>3950000.0</td>\n",
       "      <td>52.0</td>\n",
       "      <td>2018-03-04</td>\n",
       "      <td>3</td>\n",
       "      <td>NaN</td>\n",
       "      <td>5</td>\n",
       "      <td>NaN</td>\n",
       "      <td>2</td>\n",
       "      <td>False</td>\n",
       "      <td>...</td>\n",
       "      <td>0.0</td>\n",
       "      <td>NaN</td>\n",
       "      <td>0.0</td>\n",
       "      <td>NaN</td>\n",
       "      <td>45.0</td>\n",
       "      <td>75961</td>\n",
       "      <td>6</td>\n",
       "      <td>3</td>\n",
       "      <td>2018</td>\n",
       "      <td>other</td>\n",
       "    </tr>\n",
       "    <tr>\n",
       "      <th>22319</th>\n",
       "      <td>20</td>\n",
       "      <td>5000000.0</td>\n",
       "      <td>38.0</td>\n",
       "      <td>2018-06-23</td>\n",
       "      <td>1</td>\n",
       "      <td>2.55</td>\n",
       "      <td>16</td>\n",
       "      <td>NaN</td>\n",
       "      <td>15</td>\n",
       "      <td>False</td>\n",
       "      <td>...</td>\n",
       "      <td>1.0</td>\n",
       "      <td>241.0</td>\n",
       "      <td>1.0</td>\n",
       "      <td>230.0</td>\n",
       "      <td>113.0</td>\n",
       "      <td>131578</td>\n",
       "      <td>5</td>\n",
       "      <td>6</td>\n",
       "      <td>2018</td>\n",
       "      <td>other</td>\n",
       "    </tr>\n",
       "    <tr>\n",
       "      <th>22328</th>\n",
       "      <td>14</td>\n",
       "      <td>5950000.0</td>\n",
       "      <td>80.3</td>\n",
       "      <td>2018-07-03</td>\n",
       "      <td>3</td>\n",
       "      <td>2.70</td>\n",
       "      <td>12</td>\n",
       "      <td>NaN</td>\n",
       "      <td>5</td>\n",
       "      <td>False</td>\n",
       "      <td>...</td>\n",
       "      <td>0.0</td>\n",
       "      <td>NaN</td>\n",
       "      <td>2.0</td>\n",
       "      <td>562.0</td>\n",
       "      <td>60.0</td>\n",
       "      <td>74097</td>\n",
       "      <td>1</td>\n",
       "      <td>7</td>\n",
       "      <td>2018</td>\n",
       "      <td>other</td>\n",
       "    </tr>\n",
       "    <tr>\n",
       "      <th>22347</th>\n",
       "      <td>12</td>\n",
       "      <td>6400000.0</td>\n",
       "      <td>88.0</td>\n",
       "      <td>2018-01-12</td>\n",
       "      <td>4</td>\n",
       "      <td>2.55</td>\n",
       "      <td>10</td>\n",
       "      <td>NaN</td>\n",
       "      <td>1</td>\n",
       "      <td>False</td>\n",
       "      <td>...</td>\n",
       "      <td>0.0</td>\n",
       "      <td>NaN</td>\n",
       "      <td>2.0</td>\n",
       "      <td>844.0</td>\n",
       "      <td>59.0</td>\n",
       "      <td>72727</td>\n",
       "      <td>4</td>\n",
       "      <td>1</td>\n",
       "      <td>2018</td>\n",
       "      <td>first</td>\n",
       "    </tr>\n",
       "    <tr>\n",
       "      <th>22354</th>\n",
       "      <td>9</td>\n",
       "      <td>2450000.0</td>\n",
       "      <td>45.6</td>\n",
       "      <td>2018-02-08</td>\n",
       "      <td>1</td>\n",
       "      <td>2.80</td>\n",
       "      <td>9</td>\n",
       "      <td>NaN</td>\n",
       "      <td>2</td>\n",
       "      <td>False</td>\n",
       "      <td>...</td>\n",
       "      <td>NaN</td>\n",
       "      <td>NaN</td>\n",
       "      <td>NaN</td>\n",
       "      <td>NaN</td>\n",
       "      <td>45.0</td>\n",
       "      <td>53728</td>\n",
       "      <td>3</td>\n",
       "      <td>2</td>\n",
       "      <td>2018</td>\n",
       "      <td>other</td>\n",
       "    </tr>\n",
       "  </tbody>\n",
       "</table>\n",
       "<p>1288 rows × 27 columns</p>\n",
       "</div>"
      ],
      "text/plain": [
       "       total_images  last_price  total_area first_day_exposition  rooms  \\\n",
       "29               12   2200000.0        32.8           2018-02-19      1   \n",
       "36               10   1990000.0        45.8           2017-10-28      2   \n",
       "43               13   5350000.0        40.0           2018-11-18      1   \n",
       "58               15   6300000.0        46.5           2017-03-06      1   \n",
       "59                3   2740000.0        35.0           2018-01-01      1   \n",
       "...             ...         ...         ...                  ...    ...   \n",
       "22301             4   3950000.0        52.0           2018-03-04      3   \n",
       "22319            20   5000000.0        38.0           2018-06-23      1   \n",
       "22328            14   5950000.0        80.3           2018-07-03      3   \n",
       "22347            12   6400000.0        88.0           2018-01-12      4   \n",
       "22354             9   2450000.0        45.6           2018-02-08      1   \n",
       "\n",
       "       ceiling_height  floors_total  living_area  floor  is_apartment  ...  \\\n",
       "29                NaN             9          NaN      2         False  ...   \n",
       "36               2.50             5          NaN      1         False  ...   \n",
       "43                NaN            22          NaN      3         False  ...   \n",
       "58                NaN            13          NaN     13         False  ...   \n",
       "59                NaN            12          NaN      8         False  ...   \n",
       "...               ...           ...          ...    ...           ...  ...   \n",
       "22301             NaN             5          NaN      2         False  ...   \n",
       "22319            2.55            16          NaN     15         False  ...   \n",
       "22328            2.70            12          NaN      5         False  ...   \n",
       "22347            2.55            10          NaN      1         False  ...   \n",
       "22354            2.80             9          NaN      2         False  ...   \n",
       "\n",
       "       parks_around3000  parks_nearest  ponds_around3000  ponds_nearest  \\\n",
       "29                  NaN            NaN               NaN            NaN   \n",
       "36                  NaN            NaN               NaN            NaN   \n",
       "43                  1.0          620.0               1.0         1152.0   \n",
       "58                  0.0            NaN               0.0            NaN   \n",
       "59                  NaN            NaN               NaN            NaN   \n",
       "...                 ...            ...               ...            ...   \n",
       "22301               0.0            NaN               0.0            NaN   \n",
       "22319               1.0          241.0               1.0          230.0   \n",
       "22328               0.0            NaN               2.0          562.0   \n",
       "22347               0.0            NaN               2.0          844.0   \n",
       "22354               NaN            NaN               NaN            NaN   \n",
       "\n",
       "      days_exposition  price_for_meter  weekday_exposition  month_exposition  \\\n",
       "29               63.0            67073                   0                 2   \n",
       "36              196.0            43449                   5                10   \n",
       "43                NaN           133750                   6                11   \n",
       "58              336.0           135483                   0                 3   \n",
       "59               11.0            78285                   0                 1   \n",
       "...               ...              ...                 ...               ...   \n",
       "22301            45.0            75961                   6                 3   \n",
       "22319           113.0           131578                   5                 6   \n",
       "22328            60.0            74097                   1                 7   \n",
       "22347            59.0            72727                   4                 1   \n",
       "22354            45.0            53728                   3                 2   \n",
       "\n",
       "       year_exposition  name_floor  \n",
       "29                2018       other  \n",
       "36                2017       first  \n",
       "43                2018       other  \n",
       "58                2017        last  \n",
       "59                2018       other  \n",
       "...                ...         ...  \n",
       "22301             2018       other  \n",
       "22319             2018       other  \n",
       "22328             2018       other  \n",
       "22347             2018       first  \n",
       "22354             2018       other  \n",
       "\n",
       "[1288 rows x 27 columns]"
      ]
     },
     "execution_count": 347,
     "metadata": {},
     "output_type": "execute_result"
    }
   ],
   "source": [
    "data_sorted = data.loc[\n",
    "    (data['living_area'].isna()) &\n",
    "    (data['kitchen_area'].isna())\n",
    "]\n",
    "\n",
    "data_sorted"
   ]
  },
  {
   "cell_type": "code",
   "execution_count": 348,
   "metadata": {},
   "outputs": [
    {
     "name": "stdout",
     "output_type": "stream",
     "text": [
      "The percentage of missing values in the column sorted_area: 5.8%\n"
     ]
    }
   ],
   "source": [
    "volume_sorted_area = 1288 / len(data[\"total_area\"])\n",
    "print(\"The percentage of missing values in the column sorted_area: {:.1%}\".format(volume_sorted_area))"
   ]
  },
  {
   "cell_type": "markdown",
   "metadata": {},
   "source": [
    "Unfortunately, in the area data there are no omissions of 2 elements at the same time in 5.8%. We cannot neglect these data and delete them, so we will fill in the gaps in these columns with median values."
   ]
  },
  {
   "cell_type": "code",
   "execution_count": 349,
   "metadata": {},
   "outputs": [
    {
     "name": "stdout",
     "output_type": "stream",
     "text": [
      "<class 'pandas.core.frame.DataFrame'>\n",
      "RangeIndex: 22382 entries, 0 to 22381\n",
      "Data columns (total 27 columns):\n",
      " #   Column                Non-Null Count  Dtype         \n",
      "---  ------                --------------  -----         \n",
      " 0   total_images          22382 non-null  int64         \n",
      " 1   last_price            22382 non-null  float64       \n",
      " 2   total_area            22382 non-null  float64       \n",
      " 3   first_day_exposition  22382 non-null  datetime64[ns]\n",
      " 4   rooms                 22382 non-null  int64         \n",
      " 5   ceiling_height        13881 non-null  float64       \n",
      " 6   floors_total          22382 non-null  int64         \n",
      " 7   living_area           22382 non-null  float64       \n",
      " 8   floor                 22382 non-null  int64         \n",
      " 9   is_apartment          22382 non-null  bool          \n",
      " 10  studio                22382 non-null  bool          \n",
      " 11  open_plan             22382 non-null  bool          \n",
      " 12  kitchen_area          22382 non-null  float64       \n",
      " 13  balcony               22382 non-null  int64         \n",
      " 14  locality_name         22335 non-null  object        \n",
      " 15  airports_nearest      17170 non-null  float64       \n",
      " 16  city_centers_nearest  17191 non-null  float64       \n",
      " 17  parks_around3000      17192 non-null  float64       \n",
      " 18  parks_nearest         7694 non-null   float64       \n",
      " 19  ponds_around3000      17192 non-null  float64       \n",
      " 20  ponds_nearest         8623 non-null   float64       \n",
      " 21  days_exposition       19280 non-null  float64       \n",
      " 22  price_for_meter       22382 non-null  int64         \n",
      " 23  weekday_exposition    22382 non-null  int64         \n",
      " 24  month_exposition      22382 non-null  int64         \n",
      " 25  year_exposition       22382 non-null  int64         \n",
      " 26  name_floor            22382 non-null  object        \n",
      "dtypes: bool(3), datetime64[ns](1), float64(12), int64(9), object(2)\n",
      "memory usage: 4.2+ MB\n"
     ]
    }
   ],
   "source": [
    "data['living_area'] = data['living_area'].fillna(data['living_area'].mean())\n",
    "data['kitchen_area'] = data['kitchen_area'].fillna(data['kitchen_area'].mean())\n",
    "\n",
    "data.info()"
   ]
  },
  {
   "cell_type": "code",
   "execution_count": 350,
   "metadata": {},
   "outputs": [],
   "source": [
    "data['ratio_liv_to_total'] = data['living_area'] / data['total_area']\n",
    "data['ratio_kitch_to_total'] = data['kitchen_area'] / data['total_area']"
   ]
  },
  {
   "cell_type": "markdown",
   "metadata": {},
   "source": [
    "## Research data analysis"
   ]
  },
  {
   "cell_type": "markdown",
   "metadata": {},
   "source": [
    "### Study the following parameters: area, price, number of rooms, ceiling height"
   ]
  },
  {
   "cell_type": "markdown",
   "metadata": {},
   "source": [
    "Study the data from the total_area column:"
   ]
  },
  {
   "cell_type": "code",
   "execution_count": 351,
   "metadata": {
    "scrolled": true
   },
   "outputs": [
    {
     "data": {
      "text/plain": [
       "<AxesSubplot:ylabel='Frequency'>"
      ]
     },
     "execution_count": 351,
     "metadata": {},
     "output_type": "execute_result"
    },
    {
     "data": {
      "image/png": "[encoded data removed]",
      "text/plain": [
       "<Figure size 360x216 with 1 Axes>"
      ]
     },
     "metadata": {
      "needs_background": "light"
     },
     "output_type": "display_data"
    }
   ],
   "source": [
    "data.plot(y = 'total_area', kind = 'hist', bins = 100, grid=True, figsize = (5,3), range = (0,900))"
   ]
  },
  {
   "cell_type": "markdown",
   "metadata": {},
   "source": [
    "The histogram shows that the distribution of values in the total_area column is generally normal, although there are minor outliers. Look at them by requesting a list of characteristic values:"
   ]
  },
  {
   "cell_type": "code",
   "execution_count": 352,
   "metadata": {
    "scrolled": true
   },
   "outputs": [
    {
     "data": {
      "text/plain": [
       "count    22382.000000\n",
       "mean        60.816581\n",
       "std         35.888997\n",
       "min         12.000000\n",
       "25%         40.300000\n",
       "50%         52.200000\n",
       "75%         70.000000\n",
       "max        900.000000\n",
       "Name: total_area, dtype: float64"
      ]
     },
     "execution_count": 352,
     "metadata": {},
     "output_type": "execute_result"
    }
   ],
   "source": [
    "data['total_area'].describe()"
   ]
  },
  {
   "cell_type": "code",
   "execution_count": 353,
   "metadata": {},
   "outputs": [
    {
     "data": {
      "text/plain": [
       "(1.0, 150.0)"
      ]
     },
     "execution_count": 353,
     "metadata": {},
     "output_type": "execute_result"
    },
    {
     "data": {
      "image/png": "[encoded data removed]",
      "text/plain": [
       "<Figure size 432x288 with 1 Axes>"
      ]
     },
     "metadata": {
      "needs_background": "light"
     },
     "output_type": "display_data"
    }
   ],
   "source": [
    "import matplotlib.pyplot as plt\n",
    "plt.boxplot(data['total_area'])\n",
    "plt.ylim(1,150) "
   ]
  },
  {
   "cell_type": "markdown",
   "metadata": {},
   "source": [
    "Based on the list of characteristic values and the histogram, we can say that the average area of apartments is 60.8 square meters, the median is 52.2 square meters, while the data contains information about the area of apartments from 12 to 900 square meters. meters. Thus, based on the scope of the distribution, the data on the area of the apartment is more than ~120 sq. m. meters - are abnormal."
   ]
  },
  {
   "cell_type": "markdown",
   "metadata": {},
   "source": [
    "Study the data from the column last_price:"
   ]
  },
  {
   "cell_type": "code",
   "execution_count": 354,
   "metadata": {},
   "outputs": [
    {
     "data": {
      "text/plain": [
       "<AxesSubplot:ylabel='Frequency'>"
      ]
     },
     "execution_count": 354,
     "metadata": {},
     "output_type": "execute_result"
    },
    {
     "data": {
      "image/png": "[encoded data removed]",
      "text/plain": [
       "<Figure size 360x216 with 1 Axes>"
      ]
     },
     "metadata": {
      "needs_background": "light"
     },
     "output_type": "display_data"
    }
   ],
   "source": [
    "data.plot(y = 'last_price', kind = 'hist', bins = 100, grid=True, figsize = (5,3), range = (0,data['last_price'].max()))"
   ]
  },
  {
   "cell_type": "markdown",
   "metadata": {},
   "source": [
    "Convert the value into prices in millions for ease of perception:"
   ]
  },
  {
   "cell_type": "code",
   "execution_count": 355,
   "metadata": {},
   "outputs": [
    {
     "data": {
      "text/html": [
       "<div>\n",
       "<style scoped>\n",
       "    .dataframe tbody tr th:only-of-type {\n",
       "        vertical-align: middle;\n",
       "    }\n",
       "\n",
       "    .dataframe tbody tr th {\n",
       "        vertical-align: top;\n",
       "    }\n",
       "\n",
       "    .dataframe thead th {\n",
       "        text-align: right;\n",
       "    }\n",
       "</style>\n",
       "<table border=\"1\" class=\"dataframe\">\n",
       "  <thead>\n",
       "    <tr style=\"text-align: right;\">\n",
       "      <th></th>\n",
       "      <th>total_images</th>\n",
       "      <th>last_price</th>\n",
       "      <th>total_area</th>\n",
       "      <th>first_day_exposition</th>\n",
       "      <th>rooms</th>\n",
       "      <th>ceiling_height</th>\n",
       "      <th>floors_total</th>\n",
       "      <th>living_area</th>\n",
       "      <th>floor</th>\n",
       "      <th>is_apartment</th>\n",
       "      <th>...</th>\n",
       "      <th>ponds_around3000</th>\n",
       "      <th>ponds_nearest</th>\n",
       "      <th>days_exposition</th>\n",
       "      <th>price_for_meter</th>\n",
       "      <th>weekday_exposition</th>\n",
       "      <th>month_exposition</th>\n",
       "      <th>year_exposition</th>\n",
       "      <th>name_floor</th>\n",
       "      <th>ratio_liv_to_total</th>\n",
       "      <th>ratio_kitch_to_total</th>\n",
       "    </tr>\n",
       "  </thead>\n",
       "  <tbody>\n",
       "    <tr>\n",
       "      <th>0</th>\n",
       "      <td>20</td>\n",
       "      <td>13.000</td>\n",
       "      <td>108.00</td>\n",
       "      <td>2019-03-07</td>\n",
       "      <td>3</td>\n",
       "      <td>2.70</td>\n",
       "      <td>16</td>\n",
       "      <td>51.00000</td>\n",
       "      <td>8</td>\n",
       "      <td>False</td>\n",
       "      <td>...</td>\n",
       "      <td>2.0</td>\n",
       "      <td>755.0</td>\n",
       "      <td>NaN</td>\n",
       "      <td>120370</td>\n",
       "      <td>3</td>\n",
       "      <td>3</td>\n",
       "      <td>2019</td>\n",
       "      <td>other</td>\n",
       "      <td>0.472222</td>\n",
       "      <td>0.231481</td>\n",
       "    </tr>\n",
       "    <tr>\n",
       "      <th>1</th>\n",
       "      <td>7</td>\n",
       "      <td>3.350</td>\n",
       "      <td>40.40</td>\n",
       "      <td>2018-12-04</td>\n",
       "      <td>1</td>\n",
       "      <td>NaN</td>\n",
       "      <td>11</td>\n",
       "      <td>18.60000</td>\n",
       "      <td>1</td>\n",
       "      <td>False</td>\n",
       "      <td>...</td>\n",
       "      <td>0.0</td>\n",
       "      <td>NaN</td>\n",
       "      <td>81.0</td>\n",
       "      <td>82920</td>\n",
       "      <td>1</td>\n",
       "      <td>12</td>\n",
       "      <td>2018</td>\n",
       "      <td>first</td>\n",
       "      <td>0.460396</td>\n",
       "      <td>0.272277</td>\n",
       "    </tr>\n",
       "    <tr>\n",
       "      <th>2</th>\n",
       "      <td>10</td>\n",
       "      <td>5.196</td>\n",
       "      <td>56.00</td>\n",
       "      <td>2015-08-20</td>\n",
       "      <td>2</td>\n",
       "      <td>NaN</td>\n",
       "      <td>5</td>\n",
       "      <td>34.30000</td>\n",
       "      <td>4</td>\n",
       "      <td>False</td>\n",
       "      <td>...</td>\n",
       "      <td>2.0</td>\n",
       "      <td>574.0</td>\n",
       "      <td>558.0</td>\n",
       "      <td>92785</td>\n",
       "      <td>3</td>\n",
       "      <td>8</td>\n",
       "      <td>2015</td>\n",
       "      <td>other</td>\n",
       "      <td>0.612500</td>\n",
       "      <td>0.148214</td>\n",
       "    </tr>\n",
       "    <tr>\n",
       "      <th>3</th>\n",
       "      <td>2</td>\n",
       "      <td>10.000</td>\n",
       "      <td>100.00</td>\n",
       "      <td>2018-06-19</td>\n",
       "      <td>2</td>\n",
       "      <td>3.03</td>\n",
       "      <td>14</td>\n",
       "      <td>32.00000</td>\n",
       "      <td>13</td>\n",
       "      <td>False</td>\n",
       "      <td>...</td>\n",
       "      <td>1.0</td>\n",
       "      <td>48.0</td>\n",
       "      <td>121.0</td>\n",
       "      <td>100000</td>\n",
       "      <td>1</td>\n",
       "      <td>6</td>\n",
       "      <td>2018</td>\n",
       "      <td>other</td>\n",
       "      <td>0.320000</td>\n",
       "      <td>0.410000</td>\n",
       "    </tr>\n",
       "    <tr>\n",
       "      <th>4</th>\n",
       "      <td>10</td>\n",
       "      <td>2.890</td>\n",
       "      <td>30.40</td>\n",
       "      <td>2018-09-10</td>\n",
       "      <td>1</td>\n",
       "      <td>NaN</td>\n",
       "      <td>12</td>\n",
       "      <td>14.40000</td>\n",
       "      <td>5</td>\n",
       "      <td>False</td>\n",
       "      <td>...</td>\n",
       "      <td>NaN</td>\n",
       "      <td>NaN</td>\n",
       "      <td>55.0</td>\n",
       "      <td>95065</td>\n",
       "      <td>0</td>\n",
       "      <td>9</td>\n",
       "      <td>2018</td>\n",
       "      <td>other</td>\n",
       "      <td>0.473684</td>\n",
       "      <td>0.299342</td>\n",
       "    </tr>\n",
       "    <tr>\n",
       "      <th>...</th>\n",
       "      <td>...</td>\n",
       "      <td>...</td>\n",
       "      <td>...</td>\n",
       "      <td>...</td>\n",
       "      <td>...</td>\n",
       "      <td>...</td>\n",
       "      <td>...</td>\n",
       "      <td>...</td>\n",
       "      <td>...</td>\n",
       "      <td>...</td>\n",
       "      <td>...</td>\n",
       "      <td>...</td>\n",
       "      <td>...</td>\n",
       "      <td>...</td>\n",
       "      <td>...</td>\n",
       "      <td>...</td>\n",
       "      <td>...</td>\n",
       "      <td>...</td>\n",
       "      <td>...</td>\n",
       "      <td>...</td>\n",
       "      <td>...</td>\n",
       "    </tr>\n",
       "    <tr>\n",
       "      <th>22377</th>\n",
       "      <td>9</td>\n",
       "      <td>9.700</td>\n",
       "      <td>133.81</td>\n",
       "      <td>2017-03-21</td>\n",
       "      <td>3</td>\n",
       "      <td>3.70</td>\n",
       "      <td>5</td>\n",
       "      <td>73.30000</td>\n",
       "      <td>3</td>\n",
       "      <td>False</td>\n",
       "      <td>...</td>\n",
       "      <td>3.0</td>\n",
       "      <td>381.0</td>\n",
       "      <td>NaN</td>\n",
       "      <td>72490</td>\n",
       "      <td>1</td>\n",
       "      <td>3</td>\n",
       "      <td>2017</td>\n",
       "      <td>other</td>\n",
       "      <td>0.547792</td>\n",
       "      <td>0.103356</td>\n",
       "    </tr>\n",
       "    <tr>\n",
       "      <th>22378</th>\n",
       "      <td>14</td>\n",
       "      <td>3.100</td>\n",
       "      <td>59.00</td>\n",
       "      <td>2018-01-15</td>\n",
       "      <td>3</td>\n",
       "      <td>NaN</td>\n",
       "      <td>5</td>\n",
       "      <td>38.00000</td>\n",
       "      <td>4</td>\n",
       "      <td>False</td>\n",
       "      <td>...</td>\n",
       "      <td>NaN</td>\n",
       "      <td>NaN</td>\n",
       "      <td>45.0</td>\n",
       "      <td>52542</td>\n",
       "      <td>0</td>\n",
       "      <td>1</td>\n",
       "      <td>2018</td>\n",
       "      <td>other</td>\n",
       "      <td>0.644068</td>\n",
       "      <td>0.144068</td>\n",
       "    </tr>\n",
       "    <tr>\n",
       "      <th>22379</th>\n",
       "      <td>18</td>\n",
       "      <td>2.500</td>\n",
       "      <td>56.70</td>\n",
       "      <td>2018-02-11</td>\n",
       "      <td>2</td>\n",
       "      <td>NaN</td>\n",
       "      <td>3</td>\n",
       "      <td>29.70000</td>\n",
       "      <td>1</td>\n",
       "      <td>False</td>\n",
       "      <td>...</td>\n",
       "      <td>NaN</td>\n",
       "      <td>NaN</td>\n",
       "      <td>NaN</td>\n",
       "      <td>44091</td>\n",
       "      <td>6</td>\n",
       "      <td>2</td>\n",
       "      <td>2018</td>\n",
       "      <td>first</td>\n",
       "      <td>0.523810</td>\n",
       "      <td>0.187170</td>\n",
       "    </tr>\n",
       "    <tr>\n",
       "      <th>22380</th>\n",
       "      <td>13</td>\n",
       "      <td>11.475</td>\n",
       "      <td>76.75</td>\n",
       "      <td>2017-03-28</td>\n",
       "      <td>2</td>\n",
       "      <td>3.00</td>\n",
       "      <td>17</td>\n",
       "      <td>34.67412</td>\n",
       "      <td>12</td>\n",
       "      <td>False</td>\n",
       "      <td>...</td>\n",
       "      <td>3.0</td>\n",
       "      <td>196.0</td>\n",
       "      <td>602.0</td>\n",
       "      <td>149511</td>\n",
       "      <td>1</td>\n",
       "      <td>3</td>\n",
       "      <td>2017</td>\n",
       "      <td>other</td>\n",
       "      <td>0.451780</td>\n",
       "      <td>0.303583</td>\n",
       "    </tr>\n",
       "    <tr>\n",
       "      <th>22381</th>\n",
       "      <td>4</td>\n",
       "      <td>1.350</td>\n",
       "      <td>32.30</td>\n",
       "      <td>2017-07-21</td>\n",
       "      <td>1</td>\n",
       "      <td>2.50</td>\n",
       "      <td>5</td>\n",
       "      <td>12.30000</td>\n",
       "      <td>1</td>\n",
       "      <td>False</td>\n",
       "      <td>...</td>\n",
       "      <td>NaN</td>\n",
       "      <td>NaN</td>\n",
       "      <td>NaN</td>\n",
       "      <td>41795</td>\n",
       "      <td>4</td>\n",
       "      <td>7</td>\n",
       "      <td>2017</td>\n",
       "      <td>first</td>\n",
       "      <td>0.380805</td>\n",
       "      <td>0.278638</td>\n",
       "    </tr>\n",
       "  </tbody>\n",
       "</table>\n",
       "<p>22382 rows × 29 columns</p>\n",
       "</div>"
      ],
      "text/plain": [
       "       total_images  last_price  total_area first_day_exposition  rooms  \\\n",
       "0                20      13.000      108.00           2019-03-07      3   \n",
       "1                 7       3.350       40.40           2018-12-04      1   \n",
       "2                10       5.196       56.00           2015-08-20      2   \n",
       "3                 2      10.000      100.00           2018-06-19      2   \n",
       "4                10       2.890       30.40           2018-09-10      1   \n",
       "...             ...         ...         ...                  ...    ...   \n",
       "22377             9       9.700      133.81           2017-03-21      3   \n",
       "22378            14       3.100       59.00           2018-01-15      3   \n",
       "22379            18       2.500       56.70           2018-02-11      2   \n",
       "22380            13      11.475       76.75           2017-03-28      2   \n",
       "22381             4       1.350       32.30           2017-07-21      1   \n",
       "\n",
       "       ceiling_height  floors_total  living_area  floor  is_apartment  ...  \\\n",
       "0                2.70            16     51.00000      8         False  ...   \n",
       "1                 NaN            11     18.60000      1         False  ...   \n",
       "2                 NaN             5     34.30000      4         False  ...   \n",
       "3                3.03            14     32.00000     13         False  ...   \n",
       "4                 NaN            12     14.40000      5         False  ...   \n",
       "...               ...           ...          ...    ...           ...  ...   \n",
       "22377            3.70             5     73.30000      3         False  ...   \n",
       "22378             NaN             5     38.00000      4         False  ...   \n",
       "22379             NaN             3     29.70000      1         False  ...   \n",
       "22380            3.00            17     34.67412     12         False  ...   \n",
       "22381            2.50             5     12.30000      1         False  ...   \n",
       "\n",
       "       ponds_around3000  ponds_nearest  days_exposition  price_for_meter  \\\n",
       "0                   2.0          755.0              NaN           120370   \n",
       "1                   0.0            NaN             81.0            82920   \n",
       "2                   2.0          574.0            558.0            92785   \n",
       "3                   1.0           48.0            121.0           100000   \n",
       "4                   NaN            NaN             55.0            95065   \n",
       "...                 ...            ...              ...              ...   \n",
       "22377               3.0          381.0              NaN            72490   \n",
       "22378               NaN            NaN             45.0            52542   \n",
       "22379               NaN            NaN              NaN            44091   \n",
       "22380               3.0          196.0            602.0           149511   \n",
       "22381               NaN            NaN              NaN            41795   \n",
       "\n",
       "      weekday_exposition  month_exposition  year_exposition  name_floor  \\\n",
       "0                      3                 3             2019       other   \n",
       "1                      1                12             2018       first   \n",
       "2                      3                 8             2015       other   \n",
       "3                      1                 6             2018       other   \n",
       "4                      0                 9             2018       other   \n",
       "...                  ...               ...              ...         ...   \n",
       "22377                  1                 3             2017       other   \n",
       "22378                  0                 1             2018       other   \n",
       "22379                  6                 2             2018       first   \n",
       "22380                  1                 3             2017       other   \n",
       "22381                  4                 7             2017       first   \n",
       "\n",
       "       ratio_liv_to_total  ratio_kitch_to_total  \n",
       "0                0.472222              0.231481  \n",
       "1                0.460396              0.272277  \n",
       "2                0.612500              0.148214  \n",
       "3                0.320000              0.410000  \n",
       "4                0.473684              0.299342  \n",
       "...                   ...                   ...  \n",
       "22377            0.547792              0.103356  \n",
       "22378            0.644068              0.144068  \n",
       "22379            0.523810              0.187170  \n",
       "22380            0.451780              0.303583  \n",
       "22381            0.380805              0.278638  \n",
       "\n",
       "[22382 rows x 29 columns]"
      ]
     },
     "execution_count": 355,
     "metadata": {},
     "output_type": "execute_result"
    }
   ],
   "source": [
    "data['last_price'] = data['last_price'] / 1000000\n",
    "data"
   ]
  },
  {
   "cell_type": "code",
   "execution_count": 356,
   "metadata": {},
   "outputs": [
    {
     "data": {
      "text/plain": [
       "<AxesSubplot:ylabel='Frequency'>"
      ]
     },
     "execution_count": 356,
     "metadata": {},
     "output_type": "execute_result"
    },
    {
     "data": {
      "image/png": "[encoded data removed]",
      "text/plain": [
       "<Figure size 360x216 with 1 Axes>"
      ]
     },
     "metadata": {
      "needs_background": "light"
     },
     "output_type": "display_data"
    }
   ],
   "source": [
    "data.plot(y = 'last_price', kind = 'hist', bins = 100, grid=True, figsize = (5,3), range = (0,100))"
   ]
  },
  {
   "cell_type": "code",
   "execution_count": 357,
   "metadata": {},
   "outputs": [
    {
     "data": {
      "text/plain": [
       "count    22382.000000\n",
       "mean         6.627152\n",
       "std         11.133026\n",
       "min          0.012190\n",
       "25%          3.476250\n",
       "50%          4.700000\n",
       "75%          6.850000\n",
       "max        763.000000\n",
       "Name: last_price, dtype: float64"
      ]
     },
     "execution_count": 357,
     "metadata": {},
     "output_type": "execute_result"
    }
   ],
   "source": [
    "data['last_price'].describe()"
   ]
  },
  {
   "cell_type": "code",
   "execution_count": 358,
   "metadata": {},
   "outputs": [
    {
     "data": {
      "text/plain": [
       "(1.0, 15.0)"
      ]
     },
     "execution_count": 358,
     "metadata": {},
     "output_type": "execute_result"
    },
    {
     "data": {
      "image/png": "[encoded data removed]",
      "text/plain": [
       "<Figure size 432x288 with 1 Axes>"
      ]
     },
     "metadata": {
      "needs_background": "light"
     },
     "output_type": "display_data"
    }
   ],
   "source": [
    "plt.boxplot(data['last_price'])\n",
    "plt.ylim(1,15) "
   ]
  },
  {
   "cell_type": "markdown",
   "metadata": {},
   "source": [
    "The histogram shows that the data is distributed correctly - we can say that the average cost of an apartment is 6.6 million, the median is 4.7 million, while the data contains information about the cost of an apartment from 12,190 units to 763 million. Thus, based on the scope of the distribution, the data on the cost of an apartment of more than ~ 12 million is anomalous."
   ]
  },
  {
   "cell_type": "markdown",
   "metadata": {},
   "source": [
    "Study the data from the column rooms:"
   ]
  },
  {
   "cell_type": "code",
   "execution_count": 359,
   "metadata": {
    "scrolled": true
   },
   "outputs": [
    {
     "data": {
      "text/plain": [
       "<AxesSubplot:ylabel='Frequency'>"
      ]
     },
     "execution_count": 359,
     "metadata": {},
     "output_type": "execute_result"
    },
    {
     "data": {
      "image/png": "[encoded data removed]",
      "text/plain": [
       "<Figure size 360x216 with 1 Axes>"
      ]
     },
     "metadata": {
      "needs_background": "light"
     },
     "output_type": "display_data"
    }
   ],
   "source": [
    "data.plot(y = 'rooms', kind = 'hist', bins = 20, grid=True, figsize = (5,3))"
   ]
  },
  {
   "cell_type": "markdown",
   "metadata": {},
   "source": [
    "The histogram shows that the distribution of values in the rooms column is generally normal. Look at them by requesting a list of characteristic values:"
   ]
  },
  {
   "cell_type": "code",
   "execution_count": 360,
   "metadata": {},
   "outputs": [
    {
     "data": {
      "text/plain": [
       "count    22382.000000\n",
       "mean         2.090206\n",
       "std          1.069517\n",
       "min          1.000000\n",
       "25%          1.000000\n",
       "50%          2.000000\n",
       "75%          3.000000\n",
       "max         19.000000\n",
       "Name: rooms, dtype: float64"
      ]
     },
     "execution_count": 360,
     "metadata": {},
     "output_type": "execute_result"
    }
   ],
   "source": [
    "data['rooms'].describe()"
   ]
  },
  {
   "cell_type": "code",
   "execution_count": 361,
   "metadata": {},
   "outputs": [
    {
     "data": {
      "text/plain": [
       "(1.0, 10.0)"
      ]
     },
     "execution_count": 361,
     "metadata": {},
     "output_type": "execute_result"
    },
    {
     "data": {
      "image/png": "[encoded data removed]",
      "text/plain": [
       "<Figure size 432x288 with 1 Axes>"
      ]
     },
     "metadata": {
      "needs_background": "light"
     },
     "output_type": "display_data"
    }
   ],
   "source": [
    "plt.boxplot(data['rooms'])\n",
    "plt.ylim(1,10) "
   ]
  },
  {
   "cell_type": "markdown",
   "metadata": {},
   "source": [
    "The histogram shows that the data is distributed correctly - we can say that the average number of rooms in an apartment is 2 rooms, the median is also 2 rooms, while the data contains information about the number of rooms in an apartment from 1 room to 19 rooms. Most of all there are one-room apartments. Based on the scope of the distribution, apartments with more than 6 rooms are rare or an anomaly."
   ]
  },
  {
   "cell_type": "markdown",
   "metadata": {},
   "source": [
    "Study the data from the column ceiling_height:"
   ]
  },
  {
   "cell_type": "code",
   "execution_count": 362,
   "metadata": {},
   "outputs": [
    {
     "data": {
      "text/plain": [
       "<AxesSubplot:ylabel='Frequency'>"
      ]
     },
     "execution_count": 362,
     "metadata": {},
     "output_type": "execute_result"
    },
    {
     "data": {
      "image/png": "[encoded data removed]",
      "text/plain": [
       "<Figure size 360x216 with 1 Axes>"
      ]
     },
     "metadata": {
      "needs_background": "light"
     },
     "output_type": "display_data"
    }
   ],
   "source": [
    "data.plot(y = 'ceiling_height', kind = 'hist', bins = 20, grid=True, figsize = (5,3), range = (2, 5))"
   ]
  },
  {
   "cell_type": "markdown",
   "metadata": {},
   "source": [
    "The histogram shows that the data is generally distributed correctly, but there are outliers with data on the ceiling height in the range from 2 to ~ 2.4 meters. Request a list of characteristic values:"
   ]
  },
  {
   "cell_type": "code",
   "execution_count": 363,
   "metadata": {
    "scrolled": true
   },
   "outputs": [
    {
     "data": {
      "text/plain": [
       "count    13881.000000\n",
       "mean         2.759122\n",
       "std          0.886955\n",
       "min          1.000000\n",
       "25%          2.520000\n",
       "50%          2.650000\n",
       "75%          2.800000\n",
       "max         32.000000\n",
       "Name: ceiling_height, dtype: float64"
      ]
     },
     "execution_count": 363,
     "metadata": {},
     "output_type": "execute_result"
    }
   ],
   "source": [
    "data['ceiling_height'].describe()"
   ]
  },
  {
   "cell_type": "markdown",
   "metadata": {},
   "source": [
    "The histogram shows that the data are distributed in general correctly - we can say that the average ceiling height in the apartment is 2.7 meters, the median is also 2.6 meters, while the data contains information about the ceiling height in the apartment from 1 meter to 32 meters. Most often there are apartments with a ceiling height of 2.5 meters."
   ]
  },
  {
   "cell_type": "markdown",
   "metadata": {},
   "source": [
    "### Study the time of sale of the apartment"
   ]
  },
  {
   "cell_type": "markdown",
   "metadata": {},
   "source": [
    "Study the time of sale of the apartment. To do this, check if there are gaps in the days_exposition column:"
   ]
  },
  {
   "cell_type": "code",
   "execution_count": 364,
   "metadata": {
    "scrolled": true
   },
   "outputs": [
    {
     "name": "stdout",
     "output_type": "stream",
     "text": [
      "<class 'pandas.core.frame.DataFrame'>\n",
      "RangeIndex: 22382 entries, 0 to 22381\n",
      "Data columns (total 29 columns):\n",
      " #   Column                Non-Null Count  Dtype         \n",
      "---  ------                --------------  -----         \n",
      " 0   total_images          22382 non-null  int64         \n",
      " 1   last_price            22382 non-null  float64       \n",
      " 2   total_area            22382 non-null  float64       \n",
      " 3   first_day_exposition  22382 non-null  datetime64[ns]\n",
      " 4   rooms                 22382 non-null  int64         \n",
      " 5   ceiling_height        13881 non-null  float64       \n",
      " 6   floors_total          22382 non-null  int64         \n",
      " 7   living_area           22382 non-null  float64       \n",
      " 8   floor                 22382 non-null  int64         \n",
      " 9   is_apartment          22382 non-null  bool          \n",
      " 10  studio                22382 non-null  bool          \n",
      " 11  open_plan             22382 non-null  bool          \n",
      " 12  kitchen_area          22382 non-null  float64       \n",
      " 13  balcony               22382 non-null  int64         \n",
      " 14  locality_name         22335 non-null  object        \n",
      " 15  airports_nearest      17170 non-null  float64       \n",
      " 16  city_centers_nearest  17191 non-null  float64       \n",
      " 17  parks_around3000      17192 non-null  float64       \n",
      " 18  parks_nearest         7694 non-null   float64       \n",
      " 19  ponds_around3000      17192 non-null  float64       \n",
      " 20  ponds_nearest         8623 non-null   float64       \n",
      " 21  days_exposition       19280 non-null  float64       \n",
      " 22  price_for_meter       22382 non-null  int64         \n",
      " 23  weekday_exposition    22382 non-null  int64         \n",
      " 24  month_exposition      22382 non-null  int64         \n",
      " 25  year_exposition       22382 non-null  int64         \n",
      " 26  name_floor            22382 non-null  object        \n",
      " 27  ratio_liv_to_total    22382 non-null  float64       \n",
      " 28  ratio_kitch_to_total  22382 non-null  float64       \n",
      "dtypes: bool(3), datetime64[ns](1), float64(14), int64(9), object(2)\n",
      "memory usage: 4.5+ MB\n"
     ]
    }
   ],
   "source": [
    "data.info()"
   ]
  },
  {
   "cell_type": "code",
   "execution_count": 365,
   "metadata": {},
   "outputs": [
    {
     "name": "stdout",
     "output_type": "stream",
     "text": [
      "The percentage of missing values in the column days_exposition: 13.9%\n"
     ]
    }
   ],
   "source": [
    "volume_nan_days_exposition = (len(data[\"days_exposition\"]) - 19280) / len(data[\"days_exposition\"])\n",
    "print(\"The percentage of missing values in the column days_exposition: {:.1%}\".format(volume_nan_days_exposition))"
   ]
  },
  {
   "cell_type": "markdown",
   "metadata": {},
   "source": [
    "We cannot delete this data because its value cannot be neglected. Therefore, we will replace these omissions with median values:"
   ]
  },
  {
   "cell_type": "code",
   "execution_count": 366,
   "metadata": {},
   "outputs": [
    {
     "name": "stdout",
     "output_type": "stream",
     "text": [
      "<class 'pandas.core.frame.DataFrame'>\n",
      "RangeIndex: 22382 entries, 0 to 22381\n",
      "Data columns (total 29 columns):\n",
      " #   Column                Non-Null Count  Dtype         \n",
      "---  ------                --------------  -----         \n",
      " 0   total_images          22382 non-null  int64         \n",
      " 1   last_price            22382 non-null  float64       \n",
      " 2   total_area            22382 non-null  float64       \n",
      " 3   first_day_exposition  22382 non-null  datetime64[ns]\n",
      " 4   rooms                 22382 non-null  int64         \n",
      " 5   ceiling_height        13881 non-null  float64       \n",
      " 6   floors_total          22382 non-null  int64         \n",
      " 7   living_area           22382 non-null  float64       \n",
      " 8   floor                 22382 non-null  int64         \n",
      " 9   is_apartment          22382 non-null  bool          \n",
      " 10  studio                22382 non-null  bool          \n",
      " 11  open_plan             22382 non-null  bool          \n",
      " 12  kitchen_area          22382 non-null  float64       \n",
      " 13  balcony               22382 non-null  int64         \n",
      " 14  locality_name         22335 non-null  object        \n",
      " 15  airports_nearest      17170 non-null  float64       \n",
      " 16  city_centers_nearest  17191 non-null  float64       \n",
      " 17  parks_around3000      17192 non-null  float64       \n",
      " 18  parks_nearest         7694 non-null   float64       \n",
      " 19  ponds_around3000      17192 non-null  float64       \n",
      " 20  ponds_nearest         8623 non-null   float64       \n",
      " 21  days_exposition       22382 non-null  float64       \n",
      " 22  price_for_meter       22382 non-null  int64         \n",
      " 23  weekday_exposition    22382 non-null  int64         \n",
      " 24  month_exposition      22382 non-null  int64         \n",
      " 25  year_exposition       22382 non-null  int64         \n",
      " 26  name_floor            22382 non-null  object        \n",
      " 27  ratio_liv_to_total    22382 non-null  float64       \n",
      " 28  ratio_kitch_to_total  22382 non-null  float64       \n",
      "dtypes: bool(3), datetime64[ns](1), float64(14), int64(9), object(2)\n",
      "memory usage: 4.5+ MB\n"
     ]
    }
   ],
   "source": [
    "data['days_exposition'] = data['days_exposition'].fillna(data['days_exposition'].mean())\n",
    "data.info()"
   ]
  },
  {
   "cell_type": "code",
   "execution_count": 367,
   "metadata": {
    "scrolled": true
   },
   "outputs": [
    {
     "data": {
      "text/html": [
       "<div>\n",
       "<style scoped>\n",
       "    .dataframe tbody tr th:only-of-type {\n",
       "        vertical-align: middle;\n",
       "    }\n",
       "\n",
       "    .dataframe tbody tr th {\n",
       "        vertical-align: top;\n",
       "    }\n",
       "\n",
       "    .dataframe thead th {\n",
       "        text-align: right;\n",
       "    }\n",
       "</style>\n",
       "<table border=\"1\" class=\"dataframe\">\n",
       "  <thead>\n",
       "    <tr style=\"text-align: right;\">\n",
       "      <th></th>\n",
       "      <th>total_images</th>\n",
       "      <th>last_price</th>\n",
       "      <th>total_area</th>\n",
       "      <th>first_day_exposition</th>\n",
       "      <th>rooms</th>\n",
       "      <th>ceiling_height</th>\n",
       "      <th>floors_total</th>\n",
       "      <th>living_area</th>\n",
       "      <th>floor</th>\n",
       "      <th>is_apartment</th>\n",
       "      <th>...</th>\n",
       "      <th>ponds_around3000</th>\n",
       "      <th>ponds_nearest</th>\n",
       "      <th>days_exposition</th>\n",
       "      <th>price_for_meter</th>\n",
       "      <th>weekday_exposition</th>\n",
       "      <th>month_exposition</th>\n",
       "      <th>year_exposition</th>\n",
       "      <th>name_floor</th>\n",
       "      <th>ratio_liv_to_total</th>\n",
       "      <th>ratio_kitch_to_total</th>\n",
       "    </tr>\n",
       "  </thead>\n",
       "  <tbody>\n",
       "    <tr>\n",
       "      <th>0</th>\n",
       "      <td>20</td>\n",
       "      <td>13.000</td>\n",
       "      <td>108.00</td>\n",
       "      <td>2019-03-07</td>\n",
       "      <td>3</td>\n",
       "      <td>2.70</td>\n",
       "      <td>16</td>\n",
       "      <td>51.00000</td>\n",
       "      <td>8</td>\n",
       "      <td>False</td>\n",
       "      <td>...</td>\n",
       "      <td>2.0</td>\n",
       "      <td>755.0</td>\n",
       "      <td>183.381172</td>\n",
       "      <td>120370</td>\n",
       "      <td>3</td>\n",
       "      <td>3</td>\n",
       "      <td>2019</td>\n",
       "      <td>other</td>\n",
       "      <td>0.472222</td>\n",
       "      <td>0.231481</td>\n",
       "    </tr>\n",
       "    <tr>\n",
       "      <th>1</th>\n",
       "      <td>7</td>\n",
       "      <td>3.350</td>\n",
       "      <td>40.40</td>\n",
       "      <td>2018-12-04</td>\n",
       "      <td>1</td>\n",
       "      <td>NaN</td>\n",
       "      <td>11</td>\n",
       "      <td>18.60000</td>\n",
       "      <td>1</td>\n",
       "      <td>False</td>\n",
       "      <td>...</td>\n",
       "      <td>0.0</td>\n",
       "      <td>NaN</td>\n",
       "      <td>81.000000</td>\n",
       "      <td>82920</td>\n",
       "      <td>1</td>\n",
       "      <td>12</td>\n",
       "      <td>2018</td>\n",
       "      <td>first</td>\n",
       "      <td>0.460396</td>\n",
       "      <td>0.272277</td>\n",
       "    </tr>\n",
       "    <tr>\n",
       "      <th>2</th>\n",
       "      <td>10</td>\n",
       "      <td>5.196</td>\n",
       "      <td>56.00</td>\n",
       "      <td>2015-08-20</td>\n",
       "      <td>2</td>\n",
       "      <td>NaN</td>\n",
       "      <td>5</td>\n",
       "      <td>34.30000</td>\n",
       "      <td>4</td>\n",
       "      <td>False</td>\n",
       "      <td>...</td>\n",
       "      <td>2.0</td>\n",
       "      <td>574.0</td>\n",
       "      <td>558.000000</td>\n",
       "      <td>92785</td>\n",
       "      <td>3</td>\n",
       "      <td>8</td>\n",
       "      <td>2015</td>\n",
       "      <td>other</td>\n",
       "      <td>0.612500</td>\n",
       "      <td>0.148214</td>\n",
       "    </tr>\n",
       "    <tr>\n",
       "      <th>3</th>\n",
       "      <td>2</td>\n",
       "      <td>10.000</td>\n",
       "      <td>100.00</td>\n",
       "      <td>2018-06-19</td>\n",
       "      <td>2</td>\n",
       "      <td>3.03</td>\n",
       "      <td>14</td>\n",
       "      <td>32.00000</td>\n",
       "      <td>13</td>\n",
       "      <td>False</td>\n",
       "      <td>...</td>\n",
       "      <td>1.0</td>\n",
       "      <td>48.0</td>\n",
       "      <td>121.000000</td>\n",
       "      <td>100000</td>\n",
       "      <td>1</td>\n",
       "      <td>6</td>\n",
       "      <td>2018</td>\n",
       "      <td>other</td>\n",
       "      <td>0.320000</td>\n",
       "      <td>0.410000</td>\n",
       "    </tr>\n",
       "    <tr>\n",
       "      <th>4</th>\n",
       "      <td>10</td>\n",
       "      <td>2.890</td>\n",
       "      <td>30.40</td>\n",
       "      <td>2018-09-10</td>\n",
       "      <td>1</td>\n",
       "      <td>NaN</td>\n",
       "      <td>12</td>\n",
       "      <td>14.40000</td>\n",
       "      <td>5</td>\n",
       "      <td>False</td>\n",
       "      <td>...</td>\n",
       "      <td>NaN</td>\n",
       "      <td>NaN</td>\n",
       "      <td>55.000000</td>\n",
       "      <td>95065</td>\n",
       "      <td>0</td>\n",
       "      <td>9</td>\n",
       "      <td>2018</td>\n",
       "      <td>other</td>\n",
       "      <td>0.473684</td>\n",
       "      <td>0.299342</td>\n",
       "    </tr>\n",
       "    <tr>\n",
       "      <th>...</th>\n",
       "      <td>...</td>\n",
       "      <td>...</td>\n",
       "      <td>...</td>\n",
       "      <td>...</td>\n",
       "      <td>...</td>\n",
       "      <td>...</td>\n",
       "      <td>...</td>\n",
       "      <td>...</td>\n",
       "      <td>...</td>\n",
       "      <td>...</td>\n",
       "      <td>...</td>\n",
       "      <td>...</td>\n",
       "      <td>...</td>\n",
       "      <td>...</td>\n",
       "      <td>...</td>\n",
       "      <td>...</td>\n",
       "      <td>...</td>\n",
       "      <td>...</td>\n",
       "      <td>...</td>\n",
       "      <td>...</td>\n",
       "      <td>...</td>\n",
       "    </tr>\n",
       "    <tr>\n",
       "      <th>22377</th>\n",
       "      <td>9</td>\n",
       "      <td>9.700</td>\n",
       "      <td>133.81</td>\n",
       "      <td>2017-03-21</td>\n",
       "      <td>3</td>\n",
       "      <td>3.70</td>\n",
       "      <td>5</td>\n",
       "      <td>73.30000</td>\n",
       "      <td>3</td>\n",
       "      <td>False</td>\n",
       "      <td>...</td>\n",
       "      <td>3.0</td>\n",
       "      <td>381.0</td>\n",
       "      <td>183.381172</td>\n",
       "      <td>72490</td>\n",
       "      <td>1</td>\n",
       "      <td>3</td>\n",
       "      <td>2017</td>\n",
       "      <td>other</td>\n",
       "      <td>0.547792</td>\n",
       "      <td>0.103356</td>\n",
       "    </tr>\n",
       "    <tr>\n",
       "      <th>22378</th>\n",
       "      <td>14</td>\n",
       "      <td>3.100</td>\n",
       "      <td>59.00</td>\n",
       "      <td>2018-01-15</td>\n",
       "      <td>3</td>\n",
       "      <td>NaN</td>\n",
       "      <td>5</td>\n",
       "      <td>38.00000</td>\n",
       "      <td>4</td>\n",
       "      <td>False</td>\n",
       "      <td>...</td>\n",
       "      <td>NaN</td>\n",
       "      <td>NaN</td>\n",
       "      <td>45.000000</td>\n",
       "      <td>52542</td>\n",
       "      <td>0</td>\n",
       "      <td>1</td>\n",
       "      <td>2018</td>\n",
       "      <td>other</td>\n",
       "      <td>0.644068</td>\n",
       "      <td>0.144068</td>\n",
       "    </tr>\n",
       "    <tr>\n",
       "      <th>22379</th>\n",
       "      <td>18</td>\n",
       "      <td>2.500</td>\n",
       "      <td>56.70</td>\n",
       "      <td>2018-02-11</td>\n",
       "      <td>2</td>\n",
       "      <td>NaN</td>\n",
       "      <td>3</td>\n",
       "      <td>29.70000</td>\n",
       "      <td>1</td>\n",
       "      <td>False</td>\n",
       "      <td>...</td>\n",
       "      <td>NaN</td>\n",
       "      <td>NaN</td>\n",
       "      <td>183.381172</td>\n",
       "      <td>44091</td>\n",
       "      <td>6</td>\n",
       "      <td>2</td>\n",
       "      <td>2018</td>\n",
       "      <td>first</td>\n",
       "      <td>0.523810</td>\n",
       "      <td>0.187170</td>\n",
       "    </tr>\n",
       "    <tr>\n",
       "      <th>22380</th>\n",
       "      <td>13</td>\n",
       "      <td>11.475</td>\n",
       "      <td>76.75</td>\n",
       "      <td>2017-03-28</td>\n",
       "      <td>2</td>\n",
       "      <td>3.00</td>\n",
       "      <td>17</td>\n",
       "      <td>34.67412</td>\n",
       "      <td>12</td>\n",
       "      <td>False</td>\n",
       "      <td>...</td>\n",
       "      <td>3.0</td>\n",
       "      <td>196.0</td>\n",
       "      <td>602.000000</td>\n",
       "      <td>149511</td>\n",
       "      <td>1</td>\n",
       "      <td>3</td>\n",
       "      <td>2017</td>\n",
       "      <td>other</td>\n",
       "      <td>0.451780</td>\n",
       "      <td>0.303583</td>\n",
       "    </tr>\n",
       "    <tr>\n",
       "      <th>22381</th>\n",
       "      <td>4</td>\n",
       "      <td>1.350</td>\n",
       "      <td>32.30</td>\n",
       "      <td>2017-07-21</td>\n",
       "      <td>1</td>\n",
       "      <td>2.50</td>\n",
       "      <td>5</td>\n",
       "      <td>12.30000</td>\n",
       "      <td>1</td>\n",
       "      <td>False</td>\n",
       "      <td>...</td>\n",
       "      <td>NaN</td>\n",
       "      <td>NaN</td>\n",
       "      <td>183.381172</td>\n",
       "      <td>41795</td>\n",
       "      <td>4</td>\n",
       "      <td>7</td>\n",
       "      <td>2017</td>\n",
       "      <td>first</td>\n",
       "      <td>0.380805</td>\n",
       "      <td>0.278638</td>\n",
       "    </tr>\n",
       "  </tbody>\n",
       "</table>\n",
       "<p>22382 rows × 29 columns</p>\n",
       "</div>"
      ],
      "text/plain": [
       "       total_images  last_price  total_area first_day_exposition  rooms  \\\n",
       "0                20      13.000      108.00           2019-03-07      3   \n",
       "1                 7       3.350       40.40           2018-12-04      1   \n",
       "2                10       5.196       56.00           2015-08-20      2   \n",
       "3                 2      10.000      100.00           2018-06-19      2   \n",
       "4                10       2.890       30.40           2018-09-10      1   \n",
       "...             ...         ...         ...                  ...    ...   \n",
       "22377             9       9.700      133.81           2017-03-21      3   \n",
       "22378            14       3.100       59.00           2018-01-15      3   \n",
       "22379            18       2.500       56.70           2018-02-11      2   \n",
       "22380            13      11.475       76.75           2017-03-28      2   \n",
       "22381             4       1.350       32.30           2017-07-21      1   \n",
       "\n",
       "       ceiling_height  floors_total  living_area  floor  is_apartment  ...  \\\n",
       "0                2.70            16     51.00000      8         False  ...   \n",
       "1                 NaN            11     18.60000      1         False  ...   \n",
       "2                 NaN             5     34.30000      4         False  ...   \n",
       "3                3.03            14     32.00000     13         False  ...   \n",
       "4                 NaN            12     14.40000      5         False  ...   \n",
       "...               ...           ...          ...    ...           ...  ...   \n",
       "22377            3.70             5     73.30000      3         False  ...   \n",
       "22378             NaN             5     38.00000      4         False  ...   \n",
       "22379             NaN             3     29.70000      1         False  ...   \n",
       "22380            3.00            17     34.67412     12         False  ...   \n",
       "22381            2.50             5     12.30000      1         False  ...   \n",
       "\n",
       "       ponds_around3000  ponds_nearest  days_exposition  price_for_meter  \\\n",
       "0                   2.0          755.0       183.381172           120370   \n",
       "1                   0.0            NaN        81.000000            82920   \n",
       "2                   2.0          574.0       558.000000            92785   \n",
       "3                   1.0           48.0       121.000000           100000   \n",
       "4                   NaN            NaN        55.000000            95065   \n",
       "...                 ...            ...              ...              ...   \n",
       "22377               3.0          381.0       183.381172            72490   \n",
       "22378               NaN            NaN        45.000000            52542   \n",
       "22379               NaN            NaN       183.381172            44091   \n",
       "22380               3.0          196.0       602.000000           149511   \n",
       "22381               NaN            NaN       183.381172            41795   \n",
       "\n",
       "      weekday_exposition  month_exposition  year_exposition  name_floor  \\\n",
       "0                      3                 3             2019       other   \n",
       "1                      1                12             2018       first   \n",
       "2                      3                 8             2015       other   \n",
       "3                      1                 6             2018       other   \n",
       "4                      0                 9             2018       other   \n",
       "...                  ...               ...              ...         ...   \n",
       "22377                  1                 3             2017       other   \n",
       "22378                  0                 1             2018       other   \n",
       "22379                  6                 2             2018       first   \n",
       "22380                  1                 3             2017       other   \n",
       "22381                  4                 7             2017       first   \n",
       "\n",
       "       ratio_liv_to_total  ratio_kitch_to_total  \n",
       "0                0.472222              0.231481  \n",
       "1                0.460396              0.272277  \n",
       "2                0.612500              0.148214  \n",
       "3                0.320000              0.410000  \n",
       "4                0.473684              0.299342  \n",
       "...                   ...                   ...  \n",
       "22377            0.547792              0.103356  \n",
       "22378            0.644068              0.144068  \n",
       "22379            0.523810              0.187170  \n",
       "22380            0.451780              0.303583  \n",
       "22381            0.380805              0.278638  \n",
       "\n",
       "[22382 rows x 29 columns]"
      ]
     },
     "execution_count": 367,
     "metadata": {},
     "output_type": "execute_result"
    }
   ],
   "source": [
    "data"
   ]
  },
  {
   "cell_type": "markdown",
   "metadata": {},
   "source": [
    "Replace the values of the days_exposition column with integer values for convenience:"
   ]
  },
  {
   "cell_type": "code",
   "execution_count": 368,
   "metadata": {},
   "outputs": [
    {
     "data": {
      "text/html": [
       "<div>\n",
       "<style scoped>\n",
       "    .dataframe tbody tr th:only-of-type {\n",
       "        vertical-align: middle;\n",
       "    }\n",
       "\n",
       "    .dataframe tbody tr th {\n",
       "        vertical-align: top;\n",
       "    }\n",
       "\n",
       "    .dataframe thead th {\n",
       "        text-align: right;\n",
       "    }\n",
       "</style>\n",
       "<table border=\"1\" class=\"dataframe\">\n",
       "  <thead>\n",
       "    <tr style=\"text-align: right;\">\n",
       "      <th></th>\n",
       "      <th>total_images</th>\n",
       "      <th>last_price</th>\n",
       "      <th>total_area</th>\n",
       "      <th>first_day_exposition</th>\n",
       "      <th>rooms</th>\n",
       "      <th>ceiling_height</th>\n",
       "      <th>floors_total</th>\n",
       "      <th>living_area</th>\n",
       "      <th>floor</th>\n",
       "      <th>is_apartment</th>\n",
       "      <th>...</th>\n",
       "      <th>ponds_around3000</th>\n",
       "      <th>ponds_nearest</th>\n",
       "      <th>days_exposition</th>\n",
       "      <th>price_for_meter</th>\n",
       "      <th>weekday_exposition</th>\n",
       "      <th>month_exposition</th>\n",
       "      <th>year_exposition</th>\n",
       "      <th>name_floor</th>\n",
       "      <th>ratio_liv_to_total</th>\n",
       "      <th>ratio_kitch_to_total</th>\n",
       "    </tr>\n",
       "  </thead>\n",
       "  <tbody>\n",
       "    <tr>\n",
       "      <th>0</th>\n",
       "      <td>20</td>\n",
       "      <td>13.000</td>\n",
       "      <td>108.00</td>\n",
       "      <td>2019-03-07</td>\n",
       "      <td>3</td>\n",
       "      <td>2.70</td>\n",
       "      <td>16</td>\n",
       "      <td>51.00000</td>\n",
       "      <td>8</td>\n",
       "      <td>False</td>\n",
       "      <td>...</td>\n",
       "      <td>2.0</td>\n",
       "      <td>755.0</td>\n",
       "      <td>183</td>\n",
       "      <td>120370</td>\n",
       "      <td>3</td>\n",
       "      <td>3</td>\n",
       "      <td>2019</td>\n",
       "      <td>other</td>\n",
       "      <td>0.472222</td>\n",
       "      <td>0.231481</td>\n",
       "    </tr>\n",
       "    <tr>\n",
       "      <th>1</th>\n",
       "      <td>7</td>\n",
       "      <td>3.350</td>\n",
       "      <td>40.40</td>\n",
       "      <td>2018-12-04</td>\n",
       "      <td>1</td>\n",
       "      <td>NaN</td>\n",
       "      <td>11</td>\n",
       "      <td>18.60000</td>\n",
       "      <td>1</td>\n",
       "      <td>False</td>\n",
       "      <td>...</td>\n",
       "      <td>0.0</td>\n",
       "      <td>NaN</td>\n",
       "      <td>81</td>\n",
       "      <td>82920</td>\n",
       "      <td>1</td>\n",
       "      <td>12</td>\n",
       "      <td>2018</td>\n",
       "      <td>first</td>\n",
       "      <td>0.460396</td>\n",
       "      <td>0.272277</td>\n",
       "    </tr>\n",
       "    <tr>\n",
       "      <th>2</th>\n",
       "      <td>10</td>\n",
       "      <td>5.196</td>\n",
       "      <td>56.00</td>\n",
       "      <td>2015-08-20</td>\n",
       "      <td>2</td>\n",
       "      <td>NaN</td>\n",
       "      <td>5</td>\n",
       "      <td>34.30000</td>\n",
       "      <td>4</td>\n",
       "      <td>False</td>\n",
       "      <td>...</td>\n",
       "      <td>2.0</td>\n",
       "      <td>574.0</td>\n",
       "      <td>558</td>\n",
       "      <td>92785</td>\n",
       "      <td>3</td>\n",
       "      <td>8</td>\n",
       "      <td>2015</td>\n",
       "      <td>other</td>\n",
       "      <td>0.612500</td>\n",
       "      <td>0.148214</td>\n",
       "    </tr>\n",
       "    <tr>\n",
       "      <th>3</th>\n",
       "      <td>2</td>\n",
       "      <td>10.000</td>\n",
       "      <td>100.00</td>\n",
       "      <td>2018-06-19</td>\n",
       "      <td>2</td>\n",
       "      <td>3.03</td>\n",
       "      <td>14</td>\n",
       "      <td>32.00000</td>\n",
       "      <td>13</td>\n",
       "      <td>False</td>\n",
       "      <td>...</td>\n",
       "      <td>1.0</td>\n",
       "      <td>48.0</td>\n",
       "      <td>121</td>\n",
       "      <td>100000</td>\n",
       "      <td>1</td>\n",
       "      <td>6</td>\n",
       "      <td>2018</td>\n",
       "      <td>other</td>\n",
       "      <td>0.320000</td>\n",
       "      <td>0.410000</td>\n",
       "    </tr>\n",
       "    <tr>\n",
       "      <th>4</th>\n",
       "      <td>10</td>\n",
       "      <td>2.890</td>\n",
       "      <td>30.40</td>\n",
       "      <td>2018-09-10</td>\n",
       "      <td>1</td>\n",
       "      <td>NaN</td>\n",
       "      <td>12</td>\n",
       "      <td>14.40000</td>\n",
       "      <td>5</td>\n",
       "      <td>False</td>\n",
       "      <td>...</td>\n",
       "      <td>NaN</td>\n",
       "      <td>NaN</td>\n",
       "      <td>55</td>\n",
       "      <td>95065</td>\n",
       "      <td>0</td>\n",
       "      <td>9</td>\n",
       "      <td>2018</td>\n",
       "      <td>other</td>\n",
       "      <td>0.473684</td>\n",
       "      <td>0.299342</td>\n",
       "    </tr>\n",
       "    <tr>\n",
       "      <th>...</th>\n",
       "      <td>...</td>\n",
       "      <td>...</td>\n",
       "      <td>...</td>\n",
       "      <td>...</td>\n",
       "      <td>...</td>\n",
       "      <td>...</td>\n",
       "      <td>...</td>\n",
       "      <td>...</td>\n",
       "      <td>...</td>\n",
       "      <td>...</td>\n",
       "      <td>...</td>\n",
       "      <td>...</td>\n",
       "      <td>...</td>\n",
       "      <td>...</td>\n",
       "      <td>...</td>\n",
       "      <td>...</td>\n",
       "      <td>...</td>\n",
       "      <td>...</td>\n",
       "      <td>...</td>\n",
       "      <td>...</td>\n",
       "      <td>...</td>\n",
       "    </tr>\n",
       "    <tr>\n",
       "      <th>22377</th>\n",
       "      <td>9</td>\n",
       "      <td>9.700</td>\n",
       "      <td>133.81</td>\n",
       "      <td>2017-03-21</td>\n",
       "      <td>3</td>\n",
       "      <td>3.70</td>\n",
       "      <td>5</td>\n",
       "      <td>73.30000</td>\n",
       "      <td>3</td>\n",
       "      <td>False</td>\n",
       "      <td>...</td>\n",
       "      <td>3.0</td>\n",
       "      <td>381.0</td>\n",
       "      <td>183</td>\n",
       "      <td>72490</td>\n",
       "      <td>1</td>\n",
       "      <td>3</td>\n",
       "      <td>2017</td>\n",
       "      <td>other</td>\n",
       "      <td>0.547792</td>\n",
       "      <td>0.103356</td>\n",
       "    </tr>\n",
       "    <tr>\n",
       "      <th>22378</th>\n",
       "      <td>14</td>\n",
       "      <td>3.100</td>\n",
       "      <td>59.00</td>\n",
       "      <td>2018-01-15</td>\n",
       "      <td>3</td>\n",
       "      <td>NaN</td>\n",
       "      <td>5</td>\n",
       "      <td>38.00000</td>\n",
       "      <td>4</td>\n",
       "      <td>False</td>\n",
       "      <td>...</td>\n",
       "      <td>NaN</td>\n",
       "      <td>NaN</td>\n",
       "      <td>45</td>\n",
       "      <td>52542</td>\n",
       "      <td>0</td>\n",
       "      <td>1</td>\n",
       "      <td>2018</td>\n",
       "      <td>other</td>\n",
       "      <td>0.644068</td>\n",
       "      <td>0.144068</td>\n",
       "    </tr>\n",
       "    <tr>\n",
       "      <th>22379</th>\n",
       "      <td>18</td>\n",
       "      <td>2.500</td>\n",
       "      <td>56.70</td>\n",
       "      <td>2018-02-11</td>\n",
       "      <td>2</td>\n",
       "      <td>NaN</td>\n",
       "      <td>3</td>\n",
       "      <td>29.70000</td>\n",
       "      <td>1</td>\n",
       "      <td>False</td>\n",
       "      <td>...</td>\n",
       "      <td>NaN</td>\n",
       "      <td>NaN</td>\n",
       "      <td>183</td>\n",
       "      <td>44091</td>\n",
       "      <td>6</td>\n",
       "      <td>2</td>\n",
       "      <td>2018</td>\n",
       "      <td>first</td>\n",
       "      <td>0.523810</td>\n",
       "      <td>0.187170</td>\n",
       "    </tr>\n",
       "    <tr>\n",
       "      <th>22380</th>\n",
       "      <td>13</td>\n",
       "      <td>11.475</td>\n",
       "      <td>76.75</td>\n",
       "      <td>2017-03-28</td>\n",
       "      <td>2</td>\n",
       "      <td>3.00</td>\n",
       "      <td>17</td>\n",
       "      <td>34.67412</td>\n",
       "      <td>12</td>\n",
       "      <td>False</td>\n",
       "      <td>...</td>\n",
       "      <td>3.0</td>\n",
       "      <td>196.0</td>\n",
       "      <td>602</td>\n",
       "      <td>149511</td>\n",
       "      <td>1</td>\n",
       "      <td>3</td>\n",
       "      <td>2017</td>\n",
       "      <td>other</td>\n",
       "      <td>0.451780</td>\n",
       "      <td>0.303583</td>\n",
       "    </tr>\n",
       "    <tr>\n",
       "      <th>22381</th>\n",
       "      <td>4</td>\n",
       "      <td>1.350</td>\n",
       "      <td>32.30</td>\n",
       "      <td>2017-07-21</td>\n",
       "      <td>1</td>\n",
       "      <td>2.50</td>\n",
       "      <td>5</td>\n",
       "      <td>12.30000</td>\n",
       "      <td>1</td>\n",
       "      <td>False</td>\n",
       "      <td>...</td>\n",
       "      <td>NaN</td>\n",
       "      <td>NaN</td>\n",
       "      <td>183</td>\n",
       "      <td>41795</td>\n",
       "      <td>4</td>\n",
       "      <td>7</td>\n",
       "      <td>2017</td>\n",
       "      <td>first</td>\n",
       "      <td>0.380805</td>\n",
       "      <td>0.278638</td>\n",
       "    </tr>\n",
       "  </tbody>\n",
       "</table>\n",
       "<p>22382 rows × 29 columns</p>\n",
       "</div>"
      ],
      "text/plain": [
       "       total_images  last_price  total_area first_day_exposition  rooms  \\\n",
       "0                20      13.000      108.00           2019-03-07      3   \n",
       "1                 7       3.350       40.40           2018-12-04      1   \n",
       "2                10       5.196       56.00           2015-08-20      2   \n",
       "3                 2      10.000      100.00           2018-06-19      2   \n",
       "4                10       2.890       30.40           2018-09-10      1   \n",
       "...             ...         ...         ...                  ...    ...   \n",
       "22377             9       9.700      133.81           2017-03-21      3   \n",
       "22378            14       3.100       59.00           2018-01-15      3   \n",
       "22379            18       2.500       56.70           2018-02-11      2   \n",
       "22380            13      11.475       76.75           2017-03-28      2   \n",
       "22381             4       1.350       32.30           2017-07-21      1   \n",
       "\n",
       "       ceiling_height  floors_total  living_area  floor  is_apartment  ...  \\\n",
       "0                2.70            16     51.00000      8         False  ...   \n",
       "1                 NaN            11     18.60000      1         False  ...   \n",
       "2                 NaN             5     34.30000      4         False  ...   \n",
       "3                3.03            14     32.00000     13         False  ...   \n",
       "4                 NaN            12     14.40000      5         False  ...   \n",
       "...               ...           ...          ...    ...           ...  ...   \n",
       "22377            3.70             5     73.30000      3         False  ...   \n",
       "22378             NaN             5     38.00000      4         False  ...   \n",
       "22379             NaN             3     29.70000      1         False  ...   \n",
       "22380            3.00            17     34.67412     12         False  ...   \n",
       "22381            2.50             5     12.30000      1         False  ...   \n",
       "\n",
       "       ponds_around3000  ponds_nearest  days_exposition  price_for_meter  \\\n",
       "0                   2.0          755.0              183           120370   \n",
       "1                   0.0            NaN               81            82920   \n",
       "2                   2.0          574.0              558            92785   \n",
       "3                   1.0           48.0              121           100000   \n",
       "4                   NaN            NaN               55            95065   \n",
       "...                 ...            ...              ...              ...   \n",
       "22377               3.0          381.0              183            72490   \n",
       "22378               NaN            NaN               45            52542   \n",
       "22379               NaN            NaN              183            44091   \n",
       "22380               3.0          196.0              602           149511   \n",
       "22381               NaN            NaN              183            41795   \n",
       "\n",
       "      weekday_exposition  month_exposition  year_exposition  name_floor  \\\n",
       "0                      3                 3             2019       other   \n",
       "1                      1                12             2018       first   \n",
       "2                      3                 8             2015       other   \n",
       "3                      1                 6             2018       other   \n",
       "4                      0                 9             2018       other   \n",
       "...                  ...               ...              ...         ...   \n",
       "22377                  1                 3             2017       other   \n",
       "22378                  0                 1             2018       other   \n",
       "22379                  6                 2             2018       first   \n",
       "22380                  1                 3             2017       other   \n",
       "22381                  4                 7             2017       first   \n",
       "\n",
       "       ratio_liv_to_total  ratio_kitch_to_total  \n",
       "0                0.472222              0.231481  \n",
       "1                0.460396              0.272277  \n",
       "2                0.612500              0.148214  \n",
       "3                0.320000              0.410000  \n",
       "4                0.473684              0.299342  \n",
       "...                   ...                   ...  \n",
       "22377            0.547792              0.103356  \n",
       "22378            0.644068              0.144068  \n",
       "22379            0.523810              0.187170  \n",
       "22380            0.451780              0.303583  \n",
       "22381            0.380805              0.278638  \n",
       "\n",
       "[22382 rows x 29 columns]"
      ]
     },
     "execution_count": 368,
     "metadata": {},
     "output_type": "execute_result"
    }
   ],
   "source": [
    "data['days_exposition'] = data['days_exposition'].astype('int')\n",
    "data"
   ]
  },
  {
   "cell_type": "markdown",
   "metadata": {},
   "source": [
    "Make a diagram of the scope:"
   ]
  },
  {
   "cell_type": "code",
   "execution_count": 369,
   "metadata": {},
   "outputs": [
    {
     "data": {
      "text/plain": [
       "(1.0, 1580.0)"
      ]
     },
     "execution_count": 369,
     "metadata": {},
     "output_type": "execute_result"
    },
    {
     "data": {
      "image/png": "[encoded data removed]",
      "text/plain": [
       "<Figure size 432x288 with 1 Axes>"
      ]
     },
     "metadata": {
      "needs_background": "light"
     },
     "output_type": "display_data"
    }
   ],
   "source": [
    "import matplotlib.pyplot as plt\n",
    "plt.boxplot(data[data['days_exposition']!=0]['days_exposition'])\n",
    "plt.ylim(1,data['days_exposition'].max())"
   ]
  },
  {
   "cell_type": "markdown",
   "metadata": {},
   "source": [
    "It can be seen from the diagram that there are many outliers with the number of exposure days over 400 days to 1580 days. Build two histograms using these values:"
   ]
  },
  {
   "cell_type": "markdown",
   "metadata": {},
   "source": [
    "Build a histogram of the values of the days_exposition column:"
   ]
  },
  {
   "cell_type": "code",
   "execution_count": 370,
   "metadata": {
    "scrolled": true
   },
   "outputs": [
    {
     "data": {
      "text/plain": [
       "<AxesSubplot:ylabel='Frequency'>"
      ]
     },
     "execution_count": 370,
     "metadata": {},
     "output_type": "execute_result"
    },
    {
     "data": {
      "image/png": "[encoded data removed]",
      "text/plain": [
       "<Figure size 360x216 with 1 Axes>"
      ]
     },
     "metadata": {
      "needs_background": "light"
     },
     "output_type": "display_data"
    }
   ],
   "source": [
    "data.plot(y = 'days_exposition', kind = 'hist', bins = 100, grid=True, figsize = (5,3), range = (1,400))"
   ]
  },
  {
   "cell_type": "code",
   "execution_count": 371,
   "metadata": {
    "scrolled": true
   },
   "outputs": [
    {
     "data": {
      "text/plain": [
       "<AxesSubplot:ylabel='Frequency'>"
      ]
     },
     "execution_count": 371,
     "metadata": {},
     "output_type": "execute_result"
    },
    {
     "data": {
      "image/png": "[encoded data removed]",
      "text/plain": [
       "<Figure size 360x216 with 1 Axes>"
      ]
     },
     "metadata": {
      "needs_background": "light"
     },
     "output_type": "display_data"
    }
   ],
   "source": [
    "data.plot(y = 'days_exposition', kind = 'hist', bins = 100, grid=True, figsize = (5,3), range = (1,1580))"
   ]
  },
  {
   "cell_type": "markdown",
   "metadata": {},
   "source": [
    "Request a list of characteristic values:"
   ]
  },
  {
   "cell_type": "code",
   "execution_count": 372,
   "metadata": {},
   "outputs": [
    {
     "data": {
      "text/plain": [
       "count    22382.000000\n",
       "mean       183.328344\n",
       "std        205.038938\n",
       "min          1.000000\n",
       "25%         47.000000\n",
       "50%        129.000000\n",
       "75%        201.000000\n",
       "max       1580.000000\n",
       "Name: days_exposition, dtype: float64"
      ]
     },
     "execution_count": 372,
     "metadata": {},
     "output_type": "execute_result"
    }
   ],
   "source": [
    "data[data['days_exposition']!=0]['days_exposition'].describe()"
   ]
  },
  {
   "cell_type": "markdown",
   "metadata": {},
   "source": [
    "Based on the list of characteristic values, we can say that the average number of days of ad placement is 183 days, the median is 129 days, while the data contains information about the duration of ad placement from 1 day to 1580 days. Based on the scope of the distribution, the duration of ad placement of more than 400 days is a rarity or anomaly. Find the number of the brightest anomalies:"
   ]
  },
  {
   "cell_type": "code",
   "execution_count": 373,
   "metadata": {},
   "outputs": [
    {
     "data": {
      "text/plain": [
       "183     3129\n",
       "45       757\n",
       "60       489\n",
       "7        212\n",
       "90       193\n",
       "        ... \n",
       "795        1\n",
       "1089       1\n",
       "807        1\n",
       "978        1\n",
       "971        1\n",
       "Name: days_exposition, Length: 1133, dtype: int64"
      ]
     },
     "execution_count": 373,
     "metadata": {},
     "output_type": "execute_result"
    }
   ],
   "source": [
    "data[data['days_exposition']!=0]['days_exposition'].value_counts()"
   ]
  },
  {
   "cell_type": "markdown",
   "metadata": {},
   "source": [
    "The most striking anomalies in the duration of ad placement are the following periods equal to 183 days, 45 days, 60 days, 7 days, 90 days. Based on the specifics of these numbers, the duration of ad placement is limited to these numbers, possibly as a result of differences in the type and cost of ad placement: a week, 1.5 months, 2 months, 3 months, half a year + 3 days (error or bonus)."
   ]
  },
  {
   "cell_type": "markdown",
   "metadata": {},
   "source": [
    "Build the histogram again within the normal range:"
   ]
  },
  {
   "cell_type": "code",
   "execution_count": 374,
   "metadata": {},
   "outputs": [
    {
     "data": {
      "text/plain": [
       "<AxesSubplot:ylabel='Frequency'>"
      ]
     },
     "execution_count": 374,
     "metadata": {},
     "output_type": "execute_result"
    },
    {
     "data": {
      "image/png": "[encoded data removed]",
      "text/plain": [
       "<Figure size 360x216 with 1 Axes>"
      ]
     },
     "metadata": {
      "needs_background": "light"
     },
     "output_type": "display_data"
    }
   ],
   "source": [
    "data.plot(y = 'days_exposition', kind = 'hist', bins = 20, grid=True, figsize = (5,3), range = (1,258))"
   ]
  },
  {
   "cell_type": "markdown",
   "metadata": {},
   "source": [
    "Obviously, the values that stand out are those that indicate the withdrawal of the ad after 183, 45, 60.7 and 90 days. It is necessary to request information about such features from the customer of the study."
   ]
  },
  {
   "cell_type": "markdown",
   "metadata": {},
   "source": [
    "### Remove rare and erratic values. Describe what features have been found."
   ]
  },
  {
   "cell_type": "markdown",
   "metadata": {},
   "source": [
    "Create a new data frame with data cleared of anomalies:"
   ]
  },
  {
   "cell_type": "code",
   "execution_count": 375,
   "metadata": {},
   "outputs": [],
   "source": [
    "clean_data = data.query('days_exposition != 183 and days_exposition != 45 and days_exposition != 60 and days_exposition != 7 and days_exposition != 90')"
   ]
  },
  {
   "cell_type": "markdown",
   "metadata": {},
   "source": [
    "Build boxplot:"
   ]
  },
  {
   "cell_type": "code",
   "execution_count": 376,
   "metadata": {},
   "outputs": [
    {
     "data": {
      "text/plain": [
       "(1.0, 1580.0)"
      ]
     },
     "execution_count": 376,
     "metadata": {},
     "output_type": "execute_result"
    },
    {
     "data": {
      "image/png": "[encoded data removed]",
      "text/plain": [
       "<Figure size 432x288 with 1 Axes>"
      ]
     },
     "metadata": {
      "needs_background": "light"
     },
     "output_type": "display_data"
    }
   ],
   "source": [
    "plt.boxplot(clean_data['days_exposition'])\n",
    "plt.ylim(1,1580)"
   ]
  },
  {
   "cell_type": "markdown",
   "metadata": {},
   "source": [
    "Build histograms:"
   ]
  },
  {
   "cell_type": "code",
   "execution_count": 377,
   "metadata": {},
   "outputs": [
    {
     "data": {
      "text/plain": [
       "<AxesSubplot:ylabel='Frequency'>"
      ]
     },
     "execution_count": 377,
     "metadata": {},
     "output_type": "execute_result"
    },
    {
     "data": {
      "image/png": "[encoded data removed]",
      "text/plain": [
       "<Figure size 360x216 with 1 Axes>"
      ]
     },
     "metadata": {
      "needs_background": "light"
     },
     "output_type": "display_data"
    },
    {
     "data": {
      "image/png": "[encoded data removed]",
      "text/plain": [
       "<Figure size 360x216 with 1 Axes>"
      ]
     },
     "metadata": {
      "needs_background": "light"
     },
     "output_type": "display_data"
    }
   ],
   "source": [
    "clean_data.plot(y = 'days_exposition', kind = 'hist', bins = 30, grid=True, figsize = (5,3), range = (1,1580))\n",
    "clean_data.plot(y = 'days_exposition', kind = 'hist', bins = 100, grid=True, figsize = (5,3), range = (1,600))"
   ]
  },
  {
   "cell_type": "code",
   "execution_count": 378,
   "metadata": {},
   "outputs": [
    {
     "data": {
      "text/plain": [
       "count    17602.000000\n",
       "mean       195.908931\n",
       "std        227.122055\n",
       "min          1.000000\n",
       "25%         44.000000\n",
       "50%        113.000000\n",
       "75%        259.000000\n",
       "max       1580.000000\n",
       "Name: days_exposition, dtype: float64"
      ]
     },
     "execution_count": 378,
     "metadata": {},
     "output_type": "execute_result"
    }
   ],
   "source": [
    "clean_data['days_exposition'].describe()"
   ]
  },
  {
   "cell_type": "markdown",
   "metadata": {},
   "source": [
    "Thus, filtering data from anomalies helped to identify more correct data: the duration of ad placement is from 1 to 1580 days, the average duration of ad placement is 195 days, the median is 113 days. Based on the scope of the distribution, the duration of the ad placement of more than 600 days is an anomaly. At the same time, most often the ad is closed after 44 days. If an ad is closed earlier than 195 days, it is on average faster than it happens. An ad taken earlier than 44 days is a very fast result, later than 600 days is a very slow result."
   ]
  },
  {
   "cell_type": "markdown",
   "metadata": {},
   "source": [
    "Remove the abnormal values in the ceiling_height and last_price columns from the dataset:"
   ]
  },
  {
   "cell_type": "code",
   "execution_count": 379,
   "metadata": {},
   "outputs": [],
   "source": [
    "clean_data = clean_data.query('ceiling_height != 32 and last_price != 0.012190')"
   ]
  },
  {
   "cell_type": "code",
   "execution_count": 380,
   "metadata": {},
   "outputs": [],
   "source": [
    "clean_data = clean_data.query('ceiling_height != 1 and rooms < 6 and last_price < 12 and total_area < 120')"
   ]
  },
  {
   "cell_type": "markdown",
   "metadata": {},
   "source": [
    "Additionally, rare and erratic values in such columns as ceiling height, number of rooms, price and area of real estate were excluded from the data."
   ]
  },
  {
   "cell_type": "markdown",
   "metadata": {},
   "source": [
    "### What factors most affect the cost of an apartment? \n",
    "We need to check whether the price depends on the area, number of rooms, distance from the center; the dependence of the price on which floor the apartment is located: the first, last or other; as well as the dependence of the price on the date of placement: day of the week, month and year."
   ]
  },
  {
   "cell_type": "markdown",
   "metadata": {},
   "source": [
    "Study the dependence of the price of an apartment on its area using summary tables:"
   ]
  },
  {
   "cell_type": "code",
   "execution_count": 381,
   "metadata": {},
   "outputs": [
    {
     "data": {
      "text/plain": [
       "-0.07434448346909604"
      ]
     },
     "execution_count": 381,
     "metadata": {},
     "output_type": "execute_result"
    },
    {
     "data": {
      "image/png": "[encoded data removed]",
      "text/plain": [
       "<Figure size 432x288 with 1 Axes>"
      ]
     },
     "metadata": {
      "needs_background": "light"
     },
     "output_type": "display_data"
    }
   ],
   "source": [
    "total_area_pivot_table = clean_data.pivot_table(index = 'total_area', values = 'price_for_meter', aggfunc = ['mean', 'count', 'median'])\n",
    "total_area_pivot_table.columns = ['mean', 'count', 'median']\n",
    "total_area_pivot_table.plot(y = 'median', style = 'o')\n",
    "\n",
    "total_area_pivot_table.sort_values('median', ascending = False)\n",
    "\n",
    "clean_data['total_area'].corr(clean_data['price_for_meter'])"
   ]
  },
  {
   "cell_type": "markdown",
   "metadata": {},
   "source": [
    "The graph shows that the correlation between the two parameters is low (0.321) and the increase in the cost per square meter with an increase in the area of the apartment occurs, but weakly."
   ]
  },
  {
   "cell_type": "markdown",
   "metadata": {},
   "source": [
    "Study the dependence of the price of an apartment on the number of its rooms using summary tables. To do this, first investigate the presence of abnormal values:"
   ]
  },
  {
   "cell_type": "code",
   "execution_count": 382,
   "metadata": {},
   "outputs": [
    {
     "data": {
      "text/plain": [
       "(0.0, 10.0)"
      ]
     },
     "execution_count": 382,
     "metadata": {},
     "output_type": "execute_result"
    },
    {
     "data": {
      "image/png": "[encoded data removed]",
      "text/plain": [
       "<Figure size 432x288 with 1 Axes>"
      ]
     },
     "metadata": {
      "needs_background": "light"
     },
     "output_type": "display_data"
    }
   ],
   "source": [
    "plt.boxplot(clean_data['rooms'])\n",
    "plt.ylim(0,10)"
   ]
  },
  {
   "cell_type": "markdown",
   "metadata": {},
   "source": [
    "Based on the range of a set of data, we see that the number of rooms more than 6 is an anomaly. Study the dependence using this data:"
   ]
  },
  {
   "cell_type": "code",
   "execution_count": 383,
   "metadata": {
    "scrolled": true
   },
   "outputs": [
    {
     "data": {
      "text/plain": [
       "-0.23124112812463843"
      ]
     },
     "execution_count": 383,
     "metadata": {},
     "output_type": "execute_result"
    },
    {
     "data": {
      "image/png": "[encoded data removed]",
      "text/plain": [
       "<Figure size 432x288 with 1 Axes>"
      ]
     },
     "metadata": {
      "needs_background": "light"
     },
     "output_type": "display_data"
    }
   ],
   "source": [
    "rooms_pivot_table = clean_data.pivot_table(index = 'rooms', values = 'price_for_meter', aggfunc = ['mean', 'count', 'median'])\n",
    "rooms_pivot_table.columns = ['mean', 'count', 'median']\n",
    "rooms_pivot_table.query('count > 6').plot(y = 'median')\n",
    "\n",
    "rooms_pivot_table.query('count > 6').sort_values('median', ascending = False)\n",
    "\n",
    "clean_data['rooms'].corr(data['price_for_meter'])\n"
   ]
  },
  {
   "cell_type": "markdown",
   "metadata": {},
   "source": [
    "Based on the graph, we see that the cost per square meter is gradually decreasing in apartments up to 3 rooms, but then increases. This is probably due to the fact that the number of rooms in an apartment is up to 3 pieces - often due to the need to accommodate a standard number of family members, and not the redundancy of opportunities, whereas the number of rooms is more than 3 - more common among wealthier people, which affects prices accordingly. "
   ]
  },
  {
   "cell_type": "markdown",
   "metadata": {},
   "source": [
    "Study the dependence of the price of an apartment on its distance from the center:"
   ]
  },
  {
   "cell_type": "code",
   "execution_count": 384,
   "metadata": {},
   "outputs": [
    {
     "data": {
      "text/plain": [
       "-0.3951090911065823"
      ]
     },
     "execution_count": 384,
     "metadata": {},
     "output_type": "execute_result"
    },
    {
     "data": {
      "image/png": "[encoded data removed]",
      "text/plain": [
       "<Figure size 432x288 with 1 Axes>"
      ]
     },
     "metadata": {
      "needs_background": "light"
     },
     "output_type": "display_data"
    }
   ],
   "source": [
    "clean_data.plot(kind = 'scatter', y = 'price_for_meter', x = 'city_centers_nearest', alpha = 0.3)\n",
    "\n",
    "clean_data['city_centers_nearest'].corr(clean_data['price_for_meter'])"
   ]
  },
  {
   "cell_type": "markdown",
   "metadata": {},
   "source": [
    "The expected reality was confirmed - the closer the apartment is to the city center, the higher its cost."
   ]
  },
  {
   "cell_type": "markdown",
   "metadata": {},
   "source": [
    "Study the dependence of the apartment price on the floor:"
   ]
  },
  {
   "cell_type": "code",
   "execution_count": 385,
   "metadata": {},
   "outputs": [
    {
     "data": {
      "text/html": [
       "<div>\n",
       "<style scoped>\n",
       "    .dataframe tbody tr th:only-of-type {\n",
       "        vertical-align: middle;\n",
       "    }\n",
       "\n",
       "    .dataframe tbody tr th {\n",
       "        vertical-align: top;\n",
       "    }\n",
       "\n",
       "    .dataframe thead th {\n",
       "        text-align: right;\n",
       "    }\n",
       "</style>\n",
       "<table border=\"1\" class=\"dataframe\">\n",
       "  <thead>\n",
       "    <tr style=\"text-align: right;\">\n",
       "      <th></th>\n",
       "      <th>mean</th>\n",
       "      <th>count</th>\n",
       "      <th>median</th>\n",
       "    </tr>\n",
       "    <tr>\n",
       "      <th>name_floor</th>\n",
       "      <th></th>\n",
       "      <th></th>\n",
       "      <th></th>\n",
       "    </tr>\n",
       "  </thead>\n",
       "  <tbody>\n",
       "    <tr>\n",
       "      <th>first</th>\n",
       "      <td>78929.669462</td>\n",
       "      <td>2027</td>\n",
       "      <td>80405</td>\n",
       "    </tr>\n",
       "    <tr>\n",
       "      <th>last</th>\n",
       "      <td>84615.069565</td>\n",
       "      <td>2185</td>\n",
       "      <td>86315</td>\n",
       "    </tr>\n",
       "    <tr>\n",
       "      <th>other</th>\n",
       "      <td>95927.774856</td>\n",
       "      <td>11979</td>\n",
       "      <td>95592</td>\n",
       "    </tr>\n",
       "  </tbody>\n",
       "</table>\n",
       "</div>"
      ],
      "text/plain": [
       "                    mean  count  median\n",
       "name_floor                             \n",
       "first       78929.669462   2027   80405\n",
       "last        84615.069565   2185   86315\n",
       "other       95927.774856  11979   95592"
      ]
     },
     "execution_count": 385,
     "metadata": {},
     "output_type": "execute_result"
    },
    {
     "data": {
      "image/png": "[encoded data removed]",
      "text/plain": [
       "<Figure size 432x288 with 1 Axes>"
      ]
     },
     "metadata": {
      "needs_background": "light"
     },
     "output_type": "display_data"
    }
   ],
   "source": [
    "name_floor_center_pivot_table = clean_data.pivot_table(index = 'name_floor', values = 'price_for_meter', aggfunc = ['mean', 'count', 'median'])\n",
    "name_floor_center_pivot_table.columns = ['mean', 'count', 'median']\n",
    "name_floor_center_pivot_table.plot(y = 'median')\n",
    "name_floor_center_pivot_table"
   ]
  },
  {
   "cell_type": "markdown",
   "metadata": {},
   "source": [
    "Based on the graph, we see that the apartments located on the first floor are expected to be cheaper than the rest of the apartments. At the same time, apartments on the last (highest) floor are cheaper than apartments located on other floors (not the first)."
   ]
  },
  {
   "cell_type": "markdown",
   "metadata": {},
   "source": [
    "Study the dependence of the apartment price on the date of placement: day of the week, month and year:"
   ]
  },
  {
   "cell_type": "markdown",
   "metadata": {},
   "source": [
    "1. Study the dependence of the apartment price on the day of the week of the ad placement:"
   ]
  },
  {
   "cell_type": "code",
   "execution_count": 386,
   "metadata": {},
   "outputs": [
    {
     "data": {
      "text/html": [
       "<div>\n",
       "<style scoped>\n",
       "    .dataframe tbody tr th:only-of-type {\n",
       "        vertical-align: middle;\n",
       "    }\n",
       "\n",
       "    .dataframe tbody tr th {\n",
       "        vertical-align: top;\n",
       "    }\n",
       "\n",
       "    .dataframe thead th {\n",
       "        text-align: right;\n",
       "    }\n",
       "</style>\n",
       "<table border=\"1\" class=\"dataframe\">\n",
       "  <thead>\n",
       "    <tr style=\"text-align: right;\">\n",
       "      <th></th>\n",
       "      <th>mean</th>\n",
       "      <th>count</th>\n",
       "      <th>median</th>\n",
       "    </tr>\n",
       "    <tr>\n",
       "      <th>weekday_exposition</th>\n",
       "      <th></th>\n",
       "      <th></th>\n",
       "      <th></th>\n",
       "    </tr>\n",
       "  </thead>\n",
       "  <tbody>\n",
       "    <tr>\n",
       "      <th>2</th>\n",
       "      <td>92423.333208</td>\n",
       "      <td>2662</td>\n",
       "      <td>93273.5</td>\n",
       "    </tr>\n",
       "    <tr>\n",
       "      <th>3</th>\n",
       "      <td>92657.146940</td>\n",
       "      <td>2974</td>\n",
       "      <td>93103.0</td>\n",
       "    </tr>\n",
       "    <tr>\n",
       "      <th>0</th>\n",
       "      <td>92632.221949</td>\n",
       "      <td>2442</td>\n",
       "      <td>92857.0</td>\n",
       "    </tr>\n",
       "    <tr>\n",
       "      <th>1</th>\n",
       "      <td>92370.690401</td>\n",
       "      <td>2865</td>\n",
       "      <td>92857.0</td>\n",
       "    </tr>\n",
       "    <tr>\n",
       "      <th>4</th>\n",
       "      <td>91923.865296</td>\n",
       "      <td>2821</td>\n",
       "      <td>92152.0</td>\n",
       "    </tr>\n",
       "    <tr>\n",
       "      <th>6</th>\n",
       "      <td>91682.696729</td>\n",
       "      <td>1131</td>\n",
       "      <td>91611.0</td>\n",
       "    </tr>\n",
       "    <tr>\n",
       "      <th>5</th>\n",
       "      <td>91465.776235</td>\n",
       "      <td>1296</td>\n",
       "      <td>91152.0</td>\n",
       "    </tr>\n",
       "  </tbody>\n",
       "</table>\n",
       "</div>"
      ],
      "text/plain": [
       "                            mean  count   median\n",
       "weekday_exposition                              \n",
       "2                   92423.333208   2662  93273.5\n",
       "3                   92657.146940   2974  93103.0\n",
       "0                   92632.221949   2442  92857.0\n",
       "1                   92370.690401   2865  92857.0\n",
       "4                   91923.865296   2821  92152.0\n",
       "6                   91682.696729   1131  91611.0\n",
       "5                   91465.776235   1296  91152.0"
      ]
     },
     "execution_count": 386,
     "metadata": {},
     "output_type": "execute_result"
    },
    {
     "data": {
      "image/png": "[encoded data removed]",
      "text/plain": [
       "<Figure size 432x288 with 1 Axes>"
      ]
     },
     "metadata": {
      "needs_background": "light"
     },
     "output_type": "display_data"
    }
   ],
   "source": [
    "weekday_exposition_pivot_table = clean_data.pivot_table(index = 'weekday_exposition', values = 'price_for_meter', aggfunc = ['mean', 'count', 'median'])\n",
    "weekday_exposition_pivot_table.columns = ['mean', 'count', 'median']\n",
    "weekday_exposition_pivot_table.plot(y = 'median')\n",
    "\n",
    "weekday_exposition_pivot_table.sort_values('median', ascending = False)"
   ]
  },
  {
   "cell_type": "markdown",
   "metadata": {},
   "source": [
    "Based on the graph, we see the following dynamics of price changes: apartments for sale in the first half of the week are more expensive (the cost of an apartment gradually increases by Wednesday), then we see a sharp decline in the cost of apartments for sale in the second half of the week. Perhaps this dynamic is due to the fact that people tend to start something at the beginning of the week and are positive, but their expectations are adjusted over time towards more realistic (more adequate to the demand price)."
   ]
  },
  {
   "cell_type": "markdown",
   "metadata": {},
   "source": [
    "2. Study the dependence of the apartment price on the month of placement of the ad:"
   ]
  },
  {
   "cell_type": "code",
   "execution_count": 387,
   "metadata": {},
   "outputs": [
    {
     "data": {
      "text/html": [
       "<div>\n",
       "<style scoped>\n",
       "    .dataframe tbody tr th:only-of-type {\n",
       "        vertical-align: middle;\n",
       "    }\n",
       "\n",
       "    .dataframe tbody tr th {\n",
       "        vertical-align: top;\n",
       "    }\n",
       "\n",
       "    .dataframe thead th {\n",
       "        text-align: right;\n",
       "    }\n",
       "</style>\n",
       "<table border=\"1\" class=\"dataframe\">\n",
       "  <thead>\n",
       "    <tr style=\"text-align: right;\">\n",
       "      <th></th>\n",
       "      <th>mean</th>\n",
       "      <th>count</th>\n",
       "      <th>median</th>\n",
       "    </tr>\n",
       "    <tr>\n",
       "      <th>month_exposition</th>\n",
       "      <th></th>\n",
       "      <th></th>\n",
       "      <th></th>\n",
       "    </tr>\n",
       "  </thead>\n",
       "  <tbody>\n",
       "    <tr>\n",
       "      <th>8</th>\n",
       "      <td>94166.413230</td>\n",
       "      <td>1285</td>\n",
       "      <td>94370.0</td>\n",
       "    </tr>\n",
       "    <tr>\n",
       "      <th>1</th>\n",
       "      <td>93254.679435</td>\n",
       "      <td>992</td>\n",
       "      <td>94062.0</td>\n",
       "    </tr>\n",
       "    <tr>\n",
       "      <th>9</th>\n",
       "      <td>93882.709566</td>\n",
       "      <td>1453</td>\n",
       "      <td>93859.0</td>\n",
       "    </tr>\n",
       "    <tr>\n",
       "      <th>2</th>\n",
       "      <td>92189.586833</td>\n",
       "      <td>1762</td>\n",
       "      <td>93273.5</td>\n",
       "    </tr>\n",
       "    <tr>\n",
       "      <th>11</th>\n",
       "      <td>92029.182456</td>\n",
       "      <td>1710</td>\n",
       "      <td>92786.0</td>\n",
       "    </tr>\n",
       "    <tr>\n",
       "      <th>10</th>\n",
       "      <td>92010.938596</td>\n",
       "      <td>1596</td>\n",
       "      <td>92752.0</td>\n",
       "    </tr>\n",
       "    <tr>\n",
       "      <th>3</th>\n",
       "      <td>92103.722884</td>\n",
       "      <td>1595</td>\n",
       "      <td>92500.0</td>\n",
       "    </tr>\n",
       "    <tr>\n",
       "      <th>7</th>\n",
       "      <td>91892.573517</td>\n",
       "      <td>1231</td>\n",
       "      <td>92222.0</td>\n",
       "    </tr>\n",
       "    <tr>\n",
       "      <th>5</th>\n",
       "      <td>92310.529609</td>\n",
       "      <td>895</td>\n",
       "      <td>91632.0</td>\n",
       "    </tr>\n",
       "    <tr>\n",
       "      <th>4</th>\n",
       "      <td>91691.072874</td>\n",
       "      <td>1235</td>\n",
       "      <td>91463.0</td>\n",
       "    </tr>\n",
       "    <tr>\n",
       "      <th>6</th>\n",
       "      <td>90118.584084</td>\n",
       "      <td>1332</td>\n",
       "      <td>91212.0</td>\n",
       "    </tr>\n",
       "    <tr>\n",
       "      <th>12</th>\n",
       "      <td>91848.109502</td>\n",
       "      <td>1105</td>\n",
       "      <td>91111.0</td>\n",
       "    </tr>\n",
       "  </tbody>\n",
       "</table>\n",
       "</div>"
      ],
      "text/plain": [
       "                          mean  count   median\n",
       "month_exposition                              \n",
       "8                 94166.413230   1285  94370.0\n",
       "1                 93254.679435    992  94062.0\n",
       "9                 93882.709566   1453  93859.0\n",
       "2                 92189.586833   1762  93273.5\n",
       "11                92029.182456   1710  92786.0\n",
       "10                92010.938596   1596  92752.0\n",
       "3                 92103.722884   1595  92500.0\n",
       "7                 91892.573517   1231  92222.0\n",
       "5                 92310.529609    895  91632.0\n",
       "4                 91691.072874   1235  91463.0\n",
       "6                 90118.584084   1332  91212.0\n",
       "12                91848.109502   1105  91111.0"
      ]
     },
     "execution_count": 387,
     "metadata": {},
     "output_type": "execute_result"
    },
    {
     "data": {
      "image/png": "[encoded data removed]",
      "text/plain": [
       "<Figure size 432x288 with 1 Axes>"
      ]
     },
     "metadata": {
      "needs_background": "light"
     },
     "output_type": "display_data"
    }
   ],
   "source": [
    "month_exposition_pivot_table = clean_data.pivot_table(index = 'month_exposition', values = 'price_for_meter', aggfunc = ['mean', 'count', 'median'])\n",
    "month_exposition_pivot_table.columns = ['mean', 'count', 'median']\n",
    "month_exposition_pivot_table.plot(y = 'median')\n",
    "\n",
    "month_exposition_pivot_table.sort_values('median', ascending = False)"
   ]
  },
  {
   "cell_type": "markdown",
   "metadata": {},
   "source": [
    "It follows from the graph that there is a seasonality of demand for apartments, which affects their cost. So, from January to April, the cost of apartments decreases, from April to June - the market stagnates and prices for apartments are minimal, from June to August - a sharp revival in demand and a corresponding increase in the cost of apartments, which will then decrease again by December. At the same time, on the chart - we see two significant peaks in the maximum cost of apartments - these are January and August-September. The first peak may be due to the widespread payment of annual premiums, the second - the beginning of the educational year and the need to purchase housing for moving / starting an independent life for students."
   ]
  },
  {
   "cell_type": "markdown",
   "metadata": {},
   "source": [
    "3. Study the dependence of the apartment price on the year of placement of the ad:"
   ]
  },
  {
   "cell_type": "code",
   "execution_count": 388,
   "metadata": {},
   "outputs": [
    {
     "data": {
      "text/html": [
       "<div>\n",
       "<style scoped>\n",
       "    .dataframe tbody tr th:only-of-type {\n",
       "        vertical-align: middle;\n",
       "    }\n",
       "\n",
       "    .dataframe tbody tr th {\n",
       "        vertical-align: top;\n",
       "    }\n",
       "\n",
       "    .dataframe thead th {\n",
       "        text-align: right;\n",
       "    }\n",
       "</style>\n",
       "<table border=\"1\" class=\"dataframe\">\n",
       "  <thead>\n",
       "    <tr style=\"text-align: right;\">\n",
       "      <th></th>\n",
       "      <th>mean</th>\n",
       "      <th>count</th>\n",
       "      <th>median</th>\n",
       "    </tr>\n",
       "    <tr>\n",
       "      <th>year_exposition</th>\n",
       "      <th></th>\n",
       "      <th></th>\n",
       "      <th></th>\n",
       "    </tr>\n",
       "  </thead>\n",
       "  <tbody>\n",
       "    <tr>\n",
       "      <th>2019</th>\n",
       "      <td>102975.591166</td>\n",
       "      <td>883</td>\n",
       "      <td>103076.0</td>\n",
       "    </tr>\n",
       "    <tr>\n",
       "      <th>2014</th>\n",
       "      <td>97421.270270</td>\n",
       "      <td>74</td>\n",
       "      <td>97257.0</td>\n",
       "    </tr>\n",
       "    <tr>\n",
       "      <th>2018</th>\n",
       "      <td>93440.649218</td>\n",
       "      <td>5884</td>\n",
       "      <td>94555.0</td>\n",
       "    </tr>\n",
       "    <tr>\n",
       "      <th>2015</th>\n",
       "      <td>91646.854749</td>\n",
       "      <td>895</td>\n",
       "      <td>90615.0</td>\n",
       "    </tr>\n",
       "    <tr>\n",
       "      <th>2017</th>\n",
       "      <td>90658.836277</td>\n",
       "      <td>6285</td>\n",
       "      <td>90611.0</td>\n",
       "    </tr>\n",
       "    <tr>\n",
       "      <th>2016</th>\n",
       "      <td>89510.165899</td>\n",
       "      <td>2170</td>\n",
       "      <td>89449.5</td>\n",
       "    </tr>\n",
       "  </tbody>\n",
       "</table>\n",
       "</div>"
      ],
      "text/plain": [
       "                          mean  count    median\n",
       "year_exposition                                \n",
       "2019             102975.591166    883  103076.0\n",
       "2014              97421.270270     74   97257.0\n",
       "2018              93440.649218   5884   94555.0\n",
       "2015              91646.854749    895   90615.0\n",
       "2017              90658.836277   6285   90611.0\n",
       "2016              89510.165899   2170   89449.5"
      ]
     },
     "execution_count": 388,
     "metadata": {},
     "output_type": "execute_result"
    },
    {
     "data": {
      "image/png": "[encoded data removed]",
      "text/plain": [
       "<Figure size 432x288 with 1 Axes>"
      ]
     },
     "metadata": {
      "needs_background": "light"
     },
     "output_type": "display_data"
    }
   ],
   "source": [
    "year_exposition_pivot_table = clean_data.pivot_table(index = 'year_exposition', values = 'price_for_meter', aggfunc = ['mean', 'count', 'median'])\n",
    "year_exposition_pivot_table.columns = ['mean', 'count', 'median']\n",
    "year_exposition_pivot_table.plot(y = 'median')\n",
    "\n",
    "year_exposition_pivot_table.sort_values('median', ascending = False)"
   ]
  },
  {
   "cell_type": "markdown",
   "metadata": {},
   "source": [
    "From the graph we can see that from 2014 to 2016 the cost of apartments decreased. After 2016, the cost of apartments began to increase, perhaps this is due to the adaptation of the market, the availability of preferential credit conditions in banks."
   ]
  },
  {
   "cell_type": "markdown",
   "metadata": {},
   "source": [
    "### Select 10 localities with the largest number of ads. Calculate the average price per square meter in these localities. Select the localities with the highest and lowest cost of housing. This data can be found by name in the locality_name column."
   ]
  },
  {
   "cell_type": "code",
   "execution_count": 389,
   "metadata": {},
   "outputs": [
    {
     "data": {
      "text/html": [
       "<div>\n",
       "<style scoped>\n",
       "    .dataframe tbody tr th:only-of-type {\n",
       "        vertical-align: middle;\n",
       "    }\n",
       "\n",
       "    .dataframe tbody tr th {\n",
       "        vertical-align: top;\n",
       "    }\n",
       "\n",
       "    .dataframe thead th {\n",
       "        text-align: right;\n",
       "    }\n",
       "</style>\n",
       "<table border=\"1\" class=\"dataframe\">\n",
       "  <thead>\n",
       "    <tr style=\"text-align: right;\">\n",
       "      <th></th>\n",
       "      <th>count</th>\n",
       "      <th>mean</th>\n",
       "    </tr>\n",
       "    <tr>\n",
       "      <th>locality_name</th>\n",
       "      <th></th>\n",
       "      <th></th>\n",
       "    </tr>\n",
       "  </thead>\n",
       "  <tbody>\n",
       "    <tr>\n",
       "      <th>Санкт-Петербург</th>\n",
       "      <td>10564</td>\n",
       "      <td>104491.948883</td>\n",
       "    </tr>\n",
       "    <tr>\n",
       "      <th>посёлок Мурино</th>\n",
       "      <td>437</td>\n",
       "      <td>84891.064073</td>\n",
       "    </tr>\n",
       "    <tr>\n",
       "      <th>посёлок Шушары</th>\n",
       "      <td>347</td>\n",
       "      <td>77893.585014</td>\n",
       "    </tr>\n",
       "    <tr>\n",
       "      <th>Всеволожск</th>\n",
       "      <td>289</td>\n",
       "      <td>66895.294118</td>\n",
       "    </tr>\n",
       "    <tr>\n",
       "      <th>посёлок Парголово</th>\n",
       "      <td>254</td>\n",
       "      <td>90022.074803</td>\n",
       "    </tr>\n",
       "    <tr>\n",
       "      <th>Пушкин</th>\n",
       "      <td>245</td>\n",
       "      <td>100651.053061</td>\n",
       "    </tr>\n",
       "    <tr>\n",
       "      <th>Колпино</th>\n",
       "      <td>238</td>\n",
       "      <td>74999.794118</td>\n",
       "    </tr>\n",
       "    <tr>\n",
       "      <th>деревня Кудрово</th>\n",
       "      <td>237</td>\n",
       "      <td>91846.966245</td>\n",
       "    </tr>\n",
       "    <tr>\n",
       "      <th>Гатчина</th>\n",
       "      <td>233</td>\n",
       "      <td>67301.806867</td>\n",
       "    </tr>\n",
       "    <tr>\n",
       "      <th>Выборг</th>\n",
       "      <td>173</td>\n",
       "      <td>57130.549133</td>\n",
       "    </tr>\n",
       "  </tbody>\n",
       "</table>\n",
       "</div>"
      ],
      "text/plain": [
       "                   count           mean\n",
       "locality_name                          \n",
       "Санкт-Петербург    10564  104491.948883\n",
       "посёлок Мурино       437   84891.064073\n",
       "посёлок Шушары       347   77893.585014\n",
       "Всеволожск           289   66895.294118\n",
       "посёлок Парголово    254   90022.074803\n",
       "Пушкин               245  100651.053061\n",
       "Колпино              238   74999.794118\n",
       "деревня Кудрово      237   91846.966245\n",
       "Гатчина              233   67301.806867\n",
       "Выборг               173   57130.549133"
      ]
     },
     "execution_count": 389,
     "metadata": {},
     "output_type": "execute_result"
    }
   ],
   "source": [
    "locality_name_pivot_table = clean_data.pivot_table(index = 'locality_name', values = 'price_for_meter', aggfunc=['count', 'mean'])\n",
    "locality_name_pivot_table.columns = ['count', 'mean']\n",
    "locality_name_pivot_table = locality_name_pivot_table.sort_values('count', ascending = False).head(10)\n",
    "locality_name_pivot_table"
   ]
  },
  {
   "cell_type": "markdown",
   "metadata": {},
   "source": [
    "Thus, most of the ads are published in the following localities:\n",
    "* Saint Petersburg 11900\t\n",
    "* Murino village 437\t\n",
    "* Shushary village 347\t\n",
    "* Vsevolozhsk 291\t\n",
    "* Pushkin 266\t\n",
    "* village of Pargolovo 255\t\n",
    "* Kolpino 241\t\n",
    "* Kudrovo village 238\t\n",
    "* Gatchina 236\t\n",
    "* Vyborg 175\t\n",
    "The most expensive real estate is located in St. Petersburg, the cheapest is in Vyborg."
   ]
  },
  {
   "cell_type": "markdown",
   "metadata": {},
   "source": [
    "### Study the apartment offers: for each apartment there is information about the distance to the center. Select apartments in St. Petersburg (locality_name). Our task is to find out which area is included in the center. Create a column with the distance to the center in kilometers: round up to integer values. After that, calculate the average price for each kilometer. Build a graph: it should show how the price depends on the distance from the center. Determine the boundary where the graph changes a lot — this will be the central zone."
   ]
  },
  {
   "cell_type": "markdown",
   "metadata": {},
   "source": [
    "Allocate apartments in St. Petersburg to a separate dataset:"
   ]
  },
  {
   "cell_type": "code",
   "execution_count": 390,
   "metadata": {},
   "outputs": [
    {
     "name": "stdout",
     "output_type": "stream",
     "text": [
      "<class 'pandas.core.frame.DataFrame'>\n",
      "Int64Index: 10564 entries, 2 to 22380\n",
      "Data columns (total 29 columns):\n",
      " #   Column                Non-Null Count  Dtype         \n",
      "---  ------                --------------  -----         \n",
      " 0   total_images          10564 non-null  int64         \n",
      " 1   last_price            10564 non-null  float64       \n",
      " 2   total_area            10564 non-null  float64       \n",
      " 3   first_day_exposition  10564 non-null  datetime64[ns]\n",
      " 4   rooms                 10564 non-null  int64         \n",
      " 5   ceiling_height        6605 non-null   float64       \n",
      " 6   floors_total          10564 non-null  int64         \n",
      " 7   living_area           10564 non-null  float64       \n",
      " 8   floor                 10564 non-null  int64         \n",
      " 9   is_apartment          10564 non-null  bool          \n",
      " 10  studio                10564 non-null  bool          \n",
      " 11  open_plan             10564 non-null  bool          \n",
      " 12  kitchen_area          10564 non-null  float64       \n",
      " 13  balcony               10564 non-null  int64         \n",
      " 14  locality_name         10564 non-null  object        \n",
      " 15  airports_nearest      10540 non-null  float64       \n",
      " 16  city_centers_nearest  10551 non-null  float64       \n",
      " 17  parks_around3000      10551 non-null  float64       \n",
      " 18  parks_nearest         4613 non-null   float64       \n",
      " 19  ponds_around3000      10551 non-null  float64       \n",
      " 20  ponds_nearest         5103 non-null   float64       \n",
      " 21  days_exposition       10564 non-null  int64         \n",
      " 22  price_for_meter       10564 non-null  int64         \n",
      " 23  weekday_exposition    10564 non-null  int64         \n",
      " 24  month_exposition      10564 non-null  int64         \n",
      " 25  year_exposition       10564 non-null  int64         \n",
      " 26  name_floor            10564 non-null  object        \n",
      " 27  ratio_liv_to_total    10564 non-null  float64       \n",
      " 28  ratio_kitch_to_total  10564 non-null  float64       \n",
      "dtypes: bool(3), datetime64[ns](1), float64(13), int64(10), object(2)\n",
      "memory usage: 2.2+ MB\n"
     ]
    }
   ],
   "source": [
    "spb_data = clean_data.query('locality_name == \"Санкт-Петербург\"')\n",
    "spb_data.info()"
   ]
  },
  {
   "cell_type": "markdown",
   "metadata": {},
   "source": [
    "Study the distance in St. Petersburg:"
   ]
  },
  {
   "cell_type": "code",
   "execution_count": 391,
   "metadata": {},
   "outputs": [
    {
     "data": {
      "text/html": [
       "<div>\n",
       "<style scoped>\n",
       "    .dataframe tbody tr th:only-of-type {\n",
       "        vertical-align: middle;\n",
       "    }\n",
       "\n",
       "    .dataframe tbody tr th {\n",
       "        vertical-align: top;\n",
       "    }\n",
       "\n",
       "    .dataframe thead th {\n",
       "        text-align: right;\n",
       "    }\n",
       "</style>\n",
       "<table border=\"1\" class=\"dataframe\">\n",
       "  <thead>\n",
       "    <tr style=\"text-align: right;\">\n",
       "      <th></th>\n",
       "      <th>price_for_meter</th>\n",
       "    </tr>\n",
       "    <tr>\n",
       "      <th>city_center_km</th>\n",
       "      <th></th>\n",
       "    </tr>\n",
       "  </thead>\n",
       "  <tbody>\n",
       "    <tr>\n",
       "      <th>0.208</th>\n",
       "      <td>172619.0</td>\n",
       "    </tr>\n",
       "    <tr>\n",
       "      <th>0.215</th>\n",
       "      <td>109900.0</td>\n",
       "    </tr>\n",
       "    <tr>\n",
       "      <th>0.287</th>\n",
       "      <td>88796.0</td>\n",
       "    </tr>\n",
       "    <tr>\n",
       "      <th>0.329</th>\n",
       "      <td>100000.0</td>\n",
       "    </tr>\n",
       "    <tr>\n",
       "      <th>0.392</th>\n",
       "      <td>200348.0</td>\n",
       "    </tr>\n",
       "    <tr>\n",
       "      <th>...</th>\n",
       "      <td>...</td>\n",
       "    </tr>\n",
       "    <tr>\n",
       "      <th>28.015</th>\n",
       "      <td>68478.0</td>\n",
       "    </tr>\n",
       "    <tr>\n",
       "      <th>28.644</th>\n",
       "      <td>85190.5</td>\n",
       "    </tr>\n",
       "    <tr>\n",
       "      <th>28.806</th>\n",
       "      <td>79890.0</td>\n",
       "    </tr>\n",
       "    <tr>\n",
       "      <th>29.343</th>\n",
       "      <td>73943.0</td>\n",
       "    </tr>\n",
       "    <tr>\n",
       "      <th>29.493</th>\n",
       "      <td>56976.0</td>\n",
       "    </tr>\n",
       "  </tbody>\n",
       "</table>\n",
       "<p>4999 rows × 1 columns</p>\n",
       "</div>"
      ],
      "text/plain": [
       "                price_for_meter\n",
       "city_center_km                 \n",
       "0.208                  172619.0\n",
       "0.215                  109900.0\n",
       "0.287                   88796.0\n",
       "0.329                  100000.0\n",
       "0.392                  200348.0\n",
       "...                         ...\n",
       "28.015                  68478.0\n",
       "28.644                  85190.5\n",
       "28.806                  79890.0\n",
       "29.343                  73943.0\n",
       "29.493                  56976.0\n",
       "\n",
       "[4999 rows x 1 columns]"
      ]
     },
     "execution_count": 391,
     "metadata": {},
     "output_type": "execute_result"
    },
    {
     "data": {
      "image/png": "[encoded data removed]",
      "text/plain": [
       "<Figure size 432x288 with 1 Axes>"
      ]
     },
     "metadata": {
      "needs_background": "light"
     },
     "output_type": "display_data"
    }
   ],
   "source": [
    "#spb_data['city_center_km'] \n",
    "pd.options.mode.chained_assignment = None\n",
    "spb_data['city_center_km'] = spb_data['city_centers_nearest'] / 1000\n",
    "spb_data\n",
    "spb_data['city_center_km'] = spb_data['city_center_km'].fillna(999999)\n",
    "clean_data['city_center_km'] = spb_data['city_center_km'].astype('int')\n",
    "pivot_table_km = spb_data.query('city_center_km !=999999').pivot_table(index = 'city_center_km', values = 'price_for_meter', aggfunc= 'mean')\n",
    "pivot_table_km.plot()\n",
    "pivot_table_km "
   ]
  },
  {
   "cell_type": "markdown",
   "metadata": {},
   "source": [
    "Based on the graph, it follows that the most striking price per square meter changes at a distance of about 5 km from the center. Thus, the center includes offers located at a distance of 5 km from the center."
   ]
  },
  {
   "cell_type": "markdown",
   "metadata": {},
   "source": [
    "### Select the segment of apartments in the center. Analyze this territory and study the following parameters: area, price, number of rooms, ceiling height. Also highlight the factors that affect the cost of the apartment (number of rooms, floor, distance from the center, date of placement of the ad). Draw conclusions. Do they differ from the general conclusions throughout the database?"
   ]
  },
  {
   "cell_type": "markdown",
   "metadata": {},
   "source": [
    "Select a segment of apartments in the center:"
   ]
  },
  {
   "cell_type": "code",
   "execution_count": 392,
   "metadata": {},
   "outputs": [],
   "source": [
    "center_spb_data = spb_data.query('city_center_km <= 5')"
   ]
  },
  {
   "cell_type": "markdown",
   "metadata": {},
   "source": [
    "Study the area of apartments in the center:"
   ]
  },
  {
   "cell_type": "code",
   "execution_count": 393,
   "metadata": {},
   "outputs": [
    {
     "data": {
      "text/plain": [
       "<AxesSubplot:ylabel='Frequency'>"
      ]
     },
     "execution_count": 393,
     "metadata": {},
     "output_type": "execute_result"
    },
    {
     "data": {
      "image/png": "[encoded data removed]",
      "text/plain": [
       "<Figure size 360x216 with 1 Axes>"
      ]
     },
     "metadata": {
      "needs_background": "light"
     },
     "output_type": "display_data"
    }
   ],
   "source": [
    "center_spb_data.plot(y = 'total_area', kind = 'hist', bins = 20, grid=True, figsize = (5,3), range = (0,150))"
   ]
  },
  {
   "cell_type": "markdown",
   "metadata": {},
   "source": [
    "It follows from the graph that most often in the center of St. Petersburg there are apartments with an area of 60-80 sq. m. meters."
   ]
  },
  {
   "cell_type": "markdown",
   "metadata": {},
   "source": [
    "Study the cost of apartments in the center:"
   ]
  },
  {
   "cell_type": "code",
   "execution_count": 394,
   "metadata": {},
   "outputs": [
    {
     "data": {
      "text/plain": [
       "<AxesSubplot:ylabel='Frequency'>"
      ]
     },
     "execution_count": 394,
     "metadata": {},
     "output_type": "execute_result"
    },
    {
     "data": {
      "image/png": "[encoded data removed]",
      "text/plain": [
       "<Figure size 360x216 with 1 Axes>"
      ]
     },
     "metadata": {
      "needs_background": "light"
     },
     "output_type": "display_data"
    }
   ],
   "source": [
    "center_spb_data.plot(y = 'last_price', kind = 'hist', bins = 20, grid=True, figsize = (5,3), range = (0,20))"
   ]
  },
  {
   "cell_type": "markdown",
   "metadata": {},
   "source": [
    "It follows from the graph that apartments with a cost of 6 to 7 million are most often found in the center of St. Petersburg."
   ]
  },
  {
   "cell_type": "markdown",
   "metadata": {},
   "source": [
    "Study the number of rooms in apartments in the center:"
   ]
  },
  {
   "cell_type": "code",
   "execution_count": 395,
   "metadata": {},
   "outputs": [
    {
     "data": {
      "text/plain": [
       "<AxesSubplot:ylabel='Frequency'>"
      ]
     },
     "execution_count": 395,
     "metadata": {},
     "output_type": "execute_result"
    },
    {
     "data": {
      "image/png": "[encoded data removed]",
      "text/plain": [
       "<Figure size 360x216 with 1 Axes>"
      ]
     },
     "metadata": {
      "needs_background": "light"
     },
     "output_type": "display_data"
    }
   ],
   "source": [
    "center_spb_data.plot(y = 'rooms', kind = 'hist', bins = 20, grid=True, figsize = (5,3), range = (0,6))"
   ]
  },
  {
   "cell_type": "markdown",
   "metadata": {},
   "source": [
    "It follows from the graph that apartments with 3 rooms are most often found in the center of St. Petersburg."
   ]
  },
  {
   "cell_type": "markdown",
   "metadata": {},
   "source": [
    "Study the ceiling height in apartments in the center:"
   ]
  },
  {
   "cell_type": "code",
   "execution_count": 396,
   "metadata": {
    "scrolled": true
   },
   "outputs": [
    {
     "data": {
      "text/plain": [
       "<AxesSubplot:ylabel='Frequency'>"
      ]
     },
     "execution_count": 396,
     "metadata": {},
     "output_type": "execute_result"
    },
    {
     "data": {
      "image/png": "[encoded data removed]",
      "text/plain": [
       "<Figure size 360x216 with 1 Axes>"
      ]
     },
     "metadata": {
      "needs_background": "light"
     },
     "output_type": "display_data"
    }
   ],
   "source": [
    "center_spb_data.plot(y = 'ceiling_height', kind = 'hist', bins = 20, grid=True, figsize = (5,3), range = (0,6))"
   ]
  },
  {
   "cell_type": "markdown",
   "metadata": {},
   "source": [
    "It follows from the graph that apartments with a ceiling height of 3 meters are most often found in the center of St. Petersburg."
   ]
  },
  {
   "cell_type": "markdown",
   "metadata": {},
   "source": [
    "Thus, apartments with an area of 60-80 square meters, worth from 6 to 7 million, with 3 rooms and a ceiling height of 3 meters are most often offered for purchase in the center of St. Petersburg"
   ]
  },
  {
   "cell_type": "markdown",
   "metadata": {},
   "source": [
    "Determine the dependence of the cost of an apartment on the number of rooms:"
   ]
  },
  {
   "cell_type": "code",
   "execution_count": 397,
   "metadata": {},
   "outputs": [
    {
     "data": {
      "text/plain": [
       "-0.5255849667299208"
      ]
     },
     "execution_count": 397,
     "metadata": {},
     "output_type": "execute_result"
    },
    {
     "data": {
      "image/png": "[encoded data removed]",
      "text/plain": [
       "<Figure size 432x288 with 1 Axes>"
      ]
     },
     "metadata": {
      "needs_background": "light"
     },
     "output_type": "display_data"
    }
   ],
   "source": [
    "rooms_center_spb_data = center_spb_data.pivot_table(index = 'rooms', values = 'price_for_meter', aggfunc = ['mean', 'count', 'median'])\n",
    "rooms_center_spb_data.columns = ['mean', 'count', 'median']\n",
    "rooms_center_spb_data.query('count > 50').plot(y = 'median')\n",
    "\n",
    "rooms_center_spb_data.query('count > 50').sort_values('median', ascending = False)\n",
    "\n",
    "center_spb_data['rooms'].corr(center_spb_data['price_for_meter'])"
   ]
  },
  {
   "cell_type": "markdown",
   "metadata": {},
   "source": [
    "The correlation is very low, but there is a decrease in the cost per square meter depending on the increase to 4 rooms. At the same time, after 4, the cost of a square meter increases. But this correlation is insignificant."
   ]
  },
  {
   "cell_type": "markdown",
   "metadata": {},
   "source": [
    "Determine the dependence of the cost of the apartment on the floor:"
   ]
  },
  {
   "cell_type": "code",
   "execution_count": 398,
   "metadata": {},
   "outputs": [
    {
     "data": {
      "text/html": [
       "<div>\n",
       "<style scoped>\n",
       "    .dataframe tbody tr th:only-of-type {\n",
       "        vertical-align: middle;\n",
       "    }\n",
       "\n",
       "    .dataframe tbody tr th {\n",
       "        vertical-align: top;\n",
       "    }\n",
       "\n",
       "    .dataframe thead th {\n",
       "        text-align: right;\n",
       "    }\n",
       "</style>\n",
       "<table border=\"1\" class=\"dataframe\">\n",
       "  <thead>\n",
       "    <tr style=\"text-align: right;\">\n",
       "      <th></th>\n",
       "      <th>mean</th>\n",
       "      <th>count</th>\n",
       "      <th>median</th>\n",
       "    </tr>\n",
       "    <tr>\n",
       "      <th>name_floor</th>\n",
       "      <th></th>\n",
       "      <th></th>\n",
       "      <th></th>\n",
       "    </tr>\n",
       "  </thead>\n",
       "  <tbody>\n",
       "    <tr>\n",
       "      <th>first</th>\n",
       "      <td>106202.254902</td>\n",
       "      <td>153</td>\n",
       "      <td>100000</td>\n",
       "    </tr>\n",
       "    <tr>\n",
       "      <th>last</th>\n",
       "      <td>109751.389474</td>\n",
       "      <td>190</td>\n",
       "      <td>103896</td>\n",
       "    </tr>\n",
       "    <tr>\n",
       "      <th>other</th>\n",
       "      <td>118855.312796</td>\n",
       "      <td>633</td>\n",
       "      <td>112781</td>\n",
       "    </tr>\n",
       "  </tbody>\n",
       "</table>\n",
       "</div>"
      ],
      "text/plain": [
       "                     mean  count  median\n",
       "name_floor                              \n",
       "first       106202.254902    153  100000\n",
       "last        109751.389474    190  103896\n",
       "other       118855.312796    633  112781"
      ]
     },
     "execution_count": 398,
     "metadata": {},
     "output_type": "execute_result"
    },
    {
     "data": {
      "image/png": "[encoded data removed]",
      "text/plain": [
       "<Figure size 432x288 with 1 Axes>"
      ]
     },
     "metadata": {
      "needs_background": "light"
     },
     "output_type": "display_data"
    }
   ],
   "source": [
    "name_floor_center_spb_data = center_spb_data.pivot_table(index = 'name_floor', values = 'price_for_meter', aggfunc = ['mean', 'count', 'median'])\n",
    "name_floor_center_spb_data.columns = ['mean', 'count', 'median']\n",
    "name_floor_center_spb_data.plot(y = 'median')\n",
    "name_floor_center_spb_data"
   ]
  },
  {
   "cell_type": "markdown",
   "metadata": {},
   "source": [
    "Based on the data graph, it follows that apartments on the first floor in the center of St. Petersburg are not popular and are cheaper than other apartments. At the same time, it is likely that the last floors are less popular than other floors for buying an apartment. Perhaps this is due to the old housing stock in the center and the fear of buying an apartment under the roof due to weather conditions."
   ]
  },
  {
   "cell_type": "markdown",
   "metadata": {},
   "source": [
    "Determine the dependence of the apartment cost on its distance from the center:"
   ]
  },
  {
   "cell_type": "code",
   "execution_count": 399,
   "metadata": {},
   "outputs": [
    {
     "data": {
      "text/plain": [
       "0.04765219462386057"
      ]
     },
     "execution_count": 399,
     "metadata": {},
     "output_type": "execute_result"
    },
    {
     "data": {
      "image/png": "[encoded data removed]",
      "text/plain": [
       "<Figure size 432x288 with 1 Axes>"
      ]
     },
     "metadata": {
      "needs_background": "light"
     },
     "output_type": "display_data"
    }
   ],
   "source": [
    "center_spb_data.plot(kind = 'scatter', y = 'price_for_meter', x = 'city_centers_nearest', alpha = 0.3)\n",
    "\n",
    "center_spb_data['city_centers_nearest'].corr(center_spb_data['price_for_meter'])"
   ]
  },
  {
   "cell_type": "markdown",
   "metadata": {},
   "source": [
    "Based on the graph, we see that there is no obvious dependence, this is probably due to the fact that the data is already grouped closer to the center."
   ]
  },
  {
   "cell_type": "markdown",
   "metadata": {},
   "source": [
    "Determine the dependence of the cost of the apartment on the date of placement of the ad:\n",
    "1. Weekday:"
   ]
  },
  {
   "cell_type": "code",
   "execution_count": 400,
   "metadata": {},
   "outputs": [
    {
     "data": {
      "text/html": [
       "<div>\n",
       "<style scoped>\n",
       "    .dataframe tbody tr th:only-of-type {\n",
       "        vertical-align: middle;\n",
       "    }\n",
       "\n",
       "    .dataframe tbody tr th {\n",
       "        vertical-align: top;\n",
       "    }\n",
       "\n",
       "    .dataframe thead th {\n",
       "        text-align: right;\n",
       "    }\n",
       "</style>\n",
       "<table border=\"1\" class=\"dataframe\">\n",
       "  <thead>\n",
       "    <tr style=\"text-align: right;\">\n",
       "      <th></th>\n",
       "      <th>mean</th>\n",
       "      <th>count</th>\n",
       "      <th>median</th>\n",
       "    </tr>\n",
       "    <tr>\n",
       "      <th>weekday_exposition</th>\n",
       "      <th></th>\n",
       "      <th></th>\n",
       "      <th></th>\n",
       "    </tr>\n",
       "  </thead>\n",
       "  <tbody>\n",
       "    <tr>\n",
       "      <th>5</th>\n",
       "      <td>122000.637681</td>\n",
       "      <td>69</td>\n",
       "      <td>118867.0</td>\n",
       "    </tr>\n",
       "    <tr>\n",
       "      <th>0</th>\n",
       "      <td>119451.933775</td>\n",
       "      <td>151</td>\n",
       "      <td>114519.0</td>\n",
       "    </tr>\n",
       "    <tr>\n",
       "      <th>4</th>\n",
       "      <td>114471.878788</td>\n",
       "      <td>165</td>\n",
       "      <td>111111.0</td>\n",
       "    </tr>\n",
       "    <tr>\n",
       "      <th>2</th>\n",
       "      <td>117036.807692</td>\n",
       "      <td>156</td>\n",
       "      <td>108151.0</td>\n",
       "    </tr>\n",
       "    <tr>\n",
       "      <th>3</th>\n",
       "      <td>112181.018605</td>\n",
       "      <td>215</td>\n",
       "      <td>106844.0</td>\n",
       "    </tr>\n",
       "    <tr>\n",
       "      <th>6</th>\n",
       "      <td>118494.821429</td>\n",
       "      <td>56</td>\n",
       "      <td>103124.5</td>\n",
       "    </tr>\n",
       "    <tr>\n",
       "      <th>1</th>\n",
       "      <td>109643.932927</td>\n",
       "      <td>164</td>\n",
       "      <td>102500.0</td>\n",
       "    </tr>\n",
       "  </tbody>\n",
       "</table>\n",
       "</div>"
      ],
      "text/plain": [
       "                             mean  count    median\n",
       "weekday_exposition                                \n",
       "5                   122000.637681     69  118867.0\n",
       "0                   119451.933775    151  114519.0\n",
       "4                   114471.878788    165  111111.0\n",
       "2                   117036.807692    156  108151.0\n",
       "3                   112181.018605    215  106844.0\n",
       "6                   118494.821429     56  103124.5\n",
       "1                   109643.932927    164  102500.0"
      ]
     },
     "execution_count": 400,
     "metadata": {},
     "output_type": "execute_result"
    },
    {
     "data": {
      "image/png": "[encoded data removed]",
      "text/plain": [
       "<Figure size 432x288 with 1 Axes>"
      ]
     },
     "metadata": {
      "needs_background": "light"
     },
     "output_type": "display_data"
    }
   ],
   "source": [
    "weekday_exposition_center_spb_data = center_spb_data.pivot_table(index = 'weekday_exposition', values = 'price_for_meter', aggfunc = ['mean', 'count', 'median'])\n",
    "weekday_exposition_center_spb_data.columns = ['mean', 'count', 'median']\n",
    "weekday_exposition_center_spb_data.plot(y = 'median')\n",
    "\n",
    "weekday_exposition_center_spb_data.sort_values('median', ascending = False)"
   ]
  },
  {
   "cell_type": "markdown",
   "metadata": {},
   "source": [
    "Based on the graph, it follows that ads for apartments in the center of St. Petersburg contain higher prices if placed on Monday and Saturday. Whereas on Tuesday - Thursday, the ads contain a lower price. "
   ]
  },
  {
   "cell_type": "markdown",
   "metadata": {},
   "source": [
    "2. Month:"
   ]
  },
  {
   "cell_type": "code",
   "execution_count": 401,
   "metadata": {},
   "outputs": [
    {
     "data": {
      "text/html": [
       "<div>\n",
       "<style scoped>\n",
       "    .dataframe tbody tr th:only-of-type {\n",
       "        vertical-align: middle;\n",
       "    }\n",
       "\n",
       "    .dataframe tbody tr th {\n",
       "        vertical-align: top;\n",
       "    }\n",
       "\n",
       "    .dataframe thead th {\n",
       "        text-align: right;\n",
       "    }\n",
       "</style>\n",
       "<table border=\"1\" class=\"dataframe\">\n",
       "  <thead>\n",
       "    <tr style=\"text-align: right;\">\n",
       "      <th></th>\n",
       "      <th>mean</th>\n",
       "      <th>count</th>\n",
       "      <th>median</th>\n",
       "    </tr>\n",
       "    <tr>\n",
       "      <th>month_exposition</th>\n",
       "      <th></th>\n",
       "      <th></th>\n",
       "      <th></th>\n",
       "    </tr>\n",
       "  </thead>\n",
       "  <tbody>\n",
       "    <tr>\n",
       "      <th>12</th>\n",
       "      <td>117589.661972</td>\n",
       "      <td>71</td>\n",
       "      <td>116161.0</td>\n",
       "    </tr>\n",
       "    <tr>\n",
       "      <th>9</th>\n",
       "      <td>121883.714286</td>\n",
       "      <td>91</td>\n",
       "      <td>115789.0</td>\n",
       "    </tr>\n",
       "    <tr>\n",
       "      <th>8</th>\n",
       "      <td>115883.113924</td>\n",
       "      <td>79</td>\n",
       "      <td>111368.0</td>\n",
       "    </tr>\n",
       "    <tr>\n",
       "      <th>5</th>\n",
       "      <td>119842.344262</td>\n",
       "      <td>61</td>\n",
       "      <td>111111.0</td>\n",
       "    </tr>\n",
       "    <tr>\n",
       "      <th>3</th>\n",
       "      <td>116655.955056</td>\n",
       "      <td>89</td>\n",
       "      <td>110966.0</td>\n",
       "    </tr>\n",
       "    <tr>\n",
       "      <th>1</th>\n",
       "      <td>115944.241935</td>\n",
       "      <td>62</td>\n",
       "      <td>108530.0</td>\n",
       "    </tr>\n",
       "    <tr>\n",
       "      <th>4</th>\n",
       "      <td>114621.513889</td>\n",
       "      <td>72</td>\n",
       "      <td>108425.5</td>\n",
       "    </tr>\n",
       "    <tr>\n",
       "      <th>10</th>\n",
       "      <td>111193.433735</td>\n",
       "      <td>83</td>\n",
       "      <td>108333.0</td>\n",
       "    </tr>\n",
       "    <tr>\n",
       "      <th>7</th>\n",
       "      <td>114449.934066</td>\n",
       "      <td>91</td>\n",
       "      <td>106837.0</td>\n",
       "    </tr>\n",
       "    <tr>\n",
       "      <th>6</th>\n",
       "      <td>110746.189189</td>\n",
       "      <td>74</td>\n",
       "      <td>105909.0</td>\n",
       "    </tr>\n",
       "    <tr>\n",
       "      <th>2</th>\n",
       "      <td>111006.755319</td>\n",
       "      <td>94</td>\n",
       "      <td>105050.5</td>\n",
       "    </tr>\n",
       "    <tr>\n",
       "      <th>11</th>\n",
       "      <td>113157.477064</td>\n",
       "      <td>109</td>\n",
       "      <td>103448.0</td>\n",
       "    </tr>\n",
       "  </tbody>\n",
       "</table>\n",
       "</div>"
      ],
      "text/plain": [
       "                           mean  count    median\n",
       "month_exposition                                \n",
       "12                117589.661972     71  116161.0\n",
       "9                 121883.714286     91  115789.0\n",
       "8                 115883.113924     79  111368.0\n",
       "5                 119842.344262     61  111111.0\n",
       "3                 116655.955056     89  110966.0\n",
       "1                 115944.241935     62  108530.0\n",
       "4                 114621.513889     72  108425.5\n",
       "10                111193.433735     83  108333.0\n",
       "7                 114449.934066     91  106837.0\n",
       "6                 110746.189189     74  105909.0\n",
       "2                 111006.755319     94  105050.5\n",
       "11                113157.477064    109  103448.0"
      ]
     },
     "execution_count": 401,
     "metadata": {},
     "output_type": "execute_result"
    },
    {
     "data": {
      "image/png": "[encoded data removed]",
      "text/plain": [
       "<Figure size 432x288 with 1 Axes>"
      ]
     },
     "metadata": {
      "needs_background": "light"
     },
     "output_type": "display_data"
    }
   ],
   "source": [
    "month_exposition_center_spb_data = center_spb_data.pivot_table(index = 'month_exposition', values = 'price_for_meter', aggfunc = ['mean', 'count', 'median'])\n",
    "month_exposition_center_spb_data.columns = ['mean', 'count', 'median']\n",
    "month_exposition_center_spb_data.plot(y = 'median')\n",
    "\n",
    "month_exposition_center_spb_data.sort_values('median', ascending = False)"
   ]
  },
  {
   "cell_type": "markdown",
   "metadata": {},
   "source": [
    "It follows from the graph that the highest demand (high price) is observed in March, August and December. Whereas the decline of the real estate sale season occurs from March to June. The decline in the market from March to June can be explained by the onset of public holidays and the tourist season from St. Petersburg, during which it is not profitable to sell real estate."
   ]
  },
  {
   "cell_type": "markdown",
   "metadata": {},
   "source": [
    "3. Year:"
   ]
  },
  {
   "cell_type": "code",
   "execution_count": 402,
   "metadata": {},
   "outputs": [
    {
     "data": {
      "text/html": [
       "<div>\n",
       "<style scoped>\n",
       "    .dataframe tbody tr th:only-of-type {\n",
       "        vertical-align: middle;\n",
       "    }\n",
       "\n",
       "    .dataframe tbody tr th {\n",
       "        vertical-align: top;\n",
       "    }\n",
       "\n",
       "    .dataframe thead th {\n",
       "        text-align: right;\n",
       "    }\n",
       "</style>\n",
       "<table border=\"1\" class=\"dataframe\">\n",
       "  <thead>\n",
       "    <tr style=\"text-align: right;\">\n",
       "      <th></th>\n",
       "      <th>mean</th>\n",
       "      <th>count</th>\n",
       "      <th>median</th>\n",
       "    </tr>\n",
       "    <tr>\n",
       "      <th>year_exposition</th>\n",
       "      <th></th>\n",
       "      <th></th>\n",
       "      <th></th>\n",
       "    </tr>\n",
       "  </thead>\n",
       "  <tbody>\n",
       "    <tr>\n",
       "      <th>2019</th>\n",
       "      <td>127614.441176</td>\n",
       "      <td>34</td>\n",
       "      <td>125681.0</td>\n",
       "    </tr>\n",
       "    <tr>\n",
       "      <th>2018</th>\n",
       "      <td>118516.143345</td>\n",
       "      <td>293</td>\n",
       "      <td>113333.0</td>\n",
       "    </tr>\n",
       "    <tr>\n",
       "      <th>2017</th>\n",
       "      <td>115459.925558</td>\n",
       "      <td>403</td>\n",
       "      <td>108139.0</td>\n",
       "    </tr>\n",
       "    <tr>\n",
       "      <th>2016</th>\n",
       "      <td>111859.202797</td>\n",
       "      <td>143</td>\n",
       "      <td>102903.0</td>\n",
       "    </tr>\n",
       "    <tr>\n",
       "      <th>2014</th>\n",
       "      <td>99654.000000</td>\n",
       "      <td>4</td>\n",
       "      <td>99946.5</td>\n",
       "    </tr>\n",
       "    <tr>\n",
       "      <th>2015</th>\n",
       "      <td>104526.959596</td>\n",
       "      <td>99</td>\n",
       "      <td>98256.0</td>\n",
       "    </tr>\n",
       "  </tbody>\n",
       "</table>\n",
       "</div>"
      ],
      "text/plain": [
       "                          mean  count    median\n",
       "year_exposition                                \n",
       "2019             127614.441176     34  125681.0\n",
       "2018             118516.143345    293  113333.0\n",
       "2017             115459.925558    403  108139.0\n",
       "2016             111859.202797    143  102903.0\n",
       "2014              99654.000000      4   99946.5\n",
       "2015             104526.959596     99   98256.0"
      ]
     },
     "execution_count": 402,
     "metadata": {},
     "output_type": "execute_result"
    },
    {
     "data": {
      "image/png": "[encoded data removed]",
      "text/plain": [
       "<Figure size 432x288 with 1 Axes>"
      ]
     },
     "metadata": {
      "needs_background": "light"
     },
     "output_type": "display_data"
    }
   ],
   "source": [
    "year_exposition_center_spb_data = center_spb_data.pivot_table(index = 'year_exposition', values = 'price_for_meter', aggfunc = ['mean', 'count', 'median'])\n",
    "year_exposition_center_spb_data.columns = ['mean', 'count', 'median']\n",
    "year_exposition_center_spb_data.plot(y = 'median')\n",
    "\n",
    "year_exposition_center_spb_data.sort_values('median', ascending = False)"
   ]
  },
  {
   "cell_type": "markdown",
   "metadata": {},
   "source": [
    "It follows from the graph that from 2014 to 2015 there was a strong decline in the real estate market in the center of St. Petersburg. At the same time, after 2015, the real estate market has adapted: the price of real estate is steadily increasing without declines."
   ]
  },
  {
   "cell_type": "markdown",
   "metadata": {},
   "source": [
    "Thus, based on the analysis of real estate in the center of St. Petersburg, we can say the following:\n",
    "* apartments with an area of 60-80 sq. m. meters, worth from 6 to 7 million, having 3 rooms and a ceiling height of 3 meters are most often offered for purchase in the center of St. Petersburg;\n",
    "* the number of rooms in an apartment in the center and the distance from the center - do not have a significant impact on the cost of the apartment, whereas in the general sample of data - proximity to the center increased the cost of the apartment, and the proximity of rooms to 3 reduced the cost per square meter;\n",
    "* in the center of St. Petersburg and in other places - apartments on the first floor are not popular and are cheaper than other apartments. At the same time, it is likely that the last floors are less popular than other floors for buying an apartment. Perhaps this is due to the fear of buying an apartment under the roof due to weather conditions;\n",
    "* in the center of St. Petersburg, ads for the sale of apartments contain a higher price on Monday and Saturday, whereas in the general sample the price in the first half of the week is usually higher than in the second half;\n",
    "* the most expensive months to purchase an apartment in the center of St. Petersburg are March, August and December, according to the general sample - January and August-September."
   ]
  },
  {
   "cell_type": "markdown",
   "metadata": {},
   "source": [
    "## Overall conclusion"
   ]
  },
  {
   "cell_type": "markdown",
   "metadata": {},
   "source": [
    "To prepare this analysis, we opened the file and pre-examined the data, as a result of which omissions, incorrect data types and incorrect dataframe values were identified and processed, possible causes of their occurrence were analyzed. Further, new columns with data on the cost per square meter were calculated and added to the dataframe, the result of categorization by floors of the location of apartments, the ratio of areas, the dates of publication of ads were put in order. This allowed us to move on to research data analysis.\n",
    "\n",
    "As part of the research data analysis, we analyzed such parameters as: area, price, number of rooms, ceiling height. The existing anomalies in these parameters were identified, investigated and, if possible, eliminated. At the same time, periods were identified, at the end of which the ads were most often removed from publication - the data on this should be clarified with colleagues (the initiator of the task). In addition, it was revealed that in the whole sample:\n",
    "* proximity to the center increased the cost of the apartment, and the proximity of rooms to 3 reduced the cost per square meter of the apartment, \n",
    "* the floor of the apartment affects the price of the apartment - the first floor has the lowest cost, then by a large margin comes the cost of the apartment on the top floor, the most expensive are apartments on other floors;\n",
    "* the period of placement of the ad also affects the cost of the apartment - so it was revealed that in August the cost of the apartment is always high.\n",
    "\n",
    "At the same time, it is important to remember that when analyzing the data, we did not take into account inflation and the real purchasing ability of buyers, which may affect the value of the apartment in time, and not in absolute values."
   ]
  }
 ],
 "metadata": {
  "ExecuteTimeLog": [
   {
    "duration": 705,
    "start_time": "2022-03-27T17:15:53.788Z"
   },
   {
    "duration": 149,
    "start_time": "2022-03-27T17:17:18.287Z"
   },
   {
    "duration": 21,
    "start_time": "2022-03-27T17:18:17.061Z"
   },
   {
    "duration": 72,
    "start_time": "2022-03-27T20:32:24.838Z"
   },
   {
    "duration": 9,
    "start_time": "2022-03-27T20:32:31.880Z"
   },
   {
    "duration": 702,
    "start_time": "2022-03-27T20:32:42.649Z"
   },
   {
    "duration": 25,
    "start_time": "2022-03-27T20:32:43.354Z"
   },
   {
    "duration": 6,
    "start_time": "2022-03-27T20:32:43.382Z"
   },
   {
    "duration": 7,
    "start_time": "2022-03-27T20:33:04.219Z"
   },
   {
    "duration": 43,
    "start_time": "2022-03-27T20:36:58.403Z"
   },
   {
    "duration": 22,
    "start_time": "2022-03-27T20:37:15.979Z"
   },
   {
    "duration": 21,
    "start_time": "2022-03-27T20:45:27.327Z"
   },
   {
    "duration": 5,
    "start_time": "2022-03-27T20:50:15.022Z"
   },
   {
    "duration": 22,
    "start_time": "2022-03-27T20:50:38.099Z"
   },
   {
    "duration": 13,
    "start_time": "2022-03-27T20:54:07.765Z"
   },
   {
    "duration": 13,
    "start_time": "2022-03-27T20:56:48.815Z"
   },
   {
    "duration": 161,
    "start_time": "2022-03-27T20:57:05.348Z"
   },
   {
    "duration": 20,
    "start_time": "2022-03-27T20:57:05.512Z"
   },
   {
    "duration": 40,
    "start_time": "2022-03-27T20:57:05.534Z"
   },
   {
    "duration": 7,
    "start_time": "2022-03-27T20:57:05.576Z"
   },
   {
    "duration": 22,
    "start_time": "2022-03-27T20:57:05.584Z"
   },
   {
    "duration": 20,
    "start_time": "2022-03-27T20:57:05.608Z"
   },
   {
    "duration": 6,
    "start_time": "2022-03-27T21:03:10.325Z"
   },
   {
    "duration": 5,
    "start_time": "2022-03-27T21:03:23.722Z"
   },
   {
    "duration": 8,
    "start_time": "2022-03-27T21:04:39.811Z"
   },
   {
    "duration": 8,
    "start_time": "2022-03-27T21:05:47.322Z"
   },
   {
    "duration": 19,
    "start_time": "2022-03-27T21:06:21.532Z"
   },
   {
    "duration": 23,
    "start_time": "2022-03-27T21:07:38.369Z"
   },
   {
    "duration": 18,
    "start_time": "2022-03-27T21:08:45.897Z"
   },
   {
    "duration": 153,
    "start_time": "2022-03-27T21:10:40.271Z"
   },
   {
    "duration": 20,
    "start_time": "2022-03-27T21:10:40.426Z"
   },
   {
    "duration": 36,
    "start_time": "2022-03-27T21:10:40.448Z"
   },
   {
    "duration": 7,
    "start_time": "2022-03-27T21:10:40.487Z"
   },
   {
    "duration": 20,
    "start_time": "2022-03-27T21:10:40.497Z"
   },
   {
    "duration": 56,
    "start_time": "2022-03-27T21:10:40.519Z"
   },
   {
    "duration": 52,
    "start_time": "2022-03-28T11:13:07.994Z"
   },
   {
    "duration": 618,
    "start_time": "2022-03-28T11:13:15.028Z"
   },
   {
    "duration": 17,
    "start_time": "2022-03-28T11:13:15.649Z"
   },
   {
    "duration": 18,
    "start_time": "2022-03-28T11:13:15.668Z"
   },
   {
    "duration": 8,
    "start_time": "2022-03-28T11:13:15.688Z"
   },
   {
    "duration": 51,
    "start_time": "2022-03-28T11:13:15.698Z"
   },
   {
    "duration": 21,
    "start_time": "2022-03-28T11:13:15.751Z"
   },
   {
    "duration": 6,
    "start_time": "2022-03-28T11:13:15.774Z"
   },
   {
    "duration": 17,
    "start_time": "2022-03-28T11:17:09.847Z"
   },
   {
    "duration": 135,
    "start_time": "2022-03-28T11:17:21.786Z"
   },
   {
    "duration": 22,
    "start_time": "2022-03-28T11:17:21.923Z"
   },
   {
    "duration": 15,
    "start_time": "2022-03-28T11:17:21.947Z"
   },
   {
    "duration": 5,
    "start_time": "2022-03-28T11:17:21.965Z"
   },
   {
    "duration": 20,
    "start_time": "2022-03-28T11:17:21.972Z"
   },
   {
    "duration": 45,
    "start_time": "2022-03-28T11:17:21.994Z"
   },
   {
    "duration": 5,
    "start_time": "2022-03-28T11:17:22.041Z"
   },
   {
    "duration": 18,
    "start_time": "2022-03-28T11:17:53.990Z"
   },
   {
    "duration": 17,
    "start_time": "2022-03-28T11:26:31.510Z"
   },
   {
    "duration": 45,
    "start_time": "2022-03-28T15:35:34.746Z"
   },
   {
    "duration": 552,
    "start_time": "2022-03-28T15:35:43.579Z"
   },
   {
    "duration": 20,
    "start_time": "2022-03-28T15:35:44.133Z"
   },
   {
    "duration": 15,
    "start_time": "2022-03-28T15:35:44.154Z"
   },
   {
    "duration": 6,
    "start_time": "2022-03-28T15:35:44.171Z"
   },
   {
    "duration": 50,
    "start_time": "2022-03-28T15:35:44.179Z"
   },
   {
    "duration": 15,
    "start_time": "2022-03-28T15:35:44.231Z"
   },
   {
    "duration": 5,
    "start_time": "2022-03-28T15:35:44.248Z"
   },
   {
    "duration": 20,
    "start_time": "2022-03-28T15:35:44.254Z"
   },
   {
    "duration": 35,
    "start_time": "2022-03-28T15:35:44.276Z"
   },
   {
    "duration": 7,
    "start_time": "2022-03-28T15:47:57.876Z"
   },
   {
    "duration": 497,
    "start_time": "2022-03-28T15:49:21.093Z"
   },
   {
    "duration": 108,
    "start_time": "2022-03-28T15:51:20.410Z"
   },
   {
    "duration": 93,
    "start_time": "2022-03-28T15:57:05.544Z"
   },
   {
    "duration": 95,
    "start_time": "2022-03-28T15:57:51.297Z"
   },
   {
    "duration": 101,
    "start_time": "2022-03-28T15:58:01.239Z"
   },
   {
    "duration": 167,
    "start_time": "2022-03-28T15:58:08.184Z"
   },
   {
    "duration": 14,
    "start_time": "2022-03-28T15:58:08.353Z"
   },
   {
    "duration": 9,
    "start_time": "2022-03-28T15:58:08.368Z"
   },
   {
    "duration": 5,
    "start_time": "2022-03-28T15:58:08.379Z"
   },
   {
    "duration": 18,
    "start_time": "2022-03-28T15:58:08.408Z"
   },
   {
    "duration": 15,
    "start_time": "2022-03-28T15:58:08.428Z"
   },
   {
    "duration": 11,
    "start_time": "2022-03-28T15:58:08.445Z"
   },
   {
    "duration": 23,
    "start_time": "2022-03-28T15:58:08.458Z"
   },
   {
    "duration": 137,
    "start_time": "2022-03-28T15:58:08.483Z"
   },
   {
    "duration": 149,
    "start_time": "2022-03-28T15:58:08.622Z"
   },
   {
    "duration": 47,
    "start_time": "2022-03-28T16:17:11.003Z"
   },
   {
    "duration": 115,
    "start_time": "2022-03-28T16:17:18.594Z"
   },
   {
    "duration": 14,
    "start_time": "2022-03-28T16:17:18.711Z"
   },
   {
    "duration": 10,
    "start_time": "2022-03-28T16:17:18.727Z"
   },
   {
    "duration": 5,
    "start_time": "2022-03-28T16:17:18.739Z"
   },
   {
    "duration": 18,
    "start_time": "2022-03-28T16:17:18.745Z"
   },
   {
    "duration": 52,
    "start_time": "2022-03-28T16:17:18.764Z"
   },
   {
    "duration": 6,
    "start_time": "2022-03-28T16:17:18.817Z"
   },
   {
    "duration": 18,
    "start_time": "2022-03-28T16:17:18.824Z"
   },
   {
    "duration": 13,
    "start_time": "2022-03-28T16:17:18.844Z"
   },
   {
    "duration": 0,
    "start_time": "2022-03-28T16:17:18.859Z"
   },
   {
    "duration": 0,
    "start_time": "2022-03-28T16:17:18.860Z"
   },
   {
    "duration": 52,
    "start_time": "2022-03-28T21:51:34.220Z"
   },
   {
    "duration": 592,
    "start_time": "2022-03-28T21:51:38.259Z"
   },
   {
    "duration": 26,
    "start_time": "2022-03-28T21:51:38.854Z"
   },
   {
    "duration": 16,
    "start_time": "2022-03-28T21:51:38.884Z"
   },
   {
    "duration": 6,
    "start_time": "2022-03-28T21:51:38.902Z"
   },
   {
    "duration": 27,
    "start_time": "2022-03-28T21:51:38.911Z"
   },
   {
    "duration": 40,
    "start_time": "2022-03-28T21:51:38.941Z"
   },
   {
    "duration": 6,
    "start_time": "2022-03-28T21:51:38.983Z"
   },
   {
    "duration": 19,
    "start_time": "2022-03-28T21:51:38.991Z"
   },
   {
    "duration": 5,
    "start_time": "2022-03-28T21:51:39.011Z"
   },
   {
    "duration": 4,
    "start_time": "2022-03-28T21:51:39.018Z"
   },
   {
    "duration": 889,
    "start_time": "2022-03-28T21:51:39.023Z"
   },
   {
    "duration": 241,
    "start_time": "2022-03-28T21:51:39.915Z"
   },
   {
    "duration": 136,
    "start_time": "2022-03-28T21:56:15.096Z"
   },
   {
    "duration": 5,
    "start_time": "2022-03-28T21:56:23.899Z"
   },
   {
    "duration": 7,
    "start_time": "2022-03-28T21:56:53.248Z"
   },
   {
    "duration": 12,
    "start_time": "2022-03-28T21:57:16.619Z"
   },
   {
    "duration": 26,
    "start_time": "2022-03-28T21:57:41.861Z"
   },
   {
    "duration": 123,
    "start_time": "2022-03-28T21:58:04.034Z"
   },
   {
    "duration": 14,
    "start_time": "2022-03-28T21:58:04.162Z"
   },
   {
    "duration": 11,
    "start_time": "2022-03-28T21:58:04.177Z"
   },
   {
    "duration": 5,
    "start_time": "2022-03-28T21:58:04.189Z"
   },
   {
    "duration": 23,
    "start_time": "2022-03-28T21:58:04.197Z"
   },
   {
    "duration": 43,
    "start_time": "2022-03-28T21:58:04.222Z"
   },
   {
    "duration": 6,
    "start_time": "2022-03-28T21:58:04.267Z"
   },
   {
    "duration": 27,
    "start_time": "2022-03-28T21:58:04.274Z"
   },
   {
    "duration": 35,
    "start_time": "2022-03-28T21:58:04.303Z"
   },
   {
    "duration": 3,
    "start_time": "2022-03-28T21:58:04.362Z"
   },
   {
    "duration": 111,
    "start_time": "2022-03-28T21:58:04.368Z"
   },
   {
    "duration": 139,
    "start_time": "2022-03-28T21:58:04.482Z"
   },
   {
    "duration": 18,
    "start_time": "2022-03-28T22:00:01.864Z"
   },
   {
    "duration": 13,
    "start_time": "2022-03-28T22:03:51.836Z"
   },
   {
    "duration": 21,
    "start_time": "2022-03-28T22:04:15.059Z"
   },
   {
    "duration": 50,
    "start_time": "2022-03-28T22:10:01.412Z"
   },
   {
    "duration": 19,
    "start_time": "2022-03-28T22:13:03.325Z"
   },
   {
    "duration": 22,
    "start_time": "2022-03-28T22:13:25.022Z"
   },
   {
    "duration": 6,
    "start_time": "2022-03-28T22:16:49.382Z"
   },
   {
    "duration": 8,
    "start_time": "2022-03-28T22:18:03.835Z"
   },
   {
    "duration": 111,
    "start_time": "2022-03-28T22:18:15.856Z"
   },
   {
    "duration": 14,
    "start_time": "2022-03-28T22:18:15.968Z"
   },
   {
    "duration": 10,
    "start_time": "2022-03-28T22:18:15.983Z"
   },
   {
    "duration": 81,
    "start_time": "2022-03-28T22:18:15.994Z"
   },
   {
    "duration": 19,
    "start_time": "2022-03-28T22:18:16.077Z"
   },
   {
    "duration": 16,
    "start_time": "2022-03-28T22:18:16.097Z"
   },
   {
    "duration": 9,
    "start_time": "2022-03-28T22:18:16.115Z"
   },
   {
    "duration": 44,
    "start_time": "2022-03-28T22:18:16.125Z"
   },
   {
    "duration": 8,
    "start_time": "2022-03-28T22:18:16.171Z"
   },
   {
    "duration": 7,
    "start_time": "2022-03-28T22:18:16.181Z"
   },
   {
    "duration": 105,
    "start_time": "2022-03-28T22:18:16.189Z"
   },
   {
    "duration": 122,
    "start_time": "2022-03-28T22:18:16.295Z"
   },
   {
    "duration": 6,
    "start_time": "2022-03-28T22:18:51.716Z"
   },
   {
    "duration": 106,
    "start_time": "2022-03-28T22:18:59.350Z"
   },
   {
    "duration": 14,
    "start_time": "2022-03-28T22:18:59.458Z"
   },
   {
    "duration": 10,
    "start_time": "2022-03-28T22:18:59.473Z"
   },
   {
    "duration": 4,
    "start_time": "2022-03-28T22:18:59.484Z"
   },
   {
    "duration": 18,
    "start_time": "2022-03-28T22:18:59.491Z"
   },
   {
    "duration": 15,
    "start_time": "2022-03-28T22:18:59.510Z"
   },
   {
    "duration": 38,
    "start_time": "2022-03-28T22:18:59.527Z"
   },
   {
    "duration": 17,
    "start_time": "2022-03-28T22:18:59.567Z"
   },
   {
    "duration": 6,
    "start_time": "2022-03-28T22:18:59.586Z"
   },
   {
    "duration": 6,
    "start_time": "2022-03-28T22:18:59.593Z"
   },
   {
    "duration": 115,
    "start_time": "2022-03-28T22:18:59.600Z"
   },
   {
    "duration": 125,
    "start_time": "2022-03-28T22:18:59.717Z"
   },
   {
    "duration": 6,
    "start_time": "2022-03-28T22:19:33.934Z"
   },
   {
    "duration": 9,
    "start_time": "2022-03-28T22:19:50.363Z"
   },
   {
    "duration": 20,
    "start_time": "2022-03-28T22:22:43.357Z"
   },
   {
    "duration": 17,
    "start_time": "2022-03-28T22:24:42.847Z"
   },
   {
    "duration": 26,
    "start_time": "2022-03-28T22:25:29.195Z"
   },
   {
    "duration": 15,
    "start_time": "2022-03-28T22:29:09.263Z"
   },
   {
    "duration": 100,
    "start_time": "2022-03-28T22:29:17.440Z"
   },
   {
    "duration": 13,
    "start_time": "2022-03-28T22:29:17.542Z"
   },
   {
    "duration": 9,
    "start_time": "2022-03-28T22:29:17.563Z"
   },
   {
    "duration": 4,
    "start_time": "2022-03-28T22:29:17.573Z"
   },
   {
    "duration": 14,
    "start_time": "2022-03-28T22:29:17.580Z"
   },
   {
    "duration": 13,
    "start_time": "2022-03-28T22:29:17.596Z"
   },
   {
    "duration": 5,
    "start_time": "2022-03-28T22:29:17.611Z"
   },
   {
    "duration": 52,
    "start_time": "2022-03-28T22:29:17.617Z"
   },
   {
    "duration": 28,
    "start_time": "2022-03-28T22:29:17.670Z"
   },
   {
    "duration": 14,
    "start_time": "2022-03-28T22:29:17.700Z"
   },
   {
    "duration": 0,
    "start_time": "2022-03-28T22:29:17.715Z"
   },
   {
    "duration": 0,
    "start_time": "2022-03-28T22:29:17.716Z"
   },
   {
    "duration": 4,
    "start_time": "2022-03-28T22:29:42.210Z"
   },
   {
    "duration": 8,
    "start_time": "2022-03-28T22:39:07.445Z"
   },
   {
    "duration": 34,
    "start_time": "2022-03-28T22:39:25.438Z"
   },
   {
    "duration": 104,
    "start_time": "2022-03-28T22:50:25.736Z"
   },
   {
    "duration": 13,
    "start_time": "2022-03-28T22:50:25.841Z"
   },
   {
    "duration": 13,
    "start_time": "2022-03-28T22:50:25.856Z"
   },
   {
    "duration": 4,
    "start_time": "2022-03-28T22:50:25.871Z"
   },
   {
    "duration": 14,
    "start_time": "2022-03-28T22:50:25.877Z"
   },
   {
    "duration": 12,
    "start_time": "2022-03-28T22:50:25.893Z"
   },
   {
    "duration": 5,
    "start_time": "2022-03-28T22:50:25.906Z"
   },
   {
    "duration": 16,
    "start_time": "2022-03-28T22:50:25.912Z"
   },
   {
    "duration": 59,
    "start_time": "2022-03-28T22:50:25.929Z"
   },
   {
    "duration": 27,
    "start_time": "2022-03-28T22:50:25.990Z"
   },
   {
    "duration": 4,
    "start_time": "2022-03-28T22:50:26.018Z"
   },
   {
    "duration": 115,
    "start_time": "2022-03-28T22:50:26.024Z"
   },
   {
    "duration": 121,
    "start_time": "2022-03-28T22:50:26.140Z"
   },
   {
    "duration": 6,
    "start_time": "2022-03-28T22:57:44.238Z"
   },
   {
    "duration": 99,
    "start_time": "2022-03-28T23:02:28.473Z"
   },
   {
    "duration": 106,
    "start_time": "2022-03-28T23:02:33.251Z"
   },
   {
    "duration": 17,
    "start_time": "2022-03-28T23:02:33.359Z"
   },
   {
    "duration": 10,
    "start_time": "2022-03-28T23:02:33.377Z"
   },
   {
    "duration": 4,
    "start_time": "2022-03-28T23:02:33.388Z"
   },
   {
    "duration": 17,
    "start_time": "2022-03-28T23:02:33.394Z"
   },
   {
    "duration": 14,
    "start_time": "2022-03-28T23:02:33.412Z"
   },
   {
    "duration": 37,
    "start_time": "2022-03-28T23:02:33.427Z"
   },
   {
    "duration": 21,
    "start_time": "2022-03-28T23:02:33.465Z"
   },
   {
    "duration": 26,
    "start_time": "2022-03-28T23:02:33.488Z"
   },
   {
    "duration": 26,
    "start_time": "2022-03-28T23:02:33.515Z"
   },
   {
    "duration": 127,
    "start_time": "2022-03-28T23:02:33.542Z"
   },
   {
    "duration": 0,
    "start_time": "2022-03-28T23:02:33.671Z"
   },
   {
    "duration": 0,
    "start_time": "2022-03-28T23:02:33.672Z"
   },
   {
    "duration": 0,
    "start_time": "2022-03-28T23:02:33.673Z"
   },
   {
    "duration": 6,
    "start_time": "2022-03-28T23:02:58.161Z"
   },
   {
    "duration": 104,
    "start_time": "2022-03-28T23:04:12.002Z"
   },
   {
    "duration": 117,
    "start_time": "2022-03-28T23:05:22.674Z"
   },
   {
    "duration": 159,
    "start_time": "2022-03-28T23:12:45.245Z"
   },
   {
    "duration": 103,
    "start_time": "2022-03-28T23:15:05.416Z"
   },
   {
    "duration": 86,
    "start_time": "2022-03-28T23:15:14.580Z"
   },
   {
    "duration": 2078,
    "start_time": "2022-03-28T23:26:13.262Z"
   },
   {
    "duration": 106,
    "start_time": "2022-03-28T23:26:26.335Z"
   },
   {
    "duration": 13,
    "start_time": "2022-03-28T23:26:26.443Z"
   },
   {
    "duration": 12,
    "start_time": "2022-03-28T23:26:26.458Z"
   },
   {
    "duration": 28,
    "start_time": "2022-03-28T23:26:26.472Z"
   },
   {
    "duration": 122,
    "start_time": "2022-03-28T23:26:26.501Z"
   },
   {
    "duration": 0,
    "start_time": "2022-03-28T23:26:26.625Z"
   },
   {
    "duration": 0,
    "start_time": "2022-03-28T23:26:26.626Z"
   },
   {
    "duration": 0,
    "start_time": "2022-03-28T23:26:26.627Z"
   },
   {
    "duration": 0,
    "start_time": "2022-03-28T23:26:26.628Z"
   },
   {
    "duration": 0,
    "start_time": "2022-03-28T23:26:26.629Z"
   },
   {
    "duration": 0,
    "start_time": "2022-03-28T23:26:26.629Z"
   },
   {
    "duration": 0,
    "start_time": "2022-03-28T23:26:26.630Z"
   },
   {
    "duration": 0,
    "start_time": "2022-03-28T23:26:26.631Z"
   },
   {
    "duration": 0,
    "start_time": "2022-03-28T23:26:26.632Z"
   },
   {
    "duration": 0,
    "start_time": "2022-03-28T23:26:26.633Z"
   },
   {
    "duration": 0,
    "start_time": "2022-03-28T23:26:26.633Z"
   },
   {
    "duration": 12,
    "start_time": "2022-03-28T23:26:26.715Z"
   },
   {
    "duration": 10,
    "start_time": "2022-03-28T23:28:45.257Z"
   },
   {
    "duration": 108,
    "start_time": "2022-03-28T23:28:52.455Z"
   },
   {
    "duration": 13,
    "start_time": "2022-03-28T23:28:52.565Z"
   },
   {
    "duration": 8,
    "start_time": "2022-03-28T23:28:52.580Z"
   },
   {
    "duration": 4,
    "start_time": "2022-03-28T23:28:52.590Z"
   },
   {
    "duration": 16,
    "start_time": "2022-03-28T23:28:52.595Z"
   },
   {
    "duration": 12,
    "start_time": "2022-03-28T23:28:52.613Z"
   },
   {
    "duration": 37,
    "start_time": "2022-03-28T23:28:52.627Z"
   },
   {
    "duration": 17,
    "start_time": "2022-03-28T23:28:52.666Z"
   },
   {
    "duration": 25,
    "start_time": "2022-03-28T23:28:52.685Z"
   },
   {
    "duration": 26,
    "start_time": "2022-03-28T23:28:52.712Z"
   },
   {
    "duration": 91,
    "start_time": "2022-03-28T23:28:52.762Z"
   },
   {
    "duration": 129,
    "start_time": "2022-03-28T23:28:52.862Z"
   },
   {
    "duration": 0,
    "start_time": "2022-03-28T23:28:52.993Z"
   },
   {
    "duration": 0,
    "start_time": "2022-03-28T23:28:52.994Z"
   },
   {
    "duration": 0,
    "start_time": "2022-03-28T23:28:52.995Z"
   },
   {
    "duration": 6,
    "start_time": "2022-03-28T23:33:56.773Z"
   },
   {
    "duration": 11,
    "start_time": "2022-03-28T23:38:01.868Z"
   },
   {
    "duration": 11,
    "start_time": "2022-03-28T23:38:13.965Z"
   },
   {
    "duration": 4,
    "start_time": "2022-03-28T23:39:27.720Z"
   },
   {
    "duration": 10,
    "start_time": "2022-03-28T23:39:52.062Z"
   },
   {
    "duration": 2055,
    "start_time": "2022-03-28T23:40:10.849Z"
   },
   {
    "duration": 2043,
    "start_time": "2022-03-28T23:40:46.031Z"
   },
   {
    "duration": 1971,
    "start_time": "2022-03-28T23:41:08.045Z"
   },
   {
    "duration": 14,
    "start_time": "2022-03-28T23:42:32.192Z"
   },
   {
    "duration": 3,
    "start_time": "2022-03-28T23:45:50.036Z"
   },
   {
    "duration": 9,
    "start_time": "2022-03-28T23:48:22.209Z"
   },
   {
    "duration": 18,
    "start_time": "2022-03-28T23:48:34.285Z"
   },
   {
    "duration": 7,
    "start_time": "2022-03-28T23:54:41.498Z"
   },
   {
    "duration": 5,
    "start_time": "2022-03-28T23:54:57.291Z"
   },
   {
    "duration": 5,
    "start_time": "2022-03-28T23:55:18.701Z"
   },
   {
    "duration": 28,
    "start_time": "2022-03-29T00:25:30.849Z"
   },
   {
    "duration": 11,
    "start_time": "2022-03-29T00:29:40.266Z"
   },
   {
    "duration": 8,
    "start_time": "2022-03-29T00:30:09.634Z"
   },
   {
    "duration": 85,
    "start_time": "2022-03-29T00:36:50.262Z"
   },
   {
    "duration": 107,
    "start_time": "2022-03-29T00:36:56.601Z"
   },
   {
    "duration": 131,
    "start_time": "2022-03-29T00:37:32.363Z"
   },
   {
    "duration": 6,
    "start_time": "2022-03-29T00:38:36.561Z"
   },
   {
    "duration": 9,
    "start_time": "2022-03-29T00:39:04.944Z"
   },
   {
    "duration": 273,
    "start_time": "2022-03-29T00:52:30.167Z"
   },
   {
    "duration": 106,
    "start_time": "2022-03-29T00:52:46.113Z"
   },
   {
    "duration": 13,
    "start_time": "2022-03-29T00:52:46.220Z"
   },
   {
    "duration": 10,
    "start_time": "2022-03-29T00:52:46.235Z"
   },
   {
    "duration": 17,
    "start_time": "2022-03-29T00:52:46.246Z"
   },
   {
    "duration": 20,
    "start_time": "2022-03-29T00:52:46.265Z"
   },
   {
    "duration": 13,
    "start_time": "2022-03-29T00:52:46.286Z"
   },
   {
    "duration": 5,
    "start_time": "2022-03-29T00:52:46.300Z"
   },
   {
    "duration": 15,
    "start_time": "2022-03-29T00:52:46.306Z"
   },
   {
    "duration": 50,
    "start_time": "2022-03-29T00:52:46.322Z"
   },
   {
    "duration": 5,
    "start_time": "2022-03-29T00:52:46.374Z"
   },
   {
    "duration": 6,
    "start_time": "2022-03-29T00:52:46.381Z"
   },
   {
    "duration": 19,
    "start_time": "2022-03-29T00:52:46.388Z"
   },
   {
    "duration": 317,
    "start_time": "2022-03-29T00:52:46.452Z"
   },
   {
    "duration": 262,
    "start_time": "2022-03-29T00:52:53.875Z"
   },
   {
    "duration": 260,
    "start_time": "2022-03-29T00:53:06.045Z"
   },
   {
    "duration": 46,
    "start_time": "2022-03-29T20:48:37.240Z"
   },
   {
    "duration": 973,
    "start_time": "2022-03-29T20:48:45.781Z"
   },
   {
    "duration": 15,
    "start_time": "2022-03-29T20:48:46.757Z"
   },
   {
    "duration": 11,
    "start_time": "2022-03-29T20:48:46.774Z"
   },
   {
    "duration": 18,
    "start_time": "2022-03-29T20:48:46.786Z"
   },
   {
    "duration": 17,
    "start_time": "2022-03-29T20:48:46.806Z"
   },
   {
    "duration": 16,
    "start_time": "2022-03-29T20:48:46.825Z"
   },
   {
    "duration": 5,
    "start_time": "2022-03-29T20:48:46.843Z"
   },
   {
    "duration": 54,
    "start_time": "2022-03-29T20:48:46.850Z"
   },
   {
    "duration": 29,
    "start_time": "2022-03-29T20:48:46.906Z"
   },
   {
    "duration": 7,
    "start_time": "2022-03-29T20:48:46.937Z"
   },
   {
    "duration": 7,
    "start_time": "2022-03-29T20:48:46.945Z"
   },
   {
    "duration": 48,
    "start_time": "2022-03-29T20:48:46.954Z"
   },
   {
    "duration": 119,
    "start_time": "2022-03-29T20:49:11.157Z"
   },
   {
    "duration": 26,
    "start_time": "2022-03-29T20:49:11.278Z"
   },
   {
    "duration": 11,
    "start_time": "2022-03-29T20:49:11.306Z"
   },
   {
    "duration": 4,
    "start_time": "2022-03-29T20:49:11.318Z"
   },
   {
    "duration": 18,
    "start_time": "2022-03-29T20:49:11.324Z"
   },
   {
    "duration": 15,
    "start_time": "2022-03-29T20:49:11.344Z"
   },
   {
    "duration": 42,
    "start_time": "2022-03-29T20:49:11.360Z"
   },
   {
    "duration": 19,
    "start_time": "2022-03-29T20:49:11.404Z"
   },
   {
    "duration": 28,
    "start_time": "2022-03-29T20:49:11.425Z"
   },
   {
    "duration": 5,
    "start_time": "2022-03-29T20:49:11.455Z"
   },
   {
    "duration": 39,
    "start_time": "2022-03-29T20:49:11.462Z"
   },
   {
    "duration": 18,
    "start_time": "2022-03-29T20:49:11.503Z"
   },
   {
    "duration": 6,
    "start_time": "2022-03-29T20:49:11.523Z"
   },
   {
    "duration": 302,
    "start_time": "2022-03-29T20:49:11.532Z"
   },
   {
    "duration": 4,
    "start_time": "2022-03-29T20:56:12.245Z"
   },
   {
    "duration": 3,
    "start_time": "2022-03-29T20:58:12.482Z"
   },
   {
    "duration": 24,
    "start_time": "2022-03-29T20:59:06.114Z"
   },
   {
    "duration": 10,
    "start_time": "2022-03-29T21:02:08.370Z"
   },
   {
    "duration": 105,
    "start_time": "2022-03-29T21:06:07.227Z"
   },
   {
    "duration": 13,
    "start_time": "2022-03-29T21:06:07.335Z"
   },
   {
    "duration": 9,
    "start_time": "2022-03-29T21:06:07.350Z"
   },
   {
    "duration": 4,
    "start_time": "2022-03-29T21:06:07.360Z"
   },
   {
    "duration": 43,
    "start_time": "2022-03-29T21:06:07.366Z"
   },
   {
    "duration": 14,
    "start_time": "2022-03-29T21:06:07.411Z"
   },
   {
    "duration": 5,
    "start_time": "2022-03-29T21:06:07.427Z"
   },
   {
    "duration": 20,
    "start_time": "2022-03-29T21:06:07.433Z"
   },
   {
    "duration": 48,
    "start_time": "2022-03-29T21:06:07.455Z"
   },
   {
    "duration": 5,
    "start_time": "2022-03-29T21:06:07.505Z"
   },
   {
    "duration": 3,
    "start_time": "2022-03-29T21:06:07.512Z"
   },
   {
    "duration": 20,
    "start_time": "2022-03-29T21:06:07.517Z"
   },
   {
    "duration": 4,
    "start_time": "2022-03-29T21:06:07.539Z"
   },
   {
    "duration": 3,
    "start_time": "2022-03-29T21:06:07.546Z"
   },
   {
    "duration": 51,
    "start_time": "2022-03-29T21:06:07.550Z"
   },
   {
    "duration": 8,
    "start_time": "2022-03-29T21:06:07.603Z"
   },
   {
    "duration": 2,
    "start_time": "2022-03-29T21:06:07.613Z"
   },
   {
    "duration": 5,
    "start_time": "2022-03-29T21:23:50.223Z"
   },
   {
    "duration": 8,
    "start_time": "2022-03-29T21:24:30.660Z"
   },
   {
    "duration": 6,
    "start_time": "2022-03-29T21:24:48.240Z"
   },
   {
    "duration": 14,
    "start_time": "2022-03-29T21:34:06.980Z"
   },
   {
    "duration": 13,
    "start_time": "2022-03-29T21:34:21.972Z"
   },
   {
    "duration": 13,
    "start_time": "2022-03-29T21:34:44.385Z"
   },
   {
    "duration": 11,
    "start_time": "2022-03-29T21:35:06.817Z"
   },
   {
    "duration": 5,
    "start_time": "2022-03-29T21:52:57.246Z"
   },
   {
    "duration": 5,
    "start_time": "2022-03-29T21:54:07.257Z"
   },
   {
    "duration": 6,
    "start_time": "2022-03-29T21:55:34.071Z"
   },
   {
    "duration": 5,
    "start_time": "2022-03-29T21:55:58.743Z"
   },
   {
    "duration": 0,
    "start_time": "2022-03-29T21:56:20.481Z"
   },
   {
    "duration": 3369,
    "start_time": "2022-03-29T21:56:32.795Z"
   },
   {
    "duration": 4,
    "start_time": "2022-03-29T21:56:46.358Z"
   },
   {
    "duration": 6,
    "start_time": "2022-03-29T21:57:22.887Z"
   },
   {
    "duration": 5,
    "start_time": "2022-03-29T21:58:07.253Z"
   },
   {
    "duration": 4,
    "start_time": "2022-03-29T21:59:41.987Z"
   },
   {
    "duration": 8,
    "start_time": "2022-03-29T22:02:03.882Z"
   },
   {
    "duration": 7,
    "start_time": "2022-03-29T22:02:23.790Z"
   },
   {
    "duration": 214,
    "start_time": "2022-03-29T22:02:59.665Z"
   },
   {
    "duration": 11,
    "start_time": "2022-03-29T22:04:20.726Z"
   },
   {
    "duration": 21,
    "start_time": "2022-03-29T22:04:37.294Z"
   },
   {
    "duration": 10,
    "start_time": "2022-03-29T22:05:42.907Z"
   },
   {
    "duration": 10,
    "start_time": "2022-03-29T22:05:45.508Z"
   },
   {
    "duration": 18,
    "start_time": "2022-03-29T22:05:55.145Z"
   },
   {
    "duration": 9,
    "start_time": "2022-03-29T22:06:03.991Z"
   },
   {
    "duration": 333,
    "start_time": "2022-03-29T22:13:19.509Z"
   },
   {
    "duration": 293,
    "start_time": "2022-03-29T22:13:43.769Z"
   },
   {
    "duration": 306,
    "start_time": "2022-03-29T22:14:00.809Z"
   },
   {
    "duration": 286,
    "start_time": "2022-03-29T22:14:51.906Z"
   },
   {
    "duration": 331,
    "start_time": "2022-03-29T22:21:24.698Z"
   },
   {
    "duration": 26,
    "start_time": "2022-03-29T22:37:26.583Z"
   },
   {
    "duration": 27,
    "start_time": "2022-03-29T22:37:35.822Z"
   },
   {
    "duration": 11,
    "start_time": "2022-03-29T22:38:02.078Z"
   },
   {
    "duration": 9,
    "start_time": "2022-03-29T22:38:34.058Z"
   },
   {
    "duration": 17,
    "start_time": "2022-03-29T22:39:16.375Z"
   },
   {
    "duration": 18,
    "start_time": "2022-03-29T22:57:07.376Z"
   },
   {
    "duration": 19,
    "start_time": "2022-03-29T23:00:08.673Z"
   },
   {
    "duration": 15,
    "start_time": "2022-03-29T23:01:54.115Z"
   },
   {
    "duration": 105,
    "start_time": "2022-03-29T23:02:57.682Z"
   },
   {
    "duration": 23,
    "start_time": "2022-03-29T23:02:57.789Z"
   },
   {
    "duration": 11,
    "start_time": "2022-03-29T23:02:57.813Z"
   },
   {
    "duration": 5,
    "start_time": "2022-03-29T23:02:57.826Z"
   },
   {
    "duration": 16,
    "start_time": "2022-03-29T23:02:57.833Z"
   },
   {
    "duration": 51,
    "start_time": "2022-03-29T23:02:57.851Z"
   },
   {
    "duration": 6,
    "start_time": "2022-03-29T23:02:57.904Z"
   },
   {
    "duration": 17,
    "start_time": "2022-03-29T23:02:57.911Z"
   },
   {
    "duration": 26,
    "start_time": "2022-03-29T23:02:57.930Z"
   },
   {
    "duration": 5,
    "start_time": "2022-03-29T23:02:57.957Z"
   },
   {
    "duration": 5,
    "start_time": "2022-03-29T23:02:57.964Z"
   },
   {
    "duration": 22,
    "start_time": "2022-03-29T23:02:58.002Z"
   },
   {
    "duration": 6,
    "start_time": "2022-03-29T23:02:58.026Z"
   },
   {
    "duration": 7,
    "start_time": "2022-03-29T23:02:58.036Z"
   },
   {
    "duration": 40,
    "start_time": "2022-03-29T23:02:58.048Z"
   },
   {
    "duration": 19,
    "start_time": "2022-03-29T23:02:58.090Z"
   },
   {
    "duration": 8,
    "start_time": "2022-03-29T23:02:58.111Z"
   },
   {
    "duration": 12,
    "start_time": "2022-03-29T23:02:58.120Z"
   },
   {
    "duration": 5,
    "start_time": "2022-03-29T23:02:58.133Z"
   },
   {
    "duration": 7,
    "start_time": "2022-03-29T23:02:58.139Z"
   },
   {
    "duration": 17,
    "start_time": "2022-03-29T23:02:58.147Z"
   },
   {
    "duration": 312,
    "start_time": "2022-03-29T23:02:58.166Z"
   },
   {
    "duration": 26,
    "start_time": "2022-03-29T23:02:58.479Z"
   },
   {
    "duration": 26,
    "start_time": "2022-03-29T23:02:58.507Z"
   },
   {
    "duration": 3,
    "start_time": "2022-03-29T23:02:58.534Z"
   },
   {
    "duration": 6,
    "start_time": "2022-03-29T23:03:42.787Z"
   },
   {
    "duration": 104,
    "start_time": "2022-03-29T23:03:58.264Z"
   },
   {
    "duration": 13,
    "start_time": "2022-03-29T23:03:58.370Z"
   },
   {
    "duration": 22,
    "start_time": "2022-03-29T23:03:58.385Z"
   },
   {
    "duration": 5,
    "start_time": "2022-03-29T23:03:58.408Z"
   },
   {
    "duration": 15,
    "start_time": "2022-03-29T23:03:58.416Z"
   },
   {
    "duration": 14,
    "start_time": "2022-03-29T23:03:58.433Z"
   },
   {
    "duration": 5,
    "start_time": "2022-03-29T23:03:58.449Z"
   },
   {
    "duration": 53,
    "start_time": "2022-03-29T23:03:58.456Z"
   },
   {
    "duration": 27,
    "start_time": "2022-03-29T23:03:58.511Z"
   },
   {
    "duration": 5,
    "start_time": "2022-03-29T23:03:58.540Z"
   },
   {
    "duration": 7,
    "start_time": "2022-03-29T23:03:58.547Z"
   },
   {
    "duration": 24,
    "start_time": "2022-03-29T23:03:58.555Z"
   },
   {
    "duration": 6,
    "start_time": "2022-03-29T23:03:58.602Z"
   },
   {
    "duration": 3,
    "start_time": "2022-03-29T23:03:58.611Z"
   },
   {
    "duration": 20,
    "start_time": "2022-03-29T23:03:58.616Z"
   },
   {
    "duration": 8,
    "start_time": "2022-03-29T23:03:58.637Z"
   },
   {
    "duration": 7,
    "start_time": "2022-03-29T23:03:58.647Z"
   },
   {
    "duration": 50,
    "start_time": "2022-03-29T23:03:58.655Z"
   },
   {
    "duration": 4,
    "start_time": "2022-03-29T23:03:58.707Z"
   },
   {
    "duration": 4,
    "start_time": "2022-03-29T23:03:58.713Z"
   },
   {
    "duration": 12,
    "start_time": "2022-03-29T23:03:58.719Z"
   },
   {
    "duration": 311,
    "start_time": "2022-03-29T23:03:58.733Z"
   },
   {
    "duration": 6,
    "start_time": "2022-03-29T23:03:59.046Z"
   },
   {
    "duration": 21,
    "start_time": "2022-03-29T23:03:59.053Z"
   },
   {
    "duration": 2,
    "start_time": "2022-03-29T23:03:59.076Z"
   },
   {
    "duration": 6,
    "start_time": "2022-03-29T23:04:15.783Z"
   },
   {
    "duration": 14,
    "start_time": "2022-03-29T23:11:34.144Z"
   },
   {
    "duration": 14,
    "start_time": "2022-03-29T23:11:52.652Z"
   },
   {
    "duration": 198,
    "start_time": "2022-03-29T23:12:43.483Z"
   },
   {
    "duration": 29,
    "start_time": "2022-03-29T23:12:52.302Z"
   },
   {
    "duration": 33,
    "start_time": "2022-03-29T23:13:13.529Z"
   },
   {
    "duration": 29,
    "start_time": "2022-03-29T23:13:53.277Z"
   },
   {
    "duration": 3,
    "start_time": "2022-03-29T23:15:38.138Z"
   },
   {
    "duration": 4,
    "start_time": "2022-03-29T23:34:30.787Z"
   },
   {
    "duration": 4,
    "start_time": "2022-03-29T23:34:41.578Z"
   },
   {
    "duration": 14,
    "start_time": "2022-03-29T23:34:53.826Z"
   },
   {
    "duration": 14,
    "start_time": "2022-03-29T23:42:21.530Z"
   },
   {
    "duration": 5,
    "start_time": "2022-03-29T23:45:16.969Z"
   },
   {
    "duration": 25,
    "start_time": "2022-03-29T23:45:32.115Z"
   },
   {
    "duration": 5,
    "start_time": "2022-03-29T23:45:57.211Z"
   },
   {
    "duration": 23,
    "start_time": "2022-03-30T00:11:11.170Z"
   },
   {
    "duration": 58,
    "start_time": "2022-03-30T10:12:51.399Z"
   },
   {
    "duration": 7,
    "start_time": "2022-03-30T10:13:57.864Z"
   },
   {
    "duration": 1119,
    "start_time": "2022-03-30T10:14:05.127Z"
   },
   {
    "duration": 15,
    "start_time": "2022-03-30T10:14:06.248Z"
   },
   {
    "duration": 17,
    "start_time": "2022-03-30T10:14:06.265Z"
   },
   {
    "duration": 29,
    "start_time": "2022-03-30T10:14:06.284Z"
   },
   {
    "duration": 27,
    "start_time": "2022-03-30T10:14:06.314Z"
   },
   {
    "duration": 14,
    "start_time": "2022-03-30T10:14:06.343Z"
   },
   {
    "duration": 17,
    "start_time": "2022-03-30T10:14:06.360Z"
   },
   {
    "duration": 33,
    "start_time": "2022-03-30T10:14:06.379Z"
   },
   {
    "duration": 32,
    "start_time": "2022-03-30T10:14:06.414Z"
   },
   {
    "duration": 5,
    "start_time": "2022-03-30T10:14:06.449Z"
   },
   {
    "duration": 24,
    "start_time": "2022-03-30T10:14:06.456Z"
   },
   {
    "duration": 44,
    "start_time": "2022-03-30T10:14:06.482Z"
   },
   {
    "duration": 6,
    "start_time": "2022-03-30T10:14:06.528Z"
   },
   {
    "duration": 14,
    "start_time": "2022-03-30T10:14:06.536Z"
   },
   {
    "duration": 32,
    "start_time": "2022-03-30T10:14:06.552Z"
   },
   {
    "duration": 10,
    "start_time": "2022-03-30T10:14:06.586Z"
   },
   {
    "duration": 14,
    "start_time": "2022-03-30T10:14:06.598Z"
   },
   {
    "duration": 24,
    "start_time": "2022-03-30T10:14:06.614Z"
   },
   {
    "duration": 4,
    "start_time": "2022-03-30T10:14:06.640Z"
   },
   {
    "duration": 16,
    "start_time": "2022-03-30T10:14:06.645Z"
   },
   {
    "duration": 27,
    "start_time": "2022-03-30T10:14:06.663Z"
   },
   {
    "duration": 355,
    "start_time": "2022-03-30T10:14:06.692Z"
   },
   {
    "duration": 36,
    "start_time": "2022-03-30T10:14:07.049Z"
   },
   {
    "duration": 19,
    "start_time": "2022-03-30T10:14:07.087Z"
   },
   {
    "duration": 23,
    "start_time": "2022-03-30T10:14:07.111Z"
   },
   {
    "duration": 5,
    "start_time": "2022-03-30T10:14:07.136Z"
   },
   {
    "duration": 386,
    "start_time": "2022-03-30T10:14:07.142Z"
   },
   {
    "duration": 261,
    "start_time": "2022-03-30T10:14:53.338Z"
   },
   {
    "duration": 12,
    "start_time": "2022-03-30T10:19:05.809Z"
   },
   {
    "duration": 48,
    "start_time": "2022-03-30T12:53:12.638Z"
   },
   {
    "duration": 909,
    "start_time": "2022-03-30T12:53:21.123Z"
   },
   {
    "duration": 14,
    "start_time": "2022-03-30T12:53:22.034Z"
   },
   {
    "duration": 10,
    "start_time": "2022-03-30T12:53:22.050Z"
   },
   {
    "duration": 5,
    "start_time": "2022-03-30T12:53:22.062Z"
   },
   {
    "duration": 18,
    "start_time": "2022-03-30T12:53:22.068Z"
   },
   {
    "duration": 14,
    "start_time": "2022-03-30T12:53:22.087Z"
   },
   {
    "duration": 5,
    "start_time": "2022-03-30T12:53:22.133Z"
   },
   {
    "duration": 16,
    "start_time": "2022-03-30T12:53:22.140Z"
   },
   {
    "duration": 26,
    "start_time": "2022-03-30T12:53:22.158Z"
   },
   {
    "duration": 5,
    "start_time": "2022-03-30T12:53:22.186Z"
   },
   {
    "duration": 5,
    "start_time": "2022-03-30T12:53:22.193Z"
   },
   {
    "duration": 52,
    "start_time": "2022-03-30T12:53:22.200Z"
   },
   {
    "duration": 5,
    "start_time": "2022-03-30T12:53:22.253Z"
   },
   {
    "duration": 6,
    "start_time": "2022-03-30T12:53:22.260Z"
   },
   {
    "duration": 21,
    "start_time": "2022-03-30T12:53:22.267Z"
   },
   {
    "duration": 8,
    "start_time": "2022-03-30T12:53:22.289Z"
   },
   {
    "duration": 47,
    "start_time": "2022-03-30T12:53:22.298Z"
   },
   {
    "duration": 58,
    "start_time": "2022-03-30T12:53:22.346Z"
   },
   {
    "duration": 36,
    "start_time": "2022-03-30T12:53:22.406Z"
   },
   {
    "duration": 7,
    "start_time": "2022-03-30T12:53:22.444Z"
   },
   {
    "duration": 21,
    "start_time": "2022-03-30T12:53:22.453Z"
   },
   {
    "duration": 287,
    "start_time": "2022-03-30T12:53:22.475Z"
   },
   {
    "duration": 32,
    "start_time": "2022-03-30T12:53:22.763Z"
   },
   {
    "duration": 4,
    "start_time": "2022-03-30T12:53:22.797Z"
   },
   {
    "duration": 41,
    "start_time": "2022-03-30T12:53:22.803Z"
   },
   {
    "duration": 5,
    "start_time": "2022-03-30T12:53:22.846Z"
   },
   {
    "duration": 310,
    "start_time": "2022-03-30T12:53:22.853Z"
   },
   {
    "duration": 8,
    "start_time": "2022-03-30T12:53:23.167Z"
   },
   {
    "duration": 263,
    "start_time": "2022-03-30T12:53:23.176Z"
   },
   {
    "duration": 40,
    "start_time": "2022-03-30T13:05:49.760Z"
   },
   {
    "duration": 111,
    "start_time": "2022-03-30T13:05:56.256Z"
   },
   {
    "duration": 13,
    "start_time": "2022-03-30T13:05:56.369Z"
   },
   {
    "duration": 15,
    "start_time": "2022-03-30T13:05:56.384Z"
   },
   {
    "duration": 5,
    "start_time": "2022-03-30T13:05:56.401Z"
   },
   {
    "duration": 34,
    "start_time": "2022-03-30T13:05:56.407Z"
   },
   {
    "duration": 13,
    "start_time": "2022-03-30T13:05:56.443Z"
   },
   {
    "duration": 4,
    "start_time": "2022-03-30T13:05:56.458Z"
   },
   {
    "duration": 20,
    "start_time": "2022-03-30T13:05:56.464Z"
   },
   {
    "duration": 51,
    "start_time": "2022-03-30T13:05:56.485Z"
   },
   {
    "duration": 6,
    "start_time": "2022-03-30T13:05:56.539Z"
   },
   {
    "duration": 7,
    "start_time": "2022-03-30T13:05:56.547Z"
   },
   {
    "duration": 20,
    "start_time": "2022-03-30T13:05:56.555Z"
   },
   {
    "duration": 5,
    "start_time": "2022-03-30T13:05:56.577Z"
   },
   {
    "duration": 9,
    "start_time": "2022-03-30T13:05:56.583Z"
   },
   {
    "duration": 49,
    "start_time": "2022-03-30T13:05:56.593Z"
   },
   {
    "duration": 8,
    "start_time": "2022-03-30T13:05:56.644Z"
   },
   {
    "duration": 9,
    "start_time": "2022-03-30T13:05:56.654Z"
   },
   {
    "duration": 13,
    "start_time": "2022-03-30T13:05:56.665Z"
   },
   {
    "duration": 5,
    "start_time": "2022-03-30T13:05:56.679Z"
   },
   {
    "duration": 5,
    "start_time": "2022-03-30T13:05:56.685Z"
   },
   {
    "duration": 43,
    "start_time": "2022-03-30T13:05:56.691Z"
   },
   {
    "duration": 296,
    "start_time": "2022-03-30T13:05:56.736Z"
   },
   {
    "duration": 31,
    "start_time": "2022-03-30T13:05:57.034Z"
   },
   {
    "duration": 4,
    "start_time": "2022-03-30T13:05:57.066Z"
   },
   {
    "duration": 25,
    "start_time": "2022-03-30T13:05:57.071Z"
   },
   {
    "duration": 4,
    "start_time": "2022-03-30T13:05:57.097Z"
   },
   {
    "duration": 263,
    "start_time": "2022-03-30T13:05:57.103Z"
   },
   {
    "duration": 7,
    "start_time": "2022-03-30T13:05:57.369Z"
   },
   {
    "duration": 268,
    "start_time": "2022-03-30T13:05:57.378Z"
   },
   {
    "duration": 8,
    "start_time": "2022-03-30T13:05:57.647Z"
   },
   {
    "duration": 3,
    "start_time": "2022-03-30T13:07:11.906Z"
   },
   {
    "duration": 8,
    "start_time": "2022-03-30T13:08:00.073Z"
   },
   {
    "duration": 104,
    "start_time": "2022-03-30T13:08:07.974Z"
   },
   {
    "duration": 13,
    "start_time": "2022-03-30T13:08:08.080Z"
   },
   {
    "duration": 26,
    "start_time": "2022-03-30T13:08:08.095Z"
   },
   {
    "duration": 14,
    "start_time": "2022-03-30T13:08:08.123Z"
   },
   {
    "duration": 27,
    "start_time": "2022-03-30T13:08:08.138Z"
   },
   {
    "duration": 17,
    "start_time": "2022-03-30T13:08:08.167Z"
   },
   {
    "duration": 23,
    "start_time": "2022-03-30T13:08:08.186Z"
   },
   {
    "duration": 30,
    "start_time": "2022-03-30T13:08:08.212Z"
   },
   {
    "duration": 27,
    "start_time": "2022-03-30T13:08:08.243Z"
   },
   {
    "duration": 5,
    "start_time": "2022-03-30T13:08:08.272Z"
   },
   {
    "duration": 19,
    "start_time": "2022-03-30T13:08:08.278Z"
   },
   {
    "duration": 27,
    "start_time": "2022-03-30T13:08:08.299Z"
   },
   {
    "duration": 8,
    "start_time": "2022-03-30T13:08:08.328Z"
   },
   {
    "duration": 6,
    "start_time": "2022-03-30T13:08:08.337Z"
   },
   {
    "duration": 21,
    "start_time": "2022-03-30T13:08:08.344Z"
   },
   {
    "duration": 8,
    "start_time": "2022-03-30T13:08:08.366Z"
   },
   {
    "duration": 8,
    "start_time": "2022-03-30T13:08:08.375Z"
   },
   {
    "duration": 17,
    "start_time": "2022-03-30T13:08:08.385Z"
   },
   {
    "duration": 30,
    "start_time": "2022-03-30T13:08:08.404Z"
   },
   {
    "duration": 3,
    "start_time": "2022-03-30T13:08:08.436Z"
   },
   {
    "duration": 14,
    "start_time": "2022-03-30T13:08:08.441Z"
   },
   {
    "duration": 367,
    "start_time": "2022-03-30T13:08:08.457Z"
   },
   {
    "duration": 32,
    "start_time": "2022-03-30T13:08:08.826Z"
   },
   {
    "duration": 3,
    "start_time": "2022-03-30T13:08:08.860Z"
   },
   {
    "duration": 24,
    "start_time": "2022-03-30T13:08:08.865Z"
   },
   {
    "duration": 4,
    "start_time": "2022-03-30T13:08:08.890Z"
   },
   {
    "duration": 252,
    "start_time": "2022-03-30T13:08:08.896Z"
   },
   {
    "duration": 7,
    "start_time": "2022-03-30T13:08:09.151Z"
   },
   {
    "duration": 282,
    "start_time": "2022-03-30T13:08:09.160Z"
   },
   {
    "duration": 8,
    "start_time": "2022-03-30T13:08:09.445Z"
   },
   {
    "duration": 106,
    "start_time": "2022-03-30T13:09:37.512Z"
   },
   {
    "duration": 137,
    "start_time": "2022-03-30T13:09:45.891Z"
   },
   {
    "duration": 235,
    "start_time": "2022-03-30T13:09:52.160Z"
   },
   {
    "duration": 5,
    "start_time": "2022-03-30T13:12:23.617Z"
   },
   {
    "duration": 261,
    "start_time": "2022-03-30T13:12:29.413Z"
   },
   {
    "duration": 7,
    "start_time": "2022-03-30T13:15:57.275Z"
   },
   {
    "duration": 17,
    "start_time": "2022-03-30T13:22:25.555Z"
   },
   {
    "duration": 11,
    "start_time": "2022-03-30T13:22:41.110Z"
   },
   {
    "duration": 10,
    "start_time": "2022-03-30T13:25:09.658Z"
   },
   {
    "duration": 10,
    "start_time": "2022-03-30T13:25:22.880Z"
   },
   {
    "duration": 7,
    "start_time": "2022-03-30T13:25:55.754Z"
   },
   {
    "duration": 16,
    "start_time": "2022-03-30T13:26:09.432Z"
   },
   {
    "duration": 5,
    "start_time": "2022-03-30T13:26:30.628Z"
   },
   {
    "duration": 325,
    "start_time": "2022-03-30T13:27:44.241Z"
   },
   {
    "duration": 227,
    "start_time": "2022-03-30T13:30:25.999Z"
   },
   {
    "duration": 103,
    "start_time": "2022-03-30T13:34:02.343Z"
   },
   {
    "duration": 15,
    "start_time": "2022-03-30T13:34:02.475Z"
   },
   {
    "duration": 10,
    "start_time": "2022-03-30T13:34:02.492Z"
   },
   {
    "duration": 6,
    "start_time": "2022-03-30T13:34:02.504Z"
   },
   {
    "duration": 22,
    "start_time": "2022-03-30T13:34:02.512Z"
   },
   {
    "duration": 15,
    "start_time": "2022-03-30T13:34:02.536Z"
   },
   {
    "duration": 5,
    "start_time": "2022-03-30T13:34:02.552Z"
   },
   {
    "duration": 20,
    "start_time": "2022-03-30T13:34:02.559Z"
   },
   {
    "duration": 65,
    "start_time": "2022-03-30T13:34:02.580Z"
   },
   {
    "duration": 5,
    "start_time": "2022-03-30T13:34:02.646Z"
   },
   {
    "duration": 5,
    "start_time": "2022-03-30T13:34:02.652Z"
   },
   {
    "duration": 23,
    "start_time": "2022-03-30T13:34:02.658Z"
   },
   {
    "duration": 5,
    "start_time": "2022-03-30T13:34:02.683Z"
   },
   {
    "duration": 6,
    "start_time": "2022-03-30T13:34:02.690Z"
   },
   {
    "duration": 52,
    "start_time": "2022-03-30T13:34:02.699Z"
   },
   {
    "duration": 8,
    "start_time": "2022-03-30T13:34:02.753Z"
   },
   {
    "duration": 7,
    "start_time": "2022-03-30T13:34:02.762Z"
   },
   {
    "duration": 14,
    "start_time": "2022-03-30T13:34:02.770Z"
   },
   {
    "duration": 4,
    "start_time": "2022-03-30T13:34:02.786Z"
   },
   {
    "duration": 48,
    "start_time": "2022-03-30T13:34:02.791Z"
   },
   {
    "duration": 14,
    "start_time": "2022-03-30T13:34:02.841Z"
   },
   {
    "duration": 305,
    "start_time": "2022-03-30T13:34:02.857Z"
   },
   {
    "duration": 30,
    "start_time": "2022-03-30T13:34:03.164Z"
   },
   {
    "duration": 4,
    "start_time": "2022-03-30T13:34:03.195Z"
   },
   {
    "duration": 38,
    "start_time": "2022-03-30T13:34:03.201Z"
   },
   {
    "duration": 5,
    "start_time": "2022-03-30T13:34:03.240Z"
   },
   {
    "duration": 259,
    "start_time": "2022-03-30T13:34:03.246Z"
   },
   {
    "duration": 9,
    "start_time": "2022-03-30T13:34:03.507Z"
   },
   {
    "duration": 1925,
    "start_time": "2022-03-30T13:34:03.518Z"
   },
   {
    "duration": 0,
    "start_time": "2022-03-30T13:34:05.445Z"
   },
   {
    "duration": 0,
    "start_time": "2022-03-30T13:34:05.446Z"
   },
   {
    "duration": 9,
    "start_time": "2022-03-30T13:35:21.573Z"
   },
   {
    "duration": 363,
    "start_time": "2022-03-30T13:35:36.719Z"
   },
   {
    "duration": 8,
    "start_time": "2022-03-30T13:38:01.069Z"
   },
   {
    "duration": 4,
    "start_time": "2022-03-30T13:38:14.958Z"
   },
   {
    "duration": 6,
    "start_time": "2022-03-30T13:38:41.054Z"
   },
   {
    "duration": 5,
    "start_time": "2022-03-30T13:40:44.625Z"
   },
   {
    "duration": 235,
    "start_time": "2022-03-30T13:40:58.614Z"
   },
   {
    "duration": 254,
    "start_time": "2022-03-30T13:42:41.253Z"
   },
   {
    "duration": 1077,
    "start_time": "2022-04-03T19:53:50.090Z"
   },
   {
    "duration": 18,
    "start_time": "2022-04-03T19:53:51.170Z"
   },
   {
    "duration": 16,
    "start_time": "2022-04-03T19:53:51.190Z"
   },
   {
    "duration": 32,
    "start_time": "2022-04-03T19:53:51.208Z"
   },
   {
    "duration": 41,
    "start_time": "2022-04-03T19:53:51.244Z"
   },
   {
    "duration": 16,
    "start_time": "2022-04-03T19:53:51.287Z"
   },
   {
    "duration": 5,
    "start_time": "2022-04-03T19:53:51.305Z"
   },
   {
    "duration": 27,
    "start_time": "2022-04-03T19:53:51.312Z"
   },
   {
    "duration": 49,
    "start_time": "2022-04-03T19:53:51.341Z"
   },
   {
    "duration": 5,
    "start_time": "2022-04-03T19:53:51.392Z"
   },
   {
    "duration": 7,
    "start_time": "2022-04-03T19:53:51.399Z"
   },
   {
    "duration": 51,
    "start_time": "2022-04-03T19:53:51.408Z"
   },
   {
    "duration": 5,
    "start_time": "2022-04-03T19:53:51.461Z"
   },
   {
    "duration": 4,
    "start_time": "2022-04-03T19:53:51.469Z"
   },
   {
    "duration": 22,
    "start_time": "2022-04-03T19:53:51.475Z"
   },
   {
    "duration": 36,
    "start_time": "2022-04-03T19:53:51.499Z"
   },
   {
    "duration": 11,
    "start_time": "2022-04-03T19:53:51.538Z"
   },
   {
    "duration": 17,
    "start_time": "2022-04-03T19:53:51.551Z"
   },
   {
    "duration": 4,
    "start_time": "2022-04-03T19:53:51.570Z"
   },
   {
    "duration": 8,
    "start_time": "2022-04-03T19:53:51.576Z"
   },
   {
    "duration": 17,
    "start_time": "2022-04-03T19:53:51.586Z"
   },
   {
    "duration": 400,
    "start_time": "2022-04-03T19:53:51.605Z"
   },
   {
    "duration": 52,
    "start_time": "2022-04-03T19:53:52.007Z"
   },
   {
    "duration": 4,
    "start_time": "2022-04-03T19:53:52.061Z"
   },
   {
    "duration": 28,
    "start_time": "2022-04-03T19:53:52.068Z"
   },
   {
    "duration": 6,
    "start_time": "2022-04-03T19:53:52.097Z"
   },
   {
    "duration": 422,
    "start_time": "2022-04-03T19:53:52.104Z"
   },
   {
    "duration": 16,
    "start_time": "2022-04-03T19:53:52.528Z"
   },
   {
    "duration": 347,
    "start_time": "2022-04-03T19:53:52.546Z"
   },
   {
    "duration": 10,
    "start_time": "2022-04-03T19:53:52.894Z"
   },
   {
    "duration": 5,
    "start_time": "2022-04-03T19:53:52.905Z"
   },
   {
    "duration": 350,
    "start_time": "2022-04-03T19:53:52.912Z"
   },
   {
    "duration": 5,
    "start_time": "2022-04-03T19:53:53.264Z"
   },
   {
    "duration": 4,
    "start_time": "2022-04-03T20:09:18.627Z"
   },
   {
    "duration": 291,
    "start_time": "2022-04-03T20:09:47.345Z"
   },
   {
    "duration": 41,
    "start_time": "2022-04-03T20:10:14.771Z"
   },
   {
    "duration": 149,
    "start_time": "2022-04-03T20:10:58.915Z"
   },
   {
    "duration": 15,
    "start_time": "2022-04-03T20:10:59.066Z"
   },
   {
    "duration": 10,
    "start_time": "2022-04-03T20:10:59.082Z"
   },
   {
    "duration": 5,
    "start_time": "2022-04-03T20:10:59.094Z"
   },
   {
    "duration": 52,
    "start_time": "2022-04-03T20:10:59.100Z"
   },
   {
    "duration": 17,
    "start_time": "2022-04-03T20:10:59.154Z"
   },
   {
    "duration": 6,
    "start_time": "2022-04-03T20:10:59.173Z"
   },
   {
    "duration": 21,
    "start_time": "2022-04-03T20:10:59.181Z"
   },
   {
    "duration": 63,
    "start_time": "2022-04-03T20:10:59.204Z"
   },
   {
    "duration": 5,
    "start_time": "2022-04-03T20:10:59.270Z"
   },
   {
    "duration": 10,
    "start_time": "2022-04-03T20:10:59.277Z"
   },
   {
    "duration": 26,
    "start_time": "2022-04-03T20:10:59.288Z"
   },
   {
    "duration": 8,
    "start_time": "2022-04-03T20:10:59.336Z"
   },
   {
    "duration": 9,
    "start_time": "2022-04-03T20:10:59.345Z"
   },
   {
    "duration": 24,
    "start_time": "2022-04-03T20:10:59.355Z"
   },
   {
    "duration": 9,
    "start_time": "2022-04-03T20:10:59.380Z"
   },
   {
    "duration": 10,
    "start_time": "2022-04-03T20:10:59.391Z"
   },
   {
    "duration": 15,
    "start_time": "2022-04-03T20:10:59.438Z"
   },
   {
    "duration": 5,
    "start_time": "2022-04-03T20:10:59.455Z"
   },
   {
    "duration": 5,
    "start_time": "2022-04-03T20:10:59.462Z"
   },
   {
    "duration": 15,
    "start_time": "2022-04-03T20:10:59.469Z"
   },
   {
    "duration": 363,
    "start_time": "2022-04-03T20:10:59.485Z"
   },
   {
    "duration": 36,
    "start_time": "2022-04-03T20:10:59.849Z"
   },
   {
    "duration": 3,
    "start_time": "2022-04-03T20:10:59.887Z"
   },
   {
    "duration": 21,
    "start_time": "2022-04-03T20:10:59.892Z"
   },
   {
    "duration": 19,
    "start_time": "2022-04-03T20:10:59.915Z"
   },
   {
    "duration": 378,
    "start_time": "2022-04-03T20:10:59.936Z"
   },
   {
    "duration": 28,
    "start_time": "2022-04-03T20:11:00.318Z"
   },
   {
    "duration": 323,
    "start_time": "2022-04-03T20:11:00.348Z"
   },
   {
    "duration": 9,
    "start_time": "2022-04-03T20:11:00.673Z"
   },
   {
    "duration": 23,
    "start_time": "2022-04-03T20:11:00.683Z"
   },
   {
    "duration": 338,
    "start_time": "2022-04-03T20:11:00.708Z"
   },
   {
    "duration": 5,
    "start_time": "2022-04-03T20:11:01.048Z"
   },
   {
    "duration": 44,
    "start_time": "2022-04-03T20:11:11.026Z"
   },
   {
    "duration": 46,
    "start_time": "2022-04-03T20:12:22.702Z"
   },
   {
    "duration": 53,
    "start_time": "2022-04-03T20:13:46.023Z"
   },
   {
    "duration": 44,
    "start_time": "2022-04-03T20:14:34.407Z"
   },
   {
    "duration": 144,
    "start_time": "2022-04-03T20:14:49.823Z"
   },
   {
    "duration": 15,
    "start_time": "2022-04-03T20:14:49.969Z"
   },
   {
    "duration": 10,
    "start_time": "2022-04-03T20:14:49.986Z"
   },
   {
    "duration": 5,
    "start_time": "2022-04-03T20:14:49.998Z"
   },
   {
    "duration": 58,
    "start_time": "2022-04-03T20:14:50.005Z"
   },
   {
    "duration": 17,
    "start_time": "2022-04-03T20:14:50.065Z"
   },
   {
    "duration": 6,
    "start_time": "2022-04-03T20:14:50.083Z"
   },
   {
    "duration": 21,
    "start_time": "2022-04-03T20:14:50.091Z"
   },
   {
    "duration": 36,
    "start_time": "2022-04-03T20:14:50.134Z"
   },
   {
    "duration": 6,
    "start_time": "2022-04-03T20:14:50.173Z"
   },
   {
    "duration": 9,
    "start_time": "2022-04-03T20:14:50.180Z"
   },
   {
    "duration": 47,
    "start_time": "2022-04-03T20:14:50.190Z"
   },
   {
    "duration": 8,
    "start_time": "2022-04-03T20:14:50.240Z"
   },
   {
    "duration": 8,
    "start_time": "2022-04-03T20:14:50.250Z"
   },
   {
    "duration": 24,
    "start_time": "2022-04-03T20:14:50.260Z"
   },
   {
    "duration": 9,
    "start_time": "2022-04-03T20:14:50.286Z"
   },
   {
    "duration": 41,
    "start_time": "2022-04-03T20:14:50.297Z"
   },
   {
    "duration": 14,
    "start_time": "2022-04-03T20:14:50.341Z"
   },
   {
    "duration": 5,
    "start_time": "2022-04-03T20:14:50.356Z"
   },
   {
    "duration": 6,
    "start_time": "2022-04-03T20:14:50.363Z"
   },
   {
    "duration": 15,
    "start_time": "2022-04-03T20:14:50.371Z"
   },
   {
    "duration": 380,
    "start_time": "2022-04-03T20:14:50.388Z"
   },
   {
    "duration": 37,
    "start_time": "2022-04-03T20:14:50.769Z"
   },
   {
    "duration": 4,
    "start_time": "2022-04-03T20:14:50.807Z"
   },
   {
    "duration": 35,
    "start_time": "2022-04-03T20:14:50.813Z"
   },
   {
    "duration": 5,
    "start_time": "2022-04-03T20:14:50.850Z"
   },
   {
    "duration": 322,
    "start_time": "2022-04-03T20:14:50.857Z"
   },
   {
    "duration": 11,
    "start_time": "2022-04-03T20:14:51.183Z"
   },
   {
    "duration": 456,
    "start_time": "2022-04-03T20:14:51.196Z"
   },
   {
    "duration": 11,
    "start_time": "2022-04-03T20:14:51.654Z"
   },
   {
    "duration": 6,
    "start_time": "2022-04-03T20:14:51.667Z"
   },
   {
    "duration": 330,
    "start_time": "2022-04-03T20:14:51.675Z"
   },
   {
    "duration": 59,
    "start_time": "2022-04-03T20:14:52.007Z"
   },
   {
    "duration": 40,
    "start_time": "2022-04-03T20:14:52.068Z"
   },
   {
    "duration": 30,
    "start_time": "2022-04-03T20:14:52.111Z"
   },
   {
    "duration": 343,
    "start_time": "2022-04-03T20:15:45.785Z"
   },
   {
    "duration": 146,
    "start_time": "2022-04-03T20:15:53.333Z"
   },
   {
    "duration": 14,
    "start_time": "2022-04-03T20:15:53.481Z"
   },
   {
    "duration": 32,
    "start_time": "2022-04-03T20:15:53.497Z"
   },
   {
    "duration": 15,
    "start_time": "2022-04-03T20:15:53.534Z"
   },
   {
    "duration": 22,
    "start_time": "2022-04-03T20:15:53.551Z"
   },
   {
    "duration": 15,
    "start_time": "2022-04-03T20:15:53.575Z"
   },
   {
    "duration": 5,
    "start_time": "2022-04-03T20:15:53.592Z"
   },
   {
    "duration": 36,
    "start_time": "2022-04-03T20:15:53.598Z"
   },
   {
    "duration": 43,
    "start_time": "2022-04-03T20:15:53.635Z"
   },
   {
    "duration": 5,
    "start_time": "2022-04-03T20:15:53.681Z"
   },
   {
    "duration": 14,
    "start_time": "2022-04-03T20:15:53.688Z"
   },
   {
    "duration": 43,
    "start_time": "2022-04-03T20:15:53.703Z"
   },
   {
    "duration": 6,
    "start_time": "2022-04-03T20:15:53.748Z"
   },
   {
    "duration": 6,
    "start_time": "2022-04-03T20:15:53.756Z"
   },
   {
    "duration": 25,
    "start_time": "2022-04-03T20:15:53.763Z"
   },
   {
    "duration": 9,
    "start_time": "2022-04-03T20:15:53.790Z"
   },
   {
    "duration": 32,
    "start_time": "2022-04-03T20:15:53.801Z"
   },
   {
    "duration": 16,
    "start_time": "2022-04-03T20:15:53.835Z"
   },
   {
    "duration": 5,
    "start_time": "2022-04-03T20:15:53.854Z"
   },
   {
    "duration": 5,
    "start_time": "2022-04-03T20:15:53.860Z"
   },
   {
    "duration": 18,
    "start_time": "2022-04-03T20:15:53.868Z"
   },
   {
    "duration": 364,
    "start_time": "2022-04-03T20:15:53.887Z"
   },
   {
    "duration": 36,
    "start_time": "2022-04-03T20:15:54.252Z"
   },
   {
    "duration": 4,
    "start_time": "2022-04-03T20:15:54.290Z"
   },
   {
    "duration": 43,
    "start_time": "2022-04-03T20:15:54.296Z"
   },
   {
    "duration": 7,
    "start_time": "2022-04-03T20:15:54.341Z"
   },
   {
    "duration": 307,
    "start_time": "2022-04-03T20:15:54.350Z"
   },
   {
    "duration": 9,
    "start_time": "2022-04-03T20:15:54.661Z"
   },
   {
    "duration": 480,
    "start_time": "2022-04-03T20:15:54.672Z"
   },
   {
    "duration": 10,
    "start_time": "2022-04-03T20:15:55.154Z"
   },
   {
    "duration": 6,
    "start_time": "2022-04-03T20:15:55.165Z"
   },
   {
    "duration": 342,
    "start_time": "2022-04-03T20:15:55.173Z"
   },
   {
    "duration": 51,
    "start_time": "2022-04-03T20:15:55.517Z"
   },
   {
    "duration": 40,
    "start_time": "2022-04-03T20:15:55.570Z"
   },
   {
    "duration": 370,
    "start_time": "2022-04-03T20:15:55.612Z"
   },
   {
    "duration": 5,
    "start_time": "2022-04-03T20:15:55.984Z"
   },
   {
    "duration": 295,
    "start_time": "2022-04-03T20:16:24.252Z"
   },
   {
    "duration": 10,
    "start_time": "2022-04-03T20:17:04.573Z"
   },
   {
    "duration": 142,
    "start_time": "2022-04-03T20:19:49.125Z"
   },
   {
    "duration": 16,
    "start_time": "2022-04-03T20:19:49.269Z"
   },
   {
    "duration": 21,
    "start_time": "2022-04-03T20:19:49.286Z"
   },
   {
    "duration": 38,
    "start_time": "2022-04-03T20:19:49.309Z"
   },
   {
    "duration": 39,
    "start_time": "2022-04-03T20:19:49.349Z"
   },
   {
    "duration": 19,
    "start_time": "2022-04-03T20:19:49.389Z"
   },
   {
    "duration": 12,
    "start_time": "2022-04-03T20:19:49.410Z"
   },
   {
    "duration": 40,
    "start_time": "2022-04-03T20:19:49.423Z"
   },
   {
    "duration": 45,
    "start_time": "2022-04-03T20:19:49.465Z"
   },
   {
    "duration": 6,
    "start_time": "2022-04-03T20:19:49.513Z"
   },
   {
    "duration": 34,
    "start_time": "2022-04-03T20:19:49.520Z"
   },
   {
    "duration": 45,
    "start_time": "2022-04-03T20:19:49.556Z"
   },
   {
    "duration": 14,
    "start_time": "2022-04-03T20:19:49.603Z"
   },
   {
    "duration": 27,
    "start_time": "2022-04-03T20:19:49.618Z"
   },
   {
    "duration": 36,
    "start_time": "2022-04-03T20:19:49.647Z"
   },
   {
    "duration": 11,
    "start_time": "2022-04-03T20:19:49.685Z"
   },
   {
    "duration": 24,
    "start_time": "2022-04-03T20:19:49.698Z"
   },
   {
    "duration": 30,
    "start_time": "2022-04-03T20:19:49.724Z"
   },
   {
    "duration": 25,
    "start_time": "2022-04-03T20:19:49.756Z"
   },
   {
    "duration": 24,
    "start_time": "2022-04-03T20:19:49.783Z"
   },
   {
    "duration": 44,
    "start_time": "2022-04-03T20:19:49.809Z"
   },
   {
    "duration": 347,
    "start_time": "2022-04-03T20:19:49.855Z"
   },
   {
    "duration": 45,
    "start_time": "2022-04-03T20:19:50.204Z"
   },
   {
    "duration": 4,
    "start_time": "2022-04-03T20:19:50.251Z"
   },
   {
    "duration": 29,
    "start_time": "2022-04-03T20:19:50.256Z"
   },
   {
    "duration": 7,
    "start_time": "2022-04-03T20:19:50.286Z"
   },
   {
    "duration": 429,
    "start_time": "2022-04-03T20:19:50.295Z"
   },
   {
    "duration": 11,
    "start_time": "2022-04-03T20:19:50.738Z"
   },
   {
    "duration": 337,
    "start_time": "2022-04-03T20:19:50.751Z"
   },
   {
    "duration": 56,
    "start_time": "2022-04-03T20:19:51.090Z"
   },
   {
    "duration": 314,
    "start_time": "2022-04-03T20:19:51.149Z"
   },
   {
    "duration": 9,
    "start_time": "2022-04-03T20:19:51.465Z"
   },
   {
    "duration": 10,
    "start_time": "2022-04-03T20:20:25.691Z"
   },
   {
    "duration": 83,
    "start_time": "2022-04-03T20:21:17.922Z"
   },
   {
    "duration": 8,
    "start_time": "2022-04-03T20:21:27.893Z"
   },
   {
    "duration": 9,
    "start_time": "2022-04-03T20:22:14.073Z"
   },
   {
    "duration": 117,
    "start_time": "2022-04-03T20:23:07.067Z"
   },
   {
    "duration": 823,
    "start_time": "2022-04-03T20:23:26.925Z"
   },
   {
    "duration": 774,
    "start_time": "2022-04-03T20:24:09.454Z"
   },
   {
    "duration": 154,
    "start_time": "2022-04-03T20:37:38.811Z"
   },
   {
    "duration": 430,
    "start_time": "2022-04-03T20:38:34.486Z"
   },
   {
    "duration": 226,
    "start_time": "2022-04-03T20:54:44.571Z"
   },
   {
    "duration": 210,
    "start_time": "2022-04-03T20:54:57.702Z"
   },
   {
    "duration": 167,
    "start_time": "2022-04-03T20:55:22.359Z"
   },
   {
    "duration": 187,
    "start_time": "2022-04-03T20:56:15.898Z"
   },
   {
    "duration": 177,
    "start_time": "2022-04-03T20:56:56.622Z"
   },
   {
    "duration": 8,
    "start_time": "2022-04-03T20:57:28.558Z"
   },
   {
    "duration": 189,
    "start_time": "2022-04-03T21:10:53.294Z"
   },
   {
    "duration": 195,
    "start_time": "2022-04-03T21:12:21.127Z"
   },
   {
    "duration": 203,
    "start_time": "2022-04-03T21:12:43.222Z"
   },
   {
    "duration": 10,
    "start_time": "2022-04-03T21:17:30.283Z"
   },
   {
    "duration": 168,
    "start_time": "2022-04-03T21:55:52.117Z"
   },
   {
    "duration": 17,
    "start_time": "2022-04-03T21:56:38.042Z"
   },
   {
    "duration": 7,
    "start_time": "2022-04-03T21:58:10.901Z"
   },
   {
    "duration": 4,
    "start_time": "2022-04-03T22:00:01.212Z"
   },
   {
    "duration": 4,
    "start_time": "2022-04-03T22:01:12.862Z"
   },
   {
    "duration": 170,
    "start_time": "2022-04-03T22:06:04.785Z"
   },
   {
    "duration": 5,
    "start_time": "2022-04-03T22:06:40.435Z"
   },
   {
    "duration": 18,
    "start_time": "2022-04-03T22:07:06.182Z"
   },
   {
    "duration": 42,
    "start_time": "2022-04-03T22:07:42.518Z"
   },
   {
    "duration": 46,
    "start_time": "2022-04-03T22:10:18.362Z"
   },
   {
    "duration": 326,
    "start_time": "2022-04-03T22:12:31.323Z"
   },
   {
    "duration": 324,
    "start_time": "2022-04-03T22:13:32.025Z"
   },
   {
    "duration": 5,
    "start_time": "2022-04-03T22:14:51.103Z"
   },
   {
    "duration": 109,
    "start_time": "2022-04-03T22:16:06.613Z"
   },
   {
    "duration": 312,
    "start_time": "2022-04-03T22:21:13.415Z"
   },
   {
    "duration": 115,
    "start_time": "2022-04-03T22:22:48.934Z"
   },
   {
    "duration": 496,
    "start_time": "2022-04-03T22:24:56.026Z"
   },
   {
    "duration": 14,
    "start_time": "2022-04-03T22:28:42.516Z"
   },
   {
    "duration": 361,
    "start_time": "2022-04-03T22:30:01.915Z"
   },
   {
    "duration": 334,
    "start_time": "2022-04-03T22:30:06.164Z"
   },
   {
    "duration": 16,
    "start_time": "2022-04-03T22:30:35.330Z"
   },
   {
    "duration": 12,
    "start_time": "2022-04-03T22:30:51.089Z"
   },
   {
    "duration": 180,
    "start_time": "2022-04-03T22:34:03.268Z"
   },
   {
    "duration": 11,
    "start_time": "2022-04-03T22:34:46.713Z"
   },
   {
    "duration": 304,
    "start_time": "2022-04-03T23:02:39.178Z"
   },
   {
    "duration": 158,
    "start_time": "2022-04-03T23:03:04.982Z"
   },
   {
    "duration": 192,
    "start_time": "2022-04-03T23:03:45.922Z"
   },
   {
    "duration": 456,
    "start_time": "2022-04-03T23:18:47.064Z"
   },
   {
    "duration": 23,
    "start_time": "2022-04-03T23:18:47.522Z"
   },
   {
    "duration": 11,
    "start_time": "2022-04-03T23:18:47.547Z"
   },
   {
    "duration": 5,
    "start_time": "2022-04-03T23:18:47.560Z"
   },
   {
    "duration": 20,
    "start_time": "2022-04-03T23:18:47.566Z"
   },
   {
    "duration": 16,
    "start_time": "2022-04-03T23:18:47.588Z"
   },
   {
    "duration": 38,
    "start_time": "2022-04-03T23:18:47.605Z"
   },
   {
    "duration": 27,
    "start_time": "2022-04-03T23:18:47.645Z"
   },
   {
    "duration": 32,
    "start_time": "2022-04-03T23:18:47.674Z"
   },
   {
    "duration": 29,
    "start_time": "2022-04-03T23:18:47.709Z"
   },
   {
    "duration": 40,
    "start_time": "2022-04-03T23:18:47.740Z"
   },
   {
    "duration": 31,
    "start_time": "2022-04-03T23:18:47.782Z"
   },
   {
    "duration": 6,
    "start_time": "2022-04-03T23:18:47.815Z"
   },
   {
    "duration": 42,
    "start_time": "2022-04-03T23:18:47.822Z"
   },
   {
    "duration": 38,
    "start_time": "2022-04-03T23:18:47.866Z"
   },
   {
    "duration": 10,
    "start_time": "2022-04-03T23:18:47.906Z"
   },
   {
    "duration": 20,
    "start_time": "2022-04-03T23:18:47.917Z"
   },
   {
    "duration": 27,
    "start_time": "2022-04-03T23:18:47.940Z"
   },
   {
    "duration": 5,
    "start_time": "2022-04-03T23:18:47.969Z"
   },
   {
    "duration": 8,
    "start_time": "2022-04-03T23:18:47.975Z"
   },
   {
    "duration": 17,
    "start_time": "2022-04-03T23:18:47.985Z"
   },
   {
    "duration": 348,
    "start_time": "2022-04-03T23:18:48.004Z"
   },
   {
    "duration": 36,
    "start_time": "2022-04-03T23:18:48.354Z"
   },
   {
    "duration": 3,
    "start_time": "2022-04-03T23:18:48.392Z"
   },
   {
    "duration": 21,
    "start_time": "2022-04-03T23:18:48.397Z"
   },
   {
    "duration": 20,
    "start_time": "2022-04-03T23:18:48.420Z"
   },
   {
    "duration": 322,
    "start_time": "2022-04-03T23:18:48.442Z"
   },
   {
    "duration": 10,
    "start_time": "2022-04-03T23:18:48.767Z"
   },
   {
    "duration": 360,
    "start_time": "2022-04-03T23:18:48.779Z"
   },
   {
    "duration": 41,
    "start_time": "2022-04-03T23:18:49.142Z"
   },
   {
    "duration": 542,
    "start_time": "2022-04-03T23:18:49.184Z"
   },
   {
    "duration": 17,
    "start_time": "2022-04-03T23:18:49.728Z"
   },
   {
    "duration": 191,
    "start_time": "2022-04-03T23:18:49.747Z"
   },
   {
    "duration": 11,
    "start_time": "2022-04-03T23:18:49.941Z"
   },
   {
    "duration": 200,
    "start_time": "2022-04-03T23:18:49.953Z"
   },
   {
    "duration": 10,
    "start_time": "2022-04-03T23:18:50.155Z"
   },
   {
    "duration": 16,
    "start_time": "2022-04-03T23:18:50.167Z"
   },
   {
    "duration": 3,
    "start_time": "2022-04-03T23:18:50.185Z"
   },
   {
    "duration": 29,
    "start_time": "2022-04-03T23:18:50.190Z"
   },
   {
    "duration": 46,
    "start_time": "2022-04-03T23:18:50.232Z"
   },
   {
    "duration": 56,
    "start_time": "2022-04-03T23:18:50.280Z"
   },
   {
    "duration": 123,
    "start_time": "2022-04-03T23:18:50.339Z"
   },
   {
    "duration": 350,
    "start_time": "2022-04-03T23:18:50.464Z"
   },
   {
    "duration": 346,
    "start_time": "2022-04-03T23:18:50.816Z"
   },
   {
    "duration": 13,
    "start_time": "2022-04-03T23:18:51.164Z"
   },
   {
    "duration": 10,
    "start_time": "2022-04-03T23:18:51.178Z"
   },
   {
    "duration": 210,
    "start_time": "2022-04-03T23:18:51.190Z"
   },
   {
    "duration": 164,
    "start_time": "2022-04-03T23:22:47.504Z"
   },
   {
    "duration": 45,
    "start_time": "2022-04-03T23:23:20.256Z"
   },
   {
    "duration": 15,
    "start_time": "2022-04-03T23:23:47.731Z"
   },
   {
    "duration": 8,
    "start_time": "2022-04-03T23:25:44.824Z"
   },
   {
    "duration": 101,
    "start_time": "2022-04-03T23:26:07.802Z"
   },
   {
    "duration": 622,
    "start_time": "2022-04-03T23:29:32.892Z"
   },
   {
    "duration": 506,
    "start_time": "2022-04-03T23:30:29.282Z"
   },
   {
    "duration": 417,
    "start_time": "2022-04-03T23:31:07.444Z"
   },
   {
    "duration": 766,
    "start_time": "2022-04-03T23:31:43.019Z"
   },
   {
    "duration": 503,
    "start_time": "2022-04-03T23:32:15.718Z"
   },
   {
    "duration": 9,
    "start_time": "2022-04-03T23:33:14.587Z"
   },
   {
    "duration": 85,
    "start_time": "2022-04-03T23:47:04.108Z"
   },
   {
    "duration": 85,
    "start_time": "2022-04-03T23:47:20.506Z"
   },
   {
    "duration": 101,
    "start_time": "2022-04-03T23:47:29.330Z"
   },
   {
    "duration": 100,
    "start_time": "2022-04-03T23:47:41.065Z"
   },
   {
    "duration": 83,
    "start_time": "2022-04-03T23:47:56.153Z"
   },
   {
    "duration": 88,
    "start_time": "2022-04-03T23:48:07.212Z"
   },
   {
    "duration": 90,
    "start_time": "2022-04-03T23:48:12.786Z"
   },
   {
    "duration": 95,
    "start_time": "2022-04-03T23:48:26.703Z"
   },
   {
    "duration": 100,
    "start_time": "2022-04-03T23:49:25.382Z"
   },
   {
    "duration": 93,
    "start_time": "2022-04-03T23:49:34.390Z"
   },
   {
    "duration": 95,
    "start_time": "2022-04-03T23:49:49.787Z"
   },
   {
    "duration": 91,
    "start_time": "2022-04-03T23:51:28.073Z"
   },
   {
    "duration": 100,
    "start_time": "2022-04-03T23:51:40.807Z"
   },
   {
    "duration": 91,
    "start_time": "2022-04-03T23:51:50.202Z"
   },
   {
    "duration": 105,
    "start_time": "2022-04-03T23:51:57.778Z"
   },
   {
    "duration": 93,
    "start_time": "2022-04-03T23:52:57.530Z"
   },
   {
    "duration": 102,
    "start_time": "2022-04-03T23:53:05.246Z"
   },
   {
    "duration": 101,
    "start_time": "2022-04-03T23:53:12.861Z"
   },
   {
    "duration": 90,
    "start_time": "2022-04-03T23:53:25.009Z"
   },
   {
    "duration": 102,
    "start_time": "2022-04-03T23:53:34.396Z"
   },
   {
    "duration": 87,
    "start_time": "2022-04-03T23:53:54.158Z"
   },
   {
    "duration": 108,
    "start_time": "2022-04-03T23:54:08.134Z"
   },
   {
    "duration": 109,
    "start_time": "2022-04-04T00:00:52.769Z"
   },
   {
    "duration": 75,
    "start_time": "2022-04-04T19:30:12.698Z"
   },
   {
    "duration": 10,
    "start_time": "2022-04-04T19:31:04.162Z"
   },
   {
    "duration": 1326,
    "start_time": "2022-04-04T19:31:10.708Z"
   },
   {
    "duration": 27,
    "start_time": "2022-04-04T19:31:12.037Z"
   },
   {
    "duration": 31,
    "start_time": "2022-04-04T19:31:12.066Z"
   },
   {
    "duration": 10,
    "start_time": "2022-04-04T19:31:12.100Z"
   },
   {
    "duration": 28,
    "start_time": "2022-04-04T19:31:12.112Z"
   },
   {
    "duration": 58,
    "start_time": "2022-04-04T19:31:12.142Z"
   },
   {
    "duration": 8,
    "start_time": "2022-04-04T19:31:12.202Z"
   },
   {
    "duration": 26,
    "start_time": "2022-04-04T19:31:12.212Z"
   },
   {
    "duration": 78,
    "start_time": "2022-04-04T19:31:12.241Z"
   },
   {
    "duration": 9,
    "start_time": "2022-04-04T19:31:12.325Z"
   },
   {
    "duration": 14,
    "start_time": "2022-04-04T19:31:12.337Z"
   },
   {
    "duration": 61,
    "start_time": "2022-04-04T19:31:12.353Z"
   },
   {
    "duration": 8,
    "start_time": "2022-04-04T19:31:12.416Z"
   },
   {
    "duration": 13,
    "start_time": "2022-04-04T19:31:12.426Z"
   },
   {
    "duration": 60,
    "start_time": "2022-04-04T19:31:12.441Z"
   },
   {
    "duration": 15,
    "start_time": "2022-04-04T19:31:12.503Z"
   },
   {
    "duration": 18,
    "start_time": "2022-04-04T19:31:12.520Z"
   },
   {
    "duration": 43,
    "start_time": "2022-04-04T19:31:12.541Z"
   },
   {
    "duration": 7,
    "start_time": "2022-04-04T19:31:12.586Z"
   },
   {
    "duration": 6,
    "start_time": "2022-04-04T19:31:12.595Z"
   },
   {
    "duration": 27,
    "start_time": "2022-04-04T19:31:12.604Z"
   },
   {
    "duration": 537,
    "start_time": "2022-04-04T19:31:12.633Z"
   },
   {
    "duration": 69,
    "start_time": "2022-04-04T19:31:13.172Z"
   },
   {
    "duration": 5,
    "start_time": "2022-04-04T19:31:13.243Z"
   },
   {
    "duration": 51,
    "start_time": "2022-04-04T19:31:13.250Z"
   },
   {
    "duration": 6,
    "start_time": "2022-04-04T19:31:13.304Z"
   },
   {
    "duration": 509,
    "start_time": "2022-04-04T19:31:13.312Z"
   },
   {
    "duration": 13,
    "start_time": "2022-04-04T19:31:13.826Z"
   },
   {
    "duration": 180,
    "start_time": "2022-04-04T19:31:13.841Z"
   },
   {
    "duration": 469,
    "start_time": "2022-04-04T19:31:14.023Z"
   },
   {
    "duration": 57,
    "start_time": "2022-04-04T19:31:14.494Z"
   },
   {
    "duration": 438,
    "start_time": "2022-04-04T19:31:14.554Z"
   },
   {
    "duration": 11,
    "start_time": "2022-04-04T19:31:14.994Z"
   },
   {
    "duration": 166,
    "start_time": "2022-04-04T19:31:15.007Z"
   },
   {
    "duration": 258,
    "start_time": "2022-04-04T19:31:15.176Z"
   },
   {
    "duration": 12,
    "start_time": "2022-04-04T19:31:15.436Z"
   },
   {
    "duration": 189,
    "start_time": "2022-04-04T19:31:15.450Z"
   },
   {
    "duration": 255,
    "start_time": "2022-04-04T19:31:15.641Z"
   },
   {
    "duration": 12,
    "start_time": "2022-04-04T19:31:15.898Z"
   },
   {
    "duration": 21,
    "start_time": "2022-04-04T19:31:15.912Z"
   },
   {
    "duration": 5,
    "start_time": "2022-04-04T19:31:15.935Z"
   },
   {
    "duration": 61,
    "start_time": "2022-04-04T19:31:15.942Z"
   },
   {
    "duration": 56,
    "start_time": "2022-04-04T19:31:16.005Z"
   },
   {
    "duration": 57,
    "start_time": "2022-04-04T19:31:16.084Z"
   },
   {
    "duration": 178,
    "start_time": "2022-04-04T19:31:16.143Z"
   },
   {
    "duration": 539,
    "start_time": "2022-04-04T19:31:16.324Z"
   },
   {
    "duration": 467,
    "start_time": "2022-04-04T19:31:16.865Z"
   },
   {
    "duration": 16,
    "start_time": "2022-04-04T19:31:17.334Z"
   },
   {
    "duration": 34,
    "start_time": "2022-04-04T19:31:17.353Z"
   },
   {
    "duration": 266,
    "start_time": "2022-04-04T19:31:17.389Z"
   },
   {
    "duration": 28,
    "start_time": "2022-04-04T19:31:17.658Z"
   },
   {
    "duration": 167,
    "start_time": "2022-04-04T19:31:17.688Z"
   },
   {
    "duration": 729,
    "start_time": "2022-04-04T19:31:17.857Z"
   },
   {
    "duration": 12,
    "start_time": "2022-04-04T19:31:18.589Z"
   },
   {
    "duration": 274,
    "start_time": "2022-04-04T19:31:18.603Z"
   },
   {
    "duration": 450,
    "start_time": "2022-04-04T19:38:15.363Z"
   },
   {
    "duration": 355,
    "start_time": "2022-04-04T19:38:42.955Z"
   },
   {
    "duration": 187,
    "start_time": "2022-04-04T19:40:13.626Z"
   },
   {
    "duration": 166,
    "start_time": "2022-04-04T19:41:38.101Z"
   },
   {
    "duration": 149,
    "start_time": "2022-04-04T19:41:49.722Z"
   },
   {
    "duration": 155,
    "start_time": "2022-04-04T19:43:13.619Z"
   },
   {
    "duration": 270,
    "start_time": "2022-04-04T19:44:55.407Z"
   },
   {
    "duration": 2374,
    "start_time": "2022-04-04T19:54:13.945Z"
   },
   {
    "duration": 2025,
    "start_time": "2022-04-04T19:54:28.881Z"
   },
   {
    "duration": 1946,
    "start_time": "2022-04-04T19:54:47.891Z"
   },
   {
    "duration": 22,
    "start_time": "2022-04-04T19:56:30.369Z"
   },
   {
    "duration": 154,
    "start_time": "2022-04-04T19:58:04.475Z"
   },
   {
    "duration": 55,
    "start_time": "2022-04-04T19:58:04.632Z"
   },
   {
    "duration": 15,
    "start_time": "2022-04-04T19:58:04.690Z"
   },
   {
    "duration": 6,
    "start_time": "2022-04-04T19:58:04.707Z"
   },
   {
    "duration": 25,
    "start_time": "2022-04-04T19:58:04.716Z"
   },
   {
    "duration": 56,
    "start_time": "2022-04-04T19:58:04.743Z"
   },
   {
    "duration": 19,
    "start_time": "2022-04-04T19:58:04.802Z"
   },
   {
    "duration": 42,
    "start_time": "2022-04-04T19:58:04.823Z"
   },
   {
    "duration": 54,
    "start_time": "2022-04-04T19:58:04.868Z"
   },
   {
    "duration": 7,
    "start_time": "2022-04-04T19:58:04.924Z"
   },
   {
    "duration": 34,
    "start_time": "2022-04-04T19:58:04.933Z"
   },
   {
    "duration": 41,
    "start_time": "2022-04-04T19:58:04.969Z"
   },
   {
    "duration": 12,
    "start_time": "2022-04-04T19:58:05.012Z"
   },
   {
    "duration": 20,
    "start_time": "2022-04-04T19:58:05.028Z"
   },
   {
    "duration": 39,
    "start_time": "2022-04-04T19:58:05.051Z"
   },
   {
    "duration": 16,
    "start_time": "2022-04-04T19:58:05.093Z"
   },
   {
    "duration": 14,
    "start_time": "2022-04-04T19:58:05.111Z"
   },
   {
    "duration": 19,
    "start_time": "2022-04-04T19:58:05.128Z"
   },
   {
    "duration": 42,
    "start_time": "2022-04-04T19:58:05.149Z"
   },
   {
    "duration": 9,
    "start_time": "2022-04-04T19:58:05.194Z"
   },
   {
    "duration": 20,
    "start_time": "2022-04-04T19:58:05.205Z"
   },
   {
    "duration": 538,
    "start_time": "2022-04-04T19:58:05.227Z"
   },
   {
    "duration": 63,
    "start_time": "2022-04-04T19:58:05.767Z"
   },
   {
    "duration": 5,
    "start_time": "2022-04-04T19:58:05.832Z"
   },
   {
    "duration": 51,
    "start_time": "2022-04-04T19:58:05.839Z"
   },
   {
    "duration": 8,
    "start_time": "2022-04-04T19:58:05.892Z"
   },
   {
    "duration": 535,
    "start_time": "2022-04-04T19:58:05.902Z"
   },
   {
    "duration": 12,
    "start_time": "2022-04-04T19:58:06.440Z"
   },
   {
    "duration": 182,
    "start_time": "2022-04-04T19:58:06.454Z"
   },
   {
    "duration": 489,
    "start_time": "2022-04-04T19:58:06.639Z"
   },
   {
    "duration": 71,
    "start_time": "2022-04-04T19:58:07.131Z"
   },
   {
    "duration": 435,
    "start_time": "2022-04-04T19:58:07.204Z"
   },
   {
    "duration": 13,
    "start_time": "2022-04-04T19:58:07.641Z"
   },
   {
    "duration": 177,
    "start_time": "2022-04-04T19:58:07.656Z"
   },
   {
    "duration": 263,
    "start_time": "2022-04-04T19:58:07.835Z"
   },
   {
    "duration": 12,
    "start_time": "2022-04-04T19:58:08.100Z"
   },
   {
    "duration": 188,
    "start_time": "2022-04-04T19:58:08.115Z"
   },
   {
    "duration": 272,
    "start_time": "2022-04-04T19:58:08.305Z"
   },
   {
    "duration": 21,
    "start_time": "2022-04-04T19:58:08.580Z"
   },
   {
    "duration": 22,
    "start_time": "2022-04-04T19:58:08.603Z"
   },
   {
    "duration": 5,
    "start_time": "2022-04-04T19:58:08.631Z"
   },
   {
    "duration": 62,
    "start_time": "2022-04-04T19:58:08.638Z"
   },
   {
    "duration": 54,
    "start_time": "2022-04-04T19:58:08.702Z"
   },
   {
    "duration": 83,
    "start_time": "2022-04-04T19:58:08.758Z"
   },
   {
    "duration": 165,
    "start_time": "2022-04-04T19:58:08.844Z"
   },
   {
    "duration": 593,
    "start_time": "2022-04-04T19:58:09.011Z"
   },
   {
    "duration": 493,
    "start_time": "2022-04-04T19:58:09.606Z"
   },
   {
    "duration": 17,
    "start_time": "2022-04-04T19:58:10.101Z"
   },
   {
    "duration": 16,
    "start_time": "2022-04-04T19:58:10.121Z"
   },
   {
    "duration": 305,
    "start_time": "2022-04-04T19:58:10.139Z"
   },
   {
    "duration": 16,
    "start_time": "2022-04-04T19:58:10.447Z"
   },
   {
    "duration": 185,
    "start_time": "2022-04-04T19:58:10.465Z"
   },
   {
    "duration": 875,
    "start_time": "2022-04-04T19:58:10.653Z"
   },
   {
    "duration": 11,
    "start_time": "2022-04-04T19:58:11.531Z"
   },
   {
    "duration": 282,
    "start_time": "2022-04-04T19:58:11.544Z"
   },
   {
    "duration": 150,
    "start_time": "2022-04-04T19:58:11.829Z"
   },
   {
    "duration": 393,
    "start_time": "2022-04-04T19:58:11.993Z"
   },
   {
    "duration": 23,
    "start_time": "2022-04-04T19:58:12.392Z"
   },
   {
    "duration": 279,
    "start_time": "2022-04-04T19:58:34.598Z"
   },
   {
    "duration": 271,
    "start_time": "2022-04-04T20:11:55.432Z"
   },
   {
    "duration": 234,
    "start_time": "2022-04-04T20:19:28.064Z"
   },
   {
    "duration": 252,
    "start_time": "2022-04-04T20:29:41.418Z"
   },
   {
    "duration": 37,
    "start_time": "2022-04-04T20:39:29.040Z"
   },
   {
    "duration": 34,
    "start_time": "2022-04-04T20:39:42.971Z"
   },
   {
    "duration": 12,
    "start_time": "2022-04-04T20:40:18.288Z"
   },
   {
    "duration": 9,
    "start_time": "2022-04-04T20:51:02.373Z"
   },
   {
    "duration": 7,
    "start_time": "2022-04-04T20:54:51.442Z"
   },
   {
    "duration": 5,
    "start_time": "2022-04-04T20:55:12.230Z"
   },
   {
    "duration": 6,
    "start_time": "2022-04-04T20:55:46.436Z"
   },
   {
    "duration": 55,
    "start_time": "2022-04-04T20:59:33.179Z"
   },
   {
    "duration": 45,
    "start_time": "2022-04-04T20:59:42.212Z"
   },
   {
    "duration": 60,
    "start_time": "2022-04-04T20:59:55.017Z"
   },
   {
    "duration": 135,
    "start_time": "2022-04-04T21:02:45.996Z"
   },
   {
    "duration": 51,
    "start_time": "2022-04-04T21:02:46.133Z"
   },
   {
    "duration": 13,
    "start_time": "2022-04-04T21:02:46.187Z"
   },
   {
    "duration": 6,
    "start_time": "2022-04-04T21:02:46.203Z"
   },
   {
    "duration": 23,
    "start_time": "2022-04-04T21:02:46.211Z"
   },
   {
    "duration": 66,
    "start_time": "2022-04-04T21:02:46.236Z"
   },
   {
    "duration": 7,
    "start_time": "2022-04-04T21:02:46.304Z"
   },
   {
    "duration": 25,
    "start_time": "2022-04-04T21:02:46.313Z"
   },
   {
    "duration": 77,
    "start_time": "2022-04-04T21:02:46.340Z"
   },
   {
    "duration": 8,
    "start_time": "2022-04-04T21:02:46.420Z"
   },
   {
    "duration": 6,
    "start_time": "2022-04-04T21:02:46.430Z"
   },
   {
    "duration": 60,
    "start_time": "2022-04-04T21:02:46.439Z"
   },
   {
    "duration": 7,
    "start_time": "2022-04-04T21:02:46.501Z"
   },
   {
    "duration": 7,
    "start_time": "2022-04-04T21:02:46.511Z"
   },
   {
    "duration": 30,
    "start_time": "2022-04-04T21:02:46.520Z"
   },
   {
    "duration": 44,
    "start_time": "2022-04-04T21:02:46.552Z"
   },
   {
    "duration": 12,
    "start_time": "2022-04-04T21:02:46.599Z"
   },
   {
    "duration": 17,
    "start_time": "2022-04-04T21:02:46.613Z"
   },
   {
    "duration": 53,
    "start_time": "2022-04-04T21:02:46.633Z"
   },
   {
    "duration": 8,
    "start_time": "2022-04-04T21:02:46.688Z"
   },
   {
    "duration": 20,
    "start_time": "2022-04-04T21:02:46.698Z"
   },
   {
    "duration": 527,
    "start_time": "2022-04-04T21:02:46.720Z"
   },
   {
    "duration": 65,
    "start_time": "2022-04-04T21:02:47.249Z"
   },
   {
    "duration": 5,
    "start_time": "2022-04-04T21:02:47.316Z"
   },
   {
    "duration": 23,
    "start_time": "2022-04-04T21:02:47.323Z"
   },
   {
    "duration": 7,
    "start_time": "2022-04-04T21:02:47.348Z"
   },
   {
    "duration": 446,
    "start_time": "2022-04-04T21:02:47.357Z"
   },
   {
    "duration": 12,
    "start_time": "2022-04-04T21:02:47.809Z"
   },
   {
    "duration": 173,
    "start_time": "2022-04-04T21:02:47.823Z"
   },
   {
    "duration": 472,
    "start_time": "2022-04-04T21:02:47.998Z"
   },
   {
    "duration": 63,
    "start_time": "2022-04-04T21:02:48.473Z"
   },
   {
    "duration": 581,
    "start_time": "2022-04-04T21:02:48.539Z"
   },
   {
    "duration": 13,
    "start_time": "2022-04-04T21:02:49.122Z"
   },
   {
    "duration": 170,
    "start_time": "2022-04-04T21:02:49.138Z"
   },
   {
    "duration": 249,
    "start_time": "2022-04-04T21:02:49.310Z"
   },
   {
    "duration": 28,
    "start_time": "2022-04-04T21:02:49.561Z"
   },
   {
    "duration": 165,
    "start_time": "2022-04-04T21:02:49.591Z"
   },
   {
    "duration": 369,
    "start_time": "2022-04-04T21:02:49.759Z"
   },
   {
    "duration": 14,
    "start_time": "2022-04-04T21:02:50.130Z"
   },
   {
    "duration": 47,
    "start_time": "2022-04-04T21:02:50.147Z"
   },
   {
    "duration": 5,
    "start_time": "2022-04-04T21:02:50.196Z"
   },
   {
    "duration": 47,
    "start_time": "2022-04-04T21:02:50.204Z"
   },
   {
    "duration": 61,
    "start_time": "2022-04-04T21:02:50.254Z"
   },
   {
    "duration": 68,
    "start_time": "2022-04-04T21:02:50.317Z"
   },
   {
    "duration": 170,
    "start_time": "2022-04-04T21:02:50.387Z"
   },
   {
    "duration": 462,
    "start_time": "2022-04-04T21:02:50.559Z"
   },
   {
    "duration": 467,
    "start_time": "2022-04-04T21:02:51.023Z"
   },
   {
    "duration": 16,
    "start_time": "2022-04-04T21:02:51.492Z"
   },
   {
    "duration": 14,
    "start_time": "2022-04-04T21:02:51.510Z"
   },
   {
    "duration": 287,
    "start_time": "2022-04-04T21:02:51.526Z"
   },
   {
    "duration": 14,
    "start_time": "2022-04-04T21:02:51.815Z"
   },
   {
    "duration": 170,
    "start_time": "2022-04-04T21:02:51.831Z"
   },
   {
    "duration": 886,
    "start_time": "2022-04-04T21:02:52.003Z"
   },
   {
    "duration": 11,
    "start_time": "2022-04-04T21:02:52.891Z"
   },
   {
    "duration": 279,
    "start_time": "2022-04-04T21:02:52.904Z"
   },
   {
    "duration": 149,
    "start_time": "2022-04-04T21:02:53.186Z"
   },
   {
    "duration": 258,
    "start_time": "2022-04-04T21:02:53.337Z"
   },
   {
    "duration": 273,
    "start_time": "2022-04-04T21:02:53.597Z"
   },
   {
    "duration": 263,
    "start_time": "2022-04-04T21:02:53.872Z"
   },
   {
    "duration": 249,
    "start_time": "2022-04-04T21:02:54.137Z"
   },
   {
    "duration": 263,
    "start_time": "2022-04-04T21:02:54.388Z"
   },
   {
    "duration": 46,
    "start_time": "2022-04-04T21:02:54.653Z"
   },
   {
    "duration": 58,
    "start_time": "2022-04-04T21:02:54.701Z"
   },
   {
    "duration": 3,
    "start_time": "2022-04-04T21:02:54.761Z"
   },
   {
    "duration": 21,
    "start_time": "2022-04-04T21:02:54.766Z"
   },
   {
    "duration": 30,
    "start_time": "2022-04-04T21:03:45.804Z"
   },
   {
    "duration": 135,
    "start_time": "2022-04-04T21:04:32.800Z"
   },
   {
    "duration": 133,
    "start_time": "2022-04-04T21:04:39.449Z"
   },
   {
    "duration": 135,
    "start_time": "2022-04-04T21:04:53.395Z"
   },
   {
    "duration": 6,
    "start_time": "2022-04-04T21:06:28.560Z"
   },
   {
    "duration": 289,
    "start_time": "2022-04-04T21:07:51.471Z"
   },
   {
    "duration": 53,
    "start_time": "2022-04-04T21:12:22.580Z"
   },
   {
    "duration": 6,
    "start_time": "2022-04-04T21:17:50.873Z"
   },
   {
    "duration": 7,
    "start_time": "2022-04-04T21:18:10.504Z"
   },
   {
    "duration": 5,
    "start_time": "2022-04-04T21:26:20.995Z"
   },
   {
    "duration": 53,
    "start_time": "2022-04-04T21:26:40.432Z"
   },
   {
    "duration": 291,
    "start_time": "2022-04-04T21:31:05.068Z"
   },
   {
    "duration": 26,
    "start_time": "2022-04-04T21:34:39.445Z"
   },
   {
    "duration": 22,
    "start_time": "2022-04-04T21:35:41.194Z"
   },
   {
    "duration": 21,
    "start_time": "2022-04-04T21:36:24.797Z"
   },
   {
    "duration": 278,
    "start_time": "2022-04-04T21:36:58.497Z"
   },
   {
    "duration": 29,
    "start_time": "2022-04-04T21:38:09.350Z"
   },
   {
    "duration": 249,
    "start_time": "2022-04-04T21:38:19.372Z"
   },
   {
    "duration": 289,
    "start_time": "2022-04-04T21:40:19.107Z"
   },
   {
    "duration": 261,
    "start_time": "2022-04-04T21:41:40.189Z"
   },
   {
    "duration": 17,
    "start_time": "2022-04-04T21:43:08.355Z"
   },
   {
    "duration": 9,
    "start_time": "2022-04-04T21:54:25.325Z"
   },
   {
    "duration": 10,
    "start_time": "2022-04-04T21:58:06.006Z"
   },
   {
    "duration": 243,
    "start_time": "2022-04-04T21:59:53.176Z"
   },
   {
    "duration": 270,
    "start_time": "2022-04-04T22:00:42.787Z"
   },
   {
    "duration": 136,
    "start_time": "2022-04-04T22:03:07.848Z"
   },
   {
    "duration": 265,
    "start_time": "2022-04-04T22:06:43.852Z"
   },
   {
    "duration": 268,
    "start_time": "2022-04-04T22:06:58.989Z"
   },
   {
    "duration": 459,
    "start_time": "2022-04-04T22:08:48.229Z"
   },
   {
    "duration": 134,
    "start_time": "2022-04-04T22:11:29.981Z"
   },
   {
    "duration": 238,
    "start_time": "2022-04-04T22:11:48.982Z"
   },
   {
    "duration": 235,
    "start_time": "2022-04-04T22:12:14.304Z"
   },
   {
    "duration": 236,
    "start_time": "2022-04-04T22:14:40.195Z"
   },
   {
    "duration": 270,
    "start_time": "2022-04-04T22:22:25.675Z"
   },
   {
    "duration": 266,
    "start_time": "2022-04-04T22:29:44.020Z"
   },
   {
    "duration": 104,
    "start_time": "2022-04-04T22:34:46.486Z"
   },
   {
    "duration": 235,
    "start_time": "2022-04-04T22:37:05.563Z"
   },
   {
    "duration": 114,
    "start_time": "2022-04-04T22:40:57.240Z"
   },
   {
    "duration": 267,
    "start_time": "2022-04-04T22:42:23.516Z"
   },
   {
    "duration": 237,
    "start_time": "2022-04-04T22:47:22.894Z"
   },
   {
    "duration": 246,
    "start_time": "2022-04-04T22:54:15.597Z"
   },
   {
    "duration": 251,
    "start_time": "2022-04-04T23:08:12.426Z"
   },
   {
    "duration": 56,
    "start_time": "2022-04-15T11:18:23.884Z"
   },
   {
    "duration": 938,
    "start_time": "2022-04-20T12:57:45.757Z"
   },
   {
    "duration": 14,
    "start_time": "2022-04-20T12:57:46.697Z"
   },
   {
    "duration": 18,
    "start_time": "2022-04-20T12:57:46.713Z"
   },
   {
    "duration": 5,
    "start_time": "2022-04-20T12:57:46.733Z"
   },
   {
    "duration": 30,
    "start_time": "2022-04-20T12:57:46.739Z"
   },
   {
    "duration": 14,
    "start_time": "2022-04-20T12:57:46.771Z"
   },
   {
    "duration": 5,
    "start_time": "2022-04-20T12:57:46.786Z"
   },
   {
    "duration": 41,
    "start_time": "2022-04-20T12:57:46.793Z"
   },
   {
    "duration": 28,
    "start_time": "2022-04-20T12:57:46.836Z"
   },
   {
    "duration": 5,
    "start_time": "2022-04-20T12:57:46.867Z"
   },
   {
    "duration": 9,
    "start_time": "2022-04-20T12:57:46.874Z"
   },
   {
    "duration": 39,
    "start_time": "2022-04-20T12:57:46.884Z"
   },
   {
    "duration": 5,
    "start_time": "2022-04-20T12:57:46.924Z"
   },
   {
    "duration": 6,
    "start_time": "2022-04-20T12:57:46.931Z"
   },
   {
    "duration": 20,
    "start_time": "2022-04-20T12:57:46.939Z"
   },
   {
    "duration": 7,
    "start_time": "2022-04-20T12:57:46.961Z"
   },
   {
    "duration": 7,
    "start_time": "2022-04-20T12:57:46.970Z"
   },
   {
    "duration": 44,
    "start_time": "2022-04-20T12:57:46.978Z"
   },
   {
    "duration": 5,
    "start_time": "2022-04-20T12:57:47.024Z"
   },
   {
    "duration": 4,
    "start_time": "2022-04-20T12:57:47.030Z"
   },
   {
    "duration": 16,
    "start_time": "2022-04-20T12:57:47.036Z"
   },
   {
    "duration": 304,
    "start_time": "2022-04-20T12:57:47.053Z"
   },
   {
    "duration": 30,
    "start_time": "2022-04-20T12:57:47.359Z"
   },
   {
    "duration": 4,
    "start_time": "2022-04-20T12:57:47.390Z"
   },
   {
    "duration": 32,
    "start_time": "2022-04-20T12:57:47.395Z"
   },
   {
    "duration": 5,
    "start_time": "2022-04-20T12:57:47.428Z"
   },
   {
    "duration": 308,
    "start_time": "2022-04-20T12:57:47.434Z"
   },
   {
    "duration": 9,
    "start_time": "2022-04-20T12:57:47.745Z"
   },
   {
    "duration": 95,
    "start_time": "2022-04-20T12:57:47.755Z"
   },
   {
    "duration": 277,
    "start_time": "2022-04-20T12:57:47.851Z"
   },
   {
    "duration": 37,
    "start_time": "2022-04-20T12:57:48.130Z"
   },
   {
    "duration": 256,
    "start_time": "2022-04-20T12:57:48.168Z"
   },
   {
    "duration": 8,
    "start_time": "2022-04-20T12:57:48.426Z"
   },
   {
    "duration": 98,
    "start_time": "2022-04-20T12:57:48.435Z"
   },
   {
    "duration": 148,
    "start_time": "2022-04-20T12:57:48.535Z"
   },
   {
    "duration": 8,
    "start_time": "2022-04-20T12:57:48.684Z"
   },
   {
    "duration": 96,
    "start_time": "2022-04-20T12:57:48.693Z"
   },
   {
    "duration": 155,
    "start_time": "2022-04-20T12:57:48.791Z"
   },
   {
    "duration": 9,
    "start_time": "2022-04-20T12:57:48.948Z"
   },
   {
    "duration": 14,
    "start_time": "2022-04-20T12:57:48.959Z"
   },
   {
    "duration": 3,
    "start_time": "2022-04-20T12:57:48.975Z"
   },
   {
    "duration": 44,
    "start_time": "2022-04-20T12:57:48.980Z"
   },
   {
    "duration": 36,
    "start_time": "2022-04-20T12:57:49.026Z"
   },
   {
    "duration": 38,
    "start_time": "2022-04-20T12:57:49.063Z"
   },
   {
    "duration": 125,
    "start_time": "2022-04-20T12:57:49.102Z"
   },
   {
    "duration": 333,
    "start_time": "2022-04-20T12:57:49.228Z"
   },
   {
    "duration": 262,
    "start_time": "2022-04-20T12:57:49.563Z"
   },
   {
    "duration": 11,
    "start_time": "2022-04-20T12:57:49.827Z"
   },
   {
    "duration": 9,
    "start_time": "2022-04-20T12:57:49.839Z"
   },
   {
    "duration": 167,
    "start_time": "2022-04-20T12:57:49.850Z"
   },
   {
    "duration": 12,
    "start_time": "2022-04-20T12:57:50.019Z"
   },
   {
    "duration": 93,
    "start_time": "2022-04-20T12:57:50.032Z"
   },
   {
    "duration": 420,
    "start_time": "2022-04-20T12:57:50.127Z"
   },
   {
    "duration": 7,
    "start_time": "2022-04-20T12:57:50.549Z"
   },
   {
    "duration": 152,
    "start_time": "2022-04-20T12:57:50.558Z"
   },
   {
    "duration": 80,
    "start_time": "2022-04-20T12:57:50.711Z"
   },
   {
    "duration": 243,
    "start_time": "2022-04-20T12:57:50.793Z"
   },
   {
    "duration": 176,
    "start_time": "2022-04-20T12:57:51.038Z"
   },
   {
    "duration": 160,
    "start_time": "2022-04-20T12:57:51.216Z"
   },
   {
    "duration": 144,
    "start_time": "2022-04-20T12:57:51.378Z"
   },
   {
    "duration": 141,
    "start_time": "2022-04-20T12:57:51.524Z"
   },
   {
    "duration": 156,
    "start_time": "2022-04-20T12:57:51.667Z"
   },
   {
    "duration": 23,
    "start_time": "2022-04-20T12:57:51.824Z"
   },
   {
    "duration": 17,
    "start_time": "2022-04-20T12:57:51.849Z"
   },
   {
    "duration": 3221,
    "start_time": "2022-04-20T12:57:51.868Z"
   },
   {
    "duration": 0,
    "start_time": "2022-04-20T12:57:55.091Z"
   },
   {
    "duration": 0,
    "start_time": "2022-04-20T12:57:55.092Z"
   },
   {
    "duration": 0,
    "start_time": "2022-04-20T12:57:55.093Z"
   },
   {
    "duration": 0,
    "start_time": "2022-04-20T12:57:55.094Z"
   },
   {
    "duration": 0,
    "start_time": "2022-04-20T12:57:55.095Z"
   },
   {
    "duration": 0,
    "start_time": "2022-04-20T12:57:55.095Z"
   },
   {
    "duration": 0,
    "start_time": "2022-04-20T12:57:55.097Z"
   },
   {
    "duration": 0,
    "start_time": "2022-04-20T12:57:55.098Z"
   },
   {
    "duration": 0,
    "start_time": "2022-04-20T12:57:55.099Z"
   },
   {
    "duration": 0,
    "start_time": "2022-04-20T12:57:55.099Z"
   },
   {
    "duration": 0,
    "start_time": "2022-04-20T12:57:55.100Z"
   },
   {
    "duration": 10,
    "start_time": "2022-04-20T13:19:49.212Z"
   },
   {
    "duration": 116,
    "start_time": "2022-04-20T13:21:22.373Z"
   },
   {
    "duration": 38,
    "start_time": "2022-04-20T13:21:22.491Z"
   },
   {
    "duration": 10,
    "start_time": "2022-04-20T13:21:22.530Z"
   },
   {
    "duration": 4,
    "start_time": "2022-04-20T13:21:22.542Z"
   },
   {
    "duration": 23,
    "start_time": "2022-04-20T13:21:22.547Z"
   },
   {
    "duration": 56,
    "start_time": "2022-04-20T13:21:22.571Z"
   },
   {
    "duration": 6,
    "start_time": "2022-04-20T13:21:22.629Z"
   },
   {
    "duration": 19,
    "start_time": "2022-04-20T13:21:22.637Z"
   },
   {
    "duration": 66,
    "start_time": "2022-04-20T13:21:22.658Z"
   },
   {
    "duration": 5,
    "start_time": "2022-04-20T13:21:22.727Z"
   },
   {
    "duration": 4,
    "start_time": "2022-04-20T13:21:22.734Z"
   },
   {
    "duration": 24,
    "start_time": "2022-04-20T13:21:22.739Z"
   },
   {
    "duration": 5,
    "start_time": "2022-04-20T13:21:22.765Z"
   },
   {
    "duration": 4,
    "start_time": "2022-04-20T13:21:22.772Z"
   },
   {
    "duration": 55,
    "start_time": "2022-04-20T13:21:22.777Z"
   },
   {
    "duration": 8,
    "start_time": "2022-04-20T13:21:22.834Z"
   },
   {
    "duration": 7,
    "start_time": "2022-04-20T13:21:22.844Z"
   },
   {
    "duration": 12,
    "start_time": "2022-04-20T13:21:22.852Z"
   },
   {
    "duration": 5,
    "start_time": "2022-04-20T13:21:22.865Z"
   },
   {
    "duration": 7,
    "start_time": "2022-04-20T13:21:22.871Z"
   },
   {
    "duration": 45,
    "start_time": "2022-04-20T13:21:22.880Z"
   },
   {
    "duration": 304,
    "start_time": "2022-04-20T13:21:22.927Z"
   },
   {
    "duration": 30,
    "start_time": "2022-04-20T13:21:23.233Z"
   },
   {
    "duration": 3,
    "start_time": "2022-04-20T13:21:23.265Z"
   },
   {
    "duration": 19,
    "start_time": "2022-04-20T13:21:23.270Z"
   },
   {
    "duration": 4,
    "start_time": "2022-04-20T13:21:23.291Z"
   },
   {
    "duration": 274,
    "start_time": "2022-04-20T13:21:23.297Z"
   },
   {
    "duration": 9,
    "start_time": "2022-04-20T13:21:23.575Z"
   },
   {
    "duration": 200,
    "start_time": "2022-04-20T13:21:23.585Z"
   },
   {
    "duration": 282,
    "start_time": "2022-04-20T13:21:23.787Z"
   },
   {
    "duration": 37,
    "start_time": "2022-04-20T13:21:24.070Z"
   },
   {
    "duration": 256,
    "start_time": "2022-04-20T13:21:24.108Z"
   },
   {
    "duration": 8,
    "start_time": "2022-04-20T13:21:24.365Z"
   },
   {
    "duration": 98,
    "start_time": "2022-04-20T13:21:24.375Z"
   },
   {
    "duration": 153,
    "start_time": "2022-04-20T13:21:24.475Z"
   },
   {
    "duration": 8,
    "start_time": "2022-04-20T13:21:24.630Z"
   },
   {
    "duration": 107,
    "start_time": "2022-04-20T13:21:24.640Z"
   },
   {
    "duration": 159,
    "start_time": "2022-04-20T13:21:24.748Z"
   },
   {
    "duration": 15,
    "start_time": "2022-04-20T13:21:24.908Z"
   },
   {
    "duration": 14,
    "start_time": "2022-04-20T13:21:24.924Z"
   },
   {
    "duration": 3,
    "start_time": "2022-04-20T13:21:24.940Z"
   },
   {
    "duration": 18,
    "start_time": "2022-04-20T13:21:24.944Z"
   },
   {
    "duration": 33,
    "start_time": "2022-04-20T13:21:24.964Z"
   },
   {
    "duration": 57,
    "start_time": "2022-04-20T13:21:24.999Z"
   },
   {
    "duration": 110,
    "start_time": "2022-04-20T13:21:25.058Z"
   },
   {
    "duration": 384,
    "start_time": "2022-04-20T13:21:25.170Z"
   },
   {
    "duration": 274,
    "start_time": "2022-04-20T13:21:25.556Z"
   },
   {
    "duration": 11,
    "start_time": "2022-04-20T13:21:25.831Z"
   },
   {
    "duration": 9,
    "start_time": "2022-04-20T13:21:25.843Z"
   },
   {
    "duration": 169,
    "start_time": "2022-04-20T13:21:25.853Z"
   },
   {
    "duration": 10,
    "start_time": "2022-04-20T13:21:26.024Z"
   },
   {
    "duration": 93,
    "start_time": "2022-04-20T13:21:26.036Z"
   },
   {
    "duration": 425,
    "start_time": "2022-04-20T13:21:26.131Z"
   },
   {
    "duration": 8,
    "start_time": "2022-04-20T13:21:26.558Z"
   },
   {
    "duration": 8,
    "start_time": "2022-04-20T13:21:26.568Z"
   },
   {
    "duration": 162,
    "start_time": "2022-04-20T13:21:26.578Z"
   },
   {
    "duration": 88,
    "start_time": "2022-04-20T13:21:26.742Z"
   },
   {
    "duration": 150,
    "start_time": "2022-04-20T13:21:26.831Z"
   },
   {
    "duration": 166,
    "start_time": "2022-04-20T13:21:26.983Z"
   },
   {
    "duration": 156,
    "start_time": "2022-04-20T13:21:27.151Z"
   },
   {
    "duration": 278,
    "start_time": "2022-04-20T13:21:27.309Z"
   },
   {
    "duration": 147,
    "start_time": "2022-04-20T13:21:27.588Z"
   },
   {
    "duration": 149,
    "start_time": "2022-04-20T13:21:27.736Z"
   },
   {
    "duration": 22,
    "start_time": "2022-04-20T13:21:27.887Z"
   },
   {
    "duration": 31,
    "start_time": "2022-04-20T13:21:27.910Z"
   },
   {
    "duration": 3334,
    "start_time": "2022-04-20T13:21:27.943Z"
   },
   {
    "duration": 0,
    "start_time": "2022-04-20T13:21:31.279Z"
   },
   {
    "duration": 0,
    "start_time": "2022-04-20T13:21:31.280Z"
   },
   {
    "duration": 0,
    "start_time": "2022-04-20T13:21:31.282Z"
   },
   {
    "duration": 0,
    "start_time": "2022-04-20T13:21:31.283Z"
   },
   {
    "duration": 0,
    "start_time": "2022-04-20T13:21:31.284Z"
   },
   {
    "duration": 0,
    "start_time": "2022-04-20T13:21:31.285Z"
   },
   {
    "duration": 0,
    "start_time": "2022-04-20T13:21:31.286Z"
   },
   {
    "duration": 0,
    "start_time": "2022-04-20T13:21:31.288Z"
   },
   {
    "duration": 0,
    "start_time": "2022-04-20T13:21:31.288Z"
   },
   {
    "duration": 0,
    "start_time": "2022-04-20T13:21:31.289Z"
   },
   {
    "duration": 0,
    "start_time": "2022-04-20T13:21:31.290Z"
   },
   {
    "duration": 5052,
    "start_time": "2022-04-20T13:22:09.924Z"
   },
   {
    "duration": 3070,
    "start_time": "2022-04-20T13:23:35.727Z"
   },
   {
    "duration": 35,
    "start_time": "2022-04-20T13:24:17.221Z"
   },
   {
    "duration": 155,
    "start_time": "2022-04-20T13:24:37.314Z"
   },
   {
    "duration": 106,
    "start_time": "2022-04-20T13:24:49.048Z"
   },
   {
    "duration": 13,
    "start_time": "2022-04-20T13:24:49.156Z"
   },
   {
    "duration": 22,
    "start_time": "2022-04-20T13:24:49.170Z"
   },
   {
    "duration": 10,
    "start_time": "2022-04-20T13:24:49.194Z"
   },
   {
    "duration": 31,
    "start_time": "2022-04-20T13:24:49.205Z"
   },
   {
    "duration": 14,
    "start_time": "2022-04-20T13:24:49.238Z"
   },
   {
    "duration": 9,
    "start_time": "2022-04-20T13:24:49.254Z"
   },
   {
    "duration": 31,
    "start_time": "2022-04-20T13:24:49.264Z"
   },
   {
    "duration": 44,
    "start_time": "2022-04-20T13:24:49.297Z"
   },
   {
    "duration": 5,
    "start_time": "2022-04-20T13:24:49.344Z"
   },
   {
    "duration": 13,
    "start_time": "2022-04-20T13:24:49.351Z"
   },
   {
    "duration": 33,
    "start_time": "2022-04-20T13:24:49.366Z"
   },
   {
    "duration": 8,
    "start_time": "2022-04-20T13:24:49.400Z"
   },
   {
    "duration": 17,
    "start_time": "2022-04-20T13:24:49.409Z"
   },
   {
    "duration": 36,
    "start_time": "2022-04-20T13:24:49.427Z"
   },
   {
    "duration": 8,
    "start_time": "2022-04-20T13:24:49.465Z"
   },
   {
    "duration": 11,
    "start_time": "2022-04-20T13:24:49.475Z"
   },
   {
    "duration": 32,
    "start_time": "2022-04-20T13:24:49.487Z"
   },
   {
    "duration": 12,
    "start_time": "2022-04-20T13:24:49.520Z"
   },
   {
    "duration": 25,
    "start_time": "2022-04-20T13:24:49.534Z"
   },
   {
    "duration": 24,
    "start_time": "2022-04-20T13:24:49.561Z"
   },
   {
    "duration": 404,
    "start_time": "2022-04-20T13:24:49.587Z"
   },
   {
    "duration": 37,
    "start_time": "2022-04-20T13:24:49.993Z"
   },
   {
    "duration": 4,
    "start_time": "2022-04-20T13:24:50.031Z"
   },
   {
    "duration": 28,
    "start_time": "2022-04-20T13:24:50.036Z"
   },
   {
    "duration": 5,
    "start_time": "2022-04-20T13:24:50.066Z"
   },
   {
    "duration": 243,
    "start_time": "2022-04-20T13:24:50.072Z"
   },
   {
    "duration": 8,
    "start_time": "2022-04-20T13:24:50.324Z"
   },
   {
    "duration": 102,
    "start_time": "2022-04-20T13:24:50.334Z"
   },
   {
    "duration": 263,
    "start_time": "2022-04-20T13:24:50.437Z"
   },
   {
    "duration": 43,
    "start_time": "2022-04-20T13:24:50.702Z"
   },
   {
    "duration": 382,
    "start_time": "2022-04-20T13:24:50.746Z"
   },
   {
    "duration": 9,
    "start_time": "2022-04-20T13:24:51.129Z"
   },
   {
    "duration": 107,
    "start_time": "2022-04-20T13:24:51.140Z"
   },
   {
    "duration": 147,
    "start_time": "2022-04-20T13:24:51.249Z"
   },
   {
    "duration": 8,
    "start_time": "2022-04-20T13:24:51.397Z"
   },
   {
    "duration": 104,
    "start_time": "2022-04-20T13:24:51.407Z"
   },
   {
    "duration": 169,
    "start_time": "2022-04-20T13:24:51.512Z"
   },
   {
    "duration": 9,
    "start_time": "2022-04-20T13:24:51.682Z"
   },
   {
    "duration": 29,
    "start_time": "2022-04-20T13:24:51.693Z"
   },
   {
    "duration": 6,
    "start_time": "2022-04-20T13:24:51.724Z"
   },
   {
    "duration": 24,
    "start_time": "2022-04-20T13:24:51.732Z"
   },
   {
    "duration": 36,
    "start_time": "2022-04-20T13:24:51.757Z"
   },
   {
    "duration": 43,
    "start_time": "2022-04-20T13:24:51.795Z"
   },
   {
    "duration": 105,
    "start_time": "2022-04-20T13:24:51.840Z"
   },
   {
    "duration": 284,
    "start_time": "2022-04-20T13:24:51.947Z"
   },
   {
    "duration": 262,
    "start_time": "2022-04-20T13:24:52.233Z"
   },
   {
    "duration": 11,
    "start_time": "2022-04-20T13:24:52.497Z"
   },
   {
    "duration": 9,
    "start_time": "2022-04-20T13:24:52.522Z"
   },
   {
    "duration": 161,
    "start_time": "2022-04-20T13:24:52.533Z"
   },
   {
    "duration": 9,
    "start_time": "2022-04-20T13:24:52.696Z"
   },
   {
    "duration": 87,
    "start_time": "2022-04-20T13:24:52.707Z"
   },
   {
    "duration": 430,
    "start_time": "2022-04-20T13:24:52.796Z"
   },
   {
    "duration": 8,
    "start_time": "2022-04-20T13:24:53.228Z"
   },
   {
    "duration": 9,
    "start_time": "2022-04-20T13:24:53.237Z"
   },
   {
    "duration": 312,
    "start_time": "2022-04-20T13:24:53.248Z"
   },
   {
    "duration": 83,
    "start_time": "2022-04-20T13:24:53.562Z"
   },
   {
    "duration": 147,
    "start_time": "2022-04-20T13:24:53.646Z"
   },
   {
    "duration": 181,
    "start_time": "2022-04-20T13:24:53.795Z"
   },
   {
    "duration": 165,
    "start_time": "2022-04-20T13:24:53.977Z"
   },
   {
    "duration": 163,
    "start_time": "2022-04-20T13:24:54.143Z"
   },
   {
    "duration": 140,
    "start_time": "2022-04-20T13:24:54.307Z"
   },
   {
    "duration": 153,
    "start_time": "2022-04-20T13:24:54.448Z"
   },
   {
    "duration": 27,
    "start_time": "2022-04-20T13:24:54.602Z"
   },
   {
    "duration": 17,
    "start_time": "2022-04-20T13:24:54.630Z"
   },
   {
    "duration": 165,
    "start_time": "2022-04-20T13:24:54.649Z"
   },
   {
    "duration": 11,
    "start_time": "2022-04-20T13:24:54.816Z"
   },
   {
    "duration": 162,
    "start_time": "2022-04-20T13:24:54.828Z"
   },
   {
    "duration": 164,
    "start_time": "2022-04-20T13:24:54.992Z"
   },
   {
    "duration": 145,
    "start_time": "2022-04-20T13:24:55.158Z"
   },
   {
    "duration": 149,
    "start_time": "2022-04-20T13:24:55.304Z"
   },
   {
    "duration": 173,
    "start_time": "2022-04-20T13:24:55.455Z"
   },
   {
    "duration": 152,
    "start_time": "2022-04-20T13:24:55.630Z"
   },
   {
    "duration": 148,
    "start_time": "2022-04-20T13:24:55.784Z"
   },
   {
    "duration": 160,
    "start_time": "2022-04-20T13:24:55.934Z"
   },
   {
    "duration": 152,
    "start_time": "2022-04-20T13:24:56.096Z"
   },
   {
    "duration": 157,
    "start_time": "2022-04-20T13:24:56.250Z"
   },
   {
    "duration": 49,
    "start_time": "2022-04-21T12:44:14.238Z"
   },
   {
    "duration": 1095,
    "start_time": "2022-04-21T12:44:22.374Z"
   },
   {
    "duration": 19,
    "start_time": "2022-04-21T12:44:23.472Z"
   },
   {
    "duration": 31,
    "start_time": "2022-04-21T12:44:23.493Z"
   },
   {
    "duration": 5,
    "start_time": "2022-04-21T12:44:23.526Z"
   },
   {
    "duration": 19,
    "start_time": "2022-04-21T12:44:23.533Z"
   },
   {
    "duration": 14,
    "start_time": "2022-04-21T12:44:23.553Z"
   },
   {
    "duration": 5,
    "start_time": "2022-04-21T12:44:23.569Z"
   },
   {
    "duration": 57,
    "start_time": "2022-04-21T12:44:23.576Z"
   },
   {
    "duration": 33,
    "start_time": "2022-04-21T12:44:23.634Z"
   },
   {
    "duration": 6,
    "start_time": "2022-04-21T12:44:23.669Z"
   },
   {
    "duration": 4,
    "start_time": "2022-04-21T12:44:23.677Z"
   },
   {
    "duration": 48,
    "start_time": "2022-04-21T12:44:23.683Z"
   },
   {
    "duration": 5,
    "start_time": "2022-04-21T12:44:23.733Z"
   },
   {
    "duration": 8,
    "start_time": "2022-04-21T12:44:23.740Z"
   },
   {
    "duration": 23,
    "start_time": "2022-04-21T12:44:23.750Z"
   },
   {
    "duration": 11,
    "start_time": "2022-04-21T12:44:23.775Z"
   },
   {
    "duration": 36,
    "start_time": "2022-04-21T12:44:23.789Z"
   },
   {
    "duration": 12,
    "start_time": "2022-04-21T12:44:23.827Z"
   },
   {
    "duration": 5,
    "start_time": "2022-04-21T12:44:23.841Z"
   },
   {
    "duration": 5,
    "start_time": "2022-04-21T12:44:23.847Z"
   },
   {
    "duration": 12,
    "start_time": "2022-04-21T12:44:23.854Z"
   },
   {
    "duration": 349,
    "start_time": "2022-04-21T12:44:23.868Z"
   },
   {
    "duration": 35,
    "start_time": "2022-04-21T12:44:24.219Z"
   },
   {
    "duration": 3,
    "start_time": "2022-04-21T12:44:24.256Z"
   },
   {
    "duration": 18,
    "start_time": "2022-04-21T12:44:24.261Z"
   },
   {
    "duration": 6,
    "start_time": "2022-04-21T12:44:24.280Z"
   },
   {
    "duration": 383,
    "start_time": "2022-04-21T12:44:24.288Z"
   },
   {
    "duration": 9,
    "start_time": "2022-04-21T12:44:24.675Z"
   },
   {
    "duration": 106,
    "start_time": "2022-04-21T12:44:24.686Z"
   },
   {
    "duration": 308,
    "start_time": "2022-04-21T12:44:24.794Z"
   },
   {
    "duration": 42,
    "start_time": "2022-04-21T12:44:25.104Z"
   },
   {
    "duration": 303,
    "start_time": "2022-04-21T12:44:25.148Z"
   },
   {
    "duration": 11,
    "start_time": "2022-04-21T12:44:25.453Z"
   },
   {
    "duration": 132,
    "start_time": "2022-04-21T12:44:25.465Z"
   },
   {
    "duration": 166,
    "start_time": "2022-04-21T12:44:25.599Z"
   },
   {
    "duration": 11,
    "start_time": "2022-04-21T12:44:25.767Z"
   },
   {
    "duration": 146,
    "start_time": "2022-04-21T12:44:25.780Z"
   },
   {
    "duration": 219,
    "start_time": "2022-04-21T12:44:25.928Z"
   },
   {
    "duration": 10,
    "start_time": "2022-04-21T12:44:26.148Z"
   },
   {
    "duration": 115,
    "start_time": "2022-04-21T12:44:26.160Z"
   },
   {
    "duration": 21,
    "start_time": "2022-04-21T12:44:26.277Z"
   },
   {
    "duration": 4,
    "start_time": "2022-04-21T12:44:26.299Z"
   },
   {
    "duration": 15,
    "start_time": "2022-04-21T12:44:26.322Z"
   },
   {
    "duration": 129,
    "start_time": "2022-04-21T12:44:26.338Z"
   },
   {
    "duration": 54,
    "start_time": "2022-04-21T12:44:26.470Z"
   },
   {
    "duration": 153,
    "start_time": "2022-04-21T12:44:26.526Z"
   },
   {
    "duration": 308,
    "start_time": "2022-04-21T12:44:26.682Z"
   },
   {
    "duration": 316,
    "start_time": "2022-04-21T12:44:26.992Z"
   },
   {
    "duration": 22,
    "start_time": "2022-04-21T12:44:27.309Z"
   },
   {
    "duration": 9,
    "start_time": "2022-04-21T12:44:27.332Z"
   },
   {
    "duration": 207,
    "start_time": "2022-04-21T12:44:27.343Z"
   },
   {
    "duration": 11,
    "start_time": "2022-04-21T12:44:27.552Z"
   },
   {
    "duration": 111,
    "start_time": "2022-04-21T12:44:27.564Z"
   },
   {
    "duration": 529,
    "start_time": "2022-04-21T12:44:27.677Z"
   },
   {
    "duration": 15,
    "start_time": "2022-04-21T12:44:28.207Z"
   },
   {
    "duration": 9,
    "start_time": "2022-04-21T12:44:28.224Z"
   },
   {
    "duration": 217,
    "start_time": "2022-04-21T12:44:28.235Z"
   },
   {
    "duration": 0,
    "start_time": "2022-04-21T12:44:28.454Z"
   },
   {
    "duration": 0,
    "start_time": "2022-04-21T12:44:28.455Z"
   },
   {
    "duration": 0,
    "start_time": "2022-04-21T12:44:28.457Z"
   },
   {
    "duration": 0,
    "start_time": "2022-04-21T12:44:28.458Z"
   },
   {
    "duration": 0,
    "start_time": "2022-04-21T12:44:28.459Z"
   },
   {
    "duration": 0,
    "start_time": "2022-04-21T12:44:28.460Z"
   },
   {
    "duration": 0,
    "start_time": "2022-04-21T12:44:28.460Z"
   },
   {
    "duration": 0,
    "start_time": "2022-04-21T12:44:28.462Z"
   },
   {
    "duration": 0,
    "start_time": "2022-04-21T12:44:28.464Z"
   },
   {
    "duration": 0,
    "start_time": "2022-04-21T12:44:28.465Z"
   },
   {
    "duration": 0,
    "start_time": "2022-04-21T12:44:28.466Z"
   },
   {
    "duration": 0,
    "start_time": "2022-04-21T12:44:28.467Z"
   },
   {
    "duration": 0,
    "start_time": "2022-04-21T12:44:28.468Z"
   },
   {
    "duration": 0,
    "start_time": "2022-04-21T12:44:28.469Z"
   },
   {
    "duration": 0,
    "start_time": "2022-04-21T12:44:28.470Z"
   },
   {
    "duration": 0,
    "start_time": "2022-04-21T12:44:28.471Z"
   },
   {
    "duration": 0,
    "start_time": "2022-04-21T12:44:28.472Z"
   },
   {
    "duration": 0,
    "start_time": "2022-04-21T12:44:28.474Z"
   },
   {
    "duration": 0,
    "start_time": "2022-04-21T12:44:28.475Z"
   },
   {
    "duration": 0,
    "start_time": "2022-04-21T12:44:28.476Z"
   },
   {
    "duration": 0,
    "start_time": "2022-04-21T12:44:28.478Z"
   },
   {
    "duration": 0,
    "start_time": "2022-04-21T12:44:28.479Z"
   },
   {
    "duration": 93,
    "start_time": "2022-04-21T12:44:55.656Z"
   },
   {
    "duration": 175,
    "start_time": "2022-04-21T12:45:05.780Z"
   },
   {
    "duration": 120,
    "start_time": "2022-04-21T12:53:18.765Z"
   },
   {
    "duration": 36,
    "start_time": "2022-04-21T12:53:18.888Z"
   },
   {
    "duration": 11,
    "start_time": "2022-04-21T12:53:18.926Z"
   },
   {
    "duration": 5,
    "start_time": "2022-04-21T12:53:18.939Z"
   },
   {
    "duration": 22,
    "start_time": "2022-04-21T12:53:18.946Z"
   },
   {
    "duration": 57,
    "start_time": "2022-04-21T12:53:18.970Z"
   },
   {
    "duration": 6,
    "start_time": "2022-04-21T12:53:19.029Z"
   },
   {
    "duration": 24,
    "start_time": "2022-04-21T12:53:19.037Z"
   },
   {
    "duration": 67,
    "start_time": "2022-04-21T12:53:19.063Z"
   },
   {
    "duration": 6,
    "start_time": "2022-04-21T12:53:19.133Z"
   },
   {
    "duration": 5,
    "start_time": "2022-04-21T12:53:19.140Z"
   },
   {
    "duration": 24,
    "start_time": "2022-04-21T12:53:19.146Z"
   },
   {
    "duration": 6,
    "start_time": "2022-04-21T12:53:19.172Z"
   },
   {
    "duration": 45,
    "start_time": "2022-04-21T12:53:19.179Z"
   },
   {
    "duration": 19,
    "start_time": "2022-04-21T12:53:19.225Z"
   },
   {
    "duration": 8,
    "start_time": "2022-04-21T12:53:19.246Z"
   },
   {
    "duration": 8,
    "start_time": "2022-04-21T12:53:19.255Z"
   },
   {
    "duration": 11,
    "start_time": "2022-04-21T12:53:19.265Z"
   },
   {
    "duration": 5,
    "start_time": "2022-04-21T12:53:19.278Z"
   },
   {
    "duration": 4,
    "start_time": "2022-04-21T12:53:19.323Z"
   },
   {
    "duration": 16,
    "start_time": "2022-04-21T12:53:19.329Z"
   },
   {
    "duration": 404,
    "start_time": "2022-04-21T12:53:19.347Z"
   },
   {
    "duration": 45,
    "start_time": "2022-04-21T12:53:19.754Z"
   },
   {
    "duration": 3,
    "start_time": "2022-04-21T12:53:19.801Z"
   },
   {
    "duration": 32,
    "start_time": "2022-04-21T12:53:19.806Z"
   },
   {
    "duration": 5,
    "start_time": "2022-04-21T12:53:19.840Z"
   },
   {
    "duration": 356,
    "start_time": "2022-04-21T12:53:19.847Z"
   },
   {
    "duration": 19,
    "start_time": "2022-04-21T12:53:20.208Z"
   },
   {
    "duration": 119,
    "start_time": "2022-04-21T12:53:20.228Z"
   },
   {
    "duration": 352,
    "start_time": "2022-04-21T12:53:20.349Z"
   },
   {
    "duration": 45,
    "start_time": "2022-04-21T12:53:20.703Z"
   },
   {
    "duration": 256,
    "start_time": "2022-04-21T12:53:20.749Z"
   },
   {
    "duration": 16,
    "start_time": "2022-04-21T12:53:21.006Z"
   },
   {
    "duration": 178,
    "start_time": "2022-04-21T12:53:21.025Z"
   },
   {
    "duration": 178,
    "start_time": "2022-04-21T12:53:21.205Z"
   },
   {
    "duration": 8,
    "start_time": "2022-04-21T12:53:21.385Z"
   },
   {
    "duration": 114,
    "start_time": "2022-04-21T12:53:21.395Z"
   },
   {
    "duration": 172,
    "start_time": "2022-04-21T12:53:21.511Z"
   },
   {
    "duration": 11,
    "start_time": "2022-04-21T12:53:21.685Z"
   },
   {
    "duration": 28,
    "start_time": "2022-04-21T12:53:21.698Z"
   },
   {
    "duration": 4,
    "start_time": "2022-04-21T12:53:21.728Z"
   },
   {
    "duration": 20,
    "start_time": "2022-04-21T12:53:21.734Z"
   },
   {
    "duration": 80,
    "start_time": "2022-04-21T12:53:21.756Z"
   },
   {
    "duration": 37,
    "start_time": "2022-04-21T12:53:21.838Z"
   },
   {
    "duration": 131,
    "start_time": "2022-04-21T12:53:21.877Z"
   },
   {
    "duration": 329,
    "start_time": "2022-04-21T12:53:22.009Z"
   },
   {
    "duration": 422,
    "start_time": "2022-04-21T12:53:22.339Z"
   },
   {
    "duration": 13,
    "start_time": "2022-04-21T12:53:22.763Z"
   },
   {
    "duration": 9,
    "start_time": "2022-04-21T12:53:22.777Z"
   },
   {
    "duration": 222,
    "start_time": "2022-04-21T12:53:22.787Z"
   },
   {
    "duration": 21,
    "start_time": "2022-04-21T12:53:23.011Z"
   },
   {
    "duration": 145,
    "start_time": "2022-04-21T12:53:23.035Z"
   },
   {
    "duration": 605,
    "start_time": "2022-04-21T12:53:23.182Z"
   },
   {
    "duration": 9,
    "start_time": "2022-04-21T12:53:23.789Z"
   },
   {
    "duration": 26,
    "start_time": "2022-04-21T12:53:23.800Z"
   },
   {
    "duration": 12,
    "start_time": "2022-04-21T12:53:23.828Z"
   },
   {
    "duration": 174,
    "start_time": "2022-04-21T12:53:23.842Z"
   },
   {
    "duration": 104,
    "start_time": "2022-04-21T12:53:24.018Z"
   },
   {
    "duration": 169,
    "start_time": "2022-04-21T12:53:24.124Z"
   },
   {
    "duration": 182,
    "start_time": "2022-04-21T12:53:24.295Z"
   },
   {
    "duration": 163,
    "start_time": "2022-04-21T12:53:24.478Z"
   },
   {
    "duration": 151,
    "start_time": "2022-04-21T12:53:24.643Z"
   },
   {
    "duration": 159,
    "start_time": "2022-04-21T12:53:24.796Z"
   },
   {
    "duration": 158,
    "start_time": "2022-04-21T12:53:24.957Z"
   },
   {
    "duration": 23,
    "start_time": "2022-04-21T12:53:25.121Z"
   },
   {
    "duration": 17,
    "start_time": "2022-04-21T12:53:25.145Z"
   },
   {
    "duration": 180,
    "start_time": "2022-04-21T12:53:25.163Z"
   },
   {
    "duration": 9,
    "start_time": "2022-04-21T12:53:25.345Z"
   },
   {
    "duration": 168,
    "start_time": "2022-04-21T12:53:25.356Z"
   },
   {
    "duration": 189,
    "start_time": "2022-04-21T12:53:25.525Z"
   },
   {
    "duration": 166,
    "start_time": "2022-04-21T12:53:25.715Z"
   },
   {
    "duration": 165,
    "start_time": "2022-04-21T12:53:25.883Z"
   },
   {
    "duration": 180,
    "start_time": "2022-04-21T12:53:26.050Z"
   },
   {
    "duration": 176,
    "start_time": "2022-04-21T12:53:26.232Z"
   },
   {
    "duration": 288,
    "start_time": "2022-04-21T12:53:26.410Z"
   },
   {
    "duration": 195,
    "start_time": "2022-04-21T12:53:26.700Z"
   },
   {
    "duration": 149,
    "start_time": "2022-04-21T12:53:26.897Z"
   },
   {
    "duration": 169,
    "start_time": "2022-04-21T12:53:27.048Z"
   },
   {
    "duration": 20,
    "start_time": "2022-04-21T12:54:43.724Z"
   },
   {
    "duration": 10,
    "start_time": "2022-04-21T12:57:25.639Z"
   },
   {
    "duration": 117,
    "start_time": "2022-04-21T12:59:14.073Z"
   },
   {
    "duration": 31,
    "start_time": "2022-04-21T12:59:14.193Z"
   },
   {
    "duration": 12,
    "start_time": "2022-04-21T12:59:14.226Z"
   },
   {
    "duration": 5,
    "start_time": "2022-04-21T12:59:14.241Z"
   },
   {
    "duration": 26,
    "start_time": "2022-04-21T12:59:14.248Z"
   },
   {
    "duration": 53,
    "start_time": "2022-04-21T12:59:14.276Z"
   },
   {
    "duration": 7,
    "start_time": "2022-04-21T12:59:14.331Z"
   },
   {
    "duration": 19,
    "start_time": "2022-04-21T12:59:14.340Z"
   },
   {
    "duration": 76,
    "start_time": "2022-04-21T12:59:14.362Z"
   },
   {
    "duration": 7,
    "start_time": "2022-04-21T12:59:14.442Z"
   },
   {
    "duration": 4,
    "start_time": "2022-04-21T12:59:14.451Z"
   },
   {
    "duration": 23,
    "start_time": "2022-04-21T12:59:14.457Z"
   },
   {
    "duration": 7,
    "start_time": "2022-04-21T12:59:14.523Z"
   },
   {
    "duration": 5,
    "start_time": "2022-04-21T12:59:14.531Z"
   },
   {
    "duration": 20,
    "start_time": "2022-04-21T12:59:14.537Z"
   },
   {
    "duration": 11,
    "start_time": "2022-04-21T12:59:14.559Z"
   },
   {
    "duration": 8,
    "start_time": "2022-04-21T12:59:14.572Z"
   },
   {
    "duration": 49,
    "start_time": "2022-04-21T12:59:14.582Z"
   },
   {
    "duration": 5,
    "start_time": "2022-04-21T12:59:14.632Z"
   },
   {
    "duration": 7,
    "start_time": "2022-04-21T12:59:14.639Z"
   },
   {
    "duration": 15,
    "start_time": "2022-04-21T12:59:14.648Z"
   },
   {
    "duration": 448,
    "start_time": "2022-04-21T12:59:14.665Z"
   },
   {
    "duration": 38,
    "start_time": "2022-04-21T12:59:15.115Z"
   },
   {
    "duration": 4,
    "start_time": "2022-04-21T12:59:15.154Z"
   },
   {
    "duration": 23,
    "start_time": "2022-04-21T12:59:15.160Z"
   },
   {
    "duration": 6,
    "start_time": "2022-04-21T12:59:15.185Z"
   },
   {
    "duration": 324,
    "start_time": "2022-04-21T12:59:15.193Z"
   },
   {
    "duration": 9,
    "start_time": "2022-04-21T12:59:15.522Z"
   },
   {
    "duration": 153,
    "start_time": "2022-04-21T12:59:15.533Z"
   },
   {
    "duration": 316,
    "start_time": "2022-04-21T12:59:15.688Z"
   },
   {
    "duration": 41,
    "start_time": "2022-04-21T12:59:16.006Z"
   },
   {
    "duration": 271,
    "start_time": "2022-04-21T12:59:16.049Z"
   },
   {
    "duration": 9,
    "start_time": "2022-04-21T12:59:16.322Z"
   },
   {
    "duration": 259,
    "start_time": "2022-04-21T12:59:16.333Z"
   },
   {
    "duration": 167,
    "start_time": "2022-04-21T12:59:16.594Z"
   },
   {
    "duration": 9,
    "start_time": "2022-04-21T12:59:16.763Z"
   },
   {
    "duration": 122,
    "start_time": "2022-04-21T12:59:16.774Z"
   },
   {
    "duration": 203,
    "start_time": "2022-04-21T12:59:16.898Z"
   },
   {
    "duration": 20,
    "start_time": "2022-04-21T12:59:17.103Z"
   },
   {
    "duration": 16,
    "start_time": "2022-04-21T12:59:17.125Z"
   },
   {
    "duration": 4,
    "start_time": "2022-04-21T12:59:17.143Z"
   },
   {
    "duration": 21,
    "start_time": "2022-04-21T12:59:17.148Z"
   },
   {
    "duration": 70,
    "start_time": "2022-04-21T12:59:17.171Z"
   },
   {
    "duration": 37,
    "start_time": "2022-04-21T12:59:17.243Z"
   },
   {
    "duration": 114,
    "start_time": "2022-04-21T12:59:17.282Z"
   },
   {
    "duration": 296,
    "start_time": "2022-04-21T12:59:17.398Z"
   },
   {
    "duration": 387,
    "start_time": "2022-04-21T12:59:17.696Z"
   },
   {
    "duration": 12,
    "start_time": "2022-04-21T12:59:18.085Z"
   },
   {
    "duration": 27,
    "start_time": "2022-04-21T12:59:18.099Z"
   },
   {
    "duration": 218,
    "start_time": "2022-04-21T12:59:18.128Z"
   },
   {
    "duration": 15,
    "start_time": "2022-04-21T12:59:18.348Z"
   },
   {
    "duration": 110,
    "start_time": "2022-04-21T12:59:18.365Z"
   },
   {
    "duration": 499,
    "start_time": "2022-04-21T12:59:18.477Z"
   },
   {
    "duration": 9,
    "start_time": "2022-04-21T12:59:18.978Z"
   },
   {
    "duration": 9,
    "start_time": "2022-04-21T12:59:18.988Z"
   },
   {
    "duration": 27,
    "start_time": "2022-04-21T12:59:18.999Z"
   },
   {
    "duration": 221,
    "start_time": "2022-04-21T12:59:19.028Z"
   },
   {
    "duration": 109,
    "start_time": "2022-04-21T12:59:19.251Z"
   },
   {
    "duration": 191,
    "start_time": "2022-04-21T12:59:19.362Z"
   },
   {
    "duration": 380,
    "start_time": "2022-04-21T12:59:19.555Z"
   },
   {
    "duration": 210,
    "start_time": "2022-04-21T12:59:19.937Z"
   },
   {
    "duration": 154,
    "start_time": "2022-04-21T12:59:20.149Z"
   },
   {
    "duration": 169,
    "start_time": "2022-04-21T12:59:20.305Z"
   },
   {
    "duration": 189,
    "start_time": "2022-04-21T12:59:20.476Z"
   },
   {
    "duration": 24,
    "start_time": "2022-04-21T12:59:20.667Z"
   },
   {
    "duration": 40,
    "start_time": "2022-04-21T12:59:20.693Z"
   },
   {
    "duration": 173,
    "start_time": "2022-04-21T12:59:20.735Z"
   },
   {
    "duration": 14,
    "start_time": "2022-04-21T12:59:20.910Z"
   },
   {
    "duration": 219,
    "start_time": "2022-04-21T12:59:20.927Z"
   },
   {
    "duration": 205,
    "start_time": "2022-04-21T12:59:21.148Z"
   },
   {
    "duration": 184,
    "start_time": "2022-04-21T12:59:21.355Z"
   },
   {
    "duration": 169,
    "start_time": "2022-04-21T12:59:21.541Z"
   },
   {
    "duration": 182,
    "start_time": "2022-04-21T12:59:21.712Z"
   },
   {
    "duration": 186,
    "start_time": "2022-04-21T12:59:21.896Z"
   },
   {
    "duration": 159,
    "start_time": "2022-04-21T12:59:22.084Z"
   },
   {
    "duration": 233,
    "start_time": "2022-04-21T12:59:22.245Z"
   },
   {
    "duration": 231,
    "start_time": "2022-04-21T12:59:22.480Z"
   },
   {
    "duration": 232,
    "start_time": "2022-04-21T12:59:22.713Z"
   }
  ],
  "kernelspec": {
   "display_name": "Python 3 (ipykernel)",
   "language": "python",
   "name": "python3"
  },
  "language_info": {
   "codemirror_mode": {
    "name": "ipython",
    "version": 3
   },
   "file_extension": ".py",
   "mimetype": "text/x-python",
   "name": "python",
   "nbconvert_exporter": "python",
   "pygments_lexer": "ipython3",
   "version": "3.9.7"
  },
  "toc": {
   "base_numbering": 1,
   "nav_menu": {},
   "number_sections": true,
   "sideBar": true,
   "skip_h1_title": true,
   "title_cell": "Содержание",
   "title_sidebar": "Contents",
   "toc_cell": true,
   "toc_position": {
    "height": "calc(100% - 180px)",
    "left": "10px",
    "top": "150px",
    "width": "169px"
   },
   "toc_section_display": true,
   "toc_window_display": false
  }
 },
 "nbformat": 4,
 "nbformat_minor": 4
}
