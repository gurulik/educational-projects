{
 "cells": [
  {
   "cell_type": "markdown",
   "metadata": {},
   "source": [
    "# Protection of clients personal data"
   ]
  },
  {
   "cell_type": "markdown",
   "metadata": {},
   "source": [
    "We need to protect the data of the insurance company's customers. To do this, we will develop such a method of data transformation so that it would be difficult to recover personal information from them. We will justify the correctness of his work.\n",
    "\n",
    "It is necessary to protect the data so that the quality of machine learning models does not decrease during the conversion."
   ]
  },
  {
   "cell_type": "markdown",
   "metadata": {},
   "source": [
    "## Open data"
   ]
  },
  {
   "cell_type": "markdown",
   "metadata": {},
   "source": [
    "Import necessary libraries:"
   ]
  },
  {
   "cell_type": "code",
   "execution_count": 1,
   "metadata": {},
   "outputs": [],
   "source": [
    "import pandas as pd\n",
    "import numpy as np\n",
    "from sklearn.linear_model import LinearRegression\n",
    "from sklearn.metrics import r2_score\n",
    "import seaborn as sns\n",
    "import matplotlib.pyplot as plt"
   ]
  },
  {
   "cell_type": "code",
   "execution_count": 2,
   "metadata": {},
   "outputs": [],
   "source": [
    "df = pd.read_csv('/Users/a1/Desktop/data_folder/insurance.csv')"
   ]
  },
  {
   "cell_type": "code",
   "execution_count": 3,
   "metadata": {},
   "outputs": [
    {
     "name": "stdout",
     "output_type": "stream",
     "text": [
      "<class 'pandas.core.frame.DataFrame'>\n",
      "RangeIndex: 5000 entries, 0 to 4999\n",
      "Data columns (total 5 columns):\n",
      " #   Column             Non-Null Count  Dtype  \n",
      "---  ------             --------------  -----  \n",
      " 0   Пол                5000 non-null   int64  \n",
      " 1   Возраст            5000 non-null   float64\n",
      " 2   Зарплата           5000 non-null   float64\n",
      " 3   Члены семьи        5000 non-null   int64  \n",
      " 4   Страховые выплаты  5000 non-null   int64  \n",
      "dtypes: float64(2), int64(3)\n",
      "memory usage: 195.4 KB\n"
     ]
    }
   ],
   "source": [
    "df.info()"
   ]
  },
  {
   "cell_type": "code",
   "execution_count": 4,
   "metadata": {},
   "outputs": [
    {
     "data": {
      "text/plain": [
       "Пол                  0\n",
       "Возраст              0\n",
       "Зарплата             0\n",
       "Члены семьи          0\n",
       "Страховые выплаты    0\n",
       "dtype: int64"
      ]
     },
     "execution_count": 4,
     "metadata": {},
     "output_type": "execute_result"
    }
   ],
   "source": [
    "df.isna().sum()"
   ]
  },
  {
   "cell_type": "code",
   "execution_count": 5,
   "metadata": {},
   "outputs": [
    {
     "data": {
      "text/html": [
       "<div>\n",
       "<style scoped>\n",
       "    .dataframe tbody tr th:only-of-type {\n",
       "        vertical-align: middle;\n",
       "    }\n",
       "\n",
       "    .dataframe tbody tr th {\n",
       "        vertical-align: top;\n",
       "    }\n",
       "\n",
       "    .dataframe thead th {\n",
       "        text-align: right;\n",
       "    }\n",
       "</style>\n",
       "<table border=\"1\" class=\"dataframe\">\n",
       "  <thead>\n",
       "    <tr style=\"text-align: right;\">\n",
       "      <th></th>\n",
       "      <th>Пол</th>\n",
       "      <th>Возраст</th>\n",
       "      <th>Зарплата</th>\n",
       "      <th>Члены семьи</th>\n",
       "      <th>Страховые выплаты</th>\n",
       "    </tr>\n",
       "  </thead>\n",
       "  <tbody>\n",
       "    <tr>\n",
       "      <th>0</th>\n",
       "      <td>1</td>\n",
       "      <td>41.0</td>\n",
       "      <td>49600.0</td>\n",
       "      <td>1</td>\n",
       "      <td>0</td>\n",
       "    </tr>\n",
       "    <tr>\n",
       "      <th>1</th>\n",
       "      <td>0</td>\n",
       "      <td>46.0</td>\n",
       "      <td>38000.0</td>\n",
       "      <td>1</td>\n",
       "      <td>1</td>\n",
       "    </tr>\n",
       "    <tr>\n",
       "      <th>2</th>\n",
       "      <td>0</td>\n",
       "      <td>29.0</td>\n",
       "      <td>21000.0</td>\n",
       "      <td>0</td>\n",
       "      <td>0</td>\n",
       "    </tr>\n",
       "    <tr>\n",
       "      <th>3</th>\n",
       "      <td>0</td>\n",
       "      <td>21.0</td>\n",
       "      <td>41700.0</td>\n",
       "      <td>2</td>\n",
       "      <td>0</td>\n",
       "    </tr>\n",
       "    <tr>\n",
       "      <th>4</th>\n",
       "      <td>1</td>\n",
       "      <td>28.0</td>\n",
       "      <td>26100.0</td>\n",
       "      <td>0</td>\n",
       "      <td>0</td>\n",
       "    </tr>\n",
       "  </tbody>\n",
       "</table>\n",
       "</div>"
      ],
      "text/plain": [
       "   Пол  Возраст  Зарплата  Члены семьи  Страховые выплаты\n",
       "0    1     41.0   49600.0            1                  0\n",
       "1    0     46.0   38000.0            1                  1\n",
       "2    0     29.0   21000.0            0                  0\n",
       "3    0     21.0   41700.0            2                  0\n",
       "4    1     28.0   26100.0            0                  0"
      ]
     },
     "execution_count": 5,
     "metadata": {},
     "output_type": "execute_result"
    }
   ],
   "source": [
    "df.head()"
   ]
  },
  {
   "cell_type": "markdown",
   "metadata": {},
   "source": [
    "Primary data analysis showed that we need:\n",
    "* change the name of the columns."
   ]
  },
  {
   "cell_type": "code",
   "execution_count": 6,
   "metadata": {
    "scrolled": true
   },
   "outputs": [
    {
     "data": {
      "text/html": [
       "<div>\n",
       "<style scoped>\n",
       "    .dataframe tbody tr th:only-of-type {\n",
       "        vertical-align: middle;\n",
       "    }\n",
       "\n",
       "    .dataframe tbody tr th {\n",
       "        vertical-align: top;\n",
       "    }\n",
       "\n",
       "    .dataframe thead th {\n",
       "        text-align: right;\n",
       "    }\n",
       "</style>\n",
       "<table border=\"1\" class=\"dataframe\">\n",
       "  <thead>\n",
       "    <tr style=\"text-align: right;\">\n",
       "      <th></th>\n",
       "      <th>sex</th>\n",
       "      <th>age</th>\n",
       "      <th>salary</th>\n",
       "      <th>family_members</th>\n",
       "      <th>insurance_payment</th>\n",
       "    </tr>\n",
       "  </thead>\n",
       "  <tbody>\n",
       "    <tr>\n",
       "      <th>0</th>\n",
       "      <td>1</td>\n",
       "      <td>41.0</td>\n",
       "      <td>49600.0</td>\n",
       "      <td>1</td>\n",
       "      <td>0</td>\n",
       "    </tr>\n",
       "    <tr>\n",
       "      <th>1</th>\n",
       "      <td>0</td>\n",
       "      <td>46.0</td>\n",
       "      <td>38000.0</td>\n",
       "      <td>1</td>\n",
       "      <td>1</td>\n",
       "    </tr>\n",
       "    <tr>\n",
       "      <th>2</th>\n",
       "      <td>0</td>\n",
       "      <td>29.0</td>\n",
       "      <td>21000.0</td>\n",
       "      <td>0</td>\n",
       "      <td>0</td>\n",
       "    </tr>\n",
       "    <tr>\n",
       "      <th>3</th>\n",
       "      <td>0</td>\n",
       "      <td>21.0</td>\n",
       "      <td>41700.0</td>\n",
       "      <td>2</td>\n",
       "      <td>0</td>\n",
       "    </tr>\n",
       "    <tr>\n",
       "      <th>4</th>\n",
       "      <td>1</td>\n",
       "      <td>28.0</td>\n",
       "      <td>26100.0</td>\n",
       "      <td>0</td>\n",
       "      <td>0</td>\n",
       "    </tr>\n",
       "  </tbody>\n",
       "</table>\n",
       "</div>"
      ],
      "text/plain": [
       "   sex   age   salary  family_members  insurance_payment\n",
       "0    1  41.0  49600.0               1                  0\n",
       "1    0  46.0  38000.0               1                  1\n",
       "2    0  29.0  21000.0               0                  0\n",
       "3    0  21.0  41700.0               2                  0\n",
       "4    1  28.0  26100.0               0                  0"
      ]
     },
     "execution_count": 6,
     "metadata": {},
     "output_type": "execute_result"
    }
   ],
   "source": [
    "df.rename(columns = {'Пол' : 'sex', 'Возраст' : 'age', 'Зарплата': 'salary', 'Члены семьи': 'family_members', 'Страховые выплаты':'insurance_payment'}, inplace = True)\n",
    "df.head()"
   ]
  },
  {
   "cell_type": "markdown",
   "metadata": {},
   "source": [
    "Let's check the possibility of a quality-safe transformation of value types from float to int:"
   ]
  },
  {
   "cell_type": "code",
   "execution_count": 7,
   "metadata": {},
   "outputs": [
    {
     "data": {
      "text/plain": [
       "[<matplotlib.lines.Line2D at 0x7fcc065e7730>]"
      ]
     },
     "execution_count": 7,
     "metadata": {},
     "output_type": "execute_result"
    },
    {
     "data": {
      "image/png": "[encoded data removed]",
      "text/plain": [
       "<Figure size 432x288 with 1 Axes>"
      ]
     },
     "metadata": {
      "needs_background": "light"
     },
     "output_type": "display_data"
    }
   ],
   "source": [
    "age = df['age'].values % 1\n",
    "plt.plot(age)"
   ]
  },
  {
   "cell_type": "code",
   "execution_count": 8,
   "metadata": {},
   "outputs": [
    {
     "data": {
      "text/plain": [
       "array([0.00000000e+00, 0.00000000e+00, 0.00000000e+00, ...,\n",
       "       0.00000000e+00, 3.63797881e-12, 0.00000000e+00])"
      ]
     },
     "execution_count": 8,
     "metadata": {},
     "output_type": "execute_result"
    }
   ],
   "source": [
    "salary = df['salary'].values % 1\n",
    "salary"
   ]
  },
  {
   "cell_type": "code",
   "execution_count": 9,
   "metadata": {},
   "outputs": [
    {
     "data": {
      "text/plain": [
       "[<matplotlib.lines.Line2D at 0x7fcc07ab4130>]"
      ]
     },
     "execution_count": 9,
     "metadata": {},
     "output_type": "execute_result"
    },
    {
     "data": {
      "image/png": "[encoded data removed]",
      "text/plain": [
       "<Figure size 432x288 with 1 Axes>"
      ]
     },
     "metadata": {
      "needs_background": "light"
     },
     "output_type": "display_data"
    }
   ],
   "source": [
    "plt.plot(salary)"
   ]
  },
  {
   "cell_type": "markdown",
   "metadata": {},
   "source": [
    "Transform the type of values in the columns age and salary from float to int."
   ]
  },
  {
   "cell_type": "code",
   "execution_count": 10,
   "metadata": {},
   "outputs": [
    {
     "name": "stdout",
     "output_type": "stream",
     "text": [
      "<class 'pandas.core.frame.DataFrame'>\n",
      "RangeIndex: 5000 entries, 0 to 4999\n",
      "Data columns (total 5 columns):\n",
      " #   Column             Non-Null Count  Dtype\n",
      "---  ------             --------------  -----\n",
      " 0   sex                5000 non-null   int64\n",
      " 1   age                5000 non-null   int64\n",
      " 2   salary             5000 non-null   int64\n",
      " 3   family_members     5000 non-null   int64\n",
      " 4   insurance_payment  5000 non-null   int64\n",
      "dtypes: int64(5)\n",
      "memory usage: 195.4 KB\n"
     ]
    }
   ],
   "source": [
    "df['age'] = df['age'].astype(int)\n",
    "df['salary'] = df['salary'].astype(int)\n",
    "df.info()"
   ]
  },
  {
   "cell_type": "markdown",
   "metadata": {},
   "source": [
    "Let's study data through the function describe:"
   ]
  },
  {
   "cell_type": "code",
   "execution_count": 11,
   "metadata": {},
   "outputs": [
    {
     "data": {
      "text/html": [
       "<div>\n",
       "<style scoped>\n",
       "    .dataframe tbody tr th:only-of-type {\n",
       "        vertical-align: middle;\n",
       "    }\n",
       "\n",
       "    .dataframe tbody tr th {\n",
       "        vertical-align: top;\n",
       "    }\n",
       "\n",
       "    .dataframe thead th {\n",
       "        text-align: right;\n",
       "    }\n",
       "</style>\n",
       "<table border=\"1\" class=\"dataframe\">\n",
       "  <thead>\n",
       "    <tr style=\"text-align: right;\">\n",
       "      <th></th>\n",
       "      <th>sex</th>\n",
       "      <th>age</th>\n",
       "      <th>salary</th>\n",
       "      <th>family_members</th>\n",
       "      <th>insurance_payment</th>\n",
       "    </tr>\n",
       "  </thead>\n",
       "  <tbody>\n",
       "    <tr>\n",
       "      <th>count</th>\n",
       "      <td>5000.000000</td>\n",
       "      <td>5000.000000</td>\n",
       "      <td>5000.000000</td>\n",
       "      <td>5000.000000</td>\n",
       "      <td>5000.000000</td>\n",
       "    </tr>\n",
       "    <tr>\n",
       "      <th>mean</th>\n",
       "      <td>0.499000</td>\n",
       "      <td>30.952800</td>\n",
       "      <td>39916.359400</td>\n",
       "      <td>1.194200</td>\n",
       "      <td>0.148000</td>\n",
       "    </tr>\n",
       "    <tr>\n",
       "      <th>std</th>\n",
       "      <td>0.500049</td>\n",
       "      <td>8.440807</td>\n",
       "      <td>9900.082063</td>\n",
       "      <td>1.091387</td>\n",
       "      <td>0.463183</td>\n",
       "    </tr>\n",
       "    <tr>\n",
       "      <th>min</th>\n",
       "      <td>0.000000</td>\n",
       "      <td>18.000000</td>\n",
       "      <td>5300.000000</td>\n",
       "      <td>0.000000</td>\n",
       "      <td>0.000000</td>\n",
       "    </tr>\n",
       "    <tr>\n",
       "      <th>25%</th>\n",
       "      <td>0.000000</td>\n",
       "      <td>24.000000</td>\n",
       "      <td>33300.000000</td>\n",
       "      <td>0.000000</td>\n",
       "      <td>0.000000</td>\n",
       "    </tr>\n",
       "    <tr>\n",
       "      <th>50%</th>\n",
       "      <td>0.000000</td>\n",
       "      <td>30.000000</td>\n",
       "      <td>40200.000000</td>\n",
       "      <td>1.000000</td>\n",
       "      <td>0.000000</td>\n",
       "    </tr>\n",
       "    <tr>\n",
       "      <th>75%</th>\n",
       "      <td>1.000000</td>\n",
       "      <td>37.000000</td>\n",
       "      <td>46600.000000</td>\n",
       "      <td>2.000000</td>\n",
       "      <td>0.000000</td>\n",
       "    </tr>\n",
       "    <tr>\n",
       "      <th>max</th>\n",
       "      <td>1.000000</td>\n",
       "      <td>65.000000</td>\n",
       "      <td>79000.000000</td>\n",
       "      <td>6.000000</td>\n",
       "      <td>5.000000</td>\n",
       "    </tr>\n",
       "  </tbody>\n",
       "</table>\n",
       "</div>"
      ],
      "text/plain": [
       "               sex          age        salary  family_members  \\\n",
       "count  5000.000000  5000.000000   5000.000000     5000.000000   \n",
       "mean      0.499000    30.952800  39916.359400        1.194200   \n",
       "std       0.500049     8.440807   9900.082063        1.091387   \n",
       "min       0.000000    18.000000   5300.000000        0.000000   \n",
       "25%       0.000000    24.000000  33300.000000        0.000000   \n",
       "50%       0.000000    30.000000  40200.000000        1.000000   \n",
       "75%       1.000000    37.000000  46600.000000        2.000000   \n",
       "max       1.000000    65.000000  79000.000000        6.000000   \n",
       "\n",
       "       insurance_payment  \n",
       "count        5000.000000  \n",
       "mean            0.148000  \n",
       "std             0.463183  \n",
       "min             0.000000  \n",
       "25%             0.000000  \n",
       "50%             0.000000  \n",
       "75%             0.000000  \n",
       "max             5.000000  "
      ]
     },
     "execution_count": 11,
     "metadata": {},
     "output_type": "execute_result"
    }
   ],
   "source": [
    "df.describe()"
   ]
  },
  {
   "cell_type": "markdown",
   "metadata": {},
   "source": [
    "Check the values correlation:"
   ]
  },
  {
   "cell_type": "code",
   "execution_count": 12,
   "metadata": {},
   "outputs": [
    {
     "data": {
      "text/plain": [
       "<AxesSubplot:>"
      ]
     },
     "execution_count": 12,
     "metadata": {},
     "output_type": "execute_result"
    },
    {
     "data": {
      "image/png": "[encoded data removed]",
      "text/plain": [
       "<Figure size 432x288 with 2 Axes>"
      ]
     },
     "metadata": {
      "needs_background": "light"
     },
     "output_type": "display_data"
    }
   ],
   "source": [
    "sns.heatmap(df.corr(), annot = True) "
   ]
  },
  {
   "cell_type": "markdown",
   "metadata": {},
   "source": [
    "The correlation between the features is weak, the data are distributed normally."
   ]
  },
  {
   "cell_type": "markdown",
   "metadata": {},
   "source": [
    "Let's devide the dataframe to features and target:"
   ]
  },
  {
   "cell_type": "code",
   "execution_count": 13,
   "metadata": {},
   "outputs": [],
   "source": [
    "target = df['insurance_payment']\n",
    "features = df.drop('insurance_payment', axis=1)"
   ]
  },
  {
   "cell_type": "markdown",
   "metadata": {},
   "source": [
    "## Matrix multiplication"
   ]
  },
  {
   "cell_type": "markdown",
   "metadata": {},
   "source": [
    "- $X$ — features matrix (null column consist of 1 values)\n",
    "\n",
    "- $y$ — vector of the target feature\n",
    "\n",
    "- $P$ — the matrix by which the features are multiplied\n",
    "\n",
    "- $w$ — linear regression weight vector (zero element equals shift)"
   ]
  },
  {
   "cell_type": "markdown",
   "metadata": {},
   "source": [
    "Predictions:\n",
    "\n",
    "$$\n",
    "a = Xw\n",
    "$$\n",
    "\n",
    "Training task:\n",
    "\n",
    "$$\n",
    "w = \\arg\\min_w MSE(Xw, y)\n",
    "$$\n",
    "\n",
    "Training formula:\n",
    "\n",
    "$$\n",
    "w = (X^T X)^{-1} X^T y\n",
    "$$"
   ]
  },
  {
   "cell_type": "markdown",
   "metadata": {},
   "source": [
    "### **Question:** \n",
    "The features are multiplied by a reversible matrix. Will the quality of linear regression change? (It can be re-trained)\n",
    "- a. It will change. Provide matrix examples.\n",
    "- b. It won't change. Specify how the linear regression parameters are related in the original problem and in the transformed one."
   ]
  },
  {
   "cell_type": "markdown",
   "metadata": {},
   "source": [
    "### Investigation of the question:"
   ]
  },
  {
   "cell_type": "markdown",
   "metadata": {},
   "source": [
    "Let's name as P - an invertible matrix to the matrix X."
   ]
  },
  {
   "cell_type": "markdown",
   "metadata": {},
   "source": [
    "#### Check the training formula:"
   ]
  },
  {
   "cell_type": "markdown",
   "metadata": {},
   "source": [
    "$$\n",
    "w' = (X^T X)^{-1} X^T y = ((XP)^T XP)^{-1} (XP)^T y = \n",
    "$$\n",
    "\n",
    "$$\n",
    "= (P^T (X^T X) P)^{-1} P^T X^T y =\n",
    "$$\n",
    "\n",
    "$$\n",
    "= P^{-1} (P^T (X^T X))^{-1} P^T X^T y =\n",
    "$$\n",
    "\n",
    "$$\n",
    "= ((X^T X) P)^{-1} (P^T)^{-1} P^T X^T y =\n",
    "$$\n",
    "\n",
    "$$\n",
    "= P^{-1} (X^T X)^{-1} (P^T)^{-1} P^T X^T y = \n",
    "$$\n",
    "\n",
    "and since the Identity matrix is\n",
    "$$\n",
    "AA^{-1} = A^{-1}A = E     \n",
    "$$\n",
    "\n",
    "то \n",
    "\n",
    "$$\n",
    "w' = P^{-1} (X^T X)^{-1}  E X^T y =\n",
    "$$\n",
    "\n",
    "$$\n",
    "= P^{-1} E w = w'\n",
    "$$\n",
    "\n",
    "because of \n",
    "\n",
    "$$\n",
    "w = (X^T X)^{-1} X^T y\n",
    "$$  "
   ]
  },
  {
   "cell_type": "markdown",
   "metadata": {},
   "source": [
    "#### Check the prediction formula: "
   ]
  },
  {
   "cell_type": "markdown",
   "metadata": {},
   "source": [
    "$$\n",
    "a' = XP (P)^{-1} w \n",
    "$$\n",
    "\n",
    "$$\n",
    "a' = XE w = Xw = a\n",
    "$$"
   ]
  },
  {
   "cell_type": "markdown",
   "metadata": {},
   "source": [
    "### **Answer:** \n",
    "The quality of linear regression will not change if the features are multiplied by an invertible matrix"
   ]
  },
  {
   "cell_type": "markdown",
   "metadata": {},
   "source": [
    "## Conversion algorithm"
   ]
  },
  {
   "cell_type": "markdown",
   "metadata": {},
   "source": [
    "**Algorithm**\n",
    "\n",
    "Thus, the conversion algorithm consists of the following steps:\n",
    "\n",
    "* 1) generating a random square matrix in size equal to the number of features - this will be the encryption key;\n",
    "\n",
    "* 2) checking it for reversibility;\n",
    "\n",
    "* 3) multiplication of features by a random square matrix in size equal to the number of features (per encryption key);\n",
    "\n",
    "* 4) by restoring features by multiplying the result of step #3 by the inverse matrix of a random square matrix."
   ]
  },
  {
   "cell_type": "markdown",
   "metadata": {},
   "source": [
    "**Explanation**\n",
    "\n",
    "This algorithm is correct because the quality of linear regression will not change and, if necessary, the features can be restored to their original state."
   ]
  },
  {
   "cell_type": "markdown",
   "metadata": {},
   "source": [
    "## Checking the algorithm"
   ]
  },
  {
   "cell_type": "markdown",
   "metadata": {},
   "source": [
    "Let's check the quality of linear regression on the features before multiplying them by an invertible matrix. "
   ]
  },
  {
   "cell_type": "code",
   "execution_count": 14,
   "metadata": {},
   "outputs": [
    {
     "name": "stdout",
     "output_type": "stream",
     "text": [
      "r2: 0.42494550308169177\n"
     ]
    }
   ],
   "source": [
    "model = LinearRegression().fit(features, target)\n",
    "predictions = model.predict(features)\n",
    "print('r2:', r2_score(target, predictions))"
   ]
  },
  {
   "cell_type": "markdown",
   "metadata": {},
   "source": [
    "Generate a random square matrix in size equal to the number of features:"
   ]
  },
  {
   "cell_type": "code",
   "execution_count": 15,
   "metadata": {},
   "outputs": [
    {
     "data": {
      "text/plain": [
       "array([[ 1.05999745, -0.08367543, -1.30514872, -0.64843058],\n",
       "       [ 1.38140356, -1.23208579,  0.64430556, -0.58693686],\n",
       "       [-0.47743721,  0.57834229, -0.7589017 ,  2.21838456],\n",
       "       [-0.72246874, -0.7390787 , -0.2769839 , -0.23841417]])"
      ]
     },
     "execution_count": 15,
     "metadata": {},
     "output_type": "execute_result"
    }
   ],
   "source": [
    "random_sqrt_matrix = np.random.normal(size = (4,4))\n",
    "random_sqrt_matrix"
   ]
  },
  {
   "cell_type": "markdown",
   "metadata": {},
   "source": [
    "Let's check it for reversibility:"
   ]
  },
  {
   "cell_type": "code",
   "execution_count": 16,
   "metadata": {},
   "outputs": [
    {
     "data": {
      "text/plain": [
       "array([[ 0.21379984,  0.33114617,  0.09627388, -0.50090881],\n",
       "       [ 0.0332372 , -0.47032737, -0.19246231, -0.72334186],\n",
       "       [-0.5241553 ,  0.17331521, -0.14415107, -0.3423843 ],\n",
       "       [-0.14196313,  0.25317563,  0.47236054, -0.03635499]])"
      ]
     },
     "execution_count": 16,
     "metadata": {},
     "output_type": "execute_result"
    }
   ],
   "source": [
    "invert_random_sqrt_matrix = np.linalg.inv(random_sqrt_matrix)\n",
    "invert_random_sqrt_matrix"
   ]
  },
  {
   "cell_type": "markdown",
   "metadata": {},
   "source": [
    "Let's check the quality of the model on encrypted data:"
   ]
  },
  {
   "cell_type": "code",
   "execution_count": 17,
   "metadata": {},
   "outputs": [
    {
     "data": {
      "text/plain": [
       "array([[-23623.91044691,  28634.43906473, -37616.68984179,\n",
       "        110006.9228061 ],\n",
       "       [-18079.79181269,  21919.59180513, -28808.90346467,\n",
       "         84271.37568296],\n",
       "       [ -9986.12066682,  12109.45749718, -15918.25080369,\n",
       "         46569.0545428 ],\n",
       "       ...,\n",
       "       [-16158.93822072,  19579.68358849, -25714.43542994,\n",
       "         75191.02094064],\n",
       "       [-15582.91323519,  18882.38592077, -24804.04691346,\n",
       "         72526.89875291],\n",
       "       [-19344.9338203 ,  23445.37561496, -30794.9505291 ,\n",
       "         90049.09196597]])"
      ]
     },
     "execution_count": 17,
     "metadata": {},
     "output_type": "execute_result"
    }
   ],
   "source": [
    "new_features = features.values @ random_sqrt_matrix\n",
    "new_features"
   ]
  },
  {
   "cell_type": "code",
   "execution_count": 18,
   "metadata": {},
   "outputs": [
    {
     "name": "stdout",
     "output_type": "stream",
     "text": [
      "r2: 0.42494550308169743\n"
     ]
    }
   ],
   "source": [
    "model = LinearRegression().fit(new_features, target)\n",
    "predictions = model.predict(new_features)\n",
    "print('r2:', r2_score(target, predictions))"
   ]
  },
  {
   "cell_type": "markdown",
   "metadata": {},
   "source": [
    "Let's restore the features to check the quality of the model:"
   ]
  },
  {
   "cell_type": "code",
   "execution_count": 19,
   "metadata": {},
   "outputs": [
    {
     "data": {
      "text/plain": [
       "array([[ 1.0000000e+00,  4.1000000e+01,  4.9600000e+04,  1.0000000e+00],\n",
       "       [ 0.0000000e+00,  4.6000000e+01,  3.8000000e+04,  1.0000000e+00],\n",
       "       [ 0.0000000e+00,  2.9000000e+01,  2.1000000e+04, -1.8189894e-12],\n",
       "       ...,\n",
       "       [ 0.0000000e+00,  2.0000000e+01,  3.3900000e+04,  2.0000000e+00],\n",
       "       [ 1.0000000e+00,  2.2000000e+01,  3.2700000e+04,  3.0000000e+00],\n",
       "       [ 1.0000000e+00,  2.8000000e+01,  4.0600000e+04,  1.0000000e+00]])"
      ]
     },
     "execution_count": 19,
     "metadata": {},
     "output_type": "execute_result"
    }
   ],
   "source": [
    "features_restored = new_features @ invert_random_sqrt_matrix\n",
    "features_restored"
   ]
  },
  {
   "cell_type": "code",
   "execution_count": 20,
   "metadata": {},
   "outputs": [
    {
     "name": "stdout",
     "output_type": "stream",
     "text": [
      "r2: 0.4249455030816983\n"
     ]
    }
   ],
   "source": [
    "model = LinearRegression().fit(features_restored, target)\n",
    "predictions = model.predict(features_restored)\n",
    "print('r2:', r2_score(target, predictions))"
   ]
  },
  {
   "cell_type": "markdown",
   "metadata": {},
   "source": [
    "## Conclusion:"
   ]
  },
  {
   "cell_type": "markdown",
   "metadata": {},
   "source": [
    "As a result of this study, the data provided were examined for their correctness, deficiencies in these data were eliminated. Further, a mathematical confirmation of the correctness of the statement was proposed that when multiplying features by an invertible matrix, the quality of the regression lines does not change.\n",
    "\n",
    "The following data encryption algorithm was proposed:\n",
    "* 1) generating a random square matrix in size equal to the number of features - this will be the encryption key;\n",
    "\n",
    "* 2) checking it for reversibility;\n",
    "\n",
    "* 3) multiplication of features by a random square matrix in size equal to the number of features (per encryption key);\n",
    "\n",
    "* 4) by restoring features by multiplying the result of step #3 by the inverse matrix of a random square matrix.\n",
    "\n",
    "The algorithm has been tested, its operation is correct."
   ]
  }
 ],
 "metadata": {
  "ExecuteTimeLog": [
   {
    "duration": 349,
    "start_time": "2022-09-21T14:34:25.075Z"
   },
   {
    "duration": 2,
    "start_time": "2022-09-21T14:34:35.476Z"
   },
   {
    "duration": 78,
    "start_time": "2022-09-21T14:36:26.965Z"
   },
   {
    "duration": 11,
    "start_time": "2022-09-21T14:37:17.167Z"
   },
   {
    "duration": 9,
    "start_time": "2022-09-21T14:39:05.554Z"
   },
   {
    "duration": 7,
    "start_time": "2022-09-21T14:39:33.978Z"
   },
   {
    "duration": 10,
    "start_time": "2022-09-21T14:40:06.500Z"
   },
   {
    "duration": 2,
    "start_time": "2022-09-21T14:42:24.455Z"
   },
   {
    "duration": 9,
    "start_time": "2022-09-21T14:45:27.511Z"
   },
   {
    "duration": 3,
    "start_time": "2022-09-21T14:49:26.349Z"
   },
   {
    "duration": 2,
    "start_time": "2022-09-21T14:49:57.584Z"
   },
   {
    "duration": 10,
    "start_time": "2022-09-21T14:55:27.599Z"
   },
   {
    "duration": 10,
    "start_time": "2022-09-21T14:55:53.362Z"
   },
   {
    "duration": 6,
    "start_time": "2022-09-21T14:58:28.769Z"
   },
   {
    "duration": 2,
    "start_time": "2022-09-21T16:01:02.785Z"
   },
   {
    "duration": 46,
    "start_time": "2022-09-21T16:01:02.789Z"
   },
   {
    "duration": 27,
    "start_time": "2022-09-21T16:01:02.837Z"
   },
   {
    "duration": 28,
    "start_time": "2022-09-21T16:01:02.866Z"
   },
   {
    "duration": 21,
    "start_time": "2022-09-21T16:01:02.896Z"
   },
   {
    "duration": 45,
    "start_time": "2022-09-21T16:01:02.919Z"
   },
   {
    "duration": 21,
    "start_time": "2022-09-21T16:01:02.965Z"
   },
   {
    "duration": 36,
    "start_time": "2022-09-21T16:01:02.988Z"
   },
   {
    "duration": 24,
    "start_time": "2022-09-21T16:01:03.026Z"
   },
   {
    "duration": 4,
    "start_time": "2022-09-21T16:11:36.844Z"
   },
   {
    "duration": 57,
    "start_time": "2022-09-21T16:14:51.069Z"
   },
   {
    "duration": 366,
    "start_time": "2022-09-21T16:29:12.642Z"
   },
   {
    "duration": 29,
    "start_time": "2022-09-21T16:29:13.010Z"
   },
   {
    "duration": 10,
    "start_time": "2022-09-21T16:29:13.041Z"
   },
   {
    "duration": 14,
    "start_time": "2022-09-21T16:29:13.052Z"
   },
   {
    "duration": 5,
    "start_time": "2022-09-21T16:29:13.068Z"
   },
   {
    "duration": 11,
    "start_time": "2022-09-21T16:29:13.074Z"
   },
   {
    "duration": 8,
    "start_time": "2022-09-21T16:29:13.087Z"
   },
   {
    "duration": 28,
    "start_time": "2022-09-21T16:29:13.096Z"
   },
   {
    "duration": 4,
    "start_time": "2022-09-21T16:41:28.854Z"
   },
   {
    "duration": 4,
    "start_time": "2022-09-21T16:41:39.211Z"
   },
   {
    "duration": 6,
    "start_time": "2022-09-21T16:44:38.861Z"
   },
   {
    "duration": 60,
    "start_time": "2022-09-21T16:48:20.079Z"
   },
   {
    "duration": 7,
    "start_time": "2022-09-21T16:48:31.912Z"
   },
   {
    "duration": 4,
    "start_time": "2022-09-21T16:48:42.141Z"
   },
   {
    "duration": 655,
    "start_time": "2022-09-21T16:54:52.333Z"
   },
   {
    "duration": 1017,
    "start_time": "2022-09-21T16:55:35.932Z"
   },
   {
    "duration": 29,
    "start_time": "2022-09-21T16:55:36.951Z"
   },
   {
    "duration": 13,
    "start_time": "2022-09-21T16:55:36.981Z"
   },
   {
    "duration": 11,
    "start_time": "2022-09-21T16:55:36.996Z"
   },
   {
    "duration": 6,
    "start_time": "2022-09-21T16:55:37.009Z"
   },
   {
    "duration": 13,
    "start_time": "2022-09-21T16:55:37.021Z"
   },
   {
    "duration": 10,
    "start_time": "2022-09-21T16:55:37.035Z"
   },
   {
    "duration": 8,
    "start_time": "2022-09-21T16:55:37.047Z"
   },
   {
    "duration": 11,
    "start_time": "2022-09-21T17:01:55.839Z"
   },
   {
    "duration": 4,
    "start_time": "2022-09-21T17:02:16.157Z"
   },
   {
    "duration": 5,
    "start_time": "2022-09-21T17:02:21.737Z"
   },
   {
    "duration": 5,
    "start_time": "2022-09-21T17:02:25.208Z"
   },
   {
    "duration": 266,
    "start_time": "2022-09-21T17:08:29.326Z"
   },
   {
    "duration": 1067,
    "start_time": "2022-09-21T17:10:26.600Z"
   },
   {
    "duration": 28,
    "start_time": "2022-09-21T17:10:27.669Z"
   },
   {
    "duration": 11,
    "start_time": "2022-09-21T17:10:27.698Z"
   },
   {
    "duration": 10,
    "start_time": "2022-09-21T17:10:27.711Z"
   },
   {
    "duration": 4,
    "start_time": "2022-09-21T17:10:27.724Z"
   },
   {
    "duration": 10,
    "start_time": "2022-09-21T17:10:27.730Z"
   },
   {
    "duration": 8,
    "start_time": "2022-09-21T17:10:27.742Z"
   },
   {
    "duration": 4,
    "start_time": "2022-09-21T17:10:27.752Z"
   },
   {
    "duration": 69,
    "start_time": "2022-09-21T17:10:27.758Z"
   },
   {
    "duration": 97,
    "start_time": "2022-09-21T17:10:27.829Z"
   },
   {
    "duration": 6,
    "start_time": "2022-09-21T17:10:27.928Z"
   },
   {
    "duration": 10,
    "start_time": "2022-09-21T17:10:27.935Z"
   },
   {
    "duration": 4,
    "start_time": "2022-09-21T17:19:55.427Z"
   },
   {
    "duration": 88,
    "start_time": "2022-09-21T17:22:07.228Z"
   },
   {
    "duration": 7,
    "start_time": "2022-09-21T17:22:29.440Z"
   },
   {
    "duration": 9,
    "start_time": "2022-09-21T19:16:05.280Z"
   },
   {
    "duration": 4,
    "start_time": "2022-09-21T19:16:55.156Z"
   },
   {
    "duration": 5,
    "start_time": "2022-09-21T19:17:45.882Z"
   },
   {
    "duration": 5,
    "start_time": "2022-09-21T19:18:13.139Z"
   },
   {
    "duration": 6,
    "start_time": "2022-09-21T19:18:55.452Z"
   },
   {
    "duration": 30,
    "start_time": "2022-09-21T19:19:15.410Z"
   },
   {
    "duration": 1017,
    "start_time": "2022-09-21T19:19:39.766Z"
   },
   {
    "duration": 30,
    "start_time": "2022-09-21T19:19:40.785Z"
   },
   {
    "duration": 16,
    "start_time": "2022-09-21T19:19:40.816Z"
   },
   {
    "duration": 16,
    "start_time": "2022-09-21T19:19:40.835Z"
   },
   {
    "duration": 13,
    "start_time": "2022-09-21T19:19:40.853Z"
   },
   {
    "duration": 9,
    "start_time": "2022-09-21T19:19:40.868Z"
   },
   {
    "duration": 5,
    "start_time": "2022-09-21T19:19:40.878Z"
   },
   {
    "duration": 141,
    "start_time": "2022-09-21T19:19:40.885Z"
   },
   {
    "duration": 14,
    "start_time": "2022-09-21T19:19:41.029Z"
   },
   {
    "duration": 11,
    "start_time": "2022-09-21T19:19:41.045Z"
   },
   {
    "duration": 95,
    "start_time": "2022-09-21T19:19:41.059Z"
   },
   {
    "duration": 85,
    "start_time": "2022-09-21T19:19:41.156Z"
   },
   {
    "duration": 86,
    "start_time": "2022-09-21T19:19:41.244Z"
   },
   {
    "duration": 97,
    "start_time": "2022-09-22T21:02:50.545Z"
   },
   {
    "duration": 1172,
    "start_time": "2022-09-22T21:08:12.984Z"
   },
   {
    "duration": 85,
    "start_time": "2022-09-22T21:08:14.158Z"
   },
   {
    "duration": 13,
    "start_time": "2022-09-22T21:08:14.245Z"
   },
   {
    "duration": 14,
    "start_time": "2022-09-22T21:08:14.260Z"
   },
   {
    "duration": 16,
    "start_time": "2022-09-22T21:08:14.277Z"
   },
   {
    "duration": 11,
    "start_time": "2022-09-22T21:08:14.295Z"
   },
   {
    "duration": 7,
    "start_time": "2022-09-22T21:08:14.308Z"
   },
   {
    "duration": 75,
    "start_time": "2022-09-22T21:08:14.316Z"
   },
   {
    "duration": 7,
    "start_time": "2022-09-22T21:08:14.393Z"
   },
   {
    "duration": 99,
    "start_time": "2022-09-22T21:08:14.402Z"
   },
   {
    "duration": 88,
    "start_time": "2022-09-22T21:08:14.503Z"
   },
   {
    "duration": 17,
    "start_time": "2022-09-22T21:08:14.593Z"
   },
   {
    "duration": 95,
    "start_time": "2022-09-22T21:08:14.612Z"
   },
   {
    "duration": 82,
    "start_time": "2022-09-25T09:50:23.999Z"
   },
   {
    "duration": 71,
    "start_time": "2022-09-25T09:53:13.929Z"
   },
   {
    "duration": 41,
    "start_time": "2022-09-25T10:10:36.157Z"
   },
   {
    "duration": 1167,
    "start_time": "2022-09-25T10:10:51.578Z"
   },
   {
    "duration": 122,
    "start_time": "2022-09-25T10:10:52.747Z"
   },
   {
    "duration": 13,
    "start_time": "2022-09-25T10:10:52.871Z"
   },
   {
    "duration": 12,
    "start_time": "2022-09-25T10:10:52.886Z"
   },
   {
    "duration": 15,
    "start_time": "2022-09-25T10:10:52.900Z"
   },
   {
    "duration": 9,
    "start_time": "2022-09-25T10:10:52.916Z"
   },
   {
    "duration": 8,
    "start_time": "2022-09-25T10:10:52.927Z"
   },
   {
    "duration": 61,
    "start_time": "2022-09-25T10:10:52.936Z"
   },
   {
    "duration": 103,
    "start_time": "2022-09-25T10:10:52.998Z"
   },
   {
    "duration": 6,
    "start_time": "2022-09-25T10:10:53.103Z"
   },
   {
    "duration": 76,
    "start_time": "2022-09-25T10:10:57.883Z"
   },
   {
    "duration": 3,
    "start_time": "2022-09-25T10:13:24.649Z"
   },
   {
    "duration": 34,
    "start_time": "2022-09-25T10:13:24.654Z"
   },
   {
    "duration": 12,
    "start_time": "2022-09-25T10:13:24.690Z"
   },
   {
    "duration": 6,
    "start_time": "2022-09-25T10:13:24.705Z"
   },
   {
    "duration": 10,
    "start_time": "2022-09-25T10:13:24.713Z"
   },
   {
    "duration": 10,
    "start_time": "2022-09-25T10:13:24.725Z"
   },
   {
    "duration": 6,
    "start_time": "2022-09-25T10:13:24.737Z"
   },
   {
    "duration": 53,
    "start_time": "2022-09-25T10:13:24.744Z"
   },
   {
    "duration": 99,
    "start_time": "2022-09-25T10:13:24.799Z"
   },
   {
    "duration": 7,
    "start_time": "2022-09-25T10:13:24.899Z"
   },
   {
    "duration": 11,
    "start_time": "2022-09-25T10:13:24.908Z"
   },
   {
    "duration": 7,
    "start_time": "2022-09-25T10:13:24.996Z"
   },
   {
    "duration": 99,
    "start_time": "2022-09-25T10:13:25.004Z"
   },
   {
    "duration": 102,
    "start_time": "2022-09-25T10:13:25.104Z"
   },
   {
    "duration": 87,
    "start_time": "2022-09-25T10:15:11.233Z"
   },
   {
    "duration": 77,
    "start_time": "2022-09-25T10:16:55.522Z"
   },
   {
    "duration": 24,
    "start_time": "2022-09-25T10:25:37.361Z"
   },
   {
    "duration": 494,
    "start_time": "2022-09-25T10:31:42.360Z"
   },
   {
    "duration": 498,
    "start_time": "2022-09-25T10:31:56.460Z"
   },
   {
    "duration": 73,
    "start_time": "2022-09-25T10:59:10.177Z"
   },
   {
    "duration": 5,
    "start_time": "2022-09-25T11:15:07.668Z"
   },
   {
    "duration": 4,
    "start_time": "2022-09-25T11:15:53.927Z"
   },
   {
    "duration": 24,
    "start_time": "2022-09-25T11:16:21.841Z"
   },
   {
    "duration": 10,
    "start_time": "2022-09-25T11:18:45.200Z"
   },
   {
    "duration": 5,
    "start_time": "2022-09-25T11:19:08.433Z"
   },
   {
    "duration": 9,
    "start_time": "2022-09-25T11:19:36.436Z"
   },
   {
    "duration": 10,
    "start_time": "2022-09-25T11:22:30.161Z"
   },
   {
    "duration": 108,
    "start_time": "2022-09-25T11:22:55.316Z"
   },
   {
    "duration": 101,
    "start_time": "2022-09-25T11:23:11.327Z"
   },
   {
    "duration": 194,
    "start_time": "2022-09-25T11:24:14.760Z"
   },
   {
    "duration": 3,
    "start_time": "2022-09-25T11:24:44.401Z"
   },
   {
    "duration": 5,
    "start_time": "2022-09-25T11:24:55.543Z"
   },
   {
    "duration": 113,
    "start_time": "2022-09-25T11:25:09.372Z"
   },
   {
    "duration": 12,
    "start_time": "2022-09-25T11:27:14.008Z"
   },
   {
    "duration": 10,
    "start_time": "2022-09-25T11:28:28.577Z"
   },
   {
    "duration": 9,
    "start_time": "2022-09-25T11:30:52.950Z"
   },
   {
    "duration": 12,
    "start_time": "2022-09-25T11:31:35.178Z"
   },
   {
    "duration": 1467,
    "start_time": "2022-09-25T11:31:55.359Z"
   },
   {
    "duration": 30,
    "start_time": "2022-09-25T11:31:56.829Z"
   },
   {
    "duration": 14,
    "start_time": "2022-09-25T11:31:56.862Z"
   },
   {
    "duration": 8,
    "start_time": "2022-09-25T11:31:56.878Z"
   },
   {
    "duration": 16,
    "start_time": "2022-09-25T11:31:56.887Z"
   },
   {
    "duration": 10,
    "start_time": "2022-09-25T11:31:56.904Z"
   },
   {
    "duration": 134,
    "start_time": "2022-09-25T11:31:56.915Z"
   },
   {
    "duration": 5,
    "start_time": "2022-09-25T11:31:57.051Z"
   },
   {
    "duration": 125,
    "start_time": "2022-09-25T11:31:57.057Z"
   },
   {
    "duration": 20,
    "start_time": "2022-09-25T11:31:57.185Z"
   },
   {
    "duration": 26,
    "start_time": "2022-09-25T11:31:57.207Z"
   },
   {
    "duration": 365,
    "start_time": "2022-09-25T11:31:57.235Z"
   },
   {
    "duration": 4,
    "start_time": "2022-09-25T11:31:57.602Z"
   },
   {
    "duration": 95,
    "start_time": "2022-09-25T11:31:57.607Z"
   },
   {
    "duration": 5,
    "start_time": "2022-09-25T11:31:57.704Z"
   },
   {
    "duration": 88,
    "start_time": "2022-09-25T11:31:57.711Z"
   },
   {
    "duration": 9,
    "start_time": "2022-09-25T11:31:57.801Z"
   },
   {
    "duration": 90,
    "start_time": "2022-09-25T11:31:57.812Z"
   },
   {
    "duration": 190,
    "start_time": "2022-09-25T11:31:57.905Z"
   },
   {
    "duration": 8,
    "start_time": "2022-09-25T11:31:58.098Z"
   },
   {
    "duration": 50,
    "start_time": "2022-09-26T12:26:10.032Z"
   },
   {
    "duration": 1624,
    "start_time": "2022-09-26T12:26:21.832Z"
   },
   {
    "duration": 99,
    "start_time": "2022-09-26T12:26:23.458Z"
   },
   {
    "duration": 13,
    "start_time": "2022-09-26T12:26:23.559Z"
   },
   {
    "duration": 11,
    "start_time": "2022-09-26T12:26:23.574Z"
   },
   {
    "duration": 13,
    "start_time": "2022-09-26T12:26:23.587Z"
   },
   {
    "duration": 11,
    "start_time": "2022-09-26T12:26:23.602Z"
   },
   {
    "duration": 156,
    "start_time": "2022-09-26T12:26:23.615Z"
   },
   {
    "duration": 5,
    "start_time": "2022-09-26T12:26:23.772Z"
   },
   {
    "duration": 130,
    "start_time": "2022-09-26T12:26:23.779Z"
   },
   {
    "duration": 13,
    "start_time": "2022-09-26T12:26:27.642Z"
   },
   {
    "duration": 13,
    "start_time": "2022-09-26T12:29:02.891Z"
   },
   {
    "duration": 177,
    "start_time": "2022-09-26T13:12:33.854Z"
   }
  ],
  "kernelspec": {
   "display_name": "Python 3 (ipykernel)",
   "language": "python",
   "name": "python3"
  },
  "language_info": {
   "codemirror_mode": {
    "name": "ipython",
    "version": 3
   },
   "file_extension": ".py",
   "mimetype": "text/x-python",
   "name": "python",
   "nbconvert_exporter": "python",
   "pygments_lexer": "ipython3",
   "version": "3.9.7"
  },
  "toc": {
   "base_numbering": 1,
   "nav_menu": {},
   "number_sections": true,
   "sideBar": true,
   "skip_h1_title": true,
   "title_cell": "Содержание",
   "title_sidebar": "Contents",
   "toc_cell": true,
   "toc_position": {
    "height": "calc(100% - 180px)",
    "left": "10px",
    "top": "150px",
    "width": "202.188px"
   },
   "toc_section_display": true,
   "toc_window_display": true
  }
 },
 "nbformat": 4,
 "nbformat_minor": 2
}
