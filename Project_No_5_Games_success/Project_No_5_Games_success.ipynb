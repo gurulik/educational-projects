{
 "cells": [
  {
   "cell_type": "markdown",
   "metadata": {},
   "source": [
    "# Project \"The research of games success\""
   ]
  },
  {
   "cell_type": "markdown",
   "metadata": {},
   "source": [
    "Historical data on game sales, user and expert ratings, genres and platforms (for example, Xbox or PlayStation) up to 2016 are available from open sources. It is necessary to identify patterns that determine the success of the game. This will allow you to identify a potentially popular product and plan advertising campaigns for the online store for 2017.\n",
    "The data set contains the abbreviation ESRB (Entertainment Software Rating Board), an association that determines the age rating of computer games. ESRB evaluates game content and assigns it a suitable age category, for example, \"For adults\", \"For younger children\" or \"For teenagers\"."
   ]
  },
  {
   "cell_type": "markdown",
   "metadata": {},
   "source": [
    "Data description\n",
    "* Name — the name of the game\n",
    "* Platform — platform\n",
    "* Year_of_Release — year of release\n",
    "* Genre — the genre of the game\n",
    "* NA_sales — sales in North America (millions of copies sold)\n",
    "* EU_sales — sales in Europe (millions of copies sold)\n",
    "* JP_sales — sales in Japan (millions of copies sold)\n",
    "* Other_sales — sales in other countries (millions of copies sold)\n",
    "* Critic_Score — critics' score (maximum 100)\n",
    "* User_Score — users' score (maximum 10)\n",
    "* Rating — rating from the ESRB organization (English Entertainment Software Rating Board). This association determines the rating of computer games and assigns them a suitable age category.\n",
    "\n",
    "Data for 2016 may be incomplete."
   ]
  },
  {
   "cell_type": "markdown",
   "metadata": {},
   "source": [
    "# Task details:"
   ]
  },
  {
   "cell_type": "markdown",
   "metadata": {},
   "source": [
    "To solve this problem, we need to perform the following steps:\n",
    "\n",
    "1) study the data and their specifics;\n",
    "\n",
    "2) carry out their preliminary processing so that the results of the analysis reflect real patterns, and not distorted due to the presence of inaccuracies or errors in the data;\n",
    "\n",
    "3) conducting research data analysis;\n",
    "\n",
    "4) drawing up a portrait of the user of each region;\n",
    "\n",
    "5) formation and verification of hypotheses;\n",
    "\n",
    "6) the design of the general conclusion of the study."
   ]
  },
  {
   "cell_type": "markdown",
   "metadata": {},
   "source": [
    "## Preliminary data overview:"
   ]
  },
  {
   "cell_type": "markdown",
   "metadata": {},
   "source": [
    "Import necessary libraries:"
   ]
  },
  {
   "cell_type": "code",
   "execution_count": 65,
   "metadata": {},
   "outputs": [],
   "source": [
    "import pandas as pd\n",
    "import numpy as np\n",
    "import matplotlib.pyplot as plt\n",
    "import seaborn as sns\n",
    "from scipy import stats as st"
   ]
  },
  {
   "cell_type": "markdown",
   "metadata": {},
   "source": [
    "Open provided file to see data:"
   ]
  },
  {
   "cell_type": "code",
   "execution_count": 66,
   "metadata": {},
   "outputs": [
    {
     "name": "stdout",
     "output_type": "stream",
     "text": [
      "<class 'pandas.core.frame.DataFrame'>\n",
      "RangeIndex: 16715 entries, 0 to 16714\n",
      "Data columns (total 11 columns):\n",
      " #   Column           Non-Null Count  Dtype  \n",
      "---  ------           --------------  -----  \n",
      " 0   Name             16713 non-null  object \n",
      " 1   Platform         16715 non-null  object \n",
      " 2   Year_of_Release  16446 non-null  float64\n",
      " 3   Genre            16713 non-null  object \n",
      " 4   NA_sales         16715 non-null  float64\n",
      " 5   EU_sales         16715 non-null  float64\n",
      " 6   JP_sales         16715 non-null  float64\n",
      " 7   Other_sales      16715 non-null  float64\n",
      " 8   Critic_Score     8137 non-null   float64\n",
      " 9   User_Score       10014 non-null  object \n",
      " 10  Rating           9949 non-null   object \n",
      "dtypes: float64(6), object(5)\n",
      "memory usage: 1.4+ MB\n"
     ]
    }
   ],
   "source": [
    "games_df = pd.read_csv('/Users/a1/Desktop/data_folder/games.csv')\n",
    "games_df.info()"
   ]
  },
  {
   "cell_type": "code",
   "execution_count": 67,
   "metadata": {},
   "outputs": [
    {
     "data": {
      "text/html": [
       "<div>\n",
       "<style scoped>\n",
       "    .dataframe tbody tr th:only-of-type {\n",
       "        vertical-align: middle;\n",
       "    }\n",
       "\n",
       "    .dataframe tbody tr th {\n",
       "        vertical-align: top;\n",
       "    }\n",
       "\n",
       "    .dataframe thead th {\n",
       "        text-align: right;\n",
       "    }\n",
       "</style>\n",
       "<table border=\"1\" class=\"dataframe\">\n",
       "  <thead>\n",
       "    <tr style=\"text-align: right;\">\n",
       "      <th></th>\n",
       "      <th>Name</th>\n",
       "      <th>Platform</th>\n",
       "      <th>Year_of_Release</th>\n",
       "      <th>Genre</th>\n",
       "      <th>NA_sales</th>\n",
       "      <th>EU_sales</th>\n",
       "      <th>JP_sales</th>\n",
       "      <th>Other_sales</th>\n",
       "      <th>Critic_Score</th>\n",
       "      <th>User_Score</th>\n",
       "      <th>Rating</th>\n",
       "    </tr>\n",
       "  </thead>\n",
       "  <tbody>\n",
       "    <tr>\n",
       "      <th>0</th>\n",
       "      <td>Wii Sports</td>\n",
       "      <td>Wii</td>\n",
       "      <td>2006.0</td>\n",
       "      <td>Sports</td>\n",
       "      <td>41.36</td>\n",
       "      <td>28.96</td>\n",
       "      <td>3.77</td>\n",
       "      <td>8.45</td>\n",
       "      <td>76.0</td>\n",
       "      <td>8</td>\n",
       "      <td>E</td>\n",
       "    </tr>\n",
       "    <tr>\n",
       "      <th>1</th>\n",
       "      <td>Super Mario Bros.</td>\n",
       "      <td>NES</td>\n",
       "      <td>1985.0</td>\n",
       "      <td>Platform</td>\n",
       "      <td>29.08</td>\n",
       "      <td>3.58</td>\n",
       "      <td>6.81</td>\n",
       "      <td>0.77</td>\n",
       "      <td>NaN</td>\n",
       "      <td>NaN</td>\n",
       "      <td>NaN</td>\n",
       "    </tr>\n",
       "    <tr>\n",
       "      <th>2</th>\n",
       "      <td>Mario Kart Wii</td>\n",
       "      <td>Wii</td>\n",
       "      <td>2008.0</td>\n",
       "      <td>Racing</td>\n",
       "      <td>15.68</td>\n",
       "      <td>12.76</td>\n",
       "      <td>3.79</td>\n",
       "      <td>3.29</td>\n",
       "      <td>82.0</td>\n",
       "      <td>8.3</td>\n",
       "      <td>E</td>\n",
       "    </tr>\n",
       "    <tr>\n",
       "      <th>3</th>\n",
       "      <td>Wii Sports Resort</td>\n",
       "      <td>Wii</td>\n",
       "      <td>2009.0</td>\n",
       "      <td>Sports</td>\n",
       "      <td>15.61</td>\n",
       "      <td>10.93</td>\n",
       "      <td>3.28</td>\n",
       "      <td>2.95</td>\n",
       "      <td>80.0</td>\n",
       "      <td>8</td>\n",
       "      <td>E</td>\n",
       "    </tr>\n",
       "    <tr>\n",
       "      <th>4</th>\n",
       "      <td>Pokemon Red/Pokemon Blue</td>\n",
       "      <td>GB</td>\n",
       "      <td>1996.0</td>\n",
       "      <td>Role-Playing</td>\n",
       "      <td>11.27</td>\n",
       "      <td>8.89</td>\n",
       "      <td>10.22</td>\n",
       "      <td>1.00</td>\n",
       "      <td>NaN</td>\n",
       "      <td>NaN</td>\n",
       "      <td>NaN</td>\n",
       "    </tr>\n",
       "  </tbody>\n",
       "</table>\n",
       "</div>"
      ],
      "text/plain": [
       "                       Name Platform  Year_of_Release         Genre  NA_sales  \\\n",
       "0                Wii Sports      Wii           2006.0        Sports     41.36   \n",
       "1         Super Mario Bros.      NES           1985.0      Platform     29.08   \n",
       "2            Mario Kart Wii      Wii           2008.0        Racing     15.68   \n",
       "3         Wii Sports Resort      Wii           2009.0        Sports     15.61   \n",
       "4  Pokemon Red/Pokemon Blue       GB           1996.0  Role-Playing     11.27   \n",
       "\n",
       "   EU_sales  JP_sales  Other_sales  Critic_Score User_Score Rating  \n",
       "0     28.96      3.77         8.45          76.0          8      E  \n",
       "1      3.58      6.81         0.77           NaN        NaN    NaN  \n",
       "2     12.76      3.79         3.29          82.0        8.3      E  \n",
       "3     10.93      3.28         2.95          80.0          8      E  \n",
       "4      8.89     10.22         1.00           NaN        NaN    NaN  "
      ]
     },
     "execution_count": 67,
     "metadata": {},
     "output_type": "execute_result"
    }
   ],
   "source": [
    "games_df.head()"
   ]
  },
  {
   "cell_type": "code",
   "execution_count": 68,
   "metadata": {},
   "outputs": [
    {
     "data": {
      "text/plain": [
       "0"
      ]
     },
     "execution_count": 68,
     "metadata": {},
     "output_type": "execute_result"
    }
   ],
   "source": [
    "games_df.duplicated().sum()"
   ]
  },
  {
   "cell_type": "code",
   "execution_count": 69,
   "metadata": {},
   "outputs": [
    {
     "data": {
      "text/plain": [
       "Name                  2\n",
       "Platform              0\n",
       "Year_of_Release     269\n",
       "Genre                 2\n",
       "NA_sales              0\n",
       "EU_sales              0\n",
       "JP_sales              0\n",
       "Other_sales           0\n",
       "Critic_Score       8578\n",
       "User_Score         6701\n",
       "Rating             6766\n",
       "dtype: int64"
      ]
     },
     "execution_count": 69,
     "metadata": {},
     "output_type": "execute_result"
    }
   ],
   "source": [
    "games_df.isna().sum()"
   ]
  },
  {
   "cell_type": "markdown",
   "metadata": {},
   "source": [
    "Based on a preliminary assessment of the data, there are no obvious duplicates in it, although there are the following defects:\n",
    "* incorrect column names in the table;\n",
    "* incorrect data format in Year_of_Release, User_Score columns;\n",
    "* there are gaps in the columns."
   ]
  },
  {
   "cell_type": "markdown",
   "metadata": {},
   "source": [
    "## Preparing data for analysis:"
   ]
  },
  {
   "cell_type": "markdown",
   "metadata": {},
   "source": [
    "### Сhange the name of the columns to the correct format (clean code):"
   ]
  },
  {
   "cell_type": "code",
   "execution_count": 70,
   "metadata": {},
   "outputs": [
    {
     "data": {
      "text/html": [
       "<div>\n",
       "<style scoped>\n",
       "    .dataframe tbody tr th:only-of-type {\n",
       "        vertical-align: middle;\n",
       "    }\n",
       "\n",
       "    .dataframe tbody tr th {\n",
       "        vertical-align: top;\n",
       "    }\n",
       "\n",
       "    .dataframe thead th {\n",
       "        text-align: right;\n",
       "    }\n",
       "</style>\n",
       "<table border=\"1\" class=\"dataframe\">\n",
       "  <thead>\n",
       "    <tr style=\"text-align: right;\">\n",
       "      <th></th>\n",
       "      <th>name</th>\n",
       "      <th>platform</th>\n",
       "      <th>year_of_release</th>\n",
       "      <th>genre</th>\n",
       "      <th>na_sales</th>\n",
       "      <th>eu_sales</th>\n",
       "      <th>jp_sales</th>\n",
       "      <th>other_sales</th>\n",
       "      <th>critic_score</th>\n",
       "      <th>user_score</th>\n",
       "      <th>rating</th>\n",
       "    </tr>\n",
       "  </thead>\n",
       "  <tbody>\n",
       "    <tr>\n",
       "      <th>0</th>\n",
       "      <td>Wii Sports</td>\n",
       "      <td>Wii</td>\n",
       "      <td>2006.0</td>\n",
       "      <td>Sports</td>\n",
       "      <td>41.36</td>\n",
       "      <td>28.96</td>\n",
       "      <td>3.77</td>\n",
       "      <td>8.45</td>\n",
       "      <td>76.0</td>\n",
       "      <td>8</td>\n",
       "      <td>E</td>\n",
       "    </tr>\n",
       "    <tr>\n",
       "      <th>1</th>\n",
       "      <td>Super Mario Bros.</td>\n",
       "      <td>NES</td>\n",
       "      <td>1985.0</td>\n",
       "      <td>Platform</td>\n",
       "      <td>29.08</td>\n",
       "      <td>3.58</td>\n",
       "      <td>6.81</td>\n",
       "      <td>0.77</td>\n",
       "      <td>NaN</td>\n",
       "      <td>NaN</td>\n",
       "      <td>NaN</td>\n",
       "    </tr>\n",
       "    <tr>\n",
       "      <th>2</th>\n",
       "      <td>Mario Kart Wii</td>\n",
       "      <td>Wii</td>\n",
       "      <td>2008.0</td>\n",
       "      <td>Racing</td>\n",
       "      <td>15.68</td>\n",
       "      <td>12.76</td>\n",
       "      <td>3.79</td>\n",
       "      <td>3.29</td>\n",
       "      <td>82.0</td>\n",
       "      <td>8.3</td>\n",
       "      <td>E</td>\n",
       "    </tr>\n",
       "    <tr>\n",
       "      <th>3</th>\n",
       "      <td>Wii Sports Resort</td>\n",
       "      <td>Wii</td>\n",
       "      <td>2009.0</td>\n",
       "      <td>Sports</td>\n",
       "      <td>15.61</td>\n",
       "      <td>10.93</td>\n",
       "      <td>3.28</td>\n",
       "      <td>2.95</td>\n",
       "      <td>80.0</td>\n",
       "      <td>8</td>\n",
       "      <td>E</td>\n",
       "    </tr>\n",
       "    <tr>\n",
       "      <th>4</th>\n",
       "      <td>Pokemon Red/Pokemon Blue</td>\n",
       "      <td>GB</td>\n",
       "      <td>1996.0</td>\n",
       "      <td>Role-Playing</td>\n",
       "      <td>11.27</td>\n",
       "      <td>8.89</td>\n",
       "      <td>10.22</td>\n",
       "      <td>1.00</td>\n",
       "      <td>NaN</td>\n",
       "      <td>NaN</td>\n",
       "      <td>NaN</td>\n",
       "    </tr>\n",
       "    <tr>\n",
       "      <th>5</th>\n",
       "      <td>Tetris</td>\n",
       "      <td>GB</td>\n",
       "      <td>1989.0</td>\n",
       "      <td>Puzzle</td>\n",
       "      <td>23.20</td>\n",
       "      <td>2.26</td>\n",
       "      <td>4.22</td>\n",
       "      <td>0.58</td>\n",
       "      <td>NaN</td>\n",
       "      <td>NaN</td>\n",
       "      <td>NaN</td>\n",
       "    </tr>\n",
       "    <tr>\n",
       "      <th>6</th>\n",
       "      <td>New Super Mario Bros.</td>\n",
       "      <td>DS</td>\n",
       "      <td>2006.0</td>\n",
       "      <td>Platform</td>\n",
       "      <td>11.28</td>\n",
       "      <td>9.14</td>\n",
       "      <td>6.50</td>\n",
       "      <td>2.88</td>\n",
       "      <td>89.0</td>\n",
       "      <td>8.5</td>\n",
       "      <td>E</td>\n",
       "    </tr>\n",
       "    <tr>\n",
       "      <th>7</th>\n",
       "      <td>Wii Play</td>\n",
       "      <td>Wii</td>\n",
       "      <td>2006.0</td>\n",
       "      <td>Misc</td>\n",
       "      <td>13.96</td>\n",
       "      <td>9.18</td>\n",
       "      <td>2.93</td>\n",
       "      <td>2.84</td>\n",
       "      <td>58.0</td>\n",
       "      <td>6.6</td>\n",
       "      <td>E</td>\n",
       "    </tr>\n",
       "    <tr>\n",
       "      <th>8</th>\n",
       "      <td>New Super Mario Bros. Wii</td>\n",
       "      <td>Wii</td>\n",
       "      <td>2009.0</td>\n",
       "      <td>Platform</td>\n",
       "      <td>14.44</td>\n",
       "      <td>6.94</td>\n",
       "      <td>4.70</td>\n",
       "      <td>2.24</td>\n",
       "      <td>87.0</td>\n",
       "      <td>8.4</td>\n",
       "      <td>E</td>\n",
       "    </tr>\n",
       "    <tr>\n",
       "      <th>9</th>\n",
       "      <td>Duck Hunt</td>\n",
       "      <td>NES</td>\n",
       "      <td>1984.0</td>\n",
       "      <td>Shooter</td>\n",
       "      <td>26.93</td>\n",
       "      <td>0.63</td>\n",
       "      <td>0.28</td>\n",
       "      <td>0.47</td>\n",
       "      <td>NaN</td>\n",
       "      <td>NaN</td>\n",
       "      <td>NaN</td>\n",
       "    </tr>\n",
       "  </tbody>\n",
       "</table>\n",
       "</div>"
      ],
      "text/plain": [
       "                        name platform  year_of_release         genre  \\\n",
       "0                 Wii Sports      Wii           2006.0        Sports   \n",
       "1          Super Mario Bros.      NES           1985.0      Platform   \n",
       "2             Mario Kart Wii      Wii           2008.0        Racing   \n",
       "3          Wii Sports Resort      Wii           2009.0        Sports   \n",
       "4   Pokemon Red/Pokemon Blue       GB           1996.0  Role-Playing   \n",
       "5                     Tetris       GB           1989.0        Puzzle   \n",
       "6      New Super Mario Bros.       DS           2006.0      Platform   \n",
       "7                   Wii Play      Wii           2006.0          Misc   \n",
       "8  New Super Mario Bros. Wii      Wii           2009.0      Platform   \n",
       "9                  Duck Hunt      NES           1984.0       Shooter   \n",
       "\n",
       "   na_sales  eu_sales  jp_sales  other_sales  critic_score user_score rating  \n",
       "0     41.36     28.96      3.77         8.45          76.0          8      E  \n",
       "1     29.08      3.58      6.81         0.77           NaN        NaN    NaN  \n",
       "2     15.68     12.76      3.79         3.29          82.0        8.3      E  \n",
       "3     15.61     10.93      3.28         2.95          80.0          8      E  \n",
       "4     11.27      8.89     10.22         1.00           NaN        NaN    NaN  \n",
       "5     23.20      2.26      4.22         0.58           NaN        NaN    NaN  \n",
       "6     11.28      9.14      6.50         2.88          89.0        8.5      E  \n",
       "7     13.96      9.18      2.93         2.84          58.0        6.6      E  \n",
       "8     14.44      6.94      4.70         2.24          87.0        8.4      E  \n",
       "9     26.93      0.63      0.28         0.47           NaN        NaN    NaN  "
      ]
     },
     "execution_count": 70,
     "metadata": {},
     "output_type": "execute_result"
    }
   ],
   "source": [
    "games_df.columns = games_df.columns.str.lower()\n",
    "games_df.head(10)"
   ]
  },
  {
   "cell_type": "markdown",
   "metadata": {},
   "source": [
    "### Сheck the data for gaps:"
   ]
  },
  {
   "cell_type": "markdown",
   "metadata": {},
   "source": [
    "Consider the gaps in the \"name\" column. To do this, we will determine the number of unique names of games."
   ]
  },
  {
   "cell_type": "code",
   "execution_count": 71,
   "metadata": {},
   "outputs": [
    {
     "data": {
      "text/plain": [
       "11560"
      ]
     },
     "execution_count": 71,
     "metadata": {},
     "output_type": "execute_result"
    }
   ],
   "source": [
    "len(games_df['name'].unique())"
   ]
  },
  {
   "cell_type": "markdown",
   "metadata": {},
   "source": [
    "The \"name\" column contains data on the names of 11560 games. Since only two names of games are missing, which are categorical values that we cannot restore using the available data, we will delete these lines from the dataset."
   ]
  },
  {
   "cell_type": "code",
   "execution_count": 72,
   "metadata": {},
   "outputs": [
    {
     "name": "stdout",
     "output_type": "stream",
     "text": [
      "<class 'pandas.core.frame.DataFrame'>\n",
      "Int64Index: 16713 entries, 0 to 16714\n",
      "Data columns (total 11 columns):\n",
      " #   Column           Non-Null Count  Dtype  \n",
      "---  ------           --------------  -----  \n",
      " 0   name             16713 non-null  object \n",
      " 1   platform         16713 non-null  object \n",
      " 2   year_of_release  16444 non-null  float64\n",
      " 3   genre            16713 non-null  object \n",
      " 4   na_sales         16713 non-null  float64\n",
      " 5   eu_sales         16713 non-null  float64\n",
      " 6   jp_sales         16713 non-null  float64\n",
      " 7   other_sales      16713 non-null  float64\n",
      " 8   critic_score     8137 non-null   float64\n",
      " 9   user_score       10014 non-null  object \n",
      " 10  rating           9949 non-null   object \n",
      "dtypes: float64(6), object(5)\n",
      "memory usage: 1.5+ MB\n"
     ]
    }
   ],
   "source": [
    "games_df.dropna(subset=['name'], inplace=True)\n",
    "games_df.info()"
   ]
  },
  {
   "cell_type": "markdown",
   "metadata": {},
   "source": [
    "Consider the gaps in the \"year_of_release\" column."
   ]
  },
  {
   "cell_type": "code",
   "execution_count": 73,
   "metadata": {},
   "outputs": [
    {
     "data": {
      "text/plain": [
       "0.016095255190570215"
      ]
     },
     "execution_count": 73,
     "metadata": {},
     "output_type": "execute_result"
    }
   ],
   "source": [
    "games_df['year_of_release'].isna().mean()"
   ]
  },
  {
   "cell_type": "markdown",
   "metadata": {},
   "source": [
    "The proportion of missing values in the \"year_of_release\" column is 1.6% of the total number of values in the column, which does not affect the study, so we can drop data with missing values in the \"year_of_release\" column."
   ]
  },
  {
   "cell_type": "code",
   "execution_count": 74,
   "metadata": {},
   "outputs": [
    {
     "name": "stdout",
     "output_type": "stream",
     "text": [
      "<class 'pandas.core.frame.DataFrame'>\n",
      "Int64Index: 16444 entries, 0 to 16714\n",
      "Data columns (total 11 columns):\n",
      " #   Column           Non-Null Count  Dtype  \n",
      "---  ------           --------------  -----  \n",
      " 0   name             16444 non-null  object \n",
      " 1   platform         16444 non-null  object \n",
      " 2   year_of_release  16444 non-null  float64\n",
      " 3   genre            16444 non-null  object \n",
      " 4   na_sales         16444 non-null  float64\n",
      " 5   eu_sales         16444 non-null  float64\n",
      " 6   jp_sales         16444 non-null  float64\n",
      " 7   other_sales      16444 non-null  float64\n",
      " 8   critic_score     7983 non-null   float64\n",
      " 9   user_score       9839 non-null   object \n",
      " 10  rating           9768 non-null   object \n",
      "dtypes: float64(6), object(5)\n",
      "memory usage: 1.5+ MB\n"
     ]
    }
   ],
   "source": [
    "games_df.dropna(subset=['year_of_release'], inplace=True)\n",
    "games_df.info()"
   ]
  },
  {
   "cell_type": "markdown",
   "metadata": {},
   "source": [
    "Study the gaps in the columns critic_score, user_score, rating."
   ]
  },
  {
   "cell_type": "code",
   "execution_count": 75,
   "metadata": {},
   "outputs": [
    {
     "data": {
      "text/plain": [
       "0.5145341765993675"
      ]
     },
     "execution_count": 75,
     "metadata": {},
     "output_type": "execute_result"
    }
   ],
   "source": [
    "games_df['critic_score'].isna().mean()"
   ]
  },
  {
   "cell_type": "code",
   "execution_count": 76,
   "metadata": {},
   "outputs": [
    {
     "data": {
      "text/plain": [
       "0.4016662612503041"
      ]
     },
     "execution_count": 76,
     "metadata": {},
     "output_type": "execute_result"
    }
   ],
   "source": [
    "games_df['user_score'].isna().mean()"
   ]
  },
  {
   "cell_type": "code",
   "execution_count": 77,
   "metadata": {},
   "outputs": [
    {
     "data": {
      "text/plain": [
       "0.40598394551204087"
      ]
     },
     "execution_count": 77,
     "metadata": {},
     "output_type": "execute_result"
    }
   ],
   "source": [
    "games_df['rating'].isna().mean()"
   ]
  },
  {
   "cell_type": "markdown",
   "metadata": {},
   "source": [
    "The proportion of missing values in the columns ranges from 40% to 51% of the total number of values in the columns, therefore, these gaps cannot be ignored due to their significant volume, in addition, they also cannot be replaced with other calculated values."
   ]
  },
  {
   "cell_type": "markdown",
   "metadata": {},
   "source": [
    "### Change the format of data in the columns:"
   ]
  },
  {
   "cell_type": "markdown",
   "metadata": {},
   "source": [
    "Change the float data type to int in the \"year_of_release\" column:"
   ]
  },
  {
   "cell_type": "code",
   "execution_count": 78,
   "metadata": {},
   "outputs": [
    {
     "name": "stdout",
     "output_type": "stream",
     "text": [
      "<class 'pandas.core.frame.DataFrame'>\n",
      "Int64Index: 16444 entries, 0 to 16714\n",
      "Data columns (total 11 columns):\n",
      " #   Column           Non-Null Count  Dtype  \n",
      "---  ------           --------------  -----  \n",
      " 0   name             16444 non-null  object \n",
      " 1   platform         16444 non-null  object \n",
      " 2   year_of_release  16444 non-null  float64\n",
      " 3   genre            16444 non-null  object \n",
      " 4   na_sales         16444 non-null  float64\n",
      " 5   eu_sales         16444 non-null  float64\n",
      " 6   jp_sales         16444 non-null  float64\n",
      " 7   other_sales      16444 non-null  float64\n",
      " 8   critic_score     7983 non-null   float64\n",
      " 9   user_score       9839 non-null   object \n",
      " 10  rating           9768 non-null   object \n",
      "dtypes: float64(6), object(5)\n",
      "memory usage: 1.5+ MB\n"
     ]
    }
   ],
   "source": [
    "games_df.info()"
   ]
  },
  {
   "cell_type": "code",
   "execution_count": 79,
   "metadata": {},
   "outputs": [
    {
     "name": "stdout",
     "output_type": "stream",
     "text": [
      "<class 'pandas.core.frame.DataFrame'>\n",
      "Int64Index: 16444 entries, 0 to 16714\n",
      "Data columns (total 11 columns):\n",
      " #   Column           Non-Null Count  Dtype  \n",
      "---  ------           --------------  -----  \n",
      " 0   name             16444 non-null  object \n",
      " 1   platform         16444 non-null  object \n",
      " 2   year_of_release  16444 non-null  int64  \n",
      " 3   genre            16444 non-null  object \n",
      " 4   na_sales         16444 non-null  float64\n",
      " 5   eu_sales         16444 non-null  float64\n",
      " 6   jp_sales         16444 non-null  float64\n",
      " 7   other_sales      16444 non-null  float64\n",
      " 8   critic_score     7983 non-null   float64\n",
      " 9   user_score       9839 non-null   object \n",
      " 10  rating           9768 non-null   object \n",
      "dtypes: float64(5), int64(1), object(5)\n",
      "memory usage: 1.5+ MB\n"
     ]
    }
   ],
   "source": [
    "games_df['year_of_release'] = games_df['year_of_release'].astype(int)\n",
    "games_df.info()"
   ]
  },
  {
   "cell_type": "markdown",
   "metadata": {},
   "source": [
    "Change the data type in the user_score and rating columns to the numeric float type. To do this, we need study the unique values in these columns:"
   ]
  },
  {
   "cell_type": "code",
   "execution_count": 80,
   "metadata": {},
   "outputs": [
    {
     "data": {
      "text/plain": [
       "array(['8', nan, '8.3', '8.5', '6.6', '8.4', '8.6', '7.7', '6.3', '7.4',\n",
       "       '8.2', '9', '7.9', '8.1', '8.7', '7.1', '3.4', '5.3', '4.8', '3.2',\n",
       "       '8.9', '6.4', '7.8', '7.5', '2.6', '7.2', '9.2', '7', '7.3', '4.3',\n",
       "       '7.6', '5.7', '5', '9.1', '6.5', 'tbd', '8.8', '6.9', '9.4', '6.8',\n",
       "       '6.1', '6.7', '5.4', '4', '4.9', '4.5', '9.3', '6.2', '4.2', '6',\n",
       "       '3.7', '4.1', '5.8', '5.6', '5.5', '4.4', '4.6', '5.9', '3.9',\n",
       "       '3.1', '2.9', '5.2', '3.3', '4.7', '5.1', '3.5', '2.5', '1.9', '3',\n",
       "       '2.7', '2.2', '2', '9.5', '2.1', '3.6', '2.8', '1.8', '3.8', '0',\n",
       "       '1.6', '9.6', '2.4', '1.7', '1.1', '0.3', '1.5', '0.7', '1.2',\n",
       "       '2.3', '0.5', '1.3', '0.2', '0.6', '1.4', '0.9', '1', '9.7'],\n",
       "      dtype=object)"
      ]
     },
     "execution_count": 80,
     "metadata": {},
     "output_type": "execute_result"
    }
   ],
   "source": [
    "games_df['user_score'].unique()"
   ]
  },
  {
   "cell_type": "markdown",
   "metadata": {},
   "source": [
    "We see that the data contains the variant \"tbd\", which usually stands for to be determined. This means that for us, the score from users on the game is unknown."
   ]
  },
  {
   "cell_type": "code",
   "execution_count": 81,
   "metadata": {},
   "outputs": [
    {
     "data": {
      "text/plain": [
       "0.14449039163220628"
      ]
     },
     "execution_count": 81,
     "metadata": {},
     "output_type": "execute_result"
    }
   ],
   "source": [
    "len(games_df[games_df['user_score'] == 'tbd']) / 16444"
   ]
  },
  {
   "cell_type": "markdown",
   "metadata": {},
   "source": [
    "For values equal to tbd, it is 14% of the column data, so we cannot neglect this data. Therefore, we will replace the specified values with Nan, after which we will replace the data type with float:"
   ]
  },
  {
   "cell_type": "code",
   "execution_count": 82,
   "metadata": {
    "scrolled": true
   },
   "outputs": [
    {
     "data": {
      "text/plain": [
       "array(['8', nan, '8.3', '8.5', '6.6', '8.4', '8.6', '7.7', '6.3', '7.4',\n",
       "       '8.2', '9', '7.9', '8.1', '8.7', '7.1', '3.4', '5.3', '4.8', '3.2',\n",
       "       '8.9', '6.4', '7.8', '7.5', '2.6', '7.2', '9.2', '7', '7.3', '4.3',\n",
       "       '7.6', '5.7', '5', '9.1', '6.5', '8.8', '6.9', '9.4', '6.8', '6.1',\n",
       "       '6.7', '5.4', '4', '4.9', '4.5', '9.3', '6.2', '4.2', '6', '3.7',\n",
       "       '4.1', '5.8', '5.6', '5.5', '4.4', '4.6', '5.9', '3.9', '3.1',\n",
       "       '2.9', '5.2', '3.3', '4.7', '5.1', '3.5', '2.5', '1.9', '3', '2.7',\n",
       "       '2.2', '2', '9.5', '2.1', '3.6', '2.8', '1.8', '3.8', '0', '1.6',\n",
       "       '9.6', '2.4', '1.7', '1.1', '0.3', '1.5', '0.7', '1.2', '2.3',\n",
       "       '0.5', '1.3', '0.2', '0.6', '1.4', '0.9', '1', '9.7'], dtype=object)"
      ]
     },
     "execution_count": 82,
     "metadata": {},
     "output_type": "execute_result"
    }
   ],
   "source": [
    "games_df.loc[games_df['user_score'] == 'tbd', 'user_score'] = np.nan\n",
    "games_df['user_score'].unique()"
   ]
  },
  {
   "cell_type": "code",
   "execution_count": 83,
   "metadata": {},
   "outputs": [],
   "source": [
    "games_df['user_score'] = games_df['user_score'].astype('float')"
   ]
  },
  {
   "cell_type": "code",
   "execution_count": 84,
   "metadata": {},
   "outputs": [
    {
     "name": "stdout",
     "output_type": "stream",
     "text": [
      "<class 'pandas.core.frame.DataFrame'>\n",
      "Int64Index: 16444 entries, 0 to 16714\n",
      "Data columns (total 11 columns):\n",
      " #   Column           Non-Null Count  Dtype  \n",
      "---  ------           --------------  -----  \n",
      " 0   name             16444 non-null  object \n",
      " 1   platform         16444 non-null  object \n",
      " 2   year_of_release  16444 non-null  int64  \n",
      " 3   genre            16444 non-null  object \n",
      " 4   na_sales         16444 non-null  float64\n",
      " 5   eu_sales         16444 non-null  float64\n",
      " 6   jp_sales         16444 non-null  float64\n",
      " 7   other_sales      16444 non-null  float64\n",
      " 8   critic_score     7983 non-null   float64\n",
      " 9   user_score       7463 non-null   float64\n",
      " 10  rating           9768 non-null   object \n",
      "dtypes: float64(6), int64(1), object(4)\n",
      "memory usage: 1.5+ MB\n"
     ]
    }
   ],
   "source": [
    "games_df.info()"
   ]
  },
  {
   "cell_type": "markdown",
   "metadata": {},
   "source": [
    "Study the distribution of missing values in the columns critic_score, user_score, rating depending on different characteristics presented in the dataset."
   ]
  },
  {
   "cell_type": "markdown",
   "metadata": {},
   "source": [
    "Distribution of missing values in relation to the platform:"
   ]
  },
  {
   "cell_type": "code",
   "execution_count": 85,
   "metadata": {
    "scrolled": true
   },
   "outputs": [
    {
     "data": {
      "image/png": "[encoded data removed]",
      "text/plain": [
       "<Figure size 1440x216 with 1 Axes>"
      ]
     },
     "metadata": {
      "needs_background": "light"
     },
     "output_type": "display_data"
    }
   ],
   "source": [
    "games_df.loc[games_df['critic_score'].isna(), 'platform'].hist(bins = 10, alpha = 0.5,\n",
    "                                                               figsize = (20,3))   \n",
    "\n",
    "games_df.loc[games_df['user_score'].isna(), 'platform'].hist(bins = 10, alpha = 0.5,\n",
    "                                                               figsize = (20,3))\n",
    "\n",
    "games_df.loc[games_df['rating'].isna(), 'platform'].hist(bins = 10, alpha = 0.5,\n",
    "                                                               figsize = (20,3));"
   ]
  },
  {
   "cell_type": "markdown",
   "metadata": {},
   "source": [
    "Distribution of missing values in relation to the year of release:"
   ]
  },
  {
   "cell_type": "code",
   "execution_count": 86,
   "metadata": {
    "scrolled": true
   },
   "outputs": [
    {
     "data": {
      "image/png": "[encoded data removed]",
      "text/plain": [
       "<Figure size 1440x216 with 1 Axes>"
      ]
     },
     "metadata": {
      "needs_background": "light"
     },
     "output_type": "display_data"
    }
   ],
   "source": [
    "games_df.loc[games_df['critic_score'].isna(), 'year_of_release'].hist(bins = 10, alpha = 0.5,\n",
    "                                                               figsize = (20,3))   \n",
    "\n",
    "games_df.loc[games_df['user_score'].isna(), 'year_of_release'].hist(bins = 10, alpha = 0.5,\n",
    "                                                               figsize = (20,3))\n",
    "\n",
    "games_df.loc[games_df['rating'].isna(), 'year_of_release'].hist(bins = 10, alpha = 0.5,\n",
    "                                                               figsize = (20,3));"
   ]
  },
  {
   "cell_type": "markdown",
   "metadata": {},
   "source": [
    "Distribution of missing values in relation to genre:"
   ]
  },
  {
   "cell_type": "code",
   "execution_count": 87,
   "metadata": {
    "scrolled": false
   },
   "outputs": [
    {
     "data": {
      "image/png": "[encoded data removed]",
      "text/plain": [
       "<Figure size 1440x216 with 1 Axes>"
      ]
     },
     "metadata": {
      "needs_background": "light"
     },
     "output_type": "display_data"
    }
   ],
   "source": [
    "games_df.loc[games_df['critic_score'].isna(), 'genre'].hist(bins = 10, alpha = 0.5,\n",
    "                                                               figsize = (20,3))   \n",
    "\n",
    "games_df.loc[games_df['user_score'].isna(), 'genre'].hist(bins = 10, alpha = 0.5,\n",
    "                                                               figsize = (20,3))\n",
    "\n",
    "games_df.loc[games_df['rating'].isna(), 'genre'].hist(bins = 10, alpha = 0.5,\n",
    "                                                               figsize = (20,3));"
   ]
  },
  {
   "cell_type": "markdown",
   "metadata": {},
   "source": [
    "Based on the presented graphs of the distribution of missing values in the columns critic_score, user_score, rating, characterizing the popularity of games, it can be assumed that none of the considered characteristics directly affects the occurrence of gaps in the ratings of games by users."
   ]
  },
  {
   "cell_type": "markdown",
   "metadata": {},
   "source": [
    "The exact reason for the gaps in critics' ratings, user ratings and ratings is unknown. It could be assumed that these gaps may be due to the lack of the ability to leave ratings or assign a rating at the beginning of the development of the gaming industry, but the graph of the distribution of passes by year did not confirm this assumption.\n",
    "At the same time, the presence of gaps in the data on the rating of the game may be due to the specifics of the organization that assigns them. In particular, ESRB is an organization that operates in the USA and Canada and assigns age ratings to games and is aimed primarily at its region North America. Probably, the lack of ratings for some games is due to their low distribution or its absence in the North America region."
   ]
  },
  {
   "cell_type": "markdown",
   "metadata": {},
   "source": [
    "Since the amount of gaps in the rating column is significant, and the data in this column is categorical, we will replace the existing gaps with the 'Unknown' category."
   ]
  },
  {
   "cell_type": "code",
   "execution_count": 88,
   "metadata": {},
   "outputs": [
    {
     "name": "stdout",
     "output_type": "stream",
     "text": [
      "<class 'pandas.core.frame.DataFrame'>\n",
      "Int64Index: 16444 entries, 0 to 16714\n",
      "Data columns (total 11 columns):\n",
      " #   Column           Non-Null Count  Dtype  \n",
      "---  ------           --------------  -----  \n",
      " 0   name             16444 non-null  object \n",
      " 1   platform         16444 non-null  object \n",
      " 2   year_of_release  16444 non-null  int64  \n",
      " 3   genre            16444 non-null  object \n",
      " 4   na_sales         16444 non-null  float64\n",
      " 5   eu_sales         16444 non-null  float64\n",
      " 6   jp_sales         16444 non-null  float64\n",
      " 7   other_sales      16444 non-null  float64\n",
      " 8   critic_score     7983 non-null   float64\n",
      " 9   user_score       7463 non-null   float64\n",
      " 10  rating           16444 non-null  object \n",
      "dtypes: float64(6), int64(1), object(4)\n",
      "memory usage: 1.5+ MB\n"
     ]
    }
   ],
   "source": [
    "games_df['rating'] = games_df['rating'].fillna('Unknown')\n",
    "games_df.info()"
   ]
  },
  {
   "cell_type": "markdown",
   "metadata": {},
   "source": [
    "### Calculate the total sales in all regions and record them in a separate column in the dataset:"
   ]
  },
  {
   "cell_type": "code",
   "execution_count": 89,
   "metadata": {},
   "outputs": [
    {
     "data": {
      "text/html": [
       "<div>\n",
       "<style scoped>\n",
       "    .dataframe tbody tr th:only-of-type {\n",
       "        vertical-align: middle;\n",
       "    }\n",
       "\n",
       "    .dataframe tbody tr th {\n",
       "        vertical-align: top;\n",
       "    }\n",
       "\n",
       "    .dataframe thead th {\n",
       "        text-align: right;\n",
       "    }\n",
       "</style>\n",
       "<table border=\"1\" class=\"dataframe\">\n",
       "  <thead>\n",
       "    <tr style=\"text-align: right;\">\n",
       "      <th></th>\n",
       "      <th>name</th>\n",
       "      <th>platform</th>\n",
       "      <th>year_of_release</th>\n",
       "      <th>genre</th>\n",
       "      <th>na_sales</th>\n",
       "      <th>eu_sales</th>\n",
       "      <th>jp_sales</th>\n",
       "      <th>other_sales</th>\n",
       "      <th>critic_score</th>\n",
       "      <th>user_score</th>\n",
       "      <th>rating</th>\n",
       "    </tr>\n",
       "  </thead>\n",
       "  <tbody>\n",
       "    <tr>\n",
       "      <th>0</th>\n",
       "      <td>Wii Sports</td>\n",
       "      <td>Wii</td>\n",
       "      <td>2006</td>\n",
       "      <td>Sports</td>\n",
       "      <td>41.36</td>\n",
       "      <td>28.96</td>\n",
       "      <td>3.77</td>\n",
       "      <td>8.45</td>\n",
       "      <td>76.0</td>\n",
       "      <td>8.0</td>\n",
       "      <td>E</td>\n",
       "    </tr>\n",
       "    <tr>\n",
       "      <th>1</th>\n",
       "      <td>Super Mario Bros.</td>\n",
       "      <td>NES</td>\n",
       "      <td>1985</td>\n",
       "      <td>Platform</td>\n",
       "      <td>29.08</td>\n",
       "      <td>3.58</td>\n",
       "      <td>6.81</td>\n",
       "      <td>0.77</td>\n",
       "      <td>NaN</td>\n",
       "      <td>NaN</td>\n",
       "      <td>Unknown</td>\n",
       "    </tr>\n",
       "    <tr>\n",
       "      <th>2</th>\n",
       "      <td>Mario Kart Wii</td>\n",
       "      <td>Wii</td>\n",
       "      <td>2008</td>\n",
       "      <td>Racing</td>\n",
       "      <td>15.68</td>\n",
       "      <td>12.76</td>\n",
       "      <td>3.79</td>\n",
       "      <td>3.29</td>\n",
       "      <td>82.0</td>\n",
       "      <td>8.3</td>\n",
       "      <td>E</td>\n",
       "    </tr>\n",
       "    <tr>\n",
       "      <th>3</th>\n",
       "      <td>Wii Sports Resort</td>\n",
       "      <td>Wii</td>\n",
       "      <td>2009</td>\n",
       "      <td>Sports</td>\n",
       "      <td>15.61</td>\n",
       "      <td>10.93</td>\n",
       "      <td>3.28</td>\n",
       "      <td>2.95</td>\n",
       "      <td>80.0</td>\n",
       "      <td>8.0</td>\n",
       "      <td>E</td>\n",
       "    </tr>\n",
       "    <tr>\n",
       "      <th>4</th>\n",
       "      <td>Pokemon Red/Pokemon Blue</td>\n",
       "      <td>GB</td>\n",
       "      <td>1996</td>\n",
       "      <td>Role-Playing</td>\n",
       "      <td>11.27</td>\n",
       "      <td>8.89</td>\n",
       "      <td>10.22</td>\n",
       "      <td>1.00</td>\n",
       "      <td>NaN</td>\n",
       "      <td>NaN</td>\n",
       "      <td>Unknown</td>\n",
       "    </tr>\n",
       "    <tr>\n",
       "      <th>5</th>\n",
       "      <td>Tetris</td>\n",
       "      <td>GB</td>\n",
       "      <td>1989</td>\n",
       "      <td>Puzzle</td>\n",
       "      <td>23.20</td>\n",
       "      <td>2.26</td>\n",
       "      <td>4.22</td>\n",
       "      <td>0.58</td>\n",
       "      <td>NaN</td>\n",
       "      <td>NaN</td>\n",
       "      <td>Unknown</td>\n",
       "    </tr>\n",
       "    <tr>\n",
       "      <th>6</th>\n",
       "      <td>New Super Mario Bros.</td>\n",
       "      <td>DS</td>\n",
       "      <td>2006</td>\n",
       "      <td>Platform</td>\n",
       "      <td>11.28</td>\n",
       "      <td>9.14</td>\n",
       "      <td>6.50</td>\n",
       "      <td>2.88</td>\n",
       "      <td>89.0</td>\n",
       "      <td>8.5</td>\n",
       "      <td>E</td>\n",
       "    </tr>\n",
       "    <tr>\n",
       "      <th>7</th>\n",
       "      <td>Wii Play</td>\n",
       "      <td>Wii</td>\n",
       "      <td>2006</td>\n",
       "      <td>Misc</td>\n",
       "      <td>13.96</td>\n",
       "      <td>9.18</td>\n",
       "      <td>2.93</td>\n",
       "      <td>2.84</td>\n",
       "      <td>58.0</td>\n",
       "      <td>6.6</td>\n",
       "      <td>E</td>\n",
       "    </tr>\n",
       "    <tr>\n",
       "      <th>8</th>\n",
       "      <td>New Super Mario Bros. Wii</td>\n",
       "      <td>Wii</td>\n",
       "      <td>2009</td>\n",
       "      <td>Platform</td>\n",
       "      <td>14.44</td>\n",
       "      <td>6.94</td>\n",
       "      <td>4.70</td>\n",
       "      <td>2.24</td>\n",
       "      <td>87.0</td>\n",
       "      <td>8.4</td>\n",
       "      <td>E</td>\n",
       "    </tr>\n",
       "    <tr>\n",
       "      <th>9</th>\n",
       "      <td>Duck Hunt</td>\n",
       "      <td>NES</td>\n",
       "      <td>1984</td>\n",
       "      <td>Shooter</td>\n",
       "      <td>26.93</td>\n",
       "      <td>0.63</td>\n",
       "      <td>0.28</td>\n",
       "      <td>0.47</td>\n",
       "      <td>NaN</td>\n",
       "      <td>NaN</td>\n",
       "      <td>Unknown</td>\n",
       "    </tr>\n",
       "  </tbody>\n",
       "</table>\n",
       "</div>"
      ],
      "text/plain": [
       "                        name platform  year_of_release         genre  \\\n",
       "0                 Wii Sports      Wii             2006        Sports   \n",
       "1          Super Mario Bros.      NES             1985      Platform   \n",
       "2             Mario Kart Wii      Wii             2008        Racing   \n",
       "3          Wii Sports Resort      Wii             2009        Sports   \n",
       "4   Pokemon Red/Pokemon Blue       GB             1996  Role-Playing   \n",
       "5                     Tetris       GB             1989        Puzzle   \n",
       "6      New Super Mario Bros.       DS             2006      Platform   \n",
       "7                   Wii Play      Wii             2006          Misc   \n",
       "8  New Super Mario Bros. Wii      Wii             2009      Platform   \n",
       "9                  Duck Hunt      NES             1984       Shooter   \n",
       "\n",
       "   na_sales  eu_sales  jp_sales  other_sales  critic_score  user_score  \\\n",
       "0     41.36     28.96      3.77         8.45          76.0         8.0   \n",
       "1     29.08      3.58      6.81         0.77           NaN         NaN   \n",
       "2     15.68     12.76      3.79         3.29          82.0         8.3   \n",
       "3     15.61     10.93      3.28         2.95          80.0         8.0   \n",
       "4     11.27      8.89     10.22         1.00           NaN         NaN   \n",
       "5     23.20      2.26      4.22         0.58           NaN         NaN   \n",
       "6     11.28      9.14      6.50         2.88          89.0         8.5   \n",
       "7     13.96      9.18      2.93         2.84          58.0         6.6   \n",
       "8     14.44      6.94      4.70         2.24          87.0         8.4   \n",
       "9     26.93      0.63      0.28         0.47           NaN         NaN   \n",
       "\n",
       "    rating  \n",
       "0        E  \n",
       "1  Unknown  \n",
       "2        E  \n",
       "3        E  \n",
       "4  Unknown  \n",
       "5  Unknown  \n",
       "6        E  \n",
       "7        E  \n",
       "8        E  \n",
       "9  Unknown  "
      ]
     },
     "execution_count": 89,
     "metadata": {},
     "output_type": "execute_result"
    }
   ],
   "source": [
    "games_df.head(10)"
   ]
  },
  {
   "cell_type": "code",
   "execution_count": 90,
   "metadata": {},
   "outputs": [
    {
     "data": {
      "text/html": [
       "<div>\n",
       "<style scoped>\n",
       "    .dataframe tbody tr th:only-of-type {\n",
       "        vertical-align: middle;\n",
       "    }\n",
       "\n",
       "    .dataframe tbody tr th {\n",
       "        vertical-align: top;\n",
       "    }\n",
       "\n",
       "    .dataframe thead th {\n",
       "        text-align: right;\n",
       "    }\n",
       "</style>\n",
       "<table border=\"1\" class=\"dataframe\">\n",
       "  <thead>\n",
       "    <tr style=\"text-align: right;\">\n",
       "      <th></th>\n",
       "      <th>name</th>\n",
       "      <th>platform</th>\n",
       "      <th>year_of_release</th>\n",
       "      <th>genre</th>\n",
       "      <th>na_sales</th>\n",
       "      <th>eu_sales</th>\n",
       "      <th>jp_sales</th>\n",
       "      <th>other_sales</th>\n",
       "      <th>critic_score</th>\n",
       "      <th>user_score</th>\n",
       "      <th>rating</th>\n",
       "      <th>total_sales</th>\n",
       "    </tr>\n",
       "  </thead>\n",
       "  <tbody>\n",
       "    <tr>\n",
       "      <th>0</th>\n",
       "      <td>Wii Sports</td>\n",
       "      <td>Wii</td>\n",
       "      <td>2006</td>\n",
       "      <td>Sports</td>\n",
       "      <td>41.36</td>\n",
       "      <td>28.96</td>\n",
       "      <td>3.77</td>\n",
       "      <td>8.45</td>\n",
       "      <td>76.0</td>\n",
       "      <td>8.0</td>\n",
       "      <td>E</td>\n",
       "      <td>82.54</td>\n",
       "    </tr>\n",
       "    <tr>\n",
       "      <th>1</th>\n",
       "      <td>Super Mario Bros.</td>\n",
       "      <td>NES</td>\n",
       "      <td>1985</td>\n",
       "      <td>Platform</td>\n",
       "      <td>29.08</td>\n",
       "      <td>3.58</td>\n",
       "      <td>6.81</td>\n",
       "      <td>0.77</td>\n",
       "      <td>NaN</td>\n",
       "      <td>NaN</td>\n",
       "      <td>Unknown</td>\n",
       "      <td>40.24</td>\n",
       "    </tr>\n",
       "    <tr>\n",
       "      <th>2</th>\n",
       "      <td>Mario Kart Wii</td>\n",
       "      <td>Wii</td>\n",
       "      <td>2008</td>\n",
       "      <td>Racing</td>\n",
       "      <td>15.68</td>\n",
       "      <td>12.76</td>\n",
       "      <td>3.79</td>\n",
       "      <td>3.29</td>\n",
       "      <td>82.0</td>\n",
       "      <td>8.3</td>\n",
       "      <td>E</td>\n",
       "      <td>35.52</td>\n",
       "    </tr>\n",
       "    <tr>\n",
       "      <th>3</th>\n",
       "      <td>Wii Sports Resort</td>\n",
       "      <td>Wii</td>\n",
       "      <td>2009</td>\n",
       "      <td>Sports</td>\n",
       "      <td>15.61</td>\n",
       "      <td>10.93</td>\n",
       "      <td>3.28</td>\n",
       "      <td>2.95</td>\n",
       "      <td>80.0</td>\n",
       "      <td>8.0</td>\n",
       "      <td>E</td>\n",
       "      <td>32.77</td>\n",
       "    </tr>\n",
       "    <tr>\n",
       "      <th>4</th>\n",
       "      <td>Pokemon Red/Pokemon Blue</td>\n",
       "      <td>GB</td>\n",
       "      <td>1996</td>\n",
       "      <td>Role-Playing</td>\n",
       "      <td>11.27</td>\n",
       "      <td>8.89</td>\n",
       "      <td>10.22</td>\n",
       "      <td>1.00</td>\n",
       "      <td>NaN</td>\n",
       "      <td>NaN</td>\n",
       "      <td>Unknown</td>\n",
       "      <td>31.38</td>\n",
       "    </tr>\n",
       "    <tr>\n",
       "      <th>5</th>\n",
       "      <td>Tetris</td>\n",
       "      <td>GB</td>\n",
       "      <td>1989</td>\n",
       "      <td>Puzzle</td>\n",
       "      <td>23.20</td>\n",
       "      <td>2.26</td>\n",
       "      <td>4.22</td>\n",
       "      <td>0.58</td>\n",
       "      <td>NaN</td>\n",
       "      <td>NaN</td>\n",
       "      <td>Unknown</td>\n",
       "      <td>30.26</td>\n",
       "    </tr>\n",
       "    <tr>\n",
       "      <th>6</th>\n",
       "      <td>New Super Mario Bros.</td>\n",
       "      <td>DS</td>\n",
       "      <td>2006</td>\n",
       "      <td>Platform</td>\n",
       "      <td>11.28</td>\n",
       "      <td>9.14</td>\n",
       "      <td>6.50</td>\n",
       "      <td>2.88</td>\n",
       "      <td>89.0</td>\n",
       "      <td>8.5</td>\n",
       "      <td>E</td>\n",
       "      <td>29.80</td>\n",
       "    </tr>\n",
       "    <tr>\n",
       "      <th>7</th>\n",
       "      <td>Wii Play</td>\n",
       "      <td>Wii</td>\n",
       "      <td>2006</td>\n",
       "      <td>Misc</td>\n",
       "      <td>13.96</td>\n",
       "      <td>9.18</td>\n",
       "      <td>2.93</td>\n",
       "      <td>2.84</td>\n",
       "      <td>58.0</td>\n",
       "      <td>6.6</td>\n",
       "      <td>E</td>\n",
       "      <td>28.91</td>\n",
       "    </tr>\n",
       "    <tr>\n",
       "      <th>8</th>\n",
       "      <td>New Super Mario Bros. Wii</td>\n",
       "      <td>Wii</td>\n",
       "      <td>2009</td>\n",
       "      <td>Platform</td>\n",
       "      <td>14.44</td>\n",
       "      <td>6.94</td>\n",
       "      <td>4.70</td>\n",
       "      <td>2.24</td>\n",
       "      <td>87.0</td>\n",
       "      <td>8.4</td>\n",
       "      <td>E</td>\n",
       "      <td>28.32</td>\n",
       "    </tr>\n",
       "    <tr>\n",
       "      <th>9</th>\n",
       "      <td>Duck Hunt</td>\n",
       "      <td>NES</td>\n",
       "      <td>1984</td>\n",
       "      <td>Shooter</td>\n",
       "      <td>26.93</td>\n",
       "      <td>0.63</td>\n",
       "      <td>0.28</td>\n",
       "      <td>0.47</td>\n",
       "      <td>NaN</td>\n",
       "      <td>NaN</td>\n",
       "      <td>Unknown</td>\n",
       "      <td>28.31</td>\n",
       "    </tr>\n",
       "  </tbody>\n",
       "</table>\n",
       "</div>"
      ],
      "text/plain": [
       "                        name platform  year_of_release         genre  \\\n",
       "0                 Wii Sports      Wii             2006        Sports   \n",
       "1          Super Mario Bros.      NES             1985      Platform   \n",
       "2             Mario Kart Wii      Wii             2008        Racing   \n",
       "3          Wii Sports Resort      Wii             2009        Sports   \n",
       "4   Pokemon Red/Pokemon Blue       GB             1996  Role-Playing   \n",
       "5                     Tetris       GB             1989        Puzzle   \n",
       "6      New Super Mario Bros.       DS             2006      Platform   \n",
       "7                   Wii Play      Wii             2006          Misc   \n",
       "8  New Super Mario Bros. Wii      Wii             2009      Platform   \n",
       "9                  Duck Hunt      NES             1984       Shooter   \n",
       "\n",
       "   na_sales  eu_sales  jp_sales  other_sales  critic_score  user_score  \\\n",
       "0     41.36     28.96      3.77         8.45          76.0         8.0   \n",
       "1     29.08      3.58      6.81         0.77           NaN         NaN   \n",
       "2     15.68     12.76      3.79         3.29          82.0         8.3   \n",
       "3     15.61     10.93      3.28         2.95          80.0         8.0   \n",
       "4     11.27      8.89     10.22         1.00           NaN         NaN   \n",
       "5     23.20      2.26      4.22         0.58           NaN         NaN   \n",
       "6     11.28      9.14      6.50         2.88          89.0         8.5   \n",
       "7     13.96      9.18      2.93         2.84          58.0         6.6   \n",
       "8     14.44      6.94      4.70         2.24          87.0         8.4   \n",
       "9     26.93      0.63      0.28         0.47           NaN         NaN   \n",
       "\n",
       "    rating  total_sales  \n",
       "0        E        82.54  \n",
       "1  Unknown        40.24  \n",
       "2        E        35.52  \n",
       "3        E        32.77  \n",
       "4  Unknown        31.38  \n",
       "5  Unknown        30.26  \n",
       "6        E        29.80  \n",
       "7        E        28.91  \n",
       "8        E        28.32  \n",
       "9  Unknown        28.31  "
      ]
     },
     "execution_count": 90,
     "metadata": {},
     "output_type": "execute_result"
    }
   ],
   "source": [
    "games_df['total_sales'] = games_df['na_sales'] + games_df['eu_sales'] + games_df['jp_sales'] + games_df['other_sales']\n",
    "games_df.head(10)"
   ]
  },
  {
   "cell_type": "markdown",
   "metadata": {},
   "source": [
    "## Research data analysis:"
   ]
  },
  {
   "cell_type": "markdown",
   "metadata": {},
   "source": [
    "### Estimate the number of games that were released in different years:"
   ]
  },
  {
   "cell_type": "markdown",
   "metadata": {},
   "source": [
    "To estimate the number of games, we will count their names in the 'name' column. In this case, there is a chance to take into account the same game twice, released in different years, for example on different platforms. However, we will not correct this, since the release of the same game on a new platform requires further development on the part of the game manufacturer and also indicates the development of the industry. \n",
    "At the same time, for the correctness of the calculation, we will check for duplicates in the columns 'name', 'year_of_release', 'platform'."
   ]
  },
  {
   "cell_type": "code",
   "execution_count": 91,
   "metadata": {},
   "outputs": [],
   "source": [
    "games_df.drop_duplicates(subset=['name', 'year_of_release', 'platform'], inplace=True)"
   ]
  },
  {
   "cell_type": "code",
   "execution_count": 92,
   "metadata": {},
   "outputs": [
    {
     "data": {
      "text/html": [
       "<div>\n",
       "<style scoped>\n",
       "    .dataframe tbody tr th:only-of-type {\n",
       "        vertical-align: middle;\n",
       "    }\n",
       "\n",
       "    .dataframe tbody tr th {\n",
       "        vertical-align: top;\n",
       "    }\n",
       "\n",
       "    .dataframe thead th {\n",
       "        text-align: right;\n",
       "    }\n",
       "</style>\n",
       "<table border=\"1\" class=\"dataframe\">\n",
       "  <thead>\n",
       "    <tr style=\"text-align: right;\">\n",
       "      <th></th>\n",
       "      <th>year_of_release</th>\n",
       "      <th>released_games</th>\n",
       "    </tr>\n",
       "  </thead>\n",
       "  <tbody>\n",
       "    <tr>\n",
       "      <th>0</th>\n",
       "      <td>1980</td>\n",
       "      <td>9</td>\n",
       "    </tr>\n",
       "    <tr>\n",
       "      <th>1</th>\n",
       "      <td>1981</td>\n",
       "      <td>46</td>\n",
       "    </tr>\n",
       "    <tr>\n",
       "      <th>2</th>\n",
       "      <td>1982</td>\n",
       "      <td>36</td>\n",
       "    </tr>\n",
       "    <tr>\n",
       "      <th>3</th>\n",
       "      <td>1983</td>\n",
       "      <td>17</td>\n",
       "    </tr>\n",
       "    <tr>\n",
       "      <th>4</th>\n",
       "      <td>1984</td>\n",
       "      <td>14</td>\n",
       "    </tr>\n",
       "    <tr>\n",
       "      <th>5</th>\n",
       "      <td>1985</td>\n",
       "      <td>14</td>\n",
       "    </tr>\n",
       "    <tr>\n",
       "      <th>6</th>\n",
       "      <td>1986</td>\n",
       "      <td>21</td>\n",
       "    </tr>\n",
       "    <tr>\n",
       "      <th>7</th>\n",
       "      <td>1987</td>\n",
       "      <td>16</td>\n",
       "    </tr>\n",
       "    <tr>\n",
       "      <th>8</th>\n",
       "      <td>1988</td>\n",
       "      <td>15</td>\n",
       "    </tr>\n",
       "    <tr>\n",
       "      <th>9</th>\n",
       "      <td>1989</td>\n",
       "      <td>17</td>\n",
       "    </tr>\n",
       "    <tr>\n",
       "      <th>10</th>\n",
       "      <td>1990</td>\n",
       "      <td>16</td>\n",
       "    </tr>\n",
       "    <tr>\n",
       "      <th>11</th>\n",
       "      <td>1991</td>\n",
       "      <td>41</td>\n",
       "    </tr>\n",
       "    <tr>\n",
       "      <th>12</th>\n",
       "      <td>1992</td>\n",
       "      <td>43</td>\n",
       "    </tr>\n",
       "    <tr>\n",
       "      <th>13</th>\n",
       "      <td>1993</td>\n",
       "      <td>60</td>\n",
       "    </tr>\n",
       "    <tr>\n",
       "      <th>14</th>\n",
       "      <td>1994</td>\n",
       "      <td>121</td>\n",
       "    </tr>\n",
       "    <tr>\n",
       "      <th>15</th>\n",
       "      <td>1995</td>\n",
       "      <td>219</td>\n",
       "    </tr>\n",
       "    <tr>\n",
       "      <th>16</th>\n",
       "      <td>1996</td>\n",
       "      <td>263</td>\n",
       "    </tr>\n",
       "    <tr>\n",
       "      <th>17</th>\n",
       "      <td>1997</td>\n",
       "      <td>289</td>\n",
       "    </tr>\n",
       "    <tr>\n",
       "      <th>18</th>\n",
       "      <td>1998</td>\n",
       "      <td>379</td>\n",
       "    </tr>\n",
       "    <tr>\n",
       "      <th>19</th>\n",
       "      <td>1999</td>\n",
       "      <td>338</td>\n",
       "    </tr>\n",
       "    <tr>\n",
       "      <th>20</th>\n",
       "      <td>2000</td>\n",
       "      <td>350</td>\n",
       "    </tr>\n",
       "    <tr>\n",
       "      <th>21</th>\n",
       "      <td>2001</td>\n",
       "      <td>482</td>\n",
       "    </tr>\n",
       "    <tr>\n",
       "      <th>22</th>\n",
       "      <td>2002</td>\n",
       "      <td>829</td>\n",
       "    </tr>\n",
       "    <tr>\n",
       "      <th>23</th>\n",
       "      <td>2003</td>\n",
       "      <td>775</td>\n",
       "    </tr>\n",
       "    <tr>\n",
       "      <th>24</th>\n",
       "      <td>2004</td>\n",
       "      <td>762</td>\n",
       "    </tr>\n",
       "    <tr>\n",
       "      <th>25</th>\n",
       "      <td>2005</td>\n",
       "      <td>939</td>\n",
       "    </tr>\n",
       "    <tr>\n",
       "      <th>26</th>\n",
       "      <td>2006</td>\n",
       "      <td>1006</td>\n",
       "    </tr>\n",
       "    <tr>\n",
       "      <th>27</th>\n",
       "      <td>2007</td>\n",
       "      <td>1197</td>\n",
       "    </tr>\n",
       "    <tr>\n",
       "      <th>28</th>\n",
       "      <td>2008</td>\n",
       "      <td>1427</td>\n",
       "    </tr>\n",
       "    <tr>\n",
       "      <th>29</th>\n",
       "      <td>2009</td>\n",
       "      <td>1426</td>\n",
       "    </tr>\n",
       "    <tr>\n",
       "      <th>30</th>\n",
       "      <td>2010</td>\n",
       "      <td>1255</td>\n",
       "    </tr>\n",
       "    <tr>\n",
       "      <th>31</th>\n",
       "      <td>2011</td>\n",
       "      <td>1136</td>\n",
       "    </tr>\n",
       "    <tr>\n",
       "      <th>32</th>\n",
       "      <td>2012</td>\n",
       "      <td>652</td>\n",
       "    </tr>\n",
       "    <tr>\n",
       "      <th>33</th>\n",
       "      <td>2013</td>\n",
       "      <td>544</td>\n",
       "    </tr>\n",
       "    <tr>\n",
       "      <th>34</th>\n",
       "      <td>2014</td>\n",
       "      <td>581</td>\n",
       "    </tr>\n",
       "    <tr>\n",
       "      <th>35</th>\n",
       "      <td>2015</td>\n",
       "      <td>606</td>\n",
       "    </tr>\n",
       "    <tr>\n",
       "      <th>36</th>\n",
       "      <td>2016</td>\n",
       "      <td>502</td>\n",
       "    </tr>\n",
       "  </tbody>\n",
       "</table>\n",
       "</div>"
      ],
      "text/plain": [
       "    year_of_release  released_games\n",
       "0              1980               9\n",
       "1              1981              46\n",
       "2              1982              36\n",
       "3              1983              17\n",
       "4              1984              14\n",
       "5              1985              14\n",
       "6              1986              21\n",
       "7              1987              16\n",
       "8              1988              15\n",
       "9              1989              17\n",
       "10             1990              16\n",
       "11             1991              41\n",
       "12             1992              43\n",
       "13             1993              60\n",
       "14             1994             121\n",
       "15             1995             219\n",
       "16             1996             263\n",
       "17             1997             289\n",
       "18             1998             379\n",
       "19             1999             338\n",
       "20             2000             350\n",
       "21             2001             482\n",
       "22             2002             829\n",
       "23             2003             775\n",
       "24             2004             762\n",
       "25             2005             939\n",
       "26             2006            1006\n",
       "27             2007            1197\n",
       "28             2008            1427\n",
       "29             2009            1426\n",
       "30             2010            1255\n",
       "31             2011            1136\n",
       "32             2012             652\n",
       "33             2013             544\n",
       "34             2014             581\n",
       "35             2015             606\n",
       "36             2016             502"
      ]
     },
     "execution_count": 92,
     "metadata": {},
     "output_type": "execute_result"
    }
   ],
   "source": [
    "games_per_year = games_df.pivot_table(index=['year_of_release'], values='name', aggfunc='count')\n",
    "games_per_year\n",
    "games_per_year.reset_index(inplace=True)\n",
    "games_per_year.rename(columns = {'name' : 'released_games'}, inplace = True)\n",
    "games_per_year"
   ]
  },
  {
   "cell_type": "code",
   "execution_count": 93,
   "metadata": {},
   "outputs": [
    {
     "data": {
      "text/plain": [
       "year_of_release  released_games\n",
       "1980             9                 1\n",
       "1999             338               1\n",
       "2001             482               1\n",
       "2002             829               1\n",
       "2003             775               1\n",
       "2004             762               1\n",
       "2005             939               1\n",
       "2006             1006              1\n",
       "2007             1197              1\n",
       "2008             1427              1\n",
       "2009             1426              1\n",
       "2010             1255              1\n",
       "2011             1136              1\n",
       "2012             652               1\n",
       "2013             544               1\n",
       "2014             581               1\n",
       "2015             606               1\n",
       "2000             350               1\n",
       "1998             379               1\n",
       "1981             46                1\n",
       "1997             289               1\n",
       "1982             36                1\n",
       "1983             17                1\n",
       "1984             14                1\n",
       "1985             14                1\n",
       "1986             21                1\n",
       "1987             16                1\n",
       "1988             15                1\n",
       "1989             17                1\n",
       "1990             16                1\n",
       "1991             41                1\n",
       "1992             43                1\n",
       "1993             60                1\n",
       "1994             121               1\n",
       "1995             219               1\n",
       "1996             263               1\n",
       "2016             502               1\n",
       "dtype: int64"
      ]
     },
     "execution_count": 93,
     "metadata": {},
     "output_type": "execute_result"
    }
   ],
   "source": [
    "games_per_year.value_counts()"
   ]
  },
  {
   "cell_type": "code",
   "execution_count": 94,
   "metadata": {
    "scrolled": false
   },
   "outputs": [
    {
     "data": {
      "text/plain": [
       "Text(0.5, 1.0, 'Released games per year')"
      ]
     },
     "execution_count": 94,
     "metadata": {},
     "output_type": "execute_result"
    },
    {
     "data": {
      "image/png": "[encoded data removed]",
      "text/plain": [
       "<Figure size 1440x360 with 1 Axes>"
      ]
     },
     "metadata": {
      "needs_background": "light"
     },
     "output_type": "display_data"
    }
   ],
   "source": [
    "games_per_year.plot(x='year_of_release', y='released_games', kind='bar', figsize = (20, 5));\n",
    "plt.ylabel('released_games')\n",
    "plt.title('Released games per year')"
   ]
  },
  {
   "cell_type": "code",
   "execution_count": 95,
   "metadata": {},
   "outputs": [
    {
     "data": {
      "text/plain": [
       "count      37.000000\n",
       "mean      444.405405\n",
       "std       451.591535\n",
       "min         9.000000\n",
       "25%        36.000000\n",
       "50%       338.000000\n",
       "75%       762.000000\n",
       "max      1427.000000\n",
       "Name: released_games, dtype: float64"
      ]
     },
     "execution_count": 95,
     "metadata": {},
     "output_type": "execute_result"
    }
   ],
   "source": [
    "games_per_year['released_games'].describe()"
   ]
  },
  {
   "cell_type": "code",
   "execution_count": 96,
   "metadata": {},
   "outputs": [
    {
     "data": {
      "text/plain": [
       "(9.0, 1427.0)"
      ]
     },
     "execution_count": 96,
     "metadata": {},
     "output_type": "execute_result"
    },
    {
     "data": {
      "image/png": "[encoded data removed]",
      "text/plain": [
       "<Figure size 432x288 with 1 Axes>"
      ]
     },
     "metadata": {
      "needs_background": "light"
     },
     "output_type": "display_data"
    }
   ],
   "source": [
    "plt.boxplot(games_per_year['released_games'])\n",
    "plt.ylim(9,1427) "
   ]
  },
  {
   "cell_type": "markdown",
   "metadata": {},
   "source": [
    "Based on the graphs and the distribution data request, we see that the data does not contain stuffing and is distributed normally. It can also be assumed that the development of the gaming industry is closely related to the development of the personal computer industry and their appearance in the life of the average person, as well as the subsequent spread of smartphones. So from 1980 to 1994, the number of games released is insignificant, then there are several jumps in the number of games released: in 1994, 1998, 2002 and 2005. From 2005 to 2008, there is a gradual increase in the number of games produced. From 2009 to 2016 - we see a decrease in the number of games produced relative to the indicators of 2008 and 2009 to the number of games produced in 2001-2002."
   ]
  },
  {
   "cell_type": "markdown",
   "metadata": {},
   "source": [
    "### Evaluate the impact of platforms on the number of sales:"
   ]
  },
  {
   "cell_type": "markdown",
   "metadata": {},
   "source": [
    "#### Define the leading platforms by the number of sales:"
   ]
  },
  {
   "cell_type": "code",
   "execution_count": 97,
   "metadata": {
    "scrolled": true
   },
   "outputs": [
    {
     "data": {
      "text/plain": [
       "Text(0.5, 1.0, 'Total sales per game')"
      ]
     },
     "execution_count": 97,
     "metadata": {},
     "output_type": "execute_result"
    },
    {
     "data": {
      "image/png": "[encoded data removed]",
      "text/plain": [
       "<Figure size 1440x360 with 1 Axes>"
      ]
     },
     "metadata": {
      "needs_background": "light"
     },
     "output_type": "display_data"
    }
   ],
   "source": [
    "games_df.groupby(['platform'])['total_sales'].sum().sort_values(ascending=False).plot.bar(figsize=(20,5))\n",
    "plt.ylabel('total_sales')\n",
    "plt.title('Total sales per game')"
   ]
  },
  {
   "cell_type": "markdown",
   "metadata": {},
   "source": [
    "The leaders in the number of sales are the following platforms: PS2, X360, PS3, Wii, DS, PSP."
   ]
  },
  {
   "cell_type": "markdown",
   "metadata": {},
   "source": [
    "#### Study the distribution of sales of these platforms by year:"
   ]
  },
  {
   "cell_type": "code",
   "execution_count": 98,
   "metadata": {},
   "outputs": [
    {
     "data": {
      "text/html": [
       "<div>\n",
       "<style scoped>\n",
       "    .dataframe tbody tr th:only-of-type {\n",
       "        vertical-align: middle;\n",
       "    }\n",
       "\n",
       "    .dataframe tbody tr th {\n",
       "        vertical-align: top;\n",
       "    }\n",
       "\n",
       "    .dataframe thead th {\n",
       "        text-align: right;\n",
       "    }\n",
       "</style>\n",
       "<table border=\"1\" class=\"dataframe\">\n",
       "  <thead>\n",
       "    <tr style=\"text-align: right;\">\n",
       "      <th></th>\n",
       "      <th>name</th>\n",
       "      <th>platform</th>\n",
       "      <th>year_of_release</th>\n",
       "      <th>genre</th>\n",
       "      <th>na_sales</th>\n",
       "      <th>eu_sales</th>\n",
       "      <th>jp_sales</th>\n",
       "      <th>other_sales</th>\n",
       "      <th>critic_score</th>\n",
       "      <th>user_score</th>\n",
       "      <th>rating</th>\n",
       "      <th>total_sales</th>\n",
       "    </tr>\n",
       "  </thead>\n",
       "  <tbody>\n",
       "    <tr>\n",
       "      <th>0</th>\n",
       "      <td>Wii Sports</td>\n",
       "      <td>Wii</td>\n",
       "      <td>2006</td>\n",
       "      <td>Sports</td>\n",
       "      <td>41.36</td>\n",
       "      <td>28.96</td>\n",
       "      <td>3.77</td>\n",
       "      <td>8.45</td>\n",
       "      <td>76.0</td>\n",
       "      <td>8.0</td>\n",
       "      <td>E</td>\n",
       "      <td>82.54</td>\n",
       "    </tr>\n",
       "    <tr>\n",
       "      <th>2</th>\n",
       "      <td>Mario Kart Wii</td>\n",
       "      <td>Wii</td>\n",
       "      <td>2008</td>\n",
       "      <td>Racing</td>\n",
       "      <td>15.68</td>\n",
       "      <td>12.76</td>\n",
       "      <td>3.79</td>\n",
       "      <td>3.29</td>\n",
       "      <td>82.0</td>\n",
       "      <td>8.3</td>\n",
       "      <td>E</td>\n",
       "      <td>35.52</td>\n",
       "    </tr>\n",
       "    <tr>\n",
       "      <th>3</th>\n",
       "      <td>Wii Sports Resort</td>\n",
       "      <td>Wii</td>\n",
       "      <td>2009</td>\n",
       "      <td>Sports</td>\n",
       "      <td>15.61</td>\n",
       "      <td>10.93</td>\n",
       "      <td>3.28</td>\n",
       "      <td>2.95</td>\n",
       "      <td>80.0</td>\n",
       "      <td>8.0</td>\n",
       "      <td>E</td>\n",
       "      <td>32.77</td>\n",
       "    </tr>\n",
       "    <tr>\n",
       "      <th>6</th>\n",
       "      <td>New Super Mario Bros.</td>\n",
       "      <td>DS</td>\n",
       "      <td>2006</td>\n",
       "      <td>Platform</td>\n",
       "      <td>11.28</td>\n",
       "      <td>9.14</td>\n",
       "      <td>6.50</td>\n",
       "      <td>2.88</td>\n",
       "      <td>89.0</td>\n",
       "      <td>8.5</td>\n",
       "      <td>E</td>\n",
       "      <td>29.80</td>\n",
       "    </tr>\n",
       "    <tr>\n",
       "      <th>7</th>\n",
       "      <td>Wii Play</td>\n",
       "      <td>Wii</td>\n",
       "      <td>2006</td>\n",
       "      <td>Misc</td>\n",
       "      <td>13.96</td>\n",
       "      <td>9.18</td>\n",
       "      <td>2.93</td>\n",
       "      <td>2.84</td>\n",
       "      <td>58.0</td>\n",
       "      <td>6.6</td>\n",
       "      <td>E</td>\n",
       "      <td>28.91</td>\n",
       "    </tr>\n",
       "    <tr>\n",
       "      <th>8</th>\n",
       "      <td>New Super Mario Bros. Wii</td>\n",
       "      <td>Wii</td>\n",
       "      <td>2009</td>\n",
       "      <td>Platform</td>\n",
       "      <td>14.44</td>\n",
       "      <td>6.94</td>\n",
       "      <td>4.70</td>\n",
       "      <td>2.24</td>\n",
       "      <td>87.0</td>\n",
       "      <td>8.4</td>\n",
       "      <td>E</td>\n",
       "      <td>28.32</td>\n",
       "    </tr>\n",
       "    <tr>\n",
       "      <th>10</th>\n",
       "      <td>Nintendogs</td>\n",
       "      <td>DS</td>\n",
       "      <td>2005</td>\n",
       "      <td>Simulation</td>\n",
       "      <td>9.05</td>\n",
       "      <td>10.95</td>\n",
       "      <td>1.93</td>\n",
       "      <td>2.74</td>\n",
       "      <td>NaN</td>\n",
       "      <td>NaN</td>\n",
       "      <td>Unknown</td>\n",
       "      <td>24.67</td>\n",
       "    </tr>\n",
       "    <tr>\n",
       "      <th>11</th>\n",
       "      <td>Mario Kart DS</td>\n",
       "      <td>DS</td>\n",
       "      <td>2005</td>\n",
       "      <td>Racing</td>\n",
       "      <td>9.71</td>\n",
       "      <td>7.47</td>\n",
       "      <td>4.13</td>\n",
       "      <td>1.90</td>\n",
       "      <td>91.0</td>\n",
       "      <td>8.6</td>\n",
       "      <td>E</td>\n",
       "      <td>23.21</td>\n",
       "    </tr>\n",
       "    <tr>\n",
       "      <th>13</th>\n",
       "      <td>Wii Fit</td>\n",
       "      <td>Wii</td>\n",
       "      <td>2007</td>\n",
       "      <td>Sports</td>\n",
       "      <td>8.92</td>\n",
       "      <td>8.03</td>\n",
       "      <td>3.60</td>\n",
       "      <td>2.15</td>\n",
       "      <td>80.0</td>\n",
       "      <td>7.7</td>\n",
       "      <td>E</td>\n",
       "      <td>22.70</td>\n",
       "    </tr>\n",
       "    <tr>\n",
       "      <th>14</th>\n",
       "      <td>Kinect Adventures!</td>\n",
       "      <td>X360</td>\n",
       "      <td>2010</td>\n",
       "      <td>Misc</td>\n",
       "      <td>15.00</td>\n",
       "      <td>4.89</td>\n",
       "      <td>0.24</td>\n",
       "      <td>1.69</td>\n",
       "      <td>61.0</td>\n",
       "      <td>6.3</td>\n",
       "      <td>E</td>\n",
       "      <td>21.82</td>\n",
       "    </tr>\n",
       "  </tbody>\n",
       "</table>\n",
       "</div>"
      ],
      "text/plain": [
       "                         name platform  year_of_release       genre  na_sales  \\\n",
       "0                  Wii Sports      Wii             2006      Sports     41.36   \n",
       "2              Mario Kart Wii      Wii             2008      Racing     15.68   \n",
       "3           Wii Sports Resort      Wii             2009      Sports     15.61   \n",
       "6       New Super Mario Bros.       DS             2006    Platform     11.28   \n",
       "7                    Wii Play      Wii             2006        Misc     13.96   \n",
       "8   New Super Mario Bros. Wii      Wii             2009    Platform     14.44   \n",
       "10                 Nintendogs       DS             2005  Simulation      9.05   \n",
       "11              Mario Kart DS       DS             2005      Racing      9.71   \n",
       "13                    Wii Fit      Wii             2007      Sports      8.92   \n",
       "14         Kinect Adventures!     X360             2010        Misc     15.00   \n",
       "\n",
       "    eu_sales  jp_sales  other_sales  critic_score  user_score   rating  \\\n",
       "0      28.96      3.77         8.45          76.0         8.0        E   \n",
       "2      12.76      3.79         3.29          82.0         8.3        E   \n",
       "3      10.93      3.28         2.95          80.0         8.0        E   \n",
       "6       9.14      6.50         2.88          89.0         8.5        E   \n",
       "7       9.18      2.93         2.84          58.0         6.6        E   \n",
       "8       6.94      4.70         2.24          87.0         8.4        E   \n",
       "10     10.95      1.93         2.74           NaN         NaN  Unknown   \n",
       "11      7.47      4.13         1.90          91.0         8.6        E   \n",
       "13      8.03      3.60         2.15          80.0         7.7        E   \n",
       "14      4.89      0.24         1.69          61.0         6.3        E   \n",
       "\n",
       "    total_sales  \n",
       "0         82.54  \n",
       "2         35.52  \n",
       "3         32.77  \n",
       "6         29.80  \n",
       "7         28.91  \n",
       "8         28.32  \n",
       "10        24.67  \n",
       "11        23.21  \n",
       "13        22.70  \n",
       "14        21.82  "
      ]
     },
     "execution_count": 98,
     "metadata": {},
     "output_type": "execute_result"
    }
   ],
   "source": [
    "#filter the values of the table by the necessary conditions:\n",
    "top_platforms = games_df[(games_df['platform'].isin(['PS2', 'X360', 'PS3', 'Wii', 'DS', 'PS']))]\n",
    "top_platforms.head(10)"
   ]
  },
  {
   "cell_type": "code",
   "execution_count": 99,
   "metadata": {
    "scrolled": true
   },
   "outputs": [
    {
     "data": {
      "text/plain": [
       "Text(0.5, 1.0, 'Total sales of top-6 games per year')"
      ]
     },
     "execution_count": 99,
     "metadata": {},
     "output_type": "execute_result"
    },
    {
     "data": {
      "image/png": "[encoded data removed]",
      "text/plain": [
       "<Figure size 1440x360 with 1 Axes>"
      ]
     },
     "metadata": {
      "needs_background": "light"
     },
     "output_type": "display_data"
    }
   ],
   "source": [
    "top_platforms_bar = top_platforms.pivot_table(values='total_sales', index = 'year_of_release', columns = 'platform')\n",
    "top_platforms_bar.plot(kind='bar', figsize = (20, 5))\n",
    "plt.ylabel('total_sales')\n",
    "plt.title('Total sales of top-6 games per year')"
   ]
  },
  {
   "cell_type": "markdown",
   "metadata": {},
   "source": [
    "Based on the sales distribution charts for the top 6 platforms with the highest number of sales, it follows that:\n",
    "* The PS platform was active in 1994-2003;\n",
    "* The PS2 platform was active in 2000-2011;\n",
    "* The X360 platform was active in 2005-2016;\n",
    "* The PS3 platform was active in 2006-2016;\n",
    "* The Wii platform was active in 2006-2016, and in 2006 the number of sales to this platform was a record compared to other leading platforms;\n",
    "* The DS platform was active in 2004-2013;\n",
    "* probably as a result of the decline in popularity of the PS2 platform in 2005 (which coincides with the launch of the X360 platform), the creators of the PS2 decided to release the PS3 version in 2006;\n",
    "* on average, the duration of the platform's activity is 10 years."
   ]
  },
  {
   "cell_type": "markdown",
   "metadata": {},
   "source": [
    "#### Identify the platforms that are leading in terms of the number of sales recently:"
   ]
  },
  {
   "cell_type": "markdown",
   "metadata": {},
   "source": [
    "We will prepare a dataset with the most up-to-date data. To do this, let's turn to the distribution of the number of games released annually in 1980-2016, which we did earlier. Based on this graph, it can be seen that the decline of the gaming industry occurred in 2012, consider this period as the most relevant."
   ]
  },
  {
   "cell_type": "code",
   "execution_count": 100,
   "metadata": {},
   "outputs": [
    {
     "data": {
      "text/plain": [
       "11"
      ]
     },
     "execution_count": 100,
     "metadata": {},
     "output_type": "execute_result"
    }
   ],
   "source": [
    "new_platforms = games_df[games_df['year_of_release'] > 2012]\n",
    "len(new_platforms['platform'].unique())"
   ]
  },
  {
   "cell_type": "code",
   "execution_count": 101,
   "metadata": {},
   "outputs": [
    {
     "data": {
      "text/plain": [
       "Text(0, 0.5, 'total_sales')"
      ]
     },
     "execution_count": 101,
     "metadata": {},
     "output_type": "execute_result"
    },
    {
     "data": {
      "image/png": "[encoded data removed]",
      "text/plain": [
       "<Figure size 1440x360 with 1 Axes>"
      ]
     },
     "metadata": {
      "needs_background": "light"
     },
     "output_type": "display_data"
    }
   ],
   "source": [
    "new_platforms_bar = new_platforms.pivot_table(values='total_sales', index = 'year_of_release', columns = 'platform')\n",
    "new_platforms_bar.plot(kind='bar', figsize = (20, 5))\n",
    "plt.ylabel('total_sales')"
   ]
  },
  {
   "cell_type": "markdown",
   "metadata": {},
   "source": [
    "Based on the graph , we see the following:\n",
    "* the number of games released is gradually decreasing annually;\n",
    "* despite the decrease in the number of games, the leading platforms in sales are: PS4, 3DS, WiiU, XOne;\n",
    "* DS, PSP - games stopped being released for these platforms by 2016."
   ]
  },
  {
   "cell_type": "code",
   "execution_count": 102,
   "metadata": {},
   "outputs": [
    {
     "data": {
      "text/plain": [
       "array(['PS4', '3DS', 'XOne', 'WiiU'], dtype=object)"
      ]
     },
     "execution_count": 102,
     "metadata": {},
     "output_type": "execute_result"
    }
   ],
   "source": [
    "actual_top_platforms = new_platforms[(new_platforms['platform'].isin(['PS4', '3DS', 'WiiU', 'XOne']))]\n",
    "actual_top_platforms['platform'].unique()"
   ]
  },
  {
   "cell_type": "code",
   "execution_count": 103,
   "metadata": {
    "scrolled": true
   },
   "outputs": [
    {
     "data": {
      "image/png": "[encoded data removed]",
      "text/plain": [
       "<Figure size 432x288 with 1 Axes>"
      ]
     },
     "metadata": {
      "needs_background": "light"
     },
     "output_type": "display_data"
    }
   ],
   "source": [
    "sns.barplot(y='total_sales', \n",
    "            x='year_of_release', \n",
    "            hue='platform', \n",
    "            data = actual_top_platforms)\n",
    "plt.title('profitable_platforms')\n",
    "plt.show()"
   ]
  },
  {
   "cell_type": "code",
   "execution_count": 104,
   "metadata": {
    "scrolled": false
   },
   "outputs": [
    {
     "data": {
      "image/png": "[encoded data removed]",
      "text/plain": [
       "<Figure size 1440x360 with 1 Axes>"
      ]
     },
     "metadata": {
      "needs_background": "light"
     },
     "output_type": "display_data"
    }
   ],
   "source": [
    "plt.figure(figsize=(20,5))\n",
    "sns.boxplot(y='platform', x='total_sales',\n",
    "            data = actual_top_platforms)\n",
    "plt.show()"
   ]
  },
  {
   "cell_type": "code",
   "execution_count": 105,
   "metadata": {},
   "outputs": [
    {
     "data": {
      "image/png": "[encoded data removed]",
      "text/plain": [
       "<Figure size 360x720 with 1 Axes>"
      ]
     },
     "metadata": {
      "needs_background": "light"
     },
     "output_type": "display_data"
    }
   ],
   "source": [
    "plt.figure(figsize=(5,10))\n",
    "sns.boxplot(y='total_sales', x='platform',\n",
    "            data = actual_top_platforms)\n",
    "\n",
    "plt.ylim(0, 1)\n",
    "plt.show()"
   ]
  },
  {
   "cell_type": "markdown",
   "metadata": {},
   "source": [
    "Based on the graphs, it follows that the leading game sales platforms are distributed as follows: PS4, XOne, WiiU, 3DS. Although it should be noted that sales of PS4 and XOne are almost equal to each other.\n",
    "We can notice that thanks to the boxplot chart, we see that the median sales of the XOne platform are slightly higher than the median sales of the PS4 platform - this suggests that the average purchase price on the XOne platform is higher than on the PS4 platform. Nevertheless, the PS4 platform is still in the lead - perhaps due to more sales. At the same time, the median and the location of the lower and upper quartiles of sales of the 3DS platform are lower than those of other platforms, which also indicates its less popular positions in relation to PS4, XOne, WiiU. Meanwhile, information about the presence of outliers has also become available to us - we do not know the exact reason, but we can assume that these outliers are the result of buying an additional option inside the game, which sometimes significantly increase the cost of the game."
   ]
  },
  {
   "cell_type": "markdown",
   "metadata": {},
   "source": [
    "#### Determine the impact on sales within the PS4 platform of user reviews and critics:"
   ]
  },
  {
   "cell_type": "code",
   "execution_count": 106,
   "metadata": {},
   "outputs": [
    {
     "data": {
      "text/plain": [
       "array(['PS4'], dtype=object)"
      ]
     },
     "execution_count": 106,
     "metadata": {},
     "output_type": "execute_result"
    }
   ],
   "source": [
    "ps4_platform = new_platforms[new_platforms['platform'] == 'PS4']\n",
    "ps4_platform['platform'].unique()"
   ]
  },
  {
   "cell_type": "code",
   "execution_count": 107,
   "metadata": {},
   "outputs": [
    {
     "name": "stdout",
     "output_type": "stream",
     "text": [
      "<class 'pandas.core.frame.DataFrame'>\n",
      "Int64Index: 392 entries, 31 to 16585\n",
      "Data columns (total 12 columns):\n",
      " #   Column           Non-Null Count  Dtype  \n",
      "---  ------           --------------  -----  \n",
      " 0   name             392 non-null    object \n",
      " 1   platform         392 non-null    object \n",
      " 2   year_of_release  392 non-null    int64  \n",
      " 3   genre            392 non-null    object \n",
      " 4   na_sales         392 non-null    float64\n",
      " 5   eu_sales         392 non-null    float64\n",
      " 6   jp_sales         392 non-null    float64\n",
      " 7   other_sales      392 non-null    float64\n",
      " 8   critic_score     252 non-null    float64\n",
      " 9   user_score       257 non-null    float64\n",
      " 10  rating           392 non-null    object \n",
      " 11  total_sales      392 non-null    float64\n",
      "dtypes: float64(7), int64(1), object(4)\n",
      "memory usage: 39.8+ KB\n"
     ]
    }
   ],
   "source": [
    "ps4_platform.info()"
   ]
  },
  {
   "cell_type": "code",
   "execution_count": 108,
   "metadata": {},
   "outputs": [
    {
     "data": {
      "image/png": "[encoded data removed]",
      "text/plain": [
       "<Figure size 540x540 with 12 Axes>"
      ]
     },
     "metadata": {
      "needs_background": "light"
     },
     "output_type": "display_data"
    }
   ],
   "source": [
    "ps4_sales_vs_scores = sns.pairplot(ps4_platform[['total_sales','critic_score', 'user_score']])\n",
    "plt.show()"
   ]
  },
  {
   "cell_type": "code",
   "execution_count": 109,
   "metadata": {},
   "outputs": [
    {
     "data": {
      "text/plain": [
       "Text(0.5, 1.0, 'heatmap PS4')"
      ]
     },
     "execution_count": 109,
     "metadata": {},
     "output_type": "execute_result"
    },
    {
     "data": {
      "image/png": "[encoded data removed]",
      "text/plain": [
       "<Figure size 432x288 with 2 Axes>"
      ]
     },
     "metadata": {
      "needs_background": "light"
     },
     "output_type": "display_data"
    }
   ],
   "source": [
    "sns.heatmap(ps4_platform[['total_sales','critic_score', 'user_score']].corr(), annot = True)\n",
    "plt.title('heatmap PS4')"
   ]
  },
  {
   "cell_type": "markdown",
   "metadata": {},
   "source": [
    "Based on the graphs, it follows that:\n",
    "* the correlation between user ratings and critics' ratings is average,\n",
    "* correlation between critics' ratings and sales is weak,\n",
    "* the correlation between user ratings and sales is negative and very weak, we can ignore it."
   ]
  },
  {
   "cell_type": "markdown",
   "metadata": {},
   "source": [
    "#### Сheck the validity of the above correlations for other profitable platforms:"
   ]
  },
  {
   "cell_type": "markdown",
   "metadata": {},
   "source": [
    "Form a dataset for each of the profitable platforms:"
   ]
  },
  {
   "cell_type": "code",
   "execution_count": 110,
   "metadata": {},
   "outputs": [],
   "source": [
    "three_ds_platform = new_platforms[new_platforms['platform'] == '3DS']\n",
    "wiiu_platform = new_platforms[new_platforms['platform'] == 'WiiU']\n",
    "xone_platform = new_platforms[new_platforms['platform'] == 'XOne']"
   ]
  },
  {
   "cell_type": "code",
   "execution_count": 111,
   "metadata": {
    "scrolled": true
   },
   "outputs": [
    {
     "data": {
      "text/plain": [
       "Text(0.5, 1.0, 'heatmap 3DS')"
      ]
     },
     "execution_count": 111,
     "metadata": {},
     "output_type": "execute_result"
    },
    {
     "data": {
      "image/png": "[encoded data removed]",
      "text/plain": [
       "<Figure size 432x288 with 2 Axes>"
      ]
     },
     "metadata": {
      "needs_background": "light"
     },
     "output_type": "display_data"
    }
   ],
   "source": [
    "sns.heatmap(three_ds_platform[['total_sales','critic_score', 'user_score']].corr(), annot = True)\n",
    "plt.title('heatmap 3DS')"
   ]
  },
  {
   "cell_type": "code",
   "execution_count": 112,
   "metadata": {},
   "outputs": [
    {
     "data": {
      "text/plain": [
       "Text(0.5, 1.0, 'heatmap WiiU')"
      ]
     },
     "execution_count": 112,
     "metadata": {},
     "output_type": "execute_result"
    },
    {
     "data": {
      "image/png": "[encoded data removed]",
      "text/plain": [
       "<Figure size 432x288 with 2 Axes>"
      ]
     },
     "metadata": {
      "needs_background": "light"
     },
     "output_type": "display_data"
    }
   ],
   "source": [
    "sns.heatmap(wiiu_platform[['total_sales','critic_score', 'user_score']].corr(), annot = True)\n",
    "plt.title('heatmap WiiU')"
   ]
  },
  {
   "cell_type": "code",
   "execution_count": 113,
   "metadata": {},
   "outputs": [
    {
     "data": {
      "text/plain": [
       "Text(0.5, 1.0, 'heatmap XOne')"
      ]
     },
     "execution_count": 113,
     "metadata": {},
     "output_type": "execute_result"
    },
    {
     "data": {
      "image/png": "[encoded data removed]",
      "text/plain": [
       "<Figure size 432x288 with 2 Axes>"
      ]
     },
     "metadata": {
      "needs_background": "light"
     },
     "output_type": "display_data"
    }
   ],
   "source": [
    "sns.heatmap(xone_platform[['total_sales','critic_score', 'user_score']].corr(), annot = True)\n",
    "plt.title('heatmap XOne')"
   ]
  },
  {
   "cell_type": "markdown",
   "metadata": {},
   "source": [
    "Based on the graphs, we see that:\n",
    "* correlations true for PS4 are true for XOne;\n",
    "* the correlation between user ratings and critics' ratings of the 3DS and WiiU platforms is high, while this correlation is average for the PS4 and XOne platforms;\n",
    "* the correlation between critics' ratings and sales of the 3DS and WiiU platforms is weak, as is the PS4 platform or the XOne platform;\n",
    "* the correlation between user ratings and sales of the 3DS and WiiU platforms (as with the PS4 platform or the XOne platform) is negative and very weak, we can ignore it.\n",
    "\n",
    "Consequently, we can conclude that critics' ratings do not have a significant impact on the number of sales of games on the Internet platforms (the correlation is weak). User ratings also do not significantly affect the number of sales in any of the studied platforms (the correlation is negative and very weak, it can be ignored). At the same time, user ratings and critics' ratings are dependent on each other: for the PS4 and XOne platforms, this dependence is average, for the 3DS and WiiU platforms, it is high."
   ]
  },
  {
   "cell_type": "markdown",
   "metadata": {},
   "source": [
    "#### Identify the impact on the sales of games of their genres:"
   ]
  },
  {
   "cell_type": "markdown",
   "metadata": {},
   "source": [
    "Consider average or median sales (total_sales) across all genres:"
   ]
  },
  {
   "cell_type": "code",
   "execution_count": 114,
   "metadata": {},
   "outputs": [
    {
     "data": {
      "text/plain": [
       "Text(0.5, 1.0, 'Profitability of games genres')"
      ]
     },
     "execution_count": 114,
     "metadata": {},
     "output_type": "execute_result"
    },
    {
     "data": {
      "image/png": "[encoded data removed]",
      "text/plain": [
       "<Figure size 1440x360 with 1 Axes>"
      ]
     },
     "metadata": {
      "needs_background": "light"
     },
     "output_type": "display_data"
    }
   ],
   "source": [
    "new_platforms.pivot_table(index = 'genre', values = ['total_sales'], aggfunc = ['median','mean']).plot(\n",
    "    kind='bar', figsize=(20,5))\n",
    "plt.ylabel('sales')\n",
    "plt.title('Profitability of games genres')"
   ]
  },
  {
   "cell_type": "markdown",
   "metadata": {},
   "source": [
    "Based on the graph, we see that the most profitable genres are the genres: Shooter, Sports, Platform."
   ]
  },
  {
   "cell_type": "markdown",
   "metadata": {},
   "source": [
    "## Make a user portrait for each region:"
   ]
  },
  {
   "cell_type": "markdown",
   "metadata": {},
   "source": [
    "### Determine the top 5 popular platforms by the number of sales for each region (NA, EU, JP):"
   ]
  },
  {
   "cell_type": "code",
   "execution_count": 115,
   "metadata": {},
   "outputs": [
    {
     "data": {
      "text/plain": [
       "platform\n",
       "PS4     108.74\n",
       "XOne     93.12\n",
       "X360     81.66\n",
       "PS3      63.50\n",
       "3DS      38.20\n",
       "Name: na_sales, dtype: float64"
      ]
     },
     "execution_count": 115,
     "metadata": {},
     "output_type": "execute_result"
    }
   ],
   "source": [
    "new_platforms.groupby(['platform'])['na_sales'].sum().sort_values(ascending=False).head(5)"
   ]
  },
  {
   "cell_type": "code",
   "execution_count": 116,
   "metadata": {},
   "outputs": [
    {
     "data": {
      "text/plain": [
       "platform\n",
       "PS4     141.09\n",
       "PS3      67.81\n",
       "XOne     51.59\n",
       "X360     42.52\n",
       "3DS      30.96\n",
       "Name: eu_sales, dtype: float64"
      ]
     },
     "execution_count": 116,
     "metadata": {},
     "output_type": "execute_result"
    }
   ],
   "source": [
    "new_platforms.groupby(['platform'])['eu_sales'].sum().sort_values(ascending=False).head(5)"
   ]
  },
  {
   "cell_type": "code",
   "execution_count": 117,
   "metadata": {},
   "outputs": [
    {
     "data": {
      "text/plain": [
       "platform\n",
       "3DS     67.81\n",
       "PS3     23.35\n",
       "PSV     18.59\n",
       "PS4     15.96\n",
       "WiiU    10.88\n",
       "Name: jp_sales, dtype: float64"
      ]
     },
     "execution_count": 117,
     "metadata": {},
     "output_type": "execute_result"
    }
   ],
   "source": [
    "new_platforms.groupby(['platform'])['jp_sales'].sum().sort_values(ascending=False).head(5)"
   ]
  },
  {
   "cell_type": "markdown",
   "metadata": {},
   "source": [
    "The leaders among the sales platforms are:\n",
    "* in North America - PS4, XOne, X360, PS3, 3DS;\n",
    "* in Europe - PS4, PS3, XOne, X360, 3DS;\n",
    "* in Japan - 3DS, PS3, PSV, PS4, WiiU.\n",
    "\n",
    "Based on the results, the most popular platforms can be conditionally divided into the following categories: stationary (Playstation, Xbox) and portable (3DS, WiiU). Consequently, we see that in the regions of North America, Europe, stationary platforms are leading, among which Playstation takes the first place, Xbox takes the second place. In the Japan region, on the contrary, the 3DS portable platform is the leader, the Playstation platforms occupy 2-4 places, the WiiU portable platform occupies the 5th place. Perhaps such a difference in Japan is due to the specificity of the region, in particular, the presence of local manufacturers."
   ]
  },
  {
   "cell_type": "markdown",
   "metadata": {},
   "source": [
    "### Determine the top 5 popular genres by the number of sales for each region (NA, EU, JP):"
   ]
  },
  {
   "cell_type": "code",
   "execution_count": 118,
   "metadata": {},
   "outputs": [
    {
     "data": {
      "image/png": "[encoded data removed]",
      "text/plain": [
       "<Figure size 432x288 with 1 Axes>"
      ]
     },
     "metadata": {},
     "output_type": "display_data"
    }
   ],
   "source": [
    "new_platforms.groupby(['genre'])['na_sales'].sum().sort_values(ascending=False).head(5).plot(kind='pie')\n",
    "plt.title('Genre popularity in North America')\n",
    "plt.show()"
   ]
  },
  {
   "cell_type": "code",
   "execution_count": 119,
   "metadata": {},
   "outputs": [
    {
     "data": {
      "image/png": "[encoded data removed]",
      "text/plain": [
       "<Figure size 432x288 with 1 Axes>"
      ]
     },
     "metadata": {},
     "output_type": "display_data"
    }
   ],
   "source": [
    "new_platforms.groupby(['genre'])['eu_sales'].sum().sort_values(ascending=False).head(5).plot(kind='pie')\n",
    "plt.title('Genre popularity in Europe')\n",
    "plt.show()"
   ]
  },
  {
   "cell_type": "code",
   "execution_count": 120,
   "metadata": {},
   "outputs": [
    {
     "data": {
      "image/png": "[encoded data removed]",
      "text/plain": [
       "<Figure size 432x288 with 1 Axes>"
      ]
     },
     "metadata": {},
     "output_type": "display_data"
    }
   ],
   "source": [
    "new_platforms.groupby(['genre'])['jp_sales'].sum().sort_values(ascending=False).head(5).plot(kind='pie')\n",
    "plt.title('Genre popularity in Japan')\n",
    "plt.show()"
   ]
  },
  {
   "cell_type": "markdown",
   "metadata": {},
   "source": [
    "The leaders among genres in sales are:\n",
    "* in North America and Europe - the top 4 genres of games coincide, these are: 1st place - Action, 2nd place - Shooter, 3rd place - Sports, 4th place - Role-Playing. Completing the top 5 popular genres in each country are different genres: in North America - Inc, in Europe - Racing.\n",
    "* in Japan, popular genres were distributed as follows: 1st place - Role-Playing, 2nd place - Action, 3rd place - Misc, 4th place - Fighting, 5th place - Shooter.\n",
    "\n",
    "Probably, such a difference in popular genres between Japan and the regions of North America and Europe is due to the presence of other platforms that are more adapted to the genres of games popular in Japan (in Japan, portable platforms are widely used, whereas in the regions of North America and Europe, station platforms are popular)."
   ]
  },
  {
   "cell_type": "markdown",
   "metadata": {},
   "source": [
    "### Check the impact of the ESRB rating on sales in a particular region (NA, EU, JP):"
   ]
  },
  {
   "cell_type": "code",
   "execution_count": 121,
   "metadata": {},
   "outputs": [
    {
     "data": {
      "text/plain": [
       "rating\n",
       "M          165.21\n",
       "Unknown     89.42\n",
       "E           79.05\n",
       "E10+        54.24\n",
       "T           49.79\n",
       "Name: na_sales, dtype: float64"
      ]
     },
     "execution_count": 121,
     "metadata": {},
     "output_type": "execute_result"
    }
   ],
   "source": [
    "new_platforms.groupby(['rating'])['na_sales'].sum().sort_values(ascending=False)"
   ]
  },
  {
   "cell_type": "code",
   "execution_count": 122,
   "metadata": {},
   "outputs": [
    {
     "data": {
      "text/plain": [
       "rating\n",
       "M          145.32\n",
       "E           83.36\n",
       "Unknown     78.91\n",
       "E10+        42.69\n",
       "T           41.95\n",
       "Name: eu_sales, dtype: float64"
      ]
     },
     "execution_count": 122,
     "metadata": {},
     "output_type": "execute_result"
    }
   ],
   "source": [
    "new_platforms.groupby(['rating'])['eu_sales'].sum().sort_values(ascending=False)"
   ]
  },
  {
   "cell_type": "code",
   "execution_count": 123,
   "metadata": {},
   "outputs": [
    {
     "data": {
      "text/plain": [
       "rating\n",
       "Unknown    85.05\n",
       "T          20.59\n",
       "E          15.14\n",
       "M          14.11\n",
       "E10+        5.89\n",
       "Name: jp_sales, dtype: float64"
      ]
     },
     "execution_count": 123,
     "metadata": {},
     "output_type": "execute_result"
    }
   ],
   "source": [
    "new_platforms.groupby(['rating'])['jp_sales'].sum().sort_values(ascending=False)"
   ]
  },
  {
   "cell_type": "markdown",
   "metadata": {},
   "source": [
    "The most successful sales are games with the following age ratings:\n",
    "* in North America - the distribution of age rating categories is the same: M (mature), Unknown, E (everyone), E10+ (everyone 10 y.o. and up), T (teenagers, 13 y.o. and up);\n",
    "* in Europe - the distribution of age rating categories: M (mature), E (everyone), Unknown, E10+ (everyone 10 y.o. and up), T (teenagers, 13 y.o. and up);\n",
    "* in Japan, the largest number of sales is distributed differently: Unknown, T (teenagers, 13 y.o. and up), E (everyone), M (mature), E10+ (everyone 10 y.o. and up).\n",
    "\n",
    "The distribution of age rating categories in North America and Europe is generally similar. However, in North America, games with an indeterminate genre occupy the second place in popularity, while in Europe they occupy only the third place. Presumably, this may indicate that games produced outside the jurisdiction of the ESRB organization are common in North America and Europe.\n",
    "Probably such a difference in popular genres between Japan and the regions of North America and Europe is due to the presence of other platforms that are more adapted to the genres of games popular in Japan (in Japan, portable platforms are widely used, the price availability of which is higher than stationary, whereas in the regions of North America and Europe, station platforms that are as a rule, they are more expensive than portable ones and are available to older players)."
   ]
  },
  {
   "cell_type": "markdown",
   "metadata": {},
   "source": [
    "Thus, the most typical user is:\n",
    "* in the North America and Europe region - an adult player who loves Action games and prefers the PS4 platform;\n",
    "* in the Japan region, there is a teenager who loves Role-Playing games and prefers the 3DS platform."
   ]
  },
  {
   "cell_type": "markdown",
   "metadata": {},
   "source": [
    "## Hypothesis testing:"
   ]
  },
  {
   "cell_type": "markdown",
   "metadata": {},
   "source": [
    "Hypotheses to be tested:\n",
    "* The average user ratings of the Xbox One and PC platforms are the same.\n",
    "* Average user ratings of Action and Sports genres are different."
   ]
  },
  {
   "cell_type": "markdown",
   "metadata": {},
   "source": [
    "### Formulate null and alternative hypotheses:"
   ]
  },
  {
   "cell_type": "markdown",
   "metadata": {},
   "source": [
    "* Нулевая гипотеза №1: средние пользовательские рейтинги платформ Xbox One и PC одинаковы.\n",
    "* Альтернативная гипотеза №1: средние пользовательские рейтинги платформ Xbox One и PC разные.\n",
    "* Нулевая гипотеза №2: средние пользовательские рейтинги жанров Action и Sports одинаковы.\n",
    "* Альтернативная гипотеза №2: средние пользовательские рейтинги жанров Action и Sports разные."
   ]
  },
  {
   "cell_type": "markdown",
   "metadata": {},
   "source": [
    "### Test of hypotheses:"
   ]
  },
  {
   "cell_type": "markdown",
   "metadata": {},
   "source": [
    "Prepare a dataset to test hypotheses, leaving rows that do not contain NA values in the user_score column."
   ]
  },
  {
   "cell_type": "code",
   "execution_count": 124,
   "metadata": {},
   "outputs": [
    {
     "name": "stdout",
     "output_type": "stream",
     "text": [
      "<class 'pandas.core.frame.DataFrame'>\n",
      "Int64Index: 1192 entries, 16 to 16692\n",
      "Data columns (total 12 columns):\n",
      " #   Column           Non-Null Count  Dtype  \n",
      "---  ------           --------------  -----  \n",
      " 0   name             1192 non-null   object \n",
      " 1   platform         1192 non-null   object \n",
      " 2   year_of_release  1192 non-null   int64  \n",
      " 3   genre            1192 non-null   object \n",
      " 4   na_sales         1192 non-null   float64\n",
      " 5   eu_sales         1192 non-null   float64\n",
      " 6   jp_sales         1192 non-null   float64\n",
      " 7   other_sales      1192 non-null   float64\n",
      " 8   critic_score     976 non-null    float64\n",
      " 9   user_score       1192 non-null   float64\n",
      " 10  rating           1192 non-null   object \n",
      " 11  total_sales      1192 non-null   float64\n",
      "dtypes: float64(7), int64(1), object(4)\n",
      "memory usage: 121.1+ KB\n"
     ]
    }
   ],
   "source": [
    "df_check_hypothesis = new_platforms[new_platforms['user_score'].notna()]\n",
    "df_check_hypothesis.info()"
   ]
  },
  {
   "cell_type": "markdown",
   "metadata": {},
   "source": [
    "Test the first hypothesis:"
   ]
  },
  {
   "cell_type": "code",
   "execution_count": 125,
   "metadata": {},
   "outputs": [
    {
     "name": "stdout",
     "output_type": "stream",
     "text": [
      "Average user rating XOne: 6.52142857142857\n",
      "Average user rating PC: 6.269677419354836\n",
      "p-value: 0.14012658403611647\n",
      "It was not possible to reject the null hypothesis\n"
     ]
    }
   ],
   "source": [
    "xone_user_scores = df_check_hypothesis[df_check_hypothesis['platform'] == 'XOne']['user_score']\n",
    "pc_user_scores = df_check_hypothesis[df_check_hypothesis['platform'] == 'PC']['user_score']\n",
    "\n",
    "alpha = .05\n",
    "print('Average user rating XOne:', xone_user_scores.mean())\n",
    "print('Average user rating PC:', pc_user_scores.mean())\n",
    "\n",
    "results = st.ttest_ind(\n",
    "    xone_user_scores,\n",
    "    pc_user_scores) \n",
    "\n",
    "print(\"p-value:\", results.pvalue)\n",
    "if results.pvalue < alpha:\n",
    "    print(\"Reject the null hypothesis\")\n",
    "else:\n",
    "    print(\"It was not possible to reject the null hypothesis\")"
   ]
  },
  {
   "cell_type": "markdown",
   "metadata": {},
   "source": [
    "Since it follows from the test results that the null hypothesis cannot be rejected, we can conclude that, provided that the null hypothesis is true, there is a probability of its viability and we cannot reject it. This is also indicated by the calculation of the average values of the user rating of XOne (approximately 6.52) and PC (approximately 6.26), which are close."
   ]
  },
  {
   "cell_type": "markdown",
   "metadata": {},
   "source": [
    "Test the second hypothesis:"
   ]
  },
  {
   "cell_type": "code",
   "execution_count": 126,
   "metadata": {},
   "outputs": [
    {
     "name": "stdout",
     "output_type": "stream",
     "text": [
      "Average user rating Action: 6.837532133676097\n",
      "Average user rating Sports: 5.238124999999999\n",
      "p-vale: 1.0517832389140023e-27\n",
      "Reject the null hypothesis\n"
     ]
    }
   ],
   "source": [
    "action_user_scores = df_check_hypothesis[df_check_hypothesis['genre'] == 'Action']['user_score']\n",
    "sports_user_scores = df_check_hypothesis[df_check_hypothesis['genre'] == 'Sports']['user_score']\n",
    "\n",
    "alpha = .05\n",
    "print('Average user rating Action:', action_user_scores.mean())\n",
    "print('Average user rating Sports:', sports_user_scores.mean())\n",
    "\n",
    "results = st.ttest_ind(\n",
    "    action_user_scores,\n",
    "    sports_user_scores) \n",
    "\n",
    "print(\"p-vale:\", results.pvalue)\n",
    "if results.pvalue < alpha:\n",
    "    print(\"Reject the null hypothesis\")\n",
    "else:\n",
    "    print(\"It was not possible to reject the null hypothesis\")"
   ]
  },
  {
   "cell_type": "markdown",
   "metadata": {},
   "source": [
    "From the test results on the available data, at the significance level of 5% (the confidence level of 95%), there are reasons to reject the null hypothesis in favor of an alternative: the average user ratings of the Action and Sports genres are different."
   ]
  },
  {
   "cell_type": "markdown",
   "metadata": {},
   "source": [
    "## Overall conclusion:"
   ]
  },
  {
   "cell_type": "markdown",
   "metadata": {},
   "source": [
    "To prepare this analysis, a preliminary overview of the data has been carried out, gaps have been identified and evaluated in terms of their critical impact on the study, column names have been changed to correct, incorrect dataframe data types have been corrected. In general, it can be noted that the data is without significant anomalies, a significant number of gaps has taken place in the columns with the ratings of critics and users, but they have not affected the calculation of the number of sales of games, so it has been decided to leave them. Next, the total number of sales for all regions was calculated for each game. These data served as the basis for the subsequent research analysis of game sales.\n",
    "\n",
    "As part of the research data analysis, the following have been analyzed: \n",
    "* the number of games released annually, which allowed us to assess the market for the development of the gaming industry;\n",
    "* gaming platforms, their impact on game sales and the average period of their relevance;\n",
    "* game genres and their impact on game sales.\n",
    "\n",
    "It has been revealed that the development of the gaming industry is closely related to the development of the personal computer industry and their appearance in the life of the average person, as well as the subsequent spread of smartphones. So from 1980 to 1994, the number of games released is insignificant, then there are several jumps in the number of games released, namely: in 1994, 1998, 2002 and 2005. From 2005 to 2008, there is a gradual increase in the number of games produced. From 2009 to 2016 - we see a decrease in the number of games produced relative to the indicators of 2008 and 2009 to the number of games produced in 2001-2002.\n",
    "\n",
    "It has been revealed that the average duration of the platform's activity is 10 years. On the DS, PSP platforms, games stopped being released by 2016. Platforms PS4, XOne, WiiU,3DS are the leaders in the number of sales in the period from 2013 to 2016. \n",
    "\n",
    "It has been also possible to determine that critics' ratings and user ratings do not have a significant impact on the number of sales of games on the platforms under study.\n",
    "\n",
    "According to data for 2016, the most successful in terms of sales were Shooter genre games, followed by Sports and Platform genres.\n",
    "\n",
    "Also in the course of the study, a portrait of a typical user has been formed:\n",
    "* in the North America and Europe region - an adult player who loves Action games, preferring the PS4 platform;\n",
    "* in the Japan region, there is a teenager who loves Role-Playing games and prefers the 3DS platform.\n",
    "\n",
    "Two hypotheses have been tested during the study. As a result, null hypothesis No. 1 \"average user ratings of Xbox One and PC platforms are the same\" could not be rejected, and null hypothesis No. 2 \"average user ratings of Action and Sports genres are the same\" has a low probability of being realized, and the hypothesis \"average user ratings of Action and Sports genres are different\" is more likely.\n",
    "\n",
    "Thus, according to the data for 2016, the increase in the number of sales will contribute to the following:\n",
    "* support for games that are implemented on platforms that were created less than 10 years ago, for example, on platforms: PS4, XOne, WiiU, 3DS;\n",
    "* support for Shooter, Sports and Platform games;\n",
    "* depending on the goals, adhere to the features of the implementation of games existing in Japan, North America and Europe. At the same time, the markets of North America and Europe have many common features."
   ]
  }
 ],
 "metadata": {
  "ExecuteTimeLog": [
   {
    "duration": 66,
    "start_time": "2022-05-20T13:28:07.373Z"
   },
   {
    "duration": 7,
    "start_time": "2022-05-20T13:28:16.410Z"
   },
   {
    "duration": 559,
    "start_time": "2022-05-20T13:28:28.848Z"
   },
   {
    "duration": 29,
    "start_time": "2022-05-20T13:28:29.409Z"
   },
   {
    "duration": 15,
    "start_time": "2022-05-20T13:28:29.440Z"
   },
   {
    "duration": 12,
    "start_time": "2022-05-20T13:28:29.457Z"
   },
   {
    "duration": 35,
    "start_time": "2022-05-20T13:28:29.472Z"
   },
   {
    "duration": 46,
    "start_time": "2022-05-20T13:28:29.509Z"
   },
   {
    "duration": 29,
    "start_time": "2022-05-20T13:28:29.557Z"
   },
   {
    "duration": 6,
    "start_time": "2022-05-20T13:28:29.588Z"
   },
   {
    "duration": 36,
    "start_time": "2022-05-20T13:28:29.596Z"
   },
   {
    "duration": 12,
    "start_time": "2022-05-20T13:28:29.634Z"
   },
   {
    "duration": 31,
    "start_time": "2022-05-20T13:28:29.647Z"
   },
   {
    "duration": 23,
    "start_time": "2022-05-20T13:28:29.680Z"
   },
   {
    "duration": 32,
    "start_time": "2022-05-20T13:28:29.705Z"
   },
   {
    "duration": 12,
    "start_time": "2022-05-20T13:28:29.746Z"
   },
   {
    "duration": 11,
    "start_time": "2022-05-20T13:28:29.761Z"
   },
   {
    "duration": 30,
    "start_time": "2022-05-20T13:28:29.775Z"
   },
   {
    "duration": 11,
    "start_time": "2022-05-20T13:28:29.808Z"
   },
   {
    "duration": 35,
    "start_time": "2022-05-20T13:28:29.820Z"
   },
   {
    "duration": 833,
    "start_time": "2022-05-20T13:28:29.857Z"
   },
   {
    "duration": 201,
    "start_time": "2022-05-20T13:28:30.693Z"
   },
   {
    "duration": 255,
    "start_time": "2022-05-20T13:28:30.896Z"
   },
   {
    "duration": 17,
    "start_time": "2022-05-20T13:28:31.153Z"
   },
   {
    "duration": 20,
    "start_time": "2022-05-20T13:28:52.849Z"
   },
   {
    "duration": 26,
    "start_time": "2022-05-20T13:31:03.202Z"
   },
   {
    "duration": 45,
    "start_time": "2022-05-20T14:18:01.539Z"
   },
   {
    "duration": 31,
    "start_time": "2022-05-20T14:18:30.155Z"
   },
   {
    "duration": 9,
    "start_time": "2022-05-20T14:18:56.040Z"
   },
   {
    "duration": 38,
    "start_time": "2022-05-20T14:21:02.065Z"
   },
   {
    "duration": 13,
    "start_time": "2022-05-20T14:21:24.853Z"
   },
   {
    "duration": 15,
    "start_time": "2022-05-20T14:22:44.739Z"
   },
   {
    "duration": 178,
    "start_time": "2022-05-20T14:24:48.330Z"
   },
   {
    "duration": 268,
    "start_time": "2022-05-20T14:25:09.211Z"
   },
   {
    "duration": 153,
    "start_time": "2022-05-20T14:25:42.934Z"
   },
   {
    "duration": 225,
    "start_time": "2022-05-20T14:26:24.648Z"
   },
   {
    "duration": 147,
    "start_time": "2022-05-20T14:30:31.448Z"
   },
   {
    "duration": 157,
    "start_time": "2022-05-20T14:30:49.542Z"
   },
   {
    "duration": 162,
    "start_time": "2022-05-20T14:31:01.986Z"
   },
   {
    "duration": 245,
    "start_time": "2022-05-20T14:31:32.148Z"
   },
   {
    "duration": 484,
    "start_time": "2022-05-20T14:32:26.729Z"
   },
   {
    "duration": 381,
    "start_time": "2022-05-20T14:35:32.866Z"
   },
   {
    "duration": 282,
    "start_time": "2022-05-20T14:35:50.708Z"
   },
   {
    "duration": 431,
    "start_time": "2022-05-20T14:36:11.598Z"
   },
   {
    "duration": 341,
    "start_time": "2022-05-20T14:37:04.554Z"
   },
   {
    "duration": 327,
    "start_time": "2022-05-20T14:37:22.884Z"
   },
   {
    "duration": 312,
    "start_time": "2022-05-20T14:38:05.307Z"
   },
   {
    "duration": 175,
    "start_time": "2022-05-20T14:38:33.146Z"
   },
   {
    "duration": 224,
    "start_time": "2022-05-20T14:39:03.246Z"
   },
   {
    "duration": 207,
    "start_time": "2022-05-20T14:39:14.928Z"
   },
   {
    "duration": 183,
    "start_time": "2022-05-20T14:39:24.033Z"
   },
   {
    "duration": 519,
    "start_time": "2022-05-20T14:42:24.204Z"
   },
   {
    "duration": 603,
    "start_time": "2022-05-20T14:42:46.512Z"
   },
   {
    "duration": 545,
    "start_time": "2022-05-20T14:43:20.745Z"
   },
   {
    "duration": 354,
    "start_time": "2022-05-20T14:43:59.774Z"
   },
   {
    "duration": 15,
    "start_time": "2022-05-20T14:45:17.096Z"
   },
   {
    "duration": 16,
    "start_time": "2022-05-20T14:45:49.315Z"
   },
   {
    "duration": 16,
    "start_time": "2022-05-20T14:46:03.094Z"
   },
   {
    "duration": 332,
    "start_time": "2022-05-20T14:46:21.472Z"
   },
   {
    "duration": 127,
    "start_time": "2022-05-20T14:51:47.990Z"
   },
   {
    "duration": 115,
    "start_time": "2022-05-20T14:52:21.768Z"
   },
   {
    "duration": 11,
    "start_time": "2022-05-20T14:52:42.880Z"
   },
   {
    "duration": 16,
    "start_time": "2022-05-20T14:55:49.369Z"
   },
   {
    "duration": 60,
    "start_time": "2022-05-20T14:56:03.936Z"
   },
   {
    "duration": 14,
    "start_time": "2022-05-20T14:56:03.999Z"
   },
   {
    "duration": 23,
    "start_time": "2022-05-20T14:56:04.023Z"
   },
   {
    "duration": 12,
    "start_time": "2022-05-20T14:56:04.048Z"
   },
   {
    "duration": 43,
    "start_time": "2022-05-20T14:56:04.062Z"
   },
   {
    "duration": 9,
    "start_time": "2022-05-20T14:56:04.107Z"
   },
   {
    "duration": 23,
    "start_time": "2022-05-20T14:56:04.117Z"
   },
   {
    "duration": 4,
    "start_time": "2022-05-20T14:56:04.142Z"
   },
   {
    "duration": 21,
    "start_time": "2022-05-20T14:56:04.148Z"
   },
   {
    "duration": 4,
    "start_time": "2022-05-20T14:56:04.171Z"
   },
   {
    "duration": 7,
    "start_time": "2022-05-20T14:56:04.176Z"
   },
   {
    "duration": 6,
    "start_time": "2022-05-20T14:56:04.185Z"
   },
   {
    "duration": 44,
    "start_time": "2022-05-20T14:56:04.192Z"
   },
   {
    "duration": 5,
    "start_time": "2022-05-20T14:56:04.238Z"
   },
   {
    "duration": 8,
    "start_time": "2022-05-20T14:56:04.244Z"
   },
   {
    "duration": 11,
    "start_time": "2022-05-20T14:56:04.253Z"
   },
   {
    "duration": 8,
    "start_time": "2022-05-20T14:56:04.265Z"
   },
   {
    "duration": 18,
    "start_time": "2022-05-20T14:56:04.275Z"
   },
   {
    "duration": 320,
    "start_time": "2022-05-20T14:56:04.294Z"
   },
   {
    "duration": 183,
    "start_time": "2022-05-20T14:56:04.615Z"
   },
   {
    "duration": 214,
    "start_time": "2022-05-20T14:56:04.799Z"
   },
   {
    "duration": 20,
    "start_time": "2022-05-20T14:56:05.015Z"
   },
   {
    "duration": 23,
    "start_time": "2022-05-20T14:56:05.037Z"
   },
   {
    "duration": 21,
    "start_time": "2022-05-20T14:56:13.108Z"
   },
   {
    "duration": 456,
    "start_time": "2022-05-20T14:57:08.541Z"
   },
   {
    "duration": 9,
    "start_time": "2022-05-20T14:58:19.459Z"
   },
   {
    "duration": 112,
    "start_time": "2022-05-20T14:59:50.427Z"
   },
   {
    "duration": 100,
    "start_time": "2022-05-20T15:00:14.576Z"
   },
   {
    "duration": 99,
    "start_time": "2022-05-20T15:00:25.172Z"
   },
   {
    "duration": 99,
    "start_time": "2022-05-20T15:03:31.426Z"
   },
   {
    "duration": 583,
    "start_time": "2022-05-21T10:11:50.461Z"
   },
   {
    "duration": 19,
    "start_time": "2022-05-21T10:11:51.046Z"
   },
   {
    "duration": 15,
    "start_time": "2022-05-21T10:11:51.066Z"
   },
   {
    "duration": 8,
    "start_time": "2022-05-21T10:11:51.082Z"
   },
   {
    "duration": 33,
    "start_time": "2022-05-21T10:11:51.092Z"
   },
   {
    "duration": 10,
    "start_time": "2022-05-21T10:11:51.127Z"
   },
   {
    "duration": 22,
    "start_time": "2022-05-21T10:11:51.139Z"
   },
   {
    "duration": 5,
    "start_time": "2022-05-21T10:11:51.162Z"
   },
   {
    "duration": 17,
    "start_time": "2022-05-21T10:11:51.168Z"
   },
   {
    "duration": 27,
    "start_time": "2022-05-21T10:11:51.186Z"
   },
   {
    "duration": 5,
    "start_time": "2022-05-21T10:11:51.214Z"
   },
   {
    "duration": 6,
    "start_time": "2022-05-21T10:11:51.221Z"
   },
   {
    "duration": 16,
    "start_time": "2022-05-21T10:11:51.228Z"
   },
   {
    "duration": 4,
    "start_time": "2022-05-21T10:11:51.246Z"
   },
   {
    "duration": 8,
    "start_time": "2022-05-21T10:11:51.252Z"
   },
   {
    "duration": 13,
    "start_time": "2022-05-21T10:11:51.261Z"
   },
   {
    "duration": 41,
    "start_time": "2022-05-21T10:11:51.275Z"
   },
   {
    "duration": 16,
    "start_time": "2022-05-21T10:11:51.317Z"
   },
   {
    "duration": 765,
    "start_time": "2022-05-21T10:11:51.334Z"
   },
   {
    "duration": 206,
    "start_time": "2022-05-21T10:11:52.101Z"
   },
   {
    "duration": 246,
    "start_time": "2022-05-21T10:11:52.311Z"
   },
   {
    "duration": 19,
    "start_time": "2022-05-21T10:11:52.559Z"
   },
   {
    "duration": 34,
    "start_time": "2022-05-21T10:11:52.579Z"
   },
   {
    "duration": 15,
    "start_time": "2022-05-21T10:11:52.615Z"
   },
   {
    "duration": 335,
    "start_time": "2022-05-21T10:11:52.632Z"
   },
   {
    "duration": 8,
    "start_time": "2022-05-21T10:11:52.968Z"
   },
   {
    "duration": 103,
    "start_time": "2022-05-21T10:11:52.977Z"
   },
   {
    "duration": 17,
    "start_time": "2022-05-21T10:23:19.869Z"
   },
   {
    "duration": 15,
    "start_time": "2022-05-21T10:32:20.433Z"
   },
   {
    "duration": 30,
    "start_time": "2022-05-21T10:35:31.443Z"
   },
   {
    "duration": 16,
    "start_time": "2022-05-21T10:36:17.114Z"
   },
   {
    "duration": 16,
    "start_time": "2022-05-21T10:40:27.086Z"
   },
   {
    "duration": 26,
    "start_time": "2022-05-21T10:43:03.133Z"
   },
   {
    "duration": 17,
    "start_time": "2022-05-21T11:00:10.676Z"
   },
   {
    "duration": 26,
    "start_time": "2022-05-21T11:01:04.529Z"
   },
   {
    "duration": 25,
    "start_time": "2022-05-21T11:04:18.621Z"
   },
   {
    "duration": 7,
    "start_time": "2022-05-21T11:04:39.522Z"
   },
   {
    "duration": 7,
    "start_time": "2022-05-21T11:06:22.472Z"
   },
   {
    "duration": 82,
    "start_time": "2022-05-21T11:06:46.970Z"
   },
   {
    "duration": 29,
    "start_time": "2022-05-21T11:11:22.695Z"
   },
   {
    "duration": 27,
    "start_time": "2022-05-21T11:11:49.399Z"
   },
   {
    "duration": 10,
    "start_time": "2022-05-21T11:12:27.006Z"
   },
   {
    "duration": 20,
    "start_time": "2022-05-21T11:15:07.786Z"
   },
   {
    "duration": 13,
    "start_time": "2022-05-21T11:15:43.322Z"
   },
   {
    "duration": 13,
    "start_time": "2022-05-21T11:15:51.287Z"
   },
   {
    "duration": 19,
    "start_time": "2022-05-21T11:15:58.709Z"
   },
   {
    "duration": 525,
    "start_time": "2022-05-21T11:17:15.070Z"
   },
   {
    "duration": 18,
    "start_time": "2022-05-21T11:20:46.441Z"
   },
   {
    "duration": 14,
    "start_time": "2022-05-21T11:20:57.930Z"
   },
   {
    "duration": 14,
    "start_time": "2022-05-21T11:22:00.878Z"
   },
   {
    "duration": 14,
    "start_time": "2022-05-21T11:22:35.973Z"
   },
   {
    "duration": 13,
    "start_time": "2022-05-21T11:22:47.868Z"
   },
   {
    "duration": 13,
    "start_time": "2022-05-21T11:23:32.637Z"
   },
   {
    "duration": 7,
    "start_time": "2022-05-21T11:23:44.029Z"
   },
   {
    "duration": 7,
    "start_time": "2022-05-21T11:24:02.478Z"
   },
   {
    "duration": 8,
    "start_time": "2022-05-21T11:24:09.868Z"
   },
   {
    "duration": 8,
    "start_time": "2022-05-21T11:24:13.636Z"
   },
   {
    "duration": 14,
    "start_time": "2022-05-21T11:24:29.633Z"
   },
   {
    "duration": 7,
    "start_time": "2022-05-21T11:24:44.512Z"
   },
   {
    "duration": 13,
    "start_time": "2022-05-21T11:24:59.320Z"
   },
   {
    "duration": 35,
    "start_time": "2022-05-21T11:25:23.379Z"
   },
   {
    "duration": 7,
    "start_time": "2022-05-21T11:25:29.634Z"
   },
   {
    "duration": 8,
    "start_time": "2022-05-21T11:25:39.274Z"
   },
   {
    "duration": 7,
    "start_time": "2022-05-21T11:25:46.202Z"
   },
   {
    "duration": 8,
    "start_time": "2022-05-21T11:26:01.201Z"
   },
   {
    "duration": 14,
    "start_time": "2022-05-21T11:26:16.123Z"
   },
   {
    "duration": 8,
    "start_time": "2022-05-21T11:26:28.977Z"
   },
   {
    "duration": 6,
    "start_time": "2022-05-21T11:26:42.984Z"
   },
   {
    "duration": 14,
    "start_time": "2022-05-21T11:26:48.464Z"
   },
   {
    "duration": 13,
    "start_time": "2022-05-21T11:27:51.069Z"
   },
   {
    "duration": 19,
    "start_time": "2022-05-21T11:27:57.808Z"
   },
   {
    "duration": 65,
    "start_time": "2022-05-21T11:28:34.923Z"
   },
   {
    "duration": 15,
    "start_time": "2022-05-21T11:28:34.990Z"
   },
   {
    "duration": 31,
    "start_time": "2022-05-21T11:28:35.006Z"
   },
   {
    "duration": 10,
    "start_time": "2022-05-21T11:28:35.039Z"
   },
   {
    "duration": 18,
    "start_time": "2022-05-21T11:28:35.050Z"
   },
   {
    "duration": 8,
    "start_time": "2022-05-21T11:28:35.070Z"
   },
   {
    "duration": 38,
    "start_time": "2022-05-21T11:28:35.080Z"
   },
   {
    "duration": 5,
    "start_time": "2022-05-21T11:28:35.120Z"
   },
   {
    "duration": 20,
    "start_time": "2022-05-21T11:28:35.126Z"
   },
   {
    "duration": 5,
    "start_time": "2022-05-21T11:28:35.149Z"
   },
   {
    "duration": 6,
    "start_time": "2022-05-21T11:28:35.156Z"
   },
   {
    "duration": 8,
    "start_time": "2022-05-21T11:28:35.164Z"
   },
   {
    "duration": 49,
    "start_time": "2022-05-21T11:28:35.174Z"
   },
   {
    "duration": 6,
    "start_time": "2022-05-21T11:28:35.225Z"
   },
   {
    "duration": 8,
    "start_time": "2022-05-21T11:28:35.233Z"
   },
   {
    "duration": 10,
    "start_time": "2022-05-21T11:28:35.242Z"
   },
   {
    "duration": 7,
    "start_time": "2022-05-21T11:28:35.254Z"
   },
   {
    "duration": 17,
    "start_time": "2022-05-21T11:28:35.262Z"
   },
   {
    "duration": 421,
    "start_time": "2022-05-21T11:28:35.280Z"
   },
   {
    "duration": 215,
    "start_time": "2022-05-21T11:28:35.703Z"
   },
   {
    "duration": 230,
    "start_time": "2022-05-21T11:28:35.920Z"
   },
   {
    "duration": 17,
    "start_time": "2022-05-21T11:28:36.152Z"
   },
   {
    "duration": 20,
    "start_time": "2022-05-21T11:28:36.171Z"
   },
   {
    "duration": 33,
    "start_time": "2022-05-21T11:28:36.193Z"
   },
   {
    "duration": 370,
    "start_time": "2022-05-21T11:28:36.228Z"
   },
   {
    "duration": 13,
    "start_time": "2022-05-21T11:28:36.600Z"
   },
   {
    "duration": 113,
    "start_time": "2022-05-21T11:28:36.615Z"
   },
   {
    "duration": 16,
    "start_time": "2022-05-21T11:28:36.731Z"
   },
   {
    "duration": 33,
    "start_time": "2022-05-21T11:28:36.749Z"
   },
   {
    "duration": 30,
    "start_time": "2022-05-21T11:28:36.784Z"
   },
   {
    "duration": 10,
    "start_time": "2022-05-21T11:34:50.996Z"
   },
   {
    "duration": 23,
    "start_time": "2022-05-21T11:35:08.363Z"
   },
   {
    "duration": 10,
    "start_time": "2022-05-21T11:35:27.079Z"
   },
   {
    "duration": 9,
    "start_time": "2022-05-21T11:36:02.567Z"
   },
   {
    "duration": 9,
    "start_time": "2022-05-21T11:36:09.773Z"
   },
   {
    "duration": 21,
    "start_time": "2022-05-21T11:36:24.978Z"
   },
   {
    "duration": 20,
    "start_time": "2022-05-21T11:41:08.802Z"
   },
   {
    "duration": 15,
    "start_time": "2022-05-21T11:42:01.991Z"
   },
   {
    "duration": 19,
    "start_time": "2022-05-21T11:42:12.414Z"
   },
   {
    "duration": 129,
    "start_time": "2022-05-21T11:45:06.183Z"
   },
   {
    "duration": 23,
    "start_time": "2022-05-21T11:46:34.101Z"
   },
   {
    "duration": 18,
    "start_time": "2022-05-21T11:49:32.675Z"
   },
   {
    "duration": 0,
    "start_time": "2022-05-21T12:00:20.237Z"
   },
   {
    "duration": 0,
    "start_time": "2022-05-21T12:00:20.239Z"
   },
   {
    "duration": 0,
    "start_time": "2022-05-21T12:00:20.240Z"
   },
   {
    "duration": 0,
    "start_time": "2022-05-21T12:00:20.242Z"
   },
   {
    "duration": 0,
    "start_time": "2022-05-21T12:00:20.243Z"
   },
   {
    "duration": 0,
    "start_time": "2022-05-21T12:00:20.245Z"
   },
   {
    "duration": 0,
    "start_time": "2022-05-21T12:00:20.247Z"
   },
   {
    "duration": 0,
    "start_time": "2022-05-21T12:00:20.248Z"
   },
   {
    "duration": 0,
    "start_time": "2022-05-21T12:00:20.250Z"
   },
   {
    "duration": 0,
    "start_time": "2022-05-21T12:00:20.313Z"
   },
   {
    "duration": 0,
    "start_time": "2022-05-21T12:00:20.314Z"
   },
   {
    "duration": 0,
    "start_time": "2022-05-21T12:00:20.316Z"
   },
   {
    "duration": 0,
    "start_time": "2022-05-21T12:00:20.318Z"
   },
   {
    "duration": 0,
    "start_time": "2022-05-21T12:00:20.320Z"
   },
   {
    "duration": 0,
    "start_time": "2022-05-21T12:00:20.321Z"
   },
   {
    "duration": 0,
    "start_time": "2022-05-21T12:00:20.323Z"
   },
   {
    "duration": 0,
    "start_time": "2022-05-21T12:00:20.325Z"
   },
   {
    "duration": 0,
    "start_time": "2022-05-21T12:00:20.326Z"
   },
   {
    "duration": 0,
    "start_time": "2022-05-21T12:00:20.328Z"
   },
   {
    "duration": 0,
    "start_time": "2022-05-21T12:00:20.330Z"
   },
   {
    "duration": 0,
    "start_time": "2022-05-21T12:00:20.331Z"
   },
   {
    "duration": 0,
    "start_time": "2022-05-21T12:00:20.333Z"
   },
   {
    "duration": 0,
    "start_time": "2022-05-21T12:00:20.335Z"
   },
   {
    "duration": 0,
    "start_time": "2022-05-21T12:00:20.337Z"
   },
   {
    "duration": 0,
    "start_time": "2022-05-21T12:00:20.338Z"
   },
   {
    "duration": 0,
    "start_time": "2022-05-21T12:00:20.341Z"
   },
   {
    "duration": 0,
    "start_time": "2022-05-21T12:00:20.342Z"
   },
   {
    "duration": 0,
    "start_time": "2022-05-21T12:00:20.344Z"
   },
   {
    "duration": 0,
    "start_time": "2022-05-21T12:00:20.346Z"
   },
   {
    "duration": 0,
    "start_time": "2022-05-21T12:00:20.350Z"
   },
   {
    "duration": 57,
    "start_time": "2022-05-21T12:01:25.369Z"
   },
   {
    "duration": 13,
    "start_time": "2022-05-21T12:01:25.428Z"
   },
   {
    "duration": 19,
    "start_time": "2022-05-21T12:01:25.443Z"
   },
   {
    "duration": 11,
    "start_time": "2022-05-21T12:01:25.464Z"
   },
   {
    "duration": 37,
    "start_time": "2022-05-21T12:01:25.477Z"
   },
   {
    "duration": 8,
    "start_time": "2022-05-21T12:01:25.515Z"
   },
   {
    "duration": 18,
    "start_time": "2022-05-21T12:01:25.524Z"
   },
   {
    "duration": 4,
    "start_time": "2022-05-21T12:01:25.544Z"
   },
   {
    "duration": 14,
    "start_time": "2022-05-21T12:01:25.551Z"
   },
   {
    "duration": 4,
    "start_time": "2022-05-21T12:01:25.567Z"
   },
   {
    "duration": 8,
    "start_time": "2022-05-21T12:01:25.573Z"
   },
   {
    "duration": 31,
    "start_time": "2022-05-21T12:01:25.582Z"
   },
   {
    "duration": 16,
    "start_time": "2022-05-21T12:01:25.615Z"
   },
   {
    "duration": 4,
    "start_time": "2022-05-21T12:01:25.634Z"
   },
   {
    "duration": 6,
    "start_time": "2022-05-21T12:01:25.640Z"
   },
   {
    "duration": 6,
    "start_time": "2022-05-21T12:01:25.648Z"
   },
   {
    "duration": 7,
    "start_time": "2022-05-21T12:01:25.655Z"
   },
   {
    "duration": 14,
    "start_time": "2022-05-21T12:01:25.663Z"
   },
   {
    "duration": 322,
    "start_time": "2022-05-21T12:01:25.679Z"
   },
   {
    "duration": 178,
    "start_time": "2022-05-21T12:01:26.002Z"
   },
   {
    "duration": 226,
    "start_time": "2022-05-21T12:01:26.182Z"
   },
   {
    "duration": 15,
    "start_time": "2022-05-21T12:01:26.412Z"
   },
   {
    "duration": 21,
    "start_time": "2022-05-21T12:01:26.428Z"
   },
   {
    "duration": 16,
    "start_time": "2022-05-21T12:01:26.450Z"
   },
   {
    "duration": 353,
    "start_time": "2022-05-21T12:01:26.467Z"
   },
   {
    "duration": 9,
    "start_time": "2022-05-21T12:01:26.822Z"
   },
   {
    "duration": 104,
    "start_time": "2022-05-21T12:01:26.832Z"
   },
   {
    "duration": 17,
    "start_time": "2022-05-21T12:01:26.937Z"
   },
   {
    "duration": 23,
    "start_time": "2022-05-21T12:01:26.955Z"
   },
   {
    "duration": 3,
    "start_time": "2022-05-21T12:01:26.979Z"
   },
   {
    "duration": 23,
    "start_time": "2022-05-21T12:02:48.788Z"
   },
   {
    "duration": 558,
    "start_time": "2022-05-21T12:03:44.243Z"
   },
   {
    "duration": 25,
    "start_time": "2022-05-21T12:04:09.806Z"
   },
   {
    "duration": 62,
    "start_time": "2022-05-21T12:06:18.546Z"
   },
   {
    "duration": 21,
    "start_time": "2022-05-21T12:06:18.609Z"
   },
   {
    "duration": 20,
    "start_time": "2022-05-21T12:06:18.632Z"
   },
   {
    "duration": 10,
    "start_time": "2022-05-21T12:06:18.654Z"
   },
   {
    "duration": 16,
    "start_time": "2022-05-21T12:06:18.665Z"
   },
   {
    "duration": 43,
    "start_time": "2022-05-21T12:06:18.683Z"
   },
   {
    "duration": 18,
    "start_time": "2022-05-21T12:06:18.728Z"
   },
   {
    "duration": 4,
    "start_time": "2022-05-21T12:06:18.748Z"
   },
   {
    "duration": 18,
    "start_time": "2022-05-21T12:06:18.753Z"
   },
   {
    "duration": 4,
    "start_time": "2022-05-21T12:06:18.774Z"
   },
   {
    "duration": 6,
    "start_time": "2022-05-21T12:06:18.779Z"
   },
   {
    "duration": 6,
    "start_time": "2022-05-21T12:06:18.786Z"
   },
   {
    "duration": 18,
    "start_time": "2022-05-21T12:06:18.821Z"
   },
   {
    "duration": 5,
    "start_time": "2022-05-21T12:06:18.841Z"
   },
   {
    "duration": 10,
    "start_time": "2022-05-21T12:06:18.847Z"
   },
   {
    "duration": 10,
    "start_time": "2022-05-21T12:06:18.859Z"
   },
   {
    "duration": 9,
    "start_time": "2022-05-21T12:06:18.870Z"
   },
   {
    "duration": 16,
    "start_time": "2022-05-21T12:06:18.880Z"
   },
   {
    "duration": 306,
    "start_time": "2022-05-21T12:06:18.898Z"
   },
   {
    "duration": 207,
    "start_time": "2022-05-21T12:06:19.205Z"
   },
   {
    "duration": 235,
    "start_time": "2022-05-21T12:06:19.414Z"
   },
   {
    "duration": 15,
    "start_time": "2022-05-21T12:06:19.650Z"
   },
   {
    "duration": 30,
    "start_time": "2022-05-21T12:06:19.667Z"
   },
   {
    "duration": 33,
    "start_time": "2022-05-21T12:06:19.699Z"
   },
   {
    "duration": 386,
    "start_time": "2022-05-21T12:06:19.734Z"
   },
   {
    "duration": 9,
    "start_time": "2022-05-21T12:06:20.126Z"
   },
   {
    "duration": 105,
    "start_time": "2022-05-21T12:06:20.137Z"
   },
   {
    "duration": 15,
    "start_time": "2022-05-21T12:06:20.244Z"
   },
   {
    "duration": 24,
    "start_time": "2022-05-21T12:06:20.260Z"
   },
   {
    "duration": 47,
    "start_time": "2022-05-21T12:06:20.286Z"
   },
   {
    "duration": 30,
    "start_time": "2022-05-21T12:06:32.041Z"
   },
   {
    "duration": 29631,
    "start_time": "2022-05-21T12:06:42.584Z"
   },
   {
    "duration": 25353,
    "start_time": "2022-05-21T12:07:55.915Z"
   },
   {
    "duration": 11,
    "start_time": "2022-05-21T12:09:39.986Z"
   },
   {
    "duration": 711,
    "start_time": "2022-05-21T12:09:52.903Z"
   },
   {
    "duration": 135,
    "start_time": "2022-05-21T12:10:20.891Z"
   },
   {
    "duration": 110,
    "start_time": "2022-05-21T12:10:42.136Z"
   },
   {
    "duration": 19,
    "start_time": "2022-05-21T12:13:12.773Z"
   },
   {
    "duration": 50,
    "start_time": "2022-05-21T12:13:28.386Z"
   },
   {
    "duration": 13,
    "start_time": "2022-05-21T12:13:33.612Z"
   },
   {
    "duration": 18,
    "start_time": "2022-05-21T12:13:58.133Z"
   },
   {
    "duration": 10,
    "start_time": "2022-05-21T12:24:21.639Z"
   },
   {
    "duration": 18,
    "start_time": "2022-05-21T12:27:07.931Z"
   },
   {
    "duration": 161,
    "start_time": "2022-05-21T12:28:08.837Z"
   },
   {
    "duration": 169,
    "start_time": "2022-05-21T12:28:51.017Z"
   },
   {
    "duration": 115,
    "start_time": "2022-05-21T12:29:45.887Z"
   },
   {
    "duration": 158,
    "start_time": "2022-05-21T12:30:00.300Z"
   },
   {
    "duration": 225,
    "start_time": "2022-05-21T12:34:14.517Z"
   },
   {
    "duration": 224,
    "start_time": "2022-05-21T12:34:26.847Z"
   },
   {
    "duration": 238,
    "start_time": "2022-05-21T12:34:42.043Z"
   },
   {
    "duration": 19,
    "start_time": "2022-05-21T12:34:59.233Z"
   },
   {
    "duration": 30,
    "start_time": "2022-05-21T12:40:33.609Z"
   },
   {
    "duration": 112,
    "start_time": "2022-05-21T12:41:27.607Z"
   },
   {
    "duration": 12,
    "start_time": "2022-05-21T12:44:36.415Z"
   },
   {
    "duration": 453,
    "start_time": "2022-05-21T12:44:44.110Z"
   },
   {
    "duration": 24787,
    "start_time": "2022-05-21T12:44:59.789Z"
   },
   {
    "duration": 12,
    "start_time": "2022-05-21T12:53:32.106Z"
   },
   {
    "duration": 12,
    "start_time": "2022-05-21T12:53:38.142Z"
   },
   {
    "duration": 53,
    "start_time": "2022-05-21T12:53:46.231Z"
   },
   {
    "duration": 12,
    "start_time": "2022-05-21T12:53:46.286Z"
   },
   {
    "duration": 18,
    "start_time": "2022-05-21T12:53:46.299Z"
   },
   {
    "duration": 8,
    "start_time": "2022-05-21T12:53:46.319Z"
   },
   {
    "duration": 17,
    "start_time": "2022-05-21T12:53:46.329Z"
   },
   {
    "duration": 10,
    "start_time": "2022-05-21T12:53:46.348Z"
   },
   {
    "duration": 20,
    "start_time": "2022-05-21T12:53:46.360Z"
   },
   {
    "duration": 5,
    "start_time": "2022-05-21T12:53:46.381Z"
   },
   {
    "duration": 40,
    "start_time": "2022-05-21T12:53:46.387Z"
   },
   {
    "duration": 5,
    "start_time": "2022-05-21T12:53:46.428Z"
   },
   {
    "duration": 7,
    "start_time": "2022-05-21T12:53:46.434Z"
   },
   {
    "duration": 6,
    "start_time": "2022-05-21T12:53:46.442Z"
   },
   {
    "duration": 17,
    "start_time": "2022-05-21T12:53:46.450Z"
   },
   {
    "duration": 4,
    "start_time": "2022-05-21T12:53:46.469Z"
   },
   {
    "duration": 7,
    "start_time": "2022-05-21T12:53:46.475Z"
   },
   {
    "duration": 8,
    "start_time": "2022-05-21T12:53:46.512Z"
   },
   {
    "duration": 6,
    "start_time": "2022-05-21T12:53:46.521Z"
   },
   {
    "duration": 14,
    "start_time": "2022-05-21T12:53:46.529Z"
   },
   {
    "duration": 277,
    "start_time": "2022-05-21T12:53:46.545Z"
   },
   {
    "duration": 184,
    "start_time": "2022-05-21T12:53:46.823Z"
   },
   {
    "duration": 211,
    "start_time": "2022-05-21T12:53:47.011Z"
   },
   {
    "duration": 21,
    "start_time": "2022-05-21T12:53:47.224Z"
   },
   {
    "duration": 43,
    "start_time": "2022-05-21T12:53:47.246Z"
   },
   {
    "duration": 23,
    "start_time": "2022-05-21T12:53:47.291Z"
   },
   {
    "duration": 329,
    "start_time": "2022-05-21T12:53:47.315Z"
   },
   {
    "duration": 7,
    "start_time": "2022-05-21T12:53:47.646Z"
   },
   {
    "duration": 106,
    "start_time": "2022-05-21T12:53:47.655Z"
   },
   {
    "duration": 15,
    "start_time": "2022-05-21T12:53:47.762Z"
   },
   {
    "duration": 19,
    "start_time": "2022-05-21T12:53:47.778Z"
   },
   {
    "duration": 21,
    "start_time": "2022-05-21T12:53:47.799Z"
   },
   {
    "duration": 19,
    "start_time": "2022-05-21T12:54:05.052Z"
   },
   {
    "duration": 12,
    "start_time": "2022-05-21T12:54:22.530Z"
   },
   {
    "duration": 19,
    "start_time": "2022-05-21T12:54:32.258Z"
   },
   {
    "duration": 125,
    "start_time": "2022-05-21T13:02:25.182Z"
   },
   {
    "duration": 5,
    "start_time": "2022-05-21T13:04:13.311Z"
   },
   {
    "duration": 13,
    "start_time": "2022-05-21T13:04:21.505Z"
   },
   {
    "duration": 10,
    "start_time": "2022-05-21T13:04:31.106Z"
   },
   {
    "duration": 580,
    "start_time": "2022-05-21T13:05:29.216Z"
   },
   {
    "duration": 217,
    "start_time": "2022-05-21T13:05:47.344Z"
   },
   {
    "duration": 13,
    "start_time": "2022-05-21T13:07:57.383Z"
   },
   {
    "duration": 226,
    "start_time": "2022-05-21T13:08:06.739Z"
   },
   {
    "duration": 3,
    "start_time": "2022-05-21T13:08:39.999Z"
   },
   {
    "duration": 218,
    "start_time": "2022-05-21T13:08:57.217Z"
   },
   {
    "duration": 43,
    "start_time": "2022-05-21T13:10:30.125Z"
   },
   {
    "duration": 176,
    "start_time": "2022-05-21T13:10:38.732Z"
   },
   {
    "duration": 4,
    "start_time": "2022-05-21T13:10:58.573Z"
   },
   {
    "duration": 8,
    "start_time": "2022-05-21T13:11:07.995Z"
   },
   {
    "duration": 10,
    "start_time": "2022-05-21T13:11:42.219Z"
   },
   {
    "duration": 192,
    "start_time": "2022-05-21T13:11:48.685Z"
   },
   {
    "duration": 7,
    "start_time": "2022-05-21T15:16:42.408Z"
   },
   {
    "duration": 8,
    "start_time": "2022-05-21T15:33:28.202Z"
   },
   {
    "duration": 26,
    "start_time": "2022-05-21T15:35:08.177Z"
   },
   {
    "duration": 11,
    "start_time": "2022-05-21T15:35:32.308Z"
   },
   {
    "duration": 23,
    "start_time": "2022-05-21T15:37:07.668Z"
   },
   {
    "duration": 8,
    "start_time": "2022-05-21T15:43:22.830Z"
   },
   {
    "duration": 12,
    "start_time": "2022-05-21T15:44:03.996Z"
   },
   {
    "duration": 302,
    "start_time": "2022-05-21T15:48:36.644Z"
   },
   {
    "duration": 24,
    "start_time": "2022-05-21T16:16:29.870Z"
   },
   {
    "duration": 6,
    "start_time": "2022-05-21T16:16:53.497Z"
   },
   {
    "duration": 4,
    "start_time": "2022-05-21T16:17:04.975Z"
   },
   {
    "duration": 26,
    "start_time": "2022-05-21T16:17:18.898Z"
   },
   {
    "duration": 7,
    "start_time": "2022-05-21T16:19:00.034Z"
   },
   {
    "duration": 289,
    "start_time": "2022-05-21T16:19:51.742Z"
   },
   {
    "duration": 304,
    "start_time": "2022-05-21T16:20:35.647Z"
   },
   {
    "duration": 303,
    "start_time": "2022-05-21T16:20:45.862Z"
   },
   {
    "duration": 378,
    "start_time": "2022-05-21T16:20:59.347Z"
   },
   {
    "duration": 293,
    "start_time": "2022-05-21T16:21:14.826Z"
   },
   {
    "duration": 326,
    "start_time": "2022-05-21T16:23:47.793Z"
   },
   {
    "duration": 315,
    "start_time": "2022-05-21T16:23:59.819Z"
   },
   {
    "duration": 6,
    "start_time": "2022-05-21T16:27:36.626Z"
   },
   {
    "duration": 303,
    "start_time": "2022-05-21T16:27:40.036Z"
   },
   {
    "duration": 660,
    "start_time": "2022-05-21T16:52:36.660Z"
   },
   {
    "duration": 1048,
    "start_time": "2022-05-21T16:53:30.445Z"
   },
   {
    "duration": 17,
    "start_time": "2022-05-21T16:55:25.227Z"
   },
   {
    "duration": 9,
    "start_time": "2022-05-21T16:56:15.161Z"
   },
   {
    "duration": 66,
    "start_time": "2022-05-21T16:56:33.872Z"
   },
   {
    "duration": 15,
    "start_time": "2022-05-21T16:56:33.941Z"
   },
   {
    "duration": 20,
    "start_time": "2022-05-21T16:56:33.958Z"
   },
   {
    "duration": 36,
    "start_time": "2022-05-21T16:56:33.981Z"
   },
   {
    "duration": 51,
    "start_time": "2022-05-21T16:56:34.019Z"
   },
   {
    "duration": 25,
    "start_time": "2022-05-21T16:56:34.072Z"
   },
   {
    "duration": 61,
    "start_time": "2022-05-21T16:56:34.099Z"
   },
   {
    "duration": 27,
    "start_time": "2022-05-21T16:56:34.161Z"
   },
   {
    "duration": 67,
    "start_time": "2022-05-21T16:56:34.190Z"
   },
   {
    "duration": 18,
    "start_time": "2022-05-21T16:56:34.260Z"
   },
   {
    "duration": 37,
    "start_time": "2022-05-21T16:56:34.280Z"
   },
   {
    "duration": 41,
    "start_time": "2022-05-21T16:56:34.319Z"
   },
   {
    "duration": 31,
    "start_time": "2022-05-21T16:56:34.362Z"
   },
   {
    "duration": 40,
    "start_time": "2022-05-21T16:56:34.395Z"
   },
   {
    "duration": 30,
    "start_time": "2022-05-21T16:56:34.437Z"
   },
   {
    "duration": 49,
    "start_time": "2022-05-21T16:56:34.469Z"
   },
   {
    "duration": 36,
    "start_time": "2022-05-21T16:56:34.519Z"
   },
   {
    "duration": 18,
    "start_time": "2022-05-21T16:56:34.557Z"
   },
   {
    "duration": 315,
    "start_time": "2022-05-21T16:56:34.577Z"
   },
   {
    "duration": 208,
    "start_time": "2022-05-21T16:56:34.894Z"
   },
   {
    "duration": 239,
    "start_time": "2022-05-21T16:56:35.104Z"
   },
   {
    "duration": 17,
    "start_time": "2022-05-21T16:56:35.344Z"
   },
   {
    "duration": 59,
    "start_time": "2022-05-21T16:56:35.363Z"
   },
   {
    "duration": 18,
    "start_time": "2022-05-21T16:56:35.423Z"
   },
   {
    "duration": 404,
    "start_time": "2022-05-21T16:56:35.443Z"
   },
   {
    "duration": 8,
    "start_time": "2022-05-21T16:56:35.849Z"
   },
   {
    "duration": 103,
    "start_time": "2022-05-21T16:56:35.858Z"
   },
   {
    "duration": 8,
    "start_time": "2022-05-21T16:56:35.964Z"
   },
   {
    "duration": 42,
    "start_time": "2022-05-21T16:56:35.973Z"
   },
   {
    "duration": 297,
    "start_time": "2022-05-21T16:56:36.016Z"
   },
   {
    "duration": 6,
    "start_time": "2022-05-21T16:56:36.315Z"
   },
   {
    "duration": 300,
    "start_time": "2022-05-21T16:56:36.322Z"
   },
   {
    "duration": 1046,
    "start_time": "2022-05-21T16:56:36.623Z"
   },
   {
    "duration": 6,
    "start_time": "2022-05-21T16:57:38.699Z"
   },
   {
    "duration": 294,
    "start_time": "2022-05-21T16:58:08.738Z"
   },
   {
    "duration": 9,
    "start_time": "2022-05-21T17:00:34.077Z"
   },
   {
    "duration": 57,
    "start_time": "2022-05-21T17:00:56.899Z"
   },
   {
    "duration": 14,
    "start_time": "2022-05-21T17:00:56.958Z"
   },
   {
    "duration": 15,
    "start_time": "2022-05-21T17:00:56.974Z"
   },
   {
    "duration": 9,
    "start_time": "2022-05-21T17:00:57.011Z"
   },
   {
    "duration": 26,
    "start_time": "2022-05-21T17:00:57.022Z"
   },
   {
    "duration": 14,
    "start_time": "2022-05-21T17:00:57.050Z"
   },
   {
    "duration": 23,
    "start_time": "2022-05-21T17:00:57.066Z"
   },
   {
    "duration": 14,
    "start_time": "2022-05-21T17:00:57.091Z"
   },
   {
    "duration": 20,
    "start_time": "2022-05-21T17:00:57.106Z"
   },
   {
    "duration": 6,
    "start_time": "2022-05-21T17:00:57.128Z"
   },
   {
    "duration": 15,
    "start_time": "2022-05-21T17:00:57.135Z"
   },
   {
    "duration": 32,
    "start_time": "2022-05-21T17:00:57.151Z"
   },
   {
    "duration": 21,
    "start_time": "2022-05-21T17:00:57.184Z"
   },
   {
    "duration": 5,
    "start_time": "2022-05-21T17:00:57.207Z"
   },
   {
    "duration": 13,
    "start_time": "2022-05-21T17:00:57.214Z"
   },
   {
    "duration": 16,
    "start_time": "2022-05-21T17:00:57.229Z"
   },
   {
    "duration": 37,
    "start_time": "2022-05-21T17:00:57.247Z"
   },
   {
    "duration": 32,
    "start_time": "2022-05-21T17:00:57.287Z"
   },
   {
    "duration": 276,
    "start_time": "2022-05-21T17:00:57.320Z"
   },
   {
    "duration": 175,
    "start_time": "2022-05-21T17:00:57.598Z"
   },
   {
    "duration": 210,
    "start_time": "2022-05-21T17:00:57.775Z"
   },
   {
    "duration": 16,
    "start_time": "2022-05-21T17:00:57.986Z"
   },
   {
    "duration": 25,
    "start_time": "2022-05-21T17:00:58.003Z"
   },
   {
    "duration": 15,
    "start_time": "2022-05-21T17:00:58.029Z"
   },
   {
    "duration": 354,
    "start_time": "2022-05-21T17:00:58.045Z"
   },
   {
    "duration": 15,
    "start_time": "2022-05-21T17:00:58.401Z"
   },
   {
    "duration": 105,
    "start_time": "2022-05-21T17:00:58.418Z"
   },
   {
    "duration": 9,
    "start_time": "2022-05-21T17:00:58.526Z"
   },
   {
    "duration": 17,
    "start_time": "2022-05-21T17:00:58.537Z"
   },
   {
    "duration": 324,
    "start_time": "2022-05-21T17:00:58.556Z"
   },
   {
    "duration": 6,
    "start_time": "2022-05-21T17:00:58.882Z"
   },
   {
    "duration": 317,
    "start_time": "2022-05-21T17:00:58.889Z"
   },
   {
    "duration": 17,
    "start_time": "2022-05-21T17:00:59.208Z"
   },
   {
    "duration": 442,
    "start_time": "2022-05-21T17:00:59.227Z"
   },
   {
    "duration": 438,
    "start_time": "2022-05-21T17:01:23.680Z"
   },
   {
    "duration": 9,
    "start_time": "2022-05-21T17:04:21.433Z"
   },
   {
    "duration": 7,
    "start_time": "2022-05-21T17:05:30.881Z"
   },
   {
    "duration": 555,
    "start_time": "2022-05-21T17:05:36.327Z"
   },
   {
    "duration": 173,
    "start_time": "2022-05-21T17:07:48.867Z"
   },
   {
    "duration": 133,
    "start_time": "2022-05-21T17:08:39.719Z"
   },
   {
    "duration": 169,
    "start_time": "2022-05-21T17:08:45.819Z"
   },
   {
    "duration": 152,
    "start_time": "2022-05-21T17:09:21.900Z"
   },
   {
    "duration": 164,
    "start_time": "2022-05-21T17:09:34.724Z"
   },
   {
    "duration": 8,
    "start_time": "2022-05-21T17:29:28.775Z"
   },
   {
    "duration": 9,
    "start_time": "2022-05-21T17:29:41.466Z"
   },
   {
    "duration": 11,
    "start_time": "2022-05-21T17:34:30.035Z"
   },
   {
    "duration": 248,
    "start_time": "2022-05-21T17:43:57.109Z"
   },
   {
    "duration": 184,
    "start_time": "2022-05-21T17:44:24.384Z"
   },
   {
    "duration": 190,
    "start_time": "2022-05-21T17:44:37.229Z"
   },
   {
    "duration": 229,
    "start_time": "2022-05-21T17:45:54.086Z"
   },
   {
    "duration": 1592,
    "start_time": "2022-05-21T17:52:12.562Z"
   },
   {
    "duration": 1667,
    "start_time": "2022-05-21T17:52:33.331Z"
   },
   {
    "duration": 1518,
    "start_time": "2022-05-21T17:52:54.526Z"
   },
   {
    "duration": 1655,
    "start_time": "2022-05-21T17:53:23.748Z"
   },
   {
    "duration": 13,
    "start_time": "2022-05-21T18:46:43.121Z"
   },
   {
    "duration": 14,
    "start_time": "2022-05-21T18:46:53.232Z"
   },
   {
    "duration": 330,
    "start_time": "2022-05-21T18:47:18.939Z"
   },
   {
    "duration": 345,
    "start_time": "2022-05-21T18:58:12.287Z"
   },
   {
    "duration": 44,
    "start_time": "2022-05-21T19:02:55.417Z"
   },
   {
    "duration": 9,
    "start_time": "2022-05-21T19:03:24.802Z"
   },
   {
    "duration": 583,
    "start_time": "2022-05-21T19:04:34.531Z"
   },
   {
    "duration": 326,
    "start_time": "2022-05-21T19:04:46.536Z"
   },
   {
    "duration": 325,
    "start_time": "2022-05-21T19:04:57.546Z"
   },
   {
    "duration": 259,
    "start_time": "2022-05-21T19:05:06.741Z"
   },
   {
    "duration": 5,
    "start_time": "2022-05-21T19:37:51.846Z"
   },
   {
    "duration": 29,
    "start_time": "2022-05-21T19:39:19.013Z"
   },
   {
    "duration": 13,
    "start_time": "2022-05-21T19:48:28.121Z"
   },
   {
    "duration": 162,
    "start_time": "2022-05-21T19:48:38.349Z"
   },
   {
    "duration": 10,
    "start_time": "2022-05-21T19:52:05.603Z"
   },
   {
    "duration": 12,
    "start_time": "2022-05-21T19:52:21.340Z"
   },
   {
    "duration": 12,
    "start_time": "2022-05-21T19:52:35.536Z"
   },
   {
    "duration": 20,
    "start_time": "2022-05-21T19:53:42.629Z"
   },
   {
    "duration": 11,
    "start_time": "2022-05-21T19:54:03.248Z"
   },
   {
    "duration": 4739,
    "start_time": "2022-05-21T19:55:29.945Z"
   },
   {
    "duration": 58,
    "start_time": "2022-05-21T19:57:31.925Z"
   },
   {
    "duration": 62,
    "start_time": "2022-05-21T19:57:58.033Z"
   },
   {
    "duration": 14,
    "start_time": "2022-05-21T19:57:58.097Z"
   },
   {
    "duration": 16,
    "start_time": "2022-05-21T19:57:58.113Z"
   },
   {
    "duration": 9,
    "start_time": "2022-05-21T19:57:58.131Z"
   },
   {
    "duration": 17,
    "start_time": "2022-05-21T19:57:58.142Z"
   },
   {
    "duration": 8,
    "start_time": "2022-05-21T19:57:58.161Z"
   },
   {
    "duration": 55,
    "start_time": "2022-05-21T19:57:58.171Z"
   },
   {
    "duration": 5,
    "start_time": "2022-05-21T19:57:58.227Z"
   },
   {
    "duration": 19,
    "start_time": "2022-05-21T19:57:58.233Z"
   },
   {
    "duration": 5,
    "start_time": "2022-05-21T19:57:58.254Z"
   },
   {
    "duration": 7,
    "start_time": "2022-05-21T19:57:58.261Z"
   },
   {
    "duration": 44,
    "start_time": "2022-05-21T19:57:58.269Z"
   },
   {
    "duration": 15,
    "start_time": "2022-05-21T19:57:58.314Z"
   },
   {
    "duration": 6,
    "start_time": "2022-05-21T19:57:58.332Z"
   },
   {
    "duration": 9,
    "start_time": "2022-05-21T19:57:58.340Z"
   },
   {
    "duration": 13,
    "start_time": "2022-05-21T19:57:58.351Z"
   },
   {
    "duration": 13,
    "start_time": "2022-05-21T19:57:58.366Z"
   },
   {
    "duration": 38,
    "start_time": "2022-05-21T19:57:58.381Z"
   },
   {
    "duration": 336,
    "start_time": "2022-05-21T19:57:58.421Z"
   },
   {
    "duration": 185,
    "start_time": "2022-05-21T19:57:58.759Z"
   },
   {
    "duration": 216,
    "start_time": "2022-05-21T19:57:58.946Z"
   },
   {
    "duration": 17,
    "start_time": "2022-05-21T19:57:59.164Z"
   },
   {
    "duration": 46,
    "start_time": "2022-05-21T19:57:59.183Z"
   },
   {
    "duration": 20,
    "start_time": "2022-05-21T19:57:59.232Z"
   },
   {
    "duration": 360,
    "start_time": "2022-05-21T19:57:59.254Z"
   },
   {
    "duration": 9,
    "start_time": "2022-05-21T19:57:59.617Z"
   },
   {
    "duration": 126,
    "start_time": "2022-05-21T19:57:59.628Z"
   },
   {
    "duration": 8,
    "start_time": "2022-05-21T19:57:59.757Z"
   },
   {
    "duration": 23,
    "start_time": "2022-05-21T19:57:59.767Z"
   },
   {
    "duration": 323,
    "start_time": "2022-05-21T19:57:59.791Z"
   },
   {
    "duration": 8,
    "start_time": "2022-05-21T19:58:00.116Z"
   },
   {
    "duration": 379,
    "start_time": "2022-05-21T19:58:00.126Z"
   },
   {
    "duration": 9,
    "start_time": "2022-05-21T19:58:00.507Z"
   },
   {
    "duration": 577,
    "start_time": "2022-05-21T19:58:00.517Z"
   },
   {
    "duration": 180,
    "start_time": "2022-05-21T19:58:01.096Z"
   },
   {
    "duration": 9,
    "start_time": "2022-05-21T19:58:01.278Z"
   },
   {
    "duration": 33,
    "start_time": "2022-05-21T19:58:01.289Z"
   },
   {
    "duration": 1803,
    "start_time": "2022-05-21T19:58:01.324Z"
   },
   {
    "duration": 286,
    "start_time": "2022-05-21T19:58:03.130Z"
   },
   {
    "duration": 10,
    "start_time": "2022-05-21T19:58:03.418Z"
   },
   {
    "duration": 307,
    "start_time": "2022-05-21T19:58:03.433Z"
   },
   {
    "duration": 288,
    "start_time": "2022-05-21T19:58:03.742Z"
   },
   {
    "duration": 316,
    "start_time": "2022-05-21T19:58:04.032Z"
   },
   {
    "duration": 24,
    "start_time": "2022-05-21T19:58:04.350Z"
   },
   {
    "duration": 13,
    "start_time": "2022-05-21T19:58:04.375Z"
   },
   {
    "duration": 24,
    "start_time": "2022-05-21T19:58:04.389Z"
   },
   {
    "duration": 59,
    "start_time": "2022-05-21T19:58:04.415Z"
   },
   {
    "duration": 27,
    "start_time": "2022-05-21T19:58:33.637Z"
   },
   {
    "duration": 10,
    "start_time": "2022-05-21T20:01:56.030Z"
   },
   {
    "duration": 493,
    "start_time": "2022-05-21T20:02:03.109Z"
   },
   {
    "duration": 182,
    "start_time": "2022-05-21T20:02:10.230Z"
   },
   {
    "duration": 8,
    "start_time": "2022-05-21T20:02:42.412Z"
   },
   {
    "duration": 18,
    "start_time": "2022-05-21T20:02:47.092Z"
   },
   {
    "duration": 1793,
    "start_time": "2022-05-21T20:02:51.504Z"
   },
   {
    "duration": 300,
    "start_time": "2022-05-21T20:03:01.038Z"
   },
   {
    "duration": 6,
    "start_time": "2022-05-21T20:03:50.289Z"
   },
   {
    "duration": 306,
    "start_time": "2022-05-21T20:03:54.297Z"
   },
   {
    "duration": 322,
    "start_time": "2022-05-21T20:03:58.301Z"
   },
   {
    "duration": 374,
    "start_time": "2022-05-21T20:04:01.389Z"
   },
   {
    "duration": 17,
    "start_time": "2022-05-21T20:04:08.384Z"
   },
   {
    "duration": 8,
    "start_time": "2022-05-21T20:04:16.577Z"
   },
   {
    "duration": 27,
    "start_time": "2022-05-21T20:04:38.497Z"
   },
   {
    "duration": 70,
    "start_time": "2022-05-21T20:05:01.029Z"
   },
   {
    "duration": 60,
    "start_time": "2022-05-21T20:05:10.256Z"
   },
   {
    "duration": 14,
    "start_time": "2022-05-21T20:05:10.319Z"
   },
   {
    "duration": 24,
    "start_time": "2022-05-21T20:05:10.335Z"
   },
   {
    "duration": 11,
    "start_time": "2022-05-21T20:05:10.361Z"
   },
   {
    "duration": 48,
    "start_time": "2022-05-21T20:05:10.375Z"
   },
   {
    "duration": 8,
    "start_time": "2022-05-21T20:05:10.426Z"
   },
   {
    "duration": 29,
    "start_time": "2022-05-21T20:05:10.436Z"
   },
   {
    "duration": 6,
    "start_time": "2022-05-21T20:05:10.468Z"
   },
   {
    "duration": 49,
    "start_time": "2022-05-21T20:05:10.476Z"
   },
   {
    "duration": 7,
    "start_time": "2022-05-21T20:05:10.527Z"
   },
   {
    "duration": 15,
    "start_time": "2022-05-21T20:05:10.536Z"
   },
   {
    "duration": 12,
    "start_time": "2022-05-21T20:05:10.553Z"
   },
   {
    "duration": 44,
    "start_time": "2022-05-21T20:05:10.568Z"
   },
   {
    "duration": 7,
    "start_time": "2022-05-21T20:05:10.616Z"
   },
   {
    "duration": 17,
    "start_time": "2022-05-21T20:05:10.625Z"
   },
   {
    "duration": 26,
    "start_time": "2022-05-21T20:05:10.644Z"
   },
   {
    "duration": 13,
    "start_time": "2022-05-21T20:05:10.672Z"
   },
   {
    "duration": 26,
    "start_time": "2022-05-21T20:05:10.687Z"
   },
   {
    "duration": 328,
    "start_time": "2022-05-21T20:05:10.715Z"
   },
   {
    "duration": 201,
    "start_time": "2022-05-21T20:05:11.045Z"
   },
   {
    "duration": 255,
    "start_time": "2022-05-21T20:05:11.249Z"
   },
   {
    "duration": 22,
    "start_time": "2022-05-21T20:05:11.506Z"
   },
   {
    "duration": 36,
    "start_time": "2022-05-21T20:05:11.529Z"
   },
   {
    "duration": 24,
    "start_time": "2022-05-21T20:05:11.567Z"
   },
   {
    "duration": 394,
    "start_time": "2022-05-21T20:05:11.611Z"
   },
   {
    "duration": 12,
    "start_time": "2022-05-21T20:05:12.006Z"
   },
   {
    "duration": 124,
    "start_time": "2022-05-21T20:05:12.021Z"
   },
   {
    "duration": 9,
    "start_time": "2022-05-21T20:05:12.147Z"
   },
   {
    "duration": 19,
    "start_time": "2022-05-21T20:05:12.158Z"
   },
   {
    "duration": 354,
    "start_time": "2022-05-21T20:05:12.180Z"
   },
   {
    "duration": 8,
    "start_time": "2022-05-21T20:05:12.536Z"
   },
   {
    "duration": 527,
    "start_time": "2022-05-21T20:05:12.545Z"
   },
   {
    "duration": 12,
    "start_time": "2022-05-21T20:05:13.074Z"
   },
   {
    "duration": 547,
    "start_time": "2022-05-21T20:05:13.089Z"
   },
   {
    "duration": 213,
    "start_time": "2022-05-21T20:05:13.638Z"
   },
   {
    "duration": 8,
    "start_time": "2022-05-21T20:05:13.853Z"
   },
   {
    "duration": 12,
    "start_time": "2022-05-21T20:05:13.864Z"
   },
   {
    "duration": 1691,
    "start_time": "2022-05-21T20:05:13.878Z"
   },
   {
    "duration": 391,
    "start_time": "2022-05-21T20:05:15.571Z"
   },
   {
    "duration": 9,
    "start_time": "2022-05-21T20:05:15.964Z"
   },
   {
    "duration": 348,
    "start_time": "2022-05-21T20:05:15.978Z"
   },
   {
    "duration": 315,
    "start_time": "2022-05-21T20:05:16.328Z"
   },
   {
    "duration": 371,
    "start_time": "2022-05-21T20:05:16.645Z"
   },
   {
    "duration": 27,
    "start_time": "2022-05-21T20:05:17.018Z"
   },
   {
    "duration": 11,
    "start_time": "2022-05-21T20:05:17.047Z"
   },
   {
    "duration": 52,
    "start_time": "2022-05-21T20:05:17.063Z"
   },
   {
    "duration": 48,
    "start_time": "2022-05-21T20:05:17.117Z"
   },
   {
    "duration": 22,
    "start_time": "2022-05-21T20:05:29.925Z"
   },
   {
    "duration": 268,
    "start_time": "2022-05-21T20:06:06.238Z"
   },
   {
    "duration": 59,
    "start_time": "2022-05-21T20:06:33.703Z"
   },
   {
    "duration": 14,
    "start_time": "2022-05-21T20:06:33.764Z"
   },
   {
    "duration": 20,
    "start_time": "2022-05-21T20:06:33.780Z"
   },
   {
    "duration": 19,
    "start_time": "2022-05-21T20:06:33.802Z"
   },
   {
    "duration": 26,
    "start_time": "2022-05-21T20:06:33.822Z"
   },
   {
    "duration": 12,
    "start_time": "2022-05-21T20:06:33.850Z"
   },
   {
    "duration": 25,
    "start_time": "2022-05-21T20:06:33.864Z"
   },
   {
    "duration": 23,
    "start_time": "2022-05-21T20:06:33.891Z"
   },
   {
    "duration": 17,
    "start_time": "2022-05-21T20:06:33.915Z"
   },
   {
    "duration": 4,
    "start_time": "2022-05-21T20:06:33.935Z"
   },
   {
    "duration": 6,
    "start_time": "2022-05-21T20:06:33.940Z"
   },
   {
    "duration": 5,
    "start_time": "2022-05-21T20:06:33.948Z"
   },
   {
    "duration": 15,
    "start_time": "2022-05-21T20:06:33.954Z"
   },
   {
    "duration": 4,
    "start_time": "2022-05-21T20:06:33.971Z"
   },
   {
    "duration": 40,
    "start_time": "2022-05-21T20:06:33.976Z"
   },
   {
    "duration": 12,
    "start_time": "2022-05-21T20:06:34.018Z"
   },
   {
    "duration": 5,
    "start_time": "2022-05-21T20:06:34.031Z"
   },
   {
    "duration": 14,
    "start_time": "2022-05-21T20:06:34.037Z"
   },
   {
    "duration": 316,
    "start_time": "2022-05-21T20:06:34.052Z"
   },
   {
    "duration": 185,
    "start_time": "2022-05-21T20:06:34.370Z"
   },
   {
    "duration": 214,
    "start_time": "2022-05-21T20:06:34.556Z"
   },
   {
    "duration": 17,
    "start_time": "2022-05-21T20:06:34.772Z"
   },
   {
    "duration": 36,
    "start_time": "2022-05-21T20:06:34.790Z"
   },
   {
    "duration": 17,
    "start_time": "2022-05-21T20:06:34.827Z"
   },
   {
    "duration": 339,
    "start_time": "2022-05-21T20:06:34.846Z"
   },
   {
    "duration": 8,
    "start_time": "2022-05-21T20:06:35.187Z"
   },
   {
    "duration": 102,
    "start_time": "2022-05-21T20:06:35.196Z"
   },
   {
    "duration": 8,
    "start_time": "2022-05-21T20:06:35.312Z"
   },
   {
    "duration": 16,
    "start_time": "2022-05-21T20:06:35.322Z"
   },
   {
    "duration": 321,
    "start_time": "2022-05-21T20:06:35.339Z"
   },
   {
    "duration": 7,
    "start_time": "2022-05-21T20:06:35.661Z"
   },
   {
    "duration": 302,
    "start_time": "2022-05-21T20:06:35.669Z"
   },
   {
    "duration": 7,
    "start_time": "2022-05-21T20:06:35.973Z"
   },
   {
    "duration": 463,
    "start_time": "2022-05-21T20:06:35.981Z"
   },
   {
    "duration": 171,
    "start_time": "2022-05-21T20:06:36.445Z"
   },
   {
    "duration": 5,
    "start_time": "2022-05-21T20:06:36.618Z"
   },
   {
    "duration": 13,
    "start_time": "2022-05-21T20:06:36.625Z"
   },
   {
    "duration": 1574,
    "start_time": "2022-05-21T20:06:36.639Z"
   },
   {
    "duration": 289,
    "start_time": "2022-05-21T20:06:38.214Z"
   },
   {
    "duration": 10,
    "start_time": "2022-05-21T20:06:38.505Z"
   },
   {
    "duration": 316,
    "start_time": "2022-05-21T20:06:38.517Z"
   },
   {
    "duration": 284,
    "start_time": "2022-05-21T20:06:38.835Z"
   },
   {
    "duration": 285,
    "start_time": "2022-05-21T20:06:39.121Z"
   },
   {
    "duration": 18,
    "start_time": "2022-05-21T20:06:39.412Z"
   },
   {
    "duration": 10,
    "start_time": "2022-05-21T20:06:39.431Z"
   },
   {
    "duration": 30,
    "start_time": "2022-05-21T20:06:39.443Z"
   },
   {
    "duration": 278,
    "start_time": "2022-05-21T20:06:39.474Z"
   },
   {
    "duration": 24,
    "start_time": "2022-05-21T20:07:42.569Z"
   },
   {
    "duration": 262,
    "start_time": "2022-05-21T20:07:52.530Z"
   },
   {
    "duration": 274,
    "start_time": "2022-05-21T20:08:28.801Z"
   },
   {
    "duration": 267,
    "start_time": "2022-05-21T20:08:40.224Z"
   },
   {
    "duration": 7,
    "start_time": "2022-05-21T20:09:16.700Z"
   },
   {
    "duration": 256,
    "start_time": "2022-05-21T20:09:59.314Z"
   },
   {
    "duration": 292,
    "start_time": "2022-05-21T20:10:21.569Z"
   },
   {
    "duration": 317,
    "start_time": "2022-05-21T20:10:53.672Z"
   },
   {
    "duration": 4,
    "start_time": "2022-05-21T20:11:23.192Z"
   },
   {
    "duration": 29,
    "start_time": "2022-05-21T20:11:57.884Z"
   },
   {
    "duration": 338,
    "start_time": "2022-05-21T20:14:01.504Z"
   },
   {
    "duration": 60,
    "start_time": "2022-05-21T20:14:22.069Z"
   },
   {
    "duration": 15,
    "start_time": "2022-05-21T20:14:22.131Z"
   },
   {
    "duration": 18,
    "start_time": "2022-05-21T20:14:22.148Z"
   },
   {
    "duration": 11,
    "start_time": "2022-05-21T20:14:22.167Z"
   },
   {
    "duration": 18,
    "start_time": "2022-05-21T20:14:22.212Z"
   },
   {
    "duration": 9,
    "start_time": "2022-05-21T20:14:22.232Z"
   },
   {
    "duration": 24,
    "start_time": "2022-05-21T20:14:22.243Z"
   },
   {
    "duration": 7,
    "start_time": "2022-05-21T20:14:22.269Z"
   },
   {
    "duration": 42,
    "start_time": "2022-05-21T20:14:22.277Z"
   },
   {
    "duration": 5,
    "start_time": "2022-05-21T20:14:22.321Z"
   },
   {
    "duration": 7,
    "start_time": "2022-05-21T20:14:22.327Z"
   },
   {
    "duration": 6,
    "start_time": "2022-05-21T20:14:22.336Z"
   },
   {
    "duration": 23,
    "start_time": "2022-05-21T20:14:22.343Z"
   },
   {
    "duration": 5,
    "start_time": "2022-05-21T20:14:22.369Z"
   },
   {
    "duration": 9,
    "start_time": "2022-05-21T20:14:22.375Z"
   },
   {
    "duration": 8,
    "start_time": "2022-05-21T20:14:22.411Z"
   },
   {
    "duration": 9,
    "start_time": "2022-05-21T20:14:22.421Z"
   },
   {
    "duration": 19,
    "start_time": "2022-05-21T20:14:22.432Z"
   },
   {
    "duration": 311,
    "start_time": "2022-05-21T20:14:22.452Z"
   },
   {
    "duration": 192,
    "start_time": "2022-05-21T20:14:22.765Z"
   },
   {
    "duration": 223,
    "start_time": "2022-05-21T20:14:22.959Z"
   },
   {
    "duration": 16,
    "start_time": "2022-05-21T20:14:23.183Z"
   },
   {
    "duration": 19,
    "start_time": "2022-05-21T20:14:23.211Z"
   },
   {
    "duration": 16,
    "start_time": "2022-05-21T20:14:23.231Z"
   },
   {
    "duration": 358,
    "start_time": "2022-05-21T20:14:23.248Z"
   },
   {
    "duration": 8,
    "start_time": "2022-05-21T20:14:23.608Z"
   },
   {
    "duration": 101,
    "start_time": "2022-05-21T20:14:23.618Z"
   },
   {
    "duration": 8,
    "start_time": "2022-05-21T20:14:23.720Z"
   },
   {
    "duration": 17,
    "start_time": "2022-05-21T20:14:23.730Z"
   },
   {
    "duration": 312,
    "start_time": "2022-05-21T20:14:23.749Z"
   },
   {
    "duration": 6,
    "start_time": "2022-05-21T20:14:24.063Z"
   },
   {
    "duration": 308,
    "start_time": "2022-05-21T20:14:24.071Z"
   },
   {
    "duration": 7,
    "start_time": "2022-05-21T20:14:24.380Z"
   },
   {
    "duration": 469,
    "start_time": "2022-05-21T20:14:24.388Z"
   },
   {
    "duration": 181,
    "start_time": "2022-05-21T20:14:24.859Z"
   },
   {
    "duration": 6,
    "start_time": "2022-05-21T20:14:25.042Z"
   },
   {
    "duration": 12,
    "start_time": "2022-05-21T20:14:25.049Z"
   },
   {
    "duration": 1581,
    "start_time": "2022-05-21T20:14:25.062Z"
   },
   {
    "duration": 269,
    "start_time": "2022-05-21T20:14:26.645Z"
   },
   {
    "duration": 7,
    "start_time": "2022-05-21T20:14:26.915Z"
   },
   {
    "duration": 347,
    "start_time": "2022-05-21T20:14:26.926Z"
   },
   {
    "duration": 338,
    "start_time": "2022-05-21T20:14:27.276Z"
   },
   {
    "duration": 288,
    "start_time": "2022-05-21T20:14:27.616Z"
   },
   {
    "duration": 16,
    "start_time": "2022-05-21T20:14:27.911Z"
   },
   {
    "duration": 8,
    "start_time": "2022-05-21T20:14:27.929Z"
   },
   {
    "duration": 22,
    "start_time": "2022-05-21T20:14:27.939Z"
   },
   {
    "duration": 317,
    "start_time": "2022-05-21T20:14:27.962Z"
   },
   {
    "duration": 287,
    "start_time": "2022-05-21T20:14:52.505Z"
   },
   {
    "duration": 24,
    "start_time": "2022-05-21T20:15:18.976Z"
   },
   {
    "duration": 6,
    "start_time": "2022-05-21T20:15:26.080Z"
   },
   {
    "duration": 299,
    "start_time": "2022-05-21T20:15:44.611Z"
   },
   {
    "duration": 267,
    "start_time": "2022-05-21T20:16:10.591Z"
   },
   {
    "duration": 260,
    "start_time": "2022-05-21T20:19:18.941Z"
   },
   {
    "duration": 274,
    "start_time": "2022-05-21T20:19:36.888Z"
   },
   {
    "duration": 7,
    "start_time": "2022-05-21T20:20:01.296Z"
   },
   {
    "duration": 25,
    "start_time": "2022-05-21T20:20:12.585Z"
   },
   {
    "duration": 7,
    "start_time": "2022-05-21T20:21:20.780Z"
   },
   {
    "duration": 22,
    "start_time": "2022-05-21T20:21:33.333Z"
   },
   {
    "duration": 282,
    "start_time": "2022-05-21T20:22:34.919Z"
   },
   {
    "duration": 259,
    "start_time": "2022-05-21T20:23:14.981Z"
   },
   {
    "duration": 200,
    "start_time": "2022-05-21T20:25:53.189Z"
   },
   {
    "duration": 203,
    "start_time": "2022-05-21T20:26:56.008Z"
   },
   {
    "duration": 201,
    "start_time": "2022-05-21T20:27:15.806Z"
   },
   {
    "duration": 16,
    "start_time": "2022-05-21T20:30:02.412Z"
   },
   {
    "duration": 201,
    "start_time": "2022-05-21T20:30:08.876Z"
   },
   {
    "duration": 179,
    "start_time": "2022-05-21T20:30:24.472Z"
   },
   {
    "duration": 56,
    "start_time": "2022-05-21T20:31:16.458Z"
   },
   {
    "duration": 13,
    "start_time": "2022-05-21T20:31:16.517Z"
   },
   {
    "duration": 17,
    "start_time": "2022-05-21T20:31:16.532Z"
   },
   {
    "duration": 8,
    "start_time": "2022-05-21T20:31:16.551Z"
   },
   {
    "duration": 25,
    "start_time": "2022-05-21T20:31:16.561Z"
   },
   {
    "duration": 33,
    "start_time": "2022-05-21T20:31:16.588Z"
   },
   {
    "duration": 20,
    "start_time": "2022-05-21T20:31:16.622Z"
   },
   {
    "duration": 6,
    "start_time": "2022-05-21T20:31:16.643Z"
   },
   {
    "duration": 26,
    "start_time": "2022-05-21T20:31:16.651Z"
   },
   {
    "duration": 6,
    "start_time": "2022-05-21T20:31:16.679Z"
   },
   {
    "duration": 30,
    "start_time": "2022-05-21T20:31:16.687Z"
   },
   {
    "duration": 8,
    "start_time": "2022-05-21T20:31:16.720Z"
   },
   {
    "duration": 22,
    "start_time": "2022-05-21T20:31:16.730Z"
   },
   {
    "duration": 4,
    "start_time": "2022-05-21T20:31:16.755Z"
   },
   {
    "duration": 12,
    "start_time": "2022-05-21T20:31:16.761Z"
   },
   {
    "duration": 38,
    "start_time": "2022-05-21T20:31:16.775Z"
   },
   {
    "duration": 5,
    "start_time": "2022-05-21T20:31:16.814Z"
   },
   {
    "duration": 15,
    "start_time": "2022-05-21T20:31:16.821Z"
   },
   {
    "duration": 302,
    "start_time": "2022-05-21T20:31:16.838Z"
   },
   {
    "duration": 211,
    "start_time": "2022-05-21T20:31:17.142Z"
   },
   {
    "duration": 228,
    "start_time": "2022-05-21T20:31:17.355Z"
   },
   {
    "duration": 15,
    "start_time": "2022-05-21T20:31:17.584Z"
   },
   {
    "duration": 30,
    "start_time": "2022-05-21T20:31:17.611Z"
   },
   {
    "duration": 21,
    "start_time": "2022-05-21T20:31:17.643Z"
   },
   {
    "duration": 351,
    "start_time": "2022-05-21T20:31:17.665Z"
   },
   {
    "duration": 8,
    "start_time": "2022-05-21T20:31:18.018Z"
   },
   {
    "duration": 113,
    "start_time": "2022-05-21T20:31:18.027Z"
   },
   {
    "duration": 8,
    "start_time": "2022-05-21T20:31:18.141Z"
   },
   {
    "duration": 34,
    "start_time": "2022-05-21T20:31:18.150Z"
   },
   {
    "duration": 307,
    "start_time": "2022-05-21T20:31:18.186Z"
   },
   {
    "duration": 17,
    "start_time": "2022-05-21T20:31:18.495Z"
   },
   {
    "duration": 306,
    "start_time": "2022-05-21T20:31:18.513Z"
   },
   {
    "duration": 6,
    "start_time": "2022-05-21T20:31:18.820Z"
   },
   {
    "duration": 457,
    "start_time": "2022-05-21T20:31:18.828Z"
   },
   {
    "duration": 172,
    "start_time": "2022-05-21T20:31:19.287Z"
   },
   {
    "duration": 6,
    "start_time": "2022-05-21T20:31:19.461Z"
   },
   {
    "duration": 36,
    "start_time": "2022-05-21T20:31:19.469Z"
   },
   {
    "duration": 1510,
    "start_time": "2022-05-21T20:31:19.507Z"
   },
   {
    "duration": 278,
    "start_time": "2022-05-21T20:31:21.019Z"
   },
   {
    "duration": 14,
    "start_time": "2022-05-21T20:31:21.298Z"
   },
   {
    "duration": 349,
    "start_time": "2022-05-21T20:31:21.316Z"
   },
   {
    "duration": 345,
    "start_time": "2022-05-21T20:31:21.667Z"
   },
   {
    "duration": 303,
    "start_time": "2022-05-21T20:31:22.014Z"
   },
   {
    "duration": 15,
    "start_time": "2022-05-21T20:31:22.319Z"
   },
   {
    "duration": 9,
    "start_time": "2022-05-21T20:31:22.336Z"
   },
   {
    "duration": 9,
    "start_time": "2022-05-21T20:31:22.346Z"
   },
   {
    "duration": 22,
    "start_time": "2022-05-21T20:31:22.357Z"
   },
   {
    "duration": 207,
    "start_time": "2022-05-21T20:31:22.411Z"
   },
   {
    "duration": 59,
    "start_time": "2022-05-22T09:40:20.178Z"
   },
   {
    "duration": 820,
    "start_time": "2022-05-22T09:40:36.817Z"
   },
   {
    "duration": 20,
    "start_time": "2022-05-22T09:40:37.638Z"
   },
   {
    "duration": 14,
    "start_time": "2022-05-22T09:40:37.659Z"
   },
   {
    "duration": 8,
    "start_time": "2022-05-22T09:40:37.674Z"
   },
   {
    "duration": 16,
    "start_time": "2022-05-22T09:40:37.684Z"
   },
   {
    "duration": 9,
    "start_time": "2022-05-22T09:40:37.701Z"
   },
   {
    "duration": 40,
    "start_time": "2022-05-22T09:40:37.712Z"
   },
   {
    "duration": 4,
    "start_time": "2022-05-22T09:40:37.753Z"
   },
   {
    "duration": 18,
    "start_time": "2022-05-22T09:40:37.759Z"
   },
   {
    "duration": 3,
    "start_time": "2022-05-22T09:40:37.779Z"
   },
   {
    "duration": 8,
    "start_time": "2022-05-22T09:40:37.784Z"
   },
   {
    "duration": 9,
    "start_time": "2022-05-22T09:40:37.794Z"
   },
   {
    "duration": 18,
    "start_time": "2022-05-22T09:40:37.804Z"
   },
   {
    "duration": 5,
    "start_time": "2022-05-22T09:40:37.824Z"
   },
   {
    "duration": 8,
    "start_time": "2022-05-22T09:40:37.852Z"
   },
   {
    "duration": 10,
    "start_time": "2022-05-22T09:40:37.861Z"
   },
   {
    "duration": 6,
    "start_time": "2022-05-22T09:40:37.872Z"
   },
   {
    "duration": 15,
    "start_time": "2022-05-22T09:40:37.879Z"
   },
   {
    "duration": 710,
    "start_time": "2022-05-22T09:40:37.896Z"
   },
   {
    "duration": 186,
    "start_time": "2022-05-22T09:40:38.607Z"
   },
   {
    "duration": 226,
    "start_time": "2022-05-22T09:40:38.794Z"
   },
   {
    "duration": 15,
    "start_time": "2022-05-22T09:40:39.021Z"
   },
   {
    "duration": 24,
    "start_time": "2022-05-22T09:40:39.038Z"
   },
   {
    "duration": 14,
    "start_time": "2022-05-22T09:40:39.063Z"
   },
   {
    "duration": 364,
    "start_time": "2022-05-22T09:40:39.079Z"
   },
   {
    "duration": 10,
    "start_time": "2022-05-22T09:40:39.445Z"
   },
   {
    "duration": 102,
    "start_time": "2022-05-22T09:40:39.457Z"
   },
   {
    "duration": 7,
    "start_time": "2022-05-22T09:40:39.560Z"
   },
   {
    "duration": 15,
    "start_time": "2022-05-22T09:40:39.568Z"
   },
   {
    "duration": 381,
    "start_time": "2022-05-22T09:40:39.585Z"
   },
   {
    "duration": 6,
    "start_time": "2022-05-22T09:40:39.968Z"
   },
   {
    "duration": 324,
    "start_time": "2022-05-22T09:40:39.975Z"
   },
   {
    "duration": 6,
    "start_time": "2022-05-22T09:40:40.300Z"
   },
   {
    "duration": 932,
    "start_time": "2022-05-22T09:40:40.308Z"
   },
   {
    "duration": 241,
    "start_time": "2022-05-22T09:40:41.241Z"
   },
   {
    "duration": 6,
    "start_time": "2022-05-22T09:40:41.484Z"
   },
   {
    "duration": 13,
    "start_time": "2022-05-22T09:40:41.491Z"
   },
   {
    "duration": 1651,
    "start_time": "2022-05-22T09:40:41.505Z"
   },
   {
    "duration": 276,
    "start_time": "2022-05-22T09:40:43.158Z"
   },
   {
    "duration": 5,
    "start_time": "2022-05-22T09:40:43.436Z"
   },
   {
    "duration": 287,
    "start_time": "2022-05-22T09:40:43.451Z"
   },
   {
    "duration": 299,
    "start_time": "2022-05-22T09:40:43.739Z"
   },
   {
    "duration": 294,
    "start_time": "2022-05-22T09:40:44.039Z"
   },
   {
    "duration": 21,
    "start_time": "2022-05-22T09:40:44.335Z"
   },
   {
    "duration": 9,
    "start_time": "2022-05-22T09:40:44.358Z"
   },
   {
    "duration": 8,
    "start_time": "2022-05-22T09:40:44.368Z"
   },
   {
    "duration": 22,
    "start_time": "2022-05-22T09:40:44.377Z"
   },
   {
    "duration": 293,
    "start_time": "2022-05-22T09:40:44.400Z"
   },
   {
    "duration": 7,
    "start_time": "2022-05-22T09:40:44.695Z"
   },
   {
    "duration": 6,
    "start_time": "2022-05-22T09:43:49.863Z"
   },
   {
    "duration": 7,
    "start_time": "2022-05-22T09:44:08.988Z"
   },
   {
    "duration": 8,
    "start_time": "2022-05-22T10:03:47.757Z"
   },
   {
    "duration": 7,
    "start_time": "2022-05-22T10:04:08.558Z"
   },
   {
    "duration": 8,
    "start_time": "2022-05-22T10:04:19.575Z"
   },
   {
    "duration": 8,
    "start_time": "2022-05-22T10:24:43.430Z"
   },
   {
    "duration": 6,
    "start_time": "2022-05-22T10:26:59.510Z"
   },
   {
    "duration": 8,
    "start_time": "2022-05-22T10:27:12.996Z"
   },
   {
    "duration": 7,
    "start_time": "2022-05-22T10:28:54.571Z"
   },
   {
    "duration": 7,
    "start_time": "2022-05-22T10:29:02.611Z"
   },
   {
    "duration": 7,
    "start_time": "2022-05-22T10:29:07.366Z"
   },
   {
    "duration": 9,
    "start_time": "2022-05-22T10:29:12.575Z"
   },
   {
    "duration": 66,
    "start_time": "2022-05-22T10:49:23.129Z"
   },
   {
    "duration": 14,
    "start_time": "2022-05-22T10:49:23.197Z"
   },
   {
    "duration": 20,
    "start_time": "2022-05-22T10:49:23.212Z"
   },
   {
    "duration": 22,
    "start_time": "2022-05-22T10:49:23.234Z"
   },
   {
    "duration": 18,
    "start_time": "2022-05-22T10:49:23.257Z"
   },
   {
    "duration": 9,
    "start_time": "2022-05-22T10:49:23.277Z"
   },
   {
    "duration": 18,
    "start_time": "2022-05-22T10:49:23.287Z"
   },
   {
    "duration": 4,
    "start_time": "2022-05-22T10:49:23.306Z"
   },
   {
    "duration": 47,
    "start_time": "2022-05-22T10:49:23.312Z"
   },
   {
    "duration": 4,
    "start_time": "2022-05-22T10:49:23.362Z"
   },
   {
    "duration": 10,
    "start_time": "2022-05-22T10:49:23.368Z"
   },
   {
    "duration": 9,
    "start_time": "2022-05-22T10:49:23.379Z"
   },
   {
    "duration": 15,
    "start_time": "2022-05-22T10:49:23.390Z"
   },
   {
    "duration": 4,
    "start_time": "2022-05-22T10:49:23.407Z"
   },
   {
    "duration": 10,
    "start_time": "2022-05-22T10:49:23.413Z"
   },
   {
    "duration": 34,
    "start_time": "2022-05-22T10:49:23.424Z"
   },
   {
    "duration": 9,
    "start_time": "2022-05-22T10:49:23.459Z"
   },
   {
    "duration": 17,
    "start_time": "2022-05-22T10:49:23.469Z"
   },
   {
    "duration": 307,
    "start_time": "2022-05-22T10:49:23.488Z"
   },
   {
    "duration": 194,
    "start_time": "2022-05-22T10:49:23.797Z"
   },
   {
    "duration": 238,
    "start_time": "2022-05-22T10:49:23.992Z"
   },
   {
    "duration": 21,
    "start_time": "2022-05-22T10:49:24.231Z"
   },
   {
    "duration": 20,
    "start_time": "2022-05-22T10:49:24.253Z"
   },
   {
    "duration": 15,
    "start_time": "2022-05-22T10:49:24.274Z"
   },
   {
    "duration": 373,
    "start_time": "2022-05-22T10:49:24.291Z"
   },
   {
    "duration": 8,
    "start_time": "2022-05-22T10:49:24.666Z"
   },
   {
    "duration": 111,
    "start_time": "2022-05-22T10:49:24.676Z"
   },
   {
    "duration": 9,
    "start_time": "2022-05-22T10:49:24.791Z"
   },
   {
    "duration": 17,
    "start_time": "2022-05-22T10:49:24.802Z"
   },
   {
    "duration": 334,
    "start_time": "2022-05-22T10:49:24.821Z"
   },
   {
    "duration": 10,
    "start_time": "2022-05-22T10:49:25.157Z"
   },
   {
    "duration": 384,
    "start_time": "2022-05-22T10:49:25.170Z"
   },
   {
    "duration": 6,
    "start_time": "2022-05-22T10:49:25.556Z"
   },
   {
    "duration": 497,
    "start_time": "2022-05-22T10:49:25.563Z"
   },
   {
    "duration": 178,
    "start_time": "2022-05-22T10:49:26.061Z"
   },
   {
    "duration": 11,
    "start_time": "2022-05-22T10:49:26.241Z"
   },
   {
    "duration": 14,
    "start_time": "2022-05-22T10:49:26.254Z"
   },
   {
    "duration": 1757,
    "start_time": "2022-05-22T10:49:26.269Z"
   },
   {
    "duration": 318,
    "start_time": "2022-05-22T10:49:28.028Z"
   },
   {
    "duration": 6,
    "start_time": "2022-05-22T10:49:28.352Z"
   },
   {
    "duration": 317,
    "start_time": "2022-05-22T10:49:28.360Z"
   },
   {
    "duration": 284,
    "start_time": "2022-05-22T10:49:28.678Z"
   },
   {
    "duration": 298,
    "start_time": "2022-05-22T10:49:28.964Z"
   },
   {
    "duration": 17,
    "start_time": "2022-05-22T10:49:29.264Z"
   },
   {
    "duration": 11,
    "start_time": "2022-05-22T10:49:29.283Z"
   },
   {
    "duration": 8,
    "start_time": "2022-05-22T10:49:29.296Z"
   },
   {
    "duration": 46,
    "start_time": "2022-05-22T10:49:29.306Z"
   },
   {
    "duration": 218,
    "start_time": "2022-05-22T10:49:29.354Z"
   },
   {
    "duration": 8,
    "start_time": "2022-05-22T10:49:29.574Z"
   },
   {
    "duration": 29,
    "start_time": "2022-05-22T10:49:29.584Z"
   },
   {
    "duration": 13,
    "start_time": "2022-05-22T10:49:29.615Z"
   },
   {
    "duration": 16,
    "start_time": "2022-05-22T10:49:29.630Z"
   },
   {
    "duration": 13,
    "start_time": "2022-05-22T10:49:29.649Z"
   },
   {
    "duration": 11,
    "start_time": "2022-05-22T10:49:29.665Z"
   },
   {
    "duration": 8,
    "start_time": "2022-05-22T10:49:29.678Z"
   },
   {
    "duration": 8,
    "start_time": "2022-05-22T10:49:29.688Z"
   },
   {
    "duration": 10,
    "start_time": "2022-05-22T10:49:29.698Z"
   },
   {
    "duration": 21,
    "start_time": "2022-05-22T11:06:40.570Z"
   },
   {
    "duration": 27,
    "start_time": "2022-05-22T11:06:55.392Z"
   },
   {
    "duration": 11,
    "start_time": "2022-05-22T11:08:07.272Z"
   },
   {
    "duration": 13,
    "start_time": "2022-05-22T11:08:48.111Z"
   },
   {
    "duration": 77,
    "start_time": "2022-05-22T11:16:39.790Z"
   },
   {
    "duration": 24,
    "start_time": "2022-05-22T11:28:47.270Z"
   },
   {
    "duration": 13,
    "start_time": "2022-05-22T11:29:01.107Z"
   },
   {
    "duration": 7,
    "start_time": "2022-05-22T11:37:38.528Z"
   },
   {
    "duration": 10,
    "start_time": "2022-05-22T11:46:28.886Z"
   },
   {
    "duration": 51,
    "start_time": "2022-05-22T12:28:50.200Z"
   },
   {
    "duration": 15,
    "start_time": "2022-05-22T12:28:50.253Z"
   },
   {
    "duration": 22,
    "start_time": "2022-05-22T12:28:50.269Z"
   },
   {
    "duration": 8,
    "start_time": "2022-05-22T12:28:50.293Z"
   },
   {
    "duration": 18,
    "start_time": "2022-05-22T12:28:50.303Z"
   },
   {
    "duration": 10,
    "start_time": "2022-05-22T12:28:50.351Z"
   },
   {
    "duration": 18,
    "start_time": "2022-05-22T12:28:50.363Z"
   },
   {
    "duration": 4,
    "start_time": "2022-05-22T12:28:50.383Z"
   },
   {
    "duration": 17,
    "start_time": "2022-05-22T12:28:50.389Z"
   },
   {
    "duration": 4,
    "start_time": "2022-05-22T12:28:50.408Z"
   },
   {
    "duration": 40,
    "start_time": "2022-05-22T12:28:50.414Z"
   },
   {
    "duration": 5,
    "start_time": "2022-05-22T12:28:50.455Z"
   },
   {
    "duration": 20,
    "start_time": "2022-05-22T12:28:50.462Z"
   },
   {
    "duration": 5,
    "start_time": "2022-05-22T12:28:50.485Z"
   },
   {
    "duration": 11,
    "start_time": "2022-05-22T12:28:50.491Z"
   },
   {
    "duration": 7,
    "start_time": "2022-05-22T12:28:50.503Z"
   },
   {
    "duration": 4,
    "start_time": "2022-05-22T12:28:50.512Z"
   },
   {
    "duration": 44,
    "start_time": "2022-05-22T12:28:50.518Z"
   },
   {
    "duration": 307,
    "start_time": "2022-05-22T12:28:50.564Z"
   },
   {
    "duration": 197,
    "start_time": "2022-05-22T12:28:50.873Z"
   },
   {
    "duration": 382,
    "start_time": "2022-05-22T12:28:51.072Z"
   },
   {
    "duration": 24,
    "start_time": "2022-05-22T12:28:51.457Z"
   },
   {
    "duration": 23,
    "start_time": "2022-05-22T12:28:51.483Z"
   },
   {
    "duration": 21,
    "start_time": "2022-05-22T12:28:51.508Z"
   },
   {
    "duration": 430,
    "start_time": "2022-05-22T12:28:51.531Z"
   },
   {
    "duration": 9,
    "start_time": "2022-05-22T12:28:51.963Z"
   },
   {
    "duration": 132,
    "start_time": "2022-05-22T12:28:51.974Z"
   },
   {
    "duration": 7,
    "start_time": "2022-05-22T12:28:52.107Z"
   },
   {
    "duration": 19,
    "start_time": "2022-05-22T12:28:52.116Z"
   },
   {
    "duration": 333,
    "start_time": "2022-05-22T12:28:52.136Z"
   },
   {
    "duration": 7,
    "start_time": "2022-05-22T12:28:52.471Z"
   },
   {
    "duration": 362,
    "start_time": "2022-05-22T12:28:52.479Z"
   },
   {
    "duration": 10,
    "start_time": "2022-05-22T12:28:52.843Z"
   },
   {
    "duration": 500,
    "start_time": "2022-05-22T12:28:52.855Z"
   },
   {
    "duration": 177,
    "start_time": "2022-05-22T12:28:53.356Z"
   },
   {
    "duration": 5,
    "start_time": "2022-05-22T12:28:53.535Z"
   },
   {
    "duration": 18,
    "start_time": "2022-05-22T12:28:53.542Z"
   },
   {
    "duration": 1764,
    "start_time": "2022-05-22T12:28:53.562Z"
   },
   {
    "duration": 325,
    "start_time": "2022-05-22T12:28:55.328Z"
   },
   {
    "duration": 6,
    "start_time": "2022-05-22T12:28:55.655Z"
   },
   {
    "duration": 295,
    "start_time": "2022-05-22T12:28:55.665Z"
   },
   {
    "duration": 307,
    "start_time": "2022-05-22T12:28:55.962Z"
   },
   {
    "duration": 281,
    "start_time": "2022-05-22T12:28:56.271Z"
   },
   {
    "duration": 17,
    "start_time": "2022-05-22T12:28:56.553Z"
   },
   {
    "duration": 13,
    "start_time": "2022-05-22T12:28:56.571Z"
   },
   {
    "duration": 8,
    "start_time": "2022-05-22T12:28:56.586Z"
   },
   {
    "duration": 24,
    "start_time": "2022-05-22T12:28:56.595Z"
   },
   {
    "duration": 216,
    "start_time": "2022-05-22T12:28:56.621Z"
   },
   {
    "duration": 13,
    "start_time": "2022-05-22T12:28:56.839Z"
   },
   {
    "duration": 6,
    "start_time": "2022-05-22T12:28:56.854Z"
   },
   {
    "duration": 15,
    "start_time": "2022-05-22T12:28:56.861Z"
   },
   {
    "duration": 15,
    "start_time": "2022-05-22T12:28:56.878Z"
   },
   {
    "duration": 10,
    "start_time": "2022-05-22T12:28:56.895Z"
   },
   {
    "duration": 9,
    "start_time": "2022-05-22T12:28:56.906Z"
   },
   {
    "duration": 12,
    "start_time": "2022-05-22T12:28:56.916Z"
   },
   {
    "duration": 11,
    "start_time": "2022-05-22T12:28:56.929Z"
   },
   {
    "duration": 14,
    "start_time": "2022-05-22T12:28:56.941Z"
   },
   {
    "duration": 10,
    "start_time": "2022-05-22T12:28:56.957Z"
   },
   {
    "duration": 7,
    "start_time": "2022-05-22T12:28:56.969Z"
   },
   {
    "duration": 15,
    "start_time": "2022-05-22T12:28:56.978Z"
   },
   {
    "duration": 636,
    "start_time": "2022-05-22T13:09:54.340Z"
   },
   {
    "duration": 27,
    "start_time": "2022-05-22T13:09:54.979Z"
   },
   {
    "duration": 26,
    "start_time": "2022-05-22T13:09:55.009Z"
   },
   {
    "duration": 42,
    "start_time": "2022-05-22T13:09:55.038Z"
   },
   {
    "duration": 19,
    "start_time": "2022-05-22T13:09:55.082Z"
   },
   {
    "duration": 14,
    "start_time": "2022-05-22T13:09:55.103Z"
   },
   {
    "duration": 39,
    "start_time": "2022-05-22T13:09:55.120Z"
   },
   {
    "duration": 9,
    "start_time": "2022-05-22T13:09:55.162Z"
   },
   {
    "duration": 40,
    "start_time": "2022-05-22T13:09:55.174Z"
   },
   {
    "duration": 6,
    "start_time": "2022-05-22T13:09:55.219Z"
   },
   {
    "duration": 13,
    "start_time": "2022-05-22T13:09:55.227Z"
   },
   {
    "duration": 7,
    "start_time": "2022-05-22T13:09:55.242Z"
   },
   {
    "duration": 47,
    "start_time": "2022-05-22T13:09:55.251Z"
   },
   {
    "duration": 6,
    "start_time": "2022-05-22T13:09:55.300Z"
   },
   {
    "duration": 8,
    "start_time": "2022-05-22T13:09:55.307Z"
   },
   {
    "duration": 9,
    "start_time": "2022-05-22T13:09:55.317Z"
   },
   {
    "duration": 6,
    "start_time": "2022-05-22T13:09:55.328Z"
   },
   {
    "duration": 20,
    "start_time": "2022-05-22T13:09:55.336Z"
   },
   {
    "duration": 616,
    "start_time": "2022-05-22T13:09:55.366Z"
   },
   {
    "duration": 212,
    "start_time": "2022-05-22T13:09:55.984Z"
   },
   {
    "duration": 255,
    "start_time": "2022-05-22T13:09:56.198Z"
   },
   {
    "duration": 27,
    "start_time": "2022-05-22T13:09:56.455Z"
   },
   {
    "duration": 21,
    "start_time": "2022-05-22T13:09:56.483Z"
   },
   {
    "duration": 14,
    "start_time": "2022-05-22T13:09:56.506Z"
   },
   {
    "duration": 400,
    "start_time": "2022-05-22T13:09:56.522Z"
   },
   {
    "duration": 9,
    "start_time": "2022-05-22T13:09:56.923Z"
   },
   {
    "duration": 117,
    "start_time": "2022-05-22T13:09:56.933Z"
   },
   {
    "duration": 25,
    "start_time": "2022-05-22T13:09:57.054Z"
   },
   {
    "duration": 17,
    "start_time": "2022-05-22T13:09:57.081Z"
   },
   {
    "duration": 366,
    "start_time": "2022-05-22T13:09:57.099Z"
   },
   {
    "duration": 17,
    "start_time": "2022-05-22T13:09:57.467Z"
   },
   {
    "duration": 415,
    "start_time": "2022-05-22T13:09:57.486Z"
   },
   {
    "duration": 6,
    "start_time": "2022-05-22T13:09:57.903Z"
   },
   {
    "duration": 1008,
    "start_time": "2022-05-22T13:09:57.911Z"
   },
   {
    "duration": 215,
    "start_time": "2022-05-22T13:09:58.921Z"
   },
   {
    "duration": 8,
    "start_time": "2022-05-22T13:09:59.138Z"
   },
   {
    "duration": 30,
    "start_time": "2022-05-22T13:09:59.148Z"
   },
   {
    "duration": 1851,
    "start_time": "2022-05-22T13:09:59.180Z"
   },
   {
    "duration": 348,
    "start_time": "2022-05-22T13:10:01.033Z"
   },
   {
    "duration": 7,
    "start_time": "2022-05-22T13:10:01.383Z"
   },
   {
    "duration": 328,
    "start_time": "2022-05-22T13:10:01.391Z"
   },
   {
    "duration": 358,
    "start_time": "2022-05-22T13:10:01.720Z"
   },
   {
    "duration": 308,
    "start_time": "2022-05-22T13:10:02.080Z"
   },
   {
    "duration": 19,
    "start_time": "2022-05-22T13:10:02.390Z"
   },
   {
    "duration": 10,
    "start_time": "2022-05-22T13:10:02.411Z"
   },
   {
    "duration": 7,
    "start_time": "2022-05-22T13:10:02.423Z"
   },
   {
    "duration": 62,
    "start_time": "2022-05-22T13:10:02.432Z"
   },
   {
    "duration": 236,
    "start_time": "2022-05-22T13:10:02.496Z"
   },
   {
    "duration": 8,
    "start_time": "2022-05-22T13:10:02.734Z"
   },
   {
    "duration": 38,
    "start_time": "2022-05-22T13:10:02.743Z"
   },
   {
    "duration": 7,
    "start_time": "2022-05-22T13:10:02.783Z"
   },
   {
    "duration": 10,
    "start_time": "2022-05-22T13:10:02.792Z"
   },
   {
    "duration": 15,
    "start_time": "2022-05-22T13:10:02.803Z"
   },
   {
    "duration": 10,
    "start_time": "2022-05-22T13:10:02.819Z"
   },
   {
    "duration": 9,
    "start_time": "2022-05-22T13:10:02.831Z"
   },
   {
    "duration": 7,
    "start_time": "2022-05-22T13:10:02.842Z"
   },
   {
    "duration": 27,
    "start_time": "2022-05-22T13:10:02.851Z"
   },
   {
    "duration": 117,
    "start_time": "2022-05-22T13:10:02.880Z"
   },
   {
    "duration": 8,
    "start_time": "2022-05-22T13:10:03.000Z"
   },
   {
    "duration": 12,
    "start_time": "2022-05-22T13:10:03.010Z"
   },
   {
    "duration": 51,
    "start_time": "2022-05-22T14:52:33.504Z"
   },
   {
    "duration": 15,
    "start_time": "2022-05-22T14:52:33.558Z"
   },
   {
    "duration": 30,
    "start_time": "2022-05-22T14:52:33.574Z"
   },
   {
    "duration": 10,
    "start_time": "2022-05-22T14:52:33.606Z"
   },
   {
    "duration": 49,
    "start_time": "2022-05-22T14:52:33.618Z"
   },
   {
    "duration": 13,
    "start_time": "2022-05-22T14:52:33.669Z"
   },
   {
    "duration": 25,
    "start_time": "2022-05-22T14:52:33.684Z"
   },
   {
    "duration": 6,
    "start_time": "2022-05-22T14:52:33.711Z"
   },
   {
    "duration": 66,
    "start_time": "2022-05-22T14:52:33.719Z"
   },
   {
    "duration": 5,
    "start_time": "2022-05-22T14:52:33.790Z"
   },
   {
    "duration": 8,
    "start_time": "2022-05-22T14:52:33.797Z"
   },
   {
    "duration": 8,
    "start_time": "2022-05-22T14:52:33.807Z"
   },
   {
    "duration": 16,
    "start_time": "2022-05-22T14:52:33.817Z"
   },
   {
    "duration": 30,
    "start_time": "2022-05-22T14:52:33.835Z"
   },
   {
    "duration": 6,
    "start_time": "2022-05-22T14:52:33.867Z"
   },
   {
    "duration": 11,
    "start_time": "2022-05-22T14:52:33.874Z"
   },
   {
    "duration": 11,
    "start_time": "2022-05-22T14:52:33.887Z"
   },
   {
    "duration": 16,
    "start_time": "2022-05-22T14:52:33.899Z"
   },
   {
    "duration": 337,
    "start_time": "2022-05-22T14:52:33.917Z"
   },
   {
    "duration": 291,
    "start_time": "2022-05-22T14:52:34.256Z"
   },
   {
    "duration": 231,
    "start_time": "2022-05-22T14:52:34.549Z"
   },
   {
    "duration": 16,
    "start_time": "2022-05-22T14:52:34.782Z"
   },
   {
    "duration": 21,
    "start_time": "2022-05-22T14:52:34.800Z"
   },
   {
    "duration": 15,
    "start_time": "2022-05-22T14:52:34.823Z"
   },
   {
    "duration": 378,
    "start_time": "2022-05-22T14:52:34.840Z"
   },
   {
    "duration": 9,
    "start_time": "2022-05-22T14:52:35.219Z"
   },
   {
    "duration": 108,
    "start_time": "2022-05-22T14:52:35.230Z"
   },
   {
    "duration": 24,
    "start_time": "2022-05-22T14:52:35.342Z"
   },
   {
    "duration": 18,
    "start_time": "2022-05-22T14:52:35.368Z"
   },
   {
    "duration": 351,
    "start_time": "2022-05-22T14:52:35.388Z"
   },
   {
    "duration": 7,
    "start_time": "2022-05-22T14:52:35.741Z"
   },
   {
    "duration": 342,
    "start_time": "2022-05-22T14:52:35.750Z"
   },
   {
    "duration": 6,
    "start_time": "2022-05-22T14:52:36.094Z"
   },
   {
    "duration": 531,
    "start_time": "2022-05-22T14:52:36.102Z"
   },
   {
    "duration": 197,
    "start_time": "2022-05-22T14:52:36.635Z"
   },
   {
    "duration": 5,
    "start_time": "2022-05-22T14:52:36.834Z"
   },
   {
    "duration": 25,
    "start_time": "2022-05-22T14:52:36.841Z"
   },
   {
    "duration": 1899,
    "start_time": "2022-05-22T14:52:36.869Z"
   },
   {
    "duration": 335,
    "start_time": "2022-05-22T14:52:38.771Z"
   },
   {
    "duration": 7,
    "start_time": "2022-05-22T14:52:39.107Z"
   },
   {
    "duration": 378,
    "start_time": "2022-05-22T14:52:39.116Z"
   },
   {
    "duration": 304,
    "start_time": "2022-05-22T14:52:39.495Z"
   },
   {
    "duration": 296,
    "start_time": "2022-05-22T14:52:39.801Z"
   },
   {
    "duration": 17,
    "start_time": "2022-05-22T14:52:40.099Z"
   },
   {
    "duration": 9,
    "start_time": "2022-05-22T14:52:40.118Z"
   },
   {
    "duration": 7,
    "start_time": "2022-05-22T14:52:40.129Z"
   },
   {
    "duration": 54,
    "start_time": "2022-05-22T14:52:40.137Z"
   },
   {
    "duration": 231,
    "start_time": "2022-05-22T14:52:40.193Z"
   },
   {
    "duration": 7,
    "start_time": "2022-05-22T14:52:40.426Z"
   },
   {
    "duration": 13,
    "start_time": "2022-05-22T14:52:40.434Z"
   },
   {
    "duration": 16,
    "start_time": "2022-05-22T14:52:40.449Z"
   },
   {
    "duration": 11,
    "start_time": "2022-05-22T14:52:40.467Z"
   },
   {
    "duration": 10,
    "start_time": "2022-05-22T14:52:40.481Z"
   },
   {
    "duration": 10,
    "start_time": "2022-05-22T14:52:40.492Z"
   },
   {
    "duration": 6,
    "start_time": "2022-05-22T14:52:40.504Z"
   },
   {
    "duration": 7,
    "start_time": "2022-05-22T14:52:40.512Z"
   },
   {
    "duration": 6,
    "start_time": "2022-05-22T14:52:40.521Z"
   },
   {
    "duration": 18,
    "start_time": "2022-05-22T14:52:40.566Z"
   },
   {
    "duration": 10,
    "start_time": "2022-05-22T14:52:40.586Z"
   },
   {
    "duration": 11,
    "start_time": "2022-05-22T14:52:40.598Z"
   },
   {
    "duration": 37,
    "start_time": "2022-05-22T21:22:02.833Z"
   },
   {
    "duration": 33,
    "start_time": "2022-05-22T21:33:25.981Z"
   },
   {
    "duration": 52,
    "start_time": "2022-05-22T21:43:43.404Z"
   },
   {
    "duration": 6,
    "start_time": "2022-05-22T21:43:53.219Z"
   },
   {
    "duration": 1573,
    "start_time": "2022-05-22T21:44:00.574Z"
   },
   {
    "duration": 86,
    "start_time": "2022-05-22T21:44:02.149Z"
   },
   {
    "duration": 19,
    "start_time": "2022-05-22T21:44:02.236Z"
   },
   {
    "duration": 16,
    "start_time": "2022-05-22T21:44:02.256Z"
   },
   {
    "duration": 8,
    "start_time": "2022-05-22T21:44:02.274Z"
   },
   {
    "duration": 17,
    "start_time": "2022-05-22T21:44:02.284Z"
   },
   {
    "duration": 8,
    "start_time": "2022-05-22T21:44:02.303Z"
   },
   {
    "duration": 20,
    "start_time": "2022-05-22T21:44:02.313Z"
   },
   {
    "duration": 30,
    "start_time": "2022-05-22T21:44:02.335Z"
   },
   {
    "duration": 18,
    "start_time": "2022-05-22T21:44:02.367Z"
   },
   {
    "duration": 33,
    "start_time": "2022-05-22T21:44:02.386Z"
   },
   {
    "duration": 8,
    "start_time": "2022-05-22T21:44:02.421Z"
   },
   {
    "duration": 7,
    "start_time": "2022-05-22T21:44:02.430Z"
   },
   {
    "duration": 15,
    "start_time": "2022-05-22T21:44:02.440Z"
   },
   {
    "duration": 15,
    "start_time": "2022-05-22T21:44:06.419Z"
   },
   {
    "duration": 19,
    "start_time": "2022-05-22T21:46:43.811Z"
   },
   {
    "duration": 549,
    "start_time": "2022-05-22T21:50:07.406Z"
   },
   {
    "duration": 286,
    "start_time": "2022-05-22T21:50:22.056Z"
   },
   {
    "duration": 219,
    "start_time": "2022-05-22T21:51:10.920Z"
   },
   {
    "duration": 184,
    "start_time": "2022-05-22T21:51:24.815Z"
   },
   {
    "duration": 3,
    "start_time": "2022-05-22T21:51:49.222Z"
   },
   {
    "duration": 51,
    "start_time": "2022-05-22T21:51:49.249Z"
   },
   {
    "duration": 14,
    "start_time": "2022-05-22T21:51:49.301Z"
   },
   {
    "duration": 16,
    "start_time": "2022-05-22T21:51:49.317Z"
   },
   {
    "duration": 16,
    "start_time": "2022-05-22T21:51:49.350Z"
   },
   {
    "duration": 17,
    "start_time": "2022-05-22T21:51:49.427Z"
   },
   {
    "duration": 8,
    "start_time": "2022-05-22T21:51:49.445Z"
   },
   {
    "duration": 21,
    "start_time": "2022-05-22T21:51:49.454Z"
   },
   {
    "duration": 5,
    "start_time": "2022-05-22T21:51:49.476Z"
   },
   {
    "duration": 17,
    "start_time": "2022-05-22T21:51:49.484Z"
   },
   {
    "duration": 4,
    "start_time": "2022-05-22T21:51:49.502Z"
   },
   {
    "duration": 5,
    "start_time": "2022-05-22T21:51:49.539Z"
   },
   {
    "duration": 6,
    "start_time": "2022-05-22T21:51:49.546Z"
   },
   {
    "duration": 16,
    "start_time": "2022-05-22T21:51:49.554Z"
   },
   {
    "duration": 5,
    "start_time": "2022-05-22T21:51:49.666Z"
   },
   {
    "duration": 8,
    "start_time": "2022-05-22T21:51:49.673Z"
   },
   {
    "duration": 9,
    "start_time": "2022-05-22T21:51:49.683Z"
   },
   {
    "duration": 5,
    "start_time": "2022-05-22T21:51:49.712Z"
   },
   {
    "duration": 16,
    "start_time": "2022-05-22T21:51:49.721Z"
   },
   {
    "duration": 402,
    "start_time": "2022-05-22T21:51:59.809Z"
   },
   {
    "duration": 186,
    "start_time": "2022-05-22T21:52:07.471Z"
   },
   {
    "duration": 234,
    "start_time": "2022-05-22T21:52:11.970Z"
   },
   {
    "duration": 234,
    "start_time": "2022-05-22T21:53:30.559Z"
   },
   {
    "duration": 171,
    "start_time": "2022-05-22T21:53:49.494Z"
   },
   {
    "duration": 312,
    "start_time": "2022-05-22T21:53:58.700Z"
   },
   {
    "duration": 31,
    "start_time": "2022-05-22T21:57:18.028Z"
   },
   {
    "duration": 41,
    "start_time": "2022-05-23T09:04:38.006Z"
   },
   {
    "duration": 98,
    "start_time": "2022-05-23T09:11:04.130Z"
   },
   {
    "duration": 52,
    "start_time": "2022-05-23T10:20:20.736Z"
   },
   {
    "duration": 1534,
    "start_time": "2022-05-23T10:20:26.446Z"
   },
   {
    "duration": 80,
    "start_time": "2022-05-23T10:20:27.982Z"
   },
   {
    "duration": 17,
    "start_time": "2022-05-23T10:20:28.064Z"
   },
   {
    "duration": 15,
    "start_time": "2022-05-23T10:20:28.083Z"
   },
   {
    "duration": 8,
    "start_time": "2022-05-23T10:20:28.100Z"
   },
   {
    "duration": 35,
    "start_time": "2022-05-23T10:20:28.110Z"
   },
   {
    "duration": 11,
    "start_time": "2022-05-23T10:20:28.146Z"
   },
   {
    "duration": 23,
    "start_time": "2022-05-23T10:20:28.159Z"
   },
   {
    "duration": 4,
    "start_time": "2022-05-23T10:20:28.183Z"
   },
   {
    "duration": 17,
    "start_time": "2022-05-23T10:20:28.190Z"
   },
   {
    "duration": 19,
    "start_time": "2022-05-23T10:20:28.208Z"
   },
   {
    "duration": 5,
    "start_time": "2022-05-23T10:20:28.229Z"
   },
   {
    "duration": 10,
    "start_time": "2022-05-23T10:20:28.236Z"
   },
   {
    "duration": 19,
    "start_time": "2022-05-23T10:20:28.247Z"
   },
   {
    "duration": 8,
    "start_time": "2022-05-23T10:20:28.268Z"
   },
   {
    "duration": 19,
    "start_time": "2022-05-23T10:20:28.277Z"
   },
   {
    "duration": 17,
    "start_time": "2022-05-23T10:20:28.298Z"
   },
   {
    "duration": 11,
    "start_time": "2022-05-23T10:20:28.317Z"
   },
   {
    "duration": 17,
    "start_time": "2022-05-23T10:20:28.329Z"
   },
   {
    "duration": 373,
    "start_time": "2022-05-23T10:20:28.347Z"
   },
   {
    "duration": 178,
    "start_time": "2022-05-23T10:20:28.722Z"
   },
   {
    "duration": 220,
    "start_time": "2022-05-23T10:20:28.902Z"
   },
   {
    "duration": 4,
    "start_time": "2022-05-23T10:20:39.662Z"
   },
   {
    "duration": 17,
    "start_time": "2022-05-23T10:20:56.987Z"
   },
   {
    "duration": 10,
    "start_time": "2022-05-23T11:10:07.236Z"
   },
   {
    "duration": 9,
    "start_time": "2022-05-23T11:10:45.544Z"
   },
   {
    "duration": 9,
    "start_time": "2022-05-23T11:18:34.220Z"
   },
   {
    "duration": 25,
    "start_time": "2022-05-23T11:35:57.490Z"
   },
   {
    "duration": 16,
    "start_time": "2022-05-23T11:36:10.315Z"
   },
   {
    "duration": 326,
    "start_time": "2022-05-23T11:45:16.714Z"
   },
   {
    "duration": 369,
    "start_time": "2022-05-23T11:50:05.081Z"
   },
   {
    "duration": 336,
    "start_time": "2022-05-23T11:52:08.734Z"
   },
   {
    "duration": 74,
    "start_time": "2022-05-23T13:18:56.398Z"
   },
   {
    "duration": 13,
    "start_time": "2022-05-23T13:21:35.444Z"
   },
   {
    "duration": 13,
    "start_time": "2022-05-23T13:26:07.564Z"
   },
   {
    "duration": 11,
    "start_time": "2022-05-23T13:26:17.739Z"
   },
   {
    "duration": 2,
    "start_time": "2022-05-23T13:26:21.749Z"
   },
   {
    "duration": 64,
    "start_time": "2022-05-23T13:26:21.755Z"
   },
   {
    "duration": 13,
    "start_time": "2022-05-23T13:26:21.821Z"
   },
   {
    "duration": 22,
    "start_time": "2022-05-23T13:26:21.835Z"
   },
   {
    "duration": 14,
    "start_time": "2022-05-23T13:26:21.858Z"
   },
   {
    "duration": 16,
    "start_time": "2022-05-23T13:26:21.873Z"
   },
   {
    "duration": 10,
    "start_time": "2022-05-23T13:26:21.891Z"
   },
   {
    "duration": 37,
    "start_time": "2022-05-23T13:26:21.902Z"
   },
   {
    "duration": 4,
    "start_time": "2022-05-23T13:26:21.941Z"
   },
   {
    "duration": 17,
    "start_time": "2022-05-23T13:26:21.947Z"
   },
   {
    "duration": 3,
    "start_time": "2022-05-23T13:26:21.967Z"
   },
   {
    "duration": 13,
    "start_time": "2022-05-23T13:26:21.972Z"
   },
   {
    "duration": 6,
    "start_time": "2022-05-23T13:26:21.986Z"
   },
   {
    "duration": 37,
    "start_time": "2022-05-23T13:26:21.994Z"
   },
   {
    "duration": 4,
    "start_time": "2022-05-23T13:26:22.033Z"
   },
   {
    "duration": 7,
    "start_time": "2022-05-23T13:26:22.039Z"
   },
   {
    "duration": 12,
    "start_time": "2022-05-23T13:26:22.048Z"
   },
   {
    "duration": 6,
    "start_time": "2022-05-23T13:26:22.062Z"
   },
   {
    "duration": 13,
    "start_time": "2022-05-23T13:26:22.069Z"
   },
   {
    "duration": 317,
    "start_time": "2022-05-23T13:26:22.084Z"
   },
   {
    "duration": 273,
    "start_time": "2022-05-23T13:26:22.402Z"
   },
   {
    "duration": 228,
    "start_time": "2022-05-23T13:26:22.677Z"
   },
   {
    "duration": 20,
    "start_time": "2022-05-23T13:26:22.907Z"
   },
   {
    "duration": 14,
    "start_time": "2022-05-23T13:26:22.929Z"
   },
   {
    "duration": 20,
    "start_time": "2022-05-23T13:26:22.944Z"
   },
   {
    "duration": 25,
    "start_time": "2022-05-23T13:26:22.965Z"
   },
   {
    "duration": 42,
    "start_time": "2022-05-23T13:26:22.992Z"
   },
   {
    "duration": 366,
    "start_time": "2022-05-23T13:26:23.035Z"
   },
   {
    "duration": 8,
    "start_time": "2022-05-23T13:26:23.404Z"
   },
   {
    "duration": 100,
    "start_time": "2022-05-23T13:26:23.426Z"
   },
   {
    "duration": 8,
    "start_time": "2022-05-23T13:26:29.905Z"
   },
   {
    "duration": 8,
    "start_time": "2022-05-23T13:26:32.557Z"
   },
   {
    "duration": 10,
    "start_time": "2022-05-23T13:30:41.749Z"
   },
   {
    "duration": 6,
    "start_time": "2022-05-23T13:30:48.483Z"
   },
   {
    "duration": 6,
    "start_time": "2022-05-23T13:30:51.168Z"
   },
   {
    "duration": 11,
    "start_time": "2022-05-23T13:31:06.974Z"
   },
   {
    "duration": 11,
    "start_time": "2022-05-23T13:31:11.181Z"
   },
   {
    "duration": 8,
    "start_time": "2022-05-23T13:31:23.111Z"
   },
   {
    "duration": 252,
    "start_time": "2022-05-23T13:35:09.878Z"
   },
   {
    "duration": 285,
    "start_time": "2022-05-23T13:40:12.389Z"
   },
   {
    "duration": 288,
    "start_time": "2022-05-23T13:42:26.174Z"
   },
   {
    "duration": 399,
    "start_time": "2022-05-23T13:42:59.092Z"
   },
   {
    "duration": 293,
    "start_time": "2022-05-23T13:43:30.619Z"
   },
   {
    "duration": 3,
    "start_time": "2022-05-23T13:43:50.512Z"
   },
   {
    "duration": 272,
    "start_time": "2022-05-23T13:43:53.438Z"
   },
   {
    "duration": 2,
    "start_time": "2022-05-23T13:44:27.275Z"
   },
   {
    "duration": 19,
    "start_time": "2022-05-23T13:47:03.778Z"
   },
   {
    "duration": 476,
    "start_time": "2022-05-23T13:47:15.842Z"
   },
   {
    "duration": 545,
    "start_time": "2022-05-23T13:47:42.441Z"
   },
   {
    "duration": 681,
    "start_time": "2022-05-23T13:47:57.930Z"
   },
   {
    "duration": 315,
    "start_time": "2022-05-23T13:50:10.131Z"
   },
   {
    "duration": 505,
    "start_time": "2022-05-23T13:50:21.670Z"
   },
   {
    "duration": 511,
    "start_time": "2022-05-23T13:50:52.650Z"
   },
   {
    "duration": 753,
    "start_time": "2022-05-23T13:51:51.869Z"
   },
   {
    "duration": 576,
    "start_time": "2022-05-23T13:52:21.954Z"
   },
   {
    "duration": 578,
    "start_time": "2022-05-23T13:52:39.322Z"
   },
   {
    "duration": 824,
    "start_time": "2022-05-23T13:53:10.912Z"
   },
   {
    "duration": 512,
    "start_time": "2022-05-23T13:54:57.241Z"
   },
   {
    "duration": 23,
    "start_time": "2022-05-23T14:15:05.856Z"
   },
   {
    "duration": 12,
    "start_time": "2022-05-23T14:23:03.770Z"
   },
   {
    "duration": 4,
    "start_time": "2022-05-23T14:23:12.558Z"
   },
   {
    "duration": 60,
    "start_time": "2022-05-23T14:23:12.563Z"
   },
   {
    "duration": 14,
    "start_time": "2022-05-23T14:23:12.625Z"
   },
   {
    "duration": 24,
    "start_time": "2022-05-23T14:23:12.641Z"
   },
   {
    "duration": 18,
    "start_time": "2022-05-23T14:23:12.667Z"
   },
   {
    "duration": 21,
    "start_time": "2022-05-23T14:23:12.687Z"
   },
   {
    "duration": 8,
    "start_time": "2022-05-23T14:23:12.727Z"
   },
   {
    "duration": 31,
    "start_time": "2022-05-23T14:23:12.737Z"
   },
   {
    "duration": 5,
    "start_time": "2022-05-23T14:23:12.770Z"
   },
   {
    "duration": 55,
    "start_time": "2022-05-23T14:23:12.778Z"
   },
   {
    "duration": 5,
    "start_time": "2022-05-23T14:23:12.837Z"
   },
   {
    "duration": 10,
    "start_time": "2022-05-23T14:23:12.844Z"
   },
   {
    "duration": 7,
    "start_time": "2022-05-23T14:23:12.856Z"
   },
   {
    "duration": 21,
    "start_time": "2022-05-23T14:23:12.866Z"
   },
   {
    "duration": 37,
    "start_time": "2022-05-23T14:23:12.889Z"
   },
   {
    "duration": 7,
    "start_time": "2022-05-23T14:23:12.929Z"
   },
   {
    "duration": 8,
    "start_time": "2022-05-23T14:23:12.937Z"
   },
   {
    "duration": 6,
    "start_time": "2022-05-23T14:23:12.947Z"
   },
   {
    "duration": 16,
    "start_time": "2022-05-23T14:23:12.955Z"
   },
   {
    "duration": 312,
    "start_time": "2022-05-23T14:23:12.972Z"
   },
   {
    "duration": 199,
    "start_time": "2022-05-23T14:23:13.286Z"
   },
   {
    "duration": 224,
    "start_time": "2022-05-23T14:23:13.486Z"
   },
   {
    "duration": 25,
    "start_time": "2022-05-23T14:23:13.712Z"
   },
   {
    "duration": 17,
    "start_time": "2022-05-23T14:23:13.739Z"
   },
   {
    "duration": 31,
    "start_time": "2022-05-23T14:23:13.757Z"
   },
   {
    "duration": 54,
    "start_time": "2022-05-23T14:23:13.790Z"
   },
   {
    "duration": 15,
    "start_time": "2022-05-23T14:23:13.845Z"
   },
   {
    "duration": 381,
    "start_time": "2022-05-23T14:23:13.862Z"
   },
   {
    "duration": 7,
    "start_time": "2022-05-23T14:23:14.247Z"
   },
   {
    "duration": 118,
    "start_time": "2022-05-23T14:23:14.256Z"
   },
   {
    "duration": 4,
    "start_time": "2022-05-23T14:23:14.377Z"
   },
   {
    "duration": 354,
    "start_time": "2022-05-23T14:23:14.382Z"
   },
   {
    "duration": 21,
    "start_time": "2022-05-23T14:23:14.737Z"
   },
   {
    "duration": 562,
    "start_time": "2022-05-23T14:23:14.760Z"
   },
   {
    "duration": 7,
    "start_time": "2022-05-23T14:23:15.326Z"
   },
   {
    "duration": 321,
    "start_time": "2022-05-23T14:23:15.335Z"
   },
   {
    "duration": 7,
    "start_time": "2022-05-23T14:23:15.657Z"
   },
   {
    "duration": 733,
    "start_time": "2022-05-23T14:23:15.666Z"
   },
   {
    "duration": 295,
    "start_time": "2022-05-23T14:23:19.820Z"
   },
   {
    "duration": 171,
    "start_time": "2022-05-23T14:23:40.195Z"
   },
   {
    "duration": 182,
    "start_time": "2022-05-23T14:24:11.820Z"
   },
   {
    "duration": 174,
    "start_time": "2022-05-23T14:24:27.368Z"
   },
   {
    "duration": 169,
    "start_time": "2022-05-23T14:24:40.402Z"
   },
   {
    "duration": 154,
    "start_time": "2022-05-23T14:24:58.992Z"
   },
   {
    "duration": 183,
    "start_time": "2022-05-23T14:25:56.689Z"
   },
   {
    "duration": 149,
    "start_time": "2022-05-23T14:26:14.031Z"
   },
   {
    "duration": 146,
    "start_time": "2022-05-23T14:26:24.213Z"
   },
   {
    "duration": 20,
    "start_time": "2022-05-23T15:06:16.651Z"
   },
   {
    "duration": 197,
    "start_time": "2022-05-23T15:08:08.153Z"
   },
   {
    "duration": 4897,
    "start_time": "2022-05-23T15:10:17.252Z"
   },
   {
    "duration": 203,
    "start_time": "2022-05-23T15:18:33.167Z"
   },
   {
    "duration": 281,
    "start_time": "2022-05-23T15:18:46.802Z"
   },
   {
    "duration": 269,
    "start_time": "2022-05-23T15:19:24.748Z"
   },
   {
    "duration": 562,
    "start_time": "2022-05-23T15:20:54.308Z"
   },
   {
    "duration": 95,
    "start_time": "2022-05-23T15:35:26.414Z"
   },
   {
    "duration": 93,
    "start_time": "2022-05-23T15:37:26.809Z"
   },
   {
    "duration": 102,
    "start_time": "2022-05-23T15:38:05.773Z"
   },
   {
    "duration": 102,
    "start_time": "2022-05-23T15:38:33.210Z"
   },
   {
    "duration": 22,
    "start_time": "2022-05-23T15:39:29.158Z"
   },
   {
    "duration": 7,
    "start_time": "2022-05-23T15:40:05.454Z"
   },
   {
    "duration": 7,
    "start_time": "2022-05-23T15:40:09.210Z"
   },
   {
    "duration": 7,
    "start_time": "2022-05-23T15:40:12.551Z"
   },
   {
    "duration": 30,
    "start_time": "2022-05-23T15:50:46.002Z"
   },
   {
    "duration": 41,
    "start_time": "2022-05-23T15:51:21.259Z"
   },
   {
    "duration": 2,
    "start_time": "2022-05-23T16:05:34.683Z"
   },
   {
    "duration": 69,
    "start_time": "2022-05-23T16:05:34.691Z"
   },
   {
    "duration": 19,
    "start_time": "2022-05-23T16:05:34.763Z"
   },
   {
    "duration": 23,
    "start_time": "2022-05-23T16:05:34.784Z"
   },
   {
    "duration": 9,
    "start_time": "2022-05-23T16:05:34.809Z"
   },
   {
    "duration": 46,
    "start_time": "2022-05-23T16:05:34.820Z"
   },
   {
    "duration": 17,
    "start_time": "2022-05-23T16:05:34.868Z"
   },
   {
    "duration": 36,
    "start_time": "2022-05-23T16:05:34.887Z"
   },
   {
    "duration": 17,
    "start_time": "2022-05-23T16:05:34.925Z"
   },
   {
    "duration": 21,
    "start_time": "2022-05-23T16:05:34.945Z"
   },
   {
    "duration": 5,
    "start_time": "2022-05-23T16:05:34.970Z"
   },
   {
    "duration": 18,
    "start_time": "2022-05-23T16:05:34.977Z"
   },
   {
    "duration": 13,
    "start_time": "2022-05-23T16:05:34.997Z"
   },
   {
    "duration": 36,
    "start_time": "2022-05-23T16:05:35.012Z"
   },
   {
    "duration": 6,
    "start_time": "2022-05-23T16:05:35.051Z"
   },
   {
    "duration": 14,
    "start_time": "2022-05-23T16:05:35.059Z"
   },
   {
    "duration": 14,
    "start_time": "2022-05-23T16:05:35.075Z"
   },
   {
    "duration": 29,
    "start_time": "2022-05-23T16:05:35.091Z"
   },
   {
    "duration": 27,
    "start_time": "2022-05-23T16:05:35.122Z"
   },
   {
    "duration": 346,
    "start_time": "2022-05-23T16:05:35.151Z"
   },
   {
    "duration": 191,
    "start_time": "2022-05-23T16:05:35.499Z"
   },
   {
    "duration": 212,
    "start_time": "2022-05-23T16:05:35.692Z"
   },
   {
    "duration": 21,
    "start_time": "2022-05-23T16:05:35.905Z"
   },
   {
    "duration": 34,
    "start_time": "2022-05-23T16:05:35.927Z"
   },
   {
    "duration": 22,
    "start_time": "2022-05-23T16:05:35.963Z"
   },
   {
    "duration": 27,
    "start_time": "2022-05-23T16:05:35.986Z"
   },
   {
    "duration": 34,
    "start_time": "2022-05-23T16:05:36.015Z"
   },
   {
    "duration": 476,
    "start_time": "2022-05-23T16:05:36.051Z"
   },
   {
    "duration": 14,
    "start_time": "2022-05-23T16:05:36.532Z"
   },
   {
    "duration": 121,
    "start_time": "2022-05-23T16:05:36.548Z"
   },
   {
    "duration": 3,
    "start_time": "2022-05-23T16:05:36.671Z"
   },
   {
    "duration": 478,
    "start_time": "2022-05-23T16:05:36.676Z"
   },
   {
    "duration": 21,
    "start_time": "2022-05-23T16:05:37.156Z"
   },
   {
    "duration": 505,
    "start_time": "2022-05-23T16:05:37.179Z"
   },
   {
    "duration": 6,
    "start_time": "2022-05-23T16:05:37.686Z"
   },
   {
    "duration": 326,
    "start_time": "2022-05-23T16:05:37.694Z"
   },
   {
    "duration": 6,
    "start_time": "2022-05-23T16:05:38.022Z"
   },
   {
    "duration": 470,
    "start_time": "2022-05-23T16:05:38.030Z"
   },
   {
    "duration": 170,
    "start_time": "2022-05-23T16:05:38.502Z"
   },
   {
    "duration": 148,
    "start_time": "2022-05-23T16:05:38.674Z"
   },
   {
    "duration": 16,
    "start_time": "2022-05-23T16:05:38.824Z"
   },
   {
    "duration": 19,
    "start_time": "2022-05-23T16:05:38.842Z"
   },
   {
    "duration": 1826,
    "start_time": "2022-05-23T16:05:38.863Z"
   },
   {
    "duration": 342,
    "start_time": "2022-05-23T16:05:40.690Z"
   },
   {
    "duration": 10,
    "start_time": "2022-05-23T16:05:41.034Z"
   },
   {
    "duration": 326,
    "start_time": "2022-05-23T16:05:41.046Z"
   },
   {
    "duration": 298,
    "start_time": "2022-05-23T16:05:41.375Z"
   },
   {
    "duration": 300,
    "start_time": "2022-05-23T16:05:41.674Z"
   },
   {
    "duration": 268,
    "start_time": "2022-05-23T16:05:41.976Z"
   },
   {
    "duration": 7,
    "start_time": "2022-05-23T16:05:42.245Z"
   },
   {
    "duration": 10,
    "start_time": "2022-05-23T16:05:42.254Z"
   },
   {
    "duration": 8,
    "start_time": "2022-05-23T16:05:42.266Z"
   },
   {
    "duration": 119,
    "start_time": "2022-05-23T16:05:42.275Z"
   },
   {
    "duration": 152,
    "start_time": "2022-05-23T16:05:42.396Z"
   },
   {
    "duration": 109,
    "start_time": "2022-05-23T16:05:42.550Z"
   },
   {
    "duration": 7,
    "start_time": "2022-05-23T16:05:42.661Z"
   },
   {
    "duration": 15,
    "start_time": "2022-05-23T16:05:42.670Z"
   },
   {
    "duration": 10,
    "start_time": "2022-05-23T16:05:42.687Z"
   },
   {
    "duration": 15,
    "start_time": "2022-05-23T16:05:42.698Z"
   },
   {
    "duration": 26,
    "start_time": "2022-05-23T16:05:42.715Z"
   },
   {
    "duration": 11,
    "start_time": "2022-05-23T16:05:42.743Z"
   },
   {
    "duration": 50,
    "start_time": "2022-05-24T10:00:44.819Z"
   },
   {
    "duration": 1332,
    "start_time": "2022-05-24T10:00:52.658Z"
   },
   {
    "duration": 187,
    "start_time": "2022-05-24T10:00:53.992Z"
   },
   {
    "duration": 17,
    "start_time": "2022-05-24T10:00:54.181Z"
   },
   {
    "duration": 28,
    "start_time": "2022-05-24T10:00:54.200Z"
   },
   {
    "duration": 9,
    "start_time": "2022-05-24T10:00:54.230Z"
   },
   {
    "duration": 20,
    "start_time": "2022-05-24T10:00:54.240Z"
   },
   {
    "duration": 7,
    "start_time": "2022-05-24T10:00:54.261Z"
   },
   {
    "duration": 27,
    "start_time": "2022-05-24T10:00:54.269Z"
   },
   {
    "duration": 11,
    "start_time": "2022-05-24T10:00:54.298Z"
   },
   {
    "duration": 33,
    "start_time": "2022-05-24T10:00:54.310Z"
   },
   {
    "duration": 5,
    "start_time": "2022-05-24T10:00:54.344Z"
   },
   {
    "duration": 13,
    "start_time": "2022-05-24T10:00:54.351Z"
   },
   {
    "duration": 34,
    "start_time": "2022-05-24T10:00:54.366Z"
   },
   {
    "duration": 22,
    "start_time": "2022-05-24T10:00:54.402Z"
   },
   {
    "duration": 6,
    "start_time": "2022-05-24T10:00:54.425Z"
   },
   {
    "duration": 20,
    "start_time": "2022-05-24T10:00:54.433Z"
   },
   {
    "duration": 31,
    "start_time": "2022-05-24T10:00:54.454Z"
   },
   {
    "duration": 16,
    "start_time": "2022-05-24T10:00:54.486Z"
   },
   {
    "duration": 26,
    "start_time": "2022-05-24T10:00:54.504Z"
   },
   {
    "duration": 335,
    "start_time": "2022-05-24T10:00:54.532Z"
   },
   {
    "duration": 168,
    "start_time": "2022-05-24T10:00:54.869Z"
   },
   {
    "duration": 192,
    "start_time": "2022-05-24T10:00:55.038Z"
   },
   {
    "duration": 13,
    "start_time": "2022-05-24T10:00:55.231Z"
   },
   {
    "duration": 26,
    "start_time": "2022-05-24T10:00:55.246Z"
   },
   {
    "duration": 40,
    "start_time": "2022-05-24T10:00:55.273Z"
   },
   {
    "duration": 23,
    "start_time": "2022-05-24T10:00:55.314Z"
   },
   {
    "duration": 13,
    "start_time": "2022-05-24T10:00:55.339Z"
   },
   {
    "duration": 311,
    "start_time": "2022-05-24T10:00:55.359Z"
   },
   {
    "duration": 9,
    "start_time": "2022-05-24T10:00:55.672Z"
   },
   {
    "duration": 124,
    "start_time": "2022-05-24T10:00:55.683Z"
   },
   {
    "duration": 2,
    "start_time": "2022-05-24T10:00:55.809Z"
   },
   {
    "duration": 285,
    "start_time": "2022-05-24T10:00:55.813Z"
   },
   {
    "duration": 18,
    "start_time": "2022-05-24T10:00:56.099Z"
   },
   {
    "duration": 444,
    "start_time": "2022-05-24T10:00:56.118Z"
   },
   {
    "duration": 6,
    "start_time": "2022-05-24T10:00:56.563Z"
   },
   {
    "duration": 364,
    "start_time": "2022-05-24T10:00:56.571Z"
   },
   {
    "duration": 5,
    "start_time": "2022-05-24T10:00:56.937Z"
   },
   {
    "duration": 427,
    "start_time": "2022-05-24T10:00:56.944Z"
   },
   {
    "duration": 158,
    "start_time": "2022-05-24T10:00:57.373Z"
   },
   {
    "duration": 129,
    "start_time": "2022-05-24T10:00:57.532Z"
   },
   {
    "duration": 5,
    "start_time": "2022-05-24T10:00:57.665Z"
   },
   {
    "duration": 23,
    "start_time": "2022-05-24T10:00:57.671Z"
   },
   {
    "duration": 1437,
    "start_time": "2022-05-24T10:00:57.695Z"
   },
   {
    "duration": 365,
    "start_time": "2022-05-24T10:00:59.134Z"
   },
   {
    "duration": 6,
    "start_time": "2022-05-24T10:00:59.501Z"
   },
   {
    "duration": 316,
    "start_time": "2022-05-24T10:00:59.508Z"
   },
   {
    "duration": 296,
    "start_time": "2022-05-24T10:00:59.825Z"
   },
   {
    "duration": 285,
    "start_time": "2022-05-24T10:01:00.123Z"
   },
   {
    "duration": 237,
    "start_time": "2022-05-24T10:01:00.410Z"
   },
   {
    "duration": 13,
    "start_time": "2022-05-24T10:01:00.649Z"
   },
   {
    "duration": 17,
    "start_time": "2022-05-24T10:01:00.664Z"
   },
   {
    "duration": 18,
    "start_time": "2022-05-24T10:01:00.682Z"
   },
   {
    "duration": 86,
    "start_time": "2022-05-24T10:01:00.701Z"
   },
   {
    "duration": 84,
    "start_time": "2022-05-24T10:01:00.788Z"
   },
   {
    "duration": 96,
    "start_time": "2022-05-24T10:01:00.874Z"
   },
   {
    "duration": 6,
    "start_time": "2022-05-24T10:01:00.972Z"
   },
   {
    "duration": 28,
    "start_time": "2022-05-24T10:01:00.980Z"
   },
   {
    "duration": 46,
    "start_time": "2022-05-24T10:01:01.010Z"
   },
   {
    "duration": 75,
    "start_time": "2022-05-24T10:01:01.058Z"
   },
   {
    "duration": 34,
    "start_time": "2022-05-24T10:01:01.135Z"
   },
   {
    "duration": 34,
    "start_time": "2022-05-24T10:01:01.171Z"
   },
   {
    "duration": 17,
    "start_time": "2022-05-24T10:01:50.517Z"
   },
   {
    "duration": 67,
    "start_time": "2022-05-24T12:52:12.615Z"
   },
   {
    "duration": 1361,
    "start_time": "2022-05-24T12:52:22.589Z"
   },
   {
    "duration": 105,
    "start_time": "2022-05-24T12:52:23.952Z"
   },
   {
    "duration": 19,
    "start_time": "2022-05-24T12:52:24.059Z"
   },
   {
    "duration": 37,
    "start_time": "2022-05-24T12:52:24.081Z"
   },
   {
    "duration": 9,
    "start_time": "2022-05-24T12:52:24.120Z"
   },
   {
    "duration": 25,
    "start_time": "2022-05-24T12:52:24.131Z"
   },
   {
    "duration": 23,
    "start_time": "2022-05-24T12:52:24.157Z"
   },
   {
    "duration": 27,
    "start_time": "2022-05-24T12:52:24.182Z"
   },
   {
    "duration": 5,
    "start_time": "2022-05-24T12:52:24.211Z"
   },
   {
    "duration": 16,
    "start_time": "2022-05-24T12:52:24.220Z"
   },
   {
    "duration": 4,
    "start_time": "2022-05-24T12:52:24.237Z"
   },
   {
    "duration": 13,
    "start_time": "2022-05-24T12:52:24.243Z"
   },
   {
    "duration": 21,
    "start_time": "2022-05-24T12:52:24.259Z"
   },
   {
    "duration": 18,
    "start_time": "2022-05-24T12:52:24.282Z"
   },
   {
    "duration": 5,
    "start_time": "2022-05-24T12:52:24.301Z"
   },
   {
    "duration": 11,
    "start_time": "2022-05-24T12:52:24.308Z"
   },
   {
    "duration": 11,
    "start_time": "2022-05-24T12:52:24.320Z"
   },
   {
    "duration": 21,
    "start_time": "2022-05-24T12:52:24.332Z"
   },
   {
    "duration": 22,
    "start_time": "2022-05-24T12:52:24.354Z"
   },
   {
    "duration": 377,
    "start_time": "2022-05-24T12:52:24.377Z"
   },
   {
    "duration": 193,
    "start_time": "2022-05-24T12:52:24.756Z"
   },
   {
    "duration": 221,
    "start_time": "2022-05-24T12:52:24.952Z"
   },
   {
    "duration": 22,
    "start_time": "2022-05-24T12:52:25.176Z"
   },
   {
    "duration": 68,
    "start_time": "2022-05-24T12:52:25.200Z"
   },
   {
    "duration": 46,
    "start_time": "2022-05-24T12:52:25.270Z"
   },
   {
    "duration": 14,
    "start_time": "2022-05-24T12:52:25.318Z"
   },
   {
    "duration": 28,
    "start_time": "2022-05-24T12:52:25.334Z"
   },
   {
    "duration": 23,
    "start_time": "2022-05-24T12:52:25.367Z"
   },
   {
    "duration": 412,
    "start_time": "2022-05-24T12:52:25.392Z"
   },
   {
    "duration": 9,
    "start_time": "2022-05-24T12:52:25.806Z"
   },
   {
    "duration": 120,
    "start_time": "2022-05-24T12:52:25.817Z"
   },
   {
    "duration": 2,
    "start_time": "2022-05-24T12:52:25.938Z"
   },
   {
    "duration": 336,
    "start_time": "2022-05-24T12:52:25.942Z"
   },
   {
    "duration": 22,
    "start_time": "2022-05-24T12:52:26.280Z"
   },
   {
    "duration": 564,
    "start_time": "2022-05-24T12:52:26.304Z"
   },
   {
    "duration": 7,
    "start_time": "2022-05-24T12:52:26.870Z"
   },
   {
    "duration": 418,
    "start_time": "2022-05-24T12:52:26.879Z"
   },
   {
    "duration": 6,
    "start_time": "2022-05-24T12:52:27.299Z"
   },
   {
    "duration": 499,
    "start_time": "2022-05-24T12:52:27.307Z"
   },
   {
    "duration": 183,
    "start_time": "2022-05-24T12:52:27.808Z"
   },
   {
    "duration": 157,
    "start_time": "2022-05-24T12:52:27.993Z"
   },
   {
    "duration": 7,
    "start_time": "2022-05-24T12:52:28.153Z"
   },
   {
    "duration": 18,
    "start_time": "2022-05-24T12:52:28.163Z"
   },
   {
    "duration": 1752,
    "start_time": "2022-05-24T12:52:28.184Z"
   },
   {
    "duration": 407,
    "start_time": "2022-05-24T12:52:29.937Z"
   },
   {
    "duration": 6,
    "start_time": "2022-05-24T12:52:30.352Z"
   },
   {
    "duration": 340,
    "start_time": "2022-05-24T12:52:30.360Z"
   },
   {
    "duration": 340,
    "start_time": "2022-05-24T12:52:30.702Z"
   },
   {
    "duration": 315,
    "start_time": "2022-05-24T12:52:31.044Z"
   },
   {
    "duration": 281,
    "start_time": "2022-05-24T12:52:31.361Z"
   },
   {
    "duration": 17,
    "start_time": "2022-05-24T12:52:31.644Z"
   },
   {
    "duration": 15,
    "start_time": "2022-05-24T12:52:31.663Z"
   },
   {
    "duration": 10,
    "start_time": "2022-05-24T12:52:31.679Z"
   },
   {
    "duration": 114,
    "start_time": "2022-05-24T12:52:31.691Z"
   },
   {
    "duration": 121,
    "start_time": "2022-05-24T12:52:31.807Z"
   },
   {
    "duration": 115,
    "start_time": "2022-05-24T12:52:31.930Z"
   },
   {
    "duration": 10,
    "start_time": "2022-05-24T12:52:32.047Z"
   },
   {
    "duration": 14,
    "start_time": "2022-05-24T12:52:32.059Z"
   },
   {
    "duration": 15,
    "start_time": "2022-05-24T12:52:32.075Z"
   },
   {
    "duration": 21,
    "start_time": "2022-05-24T12:52:32.091Z"
   },
   {
    "duration": 26,
    "start_time": "2022-05-24T12:52:32.113Z"
   },
   {
    "duration": 13,
    "start_time": "2022-05-24T12:52:32.158Z"
   },
   {
    "duration": 10,
    "start_time": "2022-05-24T12:52:59.817Z"
   },
   {
    "duration": 29,
    "start_time": "2022-05-24T12:53:04.917Z"
   },
   {
    "duration": 56,
    "start_time": "2022-05-24T13:36:25.981Z"
   },
   {
    "duration": 1597,
    "start_time": "2022-05-24T13:37:17.078Z"
   },
   {
    "duration": 110,
    "start_time": "2022-05-24T13:37:18.681Z"
   },
   {
    "duration": 16,
    "start_time": "2022-05-24T13:37:18.793Z"
   },
   {
    "duration": 15,
    "start_time": "2022-05-24T13:37:18.811Z"
   },
   {
    "duration": 9,
    "start_time": "2022-05-24T13:37:18.828Z"
   },
   {
    "duration": 28,
    "start_time": "2022-05-24T13:37:18.839Z"
   },
   {
    "duration": 14,
    "start_time": "2022-05-24T13:37:18.874Z"
   },
   {
    "duration": 28,
    "start_time": "2022-05-24T13:37:18.890Z"
   },
   {
    "duration": 5,
    "start_time": "2022-05-24T13:37:18.920Z"
   },
   {
    "duration": 23,
    "start_time": "2022-05-24T13:37:18.927Z"
   },
   {
    "duration": 6,
    "start_time": "2022-05-24T13:37:18.965Z"
   },
   {
    "duration": 29,
    "start_time": "2022-05-24T13:37:18.973Z"
   },
   {
    "duration": 17,
    "start_time": "2022-05-24T13:37:19.004Z"
   },
   {
    "duration": 27,
    "start_time": "2022-05-24T13:37:19.026Z"
   },
   {
    "duration": 6,
    "start_time": "2022-05-24T13:37:19.055Z"
   },
   {
    "duration": 34,
    "start_time": "2022-05-24T13:37:19.064Z"
   },
   {
    "duration": 15,
    "start_time": "2022-05-24T13:37:19.100Z"
   },
   {
    "duration": 9,
    "start_time": "2022-05-24T13:37:19.117Z"
   },
   {
    "duration": 20,
    "start_time": "2022-05-24T13:37:19.128Z"
   },
   {
    "duration": 423,
    "start_time": "2022-05-24T13:37:19.150Z"
   },
   {
    "duration": 207,
    "start_time": "2022-05-24T13:37:19.575Z"
   },
   {
    "duration": 223,
    "start_time": "2022-05-24T13:37:19.784Z"
   },
   {
    "duration": 15,
    "start_time": "2022-05-24T13:37:20.009Z"
   },
   {
    "duration": 15,
    "start_time": "2022-05-24T13:37:20.025Z"
   },
   {
    "duration": 49,
    "start_time": "2022-05-24T13:37:20.042Z"
   },
   {
    "duration": 17,
    "start_time": "2022-05-24T13:37:20.093Z"
   },
   {
    "duration": 16,
    "start_time": "2022-05-24T13:37:20.112Z"
   },
   {
    "duration": 7,
    "start_time": "2022-05-24T13:37:20.129Z"
   },
   {
    "duration": 387,
    "start_time": "2022-05-24T13:37:20.138Z"
   },
   {
    "duration": 9,
    "start_time": "2022-05-24T13:37:20.526Z"
   },
   {
    "duration": 116,
    "start_time": "2022-05-24T13:37:20.536Z"
   },
   {
    "duration": 15,
    "start_time": "2022-05-24T13:37:20.654Z"
   },
   {
    "duration": 341,
    "start_time": "2022-05-24T13:37:20.671Z"
   },
   {
    "duration": 21,
    "start_time": "2022-05-24T13:37:21.014Z"
   },
   {
    "duration": 563,
    "start_time": "2022-05-24T13:37:21.036Z"
   },
   {
    "duration": 8,
    "start_time": "2022-05-24T13:37:21.600Z"
   },
   {
    "duration": 447,
    "start_time": "2022-05-24T13:37:21.610Z"
   },
   {
    "duration": 11,
    "start_time": "2022-05-24T13:37:22.059Z"
   },
   {
    "duration": 532,
    "start_time": "2022-05-24T13:37:22.072Z"
   },
   {
    "duration": 207,
    "start_time": "2022-05-24T13:37:22.605Z"
   },
   {
    "duration": 165,
    "start_time": "2022-05-24T13:37:22.816Z"
   },
   {
    "duration": 6,
    "start_time": "2022-05-24T13:37:22.983Z"
   },
   {
    "duration": 23,
    "start_time": "2022-05-24T13:37:22.991Z"
   },
   {
    "duration": 1735,
    "start_time": "2022-05-24T13:37:23.016Z"
   },
   {
    "duration": 435,
    "start_time": "2022-05-24T13:37:24.753Z"
   },
   {
    "duration": 5,
    "start_time": "2022-05-24T13:37:25.190Z"
   },
   {
    "duration": 324,
    "start_time": "2022-05-24T13:37:25.197Z"
   },
   {
    "duration": 342,
    "start_time": "2022-05-24T13:37:25.523Z"
   },
   {
    "duration": 301,
    "start_time": "2022-05-24T13:37:25.867Z"
   },
   {
    "duration": 299,
    "start_time": "2022-05-24T13:37:26.172Z"
   },
   {
    "duration": 12,
    "start_time": "2022-05-24T13:37:26.473Z"
   },
   {
    "duration": 12,
    "start_time": "2022-05-24T13:37:26.488Z"
   },
   {
    "duration": 11,
    "start_time": "2022-05-24T13:37:26.502Z"
   },
   {
    "duration": 126,
    "start_time": "2022-05-24T13:37:26.515Z"
   },
   {
    "duration": 125,
    "start_time": "2022-05-24T13:37:26.643Z"
   },
   {
    "duration": 117,
    "start_time": "2022-05-24T13:37:26.770Z"
   },
   {
    "duration": 9,
    "start_time": "2022-05-24T13:37:26.890Z"
   },
   {
    "duration": 9,
    "start_time": "2022-05-24T13:37:26.902Z"
   },
   {
    "duration": 7,
    "start_time": "2022-05-24T13:37:26.914Z"
   },
   {
    "duration": 43,
    "start_time": "2022-05-24T13:37:26.923Z"
   },
   {
    "duration": 10,
    "start_time": "2022-05-24T13:37:26.968Z"
   },
   {
    "duration": 15,
    "start_time": "2022-05-24T13:37:26.980Z"
   },
   {
    "duration": 21,
    "start_time": "2022-05-24T13:42:22.859Z"
   },
   {
    "duration": 3,
    "start_time": "2022-05-24T13:42:34.337Z"
   },
   {
    "duration": 74,
    "start_time": "2022-05-24T13:42:34.342Z"
   },
   {
    "duration": 14,
    "start_time": "2022-05-24T13:42:34.418Z"
   },
   {
    "duration": 39,
    "start_time": "2022-05-24T13:42:34.434Z"
   },
   {
    "duration": 25,
    "start_time": "2022-05-24T13:42:34.476Z"
   },
   {
    "duration": 16,
    "start_time": "2022-05-24T13:42:34.502Z"
   },
   {
    "duration": 9,
    "start_time": "2022-05-24T13:42:34.519Z"
   },
   {
    "duration": 20,
    "start_time": "2022-05-24T13:42:34.529Z"
   },
   {
    "duration": 23,
    "start_time": "2022-05-24T13:42:34.551Z"
   },
   {
    "duration": 20,
    "start_time": "2022-05-24T13:42:34.576Z"
   },
   {
    "duration": 7,
    "start_time": "2022-05-24T13:42:34.598Z"
   },
   {
    "duration": 14,
    "start_time": "2022-05-24T13:42:34.606Z"
   },
   {
    "duration": 11,
    "start_time": "2022-05-24T13:42:34.622Z"
   },
   {
    "duration": 13,
    "start_time": "2022-05-24T13:42:43.499Z"
   },
   {
    "duration": 16,
    "start_time": "2022-05-24T13:42:50.429Z"
   },
   {
    "duration": 4,
    "start_time": "2022-05-24T14:04:29.299Z"
   },
   {
    "duration": 82,
    "start_time": "2022-05-24T14:04:29.304Z"
   },
   {
    "duration": 16,
    "start_time": "2022-05-24T14:04:29.388Z"
   },
   {
    "duration": 30,
    "start_time": "2022-05-24T14:04:29.407Z"
   },
   {
    "duration": 37,
    "start_time": "2022-05-24T14:04:29.441Z"
   },
   {
    "duration": 38,
    "start_time": "2022-05-24T14:04:29.481Z"
   },
   {
    "duration": 12,
    "start_time": "2022-05-24T14:04:29.521Z"
   },
   {
    "duration": 41,
    "start_time": "2022-05-24T14:04:29.535Z"
   },
   {
    "duration": 10,
    "start_time": "2022-05-24T14:04:29.578Z"
   },
   {
    "duration": 27,
    "start_time": "2022-05-24T14:04:29.590Z"
   },
   {
    "duration": 12,
    "start_time": "2022-05-24T14:04:29.620Z"
   },
   {
    "duration": 19,
    "start_time": "2022-05-24T14:04:29.633Z"
   },
   {
    "duration": 42,
    "start_time": "2022-05-24T14:04:29.654Z"
   },
   {
    "duration": 20,
    "start_time": "2022-05-24T14:04:29.698Z"
   },
   {
    "duration": 22,
    "start_time": "2022-05-24T14:04:29.719Z"
   },
   {
    "duration": 13,
    "start_time": "2022-05-24T14:04:29.743Z"
   },
   {
    "duration": 26,
    "start_time": "2022-05-24T14:04:29.757Z"
   },
   {
    "duration": 21,
    "start_time": "2022-05-24T14:04:29.784Z"
   },
   {
    "duration": 13,
    "start_time": "2022-05-24T14:04:29.807Z"
   },
   {
    "duration": 29,
    "start_time": "2022-05-24T14:04:29.822Z"
   },
   {
    "duration": 333,
    "start_time": "2022-05-24T14:04:29.852Z"
   },
   {
    "duration": 209,
    "start_time": "2022-05-24T14:04:30.187Z"
   },
   {
    "duration": 257,
    "start_time": "2022-05-24T14:04:30.398Z"
   },
   {
    "duration": 25,
    "start_time": "2022-05-24T14:04:30.657Z"
   },
   {
    "duration": 31,
    "start_time": "2022-05-24T14:04:30.685Z"
   },
   {
    "duration": 49,
    "start_time": "2022-05-24T14:04:30.718Z"
   },
   {
    "duration": 35,
    "start_time": "2022-05-24T14:04:30.769Z"
   },
   {
    "duration": 41,
    "start_time": "2022-05-24T14:04:30.806Z"
   },
   {
    "duration": 39,
    "start_time": "2022-05-24T14:04:30.851Z"
   },
   {
    "duration": 617,
    "start_time": "2022-05-24T14:04:30.892Z"
   },
   {
    "duration": 10,
    "start_time": "2022-05-24T14:04:31.510Z"
   },
   {
    "duration": 119,
    "start_time": "2022-05-24T14:04:31.521Z"
   },
   {
    "duration": 2,
    "start_time": "2022-05-24T14:04:31.642Z"
   },
   {
    "duration": 350,
    "start_time": "2022-05-24T14:04:31.646Z"
   },
   {
    "duration": 24,
    "start_time": "2022-05-24T14:04:31.998Z"
   },
   {
    "duration": 613,
    "start_time": "2022-05-24T14:04:32.024Z"
   },
   {
    "duration": 6,
    "start_time": "2022-05-24T14:04:32.639Z"
   },
   {
    "duration": 634,
    "start_time": "2022-05-24T14:04:32.647Z"
   },
   {
    "duration": 8,
    "start_time": "2022-05-24T14:04:33.283Z"
   },
   {
    "duration": 994,
    "start_time": "2022-05-24T14:04:33.293Z"
   },
   {
    "duration": 194,
    "start_time": "2022-05-24T14:04:34.290Z"
   },
   {
    "duration": 171,
    "start_time": "2022-05-24T14:04:34.486Z"
   },
   {
    "duration": 9,
    "start_time": "2022-05-24T14:04:34.658Z"
   },
   {
    "duration": 26,
    "start_time": "2022-05-24T14:04:34.669Z"
   },
   {
    "duration": 1908,
    "start_time": "2022-05-24T14:04:34.696Z"
   },
   {
    "duration": 291,
    "start_time": "2022-05-24T14:04:36.606Z"
   },
   {
    "duration": 5,
    "start_time": "2022-05-24T14:04:36.899Z"
   },
   {
    "duration": 318,
    "start_time": "2022-05-24T14:04:36.906Z"
   },
   {
    "duration": 360,
    "start_time": "2022-05-24T14:04:37.226Z"
   },
   {
    "duration": 287,
    "start_time": "2022-05-24T14:04:37.588Z"
   },
   {
    "duration": 298,
    "start_time": "2022-05-24T14:04:37.877Z"
   },
   {
    "duration": 10,
    "start_time": "2022-05-24T14:04:38.177Z"
   },
   {
    "duration": 10,
    "start_time": "2022-05-24T14:04:38.189Z"
   },
   {
    "duration": 8,
    "start_time": "2022-05-24T14:04:38.201Z"
   },
   {
    "duration": 125,
    "start_time": "2022-05-24T14:04:38.211Z"
   },
   {
    "duration": 112,
    "start_time": "2022-05-24T14:04:38.338Z"
   },
   {
    "duration": 116,
    "start_time": "2022-05-24T14:04:38.452Z"
   },
   {
    "duration": 9,
    "start_time": "2022-05-24T14:04:38.570Z"
   },
   {
    "duration": 21,
    "start_time": "2022-05-24T14:04:38.581Z"
   },
   {
    "duration": 8,
    "start_time": "2022-05-24T14:04:38.604Z"
   },
   {
    "duration": 14,
    "start_time": "2022-05-24T14:04:38.614Z"
   },
   {
    "duration": 36,
    "start_time": "2022-05-24T14:04:38.630Z"
   },
   {
    "duration": 24,
    "start_time": "2022-05-24T14:04:38.668Z"
   }
  ],
  "kernelspec": {
   "display_name": "Python 3 (ipykernel)",
   "language": "python",
   "name": "python3"
  },
  "language_info": {
   "codemirror_mode": {
    "name": "ipython",
    "version": 3
   },
   "file_extension": ".py",
   "mimetype": "text/x-python",
   "name": "python",
   "nbconvert_exporter": "python",
   "pygments_lexer": "ipython3",
   "version": "3.9.7"
  },
  "toc": {
   "base_numbering": 1,
   "nav_menu": {},
   "number_sections": true,
   "sideBar": true,
   "skip_h1_title": true,
   "title_cell": "Table of Contents",
   "title_sidebar": "Contents",
   "toc_cell": false,
   "toc_position": {},
   "toc_section_display": true,
   "toc_window_display": false
  }
 },
 "nbformat": 4,
 "nbformat_minor": 2
}
