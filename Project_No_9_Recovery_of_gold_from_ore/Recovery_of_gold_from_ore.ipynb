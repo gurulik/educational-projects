{
 "cells": [
  {
   "cell_type": "markdown",
   "metadata": {},
   "source": [
    "# Recovery of gold from ore"
   ]
  },
  {
   "cell_type": "markdown",
   "metadata": {},
   "source": [
    "We need to prepare a prototype of a machine learning model for the company. The company develops solutions for the efficient operation of industrial enterprises.\n",
    "\n",
    "The model should predict the recovery rate of gold from gold-bearing ore. The model will help optimize production so as not to launch an enterprise with unprofitable characteristics.\n",
    "\n",
    "As data, we are provided with data with the parameters of extraction and purification.\n",
    "\n",
    "We need to:\n",
    "\n",
    "1. Prepare data;\n",
    "2. Make data analysis;\n",
    "3. Create and train model.\n",
    "\n",
    "To make this project use libraries *pandas*, *matplotlib* и *sklearn.* "
   ]
  },
  {
   "cell_type": "markdown",
   "metadata": {},
   "source": [
    "## Data preparation"
   ]
  },
  {
   "cell_type": "markdown",
   "metadata": {},
   "source": [
    "Import the necessary libraries:"
   ]
  },
  {
   "cell_type": "code",
   "execution_count": 1,
   "metadata": {},
   "outputs": [],
   "source": [
    "#tables:\n",
    "import pandas as pd"
   ]
  },
  {
   "cell_type": "code",
   "execution_count": 2,
   "metadata": {},
   "outputs": [],
   "source": [
    "#graphics:\n",
    "import matplotlib.pyplot as plt\n",
    "import seaborn as sb"
   ]
  },
  {
   "cell_type": "code",
   "execution_count": 3,
   "metadata": {},
   "outputs": [],
   "source": [
    "#statistics:\n",
    "import numpy as np"
   ]
  },
  {
   "cell_type": "code",
   "execution_count": 4,
   "metadata": {},
   "outputs": [],
   "source": [
    "#ML:\n",
    "from sklearn.metrics import mean_absolute_error, make_scorer\n",
    "from sklearn.model_selection import train_test_split\n",
    "from sklearn.linear_model import LinearRegression\n",
    "from sklearn.tree import DecisionTreeRegressor\n",
    "from sklearn.ensemble import RandomForestRegressor\n",
    "from sklearn.model_selection import GridSearchCV, cross_val_score\n",
    "from sklearn.dummy import DummyRegressor"
   ]
  },
  {
   "cell_type": "markdown",
   "metadata": {},
   "source": [
    "### Open data and study it:"
   ]
  },
  {
   "cell_type": "code",
   "execution_count": 5,
   "metadata": {},
   "outputs": [],
   "source": [
    "train_df = pd.read_csv(\"/Users/a1/Desktop/data_folder/gold_recovery_data/gold_recovery_train_new.csv\")\n",
    "test_df = pd.read_csv(\"/Users/a1/Desktop/data_folder/gold_recovery_data/gold_recovery_test_new.csv\")\n",
    "full_df = pd.read_csv(\"/Users/a1/Desktop/data_folder/gold_recovery_data/gold_recovery_full_new.csv\")"
   ]
  },
  {
   "cell_type": "code",
   "execution_count": 6,
   "metadata": {},
   "outputs": [],
   "source": [
    "def get_info(df):\n",
    "    print('Shape:', df.shape)\n",
    "    print('Full duplicates:',df.duplicated().sum())\n",
    "    print(df.info())"
   ]
  },
  {
   "cell_type": "code",
   "execution_count": 7,
   "metadata": {},
   "outputs": [
    {
     "name": "stdout",
     "output_type": "stream",
     "text": [
      "Shape: (14149, 87)\n",
      "Full duplicates: 0\n",
      "<class 'pandas.core.frame.DataFrame'>\n",
      "RangeIndex: 14149 entries, 0 to 14148\n",
      "Data columns (total 87 columns):\n",
      " #   Column                                              Non-Null Count  Dtype  \n",
      "---  ------                                              --------------  -----  \n",
      " 0   date                                                14149 non-null  object \n",
      " 1   final.output.concentrate_ag                         14148 non-null  float64\n",
      " 2   final.output.concentrate_pb                         14148 non-null  float64\n",
      " 3   final.output.concentrate_sol                        13938 non-null  float64\n",
      " 4   final.output.concentrate_au                         14149 non-null  float64\n",
      " 5   final.output.recovery                               14149 non-null  float64\n",
      " 6   final.output.tail_ag                                14149 non-null  float64\n",
      " 7   final.output.tail_pb                                14049 non-null  float64\n",
      " 8   final.output.tail_sol                               14144 non-null  float64\n",
      " 9   final.output.tail_au                                14149 non-null  float64\n",
      " 10  primary_cleaner.input.sulfate                       14129 non-null  float64\n",
      " 11  primary_cleaner.input.depressant                    14117 non-null  float64\n",
      " 12  primary_cleaner.input.feed_size                     14149 non-null  float64\n",
      " 13  primary_cleaner.input.xanthate                      14049 non-null  float64\n",
      " 14  primary_cleaner.output.concentrate_ag               14149 non-null  float64\n",
      " 15  primary_cleaner.output.concentrate_pb               14063 non-null  float64\n",
      " 16  primary_cleaner.output.concentrate_sol              13863 non-null  float64\n",
      " 17  primary_cleaner.output.concentrate_au               14149 non-null  float64\n",
      " 18  primary_cleaner.output.tail_ag                      14148 non-null  float64\n",
      " 19  primary_cleaner.output.tail_pb                      14134 non-null  float64\n",
      " 20  primary_cleaner.output.tail_sol                     14103 non-null  float64\n",
      " 21  primary_cleaner.output.tail_au                      14149 non-null  float64\n",
      " 22  primary_cleaner.state.floatbank8_a_air              14145 non-null  float64\n",
      " 23  primary_cleaner.state.floatbank8_a_level            14148 non-null  float64\n",
      " 24  primary_cleaner.state.floatbank8_b_air              14145 non-null  float64\n",
      " 25  primary_cleaner.state.floatbank8_b_level            14148 non-null  float64\n",
      " 26  primary_cleaner.state.floatbank8_c_air              14147 non-null  float64\n",
      " 27  primary_cleaner.state.floatbank8_c_level            14148 non-null  float64\n",
      " 28  primary_cleaner.state.floatbank8_d_air              14146 non-null  float64\n",
      " 29  primary_cleaner.state.floatbank8_d_level            14148 non-null  float64\n",
      " 30  rougher.calculation.sulfate_to_au_concentrate       14148 non-null  float64\n",
      " 31  rougher.calculation.floatbank10_sulfate_to_au_feed  14148 non-null  float64\n",
      " 32  rougher.calculation.floatbank11_sulfate_to_au_feed  14148 non-null  float64\n",
      " 33  rougher.calculation.au_pb_ratio                     14149 non-null  float64\n",
      " 34  rougher.input.feed_ag                               14149 non-null  float64\n",
      " 35  rougher.input.feed_pb                               14049 non-null  float64\n",
      " 36  rougher.input.feed_rate                             14141 non-null  float64\n",
      " 37  rougher.input.feed_size                             14005 non-null  float64\n",
      " 38  rougher.input.feed_sol                              14071 non-null  float64\n",
      " 39  rougher.input.feed_au                               14149 non-null  float64\n",
      " 40  rougher.input.floatbank10_sulfate                   14120 non-null  float64\n",
      " 41  rougher.input.floatbank10_xanthate                  14141 non-null  float64\n",
      " 42  rougher.input.floatbank11_sulfate                   14113 non-null  float64\n",
      " 43  rougher.input.floatbank11_xanthate                  13721 non-null  float64\n",
      " 44  rougher.output.concentrate_ag                       14149 non-null  float64\n",
      " 45  rougher.output.concentrate_pb                       14149 non-null  float64\n",
      " 46  rougher.output.concentrate_sol                      14127 non-null  float64\n",
      " 47  rougher.output.concentrate_au                       14149 non-null  float64\n",
      " 48  rougher.output.recovery                             14149 non-null  float64\n",
      " 49  rougher.output.tail_ag                              14148 non-null  float64\n",
      " 50  rougher.output.tail_pb                              14149 non-null  float64\n",
      " 51  rougher.output.tail_sol                             14149 non-null  float64\n",
      " 52  rougher.output.tail_au                              14149 non-null  float64\n",
      " 53  rougher.state.floatbank10_a_air                     14148 non-null  float64\n",
      " 54  rougher.state.floatbank10_a_level                   14148 non-null  float64\n",
      " 55  rougher.state.floatbank10_b_air                     14148 non-null  float64\n",
      " 56  rougher.state.floatbank10_b_level                   14148 non-null  float64\n",
      " 57  rougher.state.floatbank10_c_air                     14148 non-null  float64\n",
      " 58  rougher.state.floatbank10_c_level                   14148 non-null  float64\n",
      " 59  rougher.state.floatbank10_d_air                     14149 non-null  float64\n",
      " 60  rougher.state.floatbank10_d_level                   14149 non-null  float64\n",
      " 61  rougher.state.floatbank10_e_air                     13713 non-null  float64\n",
      " 62  rougher.state.floatbank10_e_level                   14149 non-null  float64\n",
      " 63  rougher.state.floatbank10_f_air                     14149 non-null  float64\n",
      " 64  rougher.state.floatbank10_f_level                   14149 non-null  float64\n",
      " 65  secondary_cleaner.output.tail_ag                    14147 non-null  float64\n",
      " 66  secondary_cleaner.output.tail_pb                    14139 non-null  float64\n",
      " 67  secondary_cleaner.output.tail_sol                   12544 non-null  float64\n",
      " 68  secondary_cleaner.output.tail_au                    14149 non-null  float64\n",
      " 69  secondary_cleaner.state.floatbank2_a_air            13932 non-null  float64\n",
      " 70  secondary_cleaner.state.floatbank2_a_level          14148 non-null  float64\n",
      " 71  secondary_cleaner.state.floatbank2_b_air            14128 non-null  float64\n",
      " 72  secondary_cleaner.state.floatbank2_b_level          14148 non-null  float64\n",
      " 73  secondary_cleaner.state.floatbank3_a_air            14145 non-null  float64\n",
      " 74  secondary_cleaner.state.floatbank3_a_level          14148 non-null  float64\n",
      " 75  secondary_cleaner.state.floatbank3_b_air            14148 non-null  float64\n",
      " 76  secondary_cleaner.state.floatbank3_b_level          14148 non-null  float64\n",
      " 77  secondary_cleaner.state.floatbank4_a_air            14143 non-null  float64\n",
      " 78  secondary_cleaner.state.floatbank4_a_level          14148 non-null  float64\n",
      " 79  secondary_cleaner.state.floatbank4_b_air            14148 non-null  float64\n",
      " 80  secondary_cleaner.state.floatbank4_b_level          14148 non-null  float64\n",
      " 81  secondary_cleaner.state.floatbank5_a_air            14148 non-null  float64\n",
      " 82  secondary_cleaner.state.floatbank5_a_level          14148 non-null  float64\n",
      " 83  secondary_cleaner.state.floatbank5_b_air            14148 non-null  float64\n",
      " 84  secondary_cleaner.state.floatbank5_b_level          14148 non-null  float64\n",
      " 85  secondary_cleaner.state.floatbank6_a_air            14147 non-null  float64\n",
      " 86  secondary_cleaner.state.floatbank6_a_level          14148 non-null  float64\n",
      "dtypes: float64(86), object(1)\n",
      "memory usage: 9.4+ MB\n",
      "None\n"
     ]
    }
   ],
   "source": [
    "get_info(train_df)"
   ]
  },
  {
   "cell_type": "code",
   "execution_count": 8,
   "metadata": {},
   "outputs": [
    {
     "name": "stdout",
     "output_type": "stream",
     "text": [
      "Shape: (5290, 53)\n",
      "Full duplicates: 0\n",
      "<class 'pandas.core.frame.DataFrame'>\n",
      "RangeIndex: 5290 entries, 0 to 5289\n",
      "Data columns (total 53 columns):\n",
      " #   Column                                      Non-Null Count  Dtype  \n",
      "---  ------                                      --------------  -----  \n",
      " 0   date                                        5290 non-null   object \n",
      " 1   primary_cleaner.input.sulfate               5286 non-null   float64\n",
      " 2   primary_cleaner.input.depressant            5285 non-null   float64\n",
      " 3   primary_cleaner.input.feed_size             5290 non-null   float64\n",
      " 4   primary_cleaner.input.xanthate              5286 non-null   float64\n",
      " 5   primary_cleaner.state.floatbank8_a_air      5290 non-null   float64\n",
      " 6   primary_cleaner.state.floatbank8_a_level    5290 non-null   float64\n",
      " 7   primary_cleaner.state.floatbank8_b_air      5290 non-null   float64\n",
      " 8   primary_cleaner.state.floatbank8_b_level    5290 non-null   float64\n",
      " 9   primary_cleaner.state.floatbank8_c_air      5290 non-null   float64\n",
      " 10  primary_cleaner.state.floatbank8_c_level    5290 non-null   float64\n",
      " 11  primary_cleaner.state.floatbank8_d_air      5290 non-null   float64\n",
      " 12  primary_cleaner.state.floatbank8_d_level    5290 non-null   float64\n",
      " 13  rougher.input.feed_ag                       5290 non-null   float64\n",
      " 14  rougher.input.feed_pb                       5290 non-null   float64\n",
      " 15  rougher.input.feed_rate                     5287 non-null   float64\n",
      " 16  rougher.input.feed_size                     5289 non-null   float64\n",
      " 17  rougher.input.feed_sol                      5269 non-null   float64\n",
      " 18  rougher.input.feed_au                       5290 non-null   float64\n",
      " 19  rougher.input.floatbank10_sulfate           5285 non-null   float64\n",
      " 20  rougher.input.floatbank10_xanthate          5290 non-null   float64\n",
      " 21  rougher.input.floatbank11_sulfate           5282 non-null   float64\n",
      " 22  rougher.input.floatbank11_xanthate          5265 non-null   float64\n",
      " 23  rougher.state.floatbank10_a_air             5290 non-null   float64\n",
      " 24  rougher.state.floatbank10_a_level           5290 non-null   float64\n",
      " 25  rougher.state.floatbank10_b_air             5290 non-null   float64\n",
      " 26  rougher.state.floatbank10_b_level           5290 non-null   float64\n",
      " 27  rougher.state.floatbank10_c_air             5290 non-null   float64\n",
      " 28  rougher.state.floatbank10_c_level           5290 non-null   float64\n",
      " 29  rougher.state.floatbank10_d_air             5290 non-null   float64\n",
      " 30  rougher.state.floatbank10_d_level           5290 non-null   float64\n",
      " 31  rougher.state.floatbank10_e_air             5290 non-null   float64\n",
      " 32  rougher.state.floatbank10_e_level           5290 non-null   float64\n",
      " 33  rougher.state.floatbank10_f_air             5290 non-null   float64\n",
      " 34  rougher.state.floatbank10_f_level           5290 non-null   float64\n",
      " 35  secondary_cleaner.state.floatbank2_a_air    5287 non-null   float64\n",
      " 36  secondary_cleaner.state.floatbank2_a_level  5290 non-null   float64\n",
      " 37  secondary_cleaner.state.floatbank2_b_air    5288 non-null   float64\n",
      " 38  secondary_cleaner.state.floatbank2_b_level  5290 non-null   float64\n",
      " 39  secondary_cleaner.state.floatbank3_a_air    5281 non-null   float64\n",
      " 40  secondary_cleaner.state.floatbank3_a_level  5290 non-null   float64\n",
      " 41  secondary_cleaner.state.floatbank3_b_air    5290 non-null   float64\n",
      " 42  secondary_cleaner.state.floatbank3_b_level  5290 non-null   float64\n",
      " 43  secondary_cleaner.state.floatbank4_a_air    5290 non-null   float64\n",
      " 44  secondary_cleaner.state.floatbank4_a_level  5290 non-null   float64\n",
      " 45  secondary_cleaner.state.floatbank4_b_air    5290 non-null   float64\n",
      " 46  secondary_cleaner.state.floatbank4_b_level  5290 non-null   float64\n",
      " 47  secondary_cleaner.state.floatbank5_a_air    5290 non-null   float64\n",
      " 48  secondary_cleaner.state.floatbank5_a_level  5290 non-null   float64\n",
      " 49  secondary_cleaner.state.floatbank5_b_air    5290 non-null   float64\n",
      " 50  secondary_cleaner.state.floatbank5_b_level  5290 non-null   float64\n",
      " 51  secondary_cleaner.state.floatbank6_a_air    5290 non-null   float64\n",
      " 52  secondary_cleaner.state.floatbank6_a_level  5290 non-null   float64\n",
      "dtypes: float64(52), object(1)\n",
      "memory usage: 2.1+ MB\n",
      "None\n"
     ]
    }
   ],
   "source": [
    "get_info(test_df)"
   ]
  },
  {
   "cell_type": "code",
   "execution_count": 9,
   "metadata": {},
   "outputs": [
    {
     "name": "stdout",
     "output_type": "stream",
     "text": [
      "Shape: (19439, 87)\n",
      "Full duplicates: 0\n",
      "<class 'pandas.core.frame.DataFrame'>\n",
      "RangeIndex: 19439 entries, 0 to 19438\n",
      "Data columns (total 87 columns):\n",
      " #   Column                                              Non-Null Count  Dtype  \n",
      "---  ------                                              --------------  -----  \n",
      " 0   date                                                19439 non-null  object \n",
      " 1   final.output.concentrate_ag                         19438 non-null  float64\n",
      " 2   final.output.concentrate_pb                         19438 non-null  float64\n",
      " 3   final.output.concentrate_sol                        19228 non-null  float64\n",
      " 4   final.output.concentrate_au                         19439 non-null  float64\n",
      " 5   final.output.recovery                               19439 non-null  float64\n",
      " 6   final.output.tail_ag                                19438 non-null  float64\n",
      " 7   final.output.tail_pb                                19338 non-null  float64\n",
      " 8   final.output.tail_sol                               19433 non-null  float64\n",
      " 9   final.output.tail_au                                19439 non-null  float64\n",
      " 10  primary_cleaner.input.sulfate                       19415 non-null  float64\n",
      " 11  primary_cleaner.input.depressant                    19402 non-null  float64\n",
      " 12  primary_cleaner.input.feed_size                     19439 non-null  float64\n",
      " 13  primary_cleaner.input.xanthate                      19335 non-null  float64\n",
      " 14  primary_cleaner.output.concentrate_ag               19439 non-null  float64\n",
      " 15  primary_cleaner.output.concentrate_pb               19323 non-null  float64\n",
      " 16  primary_cleaner.output.concentrate_sol              19069 non-null  float64\n",
      " 17  primary_cleaner.output.concentrate_au               19439 non-null  float64\n",
      " 18  primary_cleaner.output.tail_ag                      19435 non-null  float64\n",
      " 19  primary_cleaner.output.tail_pb                      19418 non-null  float64\n",
      " 20  primary_cleaner.output.tail_sol                     19377 non-null  float64\n",
      " 21  primary_cleaner.output.tail_au                      19439 non-null  float64\n",
      " 22  primary_cleaner.state.floatbank8_a_air              19435 non-null  float64\n",
      " 23  primary_cleaner.state.floatbank8_a_level            19438 non-null  float64\n",
      " 24  primary_cleaner.state.floatbank8_b_air              19435 non-null  float64\n",
      " 25  primary_cleaner.state.floatbank8_b_level            19438 non-null  float64\n",
      " 26  primary_cleaner.state.floatbank8_c_air              19437 non-null  float64\n",
      " 27  primary_cleaner.state.floatbank8_c_level            19438 non-null  float64\n",
      " 28  primary_cleaner.state.floatbank8_d_air              19436 non-null  float64\n",
      " 29  primary_cleaner.state.floatbank8_d_level            19438 non-null  float64\n",
      " 30  rougher.calculation.sulfate_to_au_concentrate       19437 non-null  float64\n",
      " 31  rougher.calculation.floatbank10_sulfate_to_au_feed  19437 non-null  float64\n",
      " 32  rougher.calculation.floatbank11_sulfate_to_au_feed  19437 non-null  float64\n",
      " 33  rougher.calculation.au_pb_ratio                     19439 non-null  float64\n",
      " 34  rougher.input.feed_ag                               19439 non-null  float64\n",
      " 35  rougher.input.feed_pb                               19339 non-null  float64\n",
      " 36  rougher.input.feed_rate                             19428 non-null  float64\n",
      " 37  rougher.input.feed_size                             19294 non-null  float64\n",
      " 38  rougher.input.feed_sol                              19340 non-null  float64\n",
      " 39  rougher.input.feed_au                               19439 non-null  float64\n",
      " 40  rougher.input.floatbank10_sulfate                   19405 non-null  float64\n",
      " 41  rougher.input.floatbank10_xanthate                  19431 non-null  float64\n",
      " 42  rougher.input.floatbank11_sulfate                   19395 non-null  float64\n",
      " 43  rougher.input.floatbank11_xanthate                  18986 non-null  float64\n",
      " 44  rougher.output.concentrate_ag                       19439 non-null  float64\n",
      " 45  rougher.output.concentrate_pb                       19439 non-null  float64\n",
      " 46  rougher.output.concentrate_sol                      19416 non-null  float64\n",
      " 47  rougher.output.concentrate_au                       19439 non-null  float64\n",
      " 48  rougher.output.recovery                             19439 non-null  float64\n",
      " 49  rougher.output.tail_ag                              19438 non-null  float64\n",
      " 50  rougher.output.tail_pb                              19439 non-null  float64\n",
      " 51  rougher.output.tail_sol                             19439 non-null  float64\n",
      " 52  rougher.output.tail_au                              19439 non-null  float64\n",
      " 53  rougher.state.floatbank10_a_air                     19438 non-null  float64\n",
      " 54  rougher.state.floatbank10_a_level                   19438 non-null  float64\n",
      " 55  rougher.state.floatbank10_b_air                     19438 non-null  float64\n",
      " 56  rougher.state.floatbank10_b_level                   19438 non-null  float64\n",
      " 57  rougher.state.floatbank10_c_air                     19438 non-null  float64\n",
      " 58  rougher.state.floatbank10_c_level                   19438 non-null  float64\n",
      " 59  rougher.state.floatbank10_d_air                     19439 non-null  float64\n",
      " 60  rougher.state.floatbank10_d_level                   19439 non-null  float64\n",
      " 61  rougher.state.floatbank10_e_air                     19003 non-null  float64\n",
      " 62  rougher.state.floatbank10_e_level                   19439 non-null  float64\n",
      " 63  rougher.state.floatbank10_f_air                     19439 non-null  float64\n",
      " 64  rougher.state.floatbank10_f_level                   19439 non-null  float64\n",
      " 65  secondary_cleaner.output.tail_ag                    19437 non-null  float64\n",
      " 66  secondary_cleaner.output.tail_pb                    19427 non-null  float64\n",
      " 67  secondary_cleaner.output.tail_sol                   17691 non-null  float64\n",
      " 68  secondary_cleaner.output.tail_au                    19439 non-null  float64\n",
      " 69  secondary_cleaner.state.floatbank2_a_air            19219 non-null  float64\n",
      " 70  secondary_cleaner.state.floatbank2_a_level          19438 non-null  float64\n",
      " 71  secondary_cleaner.state.floatbank2_b_air            19416 non-null  float64\n",
      " 72  secondary_cleaner.state.floatbank2_b_level          19438 non-null  float64\n",
      " 73  secondary_cleaner.state.floatbank3_a_air            19426 non-null  float64\n",
      " 74  secondary_cleaner.state.floatbank3_a_level          19438 non-null  float64\n",
      " 75  secondary_cleaner.state.floatbank3_b_air            19438 non-null  float64\n",
      " 76  secondary_cleaner.state.floatbank3_b_level          19438 non-null  float64\n",
      " 77  secondary_cleaner.state.floatbank4_a_air            19433 non-null  float64\n",
      " 78  secondary_cleaner.state.floatbank4_a_level          19438 non-null  float64\n",
      " 79  secondary_cleaner.state.floatbank4_b_air            19438 non-null  float64\n",
      " 80  secondary_cleaner.state.floatbank4_b_level          19438 non-null  float64\n",
      " 81  secondary_cleaner.state.floatbank5_a_air            19438 non-null  float64\n",
      " 82  secondary_cleaner.state.floatbank5_a_level          19438 non-null  float64\n",
      " 83  secondary_cleaner.state.floatbank5_b_air            19438 non-null  float64\n",
      " 84  secondary_cleaner.state.floatbank5_b_level          19438 non-null  float64\n",
      " 85  secondary_cleaner.state.floatbank6_a_air            19437 non-null  float64\n",
      " 86  secondary_cleaner.state.floatbank6_a_level          19438 non-null  float64\n",
      "dtypes: float64(86), object(1)\n",
      "memory usage: 12.9+ MB\n",
      "None\n"
     ]
    }
   ],
   "source": [
    "get_info(full_df)"
   ]
  },
  {
   "cell_type": "markdown",
   "metadata": {},
   "source": [
    "The first study with data showed that:\n",
    "\n",
    "* the maximum number of columns is 87, hence the test_df has the smallest possible number of columns (53 out of 87);\n",
    "\n",
    "* all dataframes do not contain complete duplicates;\n",
    "\n",
    "* there are gaps in each of the dataframes, at first glance their number is insignificant (we will check this later);\n",
    "\n",
    "* each dataframe has date column, which format is object."
   ]
  },
  {
   "cell_type": "markdown",
   "metadata": {},
   "source": [
    "### Let's check that the enrichment efficiency is calculated correctly\n",
    "\n",
    "Calculation formula:\n",
    "recovery = C*(F-T) / F*(C-T) * 100\n",
    "\n",
    "Let's calculate it on the training sample for the attribute *rougher.output.recovery.* Let's find MAE between our calculations and the value of the attribute."
   ]
  },
  {
   "cell_type": "code",
   "execution_count": 10,
   "metadata": {},
   "outputs": [],
   "source": [
    "def get_recovery (df):\n",
    "    recovery = (df['rougher.output.concentrate_au'] *(df['rougher.input.feed_au'] - df['rougher.output.tail_au'])) / (df['rougher.input.feed_au']*(df['rougher.output.concentrate_au'] - df['rougher.output.tail_au'])) * 100\n",
    "    return recovery"
   ]
  },
  {
   "cell_type": "code",
   "execution_count": 11,
   "metadata": {},
   "outputs": [],
   "source": [
    "#let's prepare a training sample for the use of the get_recovery function, remove the existing gaps:\n",
    "train_df_clean = train_df.dropna(axis = 0) "
   ]
  },
  {
   "cell_type": "code",
   "execution_count": 12,
   "metadata": {},
   "outputs": [],
   "source": [
    "y_test = train_df_clean.apply(get_recovery,axis = 1)"
   ]
  },
  {
   "cell_type": "code",
   "execution_count": 13,
   "metadata": {},
   "outputs": [
    {
     "data": {
      "text/plain": [
       "count    11017.000000\n",
       "mean        82.741888\n",
       "std         13.590523\n",
       "min          0.000000\n",
       "25%         79.997468\n",
       "50%         84.847754\n",
       "75%         89.635149\n",
       "max        100.000000\n",
       "Name: rougher.output.recovery, dtype: float64"
      ]
     },
     "execution_count": 13,
     "metadata": {},
     "output_type": "execute_result"
    }
   ],
   "source": [
    "train_df_clean['rougher.output.recovery'].describe()"
   ]
  },
  {
   "cell_type": "code",
   "execution_count": 14,
   "metadata": {},
   "outputs": [
    {
     "data": {
      "text/plain": [
       "9.82970122149377e-15"
      ]
     },
     "execution_count": 14,
     "metadata": {},
     "output_type": "execute_result"
    }
   ],
   "source": [
    "mae = mean_absolute_error(y_test, train_df_clean['rougher.output.recovery'])\n",
    "mae"
   ]
  },
  {
   "cell_type": "markdown",
   "metadata": {},
   "source": [
    "We got MAE = 9.8, which is less than std=13.59. Therefore, we can assume that the enrichment efficiency is calculated correctly."
   ]
  },
  {
   "cell_type": "markdown",
   "metadata": {},
   "source": [
    "### Let's analyze the features that are not available in the test sample:"
   ]
  },
  {
   "cell_type": "code",
   "execution_count": 15,
   "metadata": {},
   "outputs": [
    {
     "data": {
      "text/plain": [
       "['secondary_cleaner.output.tail_ag',\n",
       " 'rougher.output.tail_sol',\n",
       " 'secondary_cleaner.output.tail_sol',\n",
       " 'rougher.output.tail_pb',\n",
       " 'rougher.output.concentrate_au',\n",
       " 'final.output.concentrate_au',\n",
       " 'final.output.tail_sol',\n",
       " 'rougher.calculation.au_pb_ratio',\n",
       " 'rougher.output.concentrate_pb',\n",
       " 'rougher.output.recovery',\n",
       " 'secondary_cleaner.output.tail_pb',\n",
       " 'final.output.tail_ag',\n",
       " 'final.output.concentrate_sol',\n",
       " 'primary_cleaner.output.concentrate_pb',\n",
       " 'rougher.calculation.floatbank10_sulfate_to_au_feed',\n",
       " 'primary_cleaner.output.tail_sol',\n",
       " 'rougher.output.concentrate_sol',\n",
       " 'primary_cleaner.output.concentrate_sol',\n",
       " 'primary_cleaner.output.tail_au',\n",
       " 'primary_cleaner.output.tail_ag',\n",
       " 'rougher.output.tail_ag',\n",
       " 'rougher.calculation.floatbank11_sulfate_to_au_feed',\n",
       " 'final.output.recovery',\n",
       " 'rougher.output.tail_au',\n",
       " 'primary_cleaner.output.concentrate_ag',\n",
       " 'rougher.calculation.sulfate_to_au_concentrate',\n",
       " 'final.output.concentrate_ag',\n",
       " 'primary_cleaner.output.tail_pb',\n",
       " 'rougher.output.concentrate_ag',\n",
       " 'secondary_cleaner.output.tail_au',\n",
       " 'final.output.tail_pb',\n",
       " 'primary_cleaner.output.concentrate_au',\n",
       " 'final.output.tail_au',\n",
       " 'final.output.concentrate_pb']"
      ]
     },
     "execution_count": 15,
     "metadata": {},
     "output_type": "execute_result"
    }
   ],
   "source": [
    "missing_test_features = list(set(train_df.columns) - set(test_df.columns))\n",
    "missing_test_features"
   ]
  },
  {
   "cell_type": "code",
   "execution_count": 16,
   "metadata": {},
   "outputs": [
    {
     "name": "stdout",
     "output_type": "stream",
     "text": [
      "Number of missing features: 34\n"
     ]
    }
   ],
   "source": [
    "print('Number of missing features:',len(missing_test_features))"
   ]
  },
  {
   "cell_type": "code",
   "execution_count": 17,
   "metadata": {},
   "outputs": [],
   "source": [
    "sorted_missing_test_features = sorted(missing_test_features)"
   ]
  },
  {
   "cell_type": "code",
   "execution_count": 18,
   "metadata": {},
   "outputs": [
    {
     "data": {
      "text/plain": [
       "['final.output.concentrate_ag',\n",
       " 'final.output.concentrate_au',\n",
       " 'final.output.concentrate_pb',\n",
       " 'final.output.concentrate_sol',\n",
       " 'final.output.recovery',\n",
       " 'final.output.tail_ag',\n",
       " 'final.output.tail_au',\n",
       " 'final.output.tail_pb',\n",
       " 'final.output.tail_sol',\n",
       " 'primary_cleaner.output.concentrate_ag',\n",
       " 'primary_cleaner.output.concentrate_au',\n",
       " 'primary_cleaner.output.concentrate_pb',\n",
       " 'primary_cleaner.output.concentrate_sol',\n",
       " 'primary_cleaner.output.tail_ag',\n",
       " 'primary_cleaner.output.tail_au',\n",
       " 'primary_cleaner.output.tail_pb',\n",
       " 'primary_cleaner.output.tail_sol',\n",
       " 'rougher.calculation.au_pb_ratio',\n",
       " 'rougher.calculation.floatbank10_sulfate_to_au_feed',\n",
       " 'rougher.calculation.floatbank11_sulfate_to_au_feed',\n",
       " 'rougher.calculation.sulfate_to_au_concentrate',\n",
       " 'rougher.output.concentrate_ag',\n",
       " 'rougher.output.concentrate_au',\n",
       " 'rougher.output.concentrate_pb',\n",
       " 'rougher.output.concentrate_sol',\n",
       " 'rougher.output.recovery',\n",
       " 'rougher.output.tail_ag',\n",
       " 'rougher.output.tail_au',\n",
       " 'rougher.output.tail_pb',\n",
       " 'rougher.output.tail_sol',\n",
       " 'secondary_cleaner.output.tail_ag',\n",
       " 'secondary_cleaner.output.tail_au',\n",
       " 'secondary_cleaner.output.tail_pb',\n",
       " 'secondary_cleaner.output.tail_sol']"
      ]
     },
     "execution_count": 18,
     "metadata": {},
     "output_type": "execute_result"
    }
   ],
   "source": [
    "sorted_missing_test_features"
   ]
  },
  {
   "cell_type": "markdown",
   "metadata": {},
   "source": [
    "The test_df table is missing 34 features that are in full_df, among which:\n",
    "\n",
    "* there are no features containing raw material parameters(input);\n",
    "\n",
    "* there are no features characterizing the parameters of raw materials (state);\n",
    "\n",
    "* 4 features refer to calculated signs (calculation);\n",
    "\n",
    "* 2 features we coulf relate to target ones  -  *'final.output.recovery'* и *'rougher.output.recovery'*;\n",
    "\n",
    "* overall, the missing features relate to and describe the stages of the production process, that is, they contain data that are filled gradually, and not initially."
   ]
  },
  {
   "cell_type": "markdown",
   "metadata": {},
   "source": [
    "### Carry out data preprocessing:"
   ]
  },
  {
   "cell_type": "markdown",
   "metadata": {},
   "source": [
    "Let's add data about target features to the test sample:"
   ]
  },
  {
   "cell_type": "code",
   "execution_count": 19,
   "metadata": {},
   "outputs": [],
   "source": [
    "test_df = test_df.merge(full_df[['date', 'rougher.output.recovery', 'final.output.recovery']], on='date')"
   ]
  },
  {
   "cell_type": "markdown",
   "metadata": {},
   "source": [
    "Remove unnecessary features from the training sample:"
   ]
  },
  {
   "cell_type": "code",
   "execution_count": 20,
   "metadata": {},
   "outputs": [],
   "source": [
    "train_df = train_df[test_df.columns]"
   ]
  },
  {
   "cell_type": "code",
   "execution_count": 21,
   "metadata": {},
   "outputs": [
    {
     "data": {
      "text/plain": [
       "Index(['date', 'primary_cleaner.input.sulfate',\n",
       "       'primary_cleaner.input.depressant', 'primary_cleaner.input.feed_size',\n",
       "       'primary_cleaner.input.xanthate',\n",
       "       'primary_cleaner.state.floatbank8_a_air',\n",
       "       'primary_cleaner.state.floatbank8_a_level',\n",
       "       'primary_cleaner.state.floatbank8_b_air',\n",
       "       'primary_cleaner.state.floatbank8_b_level',\n",
       "       'primary_cleaner.state.floatbank8_c_air',\n",
       "       'primary_cleaner.state.floatbank8_c_level',\n",
       "       'primary_cleaner.state.floatbank8_d_air',\n",
       "       'primary_cleaner.state.floatbank8_d_level', 'rougher.input.feed_ag',\n",
       "       'rougher.input.feed_pb', 'rougher.input.feed_rate',\n",
       "       'rougher.input.feed_size', 'rougher.input.feed_sol',\n",
       "       'rougher.input.feed_au', 'rougher.input.floatbank10_sulfate',\n",
       "       'rougher.input.floatbank10_xanthate',\n",
       "       'rougher.input.floatbank11_sulfate',\n",
       "       'rougher.input.floatbank11_xanthate', 'rougher.state.floatbank10_a_air',\n",
       "       'rougher.state.floatbank10_a_level', 'rougher.state.floatbank10_b_air',\n",
       "       'rougher.state.floatbank10_b_level', 'rougher.state.floatbank10_c_air',\n",
       "       'rougher.state.floatbank10_c_level', 'rougher.state.floatbank10_d_air',\n",
       "       'rougher.state.floatbank10_d_level', 'rougher.state.floatbank10_e_air',\n",
       "       'rougher.state.floatbank10_e_level', 'rougher.state.floatbank10_f_air',\n",
       "       'rougher.state.floatbank10_f_level',\n",
       "       'secondary_cleaner.state.floatbank2_a_air',\n",
       "       'secondary_cleaner.state.floatbank2_a_level',\n",
       "       'secondary_cleaner.state.floatbank2_b_air',\n",
       "       'secondary_cleaner.state.floatbank2_b_level',\n",
       "       'secondary_cleaner.state.floatbank3_a_air',\n",
       "       'secondary_cleaner.state.floatbank3_a_level',\n",
       "       'secondary_cleaner.state.floatbank3_b_air',\n",
       "       'secondary_cleaner.state.floatbank3_b_level',\n",
       "       'secondary_cleaner.state.floatbank4_a_air',\n",
       "       'secondary_cleaner.state.floatbank4_a_level',\n",
       "       'secondary_cleaner.state.floatbank4_b_air',\n",
       "       'secondary_cleaner.state.floatbank4_b_level',\n",
       "       'secondary_cleaner.state.floatbank5_a_air',\n",
       "       'secondary_cleaner.state.floatbank5_a_level',\n",
       "       'secondary_cleaner.state.floatbank5_b_air',\n",
       "       'secondary_cleaner.state.floatbank5_b_level',\n",
       "       'secondary_cleaner.state.floatbank6_a_air',\n",
       "       'secondary_cleaner.state.floatbank6_a_level', 'rougher.output.recovery',\n",
       "       'final.output.recovery'],\n",
       "      dtype='object')"
      ]
     },
     "execution_count": 21,
     "metadata": {},
     "output_type": "execute_result"
    }
   ],
   "source": [
    "test_df.columns"
   ]
  },
  {
   "cell_type": "code",
   "execution_count": 22,
   "metadata": {},
   "outputs": [
    {
     "name": "stdout",
     "output_type": "stream",
     "text": [
      "<class 'pandas.core.frame.DataFrame'>\n",
      "Int64Index: 5290 entries, 0 to 5289\n",
      "Data columns (total 55 columns):\n",
      " #   Column                                      Non-Null Count  Dtype  \n",
      "---  ------                                      --------------  -----  \n",
      " 0   date                                        5290 non-null   object \n",
      " 1   primary_cleaner.input.sulfate               5286 non-null   float64\n",
      " 2   primary_cleaner.input.depressant            5285 non-null   float64\n",
      " 3   primary_cleaner.input.feed_size             5290 non-null   float64\n",
      " 4   primary_cleaner.input.xanthate              5286 non-null   float64\n",
      " 5   primary_cleaner.state.floatbank8_a_air      5290 non-null   float64\n",
      " 6   primary_cleaner.state.floatbank8_a_level    5290 non-null   float64\n",
      " 7   primary_cleaner.state.floatbank8_b_air      5290 non-null   float64\n",
      " 8   primary_cleaner.state.floatbank8_b_level    5290 non-null   float64\n",
      " 9   primary_cleaner.state.floatbank8_c_air      5290 non-null   float64\n",
      " 10  primary_cleaner.state.floatbank8_c_level    5290 non-null   float64\n",
      " 11  primary_cleaner.state.floatbank8_d_air      5290 non-null   float64\n",
      " 12  primary_cleaner.state.floatbank8_d_level    5290 non-null   float64\n",
      " 13  rougher.input.feed_ag                       5290 non-null   float64\n",
      " 14  rougher.input.feed_pb                       5290 non-null   float64\n",
      " 15  rougher.input.feed_rate                     5287 non-null   float64\n",
      " 16  rougher.input.feed_size                     5289 non-null   float64\n",
      " 17  rougher.input.feed_sol                      5269 non-null   float64\n",
      " 18  rougher.input.feed_au                       5290 non-null   float64\n",
      " 19  rougher.input.floatbank10_sulfate           5285 non-null   float64\n",
      " 20  rougher.input.floatbank10_xanthate          5290 non-null   float64\n",
      " 21  rougher.input.floatbank11_sulfate           5282 non-null   float64\n",
      " 22  rougher.input.floatbank11_xanthate          5265 non-null   float64\n",
      " 23  rougher.state.floatbank10_a_air             5290 non-null   float64\n",
      " 24  rougher.state.floatbank10_a_level           5290 non-null   float64\n",
      " 25  rougher.state.floatbank10_b_air             5290 non-null   float64\n",
      " 26  rougher.state.floatbank10_b_level           5290 non-null   float64\n",
      " 27  rougher.state.floatbank10_c_air             5290 non-null   float64\n",
      " 28  rougher.state.floatbank10_c_level           5290 non-null   float64\n",
      " 29  rougher.state.floatbank10_d_air             5290 non-null   float64\n",
      " 30  rougher.state.floatbank10_d_level           5290 non-null   float64\n",
      " 31  rougher.state.floatbank10_e_air             5290 non-null   float64\n",
      " 32  rougher.state.floatbank10_e_level           5290 non-null   float64\n",
      " 33  rougher.state.floatbank10_f_air             5290 non-null   float64\n",
      " 34  rougher.state.floatbank10_f_level           5290 non-null   float64\n",
      " 35  secondary_cleaner.state.floatbank2_a_air    5287 non-null   float64\n",
      " 36  secondary_cleaner.state.floatbank2_a_level  5290 non-null   float64\n",
      " 37  secondary_cleaner.state.floatbank2_b_air    5288 non-null   float64\n",
      " 38  secondary_cleaner.state.floatbank2_b_level  5290 non-null   float64\n",
      " 39  secondary_cleaner.state.floatbank3_a_air    5281 non-null   float64\n",
      " 40  secondary_cleaner.state.floatbank3_a_level  5290 non-null   float64\n",
      " 41  secondary_cleaner.state.floatbank3_b_air    5290 non-null   float64\n",
      " 42  secondary_cleaner.state.floatbank3_b_level  5290 non-null   float64\n",
      " 43  secondary_cleaner.state.floatbank4_a_air    5290 non-null   float64\n",
      " 44  secondary_cleaner.state.floatbank4_a_level  5290 non-null   float64\n",
      " 45  secondary_cleaner.state.floatbank4_b_air    5290 non-null   float64\n",
      " 46  secondary_cleaner.state.floatbank4_b_level  5290 non-null   float64\n",
      " 47  secondary_cleaner.state.floatbank5_a_air    5290 non-null   float64\n",
      " 48  secondary_cleaner.state.floatbank5_a_level  5290 non-null   float64\n",
      " 49  secondary_cleaner.state.floatbank5_b_air    5290 non-null   float64\n",
      " 50  secondary_cleaner.state.floatbank5_b_level  5290 non-null   float64\n",
      " 51  secondary_cleaner.state.floatbank6_a_air    5290 non-null   float64\n",
      " 52  secondary_cleaner.state.floatbank6_a_level  5290 non-null   float64\n",
      " 53  rougher.output.recovery                     5290 non-null   float64\n",
      " 54  final.output.recovery                       5290 non-null   float64\n",
      "dtypes: float64(54), object(1)\n",
      "memory usage: 2.3+ MB\n"
     ]
    }
   ],
   "source": [
    "test_df.info()"
   ]
  },
  {
   "cell_type": "code",
   "execution_count": 23,
   "metadata": {},
   "outputs": [
    {
     "data": {
      "text/plain": [
       "date                                           0\n",
       "primary_cleaner.input.sulfate                  4\n",
       "primary_cleaner.input.depressant               5\n",
       "primary_cleaner.input.feed_size                0\n",
       "primary_cleaner.input.xanthate                 4\n",
       "primary_cleaner.state.floatbank8_a_air         0\n",
       "primary_cleaner.state.floatbank8_a_level       0\n",
       "primary_cleaner.state.floatbank8_b_air         0\n",
       "primary_cleaner.state.floatbank8_b_level       0\n",
       "primary_cleaner.state.floatbank8_c_air         0\n",
       "primary_cleaner.state.floatbank8_c_level       0\n",
       "primary_cleaner.state.floatbank8_d_air         0\n",
       "primary_cleaner.state.floatbank8_d_level       0\n",
       "rougher.input.feed_ag                          0\n",
       "rougher.input.feed_pb                          0\n",
       "rougher.input.feed_rate                        3\n",
       "rougher.input.feed_size                        1\n",
       "rougher.input.feed_sol                        21\n",
       "rougher.input.feed_au                          0\n",
       "rougher.input.floatbank10_sulfate              5\n",
       "rougher.input.floatbank10_xanthate             0\n",
       "rougher.input.floatbank11_sulfate              8\n",
       "rougher.input.floatbank11_xanthate            25\n",
       "rougher.state.floatbank10_a_air                0\n",
       "rougher.state.floatbank10_a_level              0\n",
       "rougher.state.floatbank10_b_air                0\n",
       "rougher.state.floatbank10_b_level              0\n",
       "rougher.state.floatbank10_c_air                0\n",
       "rougher.state.floatbank10_c_level              0\n",
       "rougher.state.floatbank10_d_air                0\n",
       "rougher.state.floatbank10_d_level              0\n",
       "rougher.state.floatbank10_e_air                0\n",
       "rougher.state.floatbank10_e_level              0\n",
       "rougher.state.floatbank10_f_air                0\n",
       "rougher.state.floatbank10_f_level              0\n",
       "secondary_cleaner.state.floatbank2_a_air       3\n",
       "secondary_cleaner.state.floatbank2_a_level     0\n",
       "secondary_cleaner.state.floatbank2_b_air       2\n",
       "secondary_cleaner.state.floatbank2_b_level     0\n",
       "secondary_cleaner.state.floatbank3_a_air       9\n",
       "secondary_cleaner.state.floatbank3_a_level     0\n",
       "secondary_cleaner.state.floatbank3_b_air       0\n",
       "secondary_cleaner.state.floatbank3_b_level     0\n",
       "secondary_cleaner.state.floatbank4_a_air       0\n",
       "secondary_cleaner.state.floatbank4_a_level     0\n",
       "secondary_cleaner.state.floatbank4_b_air       0\n",
       "secondary_cleaner.state.floatbank4_b_level     0\n",
       "secondary_cleaner.state.floatbank5_a_air       0\n",
       "secondary_cleaner.state.floatbank5_a_level     0\n",
       "secondary_cleaner.state.floatbank5_b_air       0\n",
       "secondary_cleaner.state.floatbank5_b_level     0\n",
       "secondary_cleaner.state.floatbank6_a_air       0\n",
       "secondary_cleaner.state.floatbank6_a_level     0\n",
       "rougher.output.recovery                        0\n",
       "final.output.recovery                          0\n",
       "dtype: int64"
      ]
     },
     "execution_count": 23,
     "metadata": {},
     "output_type": "execute_result"
    }
   ],
   "source": [
    "test_df.isna().sum()"
   ]
  },
  {
   "cell_type": "code",
   "execution_count": 24,
   "metadata": {},
   "outputs": [
    {
     "name": "stdout",
     "output_type": "stream",
     "text": [
      "<class 'pandas.core.frame.DataFrame'>\n",
      "RangeIndex: 14149 entries, 0 to 14148\n",
      "Data columns (total 55 columns):\n",
      " #   Column                                      Non-Null Count  Dtype  \n",
      "---  ------                                      --------------  -----  \n",
      " 0   date                                        14149 non-null  object \n",
      " 1   primary_cleaner.input.sulfate               14129 non-null  float64\n",
      " 2   primary_cleaner.input.depressant            14117 non-null  float64\n",
      " 3   primary_cleaner.input.feed_size             14149 non-null  float64\n",
      " 4   primary_cleaner.input.xanthate              14049 non-null  float64\n",
      " 5   primary_cleaner.state.floatbank8_a_air      14145 non-null  float64\n",
      " 6   primary_cleaner.state.floatbank8_a_level    14148 non-null  float64\n",
      " 7   primary_cleaner.state.floatbank8_b_air      14145 non-null  float64\n",
      " 8   primary_cleaner.state.floatbank8_b_level    14148 non-null  float64\n",
      " 9   primary_cleaner.state.floatbank8_c_air      14147 non-null  float64\n",
      " 10  primary_cleaner.state.floatbank8_c_level    14148 non-null  float64\n",
      " 11  primary_cleaner.state.floatbank8_d_air      14146 non-null  float64\n",
      " 12  primary_cleaner.state.floatbank8_d_level    14148 non-null  float64\n",
      " 13  rougher.input.feed_ag                       14149 non-null  float64\n",
      " 14  rougher.input.feed_pb                       14049 non-null  float64\n",
      " 15  rougher.input.feed_rate                     14141 non-null  float64\n",
      " 16  rougher.input.feed_size                     14005 non-null  float64\n",
      " 17  rougher.input.feed_sol                      14071 non-null  float64\n",
      " 18  rougher.input.feed_au                       14149 non-null  float64\n",
      " 19  rougher.input.floatbank10_sulfate           14120 non-null  float64\n",
      " 20  rougher.input.floatbank10_xanthate          14141 non-null  float64\n",
      " 21  rougher.input.floatbank11_sulfate           14113 non-null  float64\n",
      " 22  rougher.input.floatbank11_xanthate          13721 non-null  float64\n",
      " 23  rougher.state.floatbank10_a_air             14148 non-null  float64\n",
      " 24  rougher.state.floatbank10_a_level           14148 non-null  float64\n",
      " 25  rougher.state.floatbank10_b_air             14148 non-null  float64\n",
      " 26  rougher.state.floatbank10_b_level           14148 non-null  float64\n",
      " 27  rougher.state.floatbank10_c_air             14148 non-null  float64\n",
      " 28  rougher.state.floatbank10_c_level           14148 non-null  float64\n",
      " 29  rougher.state.floatbank10_d_air             14149 non-null  float64\n",
      " 30  rougher.state.floatbank10_d_level           14149 non-null  float64\n",
      " 31  rougher.state.floatbank10_e_air             13713 non-null  float64\n",
      " 32  rougher.state.floatbank10_e_level           14149 non-null  float64\n",
      " 33  rougher.state.floatbank10_f_air             14149 non-null  float64\n",
      " 34  rougher.state.floatbank10_f_level           14149 non-null  float64\n",
      " 35  secondary_cleaner.state.floatbank2_a_air    13932 non-null  float64\n",
      " 36  secondary_cleaner.state.floatbank2_a_level  14148 non-null  float64\n",
      " 37  secondary_cleaner.state.floatbank2_b_air    14128 non-null  float64\n",
      " 38  secondary_cleaner.state.floatbank2_b_level  14148 non-null  float64\n",
      " 39  secondary_cleaner.state.floatbank3_a_air    14145 non-null  float64\n",
      " 40  secondary_cleaner.state.floatbank3_a_level  14148 non-null  float64\n",
      " 41  secondary_cleaner.state.floatbank3_b_air    14148 non-null  float64\n",
      " 42  secondary_cleaner.state.floatbank3_b_level  14148 non-null  float64\n",
      " 43  secondary_cleaner.state.floatbank4_a_air    14143 non-null  float64\n",
      " 44  secondary_cleaner.state.floatbank4_a_level  14148 non-null  float64\n",
      " 45  secondary_cleaner.state.floatbank4_b_air    14148 non-null  float64\n",
      " 46  secondary_cleaner.state.floatbank4_b_level  14148 non-null  float64\n",
      " 47  secondary_cleaner.state.floatbank5_a_air    14148 non-null  float64\n",
      " 48  secondary_cleaner.state.floatbank5_a_level  14148 non-null  float64\n",
      " 49  secondary_cleaner.state.floatbank5_b_air    14148 non-null  float64\n",
      " 50  secondary_cleaner.state.floatbank5_b_level  14148 non-null  float64\n",
      " 51  secondary_cleaner.state.floatbank6_a_air    14147 non-null  float64\n",
      " 52  secondary_cleaner.state.floatbank6_a_level  14148 non-null  float64\n",
      " 53  rougher.output.recovery                     14149 non-null  float64\n",
      " 54  final.output.recovery                       14149 non-null  float64\n",
      "dtypes: float64(54), object(1)\n",
      "memory usage: 5.9+ MB\n"
     ]
    }
   ],
   "source": [
    "train_df.info()"
   ]
  },
  {
   "cell_type": "code",
   "execution_count": 25,
   "metadata": {},
   "outputs": [
    {
     "data": {
      "text/plain": [
       "date                                            0\n",
       "primary_cleaner.input.sulfate                  20\n",
       "primary_cleaner.input.depressant               32\n",
       "primary_cleaner.input.feed_size                 0\n",
       "primary_cleaner.input.xanthate                100\n",
       "primary_cleaner.state.floatbank8_a_air          4\n",
       "primary_cleaner.state.floatbank8_a_level        1\n",
       "primary_cleaner.state.floatbank8_b_air          4\n",
       "primary_cleaner.state.floatbank8_b_level        1\n",
       "primary_cleaner.state.floatbank8_c_air          2\n",
       "primary_cleaner.state.floatbank8_c_level        1\n",
       "primary_cleaner.state.floatbank8_d_air          3\n",
       "primary_cleaner.state.floatbank8_d_level        1\n",
       "rougher.input.feed_ag                           0\n",
       "rougher.input.feed_pb                         100\n",
       "rougher.input.feed_rate                         8\n",
       "rougher.input.feed_size                       144\n",
       "rougher.input.feed_sol                         78\n",
       "rougher.input.feed_au                           0\n",
       "rougher.input.floatbank10_sulfate              29\n",
       "rougher.input.floatbank10_xanthate              8\n",
       "rougher.input.floatbank11_sulfate              36\n",
       "rougher.input.floatbank11_xanthate            428\n",
       "rougher.state.floatbank10_a_air                 1\n",
       "rougher.state.floatbank10_a_level               1\n",
       "rougher.state.floatbank10_b_air                 1\n",
       "rougher.state.floatbank10_b_level               1\n",
       "rougher.state.floatbank10_c_air                 1\n",
       "rougher.state.floatbank10_c_level               1\n",
       "rougher.state.floatbank10_d_air                 0\n",
       "rougher.state.floatbank10_d_level               0\n",
       "rougher.state.floatbank10_e_air               436\n",
       "rougher.state.floatbank10_e_level               0\n",
       "rougher.state.floatbank10_f_air                 0\n",
       "rougher.state.floatbank10_f_level               0\n",
       "secondary_cleaner.state.floatbank2_a_air      217\n",
       "secondary_cleaner.state.floatbank2_a_level      1\n",
       "secondary_cleaner.state.floatbank2_b_air       21\n",
       "secondary_cleaner.state.floatbank2_b_level      1\n",
       "secondary_cleaner.state.floatbank3_a_air        4\n",
       "secondary_cleaner.state.floatbank3_a_level      1\n",
       "secondary_cleaner.state.floatbank3_b_air        1\n",
       "secondary_cleaner.state.floatbank3_b_level      1\n",
       "secondary_cleaner.state.floatbank4_a_air        6\n",
       "secondary_cleaner.state.floatbank4_a_level      1\n",
       "secondary_cleaner.state.floatbank4_b_air        1\n",
       "secondary_cleaner.state.floatbank4_b_level      1\n",
       "secondary_cleaner.state.floatbank5_a_air        1\n",
       "secondary_cleaner.state.floatbank5_a_level      1\n",
       "secondary_cleaner.state.floatbank5_b_air        1\n",
       "secondary_cleaner.state.floatbank5_b_level      1\n",
       "secondary_cleaner.state.floatbank6_a_air        2\n",
       "secondary_cleaner.state.floatbank6_a_level      1\n",
       "rougher.output.recovery                         0\n",
       "final.output.recovery                           0\n",
       "dtype: int64"
      ]
     },
     "execution_count": 25,
     "metadata": {},
     "output_type": "execute_result"
    }
   ],
   "source": [
    "train_df.isna().sum()"
   ]
  },
  {
   "cell_type": "markdown",
   "metadata": {},
   "source": [
    "Since the number of omissions is insignificant in each df, we will delete the missing values:"
   ]
  },
  {
   "cell_type": "code",
   "execution_count": 26,
   "metadata": {},
   "outputs": [],
   "source": [
    "test_df = test_df.dropna()\n",
    "train_df = train_df.dropna()"
   ]
  },
  {
   "cell_type": "code",
   "execution_count": 27,
   "metadata": {},
   "outputs": [],
   "source": [
    "test_df = test_df.reset_index(drop=True)\n",
    "train_df = train_df.reset_index(drop=True)"
   ]
  },
  {
   "cell_type": "code",
   "execution_count": 28,
   "metadata": {},
   "outputs": [
    {
     "data": {
      "text/html": [
       "<div>\n",
       "<style scoped>\n",
       "    .dataframe tbody tr th:only-of-type {\n",
       "        vertical-align: middle;\n",
       "    }\n",
       "\n",
       "    .dataframe tbody tr th {\n",
       "        vertical-align: top;\n",
       "    }\n",
       "\n",
       "    .dataframe thead th {\n",
       "        text-align: right;\n",
       "    }\n",
       "</style>\n",
       "<table border=\"1\" class=\"dataframe\">\n",
       "  <thead>\n",
       "    <tr style=\"text-align: right;\">\n",
       "      <th></th>\n",
       "      <th>date</th>\n",
       "      <th>primary_cleaner.input.sulfate</th>\n",
       "      <th>primary_cleaner.input.depressant</th>\n",
       "      <th>primary_cleaner.input.feed_size</th>\n",
       "      <th>primary_cleaner.input.xanthate</th>\n",
       "      <th>primary_cleaner.state.floatbank8_a_air</th>\n",
       "      <th>primary_cleaner.state.floatbank8_a_level</th>\n",
       "      <th>primary_cleaner.state.floatbank8_b_air</th>\n",
       "      <th>primary_cleaner.state.floatbank8_b_level</th>\n",
       "      <th>primary_cleaner.state.floatbank8_c_air</th>\n",
       "      <th>...</th>\n",
       "      <th>secondary_cleaner.state.floatbank4_b_air</th>\n",
       "      <th>secondary_cleaner.state.floatbank4_b_level</th>\n",
       "      <th>secondary_cleaner.state.floatbank5_a_air</th>\n",
       "      <th>secondary_cleaner.state.floatbank5_a_level</th>\n",
       "      <th>secondary_cleaner.state.floatbank5_b_air</th>\n",
       "      <th>secondary_cleaner.state.floatbank5_b_level</th>\n",
       "      <th>secondary_cleaner.state.floatbank6_a_air</th>\n",
       "      <th>secondary_cleaner.state.floatbank6_a_level</th>\n",
       "      <th>rougher.output.recovery</th>\n",
       "      <th>final.output.recovery</th>\n",
       "    </tr>\n",
       "  </thead>\n",
       "  <tbody>\n",
       "    <tr>\n",
       "      <th>0</th>\n",
       "      <td>2016-09-01 00:59:59</td>\n",
       "      <td>210.800909</td>\n",
       "      <td>14.993118</td>\n",
       "      <td>8.080000</td>\n",
       "      <td>1.005021</td>\n",
       "      <td>1398.981301</td>\n",
       "      <td>-500.225577</td>\n",
       "      <td>1399.144926</td>\n",
       "      <td>-499.919735</td>\n",
       "      <td>1400.102998</td>\n",
       "      <td>...</td>\n",
       "      <td>8.016656</td>\n",
       "      <td>-501.289139</td>\n",
       "      <td>7.946562</td>\n",
       "      <td>-432.317850</td>\n",
       "      <td>4.872511</td>\n",
       "      <td>-500.037437</td>\n",
       "      <td>26.705889</td>\n",
       "      <td>-499.709414</td>\n",
       "      <td>89.993421</td>\n",
       "      <td>70.273583</td>\n",
       "    </tr>\n",
       "    <tr>\n",
       "      <th>1</th>\n",
       "      <td>2016-09-01 01:59:59</td>\n",
       "      <td>215.392455</td>\n",
       "      <td>14.987471</td>\n",
       "      <td>8.080000</td>\n",
       "      <td>0.990469</td>\n",
       "      <td>1398.777912</td>\n",
       "      <td>-500.057435</td>\n",
       "      <td>1398.055362</td>\n",
       "      <td>-499.778182</td>\n",
       "      <td>1396.151033</td>\n",
       "      <td>...</td>\n",
       "      <td>8.130979</td>\n",
       "      <td>-499.634209</td>\n",
       "      <td>7.958270</td>\n",
       "      <td>-525.839648</td>\n",
       "      <td>4.878850</td>\n",
       "      <td>-500.162375</td>\n",
       "      <td>25.019940</td>\n",
       "      <td>-499.819438</td>\n",
       "      <td>88.089657</td>\n",
       "      <td>68.910432</td>\n",
       "    </tr>\n",
       "    <tr>\n",
       "      <th>2</th>\n",
       "      <td>2016-09-01 02:59:59</td>\n",
       "      <td>215.259946</td>\n",
       "      <td>12.884934</td>\n",
       "      <td>7.786667</td>\n",
       "      <td>0.996043</td>\n",
       "      <td>1398.493666</td>\n",
       "      <td>-500.868360</td>\n",
       "      <td>1398.860436</td>\n",
       "      <td>-499.764529</td>\n",
       "      <td>1398.075709</td>\n",
       "      <td>...</td>\n",
       "      <td>8.096893</td>\n",
       "      <td>-500.827423</td>\n",
       "      <td>8.071056</td>\n",
       "      <td>-500.801673</td>\n",
       "      <td>4.905125</td>\n",
       "      <td>-499.828510</td>\n",
       "      <td>24.994862</td>\n",
       "      <td>-500.622559</td>\n",
       "      <td>88.412756</td>\n",
       "      <td>68.143213</td>\n",
       "    </tr>\n",
       "    <tr>\n",
       "      <th>3</th>\n",
       "      <td>2016-09-01 03:59:59</td>\n",
       "      <td>215.336236</td>\n",
       "      <td>12.006805</td>\n",
       "      <td>7.640000</td>\n",
       "      <td>0.863514</td>\n",
       "      <td>1399.618111</td>\n",
       "      <td>-498.863574</td>\n",
       "      <td>1397.440120</td>\n",
       "      <td>-499.211024</td>\n",
       "      <td>1400.129303</td>\n",
       "      <td>...</td>\n",
       "      <td>8.074946</td>\n",
       "      <td>-499.474407</td>\n",
       "      <td>7.897085</td>\n",
       "      <td>-500.868509</td>\n",
       "      <td>4.931400</td>\n",
       "      <td>-499.963623</td>\n",
       "      <td>24.948919</td>\n",
       "      <td>-498.709987</td>\n",
       "      <td>87.360133</td>\n",
       "      <td>67.776393</td>\n",
       "    </tr>\n",
       "    <tr>\n",
       "      <th>4</th>\n",
       "      <td>2016-09-01 04:59:59</td>\n",
       "      <td>199.099327</td>\n",
       "      <td>10.682530</td>\n",
       "      <td>7.530000</td>\n",
       "      <td>0.805575</td>\n",
       "      <td>1401.268123</td>\n",
       "      <td>-500.808305</td>\n",
       "      <td>1398.128818</td>\n",
       "      <td>-499.504543</td>\n",
       "      <td>1402.172226</td>\n",
       "      <td>...</td>\n",
       "      <td>8.054678</td>\n",
       "      <td>-500.397500</td>\n",
       "      <td>8.107890</td>\n",
       "      <td>-509.526725</td>\n",
       "      <td>4.957674</td>\n",
       "      <td>-500.360026</td>\n",
       "      <td>25.003331</td>\n",
       "      <td>-500.856333</td>\n",
       "      <td>83.236367</td>\n",
       "      <td>61.467078</td>\n",
       "    </tr>\n",
       "  </tbody>\n",
       "</table>\n",
       "<p>5 rows × 55 columns</p>\n",
       "</div>"
      ],
      "text/plain": [
       "                  date  primary_cleaner.input.sulfate  \\\n",
       "0  2016-09-01 00:59:59                     210.800909   \n",
       "1  2016-09-01 01:59:59                     215.392455   \n",
       "2  2016-09-01 02:59:59                     215.259946   \n",
       "3  2016-09-01 03:59:59                     215.336236   \n",
       "4  2016-09-01 04:59:59                     199.099327   \n",
       "\n",
       "   primary_cleaner.input.depressant  primary_cleaner.input.feed_size  \\\n",
       "0                         14.993118                         8.080000   \n",
       "1                         14.987471                         8.080000   \n",
       "2                         12.884934                         7.786667   \n",
       "3                         12.006805                         7.640000   \n",
       "4                         10.682530                         7.530000   \n",
       "\n",
       "   primary_cleaner.input.xanthate  primary_cleaner.state.floatbank8_a_air  \\\n",
       "0                        1.005021                             1398.981301   \n",
       "1                        0.990469                             1398.777912   \n",
       "2                        0.996043                             1398.493666   \n",
       "3                        0.863514                             1399.618111   \n",
       "4                        0.805575                             1401.268123   \n",
       "\n",
       "   primary_cleaner.state.floatbank8_a_level  \\\n",
       "0                               -500.225577   \n",
       "1                               -500.057435   \n",
       "2                               -500.868360   \n",
       "3                               -498.863574   \n",
       "4                               -500.808305   \n",
       "\n",
       "   primary_cleaner.state.floatbank8_b_air  \\\n",
       "0                             1399.144926   \n",
       "1                             1398.055362   \n",
       "2                             1398.860436   \n",
       "3                             1397.440120   \n",
       "4                             1398.128818   \n",
       "\n",
       "   primary_cleaner.state.floatbank8_b_level  \\\n",
       "0                               -499.919735   \n",
       "1                               -499.778182   \n",
       "2                               -499.764529   \n",
       "3                               -499.211024   \n",
       "4                               -499.504543   \n",
       "\n",
       "   primary_cleaner.state.floatbank8_c_air  ...  \\\n",
       "0                             1400.102998  ...   \n",
       "1                             1396.151033  ...   \n",
       "2                             1398.075709  ...   \n",
       "3                             1400.129303  ...   \n",
       "4                             1402.172226  ...   \n",
       "\n",
       "   secondary_cleaner.state.floatbank4_b_air  \\\n",
       "0                                  8.016656   \n",
       "1                                  8.130979   \n",
       "2                                  8.096893   \n",
       "3                                  8.074946   \n",
       "4                                  8.054678   \n",
       "\n",
       "   secondary_cleaner.state.floatbank4_b_level  \\\n",
       "0                                 -501.289139   \n",
       "1                                 -499.634209   \n",
       "2                                 -500.827423   \n",
       "3                                 -499.474407   \n",
       "4                                 -500.397500   \n",
       "\n",
       "   secondary_cleaner.state.floatbank5_a_air  \\\n",
       "0                                  7.946562   \n",
       "1                                  7.958270   \n",
       "2                                  8.071056   \n",
       "3                                  7.897085   \n",
       "4                                  8.107890   \n",
       "\n",
       "   secondary_cleaner.state.floatbank5_a_level  \\\n",
       "0                                 -432.317850   \n",
       "1                                 -525.839648   \n",
       "2                                 -500.801673   \n",
       "3                                 -500.868509   \n",
       "4                                 -509.526725   \n",
       "\n",
       "   secondary_cleaner.state.floatbank5_b_air  \\\n",
       "0                                  4.872511   \n",
       "1                                  4.878850   \n",
       "2                                  4.905125   \n",
       "3                                  4.931400   \n",
       "4                                  4.957674   \n",
       "\n",
       "   secondary_cleaner.state.floatbank5_b_level  \\\n",
       "0                                 -500.037437   \n",
       "1                                 -500.162375   \n",
       "2                                 -499.828510   \n",
       "3                                 -499.963623   \n",
       "4                                 -500.360026   \n",
       "\n",
       "   secondary_cleaner.state.floatbank6_a_air  \\\n",
       "0                                 26.705889   \n",
       "1                                 25.019940   \n",
       "2                                 24.994862   \n",
       "3                                 24.948919   \n",
       "4                                 25.003331   \n",
       "\n",
       "   secondary_cleaner.state.floatbank6_a_level  rougher.output.recovery  \\\n",
       "0                                 -499.709414                89.993421   \n",
       "1                                 -499.819438                88.089657   \n",
       "2                                 -500.622559                88.412756   \n",
       "3                                 -498.709987                87.360133   \n",
       "4                                 -500.856333                83.236367   \n",
       "\n",
       "   final.output.recovery  \n",
       "0              70.273583  \n",
       "1              68.910432  \n",
       "2              68.143213  \n",
       "3              67.776393  \n",
       "4              61.467078  \n",
       "\n",
       "[5 rows x 55 columns]"
      ]
     },
     "execution_count": 28,
     "metadata": {},
     "output_type": "execute_result"
    }
   ],
   "source": [
    "test_df.head()"
   ]
  },
  {
   "cell_type": "code",
   "execution_count": 29,
   "metadata": {
    "scrolled": true
   },
   "outputs": [
    {
     "data": {
      "text/html": [
       "<div>\n",
       "<style scoped>\n",
       "    .dataframe tbody tr th:only-of-type {\n",
       "        vertical-align: middle;\n",
       "    }\n",
       "\n",
       "    .dataframe tbody tr th {\n",
       "        vertical-align: top;\n",
       "    }\n",
       "\n",
       "    .dataframe thead th {\n",
       "        text-align: right;\n",
       "    }\n",
       "</style>\n",
       "<table border=\"1\" class=\"dataframe\">\n",
       "  <thead>\n",
       "    <tr style=\"text-align: right;\">\n",
       "      <th></th>\n",
       "      <th>date</th>\n",
       "      <th>primary_cleaner.input.sulfate</th>\n",
       "      <th>primary_cleaner.input.depressant</th>\n",
       "      <th>primary_cleaner.input.feed_size</th>\n",
       "      <th>primary_cleaner.input.xanthate</th>\n",
       "      <th>primary_cleaner.state.floatbank8_a_air</th>\n",
       "      <th>primary_cleaner.state.floatbank8_a_level</th>\n",
       "      <th>primary_cleaner.state.floatbank8_b_air</th>\n",
       "      <th>primary_cleaner.state.floatbank8_b_level</th>\n",
       "      <th>primary_cleaner.state.floatbank8_c_air</th>\n",
       "      <th>...</th>\n",
       "      <th>secondary_cleaner.state.floatbank4_b_air</th>\n",
       "      <th>secondary_cleaner.state.floatbank4_b_level</th>\n",
       "      <th>secondary_cleaner.state.floatbank5_a_air</th>\n",
       "      <th>secondary_cleaner.state.floatbank5_a_level</th>\n",
       "      <th>secondary_cleaner.state.floatbank5_b_air</th>\n",
       "      <th>secondary_cleaner.state.floatbank5_b_level</th>\n",
       "      <th>secondary_cleaner.state.floatbank6_a_air</th>\n",
       "      <th>secondary_cleaner.state.floatbank6_a_level</th>\n",
       "      <th>rougher.output.recovery</th>\n",
       "      <th>final.output.recovery</th>\n",
       "    </tr>\n",
       "  </thead>\n",
       "  <tbody>\n",
       "    <tr>\n",
       "      <th>0</th>\n",
       "      <td>2016-01-15 00:00:00</td>\n",
       "      <td>127.092003</td>\n",
       "      <td>10.128295</td>\n",
       "      <td>7.25</td>\n",
       "      <td>0.988759</td>\n",
       "      <td>1549.775757</td>\n",
       "      <td>-498.912140</td>\n",
       "      <td>1551.434204</td>\n",
       "      <td>-516.403442</td>\n",
       "      <td>1549.873901</td>\n",
       "      <td>...</td>\n",
       "      <td>12.099931</td>\n",
       "      <td>-504.715942</td>\n",
       "      <td>9.925633</td>\n",
       "      <td>-498.310211</td>\n",
       "      <td>8.079666</td>\n",
       "      <td>-500.470978</td>\n",
       "      <td>14.151341</td>\n",
       "      <td>-605.841980</td>\n",
       "      <td>87.107763</td>\n",
       "      <td>70.541216</td>\n",
       "    </tr>\n",
       "    <tr>\n",
       "      <th>1</th>\n",
       "      <td>2016-01-15 01:00:00</td>\n",
       "      <td>125.629232</td>\n",
       "      <td>10.296251</td>\n",
       "      <td>7.25</td>\n",
       "      <td>1.002663</td>\n",
       "      <td>1576.166671</td>\n",
       "      <td>-500.904965</td>\n",
       "      <td>1575.950626</td>\n",
       "      <td>-499.865889</td>\n",
       "      <td>1575.994189</td>\n",
       "      <td>...</td>\n",
       "      <td>11.950531</td>\n",
       "      <td>-501.331529</td>\n",
       "      <td>10.039245</td>\n",
       "      <td>-500.169983</td>\n",
       "      <td>7.984757</td>\n",
       "      <td>-500.582168</td>\n",
       "      <td>13.998353</td>\n",
       "      <td>-599.787184</td>\n",
       "      <td>86.843261</td>\n",
       "      <td>69.266198</td>\n",
       "    </tr>\n",
       "    <tr>\n",
       "      <th>2</th>\n",
       "      <td>2016-01-15 02:00:00</td>\n",
       "      <td>123.819808</td>\n",
       "      <td>11.316280</td>\n",
       "      <td>7.25</td>\n",
       "      <td>0.991265</td>\n",
       "      <td>1601.556163</td>\n",
       "      <td>-499.997791</td>\n",
       "      <td>1600.386685</td>\n",
       "      <td>-500.607762</td>\n",
       "      <td>1602.003542</td>\n",
       "      <td>...</td>\n",
       "      <td>11.912783</td>\n",
       "      <td>-501.133383</td>\n",
       "      <td>10.070913</td>\n",
       "      <td>-500.129135</td>\n",
       "      <td>8.013877</td>\n",
       "      <td>-500.517572</td>\n",
       "      <td>14.028663</td>\n",
       "      <td>-601.427363</td>\n",
       "      <td>86.842308</td>\n",
       "      <td>68.116445</td>\n",
       "    </tr>\n",
       "    <tr>\n",
       "      <th>3</th>\n",
       "      <td>2016-01-15 03:00:00</td>\n",
       "      <td>122.270188</td>\n",
       "      <td>11.322140</td>\n",
       "      <td>7.25</td>\n",
       "      <td>0.996739</td>\n",
       "      <td>1599.968720</td>\n",
       "      <td>-500.951778</td>\n",
       "      <td>1600.659236</td>\n",
       "      <td>-499.677094</td>\n",
       "      <td>1600.304144</td>\n",
       "      <td>...</td>\n",
       "      <td>11.999550</td>\n",
       "      <td>-501.193686</td>\n",
       "      <td>9.970366</td>\n",
       "      <td>-499.201640</td>\n",
       "      <td>7.977324</td>\n",
       "      <td>-500.255908</td>\n",
       "      <td>14.005551</td>\n",
       "      <td>-599.996129</td>\n",
       "      <td>87.226430</td>\n",
       "      <td>68.347543</td>\n",
       "    </tr>\n",
       "    <tr>\n",
       "      <th>4</th>\n",
       "      <td>2016-01-15 04:00:00</td>\n",
       "      <td>117.988169</td>\n",
       "      <td>11.913613</td>\n",
       "      <td>7.25</td>\n",
       "      <td>1.009869</td>\n",
       "      <td>1601.339707</td>\n",
       "      <td>-498.975456</td>\n",
       "      <td>1601.437854</td>\n",
       "      <td>-500.323246</td>\n",
       "      <td>1599.581894</td>\n",
       "      <td>...</td>\n",
       "      <td>11.953070</td>\n",
       "      <td>-501.053894</td>\n",
       "      <td>9.925709</td>\n",
       "      <td>-501.686727</td>\n",
       "      <td>7.894242</td>\n",
       "      <td>-500.356035</td>\n",
       "      <td>13.996647</td>\n",
       "      <td>-601.496691</td>\n",
       "      <td>86.688794</td>\n",
       "      <td>66.927016</td>\n",
       "    </tr>\n",
       "  </tbody>\n",
       "</table>\n",
       "<p>5 rows × 55 columns</p>\n",
       "</div>"
      ],
      "text/plain": [
       "                  date  primary_cleaner.input.sulfate  \\\n",
       "0  2016-01-15 00:00:00                     127.092003   \n",
       "1  2016-01-15 01:00:00                     125.629232   \n",
       "2  2016-01-15 02:00:00                     123.819808   \n",
       "3  2016-01-15 03:00:00                     122.270188   \n",
       "4  2016-01-15 04:00:00                     117.988169   \n",
       "\n",
       "   primary_cleaner.input.depressant  primary_cleaner.input.feed_size  \\\n",
       "0                         10.128295                             7.25   \n",
       "1                         10.296251                             7.25   \n",
       "2                         11.316280                             7.25   \n",
       "3                         11.322140                             7.25   \n",
       "4                         11.913613                             7.25   \n",
       "\n",
       "   primary_cleaner.input.xanthate  primary_cleaner.state.floatbank8_a_air  \\\n",
       "0                        0.988759                             1549.775757   \n",
       "1                        1.002663                             1576.166671   \n",
       "2                        0.991265                             1601.556163   \n",
       "3                        0.996739                             1599.968720   \n",
       "4                        1.009869                             1601.339707   \n",
       "\n",
       "   primary_cleaner.state.floatbank8_a_level  \\\n",
       "0                               -498.912140   \n",
       "1                               -500.904965   \n",
       "2                               -499.997791   \n",
       "3                               -500.951778   \n",
       "4                               -498.975456   \n",
       "\n",
       "   primary_cleaner.state.floatbank8_b_air  \\\n",
       "0                             1551.434204   \n",
       "1                             1575.950626   \n",
       "2                             1600.386685   \n",
       "3                             1600.659236   \n",
       "4                             1601.437854   \n",
       "\n",
       "   primary_cleaner.state.floatbank8_b_level  \\\n",
       "0                               -516.403442   \n",
       "1                               -499.865889   \n",
       "2                               -500.607762   \n",
       "3                               -499.677094   \n",
       "4                               -500.323246   \n",
       "\n",
       "   primary_cleaner.state.floatbank8_c_air  ...  \\\n",
       "0                             1549.873901  ...   \n",
       "1                             1575.994189  ...   \n",
       "2                             1602.003542  ...   \n",
       "3                             1600.304144  ...   \n",
       "4                             1599.581894  ...   \n",
       "\n",
       "   secondary_cleaner.state.floatbank4_b_air  \\\n",
       "0                                 12.099931   \n",
       "1                                 11.950531   \n",
       "2                                 11.912783   \n",
       "3                                 11.999550   \n",
       "4                                 11.953070   \n",
       "\n",
       "   secondary_cleaner.state.floatbank4_b_level  \\\n",
       "0                                 -504.715942   \n",
       "1                                 -501.331529   \n",
       "2                                 -501.133383   \n",
       "3                                 -501.193686   \n",
       "4                                 -501.053894   \n",
       "\n",
       "   secondary_cleaner.state.floatbank5_a_air  \\\n",
       "0                                  9.925633   \n",
       "1                                 10.039245   \n",
       "2                                 10.070913   \n",
       "3                                  9.970366   \n",
       "4                                  9.925709   \n",
       "\n",
       "   secondary_cleaner.state.floatbank5_a_level  \\\n",
       "0                                 -498.310211   \n",
       "1                                 -500.169983   \n",
       "2                                 -500.129135   \n",
       "3                                 -499.201640   \n",
       "4                                 -501.686727   \n",
       "\n",
       "   secondary_cleaner.state.floatbank5_b_air  \\\n",
       "0                                  8.079666   \n",
       "1                                  7.984757   \n",
       "2                                  8.013877   \n",
       "3                                  7.977324   \n",
       "4                                  7.894242   \n",
       "\n",
       "   secondary_cleaner.state.floatbank5_b_level  \\\n",
       "0                                 -500.470978   \n",
       "1                                 -500.582168   \n",
       "2                                 -500.517572   \n",
       "3                                 -500.255908   \n",
       "4                                 -500.356035   \n",
       "\n",
       "   secondary_cleaner.state.floatbank6_a_air  \\\n",
       "0                                 14.151341   \n",
       "1                                 13.998353   \n",
       "2                                 14.028663   \n",
       "3                                 14.005551   \n",
       "4                                 13.996647   \n",
       "\n",
       "   secondary_cleaner.state.floatbank6_a_level  rougher.output.recovery  \\\n",
       "0                                 -605.841980                87.107763   \n",
       "1                                 -599.787184                86.843261   \n",
       "2                                 -601.427363                86.842308   \n",
       "3                                 -599.996129                87.226430   \n",
       "4                                 -601.496691                86.688794   \n",
       "\n",
       "   final.output.recovery  \n",
       "0              70.541216  \n",
       "1              69.266198  \n",
       "2              68.116445  \n",
       "3              68.347543  \n",
       "4              66.927016  \n",
       "\n",
       "[5 rows x 55 columns]"
      ]
     },
     "execution_count": 29,
     "metadata": {},
     "output_type": "execute_result"
    }
   ],
   "source": [
    "train_df.head()"
   ]
  },
  {
   "cell_type": "code",
   "execution_count": 30,
   "metadata": {},
   "outputs": [],
   "source": [
    "test_df['date'] = pd.to_datetime(test_df['date'], format='%Y-%m-%dT%H:%M:%S')\n",
    "train_df['date'] = pd.to_datetime(train_df['date'], format='%Y-%m-%dT%H:%M:%S')"
   ]
  },
  {
   "cell_type": "code",
   "execution_count": 31,
   "metadata": {
    "scrolled": true
   },
   "outputs": [
    {
     "name": "stdout",
     "output_type": "stream",
     "text": [
      "<class 'pandas.core.frame.DataFrame'>\n",
      "RangeIndex: 5229 entries, 0 to 5228\n",
      "Data columns (total 55 columns):\n",
      " #   Column                                      Non-Null Count  Dtype         \n",
      "---  ------                                      --------------  -----         \n",
      " 0   date                                        5229 non-null   datetime64[ns]\n",
      " 1   primary_cleaner.input.sulfate               5229 non-null   float64       \n",
      " 2   primary_cleaner.input.depressant            5229 non-null   float64       \n",
      " 3   primary_cleaner.input.feed_size             5229 non-null   float64       \n",
      " 4   primary_cleaner.input.xanthate              5229 non-null   float64       \n",
      " 5   primary_cleaner.state.floatbank8_a_air      5229 non-null   float64       \n",
      " 6   primary_cleaner.state.floatbank8_a_level    5229 non-null   float64       \n",
      " 7   primary_cleaner.state.floatbank8_b_air      5229 non-null   float64       \n",
      " 8   primary_cleaner.state.floatbank8_b_level    5229 non-null   float64       \n",
      " 9   primary_cleaner.state.floatbank8_c_air      5229 non-null   float64       \n",
      " 10  primary_cleaner.state.floatbank8_c_level    5229 non-null   float64       \n",
      " 11  primary_cleaner.state.floatbank8_d_air      5229 non-null   float64       \n",
      " 12  primary_cleaner.state.floatbank8_d_level    5229 non-null   float64       \n",
      " 13  rougher.input.feed_ag                       5229 non-null   float64       \n",
      " 14  rougher.input.feed_pb                       5229 non-null   float64       \n",
      " 15  rougher.input.feed_rate                     5229 non-null   float64       \n",
      " 16  rougher.input.feed_size                     5229 non-null   float64       \n",
      " 17  rougher.input.feed_sol                      5229 non-null   float64       \n",
      " 18  rougher.input.feed_au                       5229 non-null   float64       \n",
      " 19  rougher.input.floatbank10_sulfate           5229 non-null   float64       \n",
      " 20  rougher.input.floatbank10_xanthate          5229 non-null   float64       \n",
      " 21  rougher.input.floatbank11_sulfate           5229 non-null   float64       \n",
      " 22  rougher.input.floatbank11_xanthate          5229 non-null   float64       \n",
      " 23  rougher.state.floatbank10_a_air             5229 non-null   float64       \n",
      " 24  rougher.state.floatbank10_a_level           5229 non-null   float64       \n",
      " 25  rougher.state.floatbank10_b_air             5229 non-null   float64       \n",
      " 26  rougher.state.floatbank10_b_level           5229 non-null   float64       \n",
      " 27  rougher.state.floatbank10_c_air             5229 non-null   float64       \n",
      " 28  rougher.state.floatbank10_c_level           5229 non-null   float64       \n",
      " 29  rougher.state.floatbank10_d_air             5229 non-null   float64       \n",
      " 30  rougher.state.floatbank10_d_level           5229 non-null   float64       \n",
      " 31  rougher.state.floatbank10_e_air             5229 non-null   float64       \n",
      " 32  rougher.state.floatbank10_e_level           5229 non-null   float64       \n",
      " 33  rougher.state.floatbank10_f_air             5229 non-null   float64       \n",
      " 34  rougher.state.floatbank10_f_level           5229 non-null   float64       \n",
      " 35  secondary_cleaner.state.floatbank2_a_air    5229 non-null   float64       \n",
      " 36  secondary_cleaner.state.floatbank2_a_level  5229 non-null   float64       \n",
      " 37  secondary_cleaner.state.floatbank2_b_air    5229 non-null   float64       \n",
      " 38  secondary_cleaner.state.floatbank2_b_level  5229 non-null   float64       \n",
      " 39  secondary_cleaner.state.floatbank3_a_air    5229 non-null   float64       \n",
      " 40  secondary_cleaner.state.floatbank3_a_level  5229 non-null   float64       \n",
      " 41  secondary_cleaner.state.floatbank3_b_air    5229 non-null   float64       \n",
      " 42  secondary_cleaner.state.floatbank3_b_level  5229 non-null   float64       \n",
      " 43  secondary_cleaner.state.floatbank4_a_air    5229 non-null   float64       \n",
      " 44  secondary_cleaner.state.floatbank4_a_level  5229 non-null   float64       \n",
      " 45  secondary_cleaner.state.floatbank4_b_air    5229 non-null   float64       \n",
      " 46  secondary_cleaner.state.floatbank4_b_level  5229 non-null   float64       \n",
      " 47  secondary_cleaner.state.floatbank5_a_air    5229 non-null   float64       \n",
      " 48  secondary_cleaner.state.floatbank5_a_level  5229 non-null   float64       \n",
      " 49  secondary_cleaner.state.floatbank5_b_air    5229 non-null   float64       \n",
      " 50  secondary_cleaner.state.floatbank5_b_level  5229 non-null   float64       \n",
      " 51  secondary_cleaner.state.floatbank6_a_air    5229 non-null   float64       \n",
      " 52  secondary_cleaner.state.floatbank6_a_level  5229 non-null   float64       \n",
      " 53  rougher.output.recovery                     5229 non-null   float64       \n",
      " 54  final.output.recovery                       5229 non-null   float64       \n",
      "dtypes: datetime64[ns](1), float64(54)\n",
      "memory usage: 2.2 MB\n"
     ]
    }
   ],
   "source": [
    "test_df.info()"
   ]
  },
  {
   "cell_type": "code",
   "execution_count": 32,
   "metadata": {},
   "outputs": [
    {
     "name": "stdout",
     "output_type": "stream",
     "text": [
      "<class 'pandas.core.frame.DataFrame'>\n",
      "RangeIndex: 12679 entries, 0 to 12678\n",
      "Data columns (total 55 columns):\n",
      " #   Column                                      Non-Null Count  Dtype         \n",
      "---  ------                                      --------------  -----         \n",
      " 0   date                                        12679 non-null  datetime64[ns]\n",
      " 1   primary_cleaner.input.sulfate               12679 non-null  float64       \n",
      " 2   primary_cleaner.input.depressant            12679 non-null  float64       \n",
      " 3   primary_cleaner.input.feed_size             12679 non-null  float64       \n",
      " 4   primary_cleaner.input.xanthate              12679 non-null  float64       \n",
      " 5   primary_cleaner.state.floatbank8_a_air      12679 non-null  float64       \n",
      " 6   primary_cleaner.state.floatbank8_a_level    12679 non-null  float64       \n",
      " 7   primary_cleaner.state.floatbank8_b_air      12679 non-null  float64       \n",
      " 8   primary_cleaner.state.floatbank8_b_level    12679 non-null  float64       \n",
      " 9   primary_cleaner.state.floatbank8_c_air      12679 non-null  float64       \n",
      " 10  primary_cleaner.state.floatbank8_c_level    12679 non-null  float64       \n",
      " 11  primary_cleaner.state.floatbank8_d_air      12679 non-null  float64       \n",
      " 12  primary_cleaner.state.floatbank8_d_level    12679 non-null  float64       \n",
      " 13  rougher.input.feed_ag                       12679 non-null  float64       \n",
      " 14  rougher.input.feed_pb                       12679 non-null  float64       \n",
      " 15  rougher.input.feed_rate                     12679 non-null  float64       \n",
      " 16  rougher.input.feed_size                     12679 non-null  float64       \n",
      " 17  rougher.input.feed_sol                      12679 non-null  float64       \n",
      " 18  rougher.input.feed_au                       12679 non-null  float64       \n",
      " 19  rougher.input.floatbank10_sulfate           12679 non-null  float64       \n",
      " 20  rougher.input.floatbank10_xanthate          12679 non-null  float64       \n",
      " 21  rougher.input.floatbank11_sulfate           12679 non-null  float64       \n",
      " 22  rougher.input.floatbank11_xanthate          12679 non-null  float64       \n",
      " 23  rougher.state.floatbank10_a_air             12679 non-null  float64       \n",
      " 24  rougher.state.floatbank10_a_level           12679 non-null  float64       \n",
      " 25  rougher.state.floatbank10_b_air             12679 non-null  float64       \n",
      " 26  rougher.state.floatbank10_b_level           12679 non-null  float64       \n",
      " 27  rougher.state.floatbank10_c_air             12679 non-null  float64       \n",
      " 28  rougher.state.floatbank10_c_level           12679 non-null  float64       \n",
      " 29  rougher.state.floatbank10_d_air             12679 non-null  float64       \n",
      " 30  rougher.state.floatbank10_d_level           12679 non-null  float64       \n",
      " 31  rougher.state.floatbank10_e_air             12679 non-null  float64       \n",
      " 32  rougher.state.floatbank10_e_level           12679 non-null  float64       \n",
      " 33  rougher.state.floatbank10_f_air             12679 non-null  float64       \n",
      " 34  rougher.state.floatbank10_f_level           12679 non-null  float64       \n",
      " 35  secondary_cleaner.state.floatbank2_a_air    12679 non-null  float64       \n",
      " 36  secondary_cleaner.state.floatbank2_a_level  12679 non-null  float64       \n",
      " 37  secondary_cleaner.state.floatbank2_b_air    12679 non-null  float64       \n",
      " 38  secondary_cleaner.state.floatbank2_b_level  12679 non-null  float64       \n",
      " 39  secondary_cleaner.state.floatbank3_a_air    12679 non-null  float64       \n",
      " 40  secondary_cleaner.state.floatbank3_a_level  12679 non-null  float64       \n",
      " 41  secondary_cleaner.state.floatbank3_b_air    12679 non-null  float64       \n",
      " 42  secondary_cleaner.state.floatbank3_b_level  12679 non-null  float64       \n",
      " 43  secondary_cleaner.state.floatbank4_a_air    12679 non-null  float64       \n",
      " 44  secondary_cleaner.state.floatbank4_a_level  12679 non-null  float64       \n",
      " 45  secondary_cleaner.state.floatbank4_b_air    12679 non-null  float64       \n",
      " 46  secondary_cleaner.state.floatbank4_b_level  12679 non-null  float64       \n",
      " 47  secondary_cleaner.state.floatbank5_a_air    12679 non-null  float64       \n",
      " 48  secondary_cleaner.state.floatbank5_a_level  12679 non-null  float64       \n",
      " 49  secondary_cleaner.state.floatbank5_b_air    12679 non-null  float64       \n",
      " 50  secondary_cleaner.state.floatbank5_b_level  12679 non-null  float64       \n",
      " 51  secondary_cleaner.state.floatbank6_a_air    12679 non-null  float64       \n",
      " 52  secondary_cleaner.state.floatbank6_a_level  12679 non-null  float64       \n",
      " 53  rougher.output.recovery                     12679 non-null  float64       \n",
      " 54  final.output.recovery                       12679 non-null  float64       \n",
      "dtypes: datetime64[ns](1), float64(54)\n",
      "memory usage: 5.3 MB\n"
     ]
    }
   ],
   "source": [
    "train_df.info()"
   ]
  },
  {
   "cell_type": "markdown",
   "metadata": {},
   "source": [
    "In the process of preparing data for analysis:\n",
    "\n",
    "* the calculation of the enrichment efficiency was verified - it turned out to be correct;\n",
    "\n",
    "* the features in the train and test samples were evaluated - targets were added to the test sample, and extra features were removed from the training sample;\n",
    "\n",
    "* omissions were processed, the format of the values of the date column was adjusted to the correct one."
   ]
  },
  {
   "cell_type": "markdown",
   "metadata": {},
   "source": [
    "## Data analysis:"
   ]
  },
  {
   "cell_type": "markdown",
   "metadata": {},
   "source": [
    "### Let's study how the concentration of metals (Au, Ag, Pb) changes at various stages of purification."
   ]
  },
  {
   "cell_type": "markdown",
   "metadata": {},
   "source": [
    "* Au - gold;\n",
    "\n",
    "* Ag - silver;\n",
    "\n",
    "* Pb - lead."
   ]
  },
  {
   "cell_type": "markdown",
   "metadata": {},
   "source": [
    "Possible values for the block[stage]:\n",
    "* rougher \n",
    "* primary_cleaner \n",
    "* secondary_cleaner \n",
    "* final"
   ]
  },
  {
   "cell_type": "markdown",
   "metadata": {},
   "source": [
    "Let's study full_df:"
   ]
  },
  {
   "cell_type": "code",
   "execution_count": 33,
   "metadata": {},
   "outputs": [
    {
     "name": "stdout",
     "output_type": "stream",
     "text": [
      "<class 'pandas.core.frame.DataFrame'>\n",
      "RangeIndex: 19439 entries, 0 to 19438\n",
      "Data columns (total 87 columns):\n",
      " #   Column                                              Non-Null Count  Dtype  \n",
      "---  ------                                              --------------  -----  \n",
      " 0   date                                                19439 non-null  object \n",
      " 1   final.output.concentrate_ag                         19438 non-null  float64\n",
      " 2   final.output.concentrate_pb                         19438 non-null  float64\n",
      " 3   final.output.concentrate_sol                        19228 non-null  float64\n",
      " 4   final.output.concentrate_au                         19439 non-null  float64\n",
      " 5   final.output.recovery                               19439 non-null  float64\n",
      " 6   final.output.tail_ag                                19438 non-null  float64\n",
      " 7   final.output.tail_pb                                19338 non-null  float64\n",
      " 8   final.output.tail_sol                               19433 non-null  float64\n",
      " 9   final.output.tail_au                                19439 non-null  float64\n",
      " 10  primary_cleaner.input.sulfate                       19415 non-null  float64\n",
      " 11  primary_cleaner.input.depressant                    19402 non-null  float64\n",
      " 12  primary_cleaner.input.feed_size                     19439 non-null  float64\n",
      " 13  primary_cleaner.input.xanthate                      19335 non-null  float64\n",
      " 14  primary_cleaner.output.concentrate_ag               19439 non-null  float64\n",
      " 15  primary_cleaner.output.concentrate_pb               19323 non-null  float64\n",
      " 16  primary_cleaner.output.concentrate_sol              19069 non-null  float64\n",
      " 17  primary_cleaner.output.concentrate_au               19439 non-null  float64\n",
      " 18  primary_cleaner.output.tail_ag                      19435 non-null  float64\n",
      " 19  primary_cleaner.output.tail_pb                      19418 non-null  float64\n",
      " 20  primary_cleaner.output.tail_sol                     19377 non-null  float64\n",
      " 21  primary_cleaner.output.tail_au                      19439 non-null  float64\n",
      " 22  primary_cleaner.state.floatbank8_a_air              19435 non-null  float64\n",
      " 23  primary_cleaner.state.floatbank8_a_level            19438 non-null  float64\n",
      " 24  primary_cleaner.state.floatbank8_b_air              19435 non-null  float64\n",
      " 25  primary_cleaner.state.floatbank8_b_level            19438 non-null  float64\n",
      " 26  primary_cleaner.state.floatbank8_c_air              19437 non-null  float64\n",
      " 27  primary_cleaner.state.floatbank8_c_level            19438 non-null  float64\n",
      " 28  primary_cleaner.state.floatbank8_d_air              19436 non-null  float64\n",
      " 29  primary_cleaner.state.floatbank8_d_level            19438 non-null  float64\n",
      " 30  rougher.calculation.sulfate_to_au_concentrate       19437 non-null  float64\n",
      " 31  rougher.calculation.floatbank10_sulfate_to_au_feed  19437 non-null  float64\n",
      " 32  rougher.calculation.floatbank11_sulfate_to_au_feed  19437 non-null  float64\n",
      " 33  rougher.calculation.au_pb_ratio                     19439 non-null  float64\n",
      " 34  rougher.input.feed_ag                               19439 non-null  float64\n",
      " 35  rougher.input.feed_pb                               19339 non-null  float64\n",
      " 36  rougher.input.feed_rate                             19428 non-null  float64\n",
      " 37  rougher.input.feed_size                             19294 non-null  float64\n",
      " 38  rougher.input.feed_sol                              19340 non-null  float64\n",
      " 39  rougher.input.feed_au                               19439 non-null  float64\n",
      " 40  rougher.input.floatbank10_sulfate                   19405 non-null  float64\n",
      " 41  rougher.input.floatbank10_xanthate                  19431 non-null  float64\n",
      " 42  rougher.input.floatbank11_sulfate                   19395 non-null  float64\n",
      " 43  rougher.input.floatbank11_xanthate                  18986 non-null  float64\n",
      " 44  rougher.output.concentrate_ag                       19439 non-null  float64\n",
      " 45  rougher.output.concentrate_pb                       19439 non-null  float64\n",
      " 46  rougher.output.concentrate_sol                      19416 non-null  float64\n",
      " 47  rougher.output.concentrate_au                       19439 non-null  float64\n",
      " 48  rougher.output.recovery                             19439 non-null  float64\n",
      " 49  rougher.output.tail_ag                              19438 non-null  float64\n",
      " 50  rougher.output.tail_pb                              19439 non-null  float64\n",
      " 51  rougher.output.tail_sol                             19439 non-null  float64\n",
      " 52  rougher.output.tail_au                              19439 non-null  float64\n",
      " 53  rougher.state.floatbank10_a_air                     19438 non-null  float64\n",
      " 54  rougher.state.floatbank10_a_level                   19438 non-null  float64\n",
      " 55  rougher.state.floatbank10_b_air                     19438 non-null  float64\n",
      " 56  rougher.state.floatbank10_b_level                   19438 non-null  float64\n",
      " 57  rougher.state.floatbank10_c_air                     19438 non-null  float64\n",
      " 58  rougher.state.floatbank10_c_level                   19438 non-null  float64\n",
      " 59  rougher.state.floatbank10_d_air                     19439 non-null  float64\n",
      " 60  rougher.state.floatbank10_d_level                   19439 non-null  float64\n",
      " 61  rougher.state.floatbank10_e_air                     19003 non-null  float64\n",
      " 62  rougher.state.floatbank10_e_level                   19439 non-null  float64\n",
      " 63  rougher.state.floatbank10_f_air                     19439 non-null  float64\n",
      " 64  rougher.state.floatbank10_f_level                   19439 non-null  float64\n",
      " 65  secondary_cleaner.output.tail_ag                    19437 non-null  float64\n",
      " 66  secondary_cleaner.output.tail_pb                    19427 non-null  float64\n",
      " 67  secondary_cleaner.output.tail_sol                   17691 non-null  float64\n",
      " 68  secondary_cleaner.output.tail_au                    19439 non-null  float64\n",
      " 69  secondary_cleaner.state.floatbank2_a_air            19219 non-null  float64\n",
      " 70  secondary_cleaner.state.floatbank2_a_level          19438 non-null  float64\n",
      " 71  secondary_cleaner.state.floatbank2_b_air            19416 non-null  float64\n",
      " 72  secondary_cleaner.state.floatbank2_b_level          19438 non-null  float64\n",
      " 73  secondary_cleaner.state.floatbank3_a_air            19426 non-null  float64\n",
      " 74  secondary_cleaner.state.floatbank3_a_level          19438 non-null  float64\n",
      " 75  secondary_cleaner.state.floatbank3_b_air            19438 non-null  float64\n",
      " 76  secondary_cleaner.state.floatbank3_b_level          19438 non-null  float64\n",
      " 77  secondary_cleaner.state.floatbank4_a_air            19433 non-null  float64\n",
      " 78  secondary_cleaner.state.floatbank4_a_level          19438 non-null  float64\n",
      " 79  secondary_cleaner.state.floatbank4_b_air            19438 non-null  float64\n",
      " 80  secondary_cleaner.state.floatbank4_b_level          19438 non-null  float64\n",
      " 81  secondary_cleaner.state.floatbank5_a_air            19438 non-null  float64\n",
      " 82  secondary_cleaner.state.floatbank5_a_level          19438 non-null  float64\n",
      " 83  secondary_cleaner.state.floatbank5_b_air            19438 non-null  float64\n",
      " 84  secondary_cleaner.state.floatbank5_b_level          19438 non-null  float64\n",
      " 85  secondary_cleaner.state.floatbank6_a_air            19437 non-null  float64\n",
      " 86  secondary_cleaner.state.floatbank6_a_level          19438 non-null  float64\n",
      "dtypes: float64(86), object(1)\n",
      "memory usage: 12.9+ MB\n"
     ]
    }
   ],
   "source": [
    "full_df.info()"
   ]
  },
  {
   "cell_type": "code",
   "execution_count": 34,
   "metadata": {},
   "outputs": [],
   "source": [
    "metals = ['au', 'ag', 'pb']"
   ]
  },
  {
   "cell_type": "code",
   "execution_count": 35,
   "metadata": {},
   "outputs": [
    {
     "data": {
      "text/plain": [
       "['final.output.concentrate_ag',\n",
       " 'final.output.concentrate_pb',\n",
       " 'final.output.concentrate_au',\n",
       " 'final.output.tail_ag',\n",
       " 'final.output.tail_pb',\n",
       " 'final.output.tail_au',\n",
       " 'primary_cleaner.output.concentrate_ag',\n",
       " 'primary_cleaner.output.concentrate_pb',\n",
       " 'primary_cleaner.output.concentrate_au',\n",
       " 'primary_cleaner.output.tail_ag',\n",
       " 'primary_cleaner.output.tail_pb',\n",
       " 'primary_cleaner.output.tail_au',\n",
       " 'rougher.calculation.sulfate_to_au_concentrate',\n",
       " 'rougher.calculation.floatbank10_sulfate_to_au_feed',\n",
       " 'rougher.calculation.floatbank11_sulfate_to_au_feed',\n",
       " 'rougher.calculation.au_pb_ratio',\n",
       " 'rougher.input.feed_ag',\n",
       " 'rougher.input.feed_pb',\n",
       " 'rougher.input.feed_au',\n",
       " 'rougher.output.concentrate_ag',\n",
       " 'rougher.output.concentrate_pb',\n",
       " 'rougher.output.concentrate_au',\n",
       " 'rougher.output.tail_ag',\n",
       " 'rougher.output.tail_pb',\n",
       " 'rougher.output.tail_au',\n",
       " 'secondary_cleaner.output.tail_ag',\n",
       " 'secondary_cleaner.output.tail_pb',\n",
       " 'secondary_cleaner.output.tail_au']"
      ]
     },
     "execution_count": 35,
     "metadata": {},
     "output_type": "execute_result"
    }
   ],
   "source": [
    "# columns with metalls:\n",
    "metals_columns = []\n",
    "for col in list(full_df.columns):\n",
    "    for Me in metals:\n",
    "        if Me in col.split('_'):\n",
    "            metals_columns.append(col)\n",
    "\n",
    "metals_columns"
   ]
  },
  {
   "cell_type": "code",
   "execution_count": 36,
   "metadata": {},
   "outputs": [
    {
     "data": {
      "text/plain": [
       "['final.output.concentrate_ag',\n",
       " 'final.output.concentrate_pb',\n",
       " 'final.output.concentrate_au',\n",
       " 'primary_cleaner.output.concentrate_ag',\n",
       " 'primary_cleaner.output.concentrate_pb',\n",
       " 'primary_cleaner.output.concentrate_au',\n",
       " 'primary_cleaner.output.tail_ag',\n",
       " 'primary_cleaner.output.tail_pb',\n",
       " 'primary_cleaner.output.tail_au',\n",
       " 'rougher.calculation.sulfate_to_au_concentrate',\n",
       " 'rougher.calculation.floatbank10_sulfate_to_au_feed',\n",
       " 'rougher.calculation.floatbank11_sulfate_to_au_feed',\n",
       " 'rougher.calculation.au_pb_ratio',\n",
       " 'rougher.input.feed_ag',\n",
       " 'rougher.input.feed_pb',\n",
       " 'rougher.input.feed_au',\n",
       " 'rougher.output.concentrate_ag',\n",
       " 'rougher.output.concentrate_pb',\n",
       " 'rougher.output.concentrate_au',\n",
       " 'rougher.output.tail_ag',\n",
       " 'rougher.output.tail_pb',\n",
       " 'rougher.output.tail_au',\n",
       " 'secondary_cleaner.output.tail_ag',\n",
       " 'secondary_cleaner.output.tail_pb',\n",
       " 'secondary_cleaner.output.tail_au']"
      ]
     },
     "execution_count": 36,
     "metadata": {},
     "output_type": "execute_result"
    }
   ],
   "source": [
    "del metals_columns[3:6]\n",
    "metals_columns"
   ]
  },
  {
   "cell_type": "code",
   "execution_count": 37,
   "metadata": {},
   "outputs": [
    {
     "data": {
      "text/plain": [
       "['final.output.concentrate_ag',\n",
       " 'final.output.concentrate_pb',\n",
       " 'final.output.concentrate_au',\n",
       " 'primary_cleaner.output.concentrate_ag',\n",
       " 'primary_cleaner.output.concentrate_pb',\n",
       " 'primary_cleaner.output.concentrate_au',\n",
       " 'rougher.output.concentrate_ag',\n",
       " 'rougher.output.concentrate_pb',\n",
       " 'rougher.output.concentrate_au',\n",
       " 'rougher.output.tail_ag',\n",
       " 'rougher.output.tail_pb',\n",
       " 'rougher.output.tail_au',\n",
       " 'secondary_cleaner.output.tail_ag',\n",
       " 'secondary_cleaner.output.tail_pb',\n",
       " 'secondary_cleaner.output.tail_au']"
      ]
     },
     "execution_count": 37,
     "metadata": {},
     "output_type": "execute_result"
    }
   ],
   "source": [
    "del metals_columns[6:16]\n",
    "metals_columns"
   ]
  },
  {
   "cell_type": "code",
   "execution_count": 38,
   "metadata": {
    "scrolled": true
   },
   "outputs": [
    {
     "data": {
      "text/plain": [
       "['final.output.concentrate_ag',\n",
       " 'final.output.concentrate_pb',\n",
       " 'final.output.concentrate_au',\n",
       " 'primary_cleaner.output.concentrate_ag',\n",
       " 'primary_cleaner.output.concentrate_pb',\n",
       " 'primary_cleaner.output.concentrate_au',\n",
       " 'rougher.output.concentrate_ag',\n",
       " 'rougher.output.concentrate_pb',\n",
       " 'rougher.output.concentrate_au']"
      ]
     },
     "execution_count": 38,
     "metadata": {},
     "output_type": "execute_result"
    }
   ],
   "source": [
    "del metals_columns[9:]\n",
    "metals_columns"
   ]
  },
  {
   "cell_type": "code",
   "execution_count": 39,
   "metadata": {
    "scrolled": false
   },
   "outputs": [
    {
     "data": {
      "text/plain": [
       "['final.output.concentrate_ag',\n",
       " 'final.output.concentrate_pb',\n",
       " 'final.output.concentrate_au',\n",
       " 'primary_cleaner.output.concentrate_ag',\n",
       " 'primary_cleaner.output.concentrate_pb',\n",
       " 'primary_cleaner.output.concentrate_au',\n",
       " 'rougher.output.concentrate_ag',\n",
       " 'rougher.output.concentrate_pb',\n",
       " 'rougher.output.concentrate_au']"
      ]
     },
     "execution_count": 39,
     "metadata": {},
     "output_type": "execute_result"
    }
   ],
   "source": [
    "met_col_con = metals_columns\n",
    "met_col_con"
   ]
  },
  {
   "cell_type": "code",
   "execution_count": 40,
   "metadata": {},
   "outputs": [],
   "source": [
    "au, ag, pb = [list(filter(lambda col: m in col, met_col_con))[::-1] for m in metals]"
   ]
  },
  {
   "cell_type": "code",
   "execution_count": 41,
   "metadata": {},
   "outputs": [
    {
     "data": {
      "text/plain": [
       "['rougher', 'primary_cleaner', 'final']"
      ]
     },
     "execution_count": 41,
     "metadata": {},
     "output_type": "execute_result"
    }
   ],
   "source": [
    "stages = sorted(list(set([col[:col.index('.')] for col in met_col_con])), reverse=True)\n",
    "stages"
   ]
  },
  {
   "cell_type": "code",
   "execution_count": 42,
   "metadata": {
    "scrolled": true
   },
   "outputs": [
    {
     "data": {
      "text/html": [
       "<div>\n",
       "<style scoped>\n",
       "    .dataframe tbody tr th:only-of-type {\n",
       "        vertical-align: middle;\n",
       "    }\n",
       "\n",
       "    .dataframe tbody tr th {\n",
       "        vertical-align: top;\n",
       "    }\n",
       "\n",
       "    .dataframe thead th {\n",
       "        text-align: right;\n",
       "    }\n",
       "</style>\n",
       "<table border=\"1\" class=\"dataframe\">\n",
       "  <thead>\n",
       "    <tr style=\"text-align: right;\">\n",
       "      <th></th>\n",
       "      <th>au</th>\n",
       "      <th>ag</th>\n",
       "      <th>pb</th>\n",
       "    </tr>\n",
       "  </thead>\n",
       "  <tbody>\n",
       "    <tr>\n",
       "      <th>rougher</th>\n",
       "      <td>19.772000</td>\n",
       "      <td>11.994759</td>\n",
       "      <td>7.606272</td>\n",
       "    </tr>\n",
       "    <tr>\n",
       "      <th>primary_cleaner</th>\n",
       "      <td>32.119400</td>\n",
       "      <td>8.442408</td>\n",
       "      <td>9.829530</td>\n",
       "    </tr>\n",
       "    <tr>\n",
       "      <th>final</th>\n",
       "      <td>44.076513</td>\n",
       "      <td>5.168470</td>\n",
       "      <td>9.978895</td>\n",
       "    </tr>\n",
       "  </tbody>\n",
       "</table>\n",
       "</div>"
      ],
      "text/plain": [
       "                        au         ag        pb\n",
       "rougher          19.772000  11.994759  7.606272\n",
       "primary_cleaner  32.119400   8.442408  9.829530\n",
       "final            44.076513   5.168470  9.978895"
      ]
     },
     "execution_count": 42,
     "metadata": {},
     "output_type": "execute_result"
    }
   ],
   "source": [
    "mconc_df = pd.DataFrame(zip(au, ag, pb), index=stages, columns=metals).applymap(lambda x: full_df[x].mean())\n",
    "mconc_df"
   ]
  },
  {
   "cell_type": "markdown",
   "metadata": {},
   "source": [
    "During processing, the concentration of gold and lead increases, and silver decreases."
   ]
  },
  {
   "cell_type": "markdown",
   "metadata": {},
   "source": [
    "### Let's compare the size distributions of raw material feeds in the training and test samples.\n",
    "If the distributions are very different from each other, the model estimate will be incorrect."
   ]
  },
  {
   "cell_type": "code",
   "execution_count": 43,
   "metadata": {},
   "outputs": [
    {
     "name": "stdout",
     "output_type": "stream",
     "text": [
      "<class 'pandas.core.frame.DataFrame'>\n",
      "RangeIndex: 12679 entries, 0 to 12678\n",
      "Data columns (total 55 columns):\n",
      " #   Column                                      Non-Null Count  Dtype         \n",
      "---  ------                                      --------------  -----         \n",
      " 0   date                                        12679 non-null  datetime64[ns]\n",
      " 1   primary_cleaner.input.sulfate               12679 non-null  float64       \n",
      " 2   primary_cleaner.input.depressant            12679 non-null  float64       \n",
      " 3   primary_cleaner.input.feed_size             12679 non-null  float64       \n",
      " 4   primary_cleaner.input.xanthate              12679 non-null  float64       \n",
      " 5   primary_cleaner.state.floatbank8_a_air      12679 non-null  float64       \n",
      " 6   primary_cleaner.state.floatbank8_a_level    12679 non-null  float64       \n",
      " 7   primary_cleaner.state.floatbank8_b_air      12679 non-null  float64       \n",
      " 8   primary_cleaner.state.floatbank8_b_level    12679 non-null  float64       \n",
      " 9   primary_cleaner.state.floatbank8_c_air      12679 non-null  float64       \n",
      " 10  primary_cleaner.state.floatbank8_c_level    12679 non-null  float64       \n",
      " 11  primary_cleaner.state.floatbank8_d_air      12679 non-null  float64       \n",
      " 12  primary_cleaner.state.floatbank8_d_level    12679 non-null  float64       \n",
      " 13  rougher.input.feed_ag                       12679 non-null  float64       \n",
      " 14  rougher.input.feed_pb                       12679 non-null  float64       \n",
      " 15  rougher.input.feed_rate                     12679 non-null  float64       \n",
      " 16  rougher.input.feed_size                     12679 non-null  float64       \n",
      " 17  rougher.input.feed_sol                      12679 non-null  float64       \n",
      " 18  rougher.input.feed_au                       12679 non-null  float64       \n",
      " 19  rougher.input.floatbank10_sulfate           12679 non-null  float64       \n",
      " 20  rougher.input.floatbank10_xanthate          12679 non-null  float64       \n",
      " 21  rougher.input.floatbank11_sulfate           12679 non-null  float64       \n",
      " 22  rougher.input.floatbank11_xanthate          12679 non-null  float64       \n",
      " 23  rougher.state.floatbank10_a_air             12679 non-null  float64       \n",
      " 24  rougher.state.floatbank10_a_level           12679 non-null  float64       \n",
      " 25  rougher.state.floatbank10_b_air             12679 non-null  float64       \n",
      " 26  rougher.state.floatbank10_b_level           12679 non-null  float64       \n",
      " 27  rougher.state.floatbank10_c_air             12679 non-null  float64       \n",
      " 28  rougher.state.floatbank10_c_level           12679 non-null  float64       \n",
      " 29  rougher.state.floatbank10_d_air             12679 non-null  float64       \n",
      " 30  rougher.state.floatbank10_d_level           12679 non-null  float64       \n",
      " 31  rougher.state.floatbank10_e_air             12679 non-null  float64       \n",
      " 32  rougher.state.floatbank10_e_level           12679 non-null  float64       \n",
      " 33  rougher.state.floatbank10_f_air             12679 non-null  float64       \n",
      " 34  rougher.state.floatbank10_f_level           12679 non-null  float64       \n",
      " 35  secondary_cleaner.state.floatbank2_a_air    12679 non-null  float64       \n",
      " 36  secondary_cleaner.state.floatbank2_a_level  12679 non-null  float64       \n",
      " 37  secondary_cleaner.state.floatbank2_b_air    12679 non-null  float64       \n",
      " 38  secondary_cleaner.state.floatbank2_b_level  12679 non-null  float64       \n",
      " 39  secondary_cleaner.state.floatbank3_a_air    12679 non-null  float64       \n",
      " 40  secondary_cleaner.state.floatbank3_a_level  12679 non-null  float64       \n",
      " 41  secondary_cleaner.state.floatbank3_b_air    12679 non-null  float64       \n",
      " 42  secondary_cleaner.state.floatbank3_b_level  12679 non-null  float64       \n",
      " 43  secondary_cleaner.state.floatbank4_a_air    12679 non-null  float64       \n",
      " 44  secondary_cleaner.state.floatbank4_a_level  12679 non-null  float64       \n",
      " 45  secondary_cleaner.state.floatbank4_b_air    12679 non-null  float64       \n",
      " 46  secondary_cleaner.state.floatbank4_b_level  12679 non-null  float64       \n",
      " 47  secondary_cleaner.state.floatbank5_a_air    12679 non-null  float64       \n",
      " 48  secondary_cleaner.state.floatbank5_a_level  12679 non-null  float64       \n",
      " 49  secondary_cleaner.state.floatbank5_b_air    12679 non-null  float64       \n",
      " 50  secondary_cleaner.state.floatbank5_b_level  12679 non-null  float64       \n",
      " 51  secondary_cleaner.state.floatbank6_a_air    12679 non-null  float64       \n",
      " 52  secondary_cleaner.state.floatbank6_a_level  12679 non-null  float64       \n",
      " 53  rougher.output.recovery                     12679 non-null  float64       \n",
      " 54  final.output.recovery                       12679 non-null  float64       \n",
      "dtypes: datetime64[ns](1), float64(54)\n",
      "memory usage: 5.3 MB\n"
     ]
    }
   ],
   "source": [
    "train_df.info()"
   ]
  },
  {
   "cell_type": "code",
   "execution_count": 44,
   "metadata": {},
   "outputs": [
    {
     "name": "stderr",
     "output_type": "stream",
     "text": [
      "/opt/anaconda3/lib/python3.9/site-packages/seaborn/distributions.py:2619: FutureWarning: `distplot` is a deprecated function and will be removed in a future version. Please adapt your code to use either `displot` (a figure-level function with similar flexibility) or `histplot` (an axes-level function for histograms).\n",
      "  warnings.warn(msg, FutureWarning)\n",
      "/opt/anaconda3/lib/python3.9/site-packages/seaborn/distributions.py:2619: FutureWarning: `distplot` is a deprecated function and will be removed in a future version. Please adapt your code to use either `displot` (a figure-level function with similar flexibility) or `histplot` (an axes-level function for histograms).\n",
      "  warnings.warn(msg, FutureWarning)\n"
     ]
    },
    {
     "data": {
      "image/png": "[encoded data removed]",
      "text/plain": [
       "<Figure size 864x360 with 1 Axes>"
      ]
     },
     "metadata": {},
     "output_type": "display_data"
    }
   ],
   "source": [
    "sb.set(rc={'figure.figsize':(12,5)})\n",
    "sb.distplot(train_df['rougher.input.feed_size'], bins=100, hist = True, kde = True, label='Training sample')\n",
    "sb.distplot(test_df['rougher.input.feed_size'], bins=100, hist = True, kde = True, label='Test sample')\n",
    "plt.legend()\n",
    "plt.title('Feed size before processing')\n",
    "plt.show()"
   ]
  },
  {
   "cell_type": "code",
   "execution_count": 45,
   "metadata": {},
   "outputs": [
    {
     "name": "stderr",
     "output_type": "stream",
     "text": [
      "/opt/anaconda3/lib/python3.9/site-packages/seaborn/distributions.py:2619: FutureWarning: `distplot` is a deprecated function and will be removed in a future version. Please adapt your code to use either `displot` (a figure-level function with similar flexibility) or `histplot` (an axes-level function for histograms).\n",
      "  warnings.warn(msg, FutureWarning)\n",
      "/opt/anaconda3/lib/python3.9/site-packages/seaborn/distributions.py:2619: FutureWarning: `distplot` is a deprecated function and will be removed in a future version. Please adapt your code to use either `displot` (a figure-level function with similar flexibility) or `histplot` (an axes-level function for histograms).\n",
      "  warnings.warn(msg, FutureWarning)\n"
     ]
    },
    {
     "data": {
      "image/png": "[encoded data removed]",
      "text/plain": [
       "<Figure size 864x360 with 1 Axes>"
      ]
     },
     "metadata": {},
     "output_type": "display_data"
    }
   ],
   "source": [
    "sb.set(rc={'figure.figsize':(12,5)})\n",
    "sb.distplot(train_df['primary_cleaner.input.feed_size'], bins=100,hist = True, kde=True, label='Training sample')\n",
    "sb.distplot(test_df['primary_cleaner.input.feed_size'], bins=100, hist = True, kde=True, label='Test sample')\n",
    "plt.legend()\n",
    "plt.title('Feed size after primary cleaning')\n",
    "plt.show()"
   ]
  },
  {
   "cell_type": "markdown",
   "metadata": {},
   "source": [
    "The distribution of features on both graphs is normal and coincides with each other on the training and test samples."
   ]
  },
  {
   "cell_type": "markdown",
   "metadata": {},
   "source": [
    "### Study the total concentration of all substances at different stages: in raw materials, in rough and final concentrates:"
   ]
  },
  {
   "cell_type": "markdown",
   "metadata": {},
   "source": [
    "Let 's determine which features belong to the stages: raw materials, raw materials and final concentrate."
   ]
  },
  {
   "cell_type": "code",
   "execution_count": 46,
   "metadata": {},
   "outputs": [],
   "source": [
    "rougher_input_stage = ['rougher.input.feed_ag', 'rougher.input.feed_au', 'rougher.input.feed_pb', 'rougher.input.feed_sol']\n",
    "rougher_output_stage = ['rougher.output.concentrate_ag', 'rougher.output.concentrate_au', 'rougher.output.concentrate_pb', 'rougher.output.concentrate_sol']\n",
    "final_stage = ['final.output.concentrate_ag', 'final.output.concentrate_au', 'final.output.concentrate_pb', 'final.output.concentrate_sol']"
   ]
  },
  {
   "cell_type": "code",
   "execution_count": 47,
   "metadata": {},
   "outputs": [
    {
     "data": {
      "text/plain": [
       "(['rougher.input.feed_ag',\n",
       "  'rougher.input.feed_au',\n",
       "  'rougher.input.feed_pb',\n",
       "  'rougher.input.feed_sol'],\n",
       " ['rougher.output.concentrate_ag',\n",
       "  'rougher.output.concentrate_au',\n",
       "  'rougher.output.concentrate_pb',\n",
       "  'rougher.output.concentrate_sol'],\n",
       " ['final.output.concentrate_ag',\n",
       "  'final.output.concentrate_au',\n",
       "  'final.output.concentrate_pb',\n",
       "  'final.output.concentrate_sol'])"
      ]
     },
     "execution_count": 47,
     "metadata": {},
     "output_type": "execute_result"
    }
   ],
   "source": [
    "result_cols = rougher_input_stage, rougher_output_stage, final_stage\n",
    "result_cols"
   ]
  },
  {
   "cell_type": "code",
   "execution_count": 48,
   "metadata": {},
   "outputs": [],
   "source": [
    "# use the zip iterator through the for loop\n",
    "for cols, result in zip(result_cols,\n",
    "                        ['rougher_input_stage', 'rougher_output_stage', 'final_stage']):\n",
    "    # Setting the value for the entire column = the sum of the corresponding columns\n",
    "    full_df.loc[:, result] = sum(full_df[col] for col in cols)"
   ]
  },
  {
   "cell_type": "code",
   "execution_count": 49,
   "metadata": {},
   "outputs": [
    {
     "data": {
      "text/html": [
       "<div>\n",
       "<style scoped>\n",
       "    .dataframe tbody tr th:only-of-type {\n",
       "        vertical-align: middle;\n",
       "    }\n",
       "\n",
       "    .dataframe tbody tr th {\n",
       "        vertical-align: top;\n",
       "    }\n",
       "\n",
       "    .dataframe thead th {\n",
       "        text-align: right;\n",
       "    }\n",
       "</style>\n",
       "<table border=\"1\" class=\"dataframe\">\n",
       "  <thead>\n",
       "    <tr style=\"text-align: right;\">\n",
       "      <th></th>\n",
       "      <th>rougher_input_stage</th>\n",
       "      <th>rougher_output_stage</th>\n",
       "      <th>final_stage</th>\n",
       "    </tr>\n",
       "  </thead>\n",
       "  <tbody>\n",
       "    <tr>\n",
       "      <th>0</th>\n",
       "      <td>51.680034</td>\n",
       "      <td>66.424950</td>\n",
       "      <td>63.644396</td>\n",
       "    </tr>\n",
       "    <tr>\n",
       "      <th>1</th>\n",
       "      <td>50.659114</td>\n",
       "      <td>67.012710</td>\n",
       "      <td>63.957723</td>\n",
       "    </tr>\n",
       "    <tr>\n",
       "      <th>2</th>\n",
       "      <td>50.609929</td>\n",
       "      <td>66.103793</td>\n",
       "      <td>64.311180</td>\n",
       "    </tr>\n",
       "    <tr>\n",
       "      <th>3</th>\n",
       "      <td>51.061546</td>\n",
       "      <td>65.752751</td>\n",
       "      <td>63.573449</td>\n",
       "    </tr>\n",
       "    <tr>\n",
       "      <th>4</th>\n",
       "      <td>47.859163</td>\n",
       "      <td>65.908382</td>\n",
       "      <td>64.004667</td>\n",
       "    </tr>\n",
       "  </tbody>\n",
       "</table>\n",
       "</div>"
      ],
      "text/plain": [
       "   rougher_input_stage  rougher_output_stage  final_stage\n",
       "0            51.680034             66.424950    63.644396\n",
       "1            50.659114             67.012710    63.957723\n",
       "2            50.609929             66.103793    64.311180\n",
       "3            51.061546             65.752751    63.573449\n",
       "4            47.859163             65.908382    64.004667"
      ]
     },
     "execution_count": 49,
     "metadata": {},
     "output_type": "execute_result"
    }
   ],
   "source": [
    "total_conc = full_df.iloc[:, -3:]\n",
    "total_conc.head()"
   ]
  },
  {
   "cell_type": "code",
   "execution_count": 50,
   "metadata": {
    "scrolled": true
   },
   "outputs": [
    {
     "name": "stderr",
     "output_type": "stream",
     "text": [
      "/opt/anaconda3/lib/python3.9/site-packages/seaborn/distributions.py:2619: FutureWarning: `distplot` is a deprecated function and will be removed in a future version. Please adapt your code to use either `displot` (a figure-level function with similar flexibility) or `histplot` (an axes-level function for histograms).\n",
      "  warnings.warn(msg, FutureWarning)\n",
      "/opt/anaconda3/lib/python3.9/site-packages/seaborn/distributions.py:2619: FutureWarning: `distplot` is a deprecated function and will be removed in a future version. Please adapt your code to use either `displot` (a figure-level function with similar flexibility) or `histplot` (an axes-level function for histograms).\n",
      "  warnings.warn(msg, FutureWarning)\n",
      "/opt/anaconda3/lib/python3.9/site-packages/seaborn/distributions.py:2619: FutureWarning: `distplot` is a deprecated function and will be removed in a future version. Please adapt your code to use either `displot` (a figure-level function with similar flexibility) or `histplot` (an axes-level function for histograms).\n",
      "  warnings.warn(msg, FutureWarning)\n"
     ]
    },
    {
     "data": {
      "image/png": "[encoded data removed]",
      "text/plain": [
       "<Figure size 864x360 with 1 Axes>"
      ]
     },
     "metadata": {},
     "output_type": "display_data"
    }
   ],
   "source": [
    "for col, l in zip(total_conc.columns,['Raw material', 'Rough concentrate', 'Final concentrate']):\n",
    "    sb.distplot(total_conc[col], label=l)\n",
    "    plt.xlim(-10, 140)\n",
    "    plt.title('The total concentration of all substances at different stages')"
   ]
  },
  {
   "cell_type": "markdown",
   "metadata": {},
   "source": [
    "The graph shows that there are outliers in the total sample, this may indicate the presence of incorrect values in the test and training samples. Therefore, we need to process these outliers and, if possible, eliminate the corresponding data from the test and training samples so that this does not affect the quality of the model."
   ]
  },
  {
   "cell_type": "code",
   "execution_count": 51,
   "metadata": {
    "scrolled": true
   },
   "outputs": [
    {
     "name": "stdout",
     "output_type": "stream",
     "text": [
      "<class 'pandas.core.frame.DataFrame'>\n",
      "RangeIndex: 19439 entries, 0 to 19438\n",
      "Data columns (total 3 columns):\n",
      " #   Column                Non-Null Count  Dtype  \n",
      "---  ------                --------------  -----  \n",
      " 0   rougher_input_stage   19245 non-null  float64\n",
      " 1   rougher_output_stage  19416 non-null  float64\n",
      " 2   final_stage           19227 non-null  float64\n",
      "dtypes: float64(3)\n",
      "memory usage: 455.7 KB\n"
     ]
    }
   ],
   "source": [
    "total_conc.info()"
   ]
  },
  {
   "cell_type": "code",
   "execution_count": 52,
   "metadata": {
    "scrolled": true
   },
   "outputs": [
    {
     "data": {
      "text/html": [
       "<div>\n",
       "<style scoped>\n",
       "    .dataframe tbody tr th:only-of-type {\n",
       "        vertical-align: middle;\n",
       "    }\n",
       "\n",
       "    .dataframe tbody tr th {\n",
       "        vertical-align: top;\n",
       "    }\n",
       "\n",
       "    .dataframe thead th {\n",
       "        text-align: right;\n",
       "    }\n",
       "</style>\n",
       "<table border=\"1\" class=\"dataframe\">\n",
       "  <thead>\n",
       "    <tr style=\"text-align: right;\">\n",
       "      <th></th>\n",
       "      <th>rougher_input_stage</th>\n",
       "      <th>rougher_output_stage</th>\n",
       "      <th>final_stage</th>\n",
       "    </tr>\n",
       "  </thead>\n",
       "  <tbody>\n",
       "    <tr>\n",
       "      <th>count</th>\n",
       "      <td>19245.000000</td>\n",
       "      <td>19416.000000</td>\n",
       "      <td>19227.000000</td>\n",
       "    </tr>\n",
       "    <tr>\n",
       "      <th>mean</th>\n",
       "      <td>57.407926</td>\n",
       "      <td>68.188914</td>\n",
       "      <td>68.727562</td>\n",
       "    </tr>\n",
       "    <tr>\n",
       "      <th>std</th>\n",
       "      <td>7.165219</td>\n",
       "      <td>12.478522</td>\n",
       "      <td>7.423741</td>\n",
       "    </tr>\n",
       "    <tr>\n",
       "      <th>min</th>\n",
       "      <td>0.040000</td>\n",
       "      <td>0.000000</td>\n",
       "      <td>0.000000</td>\n",
       "    </tr>\n",
       "    <tr>\n",
       "      <th>25%</th>\n",
       "      <td>53.660745</td>\n",
       "      <td>66.026048</td>\n",
       "      <td>67.985659</td>\n",
       "    </tr>\n",
       "    <tr>\n",
       "      <th>50%</th>\n",
       "      <td>57.647093</td>\n",
       "      <td>70.186130</td>\n",
       "      <td>69.632597</td>\n",
       "    </tr>\n",
       "    <tr>\n",
       "      <th>75%</th>\n",
       "      <td>62.012223</td>\n",
       "      <td>74.362878</td>\n",
       "      <td>71.390461</td>\n",
       "    </tr>\n",
       "    <tr>\n",
       "      <th>max</th>\n",
       "      <td>76.978947</td>\n",
       "      <td>88.140119</td>\n",
       "      <td>80.210644</td>\n",
       "    </tr>\n",
       "  </tbody>\n",
       "</table>\n",
       "</div>"
      ],
      "text/plain": [
       "       rougher_input_stage  rougher_output_stage   final_stage\n",
       "count         19245.000000          19416.000000  19227.000000\n",
       "mean             57.407926             68.188914     68.727562\n",
       "std               7.165219             12.478522      7.423741\n",
       "min               0.040000              0.000000      0.000000\n",
       "25%              53.660745             66.026048     67.985659\n",
       "50%              57.647093             70.186130     69.632597\n",
       "75%              62.012223             74.362878     71.390461\n",
       "max              76.978947             88.140119     80.210644"
      ]
     },
     "execution_count": 52,
     "metadata": {},
     "output_type": "execute_result"
    }
   ],
   "source": [
    "total_conc.describe()"
   ]
  },
  {
   "cell_type": "code",
   "execution_count": 53,
   "metadata": {},
   "outputs": [],
   "source": [
    "clean_total_conc = total_conc.query('rougher_input_stage > 10')\n",
    "clean_total_conc = clean_total_conc.query('rougher_output_stage > 10')\n",
    "clean_total_conc = clean_total_conc.query('final_stage > 10')"
   ]
  },
  {
   "cell_type": "code",
   "execution_count": 54,
   "metadata": {
    "scrolled": true
   },
   "outputs": [
    {
     "name": "stderr",
     "output_type": "stream",
     "text": [
      "/opt/anaconda3/lib/python3.9/site-packages/seaborn/distributions.py:2619: FutureWarning: `distplot` is a deprecated function and will be removed in a future version. Please adapt your code to use either `displot` (a figure-level function with similar flexibility) or `histplot` (an axes-level function for histograms).\n",
      "  warnings.warn(msg, FutureWarning)\n",
      "/opt/anaconda3/lib/python3.9/site-packages/seaborn/distributions.py:2619: FutureWarning: `distplot` is a deprecated function and will be removed in a future version. Please adapt your code to use either `displot` (a figure-level function with similar flexibility) or `histplot` (an axes-level function for histograms).\n",
      "  warnings.warn(msg, FutureWarning)\n",
      "/opt/anaconda3/lib/python3.9/site-packages/seaborn/distributions.py:2619: FutureWarning: `distplot` is a deprecated function and will be removed in a future version. Please adapt your code to use either `displot` (a figure-level function with similar flexibility) or `histplot` (an axes-level function for histograms).\n",
      "  warnings.warn(msg, FutureWarning)\n"
     ]
    },
    {
     "data": {
      "image/png": "[encoded data removed]",
      "text/plain": [
       "<Figure size 864x360 with 1 Axes>"
      ]
     },
     "metadata": {},
     "output_type": "display_data"
    }
   ],
   "source": [
    "for col, l in zip(clean_total_conc.columns,['Raw material', 'Rough concentrate', 'Final concentrate']):\n",
    "    sb.distplot(clean_total_conc[col], label=l)\n",
    "    plt.xlim(-10, 140)\n",
    "    plt.title('The total concentration of all substances at different stages')"
   ]
  },
  {
   "cell_type": "code",
   "execution_count": 55,
   "metadata": {},
   "outputs": [],
   "source": [
    "# Let's remove data with anomalies from the training sample\n",
    "train_clean = train_df[train_df.index.isin(clean_total_conc.index)]\n",
    "# Let's remove data with anomalies from the test sample\n",
    "test_clean = test_df[test_df.index.isin(clean_total_conc.index)]"
   ]
  },
  {
   "cell_type": "code",
   "execution_count": 56,
   "metadata": {},
   "outputs": [
    {
     "data": {
      "text/plain": [
       "(12067, 55)"
      ]
     },
     "execution_count": 56,
     "metadata": {},
     "output_type": "execute_result"
    }
   ],
   "source": [
    "train_clean.shape"
   ]
  },
  {
   "cell_type": "code",
   "execution_count": 57,
   "metadata": {},
   "outputs": [
    {
     "data": {
      "text/plain": [
       "(4864, 55)"
      ]
     },
     "execution_count": 57,
     "metadata": {},
     "output_type": "execute_result"
    }
   ],
   "source": [
    "test_clean.shape"
   ]
  },
  {
   "cell_type": "markdown",
   "metadata": {},
   "source": [
    "As a result of data analysis:\n",
    "\n",
    "* the change in the concentration of metals during processing was studied, which confirmed its expediency and the adequacy of the data;\n",
    "\n",
    "* some metrics (the size of feeds of raw materials) in the test and training samples are considered - the distribution of the feature showed that the data are adequate in both samples and normally distributed;\n",
    "\n",
    "* the total concentration of metals at key processing stages was studied, which allowed to establish a number of anomalies that were successfully eliminated from the training and test samples."
   ]
  },
  {
   "cell_type": "markdown",
   "metadata": {},
   "source": [
    "## Model"
   ]
  },
  {
   "cell_type": "markdown",
   "metadata": {},
   "source": [
    "### Let's create a function to calculate the final sMAPE."
   ]
  },
  {
   "cell_type": "code",
   "execution_count": 58,
   "metadata": {},
   "outputs": [],
   "source": [
    "def smape(y_true, y_pred):\n",
    "    smape = np.mean(abs(y_true - y_pred)/((abs(y_true)+abs(y_pred))/2))*100\n",
    "    return smape"
   ]
  },
  {
   "cell_type": "code",
   "execution_count": 59,
   "metadata": {},
   "outputs": [],
   "source": [
    "def total_smape(smape_rougher, smape_final):\n",
    "    total_smape = 0.25*smape_rougher + 0.75*smape_final\n",
    "    return total_smape"
   ]
  },
  {
   "cell_type": "code",
   "execution_count": 60,
   "metadata": {},
   "outputs": [],
   "source": [
    "smape_score = make_scorer(smape, greater_is_better=False)"
   ]
  },
  {
   "cell_type": "markdown",
   "metadata": {},
   "source": [
    "### Model training"
   ]
  },
  {
   "cell_type": "markdown",
   "metadata": {},
   "source": [
    "Let's highlight the target indicators in the training and test samples:"
   ]
  },
  {
   "cell_type": "code",
   "execution_count": 61,
   "metadata": {},
   "outputs": [],
   "source": [
    "# train_df \n",
    "features_train = train_df.drop(['date', 'rougher.output.recovery', 'final.output.recovery'], axis=1)\n",
    "target_train_rougher = train_df['rougher.output.recovery']\n",
    "target_train_final = train_df['final.output.recovery']\n",
    "\n",
    "# test_df\n",
    "features_test = test_df.drop(['date', 'rougher.output.recovery', 'final.output.recovery'], axis=1)\n",
    "target_test_rougher = test_df['rougher.output.recovery']\n",
    "target_test_final = test_df['final.output.recovery']"
   ]
  },
  {
   "cell_type": "markdown",
   "metadata": {},
   "source": [
    "Let's create a hyperparameter iteration function that will be useful for models DecisionTreeRegressor and RandomForestRegressor:"
   ]
  },
  {
   "cell_type": "markdown",
   "metadata": {},
   "source": [
    "#### Linear regression:"
   ]
  },
  {
   "cell_type": "code",
   "execution_count": 62,
   "metadata": {
    "scrolled": true
   },
   "outputs": [
    {
     "name": "stdout",
     "output_type": "stream",
     "text": [
      "Total SMAPE: -10.932332228426176\n"
     ]
    }
   ],
   "source": [
    "smape_rougher = np.mean(cross_val_score(LinearRegression(), features_train, \n",
    "                                        target_train_rougher, scoring=smape_score, \n",
    "                                        cv=5, n_jobs=-1))\n",
    "smape_final = np.mean(cross_val_score(LinearRegression(), features_train, \n",
    "                                      target_train_final, scoring=smape_score, \n",
    "                                      cv=5, n_jobs=-1))\n",
    "print('Total SMAPE:',total_smape(smape_rougher, smape_final))"
   ]
  },
  {
   "cell_type": "markdown",
   "metadata": {},
   "source": [
    "#### DecisionTreeRegressor:"
   ]
  },
  {
   "cell_type": "code",
   "execution_count": 63,
   "metadata": {},
   "outputs": [],
   "source": [
    "def get_params(model, params, features, target, score=smape_score):\n",
    "    grid = GridSearchCV(model(random_state=12345), params, scoring=score, cv=5)\n",
    "    grid.fit(features, target)\n",
    "    print('best parameter: {}'.format(grid.best_params_))"
   ]
  },
  {
   "cell_type": "code",
   "execution_count": 64,
   "metadata": {},
   "outputs": [
    {
     "name": "stdout",
     "output_type": "stream",
     "text": [
      "target feature: rougher.output.recovery\n",
      "best parameter: {'max_depth': 5, 'min_samples_leaf': 10, 'min_samples_split': 2}\n",
      "target feature: final.output.recovery\n",
      "best parameter: {'max_depth': 1, 'min_samples_leaf': 1, 'min_samples_split': 2}\n"
     ]
    }
   ],
   "source": [
    "tree_params = {\n",
    "    'max_depth': range(1,11),\n",
    "    'min_samples_leaf': range(1,11),\n",
    "    'min_samples_split': range(2,11)\n",
    "}\n",
    "\n",
    "print('target feature: rougher.output.recovery')\n",
    "get_params(DecisionTreeRegressor, tree_params, features_train, target_train_rougher)\n",
    "print('target feature: final.output.recovery')\n",
    "get_params(DecisionTreeRegressor, tree_params, features_train, target_train_final)"
   ]
  },
  {
   "cell_type": "code",
   "execution_count": 65,
   "metadata": {},
   "outputs": [
    {
     "name": "stdout",
     "output_type": "stream",
     "text": [
      "-10.631417288168036 -9.726824440809125\n",
      "Итоговый SMAPE: -9.952972652648853\n"
     ]
    }
   ],
   "source": [
    "smape_rougher = np.mean(cross_val_score(DecisionTreeRegressor(max_depth=5, min_samples_leaf=10,\n",
    "                                                              min_samples_split=2, random_state=12345), \n",
    "                                        features_train, target_train_rougher, scoring=smape_score, \n",
    "                                        cv=5))\n",
    "smape_final = np.mean(cross_val_score(DecisionTreeRegressor(max_depth=1, min_samples_leaf=1,\n",
    "                                                            min_samples_split=2, random_state=12345), \n",
    "                                      features_train, target_train_final, scoring=smape_score,\n",
    "                                      cv=5))\n",
    "print(smape_rougher, smape_final)\n",
    "print('Итоговый SMAPE:', total_smape(smape_rougher, smape_final))"
   ]
  },
  {
   "cell_type": "markdown",
   "metadata": {},
   "source": [
    "#### RandomForestRegressor:"
   ]
  },
  {
   "cell_type": "code",
   "execution_count": 66,
   "metadata": {},
   "outputs": [
    {
     "name": "stdout",
     "output_type": "stream",
     "text": [
      "target feature: rougher.output.recovery\n",
      "best parameter: {'max_depth': 5, 'n_estimators': 31}\n",
      "target feature: final.output.recovery\n",
      "best parameter: {'max_depth': 5, 'n_estimators': 11}\n"
     ]
    }
   ],
   "source": [
    "forest_params = {\n",
    "    'n_estimators': np.arange(11, 51, 10),\n",
    "    'max_depth': np.arange(1, 11),\n",
    "}\n",
    "\n",
    "print('target feature: rougher.output.recovery')\n",
    "get_params(RandomForestRegressor, forest_params, features_train, target_train_rougher)\n",
    "print('target feature: final.output.recovery')\n",
    "get_params(RandomForestRegressor, forest_params, features_train, target_train_final)"
   ]
  },
  {
   "cell_type": "code",
   "execution_count": 67,
   "metadata": {},
   "outputs": [
    {
     "name": "stdout",
     "output_type": "stream",
     "text": [
      "-10.352734658716338 -9.38298685929323\n",
      "Total SMAPE: -9.625423809149007\n"
     ]
    }
   ],
   "source": [
    "smape_rougher = np.mean(cross_val_score(RandomForestRegressor(max_depth=5, n_estimators=31, random_state=12345), \n",
    "                                        features_train, target_train_rougher, scoring=smape_score, cv=5))\n",
    "smape_final = np.mean(cross_val_score(RandomForestRegressor(max_depth=5, n_estimators=11, random_state=12345), \n",
    "                                      features_train, target_train_final, scoring=smape_score, cv=5))\n",
    "print(smape_rougher, smape_final)\n",
    "print('Total SMAPE:', total_smape(smape_rougher, smape_final))"
   ]
  },
  {
   "cell_type": "markdown",
   "metadata": {},
   "source": [
    "The best result showed by model RandomForestRegressor. Check its value on test sample."
   ]
  },
  {
   "cell_type": "code",
   "execution_count": 68,
   "metadata": {},
   "outputs": [
    {
     "name": "stdout",
     "output_type": "stream",
     "text": [
      "Total sMAPE: 4.563804630016177\n"
     ]
    }
   ],
   "source": [
    "model = RandomForestRegressor(max_depth=5, n_estimators=31, random_state=12345)\n",
    "model.fit(features_train, target_train_rougher)\n",
    "predicted = model.predict(features_test)\n",
    "smape_rought = smape(target_test_rougher, predicted)\n",
    "\n",
    "model = RandomForestRegressor(max_depth=5, n_estimators=11, random_state=12345)\n",
    "model.fit(features_train, target_train_final)\n",
    "predicted = model.predict(features_test)\n",
    "smape_final = smape(target_test_final, predicted)\n",
    "\n",
    "print('Total sMAPE:', total_smape(smape_rougher, smape_final))"
   ]
  },
  {
   "cell_type": "markdown",
   "metadata": {},
   "source": [
    "Let's compare its values with the results of the constant model DummyRergressor:"
   ]
  },
  {
   "cell_type": "code",
   "execution_count": 69,
   "metadata": {},
   "outputs": [
    {
     "name": "stdout",
     "output_type": "stream",
     "text": [
      "Total SMAPE: 9.079458241653274\n"
     ]
    }
   ],
   "source": [
    "m_dummy_rougher = DummyRegressor(strategy=\"median\")\n",
    "m_dummy_final = DummyRegressor(strategy=\"median\")\n",
    "\n",
    "m_dummy_rougher.fit(features_train, target_train_rougher)\n",
    "m_dummy_final.fit(features_train, target_train_final)\n",
    "\n",
    "m_dummy_rougher_predicted = m_dummy_rougher.predict(features_test)\n",
    "m_dummy_final_predicted = m_dummy_final.predict(features_test)\n",
    "\n",
    "dummy_smape_roughter = smape(target_test_rougher, m_dummy_rougher_predicted)\n",
    "dummy_smape_final = smape(target_test_final, m_dummy_final_predicted)\n",
    "\n",
    "print('Total SMAPE:', total_smape(dummy_smape_roughter, dummy_smape_final))"
   ]
  },
  {
   "cell_type": "markdown",
   "metadata": {},
   "source": [
    "Thus, since the SMAPE of the constant model is higher than the SMAPE of the RandomForestRegressor model, we can conclude that the values of the RandomForestRegressor model are adequate and usable."
   ]
  },
  {
   "cell_type": "markdown",
   "metadata": {},
   "source": [
    "## Conclusion:"
   ]
  },
  {
   "cell_type": "markdown",
   "metadata": {},
   "source": [
    "In the process of working on this project:\n",
    "\n",
    "* data for training and model building were studied and prepared (the calculation of the enrichment efficiency was verified, the features in the train and test samples were evaluated - targets were added to the test sample, and extra features were removed from the training sample, omissions were processed, the format of the date column values was adjusted correctly);\n",
    "\n",
    "* the data were analyzed for their adequacy, which made it possible to adjust test and training samples for the correct training of models;\n",
    "\n",
    "* three regression models were trained and tested, of which the RandomForestRegressor model with the final result showed the best result SMAPE 4.563804630016169."
   ]
  }
 ],
 "metadata": {
  "ExecuteTimeLog": [
   {
    "duration": 78,
    "start_time": "2022-08-29T13:00:47.000Z"
   },
   {
    "duration": 1450,
    "start_time": "2022-08-29T13:16:02.947Z"
   },
   {
    "duration": 3,
    "start_time": "2022-08-29T13:28:56.338Z"
   },
   {
    "duration": 4,
    "start_time": "2022-08-29T13:29:01.594Z"
   },
   {
    "duration": 71,
    "start_time": "2022-08-29T13:29:11.693Z"
   },
   {
    "duration": 2,
    "start_time": "2022-08-29T13:29:23.089Z"
   },
   {
    "duration": 35,
    "start_time": "2022-08-29T13:29:32.899Z"
   },
   {
    "duration": 397,
    "start_time": "2022-08-29T13:29:53.162Z"
   },
   {
    "duration": 764,
    "start_time": "2022-08-29T13:29:53.561Z"
   },
   {
    "duration": 3,
    "start_time": "2022-08-29T13:29:54.328Z"
   },
   {
    "duration": 342,
    "start_time": "2022-08-29T13:29:54.334Z"
   },
   {
    "duration": 3,
    "start_time": "2022-08-29T13:31:49.939Z"
   },
   {
    "duration": 3584,
    "start_time": "2022-08-29T13:36:58.695Z"
   },
   {
    "duration": 52,
    "start_time": "2022-08-29T13:38:26.785Z"
   },
   {
    "duration": 3,
    "start_time": "2022-08-29T13:43:07.622Z"
   },
   {
    "duration": 385,
    "start_time": "2022-08-29T13:43:30.351Z"
   },
   {
    "duration": 3,
    "start_time": "2022-08-29T13:47:28.226Z"
   },
   {
    "duration": 368,
    "start_time": "2022-08-29T13:47:31.846Z"
   },
   {
    "duration": 3,
    "start_time": "2022-08-29T13:47:55.266Z"
   },
   {
    "duration": 393,
    "start_time": "2022-08-29T13:47:57.197Z"
   },
   {
    "duration": 3,
    "start_time": "2022-08-29T13:51:43.253Z"
   },
   {
    "duration": 130,
    "start_time": "2022-08-29T13:51:46.432Z"
   },
   {
    "duration": 3,
    "start_time": "2022-08-29T13:52:26.487Z"
   },
   {
    "duration": 142,
    "start_time": "2022-08-29T13:52:28.552Z"
   },
   {
    "duration": 4,
    "start_time": "2022-08-29T13:53:01.550Z"
   },
   {
    "duration": 145,
    "start_time": "2022-08-29T13:53:05.571Z"
   },
   {
    "duration": 4,
    "start_time": "2022-08-29T13:53:21.288Z"
   },
   {
    "duration": 152,
    "start_time": "2022-08-29T13:53:24.682Z"
   },
   {
    "duration": 3,
    "start_time": "2022-08-29T13:54:11.858Z"
   },
   {
    "duration": 143,
    "start_time": "2022-08-29T13:54:14.309Z"
   },
   {
    "duration": 3,
    "start_time": "2022-08-29T13:55:03.015Z"
   },
   {
    "duration": 137,
    "start_time": "2022-08-29T13:55:05.201Z"
   },
   {
    "duration": 3,
    "start_time": "2022-08-29T13:55:16.267Z"
   },
   {
    "duration": 145,
    "start_time": "2022-08-29T13:55:18.503Z"
   },
   {
    "duration": 70,
    "start_time": "2022-08-29T13:55:48.956Z"
   },
   {
    "duration": 402,
    "start_time": "2022-08-29T13:55:54.758Z"
   },
   {
    "duration": 757,
    "start_time": "2022-08-29T13:55:55.162Z"
   },
   {
    "duration": 3,
    "start_time": "2022-08-29T13:55:55.921Z"
   },
   {
    "duration": 293,
    "start_time": "2022-08-29T13:55:55.925Z"
   },
   {
    "duration": 738,
    "start_time": "2022-08-29T13:55:56.221Z"
   },
   {
    "duration": 3,
    "start_time": "2022-08-29T13:55:56.961Z"
   },
   {
    "duration": 161,
    "start_time": "2022-08-29T13:55:56.966Z"
   },
   {
    "duration": 79,
    "start_time": "2022-08-29T13:56:32.192Z"
   },
   {
    "duration": 42,
    "start_time": "2022-08-29T13:56:40.279Z"
   },
   {
    "duration": 118,
    "start_time": "2022-08-29T13:57:20.080Z"
   },
   {
    "duration": 50,
    "start_time": "2022-08-29T15:06:11.484Z"
   },
   {
    "duration": 50,
    "start_time": "2022-08-29T15:13:10.484Z"
   },
   {
    "duration": 65,
    "start_time": "2022-08-29T15:13:18.853Z"
   },
   {
    "duration": 12,
    "start_time": "2022-08-29T15:13:30.921Z"
   },
   {
    "duration": 4,
    "start_time": "2022-08-29T15:13:42.995Z"
   },
   {
    "duration": 11,
    "start_time": "2022-08-29T15:14:44.580Z"
   },
   {
    "duration": 4,
    "start_time": "2022-08-29T15:20:16.155Z"
   },
   {
    "duration": 8,
    "start_time": "2022-08-29T15:20:19.449Z"
   },
   {
    "duration": 3,
    "start_time": "2022-08-29T15:30:56.251Z"
   },
   {
    "duration": 9,
    "start_time": "2022-08-29T15:31:01.801Z"
   },
   {
    "duration": 5,
    "start_time": "2022-08-29T15:31:27.673Z"
   },
   {
    "duration": 3,
    "start_time": "2022-08-29T15:38:22.888Z"
   },
   {
    "duration": 413,
    "start_time": "2022-08-29T15:39:07.209Z"
   },
   {
    "duration": 772,
    "start_time": "2022-08-29T15:39:07.624Z"
   },
   {
    "duration": 4,
    "start_time": "2022-08-29T15:39:08.399Z"
   },
   {
    "duration": 279,
    "start_time": "2022-08-29T15:39:08.405Z"
   },
   {
    "duration": 753,
    "start_time": "2022-08-29T15:39:08.687Z"
   },
   {
    "duration": 3,
    "start_time": "2022-08-29T15:39:09.442Z"
   },
   {
    "duration": 155,
    "start_time": "2022-08-29T15:39:09.447Z"
   },
   {
    "duration": 33,
    "start_time": "2022-08-29T15:39:09.603Z"
   },
   {
    "duration": 143,
    "start_time": "2022-08-29T15:39:09.638Z"
   },
   {
    "duration": 3,
    "start_time": "2022-08-29T15:39:09.783Z"
   },
   {
    "duration": 16,
    "start_time": "2022-08-29T15:39:09.787Z"
   },
   {
    "duration": 7,
    "start_time": "2022-08-29T15:39:09.805Z"
   },
   {
    "duration": 111,
    "start_time": "2022-08-29T15:40:59.402Z"
   },
   {
    "duration": 14,
    "start_time": "2022-08-29T15:41:14.053Z"
   },
   {
    "duration": 15,
    "start_time": "2022-08-29T15:41:28.475Z"
   },
   {
    "duration": 4,
    "start_time": "2022-08-29T15:41:40.099Z"
   },
   {
    "duration": 15,
    "start_time": "2022-08-29T15:41:43.447Z"
   },
   {
    "duration": 3,
    "start_time": "2022-08-29T15:41:59.924Z"
   },
   {
    "duration": 11,
    "start_time": "2022-08-29T15:42:02.836Z"
   },
   {
    "duration": 17,
    "start_time": "2022-08-29T15:43:03.423Z"
   },
   {
    "duration": 8,
    "start_time": "2022-08-29T15:55:16.122Z"
   },
   {
    "duration": 405,
    "start_time": "2022-08-29T15:55:36.516Z"
   },
   {
    "duration": 823,
    "start_time": "2022-08-29T15:55:36.923Z"
   },
   {
    "duration": 3,
    "start_time": "2022-08-29T15:55:37.749Z"
   },
   {
    "duration": 285,
    "start_time": "2022-08-29T15:55:37.755Z"
   },
   {
    "duration": 697,
    "start_time": "2022-08-29T15:55:38.042Z"
   },
   {
    "duration": 3,
    "start_time": "2022-08-29T15:55:38.741Z"
   },
   {
    "duration": 177,
    "start_time": "2022-08-29T15:55:38.746Z"
   },
   {
    "duration": 44,
    "start_time": "2022-08-29T15:55:38.926Z"
   },
   {
    "duration": 170,
    "start_time": "2022-08-29T15:55:38.971Z"
   },
   {
    "duration": 3,
    "start_time": "2022-08-29T15:55:39.144Z"
   },
   {
    "duration": 24,
    "start_time": "2022-08-29T15:55:39.148Z"
   },
   {
    "duration": 9,
    "start_time": "2022-08-29T15:55:39.174Z"
   },
   {
    "duration": 12,
    "start_time": "2022-08-29T15:55:39.203Z"
   },
   {
    "duration": 10,
    "start_time": "2022-08-29T15:57:12.933Z"
   },
   {
    "duration": 10,
    "start_time": "2022-08-29T15:57:50.005Z"
   },
   {
    "duration": 288,
    "start_time": "2022-08-29T16:00:36.557Z"
   },
   {
    "duration": 5,
    "start_time": "2022-08-29T16:01:07.116Z"
   },
   {
    "duration": 424,
    "start_time": "2022-08-29T16:05:33.973Z"
   },
   {
    "duration": 810,
    "start_time": "2022-08-29T16:05:34.402Z"
   },
   {
    "duration": 2,
    "start_time": "2022-08-29T16:05:35.214Z"
   },
   {
    "duration": 273,
    "start_time": "2022-08-29T16:05:35.219Z"
   },
   {
    "duration": 687,
    "start_time": "2022-08-29T16:05:35.494Z"
   },
   {
    "duration": 3,
    "start_time": "2022-08-29T16:05:36.183Z"
   },
   {
    "duration": 157,
    "start_time": "2022-08-29T16:05:36.187Z"
   },
   {
    "duration": 39,
    "start_time": "2022-08-29T16:05:36.345Z"
   },
   {
    "duration": 165,
    "start_time": "2022-08-29T16:05:36.387Z"
   },
   {
    "duration": 3,
    "start_time": "2022-08-29T16:05:36.555Z"
   },
   {
    "duration": 9,
    "start_time": "2022-08-29T16:05:36.559Z"
   },
   {
    "duration": 6,
    "start_time": "2022-08-29T16:05:36.570Z"
   },
   {
    "duration": 25,
    "start_time": "2022-08-29T16:05:36.578Z"
   },
   {
    "duration": 3,
    "start_time": "2022-08-29T16:05:36.605Z"
   },
   {
    "duration": 4,
    "start_time": "2022-08-29T16:05:56.582Z"
   },
   {
    "duration": 120,
    "start_time": "2022-08-29T16:06:09.330Z"
   },
   {
    "duration": 251,
    "start_time": "2022-08-29T16:06:24.048Z"
   },
   {
    "duration": 13,
    "start_time": "2022-08-29T16:06:47.835Z"
   },
   {
    "duration": 15,
    "start_time": "2022-08-29T16:07:37.014Z"
   },
   {
    "duration": 5,
    "start_time": "2022-08-29T16:09:32.609Z"
   },
   {
    "duration": 403,
    "start_time": "2022-08-29T16:09:58.529Z"
   },
   {
    "duration": 779,
    "start_time": "2022-08-29T16:09:58.934Z"
   },
   {
    "duration": 3,
    "start_time": "2022-08-29T16:09:59.714Z"
   },
   {
    "duration": 256,
    "start_time": "2022-08-29T16:09:59.720Z"
   },
   {
    "duration": 691,
    "start_time": "2022-08-29T16:09:59.978Z"
   },
   {
    "duration": 4,
    "start_time": "2022-08-29T16:10:00.671Z"
   },
   {
    "duration": 179,
    "start_time": "2022-08-29T16:10:00.677Z"
   },
   {
    "duration": 45,
    "start_time": "2022-08-29T16:10:00.859Z"
   },
   {
    "duration": 146,
    "start_time": "2022-08-29T16:10:00.906Z"
   },
   {
    "duration": 4,
    "start_time": "2022-08-29T16:10:01.055Z"
   },
   {
    "duration": 25,
    "start_time": "2022-08-29T16:10:01.061Z"
   },
   {
    "duration": 306,
    "start_time": "2022-08-29T16:10:01.088Z"
   },
   {
    "duration": 16,
    "start_time": "2022-08-29T16:10:01.396Z"
   },
   {
    "duration": 8,
    "start_time": "2022-08-29T16:10:01.414Z"
   },
   {
    "duration": 119,
    "start_time": "2022-08-29T18:51:03.440Z"
   },
   {
    "duration": 5,
    "start_time": "2022-08-29T18:51:12.286Z"
   },
   {
    "duration": 3,
    "start_time": "2022-08-29T18:51:58.253Z"
   },
   {
    "duration": 7,
    "start_time": "2022-08-29T18:51:58.258Z"
   },
   {
    "duration": 9,
    "start_time": "2022-08-29T18:51:58.268Z"
   },
   {
    "duration": 9,
    "start_time": "2022-08-29T18:51:58.278Z"
   },
   {
    "duration": 753,
    "start_time": "2022-08-29T18:51:58.290Z"
   },
   {
    "duration": 3,
    "start_time": "2022-08-29T18:51:59.046Z"
   },
   {
    "duration": 153,
    "start_time": "2022-08-29T18:51:59.050Z"
   },
   {
    "duration": 33,
    "start_time": "2022-08-29T18:51:59.205Z"
   },
   {
    "duration": 137,
    "start_time": "2022-08-29T18:51:59.240Z"
   },
   {
    "duration": 3,
    "start_time": "2022-08-29T18:51:59.379Z"
   },
   {
    "duration": 26,
    "start_time": "2022-08-29T18:51:59.384Z"
   },
   {
    "duration": 295,
    "start_time": "2022-08-29T18:51:59.412Z"
   },
   {
    "duration": 9,
    "start_time": "2022-08-29T18:51:59.709Z"
   },
   {
    "duration": 5,
    "start_time": "2022-08-29T18:51:59.720Z"
   },
   {
    "duration": 10,
    "start_time": "2022-08-29T18:51:59.726Z"
   },
   {
    "duration": 5,
    "start_time": "2022-08-29T18:52:51.356Z"
   },
   {
    "duration": 5,
    "start_time": "2022-08-29T18:58:41.826Z"
   },
   {
    "duration": 5,
    "start_time": "2022-08-29T18:59:56.034Z"
   },
   {
    "duration": 5,
    "start_time": "2022-08-29T19:00:13.539Z"
   },
   {
    "duration": 5,
    "start_time": "2022-08-29T19:00:42.140Z"
   },
   {
    "duration": 5,
    "start_time": "2022-08-29T19:02:01.082Z"
   },
   {
    "duration": 9,
    "start_time": "2022-08-29T19:05:24.119Z"
   },
   {
    "duration": 9,
    "start_time": "2022-08-29T19:05:29.647Z"
   },
   {
    "duration": 9,
    "start_time": "2022-08-29T19:05:38.754Z"
   },
   {
    "duration": 10,
    "start_time": "2022-08-29T19:05:54.267Z"
   },
   {
    "duration": 9,
    "start_time": "2022-08-29T19:06:07.236Z"
   },
   {
    "duration": 4,
    "start_time": "2022-08-29T19:10:09.674Z"
   },
   {
    "duration": 4,
    "start_time": "2022-08-29T19:10:47.395Z"
   },
   {
    "duration": 3,
    "start_time": "2022-08-29T19:11:09.142Z"
   },
   {
    "duration": 4,
    "start_time": "2022-08-29T19:11:23.105Z"
   },
   {
    "duration": 3,
    "start_time": "2022-08-29T19:11:48.184Z"
   },
   {
    "duration": 15,
    "start_time": "2022-08-29T19:11:48.189Z"
   },
   {
    "duration": 14,
    "start_time": "2022-08-29T19:11:48.206Z"
   },
   {
    "duration": 20,
    "start_time": "2022-08-29T19:11:48.222Z"
   },
   {
    "duration": 733,
    "start_time": "2022-08-29T19:11:48.245Z"
   },
   {
    "duration": 4,
    "start_time": "2022-08-29T19:11:48.981Z"
   },
   {
    "duration": 170,
    "start_time": "2022-08-29T19:11:48.987Z"
   },
   {
    "duration": 46,
    "start_time": "2022-08-29T19:11:49.159Z"
   },
   {
    "duration": 132,
    "start_time": "2022-08-29T19:11:49.206Z"
   },
   {
    "duration": 4,
    "start_time": "2022-08-29T19:11:49.340Z"
   },
   {
    "duration": 20,
    "start_time": "2022-08-29T19:11:49.346Z"
   },
   {
    "duration": 278,
    "start_time": "2022-08-29T19:11:49.368Z"
   },
   {
    "duration": 9,
    "start_time": "2022-08-29T19:11:49.648Z"
   },
   {
    "duration": 5,
    "start_time": "2022-08-29T19:11:49.660Z"
   },
   {
    "duration": 8,
    "start_time": "2022-08-29T19:11:49.667Z"
   },
   {
    "duration": 6,
    "start_time": "2022-08-29T19:11:49.702Z"
   },
   {
    "duration": 4,
    "start_time": "2022-08-29T19:12:03.599Z"
   },
   {
    "duration": 4,
    "start_time": "2022-08-29T19:13:10.660Z"
   },
   {
    "duration": 4,
    "start_time": "2022-08-29T19:28:43.406Z"
   },
   {
    "duration": 6,
    "start_time": "2022-08-29T19:31:02.439Z"
   },
   {
    "duration": 11,
    "start_time": "2022-08-29T19:31:40.449Z"
   },
   {
    "duration": 3,
    "start_time": "2022-08-29T19:32:48.334Z"
   },
   {
    "duration": 375,
    "start_time": "2022-08-29T19:33:09.056Z"
   },
   {
    "duration": 760,
    "start_time": "2022-08-29T19:33:09.433Z"
   },
   {
    "duration": 9,
    "start_time": "2022-08-29T19:33:10.194Z"
   },
   {
    "duration": 279,
    "start_time": "2022-08-29T19:33:10.205Z"
   },
   {
    "duration": 703,
    "start_time": "2022-08-29T19:33:10.486Z"
   },
   {
    "duration": 4,
    "start_time": "2022-08-29T19:33:11.190Z"
   },
   {
    "duration": 181,
    "start_time": "2022-08-29T19:33:11.195Z"
   },
   {
    "duration": 46,
    "start_time": "2022-08-29T19:33:11.378Z"
   },
   {
    "duration": 135,
    "start_time": "2022-08-29T19:33:11.425Z"
   },
   {
    "duration": 4,
    "start_time": "2022-08-29T19:33:11.562Z"
   },
   {
    "duration": 36,
    "start_time": "2022-08-29T19:33:11.568Z"
   },
   {
    "duration": 289,
    "start_time": "2022-08-29T19:33:11.605Z"
   },
   {
    "duration": 14,
    "start_time": "2022-08-29T19:33:11.896Z"
   },
   {
    "duration": 5,
    "start_time": "2022-08-29T19:33:11.913Z"
   },
   {
    "duration": 10,
    "start_time": "2022-08-29T19:33:11.919Z"
   },
   {
    "duration": 6,
    "start_time": "2022-08-29T19:33:11.931Z"
   },
   {
    "duration": 5,
    "start_time": "2022-08-29T19:33:28.048Z"
   },
   {
    "duration": 2,
    "start_time": "2022-08-29T19:33:50.425Z"
   },
   {
    "duration": 134,
    "start_time": "2022-08-29T19:33:59.760Z"
   },
   {
    "duration": 418,
    "start_time": "2022-08-29T19:39:28.027Z"
   },
   {
    "duration": 805,
    "start_time": "2022-08-29T19:39:28.448Z"
   },
   {
    "duration": 3,
    "start_time": "2022-08-29T19:39:29.255Z"
   },
   {
    "duration": 267,
    "start_time": "2022-08-29T19:39:29.261Z"
   },
   {
    "duration": 709,
    "start_time": "2022-08-29T19:39:29.530Z"
   },
   {
    "duration": 3,
    "start_time": "2022-08-29T19:39:30.241Z"
   },
   {
    "duration": 160,
    "start_time": "2022-08-29T19:39:30.245Z"
   },
   {
    "duration": 37,
    "start_time": "2022-08-29T19:39:30.406Z"
   },
   {
    "duration": 153,
    "start_time": "2022-08-29T19:39:30.445Z"
   },
   {
    "duration": 3,
    "start_time": "2022-08-29T19:39:30.605Z"
   },
   {
    "duration": 62,
    "start_time": "2022-08-29T19:39:30.610Z"
   },
   {
    "duration": 409,
    "start_time": "2022-08-29T19:39:30.674Z"
   },
   {
    "duration": 26,
    "start_time": "2022-08-29T19:39:31.085Z"
   },
   {
    "duration": 14,
    "start_time": "2022-08-29T19:39:31.113Z"
   },
   {
    "duration": 27,
    "start_time": "2022-08-29T19:39:31.129Z"
   },
   {
    "duration": 40,
    "start_time": "2022-08-29T19:39:31.159Z"
   },
   {
    "duration": 11,
    "start_time": "2022-08-29T19:39:31.202Z"
   },
   {
    "duration": 3,
    "start_time": "2022-08-29T19:41:50.098Z"
   },
   {
    "duration": 438,
    "start_time": "2022-08-29T19:42:07.778Z"
   },
   {
    "duration": 831,
    "start_time": "2022-08-29T19:42:08.218Z"
   },
   {
    "duration": 3,
    "start_time": "2022-08-29T19:42:09.051Z"
   },
   {
    "duration": 277,
    "start_time": "2022-08-29T19:42:09.056Z"
   },
   {
    "duration": 713,
    "start_time": "2022-08-29T19:42:09.334Z"
   },
   {
    "duration": 4,
    "start_time": "2022-08-29T19:42:10.049Z"
   },
   {
    "duration": 165,
    "start_time": "2022-08-29T19:42:10.054Z"
   },
   {
    "duration": 38,
    "start_time": "2022-08-29T19:42:10.221Z"
   },
   {
    "duration": 159,
    "start_time": "2022-08-29T19:42:10.261Z"
   },
   {
    "duration": 5,
    "start_time": "2022-08-29T19:42:10.422Z"
   },
   {
    "duration": 43,
    "start_time": "2022-08-29T19:42:10.429Z"
   },
   {
    "duration": 281,
    "start_time": "2022-08-29T19:42:10.474Z"
   },
   {
    "duration": 12,
    "start_time": "2022-08-29T19:42:10.757Z"
   },
   {
    "duration": 5,
    "start_time": "2022-08-29T19:42:10.771Z"
   },
   {
    "duration": 26,
    "start_time": "2022-08-29T19:42:10.778Z"
   },
   {
    "duration": 5,
    "start_time": "2022-08-29T19:42:10.805Z"
   },
   {
    "duration": 6,
    "start_time": "2022-08-29T19:42:10.811Z"
   },
   {
    "duration": 3,
    "start_time": "2022-08-29T19:42:18.998Z"
   },
   {
    "duration": 3,
    "start_time": "2022-08-29T19:42:24.754Z"
   },
   {
    "duration": 3,
    "start_time": "2022-08-29T19:42:29.034Z"
   },
   {
    "duration": 4,
    "start_time": "2022-08-29T19:45:23.158Z"
   },
   {
    "duration": 4,
    "start_time": "2022-08-29T19:45:25.474Z"
   },
   {
    "duration": 4,
    "start_time": "2022-08-29T19:45:53.189Z"
   },
   {
    "duration": 389,
    "start_time": "2022-08-29T19:46:02.860Z"
   },
   {
    "duration": 764,
    "start_time": "2022-08-29T19:46:03.251Z"
   },
   {
    "duration": 3,
    "start_time": "2022-08-29T19:46:04.017Z"
   },
   {
    "duration": 271,
    "start_time": "2022-08-29T19:46:04.022Z"
   },
   {
    "duration": 716,
    "start_time": "2022-08-29T19:46:04.296Z"
   },
   {
    "duration": 3,
    "start_time": "2022-08-29T19:46:05.014Z"
   },
   {
    "duration": 160,
    "start_time": "2022-08-29T19:46:05.020Z"
   },
   {
    "duration": 54,
    "start_time": "2022-08-29T19:46:05.182Z"
   },
   {
    "duration": 142,
    "start_time": "2022-08-29T19:46:05.238Z"
   },
   {
    "duration": 3,
    "start_time": "2022-08-29T19:46:05.382Z"
   },
   {
    "duration": 32,
    "start_time": "2022-08-29T19:46:05.387Z"
   },
   {
    "duration": 293,
    "start_time": "2022-08-29T19:46:05.421Z"
   },
   {
    "duration": 11,
    "start_time": "2022-08-29T19:46:05.716Z"
   },
   {
    "duration": 5,
    "start_time": "2022-08-29T19:46:05.730Z"
   },
   {
    "duration": 15,
    "start_time": "2022-08-29T19:46:05.737Z"
   },
   {
    "duration": 10,
    "start_time": "2022-08-29T19:46:05.754Z"
   },
   {
    "duration": 11,
    "start_time": "2022-08-29T19:46:05.766Z"
   },
   {
    "duration": 26,
    "start_time": "2022-08-29T19:46:05.778Z"
   },
   {
    "duration": 17,
    "start_time": "2022-08-29T21:03:28.044Z"
   },
   {
    "duration": 7,
    "start_time": "2022-08-29T21:04:26.717Z"
   },
   {
    "duration": 5,
    "start_time": "2022-08-29T21:05:02.740Z"
   },
   {
    "duration": 19,
    "start_time": "2022-08-29T21:08:29.328Z"
   },
   {
    "duration": 15,
    "start_time": "2022-08-29T21:08:42.096Z"
   },
   {
    "duration": 16,
    "start_time": "2022-08-29T21:09:58.398Z"
   },
   {
    "duration": 9,
    "start_time": "2022-08-29T21:18:28.456Z"
   },
   {
    "duration": 15,
    "start_time": "2022-08-29T21:19:40.166Z"
   },
   {
    "duration": 9,
    "start_time": "2022-08-29T21:20:01.536Z"
   },
   {
    "duration": 11,
    "start_time": "2022-08-29T21:28:38.906Z"
   },
   {
    "duration": 15,
    "start_time": "2022-08-29T21:29:05.908Z"
   },
   {
    "duration": 12,
    "start_time": "2022-08-29T21:30:23.630Z"
   },
   {
    "duration": 5,
    "start_time": "2022-08-29T21:31:14.837Z"
   },
   {
    "duration": 5,
    "start_time": "2022-08-29T21:33:37.298Z"
   },
   {
    "duration": 32,
    "start_time": "2022-08-29T21:33:48.793Z"
   },
   {
    "duration": 22,
    "start_time": "2022-08-29T21:34:07.695Z"
   },
   {
    "duration": 9,
    "start_time": "2022-08-29T21:34:53.206Z"
   },
   {
    "duration": 13,
    "start_time": "2022-08-29T21:35:12.682Z"
   },
   {
    "duration": 13,
    "start_time": "2022-08-29T21:35:38.263Z"
   },
   {
    "duration": 16,
    "start_time": "2022-08-29T22:13:17.968Z"
   },
   {
    "duration": 10,
    "start_time": "2022-08-29T22:14:28.125Z"
   },
   {
    "duration": 120,
    "start_time": "2022-08-29T22:15:10.637Z"
   },
   {
    "duration": 11,
    "start_time": "2022-08-29T22:15:26.518Z"
   },
   {
    "duration": 11,
    "start_time": "2022-08-29T22:17:39.784Z"
   },
   {
    "duration": 9,
    "start_time": "2022-08-29T22:17:56.162Z"
   },
   {
    "duration": 1905,
    "start_time": "2022-08-29T22:20:01.821Z"
   },
   {
    "duration": 1060,
    "start_time": "2022-08-29T22:20:59.776Z"
   },
   {
    "duration": 3,
    "start_time": "2022-08-29T22:40:33.512Z"
   },
   {
    "duration": 30,
    "start_time": "2022-08-29T23:00:56.142Z"
   },
   {
    "duration": 5,
    "start_time": "2022-08-29T23:01:10.437Z"
   },
   {
    "duration": 15,
    "start_time": "2022-08-29T23:01:23.516Z"
   },
   {
    "duration": 10,
    "start_time": "2022-08-29T23:02:27.611Z"
   },
   {
    "duration": 397,
    "start_time": "2022-08-29T23:02:57.235Z"
   },
   {
    "duration": 784,
    "start_time": "2022-08-29T23:02:57.634Z"
   },
   {
    "duration": 2,
    "start_time": "2022-08-29T23:02:58.420Z"
   },
   {
    "duration": 262,
    "start_time": "2022-08-29T23:02:58.425Z"
   },
   {
    "duration": 707,
    "start_time": "2022-08-29T23:02:58.689Z"
   },
   {
    "duration": 5,
    "start_time": "2022-08-29T23:02:59.398Z"
   },
   {
    "duration": 148,
    "start_time": "2022-08-29T23:02:59.404Z"
   },
   {
    "duration": 50,
    "start_time": "2022-08-29T23:02:59.553Z"
   },
   {
    "duration": 124,
    "start_time": "2022-08-29T23:02:59.605Z"
   },
   {
    "duration": 4,
    "start_time": "2022-08-29T23:02:59.732Z"
   },
   {
    "duration": 23,
    "start_time": "2022-08-29T23:02:59.737Z"
   },
   {
    "duration": 291,
    "start_time": "2022-08-29T23:02:59.761Z"
   },
   {
    "duration": 11,
    "start_time": "2022-08-29T23:03:00.053Z"
   },
   {
    "duration": 5,
    "start_time": "2022-08-29T23:03:00.065Z"
   },
   {
    "duration": 5,
    "start_time": "2022-08-29T23:03:00.072Z"
   },
   {
    "duration": 9,
    "start_time": "2022-08-29T23:03:00.103Z"
   },
   {
    "duration": 6,
    "start_time": "2022-08-29T23:03:00.113Z"
   },
   {
    "duration": 7,
    "start_time": "2022-08-29T23:03:00.120Z"
   },
   {
    "duration": 15,
    "start_time": "2022-08-29T23:03:00.129Z"
   },
   {
    "duration": 7,
    "start_time": "2022-08-29T23:03:00.145Z"
   },
   {
    "duration": 11,
    "start_time": "2022-08-29T23:03:00.153Z"
   },
   {
    "duration": 47,
    "start_time": "2022-08-29T23:03:00.166Z"
   },
   {
    "duration": 7,
    "start_time": "2022-08-29T23:03:00.215Z"
   },
   {
    "duration": 17,
    "start_time": "2022-08-29T23:03:00.224Z"
   },
   {
    "duration": 8,
    "start_time": "2022-08-29T23:03:00.243Z"
   },
   {
    "duration": 26,
    "start_time": "2022-08-29T23:03:00.252Z"
   },
   {
    "duration": 5,
    "start_time": "2022-08-29T23:03:00.303Z"
   },
   {
    "duration": 34,
    "start_time": "2022-08-29T23:03:00.311Z"
   },
   {
    "duration": 21,
    "start_time": "2022-08-29T23:03:00.347Z"
   },
   {
    "duration": 24,
    "start_time": "2022-08-29T23:03:00.370Z"
   },
   {
    "duration": 51,
    "start_time": "2022-08-29T23:03:00.403Z"
   },
   {
    "duration": 16,
    "start_time": "2022-08-29T23:03:00.456Z"
   },
   {
    "duration": 27,
    "start_time": "2022-08-29T23:03:00.473Z"
   },
   {
    "duration": 3,
    "start_time": "2022-08-29T23:03:00.502Z"
   },
   {
    "duration": 143,
    "start_time": "2022-08-29T23:03:00.507Z"
   },
   {
    "duration": 5,
    "start_time": "2022-08-29T23:03:22.937Z"
   },
   {
    "duration": 9,
    "start_time": "2022-08-29T23:17:29.042Z"
   },
   {
    "duration": 10,
    "start_time": "2022-08-29T23:22:52.950Z"
   },
   {
    "duration": 4,
    "start_time": "2022-08-29T23:23:16.441Z"
   },
   {
    "duration": 10,
    "start_time": "2022-08-29T23:23:28.665Z"
   },
   {
    "duration": 4,
    "start_time": "2022-08-29T23:26:36.971Z"
   },
   {
    "duration": 459,
    "start_time": "2022-08-29T23:30:51.876Z"
   },
   {
    "duration": 741,
    "start_time": "2022-08-29T23:30:52.337Z"
   },
   {
    "duration": 2,
    "start_time": "2022-08-29T23:30:53.082Z"
   },
   {
    "duration": 252,
    "start_time": "2022-08-29T23:30:53.086Z"
   },
   {
    "duration": 701,
    "start_time": "2022-08-29T23:30:53.340Z"
   },
   {
    "duration": 3,
    "start_time": "2022-08-29T23:30:54.043Z"
   },
   {
    "duration": 149,
    "start_time": "2022-08-29T23:30:54.047Z"
   },
   {
    "duration": 33,
    "start_time": "2022-08-29T23:30:54.197Z"
   },
   {
    "duration": 137,
    "start_time": "2022-08-29T23:30:54.232Z"
   },
   {
    "duration": 4,
    "start_time": "2022-08-29T23:30:54.370Z"
   },
   {
    "duration": 29,
    "start_time": "2022-08-29T23:30:54.375Z"
   },
   {
    "duration": 295,
    "start_time": "2022-08-29T23:30:54.405Z"
   },
   {
    "duration": 11,
    "start_time": "2022-08-29T23:30:54.702Z"
   },
   {
    "duration": 5,
    "start_time": "2022-08-29T23:30:54.715Z"
   },
   {
    "duration": 5,
    "start_time": "2022-08-29T23:30:54.723Z"
   },
   {
    "duration": 4,
    "start_time": "2022-08-29T23:30:54.730Z"
   },
   {
    "duration": 4,
    "start_time": "2022-08-29T23:30:54.736Z"
   },
   {
    "duration": 7,
    "start_time": "2022-08-29T23:30:54.742Z"
   },
   {
    "duration": 67,
    "start_time": "2022-08-29T23:30:54.751Z"
   },
   {
    "duration": 9,
    "start_time": "2022-08-29T23:30:54.820Z"
   },
   {
    "duration": 7,
    "start_time": "2022-08-29T23:30:54.831Z"
   },
   {
    "duration": 15,
    "start_time": "2022-08-29T23:30:54.840Z"
   },
   {
    "duration": 52,
    "start_time": "2022-08-29T23:30:54.857Z"
   },
   {
    "duration": 15,
    "start_time": "2022-08-29T23:30:54.911Z"
   },
   {
    "duration": 7,
    "start_time": "2022-08-29T23:30:54.928Z"
   },
   {
    "duration": 15,
    "start_time": "2022-08-29T23:30:54.936Z"
   },
   {
    "duration": 5,
    "start_time": "2022-08-29T23:30:54.952Z"
   },
   {
    "duration": 64,
    "start_time": "2022-08-29T23:30:54.958Z"
   },
   {
    "duration": 22,
    "start_time": "2022-08-29T23:30:55.023Z"
   },
   {
    "duration": 9,
    "start_time": "2022-08-29T23:30:55.047Z"
   },
   {
    "duration": 21,
    "start_time": "2022-08-29T23:30:55.057Z"
   },
   {
    "duration": 36,
    "start_time": "2022-08-29T23:30:55.079Z"
   },
   {
    "duration": 17,
    "start_time": "2022-08-29T23:30:55.117Z"
   },
   {
    "duration": 3,
    "start_time": "2022-08-29T23:30:55.136Z"
   },
   {
    "duration": 11,
    "start_time": "2022-08-29T23:30:55.140Z"
   },
   {
    "duration": 7,
    "start_time": "2022-08-29T23:30:55.153Z"
   },
   {
    "duration": 4,
    "start_time": "2022-08-29T23:32:26.918Z"
   },
   {
    "duration": 5,
    "start_time": "2022-08-29T23:33:23.468Z"
   },
   {
    "duration": 414,
    "start_time": "2022-08-29T23:34:26.279Z"
   },
   {
    "duration": 712,
    "start_time": "2022-08-29T23:34:26.695Z"
   },
   {
    "duration": 2,
    "start_time": "2022-08-29T23:34:27.409Z"
   },
   {
    "duration": 270,
    "start_time": "2022-08-29T23:34:27.413Z"
   },
   {
    "duration": 707,
    "start_time": "2022-08-29T23:34:27.686Z"
   },
   {
    "duration": 4,
    "start_time": "2022-08-29T23:34:28.395Z"
   },
   {
    "duration": 154,
    "start_time": "2022-08-29T23:34:28.403Z"
   },
   {
    "duration": 49,
    "start_time": "2022-08-29T23:34:28.559Z"
   },
   {
    "duration": 130,
    "start_time": "2022-08-29T23:34:28.610Z"
   },
   {
    "duration": 4,
    "start_time": "2022-08-29T23:34:28.743Z"
   },
   {
    "duration": 20,
    "start_time": "2022-08-29T23:34:28.749Z"
   },
   {
    "duration": 310,
    "start_time": "2022-08-29T23:34:28.771Z"
   },
   {
    "duration": 26,
    "start_time": "2022-08-29T23:34:29.082Z"
   },
   {
    "duration": 5,
    "start_time": "2022-08-29T23:34:29.114Z"
   },
   {
    "duration": 8,
    "start_time": "2022-08-29T23:34:29.121Z"
   },
   {
    "duration": 4,
    "start_time": "2022-08-29T23:34:29.132Z"
   },
   {
    "duration": 6,
    "start_time": "2022-08-29T23:34:29.138Z"
   },
   {
    "duration": 7,
    "start_time": "2022-08-29T23:34:29.146Z"
   },
   {
    "duration": 55,
    "start_time": "2022-08-29T23:34:29.155Z"
   },
   {
    "duration": 9,
    "start_time": "2022-08-29T23:34:29.212Z"
   },
   {
    "duration": 7,
    "start_time": "2022-08-29T23:34:29.223Z"
   },
   {
    "duration": 18,
    "start_time": "2022-08-29T23:34:29.232Z"
   },
   {
    "duration": 51,
    "start_time": "2022-08-29T23:34:29.252Z"
   },
   {
    "duration": 16,
    "start_time": "2022-08-29T23:34:29.306Z"
   },
   {
    "duration": 10,
    "start_time": "2022-08-29T23:34:29.324Z"
   },
   {
    "duration": 16,
    "start_time": "2022-08-29T23:34:29.336Z"
   },
   {
    "duration": 50,
    "start_time": "2022-08-29T23:34:29.353Z"
   },
   {
    "duration": 22,
    "start_time": "2022-08-29T23:34:29.405Z"
   },
   {
    "duration": 22,
    "start_time": "2022-08-29T23:34:29.428Z"
   },
   {
    "duration": 10,
    "start_time": "2022-08-29T23:34:29.451Z"
   },
   {
    "duration": 41,
    "start_time": "2022-08-29T23:34:29.463Z"
   },
   {
    "duration": 15,
    "start_time": "2022-08-29T23:34:29.506Z"
   },
   {
    "duration": 17,
    "start_time": "2022-08-29T23:34:29.523Z"
   },
   {
    "duration": 3,
    "start_time": "2022-08-29T23:34:29.542Z"
   },
   {
    "duration": 9,
    "start_time": "2022-08-29T23:34:29.547Z"
   },
   {
    "duration": 6,
    "start_time": "2022-08-29T23:34:29.602Z"
   },
   {
    "duration": 6,
    "start_time": "2022-08-29T23:34:29.610Z"
   },
   {
    "duration": 4,
    "start_time": "2022-08-29T23:35:16.183Z"
   },
   {
    "duration": 5,
    "start_time": "2022-08-29T23:36:27.010Z"
   },
   {
    "duration": 114,
    "start_time": "2022-08-29T23:41:50.760Z"
   },
   {
    "duration": 3,
    "start_time": "2022-08-29T23:42:02.676Z"
   },
   {
    "duration": 4,
    "start_time": "2022-08-29T23:42:38.499Z"
   },
   {
    "duration": 421,
    "start_time": "2022-08-29T23:52:41.469Z"
   },
   {
    "duration": 710,
    "start_time": "2022-08-29T23:52:41.892Z"
   },
   {
    "duration": 3,
    "start_time": "2022-08-29T23:52:42.604Z"
   },
   {
    "duration": 250,
    "start_time": "2022-08-29T23:52:42.608Z"
   },
   {
    "duration": 691,
    "start_time": "2022-08-29T23:52:42.861Z"
   },
   {
    "duration": 3,
    "start_time": "2022-08-29T23:52:43.554Z"
   },
   {
    "duration": 151,
    "start_time": "2022-08-29T23:52:43.559Z"
   },
   {
    "duration": 33,
    "start_time": "2022-08-29T23:52:43.712Z"
   },
   {
    "duration": 137,
    "start_time": "2022-08-29T23:52:43.746Z"
   },
   {
    "duration": 3,
    "start_time": "2022-08-29T23:52:43.885Z"
   },
   {
    "duration": 39,
    "start_time": "2022-08-29T23:52:43.890Z"
   },
   {
    "duration": 272,
    "start_time": "2022-08-29T23:52:43.931Z"
   },
   {
    "duration": 11,
    "start_time": "2022-08-29T23:52:44.204Z"
   },
   {
    "duration": 25,
    "start_time": "2022-08-29T23:52:44.219Z"
   },
   {
    "duration": 9,
    "start_time": "2022-08-29T23:52:44.246Z"
   },
   {
    "duration": 21,
    "start_time": "2022-08-29T23:52:44.257Z"
   },
   {
    "duration": 20,
    "start_time": "2022-08-29T23:52:44.279Z"
   },
   {
    "duration": 14,
    "start_time": "2022-08-29T23:52:44.300Z"
   },
   {
    "duration": 14,
    "start_time": "2022-08-29T23:52:44.315Z"
   },
   {
    "duration": 11,
    "start_time": "2022-08-29T23:52:44.331Z"
   },
   {
    "duration": 18,
    "start_time": "2022-08-29T23:52:44.344Z"
   },
   {
    "duration": 29,
    "start_time": "2022-08-29T23:52:44.364Z"
   },
   {
    "duration": 32,
    "start_time": "2022-08-29T23:52:44.395Z"
   },
   {
    "duration": 33,
    "start_time": "2022-08-29T23:52:44.428Z"
   },
   {
    "duration": 13,
    "start_time": "2022-08-29T23:52:44.463Z"
   },
   {
    "duration": 22,
    "start_time": "2022-08-29T23:52:44.478Z"
   },
   {
    "duration": 6,
    "start_time": "2022-08-29T23:52:44.502Z"
   },
   {
    "duration": 37,
    "start_time": "2022-08-29T23:52:44.510Z"
   },
   {
    "duration": 21,
    "start_time": "2022-08-29T23:52:44.549Z"
   },
   {
    "duration": 20,
    "start_time": "2022-08-29T23:52:44.572Z"
   },
   {
    "duration": 40,
    "start_time": "2022-08-29T23:52:44.594Z"
   },
   {
    "duration": 24,
    "start_time": "2022-08-29T23:52:44.636Z"
   },
   {
    "duration": 21,
    "start_time": "2022-08-29T23:52:44.661Z"
   },
   {
    "duration": 7,
    "start_time": "2022-08-29T23:52:44.684Z"
   },
   {
    "duration": 31,
    "start_time": "2022-08-29T23:52:44.692Z"
   },
   {
    "duration": 25,
    "start_time": "2022-08-29T23:52:44.725Z"
   },
   {
    "duration": 14,
    "start_time": "2022-08-29T23:52:44.752Z"
   },
   {
    "duration": 20,
    "start_time": "2022-08-29T23:52:44.768Z"
   },
   {
    "duration": 35,
    "start_time": "2022-08-29T23:52:44.790Z"
   },
   {
    "duration": 20,
    "start_time": "2022-08-29T23:52:44.827Z"
   },
   {
    "duration": 19,
    "start_time": "2022-08-29T23:52:44.851Z"
   },
   {
    "duration": 3,
    "start_time": "2022-08-29T23:53:56.274Z"
   },
   {
    "duration": 109,
    "start_time": "2022-08-29T23:55:43.787Z"
   },
   {
    "duration": 3,
    "start_time": "2022-08-29T23:58:06.400Z"
   },
   {
    "duration": 10,
    "start_time": "2022-08-29T23:59:53.263Z"
   },
   {
    "duration": 3,
    "start_time": "2022-08-30T00:03:02.470Z"
   },
   {
    "duration": 2,
    "start_time": "2022-08-30T00:03:30.989Z"
   },
   {
    "duration": 3,
    "start_time": "2022-08-30T00:03:57.856Z"
   },
   {
    "duration": 7,
    "start_time": "2022-08-30T00:04:04.440Z"
   },
   {
    "duration": 3,
    "start_time": "2022-08-30T00:05:22.276Z"
   },
   {
    "duration": 3,
    "start_time": "2022-08-30T00:05:25.022Z"
   },
   {
    "duration": 7,
    "start_time": "2022-08-30T00:05:27.222Z"
   },
   {
    "duration": 352,
    "start_time": "2022-08-30T00:06:13.458Z"
   },
   {
    "duration": 778,
    "start_time": "2022-08-30T00:06:13.812Z"
   },
   {
    "duration": 3,
    "start_time": "2022-08-30T00:06:14.591Z"
   },
   {
    "duration": 263,
    "start_time": "2022-08-30T00:06:14.597Z"
   },
   {
    "duration": 700,
    "start_time": "2022-08-30T00:06:14.862Z"
   },
   {
    "duration": 4,
    "start_time": "2022-08-30T00:06:15.564Z"
   },
   {
    "duration": 160,
    "start_time": "2022-08-30T00:06:15.569Z"
   },
   {
    "duration": 33,
    "start_time": "2022-08-30T00:06:15.731Z"
   },
   {
    "duration": 144,
    "start_time": "2022-08-30T00:06:15.765Z"
   },
   {
    "duration": 4,
    "start_time": "2022-08-30T00:06:15.912Z"
   },
   {
    "duration": 23,
    "start_time": "2022-08-30T00:06:15.917Z"
   },
   {
    "duration": 284,
    "start_time": "2022-08-30T00:06:15.942Z"
   },
   {
    "duration": 11,
    "start_time": "2022-08-30T00:06:16.228Z"
   },
   {
    "duration": 5,
    "start_time": "2022-08-30T00:06:16.240Z"
   },
   {
    "duration": 6,
    "start_time": "2022-08-30T00:06:16.247Z"
   },
   {
    "duration": 6,
    "start_time": "2022-08-30T00:06:16.254Z"
   },
   {
    "duration": 9,
    "start_time": "2022-08-30T00:06:16.262Z"
   },
   {
    "duration": 5,
    "start_time": "2022-08-30T00:06:16.303Z"
   },
   {
    "duration": 15,
    "start_time": "2022-08-30T00:06:16.310Z"
   },
   {
    "duration": 8,
    "start_time": "2022-08-30T00:06:16.326Z"
   },
   {
    "duration": 8,
    "start_time": "2022-08-30T00:06:16.336Z"
   },
   {
    "duration": 15,
    "start_time": "2022-08-30T00:06:16.346Z"
   },
   {
    "duration": 48,
    "start_time": "2022-08-30T00:06:16.363Z"
   },
   {
    "duration": 15,
    "start_time": "2022-08-30T00:06:16.414Z"
   },
   {
    "duration": 8,
    "start_time": "2022-08-30T00:06:16.430Z"
   },
   {
    "duration": 16,
    "start_time": "2022-08-30T00:06:16.440Z"
   },
   {
    "duration": 5,
    "start_time": "2022-08-30T00:06:16.458Z"
   },
   {
    "duration": 22,
    "start_time": "2022-08-30T00:06:16.506Z"
   },
   {
    "duration": 22,
    "start_time": "2022-08-30T00:06:16.530Z"
   },
   {
    "duration": 10,
    "start_time": "2022-08-30T00:06:16.553Z"
   },
   {
    "duration": 48,
    "start_time": "2022-08-30T00:06:16.564Z"
   },
   {
    "duration": 14,
    "start_time": "2022-08-30T00:06:16.613Z"
   },
   {
    "duration": 15,
    "start_time": "2022-08-30T00:06:16.628Z"
   },
   {
    "duration": 3,
    "start_time": "2022-08-30T00:06:16.645Z"
   },
   {
    "duration": 6,
    "start_time": "2022-08-30T00:06:16.650Z"
   },
   {
    "duration": 46,
    "start_time": "2022-08-30T00:06:16.658Z"
   },
   {
    "duration": 5,
    "start_time": "2022-08-30T00:06:16.705Z"
   },
   {
    "duration": 6,
    "start_time": "2022-08-30T00:06:16.711Z"
   },
   {
    "duration": 9,
    "start_time": "2022-08-30T00:06:16.718Z"
   },
   {
    "duration": 17,
    "start_time": "2022-08-30T00:06:45.751Z"
   },
   {
    "duration": 15,
    "start_time": "2022-08-30T00:07:46.292Z"
   },
   {
    "duration": 4,
    "start_time": "2022-08-30T00:12:53.457Z"
   },
   {
    "duration": 111,
    "start_time": "2022-08-30T00:13:03.910Z"
   },
   {
    "duration": 6,
    "start_time": "2022-08-30T00:24:42.318Z"
   },
   {
    "duration": 7,
    "start_time": "2022-08-30T00:26:12.933Z"
   },
   {
    "duration": 14,
    "start_time": "2022-08-30T00:26:26.045Z"
   },
   {
    "duration": 12,
    "start_time": "2022-08-30T00:26:32.066Z"
   },
   {
    "duration": 5,
    "start_time": "2022-08-30T00:30:20.582Z"
   },
   {
    "duration": 8,
    "start_time": "2022-08-30T00:30:32.088Z"
   },
   {
    "duration": 171,
    "start_time": "2022-08-30T00:30:43.977Z"
   },
   {
    "duration": 157,
    "start_time": "2022-08-30T00:30:52.955Z"
   },
   {
    "duration": 3,
    "start_time": "2022-08-30T00:45:17.843Z"
   },
   {
    "duration": 7,
    "start_time": "2022-08-30T00:45:23.356Z"
   },
   {
    "duration": 404,
    "start_time": "2022-08-30T00:46:44.222Z"
   },
   {
    "duration": 774,
    "start_time": "2022-08-30T00:46:44.628Z"
   },
   {
    "duration": 3,
    "start_time": "2022-08-30T00:46:45.404Z"
   },
   {
    "duration": 253,
    "start_time": "2022-08-30T00:46:45.410Z"
   },
   {
    "duration": 698,
    "start_time": "2022-08-30T00:46:45.665Z"
   },
   {
    "duration": 4,
    "start_time": "2022-08-30T00:46:46.365Z"
   },
   {
    "duration": 163,
    "start_time": "2022-08-30T00:46:46.371Z"
   },
   {
    "duration": 34,
    "start_time": "2022-08-30T00:46:46.537Z"
   },
   {
    "duration": 143,
    "start_time": "2022-08-30T00:46:46.573Z"
   },
   {
    "duration": 3,
    "start_time": "2022-08-30T00:46:46.720Z"
   },
   {
    "duration": 20,
    "start_time": "2022-08-30T00:46:46.725Z"
   },
   {
    "duration": 291,
    "start_time": "2022-08-30T00:46:46.747Z"
   },
   {
    "duration": 12,
    "start_time": "2022-08-30T00:46:47.040Z"
   },
   {
    "duration": 6,
    "start_time": "2022-08-30T00:46:47.053Z"
   },
   {
    "duration": 7,
    "start_time": "2022-08-30T00:46:47.060Z"
   },
   {
    "duration": 5,
    "start_time": "2022-08-30T00:46:47.068Z"
   },
   {
    "duration": 35,
    "start_time": "2022-08-30T00:46:47.075Z"
   },
   {
    "duration": 5,
    "start_time": "2022-08-30T00:46:47.112Z"
   },
   {
    "duration": 15,
    "start_time": "2022-08-30T00:46:47.119Z"
   },
   {
    "duration": 7,
    "start_time": "2022-08-30T00:46:47.136Z"
   },
   {
    "duration": 7,
    "start_time": "2022-08-30T00:46:47.144Z"
   },
   {
    "duration": 17,
    "start_time": "2022-08-30T00:46:47.152Z"
   },
   {
    "duration": 33,
    "start_time": "2022-08-30T00:46:47.171Z"
   },
   {
    "duration": 14,
    "start_time": "2022-08-30T00:46:47.206Z"
   },
   {
    "duration": 7,
    "start_time": "2022-08-30T00:46:47.223Z"
   },
   {
    "duration": 20,
    "start_time": "2022-08-30T00:46:47.232Z"
   },
   {
    "duration": 5,
    "start_time": "2022-08-30T00:46:47.253Z"
   },
   {
    "duration": 64,
    "start_time": "2022-08-30T00:46:47.261Z"
   },
   {
    "duration": 21,
    "start_time": "2022-08-30T00:46:47.327Z"
   },
   {
    "duration": 9,
    "start_time": "2022-08-30T00:46:47.349Z"
   },
   {
    "duration": 16,
    "start_time": "2022-08-30T00:46:47.359Z"
   },
   {
    "duration": 13,
    "start_time": "2022-08-30T00:46:47.403Z"
   },
   {
    "duration": 15,
    "start_time": "2022-08-30T00:46:47.418Z"
   },
   {
    "duration": 3,
    "start_time": "2022-08-30T00:46:47.435Z"
   },
   {
    "duration": 8,
    "start_time": "2022-08-30T00:46:47.440Z"
   },
   {
    "duration": 8,
    "start_time": "2022-08-30T00:46:47.450Z"
   },
   {
    "duration": 46,
    "start_time": "2022-08-30T00:46:47.460Z"
   },
   {
    "duration": 6,
    "start_time": "2022-08-30T00:46:47.509Z"
   },
   {
    "duration": 8,
    "start_time": "2022-08-30T00:46:47.517Z"
   },
   {
    "duration": 19,
    "start_time": "2022-08-30T00:46:47.527Z"
   },
   {
    "duration": 21,
    "start_time": "2022-08-30T00:46:47.548Z"
   },
   {
    "duration": 17,
    "start_time": "2022-08-30T00:46:47.571Z"
   },
   {
    "duration": 8,
    "start_time": "2022-08-30T00:46:47.602Z"
   },
   {
    "duration": 6,
    "start_time": "2022-08-30T00:51:58.656Z"
   },
   {
    "duration": 11,
    "start_time": "2022-08-30T00:52:30.046Z"
   },
   {
    "duration": 3,
    "start_time": "2022-08-30T00:58:07.046Z"
   },
   {
    "duration": 8,
    "start_time": "2022-08-30T00:58:20.748Z"
   },
   {
    "duration": 110,
    "start_time": "2022-08-30T01:04:12.481Z"
   },
   {
    "duration": 383,
    "start_time": "2022-08-30T01:07:07.740Z"
   },
   {
    "duration": 776,
    "start_time": "2022-08-30T01:07:08.126Z"
   },
   {
    "duration": 3,
    "start_time": "2022-08-30T01:07:08.904Z"
   },
   {
    "duration": 1125,
    "start_time": "2022-08-30T01:07:08.908Z"
   },
   {
    "duration": 696,
    "start_time": "2022-08-30T01:07:10.035Z"
   },
   {
    "duration": 3,
    "start_time": "2022-08-30T01:07:10.733Z"
   },
   {
    "duration": 152,
    "start_time": "2022-08-30T01:07:10.737Z"
   },
   {
    "duration": 39,
    "start_time": "2022-08-30T01:07:10.890Z"
   },
   {
    "duration": 129,
    "start_time": "2022-08-30T01:07:10.931Z"
   },
   {
    "duration": 3,
    "start_time": "2022-08-30T01:07:11.063Z"
   },
   {
    "duration": 35,
    "start_time": "2022-08-30T01:07:11.068Z"
   },
   {
    "duration": 304,
    "start_time": "2022-08-30T01:07:11.105Z"
   },
   {
    "duration": 11,
    "start_time": "2022-08-30T01:07:11.411Z"
   },
   {
    "duration": 5,
    "start_time": "2022-08-30T01:07:11.425Z"
   },
   {
    "duration": 4,
    "start_time": "2022-08-30T01:07:11.432Z"
   },
   {
    "duration": 5,
    "start_time": "2022-08-30T01:07:11.438Z"
   },
   {
    "duration": 5,
    "start_time": "2022-08-30T01:07:11.445Z"
   },
   {
    "duration": 7,
    "start_time": "2022-08-30T01:07:11.451Z"
   },
   {
    "duration": 55,
    "start_time": "2022-08-30T01:07:11.459Z"
   },
   {
    "duration": 7,
    "start_time": "2022-08-30T01:07:11.516Z"
   },
   {
    "duration": 7,
    "start_time": "2022-08-30T01:07:11.525Z"
   },
   {
    "duration": 16,
    "start_time": "2022-08-30T01:07:11.534Z"
   },
   {
    "duration": 7,
    "start_time": "2022-08-30T01:07:11.551Z"
   },
   {
    "duration": 53,
    "start_time": "2022-08-30T01:07:11.559Z"
   },
   {
    "duration": 8,
    "start_time": "2022-08-30T01:07:11.613Z"
   },
   {
    "duration": 14,
    "start_time": "2022-08-30T01:07:11.622Z"
   },
   {
    "duration": 5,
    "start_time": "2022-08-30T01:07:11.638Z"
   },
   {
    "duration": 59,
    "start_time": "2022-08-30T01:07:11.644Z"
   },
   {
    "duration": 23,
    "start_time": "2022-08-30T01:07:11.705Z"
   },
   {
    "duration": 10,
    "start_time": "2022-08-30T01:07:11.730Z"
   },
   {
    "duration": 17,
    "start_time": "2022-08-30T01:07:11.742Z"
   },
   {
    "duration": 43,
    "start_time": "2022-08-30T01:07:11.761Z"
   },
   {
    "duration": 16,
    "start_time": "2022-08-30T01:07:11.806Z"
   },
   {
    "duration": 2,
    "start_time": "2022-08-30T01:07:11.824Z"
   },
   {
    "duration": 8,
    "start_time": "2022-08-30T01:07:11.828Z"
   },
   {
    "duration": 7,
    "start_time": "2022-08-30T01:07:11.837Z"
   },
   {
    "duration": 8,
    "start_time": "2022-08-30T01:07:11.846Z"
   },
   {
    "duration": 11,
    "start_time": "2022-08-30T01:07:11.856Z"
   },
   {
    "duration": 35,
    "start_time": "2022-08-30T01:07:11.869Z"
   },
   {
    "duration": 3,
    "start_time": "2022-08-30T01:07:11.905Z"
   },
   {
    "duration": 131,
    "start_time": "2022-08-30T01:07:11.912Z"
   },
   {
    "duration": 0,
    "start_time": "2022-08-30T01:07:12.045Z"
   },
   {
    "duration": 1,
    "start_time": "2022-08-30T01:07:12.046Z"
   },
   {
    "duration": 0,
    "start_time": "2022-08-30T01:07:12.047Z"
   },
   {
    "duration": 13,
    "start_time": "2022-08-30T01:07:27.539Z"
   },
   {
    "duration": 4,
    "start_time": "2022-08-30T01:07:48.044Z"
   },
   {
    "duration": 4,
    "start_time": "2022-08-30T01:08:20.594Z"
   },
   {
    "duration": 274,
    "start_time": "2022-08-30T01:08:48.152Z"
   },
   {
    "duration": 13,
    "start_time": "2022-08-30T01:10:22.846Z"
   },
   {
    "duration": 349,
    "start_time": "2022-08-30T01:11:10.554Z"
   },
   {
    "duration": 695,
    "start_time": "2022-08-30T01:11:10.904Z"
   },
   {
    "duration": 2,
    "start_time": "2022-08-30T01:11:11.601Z"
   },
   {
    "duration": 255,
    "start_time": "2022-08-30T01:11:11.605Z"
   },
   {
    "duration": 692,
    "start_time": "2022-08-30T01:11:11.862Z"
   },
   {
    "duration": 3,
    "start_time": "2022-08-30T01:11:12.556Z"
   },
   {
    "duration": 155,
    "start_time": "2022-08-30T01:11:12.561Z"
   },
   {
    "duration": 32,
    "start_time": "2022-08-30T01:11:12.718Z"
   },
   {
    "duration": 133,
    "start_time": "2022-08-30T01:11:12.752Z"
   },
   {
    "duration": 3,
    "start_time": "2022-08-30T01:11:12.888Z"
   },
   {
    "duration": 14,
    "start_time": "2022-08-30T01:11:12.902Z"
   },
   {
    "duration": 276,
    "start_time": "2022-08-30T01:11:12.917Z"
   },
   {
    "duration": 17,
    "start_time": "2022-08-30T01:11:13.195Z"
   },
   {
    "duration": 5,
    "start_time": "2022-08-30T01:11:13.213Z"
   },
   {
    "duration": 5,
    "start_time": "2022-08-30T01:11:13.220Z"
   },
   {
    "duration": 4,
    "start_time": "2022-08-30T01:11:13.227Z"
   },
   {
    "duration": 4,
    "start_time": "2022-08-30T01:11:13.233Z"
   },
   {
    "duration": 9,
    "start_time": "2022-08-30T01:11:13.238Z"
   },
   {
    "duration": 15,
    "start_time": "2022-08-30T01:11:13.248Z"
   },
   {
    "duration": 8,
    "start_time": "2022-08-30T01:11:13.302Z"
   },
   {
    "duration": 7,
    "start_time": "2022-08-30T01:11:13.312Z"
   },
   {
    "duration": 16,
    "start_time": "2022-08-30T01:11:13.320Z"
   },
   {
    "duration": 7,
    "start_time": "2022-08-30T01:11:13.338Z"
   },
   {
    "duration": 14,
    "start_time": "2022-08-30T01:11:13.346Z"
   },
   {
    "duration": 47,
    "start_time": "2022-08-30T01:11:13.361Z"
   },
   {
    "duration": 13,
    "start_time": "2022-08-30T01:11:13.410Z"
   },
   {
    "duration": 5,
    "start_time": "2022-08-30T01:11:13.425Z"
   },
   {
    "duration": 30,
    "start_time": "2022-08-30T01:11:13.433Z"
   },
   {
    "duration": 49,
    "start_time": "2022-08-30T01:11:13.465Z"
   },
   {
    "duration": 8,
    "start_time": "2022-08-30T01:11:13.515Z"
   },
   {
    "duration": 18,
    "start_time": "2022-08-30T01:11:13.525Z"
   },
   {
    "duration": 13,
    "start_time": "2022-08-30T01:11:13.545Z"
   },
   {
    "duration": 48,
    "start_time": "2022-08-30T01:11:13.559Z"
   },
   {
    "duration": 3,
    "start_time": "2022-08-30T01:11:13.609Z"
   },
   {
    "duration": 10,
    "start_time": "2022-08-30T01:11:13.613Z"
   },
   {
    "duration": 8,
    "start_time": "2022-08-30T01:11:13.625Z"
   },
   {
    "duration": 6,
    "start_time": "2022-08-30T01:11:13.634Z"
   },
   {
    "duration": 6,
    "start_time": "2022-08-30T01:11:13.642Z"
   },
   {
    "duration": 7,
    "start_time": "2022-08-30T01:11:13.649Z"
   },
   {
    "duration": 5,
    "start_time": "2022-08-30T01:11:13.658Z"
   },
   {
    "duration": 43,
    "start_time": "2022-08-30T01:11:13.664Z"
   },
   {
    "duration": 14,
    "start_time": "2022-08-30T01:11:13.708Z"
   },
   {
    "duration": 12,
    "start_time": "2022-08-30T01:22:31.170Z"
   },
   {
    "duration": 215,
    "start_time": "2022-08-30T01:26:48.657Z"
   },
   {
    "duration": 180,
    "start_time": "2022-08-30T01:27:14.570Z"
   },
   {
    "duration": 193,
    "start_time": "2022-08-30T01:27:36.548Z"
   },
   {
    "duration": 232,
    "start_time": "2022-08-30T01:28:12.846Z"
   },
   {
    "duration": 186,
    "start_time": "2022-08-30T01:28:33.914Z"
   },
   {
    "duration": 164,
    "start_time": "2022-08-30T01:29:20.475Z"
   },
   {
    "duration": 210,
    "start_time": "2022-08-30T01:29:51.979Z"
   },
   {
    "duration": 166,
    "start_time": "2022-08-30T01:30:16.943Z"
   },
   {
    "duration": 163,
    "start_time": "2022-08-30T01:30:35.916Z"
   },
   {
    "duration": 168,
    "start_time": "2022-08-30T01:31:04.237Z"
   },
   {
    "duration": 114,
    "start_time": "2022-08-30T01:39:58.207Z"
   },
   {
    "duration": 686,
    "start_time": "2022-08-30T01:40:46.620Z"
   },
   {
    "duration": 969,
    "start_time": "2022-08-30T01:41:36.796Z"
   },
   {
    "duration": 704,
    "start_time": "2022-08-30T01:43:53.366Z"
   },
   {
    "duration": 422,
    "start_time": "2022-08-30T01:44:27.017Z"
   },
   {
    "duration": 11,
    "start_time": "2022-08-30T01:45:33.495Z"
   },
   {
    "duration": 880,
    "start_time": "2022-08-30T01:45:56.975Z"
   },
   {
    "duration": 386,
    "start_time": "2022-08-30T13:16:16.306Z"
   },
   {
    "duration": 894,
    "start_time": "2022-08-30T13:16:16.694Z"
   },
   {
    "duration": 3,
    "start_time": "2022-08-30T13:16:17.590Z"
   },
   {
    "duration": 243,
    "start_time": "2022-08-30T13:16:17.600Z"
   },
   {
    "duration": 3708,
    "start_time": "2022-08-30T13:16:17.846Z"
   },
   {
    "duration": 3,
    "start_time": "2022-08-30T13:16:21.557Z"
   },
   {
    "duration": 152,
    "start_time": "2022-08-30T13:16:21.562Z"
   },
   {
    "duration": 28,
    "start_time": "2022-08-30T13:16:21.715Z"
   },
   {
    "duration": 118,
    "start_time": "2022-08-30T13:16:21.745Z"
   },
   {
    "duration": 3,
    "start_time": "2022-08-30T13:16:21.865Z"
   },
   {
    "duration": 39,
    "start_time": "2022-08-30T13:16:21.870Z"
   },
   {
    "duration": 241,
    "start_time": "2022-08-30T13:16:21.911Z"
   },
   {
    "duration": 11,
    "start_time": "2022-08-30T13:16:22.154Z"
   },
   {
    "duration": 5,
    "start_time": "2022-08-30T13:16:22.168Z"
   },
   {
    "duration": 21,
    "start_time": "2022-08-30T13:16:22.174Z"
   },
   {
    "duration": 3,
    "start_time": "2022-08-30T13:16:22.200Z"
   },
   {
    "duration": 15,
    "start_time": "2022-08-30T13:16:22.205Z"
   },
   {
    "duration": 15,
    "start_time": "2022-08-30T13:16:22.221Z"
   },
   {
    "duration": 28,
    "start_time": "2022-08-30T13:16:22.237Z"
   },
   {
    "duration": 7,
    "start_time": "2022-08-30T13:16:22.266Z"
   },
   {
    "duration": 12,
    "start_time": "2022-08-30T13:16:22.275Z"
   },
   {
    "duration": 49,
    "start_time": "2022-08-30T13:16:22.288Z"
   },
   {
    "duration": 23,
    "start_time": "2022-08-30T13:16:22.338Z"
   },
   {
    "duration": 22,
    "start_time": "2022-08-30T13:16:22.362Z"
   },
   {
    "duration": 8,
    "start_time": "2022-08-30T13:16:22.385Z"
   },
   {
    "duration": 17,
    "start_time": "2022-08-30T13:16:22.394Z"
   },
   {
    "duration": 5,
    "start_time": "2022-08-30T13:16:22.412Z"
   },
   {
    "duration": 29,
    "start_time": "2022-08-30T13:16:22.418Z"
   },
   {
    "duration": 17,
    "start_time": "2022-08-30T13:16:22.448Z"
   },
   {
    "duration": 20,
    "start_time": "2022-08-30T13:16:22.466Z"
   },
   {
    "duration": 38,
    "start_time": "2022-08-30T13:16:22.487Z"
   },
   {
    "duration": 14,
    "start_time": "2022-08-30T13:16:22.526Z"
   },
   {
    "duration": 30,
    "start_time": "2022-08-30T13:16:22.541Z"
   },
   {
    "duration": 3,
    "start_time": "2022-08-30T13:16:22.572Z"
   },
   {
    "duration": 26,
    "start_time": "2022-08-30T13:16:22.576Z"
   },
   {
    "duration": 31,
    "start_time": "2022-08-30T13:16:22.603Z"
   },
   {
    "duration": 31,
    "start_time": "2022-08-30T13:16:22.636Z"
   },
   {
    "duration": 25,
    "start_time": "2022-08-30T13:16:22.669Z"
   },
   {
    "duration": 38,
    "start_time": "2022-08-30T13:16:22.696Z"
   },
   {
    "duration": 23,
    "start_time": "2022-08-30T13:16:22.736Z"
   },
   {
    "duration": 28,
    "start_time": "2022-08-30T13:16:22.762Z"
   },
   {
    "duration": 23,
    "start_time": "2022-08-30T13:16:22.792Z"
   },
   {
    "duration": 28,
    "start_time": "2022-08-30T13:16:22.817Z"
   },
   {
    "duration": 156,
    "start_time": "2022-08-30T13:16:22.846Z"
   },
   {
    "duration": 955,
    "start_time": "2022-08-30T13:16:23.004Z"
   },
   {
    "duration": 392,
    "start_time": "2022-08-30T13:16:23.961Z"
   },
   {
    "duration": 903,
    "start_time": "2022-08-30T13:19:33.535Z"
   },
   {
    "duration": 1050,
    "start_time": "2022-08-30T13:19:53.870Z"
   },
   {
    "duration": 1001,
    "start_time": "2022-08-30T13:20:42.354Z"
   },
   {
    "duration": 448,
    "start_time": "2022-08-30T13:21:14.862Z"
   },
   {
    "duration": 2,
    "start_time": "2022-08-30T13:23:34.664Z"
   },
   {
    "duration": 101,
    "start_time": "2022-08-30T13:23:47.257Z"
   },
   {
    "duration": 886,
    "start_time": "2022-08-30T13:27:16.206Z"
   },
   {
    "duration": 448,
    "start_time": "2022-08-30T13:27:48.177Z"
   },
   {
    "duration": 401,
    "start_time": "2022-08-30T13:28:50.395Z"
   },
   {
    "duration": 742,
    "start_time": "2022-08-30T13:28:50.800Z"
   },
   {
    "duration": 2,
    "start_time": "2022-08-30T13:28:51.544Z"
   },
   {
    "duration": 266,
    "start_time": "2022-08-30T13:28:51.548Z"
   },
   {
    "duration": 686,
    "start_time": "2022-08-30T13:28:51.817Z"
   },
   {
    "duration": 3,
    "start_time": "2022-08-30T13:28:52.505Z"
   },
   {
    "duration": 143,
    "start_time": "2022-08-30T13:28:52.509Z"
   },
   {
    "duration": 27,
    "start_time": "2022-08-30T13:28:52.654Z"
   },
   {
    "duration": 125,
    "start_time": "2022-08-30T13:28:52.683Z"
   },
   {
    "duration": 3,
    "start_time": "2022-08-30T13:28:52.810Z"
   },
   {
    "duration": 18,
    "start_time": "2022-08-30T13:28:52.814Z"
   },
   {
    "duration": 270,
    "start_time": "2022-08-30T13:28:52.834Z"
   },
   {
    "duration": 10,
    "start_time": "2022-08-30T13:28:53.106Z"
   },
   {
    "duration": 5,
    "start_time": "2022-08-30T13:28:53.119Z"
   },
   {
    "duration": 7,
    "start_time": "2022-08-30T13:28:53.125Z"
   },
   {
    "duration": 5,
    "start_time": "2022-08-30T13:28:53.134Z"
   },
   {
    "duration": 5,
    "start_time": "2022-08-30T13:28:53.141Z"
   },
   {
    "duration": 7,
    "start_time": "2022-08-30T13:28:53.147Z"
   },
   {
    "duration": 15,
    "start_time": "2022-08-30T13:28:53.156Z"
   },
   {
    "duration": 33,
    "start_time": "2022-08-30T13:28:53.172Z"
   },
   {
    "duration": 8,
    "start_time": "2022-08-30T13:28:53.207Z"
   },
   {
    "duration": 15,
    "start_time": "2022-08-30T13:28:53.217Z"
   },
   {
    "duration": 6,
    "start_time": "2022-08-30T13:28:53.233Z"
   },
   {
    "duration": 13,
    "start_time": "2022-08-30T13:28:53.241Z"
   },
   {
    "duration": 7,
    "start_time": "2022-08-30T13:28:53.255Z"
   },
   {
    "duration": 45,
    "start_time": "2022-08-30T13:28:53.263Z"
   },
   {
    "duration": 5,
    "start_time": "2022-08-30T13:28:53.309Z"
   },
   {
    "duration": 21,
    "start_time": "2022-08-30T13:28:53.315Z"
   },
   {
    "duration": 18,
    "start_time": "2022-08-30T13:28:53.338Z"
   },
   {
    "duration": 9,
    "start_time": "2022-08-30T13:28:53.358Z"
   },
   {
    "duration": 34,
    "start_time": "2022-08-30T13:28:53.368Z"
   },
   {
    "duration": 13,
    "start_time": "2022-08-30T13:28:53.403Z"
   },
   {
    "duration": 14,
    "start_time": "2022-08-30T13:28:53.417Z"
   },
   {
    "duration": 3,
    "start_time": "2022-08-30T13:28:53.432Z"
   },
   {
    "duration": 14,
    "start_time": "2022-08-30T13:28:53.436Z"
   },
   {
    "duration": 6,
    "start_time": "2022-08-30T13:28:53.451Z"
   },
   {
    "duration": 10,
    "start_time": "2022-08-30T13:28:53.458Z"
   },
   {
    "duration": 10,
    "start_time": "2022-08-30T13:28:53.470Z"
   },
   {
    "duration": 3,
    "start_time": "2022-08-30T13:28:53.500Z"
   },
   {
    "duration": 12,
    "start_time": "2022-08-30T13:28:53.505Z"
   },
   {
    "duration": 13,
    "start_time": "2022-08-30T13:28:53.520Z"
   },
   {
    "duration": 21,
    "start_time": "2022-08-30T13:28:53.535Z"
   },
   {
    "duration": 14,
    "start_time": "2022-08-30T13:28:53.557Z"
   },
   {
    "duration": 110,
    "start_time": "2022-08-30T13:28:53.573Z"
   },
   {
    "duration": 0,
    "start_time": "2022-08-30T13:28:53.685Z"
   },
   {
    "duration": 868,
    "start_time": "2022-08-30T13:29:26.219Z"
   },
   {
    "duration": 591,
    "start_time": "2022-08-30T13:29:31.130Z"
   },
   {
    "duration": 967,
    "start_time": "2022-08-30T13:33:01.607Z"
   },
   {
    "duration": 440,
    "start_time": "2022-08-30T13:38:05.778Z"
   },
   {
    "duration": 679,
    "start_time": "2022-08-30T13:38:06.220Z"
   },
   {
    "duration": 2,
    "start_time": "2022-08-30T13:38:06.900Z"
   },
   {
    "duration": 311,
    "start_time": "2022-08-30T13:38:06.904Z"
   },
   {
    "duration": 685,
    "start_time": "2022-08-30T13:38:07.217Z"
   },
   {
    "duration": 3,
    "start_time": "2022-08-30T13:38:07.904Z"
   },
   {
    "duration": 136,
    "start_time": "2022-08-30T13:38:07.908Z"
   },
   {
    "duration": 33,
    "start_time": "2022-08-30T13:38:08.046Z"
   },
   {
    "duration": 142,
    "start_time": "2022-08-30T13:38:08.081Z"
   },
   {
    "duration": 4,
    "start_time": "2022-08-30T13:38:08.224Z"
   },
   {
    "duration": 33,
    "start_time": "2022-08-30T13:38:08.230Z"
   },
   {
    "duration": 283,
    "start_time": "2022-08-30T13:38:08.265Z"
   },
   {
    "duration": 12,
    "start_time": "2022-08-30T13:38:08.549Z"
   },
   {
    "duration": 5,
    "start_time": "2022-08-30T13:38:08.565Z"
   },
   {
    "duration": 9,
    "start_time": "2022-08-30T13:38:08.571Z"
   },
   {
    "duration": 5,
    "start_time": "2022-08-30T13:38:08.599Z"
   },
   {
    "duration": 14,
    "start_time": "2022-08-30T13:38:08.605Z"
   },
   {
    "duration": 7,
    "start_time": "2022-08-30T13:38:08.621Z"
   },
   {
    "duration": 18,
    "start_time": "2022-08-30T13:38:08.629Z"
   },
   {
    "duration": 7,
    "start_time": "2022-08-30T13:38:08.649Z"
   },
   {
    "duration": 9,
    "start_time": "2022-08-30T13:38:08.657Z"
   },
   {
    "duration": 18,
    "start_time": "2022-08-30T13:38:08.667Z"
   },
   {
    "duration": 8,
    "start_time": "2022-08-30T13:38:08.699Z"
   },
   {
    "duration": 15,
    "start_time": "2022-08-30T13:38:08.709Z"
   },
   {
    "duration": 8,
    "start_time": "2022-08-30T13:38:08.726Z"
   },
   {
    "duration": 14,
    "start_time": "2022-08-30T13:38:08.735Z"
   },
   {
    "duration": 10,
    "start_time": "2022-08-30T13:38:08.751Z"
   },
   {
    "duration": 54,
    "start_time": "2022-08-30T13:38:08.762Z"
   },
   {
    "duration": 20,
    "start_time": "2022-08-30T13:38:08.817Z"
   },
   {
    "duration": 27,
    "start_time": "2022-08-30T13:38:08.838Z"
   },
   {
    "duration": 17,
    "start_time": "2022-08-30T13:38:08.866Z"
   },
   {
    "duration": 13,
    "start_time": "2022-08-30T13:38:08.884Z"
   },
   {
    "duration": 14,
    "start_time": "2022-08-30T13:38:08.898Z"
   },
   {
    "duration": 2,
    "start_time": "2022-08-30T13:38:08.914Z"
   },
   {
    "duration": 8,
    "start_time": "2022-08-30T13:38:08.917Z"
   },
   {
    "duration": 8,
    "start_time": "2022-08-30T13:38:08.927Z"
   },
   {
    "duration": 8,
    "start_time": "2022-08-30T13:38:08.936Z"
   },
   {
    "duration": 9,
    "start_time": "2022-08-30T13:38:08.946Z"
   },
   {
    "duration": 10,
    "start_time": "2022-08-30T13:38:08.957Z"
   },
   {
    "duration": 5,
    "start_time": "2022-08-30T13:38:08.969Z"
   },
   {
    "duration": 6,
    "start_time": "2022-08-30T13:38:09.006Z"
   },
   {
    "duration": 15,
    "start_time": "2022-08-30T13:38:09.014Z"
   },
   {
    "duration": 12,
    "start_time": "2022-08-30T13:38:09.031Z"
   },
   {
    "duration": 716,
    "start_time": "2022-08-30T13:38:09.045Z"
   },
   {
    "duration": 877,
    "start_time": "2022-08-30T13:38:09.763Z"
   },
   {
    "duration": 767,
    "start_time": "2022-08-30T15:18:24.412Z"
   },
   {
    "duration": 16,
    "start_time": "2022-08-30T16:25:53.748Z"
   },
   {
    "duration": 4,
    "start_time": "2022-08-30T16:42:31.547Z"
   },
   {
    "duration": 3,
    "start_time": "2022-08-30T16:45:00.511Z"
   },
   {
    "duration": 15,
    "start_time": "2022-08-30T16:45:24.292Z"
   },
   {
    "duration": 3,
    "start_time": "2022-08-30T17:05:10.288Z"
   },
   {
    "duration": 3,
    "start_time": "2022-08-30T17:05:22.375Z"
   },
   {
    "duration": 105,
    "start_time": "2022-08-30T17:26:29.637Z"
   },
   {
    "duration": 8,
    "start_time": "2022-08-30T17:27:09.520Z"
   },
   {
    "duration": 8,
    "start_time": "2022-08-30T17:27:59.452Z"
   },
   {
    "duration": 7,
    "start_time": "2022-08-30T17:28:49.468Z"
   },
   {
    "duration": 681,
    "start_time": "2022-08-30T17:31:36.501Z"
   },
   {
    "duration": 814,
    "start_time": "2022-08-30T17:32:25.444Z"
   },
   {
    "duration": 764,
    "start_time": "2022-08-30T17:38:07.322Z"
   },
   {
    "duration": 819,
    "start_time": "2022-08-30T17:38:21.333Z"
   },
   {
    "duration": 13,
    "start_time": "2022-08-30T17:42:08.930Z"
   },
   {
    "duration": 11,
    "start_time": "2022-08-30T17:49:55.187Z"
   },
   {
    "duration": 340,
    "start_time": "2022-08-30T17:50:27.650Z"
   },
   {
    "duration": 683,
    "start_time": "2022-08-30T17:50:27.992Z"
   },
   {
    "duration": 2,
    "start_time": "2022-08-30T17:50:28.677Z"
   },
   {
    "duration": 251,
    "start_time": "2022-08-30T17:50:28.681Z"
   },
   {
    "duration": 678,
    "start_time": "2022-08-30T17:50:28.935Z"
   },
   {
    "duration": 2,
    "start_time": "2022-08-30T17:50:29.615Z"
   },
   {
    "duration": 136,
    "start_time": "2022-08-30T17:50:29.619Z"
   },
   {
    "duration": 28,
    "start_time": "2022-08-30T17:50:29.757Z"
   },
   {
    "duration": 124,
    "start_time": "2022-08-30T17:50:29.786Z"
   },
   {
    "duration": 3,
    "start_time": "2022-08-30T17:50:29.911Z"
   },
   {
    "duration": 25,
    "start_time": "2022-08-30T17:50:29.916Z"
   },
   {
    "duration": 276,
    "start_time": "2022-08-30T17:50:29.943Z"
   },
   {
    "duration": 10,
    "start_time": "2022-08-30T17:50:30.221Z"
   },
   {
    "duration": 13,
    "start_time": "2022-08-30T17:50:30.234Z"
   },
   {
    "duration": 23,
    "start_time": "2022-08-30T17:50:30.249Z"
   },
   {
    "duration": 31,
    "start_time": "2022-08-30T17:50:30.273Z"
   },
   {
    "duration": 11,
    "start_time": "2022-08-30T17:50:30.306Z"
   },
   {
    "duration": 33,
    "start_time": "2022-08-30T17:50:30.318Z"
   },
   {
    "duration": 27,
    "start_time": "2022-08-30T17:50:30.352Z"
   },
   {
    "duration": 27,
    "start_time": "2022-08-30T17:50:30.380Z"
   },
   {
    "duration": 18,
    "start_time": "2022-08-30T17:50:30.409Z"
   },
   {
    "duration": 30,
    "start_time": "2022-08-30T17:50:30.428Z"
   },
   {
    "duration": 9,
    "start_time": "2022-08-30T17:50:30.460Z"
   },
   {
    "duration": 38,
    "start_time": "2022-08-30T17:50:30.471Z"
   },
   {
    "duration": 26,
    "start_time": "2022-08-30T17:50:30.511Z"
   },
   {
    "duration": 20,
    "start_time": "2022-08-30T17:50:30.539Z"
   },
   {
    "duration": 4,
    "start_time": "2022-08-30T17:50:30.561Z"
   },
   {
    "duration": 26,
    "start_time": "2022-08-30T17:50:30.567Z"
   },
   {
    "duration": 23,
    "start_time": "2022-08-30T17:50:30.595Z"
   },
   {
    "duration": 12,
    "start_time": "2022-08-30T17:50:30.620Z"
   },
   {
    "duration": 18,
    "start_time": "2022-08-30T17:50:30.633Z"
   },
   {
    "duration": 13,
    "start_time": "2022-08-30T17:50:30.653Z"
   },
   {
    "duration": 34,
    "start_time": "2022-08-30T17:50:30.668Z"
   },
   {
    "duration": 3,
    "start_time": "2022-08-30T17:50:30.703Z"
   },
   {
    "duration": 29,
    "start_time": "2022-08-30T17:50:30.707Z"
   },
   {
    "duration": 35,
    "start_time": "2022-08-30T17:50:30.737Z"
   },
   {
    "duration": 14,
    "start_time": "2022-08-30T17:50:30.774Z"
   },
   {
    "duration": 33,
    "start_time": "2022-08-30T17:50:30.790Z"
   },
   {
    "duration": 71,
    "start_time": "2022-08-30T17:50:30.825Z"
   },
   {
    "duration": 28,
    "start_time": "2022-08-30T17:50:30.898Z"
   },
   {
    "duration": 11,
    "start_time": "2022-08-30T17:50:30.930Z"
   },
   {
    "duration": 26,
    "start_time": "2022-08-30T17:50:30.943Z"
   },
   {
    "duration": 16,
    "start_time": "2022-08-30T17:50:30.971Z"
   },
   {
    "duration": 835,
    "start_time": "2022-08-30T17:50:30.989Z"
   },
   {
    "duration": 836,
    "start_time": "2022-08-30T17:50:31.826Z"
   },
   {
    "duration": 3,
    "start_time": "2022-08-30T17:50:55.659Z"
   },
   {
    "duration": 15,
    "start_time": "2022-08-30T17:50:55.664Z"
   },
   {
    "duration": 6,
    "start_time": "2022-08-30T17:50:55.681Z"
   },
   {
    "duration": 7,
    "start_time": "2022-08-30T17:50:55.689Z"
   },
   {
    "duration": 704,
    "start_time": "2022-08-30T17:50:55.697Z"
   },
   {
    "duration": 3,
    "start_time": "2022-08-30T17:50:56.403Z"
   },
   {
    "duration": 140,
    "start_time": "2022-08-30T17:50:56.407Z"
   },
   {
    "duration": 30,
    "start_time": "2022-08-30T17:50:56.548Z"
   },
   {
    "duration": 115,
    "start_time": "2022-08-30T17:50:56.600Z"
   },
   {
    "duration": 3,
    "start_time": "2022-08-30T17:50:56.717Z"
   },
   {
    "duration": 19,
    "start_time": "2022-08-30T17:50:56.722Z"
   },
   {
    "duration": 286,
    "start_time": "2022-08-30T17:50:56.743Z"
   },
   {
    "duration": 10,
    "start_time": "2022-08-30T17:50:57.031Z"
   },
   {
    "duration": 16,
    "start_time": "2022-08-30T17:50:57.042Z"
   },
   {
    "duration": 20,
    "start_time": "2022-08-30T17:50:57.060Z"
   },
   {
    "duration": 7,
    "start_time": "2022-08-30T17:50:57.081Z"
   },
   {
    "duration": 8,
    "start_time": "2022-08-30T17:50:57.090Z"
   },
   {
    "duration": 8,
    "start_time": "2022-08-30T17:50:57.099Z"
   },
   {
    "duration": 17,
    "start_time": "2022-08-30T17:50:57.108Z"
   },
   {
    "duration": 7,
    "start_time": "2022-08-30T17:50:57.127Z"
   },
   {
    "duration": 17,
    "start_time": "2022-08-30T17:50:57.136Z"
   },
   {
    "duration": 20,
    "start_time": "2022-08-30T17:50:57.155Z"
   },
   {
    "duration": 23,
    "start_time": "2022-08-30T17:50:57.177Z"
   },
   {
    "duration": 31,
    "start_time": "2022-08-30T17:50:57.205Z"
   },
   {
    "duration": 19,
    "start_time": "2022-08-30T17:50:57.238Z"
   },
   {
    "duration": 16,
    "start_time": "2022-08-30T17:50:57.259Z"
   },
   {
    "duration": 9,
    "start_time": "2022-08-30T17:50:57.277Z"
   },
   {
    "duration": 34,
    "start_time": "2022-08-30T17:50:57.288Z"
   },
   {
    "duration": 32,
    "start_time": "2022-08-30T17:50:57.324Z"
   },
   {
    "duration": 17,
    "start_time": "2022-08-30T17:50:57.357Z"
   },
   {
    "duration": 18,
    "start_time": "2022-08-30T17:50:57.376Z"
   },
   {
    "duration": 13,
    "start_time": "2022-08-30T17:50:57.396Z"
   },
   {
    "duration": 25,
    "start_time": "2022-08-30T17:50:57.411Z"
   },
   {
    "duration": 3,
    "start_time": "2022-08-30T17:50:57.438Z"
   },
   {
    "duration": 28,
    "start_time": "2022-08-30T17:50:57.442Z"
   },
   {
    "duration": 18,
    "start_time": "2022-08-30T17:50:57.471Z"
   },
   {
    "duration": 24,
    "start_time": "2022-08-30T17:50:57.491Z"
   },
   {
    "duration": 26,
    "start_time": "2022-08-30T17:50:57.516Z"
   },
   {
    "duration": 19,
    "start_time": "2022-08-30T17:50:57.543Z"
   },
   {
    "duration": 13,
    "start_time": "2022-08-30T17:50:57.563Z"
   },
   {
    "duration": 30,
    "start_time": "2022-08-30T17:50:57.578Z"
   },
   {
    "duration": 20,
    "start_time": "2022-08-30T17:50:57.610Z"
   },
   {
    "duration": 20,
    "start_time": "2022-08-30T17:50:57.631Z"
   },
   {
    "duration": 817,
    "start_time": "2022-08-30T17:50:57.653Z"
   },
   {
    "duration": 843,
    "start_time": "2022-08-30T17:50:58.472Z"
   },
   {
    "duration": 17,
    "start_time": "2022-08-30T17:50:59.317Z"
   },
   {
    "duration": 3,
    "start_time": "2022-08-30T17:50:59.336Z"
   },
   {
    "duration": 129,
    "start_time": "2022-08-30T17:50:59.341Z"
   },
   {
    "duration": 0,
    "start_time": "2022-08-30T17:50:59.472Z"
   },
   {
    "duration": 0,
    "start_time": "2022-08-30T17:50:59.474Z"
   },
   {
    "duration": 0,
    "start_time": "2022-08-30T17:50:59.475Z"
   },
   {
    "duration": 0,
    "start_time": "2022-08-30T17:50:59.476Z"
   },
   {
    "duration": 0,
    "start_time": "2022-08-30T17:50:59.477Z"
   },
   {
    "duration": 0,
    "start_time": "2022-08-30T17:50:59.478Z"
   },
   {
    "duration": 0,
    "start_time": "2022-08-30T17:50:59.479Z"
   },
   {
    "duration": 428,
    "start_time": "2022-08-30T17:54:20.003Z"
   },
   {
    "duration": 690,
    "start_time": "2022-08-30T17:54:20.432Z"
   },
   {
    "duration": 2,
    "start_time": "2022-08-30T17:54:21.124Z"
   },
   {
    "duration": 241,
    "start_time": "2022-08-30T17:54:21.128Z"
   },
   {
    "duration": 737,
    "start_time": "2022-08-30T17:54:21.371Z"
   },
   {
    "duration": 3,
    "start_time": "2022-08-30T17:54:22.110Z"
   },
   {
    "duration": 139,
    "start_time": "2022-08-30T17:54:22.115Z"
   },
   {
    "duration": 31,
    "start_time": "2022-08-30T17:54:22.255Z"
   },
   {
    "duration": 110,
    "start_time": "2022-08-30T17:54:22.300Z"
   },
   {
    "duration": 3,
    "start_time": "2022-08-30T17:54:22.413Z"
   },
   {
    "duration": 21,
    "start_time": "2022-08-30T17:54:22.418Z"
   },
   {
    "duration": 261,
    "start_time": "2022-08-30T17:54:22.441Z"
   },
   {
    "duration": 10,
    "start_time": "2022-08-30T17:54:22.704Z"
   },
   {
    "duration": 13,
    "start_time": "2022-08-30T17:54:22.715Z"
   },
   {
    "duration": 10,
    "start_time": "2022-08-30T17:54:22.729Z"
   },
   {
    "duration": 13,
    "start_time": "2022-08-30T17:54:22.741Z"
   },
   {
    "duration": 9,
    "start_time": "2022-08-30T17:54:22.755Z"
   },
   {
    "duration": 9,
    "start_time": "2022-08-30T17:54:22.766Z"
   },
   {
    "duration": 29,
    "start_time": "2022-08-30T17:54:22.776Z"
   },
   {
    "duration": 6,
    "start_time": "2022-08-30T17:54:22.807Z"
   },
   {
    "duration": 6,
    "start_time": "2022-08-30T17:54:22.815Z"
   },
   {
    "duration": 14,
    "start_time": "2022-08-30T17:54:22.823Z"
   },
   {
    "duration": 6,
    "start_time": "2022-08-30T17:54:22.838Z"
   },
   {
    "duration": 13,
    "start_time": "2022-08-30T17:54:22.845Z"
   },
   {
    "duration": 8,
    "start_time": "2022-08-30T17:54:22.859Z"
   },
   {
    "duration": 45,
    "start_time": "2022-08-30T17:54:22.869Z"
   },
   {
    "duration": 14,
    "start_time": "2022-08-30T17:54:22.916Z"
   },
   {
    "duration": 40,
    "start_time": "2022-08-30T17:54:22.935Z"
   },
   {
    "duration": 25,
    "start_time": "2022-08-30T17:54:22.977Z"
   },
   {
    "duration": 12,
    "start_time": "2022-08-30T17:54:23.004Z"
   },
   {
    "duration": 15,
    "start_time": "2022-08-30T17:54:23.018Z"
   },
   {
    "duration": 12,
    "start_time": "2022-08-30T17:54:23.034Z"
   },
   {
    "duration": 15,
    "start_time": "2022-08-30T17:54:23.047Z"
   },
   {
    "duration": 2,
    "start_time": "2022-08-30T17:54:23.064Z"
   },
   {
    "duration": 5,
    "start_time": "2022-08-30T17:54:23.100Z"
   },
   {
    "duration": 6,
    "start_time": "2022-08-30T17:54:23.106Z"
   },
   {
    "duration": 8,
    "start_time": "2022-08-30T17:54:23.114Z"
   },
   {
    "duration": 62,
    "start_time": "2022-08-30T17:54:23.124Z"
   },
   {
    "duration": 29,
    "start_time": "2022-08-30T17:54:23.187Z"
   },
   {
    "duration": 22,
    "start_time": "2022-08-30T17:54:23.218Z"
   },
   {
    "duration": 10,
    "start_time": "2022-08-30T17:54:23.242Z"
   },
   {
    "duration": 18,
    "start_time": "2022-08-30T17:54:23.253Z"
   },
   {
    "duration": 12,
    "start_time": "2022-08-30T17:54:23.273Z"
   },
   {
    "duration": 811,
    "start_time": "2022-08-30T17:54:23.286Z"
   },
   {
    "duration": 838,
    "start_time": "2022-08-30T17:54:24.099Z"
   },
   {
    "duration": 3,
    "start_time": "2022-08-30T17:54:24.939Z"
   },
   {
    "duration": 15,
    "start_time": "2022-08-30T17:54:24.943Z"
   },
   {
    "duration": 9,
    "start_time": "2022-08-30T17:54:24.959Z"
   },
   {
    "duration": 9,
    "start_time": "2022-08-30T17:54:24.969Z"
   },
   {
    "duration": 126,
    "start_time": "2022-08-30T17:54:24.980Z"
   },
   {
    "duration": 0,
    "start_time": "2022-08-30T17:54:25.107Z"
   },
   {
    "duration": 11,
    "start_time": "2022-08-30T17:54:46.206Z"
   },
   {
    "duration": 769,
    "start_time": "2022-08-30T17:54:55.327Z"
   },
   {
    "duration": 12,
    "start_time": "2022-08-30T17:55:45.880Z"
   },
   {
    "duration": 11,
    "start_time": "2022-08-30T17:57:39.994Z"
   },
   {
    "duration": 4,
    "start_time": "2022-08-30T18:01:34.675Z"
   },
   {
    "duration": 14,
    "start_time": "2022-08-30T18:03:59.974Z"
   },
   {
    "duration": 13,
    "start_time": "2022-08-30T18:04:10.728Z"
   },
   {
    "duration": 10,
    "start_time": "2022-08-30T18:04:39.851Z"
   },
   {
    "duration": 9,
    "start_time": "2022-08-30T18:04:48.340Z"
   },
   {
    "duration": 11,
    "start_time": "2022-08-30T18:06:05.627Z"
   },
   {
    "duration": 1155,
    "start_time": "2022-08-30T18:06:15.732Z"
   },
   {
    "duration": 1461,
    "start_time": "2022-08-30T18:06:59.862Z"
   },
   {
    "duration": 410,
    "start_time": "2022-08-30T18:07:33.135Z"
   },
   {
    "duration": 740,
    "start_time": "2022-08-30T18:07:33.548Z"
   },
   {
    "duration": 4,
    "start_time": "2022-08-30T18:07:34.289Z"
   },
   {
    "duration": 239,
    "start_time": "2022-08-30T18:07:34.300Z"
   },
   {
    "duration": 1,
    "start_time": "2022-08-30T18:07:34.543Z"
   },
   {
    "duration": 0,
    "start_time": "2022-08-30T18:07:34.545Z"
   },
   {
    "duration": 0,
    "start_time": "2022-08-30T18:07:34.547Z"
   },
   {
    "duration": 0,
    "start_time": "2022-08-30T18:07:34.548Z"
   },
   {
    "duration": 0,
    "start_time": "2022-08-30T18:07:34.550Z"
   },
   {
    "duration": 0,
    "start_time": "2022-08-30T18:07:34.551Z"
   },
   {
    "duration": 0,
    "start_time": "2022-08-30T18:07:34.552Z"
   },
   {
    "duration": 0,
    "start_time": "2022-08-30T18:07:34.553Z"
   },
   {
    "duration": 0,
    "start_time": "2022-08-30T18:07:34.555Z"
   },
   {
    "duration": 0,
    "start_time": "2022-08-30T18:07:34.556Z"
   },
   {
    "duration": 0,
    "start_time": "2022-08-30T18:07:34.557Z"
   },
   {
    "duration": 0,
    "start_time": "2022-08-30T18:07:34.559Z"
   },
   {
    "duration": 0,
    "start_time": "2022-08-30T18:07:34.560Z"
   },
   {
    "duration": 0,
    "start_time": "2022-08-30T18:07:34.562Z"
   },
   {
    "duration": 0,
    "start_time": "2022-08-30T18:07:34.563Z"
   },
   {
    "duration": 0,
    "start_time": "2022-08-30T18:07:34.600Z"
   },
   {
    "duration": 0,
    "start_time": "2022-08-30T18:07:34.602Z"
   },
   {
    "duration": 0,
    "start_time": "2022-08-30T18:07:34.603Z"
   },
   {
    "duration": 0,
    "start_time": "2022-08-30T18:07:34.604Z"
   },
   {
    "duration": 0,
    "start_time": "2022-08-30T18:07:34.605Z"
   },
   {
    "duration": 0,
    "start_time": "2022-08-30T18:07:34.606Z"
   },
   {
    "duration": 0,
    "start_time": "2022-08-30T18:07:34.608Z"
   },
   {
    "duration": 1,
    "start_time": "2022-08-30T18:07:34.609Z"
   },
   {
    "duration": 0,
    "start_time": "2022-08-30T18:07:34.611Z"
   },
   {
    "duration": 0,
    "start_time": "2022-08-30T18:07:34.612Z"
   },
   {
    "duration": 0,
    "start_time": "2022-08-30T18:07:34.613Z"
   },
   {
    "duration": 0,
    "start_time": "2022-08-30T18:07:34.615Z"
   },
   {
    "duration": 0,
    "start_time": "2022-08-30T18:07:34.616Z"
   },
   {
    "duration": 0,
    "start_time": "2022-08-30T18:07:34.617Z"
   },
   {
    "duration": 0,
    "start_time": "2022-08-30T18:07:34.619Z"
   },
   {
    "duration": 0,
    "start_time": "2022-08-30T18:07:34.620Z"
   },
   {
    "duration": 0,
    "start_time": "2022-08-30T18:07:34.622Z"
   },
   {
    "duration": 0,
    "start_time": "2022-08-30T18:07:34.623Z"
   },
   {
    "duration": 0,
    "start_time": "2022-08-30T18:07:34.624Z"
   },
   {
    "duration": 0,
    "start_time": "2022-08-30T18:07:34.626Z"
   },
   {
    "duration": 0,
    "start_time": "2022-08-30T18:07:34.628Z"
   },
   {
    "duration": 0,
    "start_time": "2022-08-30T18:07:34.629Z"
   },
   {
    "duration": 0,
    "start_time": "2022-08-30T18:07:34.630Z"
   },
   {
    "duration": 1,
    "start_time": "2022-08-30T18:07:34.631Z"
   },
   {
    "duration": 0,
    "start_time": "2022-08-30T18:07:34.633Z"
   },
   {
    "duration": 0,
    "start_time": "2022-08-30T18:07:34.635Z"
   },
   {
    "duration": 0,
    "start_time": "2022-08-30T18:07:34.636Z"
   },
   {
    "duration": 0,
    "start_time": "2022-08-30T18:07:34.638Z"
   },
   {
    "duration": 0,
    "start_time": "2022-08-30T18:07:34.639Z"
   },
   {
    "duration": 0,
    "start_time": "2022-08-30T18:07:34.700Z"
   },
   {
    "duration": 0,
    "start_time": "2022-08-30T18:07:34.702Z"
   },
   {
    "duration": 384,
    "start_time": "2022-08-30T18:08:21.627Z"
   },
   {
    "duration": 763,
    "start_time": "2022-08-30T18:08:22.013Z"
   },
   {
    "duration": 3,
    "start_time": "2022-08-30T18:08:22.777Z"
   },
   {
    "duration": 269,
    "start_time": "2022-08-30T18:08:22.782Z"
   },
   {
    "duration": 613,
    "start_time": "2022-08-30T18:08:23.053Z"
   },
   {
    "duration": 3,
    "start_time": "2022-08-30T18:08:23.668Z"
   },
   {
    "duration": 148,
    "start_time": "2022-08-30T18:08:23.673Z"
   },
   {
    "duration": 45,
    "start_time": "2022-08-30T18:08:23.823Z"
   },
   {
    "duration": 150,
    "start_time": "2022-08-30T18:08:23.869Z"
   },
   {
    "duration": 4,
    "start_time": "2022-08-30T18:08:24.020Z"
   },
   {
    "duration": 35,
    "start_time": "2022-08-30T18:08:24.026Z"
   },
   {
    "duration": 256,
    "start_time": "2022-08-30T18:08:24.062Z"
   },
   {
    "duration": 10,
    "start_time": "2022-08-30T18:08:24.319Z"
   },
   {
    "duration": 8,
    "start_time": "2022-08-30T18:08:24.332Z"
   },
   {
    "duration": 13,
    "start_time": "2022-08-30T18:08:24.341Z"
   },
   {
    "duration": 6,
    "start_time": "2022-08-30T18:08:24.356Z"
   },
   {
    "duration": 5,
    "start_time": "2022-08-30T18:08:24.364Z"
   },
   {
    "duration": 18,
    "start_time": "2022-08-30T18:08:24.370Z"
   },
   {
    "duration": 13,
    "start_time": "2022-08-30T18:08:24.401Z"
   },
   {
    "duration": 11,
    "start_time": "2022-08-30T18:08:24.416Z"
   },
   {
    "duration": 18,
    "start_time": "2022-08-30T18:08:24.428Z"
   },
   {
    "duration": 26,
    "start_time": "2022-08-30T18:08:24.448Z"
   },
   {
    "duration": 24,
    "start_time": "2022-08-30T18:08:24.476Z"
   },
   {
    "duration": 21,
    "start_time": "2022-08-30T18:08:24.502Z"
   },
   {
    "duration": 10,
    "start_time": "2022-08-30T18:08:24.525Z"
   },
   {
    "duration": 22,
    "start_time": "2022-08-30T18:08:24.538Z"
   },
   {
    "duration": 5,
    "start_time": "2022-08-30T18:08:24.562Z"
   },
   {
    "duration": 57,
    "start_time": "2022-08-30T18:08:24.569Z"
   },
   {
    "duration": 22,
    "start_time": "2022-08-30T18:08:24.628Z"
   },
   {
    "duration": 16,
    "start_time": "2022-08-30T18:08:24.652Z"
   },
   {
    "duration": 35,
    "start_time": "2022-08-30T18:08:24.670Z"
   },
   {
    "duration": 20,
    "start_time": "2022-08-30T18:08:24.707Z"
   },
   {
    "duration": 15,
    "start_time": "2022-08-30T18:08:24.729Z"
   },
   {
    "duration": 3,
    "start_time": "2022-08-30T18:08:24.746Z"
   },
   {
    "duration": 8,
    "start_time": "2022-08-30T18:08:24.751Z"
   },
   {
    "duration": 7,
    "start_time": "2022-08-30T18:08:24.760Z"
   },
   {
    "duration": 5,
    "start_time": "2022-08-30T18:08:24.801Z"
   },
   {
    "duration": 7,
    "start_time": "2022-08-30T18:08:24.808Z"
   },
   {
    "duration": 14,
    "start_time": "2022-08-30T18:08:24.817Z"
   },
   {
    "duration": 8,
    "start_time": "2022-08-30T18:08:24.833Z"
   },
   {
    "duration": 6,
    "start_time": "2022-08-30T18:08:24.846Z"
   },
   {
    "duration": 20,
    "start_time": "2022-08-30T18:08:24.854Z"
   },
   {
    "duration": 31,
    "start_time": "2022-08-30T18:08:24.876Z"
   },
   {
    "duration": 805,
    "start_time": "2022-08-30T18:08:24.909Z"
   },
   {
    "duration": 855,
    "start_time": "2022-08-30T18:08:25.715Z"
   },
   {
    "duration": 4,
    "start_time": "2022-08-30T18:08:26.571Z"
   },
   {
    "duration": 16,
    "start_time": "2022-08-30T18:08:26.576Z"
   },
   {
    "duration": 19,
    "start_time": "2022-08-30T18:08:26.593Z"
   },
   {
    "duration": 13,
    "start_time": "2022-08-30T18:08:26.614Z"
   },
   {
    "duration": 1194,
    "start_time": "2022-08-30T18:08:26.628Z"
   },
   {
    "duration": 11,
    "start_time": "2022-08-30T18:29:12.556Z"
   },
   {
    "duration": 21010,
    "start_time": "2022-08-30T18:49:07.376Z"
   },
   {
    "duration": 10,
    "start_time": "2022-08-30T18:52:07.158Z"
   },
   {
    "duration": 198,
    "start_time": "2022-08-30T18:52:10.443Z"
   },
   {
    "duration": 11,
    "start_time": "2022-08-30T18:52:21.951Z"
   },
   {
    "duration": 169,
    "start_time": "2022-08-30T18:52:29.037Z"
   },
   {
    "duration": 12,
    "start_time": "2022-08-30T19:06:40.742Z"
   },
   {
    "duration": 11,
    "start_time": "2022-08-30T19:06:57.277Z"
   },
   {
    "duration": 26,
    "start_time": "2022-08-30T19:07:42.999Z"
   },
   {
    "duration": 6,
    "start_time": "2022-08-30T19:19:34.273Z"
   },
   {
    "duration": 10,
    "start_time": "2022-08-30T19:19:57.134Z"
   },
   {
    "duration": 19,
    "start_time": "2022-08-30T19:20:24.287Z"
   },
   {
    "duration": 7,
    "start_time": "2022-08-30T19:24:10.015Z"
   },
   {
    "duration": 11,
    "start_time": "2022-08-30T19:24:13.043Z"
   },
   {
    "duration": 20,
    "start_time": "2022-08-30T19:24:17.790Z"
   },
   {
    "duration": 8,
    "start_time": "2022-08-30T19:25:01.491Z"
   },
   {
    "duration": 393,
    "start_time": "2022-08-30T19:25:46.724Z"
   },
   {
    "duration": 698,
    "start_time": "2022-08-30T19:25:47.119Z"
   },
   {
    "duration": 2,
    "start_time": "2022-08-30T19:25:47.819Z"
   },
   {
    "duration": 240,
    "start_time": "2022-08-30T19:25:47.822Z"
   },
   {
    "duration": 636,
    "start_time": "2022-08-30T19:25:48.064Z"
   },
   {
    "duration": 3,
    "start_time": "2022-08-30T19:25:48.702Z"
   },
   {
    "duration": 137,
    "start_time": "2022-08-30T19:25:48.706Z"
   },
   {
    "duration": 29,
    "start_time": "2022-08-30T19:25:48.844Z"
   },
   {
    "duration": 117,
    "start_time": "2022-08-30T19:25:48.874Z"
   },
   {
    "duration": 7,
    "start_time": "2022-08-30T19:25:48.993Z"
   },
   {
    "duration": 20,
    "start_time": "2022-08-30T19:25:49.002Z"
   },
   {
    "duration": 257,
    "start_time": "2022-08-30T19:25:49.023Z"
   },
   {
    "duration": 18,
    "start_time": "2022-08-30T19:25:49.282Z"
   },
   {
    "duration": 5,
    "start_time": "2022-08-30T19:25:49.304Z"
   },
   {
    "duration": 6,
    "start_time": "2022-08-30T19:25:49.311Z"
   },
   {
    "duration": 8,
    "start_time": "2022-08-30T19:25:49.318Z"
   },
   {
    "duration": 7,
    "start_time": "2022-08-30T19:25:49.328Z"
   },
   {
    "duration": 9,
    "start_time": "2022-08-30T19:25:49.337Z"
   },
   {
    "duration": 17,
    "start_time": "2022-08-30T19:25:49.347Z"
   },
   {
    "duration": 7,
    "start_time": "2022-08-30T19:25:49.366Z"
   },
   {
    "duration": 26,
    "start_time": "2022-08-30T19:25:49.375Z"
   },
   {
    "duration": 15,
    "start_time": "2022-08-30T19:25:49.402Z"
   },
   {
    "duration": 7,
    "start_time": "2022-08-30T19:25:49.418Z"
   },
   {
    "duration": 19,
    "start_time": "2022-08-30T19:25:49.426Z"
   },
   {
    "duration": 7,
    "start_time": "2022-08-30T19:25:49.447Z"
   },
   {
    "duration": 44,
    "start_time": "2022-08-30T19:25:49.456Z"
   },
   {
    "duration": 4,
    "start_time": "2022-08-30T19:25:49.502Z"
   },
   {
    "duration": 33,
    "start_time": "2022-08-30T19:25:49.508Z"
   },
   {
    "duration": 19,
    "start_time": "2022-08-30T19:25:49.543Z"
   },
   {
    "duration": 13,
    "start_time": "2022-08-30T19:25:49.564Z"
   },
   {
    "duration": 21,
    "start_time": "2022-08-30T19:25:49.579Z"
   },
   {
    "duration": 13,
    "start_time": "2022-08-30T19:25:49.601Z"
   },
   {
    "duration": 14,
    "start_time": "2022-08-30T19:25:49.615Z"
   },
   {
    "duration": 2,
    "start_time": "2022-08-30T19:25:49.631Z"
   },
   {
    "duration": 9,
    "start_time": "2022-08-30T19:25:49.634Z"
   },
   {
    "duration": 7,
    "start_time": "2022-08-30T19:25:49.645Z"
   },
   {
    "duration": 10,
    "start_time": "2022-08-30T19:25:49.654Z"
   },
   {
    "duration": 8,
    "start_time": "2022-08-30T19:25:49.665Z"
   },
   {
    "duration": 26,
    "start_time": "2022-08-30T19:25:49.675Z"
   },
   {
    "duration": 3,
    "start_time": "2022-08-30T19:25:49.702Z"
   },
   {
    "duration": 5,
    "start_time": "2022-08-30T19:25:49.708Z"
   },
   {
    "duration": 24,
    "start_time": "2022-08-30T19:25:49.715Z"
   },
   {
    "duration": 14,
    "start_time": "2022-08-30T19:25:49.740Z"
   },
   {
    "duration": 732,
    "start_time": "2022-08-30T19:25:49.756Z"
   },
   {
    "duration": 773,
    "start_time": "2022-08-30T19:25:50.490Z"
   },
   {
    "duration": 4,
    "start_time": "2022-08-30T19:25:51.264Z"
   },
   {
    "duration": 7,
    "start_time": "2022-08-30T19:25:51.269Z"
   },
   {
    "duration": 22,
    "start_time": "2022-08-30T19:25:51.278Z"
   },
   {
    "duration": 9,
    "start_time": "2022-08-30T19:25:51.301Z"
   },
   {
    "duration": 1186,
    "start_time": "2022-08-30T19:25:51.311Z"
   },
   {
    "duration": 10,
    "start_time": "2022-08-30T19:25:52.500Z"
   },
   {
    "duration": 25,
    "start_time": "2022-08-30T19:25:52.511Z"
   },
   {
    "duration": 5,
    "start_time": "2022-08-30T19:25:52.538Z"
   },
   {
    "duration": 14,
    "start_time": "2022-08-30T19:25:52.544Z"
   },
   {
    "duration": 18,
    "start_time": "2022-08-30T19:25:52.560Z"
   },
   {
    "duration": 6,
    "start_time": "2022-08-30T19:25:52.600Z"
   },
   {
    "duration": 11,
    "start_time": "2022-08-30T19:25:52.607Z"
   },
   {
    "duration": 1102,
    "start_time": "2022-08-30T19:26:29.002Z"
   },
   {
    "duration": 7,
    "start_time": "2022-08-30T19:39:57.762Z"
   },
   {
    "duration": 10,
    "start_time": "2022-08-30T19:40:13.962Z"
   },
   {
    "duration": 20,
    "start_time": "2022-08-30T19:40:39.883Z"
   },
   {
    "duration": 11,
    "start_time": "2022-08-30T19:45:41.638Z"
   },
   {
    "duration": 1217,
    "start_time": "2022-08-30T19:46:20.892Z"
   },
   {
    "duration": 9,
    "start_time": "2022-08-30T19:49:49.614Z"
   },
   {
    "duration": 106,
    "start_time": "2022-08-30T19:50:20.709Z"
   },
   {
    "duration": 4,
    "start_time": "2022-08-30T19:50:39.180Z"
   },
   {
    "duration": 5,
    "start_time": "2022-08-30T19:50:53.942Z"
   },
   {
    "duration": 3,
    "start_time": "2022-08-31T11:19:52.407Z"
   },
   {
    "duration": 3,
    "start_time": "2022-08-31T11:23:30.126Z"
   },
   {
    "duration": 4,
    "start_time": "2022-08-31T11:23:37.115Z"
   },
   {
    "duration": 403,
    "start_time": "2022-08-31T11:35:04.471Z"
   },
   {
    "duration": 852,
    "start_time": "2022-08-31T11:35:04.876Z"
   },
   {
    "duration": 4,
    "start_time": "2022-08-31T11:35:05.729Z"
   },
   {
    "duration": 319,
    "start_time": "2022-08-31T11:35:05.735Z"
   },
   {
    "duration": 700,
    "start_time": "2022-08-31T11:35:06.057Z"
   },
   {
    "duration": 11,
    "start_time": "2022-08-31T11:35:06.759Z"
   },
   {
    "duration": 145,
    "start_time": "2022-08-31T11:35:06.772Z"
   },
   {
    "duration": 28,
    "start_time": "2022-08-31T11:35:06.919Z"
   },
   {
    "duration": 119,
    "start_time": "2022-08-31T11:35:06.957Z"
   },
   {
    "duration": 3,
    "start_time": "2022-08-31T11:35:07.078Z"
   },
   {
    "duration": 21,
    "start_time": "2022-08-31T11:35:07.083Z"
   },
   {
    "duration": 292,
    "start_time": "2022-08-31T11:35:07.105Z"
   },
   {
    "duration": 10,
    "start_time": "2022-08-31T11:35:07.399Z"
   },
   {
    "duration": 6,
    "start_time": "2022-08-31T11:35:07.411Z"
   },
   {
    "duration": 6,
    "start_time": "2022-08-31T11:35:07.418Z"
   },
   {
    "duration": 8,
    "start_time": "2022-08-31T11:35:07.425Z"
   },
   {
    "duration": 24,
    "start_time": "2022-08-31T11:35:07.434Z"
   },
   {
    "duration": 21,
    "start_time": "2022-08-31T11:35:07.460Z"
   },
   {
    "duration": 15,
    "start_time": "2022-08-31T11:35:07.482Z"
   },
   {
    "duration": 6,
    "start_time": "2022-08-31T11:35:07.498Z"
   },
   {
    "duration": 8,
    "start_time": "2022-08-31T11:35:07.505Z"
   },
   {
    "duration": 17,
    "start_time": "2022-08-31T11:35:07.514Z"
   },
   {
    "duration": 7,
    "start_time": "2022-08-31T11:35:07.532Z"
   },
   {
    "duration": 28,
    "start_time": "2022-08-31T11:35:07.540Z"
   },
   {
    "duration": 8,
    "start_time": "2022-08-31T11:35:07.570Z"
   },
   {
    "duration": 18,
    "start_time": "2022-08-31T11:35:07.582Z"
   },
   {
    "duration": 4,
    "start_time": "2022-08-31T11:35:07.601Z"
   },
   {
    "duration": 22,
    "start_time": "2022-08-31T11:35:07.607Z"
   },
   {
    "duration": 45,
    "start_time": "2022-08-31T11:35:07.631Z"
   },
   {
    "duration": 9,
    "start_time": "2022-08-31T11:35:07.678Z"
   },
   {
    "duration": 27,
    "start_time": "2022-08-31T11:35:07.688Z"
   },
   {
    "duration": 19,
    "start_time": "2022-08-31T11:35:07.716Z"
   },
   {
    "duration": 27,
    "start_time": "2022-08-31T11:35:07.737Z"
   },
   {
    "duration": 3,
    "start_time": "2022-08-31T11:35:07.768Z"
   },
   {
    "duration": 9,
    "start_time": "2022-08-31T11:35:07.772Z"
   },
   {
    "duration": 6,
    "start_time": "2022-08-31T11:35:07.782Z"
   },
   {
    "duration": 6,
    "start_time": "2022-08-31T11:35:07.789Z"
   },
   {
    "duration": 5,
    "start_time": "2022-08-31T11:35:07.797Z"
   },
   {
    "duration": 6,
    "start_time": "2022-08-31T11:35:07.803Z"
   },
   {
    "duration": 6,
    "start_time": "2022-08-31T11:35:07.811Z"
   },
   {
    "duration": 7,
    "start_time": "2022-08-31T11:35:07.820Z"
   },
   {
    "duration": 33,
    "start_time": "2022-08-31T11:35:07.828Z"
   },
   {
    "duration": 13,
    "start_time": "2022-08-31T11:35:07.865Z"
   },
   {
    "duration": 796,
    "start_time": "2022-08-31T11:35:07.879Z"
   },
   {
    "duration": 879,
    "start_time": "2022-08-31T11:35:08.677Z"
   },
   {
    "duration": 4,
    "start_time": "2022-08-31T11:35:09.558Z"
   },
   {
    "duration": 27,
    "start_time": "2022-08-31T11:35:09.570Z"
   },
   {
    "duration": 26,
    "start_time": "2022-08-31T11:35:09.599Z"
   },
   {
    "duration": 26,
    "start_time": "2022-08-31T11:35:09.627Z"
   },
   {
    "duration": 1143,
    "start_time": "2022-08-31T11:35:09.655Z"
   },
   {
    "duration": 10,
    "start_time": "2022-08-31T11:35:10.800Z"
   },
   {
    "duration": 62,
    "start_time": "2022-08-31T11:35:10.812Z"
   },
   {
    "duration": 19,
    "start_time": "2022-08-31T11:35:10.876Z"
   },
   {
    "duration": 1176,
    "start_time": "2022-08-31T11:35:10.896Z"
   },
   {
    "duration": 8,
    "start_time": "2022-08-31T11:35:12.074Z"
   },
   {
    "duration": 15,
    "start_time": "2022-08-31T11:35:12.083Z"
   },
   {
    "duration": 19,
    "start_time": "2022-08-31T11:35:12.100Z"
   },
   {
    "duration": 9,
    "start_time": "2022-08-31T11:35:12.120Z"
   },
   {
    "duration": 9,
    "start_time": "2022-08-31T11:35:12.131Z"
   },
   {
    "duration": 19,
    "start_time": "2022-08-31T11:35:12.141Z"
   },
   {
    "duration": 12,
    "start_time": "2022-08-31T11:39:36.665Z"
   },
   {
    "duration": 104,
    "start_time": "2022-08-31T12:14:08.221Z"
   },
   {
    "duration": 59,
    "start_time": "2022-08-31T12:17:52.315Z"
   },
   {
    "duration": 2737,
    "start_time": "2022-08-31T12:27:34.729Z"
   },
   {
    "duration": 10,
    "start_time": "2022-08-31T12:40:52.384Z"
   },
   {
    "duration": 13,
    "start_time": "2022-08-31T12:44:45.277Z"
   },
   {
    "duration": 11,
    "start_time": "2022-08-31T12:46:03.068Z"
   },
   {
    "duration": 5,
    "start_time": "2022-08-31T12:54:57.214Z"
   },
   {
    "duration": 15,
    "start_time": "2022-08-31T12:57:38.276Z"
   },
   {
    "duration": 400,
    "start_time": "2022-08-31T13:19:46.925Z"
   },
   {
    "duration": 726,
    "start_time": "2022-08-31T13:19:47.327Z"
   },
   {
    "duration": 3,
    "start_time": "2022-08-31T13:19:48.054Z"
   },
   {
    "duration": 254,
    "start_time": "2022-08-31T13:19:48.059Z"
   },
   {
    "duration": 680,
    "start_time": "2022-08-31T13:19:48.315Z"
   },
   {
    "duration": 3,
    "start_time": "2022-08-31T13:19:48.996Z"
   },
   {
    "duration": 139,
    "start_time": "2022-08-31T13:19:49.001Z"
   },
   {
    "duration": 39,
    "start_time": "2022-08-31T13:19:49.141Z"
   },
   {
    "duration": 115,
    "start_time": "2022-08-31T13:19:49.182Z"
   },
   {
    "duration": 3,
    "start_time": "2022-08-31T13:19:49.299Z"
   },
   {
    "duration": 15,
    "start_time": "2022-08-31T13:19:49.304Z"
   },
   {
    "duration": 267,
    "start_time": "2022-08-31T13:19:49.321Z"
   },
   {
    "duration": 9,
    "start_time": "2022-08-31T13:19:49.590Z"
   },
   {
    "duration": 4,
    "start_time": "2022-08-31T13:19:49.600Z"
   },
   {
    "duration": 6,
    "start_time": "2022-08-31T13:19:49.606Z"
   },
   {
    "duration": 5,
    "start_time": "2022-08-31T13:19:49.613Z"
   },
   {
    "duration": 4,
    "start_time": "2022-08-31T13:19:49.619Z"
   },
   {
    "duration": 33,
    "start_time": "2022-08-31T13:19:49.625Z"
   },
   {
    "duration": 13,
    "start_time": "2022-08-31T13:19:49.660Z"
   },
   {
    "duration": 6,
    "start_time": "2022-08-31T13:19:49.675Z"
   },
   {
    "duration": 22,
    "start_time": "2022-08-31T13:19:49.683Z"
   },
   {
    "duration": 15,
    "start_time": "2022-08-31T13:19:49.707Z"
   },
   {
    "duration": 6,
    "start_time": "2022-08-31T13:19:49.724Z"
   },
   {
    "duration": 13,
    "start_time": "2022-08-31T13:19:49.731Z"
   },
   {
    "duration": 7,
    "start_time": "2022-08-31T13:19:49.757Z"
   },
   {
    "duration": 13,
    "start_time": "2022-08-31T13:19:49.765Z"
   },
   {
    "duration": 4,
    "start_time": "2022-08-31T13:19:49.779Z"
   },
   {
    "duration": 21,
    "start_time": "2022-08-31T13:19:49.786Z"
   },
   {
    "duration": 50,
    "start_time": "2022-08-31T13:19:49.808Z"
   },
   {
    "duration": 8,
    "start_time": "2022-08-31T13:19:49.860Z"
   },
   {
    "duration": 18,
    "start_time": "2022-08-31T13:19:49.870Z"
   },
   {
    "duration": 12,
    "start_time": "2022-08-31T13:19:49.890Z"
   },
   {
    "duration": 14,
    "start_time": "2022-08-31T13:19:49.903Z"
   },
   {
    "duration": 3,
    "start_time": "2022-08-31T13:19:49.919Z"
   },
   {
    "duration": 36,
    "start_time": "2022-08-31T13:19:49.923Z"
   },
   {
    "duration": 4,
    "start_time": "2022-08-31T13:19:49.961Z"
   },
   {
    "duration": 6,
    "start_time": "2022-08-31T13:19:49.967Z"
   },
   {
    "duration": 7,
    "start_time": "2022-08-31T13:19:49.974Z"
   },
   {
    "duration": 7,
    "start_time": "2022-08-31T13:19:49.983Z"
   },
   {
    "duration": 6,
    "start_time": "2022-08-31T13:19:49.992Z"
   },
   {
    "duration": 10,
    "start_time": "2022-08-31T13:19:49.999Z"
   },
   {
    "duration": 13,
    "start_time": "2022-08-31T13:19:50.011Z"
   },
   {
    "duration": 43,
    "start_time": "2022-08-31T13:19:50.026Z"
   },
   {
    "duration": 760,
    "start_time": "2022-08-31T13:19:50.071Z"
   },
   {
    "duration": 810,
    "start_time": "2022-08-31T13:19:50.833Z"
   },
   {
    "duration": 3,
    "start_time": "2022-08-31T13:19:51.645Z"
   },
   {
    "duration": 37,
    "start_time": "2022-08-31T13:19:51.649Z"
   },
   {
    "duration": 35,
    "start_time": "2022-08-31T13:19:51.688Z"
   },
   {
    "duration": 50,
    "start_time": "2022-08-31T13:19:51.725Z"
   },
   {
    "duration": 1202,
    "start_time": "2022-08-31T13:19:51.777Z"
   },
   {
    "duration": 10,
    "start_time": "2022-08-31T13:19:52.981Z"
   },
   {
    "duration": 27,
    "start_time": "2022-08-31T13:19:52.993Z"
   },
   {
    "duration": 11,
    "start_time": "2022-08-31T13:19:53.022Z"
   },
   {
    "duration": 1145,
    "start_time": "2022-08-31T13:19:53.034Z"
   },
   {
    "duration": 9,
    "start_time": "2022-08-31T13:19:54.181Z"
   },
   {
    "duration": 11,
    "start_time": "2022-08-31T13:19:54.192Z"
   },
   {
    "duration": 23,
    "start_time": "2022-08-31T13:19:54.204Z"
   },
   {
    "duration": 29,
    "start_time": "2022-08-31T13:19:54.228Z"
   },
   {
    "duration": 12,
    "start_time": "2022-08-31T13:19:54.259Z"
   },
   {
    "duration": 14,
    "start_time": "2022-08-31T13:19:54.273Z"
   },
   {
    "duration": 20,
    "start_time": "2022-08-31T13:19:54.289Z"
   },
   {
    "duration": 2161,
    "start_time": "2022-08-31T13:19:54.310Z"
   },
   {
    "duration": 5,
    "start_time": "2022-08-31T13:19:56.560Z"
   },
   {
    "duration": 404,
    "start_time": "2022-08-31T13:59:23.338Z"
   },
   {
    "duration": 692,
    "start_time": "2022-08-31T13:59:23.745Z"
   },
   {
    "duration": 2,
    "start_time": "2022-08-31T13:59:24.439Z"
   },
   {
    "duration": 252,
    "start_time": "2022-08-31T13:59:24.444Z"
   },
   {
    "duration": 680,
    "start_time": "2022-08-31T13:59:24.697Z"
   },
   {
    "duration": 3,
    "start_time": "2022-08-31T13:59:25.379Z"
   },
   {
    "duration": 139,
    "start_time": "2022-08-31T13:59:25.384Z"
   },
   {
    "duration": 32,
    "start_time": "2022-08-31T13:59:25.525Z"
   },
   {
    "duration": 126,
    "start_time": "2022-08-31T13:59:25.559Z"
   },
   {
    "duration": 3,
    "start_time": "2022-08-31T13:59:25.689Z"
   },
   {
    "duration": 17,
    "start_time": "2022-08-31T13:59:25.694Z"
   },
   {
    "duration": 276,
    "start_time": "2022-08-31T13:59:25.714Z"
   },
   {
    "duration": 10,
    "start_time": "2022-08-31T13:59:25.992Z"
   },
   {
    "duration": 6,
    "start_time": "2022-08-31T13:59:26.004Z"
   },
   {
    "duration": 5,
    "start_time": "2022-08-31T13:59:26.012Z"
   },
   {
    "duration": 6,
    "start_time": "2022-08-31T13:59:26.019Z"
   },
   {
    "duration": 30,
    "start_time": "2022-08-31T13:59:26.027Z"
   },
   {
    "duration": 6,
    "start_time": "2022-08-31T13:59:26.059Z"
   },
   {
    "duration": 13,
    "start_time": "2022-08-31T13:59:26.067Z"
   },
   {
    "duration": 6,
    "start_time": "2022-08-31T13:59:26.081Z"
   },
   {
    "duration": 6,
    "start_time": "2022-08-31T13:59:26.089Z"
   },
   {
    "duration": 13,
    "start_time": "2022-08-31T13:59:26.096Z"
   },
   {
    "duration": 5,
    "start_time": "2022-08-31T13:59:26.111Z"
   },
   {
    "duration": 43,
    "start_time": "2022-08-31T13:59:26.118Z"
   },
   {
    "duration": 8,
    "start_time": "2022-08-31T13:59:26.163Z"
   },
   {
    "duration": 15,
    "start_time": "2022-08-31T13:59:26.172Z"
   },
   {
    "duration": 3,
    "start_time": "2022-08-31T13:59:26.189Z"
   },
   {
    "duration": 19,
    "start_time": "2022-08-31T13:59:26.196Z"
   },
   {
    "duration": 49,
    "start_time": "2022-08-31T13:59:26.217Z"
   },
   {
    "duration": 7,
    "start_time": "2022-08-31T13:59:26.268Z"
   },
   {
    "duration": 14,
    "start_time": "2022-08-31T13:59:26.277Z"
   },
   {
    "duration": 11,
    "start_time": "2022-08-31T13:59:26.293Z"
   },
   {
    "duration": 15,
    "start_time": "2022-08-31T13:59:26.306Z"
   },
   {
    "duration": 2,
    "start_time": "2022-08-31T13:59:26.324Z"
   },
   {
    "duration": 5,
    "start_time": "2022-08-31T13:59:26.356Z"
   },
   {
    "duration": 7,
    "start_time": "2022-08-31T13:59:26.362Z"
   },
   {
    "duration": 11,
    "start_time": "2022-08-31T13:59:26.371Z"
   },
   {
    "duration": 16,
    "start_time": "2022-08-31T13:59:26.383Z"
   },
   {
    "duration": 8,
    "start_time": "2022-08-31T13:59:26.401Z"
   },
   {
    "duration": 6,
    "start_time": "2022-08-31T13:59:26.411Z"
   },
   {
    "duration": 5,
    "start_time": "2022-08-31T13:59:26.418Z"
   },
   {
    "duration": 14,
    "start_time": "2022-08-31T13:59:26.425Z"
   },
   {
    "duration": 17,
    "start_time": "2022-08-31T13:59:26.440Z"
   },
   {
    "duration": 774,
    "start_time": "2022-08-31T13:59:26.459Z"
   },
   {
    "duration": 809,
    "start_time": "2022-08-31T13:59:27.235Z"
   },
   {
    "duration": 3,
    "start_time": "2022-08-31T13:59:28.045Z"
   },
   {
    "duration": 14,
    "start_time": "2022-08-31T13:59:28.049Z"
   },
   {
    "duration": 11,
    "start_time": "2022-08-31T13:59:28.065Z"
   },
   {
    "duration": 15,
    "start_time": "2022-08-31T13:59:28.078Z"
   },
   {
    "duration": 1189,
    "start_time": "2022-08-31T13:59:28.094Z"
   },
   {
    "duration": 10,
    "start_time": "2022-08-31T13:59:29.285Z"
   },
   {
    "duration": 18,
    "start_time": "2022-08-31T13:59:29.297Z"
   },
   {
    "duration": 9,
    "start_time": "2022-08-31T13:59:29.317Z"
   },
   {
    "duration": 1241,
    "start_time": "2022-08-31T13:59:29.327Z"
   },
   {
    "duration": 10,
    "start_time": "2022-08-31T13:59:30.570Z"
   },
   {
    "duration": 10,
    "start_time": "2022-08-31T13:59:30.582Z"
   },
   {
    "duration": 32,
    "start_time": "2022-08-31T13:59:30.594Z"
   },
   {
    "duration": 22,
    "start_time": "2022-08-31T13:59:30.628Z"
   },
   {
    "duration": 14,
    "start_time": "2022-08-31T13:59:30.651Z"
   },
   {
    "duration": 46,
    "start_time": "2022-08-31T13:59:30.666Z"
   },
   {
    "duration": 22,
    "start_time": "2022-08-31T13:59:30.714Z"
   },
   {
    "duration": 61,
    "start_time": "2022-08-31T13:59:30.738Z"
   },
   {
    "duration": 113,
    "start_time": "2022-08-31T13:59:30.801Z"
   },
   {
    "duration": 0,
    "start_time": "2022-08-31T13:59:30.916Z"
   },
   {
    "duration": 361,
    "start_time": "2022-08-31T14:02:00.210Z"
   },
   {
    "duration": 691,
    "start_time": "2022-08-31T14:02:00.573Z"
   },
   {
    "duration": 3,
    "start_time": "2022-08-31T14:02:01.265Z"
   },
   {
    "duration": 278,
    "start_time": "2022-08-31T14:02:01.270Z"
   },
   {
    "duration": 641,
    "start_time": "2022-08-31T14:02:01.549Z"
   },
   {
    "duration": 3,
    "start_time": "2022-08-31T14:02:02.192Z"
   },
   {
    "duration": 260,
    "start_time": "2022-08-31T14:02:02.197Z"
   },
   {
    "duration": 34,
    "start_time": "2022-08-31T14:02:02.459Z"
   },
   {
    "duration": 198,
    "start_time": "2022-08-31T14:02:02.495Z"
   },
   {
    "duration": 3,
    "start_time": "2022-08-31T14:02:02.696Z"
   },
   {
    "duration": 28,
    "start_time": "2022-08-31T14:02:02.701Z"
   },
   {
    "duration": 254,
    "start_time": "2022-08-31T14:02:02.731Z"
   },
   {
    "duration": 11,
    "start_time": "2022-08-31T14:02:02.986Z"
   },
   {
    "duration": 25,
    "start_time": "2022-08-31T14:02:02.998Z"
   },
   {
    "duration": 28,
    "start_time": "2022-08-31T14:02:03.025Z"
   },
   {
    "duration": 40,
    "start_time": "2022-08-31T14:02:03.055Z"
   },
   {
    "duration": 25,
    "start_time": "2022-08-31T14:02:03.096Z"
   },
   {
    "duration": 17,
    "start_time": "2022-08-31T14:02:03.122Z"
   },
   {
    "duration": 69,
    "start_time": "2022-08-31T14:02:03.141Z"
   },
   {
    "duration": 14,
    "start_time": "2022-08-31T14:02:03.212Z"
   },
   {
    "duration": 9,
    "start_time": "2022-08-31T14:02:03.228Z"
   },
   {
    "duration": 20,
    "start_time": "2022-08-31T14:02:03.239Z"
   },
   {
    "duration": 9,
    "start_time": "2022-08-31T14:02:03.260Z"
   },
   {
    "duration": 30,
    "start_time": "2022-08-31T14:02:03.271Z"
   },
   {
    "duration": 11,
    "start_time": "2022-08-31T14:02:03.302Z"
   },
   {
    "duration": 20,
    "start_time": "2022-08-31T14:02:03.314Z"
   },
   {
    "duration": 4,
    "start_time": "2022-08-31T14:02:03.336Z"
   },
   {
    "duration": 26,
    "start_time": "2022-08-31T14:02:03.343Z"
   },
   {
    "duration": 23,
    "start_time": "2022-08-31T14:02:03.370Z"
   },
   {
    "duration": 21,
    "start_time": "2022-08-31T14:02:03.394Z"
   },
   {
    "duration": 23,
    "start_time": "2022-08-31T14:02:03.416Z"
   },
   {
    "duration": 13,
    "start_time": "2022-08-31T14:02:03.441Z"
   },
   {
    "duration": 15,
    "start_time": "2022-08-31T14:02:03.456Z"
   },
   {
    "duration": 19,
    "start_time": "2022-08-31T14:02:03.474Z"
   },
   {
    "duration": 17,
    "start_time": "2022-08-31T14:02:03.495Z"
   },
   {
    "duration": 23,
    "start_time": "2022-08-31T14:02:03.513Z"
   },
   {
    "duration": 17,
    "start_time": "2022-08-31T14:02:03.538Z"
   },
   {
    "duration": 17,
    "start_time": "2022-08-31T14:02:03.557Z"
   },
   {
    "duration": 18,
    "start_time": "2022-08-31T14:02:03.576Z"
   },
   {
    "duration": 21,
    "start_time": "2022-08-31T14:02:03.595Z"
   },
   {
    "duration": 9,
    "start_time": "2022-08-31T14:02:03.618Z"
   },
   {
    "duration": 19,
    "start_time": "2022-08-31T14:02:03.628Z"
   },
   {
    "duration": 52,
    "start_time": "2022-08-31T14:02:03.649Z"
   },
   {
    "duration": 757,
    "start_time": "2022-08-31T14:02:03.702Z"
   },
   {
    "duration": 840,
    "start_time": "2022-08-31T14:02:04.460Z"
   },
   {
    "duration": 3,
    "start_time": "2022-08-31T14:02:05.303Z"
   },
   {
    "duration": 29,
    "start_time": "2022-08-31T14:02:05.308Z"
   },
   {
    "duration": 24,
    "start_time": "2022-08-31T14:02:05.339Z"
   },
   {
    "duration": 41,
    "start_time": "2022-08-31T14:02:05.365Z"
   },
   {
    "duration": 1267,
    "start_time": "2022-08-31T14:02:05.408Z"
   },
   {
    "duration": 10,
    "start_time": "2022-08-31T14:02:06.676Z"
   },
   {
    "duration": 26,
    "start_time": "2022-08-31T14:02:06.688Z"
   },
   {
    "duration": 17,
    "start_time": "2022-08-31T14:02:06.716Z"
   },
   {
    "duration": 1161,
    "start_time": "2022-08-31T14:02:06.735Z"
   },
   {
    "duration": 8,
    "start_time": "2022-08-31T14:02:07.898Z"
   },
   {
    "duration": 12,
    "start_time": "2022-08-31T14:02:07.908Z"
   },
   {
    "duration": 26,
    "start_time": "2022-08-31T14:02:07.922Z"
   },
   {
    "duration": 13,
    "start_time": "2022-08-31T14:02:07.950Z"
   },
   {
    "duration": 9,
    "start_time": "2022-08-31T14:02:07.965Z"
   },
   {
    "duration": 27,
    "start_time": "2022-08-31T14:02:07.976Z"
   },
   {
    "duration": 24,
    "start_time": "2022-08-31T14:02:08.005Z"
   },
   {
    "duration": 2130,
    "start_time": "2022-08-31T14:02:08.031Z"
   },
   {
    "duration": 3,
    "start_time": "2022-08-31T14:05:28.559Z"
   },
   {
    "duration": 2219515,
    "start_time": "2022-08-31T14:06:17.129Z"
   },
   {
    "duration": 1491,
    "start_time": "2022-08-31T15:49:16.115Z"
   },
   {
    "duration": 1594657,
    "start_time": "2022-08-31T15:51:40.893Z"
   },
   {
    "duration": 119,
    "start_time": "2022-08-31T17:15:45.115Z"
   },
   {
    "duration": 29441,
    "start_time": "2022-08-31T17:16:14.171Z"
   },
   {
    "duration": 7320,
    "start_time": "2022-08-31T17:21:35.601Z"
   },
   {
    "duration": 811,
    "start_time": "2022-09-01T12:09:20.202Z"
   },
   {
    "duration": 89,
    "start_time": "2022-09-01T12:25:44.940Z"
   },
   {
    "duration": 413,
    "start_time": "2022-09-01T12:27:39.749Z"
   },
   {
    "duration": 901,
    "start_time": "2022-09-01T12:27:40.165Z"
   },
   {
    "duration": 4,
    "start_time": "2022-09-01T12:27:41.068Z"
   },
   {
    "duration": 350,
    "start_time": "2022-09-01T12:27:41.074Z"
   },
   {
    "duration": 1940,
    "start_time": "2022-09-01T12:27:41.426Z"
   },
   {
    "duration": 3,
    "start_time": "2022-09-01T12:27:43.368Z"
   },
   {
    "duration": 127,
    "start_time": "2022-09-01T12:27:43.372Z"
   },
   {
    "duration": 29,
    "start_time": "2022-09-01T12:27:43.501Z"
   },
   {
    "duration": 114,
    "start_time": "2022-09-01T12:27:43.532Z"
   },
   {
    "duration": 4,
    "start_time": "2022-09-01T12:27:43.657Z"
   },
   {
    "duration": 26,
    "start_time": "2022-09-01T12:27:43.662Z"
   },
   {
    "duration": 248,
    "start_time": "2022-09-01T12:27:43.690Z"
   },
   {
    "duration": 22,
    "start_time": "2022-09-01T12:27:43.939Z"
   },
   {
    "duration": 7,
    "start_time": "2022-09-01T12:27:43.964Z"
   },
   {
    "duration": 4,
    "start_time": "2022-09-01T12:27:43.973Z"
   },
   {
    "duration": 7,
    "start_time": "2022-09-01T12:27:43.978Z"
   },
   {
    "duration": 5,
    "start_time": "2022-09-01T12:27:43.987Z"
   },
   {
    "duration": 11,
    "start_time": "2022-09-01T12:27:43.993Z"
   },
   {
    "duration": 14,
    "start_time": "2022-09-01T12:27:44.005Z"
   },
   {
    "duration": 7,
    "start_time": "2022-09-01T12:27:44.020Z"
   },
   {
    "duration": 7,
    "start_time": "2022-09-01T12:27:44.028Z"
   },
   {
    "duration": 28,
    "start_time": "2022-09-01T12:27:44.036Z"
   },
   {
    "duration": 8,
    "start_time": "2022-09-01T12:27:44.066Z"
   },
   {
    "duration": 14,
    "start_time": "2022-09-01T12:27:44.075Z"
   },
   {
    "duration": 7,
    "start_time": "2022-09-01T12:27:44.090Z"
   },
   {
    "duration": 11,
    "start_time": "2022-09-01T12:27:44.098Z"
   },
   {
    "duration": 4,
    "start_time": "2022-09-01T12:27:44.111Z"
   },
   {
    "duration": 76,
    "start_time": "2022-09-01T12:27:44.118Z"
   },
   {
    "duration": 21,
    "start_time": "2022-09-01T12:27:44.196Z"
   },
   {
    "duration": 10,
    "start_time": "2022-09-01T12:27:44.219Z"
   },
   {
    "duration": 28,
    "start_time": "2022-09-01T12:27:44.231Z"
   },
   {
    "duration": 11,
    "start_time": "2022-09-01T12:27:44.260Z"
   },
   {
    "duration": 21,
    "start_time": "2022-09-01T12:27:44.273Z"
   },
   {
    "duration": 2,
    "start_time": "2022-09-01T12:27:44.296Z"
   },
   {
    "duration": 7,
    "start_time": "2022-09-01T12:27:44.300Z"
   },
   {
    "duration": 6,
    "start_time": "2022-09-01T12:27:44.308Z"
   },
   {
    "duration": 9,
    "start_time": "2022-09-01T12:27:44.315Z"
   },
   {
    "duration": 33,
    "start_time": "2022-09-01T12:27:44.326Z"
   },
   {
    "duration": 6,
    "start_time": "2022-09-01T12:27:44.364Z"
   },
   {
    "duration": 5,
    "start_time": "2022-09-01T12:27:44.372Z"
   },
   {
    "duration": 7,
    "start_time": "2022-09-01T12:27:44.378Z"
   },
   {
    "duration": 13,
    "start_time": "2022-09-01T12:27:44.387Z"
   },
   {
    "duration": 10,
    "start_time": "2022-09-01T12:27:44.401Z"
   },
   {
    "duration": 715,
    "start_time": "2022-09-01T12:27:44.413Z"
   },
   {
    "duration": 783,
    "start_time": "2022-09-01T12:27:45.130Z"
   },
   {
    "duration": 3,
    "start_time": "2022-09-01T12:27:45.914Z"
   },
   {
    "duration": 10,
    "start_time": "2022-09-01T12:27:45.919Z"
   },
   {
    "duration": 13,
    "start_time": "2022-09-01T12:27:45.930Z"
   },
   {
    "duration": 11,
    "start_time": "2022-09-01T12:27:45.945Z"
   },
   {
    "duration": 1228,
    "start_time": "2022-09-01T12:27:45.957Z"
   },
   {
    "duration": 11,
    "start_time": "2022-09-01T12:27:47.187Z"
   },
   {
    "duration": 25,
    "start_time": "2022-09-01T12:27:47.199Z"
   },
   {
    "duration": 12,
    "start_time": "2022-09-01T12:27:47.226Z"
   },
   {
    "duration": 1113,
    "start_time": "2022-09-01T12:27:47.239Z"
   },
   {
    "duration": 20,
    "start_time": "2022-09-01T12:27:48.354Z"
   },
   {
    "duration": 4,
    "start_time": "2022-09-01T12:27:48.375Z"
   },
   {
    "duration": 6,
    "start_time": "2022-09-01T12:27:48.380Z"
   },
   {
    "duration": 5,
    "start_time": "2022-09-01T12:27:48.387Z"
   },
   {
    "duration": 6,
    "start_time": "2022-09-01T12:27:48.393Z"
   },
   {
    "duration": 5,
    "start_time": "2022-09-01T12:27:48.401Z"
   },
   {
    "duration": 13,
    "start_time": "2022-09-01T12:27:48.407Z"
   },
   {
    "duration": 2636,
    "start_time": "2022-09-01T12:27:48.422Z"
   },
   {
    "duration": 4,
    "start_time": "2022-09-01T12:27:51.060Z"
   },
   {
    "duration": 2120372,
    "start_time": "2022-09-01T12:27:51.065Z"
   },
   {
    "duration": 1418,
    "start_time": "2022-09-01T13:03:11.438Z"
   },
   {
    "duration": 1433336,
    "start_time": "2022-09-01T13:03:12.858Z"
   },
   {
    "duration": 27646,
    "start_time": "2022-09-01T13:27:06.195Z"
   },
   {
    "duration": 6832,
    "start_time": "2022-09-01T13:27:33.843Z"
   },
   {
    "duration": 102,
    "start_time": "2022-09-01T13:27:40.677Z"
   },
   {
    "duration": 8,
    "start_time": "2022-09-01T13:28:47.872Z"
   },
   {
    "duration": 7,
    "start_time": "2022-09-01T13:31:40.067Z"
   }
  ],
  "kernelspec": {
   "display_name": "Python 3 (ipykernel)",
   "language": "python",
   "name": "python3"
  },
  "language_info": {
   "codemirror_mode": {
    "name": "ipython",
    "version": 3
   },
   "file_extension": ".py",
   "mimetype": "text/x-python",
   "name": "python",
   "nbconvert_exporter": "python",
   "pygments_lexer": "ipython3",
   "version": "3.9.7"
  },
  "toc": {
   "base_numbering": 1,
   "nav_menu": {},
   "number_sections": true,
   "sideBar": true,
   "skip_h1_title": true,
   "title_cell": "Содержание",
   "title_sidebar": "Contents",
   "toc_cell": true,
   "toc_position": {
    "height": "calc(100% - 180px)",
    "left": "10px",
    "top": "150px",
    "width": "267px"
   },
   "toc_section_display": true,
   "toc_window_display": true
  }
 },
 "nbformat": 4,
 "nbformat_minor": 2
}
